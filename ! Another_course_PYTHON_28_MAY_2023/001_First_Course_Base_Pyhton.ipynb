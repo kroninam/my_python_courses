{
 "cells": [
  {
   "cell_type": "code",
   "execution_count": null,
   "id": "e5850bb0",
   "metadata": {},
   "outputs": [],
   "source": [
    "# ССЫЛКА НА КУРС:\n",
    "\n",
    "# https://stepik.org/lesson/24456/step/9?unit=6762"
   ]
  },
  {
   "cell_type": "code",
   "execution_count": null,
   "id": "e9dd9a5d",
   "metadata": {},
   "outputs": [],
   "source": [
    "# Реализуйте программу, которая принимает последовательность чисел и выводит их сумму.\n",
    "\n",
    "# Вашей программе на вход подается последовательность строк.\n",
    "# Первая строка содержит число n (1 ≤ n ≤ 100).\n",
    "# В следующих n строках содержится по одному целому числу.\n",
    "\n",
    "# Выведите одно число – сумму данных n чисел."
   ]
  },
  {
   "cell_type": "code",
   "execution_count": 1,
   "id": "4cedd0ae",
   "metadata": {},
   "outputs": [
    {
     "name": "stdout",
     "output_type": "stream",
     "text": [
      "5\n"
     ]
    }
   ],
   "source": [
    "n = int(input())"
   ]
  },
  {
   "cell_type": "code",
   "execution_count": 3,
   "id": "1bd9839c",
   "metadata": {},
   "outputs": [
    {
     "name": "stdout",
     "output_type": "stream",
     "text": [
      "5\n",
      "6\n",
      "8\n",
      "10\n",
      "1000\n"
     ]
    }
   ],
   "source": [
    "summa = 0\n",
    "for i in range(n):\n",
    "    summa += int(input())"
   ]
  },
  {
   "cell_type": "code",
   "execution_count": 4,
   "id": "64979195",
   "metadata": {},
   "outputs": [
    {
     "data": {
      "text/plain": [
       "1029"
      ]
     },
     "execution_count": 4,
     "metadata": {},
     "output_type": "execute_result"
    }
   ],
   "source": [
    "summa"
   ]
  },
  {
   "cell_type": "code",
   "execution_count": null,
   "id": "9dcfd602",
   "metadata": {},
   "outputs": [],
   "source": []
  },
  {
   "cell_type": "code",
   "execution_count": null,
   "id": "a868416d",
   "metadata": {},
   "outputs": [],
   "source": []
  },
  {
   "cell_type": "code",
   "execution_count": null,
   "id": "366dcbc6",
   "metadata": {},
   "outputs": [],
   "source": []
  },
  {
   "cell_type": "code",
   "execution_count": null,
   "id": "66dd8cca",
   "metadata": {},
   "outputs": [],
   "source": []
  },
  {
   "cell_type": "code",
   "execution_count": null,
   "id": "1613122c",
   "metadata": {},
   "outputs": [],
   "source": []
  }
 ],
 "metadata": {
  "kernelspec": {
   "display_name": "Python 3 (ipykernel)",
   "language": "python",
   "name": "python3"
  },
  "language_info": {
   "codemirror_mode": {
    "name": "ipython",
    "version": 3
   },
   "file_extension": ".py",
   "mimetype": "text/x-python",
   "name": "python",
   "nbconvert_exporter": "python",
   "pygments_lexer": "ipython3",
   "version": "3.10.0"
  }
 },
 "nbformat": 4,
 "nbformat_minor": 5
}
