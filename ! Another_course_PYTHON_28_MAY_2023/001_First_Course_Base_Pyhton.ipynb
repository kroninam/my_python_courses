{
 "cells": [
  {
   "cell_type": "code",
   "execution_count": null,
   "id": "e5850bb0",
   "metadata": {},
   "outputs": [],
   "source": [
    "# ССЫЛКА НА КУРС:\n",
    "\n",
    "# https://stepik.org/lesson/24456/step/9?unit=6762"
   ]
  },
  {
   "cell_type": "code",
   "execution_count": null,
   "id": "e9dd9a5d",
   "metadata": {},
   "outputs": [],
   "source": [
    "# Реализуйте программу, которая принимает последовательность чисел и выводит их сумму.\n",
    "\n",
    "# Вашей программе на вход подается последовательность строк.\n",
    "# Первая строка содержит число n (1 ≤ n ≤ 100).\n",
    "# В следующих n строках содержится по одному целому числу.\n",
    "\n",
    "# Выведите одно число – сумму данных n чисел."
   ]
  },
  {
   "cell_type": "code",
   "execution_count": 1,
   "id": "4cedd0ae",
   "metadata": {},
   "outputs": [
    {
     "name": "stdout",
     "output_type": "stream",
     "text": [
      "5\n"
     ]
    }
   ],
   "source": [
    "n = int(input())"
   ]
  },
  {
   "cell_type": "code",
   "execution_count": 3,
   "id": "1bd9839c",
   "metadata": {},
   "outputs": [
    {
     "name": "stdout",
     "output_type": "stream",
     "text": [
      "5\n",
      "6\n",
      "8\n",
      "10\n",
      "1000\n"
     ]
    }
   ],
   "source": [
    "summa = 0\n",
    "for i in range(n):\n",
    "    summa += int(input())"
   ]
  },
  {
   "cell_type": "code",
   "execution_count": 4,
   "id": "64979195",
   "metadata": {},
   "outputs": [
    {
     "data": {
      "text/plain": [
       "1029"
      ]
     },
     "execution_count": 4,
     "metadata": {},
     "output_type": "execute_result"
    }
   ],
   "source": [
    "summa"
   ]
  },
  {
   "cell_type": "code",
   "execution_count": null,
   "id": "9dcfd602",
   "metadata": {},
   "outputs": [],
   "source": []
  },
  {
   "cell_type": "markdown",
   "id": "4d114128",
   "metadata": {},
   "source": [
    "# Идентификаторы объектов"
   ]
  },
  {
   "cell_type": "code",
   "execution_count": 8,
   "id": "d6c39186",
   "metadata": {},
   "outputs": [],
   "source": [
    "x  = [1,2,3]"
   ]
  },
  {
   "cell_type": "code",
   "execution_count": 2,
   "id": "8bddf450",
   "metadata": {},
   "outputs": [
    {
     "name": "stdout",
     "output_type": "stream",
     "text": [
      "1807103024448\n",
      "1807103029632\n"
     ]
    }
   ],
   "source": [
    "print(id(x))\n",
    "print(id([1,2,3]))"
   ]
  },
  {
   "cell_type": "code",
   "execution_count": 9,
   "id": "a82a14cd",
   "metadata": {},
   "outputs": [],
   "source": [
    "y = x"
   ]
  },
  {
   "cell_type": "code",
   "execution_count": 4,
   "id": "e3126c79",
   "metadata": {},
   "outputs": [
    {
     "name": "stdout",
     "output_type": "stream",
     "text": [
      "1807103024448\n",
      "1807103024448\n"
     ]
    }
   ],
   "source": [
    "print(id(x))\n",
    "print(id(y))"
   ]
  },
  {
   "cell_type": "code",
   "execution_count": 10,
   "id": "365c3f6c",
   "metadata": {},
   "outputs": [
    {
     "name": "stdout",
     "output_type": "stream",
     "text": [
      "[1, 2, 3, 4]\n",
      "[1, 2, 3, 4]\n"
     ]
    }
   ],
   "source": [
    "x.append(4)\n",
    "\n",
    "print(x)\n",
    "print(y)"
   ]
  },
  {
   "cell_type": "code",
   "execution_count": null,
   "id": "e29c162f",
   "metadata": {},
   "outputs": [],
   "source": []
  },
  {
   "cell_type": "code",
   "execution_count": null,
   "id": "1cfb3f33",
   "metadata": {},
   "outputs": [],
   "source": [
    "# Строка - неизменяемый объект. При любых изменениях (добавление и т.п.) \n",
    "# происходит создание нового объекта. А лист - изменяемый объект,\n",
    "# изменения происходят в одном и том же объекте"
   ]
  },
  {
   "cell_type": "code",
   "execution_count": 11,
   "id": "366dcbc6",
   "metadata": {},
   "outputs": [],
   "source": [
    "x = [1,2,3]"
   ]
  },
  {
   "cell_type": "code",
   "execution_count": 13,
   "id": "ab934b99",
   "metadata": {},
   "outputs": [],
   "source": [
    "y = x"
   ]
  },
  {
   "cell_type": "code",
   "execution_count": 14,
   "id": "09a388cc",
   "metadata": {},
   "outputs": [],
   "source": [
    "y.append(4)"
   ]
  },
  {
   "cell_type": "code",
   "execution_count": 15,
   "id": "fdb9219c",
   "metadata": {},
   "outputs": [
    {
     "name": "stdout",
     "output_type": "stream",
     "text": [
      "[1, 2, 3, 4]\n"
     ]
    }
   ],
   "source": [
    "print(str(x))"
   ]
  },
  {
   "cell_type": "code",
   "execution_count": 16,
   "id": "32ee9456",
   "metadata": {},
   "outputs": [
    {
     "name": "stdout",
     "output_type": "stream",
     "text": [
      "123\n"
     ]
    }
   ],
   "source": [
    "s = '123'\n",
    "t = s\n",
    "t + '4'\n",
    "print(t)"
   ]
  },
  {
   "cell_type": "code",
   "execution_count": 18,
   "id": "d9516e63",
   "metadata": {},
   "outputs": [],
   "source": [
    "\n",
    "#     IMMUTABLE TYPES                    |       MUTABLE TYPES\n",
    "#     ___________________________________ ______________________________\n",
    "#                                        |\n",
    "#     1. Numbers                         |  1. List\n",
    "#                                        |  \n",
    "#     a = 5                              |  \n",
    "#     b = 6                              |\n",
    "#     a = a+b                            |  2. dict\n",
    "#     (a не изменилось,                  |\n",
    "#     оно стало ссылаться                |  \n",
    "#     на новый объект 11)                |  \n",
    "#                                        |\n",
    "#     int                                |  3. set\n",
    "#     float                              |  \n",
    "#     complex                            |    \n",
    "#                                        |\n",
    "#     ___________________________________|\n",
    "#                                        |\n",
    "#     2. Тип bool                        |\n",
    "#                                        |\n",
    "#     True не может поменяться на False  |\n",
    "#                                        |\n",
    "#     3. tuple                           |\n",
    "#                                        |\n",
    "#     4. str                             |\n",
    "#                                        | \n",
    "#             5. frozenset               |   \n",
    "                                         \n",
    "# _______________________________________________________________________\n",
    "\n",
    "#    Если несколько переменных ссылаются на один и тот же объект изменяемого типа,\n",
    "#    изменение какой-нибудь переменной, которая ссылается на этот объект - \n",
    "#    повелчет изменение объекта, а как следствие - всех переменных, которые ссылаются на этот объект."
   ]
  },
  {
   "cell_type": "code",
   "execution_count": null,
   "id": "2d9bc4d0",
   "metadata": {},
   "outputs": [],
   "source": []
  },
  {
   "cell_type": "markdown",
   "id": "94f319f1",
   "metadata": {},
   "source": [
    "# ЗАДАЧА"
   ]
  },
  {
   "cell_type": "code",
   "execution_count": 19,
   "id": "8612c948",
   "metadata": {},
   "outputs": [],
   "source": [
    "# Реализуйте программу, которая будет вычислять количество различных объектов в списке.\n",
    "\n",
    "# Два объекта a и b считаются различными, если a is b равно False.\n",
    "\n",
    "# Вашей программе доступна переменная с названием objects, которая ссылается на список, \n",
    "# содержащий не более 100 объектов. Выведите количество различных объектов в этом списке.\n",
    "\n",
    "# Формат ожидаемой программы:\n",
    "\n",
    "# ans = 0\n",
    "# for obj in objects: # доступная переменная objects\n",
    "#     ans += 1\n",
    "\n",
    "# print(ans)\n",
    "\n",
    "# Примечание:\n",
    "# Количеством различных объектов называется максимальный размер множества объектов, \n",
    "# в котором любые два объекта являются различными.\n",
    "\n",
    "# Рассмотрим пример:\n",
    "objects = [1, 2, 1, 2, 3] # будем считать, что одинаковые числа соответствуют одинаковым объектам, а различные – различным\n",
    "\n",
    "# Тогда все различные объекты являют собой множество {1, 2, 3}. \n",
    "# Таким образом, количество различных объектов равно трём."
   ]
  },
  {
   "cell_type": "code",
   "execution_count": 59,
   "id": "6b4733a3",
   "metadata": {},
   "outputs": [
    {
     "data": {
      "text/plain": [
       "3"
      ]
     },
     "execution_count": 59,
     "metadata": {},
     "output_type": "execute_result"
    }
   ],
   "source": [
    "# это решение не было принято:\n",
    "\n",
    "ans = 0\n",
    "for obj in set(objects): # доступная переменная objects\n",
    "    ans += 1\n",
    "ans"
   ]
  },
  {
   "cell_type": "code",
   "execution_count": 71,
   "id": "c2f79f3a",
   "metadata": {},
   "outputs": [
    {
     "name": "stdout",
     "output_type": "stream",
     "text": [
      "5\n"
     ]
    }
   ],
   "source": [
    "# это не правильное решение\n",
    "\n",
    "# так как не работает в случае:\n",
    "\n",
    "objects = [1, 2, 1, 2, 3, [1], [1] ]\n",
    "\n",
    "# этот код не работает:\n",
    "# print(len(set(objects)))\n",
    "\n",
    "# правильный ответ - смапить id:\n",
    "print(len(set(map(id, objects))))\n",
    "    \n",
    "    "
   ]
  },
  {
   "cell_type": "code",
   "execution_count": 57,
   "id": "9a088305",
   "metadata": {},
   "outputs": [
    {
     "name": "stdout",
     "output_type": "stream",
     "text": [
      "3\n"
     ]
    }
   ],
   "source": [
    "# а это принято:\n",
    "\n",
    "ans = 0\n",
    "lst = []\n",
    "for obj in objects: # доступная переменная objects\n",
    "    \n",
    "    if obj not in lst:\n",
    "        lst.append(obj)\n",
    "        \n",
    "ans = len(lst)\n",
    "print(ans)"
   ]
  },
  {
   "cell_type": "code",
   "execution_count": 63,
   "id": "b401520c",
   "metadata": {},
   "outputs": [
    {
     "data": {
      "text/plain": [
       "3"
      ]
     },
     "execution_count": 63,
     "metadata": {},
     "output_type": "execute_result"
    }
   ],
   "source": [
    "# ответ мастера:\n",
    "\n",
    "len(set(map(id, objects)))"
   ]
  },
  {
   "cell_type": "code",
   "execution_count": 64,
   "id": "8c862879",
   "metadata": {},
   "outputs": [
    {
     "data": {
      "text/plain": [
       "3"
      ]
     },
     "execution_count": 64,
     "metadata": {},
     "output_type": "execute_result"
    }
   ],
   "source": [
    "# и еще один ответ мастера:\n",
    "\n",
    "len(set(id(i) for i in objects))"
   ]
  },
  {
   "cell_type": "code",
   "execution_count": null,
   "id": "6f040d2e",
   "metadata": {},
   "outputs": [],
   "source": []
  },
  {
   "cell_type": "code",
   "execution_count": null,
   "id": "748ca6e1",
   "metadata": {},
   "outputs": [],
   "source": [
    "31.05.2023"
   ]
  },
  {
   "cell_type": "markdown",
   "id": "69006671",
   "metadata": {},
   "source": [
    "# Функции"
   ]
  },
  {
   "cell_type": "code",
   "execution_count": null,
   "id": "4bcc6940",
   "metadata": {},
   "outputs": [],
   "source": [
    "# Зачем нужны функциии:\n",
    "    \n",
    "#     1. Переиспользование кода неограниченное количество раз - вынос блока кода в отдельную функцию.\n",
    "    \n",
    "#     2. Структурирование кода. Маленькие и понятные компоненты.\n",
    "    \n",
    "#     3. Сокрытие деталей реализации функции."
   ]
  },
  {
   "cell_type": "code",
   "execution_count": null,
   "id": "7aa86e0a",
   "metadata": {},
   "outputs": [],
   "source": []
  },
  {
   "cell_type": "code",
   "execution_count": null,
   "id": "9f1ee6ab",
   "metadata": {},
   "outputs": [],
   "source": []
  },
  {
   "cell_type": "code",
   "execution_count": null,
   "id": "59cc792c",
   "metadata": {},
   "outputs": [],
   "source": []
  },
  {
   "cell_type": "code",
   "execution_count": null,
   "id": "973136f2",
   "metadata": {},
   "outputs": [],
   "source": [
    "# Что будет выведено на экран в результате исполнения данного кода?"
   ]
  },
  {
   "cell_type": "code",
   "execution_count": 1,
   "id": "697ec053",
   "metadata": {},
   "outputs": [
    {
     "name": "stdout",
     "output_type": "stream",
     "text": [
      "['arg1', 'arg2', 'foo']\n"
     ]
    }
   ],
   "source": [
    "a = []\n",
    "\n",
    "def foo(arg1, arg2):\n",
    "  a.append(\"foo\")\n",
    "\n",
    "foo(a.append(\"arg1\"), a.append(\"arg2\"))\n",
    "\n",
    "print(a)"
   ]
  },
  {
   "cell_type": "code",
   "execution_count": null,
   "id": "b379e5e3",
   "metadata": {},
   "outputs": [],
   "source": []
  },
  {
   "cell_type": "code",
   "execution_count": null,
   "id": "9d6f811c",
   "metadata": {},
   "outputs": [],
   "source": []
  },
  {
   "cell_type": "markdown",
   "id": "3778a105",
   "metadata": {},
   "source": [
    "# Стек вызовов"
   ]
  },
  {
   "cell_type": "code",
   "execution_count": null,
   "id": "ea7e1ab5",
   "metadata": {},
   "outputs": [],
   "source": [
    "# В процессе выполнения кода на стек добавляются и со стека снимаются функции. \n",
    "# Добавление функции на стек увеличивает его размер на 1, снятие функции со стека уменьшает его размер на 1.\n",
    "\n",
    "# Чему равен максимальный размер стека в процессе выполнения следующего кода?\n",
    "# Обратите внимание, что при интерпретации кода на стеке находится функция module, \n",
    "# которую также нужно учесть при подсчете размера стека.\n",
    "# В рамках данного задания можно считать, что функция print не вызывает \n",
    "# дополнительных функций внутри себя."
   ]
  },
  {
   "cell_type": "code",
   "execution_count": 2,
   "id": "1f2d0c24",
   "metadata": {},
   "outputs": [
    {
     "name": "stdout",
     "output_type": "stream",
     "text": [
      "12\n"
     ]
    }
   ],
   "source": [
    "def h():\n",
    "  print(12)\n",
    "\n",
    "def f():\n",
    "  g(h)\n",
    "\n",
    "def g(a):\n",
    "  a()\n",
    "\n",
    "g(f)"
   ]
  },
  {
   "cell_type": "code",
   "execution_count": null,
   "id": "8844380f",
   "metadata": {},
   "outputs": [],
   "source": [
    "0. Нулевой уровень - функция module  =1\n",
    "1. Выполняется g внутри которой a=f  =2\n",
    "2. Выполняется f                     =3\n",
    "3. Выполняется g, внутри которой h   =4\n",
    "4. Выполняется h                     =5\n",
    "5. Выполняется print                 =6"
   ]
  },
  {
   "cell_type": "code",
   "execution_count": null,
   "id": "d83e3903",
   "metadata": {},
   "outputs": [],
   "source": []
  },
  {
   "cell_type": "code",
   "execution_count": null,
   "id": "cddf66c9",
   "metadata": {},
   "outputs": [],
   "source": []
  },
  {
   "cell_type": "code",
   "execution_count": null,
   "id": "b4c1e2ff",
   "metadata": {},
   "outputs": [],
   "source": [
    "# 21.06.2023"
   ]
  },
  {
   "cell_type": "code",
   "execution_count": null,
   "id": "3ffcc5b4",
   "metadata": {},
   "outputs": [],
   "source": [
    "# Задача№1\n",
    "\n",
    "# Напишите реализацию функции closest_mod_5, принимающую в качестве единственного \n",
    "# аргумента целое число x и возвращающую самое маленькое целое число y, такое что:\n",
    "\n",
    "# y больше или равно x\n",
    "# y делится нацело на 5\n",
    "# Формат того, что ожидается от вас в качестве ответа:\n",
    "\n",
    "\n",
    "\n",
    "# def closest_mod_5(x):\n",
    "#     if x % 5 == 0:\n",
    "#         return x\n",
    "#     return \"I don't know :(\""
   ]
  },
  {
   "cell_type": "code",
   "execution_count": 13,
   "id": "e0f64525",
   "metadata": {},
   "outputs": [],
   "source": [
    "def closest_mod_5(x):\n",
    "    while x % 5 != 0:\n",
    "        x += 1\n",
    "    return x"
   ]
  },
  {
   "cell_type": "code",
   "execution_count": 15,
   "id": "ffc71d42",
   "metadata": {},
   "outputs": [
    {
     "data": {
      "text/plain": [
       "5"
      ]
     },
     "execution_count": 15,
     "metadata": {},
     "output_type": "execute_result"
    }
   ],
   "source": [
    "closest_mod_5(5)"
   ]
  },
  {
   "cell_type": "code",
   "execution_count": null,
   "id": "71089f6b",
   "metadata": {},
   "outputs": [],
   "source": []
  },
  {
   "cell_type": "code",
   "execution_count": 2,
   "id": "33c21cb2",
   "metadata": {},
   "outputs": [
    {
     "ename": "SyntaxError",
     "evalue": "positional argument follows keyword argument (4201291298.py, line 17)",
     "output_type": "error",
     "traceback": [
      "\u001b[1;36m  Cell \u001b[1;32mIn[2], line 17\u001b[1;36m\u001b[0m\n\u001b[1;33m    s(b=31, 0)\u001b[0m\n\u001b[1;37m             ^\u001b[0m\n\u001b[1;31mSyntaxError\u001b[0m\u001b[1;31m:\u001b[0m positional argument follows keyword argument\n"
     ]
    }
   ],
   "source": [
    "# Задача №2\n",
    "\n",
    "# Дана функция s:\n",
    "\n",
    "# def s(a, *vs, b=10):\n",
    "#    res = a + b\n",
    "#    for v in vs:\n",
    "#        res += v\n",
    "#    return res\n",
    "\n",
    "\n",
    "# В результате каких вызовов данная функция вернет число 31?\n",
    "\n",
    "\n",
    "s(0, 0, 31)\n",
    "\n",
    "s(b=31, 0)\n",
    "\n",
    "s(5, 5, 5, 5, 1)\n",
    "\n",
    "s(11, 10, b=10)\n",
    "\n",
    "s(b=31)\n",
    "\n",
    "s(11, 10)\n",
    "\n",
    "s(21)\n",
    "\n",
    "s(11, b=20)\n",
    "\n",
    "s(11, 10, 10)"
   ]
  },
  {
   "cell_type": "code",
   "execution_count": 6,
   "id": "4df40178",
   "metadata": {},
   "outputs": [],
   "source": [
    "def s(a, *vs, b=10):\n",
    "    res = a + b\n",
    "    for v in vs:\n",
    "        print(v, vs)\n",
    "        res += v\n",
    "    return res"
   ]
  },
  {
   "cell_type": "code",
   "execution_count": 7,
   "id": "e8654f82",
   "metadata": {},
   "outputs": [
    {
     "name": "stdout",
     "output_type": "stream",
     "text": [
      "5 (5, 5, 5, 1)\n",
      "5 (5, 5, 5, 1)\n",
      "5 (5, 5, 5, 1)\n",
      "1 (5, 5, 5, 1)\n"
     ]
    },
    {
     "data": {
      "text/plain": [
       "31"
      ]
     },
     "execution_count": 7,
     "metadata": {},
     "output_type": "execute_result"
    }
   ],
   "source": [
    "s(5, 5, 5, 5, 1)"
   ]
  },
  {
   "cell_type": "code",
   "execution_count": null,
   "id": "25f56985",
   "metadata": {},
   "outputs": [],
   "source": []
  },
  {
   "cell_type": "code",
   "execution_count": null,
   "id": "7bcf1ee9",
   "metadata": {},
   "outputs": [],
   "source": [
    "26.06.2023"
   ]
  },
  {
   "cell_type": "code",
   "execution_count": null,
   "id": "1d704657",
   "metadata": {},
   "outputs": [],
   "source": [
    "# Сочетанием из n элементов по k называется подмножество этих n элементов размера k.\n",
    "# Два сочетания называются различными, если одно из сочетаний содержит элемент, который не содержит другое.\n",
    "# Числом сочетаний из n по k называется количество различных сочетаний из n по k. Обозначим это число за C(n, k).\n",
    "\n",
    "# Пример:\n",
    "# Пусть n = 3, т. е. есть три элемента (1, 2, 3). Пусть k = 2.\n",
    "# Все различные сочетания из 3 элементов по 2: (1, 2), (1, 3), (2, 3).\n",
    "# Различных сочетаний три, поэтому C(3, 2) = 3.\n",
    "\n",
    "# Несложно понять, что C(n, 0) = 1, так как из n элементов выбрать 0 можно единственным образом, а именно, ничего не выбрать.\n",
    "# Также несложно понять, что если k > n, то C(n, k) = 0, так как невозможно, например, из трех элементов выбрать пять.\n",
    "\n",
    "# Для вычисления C(n, k) в других случаях используется следующая рекуррентная формула:\n",
    "# C(n, k) = C(n - 1, k) + C(n - 1, k - 1).\n",
    "\n",
    "# Реализуйте программу, которая для заданных n и k вычисляет C(n, k).\n",
    "\n",
    "# Вашей программе на вход подается строка, содержащая два целых числа n и k (1 ≤ n ≤ 10, 0 ≤ k ≤ 10).\n",
    "# Ваша программа должна вывести единственное число: C(n, k).\n",
    "\n",
    "# Примечание:\n",
    "# Считать два числа n и k вы можете, например, следующим образом:\n",
    "\n",
    "# n, k = map(int, input().split())"
   ]
  },
  {
   "cell_type": "code",
   "execution_count": 36,
   "id": "a2a9b148",
   "metadata": {},
   "outputs": [
    {
     "name": "stdout",
     "output_type": "stream",
     "text": [
      "10 5\n"
     ]
    }
   ],
   "source": [
    "n, k = map(int, input().split())"
   ]
  },
  {
   "cell_type": "code",
   "execution_count": null,
   "id": "4ad2a7b8",
   "metadata": {},
   "outputs": [],
   "source": []
  },
  {
   "cell_type": "code",
   "execution_count": 37,
   "id": "6feb1fda",
   "metadata": {},
   "outputs": [],
   "source": [
    "def rec(n, k):\n",
    "    if k == 0:\n",
    "        return 1 \n",
    "    if k > n:\n",
    "        return 0\n",
    "    \n",
    "    else:\n",
    "        return rec(n - 1, k) + rec(n - 1, k - 1)"
   ]
  },
  {
   "cell_type": "code",
   "execution_count": 38,
   "id": "a5339c5f",
   "metadata": {},
   "outputs": [],
   "source": [
    "y = rec(n, k)"
   ]
  },
  {
   "cell_type": "code",
   "execution_count": 39,
   "id": "1db4ea82",
   "metadata": {},
   "outputs": [
    {
     "data": {
      "text/plain": [
       "252"
      ]
     },
     "execution_count": 39,
     "metadata": {},
     "output_type": "execute_result"
    }
   ],
   "source": [
    "y"
   ]
  },
  {
   "cell_type": "code",
   "execution_count": null,
   "id": "f736a391",
   "metadata": {},
   "outputs": [],
   "source": []
  },
  {
   "cell_type": "code",
   "execution_count": null,
   "id": "d0ea19a4",
   "metadata": {},
   "outputs": [],
   "source": [
    "27.06.2023"
   ]
  },
  {
   "cell_type": "code",
   "execution_count": null,
   "id": "ca93e97d",
   "metadata": {},
   "outputs": [],
   "source": [
    "# Сложная задача решается через рекурсию"
   ]
  },
  {
   "cell_type": "code",
   "execution_count": null,
   "id": "9cd618a5",
   "metadata": {},
   "outputs": [],
   "source": [
    "Реализуйте программу, которая будет эмулировать работу с пространствами имен.\n",
    "Необходимо реализовать поддержку создания пространств имен и добавление в них переменных.\n",
    "\n",
    "В данной задаче у каждого пространства имен есть уникальный текстовый идентификатор – его имя.\n",
    "\n",
    "Вашей программе на вход подаются следующие запросы:\n",
    "\n",
    "create <namespace> <parent> –  создать новое пространство имен с именем <namespace> внутри пространства <parent>\n",
    "\n",
    "add <namespace> <var> – добавить в пространство <namespace> переменную <var>\n",
    "\n",
    "get <namespace> <var> – получить имя пространства, из которого будет взята переменная <var> \n",
    "\n",
    "при запросе из пространства <namespace>, или None, если такого пространства не существует\n",
    "\n",
    "\n",
    "\n",
    "# Рассмотрим набор запросов:\n",
    "add global a\n",
    "create foo global\n",
    "add foo b\n",
    "create bar foo\n",
    "add bar a\n",
    "\n",
    "\n",
    "Структура пространств имен описанная данными запросами будет эквивалентна \n",
    "структуре пространств имен, созданной при выполнении данного кода:\n",
    "\n",
    "a = 0\n",
    "def foo():\n",
    "  b = 1\n",
    "  def bar():\n",
    "    a = 2\n",
    "\n",
    "    \n",
    "В основном теле программы мы объявляем переменную a, тем самым добавляя ее \n",
    "в пространство global. Далее мы объявляем функцию foo, что влечет за собой \n",
    "создание локального для нее пространства имен внутри пространства global. \n",
    "В нашем случае, это описывается командой create foo global. \n",
    "Далее мы объявляем внутри функции foo функцию bar, тем самым создавая \n",
    "пространство bar внутри пространства foo, и добавляем в bar переменную a.\n",
    "\n",
    "Добавим запросы get к нашим запросам\n",
    "\n",
    "get foo a\n",
    "get foo c\n",
    "get bar a\n",
    "get bar b\n",
    "\n",
    "\n",
    "Представим как это могло бы выглядеть в коде\n",
    "\n",
    "a = 0\n",
    "def foo():\n",
    "  b = 1\n",
    "  get(a)\n",
    "  get(c)\n",
    "  def bar():\n",
    "    a = 2\n",
    "    get(a)\n",
    "    get(b)\n",
    "    \n",
    "    \n",
    "Результатом запроса get будет имя пространства, из которого будет взята нужная переменная.\n",
    "Например, результатом запроса get foo a будет global, потому что в пространстве foo не \n",
    "объявлена переменная a, но в пространстве global, внутри которого находится \n",
    "пространство foo, она объявлена. Аналогично, результатом запроса get bar b будет \n",
    "являться foo, а результатом работы get bar a будет являться bar.\n",
    "\n",
    "Результатом get foo c будет являться None, потому что ни в пространстве foo, ни \n",
    "в его внешнем пространстве global не была объявлена переменная с.\n",
    "\n",
    "\n",
    "Более формально, результатом работы get <namespace> <var> является\n",
    "\n",
    "<namespace>, если в пространстве <namespace> была объявлена переменная <var>\n",
    "\n",
    "get <parent> <var> – результат запроса к пространству, внутри которого \n",
    "было создано пространство <namespace>, если переменная не была объявлена\n",
    "None, если не существует <parent>, т. е. <namespace> – это global\n",
    "\n",
    "Формат входных данных\n",
    "\n",
    "В первой строке дано число n (1 ≤ n ≤ 100) – число запросов.\n",
    "В каждой из следующих n строк дано по одному запросу.\n",
    "Запросы выполняются в порядке, в котором они даны во входных данных.\n",
    "Имена пространства имен и имена переменных представляют из себя строки длины не более 10, состоящие из строчных латинских букв.\n",
    "\n",
    "Формат выходных данных\n",
    "\n",
    "Для каждого запроса get выведите в отдельной строке его результат.\n",
    "\n",
    "Sample Input:\n",
    "9\n",
    "add global a\n",
    "create foo global\n",
    "add foo b\n",
    "get foo a\n",
    "get foo c\n",
    "create bar foo\n",
    "add bar a\n",
    "get bar a\n",
    "get bar b\n",
    "\n",
    "Sample Output:\n",
    "global\n",
    "None\n",
    "bar\n",
    "foo"
   ]
  },
  {
   "cell_type": "code",
   "execution_count": 4,
   "id": "c6b74f1c",
   "metadata": {},
   "outputs": [
    {
     "name": "stdout",
     "output_type": "stream",
     "text": [
      "9\n",
      "add global a\n",
      "create foo global\n",
      "add foo b\n",
      "get foo a\n",
      "get foo c\n",
      "create bar foo\n",
      "add bar a\n",
      "get bar a\n",
      "get bar b\n"
     ]
    }
   ],
   "source": [
    "lst = []\n",
    "n = int(input())\n",
    "for i in range(n):\n",
    "    lst.append(input())\n",
    "    "
   ]
  },
  {
   "cell_type": "code",
   "execution_count": 10,
   "id": "a1e5fbab",
   "metadata": {},
   "outputs": [
    {
     "data": {
      "text/plain": [
       "['add global a',\n",
       " 'create foo global',\n",
       " 'add foo b',\n",
       " 'get foo a',\n",
       " 'get foo c',\n",
       " 'create bar foo',\n",
       " 'add bar a',\n",
       " 'get bar a',\n",
       " 'get bar b']"
      ]
     },
     "execution_count": 10,
     "metadata": {},
     "output_type": "execute_result"
    }
   ],
   "source": [
    "lst"
   ]
  },
  {
   "cell_type": "code",
   "execution_count": null,
   "id": "755fdecb",
   "metadata": {},
   "outputs": [],
   "source": []
  },
  {
   "cell_type": "code",
   "execution_count": 40,
   "id": "e74fd6e0",
   "metadata": {},
   "outputs": [
    {
     "name": "stdout",
     "output_type": "stream",
     "text": [
      "foo\n"
     ]
    }
   ],
   "source": [
    "dict = {}\n",
    "for i in lst:\n",
    "\n",
    "    if i.split()[0] == 'add':        \n",
    "        dict[i.split()[2]] = i.split()[1]\n",
    "        \n",
    "    if i.split()[0] == 'create':        \n",
    "        dict[i.split()[1]] = i.split()[2]\n",
    "        \n",
    "    if i.split()[0] == 'get':\n",
    "        if i.split()[2] in dict:\n",
    "            print(dict[i.split()[2]])\n",
    "        else:\n",
    "            print('None')"
   ]
  },
  {
   "cell_type": "code",
   "execution_count": 35,
   "id": "3443e9e8",
   "metadata": {},
   "outputs": [
    {
     "data": {
      "text/plain": [
       "{'a': 'bar', 'foo': 'global', 'b': 'foo', 'bar': 'foo'}"
      ]
     },
     "execution_count": 35,
     "metadata": {},
     "output_type": "execute_result"
    }
   ],
   "source": [
    "dict"
   ]
  },
  {
   "cell_type": "code",
   "execution_count": null,
   "id": "38294012",
   "metadata": {},
   "outputs": [],
   "source": []
  },
  {
   "cell_type": "code",
   "execution_count": null,
   "id": "e7ddce47",
   "metadata": {},
   "outputs": [],
   "source": [
    "Test2\n",
    "3\n",
    "create foo global\n",
    "add foo a\n",
    "get global a\n",
    "\n",
    "Ответ\n",
    "None"
   ]
  },
  {
   "cell_type": "code",
   "execution_count": 39,
   "id": "7e81b914",
   "metadata": {},
   "outputs": [
    {
     "name": "stdout",
     "output_type": "stream",
     "text": [
      "3\n",
      "create foo global\n",
      "add foo a\n",
      "get global a\n"
     ]
    }
   ],
   "source": [
    "lst = []\n",
    "n = int(input())\n",
    "for i in range(n):\n",
    "    lst.append(input())"
   ]
  },
  {
   "cell_type": "code",
   "execution_count": null,
   "id": "7b497ce8",
   "metadata": {},
   "outputs": [],
   "source": []
  },
  {
   "cell_type": "code",
   "execution_count": null,
   "id": "1edc71fe",
   "metadata": {},
   "outputs": [],
   "source": [
    "Задача осталась не решена..."
   ]
  },
  {
   "cell_type": "code",
   "execution_count": null,
   "id": "57bd0de7",
   "metadata": {},
   "outputs": [],
   "source": []
  },
  {
   "cell_type": "code",
   "execution_count": null,
   "id": "c8929162",
   "metadata": {},
   "outputs": [],
   "source": []
  }
 ],
 "metadata": {
  "kernelspec": {
   "display_name": "Python 3 (ipykernel)",
   "language": "python",
   "name": "python3"
  },
  "language_info": {
   "codemirror_mode": {
    "name": "ipython",
    "version": 3
   },
   "file_extension": ".py",
   "mimetype": "text/x-python",
   "name": "python",
   "nbconvert_exporter": "python",
   "pygments_lexer": "ipython3",
   "version": "3.10.0"
  }
 },
 "nbformat": 4,
 "nbformat_minor": 5
}
