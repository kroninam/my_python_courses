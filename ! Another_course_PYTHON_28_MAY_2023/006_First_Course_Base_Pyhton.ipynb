{
 "cells": [
  {
   "cell_type": "markdown",
   "id": "d04b42ef",
   "metadata": {},
   "source": [
    "# Итераторы и генераторы"
   ]
  },
  {
   "cell_type": "markdown",
   "id": "907a83c8",
   "metadata": {},
   "source": [
    "# Задача"
   ]
  },
  {
   "cell_type": "code",
   "execution_count": null,
   "id": "163551e1",
   "metadata": {},
   "outputs": [],
   "source": [
    "Целое положительное число называется простым, если оно имеет ровно два различных делителя, \n",
    "то есть делится только на единицу и на само себя.\n",
    "\n",
    "Например, число 2 является простым, так как делится только на 1 и 2. \n",
    "Также простыми являются, например, числа 3, 5, 31, и еще бесконечно много чисел.\n",
    "\n",
    "Число 4, например, не является простым, так как имеет три делителя – 1, 2, 4.\n",
    "Также простым не является число 1, так как оно имеет ровно один делитель – 1.\n",
    "\n",
    "Реализуйте функцию-генератор primes, которая будет генерировать простые числа в порядке возрастания, начиная с числа 2."
   ]
  },
  {
   "cell_type": "code",
   "execution_count": null,
   "id": "a4c9c782",
   "metadata": {},
   "outputs": [],
   "source": [
    "Пример использования:\n",
    "\n",
    "print(list(itertools.takewhile(lambda x : x <= 31, primes())))\n",
    "# [2, 3, 5, 7, 11, 13, 17, 19, 23, 29, 31]"
   ]
  },
  {
   "cell_type": "code",
   "execution_count": null,
   "id": "df9de07e",
   "metadata": {},
   "outputs": [],
   "source": []
  },
  {
   "cell_type": "code",
   "execution_count": null,
   "id": "b0a69dbf",
   "metadata": {},
   "outputs": [],
   "source": []
  },
  {
   "cell_type": "code",
   "execution_count": null,
   "id": "92efd343",
   "metadata": {},
   "outputs": [],
   "source": []
  },
  {
   "cell_type": "code",
   "execution_count": null,
   "id": "894edfc1",
   "metadata": {},
   "outputs": [],
   "source": []
  },
  {
   "cell_type": "markdown",
   "id": "f8e09b19",
   "metadata": {},
   "source": [
    "### Пример"
   ]
  },
  {
   "cell_type": "code",
   "execution_count": 35,
   "id": "ef2b933d",
   "metadata": {},
   "outputs": [],
   "source": [
    "from random import random\n",
    "\n",
    "def gen(k):\n",
    "    for i in range(k):\n",
    "        yield random()"
   ]
  },
  {
   "cell_type": "code",
   "execution_count": 31,
   "id": "481fa0b5",
   "metadata": {},
   "outputs": [],
   "source": [
    "g = gen(10)"
   ]
  },
  {
   "cell_type": "code",
   "execution_count": 32,
   "id": "365fd87b",
   "metadata": {},
   "outputs": [],
   "source": [
    "x = next(g)"
   ]
  },
  {
   "cell_type": "code",
   "execution_count": 33,
   "id": "203d6df3",
   "metadata": {},
   "outputs": [
    {
     "data": {
      "text/plain": [
       "0.5770111774650803"
      ]
     },
     "execution_count": 33,
     "metadata": {},
     "output_type": "execute_result"
    }
   ],
   "source": [
    "x"
   ]
  },
  {
   "cell_type": "code",
   "execution_count": 36,
   "id": "d539f7b1",
   "metadata": {},
   "outputs": [
    {
     "name": "stdout",
     "output_type": "stream",
     "text": [
      "0.956790789932807\n",
      "0.126391197018478\n",
      "0.5162920378998341\n",
      "0.8154277018597428\n",
      "0.46859542545866906\n",
      "0.5325048062736184\n",
      "0.08677593875289269\n",
      "0.9607863331154906\n",
      "0.6094646207375654\n",
      "0.11621904431373198\n"
     ]
    }
   ],
   "source": [
    "for i in gen(10):\n",
    "    print(i)"
   ]
  },
  {
   "cell_type": "code",
   "execution_count": null,
   "id": "f6169b08",
   "metadata": {},
   "outputs": [],
   "source": []
  },
  {
   "cell_type": "markdown",
   "id": "35f371ce",
   "metadata": {},
   "source": [
    "### Пример_2"
   ]
  },
  {
   "cell_type": "code",
   "execution_count": 37,
   "id": "a2cee165",
   "metadata": {},
   "outputs": [],
   "source": [
    "def gen(k):\n",
    "    a = 1\n",
    "    for i in range(k):\n",
    "        a+=1\n",
    "        yield a"
   ]
  },
  {
   "cell_type": "code",
   "execution_count": 39,
   "id": "9ed6f497",
   "metadata": {},
   "outputs": [],
   "source": [
    "g = gen(5)"
   ]
  },
  {
   "cell_type": "code",
   "execution_count": 42,
   "id": "8bd4de72",
   "metadata": {},
   "outputs": [],
   "source": [
    "x = next(g)"
   ]
  },
  {
   "cell_type": "code",
   "execution_count": 43,
   "id": "451f89ef",
   "metadata": {},
   "outputs": [
    {
     "data": {
      "text/plain": [
       "3"
      ]
     },
     "execution_count": 43,
     "metadata": {},
     "output_type": "execute_result"
    }
   ],
   "source": [
    "x"
   ]
  },
  {
   "cell_type": "markdown",
   "id": "343e8e16",
   "metadata": {},
   "source": [
    "### Пример_3"
   ]
  },
  {
   "cell_type": "code",
   "execution_count": 301,
   "id": "c699d5e0",
   "metadata": {},
   "outputs": [],
   "source": [
    "def gen():\n",
    "    \n",
    "    a = 0\n",
    "    \n",
    "    while a < 10:\n",
    "        a += 1\n",
    "        yield a"
   ]
  },
  {
   "cell_type": "code",
   "execution_count": 302,
   "id": "4a2ebcdf",
   "metadata": {
    "scrolled": false
   },
   "outputs": [
    {
     "name": "stdout",
     "output_type": "stream",
     "text": [
      "1\n",
      "2\n",
      "3\n",
      "4\n",
      "5\n",
      "6\n",
      "7\n",
      "8\n",
      "9\n",
      "10\n"
     ]
    }
   ],
   "source": [
    "for i in gen():\n",
    "    print(i)"
   ]
  },
  {
   "cell_type": "code",
   "execution_count": null,
   "id": "44726c9b",
   "metadata": {},
   "outputs": [],
   "source": []
  },
  {
   "cell_type": "code",
   "execution_count": null,
   "id": "3b1dcba0",
   "metadata": {},
   "outputs": [],
   "source": []
  },
  {
   "cell_type": "markdown",
   "id": "9bc62774",
   "metadata": {},
   "source": [
    "### Проверка чисел на простое-непростое"
   ]
  },
  {
   "cell_type": "code",
   "execution_count": null,
   "id": "392ed573",
   "metadata": {},
   "outputs": [],
   "source": [
    "2, 3, 5, 7, 11, 13, 17, 19, 23, 29, 31"
   ]
  },
  {
   "cell_type": "code",
   "execution_count": 155,
   "id": "9a870e28",
   "metadata": {},
   "outputs": [
    {
     "name": "stdout",
     "output_type": "stream",
     "text": [
      "11\n",
      "простое\n"
     ]
    }
   ],
   "source": [
    "num = int(input())\n",
    "a = 0\n",
    "\n",
    "for i in range(2, num):\n",
    "    \n",
    "    while i < num:   \n",
    "        if num % i == 0:        \n",
    "            a += 1\n",
    "            i += 1\n",
    "            break\n",
    "        else:\n",
    "            i += 1\n",
    "            continue\n",
    "        \n",
    "if a == 0:\n",
    "    print('простое')\n"
   ]
  },
  {
   "cell_type": "code",
   "execution_count": 330,
   "id": "72678202",
   "metadata": {},
   "outputs": [],
   "source": [
    "def opred(num):\n",
    "    \n",
    "    if num <2:\n",
    "        return False\n",
    "    \n",
    "    a = 0\n",
    "    for i in range(2, num):\n",
    "    \n",
    "        while i < num:   \n",
    "            if num % i == 0:        \n",
    "                a += 1\n",
    "                i += 1\n",
    "                break\n",
    "            else:\n",
    "                i += 1\n",
    "                continue\n",
    "\n",
    "    if a == 0:\n",
    "        return True\n",
    "    return False\n",
    "    \n",
    "    "
   ]
  },
  {
   "cell_type": "code",
   "execution_count": 331,
   "id": "30012b4d",
   "metadata": {},
   "outputs": [
    {
     "data": {
      "text/plain": [
       "False"
      ]
     },
     "execution_count": 331,
     "metadata": {},
     "output_type": "execute_result"
    }
   ],
   "source": [
    "opred(1)"
   ]
  },
  {
   "cell_type": "code",
   "execution_count": null,
   "id": "c6882019",
   "metadata": {},
   "outputs": [],
   "source": []
  },
  {
   "cell_type": "code",
   "execution_count": 173,
   "id": "bd80179a",
   "metadata": {},
   "outputs": [],
   "source": [
    "def primes(k):\n",
    "\n",
    "    \n",
    "    for num in range(2, k+1):\n",
    "        \n",
    "        a = 0\n",
    "\n",
    "        for i in range(2, num):\n",
    "\n",
    "            while i < num:   \n",
    "                if num % i == 0:        \n",
    "                    a += 1\n",
    "                    i += 1\n",
    "                    \n",
    "                    break\n",
    "                else:\n",
    "                    i += 1\n",
    "                    continue\n",
    "\n",
    "        if a == 0:\n",
    "            \n",
    "            yield num\n",
    "            \n"
   ]
  },
  {
   "cell_type": "code",
   "execution_count": 175,
   "id": "c6f62a46",
   "metadata": {
    "scrolled": false
   },
   "outputs": [
    {
     "name": "stdout",
     "output_type": "stream",
     "text": [
      "2 3 5 7 11 13 17 19 23 29 31 "
     ]
    }
   ],
   "source": [
    "for i in gen(31):\n",
    "    print(i, end = ' ')"
   ]
  },
  {
   "cell_type": "code",
   "execution_count": null,
   "id": "25f4ba74",
   "metadata": {},
   "outputs": [],
   "source": [
    "2, 3, 5, 7, 11, 13, 17, 19, 23, 29, 31"
   ]
  },
  {
   "cell_type": "code",
   "execution_count": null,
   "id": "83aa627c",
   "metadata": {},
   "outputs": [],
   "source": []
  },
  {
   "cell_type": "code",
   "execution_count": null,
   "id": "66d873f6",
   "metadata": {},
   "outputs": [],
   "source": []
  },
  {
   "cell_type": "code",
   "execution_count": 338,
   "id": "c094aa5d",
   "metadata": {},
   "outputs": [],
   "source": [
    "def opred(num):\n",
    "    if num <2:\n",
    "        return False\n",
    "    \n",
    "    a = 0\n",
    "    for i in range(2, num):\n",
    "    \n",
    "        while i < num:   \n",
    "            if num % i == 0:        \n",
    "                a += 1\n",
    "                i += 1\n",
    "                break\n",
    "            else:\n",
    "                i += 1\n",
    "                continue\n",
    "\n",
    "    if a == 0:\n",
    "        return True\n",
    "    return False"
   ]
  },
  {
   "cell_type": "code",
   "execution_count": 339,
   "id": "eb337084",
   "metadata": {},
   "outputs": [
    {
     "data": {
      "text/plain": [
       "False"
      ]
     },
     "execution_count": 339,
     "metadata": {},
     "output_type": "execute_result"
    }
   ],
   "source": [
    "opred(1)"
   ]
  },
  {
   "cell_type": "code",
   "execution_count": 340,
   "id": "308ed29b",
   "metadata": {},
   "outputs": [],
   "source": [
    "def primes():\n",
    "    \n",
    "    num = 2\n",
    "    \n",
    "    while True:\n",
    "        \n",
    "        if opred(num) == True:            \n",
    "            yield num\n",
    "            num += 1\n",
    "            \n",
    "        else:\n",
    "            num += 1\n"
   ]
  },
  {
   "cell_type": "code",
   "execution_count": 341,
   "id": "5dfc6653",
   "metadata": {
    "scrolled": false
   },
   "outputs": [],
   "source": [
    "# for i in primes():\n",
    "#     print(i)"
   ]
  },
  {
   "cell_type": "code",
   "execution_count": 349,
   "id": "755b68db",
   "metadata": {},
   "outputs": [
    {
     "name": "stdout",
     "output_type": "stream",
     "text": [
      "[2, 3, 5, 7, 11, 13, 17, 19, 23, 29, 31, 37, 41, 43, 47, 53, 59, 61, 67, 71, 73, 79, 83, 89, 97, 101, 103, 107, 109, 113, 127, 131, 137, 139, 149]\n"
     ]
    }
   ],
   "source": [
    "import itertools\n",
    "\n",
    "print(list(itertools.takewhile(lambda x : x <= 150, primes())))"
   ]
  },
  {
   "cell_type": "code",
   "execution_count": 347,
   "id": "cb1d2d79",
   "metadata": {},
   "outputs": [],
   "source": [
    "[2, 3, 5, 7, 11, 13, 17, 19, 23, 29, 31, 37, 41, 43, 47, 53, 59, 61, 67, 71, 73, 79, 83, 89, 97, 101, 103, 107, 109, 113, 127, 131, 137, 139, 149]"
   ]
  },
  {
   "cell_type": "code",
   "execution_count": null,
   "id": "149223e3",
   "metadata": {},
   "outputs": [],
   "source": []
  },
  {
   "cell_type": "markdown",
   "id": "2acbb75d",
   "metadata": {},
   "source": [
    "# Чтобы избегать Run time Error "
   ]
  },
  {
   "cell_type": "code",
   "execution_count": 350,
   "id": "8ed22e5f",
   "metadata": {},
   "outputs": [],
   "source": [
    "import math\n",
    "\n",
    "def primes():\n",
    "    \n",
    "    num = 2\n",
    "    \n",
    "    while True:\n",
    "        \n",
    "        if (math.factorial(num - 1) + 1) % num == 0:            \n",
    "            yield num\n",
    "            num += 1\n",
    "            \n",
    "        else:\n",
    "            num += 1\n"
   ]
  },
  {
   "cell_type": "code",
   "execution_count": 351,
   "id": "1ecfd46f",
   "metadata": {},
   "outputs": [
    {
     "name": "stdout",
     "output_type": "stream",
     "text": [
      "[2, 3, 5, 7, 11, 13, 17, 19, 23, 29, 31]\n"
     ]
    }
   ],
   "source": [
    "import itertools\n",
    "\n",
    "print(list(itertools.takewhile(lambda x : x <= 31, primes())))"
   ]
  },
  {
   "cell_type": "code",
   "execution_count": null,
   "id": "d4e0a088",
   "metadata": {},
   "outputs": [],
   "source": []
  }
 ],
 "metadata": {
  "kernelspec": {
   "display_name": "Python 3 (ipykernel)",
   "language": "python",
   "name": "python3"
  },
  "language_info": {
   "codemirror_mode": {
    "name": "ipython",
    "version": 3
   },
   "file_extension": ".py",
   "mimetype": "text/x-python",
   "name": "python",
   "nbconvert_exporter": "python",
   "pygments_lexer": "ipython3",
   "version": "3.10.0"
  }
 },
 "nbformat": 4,
 "nbformat_minor": 5
}
