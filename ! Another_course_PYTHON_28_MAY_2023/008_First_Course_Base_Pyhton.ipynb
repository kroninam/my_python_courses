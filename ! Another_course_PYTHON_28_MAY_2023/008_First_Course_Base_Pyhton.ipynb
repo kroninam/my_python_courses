{
 "cells": [
  {
   "cell_type": "markdown",
   "id": "db0846e0",
   "metadata": {},
   "source": [
    "# 2.5 Работа с функциями: functool и лямбда функции"
   ]
  },
  {
   "cell_type": "code",
   "execution_count": null,
   "id": "bb4fbfbb",
   "metadata": {},
   "outputs": [],
   "source": [
    "# Библиотека operator"
   ]
  },
  {
   "cell_type": "code",
   "execution_count": 3,
   "id": "a60fe3d9",
   "metadata": {},
   "outputs": [
    {
     "name": "stdout",
     "output_type": "stream",
     "text": [
      "9\n",
      "20\n",
      "True\n"
     ]
    }
   ],
   "source": [
    "import operator as op\n",
    "\n",
    "print(op.add(4,5))\n",
    "print(op.mul(4,5))\n",
    "print(op.contains([1,2,3,4,5,6],5))"
   ]
  },
  {
   "cell_type": "code",
   "execution_count": 4,
   "id": "6eda52ba",
   "metadata": {},
   "outputs": [],
   "source": [
    "x = [1,2,3,4,5,6]"
   ]
  },
  {
   "cell_type": "code",
   "execution_count": 7,
   "id": "5d1efcf8",
   "metadata": {},
   "outputs": [],
   "source": [
    "# op.itemgetter реализует квадратные скобки и взятие какого-то элемнта последовательнсти:\n",
    "f = op.itemgetter(1)"
   ]
  },
  {
   "cell_type": "code",
   "execution_count": 8,
   "id": "19989596",
   "metadata": {},
   "outputs": [
    {
     "data": {
      "text/plain": [
       "2"
      ]
     },
     "execution_count": 8,
     "metadata": {},
     "output_type": "execute_result"
    }
   ],
   "source": [
    "f(x)"
   ]
  },
  {
   "cell_type": "code",
   "execution_count": null,
   "id": "92dfad36",
   "metadata": {},
   "outputs": [],
   "source": [
    "# Библиотека functools"
   ]
  },
  {
   "cell_type": "code",
   "execution_count": 11,
   "id": "15a2ba6d",
   "metadata": {},
   "outputs": [
    {
     "name": "stdout",
     "output_type": "stream",
     "text": [
      "13\n"
     ]
    }
   ],
   "source": [
    "from functools import partial\n",
    "\n",
    "x = int('1101', base = 2)\n",
    "print(x)"
   ]
  },
  {
   "cell_type": "code",
   "execution_count": 16,
   "id": "e02cc1d3",
   "metadata": {},
   "outputs": [],
   "source": [
    "# создаем новую функцию с уже частично примененными аргументами: \n",
    "int_2 = partial(int, base = 2)"
   ]
  },
  {
   "cell_type": "code",
   "execution_count": 21,
   "id": "a32832be",
   "metadata": {},
   "outputs": [
    {
     "data": {
      "text/plain": [
       "13"
      ]
     },
     "execution_count": 21,
     "metadata": {},
     "output_type": "execute_result"
    }
   ],
   "source": [
    "int_2('1101')"
   ]
  },
  {
   "cell_type": "code",
   "execution_count": null,
   "id": "3016e500",
   "metadata": {},
   "outputs": [],
   "source": []
  },
  {
   "cell_type": "markdown",
   "id": "c27bedaf",
   "metadata": {},
   "source": [
    "# Задача"
   ]
  },
  {
   "cell_type": "code",
   "execution_count": 31,
   "id": "54b250e3",
   "metadata": {},
   "outputs": [
    {
     "name": "stdout",
     "output_type": "stream",
     "text": [
      "True\n",
      "False\n",
      "True\n"
     ]
    }
   ],
   "source": [
    "# Лямбда функции предоставляют нам удобный способ создать функцию «прямо на месте».\n",
    "# Но иногда, когда нужно создавать много однотипных лямбда функций, еще удобнее будет создать функцию, \n",
    "# которая будет их генерировать.\n",
    "\n",
    "# Реализуйте функцию mod_checker(x, mod=0), которая будет генерировать лямбда функцию от одного \n",
    "# аргумента y, которая будет возвращать True, если остаток от деления y на x равен mod, и False иначе.\n",
    "\n",
    "# Пример использования:\n",
    "\n",
    "mod_3 = mod_checker(3)\n",
    "\n",
    "print(mod_3(3)) # True\n",
    "print(mod_3(4)) # False\n",
    "\n",
    "mod_3_1 = mod_checker(3, 1)\n",
    "print(mod_3_1(4)) # True"
   ]
  },
  {
   "cell_type": "code",
   "execution_count": null,
   "id": "33c951d2",
   "metadata": {},
   "outputs": [],
   "source": []
  },
  {
   "cell_type": "code",
   "execution_count": 26,
   "id": "0f607520",
   "metadata": {},
   "outputs": [],
   "source": [
    "def mod_checker(x, mod=0):\n",
    "    return lambda y: y%x == mod"
   ]
  },
  {
   "cell_type": "code",
   "execution_count": 32,
   "id": "3d134102",
   "metadata": {},
   "outputs": [
    {
     "name": "stdout",
     "output_type": "stream",
     "text": [
      "True\n"
     ]
    }
   ],
   "source": [
    "print(mod_3(3)) # True"
   ]
  },
  {
   "cell_type": "markdown",
   "id": "23b12067",
   "metadata": {},
   "source": [
    "# 3.1 Стандартные методы и функции для строк"
   ]
  },
  {
   "cell_type": "code",
   "execution_count": 35,
   "id": "e86e3468",
   "metadata": {},
   "outputs": [],
   "source": [
    "city = 'City'\n",
    "country = 'Country'"
   ]
  },
  {
   "cell_type": "code",
   "execution_count": 44,
   "id": "b3b4a2cc",
   "metadata": {},
   "outputs": [
    {
     "data": {
      "text/plain": [
       "'City is the capital of Country'"
      ]
     },
     "execution_count": 44,
     "metadata": {},
     "output_type": "execute_result"
    }
   ],
   "source": [
    "f\"{city}\" + ' is the capital of ' + f\"{country}\""
   ]
  },
  {
   "cell_type": "code",
   "execution_count": null,
   "id": "44c30040",
   "metadata": {},
   "outputs": [],
   "source": []
  },
  {
   "cell_type": "code",
   "execution_count": null,
   "id": "0e9d3726",
   "metadata": {},
   "outputs": [],
   "source": [
    "# Задача"
   ]
  },
  {
   "cell_type": "code",
   "execution_count": null,
   "id": "9458ca16",
   "metadata": {},
   "outputs": [],
   "source": [
    "# Вашей программе на вход подаются три строки s, a, b, состоящие из строчных латинских букв.\n",
    "# За одну операцию вы можете заменить все вхождения строки a в строку s на строку b.\n",
    "\n",
    "# Например, s = \"abab\", a = \"ab\", b = \"ba\", тогда после выполнения одной операции строка s \n",
    "# перейдет в строку \"baba\", после выполнения двух и операций – в строку \"bbaa\", и дальнейшие \n",
    "# операции не будут изменять строку s.\n",
    "\n",
    "# Необходимо узнать, после какого минимального количества операций в строке s не останется \n",
    "# вхождений строки a. Если операций потребуется более 1000, выведите Impossible.\n",
    "\n",
    "# Выведите одно число – минимальное число операций, после применения которых в строке s не \n",
    "# останется вхождений строки a, или Impossible, если операций потребуется более 1000.\n",
    "\n",
    "Sample Input 1:\n",
    "\n",
    "ababa\n",
    "a\n",
    "b\n",
    "Sample Output 1:\n",
    "\n",
    "1\n",
    "Sample Input 2:\n",
    "\n",
    "ababa\n",
    "b\n",
    "a\n",
    "Sample Output 2:\n",
    "\n",
    "1\n",
    "Sample Input 3:\n",
    "\n",
    "ababa\n",
    "c\n",
    "c\n",
    "Sample Output 3:\n",
    "\n",
    "0\n",
    "Sample Input 4:\n",
    "\n",
    "ababac\n",
    "c\n",
    "c\n",
    "Sample Output 4:\n",
    "\n",
    "Impossible"
   ]
  },
  {
   "cell_type": "code",
   "execution_count": 56,
   "id": "9b031f84",
   "metadata": {},
   "outputs": [],
   "source": [
    "s = 'ababa'\n",
    "a = 'a'\n",
    "b = 'b'"
   ]
  },
  {
   "cell_type": "code",
   "execution_count": 48,
   "id": "d7523231",
   "metadata": {},
   "outputs": [
    {
     "data": {
      "text/plain": [
       "3"
      ]
     },
     "execution_count": 48,
     "metadata": {},
     "output_type": "execute_result"
    }
   ],
   "source": [
    "s.count(a)"
   ]
  },
  {
   "cell_type": "code",
   "execution_count": 52,
   "id": "2152368c",
   "metadata": {},
   "outputs": [
    {
     "data": {
      "text/plain": [
       "'bbbbb'"
      ]
     },
     "execution_count": 52,
     "metadata": {},
     "output_type": "execute_result"
    }
   ],
   "source": [
    "s = s.replace(a, b)\n",
    "s"
   ]
  },
  {
   "cell_type": "code",
   "execution_count": 53,
   "id": "05d2f1fa",
   "metadata": {},
   "outputs": [
    {
     "data": {
      "text/plain": [
       "0"
      ]
     },
     "execution_count": 53,
     "metadata": {},
     "output_type": "execute_result"
    }
   ],
   "source": [
    "s.count(a)"
   ]
  },
  {
   "cell_type": "code",
   "execution_count": null,
   "id": "72adc945",
   "metadata": {},
   "outputs": [],
   "source": []
  },
  {
   "cell_type": "code",
   "execution_count": 57,
   "id": "647e2196",
   "metadata": {},
   "outputs": [
    {
     "name": "stdout",
     "output_type": "stream",
     "text": [
      "1\n"
     ]
    }
   ],
   "source": [
    "count = 0\n",
    "\n",
    "while s.count(a) != 0:\n",
    "    s = s.replace(a, b)\n",
    "    count += 1\n",
    "    \n",
    "    if count == 1000:\n",
    "        print('Imposible')\n",
    "        break\n",
    "print(count)"
   ]
  },
  {
   "cell_type": "code",
   "execution_count": null,
   "id": "e6487153",
   "metadata": {},
   "outputs": [],
   "source": [
    "s = input()\n",
    "a = input()\n",
    "b = input()\n",
    "\n",
    "count = 0\n",
    "\n",
    "while s.count(a) != 0:\n",
    "    s = s.replace(a, b)\n",
    "    count += 1\n",
    "    if count == 1000:\n",
    "        break\n",
    "    \n",
    "if count < 1000:\n",
    "    print(count)\n",
    "else:\n",
    "    print('Impossible')"
   ]
  },
  {
   "cell_type": "code",
   "execution_count": null,
   "id": "fe2a0427",
   "metadata": {},
   "outputs": [],
   "source": []
  },
  {
   "cell_type": "code",
   "execution_count": null,
   "id": "aa9d4f58",
   "metadata": {},
   "outputs": [],
   "source": [
    "# Задача"
   ]
  },
  {
   "cell_type": "code",
   "execution_count": null,
   "id": "b9af1a1e",
   "metadata": {},
   "outputs": [],
   "source": [
    "Вашей программе на вход подаются две строки s и t, состоящие из строчных латинских букв.\n",
    "\n",
    "Выведите одно число – количество вхождений строки t в строку s.\n",
    "\n",
    "Пример:\n",
    "s = \"abababa\"\n",
    "t = \"aba\"\n",
    "\n",
    "Вхождения строки t в строку s:\n",
    "abababa\n",
    "abababa\n",
    "abababa"
   ]
  },
  {
   "cell_type": "code",
   "execution_count": 112,
   "id": "af1fb949",
   "metadata": {},
   "outputs": [],
   "source": [
    "s = \"abababa\"\n",
    "t = \"aba\""
   ]
  },
  {
   "cell_type": "code",
   "execution_count": 106,
   "id": "6a658c26",
   "metadata": {},
   "outputs": [
    {
     "data": {
      "text/plain": [
       "2"
      ]
     },
     "execution_count": 106,
     "metadata": {},
     "output_type": "execute_result"
    }
   ],
   "source": [
    "s.count(t)"
   ]
  },
  {
   "cell_type": "code",
   "execution_count": 97,
   "id": "5a816189",
   "metadata": {},
   "outputs": [
    {
     "data": {
      "text/plain": [
       "1"
      ]
     },
     "execution_count": 97,
     "metadata": {},
     "output_type": "execute_result"
    }
   ],
   "source": [
    "s[1:].find(t)"
   ]
  },
  {
   "cell_type": "code",
   "execution_count": 114,
   "id": "85f49948",
   "metadata": {},
   "outputs": [
    {
     "data": {
      "text/plain": [
       "0"
      ]
     },
     "execution_count": 114,
     "metadata": {},
     "output_type": "execute_result"
    }
   ],
   "source": [
    "s.index(t)"
   ]
  },
  {
   "cell_type": "code",
   "execution_count": null,
   "id": "5ac72599",
   "metadata": {},
   "outputs": [],
   "source": []
  },
  {
   "cell_type": "code",
   "execution_count": 120,
   "id": "272e4eca",
   "metadata": {
    "scrolled": false
   },
   "outputs": [
    {
     "name": "stdout",
     "output_type": "stream",
     "text": [
      "aaaaa\n",
      "a\n",
      "5\n"
     ]
    }
   ],
   "source": [
    "s = input()\n",
    "t = input()\n",
    "\n",
    "count = 0\n",
    "\n",
    "for i in range(len(s)):\n",
    "#     print(s.find(t))\n",
    "    \n",
    "    if s.count(t) == 0:\n",
    "        break\n",
    "    count +=1\n",
    "    s = s[s.find(t)+1:]\n",
    "#     print(s)\n",
    "    \n",
    "# print()\n",
    "print(count)"
   ]
  },
  {
   "cell_type": "code",
   "execution_count": null,
   "id": "f2b09368",
   "metadata": {},
   "outputs": [],
   "source": []
  },
  {
   "cell_type": "code",
   "execution_count": null,
   "id": "d9d5c432",
   "metadata": {},
   "outputs": [],
   "source": []
  },
  {
   "cell_type": "code",
   "execution_count": null,
   "id": "047af8d0",
   "metadata": {},
   "outputs": [],
   "source": []
  },
  {
   "cell_type": "code",
   "execution_count": null,
   "id": "f9aed013",
   "metadata": {},
   "outputs": [],
   "source": []
  },
  {
   "cell_type": "code",
   "execution_count": null,
   "id": "58d65297",
   "metadata": {},
   "outputs": [],
   "source": []
  },
  {
   "cell_type": "code",
   "execution_count": null,
   "id": "d63de77c",
   "metadata": {},
   "outputs": [],
   "source": []
  },
  {
   "cell_type": "code",
   "execution_count": null,
   "id": "66ec8e7c",
   "metadata": {},
   "outputs": [],
   "source": []
  }
 ],
 "metadata": {
  "kernelspec": {
   "display_name": "Python 3 (ipykernel)",
   "language": "python",
   "name": "python3"
  },
  "language_info": {
   "codemirror_mode": {
    "name": "ipython",
    "version": 3
   },
   "file_extension": ".py",
   "mimetype": "text/x-python",
   "name": "python",
   "nbconvert_exporter": "python",
   "pygments_lexer": "ipython3",
   "version": "3.10.0"
  }
 },
 "nbformat": 4,
 "nbformat_minor": 5
}
