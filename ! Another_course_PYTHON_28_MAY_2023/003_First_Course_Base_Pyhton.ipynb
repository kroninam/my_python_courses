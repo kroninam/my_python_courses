{
 "cells": [
  {
   "cell_type": "markdown",
   "id": "2af99a9f",
   "metadata": {},
   "source": [
    "# Ошибки и исключения"
   ]
  },
  {
   "cell_type": "markdown",
   "id": "6d46d444",
   "metadata": {},
   "source": [
    "# Задача №1"
   ]
  },
  {
   "cell_type": "code",
   "execution_count": null,
   "id": "ce6df7ec",
   "metadata": {},
   "outputs": [],
   "source": [
    "# Вашей программе будет доступна функция foo, которая может бросать исключения.\n",
    "\n",
    "# Вам необходимо написать код, который запускает эту функцию, затем ловит исключения ArithmeticError, \n",
    "# AssertionError, ZeroDivisionError и выводит имя пойманного исключения.\n",
    "\n",
    "# Пример решения, которое вы должны отправить на проверку."
   ]
  },
  {
   "cell_type": "code",
   "execution_count": 2,
   "id": "102455ff",
   "metadata": {},
   "outputs": [],
   "source": [
    "# try:\n",
    "#     foo()\n",
    "\n",
    "# except AssertionError:\n",
    "#     print(\"AssertionError\")\n",
    "# except ZeroDivisionError:\n",
    "#     print(\"ZeroDivisionError\")\n",
    "# except ArithmeticError:\n",
    "#     print(\"ArithmeticError\")"
   ]
  },
  {
   "cell_type": "code",
   "execution_count": null,
   "id": "007791ae",
   "metadata": {},
   "outputs": [],
   "source": []
  },
  {
   "cell_type": "markdown",
   "id": "e5ebabca",
   "metadata": {},
   "source": [
    "# Задача №2"
   ]
  },
  {
   "cell_type": "code",
   "execution_count": 17,
   "id": "57b966a9",
   "metadata": {},
   "outputs": [
    {
     "data": {
      "text/plain": [
       "FileNotFoundError"
      ]
     },
     "execution_count": 17,
     "metadata": {},
     "output_type": "execute_result"
    }
   ],
   "source": [
    "# Вам дано описание наследования классов исключений в следующем формате.\n",
    "# <имя исключения 1> : <имя исключения 2> <имя исключения 3> ... <имя исключения k>\n",
    "# Это означает, что исключение 1 наследуется от исключения 2, исключения 3, и т. д.\n",
    "\n",
    "# Или эквивалентно записи:\n",
    "# class Error1(Error2, Error3 ... ErrorK):\n",
    "#     pass\n",
    "\n",
    "\n",
    "# Антон написал код, который выглядит следующим образом.\n",
    "\n",
    "# try:\n",
    "#    foo()\n",
    "# except <имя 1>:\n",
    "#    print(\"<имя 1>\")\n",
    "# except <имя 2>:\n",
    "#    print(\"<имя 2>\")\n",
    "# ...\n",
    "# Костя посмотрел на этот код и указал Антону на то, что некоторые исключения \n",
    "# можно не ловить, так как ранее в коде будет пойман их предок. \n",
    "\n",
    "# Но Антон не помнит какие исключения наследуются от каких. \n",
    "\n",
    "# Помогите ему выйти из неловкого положения и напишите программу, \n",
    "# которая будет определять обработку каких исключений можно удалить из кода.\n",
    "\n",
    "\n",
    "# Важное примечание:\n",
    "# В отличие от предыдущей задачи, типы исключений не созданы.\n",
    "# Создавать классы исключений также не требуется\n",
    "# Мы просим вас промоделировать этот процесс, и понять какие из исключений\n",
    "# можно и не ловить, потому что мы уже ранее где-то поймали их предка.\n",
    "\n",
    "\n",
    "\n",
    "# Формат входных данных\n",
    "# В первой строке входных данных содержится целое число n - число классов исключений.\n",
    "\n",
    "# В следующих n строках содержится описание наследования классов. \n",
    "# В i-й строке указано от каких классов наследуется i-й класс.\n",
    "\n",
    "# Обратите внимание, что класс может ни от кого не наследоваться. \n",
    "# Гарантируется, что класс не наследуется сам от себя (прямо или косвенно), \n",
    "# что класс не наследуется явно от одного класса более одного раза.\n",
    "\n",
    "# В следующей строке содержится число m - количество обрабатываемых исключений.\n",
    "# Следующие m строк содержат имена исключений в том порядке, в каком они были написаны у Антона в коде.\n",
    "# Гарантируется, что никакое исключение не обрабатывается дважды.\n",
    "\n",
    "# Формат выходных данных\n",
    "# Выведите в отдельной строке имя каждого исключения, обработку которого\n",
    "# можно удалить из кода, не изменив при этом поведение программы.\n",
    "# Имена следует выводить в том же порядке, в котором они идут во входных данных.\n",
    "\n",
    "\n",
    "# Пример теста 1\n",
    "# Рассмотрим код\n",
    "\n",
    "# try:\n",
    "#    foo()\n",
    "# except ZeroDivision :\n",
    "#    print(\"ZeroDivision\")\n",
    "# except OSError:\n",
    "#    print(\"OSError\")\n",
    "# except ArithmeticError:\n",
    "#    print(\"ArithmeticError\")\n",
    "# except FileNotFoundError:\n",
    "#    print(\"FileNotFoundError\")\n",
    "\n",
    "\n",
    "# По условию этого теста, Костя посмотрел на этот код, и сказал Антону, \n",
    "# что исключение FileNotFoundError можно не ловить,\n",
    "# ведь мы уже ловим OSError -- предок FileNotFoundError\n",
    "\n",
    "# Sample Input:\n",
    "4\n",
    "ArithmeticError\n",
    "ZeroDivisionError : ArithmeticError\n",
    "OSError\n",
    "FileNotFoundError : OSError\n",
    "4\n",
    "ZeroDivisionError\n",
    "OSError\n",
    "ArithmeticError\n",
    "FileNotFoundError\n",
    "\n",
    "# Sample Output:\n",
    "# FileNotFoundError"
   ]
  },
  {
   "cell_type": "code",
   "execution_count": null,
   "id": "c5f48186",
   "metadata": {},
   "outputs": [],
   "source": []
  },
  {
   "cell_type": "code",
   "execution_count": null,
   "id": "4122b94a",
   "metadata": {},
   "outputs": [],
   "source": [
    "# Второй тест:\n",
    "    \n",
    "#     4\n",
    "# winter\n",
    "# is\n",
    "# coming\n",
    "# OMG : winter is coming\n",
    "# 4\n",
    "# winter\n",
    "# is\n",
    "# coming\n",
    "# OMG"
   ]
  },
  {
   "cell_type": "code",
   "execution_count": null,
   "id": "4f097acd",
   "metadata": {},
   "outputs": [],
   "source": [
    "# Третий тест:\n",
    "    \n",
    "#     4\n",
    "# BaseException\n",
    "# Exception : BaseException\n",
    "# LookupError : Exception \n",
    "# KeyError : LookupError\n",
    "# 2\n",
    "# BaseException\n",
    "# KeyError\n",
    "\n",
    "# Ответ KeyError"
   ]
  },
  {
   "cell_type": "code",
   "execution_count": null,
   "id": "c93adbb4",
   "metadata": {},
   "outputs": [],
   "source": [
    "# Четвертый тест:\n",
    "    \n",
    "#     3\n",
    "# a\n",
    "# b : c d a\n",
    "# c\n",
    "\n",
    "# 2\n",
    "# a\n",
    "# b\n",
    "\n",
    "# Ответ b"
   ]
  },
  {
   "cell_type": "code",
   "execution_count": null,
   "id": "45b78e5f",
   "metadata": {},
   "outputs": [],
   "source": [
    "# тест  с 4 кейсом (проверяются один за одним наследованные классы).:\n",
    "\n",
    "# INPUT:\n",
    "# 4\n",
    "# b : a\n",
    "# c : b\n",
    "# d : c\n",
    "# e : d\n",
    "# 2\n",
    "# a\n",
    "# e\n",
    "\n",
    "# OUTPUT:\n",
    "# e"
   ]
  },
  {
   "cell_type": "code",
   "execution_count": null,
   "id": "547c052e",
   "metadata": {},
   "outputs": [],
   "source": [
    "# Test: для 2,3,4\n",
    "    \n",
    "10\n",
    "\n",
    "1 : 2 3 4\n",
    "2 : 5 3 6 7 8 9 \n",
    "5 : 8\n",
    "3 : 4 9 \n",
    "10 : 7 \n",
    "4\n",
    "6 : 3 4 \n",
    "7 : 6 \n",
    "8 : 10 4 6 7 \n",
    "9\n",
    "\n",
    "10\n",
    "\n",
    "6\n",
    "9\n",
    "4\n",
    "5\n",
    "10\n",
    "1\n",
    "3\n",
    "2\n",
    "8\n",
    "7\n",
    " output:\n",
    "5 \n",
    "10 \n",
    "1\n",
    "3\n",
    "2\n",
    "8\n",
    "7 "
   ]
  },
  {
   "cell_type": "code",
   "execution_count": null,
   "id": "2d2b82bc",
   "metadata": {},
   "outputs": [],
   "source": []
  },
  {
   "cell_type": "code",
   "execution_count": null,
   "id": "b7a115b7",
   "metadata": {},
   "outputs": [],
   "source": []
  },
  {
   "cell_type": "code",
   "execution_count": 228,
   "id": "596e0cb1",
   "metadata": {},
   "outputs": [
    {
     "name": "stdout",
     "output_type": "stream",
     "text": [
      "10\n",
      "1 : 2 3 4\n",
      "2 : 5 3 6 7 8 9 \n",
      "5 : 8\n",
      "3 : 4 9 \n",
      "10 : 7 \n",
      "4\n",
      "6 : 3 4 \n",
      "7 : 6 \n",
      "8 : 10 4 6 7 \n",
      "9\n"
     ]
    }
   ],
   "source": [
    "n  = int(input())\n",
    "\n",
    "lst = []\n",
    "\n",
    "for i in range(n):\n",
    "    \n",
    "    s = input()\n",
    "    lst.append(s)\n",
    "    \n",
    "dd = {}\n",
    "\n",
    "for i in range(len(lst)):\n",
    "    if len(lst[i].split(':')) == 1:\n",
    "        dd[lst[i].split(':')[0].strip()] = []\n",
    "        \n",
    "    else:        \n",
    "        for j in lst[i].split(':')[1:]:\n",
    "            dd[lst[i].split(':')[0].strip()] = j.strip().split()\n",
    "            \n",
    "for k in dd.keys():\n",
    "    for w in dd.values():\n",
    "        if k in w:\n",
    "            \n",
    "            for ii in dd[k]:\n",
    "                w.append(ii)"
   ]
  },
  {
   "cell_type": "code",
   "execution_count": 213,
   "id": "54f07826",
   "metadata": {},
   "outputs": [
    {
     "name": "stdout",
     "output_type": "stream",
     "text": [
      "10\n",
      "6\n",
      "9\n",
      "4\n",
      "5\n",
      "10\n",
      "1\n",
      "3\n",
      "2\n",
      "8\n",
      "7\n"
     ]
    }
   ],
   "source": [
    "m = int(input())\n",
    "t = []\n",
    "for i in range(m):\n",
    "    t.append(input())"
   ]
  },
  {
   "cell_type": "code",
   "execution_count": null,
   "id": "1165ccc2",
   "metadata": {},
   "outputs": [],
   "source": []
  },
  {
   "cell_type": "code",
   "execution_count": null,
   "id": "6a1669bb",
   "metadata": {},
   "outputs": [],
   "source": []
  },
  {
   "cell_type": "code",
   "execution_count": 230,
   "id": "1116e834",
   "metadata": {
    "scrolled": true
   },
   "outputs": [
    {
     "data": {
      "text/plain": [
       "['1 : 2 3 4',\n",
       " '2 : 5 3 6 7 8 9 ',\n",
       " '5 : 8',\n",
       " '3 : 4 9 ',\n",
       " '10 : 7 ',\n",
       " '4',\n",
       " '6 : 3 4 ',\n",
       " '7 : 6 ',\n",
       " '8 : 10 4 6 7 ',\n",
       " '9']"
      ]
     },
     "execution_count": 230,
     "metadata": {},
     "output_type": "execute_result"
    }
   ],
   "source": [
    "lst"
   ]
  },
  {
   "cell_type": "code",
   "execution_count": 229,
   "id": "526ecc5c",
   "metadata": {
    "scrolled": true
   },
   "outputs": [
    {
     "data": {
      "text/plain": [
       "['6', '9', '4', '5', '10', '1', '3', '2', '8', '7']"
      ]
     },
     "execution_count": 229,
     "metadata": {},
     "output_type": "execute_result"
    }
   ],
   "source": [
    "t"
   ]
  },
  {
   "cell_type": "code",
   "execution_count": 231,
   "id": "c106bdfe",
   "metadata": {
    "scrolled": true
   },
   "outputs": [
    {
     "data": {
      "text/plain": [
       "{'1': ['2',\n",
       "  '3',\n",
       "  '4',\n",
       "  '5',\n",
       "  '3',\n",
       "  '6',\n",
       "  '7',\n",
       "  '8',\n",
       "  '9',\n",
       "  '8',\n",
       "  '4',\n",
       "  '9',\n",
       "  '3',\n",
       "  '4',\n",
       "  '4',\n",
       "  '9',\n",
       "  '6',\n",
       "  '3',\n",
       "  '4',\n",
       "  '4',\n",
       "  '9',\n",
       "  '10',\n",
       "  '4',\n",
       "  '6',\n",
       "  '7',\n",
       "  '7',\n",
       "  '3',\n",
       "  '4',\n",
       "  '4',\n",
       "  '9',\n",
       "  '6',\n",
       "  '3',\n",
       "  '4',\n",
       "  '4',\n",
       "  '9'],\n",
       " '2': ['5',\n",
       "  '3',\n",
       "  '6',\n",
       "  '7',\n",
       "  '8',\n",
       "  '9',\n",
       "  '8',\n",
       "  '4',\n",
       "  '9',\n",
       "  '3',\n",
       "  '4',\n",
       "  '4',\n",
       "  '9',\n",
       "  '6',\n",
       "  '3',\n",
       "  '4',\n",
       "  '4',\n",
       "  '9',\n",
       "  '10',\n",
       "  '4',\n",
       "  '6',\n",
       "  '7',\n",
       "  '7',\n",
       "  '3',\n",
       "  '4',\n",
       "  '4',\n",
       "  '9',\n",
       "  '6',\n",
       "  '3',\n",
       "  '4',\n",
       "  '4',\n",
       "  '9'],\n",
       " '5': ['8',\n",
       "  '10',\n",
       "  '4',\n",
       "  '6',\n",
       "  '7',\n",
       "  '7',\n",
       "  '3',\n",
       "  '4',\n",
       "  '4',\n",
       "  '9',\n",
       "  '6',\n",
       "  '3',\n",
       "  '4',\n",
       "  '4',\n",
       "  '9'],\n",
       " '3': ['4', '9'],\n",
       " '10': ['7', '6', '3', '4', '4', '9'],\n",
       " '4': [],\n",
       " '6': ['3', '4', '4', '9'],\n",
       " '7': ['6', '3', '4', '4', '9'],\n",
       " '8': ['10', '4', '6', '7', '7', '3', '4', '4', '9', '6', '3', '4', '4', '9'],\n",
       " '9': []}"
      ]
     },
     "execution_count": 231,
     "metadata": {},
     "output_type": "execute_result"
    }
   ],
   "source": [
    "dd"
   ]
  },
  {
   "cell_type": "code",
   "execution_count": null,
   "id": "aba31c67",
   "metadata": {},
   "outputs": [],
   "source": []
  },
  {
   "cell_type": "code",
   "execution_count": 232,
   "id": "f10ad690",
   "metadata": {},
   "outputs": [],
   "source": [
    "for g in t:\n",
    "    if g in dd:\n",
    "        pass\n",
    "    else:\n",
    "        lst.append(g)\n",
    "        dd[g] = []"
   ]
  },
  {
   "cell_type": "code",
   "execution_count": null,
   "id": "aec42761",
   "metadata": {},
   "outputs": [],
   "source": []
  },
  {
   "cell_type": "code",
   "execution_count": null,
   "id": "4e4ce05d",
   "metadata": {},
   "outputs": [],
   "source": []
  },
  {
   "cell_type": "code",
   "execution_count": null,
   "id": "a0d720c7",
   "metadata": {},
   "outputs": [],
   "source": []
  },
  {
   "cell_type": "code",
   "execution_count": 233,
   "id": "8a2ed5c6",
   "metadata": {},
   "outputs": [],
   "source": [
    "ddd = {}\n",
    "\n",
    "for k in dd.keys():\n",
    "    if k in t:\n",
    "        ddd[k] = dd[k]\n",
    "        "
   ]
  },
  {
   "cell_type": "code",
   "execution_count": 234,
   "id": "8b455202",
   "metadata": {},
   "outputs": [
    {
     "data": {
      "text/plain": [
       "{'1': ['2',\n",
       "  '3',\n",
       "  '4',\n",
       "  '5',\n",
       "  '3',\n",
       "  '6',\n",
       "  '7',\n",
       "  '8',\n",
       "  '9',\n",
       "  '8',\n",
       "  '4',\n",
       "  '9',\n",
       "  '3',\n",
       "  '4',\n",
       "  '4',\n",
       "  '9',\n",
       "  '6',\n",
       "  '3',\n",
       "  '4',\n",
       "  '4',\n",
       "  '9',\n",
       "  '10',\n",
       "  '4',\n",
       "  '6',\n",
       "  '7',\n",
       "  '7',\n",
       "  '3',\n",
       "  '4',\n",
       "  '4',\n",
       "  '9',\n",
       "  '6',\n",
       "  '3',\n",
       "  '4',\n",
       "  '4',\n",
       "  '9'],\n",
       " '2': ['5',\n",
       "  '3',\n",
       "  '6',\n",
       "  '7',\n",
       "  '8',\n",
       "  '9',\n",
       "  '8',\n",
       "  '4',\n",
       "  '9',\n",
       "  '3',\n",
       "  '4',\n",
       "  '4',\n",
       "  '9',\n",
       "  '6',\n",
       "  '3',\n",
       "  '4',\n",
       "  '4',\n",
       "  '9',\n",
       "  '10',\n",
       "  '4',\n",
       "  '6',\n",
       "  '7',\n",
       "  '7',\n",
       "  '3',\n",
       "  '4',\n",
       "  '4',\n",
       "  '9',\n",
       "  '6',\n",
       "  '3',\n",
       "  '4',\n",
       "  '4',\n",
       "  '9'],\n",
       " '5': ['8',\n",
       "  '10',\n",
       "  '4',\n",
       "  '6',\n",
       "  '7',\n",
       "  '7',\n",
       "  '3',\n",
       "  '4',\n",
       "  '4',\n",
       "  '9',\n",
       "  '6',\n",
       "  '3',\n",
       "  '4',\n",
       "  '4',\n",
       "  '9'],\n",
       " '3': ['4', '9'],\n",
       " '10': ['7', '6', '3', '4', '4', '9'],\n",
       " '4': [],\n",
       " '6': ['3', '4', '4', '9'],\n",
       " '7': ['6', '3', '4', '4', '9'],\n",
       " '8': ['10', '4', '6', '7', '7', '3', '4', '4', '9', '6', '3', '4', '4', '9'],\n",
       " '9': []}"
      ]
     },
     "execution_count": 234,
     "metadata": {},
     "output_type": "execute_result"
    }
   ],
   "source": [
    "ddd"
   ]
  },
  {
   "cell_type": "code",
   "execution_count": 235,
   "id": "71e2fd1d",
   "metadata": {},
   "outputs": [],
   "source": [
    "lst_k = []\n",
    "\n",
    "for i in lst:\n",
    "    lst_k.append(i.split()[0])\n"
   ]
  },
  {
   "cell_type": "code",
   "execution_count": 236,
   "id": "ec2e059f",
   "metadata": {},
   "outputs": [
    {
     "data": {
      "text/plain": [
       "['1', '2', '5', '3', '10', '4', '6', '7', '8', '9']"
      ]
     },
     "execution_count": 236,
     "metadata": {},
     "output_type": "execute_result"
    }
   ],
   "source": [
    "lst_k"
   ]
  },
  {
   "cell_type": "code",
   "execution_count": null,
   "id": "13d41d4d",
   "metadata": {},
   "outputs": [],
   "source": []
  },
  {
   "cell_type": "code",
   "execution_count": 237,
   "id": "48d4c756",
   "metadata": {},
   "outputs": [],
   "source": [
    "need = []\n",
    "no_need = []\n",
    "\n",
    "for i in t:\n",
    "    \n",
    "    if i in lst_k:\n",
    "        need.append(i)\n",
    "        \n",
    "        lst_k.remove(i)\n",
    "        del ddd[i]\n",
    "        \n",
    "        for k, w in ddd.items():\n",
    "            if k in t:\n",
    "            \n",
    "                if i in w:\n",
    "                    no_need.append(k)\n",
    "                    del ddd[k]\n",
    "                    lst_k.remove(k)\n",
    "\n",
    "                    break\n",
    "    \n",
    "    "
   ]
  },
  {
   "cell_type": "code",
   "execution_count": 238,
   "id": "eadac65e",
   "metadata": {},
   "outputs": [
    {
     "data": {
      "text/plain": [
       "['6', '9', '4', '10', '3']"
      ]
     },
     "execution_count": 238,
     "metadata": {},
     "output_type": "execute_result"
    }
   ],
   "source": [
    "need"
   ]
  },
  {
   "cell_type": "code",
   "execution_count": 239,
   "id": "d756f30c",
   "metadata": {},
   "outputs": [
    {
     "data": {
      "text/plain": [
       "['1', '2', '5', '8', '7']"
      ]
     },
     "execution_count": 239,
     "metadata": {},
     "output_type": "execute_result"
    }
   ],
   "source": [
    "no_need"
   ]
  },
  {
   "cell_type": "code",
   "execution_count": null,
   "id": "c076845c",
   "metadata": {},
   "outputs": [],
   "source": []
  }
 ],
 "metadata": {
  "kernelspec": {
   "display_name": "Python 3 (ipykernel)",
   "language": "python",
   "name": "python3"
  },
  "language_info": {
   "codemirror_mode": {
    "name": "ipython",
    "version": 3
   },
   "file_extension": ".py",
   "mimetype": "text/x-python",
   "name": "python",
   "nbconvert_exporter": "python",
   "pygments_lexer": "ipython3",
   "version": "3.10.0"
  }
 },
 "nbformat": 4,
 "nbformat_minor": 5
}
