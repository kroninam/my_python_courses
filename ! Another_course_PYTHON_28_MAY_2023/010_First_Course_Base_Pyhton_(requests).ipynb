{
 "cells": [
  {
   "cell_type": "markdown",
   "id": "34c5b123",
   "metadata": {},
   "source": [
    "# 3.3 Обзорно об интернете: http-запросы, html-страницы и requests"
   ]
  },
  {
   "cell_type": "code",
   "execution_count": 1,
   "id": "b831fbfa",
   "metadata": {},
   "outputs": [
    {
     "name": "stdout",
     "output_type": "stream",
     "text": [
      "Requirement already satisfied: requests in c:\\users\\roman\\appdata\\local\\programs\\python\\python310\\lib\\site-packages (2.28.1)Note: you may need to restart the kernel to use updated packages.\n"
     ]
    },
    {
     "name": "stderr",
     "output_type": "stream",
     "text": [
      "\n",
      "[notice] A new release of pip is available: 23.0 -> 23.2.1\n",
      "[notice] To update, run: python.exe -m pip install --upgrade pip\n"
     ]
    },
    {
     "name": "stdout",
     "output_type": "stream",
     "text": [
      "\n",
      "Requirement already satisfied: charset-normalizer<3,>=2 in c:\\users\\roman\\appdata\\local\\programs\\python\\python310\\lib\\site-packages (from requests) (2.1.1)\n",
      "Requirement already satisfied: certifi>=2017.4.17 in c:\\users\\roman\\appdata\\local\\programs\\python\\python310\\lib\\site-packages (from requests) (2022.12.7)\n",
      "Requirement already satisfied: idna<4,>=2.5 in c:\\users\\roman\\appdata\\local\\programs\\python\\python310\\lib\\site-packages (from requests) (3.4)\n",
      "Requirement already satisfied: urllib3<1.27,>=1.21.1 in c:\\users\\roman\\appdata\\local\\programs\\python\\python310\\lib\\site-packages (from requests) (1.26.13)\n"
     ]
    }
   ],
   "source": [
    "pip install requests"
   ]
  },
  {
   "cell_type": "code",
   "execution_count": null,
   "id": "5b08a010",
   "metadata": {},
   "outputs": [],
   "source": []
  },
  {
   "cell_type": "code",
   "execution_count": 1,
   "id": "578f4fdf",
   "metadata": {},
   "outputs": [],
   "source": [
    "import requests"
   ]
  },
  {
   "cell_type": "code",
   "execution_count": 3,
   "id": "5cb47e95",
   "metadata": {},
   "outputs": [],
   "source": [
    "res = requests.get('https://stepik.org/lesson/24471/step/5?unit=6780')"
   ]
  },
  {
   "cell_type": "code",
   "execution_count": 4,
   "id": "2571baf4",
   "metadata": {},
   "outputs": [
    {
     "name": "stdout",
     "output_type": "stream",
     "text": [
      "200\n"
     ]
    }
   ],
   "source": [
    "print(res.status_code)"
   ]
  },
  {
   "cell_type": "code",
   "execution_count": 5,
   "id": "42a056af",
   "metadata": {},
   "outputs": [
    {
     "name": "stdout",
     "output_type": "stream",
     "text": [
      "{'Server': 'QRATOR', 'Date': 'Wed, 20 Sep 2023 10:41:36 GMT', 'Content-Type': 'text/html; charset=utf-8', 'Transfer-Encoding': 'chunked', 'Connection': 'keep-alive', 'Keep-Alive': 'timeout=15', 'Set-Cookie': 'csrftoken=dRJbcK7NEG3o5BnxCtnkPjAruzn4HbgPMd5rCMHNycuzKrGjn8gYOp5fwP0FRWmc; expires=Wed, 18-Sep-2024 10:41:36 GMT; Max-Age=31449600; Path=/; SameSite=None; Secure, sessionid=k54xjrat2rxd6nq3gcp08zf5n55ytjdx; expires=Tue, 19-Dec-2023 10:41:36 GMT; HttpOnly; Max-Age=7776000; Path=/; SameSite=None; Secure', 'Strict-Transport-Security': 'max-age=15724800; includeSubDomains', 'Content-Encoding': 'gzip', 'Vary': 'Accept-Encoding, Cookie, Authorization'}\n"
     ]
    }
   ],
   "source": [
    "print(res.headers)"
   ]
  },
  {
   "cell_type": "code",
   "execution_count": 6,
   "id": "2b6e1570",
   "metadata": {},
   "outputs": [
    {
     "name": "stdout",
     "output_type": "stream",
     "text": [
      "text/html; charset=utf-8\n"
     ]
    }
   ],
   "source": [
    "print(res.headers['Content-Type'])"
   ]
  },
  {
   "cell_type": "code",
   "execution_count": 9,
   "id": "2f6b739f",
   "metadata": {
    "scrolled": true
   },
   "outputs": [],
   "source": [
    "# print(res.content)"
   ]
  },
  {
   "cell_type": "code",
   "execution_count": 10,
   "id": "45ecdad8",
   "metadata": {},
   "outputs": [],
   "source": [
    "# print(res.text)"
   ]
  },
  {
   "cell_type": "code",
   "execution_count": null,
   "id": "4591d557",
   "metadata": {},
   "outputs": [],
   "source": []
  },
  {
   "cell_type": "markdown",
   "id": "515b99e2",
   "metadata": {},
   "source": [
    "# Сохранить иконку Бло-Бло"
   ]
  },
  {
   "cell_type": "code",
   "execution_count": null,
   "id": "ba0f1398",
   "metadata": {},
   "outputs": [],
   "source": [
    "https://cdn.stepik.net/media/users/568719888/1692960741-RVhsXIa/avatar.png"
   ]
  },
  {
   "cell_type": "code",
   "execution_count": 11,
   "id": "18578a1b",
   "metadata": {},
   "outputs": [],
   "source": [
    "res = requests.get('https://cdn.stepik.net/media/users/568719888/1692960741-RVhsXIa/avatar.png')"
   ]
  },
  {
   "cell_type": "code",
   "execution_count": 14,
   "id": "1f4ada5a",
   "metadata": {},
   "outputs": [],
   "source": [
    "# res.content"
   ]
  },
  {
   "cell_type": "code",
   "execution_count": 12,
   "id": "6929c079",
   "metadata": {},
   "outputs": [],
   "source": [
    "# создадим и запишем res.content как бинарный файл:\n",
    "\n",
    "with open('ikonka_blo_blo.png', 'wb') as f:\n",
    "    f.write(res.content)"
   ]
  },
  {
   "cell_type": "code",
   "execution_count": null,
   "id": "18bed4fe",
   "metadata": {},
   "outputs": [],
   "source": []
  },
  {
   "cell_type": "markdown",
   "id": "b80074d4",
   "metadata": {},
   "source": [
    "# Поисковый запрос в Яндекс"
   ]
  },
  {
   "cell_type": "code",
   "execution_count": 15,
   "id": "4886f18a",
   "metadata": {},
   "outputs": [],
   "source": [
    "res = requests.get('https://ya.ru/search/', params = {'text' : 'Степик'})"
   ]
  },
  {
   "cell_type": "code",
   "execution_count": 16,
   "id": "a8ca916d",
   "metadata": {},
   "outputs": [
    {
     "data": {
      "text/plain": [
       "'https://ya.ru/showcaptcha?cc=1&mt=668817C4CEAE13381657722574EBA4CCD32FE91C92673CB224A3758ADAF544EFA843A772A119E3B3E502958D84D918DCB6D0C3C2356E07AF2F98FC175602F6F91B96F181A3B6A89926801421DC3F93CD0C122E7A66ACAD7B60F11C0827C7917B869A2A5B709512A5D6D3D66750&retpath=aHR0cHM6Ly95YS5ydS9zZWFyY2g_dGV4dD0lRDAlQTElRDElODIlRDAlQjUlRDAlQkYlRDAlQjglRDAlQkE%2C_1c6a5db2eb3eca71da61eba7842b656f&t=2/1695207185/ef63cef6b55e0e1bec079e336303044a&u=142e5298-47d2edb0-2c67adba-9e512240&s=405b745785b7c5e25b58d9f0891a71bf'"
      ]
     },
     "execution_count": 16,
     "metadata": {},
     "output_type": "execute_result"
    }
   ],
   "source": [
    "res.url"
   ]
  },
  {
   "cell_type": "code",
   "execution_count": null,
   "id": "4b6f251e",
   "metadata": {},
   "outputs": [],
   "source": []
  },
  {
   "cell_type": "markdown",
   "id": "5bbeb09e",
   "metadata": {},
   "source": [
    "# Задача"
   ]
  },
  {
   "cell_type": "code",
   "execution_count": null,
   "id": "adf4e370",
   "metadata": {},
   "outputs": [],
   "source": [
    "# Рассмотрим два HTML-документа A и B.\n",
    "# Из A можно перейти в B за один переход, если в A есть ссылка на B, т. е. внутри A есть тег <a href=\"B\">, \n",
    "# возможно с дополнительными параметрами внутри тега.\n",
    "# Из A можно перейти в B за два перехода если существует такой документ C, что из A в C можно перейти \n",
    "# за один переход и из C в B можно перейти за один переход.\n",
    "\n",
    "# Вашей программе на вход подаются две строки, содержащие url двух документов A и B.\n",
    "# Выведите Yes, если из A в B можно перейти за два перехода, иначе выведите No.\n",
    "\n",
    "# Обратите внимание на то, что не все ссылки внутри HTML документа могут вести на существующие HTML документы.\n",
    "\n",
    "\n",
    "Sample Input 1:\n",
    "https://stepik.org/media/attachments/lesson/24472/sample0.html\n",
    "https://stepik.org/media/attachments/lesson/24472/sample2.html\n",
    "    \n",
    "Sample Output 1:\n",
    "Yes\n",
    "\n",
    "\n",
    "Sample Input 2:\n",
    "https://stepik.org/media/attachments/lesson/24472/sample0.html\n",
    "https://stepik.org/media/attachments/lesson/24472/sample1.html\n",
    "    \n",
    "Sample Output 2:\n",
    "No\n",
    "\n",
    "\n",
    "Sample Input 3:\n",
    "https://stepik.org/media/attachments/lesson/24472/sample1.html\n",
    "https://stepik.org/media/attachments/lesson/24472/sample2.html\n",
    "    \n",
    "Sample Output 3:\n",
    "Yes"
   ]
  },
  {
   "cell_type": "code",
   "execution_count": 63,
   "id": "e2d3d801",
   "metadata": {},
   "outputs": [],
   "source": [
    "link_1 = 'https://stepik.org/media/attachments/lesson/24472/sample0.html'\n",
    "link_2 = 'https://stepik.org/media/attachments/lesson/24472/sample2.html'"
   ]
  },
  {
   "cell_type": "code",
   "execution_count": 54,
   "id": "154123ea",
   "metadata": {},
   "outputs": [],
   "source": [
    "link_1 = 'https://stepik.org/media/attachments/lesson/24472/sample1.html'\n",
    "link_2 = 'https://stepik.org/media/attachments/lesson/24472/sample2.html'"
   ]
  },
  {
   "cell_type": "code",
   "execution_count": 56,
   "id": "25f36cc0",
   "metadata": {},
   "outputs": [],
   "source": [
    "link_1 = 'https://stepik.org/media/attachments/lesson/24472/sample0.html'\n",
    "link_2 = 'https://stepik.org/media/attachments/lesson/24472/sample1.html'"
   ]
  },
  {
   "cell_type": "code",
   "execution_count": 66,
   "id": "ffc96908",
   "metadata": {},
   "outputs": [
    {
     "name": "stdout",
     "output_type": "stream",
     "text": [
      "https://stepik.org/media/attachments/lesson/24472/sample0.html\n",
      "No\n"
     ]
    }
   ],
   "source": [
    "# Проходит 9 тестов из 18:\n",
    "# link_1 = input()\n",
    "# link_2 = input()\n",
    "\n",
    "res_1 = requests.get(link_1)\n",
    "if res_1.status_code == 200:\n",
    "    \n",
    "    new_link = str(res_1.content)[11:-10].replace('stepic', 'stepik')\n",
    "    \n",
    "    res_2 = requests.get(new_link)\n",
    "    if res_2.status_code == 200:\n",
    "        result = str(res_2.content)[11:-10].replace('stepic', 'stepik')\n",
    "        if result == link_2:\n",
    "            print('Yes')\n",
    "        else:\n",
    "            print('No')\n",
    "            \n",
    "    else:\n",
    "        print('No')\n",
    "        \n",
    "else:\n",
    "    print('No')"
   ]
  },
  {
   "cell_type": "code",
   "execution_count": null,
   "id": "ef09d14d",
   "metadata": {},
   "outputs": [],
   "source": []
  },
  {
   "cell_type": "code",
   "execution_count": null,
   "id": "059da616",
   "metadata": {},
   "outputs": [],
   "source": [
    "21.09.2023"
   ]
  },
  {
   "cell_type": "code",
   "execution_count": 25,
   "id": "9ffdec1a",
   "metadata": {},
   "outputs": [],
   "source": [
    "import requests\n",
    "import re"
   ]
  },
  {
   "cell_type": "code",
   "execution_count": 133,
   "id": "1867fda2",
   "metadata": {},
   "outputs": [],
   "source": [
    "pattern = r'href=\".*html'"
   ]
  },
  {
   "cell_type": "code",
   "execution_count": 134,
   "id": "1838f892",
   "metadata": {},
   "outputs": [
    {
     "name": "stdout",
     "output_type": "stream",
     "text": [
      "https://stepik.org/media/attachments/lesson/24472/sample1.html\n"
     ]
    }
   ],
   "source": [
    "lst = []\n",
    "for i in re.findall(pattern, string):\n",
    "    print(i[6:].replace('stepic', 'stepik'))\n",
    "    lst.append(i[6:].replace('stepic', 'stepik'))"
   ]
  },
  {
   "cell_type": "code",
   "execution_count": 50,
   "id": "18c162da",
   "metadata": {},
   "outputs": [
    {
     "data": {
      "text/plain": [
       "['https://stepik.org/media/attachments/lesson/24472/sample1.html']"
      ]
     },
     "execution_count": 50,
     "metadata": {},
     "output_type": "execute_result"
    }
   ],
   "source": [
    "lst"
   ]
  },
  {
   "cell_type": "code",
   "execution_count": 47,
   "id": "9233cccf",
   "metadata": {},
   "outputs": [
    {
     "name": "stdout",
     "output_type": "stream",
     "text": [
      "Yes\n"
     ]
    }
   ],
   "source": [
    "for i in lst:\n",
    "    res = requests.get(i)\n",
    "#     print(res.content)\n",
    "    pattern = rf'{link_2}'\n",
    "    if re.findall(pattern, str(res.content).replace('stepic', 'stepik')):\n",
    "        print('Yes')\n",
    "    "
   ]
  },
  {
   "cell_type": "code",
   "execution_count": null,
   "id": "2e2e1496",
   "metadata": {},
   "outputs": [],
   "source": []
  },
  {
   "cell_type": "code",
   "execution_count": 37,
   "id": "82344597",
   "metadata": {},
   "outputs": [],
   "source": [
    "pattern = rf'{link_2}'"
   ]
  },
  {
   "cell_type": "code",
   "execution_count": 40,
   "id": "c7c4c9ad",
   "metadata": {},
   "outputs": [
    {
     "data": {
      "text/plain": [
       "'https://stepik.org/media/attachments/lesson/24472/sample2.html'"
      ]
     },
     "execution_count": 40,
     "metadata": {},
     "output_type": "execute_result"
    }
   ],
   "source": [
    "pattern"
   ]
  },
  {
   "cell_type": "code",
   "execution_count": 41,
   "id": "aa217b69",
   "metadata": {},
   "outputs": [
    {
     "data": {
      "text/plain": [
       "'b\\'<a href=\"https://stepik.org/media/attachments/lesson/24472/sample2.html\">2</a>\\\\n\\''"
      ]
     },
     "execution_count": 41,
     "metadata": {},
     "output_type": "execute_result"
    }
   ],
   "source": [
    "str(res.content).replace('stepic', 'stepik')"
   ]
  },
  {
   "cell_type": "code",
   "execution_count": 44,
   "id": "a249b476",
   "metadata": {},
   "outputs": [
    {
     "data": {
      "text/plain": [
       "['https://stepik.org/media/attachments/lesson/24472/sample2.html']"
      ]
     },
     "execution_count": 44,
     "metadata": {},
     "output_type": "execute_result"
    }
   ],
   "source": [
    "re.findall(pattern, str(res.content).replace('stepic', 'stepik'))"
   ]
  },
  {
   "cell_type": "code",
   "execution_count": null,
   "id": "26d43149",
   "metadata": {},
   "outputs": [],
   "source": []
  },
  {
   "cell_type": "code",
   "execution_count": 104,
   "id": "28cf4df0",
   "metadata": {},
   "outputs": [],
   "source": [
    "link_1 = 'https://stepik.org/media/attachments/lesson/24472/sample0.html'\n",
    "link_2 = 'https://stepik.org/media/attachments/lesson/24472/sample2.html'"
   ]
  },
  {
   "cell_type": "code",
   "execution_count": 91,
   "id": "cd2f2e97",
   "metadata": {},
   "outputs": [],
   "source": [
    "link_1 = 'https://stepik.org/media/attachments/lesson/24472/sample1.html'\n",
    "link_2 = 'https://stepik.org/media/attachments/lesson/24472/sample2.html'"
   ]
  },
  {
   "cell_type": "code",
   "execution_count": 101,
   "id": "b447d040",
   "metadata": {},
   "outputs": [],
   "source": [
    "link_1 = 'https://stepik.org/media/attachments/lesson/24472/sample0.html'\n",
    "link_2 = 'https://stepik.org/media/attachments/lesson/24472/sample1.html'"
   ]
  },
  {
   "cell_type": "code",
   "execution_count": null,
   "id": "5c208c78",
   "metadata": {},
   "outputs": [],
   "source": []
  },
  {
   "cell_type": "code",
   "execution_count": 124,
   "id": "decf113e",
   "metadata": {},
   "outputs": [
    {
     "name": "stdout",
     "output_type": "stream",
     "text": [
      "Yes\n"
     ]
    }
   ],
   "source": [
    "# Опять же работает лишь 9 тестов из 18:\n",
    "\n",
    "import requests\n",
    "import re\n",
    "\n",
    "# link_1 = input()\n",
    "# link_2 = input()\n",
    "\n",
    "res = requests.get(link_1)\n",
    "\n",
    "if res.status_code >= 100 and res.status_code < 300:\n",
    "        \n",
    "    string = str(res.content)\n",
    "    \n",
    "    lst = []\n",
    "    pattern_1 = r'href=\".*\"'\n",
    "    for i in re.findall(pattern_1, string):\n",
    "        \n",
    "        lst.extend([i[6:-1].replace('stepic.org', 'stepik.org')])\n",
    "        \n",
    "        \n",
    "    lst_2 = []\n",
    "    for j in lst:        \n",
    "        res = requests.get(j)\n",
    "        if res.status_code >= 100 and res.status_code < 300:\n",
    "            \n",
    "            pattern = rf'{link_2}'\n",
    "            \n",
    "            lst_2.extend(re.findall(pattern, str(res.content).replace('stepic.org', 'stepik.org')))\n",
    "        else:\n",
    "            continue\n",
    "            \n",
    "            \n",
    "if link_2 in lst_2:\n",
    "    print('Yes')\n",
    "                \n",
    "else:\n",
    "    print('No')\n"
   ]
  },
  {
   "cell_type": "code",
   "execution_count": null,
   "id": "476f1899",
   "metadata": {},
   "outputs": [],
   "source": []
  },
  {
   "cell_type": "code",
   "execution_count": null,
   "id": "9af25d30",
   "metadata": {},
   "outputs": [],
   "source": [
    "# Делая через регулярные выражения не забывайте что искать нужно не жадно(?). \n",
    "# Если  html будет содержать не одну ссылку,  а несколько, что бы вам не находило \n",
    "# выражени от первого \"href\"  до последнего \"html\" в полученом ответе с сервера.\n",
    "\n",
    "# И кстати убрал проверку на status_code - ВООБЩЕ это было не обязательно!"
   ]
  },
  {
   "cell_type": "code",
   "execution_count": 126,
   "id": "d2b90fad",
   "metadata": {},
   "outputs": [
    {
     "name": "stdout",
     "output_type": "stream",
     "text": [
      "Yes\n"
     ]
    }
   ],
   "source": [
    "import requests\n",
    "import re\n",
    "\n",
    "# link_1 = input()\n",
    "# link_2 = input()\n",
    "\n",
    "res = requests.get(link_1)\n",
    "string = str(res.content)\n",
    "    \n",
    "lst = []\n",
    "pattern_1 = r'href=\".*?\"'\n",
    "for i in re.findall(pattern_1, string):\n",
    "        \n",
    "    lst.extend([i[6:-1].replace('stepic.org', 'stepik.org')])\n",
    "        \n",
    "        \n",
    "lst_2 = []\n",
    "for j in lst:        \n",
    "    res = requests.get(j)\n",
    "    pattern = rf'{link_2}'\n",
    "            \n",
    "    lst_2.extend(re.findall(pattern, str(res.content).replace('stepic.org', 'stepik.org')))\n",
    "\n",
    "            \n",
    "            \n",
    "if link_2 in lst_2:\n",
    "    print('Yes')\n",
    "                \n",
    "else:\n",
    "    print('No')"
   ]
  },
  {
   "cell_type": "code",
   "execution_count": null,
   "id": "b84f9782",
   "metadata": {},
   "outputs": [],
   "source": []
  },
  {
   "cell_type": "code",
   "execution_count": null,
   "id": "231fd4e3",
   "metadata": {},
   "outputs": [],
   "source": []
  }
 ],
 "metadata": {
  "kernelspec": {
   "display_name": "Python 3 (ipykernel)",
   "language": "python",
   "name": "python3"
  },
  "language_info": {
   "codemirror_mode": {
    "name": "ipython",
    "version": 3
   },
   "file_extension": ".py",
   "mimetype": "text/x-python",
   "name": "python",
   "nbconvert_exporter": "python",
   "pygments_lexer": "ipython3",
   "version": "3.10.0"
  }
 },
 "nbformat": 4,
 "nbformat_minor": 5
}
