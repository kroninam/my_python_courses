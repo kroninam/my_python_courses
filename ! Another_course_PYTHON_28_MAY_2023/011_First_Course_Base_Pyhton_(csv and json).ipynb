{
 "cells": [
  {
   "cell_type": "markdown",
   "id": "324fb4ae",
   "metadata": {},
   "source": [
    "# 3.4 Распространённые форматы текстовых файлов: CSV, JSON"
   ]
  },
  {
   "cell_type": "code",
   "execution_count": 2,
   "id": "40b119be",
   "metadata": {},
   "outputs": [],
   "source": [
    "import csv"
   ]
  },
  {
   "cell_type": "code",
   "execution_count": 11,
   "id": "06b1ffbd",
   "metadata": {},
   "outputs": [
    {
     "name": "stdout",
     "output_type": "stream",
     "text": [
      "['1', ' 2', ' 3']\n",
      "['student_1', ' best', ' 100']\n",
      "['student_2', ' good', ' 95']\n"
     ]
    }
   ],
   "source": [
    "with open('example.txt') as f:\n",
    "    reader = csv.reader(f)\n",
    "    \n",
    "    for i in reader:\n",
    "        print(i)"
   ]
  },
  {
   "cell_type": "code",
   "execution_count": null,
   "id": "85740be5",
   "metadata": {},
   "outputs": [],
   "source": []
  },
  {
   "cell_type": "markdown",
   "id": "dafeb044",
   "metadata": {},
   "source": [
    "# Задача"
   ]
  },
  {
   "cell_type": "code",
   "execution_count": null,
   "id": "4e354cf1",
   "metadata": {},
   "outputs": [],
   "source": [
    "# Вам дана частичная выборка из датасета зафиксированных преступлений, совершенных в городе \n",
    "# Чикаго с 2001 года по настоящее время.\n",
    "\n",
    "# Одним из атрибутов преступления является его тип – Primary Type.\n",
    "\n",
    "# Вам необходимо узнать тип преступления, которое было зафиксировано максимальное число раз в 2015 году.\n",
    "\n",
    "# Файл с данными:\n",
    "# Crimes.csv"
   ]
  },
  {
   "cell_type": "code",
   "execution_count": 14,
   "id": "1f9c155e",
   "metadata": {},
   "outputs": [],
   "source": [
    "import pandas as pd\n",
    "df = pd.read_csv('Crimes.csv')"
   ]
  },
  {
   "cell_type": "code",
   "execution_count": 33,
   "id": "0f45e66c",
   "metadata": {},
   "outputs": [],
   "source": [
    "df['new_date'] = pd.to_datetime(df['Date'])"
   ]
  },
  {
   "cell_type": "code",
   "execution_count": 37,
   "id": "d2888964",
   "metadata": {},
   "outputs": [],
   "source": [
    "df_2015 = df[df['new_date'].dt.year == 2015]"
   ]
  },
  {
   "cell_type": "code",
   "execution_count": 43,
   "id": "3335d2ba",
   "metadata": {},
   "outputs": [
    {
     "data": {
      "text/plain": [
       "count      2668\n",
       "unique       25\n",
       "top       THEFT\n",
       "freq        596\n",
       "Name: Primary Type, dtype: object"
      ]
     },
     "execution_count": 43,
     "metadata": {},
     "output_type": "execute_result"
    }
   ],
   "source": [
    "df_2015['Primary Type'].describe()"
   ]
  },
  {
   "cell_type": "code",
   "execution_count": null,
   "id": "21676e25",
   "metadata": {},
   "outputs": [],
   "source": []
  },
  {
   "cell_type": "code",
   "execution_count": 44,
   "id": "f6569d5e",
   "metadata": {},
   "outputs": [],
   "source": [
    "import json"
   ]
  },
  {
   "cell_type": "code",
   "execution_count": 68,
   "id": "a40d684c",
   "metadata": {},
   "outputs": [],
   "source": [
    "student1 = {\n",
    "    \"first_name\": \"Oleg\",\n",
    "    \"last_name\": \"Dean\",\n",
    "    \"certificate\": True,\n",
    "    \"scores\": [\n",
    "        70,\n",
    "        80,\n",
    "        90\n",
    "    ],\n",
    "    \"description\": \"Good job, Greg\"\n",
    "}\n",
    "student2 = {\n",
    "    \"first_name\": \"Wirl\",\n",
    "    \"last_name\": \"Wood\",\n",
    "    \"certificate\": True,\n",
    "    \"scores\": [\n",
    "        70,\n",
    "        80,\n",
    "        90\n",
    "    ],\n",
    "    \"description\": \"Nicely Done\"\n",
    "}\n",
    "data = [student1, student2]"
   ]
  },
  {
   "cell_type": "code",
   "execution_count": null,
   "id": "a3bcebce",
   "metadata": {},
   "outputs": [],
   "source": []
  },
  {
   "cell_type": "markdown",
   "id": "4972e653",
   "metadata": {},
   "source": [
    "## чтобы прочитать испольузем json.dumps"
   ]
  },
  {
   "cell_type": "code",
   "execution_count": 51,
   "id": "efaf2b32",
   "metadata": {},
   "outputs": [
    {
     "name": "stdout",
     "output_type": "stream",
     "text": [
      "[{\"first_name\": \"Oleg\", \"last_name\": \"Dean\", \"certificate\": true, \"scores\": [70, 80, 90], \"description\": \"Good job, Greg\"}, {\"first_name\": \"Wirl\", \"last_name\": \"Wood\", \"certificate\": true, \"scores\": [70, 80, 90], \"description\": \"Nicely Done\"}]\n"
     ]
    }
   ],
   "source": [
    "print(json.dumps(data))"
   ]
  },
  {
   "cell_type": "code",
   "execution_count": 49,
   "id": "77f74d24",
   "metadata": {},
   "outputs": [
    {
     "name": "stdout",
     "output_type": "stream",
     "text": [
      "[\n",
      "    {\n",
      "        \"certificate\": true,\n",
      "        \"description\": \"Good job, Greg\",\n",
      "        \"first_name\": \"Oleg\",\n",
      "        \"last_name\": \"Dean\",\n",
      "        \"scores\": [\n",
      "            70,\n",
      "            80,\n",
      "            90\n",
      "        ]\n",
      "    },\n",
      "    {\n",
      "        \"certificate\": true,\n",
      "        \"description\": \"Nicely Done\",\n",
      "        \"first_name\": \"Wirl\",\n",
      "        \"last_name\": \"Wood\",\n",
      "        \"scores\": [\n",
      "            70,\n",
      "            80,\n",
      "            90\n",
      "        ]\n",
      "    }\n",
      "]\n"
     ]
    }
   ],
   "source": [
    "print(json.dumps(data, indent = 4, sort_keys = True))"
   ]
  },
  {
   "cell_type": "markdown",
   "id": "a109c895",
   "metadata": {},
   "source": [
    "## чтобы записать используем json.dump"
   ]
  },
  {
   "cell_type": "code",
   "execution_count": 58,
   "id": "87a3c532",
   "metadata": {},
   "outputs": [],
   "source": [
    "with open('file_json_1.json', 'w') as f:\n",
    "    json.dump(data, f, indent = 4)"
   ]
  },
  {
   "cell_type": "code",
   "execution_count": 60,
   "id": "0b5e7f9c",
   "metadata": {},
   "outputs": [],
   "source": [
    "df = pd.read_json('file_json_1.json')"
   ]
  },
  {
   "cell_type": "code",
   "execution_count": 61,
   "id": "96217b13",
   "metadata": {},
   "outputs": [
    {
     "data": {
      "text/html": [
       "<div>\n",
       "<style scoped>\n",
       "    .dataframe tbody tr th:only-of-type {\n",
       "        vertical-align: middle;\n",
       "    }\n",
       "\n",
       "    .dataframe tbody tr th {\n",
       "        vertical-align: top;\n",
       "    }\n",
       "\n",
       "    .dataframe thead th {\n",
       "        text-align: right;\n",
       "    }\n",
       "</style>\n",
       "<table border=\"1\" class=\"dataframe\">\n",
       "  <thead>\n",
       "    <tr style=\"text-align: right;\">\n",
       "      <th></th>\n",
       "      <th>first_name</th>\n",
       "      <th>last_name</th>\n",
       "      <th>certificate</th>\n",
       "      <th>scores</th>\n",
       "      <th>description</th>\n",
       "    </tr>\n",
       "  </thead>\n",
       "  <tbody>\n",
       "    <tr>\n",
       "      <th>0</th>\n",
       "      <td>Oleg</td>\n",
       "      <td>Dean</td>\n",
       "      <td>True</td>\n",
       "      <td>[70, 80, 90]</td>\n",
       "      <td>Good job, Greg</td>\n",
       "    </tr>\n",
       "    <tr>\n",
       "      <th>1</th>\n",
       "      <td>Wirl</td>\n",
       "      <td>Wood</td>\n",
       "      <td>True</td>\n",
       "      <td>[70, 80, 90]</td>\n",
       "      <td>Nicely Done</td>\n",
       "    </tr>\n",
       "  </tbody>\n",
       "</table>\n",
       "</div>"
      ],
      "text/plain": [
       "  first_name last_name  certificate        scores     description\n",
       "0       Oleg      Dean         True  [70, 80, 90]  Good job, Greg\n",
       "1       Wirl      Wood         True  [70, 80, 90]     Nicely Done"
      ]
     },
     "execution_count": 61,
     "metadata": {},
     "output_type": "execute_result"
    }
   ],
   "source": [
    "df"
   ]
  },
  {
   "cell_type": "code",
   "execution_count": null,
   "id": "be77ba21",
   "metadata": {},
   "outputs": [],
   "source": []
  },
  {
   "cell_type": "code",
   "execution_count": null,
   "id": "5cb3bffa",
   "metadata": {},
   "outputs": [],
   "source": []
  },
  {
   "cell_type": "code",
   "execution_count": null,
   "id": "6e493eea",
   "metadata": {},
   "outputs": [],
   "source": []
  },
  {
   "cell_type": "code",
   "execution_count": 70,
   "id": "d6e1bf24",
   "metadata": {
    "scrolled": true
   },
   "outputs": [
    {
     "data": {
      "text/plain": [
       "[{'first_name': 'Oleg',\n",
       "  'last_name': 'Dean',\n",
       "  'certificate': True,\n",
       "  'scores': [70, 80, 90],\n",
       "  'description': 'Good job, Greg'},\n",
       " {'first_name': 'Wirl',\n",
       "  'last_name': 'Wood',\n",
       "  'certificate': True,\n",
       "  'scores': [70, 80, 90],\n",
       "  'description': 'Nicely Done'}]"
      ]
     },
     "execution_count": 70,
     "metadata": {},
     "output_type": "execute_result"
    }
   ],
   "source": [
    "data"
   ]
  },
  {
   "cell_type": "code",
   "execution_count": 71,
   "id": "1640f009",
   "metadata": {},
   "outputs": [],
   "source": [
    "json_data = json.dumps(data, indent = 4)"
   ]
  },
  {
   "cell_type": "code",
   "execution_count": 81,
   "id": "a77d6495",
   "metadata": {},
   "outputs": [
    {
     "name": "stdout",
     "output_type": "stream",
     "text": [
      "[\n",
      "    {\n",
      "        \"first_name\": \"Oleg\",\n",
      "        \"last_name\": \"Dean\",\n",
      "        \"certificate\": true,\n",
      "        \"scores\": [\n",
      "            70,\n",
      "            80,\n",
      "            90\n",
      "        ],\n",
      "        \"description\": \"Good job, Greg\"\n",
      "    },\n",
      "    {\n",
      "        \"first_name\": \"Wirl\",\n",
      "        \"last_name\": \"Wood\",\n",
      "        \"certificate\": true,\n",
      "        \"scores\": [\n",
      "            70,\n",
      "            80,\n",
      "            90\n",
      "        ],\n",
      "        \"description\": \"Nicely Done\"\n",
      "    }\n",
      "]\n"
     ]
    }
   ],
   "source": [
    "print(json_data)"
   ]
  },
  {
   "cell_type": "code",
   "execution_count": 75,
   "id": "ff8ebe22",
   "metadata": {},
   "outputs": [],
   "source": [
    "data_again = json.loads(json_data)"
   ]
  },
  {
   "cell_type": "code",
   "execution_count": 79,
   "id": "694a2d2a",
   "metadata": {},
   "outputs": [
    {
     "data": {
      "text/plain": [
       "240"
      ]
     },
     "execution_count": 79,
     "metadata": {},
     "output_type": "execute_result"
    }
   ],
   "source": [
    "sum(data_again[0]['scores'])"
   ]
  },
  {
   "cell_type": "code",
   "execution_count": null,
   "id": "8007cc8a",
   "metadata": {},
   "outputs": [],
   "source": []
  },
  {
   "cell_type": "code",
   "execution_count": null,
   "id": "8deddb50",
   "metadata": {},
   "outputs": [],
   "source": []
  },
  {
   "cell_type": "code",
   "execution_count": null,
   "id": "f22c976c",
   "metadata": {},
   "outputs": [],
   "source": []
  }
 ],
 "metadata": {
  "kernelspec": {
   "display_name": "Python 3 (ipykernel)",
   "language": "python",
   "name": "python3"
  },
  "language_info": {
   "codemirror_mode": {
    "name": "ipython",
    "version": 3
   },
   "file_extension": ".py",
   "mimetype": "text/x-python",
   "name": "python",
   "nbconvert_exporter": "python",
   "pygments_lexer": "ipython3",
   "version": "3.10.0"
  }
 },
 "nbformat": 4,
 "nbformat_minor": 5
}
