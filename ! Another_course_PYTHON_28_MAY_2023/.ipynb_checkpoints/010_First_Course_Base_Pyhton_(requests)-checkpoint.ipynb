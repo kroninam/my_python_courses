{
 "cells": [
  {
   "cell_type": "markdown",
   "id": "34c5b123",
   "metadata": {},
   "source": [
    "# 3.3 Обзорно об интернете: http-запросы, html-страницы и requests"
   ]
  },
  {
   "cell_type": "code",
   "execution_count": 1,
   "id": "b831fbfa",
   "metadata": {},
   "outputs": [
    {
     "name": "stdout",
     "output_type": "stream",
     "text": [
      "Requirement already satisfied: requests in c:\\users\\roman\\appdata\\local\\programs\\python\\python310\\lib\\site-packages (2.28.1)Note: you may need to restart the kernel to use updated packages.\n"
     ]
    },
    {
     "name": "stderr",
     "output_type": "stream",
     "text": [
      "\n",
      "[notice] A new release of pip is available: 23.0 -> 23.2.1\n",
      "[notice] To update, run: python.exe -m pip install --upgrade pip\n"
     ]
    },
    {
     "name": "stdout",
     "output_type": "stream",
     "text": [
      "\n",
      "Requirement already satisfied: charset-normalizer<3,>=2 in c:\\users\\roman\\appdata\\local\\programs\\python\\python310\\lib\\site-packages (from requests) (2.1.1)\n",
      "Requirement already satisfied: certifi>=2017.4.17 in c:\\users\\roman\\appdata\\local\\programs\\python\\python310\\lib\\site-packages (from requests) (2022.12.7)\n",
      "Requirement already satisfied: idna<4,>=2.5 in c:\\users\\roman\\appdata\\local\\programs\\python\\python310\\lib\\site-packages (from requests) (3.4)\n",
      "Requirement already satisfied: urllib3<1.27,>=1.21.1 in c:\\users\\roman\\appdata\\local\\programs\\python\\python310\\lib\\site-packages (from requests) (1.26.13)\n"
     ]
    }
   ],
   "source": [
    "pip install requests"
   ]
  },
  {
   "cell_type": "code",
   "execution_count": null,
   "id": "5b08a010",
   "metadata": {},
   "outputs": [],
   "source": []
  },
  {
   "cell_type": "code",
   "execution_count": 2,
   "id": "578f4fdf",
   "metadata": {},
   "outputs": [],
   "source": [
    "import requests"
   ]
  },
  {
   "cell_type": "code",
   "execution_count": 3,
   "id": "5cb47e95",
   "metadata": {},
   "outputs": [],
   "source": [
    "res = requests.get('https://stepik.org/lesson/24471/step/5?unit=6780')"
   ]
  },
  {
   "cell_type": "code",
   "execution_count": 4,
   "id": "2571baf4",
   "metadata": {},
   "outputs": [
    {
     "name": "stdout",
     "output_type": "stream",
     "text": [
      "200\n"
     ]
    }
   ],
   "source": [
    "print(res.status_code)"
   ]
  },
  {
   "cell_type": "code",
   "execution_count": 5,
   "id": "42a056af",
   "metadata": {},
   "outputs": [
    {
     "name": "stdout",
     "output_type": "stream",
     "text": [
      "{'Server': 'QRATOR', 'Date': 'Wed, 20 Sep 2023 10:41:36 GMT', 'Content-Type': 'text/html; charset=utf-8', 'Transfer-Encoding': 'chunked', 'Connection': 'keep-alive', 'Keep-Alive': 'timeout=15', 'Set-Cookie': 'csrftoken=dRJbcK7NEG3o5BnxCtnkPjAruzn4HbgPMd5rCMHNycuzKrGjn8gYOp5fwP0FRWmc; expires=Wed, 18-Sep-2024 10:41:36 GMT; Max-Age=31449600; Path=/; SameSite=None; Secure, sessionid=k54xjrat2rxd6nq3gcp08zf5n55ytjdx; expires=Tue, 19-Dec-2023 10:41:36 GMT; HttpOnly; Max-Age=7776000; Path=/; SameSite=None; Secure', 'Strict-Transport-Security': 'max-age=15724800; includeSubDomains', 'Content-Encoding': 'gzip', 'Vary': 'Accept-Encoding, Cookie, Authorization'}\n"
     ]
    }
   ],
   "source": [
    "print(res.headers)"
   ]
  },
  {
   "cell_type": "code",
   "execution_count": 6,
   "id": "2b6e1570",
   "metadata": {},
   "outputs": [
    {
     "name": "stdout",
     "output_type": "stream",
     "text": [
      "text/html; charset=utf-8\n"
     ]
    }
   ],
   "source": [
    "print(res.headers['Content-Type'])"
   ]
  },
  {
   "cell_type": "code",
   "execution_count": 9,
   "id": "2f6b739f",
   "metadata": {
    "scrolled": true
   },
   "outputs": [],
   "source": [
    "# print(res.content)"
   ]
  },
  {
   "cell_type": "code",
   "execution_count": 10,
   "id": "45ecdad8",
   "metadata": {},
   "outputs": [],
   "source": [
    "# print(res.text)"
   ]
  },
  {
   "cell_type": "code",
   "execution_count": null,
   "id": "4591d557",
   "metadata": {},
   "outputs": [],
   "source": []
  },
  {
   "cell_type": "markdown",
   "id": "515b99e2",
   "metadata": {},
   "source": [
    "# Сохранить иконку Бло-Бло"
   ]
  },
  {
   "cell_type": "code",
   "execution_count": null,
   "id": "ba0f1398",
   "metadata": {},
   "outputs": [],
   "source": [
    "https://cdn.stepik.net/media/users/568719888/1692960741-RVhsXIa/avatar.png"
   ]
  },
  {
   "cell_type": "code",
   "execution_count": 11,
   "id": "18578a1b",
   "metadata": {},
   "outputs": [],
   "source": [
    "res = requests.get('https://cdn.stepik.net/media/users/568719888/1692960741-RVhsXIa/avatar.png')"
   ]
  },
  {
   "cell_type": "code",
   "execution_count": 14,
   "id": "1f4ada5a",
   "metadata": {},
   "outputs": [],
   "source": [
    "# res.content"
   ]
  },
  {
   "cell_type": "code",
   "execution_count": 12,
   "id": "6929c079",
   "metadata": {},
   "outputs": [],
   "source": [
    "# создадим и запишем res.content как бинарный файл:\n",
    "\n",
    "with open('ikonka_blo_blo.png', 'wb') as f:\n",
    "    f.write(res.content)"
   ]
  },
  {
   "cell_type": "code",
   "execution_count": null,
   "id": "18bed4fe",
   "metadata": {},
   "outputs": [],
   "source": []
  },
  {
   "cell_type": "markdown",
   "id": "b80074d4",
   "metadata": {},
   "source": [
    "# Поисковый запрос в Яндекс"
   ]
  },
  {
   "cell_type": "code",
   "execution_count": 15,
   "id": "4886f18a",
   "metadata": {},
   "outputs": [],
   "source": [
    "res = requests.get('https://ya.ru/search/', params = {'text' : 'Степик'})"
   ]
  },
  {
   "cell_type": "code",
   "execution_count": 16,
   "id": "a8ca916d",
   "metadata": {},
   "outputs": [
    {
     "data": {
      "text/plain": [
       "'https://ya.ru/showcaptcha?cc=1&mt=668817C4CEAE13381657722574EBA4CCD32FE91C92673CB224A3758ADAF544EFA843A772A119E3B3E502958D84D918DCB6D0C3C2356E07AF2F98FC175602F6F91B96F181A3B6A89926801421DC3F93CD0C122E7A66ACAD7B60F11C0827C7917B869A2A5B709512A5D6D3D66750&retpath=aHR0cHM6Ly95YS5ydS9zZWFyY2g_dGV4dD0lRDAlQTElRDElODIlRDAlQjUlRDAlQkYlRDAlQjglRDAlQkE%2C_1c6a5db2eb3eca71da61eba7842b656f&t=2/1695207185/ef63cef6b55e0e1bec079e336303044a&u=142e5298-47d2edb0-2c67adba-9e512240&s=405b745785b7c5e25b58d9f0891a71bf'"
      ]
     },
     "execution_count": 16,
     "metadata": {},
     "output_type": "execute_result"
    }
   ],
   "source": [
    "res.url"
   ]
  },
  {
   "cell_type": "code",
   "execution_count": null,
   "id": "4b6f251e",
   "metadata": {},
   "outputs": [],
   "source": []
  },
  {
   "cell_type": "markdown",
   "id": "5bbeb09e",
   "metadata": {},
   "source": [
    "# Задача"
   ]
  },
  {
   "cell_type": "code",
   "execution_count": null,
   "id": "adf4e370",
   "metadata": {},
   "outputs": [],
   "source": [
    "# Рассмотрим два HTML-документа A и B.\n",
    "# Из A можно перейти в B за один переход, если в A есть ссылка на B, т. е. внутри A есть тег <a href=\"B\">, \n",
    "# возможно с дополнительными параметрами внутри тега.\n",
    "# Из A можно перейти в B за два перехода если существует такой документ C, что из A в C можно перейти \n",
    "# за один переход и из C в B можно перейти за один переход.\n",
    "\n",
    "# Вашей программе на вход подаются две строки, содержащие url двух документов A и B.\n",
    "# Выведите Yes, если из A в B можно перейти за два перехода, иначе выведите No.\n",
    "\n",
    "# Обратите внимание на то, что не все ссылки внутри HTML документа могут вести на существующие HTML документы.\n",
    "\n",
    "\n",
    "Sample Input 1:\n",
    "https://stepik.org/media/attachments/lesson/24472/sample0.html\n",
    "https://stepik.org/media/attachments/lesson/24472/sample2.html\n",
    "    \n",
    "Sample Output 1:\n",
    "Yes\n",
    "\n",
    "\n",
    "Sample Input 2:\n",
    "https://stepik.org/media/attachments/lesson/24472/sample0.html\n",
    "https://stepik.org/media/attachments/lesson/24472/sample1.html\n",
    "    \n",
    "Sample Output 2:\n",
    "No\n",
    "\n",
    "\n",
    "Sample Input 3:\n",
    "https://stepik.org/media/attachments/lesson/24472/sample1.html\n",
    "https://stepik.org/media/attachments/lesson/24472/sample2.html\n",
    "    \n",
    "Sample Output 3:\n",
    "Yes"
   ]
  },
  {
   "cell_type": "code",
   "execution_count": 74,
   "id": "bd5a4702",
   "metadata": {},
   "outputs": [],
   "source": [
    "res_1 = requests.get('https://stepik.org/media/attachments/lesson/24472/sample0.html')"
   ]
  },
  {
   "cell_type": "code",
   "execution_count": 75,
   "id": "406633b1",
   "metadata": {},
   "outputs": [
    {
     "data": {
      "text/plain": [
       "200"
      ]
     },
     "execution_count": 75,
     "metadata": {},
     "output_type": "execute_result"
    }
   ],
   "source": [
    "res_1.status_code"
   ]
  },
  {
   "cell_type": "code",
   "execution_count": 84,
   "id": "e04d9953",
   "metadata": {},
   "outputs": [],
   "source": [
    "s = str(res_1.content)"
   ]
  },
  {
   "cell_type": "code",
   "execution_count": 85,
   "id": "31c6cadc",
   "metadata": {},
   "outputs": [
    {
     "data": {
      "text/plain": [
       "'b\\'<a href=\"https://stepic.org/media/attachments/lesson/24472/sample1.html\">1</a>\\\\n\\''"
      ]
     },
     "execution_count": 85,
     "metadata": {},
     "output_type": "execute_result"
    }
   ],
   "source": [
    "s"
   ]
  },
  {
   "cell_type": "code",
   "execution_count": 86,
   "id": "4871a28d",
   "metadata": {},
   "outputs": [
    {
     "data": {
      "text/plain": [
       "11"
      ]
     },
     "execution_count": 86,
     "metadata": {},
     "output_type": "execute_result"
    }
   ],
   "source": [
    "s.find('https')"
   ]
  },
  {
   "cell_type": "code",
   "execution_count": 87,
   "id": "e8dd5843",
   "metadata": {},
   "outputs": [
    {
     "data": {
      "text/plain": [
       "76"
      ]
     },
     "execution_count": 87,
     "metadata": {},
     "output_type": "execute_result"
    }
   ],
   "source": [
    "s.find('</a>')"
   ]
  },
  {
   "cell_type": "code",
   "execution_count": null,
   "id": "1fc3aa7b",
   "metadata": {},
   "outputs": [],
   "source": []
  },
  {
   "cell_type": "code",
   "execution_count": null,
   "id": "b16477c4",
   "metadata": {},
   "outputs": [],
   "source": []
  },
  {
   "cell_type": "code",
   "execution_count": 45,
   "id": "ba79507f",
   "metadata": {},
   "outputs": [
    {
     "data": {
      "text/plain": [
       "'https://stepik.org/media/attachments/lesson/24472/sample1.html'"
      ]
     },
     "execution_count": 45,
     "metadata": {},
     "output_type": "execute_result"
    }
   ],
   "source": [
    "str(res_1.content)[11:-10].replace('stepic', 'stepik')"
   ]
  },
  {
   "cell_type": "code",
   "execution_count": 44,
   "id": "a3eb67c9",
   "metadata": {},
   "outputs": [],
   "source": [
    "new_link = str(res_1.content)[11:-10].replace('stepic', 'stepik')"
   ]
  },
  {
   "cell_type": "code",
   "execution_count": null,
   "id": "b2ffc05c",
   "metadata": {},
   "outputs": [],
   "source": []
  },
  {
   "cell_type": "code",
   "execution_count": 46,
   "id": "a0c2c4fa",
   "metadata": {},
   "outputs": [],
   "source": [
    "res_2 = requests.get(new_link)"
   ]
  },
  {
   "cell_type": "code",
   "execution_count": 47,
   "id": "9082228c",
   "metadata": {},
   "outputs": [
    {
     "data": {
      "text/plain": [
       "200"
      ]
     },
     "execution_count": 47,
     "metadata": {},
     "output_type": "execute_result"
    }
   ],
   "source": [
    "res_2.status_code"
   ]
  },
  {
   "cell_type": "code",
   "execution_count": 48,
   "id": "25102e80",
   "metadata": {},
   "outputs": [
    {
     "data": {
      "text/plain": [
       "b'<a href=\"https://stepic.org/media/attachments/lesson/24472/sample2.html\">2</a>\\n'"
      ]
     },
     "execution_count": 48,
     "metadata": {},
     "output_type": "execute_result"
    }
   ],
   "source": [
    "res_2.content"
   ]
  },
  {
   "cell_type": "code",
   "execution_count": null,
   "id": "ec9d85ba",
   "metadata": {},
   "outputs": [],
   "source": [
    "res_2.content"
   ]
  },
  {
   "cell_type": "code",
   "execution_count": null,
   "id": "4ac682d0",
   "metadata": {},
   "outputs": [],
   "source": []
  },
  {
   "cell_type": "code",
   "execution_count": null,
   "id": "b6e1f9e7",
   "metadata": {},
   "outputs": [],
   "source": []
  },
  {
   "cell_type": "code",
   "execution_count": 49,
   "id": "a80addef",
   "metadata": {},
   "outputs": [],
   "source": [
    "result = str(res_2.content)[11:-10].replace('stepic', 'stepik')"
   ]
  },
  {
   "cell_type": "code",
   "execution_count": 51,
   "id": "8596233a",
   "metadata": {},
   "outputs": [
    {
     "data": {
      "text/plain": [
       "True"
      ]
     },
     "execution_count": 51,
     "metadata": {},
     "output_type": "execute_result"
    }
   ],
   "source": [
    "result == 'https://stepik.org/media/attachments/lesson/24472/sample2.html'"
   ]
  },
  {
   "cell_type": "code",
   "execution_count": null,
   "id": "1b551547",
   "metadata": {},
   "outputs": [],
   "source": []
  },
  {
   "cell_type": "code",
   "execution_count": null,
   "id": "6fc67c62",
   "metadata": {},
   "outputs": [],
   "source": [
    "link_1 = input()\n",
    "link_2 = input()"
   ]
  },
  {
   "cell_type": "code",
   "execution_count": 114,
   "id": "e2d3d801",
   "metadata": {},
   "outputs": [],
   "source": [
    "link_1 = 'https://stepik.org/media/attachments/lesson/24472/sample0.html'\n",
    "link_2 = 'https://stepik.org/media/attachments/lesson/24472/sample2.html'"
   ]
  },
  {
   "cell_type": "code",
   "execution_count": 116,
   "id": "154123ea",
   "metadata": {},
   "outputs": [],
   "source": [
    "link_1 = 'https://stepik.org/media/attachments/lesson/24472/sample1.html'\n",
    "link_2 = 'https://stepik.org/media/attachments/lesson/24472/sample2.html'"
   ]
  },
  {
   "cell_type": "code",
   "execution_count": 118,
   "id": "25f36cc0",
   "metadata": {},
   "outputs": [],
   "source": [
    "link_1 = 'https://stepik.org/media/attachments/lesson/24472/sample0.html'\n",
    "link_2 = 'https://stepik.org/media/attachments/lesson/24472/sample1.html'"
   ]
  },
  {
   "cell_type": "code",
   "execution_count": 66,
   "id": "ffc96908",
   "metadata": {},
   "outputs": [
    {
     "name": "stdout",
     "output_type": "stream",
     "text": [
      "https://stepik.org/media/attachments/lesson/24472/sample0.html\n",
      "No\n"
     ]
    }
   ],
   "source": [
    "# Проходит 9 тестов из 18:\n",
    "# link_1 = input()\n",
    "# link_2 = input()\n",
    "\n",
    "res_1 = requests.get(link_1)\n",
    "if res_1.status_code == 200:\n",
    "    \n",
    "    new_link = str(res_1.content)[11:-10].replace('stepic', 'stepik')\n",
    "    \n",
    "    res_2 = requests.get(new_link)\n",
    "    if res_2.status_code == 200:\n",
    "        result = str(res_2.content)[11:-10].replace('stepic', 'stepik')\n",
    "        if result == link_2:\n",
    "            print('Yes')\n",
    "        else:\n",
    "            print('No')\n",
    "            \n",
    "    else:\n",
    "        print('No')\n",
    "        \n",
    "else:\n",
    "    print('No')"
   ]
  },
  {
   "cell_type": "code",
   "execution_count": null,
   "id": "7b11312b",
   "metadata": {},
   "outputs": [],
   "source": []
  },
  {
   "cell_type": "code",
   "execution_count": null,
   "id": "5d323175",
   "metadata": {},
   "outputs": [],
   "source": []
  },
  {
   "cell_type": "code",
   "execution_count": 169,
   "id": "46c95cda",
   "metadata": {},
   "outputs": [],
   "source": [
    "link_1 = 'https://stepik.org/media/attachments/lesson/24472/sample0.html'\n",
    "link_2 = 'https://stepik.org/media/attachments/lesson/24472/sample2.html'"
   ]
  },
  {
   "cell_type": "code",
   "execution_count": 214,
   "id": "a305b9db",
   "metadata": {},
   "outputs": [],
   "source": [
    "import re\n",
    "# link_1 = input()\n",
    "# link_2 = input()\n",
    "lst = []\n",
    "res_1 = requests.get(link_1)\n",
    "if res_1.status_code == 200:    \n",
    "    lst += (re.findall('https://.*.html', str(res_2.content)))             "
   ]
  },
  {
   "cell_type": "code",
   "execution_count": 215,
   "id": "abc1a60d",
   "metadata": {},
   "outputs": [
    {
     "data": {
      "text/plain": [
       "['https://stepic.org/media/attachments/lesson/24472/sample2.html']"
      ]
     },
     "execution_count": 215,
     "metadata": {},
     "output_type": "execute_result"
    }
   ],
   "source": [
    "lst"
   ]
  },
  {
   "cell_type": "code",
   "execution_count": null,
   "id": "c74fe177",
   "metadata": {},
   "outputs": [],
   "source": []
  },
  {
   "cell_type": "code",
   "execution_count": 188,
   "id": "c13f352a",
   "metadata": {},
   "outputs": [
    {
     "name": "stdout",
     "output_type": "stream",
     "text": [
      "https://stepic.org/media/attachments/lesson/24472/sample2.html\n",
      "https://stepik.org/media/attachments/lesson/24472/sample2.html\n"
     ]
    }
   ],
   "source": [
    "for i in lst:\n",
    "    print(i)\n",
    "    i = str(i).replace('stepic', 'stepik')\n",
    "    print(i)\n",
    "        "
   ]
  },
  {
   "cell_type": "code",
   "execution_count": 194,
   "id": "a2aa9e5a",
   "metadata": {},
   "outputs": [
    {
     "data": {
      "text/plain": [
       "['https://stepic.org/media/attachments/lesson/24472/sample2.html']"
      ]
     },
     "execution_count": 194,
     "metadata": {},
     "output_type": "execute_result"
    }
   ],
   "source": [
    "lst"
   ]
  },
  {
   "cell_type": "code",
   "execution_count": null,
   "id": "c118deaa",
   "metadata": {},
   "outputs": [],
   "source": []
  },
  {
   "cell_type": "code",
   "execution_count": null,
   "id": "c6308500",
   "metadata": {},
   "outputs": [],
   "source": [
    "# 9 из 18 при помощи слайсинга"
   ]
  },
  {
   "cell_type": "code",
   "execution_count": 134,
   "id": "399b8786",
   "metadata": {},
   "outputs": [],
   "source": [
    "link_1 = 'https://stepik.org/media/attachments/lesson/24472/sample2.html'"
   ]
  },
  {
   "cell_type": "code",
   "execution_count": 135,
   "id": "dc7df5af",
   "metadata": {},
   "outputs": [],
   "source": [
    "res_1 = requests.get(link_1)"
   ]
  },
  {
   "cell_type": "code",
   "execution_count": 136,
   "id": "436504c6",
   "metadata": {},
   "outputs": [
    {
     "data": {
      "text/plain": [
       "200"
      ]
     },
     "execution_count": 136,
     "metadata": {},
     "output_type": "execute_result"
    }
   ],
   "source": [
    "res_1.status_code"
   ]
  },
  {
   "cell_type": "code",
   "execution_count": 137,
   "id": "7fc476fb",
   "metadata": {},
   "outputs": [
    {
     "data": {
      "text/plain": [
       "b'<a href=\"https://stepic.org/media/attachments/lesson/24472/sample2.html\">2</a>\\n'"
      ]
     },
     "execution_count": 137,
     "metadata": {},
     "output_type": "execute_result"
    }
   ],
   "source": [
    "res_1.content"
   ]
  },
  {
   "cell_type": "code",
   "execution_count": 138,
   "id": "24f04724",
   "metadata": {},
   "outputs": [],
   "source": [
    "s_1 = str(res_1.content)\n",
    "start_1 = s_1.find('https')\n",
    "end_1 = s_1.find('html')"
   ]
  },
  {
   "cell_type": "code",
   "execution_count": 139,
   "id": "4981ce29",
   "metadata": {},
   "outputs": [],
   "source": [
    "new_link = str(res_1.content)[start_1:end_1+4].replace('stepic', 'stepik')"
   ]
  },
  {
   "cell_type": "code",
   "execution_count": 140,
   "id": "a7263a02",
   "metadata": {},
   "outputs": [
    {
     "data": {
      "text/plain": [
       "'https://stepik.org/media/attachments/lesson/24472/sample2.html'"
      ]
     },
     "execution_count": 140,
     "metadata": {},
     "output_type": "execute_result"
    }
   ],
   "source": [
    "new_link"
   ]
  },
  {
   "cell_type": "code",
   "execution_count": null,
   "id": "7d1c5c6a",
   "metadata": {},
   "outputs": [],
   "source": []
  },
  {
   "cell_type": "code",
   "execution_count": 141,
   "id": "be845992",
   "metadata": {},
   "outputs": [],
   "source": [
    "link_1 = 'https://stepik.org/media/attachments/lesson/24472/sample2.html'"
   ]
  },
  {
   "cell_type": "code",
   "execution_count": 142,
   "id": "118f2296",
   "metadata": {},
   "outputs": [],
   "source": [
    "res_1 = requests.get(link_1)"
   ]
  },
  {
   "cell_type": "code",
   "execution_count": 145,
   "id": "72a855db",
   "metadata": {},
   "outputs": [
    {
     "data": {
      "text/plain": [
       "200"
      ]
     },
     "execution_count": 145,
     "metadata": {},
     "output_type": "execute_result"
    }
   ],
   "source": [
    "res_1.status_code"
   ]
  },
  {
   "cell_type": "code",
   "execution_count": 146,
   "id": "4ed3a54a",
   "metadata": {},
   "outputs": [
    {
     "data": {
      "text/plain": [
       "b'<a href=\"https://stepic.org/media/attachments/lesson/24472/sample2.html\">2</a>\\n'"
      ]
     },
     "execution_count": 146,
     "metadata": {},
     "output_type": "execute_result"
    }
   ],
   "source": [
    "res_1.content"
   ]
  },
  {
   "cell_type": "code",
   "execution_count": 150,
   "id": "53278046",
   "metadata": {},
   "outputs": [
    {
     "name": "stdout",
     "output_type": "stream",
     "text": [
      "b'<a href=\"https://stepic.org/media/attachments/lesson/24472/sample2.html\">2</a>\n",
      "'\n"
     ]
    }
   ],
   "source": [
    "for i in str(res_1.content).split('\\\\n'):\n",
    "    print(i)"
   ]
  },
  {
   "cell_type": "code",
   "execution_count": null,
   "id": "851f9da8",
   "metadata": {},
   "outputs": [],
   "source": []
  },
  {
   "cell_type": "code",
   "execution_count": null,
   "id": "b7a23fc2",
   "metadata": {},
   "outputs": [],
   "source": []
  },
  {
   "cell_type": "code",
   "execution_count": null,
   "id": "d185c923",
   "metadata": {},
   "outputs": [],
   "source": []
  },
  {
   "cell_type": "code",
   "execution_count": null,
   "id": "1e93110f",
   "metadata": {},
   "outputs": [],
   "source": []
  },
  {
   "cell_type": "code",
   "execution_count": null,
   "id": "52bbdede",
   "metadata": {},
   "outputs": [],
   "source": []
  },
  {
   "cell_type": "code",
   "execution_count": null,
   "id": "6b4bf181",
   "metadata": {},
   "outputs": [],
   "source": []
  },
  {
   "cell_type": "code",
   "execution_count": null,
   "id": "1b603193",
   "metadata": {},
   "outputs": [],
   "source": []
  },
  {
   "cell_type": "code",
   "execution_count": null,
   "id": "5b452889",
   "metadata": {},
   "outputs": [],
   "source": []
  },
  {
   "cell_type": "code",
   "execution_count": null,
   "id": "4ed8b1c1",
   "metadata": {},
   "outputs": [],
   "source": []
  },
  {
   "cell_type": "code",
   "execution_count": null,
   "id": "e1524167",
   "metadata": {},
   "outputs": [],
   "source": []
  },
  {
   "cell_type": "code",
   "execution_count": null,
   "id": "16605c38",
   "metadata": {},
   "outputs": [],
   "source": []
  },
  {
   "cell_type": "code",
   "execution_count": null,
   "id": "79c45282",
   "metadata": {},
   "outputs": [],
   "source": []
  },
  {
   "cell_type": "code",
   "execution_count": null,
   "id": "26d43149",
   "metadata": {},
   "outputs": [],
   "source": []
  },
  {
   "cell_type": "code",
   "execution_count": null,
   "id": "5c208c78",
   "metadata": {},
   "outputs": [],
   "source": []
  },
  {
   "cell_type": "code",
   "execution_count": null,
   "id": "decf113e",
   "metadata": {},
   "outputs": [],
   "source": []
  }
 ],
 "metadata": {
  "kernelspec": {
   "display_name": "Python 3 (ipykernel)",
   "language": "python",
   "name": "python3"
  },
  "language_info": {
   "codemirror_mode": {
    "name": "ipython",
    "version": 3
   },
   "file_extension": ".py",
   "mimetype": "text/x-python",
   "name": "python",
   "nbconvert_exporter": "python",
   "pygments_lexer": "ipython3",
   "version": "3.10.0"
  }
 },
 "nbformat": 4,
 "nbformat_minor": 5
}
