{
 "cells": [
  {
   "cell_type": "markdown",
   "id": "71686cc5",
   "metadata": {},
   "source": [
    "# 2.3 Итераторы и генераторы"
   ]
  },
  {
   "cell_type": "markdown",
   "id": "5b3fc136",
   "metadata": {},
   "source": [
    "## Пример1"
   ]
  },
  {
   "cell_type": "code",
   "execution_count": 561,
   "id": "f2aa94ce",
   "metadata": {},
   "outputs": [],
   "source": [
    "lst = [1,2,3,4,5]"
   ]
  },
  {
   "cell_type": "code",
   "execution_count": 562,
   "id": "6042b4b7",
   "metadata": {},
   "outputs": [],
   "source": [
    "iterator = iter(lst)"
   ]
  },
  {
   "cell_type": "code",
   "execution_count": 563,
   "id": "2517048b",
   "metadata": {},
   "outputs": [
    {
     "data": {
      "text/plain": [
       "1"
      ]
     },
     "execution_count": 563,
     "metadata": {},
     "output_type": "execute_result"
    }
   ],
   "source": [
    "next(iterator)"
   ]
  },
  {
   "cell_type": "code",
   "execution_count": 564,
   "id": "b639bb88",
   "metadata": {},
   "outputs": [
    {
     "data": {
      "text/plain": [
       "2"
      ]
     },
     "execution_count": 564,
     "metadata": {},
     "output_type": "execute_result"
    }
   ],
   "source": [
    "next(iterator)"
   ]
  },
  {
   "cell_type": "markdown",
   "id": "6462477d",
   "metadata": {},
   "source": [
    "## Пример2"
   ]
  },
  {
   "cell_type": "code",
   "execution_count": 11,
   "id": "d4e55fe7",
   "metadata": {},
   "outputs": [
    {
     "name": "stdout",
     "output_type": "stream",
     "text": [
      "1\n",
      "2\n",
      "3\n",
      "4\n",
      "5\n"
     ]
    }
   ],
   "source": [
    "it = iter(lst)\n",
    "\n",
    "while True:\n",
    "    try:\n",
    "        n = next(it)\n",
    "        print(n)\n",
    "    except StopIteration:\n",
    "        break\n",
    "    "
   ]
  },
  {
   "cell_type": "markdown",
   "id": "6eae51fb",
   "metadata": {},
   "source": [
    "## Пример3"
   ]
  },
  {
   "cell_type": "code",
   "execution_count": 73,
   "id": "987c7b67",
   "metadata": {},
   "outputs": [],
   "source": [
    "from random import random\n",
    "\n",
    "\n",
    "class RandomIteratior:\n",
    "#     # для того, чтобы задать итератор необходимо определить метод __next__\n",
    "#     def __next__(self):\n",
    "#         return random()\n",
    "    \n",
    "    # верхняя часть работает и так, но для ограничения действия создадим конструктор класса:\n",
    "    def __init__(self, k):\n",
    "        self.k = k\n",
    "        self.i = 0\n",
    "        \n",
    "    def __next__(self):\n",
    "        if self.i < self.k:\n",
    "            self.i += 1\n",
    "            \n",
    "            return random()\n",
    "        else:\n",
    "            raise StopIteration\n",
    "            \n",
    "    # чтобы класс стал итерабельным надо задать метод iter:\n",
    "    def __iter__(self):\n",
    "        return self\n",
    "    \n",
    "        "
   ]
  },
  {
   "cell_type": "code",
   "execution_count": 80,
   "id": "62c08b13",
   "metadata": {},
   "outputs": [],
   "source": [
    "r = RandomIteratior(3)"
   ]
  },
  {
   "cell_type": "code",
   "execution_count": 75,
   "id": "2e0fc5e5",
   "metadata": {},
   "outputs": [
    {
     "name": "stdout",
     "output_type": "stream",
     "text": [
      "0.7533674179138812\n",
      "0.8635249188461777\n",
      "0.9929011650181465\n"
     ]
    },
    {
     "ename": "StopIteration",
     "evalue": "",
     "output_type": "error",
     "traceback": [
      "\u001b[1;31m---------------------------------------------------------------------------\u001b[0m",
      "\u001b[1;31mStopIteration\u001b[0m                             Traceback (most recent call last)",
      "Cell \u001b[1;32mIn[75], line 5\u001b[0m\n\u001b[0;32m      2\u001b[0m \u001b[38;5;28mprint\u001b[39m(\u001b[38;5;28mnext\u001b[39m(r))\n\u001b[0;32m      3\u001b[0m \u001b[38;5;28mprint\u001b[39m(\u001b[38;5;28mnext\u001b[39m(r))\n\u001b[1;32m----> 5\u001b[0m \u001b[38;5;28mprint\u001b[39m(\u001b[38;5;28;43mnext\u001b[39;49m\u001b[43m(\u001b[49m\u001b[43mr\u001b[49m\u001b[43m)\u001b[49m)\n",
      "Cell \u001b[1;32mIn[73], line 20\u001b[0m, in \u001b[0;36mRandomIteratior.__next__\u001b[1;34m(self)\u001b[0m\n\u001b[0;32m     18\u001b[0m     \u001b[38;5;28;01mreturn\u001b[39;00m random()\n\u001b[0;32m     19\u001b[0m \u001b[38;5;28;01melse\u001b[39;00m:\n\u001b[1;32m---> 20\u001b[0m     \u001b[38;5;28;01mraise\u001b[39;00m \u001b[38;5;167;01mStopIteration\u001b[39;00m\n",
      "\u001b[1;31mStopIteration\u001b[0m: "
     ]
    }
   ],
   "source": [
    "print(next(r))\n",
    "print(next(r))\n",
    "print(next(r))\n",
    "\n",
    "print(next(r))"
   ]
  },
  {
   "cell_type": "code",
   "execution_count": 82,
   "id": "a24ffe00",
   "metadata": {},
   "outputs": [
    {
     "name": "stdout",
     "output_type": "stream",
     "text": [
      "0.646453129797137\n",
      "0.33765446879732297\n",
      "0.45661792945471524\n",
      "0.8796435962953034\n",
      "0.9348097823186063\n",
      "0.6271683098110631\n",
      "0.36409005177634346\n",
      "0.5981204371122207\n",
      "0.6098171947412936\n",
      "0.41857166987439065\n"
     ]
    }
   ],
   "source": [
    "# Когда задан метод iter - можно перебирать экземпляр класса в цикле:\n",
    "for x in RandomIteratior(10):\n",
    "    print(x)"
   ]
  },
  {
   "cell_type": "markdown",
   "id": "082d210d",
   "metadata": {},
   "source": [
    "## Пример4"
   ]
  },
  {
   "cell_type": "code",
   "execution_count": 1060,
   "id": "27a79c2b",
   "metadata": {},
   "outputs": [],
   "source": [
    "class Duble:\n",
    "    \n",
    "    def __init__(self, lst):\n",
    "        self.lst = lst\n",
    "        self.i = 0\n",
    "        \n",
    "    def __next__(self):\n",
    "        if self.i < len(self.lst):\n",
    "            self.i += 2\n",
    "            return self.lst[self.i - 2], self.lst[self.i - 1]\n",
    "        else:\n",
    "            raise StopIteration\n",
    "            \n",
    "    def __iter__(self):\n",
    "        return self"
   ]
  },
  {
   "cell_type": "code",
   "execution_count": 1061,
   "id": "223d2dc2",
   "metadata": {},
   "outputs": [],
   "source": [
    "d = Duble([1,2,3,4,5,6])"
   ]
  },
  {
   "cell_type": "code",
   "execution_count": 1062,
   "id": "41ce7cb1",
   "metadata": {},
   "outputs": [
    {
     "name": "stdout",
     "output_type": "stream",
     "text": [
      "(1, 2)\n",
      "(3, 4)\n",
      "(5, 6)\n"
     ]
    }
   ],
   "source": [
    "for i in d:\n",
    "    print(i)"
   ]
  },
  {
   "cell_type": "code",
   "execution_count": null,
   "id": "ada560ba",
   "metadata": {},
   "outputs": [],
   "source": []
  },
  {
   "cell_type": "code",
   "execution_count": 157,
   "id": "eccbf89b",
   "metadata": {},
   "outputs": [
    {
     "name": "stdout",
     "output_type": "stream",
     "text": [
      "(1, 2)\n",
      "(3, 4)\n",
      "(5, 6)\n"
     ]
    }
   ],
   "source": [
    "print(next(d))\n",
    "print(next(d))\n",
    "print(next(d))"
   ]
  },
  {
   "cell_type": "code",
   "execution_count": 159,
   "id": "4c5750a4",
   "metadata": {},
   "outputs": [
    {
     "name": "stdout",
     "output_type": "stream",
     "text": [
      "(1, 2)\n",
      "(3, 4)\n",
      "(5, 6)\n"
     ]
    }
   ],
   "source": [
    "for i in Duble([1,2,3,4,5,6]):\n",
    "    print(i)"
   ]
  },
  {
   "cell_type": "code",
   "execution_count": 169,
   "id": "0d72244f",
   "metadata": {},
   "outputs": [],
   "source": [
    "class MyList(list):\n",
    "\n",
    "    # если не задавать специально метод iter, то MyList будет работать как обычный list:\n",
    "    pass\n",
    "\n",
    "    # а если метод iter задать, то он работает по next от Duble:\n",
    "#     def __iter__(self):\n",
    "#         return Duble(self)\n"
   ]
  },
  {
   "cell_type": "code",
   "execution_count": 170,
   "id": "4f0da53a",
   "metadata": {},
   "outputs": [
    {
     "name": "stdout",
     "output_type": "stream",
     "text": [
      "1\n",
      "2\n",
      "3\n",
      "4\n"
     ]
    }
   ],
   "source": [
    "for i in MyList([1,2,3,4]):\n",
    "    print(i)"
   ]
  },
  {
   "cell_type": "code",
   "execution_count": null,
   "id": "cd789e02",
   "metadata": {},
   "outputs": [],
   "source": []
  },
  {
   "cell_type": "markdown",
   "id": "1587089a",
   "metadata": {},
   "source": [
    "# Пример4,5"
   ]
  },
  {
   "cell_type": "code",
   "execution_count": null,
   "id": "99e94084",
   "metadata": {},
   "outputs": [],
   "source": [
    "# Например, создайте простейший итератор - класс MyIterator, который\n",
    "# возвращает элементы переданного ему итерируемого объекта (iterable), \n",
    "# и никакой логики внутри (по честному будет сказать, что в этом примере итератор \n",
    "# ждет не просто итерируемый объект, а список, потому что \n",
    "# в next он использует доступ к элементам по индексу):"
   ]
  },
  {
   "cell_type": "code",
   "execution_count": 1072,
   "id": "c0e26605",
   "metadata": {},
   "outputs": [],
   "source": [
    "class MyIterator:\n",
    "    \n",
    "    def __init__(self, iterable):\n",
    "        self.iterable = iterable\n",
    "        self.i = -1\n",
    "        \n",
    "    def __iter__(self):\n",
    "        return self\n",
    "\n",
    "    def __next__(self):\n",
    "        self.i += 1\n",
    "        if self.i < len(self.iterable):\n",
    "            return self.iterable[self.i] *10\n",
    "        \n",
    "        else:\n",
    "            raise StopIteration      "
   ]
  },
  {
   "cell_type": "code",
   "execution_count": 1073,
   "id": "9cb083b6",
   "metadata": {},
   "outputs": [],
   "source": [
    "mm = MyIterator([1,2,3,4,5,6])"
   ]
  },
  {
   "cell_type": "code",
   "execution_count": 1074,
   "id": "67bc07dd",
   "metadata": {},
   "outputs": [
    {
     "name": "stdout",
     "output_type": "stream",
     "text": [
      "10\n",
      "20\n",
      "30\n",
      "40\n",
      "50\n",
      "60\n"
     ]
    }
   ],
   "source": [
    "for i in mm:\n",
    "    print(i)"
   ]
  },
  {
   "cell_type": "code",
   "execution_count": 1,
   "id": "aa251722",
   "metadata": {},
   "outputs": [],
   "source": [
    "class MyIterator:\n",
    "    \n",
    "    def __init__(self, iterable, func):\n",
    "        self.iterable = iterable\n",
    "        self.i = -1\n",
    "        \n",
    "        self.func = func\n",
    "        \n",
    "    def __iter__(self):\n",
    "        return self\n",
    "\n",
    "    def __next__(self):\n",
    "        self.i += 1\n",
    "        if self.i < len(self.iterable):\n",
    "            return self.func(self.iterable[self.i])\n",
    "        \n",
    "        else:\n",
    "            raise StopIteration"
   ]
  },
  {
   "cell_type": "code",
   "execution_count": 2,
   "id": "b9d24372",
   "metadata": {},
   "outputs": [],
   "source": [
    "mm = MyIterator([1,2,3,4,5,6], lambda x: x*100)"
   ]
  },
  {
   "cell_type": "code",
   "execution_count": 3,
   "id": "67fd603b",
   "metadata": {},
   "outputs": [
    {
     "name": "stdout",
     "output_type": "stream",
     "text": [
      "100\n",
      "200\n",
      "300\n",
      "400\n",
      "500\n",
      "600\n"
     ]
    }
   ],
   "source": [
    "for i in mm:\n",
    "    print(i)"
   ]
  },
  {
   "cell_type": "code",
   "execution_count": null,
   "id": "d677310d",
   "metadata": {},
   "outputs": [],
   "source": []
  },
  {
   "cell_type": "markdown",
   "id": "cac9f68f",
   "metadata": {},
   "source": [
    "## Пример5"
   ]
  },
  {
   "cell_type": "code",
   "execution_count": 1158,
   "id": "a35045b6",
   "metadata": {},
   "outputs": [],
   "source": [
    "f = filter(lambda p : p%2 != 0, [1,2,3,4,5])"
   ]
  },
  {
   "cell_type": "code",
   "execution_count": 1159,
   "id": "d73edb78",
   "metadata": {},
   "outputs": [
    {
     "data": {
      "text/plain": [
       "[1, 3, 5]"
      ]
     },
     "execution_count": 1159,
     "metadata": {},
     "output_type": "execute_result"
    }
   ],
   "source": [
    "list(f)"
   ]
  },
  {
   "cell_type": "code",
   "execution_count": null,
   "id": "4d458b27",
   "metadata": {},
   "outputs": [],
   "source": []
  },
  {
   "cell_type": "code",
   "execution_count": 1160,
   "id": "82c50da1",
   "metadata": {},
   "outputs": [],
   "source": [
    "def func_1(lst):\n",
    "    return lst % 2 == 0  "
   ]
  },
  {
   "cell_type": "code",
   "execution_count": 1161,
   "id": "11173747",
   "metadata": {},
   "outputs": [
    {
     "data": {
      "text/plain": [
       "[2, 4, 6, 8]"
      ]
     },
     "execution_count": 1161,
     "metadata": {},
     "output_type": "execute_result"
    }
   ],
   "source": [
    "list(filter(func_1, [1,2,3,4,5,6,7,8]))"
   ]
  },
  {
   "cell_type": "code",
   "execution_count": null,
   "id": "46c729b5",
   "metadata": {},
   "outputs": [],
   "source": []
  },
  {
   "cell_type": "code",
   "execution_count": 1162,
   "id": "9edbb530",
   "metadata": {},
   "outputs": [],
   "source": [
    "def func_2(lst):\n",
    "    return lst%3 == 0"
   ]
  },
  {
   "cell_type": "code",
   "execution_count": 1163,
   "id": "5da59e84",
   "metadata": {},
   "outputs": [
    {
     "data": {
      "text/plain": [
       "[3, 6]"
      ]
     },
     "execution_count": 1163,
     "metadata": {},
     "output_type": "execute_result"
    }
   ],
   "source": [
    "list(filter(func_2, [1,2,3,4,5,6,7,8]))"
   ]
  },
  {
   "cell_type": "code",
   "execution_count": null,
   "id": "41f64b5d",
   "metadata": {},
   "outputs": [],
   "source": []
  },
  {
   "cell_type": "code",
   "execution_count": 1197,
   "id": "dbae489a",
   "metadata": {},
   "outputs": [],
   "source": [
    "# Мультифильтр с одной функцией заработал!\n",
    "class Multifilter(filter):\n",
    "    \n",
    "    def __init__(self, func, lst):\n",
    "        self.func = func\n",
    "        self.lst = lst\n",
    "        self.i = -1\n",
    "\n",
    "    \n",
    "    def __iter__(self):\n",
    "        return self\n",
    "    \n",
    "    def __next__(self):\n",
    "        self.lst = list(filter(self.func, self.lst))\n",
    "        if self.i < len(self.lst)-1:       \n",
    "        \n",
    "            self.i += 1\n",
    "            return self.lst[self.i]\n",
    "\n",
    "        else:\n",
    "            raise StopIteration"
   ]
  },
  {
   "cell_type": "code",
   "execution_count": null,
   "id": "7d6082c0",
   "metadata": {},
   "outputs": [],
   "source": [
    "f = Multifilter(func_1, [1,2,3,4,5,6])"
   ]
  },
  {
   "cell_type": "code",
   "execution_count": null,
   "id": "447374f2",
   "metadata": {},
   "outputs": [],
   "source": [
    "for i in f:\n",
    "    print(i)"
   ]
  },
  {
   "cell_type": "code",
   "execution_count": null,
   "id": "8269a252",
   "metadata": {},
   "outputs": [],
   "source": []
  },
  {
   "cell_type": "code",
   "execution_count": null,
   "id": "9f407b4b",
   "metadata": {},
   "outputs": [],
   "source": []
  },
  {
   "cell_type": "code",
   "execution_count": 1232,
   "id": "90a1897e",
   "metadata": {},
   "outputs": [],
   "source": [
    "# пример использвования *args и назначения self.args = args -> (func_1, func_2)\n",
    "class Example():\n",
    "    \n",
    "    def __init__(self, *args):\n",
    "        self.args = args"
   ]
  },
  {
   "cell_type": "code",
   "execution_count": 1236,
   "id": "731a473e",
   "metadata": {},
   "outputs": [],
   "source": [
    "e = Example(func_1, func_2)"
   ]
  },
  {
   "cell_type": "code",
   "execution_count": 1237,
   "id": "96f65878",
   "metadata": {},
   "outputs": [
    {
     "data": {
      "text/plain": [
       "(<function __main__.func_1(lst)>, <function __main__.func_2(lst)>)"
      ]
     },
     "execution_count": 1237,
     "metadata": {},
     "output_type": "execute_result"
    }
   ],
   "source": [
    "e.args"
   ]
  },
  {
   "cell_type": "code",
   "execution_count": null,
   "id": "c65ebfbe",
   "metadata": {},
   "outputs": [],
   "source": []
  },
  {
   "cell_type": "code",
   "execution_count": null,
   "id": "c663b2a1",
   "metadata": {},
   "outputs": [],
   "source": []
  },
  {
   "cell_type": "code",
   "execution_count": 1247,
   "id": "c855beb0",
   "metadata": {},
   "outputs": [],
   "source": [
    "# работает с любым количеством функций!\n",
    "\n",
    "class Multifilter():\n",
    "    \n",
    "    def __init__(self, lst, *funcs):\n",
    "        \n",
    "        self.lst = lst\n",
    "        self.funcs = funcs\n",
    "        self.i = -1\n",
    "        \n",
    "        \n",
    "    def __iter__(self):\n",
    "        return self\n",
    "    \n",
    "    def __next__(self):\n",
    "        \n",
    "        for func in self.funcs:\n",
    "            self.lst = list(filter(func, self.lst))       \n",
    "        \n",
    "        \n",
    "        \n",
    "        if self.i < len(self.lst)-1:       \n",
    "        \n",
    "            self.i += 1\n",
    "            return self.lst[self.i]\n",
    "\n",
    "        else:\n",
    "            raise StopIteration"
   ]
  },
  {
   "cell_type": "code",
   "execution_count": 1248,
   "id": "dd785a35",
   "metadata": {},
   "outputs": [],
   "source": [
    "f = Multifilter( [1,2,3,4,5,6], func_1, func_2)"
   ]
  },
  {
   "cell_type": "code",
   "execution_count": 1246,
   "id": "db1bd055",
   "metadata": {
    "scrolled": true
   },
   "outputs": [
    {
     "data": {
      "text/plain": [
       "[]"
      ]
     },
     "execution_count": 1246,
     "metadata": {},
     "output_type": "execute_result"
    }
   ],
   "source": [
    "list(f)"
   ]
  },
  {
   "cell_type": "code",
   "execution_count": null,
   "id": "304d06a4",
   "metadata": {},
   "outputs": [],
   "source": []
  },
  {
   "cell_type": "code",
   "execution_count": null,
   "id": "0635e180",
   "metadata": {},
   "outputs": [],
   "source": [
    "# теперь задача использовать проверяющую функцию,\n",
    "# если значение пропускается, проверяющая функция == True (+1), а иначе False (0)"
   ]
  },
  {
   "cell_type": "code",
   "execution_count": 271,
   "id": "5bb5eb6d",
   "metadata": {},
   "outputs": [],
   "source": [
    "# сделано и работает для одной функции:\n",
    "class Multifilter(filter):\n",
    "    \n",
    "    def __init__(self, func, lst):\n",
    "        self.func = func\n",
    "        self.lst = lst\n",
    "        self.i = -1\n",
    "\n",
    "        \n",
    "        self.neg = 0\n",
    "        self.pos = 0\n",
    "        \n",
    "\n",
    "    \n",
    "    def __iter__(self):\n",
    "        return self\n",
    "    \n",
    "    def __next__(self):\n",
    "    \n",
    "        while self.i < len(self.lst)-1:\n",
    "            self.i += 1\n",
    "            if self.func(self.lst[self.i]) == True:\n",
    "                self.pos += 1\n",
    "        \n",
    "                return self.lst[self.i]\n",
    "\n",
    "        \n",
    "            else:\n",
    "                self.neg += 1\n",
    "                continue\n",
    "\n",
    "\n",
    "\n",
    "        else:\n",
    "            raise StopIteration"
   ]
  },
  {
   "cell_type": "code",
   "execution_count": 272,
   "id": "f979d492",
   "metadata": {},
   "outputs": [],
   "source": [
    "f = Multifilter(lambda x: x%2 == 0, [1,2,3,4,5,6])"
   ]
  },
  {
   "cell_type": "code",
   "execution_count": 273,
   "id": "068269e5",
   "metadata": {
    "scrolled": false
   },
   "outputs": [
    {
     "name": "stdout",
     "output_type": "stream",
     "text": [
      "2\n",
      "4\n",
      "6\n"
     ]
    }
   ],
   "source": [
    "for i in f:\n",
    "    print(i)"
   ]
  },
  {
   "cell_type": "code",
   "execution_count": 274,
   "id": "0b5de8e4",
   "metadata": {},
   "outputs": [
    {
     "data": {
      "text/plain": [
       "3"
      ]
     },
     "execution_count": 274,
     "metadata": {},
     "output_type": "execute_result"
    }
   ],
   "source": [
    "f.neg"
   ]
  },
  {
   "cell_type": "code",
   "execution_count": 275,
   "id": "e838cda3",
   "metadata": {},
   "outputs": [
    {
     "data": {
      "text/plain": [
       "3"
      ]
     },
     "execution_count": 275,
     "metadata": {},
     "output_type": "execute_result"
    }
   ],
   "source": [
    "f.pos"
   ]
  },
  {
   "cell_type": "code",
   "execution_count": null,
   "id": "24b079d5",
   "metadata": {},
   "outputs": [],
   "source": []
  },
  {
   "cell_type": "code",
   "execution_count": null,
   "id": "dd664a11",
   "metadata": {},
   "outputs": [],
   "source": [
    "# Теперь то же самое нужно c допускающей функцией judge для одной функции:"
   ]
  },
  {
   "cell_type": "code",
   "execution_count": 356,
   "id": "aa2690e5",
   "metadata": {},
   "outputs": [],
   "source": [
    "# работает с допускающей функцией для одной функции!\n",
    "\n",
    "def func_1(lst):\n",
    "    return lst % 2 == 0\n",
    "\n",
    "class Multifilter(filter):\n",
    "    \n",
    "    \n",
    "    def judge_1(self, pos, neg):\n",
    "        if pos > neg:\n",
    "            return True\n",
    "        else:\n",
    "            return False\n",
    "        \n",
    "        \n",
    "    def __init__(self, func, lst, judge = judge_1):\n",
    "        self.func = func\n",
    "        self.lst = lst\n",
    "        self.i = -1\n",
    "       \n",
    "        self.neg = 0\n",
    "        self.pos = 0\n",
    "        self.judge = judge\n",
    "\n",
    "\n",
    "    \n",
    "    \n",
    "    def __iter__(self):\n",
    "        return self\n",
    "    \n",
    "    def __next__(self):\n",
    "    \n",
    "        while self.i < len(self.lst)-1:\n",
    "            self.i += 1\n",
    "            self.pos = 0\n",
    "            self.neg = 0\n",
    "            if self.func(self.lst[self.i]) == True:\n",
    "                self.pos += 1\n",
    "\n",
    "        \n",
    "            else:\n",
    "                self.neg += 1\n",
    "                \n",
    "            print(self.judge(self, self.pos, self.neg))\n",
    "            print('значения pos & neg', self.pos, self.neg)\n",
    "            print('значения self.lst[self.i]', self.lst[self.i])\n",
    "                \n",
    "            if self.judge(self, self.pos, self.neg) == True:\n",
    "                    \n",
    "                return self.lst[self.i]\n",
    "                \n",
    "            else:\n",
    "                continue             \n",
    "                \n",
    "        else:\n",
    "            raise StopIteration"
   ]
  },
  {
   "cell_type": "code",
   "execution_count": 357,
   "id": "9af54f6d",
   "metadata": {},
   "outputs": [],
   "source": [
    "f = Multifilter(func_1, [1,2,3,4,5,6])"
   ]
  },
  {
   "cell_type": "code",
   "execution_count": 358,
   "id": "e1a928c0",
   "metadata": {},
   "outputs": [
    {
     "name": "stdout",
     "output_type": "stream",
     "text": [
      "False\n",
      "значения pos & neg 0 1\n",
      "значения self.lst[self.i] 1\n",
      "True\n",
      "значения pos & neg 1 0\n",
      "значения self.lst[self.i] 2\n",
      "False\n",
      "значения pos & neg 0 1\n",
      "значения self.lst[self.i] 3\n",
      "True\n",
      "значения pos & neg 1 0\n",
      "значения self.lst[self.i] 4\n",
      "False\n",
      "значения pos & neg 0 1\n",
      "значения self.lst[self.i] 5\n",
      "True\n",
      "значения pos & neg 1 0\n",
      "значения self.lst[self.i] 6\n"
     ]
    },
    {
     "data": {
      "text/plain": [
       "[2, 4, 6]"
      ]
     },
     "execution_count": 358,
     "metadata": {},
     "output_type": "execute_result"
    }
   ],
   "source": [
    "list(f)"
   ]
  },
  {
   "cell_type": "code",
   "execution_count": 354,
   "id": "42b0da3f",
   "metadata": {},
   "outputs": [
    {
     "data": {
      "text/plain": [
       "<function __main__.Multifilter.judge_1(self, pos, neg)>"
      ]
     },
     "execution_count": 354,
     "metadata": {},
     "output_type": "execute_result"
    }
   ],
   "source": [
    "f.judge"
   ]
  },
  {
   "cell_type": "code",
   "execution_count": 355,
   "id": "c72a44ae",
   "metadata": {},
   "outputs": [
    {
     "data": {
      "text/plain": [
       "1"
      ]
     },
     "execution_count": 355,
     "metadata": {},
     "output_type": "execute_result"
    }
   ],
   "source": [
    "f.pos"
   ]
  },
  {
   "cell_type": "code",
   "execution_count": null,
   "id": "f5704103",
   "metadata": {},
   "outputs": [],
   "source": []
  },
  {
   "cell_type": "code",
   "execution_count": null,
   "id": "4df433cf",
   "metadata": {},
   "outputs": [],
   "source": [
    "# Теперь для нескольких функций"
   ]
  },
  {
   "cell_type": "code",
   "execution_count": 430,
   "id": "e42da4bd",
   "metadata": {},
   "outputs": [],
   "source": [
    "def func_1(lst):\n",
    "    return lst % 2 == 0\n",
    "\n",
    "def func_2(lst):\n",
    "    return lst % 3 == 0  \n",
    "\n",
    "class Multifilter():\n",
    "    \n",
    "    \n",
    "    def judge_1(self, pos, neg):\n",
    "        if pos >= 1:\n",
    "            return True\n",
    "        else:\n",
    "            return False\n",
    "        \n",
    "        \n",
    "    def __init__(self, lst, *funcs,   judge = judge_1):\n",
    "        \n",
    "        \n",
    "        self.lst = lst\n",
    "        self.funcs = funcs\n",
    "        self.i = -1\n",
    "       \n",
    "        self.neg = 0\n",
    "        self.pos = 0\n",
    "        self.judge = judge\n",
    "\n",
    "\n",
    "    \n",
    "    \n",
    "    def __iter__(self):\n",
    "        return self\n",
    "    \n",
    "    def __next__(self):\n",
    "    \n",
    "        while self.i < len(self.lst)-1:\n",
    "            self.i += 1\n",
    "            self.pos = 0\n",
    "            self.neg = 0\n",
    "            \n",
    "            for func in self.funcs:\n",
    "                \n",
    "                if func(self.lst[self.i]) == True:\n",
    "                    self.pos += 1\n",
    "                else:\n",
    "                    self.neg += 1\n",
    "                \n",
    "               \n",
    "            if self.judge(self, self.pos, self.neg) == True:\n",
    "                    \n",
    "                return self.lst[self.i]\n",
    "                \n",
    "            else:\n",
    "                continue             \n",
    "                \n",
    "        else:\n",
    "            raise StopIteration"
   ]
  },
  {
   "cell_type": "code",
   "execution_count": 431,
   "id": "f6bd8780",
   "metadata": {},
   "outputs": [],
   "source": [
    "f = Multifilter( [1,2,3,4,5,6], func_1, func_2)"
   ]
  },
  {
   "cell_type": "code",
   "execution_count": 432,
   "id": "5c0cfe51",
   "metadata": {
    "scrolled": true
   },
   "outputs": [
    {
     "data": {
      "text/plain": [
       "[2, 3, 4, 6]"
      ]
     },
     "execution_count": 432,
     "metadata": {},
     "output_type": "execute_result"
    }
   ],
   "source": [
    "list(f)"
   ]
  },
  {
   "cell_type": "code",
   "execution_count": 433,
   "id": "23819ff5",
   "metadata": {},
   "outputs": [
    {
     "name": "stdout",
     "output_type": "stream",
     "text": [
      "[0, 2, 3, 4, 5, 6, 8, 9, 10, 12, 14, 15, 16, 18, 20, 21, 22, 24, 25, 26, 27, 28, 30]\n"
     ]
    }
   ],
   "source": [
    "print(list(Multifilter(a, mul2, mul3, mul5))) \n",
    "# # [0, 2, 3, 4, 5, 6, 8, 9, 10, 12, 14, 15, 16, 18, 20, 21, 22, 24, 25, 26, 27, 28, 30]"
   ]
  },
  {
   "cell_type": "code",
   "execution_count": null,
   "id": "bc85a696",
   "metadata": {},
   "outputs": [],
   "source": []
  },
  {
   "cell_type": "code",
   "execution_count": null,
   "id": "b283d297",
   "metadata": {},
   "outputs": [],
   "source": [
    "# теперь для нескольких решающих функций"
   ]
  },
  {
   "cell_type": "code",
   "execution_count": 439,
   "id": "e4242e05",
   "metadata": {},
   "outputs": [],
   "source": [
    "def func_1(lst):\n",
    "    return lst % 2 == 0\n",
    "\n",
    "def func_2(lst):\n",
    "    return lst % 3 == 0  \n",
    "\n",
    "class Multifilter():       \n",
    "        \n",
    "    def judge_half(self, pos, neg):\n",
    "        # допускает элемент, если его допускает хотя бы половина фукнций (pos >= neg)\n",
    "        if pos >= neg:\n",
    "            return True\n",
    "        else:\n",
    "            return False\n",
    "\n",
    "    def judge_any(self, pos, neg):\n",
    "        # допускает элемент, если его допускает хотя бы одна функция (pos >= 1)\n",
    "        if pos >= 1:\n",
    "            return True\n",
    "        else:\n",
    "            return False\n",
    "\n",
    "    def judge_all(self, pos, neg):\n",
    "        # допускает элемент, если его допускают все функции (neg == 0)\n",
    "        if neg == 0:\n",
    "            return True\n",
    "        else:\n",
    "            return False\n",
    "       \n",
    "        \n",
    "        \n",
    "        \n",
    "        \n",
    "    def __init__(self, lst, *funcs,   judge = judge_any):\n",
    "        \n",
    "        \n",
    "        self.lst = lst\n",
    "        self.funcs = funcs\n",
    "        self.i = -1\n",
    "       \n",
    "        self.neg = 0\n",
    "        self.pos = 0\n",
    "        self.judge = judge\n",
    "\n",
    "\n",
    "    \n",
    "    \n",
    "    def __iter__(self):\n",
    "        return self\n",
    "    \n",
    "    def __next__(self):\n",
    "    \n",
    "        while self.i < len(self.lst)-1:\n",
    "            self.i += 1\n",
    "            self.pos = 0\n",
    "            self.neg = 0\n",
    "            \n",
    "            for func in self.funcs:\n",
    "                \n",
    "                if func(self.lst[self.i]) == True:\n",
    "                    self.pos += 1\n",
    "                else:\n",
    "                    self.neg += 1\n",
    "                \n",
    "               \n",
    "            if self.judge(self, self.pos, self.neg) == True:\n",
    "                    \n",
    "                return self.lst[self.i]\n",
    "                \n",
    "            else:\n",
    "                continue             \n",
    "                \n",
    "        else:\n",
    "            raise StopIteration"
   ]
  },
  {
   "cell_type": "code",
   "execution_count": 440,
   "id": "82e1ae81",
   "metadata": {},
   "outputs": [
    {
     "name": "stdout",
     "output_type": "stream",
     "text": [
      "[0, 2, 3, 4, 5, 6, 8, 9, 10, 12, 14, 15, 16, 18, 20, 21, 22, 24, 25, 26, 27, 28, 30]\n"
     ]
    }
   ],
   "source": [
    "print(list(Multifilter(a, mul2, mul3, mul5))) \n",
    "# # [0, 2, 3, 4, 5, 6, 8, 9, 10, 12, 14, 15, 16, 18, 20, 21, 22, 24, 25, 26, 27, 28, 30]"
   ]
  },
  {
   "cell_type": "code",
   "execution_count": 441,
   "id": "dce3feb4",
   "metadata": {},
   "outputs": [
    {
     "name": "stdout",
     "output_type": "stream",
     "text": [
      "[0, 6, 10, 12, 15, 18, 20, 24, 30]\n"
     ]
    }
   ],
   "source": [
    "print(list(Multifilter(a, mul2, mul3, mul5, judge=Multifilter.judge_half))) \n",
    "# # [0, 6, 10, 12, 15, 18, 20, 24, 30]"
   ]
  },
  {
   "cell_type": "code",
   "execution_count": 443,
   "id": "e2a67a13",
   "metadata": {},
   "outputs": [
    {
     "name": "stdout",
     "output_type": "stream",
     "text": [
      "[0, 30]\n"
     ]
    }
   ],
   "source": [
    "\n",
    "print(list(Multifilter(a, mul2, mul3, mul5, judge=Multifilter.judge_all))) \n",
    "# # [0, 30]"
   ]
  },
  {
   "cell_type": "markdown",
   "id": "3e4f6ff3",
   "metadata": {},
   "source": [
    "# Задача"
   ]
  },
  {
   "cell_type": "code",
   "execution_count": null,
   "id": "0cfee0ea",
   "metadata": {},
   "outputs": [],
   "source": [
    "Одним из самых часто используемых классов в Python является класс filter. \n",
    "Он принимает в конструкторе два аргумента a и f – последовательность и функцию,\n",
    "и позволяет проитерироваться только по таким элементам x из последовательности a,\n",
    "что f(x) равно True. Будем говорить, что в этом случае функция f допускает элемент x,\n",
    "а элемент x является допущенным.\n",
    "\n",
    "В данной задаче мы просим вас реализовать класс multifilter,\n",
    "который будет выполнять ту же функцию, что и стандартный класс filter,\n",
    "но будет использовать не одну функцию, а несколько.\n",
    "\n",
    "Решение о допуске элемента будет приниматься на основании того,\n",
    "сколько функций допускают этот элемент, и сколько не допускают.\n",
    "Обозначим эти количества за pos и neg.\n",
    "\n",
    "Введем понятие решающей функции – это функция, которая принимает два аргумента – количества pos и neg,\n",
    "и возвращает True, если элемент допущен, и False иначе.\n",
    "\n",
    "Рассмотрим процесс допуска подробнее на следующем примере.\n",
    "a = [1, 2, 3]\n",
    "f2(x) = x % 2 == 0 # возвращает True, если x делится на 2\n",
    "f3(x) = x % 3 == 0\n",
    "judge_any(pos, neg) = pos >= 1 # возвращает True, если хотя бы одна функция допускает элемент\n",
    "\n",
    "В этом примере мы хотим отфильтровать последовательность a \n",
    "и оставить только те элементы, которые делятся на два или на три.\n",
    "\n",
    "Функция f2 допускает только элементы, делящиеся на два, а функция f3 допускает только элементы,\n",
    "делящиеся на три. Решающая функция допускает элемент в случае, если он был допущен хотя бы одной \n",
    "из функций f2 или f3, то есть элементы, которые делятся на два или на три.\n",
    "\n",
    "Возьмем первый элемент x = 1.\n",
    "f2(x) равно False, т. е. функция f2 не допускает элемент x.\n",
    "f3(x) также равно False, т. е. функция f3 также не допускает элемент x.\n",
    "В этом случае pos = 0, так как ни одна функция не допускает x, и соответственно neg = 2.\n",
    "judge_any(0, 2) равно False, значит мы не допускаем элемент x = 1.\n",
    "\n",
    "Возьмем второй элемент x = 2.\n",
    "f2(x) равно True\n",
    "f3(x) равно False\n",
    "pos = 1, neg = 1\n",
    "judge_any(1, 1) равно True, значит мы допускаем элемент x = 2.\n",
    "\n",
    "Аналогично для третьего элемента x = 3.\n",
    "\n",
    "Таким образом, получили последовательность допущенных элементов [2, 3].\n",
    "\n",
    "\n",
    "Класс должен обладать следующей структурой:\n",
    "\n",
    "class multifilter:\n",
    "    def judge_half(pos, neg):\n",
    "        # допускает элемент, если его допускает хотя бы половина фукнций (pos >= neg)\n",
    "\n",
    "    def judge_any(pos, neg):\n",
    "        # допускает элемент, если его допускает хотя бы одна функция (pos >= 1)\n",
    "\n",
    "    def judge_all(pos, neg):\n",
    "        # допускает элемент, если его допускают все функции (neg == 0)\n",
    "\n",
    "    def __init__(self, iterable, *funcs, judge=judge_any):\n",
    "        # iterable - исходная последовательность\n",
    "        # funcs - допускающие функции\n",
    "        # judge - решающая функция\n",
    "\n",
    "    def __iter__(self):\n",
    "        # возвращает итератор по результирующей последовательности"
   ]
  },
  {
   "cell_type": "code",
   "execution_count": 412,
   "id": "675e9398",
   "metadata": {},
   "outputs": [],
   "source": [
    "# Пример использования:\n",
    "\n",
    "\n",
    "def mul2(x):\n",
    "    return x % 2 == 0\n",
    "\n",
    "def mul3(x):\n",
    "    return x % 3 == 0\n",
    "\n",
    "def mul5(x):\n",
    "    return x % 5 == 0\n",
    "\n",
    "\n",
    "a = [i for i in range(31)] # [0, 1, 2, ... , 30]\n",
    "\n",
    "# print(list(multifilter(a, mul2, mul3, mul5))) \n",
    "# # [0, 2, 3, 4, 5, 6, 8, 9, 10, 12, 14, 15, 16, 18, 20, 21, 22, 24, 25, 26, 27, 28, 30]\n",
    "\n",
    "# print(list(multifilter(a, mul2, mul3, mul5, judge=multifilter.judge_half))) \n",
    "# # [0, 6, 10, 12, 15, 18, 20, 24, 30]\n",
    "\n",
    "# print(list(multifilter(a, mul2, mul3, mul5, judge=multifilter.judge_all))) \n",
    "# # [0, 30]"
   ]
  },
  {
   "cell_type": "code",
   "execution_count": null,
   "id": "e97deac5",
   "metadata": {},
   "outputs": [],
   "source": []
  },
  {
   "cell_type": "code",
   "execution_count": 1405,
   "id": "a727a29a",
   "metadata": {},
   "outputs": [],
   "source": [
    "# Решение"
   ]
  },
  {
   "cell_type": "code",
   "execution_count": 444,
   "id": "7effd9a2",
   "metadata": {},
   "outputs": [],
   "source": [
    "class multifilter():       \n",
    "        \n",
    "    def judge_half(self, pos, neg):\n",
    "        # допускает элемент, если его допускает хотя бы половина фукнций (pos >= neg)\n",
    "        if pos >= neg:\n",
    "            return True\n",
    "        else:\n",
    "            return False\n",
    "\n",
    "    def judge_any(self, pos, neg):\n",
    "        # допускает элемент, если его допускает хотя бы одна функция (pos >= 1)\n",
    "        if pos >= 1:\n",
    "            return True\n",
    "        else:\n",
    "            return False\n",
    "\n",
    "    def judge_all(self, pos, neg):\n",
    "        # допускает элемент, если его допускают все функции (neg == 0)\n",
    "        if neg == 0:\n",
    "            return True\n",
    "        else:\n",
    "            return False\n",
    "\n",
    "    def __init__(self, lst, *funcs,   judge = judge_any):\n",
    "        \n",
    "        \n",
    "        self.lst = lst\n",
    "        self.funcs = funcs\n",
    "        self.i = -1\n",
    "       \n",
    "        self.neg = 0\n",
    "        self.pos = 0\n",
    "        self.judge = judge\n",
    "\n",
    "\n",
    "    \n",
    "    \n",
    "    def __iter__(self):\n",
    "        return self\n",
    "    \n",
    "    def __next__(self):\n",
    "    \n",
    "        while self.i < len(self.lst)-1:\n",
    "            self.i += 1\n",
    "            self.pos = 0\n",
    "            self.neg = 0\n",
    "            \n",
    "            for func in self.funcs:\n",
    "                \n",
    "                if func(self.lst[self.i]) == True:\n",
    "                    self.pos += 1\n",
    "                else:\n",
    "                    self.neg += 1\n",
    "                \n",
    "               \n",
    "            if self.judge(self, self.pos, self.neg) == True:\n",
    "                    \n",
    "                return self.lst[self.i]\n",
    "                \n",
    "            else:\n",
    "                continue             \n",
    "                \n",
    "        else:\n",
    "            raise StopIteration"
   ]
  },
  {
   "cell_type": "code",
   "execution_count": 445,
   "id": "57abf414",
   "metadata": {},
   "outputs": [
    {
     "name": "stdout",
     "output_type": "stream",
     "text": [
      "[0, 2, 3, 4, 5, 6, 8, 9, 10, 12, 14, 15, 16, 18, 20, 21, 22, 24, 25, 26, 27, 28, 30]\n",
      "[0, 6, 10, 12, 15, 18, 20, 24, 30]\n",
      "[0, 30]\n"
     ]
    }
   ],
   "source": [
    "# Пример использования:\n",
    "\n",
    "\n",
    "def mul2(x):\n",
    "    return x % 2 == 0\n",
    "\n",
    "def mul3(x):\n",
    "    return x % 3 == 0\n",
    "\n",
    "def mul5(x):\n",
    "    return x % 5 == 0\n",
    "\n",
    "\n",
    "a = [i for i in range(31)] # [0, 1, 2, ... , 30]\n",
    "\n",
    "print(list(multifilter(a, mul2, mul3, mul5))) \n",
    "# # [0, 2, 3, 4, 5, 6, 8, 9, 10, 12, 14, 15, 16, 18, 20, 21, 22, 24, 25, 26, 27, 28, 30]\n",
    "\n",
    "print(list(multifilter(a, mul2, mul3, mul5, judge=multifilter.judge_half))) \n",
    "# # [0, 6, 10, 12, 15, 18, 20, 24, 30]\n",
    "\n",
    "print(list(multifilter(a, mul2, mul3, mul5, judge=multifilter.judge_all))) \n",
    "# # [0, 30]"
   ]
  },
  {
   "cell_type": "code",
   "execution_count": null,
   "id": "69cb46a7",
   "metadata": {},
   "outputs": [],
   "source": []
  }
 ],
 "metadata": {
  "kernelspec": {
   "display_name": "Python 3 (ipykernel)",
   "language": "python",
   "name": "python3"
  },
  "language_info": {
   "codemirror_mode": {
    "name": "ipython",
    "version": 3
   },
   "file_extension": ".py",
   "mimetype": "text/x-python",
   "name": "python",
   "nbconvert_exporter": "python",
   "pygments_lexer": "ipython3",
   "version": "3.10.0"
  }
 },
 "nbformat": 4,
 "nbformat_minor": 5
}
