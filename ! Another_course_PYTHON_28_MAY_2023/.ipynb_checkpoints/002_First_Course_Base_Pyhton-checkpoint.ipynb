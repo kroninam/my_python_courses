{
 "cells": [
  {
   "cell_type": "markdown",
   "id": "5a89a927",
   "metadata": {},
   "source": [
    "# 1.5 Введение в классы"
   ]
  },
  {
   "cell_type": "markdown",
   "id": "3fc0a2be",
   "metadata": {},
   "source": [
    "# Задача №1"
   ]
  },
  {
   "cell_type": "code",
   "execution_count": null,
   "id": "ffcddc70",
   "metadata": {},
   "outputs": [],
   "source": [
    "Реализуйте класс MoneyBox, для работы с виртуальной копилкой.\n",
    "\n",
    "Каждая копилка имеет ограниченную вместимость, которая выражается целым числом – \n",
    "количеством монет, которые можно положить в копилку. \n",
    "\n",
    "Класс должен поддерживать информацию о количестве монет в копилке, предоставлять \n",
    "возможность добавлять монеты в копилку и узнавать, можно ли добавить в копилку ещё \n",
    "какое-то количество монет, не превышая ее вместимость.\n",
    "\n",
    "Класс должен иметь следующий вид\n",
    "\n",
    "class MoneyBox:\n",
    "    def __init__(self, capacity):\n",
    "        # конструктор с аргументом – вместимость копилки\n",
    "\n",
    "    def can_add(self, v):\n",
    "        # True, если можно добавить v монет, False иначе\n",
    "\n",
    "    def add(self, v):\n",
    "        # положить v монет в копилку\n",
    "        \n",
    "При создании копилки, число монет в ней равно 0.\n",
    "\n",
    "Примечание:\n",
    "Гарантируется, что метод add(self, v) будет вызываться только если can_add(self, v) – True."
   ]
  },
  {
   "cell_type": "code",
   "execution_count": 69,
   "id": "70d3823a",
   "metadata": {},
   "outputs": [],
   "source": [
    "class MoneyBox:\n",
    "    def __init__(self, capacity):\n",
    "        self.capacity = capacity\n",
    "        self.money = 0\n",
    "\n",
    "    def can_add(self, v):\n",
    "        # True, если можно добавить v монет, False иначе\n",
    "        if self.capacity - v >= 0:\n",
    "            print(self.capacity - v)\n",
    "            return True\n",
    "        return False\n",
    "\n",
    "    def add(self, v):\n",
    "        self.money += v\n",
    "        self.capacity -= self.money"
   ]
  },
  {
   "cell_type": "code",
   "execution_count": 70,
   "id": "c8a17678",
   "metadata": {},
   "outputs": [],
   "source": [
    "s = MoneyBox(10)"
   ]
  },
  {
   "cell_type": "code",
   "execution_count": 80,
   "id": "af757183",
   "metadata": {},
   "outputs": [
    {
     "name": "stdout",
     "output_type": "stream",
     "text": [
      "0\n"
     ]
    },
    {
     "data": {
      "text/plain": [
       "True"
      ]
     },
     "execution_count": 80,
     "metadata": {},
     "output_type": "execute_result"
    }
   ],
   "source": [
    "s.can_add(1)"
   ]
  },
  {
   "cell_type": "code",
   "execution_count": 81,
   "id": "6b3f7974",
   "metadata": {},
   "outputs": [],
   "source": [
    "s.add(9)"
   ]
  },
  {
   "cell_type": "code",
   "execution_count": 82,
   "id": "9cc9db1c",
   "metadata": {},
   "outputs": [
    {
     "data": {
      "text/plain": [
       "-17"
      ]
     },
     "execution_count": 82,
     "metadata": {},
     "output_type": "execute_result"
    }
   ],
   "source": [
    "s.capacity"
   ]
  },
  {
   "cell_type": "code",
   "execution_count": 78,
   "id": "a4116001",
   "metadata": {},
   "outputs": [
    {
     "data": {
      "text/plain": [
       "9"
      ]
     },
     "execution_count": 78,
     "metadata": {},
     "output_type": "execute_result"
    }
   ],
   "source": [
    "s.money"
   ]
  },
  {
   "cell_type": "code",
   "execution_count": null,
   "id": "0c1fd7f3",
   "metadata": {},
   "outputs": [],
   "source": []
  },
  {
   "cell_type": "code",
   "execution_count": 89,
   "id": "e064a13e",
   "metadata": {},
   "outputs": [],
   "source": [
    "class MoneyBox:\n",
    "    def __init__(self, capacity):\n",
    "        self.capacity = capacity\n",
    "        \n",
    "    def can_add(self, v):\n",
    "        # True, если можно добавить v монет, False иначе\n",
    "        if v >= 0 and self.capacity - v >= 0:\n",
    "            #print(self.capacity - v)\n",
    "            return True\n",
    "        return False\n",
    "\n",
    "    def add(self, v):\n",
    "        self.capacity -= v"
   ]
  },
  {
   "cell_type": "code",
   "execution_count": 90,
   "id": "04e9c1e2",
   "metadata": {},
   "outputs": [],
   "source": [
    "s = MoneyBox(10)"
   ]
  },
  {
   "cell_type": "code",
   "execution_count": 91,
   "id": "de88d6f9",
   "metadata": {},
   "outputs": [
    {
     "data": {
      "text/plain": [
       "10"
      ]
     },
     "execution_count": 91,
     "metadata": {},
     "output_type": "execute_result"
    }
   ],
   "source": [
    "s.capacity"
   ]
  },
  {
   "cell_type": "code",
   "execution_count": 92,
   "id": "d8dfa26d",
   "metadata": {},
   "outputs": [
    {
     "data": {
      "text/plain": [
       "False"
      ]
     },
     "execution_count": 92,
     "metadata": {},
     "output_type": "execute_result"
    }
   ],
   "source": [
    "s.can_add(-1)"
   ]
  },
  {
   "cell_type": "code",
   "execution_count": null,
   "id": "2145aa8b",
   "metadata": {},
   "outputs": [],
   "source": []
  },
  {
   "cell_type": "markdown",
   "id": "a14d67dc",
   "metadata": {},
   "source": [
    "# Задача №2"
   ]
  },
  {
   "cell_type": "code",
   "execution_count": 6,
   "id": "207629f5",
   "metadata": {},
   "outputs": [
    {
     "ename": "SyntaxError",
     "evalue": "invalid non-printable character U+2003 (2436957753.py, line 19)",
     "output_type": "error",
     "traceback": [
      "\u001b[1;36m  Cell \u001b[1;32mIn[6], line 19\u001b[1;36m\u001b[0m\n\u001b[1;33m    \u001b[0m\n\u001b[1;37m    ^\u001b[0m\n\u001b[1;31mSyntaxError\u001b[0m\u001b[1;31m:\u001b[0m invalid non-printable character U+2003\n"
     ]
    }
   ],
   "source": [
    "# Вам дается последовательность целых чисел и вам нужно ее обработать и вывести на экран сумму\n",
    "# первой пятерки чисел из этой последовательности, затем сумму второй пятерки, и т. д.\n",
    "\n",
    "# Но последовательность не дается вам сразу целиком. С течением времени к вам поступают \n",
    "# её последовательные части. Например, сначала первые три элемента, потом следующие шесть, \n",
    "# потом следующие два и т. д.\n",
    "\n",
    "# Реализуйте класс Buffer, который будет накапливать в себе элементы последовательности и \n",
    "# выводить сумму пятерок последовательных элементов по мере их накопления.\n",
    "\n",
    "# Одним из требований к классу является то, что он не должен хранить в себе больше элементов,\n",
    "# чем ему действительно необходимо, т. е. он не должен хранить элементы, которые уже вошли \n",
    "# в пятерку, для которой была выведена сумма.\n",
    "\n",
    "# Класс должен иметь следующий вид\n",
    "class Buffer:\n",
    "    def __init__(self):\n",
    "        # конструктор без аргументов\n",
    "    \n",
    "    def add(self, *a):\n",
    "        # добавить следующую часть последовательности\n",
    "\n",
    "    def get_current_part(self):\n",
    "        # вернуть сохраненные в текущий момент элементы последовательности в порядке, в котором они были     \n",
    "        # добавлены"
   ]
  },
  {
   "cell_type": "code",
   "execution_count": 208,
   "id": "406472ad",
   "metadata": {},
   "outputs": [],
   "source": [
    "class Buffer:\n",
    "    def __init__(self):\n",
    "        self.sum = 0\n",
    "        self.lst = []\n",
    "        \n",
    "    def add(self, *a):\n",
    "        for i in a:\n",
    "            self.lst.append(i)\n",
    "\n",
    "\n",
    "\n",
    "        if len(self.lst) >= 5:\n",
    "#             print(\"длина цикла \" , len(self.lst) // 5)\n",
    "            for i in range(len(self.lst) // 5):\n",
    "                del_lst = []\n",
    "                        \n",
    "                for j in range(5):\n",
    "#                     print(\"индекс \", j)\n",
    "#                     print(self.lst[j])\n",
    "                    del_lst.append(self.lst[j])\n",
    "#                     print(\"del_lst \", del_lst)\n",
    "                    self.sum += self.lst[j]\n",
    "                print(self.sum)\n",
    "                self.sum = 0\n",
    "                    \n",
    "                for i in del_lst:\n",
    "                    self.lst.remove(i)\n",
    "                    \n",
    "                    \n",
    "    def get_current_part(self):\n",
    "        return self.lst\n",
    "        # вернуть сохраненные в текущий момент элементы последовательности в порядке, в котором они были     \n",
    "        # добавлены\n",
    "\n"
   ]
  },
  {
   "cell_type": "code",
   "execution_count": 215,
   "id": "9ea76953",
   "metadata": {},
   "outputs": [
    {
     "name": "stdout",
     "output_type": "stream",
     "text": [
      "15\n",
      "40\n",
      "5\n",
      "5\n"
     ]
    },
    {
     "data": {
      "text/plain": [
       "[1]"
      ]
     },
     "execution_count": 215,
     "metadata": {},
     "output_type": "execute_result"
    }
   ],
   "source": [
    "buf = Buffer()\n",
    "buf.add(1, 2, 3)\n",
    "buf.get_current_part() # вернуть [1, 2, 3]\n",
    "buf.add(4, 5, 6) # print(15) – вывод суммы первой пятерки элементов\n",
    "buf.get_current_part() # вернуть [6]\n",
    "buf.add(7, 8, 9, 10) # print(40) – вывод суммы второй пятерки элементов\n",
    "buf.get_current_part() # вернуть []\n",
    "buf.add(1, 1, 1, 1, 1, 1, 1, 1, 1, 1, 1) # print(5), print(5) – вывод сумм третьей и четвертой пятерки\n",
    "buf.get_current_part() # вернуть [1]"
   ]
  },
  {
   "cell_type": "code",
   "execution_count": null,
   "id": "cb369f37",
   "metadata": {},
   "outputs": [],
   "source": []
  },
  {
   "cell_type": "code",
   "execution_count": 20,
   "id": "0ac75292",
   "metadata": {},
   "outputs": [],
   "source": [
    "# Пример с классом Song:\n",
    "    \n",
    "    \n",
    "class Song:\n",
    "    tags = []\n",
    "    \n",
    "    def __init__(self, artist, song):\n",
    "        self.artist = artist\n",
    "        self.song = song\n",
    "        \n",
    "        \n",
    "    def add_tags(self, *args):\n",
    "        self.tags.extend(args)\n"
   ]
  },
  {
   "cell_type": "code",
   "execution_count": 21,
   "id": "e0e4ea8e",
   "metadata": {},
   "outputs": [],
   "source": [
    "# Создаем s1:\n",
    "\n",
    "s1 = Song('asdf', 'asdfasdf-asdfasf-asdf')"
   ]
  },
  {
   "cell_type": "code",
   "execution_count": 22,
   "id": "4ecbb2da",
   "metadata": {},
   "outputs": [],
   "source": [
    "# Добавляем в s1 tag_1:\n",
    "\n",
    "s1.add_tags('111')"
   ]
  },
  {
   "cell_type": "code",
   "execution_count": 24,
   "id": "0fc73d88",
   "metadata": {},
   "outputs": [
    {
     "data": {
      "text/plain": [
       "['111']"
      ]
     },
     "execution_count": 24,
     "metadata": {},
     "output_type": "execute_result"
    }
   ],
   "source": [
    "s1.tags"
   ]
  },
  {
   "cell_type": "code",
   "execution_count": null,
   "id": "259a3095",
   "metadata": {},
   "outputs": [],
   "source": []
  },
  {
   "cell_type": "code",
   "execution_count": 25,
   "id": "7d24c6c9",
   "metadata": {},
   "outputs": [],
   "source": [
    "# Создаем s2:\n",
    "\n",
    "s2 = Song('ddddd', 'a-aaa-dddd')"
   ]
  },
  {
   "cell_type": "code",
   "execution_count": 26,
   "id": "14f07997",
   "metadata": {},
   "outputs": [],
   "source": [
    "# Добавляем в s2 tag_2:\n",
    "\n",
    "s1.add_tags('222')"
   ]
  },
  {
   "cell_type": "code",
   "execution_count": 27,
   "id": "9165f549",
   "metadata": {},
   "outputs": [
    {
     "data": {
      "text/plain": [
       "['111', '222']"
      ]
     },
     "execution_count": 27,
     "metadata": {},
     "output_type": "execute_result"
    }
   ],
   "source": [
    "# И в s2.tags видим, что здесь также есть и 111.\n",
    "\n",
    "# Это происходит потому, что у tags не найден в экземпляре класса - он добавляется сразу в класс\n",
    "\n",
    "s2.tags"
   ]
  },
  {
   "cell_type": "code",
   "execution_count": null,
   "id": "b1e8b92d",
   "metadata": {},
   "outputs": [],
   "source": []
  },
  {
   "cell_type": "code",
   "execution_count": 29,
   "id": "ba1285df",
   "metadata": {},
   "outputs": [],
   "source": [
    "# Чтобы этого не допустить в конструкторе класса надо явно добавлять свой индивидуальный tags для каждого экземпляра:\n",
    "    \n",
    "\n",
    "class Song:\n",
    "        \n",
    "    def __init__(self, artist, song):\n",
    "        self.artist = artist\n",
    "        self.song = song\n",
    "        self.tags = []\n",
    "        \n",
    "        \n",
    "    def add_tags(self, *args):\n",
    "        self.tags.extend(args)\n"
   ]
  },
  {
   "cell_type": "code",
   "execution_count": 30,
   "id": "86373f16",
   "metadata": {},
   "outputs": [],
   "source": [
    "s3 = Song('asdf', 'asdf-asdf-asdf')"
   ]
  },
  {
   "cell_type": "code",
   "execution_count": 31,
   "id": "5006bb3b",
   "metadata": {},
   "outputs": [],
   "source": [
    "s3.add_tags('asdf-1')"
   ]
  },
  {
   "cell_type": "code",
   "execution_count": 32,
   "id": "7d3c78fe",
   "metadata": {},
   "outputs": [
    {
     "data": {
      "text/plain": [
       "{'artist': 'asdf', 'song': 'asdf-asdf-asdf', 'tags': ['asdf-1']}"
      ]
     },
     "execution_count": 32,
     "metadata": {},
     "output_type": "execute_result"
    }
   ],
   "source": [
    "# теперь тэги ассоциированы именно с песней, а не со всем классом целиком:\n",
    "\n",
    "s3.__dict__"
   ]
  },
  {
   "cell_type": "code",
   "execution_count": null,
   "id": "a8ac2875",
   "metadata": {},
   "outputs": [],
   "source": []
  },
  {
   "cell_type": "code",
   "execution_count": 33,
   "id": "abeb83e3",
   "metadata": {},
   "outputs": [
    {
     "name": "stdout",
     "output_type": "stream",
     "text": [
      "2\n",
      "3\n",
      "3\n"
     ]
    }
   ],
   "source": [
    "class A:\n",
    "    val = 1\n",
    "\n",
    "    def foo(self):\n",
    "        A.val += 2\n",
    "\n",
    "    def bar(self):\n",
    "        self.val += 1\n",
    "\n",
    "\n",
    "a = A()\n",
    "b = A()\n",
    "\n",
    "# bar() - добавляет +1 к экземпляру - значит a.val становится 2\n",
    "a.bar()\n",
    "\n",
    "# foo () - добавляет +2 к самому классу А - значит b.val становится 3 и само А.val тоже становится 3\n",
    "a.foo()\n",
    "\n",
    "# здесь создатся новый экземлпяр, а значение val уже 3\n",
    "c = A()\n",
    "\n",
    "print(a.val)\n",
    "print(b.val)\n",
    "print(c.val)"
   ]
  },
  {
   "cell_type": "code",
   "execution_count": null,
   "id": "f6352f4e",
   "metadata": {},
   "outputs": [],
   "source": []
  },
  {
   "cell_type": "markdown",
   "id": "97d3aaa6",
   "metadata": {},
   "source": [
    "# Задача №3"
   ]
  },
  {
   "cell_type": "code",
   "execution_count": null,
   "id": "038a3fc8",
   "metadata": {},
   "outputs": [],
   "source": [
    "# Вам дано описание наследования классов в следующем формате.\n",
    "# <имя класса 1> : <имя класса 2> <имя класса 3> ... <имя класса k>\n",
    "# Это означает, что класс 1 отнаследован от класса 2, класса 3, и т. д.\n",
    "\n",
    "# Или эквивалентно записи:\n",
    "\n",
    "class Class1(Class2, Class3 ... ClassK):\n",
    "    pass\n",
    "\n",
    "\n",
    "# Класс A является прямым предком класса B, если B отнаследован от A:\n",
    "\n",
    "class B(A):\n",
    "    pass\n",
    "\n",
    "# Класс A является предком класса B, если\n",
    "# A = B;\n",
    "# A - прямой предок B\n",
    "# существует такой класс C, что C - прямой предок B и A - предок C\n",
    "\n",
    "class B(A):\n",
    "    pass\n",
    "\n",
    "class C(B):\n",
    "    pass\n",
    "\n",
    "# A -- предок С\n",
    "\n",
    "\n",
    "# Вам необходимо отвечать на запросы, является ли один класс предком другого класса\n",
    "\n",
    "# Важное примечание:\n",
    "# Создавать классы не требуется.\n",
    "# Мы просим вас промоделировать этот процесс, и понять существует ли путь от одного класса до другого.\n",
    "\n",
    "\n",
    "\n",
    "# Формат входных данных\n",
    "\n",
    "# В первой строке входных данных содержится целое число n - число классов.\n",
    "\n",
    "# В следующих n строках содержится описание наследования классов. \n",
    "# В i-й строке указано от каких классов наследуется i-й класс. \n",
    "\n",
    "# Обратите внимание, что класс может ни от кого не наследоваться.\n",
    "# Гарантируется, что класс не наследуется сам от себя (прямо или косвенно),\n",
    "# что класс не наследуется явно от одного класса более одного раза.\n",
    "\n",
    "# В следующей строке содержится число q - количество запросов.\n",
    "\n",
    "# В следующих q строках содержится описание запросов в формате <имя класса 1> <имя класса 2>.\n",
    "# Имя класса – строка, состоящая из символов латинского алфавита, длины не более 50.\n",
    "\n",
    "\n",
    "# Формат выходных данных\n",
    "\n",
    "# Для каждого запроса выведите в отдельной строке слово \"Yes\", если класс 1 является предком класса 2, и \"No\", если не является.\n",
    "\n"
   ]
  },
  {
   "cell_type": "code",
   "execution_count": null,
   "id": "d93f1e6f",
   "metadata": {},
   "outputs": [],
   "source": [
    "4\n",
    "A\n",
    "B : A\n",
    "C : A\n",
    "D : B C\n",
    "4\n",
    "A B\n",
    "B D\n",
    "C D\n",
    "D A"
   ]
  },
  {
   "cell_type": "code",
   "execution_count": null,
   "id": "4115b37e",
   "metadata": {},
   "outputs": [],
   "source": [
    "2\n",
    "\n",
    "A : C B\n",
    "\n",
    "B : D E\n",
    "\n",
    "1\n",
    "\n",
    "E A"
   ]
  },
  {
   "cell_type": "code",
   "execution_count": null,
   "id": "1f689228",
   "metadata": {},
   "outputs": [],
   "source": []
  },
  {
   "cell_type": "code",
   "execution_count": null,
   "id": "70168e0e",
   "metadata": {},
   "outputs": [],
   "source": [
    "10\n",
    "classA : classB classC classD classG classH\n",
    "classB : classC classE classG classH classK classL\n",
    "classC : classE classD classH classK classL\n",
    "classE : classD classF classK classL\n",
    "classD : classG classH\n",
    "classF : classK\n",
    "classG : classF\n",
    "classH : classL\n",
    "classK : classH classL\n",
    "classL\n",
    "38\n",
    "classK classD"
   ]
  },
  {
   "cell_type": "code",
   "execution_count": null,
   "id": "a14075ac",
   "metadata": {},
   "outputs": [],
   "source": [
    "4\n",
    "A\n",
    "Y : X A\n",
    "V : Z Y\n",
    "W : V\n",
    "1\n",
    "A W"
   ]
  },
  {
   "cell_type": "code",
   "execution_count": null,
   "id": "5c6c85bf",
   "metadata": {},
   "outputs": [],
   "source": []
  },
  {
   "cell_type": "code",
   "execution_count": 184,
   "id": "21c76772",
   "metadata": {},
   "outputs": [
    {
     "name": "stdout",
     "output_type": "stream",
     "text": [
      "4\n",
      "A\n",
      "Y : X A\n",
      "V : Z Y\n",
      "W : V\n",
      "1\n",
      "A W\n"
     ]
    }
   ],
   "source": [
    "a = []\n",
    "\n",
    "b = []\n",
    "\n",
    "n = int(input())\n",
    "\n",
    "for i in range(n):\n",
    "    a.append(input())\n",
    "#     a.append(input().split())\n",
    "#     a += input().split()\n",
    "    \n",
    "q = int(input())\n",
    "\n",
    "for i in range(q):\n",
    "    b.append(input())\n",
    "#     b.append(input().split())\n",
    "#     b += input().split()\n",
    "    "
   ]
  },
  {
   "cell_type": "code",
   "execution_count": 185,
   "id": "178f24f9",
   "metadata": {},
   "outputs": [
    {
     "data": {
      "text/plain": [
       "['A', 'Y : X A', 'V : Z Y', 'W : V']"
      ]
     },
     "execution_count": 185,
     "metadata": {},
     "output_type": "execute_result"
    }
   ],
   "source": [
    "a"
   ]
  },
  {
   "cell_type": "code",
   "execution_count": 186,
   "id": "8c60a254",
   "metadata": {},
   "outputs": [
    {
     "data": {
      "text/plain": [
       "['A W']"
      ]
     },
     "execution_count": 186,
     "metadata": {},
     "output_type": "execute_result"
    }
   ],
   "source": [
    "b"
   ]
  },
  {
   "cell_type": "code",
   "execution_count": 187,
   "id": "6bdd5013",
   "metadata": {
    "scrolled": true
   },
   "outputs": [],
   "source": [
    "\n",
    "d = {}\n",
    "for i in range(len(a)):\n",
    "    \n",
    "    if len(a[i].split()) > 1:\n",
    "        s = a[i].split()\n",
    "        s.remove(s[1])\n",
    "        if s[0] not in d:\n",
    "            d[s[0]] = s[1:]\n",
    "        else:\n",
    "            d[s[0]] += s[1:]\n",
    "            \n",
    "    if len(a[i].split()) == 1:\n",
    "        \n",
    "        if a[i] not in d:\n",
    "            d[a[i]] = []\n",
    "        else:\n",
    "            d[a[i]] += []"
   ]
  },
  {
   "cell_type": "code",
   "execution_count": 188,
   "id": "40dd3c10",
   "metadata": {},
   "outputs": [
    {
     "data": {
      "text/plain": [
       "{'A': [], 'Y': ['X', 'A'], 'V': ['Z', 'Y'], 'W': ['V']}"
      ]
     },
     "execution_count": 188,
     "metadata": {},
     "output_type": "execute_result"
    }
   ],
   "source": [
    "d"
   ]
  },
  {
   "cell_type": "code",
   "execution_count": 194,
   "id": "7e54d117",
   "metadata": {},
   "outputs": [],
   "source": [
    "dict = {}\n",
    "\n",
    "for i in d:\n",
    "    dict[i] = []\n",
    "\n",
    "for k,w in d.items():\n",
    "    \n",
    "    for g in w:\n",
    "   \n",
    "    \n",
    "        if g not in d:\n",
    "            dict[k] = [g]\n",
    " \n",
    "\n",
    "        else:           \n",
    "            dict[k] += [g]\n",
    "            for j in d[g]:\n",
    "                dict[k] += [j]    \n",
    "    "
   ]
  },
  {
   "cell_type": "code",
   "execution_count": 195,
   "id": "3924790f",
   "metadata": {},
   "outputs": [
    {
     "data": {
      "text/plain": [
       "['X', 'A']"
      ]
     },
     "execution_count": 195,
     "metadata": {},
     "output_type": "execute_result"
    }
   ],
   "source": [
    "d['Y']"
   ]
  },
  {
   "cell_type": "code",
   "execution_count": 190,
   "id": "16f9b878",
   "metadata": {},
   "outputs": [
    {
     "data": {
      "text/plain": [
       "{'A': [], 'Y': ['X', 'A'], 'V': ['Z', 'Y', 'X', 'A'], 'W': ['V', 'Z', 'Y']}"
      ]
     },
     "execution_count": 190,
     "metadata": {},
     "output_type": "execute_result"
    }
   ],
   "source": [
    "dict"
   ]
  },
  {
   "cell_type": "code",
   "execution_count": 197,
   "id": "f517b4a7",
   "metadata": {},
   "outputs": [],
   "source": [
    "for k, w in dict.items():\n",
    "    \n",
    "    for g in w:\n",
    "        if g in dict:\n",
    "            dict[k] += dict[g]"
   ]
  },
  {
   "cell_type": "code",
   "execution_count": 198,
   "id": "8270726d",
   "metadata": {},
   "outputs": [
    {
     "data": {
      "text/plain": [
       "{'A': [],\n",
       " 'Y': ['X', 'A'],\n",
       " 'V': ['Z', 'Y', 'X', 'A', 'X', 'A'],\n",
       " 'W': ['V', 'Z', 'Y', 'Z', 'Y', 'X', 'A', 'X', 'A', 'X', 'A', 'X', 'A']}"
      ]
     },
     "execution_count": 198,
     "metadata": {},
     "output_type": "execute_result"
    }
   ],
   "source": [
    "dict"
   ]
  },
  {
   "cell_type": "code",
   "execution_count": null,
   "id": "95270e21",
   "metadata": {},
   "outputs": [],
   "source": []
  },
  {
   "cell_type": "code",
   "execution_count": 191,
   "id": "7b0d27bd",
   "metadata": {},
   "outputs": [
    {
     "data": {
      "text/plain": [
       "'W'"
      ]
     },
     "execution_count": 191,
     "metadata": {},
     "output_type": "execute_result"
    }
   ],
   "source": [
    "b[0].split()[-1]"
   ]
  },
  {
   "cell_type": "code",
   "execution_count": 192,
   "id": "14a9e001",
   "metadata": {},
   "outputs": [
    {
     "name": "stdout",
     "output_type": "stream",
     "text": [
      "No\n"
     ]
    }
   ],
   "source": [
    "for i in b:\n",
    "    \n",
    "    \n",
    "    if i.split()[-1] not in dict:\n",
    "            if i.split()[0] == i.split()[-1]:\n",
    "                print('Yes')\n",
    "                \n",
    "            else:\n",
    "                print('No')\n",
    "        \n",
    "    else:\n",
    "        if i.split()[0] in dict[i.split()[-1]]:\n",
    "            print('Yes')\n",
    "            \n",
    "        elif i.split()[0] == i.split()[-1]:\n",
    "            print('Yes')            \n",
    "        \n",
    "        else:\n",
    "            print('No')     \n"
   ]
  },
  {
   "cell_type": "code",
   "execution_count": null,
   "id": "0c6fb242",
   "metadata": {},
   "outputs": [],
   "source": []
  },
  {
   "cell_type": "code",
   "execution_count": null,
   "id": "5a475a8f",
   "metadata": {},
   "outputs": [],
   "source": []
  }
 ],
 "metadata": {
  "kernelspec": {
   "display_name": "Python 3 (ipykernel)",
   "language": "python",
   "name": "python3"
  },
  "language_info": {
   "codemirror_mode": {
    "name": "ipython",
    "version": 3
   },
   "file_extension": ".py",
   "mimetype": "text/x-python",
   "name": "python",
   "nbconvert_exporter": "python",
   "pygments_lexer": "ipython3",
   "version": "3.10.0"
  }
 },
 "nbformat": 4,
 "nbformat_minor": 5
}
