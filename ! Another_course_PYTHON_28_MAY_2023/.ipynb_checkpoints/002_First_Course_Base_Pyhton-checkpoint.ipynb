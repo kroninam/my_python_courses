{
 "cells": [
  {
   "cell_type": "markdown",
   "id": "5a89a927",
   "metadata": {},
   "source": [
    "# 1.5 Введение в классы"
   ]
  },
  {
   "cell_type": "code",
   "execution_count": null,
   "id": "ffcddc70",
   "metadata": {},
   "outputs": [],
   "source": [
    "Реализуйте класс MoneyBox, для работы с виртуальной копилкой.\n",
    "\n",
    "Каждая копилка имеет ограниченную вместимость, которая выражается целым числом – \n",
    "количеством монет, которые можно положить в копилку. \n",
    "\n",
    "Класс должен поддерживать информацию о количестве монет в копилке, предоставлять \n",
    "возможность добавлять монеты в копилку и узнавать, можно ли добавить в копилку ещё \n",
    "какое-то количество монет, не превышая ее вместимость.\n",
    "\n",
    "Класс должен иметь следующий вид\n",
    "\n",
    "class MoneyBox:\n",
    "    def __init__(self, capacity):\n",
    "        # конструктор с аргументом – вместимость копилки\n",
    "\n",
    "    def can_add(self, v):\n",
    "        # True, если можно добавить v монет, False иначе\n",
    "\n",
    "    def add(self, v):\n",
    "        # положить v монет в копилку\n",
    "        \n",
    "При создании копилки, число монет в ней равно 0.\n",
    "\n",
    "Примечание:\n",
    "Гарантируется, что метод add(self, v) будет вызываться только если can_add(self, v) – True."
   ]
  },
  {
   "cell_type": "code",
   "execution_count": 69,
   "id": "70d3823a",
   "metadata": {},
   "outputs": [],
   "source": [
    "class MoneyBox:\n",
    "    def __init__(self, capacity):\n",
    "        self.capacity = capacity\n",
    "        self.money = 0\n",
    "\n",
    "    def can_add(self, v):\n",
    "        # True, если можно добавить v монет, False иначе\n",
    "        if self.capacity - v >= 0:\n",
    "            print(self.capacity - v)\n",
    "            return True\n",
    "        return False\n",
    "\n",
    "    def add(self, v):\n",
    "        self.money += v\n",
    "        self.capacity -= self.money"
   ]
  },
  {
   "cell_type": "code",
   "execution_count": 70,
   "id": "c8a17678",
   "metadata": {},
   "outputs": [],
   "source": [
    "s = MoneyBox(10)"
   ]
  },
  {
   "cell_type": "code",
   "execution_count": 80,
   "id": "af757183",
   "metadata": {},
   "outputs": [
    {
     "name": "stdout",
     "output_type": "stream",
     "text": [
      "0\n"
     ]
    },
    {
     "data": {
      "text/plain": [
       "True"
      ]
     },
     "execution_count": 80,
     "metadata": {},
     "output_type": "execute_result"
    }
   ],
   "source": [
    "s.can_add(1)"
   ]
  },
  {
   "cell_type": "code",
   "execution_count": 81,
   "id": "6b3f7974",
   "metadata": {},
   "outputs": [],
   "source": [
    "s.add(9)"
   ]
  },
  {
   "cell_type": "code",
   "execution_count": 82,
   "id": "9cc9db1c",
   "metadata": {},
   "outputs": [
    {
     "data": {
      "text/plain": [
       "-17"
      ]
     },
     "execution_count": 82,
     "metadata": {},
     "output_type": "execute_result"
    }
   ],
   "source": [
    "s.capacity"
   ]
  },
  {
   "cell_type": "code",
   "execution_count": 78,
   "id": "a4116001",
   "metadata": {},
   "outputs": [
    {
     "data": {
      "text/plain": [
       "9"
      ]
     },
     "execution_count": 78,
     "metadata": {},
     "output_type": "execute_result"
    }
   ],
   "source": [
    "s.money"
   ]
  },
  {
   "cell_type": "code",
   "execution_count": null,
   "id": "0c1fd7f3",
   "metadata": {},
   "outputs": [],
   "source": []
  },
  {
   "cell_type": "code",
   "execution_count": 89,
   "id": "e064a13e",
   "metadata": {},
   "outputs": [],
   "source": [
    "class MoneyBox:\n",
    "    def __init__(self, capacity):\n",
    "        self.capacity = capacity\n",
    "        \n",
    "    def can_add(self, v):\n",
    "        # True, если можно добавить v монет, False иначе\n",
    "        if v >= 0 and self.capacity - v >= 0:\n",
    "            #print(self.capacity - v)\n",
    "            return True\n",
    "        return False\n",
    "\n",
    "    def add(self, v):\n",
    "        self.capacity -= v"
   ]
  },
  {
   "cell_type": "code",
   "execution_count": 90,
   "id": "04e9c1e2",
   "metadata": {},
   "outputs": [],
   "source": [
    "s = MoneyBox(10)"
   ]
  },
  {
   "cell_type": "code",
   "execution_count": 91,
   "id": "de88d6f9",
   "metadata": {},
   "outputs": [
    {
     "data": {
      "text/plain": [
       "10"
      ]
     },
     "execution_count": 91,
     "metadata": {},
     "output_type": "execute_result"
    }
   ],
   "source": [
    "s.capacity"
   ]
  },
  {
   "cell_type": "code",
   "execution_count": 92,
   "id": "d8dfa26d",
   "metadata": {},
   "outputs": [
    {
     "data": {
      "text/plain": [
       "False"
      ]
     },
     "execution_count": 92,
     "metadata": {},
     "output_type": "execute_result"
    }
   ],
   "source": [
    "s.can_add(-1)"
   ]
  },
  {
   "cell_type": "code",
   "execution_count": null,
   "id": "2145aa8b",
   "metadata": {},
   "outputs": [],
   "source": []
  },
  {
   "cell_type": "code",
   "execution_count": null,
   "id": "313285dc",
   "metadata": {},
   "outputs": [],
   "source": []
  },
  {
   "cell_type": "code",
   "execution_count": null,
   "id": "207629f5",
   "metadata": {},
   "outputs": [],
   "source": []
  },
  {
   "cell_type": "code",
   "execution_count": null,
   "id": "abc3d857",
   "metadata": {},
   "outputs": [],
   "source": []
  },
  {
   "cell_type": "code",
   "execution_count": null,
   "id": "406472ad",
   "metadata": {},
   "outputs": [],
   "source": []
  },
  {
   "cell_type": "code",
   "execution_count": null,
   "id": "33951d2d",
   "metadata": {},
   "outputs": [],
   "source": []
  }
 ],
 "metadata": {
  "kernelspec": {
   "display_name": "Python 3 (ipykernel)",
   "language": "python",
   "name": "python3"
  },
  "language_info": {
   "codemirror_mode": {
    "name": "ipython",
    "version": 3
   },
   "file_extension": ".py",
   "mimetype": "text/x-python",
   "name": "python",
   "nbconvert_exporter": "python",
   "pygments_lexer": "ipython3",
   "version": "3.10.0"
  }
 },
 "nbformat": 4,
 "nbformat_minor": 5
}
