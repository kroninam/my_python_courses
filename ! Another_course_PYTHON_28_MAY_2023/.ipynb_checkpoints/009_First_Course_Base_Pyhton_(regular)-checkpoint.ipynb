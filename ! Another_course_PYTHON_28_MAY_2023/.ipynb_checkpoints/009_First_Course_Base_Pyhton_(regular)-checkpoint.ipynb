{
 "cells": [
  {
   "cell_type": "markdown",
   "id": "ef64750e",
   "metadata": {},
   "source": [
    "# 3.2 Регулярные выражения в Python"
   ]
  },
  {
   "cell_type": "code",
   "execution_count": 2,
   "id": "f3cda0cb",
   "metadata": {},
   "outputs": [],
   "source": [
    "import re"
   ]
  },
  {
   "cell_type": "code",
   "execution_count": 3,
   "id": "498b5274",
   "metadata": {},
   "outputs": [
    {
     "name": "stdout",
     "output_type": "stream",
     "text": [
      "<function match at 0x0000014125BA3AC0>\n"
     ]
    }
   ],
   "source": [
    "# проверка некоторой строки подходит ли под она наш шаблон\n",
    "print(re.match)"
   ]
  },
  {
   "cell_type": "code",
   "execution_count": 4,
   "id": "f69ab0dc",
   "metadata": {},
   "outputs": [
    {
     "name": "stdout",
     "output_type": "stream",
     "text": [
      "<function search at 0x0000014125BD03A0>\n"
     ]
    }
   ],
   "source": [
    "# находит первое вхождение шаблона в строке\n",
    "print(re.search)"
   ]
  },
  {
   "cell_type": "code",
   "execution_count": 5,
   "id": "7f5d8a7f",
   "metadata": {},
   "outputs": [
    {
     "name": "stdout",
     "output_type": "stream",
     "text": [
      "<function findall at 0x0000014125BD05E0>\n"
     ]
    }
   ],
   "source": [
    "# находит все\n",
    "print(re.findall)"
   ]
  },
  {
   "cell_type": "code",
   "execution_count": 6,
   "id": "5896c52f",
   "metadata": {},
   "outputs": [
    {
     "name": "stdout",
     "output_type": "stream",
     "text": [
      "<function sub at 0x0000014125BD0430>\n"
     ]
    }
   ],
   "source": [
    "# заменяте чем-то другим\n",
    "print(re.sub)"
   ]
  },
  {
   "cell_type": "markdown",
   "id": "245ff6b3",
   "metadata": {},
   "source": [
    "## Пример"
   ]
  },
  {
   "cell_type": "code",
   "execution_count": 32,
   "id": "fe32dbe9",
   "metadata": {},
   "outputs": [],
   "source": [
    "pattern = r'abc'"
   ]
  },
  {
   "cell_type": "code",
   "execution_count": 29,
   "id": "24088607",
   "metadata": {},
   "outputs": [],
   "source": [
    "string = 'daqcd'"
   ]
  },
  {
   "cell_type": "code",
   "execution_count": 21,
   "id": "0ce90a7d",
   "metadata": {},
   "outputs": [],
   "source": [
    "match_obj = re.match(pattern, string)"
   ]
  },
  {
   "cell_type": "code",
   "execution_count": 23,
   "id": "0a25cd13",
   "metadata": {},
   "outputs": [
    {
     "name": "stdout",
     "output_type": "stream",
     "text": [
      "None\n"
     ]
    }
   ],
   "source": [
    "print(match_obj)"
   ]
  },
  {
   "cell_type": "code",
   "execution_count": 24,
   "id": "46c04436",
   "metadata": {},
   "outputs": [
    {
     "data": {
      "text/plain": [
       "<re.Match object; span=(1, 4), match='abc'>"
      ]
     },
     "execution_count": 24,
     "metadata": {},
     "output_type": "execute_result"
    }
   ],
   "source": [
    "re.search(pattern, string)"
   ]
  },
  {
   "cell_type": "code",
   "execution_count": null,
   "id": "7833f92d",
   "metadata": {},
   "outputs": [],
   "source": []
  },
  {
   "cell_type": "code",
   "execution_count": null,
   "id": "8e1c7579",
   "metadata": {},
   "outputs": [],
   "source": [
    "[] - в квадратных скобках указывается множество подходящих символов"
   ]
  },
  {
   "cell_type": "code",
   "execution_count": 47,
   "id": "2c7885e2",
   "metadata": {},
   "outputs": [],
   "source": [
    "# здесь например вторым символом может быть любой из qwe:\n",
    "pattern = r'a[qwebc]c'"
   ]
  },
  {
   "cell_type": "code",
   "execution_count": 44,
   "id": "6a9d3612",
   "metadata": {},
   "outputs": [
    {
     "data": {
      "text/plain": [
       "<re.Match object; span=(0, 3), match='abc'>"
      ]
     },
     "execution_count": 44,
     "metadata": {},
     "output_type": "execute_result"
    }
   ],
   "source": [
    "re.search(pattern, string)"
   ]
  },
  {
   "cell_type": "code",
   "execution_count": null,
   "id": "2a68c119",
   "metadata": {},
   "outputs": [],
   "source": []
  },
  {
   "cell_type": "code",
   "execution_count": 48,
   "id": "edaaa17d",
   "metadata": {},
   "outputs": [],
   "source": [
    "# допустим есть стока в которой присутствуют опечатки (правильная последовательность 'abc'):\n",
    "\n",
    "string = 'abc abc abb awc abs'"
   ]
  },
  {
   "cell_type": "code",
   "execution_count": 57,
   "id": "3d98411d",
   "metadata": {},
   "outputs": [],
   "source": [
    "# какие возможно ошибки:\n",
    "pattern = r'a[bw][cbs]'"
   ]
  },
  {
   "cell_type": "code",
   "execution_count": 58,
   "id": "3cc27fb5",
   "metadata": {},
   "outputs": [
    {
     "data": {
      "text/plain": [
       "['abc', 'abc', 'abb', 'awc', 'abs']"
      ]
     },
     "execution_count": 58,
     "metadata": {},
     "output_type": "execute_result"
    }
   ],
   "source": [
    "re.findall(pattern, string)"
   ]
  },
  {
   "cell_type": "code",
   "execution_count": 59,
   "id": "5045fbc4",
   "metadata": {},
   "outputs": [
    {
     "data": {
      "text/plain": [
       "'abc abc abc abc abc'"
      ]
     },
     "execution_count": 59,
     "metadata": {},
     "output_type": "execute_result"
    }
   ],
   "source": [
    "# re.sub на месте заменяет найденные по шаблону подстроки на нужную 'abc'\n",
    "re.sub(pattern, 'abc', string)"
   ]
  },
  {
   "cell_type": "code",
   "execution_count": null,
   "id": "27d8c729",
   "metadata": {},
   "outputs": [],
   "source": []
  },
  {
   "cell_type": "markdown",
   "id": "c1877996",
   "metadata": {},
   "source": [
    "## Пример"
   ]
  },
  {
   "cell_type": "code",
   "execution_count": null,
   "id": "cf1be70b",
   "metadata": {},
   "outputs": [],
   "source": [
    "# метасимволы надо экранировать обратным слешем \\"
   ]
  },
  {
   "cell_type": "code",
   "execution_count": 60,
   "id": "0b258aa7",
   "metadata": {},
   "outputs": [],
   "source": [
    "string = 'Do you speak english?'"
   ]
  },
  {
   "cell_type": "code",
   "execution_count": 62,
   "id": "3ab81055",
   "metadata": {},
   "outputs": [],
   "source": [
    "pattern_1 = r'english?'"
   ]
  },
  {
   "cell_type": "code",
   "execution_count": 63,
   "id": "bc8ac5db",
   "metadata": {},
   "outputs": [],
   "source": [
    "pattern_2 = r'english\\?'"
   ]
  },
  {
   "cell_type": "code",
   "execution_count": 64,
   "id": "7b52bdee",
   "metadata": {},
   "outputs": [
    {
     "data": {
      "text/plain": [
       "<re.Match object; span=(13, 20), match='english'>"
      ]
     },
     "execution_count": 64,
     "metadata": {},
     "output_type": "execute_result"
    }
   ],
   "source": [
    "# не ищет неэкранированный метасимвол ?\n",
    "re.search(pattern_1, string)"
   ]
  },
  {
   "cell_type": "code",
   "execution_count": 65,
   "id": "83283170",
   "metadata": {},
   "outputs": [
    {
     "data": {
      "text/plain": [
       "<re.Match object; span=(13, 21), match='english?'>"
      ]
     },
     "execution_count": 65,
     "metadata": {},
     "output_type": "execute_result"
    }
   ],
   "source": [
    "re.search(pattern_2, string)"
   ]
  },
  {
   "cell_type": "code",
   "execution_count": null,
   "id": "b40dd7b1",
   "metadata": {},
   "outputs": [],
   "source": []
  },
  {
   "cell_type": "markdown",
   "id": "069601be",
   "metadata": {},
   "source": [
    "## Метасимволы"
   ]
  },
  {
   "cell_type": "code",
   "execution_count": null,
   "id": "9d96a7ff",
   "metadata": {},
   "outputs": [],
   "source": [
    "# . ^ $ * + ? {} [] \\ | ()"
   ]
  },
  {
   "cell_type": "code",
   "execution_count": 66,
   "id": "05fa8433",
   "metadata": {},
   "outputs": [],
   "source": [
    "# в квадратных скобках можно указать диапазон подходящих символов:\n",
    "pattern = r'a[b-f]c'"
   ]
  },
  {
   "cell_type": "code",
   "execution_count": 76,
   "id": "916c7d2c",
   "metadata": {},
   "outputs": [],
   "source": [
    "string = 'aac abc acc adc aec afc agc'"
   ]
  },
  {
   "cell_type": "code",
   "execution_count": null,
   "id": "4378d6ba",
   "metadata": {},
   "outputs": [],
   "source": []
  },
  {
   "cell_type": "code",
   "execution_count": 70,
   "id": "1efaf5a8",
   "metadata": {},
   "outputs": [
    {
     "data": {
      "text/plain": [
       "['abc', 'acc', 'adc', 'aec', 'afc']"
      ]
     },
     "execution_count": 70,
     "metadata": {},
     "output_type": "execute_result"
    }
   ],
   "source": [
    "re.findall(pattern, string)"
   ]
  },
  {
   "cell_type": "code",
   "execution_count": null,
   "id": "1935ad08",
   "metadata": {},
   "outputs": [],
   "source": []
  },
  {
   "cell_type": "code",
   "execution_count": 79,
   "id": "be955e9f",
   "metadata": {},
   "outputs": [],
   "source": [
    "# чтобы перечислить все буквы латинского алфавита:\n",
    "pattern = r'a[a-zA-Z]c'"
   ]
  },
  {
   "cell_type": "code",
   "execution_count": 80,
   "id": "fb7c3703",
   "metadata": {},
   "outputs": [
    {
     "data": {
      "text/plain": [
       "['aac', 'abc', 'acc', 'adc', 'aec', 'afc', 'agc']"
      ]
     },
     "execution_count": 80,
     "metadata": {},
     "output_type": "execute_result"
    }
   ],
   "source": [
    "re.findall(pattern, string)"
   ]
  },
  {
   "cell_type": "code",
   "execution_count": null,
   "id": "72caeb21",
   "metadata": {},
   "outputs": [],
   "source": []
  },
  {
   "cell_type": "code",
   "execution_count": 102,
   "id": "17bf5eac",
   "metadata": {},
   "outputs": [],
   "source": [
    "# метасимвол циркумфлекс ^ говорит о том, что нам не подходит (исключает символы):\n",
    "pattern = r'a[^A-Z]c'"
   ]
  },
  {
   "cell_type": "code",
   "execution_count": 103,
   "id": "37f28371",
   "metadata": {},
   "outputs": [],
   "source": [
    "string = 'abc azc aBc aZc'"
   ]
  },
  {
   "cell_type": "code",
   "execution_count": 104,
   "id": "0985e1b7",
   "metadata": {},
   "outputs": [
    {
     "data": {
      "text/plain": [
       "['abc', 'azc']"
      ]
     },
     "execution_count": 104,
     "metadata": {},
     "output_type": "execute_result"
    }
   ],
   "source": [
    "re.findall(pattern, string)"
   ]
  },
  {
   "cell_type": "code",
   "execution_count": null,
   "id": "a0c13ade",
   "metadata": {},
   "outputs": [],
   "source": []
  },
  {
   "cell_type": "code",
   "execution_count": null,
   "id": "2148e21c",
   "metadata": {},
   "outputs": [],
   "source": [
    "\\d ~ [0-9] — цифры\n",
    "\n",
    "\\D ~ [^0-9]\n",
    "\n",
    "\\s ~ [ \\t\\n\\r\\f\\v] — пробельные символы\n",
    "\n",
    "\\S ~ [^ \\t\\n\\r\\f\\v]\n",
    "\n",
    "\\w ~ [a-zA-Z0-9_] — буквы + цифры + _\n",
    "\n",
    "\\W ~ [^a-zA-Z0-9_]"
   ]
  },
  {
   "cell_type": "code",
   "execution_count": 105,
   "id": "8268f629",
   "metadata": {},
   "outputs": [],
   "source": [
    "# чтобы найти например последовательность из цифр и букв:\n",
    "\n",
    "pattern = r'a[\\w]c'"
   ]
  },
  {
   "cell_type": "code",
   "execution_count": 108,
   "id": "b7e86115",
   "metadata": {},
   "outputs": [],
   "source": [
    "string = 'abc azc aBc aZc a1c a.c a9c'"
   ]
  },
  {
   "cell_type": "code",
   "execution_count": 109,
   "id": "76993c54",
   "metadata": {},
   "outputs": [
    {
     "data": {
      "text/plain": [
       "['abc', 'azc', 'aBc', 'aZc', 'a1c', 'a9c']"
      ]
     },
     "execution_count": 109,
     "metadata": {},
     "output_type": "execute_result"
    }
   ],
   "source": [
    "re.findall(pattern, string)"
   ]
  },
  {
   "cell_type": "code",
   "execution_count": 110,
   "id": "7d46f524",
   "metadata": {},
   "outputs": [],
   "source": [
    "# Чтобы найти их и еще и точку по центру:\n",
    "pattern = r'a[\\w.]c'"
   ]
  },
  {
   "cell_type": "code",
   "execution_count": 111,
   "id": "fdc644ba",
   "metadata": {},
   "outputs": [
    {
     "data": {
      "text/plain": [
       "['abc', 'azc', 'aBc', 'aZc', 'a1c', 'a.c', 'a9c']"
      ]
     },
     "execution_count": 111,
     "metadata": {},
     "output_type": "execute_result"
    }
   ],
   "source": [
    "re.findall(pattern, string)"
   ]
  },
  {
   "cell_type": "code",
   "execution_count": null,
   "id": "e0ca49a5",
   "metadata": {},
   "outputs": [],
   "source": []
  },
  {
   "cell_type": "code",
   "execution_count": 112,
   "id": "ed01cdb2",
   "metadata": {},
   "outputs": [],
   "source": [
    "# Сам же метасивол точки . говорит о любом символе в этом месте:\n",
    "\n",
    "pattern = r'a.c'"
   ]
  },
  {
   "cell_type": "code",
   "execution_count": 113,
   "id": "792d4fc4",
   "metadata": {},
   "outputs": [
    {
     "data": {
      "text/plain": [
       "['abc', 'azc', 'aBc', 'aZc', 'a1c', 'a.c', 'a9c']"
      ]
     },
     "execution_count": 113,
     "metadata": {},
     "output_type": "execute_result"
    }
   ],
   "source": [
    "re.findall(pattern, string)"
   ]
  },
  {
   "cell_type": "code",
   "execution_count": null,
   "id": "37390655",
   "metadata": {},
   "outputs": [],
   "source": []
  },
  {
   "cell_type": "code",
   "execution_count": 121,
   "id": "e4787fde",
   "metadata": {},
   "outputs": [],
   "source": [
    "# Метасимвол звездочка * говорит о любом количестве символа после которого он стоит (даже и нулевое кол-во):\n",
    "pattern = r'a9*c'"
   ]
  },
  {
   "cell_type": "code",
   "execution_count": 122,
   "id": "c358fc18",
   "metadata": {},
   "outputs": [],
   "source": [
    "string = 'a9c a999c ac'"
   ]
  },
  {
   "cell_type": "code",
   "execution_count": 123,
   "id": "62b70799",
   "metadata": {},
   "outputs": [
    {
     "data": {
      "text/plain": [
       "['a9c', 'a999c', 'ac']"
      ]
     },
     "execution_count": 123,
     "metadata": {},
     "output_type": "execute_result"
    }
   ],
   "source": [
    "re.findall(pattern, string)"
   ]
  },
  {
   "cell_type": "code",
   "execution_count": null,
   "id": "4cb56893",
   "metadata": {},
   "outputs": [],
   "source": []
  },
  {
   "cell_type": "code",
   "execution_count": 124,
   "id": "a4e4ac6a",
   "metadata": {},
   "outputs": [],
   "source": [
    "# Если использовать метасимвол плюс + это будет говорить о том, что нулевое кол-во вхождений не устроит:\n",
    "pattern = r'a9+c'"
   ]
  },
  {
   "cell_type": "code",
   "execution_count": 125,
   "id": "9b849e2c",
   "metadata": {},
   "outputs": [],
   "source": [
    "string = 'a9c a999c ac'"
   ]
  },
  {
   "cell_type": "code",
   "execution_count": 126,
   "id": "4f3f9678",
   "metadata": {},
   "outputs": [
    {
     "data": {
      "text/plain": [
       "['a9c', 'a999c']"
      ]
     },
     "execution_count": 126,
     "metadata": {},
     "output_type": "execute_result"
    }
   ],
   "source": [
    "re.findall(pattern, string)"
   ]
  },
  {
   "cell_type": "code",
   "execution_count": null,
   "id": "db23cab7",
   "metadata": {},
   "outputs": [],
   "source": []
  },
  {
   "cell_type": "code",
   "execution_count": 127,
   "id": "11df0919",
   "metadata": {},
   "outputs": [],
   "source": [
    "# Метасимвол знак вопроса ? наоборот ищет ноль или одно вхождение символа:\n",
    "pattern = r'a9?c'"
   ]
  },
  {
   "cell_type": "code",
   "execution_count": 128,
   "id": "c8ffffba",
   "metadata": {},
   "outputs": [],
   "source": [
    "string = 'a9c a999c ac'"
   ]
  },
  {
   "cell_type": "code",
   "execution_count": 129,
   "id": "f0053e77",
   "metadata": {},
   "outputs": [
    {
     "data": {
      "text/plain": [
       "['a9c', 'ac']"
      ]
     },
     "execution_count": 129,
     "metadata": {},
     "output_type": "execute_result"
    }
   ],
   "source": [
    "re.findall(pattern, string)"
   ]
  },
  {
   "cell_type": "code",
   "execution_count": null,
   "id": "d043f4c4",
   "metadata": {},
   "outputs": [],
   "source": []
  },
  {
   "cell_type": "code",
   "execution_count": 147,
   "id": "6525c7cd",
   "metadata": {},
   "outputs": [],
   "source": [
    "# Если нужно заданное количество таких символов то используем фигурные скобки {}\n",
    "\n",
    "# точное количество вхождений символа:\n",
    "pattern = r'a9{3}c'\n",
    "\n",
    "# диапазон от ... до ...:\n",
    "pattern = r'a9{2,4}c'"
   ]
  },
  {
   "cell_type": "code",
   "execution_count": 148,
   "id": "95ec1a78",
   "metadata": {},
   "outputs": [],
   "source": [
    "string = 'a9c a999c ac'"
   ]
  },
  {
   "cell_type": "code",
   "execution_count": 149,
   "id": "8f0d2797",
   "metadata": {},
   "outputs": [
    {
     "data": {
      "text/plain": [
       "['a999c']"
      ]
     },
     "execution_count": 149,
     "metadata": {},
     "output_type": "execute_result"
    }
   ],
   "source": [
    "re.findall(pattern, string)"
   ]
  },
  {
   "cell_type": "code",
   "execution_count": null,
   "id": "f7d327d5",
   "metadata": {},
   "outputs": [],
   "source": []
  },
  {
   "cell_type": "code",
   "execution_count": 157,
   "id": "c0c98106",
   "metadata": {},
   "outputs": [],
   "source": [
    "# По умолчанию регулярные выражения действуют жадно\n",
    "# то есть выбирают максимально возможный паттерн из строки:\n",
    "\n",
    "pattern = r'a[a-b]+a'\n",
    "\n",
    "# подходят например aba или aaa\n",
    "string = 'aaa'\n",
    "\n",
    "# но алгоритм по умолчанию выберет максимальный вариант:\n",
    "string = 'aaabbbbbbbbaaaaaaaabbba'"
   ]
  },
  {
   "cell_type": "code",
   "execution_count": 158,
   "id": "ea042be4",
   "metadata": {},
   "outputs": [
    {
     "data": {
      "text/plain": [
       "<re.Match object; span=(0, 23), match='aaabbbbbbbbaaaaaaaabbba'>"
      ]
     },
     "execution_count": 158,
     "metadata": {},
     "output_type": "execute_result"
    }
   ],
   "source": [
    "re.match(pattern, string)"
   ]
  },
  {
   "cell_type": "code",
   "execution_count": null,
   "id": "4c609df2",
   "metadata": {},
   "outputs": [],
   "source": []
  },
  {
   "cell_type": "code",
   "execution_count": 159,
   "id": "0b7bd0fe",
   "metadata": {},
   "outputs": [],
   "source": [
    "# чтобы изменить жадность и искать наименьшее возможное вхождение - добавляем ?\n",
    "pattern = r'a[a-b]+?a'\n",
    "string = 'aaabbbbbbbbaaaaaaaabbba'"
   ]
  },
  {
   "cell_type": "code",
   "execution_count": 160,
   "id": "b9ca8bf2",
   "metadata": {},
   "outputs": [
    {
     "data": {
      "text/plain": [
       "<re.Match object; span=(0, 3), match='aaa'>"
      ]
     },
     "execution_count": 160,
     "metadata": {},
     "output_type": "execute_result"
    }
   ],
   "source": [
    "re.match(pattern, string)"
   ]
  },
  {
   "cell_type": "code",
   "execution_count": null,
   "id": "ea16a92a",
   "metadata": {},
   "outputs": [],
   "source": []
  },
  {
   "cell_type": "code",
   "execution_count": 167,
   "id": "88a47a36",
   "metadata": {},
   "outputs": [],
   "source": [
    "# Группировка символов выполняется круглыми скобками ():\n",
    "\n",
    "pattern = r'(test)*'"
   ]
  },
  {
   "cell_type": "code",
   "execution_count": 168,
   "id": "93e4df7b",
   "metadata": {},
   "outputs": [],
   "source": [
    "string = 'test'"
   ]
  },
  {
   "cell_type": "code",
   "execution_count": 169,
   "id": "d5149722",
   "metadata": {},
   "outputs": [
    {
     "data": {
      "text/plain": [
       "<re.Match object; span=(0, 4), match='test'>"
      ]
     },
     "execution_count": 169,
     "metadata": {},
     "output_type": "execute_result"
    }
   ],
   "source": [
    "re.match(pattern, string)"
   ]
  },
  {
   "cell_type": "code",
   "execution_count": null,
   "id": "6296c0b2",
   "metadata": {},
   "outputs": [],
   "source": []
  },
  {
   "cell_type": "code",
   "execution_count": 170,
   "id": "e37bab70",
   "metadata": {},
   "outputs": [],
   "source": [
    "# Также можно использовать | что будет означать 'или данную группу символов'\n",
    "pattern = r'(test|text)'"
   ]
  },
  {
   "cell_type": "code",
   "execution_count": 173,
   "id": "c6e0f18d",
   "metadata": {},
   "outputs": [],
   "source": [
    "string = 'text'"
   ]
  },
  {
   "cell_type": "code",
   "execution_count": 174,
   "id": "a9370bba",
   "metadata": {},
   "outputs": [
    {
     "data": {
      "text/plain": [
       "<re.Match object; span=(0, 4), match='text'>"
      ]
     },
     "execution_count": 174,
     "metadata": {},
     "output_type": "execute_result"
    }
   ],
   "source": [
    "re.match(pattern, string)"
   ]
  },
  {
   "cell_type": "code",
   "execution_count": null,
   "id": "c9b9e642",
   "metadata": {},
   "outputs": [],
   "source": []
  },
  {
   "cell_type": "markdown",
   "id": "04854854",
   "metadata": {},
   "source": [
    "## Флажки"
   ]
  },
  {
   "cell_type": "code",
   "execution_count": 175,
   "id": "ec7f0512",
   "metadata": {},
   "outputs": [],
   "source": [
    "# Флажок re.IGNORECASE - игнорировать заглавные или строчные это буквы это есть:\n",
    "\n",
    "pattern = r'text'\n",
    "string = 'TEXT text'"
   ]
  },
  {
   "cell_type": "code",
   "execution_count": 176,
   "id": "a99c5dd6",
   "metadata": {},
   "outputs": [
    {
     "data": {
      "text/plain": [
       "['TEXT', 'text']"
      ]
     },
     "execution_count": 176,
     "metadata": {},
     "output_type": "execute_result"
    }
   ],
   "source": [
    "re.findall(pattern, string, re.IGNORECASE)"
   ]
  },
  {
   "cell_type": "code",
   "execution_count": 177,
   "id": "a5967bc8",
   "metadata": {},
   "outputs": [],
   "source": [
    "# Флажок re.DEBUG объясняет регулярное выражение:\n",
    "pattern = r'(te)*xt'\n",
    "string = 'TEXT text'"
   ]
  },
  {
   "cell_type": "code",
   "execution_count": 180,
   "id": "2e6a7382",
   "metadata": {},
   "outputs": [
    {
     "name": "stdout",
     "output_type": "stream",
     "text": [
      "MAX_REPEAT 0 MAXREPEAT\n",
      "  SUBPATTERN 1 0 0\n",
      "    LITERAL 116\n",
      "    LITERAL 101\n",
      "LITERAL 120\n",
      "LITERAL 116\n",
      "\n",
      " 0. INFO 4 0b0 2 MAXREPEAT (to 5)\n",
      " 5: REPEAT 11 0 MAXREPEAT (to 17)\n",
      " 9.   MARK 0\n",
      "11.   LITERAL_UNI_IGNORE 0x74 ('t')\n",
      "13.   LITERAL_UNI_IGNORE 0x65 ('e')\n",
      "15.   MARK 1\n",
      "17: MAX_UNTIL\n",
      "18. LITERAL_UNI_IGNORE 0x78 ('x')\n",
      "20. LITERAL_UNI_IGNORE 0x74 ('t')\n",
      "22. SUCCESS\n"
     ]
    },
    {
     "data": {
      "text/plain": [
       "['TE', 'te']"
      ]
     },
     "execution_count": 180,
     "metadata": {},
     "output_type": "execute_result"
    }
   ],
   "source": [
    "re.findall(pattern, string, re.IGNORECASE | re.DEBUG)"
   ]
  },
  {
   "cell_type": "code",
   "execution_count": null,
   "id": "3f5f0bc0",
   "metadata": {},
   "outputs": [],
   "source": []
  },
  {
   "cell_type": "markdown",
   "id": "7d17a090",
   "metadata": {},
   "source": [
    "# Задача"
   ]
  },
  {
   "cell_type": "code",
   "execution_count": null,
   "id": "470ee1c9",
   "metadata": {},
   "outputs": [],
   "source": [
    "Вам дана последовательность строк.\n",
    "Выведите строки, содержащие \"cat\" в качестве подстроки хотя бы два раза.\n",
    "\n",
    "Примечание:\n",
    "Считать все строки по одной из стандартного потока ввода вы можете, например, так\n",
    "\n",
    "import sys\n",
    "\n",
    "for line in sys.stdin:\n",
    "    line = line.rstrip()\n",
    "    # process line"
   ]
  },
  {
   "cell_type": "code",
   "execution_count": 183,
   "id": "7103ab12",
   "metadata": {},
   "outputs": [],
   "source": [
    "import sys\n",
    "\n",
    "for line in sys.stdin:\n",
    "    line = line.rstrip()\n",
    "#     process line"
   ]
  },
  {
   "cell_type": "code",
   "execution_count": 251,
   "id": "56c54e50",
   "metadata": {},
   "outputs": [],
   "source": [
    "pattern = r'cat[\\w ]*cat'"
   ]
  },
  {
   "cell_type": "code",
   "execution_count": 261,
   "id": "9d8d7edd",
   "metadata": {},
   "outputs": [],
   "source": [
    "pattern = r'.*cat.*cat.*'"
   ]
  },
  {
   "cell_type": "code",
   "execution_count": null,
   "id": "64cb2f01",
   "metadata": {},
   "outputs": [],
   "source": []
  },
  {
   "cell_type": "code",
   "execution_count": 262,
   "id": "3d6c2237",
   "metadata": {},
   "outputs": [],
   "source": [
    "string = 'ccatcat'"
   ]
  },
  {
   "cell_type": "code",
   "execution_count": 263,
   "id": "d648c9cc",
   "metadata": {},
   "outputs": [
    {
     "name": "stdout",
     "output_type": "stream",
     "text": [
      "<re.Match object; span=(0, 7), match='ccatcat'>\n"
     ]
    }
   ],
   "source": [
    "print(re.search(pattern, string))"
   ]
  },
  {
   "cell_type": "code",
   "execution_count": null,
   "id": "b023c804",
   "metadata": {},
   "outputs": [],
   "source": []
  },
  {
   "cell_type": "code",
   "execution_count": null,
   "id": "621ff5c1",
   "metadata": {},
   "outputs": [],
   "source": []
  },
  {
   "cell_type": "code",
   "execution_count": null,
   "id": "98b8aa91",
   "metadata": {},
   "outputs": [],
   "source": []
  },
  {
   "cell_type": "code",
   "execution_count": null,
   "id": "2c9bc759",
   "metadata": {},
   "outputs": [],
   "source": []
  },
  {
   "cell_type": "code",
   "execution_count": null,
   "id": "3efe0ffb",
   "metadata": {},
   "outputs": [],
   "source": []
  },
  {
   "cell_type": "code",
   "execution_count": null,
   "id": "31625ef0",
   "metadata": {},
   "outputs": [],
   "source": []
  },
  {
   "cell_type": "code",
   "execution_count": null,
   "id": "06083e1a",
   "metadata": {},
   "outputs": [],
   "source": []
  },
  {
   "cell_type": "code",
   "execution_count": null,
   "id": "af634387",
   "metadata": {},
   "outputs": [],
   "source": []
  },
  {
   "cell_type": "code",
   "execution_count": null,
   "id": "44982ce2",
   "metadata": {},
   "outputs": [],
   "source": []
  },
  {
   "cell_type": "code",
   "execution_count": null,
   "id": "5f3f94a5",
   "metadata": {},
   "outputs": [],
   "source": []
  },
  {
   "cell_type": "code",
   "execution_count": null,
   "id": "3e42ddb7",
   "metadata": {},
   "outputs": [],
   "source": []
  },
  {
   "cell_type": "code",
   "execution_count": null,
   "id": "1f9aea68",
   "metadata": {},
   "outputs": [],
   "source": []
  },
  {
   "cell_type": "code",
   "execution_count": null,
   "id": "909db54a",
   "metadata": {},
   "outputs": [],
   "source": []
  },
  {
   "cell_type": "code",
   "execution_count": null,
   "id": "44e9be76",
   "metadata": {},
   "outputs": [],
   "source": []
  }
 ],
 "metadata": {
  "kernelspec": {
   "display_name": "Python 3 (ipykernel)",
   "language": "python",
   "name": "python3"
  },
  "language_info": {
   "codemirror_mode": {
    "name": "ipython",
    "version": 3
   },
   "file_extension": ".py",
   "mimetype": "text/x-python",
   "name": "python",
   "nbconvert_exporter": "python",
   "pygments_lexer": "ipython3",
   "version": "3.10.0"
  }
 },
 "nbformat": 4,
 "nbformat_minor": 5
}
