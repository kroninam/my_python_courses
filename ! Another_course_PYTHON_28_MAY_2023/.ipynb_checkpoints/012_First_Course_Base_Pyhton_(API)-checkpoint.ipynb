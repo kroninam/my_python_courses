{
 "cells": [
  {
   "cell_type": "markdown",
   "id": "ec55eb22",
   "metadata": {},
   "source": [
    "# 3.5 API"
   ]
  },
  {
   "cell_type": "code",
   "execution_count": 12,
   "id": "9e7c3aa2",
   "metadata": {},
   "outputs": [
    {
     "name": "stdout",
     "output_type": "stream",
     "text": [
      "City?Batumi\n",
      "Current temperature in Batumi is 24.99\n"
     ]
    }
   ],
   "source": [
    "import requests\n",
    "\n",
    "city = input('City?')\n",
    "\n",
    "api_url = 'https://api.openweathermap.org/data/2.5/weather'\n",
    "\n",
    "params = {\n",
    "    'q': city, #'Saint Petersburg',\n",
    "    'appid': 'fe6c9ac08e96ecdd33f559f07bc59da7',\n",
    "    \n",
    "    'units': 'metric',\n",
    "    'lang': 'se'\n",
    "\n",
    "}\n",
    "\n",
    "res = requests.get(api_url, params = params)\n",
    "#print(res.status_code)\n",
    "#print(res.headers['Content-Type'])\n",
    "#print(res.json())\n",
    "data = res.json()\n",
    "template = 'Current temperature in {} is {}'\n",
    "print(template.format (city, data['main']['temp']))"
   ]
  },
  {
   "cell_type": "code",
   "execution_count": 13,
   "id": "af753f73",
   "metadata": {},
   "outputs": [
    {
     "data": {
      "text/plain": [
       "{'coord': {'lon': 41.6359, 'lat': 41.6416},\n",
       " 'weather': [{'id': 801,\n",
       "   'main': 'Clouds',\n",
       "   'description': 'lätt molnighet',\n",
       "   'icon': '02d'}],\n",
       " 'base': 'stations',\n",
       " 'main': {'temp': 24.99,\n",
       "  'feels_like': 25.58,\n",
       "  'temp_min': 24.99,\n",
       "  'temp_max': 24.99,\n",
       "  'pressure': 1018,\n",
       "  'humidity': 78},\n",
       " 'visibility': 10000,\n",
       " 'wind': {'speed': 2.57, 'deg': 320},\n",
       " 'clouds': {'all': 20},\n",
       " 'dt': 1695372602,\n",
       " 'sys': {'type': 1,\n",
       "  'id': 8858,\n",
       "  'country': 'GE',\n",
       "  'sunrise': 1695351615,\n",
       "  'sunset': 1695395555},\n",
       " 'timezone': 14400,\n",
       " 'id': 615532,\n",
       " 'name': 'Batumi',\n",
       " 'cod': 200}"
      ]
     },
     "execution_count": 13,
     "metadata": {},
     "output_type": "execute_result"
    }
   ],
   "source": [
    "data"
   ]
  },
  {
   "cell_type": "code",
   "execution_count": 3,
   "id": "2c2dea36",
   "metadata": {},
   "outputs": [
    {
     "data": {
      "text/plain": [
       "{'temp': 20.03,\n",
       " 'feels_like': 20.02,\n",
       " 'temp_min': 20.03,\n",
       " 'temp_max': 20.09,\n",
       " 'pressure': 1013,\n",
       " 'humidity': 74}"
      ]
     },
     "execution_count": 3,
     "metadata": {},
     "output_type": "execute_result"
    }
   ],
   "source": [
    "data['main']"
   ]
  },
  {
   "cell_type": "code",
   "execution_count": null,
   "id": "96c2f19e",
   "metadata": {},
   "outputs": [],
   "source": []
  },
  {
   "cell_type": "markdown",
   "id": "4fbd47e7",
   "metadata": {},
   "source": [
    "# Задача"
   ]
  },
  {
   "cell_type": "code",
   "execution_count": null,
   "id": "3610114c",
   "metadata": {},
   "outputs": [],
   "source": [
    "Необходимо воспользоваться API сайта numbersapi.com\n",
    "\n",
    "Вам дается набор чисел. Для каждого из чисел необходимо узнать, существует ли интересный математический факт об этом числе.\n",
    "\n",
    "Для каждого числа выведите Interesting, если для числа существует интересный факт, и Boring иначе.\n",
    "Выводите информацию об интересности чисел в таком же порядке, в каком следуют числа во входном файле.\n",
    "\n",
    "Пример запроса к интересному числу:\n",
    "http://numbersapi.com/31/math?json=true\n",
    "\n",
    "Пример запроса к скучному числу:\n",
    "http://numbersapi.com/999/math?json=true\n",
    "\n",
    "Пример входного файла:\n",
    "31\n",
    "999\n",
    "1024\n",
    "502\n",
    "\n",
    "﻿Пример выходного файла:\n",
    "Interesting\n",
    "Boring\n",
    "Interesting\n",
    "Boring"
   ]
  },
  {
   "cell_type": "code",
   "execution_count": 332,
   "id": "46cece67",
   "metadata": {},
   "outputs": [],
   "source": [
    "# Так не работает потому, что\n",
    "# API данного ресурса подразумевает, что вы будете делать запросы \n",
    "# вида \"http://numbersapi.com/999/math?json=true﻿\", а вы в первом \n",
    "# случае (params) делали запрос \"http://numbersapi.com?json=true&type=math&number=999\"\n",
    "\n",
    "api_url = f'http://numbersapi.com/'\n",
    "\n",
    "params = {'number': 81, 'type': 'trivia?json'}\n"
   ]
  },
  {
   "cell_type": "code",
   "execution_count": 342,
   "id": "49e7cc31",
   "metadata": {},
   "outputs": [],
   "source": [
    "# Так работает\n",
    "i = 99\n",
    "res = requests.get(f'http://numbersapi.com/{i}/math?json')"
   ]
  },
  {
   "cell_type": "code",
   "execution_count": 343,
   "id": "f7a19c30",
   "metadata": {},
   "outputs": [],
   "source": [
    "data = res.json()"
   ]
  },
  {
   "cell_type": "code",
   "execution_count": 344,
   "id": "2eae5a8e",
   "metadata": {},
   "outputs": [
    {
     "data": {
      "text/plain": [
       "{'text': '99 is the ninth repdigit, a palindromic number and a Kaprekar number.',\n",
       " 'number': 99,\n",
       " 'found': True,\n",
       " 'type': 'math'}"
      ]
     },
     "execution_count": 344,
     "metadata": {},
     "output_type": "execute_result"
    }
   ],
   "source": [
    "data"
   ]
  },
  {
   "cell_type": "code",
   "execution_count": null,
   "id": "c990c9a3",
   "metadata": {},
   "outputs": [],
   "source": []
  },
  {
   "cell_type": "code",
   "execution_count": null,
   "id": "db05d2f6",
   "metadata": {},
   "outputs": [],
   "source": [
    "# Итоговое решение для ряда чисел:"
   ]
  },
  {
   "cell_type": "code",
   "execution_count": 326,
   "id": "364ee610",
   "metadata": {},
   "outputs": [
    {
     "name": "stdout",
     "output_type": "stream",
     "text": [
      "954 930 964 996 902 998 970 909 951 948 918 983 921 922 955\n",
      "Boring\n",
      "Interesting\n",
      "Interesting\n",
      "Boring\n",
      "Interesting\n",
      "Interesting\n",
      "Interesting\n",
      "Interesting\n",
      "Interesting\n",
      "Interesting\n",
      "Interesting\n",
      "Interesting\n",
      "Boring\n",
      "Boring\n",
      "Interesting\n"
     ]
    }
   ],
   "source": [
    "import requests\n",
    "\n",
    "num = map(int, (input().split()))\n",
    "for i in num:\n",
    "    \n",
    "    res = requests.get(f'http://numbersapi.com/{i}/math?json')\n",
    "\n",
    "    data = res.json()\n",
    "    \n",
    "    \n",
    "    if data['found'] == False:\n",
    "        print('Boring')\n",
    "    else:\n",
    "        print('Interesting')"
   ]
  },
  {
   "cell_type": "code",
   "execution_count": null,
   "id": "74d374bd",
   "metadata": {},
   "outputs": [],
   "source": []
  }
 ],
 "metadata": {
  "kernelspec": {
   "display_name": "Python 3 (ipykernel)",
   "language": "python",
   "name": "python3"
  },
  "language_info": {
   "codemirror_mode": {
    "name": "ipython",
    "version": 3
   },
   "file_extension": ".py",
   "mimetype": "text/x-python",
   "name": "python",
   "nbconvert_exporter": "python",
   "pygments_lexer": "ipython3",
   "version": "3.10.0"
  }
 },
 "nbformat": 4,
 "nbformat_minor": 5
}
