{
 "cells": [
  {
   "cell_type": "markdown",
   "id": "210bdefa",
   "metadata": {},
   "source": [
    "# Ошибки и исключения"
   ]
  },
  {
   "cell_type": "markdown",
   "id": "61bbb483",
   "metadata": {},
   "source": [
    "# Задача\n"
   ]
  },
  {
   "cell_type": "code",
   "execution_count": null,
   "id": "7e1a5b3f",
   "metadata": {},
   "outputs": [],
   "source": [
    "# Реализуйте класс PositiveList, отнаследовав его от класса list, для хранения положительных целых чисел.\n",
    "# Также реализуйте новое исключение NonPositiveError.\n",
    "\n",
    "# В классе PositiveList переопределите метод append(self, x) таким образом, чтобы при попытке \n",
    "# добавить неположительное целое число бросалось исключение NonPositiveError и число не добавлялось, \n",
    "# а при попытке добавить положительное целое число, число добавлялось бы как в стандартный list.\n",
    "\n",
    "# В данной задаче гарантируется, что в качестве аргумента x метода append всегда будет передаваться целое число.\n",
    "\n",
    "# Примечание:\n",
    "# Положительными считаются числа, строго большие нуля."
   ]
  },
  {
   "cell_type": "code",
   "execution_count": 11,
   "id": "596e7d1a",
   "metadata": {},
   "outputs": [],
   "source": [
    "class NonPositiveError(Exception):\n",
    "    pass\n",
    "\n",
    "class PositiveList(list):\n",
    "    def append(self, x):\n",
    "        if x <= 0:\n",
    "            raise NonPositiveError\n",
    "        else:\n",
    "            self += [x]"
   ]
  },
  {
   "cell_type": "code",
   "execution_count": 12,
   "id": "a4ca4197",
   "metadata": {},
   "outputs": [],
   "source": [
    "lst = PositiveList()"
   ]
  },
  {
   "cell_type": "code",
   "execution_count": 16,
   "id": "40a9329d",
   "metadata": {},
   "outputs": [],
   "source": [
    "lst.append(5)"
   ]
  },
  {
   "cell_type": "code",
   "execution_count": 17,
   "id": "ba6442d1",
   "metadata": {},
   "outputs": [
    {
     "data": {
      "text/plain": [
       "[5, 5]"
      ]
     },
     "execution_count": 17,
     "metadata": {},
     "output_type": "execute_result"
    }
   ],
   "source": [
    "lst"
   ]
  },
  {
   "cell_type": "code",
   "execution_count": null,
   "id": "39e402f8",
   "metadata": {},
   "outputs": [],
   "source": []
  },
  {
   "cell_type": "markdown",
   "id": "d90a254b",
   "metadata": {},
   "source": [
    "# Import Lesson"
   ]
  },
  {
   "cell_type": "code",
   "execution_count": 2,
   "id": "91b9a451",
   "metadata": {},
   "outputs": [
    {
     "ename": "ModuleNotFoundError",
     "evalue": "No module named 'module_for_import_lesson'",
     "output_type": "error",
     "traceback": [
      "\u001b[1;31m---------------------------------------------------------------------------\u001b[0m",
      "\u001b[1;31mModuleNotFoundError\u001b[0m                       Traceback (most recent call last)",
      "Cell \u001b[1;32mIn[2], line 1\u001b[0m\n\u001b[1;32m----> 1\u001b[0m \u001b[38;5;28;01mimport\u001b[39;00m \u001b[38;5;21;01mmodule_for_import_lesson\u001b[39;00m\n",
      "\u001b[1;31mModuleNotFoundError\u001b[0m: No module named 'module_for_import_lesson'"
     ]
    }
   ],
   "source": [
    "import module_for_import_lesson"
   ]
  },
  {
   "cell_type": "code",
   "execution_count": null,
   "id": "d6d9a7ad",
   "metadata": {},
   "outputs": [],
   "source": [
    "# Если, кто работает с jupyter notebook, и у вас не получается подгрузить модуль exceptions.\n",
    "# 1. Установите модуль import_ipynb командой\n",
    "# !pip install import_ipynb\n",
    "\n",
    "# 2. Затем подгрузите модуль.\n",
    "# import import_ipynb"
   ]
  },
  {
   "cell_type": "code",
   "execution_count": 4,
   "id": "8758a74a",
   "metadata": {},
   "outputs": [],
   "source": [
    "# !pip install import_ipynb"
   ]
  },
  {
   "cell_type": "code",
   "execution_count": 1,
   "id": "cf117edd",
   "metadata": {},
   "outputs": [
    {
     "name": "stdout",
     "output_type": "stream",
     "text": [
      "importing Jupyter notebook from module_for_import_lesson.ipynb\n",
      "Import is execution\n",
      "__name__ ==  module_for_import_lesson\n"
     ]
    }
   ],
   "source": [
    "import import_ipynb\n",
    "import module_for_import_lesson"
   ]
  },
  {
   "cell_type": "code",
   "execution_count": 18,
   "id": "9cf5e834",
   "metadata": {},
   "outputs": [
    {
     "data": {
      "text/plain": [
       "[]"
      ]
     },
     "execution_count": 18,
     "metadata": {},
     "output_type": "execute_result"
    }
   ],
   "source": [
    "module_for_import_lesson.PositiveList()"
   ]
  },
  {
   "cell_type": "code",
   "execution_count": 2,
   "id": "15941f0c",
   "metadata": {},
   "outputs": [
    {
     "data": {
      "text/plain": [
       "'module_for_import_lesson'"
      ]
     },
     "execution_count": 2,
     "metadata": {},
     "output_type": "execute_result"
    }
   ],
   "source": [
    "module_for_import_lesson.a"
   ]
  },
  {
   "cell_type": "code",
   "execution_count": null,
   "id": "edd1d009",
   "metadata": {},
   "outputs": [],
   "source": [
    "ПОВТОРНОЕ ИМПОРТИРОВАНИЕ МОДУЛЕЙ НЕ ВЫПОЛНЯЕТСЯ!\n",
    "\n",
    "Поэтому для:\n",
    "    \n",
    "main.py\n",
    "import module1\n",
    "import module2\n",
    "print(3)\n",
    "\n",
    "module1.py\n",
    "import module2\n",
    "print(1)\n",
    "\n",
    "module2.py\n",
    "print(2)\n",
    "\n",
    "При вызове main.py - сначала будет импортирован module1.py - из него импортирован module2.py\n",
    "\n",
    "т.е. будет напечатано 2 из module2.py, затем 1 из module1.py, затем import module2 - не сработает, и будет напечатано 3."
   ]
  },
  {
   "cell_type": "code",
   "execution_count": null,
   "id": "17f0a296",
   "metadata": {},
   "outputs": [],
   "source": []
  },
  {
   "cell_type": "markdown",
   "id": "456d938c",
   "metadata": {},
   "source": [
    "# Задача"
   ]
  },
  {
   "cell_type": "code",
   "execution_count": null,
   "id": "60cbacaa",
   "metadata": {},
   "outputs": [],
   "source": [
    "# В первой строке дано три числа, соответствующие некоторой дате date -- год, месяц и день.\n",
    "# Во второй строке дано одно число days -- число дней.\n",
    "\n",
    "# Вычислите и выведите год, месяц и день даты, которая наступит, когда с момента исходной \n",
    "# даты date пройдет число дней, равное days.\n",
    "\n",
    "# Примечание:\n",
    "# Для решения этой задачи используйте стандартный модуль datetime.\n",
    "# Вам будут полезны класс datetime.date для хранения даты и класс datetime.timedelta\n",
    "# для прибавления дней к дате.\n",
    "\n",
    "Sample Input 1:\n",
    "2016 4 20\n",
    "14\n",
    "Sample Output 1:\n",
    "2016 5 4\n",
    "\n",
    "\n",
    "Sample Input 2:\n",
    "2016 2 20\n",
    "9\n",
    "Sample Output 2:\n",
    "2016 2 29\n",
    "\n",
    "\n",
    "Sample Input 3:\n",
    "2015 12 31\n",
    "1\n",
    "Sample Output 3:\n",
    "2016 1 1"
   ]
  },
  {
   "cell_type": "code",
   "execution_count": 3,
   "id": "80681756",
   "metadata": {},
   "outputs": [],
   "source": [
    "import datetime"
   ]
  },
  {
   "cell_type": "code",
   "execution_count": 29,
   "id": "23e29e2e",
   "metadata": {},
   "outputs": [
    {
     "name": "stdout",
     "output_type": "stream",
     "text": [
      "2016 1 1\n"
     ]
    }
   ],
   "source": [
    "year, month, day = map(int, input().split())"
   ]
  },
  {
   "cell_type": "code",
   "execution_count": 38,
   "id": "db7d8c21",
   "metadata": {},
   "outputs": [
    {
     "name": "stdout",
     "output_type": "stream",
     "text": [
      "14\n"
     ]
    }
   ],
   "source": [
    "date_shift = int(input())"
   ]
  },
  {
   "cell_type": "code",
   "execution_count": 39,
   "id": "e99e0f43",
   "metadata": {},
   "outputs": [
    {
     "data": {
      "text/plain": [
       "2016"
      ]
     },
     "execution_count": 39,
     "metadata": {},
     "output_type": "execute_result"
    }
   ],
   "source": [
    "year"
   ]
  },
  {
   "cell_type": "code",
   "execution_count": 40,
   "id": "2d961a4a",
   "metadata": {},
   "outputs": [
    {
     "data": {
      "text/plain": [
       "1"
      ]
     },
     "execution_count": 40,
     "metadata": {},
     "output_type": "execute_result"
    }
   ],
   "source": [
    "month"
   ]
  },
  {
   "cell_type": "code",
   "execution_count": 41,
   "id": "0b3b13f6",
   "metadata": {},
   "outputs": [
    {
     "data": {
      "text/plain": [
       "1"
      ]
     },
     "execution_count": 41,
     "metadata": {},
     "output_type": "execute_result"
    }
   ],
   "source": [
    "day"
   ]
  },
  {
   "cell_type": "code",
   "execution_count": 42,
   "id": "f66d6542",
   "metadata": {},
   "outputs": [],
   "source": [
    "new_date = datetime.date(year, month, day) - datetime.timedelta(days = date_shift)"
   ]
  },
  {
   "cell_type": "code",
   "execution_count": 43,
   "id": "ec834110",
   "metadata": {},
   "outputs": [
    {
     "name": "stdout",
     "output_type": "stream",
     "text": [
      "2015 12 18\n"
     ]
    }
   ],
   "source": [
    "print(new_date.year, new_date.month, new_date.day)"
   ]
  },
  {
   "cell_type": "code",
   "execution_count": null,
   "id": "4ce87402",
   "metadata": {},
   "outputs": [],
   "source": []
  },
  {
   "cell_type": "markdown",
   "id": "45870c63",
   "metadata": {},
   "source": [
    "# Задача"
   ]
  },
  {
   "cell_type": "code",
   "execution_count": null,
   "id": "7509fbd2",
   "metadata": {},
   "outputs": [],
   "source": [
    "# Алиса владеет интересной информацией, которую хочет заполучить Боб.\n",
    "# Алиса умна, поэтому она хранит свою информацию в зашифрованном файле.\n",
    "# У Алисы плохая память, поэтому она хранит все свои пароли в открытом виде в текстовом файле.\n",
    "\n",
    "# Бобу удалось завладеть зашифрованным файлом с интересной информацией и файлом с паролями, \n",
    "# но он не смог понять какой из паролей ему нужен. Помогите ему решить эту проблему.\n",
    "\n",
    "# Алиса зашифровала свою информацию с помощью библиотеки simple-crypt.\n",
    "# Она представила информацию в виде строки, и затем записала в бинарный файл результат \n",
    "# работы метода simplecrypt.encrypt.\n",
    "\n",
    "# Вам необходимо установить библиотеку simple-crypt, и с помощью метода simplecrypt.decrypt \n",
    "# узнать, какой из паролей служит ключом для расшифровки файла с интересной информацией.\n",
    "\n",
    "# Ответом для данной задачи служит расшифрованная интересная информация Алисы.\n",
    "\n",
    "# Файл с информацией - encrypted.bin\n",
    "# Файл с паролями - passwords.txt"
   ]
  },
  {
   "cell_type": "code",
   "execution_count": 13,
   "id": "3e00caef",
   "metadata": {},
   "outputs": [],
   "source": [
    "# !pip install simple-crypt"
   ]
  },
  {
   "cell_type": "code",
   "execution_count": null,
   "id": "30325880",
   "metadata": {},
   "outputs": [],
   "source": [
    "# 1) идем на сайт https://pypi.python.org/pypi/simple-crypt\n",
    "# и скачиваем оттуда файл simple-crypt-4.1.7.tar.gz\n",
    "\n",
    "# 2) после распаковки файла копируем оттуда каталог\n",
    "# simplecrypt и вставляем его в <python>\\Lib\\site-packages\n",
    "# где <python> - место установки вашего дистрибутива python\n",
    "# (анаконды или стандартного интерпретатора)\n",
    "\n",
    "# 3) в командной строке выполняем команду\n",
    "# pip install pycryptodome для вашего дистрибутива python\n",
    "# (анаконды или стандартного интерпретатора). pycryptodome\n",
    "# заменяет пакет pycrypto, который нужен при установке\n",
    "# simple-crypt\n",
    "\n",
    "# 4) в самом интерпретаторе python теперь можно\n",
    "# набирать import simplecrypt и я надеюсь, что все\n",
    "# у вас будет теперь работать."
   ]
  },
  {
   "cell_type": "code",
   "execution_count": null,
   "id": "6fd0c85c",
   "metadata": {},
   "outputs": [],
   "source": []
  },
  {
   "cell_type": "code",
   "execution_count": null,
   "id": "bb4845b9",
   "metadata": {},
   "outputs": [],
   "source": [
    "# !!! Как это работает: !!!"
   ]
  },
  {
   "cell_type": "code",
   "execution_count": 48,
   "id": "0c4394e6",
   "metadata": {},
   "outputs": [],
   "source": [
    "ciphertext = encrypt('password', 'some text here')"
   ]
  },
  {
   "cell_type": "code",
   "execution_count": 49,
   "id": "ef788570",
   "metadata": {},
   "outputs": [],
   "source": [
    "plaintext = decrypt('password', ciphertext)"
   ]
  },
  {
   "cell_type": "code",
   "execution_count": 51,
   "id": "cd24cedd",
   "metadata": {},
   "outputs": [
    {
     "data": {
      "text/plain": [
       "b'some text here'"
      ]
     },
     "execution_count": 51,
     "metadata": {},
     "output_type": "execute_result"
    }
   ],
   "source": [
    "plaintext"
   ]
  },
  {
   "cell_type": "code",
   "execution_count": null,
   "id": "a5f7a089",
   "metadata": {},
   "outputs": [],
   "source": []
  },
  {
   "cell_type": "code",
   "execution_count": 55,
   "id": "7f061491",
   "metadata": {},
   "outputs": [],
   "source": [
    "# ! Открываем закодированный файл:\n",
    "with open(\"encrypted.bin\", \"rb\") as inp:\n",
    "    encrypted = inp.read()"
   ]
  },
  {
   "cell_type": "code",
   "execution_count": 72,
   "id": "0659ee5d",
   "metadata": {},
   "outputs": [
    {
     "data": {
      "text/plain": [
       "b'sc\\x00\\x02\\x96\\x93^\\xd7&1\\x9f\\xd0\\x14\\x02\\x14\\xd1\\x92`\\xeb\\x1b\\xdbulr\\x0e\\xeb\\x0f\\xf0D\\xcf\\x87\\xf5\\xd5\\xf2oKA\\x89b/\\xaa\\xa6y;\\x8b)\\x89\\xbdl\\x0f\\x96\\x144\\x8e\\xe2P\\xa8\\xcf\\xc7T\\xf6>.`m\\xfbC/\\xc1V\\xd2>\\xd0\\xaf\\xbb0%V\\x14\\xac\\xf7\\n\\xcd'"
      ]
     },
     "execution_count": 72,
     "metadata": {},
     "output_type": "execute_result"
    }
   ],
   "source": [
    "encrypted"
   ]
  },
  {
   "cell_type": "code",
   "execution_count": 57,
   "id": "fac76f53",
   "metadata": {},
   "outputs": [],
   "source": [
    "# ! Открываем файл со списком паролей:\n",
    "with open('passwords.txt') as t:\n",
    "    pass_words = t.read()\n",
    "    "
   ]
  },
  {
   "cell_type": "code",
   "execution_count": 58,
   "id": "f8abda09",
   "metadata": {},
   "outputs": [
    {
     "name": "stdout",
     "output_type": "stream",
     "text": [
      "9XB8nsIqRfYeswC\n",
      "4sEhUGLEZti9BiN\n",
      "bDjmT0NcIW8nzhb\n",
      "ZN6QQoMOO1ZQLUY\n",
      "RVrF2qdMpoq6Lib\n",
      "tnnX7HH3vJ9Hiji\n",
      "C24TJYYkqekv40l\n",
      "B2ropluPaMAitzE\n",
      "DRezNUVnr2zC0CP\n",
      "XCNmpTvvZb1n3mX\n"
     ]
    }
   ],
   "source": [
    "for i in pass_words.split():\n",
    "    print(i)\n",
    "    "
   ]
  },
  {
   "cell_type": "code",
   "execution_count": 77,
   "id": "f1970102",
   "metadata": {},
   "outputs": [
    {
     "name": "stdout",
     "output_type": "stream",
     "text": [
      "b'Alice loves Bob'\n"
     ]
    }
   ],
   "source": [
    "text = ''\n",
    "for i in pass_words.split():  \n",
    "        \n",
    "        try:\n",
    "            text = decrypt(i, encrypted)\n",
    "            if text:\n",
    "                print(text)\n",
    "                break\n",
    "            \n",
    "\n",
    "        except Exception:\n",
    "            pass"
   ]
  },
  {
   "cell_type": "code",
   "execution_count": null,
   "id": "28e3391f",
   "metadata": {},
   "outputs": [],
   "source": []
  }
 ],
 "metadata": {
  "kernelspec": {
   "display_name": "Python 3 (ipykernel)",
   "language": "python",
   "name": "python3"
  },
  "language_info": {
   "codemirror_mode": {
    "name": "ipython",
    "version": 3
   },
   "file_extension": ".py",
   "mimetype": "text/x-python",
   "name": "python",
   "nbconvert_exporter": "python",
   "pygments_lexer": "ipython3",
   "version": "3.10.0"
  }
 },
 "nbformat": 4,
 "nbformat_minor": 5
}
