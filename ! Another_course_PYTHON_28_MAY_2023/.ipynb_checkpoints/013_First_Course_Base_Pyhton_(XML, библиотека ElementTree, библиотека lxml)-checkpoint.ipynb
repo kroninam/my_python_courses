{
 "cells": [
  {
   "cell_type": "code",
   "execution_count": 66,
   "id": "8f866423",
   "metadata": {},
   "outputs": [],
   "source": [
    "from xml.etree import ElementTree"
   ]
  },
  {
   "cell_type": "code",
   "execution_count": 2,
   "id": "443f4319",
   "metadata": {},
   "outputs": [],
   "source": [
    "tree = ElementTree.parse('XML_example.xml')"
   ]
  },
  {
   "cell_type": "code",
   "execution_count": 3,
   "id": "853ed566",
   "metadata": {},
   "outputs": [],
   "source": [
    "root = tree.getroot()"
   ]
  },
  {
   "cell_type": "code",
   "execution_count": 4,
   "id": "fd38c437",
   "metadata": {},
   "outputs": [
    {
     "name": "stdout",
     "output_type": "stream",
     "text": [
      "<Element 'studentsList' at 0x000001A9B62D3E70>\n"
     ]
    }
   ],
   "source": [
    "print(root)"
   ]
  },
  {
   "cell_type": "code",
   "execution_count": 10,
   "id": "0f2744d8",
   "metadata": {
    "scrolled": true
   },
   "outputs": [
    {
     "name": "stdout",
     "output_type": "stream",
     "text": [
      "student {'id': '1'}\n",
      "student {'id': '2'}\n"
     ]
    }
   ],
   "source": [
    "for child in root:\n",
    "    print(child.tag, child.attrib)"
   ]
  },
  {
   "cell_type": "code",
   "execution_count": 11,
   "id": "cd4cdca4",
   "metadata": {},
   "outputs": [
    {
     "data": {
      "text/plain": [
       "'firstName'"
      ]
     },
     "execution_count": 11,
     "metadata": {},
     "output_type": "execute_result"
    }
   ],
   "source": [
    "root[0][0].tag"
   ]
  },
  {
   "cell_type": "code",
   "execution_count": 16,
   "id": "8279380a",
   "metadata": {},
   "outputs": [
    {
     "data": {
      "text/plain": [
       "'Greg'"
      ]
     },
     "execution_count": 16,
     "metadata": {},
     "output_type": "execute_result"
    }
   ],
   "source": [
    "root[0][0].text"
   ]
  },
  {
   "cell_type": "code",
   "execution_count": null,
   "id": "fc252cd8",
   "metadata": {},
   "outputs": [],
   "source": []
  },
  {
   "cell_type": "code",
   "execution_count": 24,
   "id": "e072e864",
   "metadata": {},
   "outputs": [
    {
     "data": {
      "text/plain": [
       "'scores'"
      ]
     },
     "execution_count": 24,
     "metadata": {},
     "output_type": "execute_result"
    }
   ],
   "source": [
    "root[0][3].tag"
   ]
  },
  {
   "cell_type": "code",
   "execution_count": 32,
   "id": "7db7c595",
   "metadata": {},
   "outputs": [
    {
     "name": "stdout",
     "output_type": "stream",
     "text": [
      "80\n",
      "80.2\n",
      "80\n"
     ]
    }
   ],
   "source": [
    "for i in root[1][3]:\n",
    "    print(i.text)"
   ]
  },
  {
   "cell_type": "code",
   "execution_count": 34,
   "id": "d5d07d35",
   "metadata": {},
   "outputs": [
    {
     "name": "stdout",
     "output_type": "stream",
     "text": [
      "<Element 'scores' at 0x000001A9B62E4040>\n",
      "70\n",
      "80\n",
      "90\n",
      "<Element 'scores' at 0x000001A9B62E42C0>\n",
      "80\n",
      "80.2\n",
      "80\n"
     ]
    }
   ],
   "source": [
    "for element in root.iter('scores'):\n",
    "    print(element)\n",
    "    for child in element:\n",
    "        print(child.text)"
   ]
  },
  {
   "cell_type": "code",
   "execution_count": null,
   "id": "eed43f43",
   "metadata": {},
   "outputs": [],
   "source": []
  },
  {
   "cell_type": "markdown",
   "id": "4ba1971e",
   "metadata": {},
   "source": [
    "# Создание деревьев и запись в xml формат"
   ]
  },
  {
   "cell_type": "code",
   "execution_count": 35,
   "id": "aec92920",
   "metadata": {},
   "outputs": [],
   "source": [
    "tree = ElementTree.parse('XML_example.xml')"
   ]
  },
  {
   "cell_type": "code",
   "execution_count": 36,
   "id": "2232b8d7",
   "metadata": {},
   "outputs": [],
   "source": [
    "tree.write('XML_example_copy.xml')"
   ]
  },
  {
   "cell_type": "code",
   "execution_count": 37,
   "id": "66735faf",
   "metadata": {},
   "outputs": [],
   "source": [
    "root = tree.getroot()"
   ]
  },
  {
   "cell_type": "code",
   "execution_count": 38,
   "id": "6c2be1b0",
   "metadata": {},
   "outputs": [
    {
     "data": {
      "text/plain": [
       "'Greg'"
      ]
     },
     "execution_count": 38,
     "metadata": {},
     "output_type": "execute_result"
    }
   ],
   "source": [
    "root[0][0].text"
   ]
  },
  {
   "cell_type": "code",
   "execution_count": 39,
   "id": "391e2a99",
   "metadata": {},
   "outputs": [
    {
     "data": {
      "text/plain": [
       "<Element 'student' at 0x000001A9B774E250>"
      ]
     },
     "execution_count": 39,
     "metadata": {},
     "output_type": "execute_result"
    }
   ],
   "source": [
    "root[0]"
   ]
  },
  {
   "cell_type": "code",
   "execution_count": null,
   "id": "6c262ac8",
   "metadata": {},
   "outputs": [],
   "source": []
  },
  {
   "cell_type": "code",
   "execution_count": 40,
   "id": "aaaa2f86",
   "metadata": {},
   "outputs": [],
   "source": [
    "greg = root[0]"
   ]
  },
  {
   "cell_type": "code",
   "execution_count": null,
   "id": "68038d09",
   "metadata": {},
   "outputs": [],
   "source": [
    "# увеличение оценки в модуле_1"
   ]
  },
  {
   "cell_type": "code",
   "execution_count": 41,
   "id": "86b32284",
   "metadata": {},
   "outputs": [],
   "source": [
    "module1 = next(greg.iter('module1'))"
   ]
  },
  {
   "cell_type": "code",
   "execution_count": 42,
   "id": "875bd92b",
   "metadata": {},
   "outputs": [
    {
     "name": "stdout",
     "output_type": "stream",
     "text": [
      "<Element 'module1' at 0x000001A9B774F920> 70\n"
     ]
    }
   ],
   "source": [
    "print(module1, module1.text)"
   ]
  },
  {
   "cell_type": "code",
   "execution_count": 43,
   "id": "c38c59d6",
   "metadata": {},
   "outputs": [],
   "source": [
    "module1.text = str(float(module1.text) + 30)"
   ]
  },
  {
   "cell_type": "code",
   "execution_count": 44,
   "id": "b687fa5a",
   "metadata": {},
   "outputs": [
    {
     "data": {
      "text/plain": [
       "'100.0'"
      ]
     },
     "execution_count": 44,
     "metadata": {},
     "output_type": "execute_result"
    }
   ],
   "source": [
    "module1.text"
   ]
  },
  {
   "cell_type": "code",
   "execution_count": 45,
   "id": "245f1b3e",
   "metadata": {},
   "outputs": [],
   "source": [
    "tree.write('XML_example_modified.xml')"
   ]
  },
  {
   "cell_type": "code",
   "execution_count": null,
   "id": "24842c9e",
   "metadata": {},
   "outputs": [],
   "source": []
  },
  {
   "cell_type": "code",
   "execution_count": 46,
   "id": "dd3c9c00",
   "metadata": {},
   "outputs": [],
   "source": [
    "# Изменение типа сертификата"
   ]
  },
  {
   "cell_type": "code",
   "execution_count": 47,
   "id": "7d81c65a",
   "metadata": {},
   "outputs": [],
   "source": [
    "greg = root[0]"
   ]
  },
  {
   "cell_type": "code",
   "execution_count": 48,
   "id": "0b36eb30",
   "metadata": {},
   "outputs": [
    {
     "data": {
      "text/plain": [
       "<Element 'certificate' at 0x000001A9B774F970>"
      ]
     },
     "execution_count": 48,
     "metadata": {},
     "output_type": "execute_result"
    }
   ],
   "source": [
    "greg[2]"
   ]
  },
  {
   "cell_type": "code",
   "execution_count": 49,
   "id": "bb892a87",
   "metadata": {},
   "outputs": [],
   "source": [
    "certificate = greg[2]"
   ]
  },
  {
   "cell_type": "code",
   "execution_count": 50,
   "id": "c3648784",
   "metadata": {},
   "outputs": [],
   "source": [
    "certificate.set('type', 'with distinction')"
   ]
  },
  {
   "cell_type": "code",
   "execution_count": 51,
   "id": "1b744587",
   "metadata": {},
   "outputs": [],
   "source": [
    "tree.write('XML_example_modified.xml')"
   ]
  },
  {
   "cell_type": "code",
   "execution_count": null,
   "id": "58d959d2",
   "metadata": {},
   "outputs": [],
   "source": []
  },
  {
   "cell_type": "code",
   "execution_count": null,
   "id": "567ad03a",
   "metadata": {},
   "outputs": [],
   "source": []
  },
  {
   "cell_type": "code",
   "execution_count": 52,
   "id": "e38dedfc",
   "metadata": {},
   "outputs": [],
   "source": [
    "# создание нового элемента в дереве:"
   ]
  },
  {
   "cell_type": "code",
   "execution_count": 53,
   "id": "0220d903",
   "metadata": {},
   "outputs": [],
   "source": [
    "greg = root[0]"
   ]
  },
  {
   "cell_type": "code",
   "execution_count": 54,
   "id": "f0009088",
   "metadata": {},
   "outputs": [],
   "source": [
    "description = ElementTree.Element('description')"
   ]
  },
  {
   "cell_type": "code",
   "execution_count": 55,
   "id": "487d8308",
   "metadata": {},
   "outputs": [],
   "source": [
    "description.text = 'Some text for this new element created'"
   ]
  },
  {
   "cell_type": "code",
   "execution_count": 56,
   "id": "881f07bb",
   "metadata": {},
   "outputs": [],
   "source": [
    "greg.append(description)"
   ]
  },
  {
   "cell_type": "code",
   "execution_count": 57,
   "id": "31ae0944",
   "metadata": {},
   "outputs": [],
   "source": [
    "tree.write('XML_example_modified.xml')"
   ]
  },
  {
   "cell_type": "code",
   "execution_count": null,
   "id": "3513cd25",
   "metadata": {},
   "outputs": [],
   "source": []
  },
  {
   "cell_type": "code",
   "execution_count": null,
   "id": "fdda32c3",
   "metadata": {},
   "outputs": [],
   "source": [
    "# теперь удалим этот элемент:"
   ]
  },
  {
   "cell_type": "code",
   "execution_count": 70,
   "id": "e77fa82e",
   "metadata": {},
   "outputs": [],
   "source": [
    "description = greg.find('description')"
   ]
  },
  {
   "cell_type": "code",
   "execution_count": 71,
   "id": "14ad9176",
   "metadata": {},
   "outputs": [],
   "source": [
    "greg.remove(description)"
   ]
  },
  {
   "cell_type": "code",
   "execution_count": 72,
   "id": "3cc89f3b",
   "metadata": {},
   "outputs": [],
   "source": [
    "tree.write('XML_example_modified.xml')"
   ]
  },
  {
   "cell_type": "code",
   "execution_count": null,
   "id": "28cd0f4c",
   "metadata": {},
   "outputs": [],
   "source": []
  },
  {
   "cell_type": "code",
   "execution_count": null,
   "id": "263503de",
   "metadata": {},
   "outputs": [],
   "source": []
  },
  {
   "cell_type": "markdown",
   "id": "adbf38be",
   "metadata": {},
   "source": [
    "# Библиотека lxml"
   ]
  },
  {
   "cell_type": "code",
   "execution_count": 73,
   "id": "34bf5fdc",
   "metadata": {},
   "outputs": [],
   "source": [
    "from lxml import etree"
   ]
  },
  {
   "cell_type": "code",
   "execution_count": 74,
   "id": "e8d43901",
   "metadata": {},
   "outputs": [],
   "source": [
    "import requests"
   ]
  },
  {
   "cell_type": "code",
   "execution_count": 75,
   "id": "9a77144e",
   "metadata": {},
   "outputs": [],
   "source": [
    "res = requests.get('https://stepik.org/users/568719888/profile')"
   ]
  },
  {
   "cell_type": "code",
   "execution_count": 76,
   "id": "d9c12447",
   "metadata": {},
   "outputs": [
    {
     "data": {
      "text/plain": [
       "200"
      ]
     },
     "execution_count": 76,
     "metadata": {},
     "output_type": "execute_result"
    }
   ],
   "source": [
    "res.status_code"
   ]
  },
  {
   "cell_type": "code",
   "execution_count": 78,
   "id": "9d9ca031",
   "metadata": {},
   "outputs": [
    {
     "data": {
      "text/plain": [
       "'text/html; charset=utf-8'"
      ]
     },
     "execution_count": 78,
     "metadata": {},
     "output_type": "execute_result"
    }
   ],
   "source": [
    "res.headers['Content-Type']"
   ]
  },
  {
   "cell_type": "code",
   "execution_count": 87,
   "id": "6b1590ee",
   "metadata": {},
   "outputs": [],
   "source": [
    "# res.text"
   ]
  },
  {
   "cell_type": "code",
   "execution_count": null,
   "id": "958af901",
   "metadata": {},
   "outputs": [],
   "source": []
  },
  {
   "cell_type": "code",
   "execution_count": 79,
   "id": "5d5c3056",
   "metadata": {},
   "outputs": [],
   "source": [
    "parser = etree.HTMLParser()"
   ]
  },
  {
   "cell_type": "code",
   "execution_count": 80,
   "id": "a6845360",
   "metadata": {},
   "outputs": [],
   "source": [
    "root = etree.fromstring(res.text, parser)"
   ]
  },
  {
   "cell_type": "code",
   "execution_count": 175,
   "id": "2c131449",
   "metadata": {},
   "outputs": [],
   "source": [
    "# вывод всех элементов 'a' (то есть ссылок):\n",
    "\n",
    "# for element in root.iter('a'):\n",
    "#     print(element, element.attrib)\n"
   ]
  },
  {
   "cell_type": "code",
   "execution_count": null,
   "id": "43562e4b",
   "metadata": {},
   "outputs": [],
   "source": []
  },
  {
   "cell_type": "markdown",
   "id": "650aefa3",
   "metadata": {},
   "source": [
    "# Задача"
   ]
  },
  {
   "cell_type": "code",
   "execution_count": null,
   "id": "83553302",
   "metadata": {},
   "outputs": [],
   "source": []
  },
  {
   "cell_type": "code",
   "execution_count": null,
   "id": "2a78deb3",
   "metadata": {},
   "outputs": [],
   "source": [
    "# Вам дано описание пирамиды из кубиков в формате XML.\n",
    "# Кубики могут быть трех цветов: красный (red), зеленый (green) и синий (blue).\n",
    "# Для каждого кубика известны его цвет, и известны кубики, расположенные прямо под ним.\n",
    "\n",
    "# Пример:\n",
    "\n",
    "<cube color=\"blue\">\n",
    "  <cube color=\"red\">\n",
    "    <cube color=\"green\">\n",
    "    </cube>\n",
    "  </cube>\n",
    "  <cube color=\"red\">\n",
    "  </cube>\n",
    "</cube>\n",
    " \n",
    "# Введем понятие ценности для кубиков. Самый верхний кубик, соответствующий \n",
    "# корню XML документа имеет ценность 1. Кубики, расположенные прямо под ним, \n",
    "# имеют ценность 2. Кубики, расположенные прямо под нижележащими кубиками, \n",
    "# имеют ценность 3. И т. д.\n",
    "\n",
    "# Ценность цвета равна сумме ценностей всех кубиков этого цвета.\n",
    "\n",
    "# Выведите через пробел три числа: ценности красного, зеленого и синего цветов.\n",
    "    \n",
    "# Sample Input:\n",
    "# <cube color=\"blue\"><cube color=\"red\"><cube color=\"green\"></cube></cube><cube color=\"red\"></cube></cube>\n",
    "\n",
    "# Sample Output:\n",
    "# 4 3 1"
   ]
  },
  {
   "cell_type": "code",
   "execution_count": 70,
   "id": "ab59a08c",
   "metadata": {},
   "outputs": [],
   "source": [
    "from xml.etree import ElementTree"
   ]
  },
  {
   "cell_type": "code",
   "execution_count": 110,
   "id": "7c83cb4e",
   "metadata": {},
   "outputs": [],
   "source": [
    "xml_string = '<cube color=\"blue\"><cube color=\"red\"><cube color=\"green\"></cube></cube><cube color=\"red\"></cube></cube>'"
   ]
  },
  {
   "cell_type": "code",
   "execution_count": 111,
   "id": "6a63b8c3",
   "metadata": {},
   "outputs": [],
   "source": [
    "root = ElementTree.fromstring(xml_string)"
   ]
  },
  {
   "cell_type": "code",
   "execution_count": 156,
   "id": "71a90ca8",
   "metadata": {},
   "outputs": [
    {
     "name": "stdout",
     "output_type": "stream",
     "text": [
      "blue\n"
     ]
    }
   ],
   "source": [
    "print(root.attrib['color'])"
   ]
  },
  {
   "cell_type": "code",
   "execution_count": 149,
   "id": "c0dd3580",
   "metadata": {},
   "outputs": [],
   "source": [
    "lst = []"
   ]
  },
  {
   "cell_type": "code",
   "execution_count": 153,
   "id": "6b8d66ab",
   "metadata": {},
   "outputs": [],
   "source": [
    "dict =  {'red': 0, 'green': 0, 'blue': 0}"
   ]
  },
  {
   "cell_type": "code",
   "execution_count": 148,
   "id": "0e14819c",
   "metadata": {},
   "outputs": [
    {
     "name": "stdout",
     "output_type": "stream",
     "text": [
      "red\n",
      "green\n",
      "blue\n"
     ]
    }
   ],
   "source": [
    "for i in dict:\n",
    "    print(i)"
   ]
  },
  {
   "cell_type": "code",
   "execution_count": 154,
   "id": "92c12ead",
   "metadata": {},
   "outputs": [],
   "source": [
    "for i in dict:\n",
    "    if i == root.attrib['color']:\n",
    "        dict[root.attrib['color']] +=1"
   ]
  },
  {
   "cell_type": "code",
   "execution_count": 155,
   "id": "4c30cc93",
   "metadata": {},
   "outputs": [
    {
     "data": {
      "text/plain": [
       "{'red': 0, 'green': 0, 'blue': 1}"
      ]
     },
     "execution_count": 155,
     "metadata": {},
     "output_type": "execute_result"
    }
   ],
   "source": [
    "dict"
   ]
  },
  {
   "cell_type": "code",
   "execution_count": null,
   "id": "176e67fd",
   "metadata": {},
   "outputs": [],
   "source": []
  },
  {
   "cell_type": "code",
   "execution_count": null,
   "id": "cc42f356",
   "metadata": {},
   "outputs": [],
   "source": [
    "for element in root:"
   ]
  },
  {
   "cell_type": "code",
   "execution_count": null,
   "id": "b488a91a",
   "metadata": {},
   "outputs": [],
   "source": []
  },
  {
   "cell_type": "code",
   "execution_count": 157,
   "id": "2c612aa8",
   "metadata": {},
   "outputs": [
    {
     "name": "stdout",
     "output_type": "stream",
     "text": [
      "cube\n",
      "cube\n"
     ]
    }
   ],
   "source": [
    "for element in root:\n",
    "    print(element.tag)"
   ]
  },
  {
   "cell_type": "code",
   "execution_count": null,
   "id": "45e49748",
   "metadata": {},
   "outputs": [],
   "source": []
  },
  {
   "cell_type": "code",
   "execution_count": 169,
   "id": "b6a030a3",
   "metadata": {},
   "outputs": [
    {
     "data": {
      "text/plain": [
       "{'color': 'green'}"
      ]
     },
     "execution_count": 169,
     "metadata": {},
     "output_type": "execute_result"
    }
   ],
   "source": [
    "root[0][0].attrib"
   ]
  },
  {
   "cell_type": "code",
   "execution_count": null,
   "id": "60234d73",
   "metadata": {},
   "outputs": [],
   "source": []
  },
  {
   "cell_type": "code",
   "execution_count": 184,
   "id": "a1421527",
   "metadata": {},
   "outputs": [],
   "source": [
    "level = ElementTree.Element('level')"
   ]
  },
  {
   "cell_type": "code",
   "execution_count": 185,
   "id": "d54b945c",
   "metadata": {},
   "outputs": [
    {
     "name": "stdout",
     "output_type": "stream",
     "text": [
      "color\n"
     ]
    }
   ],
   "source": [
    "for i in root.attrib:\n",
    "    print(i)"
   ]
  },
  {
   "cell_type": "code",
   "execution_count": 173,
   "id": "22386270",
   "metadata": {},
   "outputs": [
    {
     "data": {
      "text/plain": [
       "<Element 'level' at 0x000001A9B787F470>"
      ]
     },
     "execution_count": 173,
     "metadata": {},
     "output_type": "execute_result"
    }
   ],
   "source": [
    "level"
   ]
  },
  {
   "cell_type": "code",
   "execution_count": 176,
   "id": "d2e96af9",
   "metadata": {},
   "outputs": [
    {
     "name": "stdout",
     "output_type": "stream",
     "text": [
      "<Element 'cube' at 0x000001A9B76B4F40>\n"
     ]
    }
   ],
   "source": [
    "print(root)"
   ]
  },
  {
   "cell_type": "code",
   "execution_count": null,
   "id": "b6ce0398",
   "metadata": {},
   "outputs": [],
   "source": []
  },
  {
   "cell_type": "code",
   "execution_count": 179,
   "id": "6f0d06c8",
   "metadata": {},
   "outputs": [],
   "source": [
    "parser = etree.XMLParser()"
   ]
  },
  {
   "cell_type": "code",
   "execution_count": 181,
   "id": "7efda44d",
   "metadata": {},
   "outputs": [],
   "source": [
    "root = etree.fromstring(xml_string, parser)"
   ]
  },
  {
   "cell_type": "code",
   "execution_count": 218,
   "id": "72adeebb",
   "metadata": {},
   "outputs": [
    {
     "name": "stdout",
     "output_type": "stream",
     "text": [
      "level - 1 {'color': 'blue'}\n",
      "    level - 2 {'color': 'red'}\n",
      "    level - 2 {'color': 'red'}\n",
      "        level - 3 {'color': 'green'}\n"
     ]
    }
   ],
   "source": [
    "# вывод всех элементов 'cube' (то есть ссылок):\n",
    "print('level - 1', root.attrib)\n",
    "for element in root:\n",
    "    print('    level - 2', element.attrib)\n",
    "\n",
    "for element in root[0]:\n",
    "    print('        level - 3', element.attrib)\n"
   ]
  },
  {
   "cell_type": "code",
   "execution_count": null,
   "id": "5fd8c9cc",
   "metadata": {},
   "outputs": [],
   "source": []
  },
  {
   "cell_type": "markdown",
   "id": "4d9e1139",
   "metadata": {},
   "source": [
    "# Решение для частного случая в примере"
   ]
  },
  {
   "cell_type": "code",
   "execution_count": 244,
   "id": "cc5218f5",
   "metadata": {},
   "outputs": [],
   "source": [
    "# root = ElementTree.fromstring(input())\n",
    "root = ElementTree.fromstring(xml_string)"
   ]
  },
  {
   "cell_type": "code",
   "execution_count": null,
   "id": "33115838",
   "metadata": {},
   "outputs": [],
   "source": []
  },
  {
   "cell_type": "code",
   "execution_count": 243,
   "id": "50388d29",
   "metadata": {},
   "outputs": [],
   "source": [
    "xml_string = '<cube color=\"blue\"><cube color=\"red\"><cube color=\"green\"><cube color=\"blue\"><cube color=\"red\"><cube color=\"red\"></cube></cube></cube></cube></cube><cube color=\"blue\"><cube color=\"green\"></cube></cube><cube color=\"blue\"></cube></cube>'"
   ]
  },
  {
   "cell_type": "code",
   "execution_count": 245,
   "id": "4a0300be",
   "metadata": {},
   "outputs": [
    {
     "name": "stdout",
     "output_type": "stream",
     "text": [
      "level - 1 blue\n",
      "    level - 2 red\n",
      "         level - 3 green\n",
      "    level - 2 blue\n",
      "         level - 3 green\n",
      "    level - 2 blue\n",
      "2 6 5 "
     ]
    }
   ],
   "source": [
    "from xml.etree import ElementTree\n",
    "\n",
    "# root = ElementTree.fromstring(input())\n",
    "\n",
    "dict =  {'red': 0, 'green': 0, 'blue': 0}\n",
    "\n",
    "print('level - 1', root.attrib['color'])\n",
    "dict[root.attrib['color']] +=1\n",
    "\n",
    "\n",
    "for i in range(len(root)):\n",
    "    print('    level - 2', root[i].attrib['color'])\n",
    "    dict[root[i].attrib['color']] +=2\n",
    "    for j in range(len(root[i])):\n",
    "        print('         level - 3', root[i][j].attrib['color'])\n",
    "        dict[root[i][j].attrib['color']] +=3\n",
    "\n",
    "for i in dict.values():\n",
    "    print(i, end = ' ')"
   ]
  },
  {
   "cell_type": "code",
   "execution_count": 247,
   "id": "7945feeb",
   "metadata": {},
   "outputs": [
    {
     "name": "stdout",
     "output_type": "stream",
     "text": [
      "{'color': 'red'}\n",
      "{'color': 'blue'}\n",
      "{'color': 'blue'}\n"
     ]
    }
   ],
   "source": [
    "for element in root:\n",
    "    print(element.attrib)"
   ]
  },
  {
   "cell_type": "code",
   "execution_count": 254,
   "id": "702646bc",
   "metadata": {},
   "outputs": [
    {
     "name": "stdout",
     "output_type": "stream",
     "text": [
      "{'color': 'red'}\n"
     ]
    }
   ],
   "source": [
    "for element in root[0][0][0][0]:\n",
    "    print(element.attrib)"
   ]
  },
  {
   "cell_type": "code",
   "execution_count": null,
   "id": "17f285bb",
   "metadata": {},
   "outputs": [],
   "source": []
  },
  {
   "cell_type": "code",
   "execution_count": null,
   "id": "3025d5dc",
   "metadata": {},
   "outputs": [],
   "source": [
    "# Попытки решения общей задачи:"
   ]
  },
  {
   "cell_type": "code",
   "execution_count": 326,
   "id": "8fe19b94",
   "metadata": {},
   "outputs": [
    {
     "name": "stdout",
     "output_type": "stream",
     "text": [
      "level - 1 {'color': 'blue'}\n"
     ]
    }
   ],
   "source": [
    "print('level - 1', root.attrib)"
   ]
  },
  {
   "cell_type": "code",
   "execution_count": 255,
   "id": "2fa5a500",
   "metadata": {},
   "outputs": [
    {
     "data": {
      "text/plain": [
       "3"
      ]
     },
     "execution_count": 255,
     "metadata": {},
     "output_type": "execute_result"
    }
   ],
   "source": [
    "len(root)"
   ]
  },
  {
   "cell_type": "code",
   "execution_count": 269,
   "id": "0fdd2712",
   "metadata": {},
   "outputs": [
    {
     "name": "stdout",
     "output_type": "stream",
     "text": [
      "red\n",
      "green\n",
      "\n",
      "blue\n",
      "\n",
      "blue\n",
      "green\n",
      "\n",
      "blue\n"
     ]
    }
   ],
   "source": [
    "for i in range(len(root)):\n",
    "    print(root[i].attrib['color'])\n",
    "    \n",
    "    for j in range(len(root[i])):\n",
    "        print(root[i][j].attrib['color'])\n",
    "        print()\n",
    "        \n",
    "        for k in range(len(root[i][j])):\n",
    "            print(root[i][j][k].attrib['color'])\n",
    "            print()\n",
    "        \n",
    "        "
   ]
  },
  {
   "cell_type": "code",
   "execution_count": 334,
   "id": "8e279e62",
   "metadata": {},
   "outputs": [],
   "source": [
    "def F(current_root, level=1):\n",
    "    level +=1\n",
    "    for i in range(len(current_root)):\n",
    "        dict[current_root[i].attrib['color']] += level\n",
    "        print(level, current_root[i].attrib['color'])\n",
    "#         print(dict)\n",
    "#         print()\n",
    "        \n",
    "        F(current_root[i], level)\n",
    "    "
   ]
  },
  {
   "cell_type": "code",
   "execution_count": 335,
   "id": "12302fd9",
   "metadata": {},
   "outputs": [
    {
     "name": "stdout",
     "output_type": "stream",
     "text": [
      "2 red\n",
      "3 green\n",
      "4 blue\n",
      "5 red\n",
      "6 red\n",
      "2 blue\n",
      "3 green\n",
      "2 blue\n"
     ]
    }
   ],
   "source": [
    "dict[root.attrib['color']] += 1\n",
    "F(root)"
   ]
  },
  {
   "cell_type": "code",
   "execution_count": 333,
   "id": "eab13736",
   "metadata": {},
   "outputs": [],
   "source": [
    "dict =  {'red': 0, 'green': 0, 'blue': 0}"
   ]
  },
  {
   "cell_type": "code",
   "execution_count": 336,
   "id": "2c610a62",
   "metadata": {},
   "outputs": [
    {
     "data": {
      "text/plain": [
       "{'red': 13, 'green': 6, 'blue': 9}"
      ]
     },
     "execution_count": 336,
     "metadata": {},
     "output_type": "execute_result"
    }
   ],
   "source": [
    "dict"
   ]
  },
  {
   "cell_type": "code",
   "execution_count": null,
   "id": "c81c988e",
   "metadata": {},
   "outputs": [],
   "source": [
    "<cube color=\"blue\">\n",
    "\n",
    "  <cube color=\"red\">\n",
    "  <cube color=\"green\">\n",
    "  <cube color=\"blue\">\n",
    "  <cube color=\"red\">\n",
    "  <cube color=\"red\">\n",
    "  </cube>\n",
    "  </cube>\n",
    "  </cube>\n",
    "  </cube>\n",
    "  </cube>\n",
    "\n",
    "  <cube color=\"blue\">\n",
    "  <cube color=\"green\">\n",
    "  </cube>\n",
    "  </cube>\n",
    "\n",
    "  <cube color=\"blue\">\n",
    "  </cube>\n",
    "\n",
    "</cube>"
   ]
  },
  {
   "cell_type": "code",
   "execution_count": null,
   "id": "3a8d80c0",
   "metadata": {},
   "outputs": [],
   "source": []
  },
  {
   "cell_type": "markdown",
   "id": "2f3ac196",
   "metadata": {},
   "source": [
    "# Решение общей задачи при помощи реккурентной функции"
   ]
  },
  {
   "cell_type": "code",
   "execution_count": null,
   "id": "aff8c80f",
   "metadata": {},
   "outputs": [],
   "source": [
    "from xml.etree import ElementTree\n",
    "\n",
    "root = ElementTree.fromstring(input())\n",
    "\n",
    "dict =  {'red': 0, 'green': 0, 'blue': 0}\n",
    "\n",
    "def F(current_root, level=1):\n",
    "    level +=1\n",
    "    for i in range(len(current_root)):\n",
    "        dict[current_root[i].attrib['color']] += level\n",
    "        \n",
    "        # здесь функция F вызывается внутри самой себя, и текущим root'ом - становится child предыдущего root'a: \n",
    "        F(current_root[i], level)\n",
    "        \n",
    "    \n",
    "dict[root.attrib['color']] += 1\n",
    "F(root)\n",
    "\n",
    "for i in dict.values():\n",
    "    print(i, end = ' ')"
   ]
  }
 ],
 "metadata": {
  "kernelspec": {
   "display_name": "Python 3 (ipykernel)",
   "language": "python",
   "name": "python3"
  },
  "language_info": {
   "codemirror_mode": {
    "name": "ipython",
    "version": 3
   },
   "file_extension": ".py",
   "mimetype": "text/x-python",
   "name": "python",
   "nbconvert_exporter": "python",
   "pygments_lexer": "ipython3",
   "version": "3.10.0"
  }
 },
 "nbformat": 4,
 "nbformat_minor": 5
}
