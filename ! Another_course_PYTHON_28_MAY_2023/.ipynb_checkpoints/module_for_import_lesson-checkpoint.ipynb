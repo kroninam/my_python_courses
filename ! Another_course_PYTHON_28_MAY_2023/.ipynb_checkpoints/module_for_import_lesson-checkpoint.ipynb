{
 "cells": [
  {
   "cell_type": "code",
   "execution_count": 16,
   "id": "559cd963",
   "metadata": {},
   "outputs": [
    {
     "name": "stdout",
     "output_type": "stream",
     "text": [
      "Import is execution\n",
      "__name__ ==  __main__\n"
     ]
    }
   ],
   "source": [
    "import time\n",
    "\n",
    "class NonPositiveError(Exception):\n",
    "    pass\n",
    "\n",
    "class PositiveList(list):\n",
    "    def append(self, x):\n",
    "        if x <= 0:\n",
    "            raise NonPositiveError\n",
    "        else:\n",
    "            self += [x]\n",
    "            \n",
    "print('Import is execution')\n",
    "if __name__ == '__main__':\n",
    "    time.sleep(5)\n",
    "print('__name__ == ', __name__)\n"
   ]
  },
  {
   "cell_type": "code",
   "execution_count": null,
   "id": "a2e29e9f",
   "metadata": {},
   "outputs": [],
   "source": []
  }
 ],
 "metadata": {
  "kernelspec": {
   "display_name": "Python 3 (ipykernel)",
   "language": "python",
   "name": "python3"
  },
  "language_info": {
   "codemirror_mode": {
    "name": "ipython",
    "version": 3
   },
   "file_extension": ".py",
   "mimetype": "text/x-python",
   "name": "python",
   "nbconvert_exporter": "python",
   "pygments_lexer": "ipython3",
   "version": "3.10.0"
  }
 },
 "nbformat": 4,
 "nbformat_minor": 5
}
