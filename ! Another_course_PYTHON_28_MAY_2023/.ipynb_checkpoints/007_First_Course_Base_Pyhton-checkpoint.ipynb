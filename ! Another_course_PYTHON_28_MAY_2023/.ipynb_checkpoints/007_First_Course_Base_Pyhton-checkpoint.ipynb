{
 "cells": [
  {
   "cell_type": "markdown",
   "id": "79d673bb",
   "metadata": {},
   "source": [
    "# 2.4 Работа с файловой системой и файлами"
   ]
  },
  {
   "cell_type": "markdown",
   "id": "3ce9a0cc",
   "metadata": {},
   "source": [
    "# Задача"
   ]
  },
  {
   "cell_type": "code",
   "execution_count": null,
   "id": "62392dba",
   "metadata": {},
   "outputs": [],
   "source": [
    "# Вам дается текстовый файл, содержащий некоторое количество непустых строк.\n",
    "# На основе него сгенерируйте новый текстовый файл, содержащий те же строки в обратном порядке.\n",
    "\n",
    "# Пример входного файла:\n",
    "# ab\n",
    "# c\n",
    "# dde\n",
    "# ff\n",
    "\n",
    "# Пример выходного файла:\n",
    "# ff\n",
    "# dde\n",
    "# c\n",
    "# ab"
   ]
  },
  {
   "cell_type": "code",
   "execution_count": 39,
   "id": "f8bf9e0d",
   "metadata": {},
   "outputs": [],
   "source": [
    "lst = []\n",
    "with open('dataset_24465_4.txt') as f:\n",
    "    for i in f:\n",
    "        lst.append(i.strip())"
   ]
  },
  {
   "cell_type": "code",
   "execution_count": 40,
   "id": "17f1774b",
   "metadata": {},
   "outputs": [],
   "source": [
    "ff = open('new_dataset_24465_4.txt', 'w')\n",
    "for i in lst[::-1]:\n",
    "    ff.write(i + '\\n')\n",
    "    \n",
    "ff.close()"
   ]
  },
  {
   "cell_type": "code",
   "execution_count": null,
   "id": "55045949",
   "metadata": {},
   "outputs": [],
   "source": []
  },
  {
   "cell_type": "markdown",
   "id": "b9db468d",
   "metadata": {},
   "source": [
    "# Работа с os & os.path"
   ]
  },
  {
   "cell_type": "code",
   "execution_count": 135,
   "id": "6be40e7d",
   "metadata": {},
   "outputs": [
    {
     "name": "stdout",
     "output_type": "stream",
     "text": [
      "['.ipynb_checkpoints', '001_First_Course_Base_Pyhton.ipynb', '002_First_Course_Base_Pyhton.ipynb', '003_First_Course_Base_Pyhton.ipynb', '004_First_Course_Base_Pyhton.ipynb', '005_First_Course_Base_Pyhton.ipynb', '006_First_Course_Base_Pyhton.ipynb', '007_First_Course_Base_Pyhton.ipynb', '18_09_2023_test.txt', 'dataset_24465_4.txt', 'encrypted.bin', 'main.zip', 'module_for_import_lesson.ipynb', 'new_dataset_24465_4.txt', 'new_file.txt', 'passwords.txt', 'sample.zip', 'sample_ans.txt', 'simple-crypt-4.1.7', 'simple-crypt-4.1.7.tar.gz', 'unzip', 'unzip_main']\n",
      "\n",
      "['001_First_Course_Base_Pyhton-checkpoint.ipynb', '002_First_Course_Base_Pyhton-checkpoint.ipynb', '003_First_Course_Base_Pyhton-checkpoint.ipynb', '004_First_Course_Base_Pyhton-checkpoint.ipynb', '005_First_Course_Base_Pyhton-checkpoint.ipynb', '006_First_Course_Base_Pyhton-checkpoint.ipynb', '007_First_Course_Base_Pyhton-checkpoint.ipynb', 'module_for_import_lesson-checkpoint.ipynb']\n"
     ]
    }
   ],
   "source": [
    "import os\n",
    "import os.path\n",
    "\n",
    "# перечисляются файлы внутри текущей директории:\n",
    "print(os.listdir())\n",
    "print()\n",
    "print(os.listdir('.ipynb_checkpoints'))"
   ]
  },
  {
   "cell_type": "code",
   "execution_count": null,
   "id": "480f02c3",
   "metadata": {},
   "outputs": [],
   "source": []
  },
  {
   "cell_type": "code",
   "execution_count": 132,
   "id": "a5606715",
   "metadata": {},
   "outputs": [
    {
     "name": "stdout",
     "output_type": "stream",
     "text": [
      "D:\\Magic\\Git\\!my_python_courses\\! Another_course_PYTHON_28_MAY_2023\\unzip_main\n"
     ]
    }
   ],
   "source": [
    "# узнаем какая папка является текущей:\n",
    "print(os.getcwd())"
   ]
  },
  {
   "cell_type": "code",
   "execution_count": 136,
   "id": "49941b28",
   "metadata": {},
   "outputs": [
    {
     "name": "stdout",
     "output_type": "stream",
     "text": [
      "D:\\Magic\\Git\\!my_python_courses\\! Another_course_PYTHON_28_MAY_2023\\simple-crypt-4.1.7\\simple-crypt-4.1.7\n"
     ]
    }
   ],
   "source": [
    "# для того, чтобы сменить текущую директорию:\n",
    "\n",
    "os.chdir('simple-crypt-4.1.7/simple-crypt-4.1.7')\n",
    "# меняем обратно:\n",
    "# os.chdir('D:\\Magic\\Git\\!my_python_courses\\! Another_course_PYTHON_28_MAY_2023')\n",
    "\n",
    "# и проверить какая сейчас текущая директория:\n",
    "print(os.getcwd())"
   ]
  },
  {
   "cell_type": "code",
   "execution_count": null,
   "id": "5e4f03c5",
   "metadata": {},
   "outputs": [],
   "source": []
  },
  {
   "cell_type": "code",
   "execution_count": 44,
   "id": "476eabd2",
   "metadata": {},
   "outputs": [
    {
     "name": "stdout",
     "output_type": "stream",
     "text": [
      "True\n"
     ]
    }
   ],
   "source": [
    "# проверка на существование файла\n",
    "print(os.path.exists('001_First_Course_Base_Pyhton.ipynb'))"
   ]
  },
  {
   "cell_type": "code",
   "execution_count": 46,
   "id": "6adae12e",
   "metadata": {},
   "outputs": [
    {
     "name": "stdout",
     "output_type": "stream",
     "text": [
      "False\n",
      "True\n"
     ]
    }
   ],
   "source": [
    "# проверка на то, является ли файл папкой(директорией) или являтеся ли он файлом:\n",
    "print(os.path.isdir('001_First_Course_Base_Pyhton.ipynb'))\n",
    "print(os.path.isfile('001_First_Course_Base_Pyhton.ipynb'))"
   ]
  },
  {
   "cell_type": "code",
   "execution_count": 47,
   "id": "321c51e3",
   "metadata": {},
   "outputs": [
    {
     "name": "stdout",
     "output_type": "stream",
     "text": [
      "D:\\Magic\\Git\\!my_python_courses\\! Another_course_PYTHON_28_MAY_2023\\001_First_Course_Base_Pyhton.ipynb\n"
     ]
    }
   ],
   "source": [
    "# получение абсолютного пути до нашего файла:\n",
    "\n",
    "print(os.path.abspath('001_First_Course_Base_Pyhton.ipynb'))"
   ]
  },
  {
   "cell_type": "code",
   "execution_count": null,
   "id": "1eda056f",
   "metadata": {},
   "outputs": [],
   "source": []
  },
  {
   "cell_type": "code",
   "execution_count": 50,
   "id": "1b2092d6",
   "metadata": {},
   "outputs": [
    {
     "name": "stdout",
     "output_type": "stream",
     "text": [
      "['PKG-INFO', 'README.md', 'README.txt', 'setup.py', 'src']\n"
     ]
    }
   ],
   "source": [
    "# список файлов которые лежат в папке:\n",
    "\n",
    "print(os.listdir('simple-crypt-4.1.7/simple-crypt-4.1.7'))"
   ]
  },
  {
   "cell_type": "code",
   "execution_count": null,
   "id": "043e7ad6",
   "metadata": {},
   "outputs": [],
   "source": []
  },
  {
   "cell_type": "code",
   "execution_count": 59,
   "id": "1135fbf2",
   "metadata": {},
   "outputs": [
    {
     "name": "stdout",
     "output_type": "stream",
     "text": [
      ". ['.ipynb_checkpoints', 'simple-crypt-4.1.7'] ['001_First_Course_Base_Pyhton.ipynb', '002_First_Course_Base_Pyhton.ipynb', '003_First_Course_Base_Pyhton.ipynb', '004_First_Course_Base_Pyhton.ipynb', '005_First_Course_Base_Pyhton.ipynb', '006_First_Course_Base_Pyhton.ipynb', '007_First_Course_Base_Pyhton.ipynb', '18_09_2023_test.txt', 'dataset_24465_4.txt', 'encrypted.bin', 'module_for_import_lesson.ipynb', 'new_dataset_24465_4.txt', 'new_file.txt', 'passwords.txt', 'simple-crypt-4.1.7.tar.gz']\n",
      ".\\.ipynb_checkpoints [] ['001_First_Course_Base_Pyhton-checkpoint.ipynb', '002_First_Course_Base_Pyhton-checkpoint.ipynb', '003_First_Course_Base_Pyhton-checkpoint.ipynb', '004_First_Course_Base_Pyhton-checkpoint.ipynb', '005_First_Course_Base_Pyhton-checkpoint.ipynb', '006_First_Course_Base_Pyhton-checkpoint.ipynb', '007_First_Course_Base_Pyhton-checkpoint.ipynb', 'module_for_import_lesson-checkpoint.ipynb']\n",
      ".\\simple-crypt-4.1.7 ['simple-crypt-4.1.7'] []\n",
      ".\\simple-crypt-4.1.7\\simple-crypt-4.1.7 ['src'] ['PKG-INFO', 'README.md', 'README.txt', 'setup.py']\n",
      ".\\simple-crypt-4.1.7\\simple-crypt-4.1.7\\src ['simplecrypt'] []\n",
      ".\\simple-crypt-4.1.7\\simple-crypt-4.1.7\\src\\simplecrypt [] ['example-file.py', 'example-interactive.py', 'tests.py', '__init__.py']\n"
     ]
    }
   ],
   "source": [
    "# метод os.walk рекурсивно перебирает все папки в заданной директории и ищет все имеющиеся в них файлы:\n",
    "# он заходит в каждую папку и там заходит в каждую папку и выводит имеющиеся файлы:\n",
    "\n",
    "for curent_dir, dirs, files in os.walk('.'):\n",
    "    print(curent_dir, dirs, files)"
   ]
  },
  {
   "cell_type": "code",
   "execution_count": null,
   "id": "fbf7f246",
   "metadata": {},
   "outputs": [],
   "source": []
  },
  {
   "cell_type": "code",
   "execution_count": 153,
   "id": "3b7b2d91",
   "metadata": {},
   "outputs": [
    {
     "name": "stdout",
     "output_type": "stream",
     "text": [
      "D:\\Magic\\Git\\!my_python_courses\\! Another_course_PYTHON_28_MAY_2023\\sample_for_shutill\n",
      "D:\\Magic\\Git\\!my_python_courses\\! Another_course_PYTHON_28_MAY_2023\\sample_for_shutill\n"
     ]
    },
    {
     "data": {
      "text/plain": [
       "'1_copy.txt'"
      ]
     },
     "execution_count": 153,
     "metadata": {},
     "output_type": "execute_result"
    }
   ],
   "source": [
    "# копирование данных из одного файла в другой при помощи шутил:\n",
    "\n",
    "import shutil\n",
    "print(os.getcwd())\n",
    "os.chdir('D:\\Magic\\Git\\!my_python_courses\\! Another_course_PYTHON_28_MAY_2023\\sample_for_shutill')\n",
    "print(os.getcwd())\n",
    "\n",
    "shutil.copy('1.txt', '1_copy.txt')"
   ]
  },
  {
   "cell_type": "code",
   "execution_count": 154,
   "id": "a1683044",
   "metadata": {},
   "outputs": [
    {
     "name": "stdout",
     "output_type": "stream",
     "text": [
      "D:\\Magic\\Git\\!my_python_courses\\! Another_course_PYTHON_28_MAY_2023\n"
     ]
    }
   ],
   "source": [
    "# копирование целиком всей папки:\n",
    "os.chdir('D:\\Magic\\Git\\!my_python_courses\\! Another_course_PYTHON_28_MAY_2023')\n",
    "print(os.getcwd())\n"
   ]
  },
  {
   "cell_type": "code",
   "execution_count": 156,
   "id": "703d5996",
   "metadata": {},
   "outputs": [
    {
     "data": {
      "text/plain": [
       "'sample_for_shutill_copy_tree'"
      ]
     },
     "execution_count": 156,
     "metadata": {},
     "output_type": "execute_result"
    }
   ],
   "source": [
    "shutil.copytree('sample_for_shutill', 'sample_for_shutill_copy_tree')"
   ]
  },
  {
   "cell_type": "markdown",
   "id": "a6587420",
   "metadata": {},
   "source": [
    "# Задача"
   ]
  },
  {
   "cell_type": "code",
   "execution_count": null,
   "id": "a2f6b538",
   "metadata": {},
   "outputs": [],
   "source": [
    "# Вам дана в архиве (здесь файл - main.zip) файловая структура, состоящая из директорий и файлов.\n",
    "\n",
    "# Вам необходимо распаковать этот архив, и затем найти в данной в файловой структуре \n",
    "# все директории, в которых есть хотя бы один файл с расширением \".py\". \n",
    "\n",
    "# Ответом на данную задачу будет являться файл со списком таких директорий, \n",
    "# отсортированных в лексикографическом порядке.\n",
    "\n",
    "# Для лучшего понимания формата задачи, ознакомьтесь с примером.\n",
    "\n",
    "# Пример архива - здесь 'sample.zip'\n",
    "# Пример ответа - здесь 'sample_ans.txt'\n"
   ]
  },
  {
   "cell_type": "markdown",
   "id": "1f91300e",
   "metadata": {},
   "source": [
    "# Пример решения"
   ]
  },
  {
   "cell_type": "code",
   "execution_count": 64,
   "id": "7eea1c1b",
   "metadata": {},
   "outputs": [],
   "source": [
    "os.chdir('.')"
   ]
  },
  {
   "cell_type": "code",
   "execution_count": 69,
   "id": "b185b88d",
   "metadata": {},
   "outputs": [
    {
     "data": {
      "text/plain": [
       "'D:\\\\Magic\\\\Git\\\\!my_python_courses\\\\! Another_course_PYTHON_28_MAY_2023'"
      ]
     },
     "execution_count": 69,
     "metadata": {},
     "output_type": "execute_result"
    }
   ],
   "source": [
    "# текущая директория:\n",
    "os.getcwd()"
   ]
  },
  {
   "cell_type": "code",
   "execution_count": 82,
   "id": "465c748b",
   "metadata": {},
   "outputs": [],
   "source": [
    "# Разархивирование zip файла:\n",
    "\n",
    "from zipfile import ZipFile\n",
    "\n",
    "# loading the temp.zip and creating a zip object\n",
    "with ZipFile(\"D:\\\\Magic\\\\Git\\\\!my_python_courses\\\\! Another_course_PYTHON_28_MAY_2023\\\\sample.zip\", 'r') as zObject:\n",
    "  \n",
    "    # Extracting all the members of the zip \n",
    "    # into a specific location.\n",
    "    zObject.extractall(\n",
    "        path=\"D:\\\\Magic\\\\Git\\\\!my_python_courses\\\\! Another_course_PYTHON_28_MAY_2023\\\\unzip\")"
   ]
  },
  {
   "cell_type": "code",
   "execution_count": 83,
   "id": "cc7a5320",
   "metadata": {},
   "outputs": [],
   "source": [
    "# меняем директорию:\n",
    "os.chdir('D:\\\\Magic\\\\Git\\\\!my_python_courses\\\\! Another_course_PYTHON_28_MAY_2023\\\\unzip')"
   ]
  },
  {
   "cell_type": "code",
   "execution_count": 84,
   "id": "1b3710a6",
   "metadata": {},
   "outputs": [
    {
     "data": {
      "text/plain": [
       "'D:\\\\Magic\\\\Git\\\\!my_python_courses\\\\! Another_course_PYTHON_28_MAY_2023\\\\unzip'"
      ]
     },
     "execution_count": 84,
     "metadata": {},
     "output_type": "execute_result"
    }
   ],
   "source": [
    "# текущая директория:\n",
    "os.getcwd()"
   ]
  },
  {
   "cell_type": "code",
   "execution_count": 117,
   "id": "264e3e91",
   "metadata": {},
   "outputs": [
    {
     "name": "stdout",
     "output_type": "stream",
     "text": [
      "sample\n",
      "sample\\a\n",
      "sample\\a\\c\n",
      "sample\\a\\c\n",
      "sample\\b\n"
     ]
    }
   ],
   "source": [
    "# рекурсивно проходим все папки:\n",
    "\n",
    "for curent_dir, dirs, files in os.walk('.'):\n",
    "#     print(curent_dir, dirs, files)\n",
    "    \n",
    "    for i in files:\n",
    "#         print(i[-3:])\n",
    "        if i[-3:] == '.py':\n",
    "            print(curent_dir.lstrip('.\\\\'))"
   ]
  },
  {
   "cell_type": "code",
   "execution_count": null,
   "id": "076c83ca",
   "metadata": {},
   "outputs": [],
   "source": []
  },
  {
   "cell_type": "markdown",
   "id": "c4c1a27a",
   "metadata": {},
   "source": [
    "# Решение"
   ]
  },
  {
   "cell_type": "code",
   "execution_count": 118,
   "id": "6ca8d399",
   "metadata": {},
   "outputs": [],
   "source": [
    "# Разархивирование zip файла:\n",
    "\n",
    "from zipfile import ZipFile\n",
    "\n",
    "# loading the temp.zip and creating a zip object\n",
    "with ZipFile(\"D:\\\\Magic\\\\Git\\\\!my_python_courses\\\\! Another_course_PYTHON_28_MAY_2023\\\\main.zip\", 'r') as zObject:\n",
    "  \n",
    "    # Extracting all the members of the zip \n",
    "    # into a specific location.\n",
    "    zObject.extractall(\n",
    "        path=\"D:\\\\Magic\\\\Git\\\\!my_python_courses\\\\! Another_course_PYTHON_28_MAY_2023\\\\unzip_main\")"
   ]
  },
  {
   "cell_type": "code",
   "execution_count": 120,
   "id": "7b26c1ae",
   "metadata": {},
   "outputs": [
    {
     "data": {
      "text/plain": [
       "'D:\\\\Magic\\\\Git\\\\!my_python_courses\\\\! Another_course_PYTHON_28_MAY_2023\\\\unzip'"
      ]
     },
     "execution_count": 120,
     "metadata": {},
     "output_type": "execute_result"
    }
   ],
   "source": [
    "# текущая директория:\n",
    "os.getcwd()"
   ]
  },
  {
   "cell_type": "code",
   "execution_count": 121,
   "id": "d10ae752",
   "metadata": {},
   "outputs": [],
   "source": [
    "os.chdir('D:\\\\Magic\\\\Git\\\\!my_python_courses\\\\! Another_course_PYTHON_28_MAY_2023\\\\unzip_main')"
   ]
  },
  {
   "cell_type": "code",
   "execution_count": 126,
   "id": "c525d72b",
   "metadata": {},
   "outputs": [
    {
     "name": "stdout",
     "output_type": "stream",
     "text": [
      "main\n",
      "main\n",
      "main\n",
      "main\n",
      "main\n",
      "main\n",
      "main\n",
      "main\n",
      "main\n",
      "main\n",
      "main\n",
      "main\n",
      "main\\afkgv\n",
      "main\\frtrl\n",
      "main\\hgyoc\n",
      "main\\hgyoc\n",
      "main\\hgyoc\n",
      "main\\hgyoc\n",
      "main\\hgyoc\\kwawh\n",
      "main\\hgyoc\\kwawh\\hapry\n",
      "main\\hgyoc\\kwawh\\hapry\n",
      "main\\hgyoc\\kwawh\\rzgzv\n",
      "main\\hgyoc\\ycbxr\\ivjta\n",
      "main\\ksuvk\\xjrqt\n",
      "main\\ksuvk\\xjrqt\\qdbqt\\hotgx\n",
      "main\\ksuvk\\xjrqt\\qdbqt\\hotgx\\izwwv\n",
      "main\\ksuvk\\xjrqt\\qdbqt\\hotgx\\izwwv\n",
      "main\\ksuvk\\xjrqt\\qdbqt\\hotgx\\izwwv\n",
      "main\\ksuvk\\xjrqt\\qdbqt\\prkcp\\dnyyv\n",
      "main\\ksuvk\\xjrqt\\qdbqt\\prkcp\\dnyyv\n",
      "main\\ksuvk\\xjrqt\\qdbqt\\prkcp\\dnyyv\n",
      "main\\lqbli\\otofk\n",
      "main\\lqbli\\otofk\n",
      "main\\lqbli\\otofk\n",
      "main\\lqbli\\otofk\\armko\n",
      "main\\mwhci\n",
      "main\\olmhl\\mmtsz\n",
      "main\\olmhl\\mmtsz\n",
      "main\\olmhl\\mmtsz\n",
      "main\\olmhl\\mmtsz\n",
      "main\\olmhl\\mmtsz\\nujko\\ywjka\n",
      "main\\olmhl\\mmtsz\\nujko\\ywjka\n",
      "main\\olmhl\\mmtsz\\nujko\\ywjka\\pxjip\n",
      "main\\olmhl\\mmtsz\\nujko\\ywjka\\pxjip\n",
      "main\\olmhl\\mmtsz\\nujko\\ywjka\\pxjip\n",
      "main\\olmhl\\mmtsz\\nujko\\ywjka\\pxjip\n",
      "main\\olmhl\\mmtsz\\nujko\\ywjka\\pxjip\\wthmo\n",
      "main\\olmhl\\mmtsz\\nujko\\ywjka\\pxjip\\wthmo\n",
      "main\\olmhl\\mmtsz\\nujko\\ywjka\\pxjip\\wthmo\n",
      "main\\olmhl\\mmtsz\\nujko\\ywjka\\pxjip\\wthmo\\rwwuw\n",
      "main\\olmhl\\mmtsz\\nujko\\ywjka\\pxjip\\wthmo\\wtgrc\n",
      "main\\olmhl\\mmtsz\\nujko\\ywjka\\pxjip\\wthmo\\wtgrc\n",
      "main\\olmhl\\mmtsz\\nujko\\ywjka\\pxjip\\wthmo\\wtgrc\\grnfu\n",
      "main\\olmhl\\mmtsz\\nujko\\ywjka\\pxjip\\wthmo\\wtgrc\\juoxd\n",
      "main\\olmhl\\mmtsz\\nujko\\ywjka\\pxjip\\wthmo\\wtgrc\\kztxg\\qwlrx\n",
      "main\\olmhl\\mmtsz\\nujko\\ywjka\\pxjip\\wthmo\\wtgrc\\kztxg\\qwlrx\n",
      "main\\olmhl\\mmtsz\\nujko\\ywjka\\pxjip\\wthmo\\wtgrc\\kztxg\\qwlrx\n",
      "main\\olmhl\\mmtsz\\nujko\\ywjka\\pxjip\\wthmo\\wtgrc\\kztxg\\qwlrx\n",
      "main\\olmhl\\mmtsz\\nujko\\ywjka\\pxjip\\wthmo\\wtgrc\\kztxg\\qwlrx\\djozj\n",
      "main\\olmhl\\mmtsz\\nujko\\ywjka\\pxjip\\wthmo\\wtgrc\\kztxg\\qwlrx\\lirot\n",
      "main\\olmhl\\mmtsz\\nujko\\ywjka\\pxjip\\wthmo\\wtgrc\\kztxg\\qwlrx\\nfcxf\n",
      "main\\olmhl\\mmtsz\\nujko\\ywjka\\pxjip\\wthmo\\wtgrc\\mgplg\\rbyav\n",
      "main\\olmhl\\mmtsz\\nujko\\ywjka\\pxjip\\wthmo\\wtgrc\\mgplg\\rbyav\n",
      "main\\olmhl\\mmtsz\\nujko\\ywjka\\pxjip\\wthmo\\wtgrc\\mgplg\\rbyav\\ppeir\\subdi\n",
      "main\\olmhl\\mmtsz\\nujko\\ywjka\\pxjip\\wthmo\\wtgrc\\mgplg\\rbyav\\ppeir\\subdi\n",
      "main\\olmhl\\mmtsz\\nujko\\ywjka\\pxjip\\wthmo\\wtgrc\\mgplg\\rbyav\\ppeir\\subdi\n",
      "main\\olmhl\\mmtsz\\nujko\\ywjka\\pxjip\\wthmo\\wtgrc\\mgplg\\rbyav\\ppeir\\subdi\n",
      "main\\olmhl\\mmtsz\\nujko\\ywjka\\pxjip\\wthmo\\wtgrc\\mgplg\\rbyav\\ppeir\\subdi\n",
      "main\\olmhl\\mmtsz\\nujko\\ywjka\\pxjip\\wthmo\\wtgrc\\mgplg\\rbyav\\ppeir\\subdi\n",
      "main\\olmhl\\mmtsz\\nujko\\ywjka\\pxjip\\wthmo\\wtgrc\\mgplg\\rbyav\\ppeir\\subdi\n",
      "main\\olmhl\\mmtsz\\nujko\\ywjka\\pxjip\\wthmo\\wtgrc\\mgplg\\rbyav\\ppeir\\subdi\n",
      "main\\olmhl\\mmtsz\\nujko\\ywjka\\pxjip\\wthmo\\wtgrc\\mgplg\\rbyav\\ppeir\\subdi\\afrqp\\iaujh\n",
      "main\\olmhl\\mmtsz\\nujko\\ywjka\\pxjip\\wthmo\\wtgrc\\mgplg\\rbyav\\ppeir\\subdi\\afrqp\\iaujh\\jqjsg\n",
      "main\\olmhl\\mmtsz\\nujko\\ywjka\\pxjip\\wthmo\\wtgrc\\mgplg\\rbyav\\ppeir\\subdi\\afrqp\\iaujh\\jqjsg\n",
      "main\\olmhl\\mmtsz\\nujko\\ywjka\\pxjip\\wthmo\\wtgrc\\mgplg\\rbyav\\ppeir\\subdi\\afrqp\\iaujh\\jqjsg\\xriod\n",
      "main\\olmhl\\mmtsz\\nujko\\ywjka\\pxjip\\wthmo\\wtgrc\\mgplg\\rbyav\\ppeir\\subdi\\afrqp\\iaujh\\jqnsz\n",
      "main\\olmhl\\mmtsz\\nujko\\ywjka\\pxjip\\wthmo\\wtgrc\\mgplg\\rbyav\\ppeir\\subdi\\afrqp\\iaujh\\jqnsz\n",
      "main\\olmhl\\mmtsz\\nujko\\ywjka\\pxjip\\wthmo\\wtgrc\\mgplg\\rbyav\\ppeir\\subdi\\afrqp\\iaujh\\jqnsz\n",
      "main\\olmhl\\mmtsz\\nujko\\ywjka\\pxjip\\wthmo\\wtgrc\\mgplg\\rbyav\\ppeir\\subdi\\zljoz\n",
      "main\\olmhl\\mmtsz\\nujko\\ywjka\\pxjip\\wthmo\\wtgrc\\mgplg\\rbyav\\ppeir\\subdi\\zljoz\n",
      "main\\olmhl\\mmtsz\\nujko\\ywjka\\pxjip\\wthmo\\wtgrc\\mgplg\\rbyav\\ppeir\\subdi\\zljoz\\kgdme\n",
      "main\\olmhl\\mmtsz\\nujko\\ywjka\\pxjip\\wthmo\\wtgrc\\mgplg\\rbyav\\ppeir\\subdi\\zljoz\\kgdme\n",
      "main\\olmhl\\mmtsz\\nujko\\ywjka\\pxjip\\wthmo\\wtgrc\\mgplg\\rbyav\\ppeir\\subdi\\zljoz\\kgdme\n",
      "main\\olmhl\\mmtsz\\nujko\\ywjka\\pxjip\\wthmo\\wtgrc\\mgplg\\rbyav\\ppeir\\subdi\\zljoz\\kgdme\n",
      "main\\olmhl\\mmtsz\\nujko\\ywjka\\pxjip\\wthmo\\wtgrc\\mgplg\\rbyav\\ppeir\\subdi\\zljoz\\kgdme\\evnvn\\axqur\n",
      "main\\olmhl\\mmtsz\\nujko\\ywjka\\pxjip\\wthmo\\wtgrc\\mgplg\\rbyav\\ppeir\\subdi\\zljoz\\kgdme\\evnvn\\axqur\\itkcz\n",
      "main\\olmhl\\mmtsz\\nujko\\ywjka\\pxjip\\wthmo\\wtgrc\\mgplg\\rbyav\\ppeir\\subdi\\zljoz\\kgdme\\evnvn\\axqur\\itkcz\n",
      "main\\olmhl\\mmtsz\\nujko\\ywjka\\pxjip\\wthmo\\wtgrc\\mgplg\\rbyav\\ppeir\\subdi\\zljoz\\kgdme\\evnvn\\axqur\\itkcz\n",
      "main\\olmhl\\mmtsz\\nujko\\ywjka\\pxjip\\wthmo\\wtgrc\\mgplg\\rbyav\\ppeir\\subdi\\zljoz\\kgdme\\jhhbu\\dufxr\n",
      "main\\olmhl\\mmtsz\\nujko\\ywjka\\pxjip\\wthmo\\wtgrc\\mgplg\\rbyav\\ppeir\\subdi\\zljoz\\kgdme\\jhhbu\\dufxr\\hlgup\n",
      "main\\olmhl\\mmtsz\\nujko\\ywjka\\pxjip\\wthmo\\wtgrc\\mgplg\\rbyav\\ppeir\\subdi\\zljoz\\kgdme\\jhhbu\\dufxr\\hlgup\\auqky\n",
      "main\\olmhl\\mmtsz\\nujko\\ywjka\\pxjip\\wthmo\\wtgrc\\mgplg\\rbyav\\ppeir\\subdi\\zljoz\\kgdme\\jhhbu\\dufxr\\sxojq\n",
      "main\\olmhl\\mmtsz\\nujko\\ywjka\\pxjip\\wthmo\\wtgrc\\mgplg\\rbyav\\ppeir\\subdi\\zljoz\\kgdme\\jhhbu\\dufxr\\sxojq\n",
      "main\\olmhl\\mmtsz\\nujko\\ywjka\\pxjip\\wthmo\\wtgrc\\mgplg\\rbyav\\ppeir\\subdi\\zljoz\\kgdme\\jhhbu\\dufxr\\xroxl\n",
      "main\\olmhl\\mmtsz\\nujko\\ywjka\\pxjip\\wthmo\\wtgrc\\mgplg\\rbyav\\ppeir\\subdi\\zljoz\\kgdme\\jhhbu\\dufxr\\xroxl\\abslw\n",
      "main\\olmhl\\mmtsz\\nujko\\ywjka\\pxjip\\wthmo\\wtgrc\\mgplg\\rbyav\\ppeir\\subdi\\zljoz\\kgdme\\jhhbu\\dufxr\\xroxl\\rgunj\\bdcjg\n",
      "main\\olmhl\\mmtsz\\nujko\\ywjka\\pxjip\\wthmo\\wtgrc\\mgplg\\rbyav\\ppeir\\subdi\\zljoz\\kgdme\\jhhbu\\dufxr\\xroxl\\rgunj\\bdcjg\\ktkfx\n",
      "main\\olmhl\\mmtsz\\nujko\\ywjka\\pxjip\\wthmo\\wtgrc\\mgplg\\rbyav\\ppeir\\subdi\\zljoz\\kgdme\\jhhbu\\dufxr\\xroxl\\rgunj\\bdcjg\\vkntp\n",
      "main\\olmhl\\mmtsz\\nujko\\ywjka\\pxjip\\wthmo\\wtgrc\\mgplg\\rbyav\\ppeir\\subdi\\zljoz\\kgdme\\jhhbu\\dufxr\\xroxl\\rgunj\\bdcjg\\vkntp\\rjqjr\n",
      "main\\olmhl\\mmtsz\\nujko\\ywjka\\pxjip\\wthmo\\wtgrc\\mgplg\\rbyav\\ppeir\\subdi\\zljoz\\kgdme\\jhhbu\\dufxr\\xroxl\\rgunj\\bdcjg\\xpmcm\n",
      "main\\olmhl\\mmtsz\\nujko\\ywjka\\pxjip\\wthmo\\wtgrc\\mgplg\\rbyav\\ppeir\\subdi\\zljoz\\kgdme\\jhhbu\\rnqwd\n",
      "main\\olmhl\\mmtsz\\nujko\\ywjka\\pxjip\\wthmo\\wtgrc\\mgplg\\rbyav\\ppeir\\subdi\\zljoz\\kgdme\\jhhbu\\rnqwd\n",
      "main\\olmhl\\mmtsz\\nujko\\ywjka\\pxjip\\wthmo\\wtgrc\\mgplg\\rbyav\\ppeir\\subdi\\zljoz\\kgdme\\jhhbu\\rnqwd\\purto\n",
      "main\\olmhl\\mmtsz\\nujko\\ywjka\\pxjip\\wthmo\\wtgrc\\mgplg\\rbyav\\ppeir\\subdi\\zljoz\\kgdme\\jhhbu\\rnqwd\\purto\n",
      "main\\olmhl\\mmtsz\\nujko\\ywjka\\pxjip\\wthmo\\wtgrc\\mgplg\\rbyav\\ppeir\\subdi\\zljoz\\kgdme\\jhhbu\\rnqwd\\purto\n",
      "main\\olmhl\\mmtsz\\nujko\\ywjka\\pxjip\\wthmo\\wtgrc\\mgplg\\rbyav\\ppeir\\subdi\\zljoz\\kgdme\\jhhbu\\rnqwd\\purto\n",
      "main\\olmhl\\mmtsz\\nujko\\ywjka\\pxjip\\wthmo\\wtgrc\\mgplg\\rbyav\\ppeir\\subdi\\zljoz\\kgdme\\jhhbu\\rnqwd\\purto\n",
      "main\\olmhl\\mmtsz\\nujko\\ywjka\\pxjip\\wthmo\\wtgrc\\mgplg\\rbyav\\ppeir\\subdi\\zljoz\\kgdme\\jhhbu\\rnqwd\\purto\n",
      "main\\olmhl\\mmtsz\\nujko\\ywjka\\pxjip\\wthmo\\wtgrc\\mgplg\\rbyav\\ppeir\\subdi\\zljoz\\kgdme\\jhhbu\\rnqwd\\purto\\bkfog\n",
      "main\\olmhl\\mmtsz\\nujko\\ywjka\\pxjip\\wthmo\\wtgrc\\mgplg\\rbyav\\ppeir\\subdi\\zljoz\\kgdme\\jhhbu\\rnqwd\\purto\\bkfog\n",
      "main\\olmhl\\mmtsz\\nujko\\ywjka\\pxjip\\wthmo\\wtgrc\\mgplg\\rbyav\\ppeir\\subdi\\zljoz\\kgdme\\jhhbu\\rnqwd\\purto\\bkfog\\rvsfo\n",
      "main\\olmhl\\mmtsz\\nujko\\ywjka\\pxjip\\wthmo\\wtgrc\\mgplg\\rbyav\\ppeir\\subdi\\zljoz\\kgdme\\jhhbu\\rnqwd\\purto\\bkfog\\rvsfo\\gvbnv\n",
      "main\\olmhl\\mmtsz\\nujko\\ywjka\\pxjip\\wthmo\\wtgrc\\mgplg\\rbyav\\ppeir\\subdi\\zljoz\\kgdme\\jhhbu\\rnqwd\\purto\\bkfog\\rvsfo\\rpnzm\n",
      "main\\olmhl\\mmtsz\\nujko\\ywjka\\pxjip\\wthmo\\wtgrc\\mgplg\\rbyav\\ppeir\\subdi\\zljoz\\kgdme\\jhhbu\\rnqwd\\purto\\bkfog\\rvsfo\\rpnzm\n",
      "main\\olmhl\\mmtsz\\nujko\\ywjka\\pxjip\\wthmo\\wtgrc\\mgplg\\rbyav\\ppeir\\subdi\\zljoz\\kgdme\\jhhbu\\rnqwd\\purto\\bkfog\\rvsfo\\rpnzm\n",
      "main\\olmhl\\mmtsz\\nujko\\ywjka\\pxjip\\wthmo\\wtgrc\\mgplg\\rbyav\\ppeir\\subdi\\zljoz\\kgdme\\jhhbu\\rnqwd\\purto\\bkfog\\rvsfo\\rpnzm\n",
      "main\\olmhl\\mmtsz\\nujko\\ywjka\\pxjip\\wthmo\\wtgrc\\mgplg\\rbyav\\ppeir\\subdi\\zljoz\\kgdme\\jhhbu\\rnqwd\\purto\\bkfog\\rvsfo\\rpnzm\\ilogc\n",
      "main\\olmhl\\mmtsz\\nujko\\ywjka\\pxjip\\wthmo\\wtgrc\\mgplg\\rbyav\\ppeir\\subdi\\zljoz\\kgdme\\jhhbu\\rnqwd\\purto\\bkfog\\rvsfo\\rpnzm\\ilogc\\reshp\n",
      "main\\olmhl\\mmtsz\\nujko\\ywjka\\pxjip\\wthmo\\wtgrc\\mgplg\\rbyav\\ppeir\\subdi\\zljoz\\kgdme\\jhhbu\\rnqwd\\purto\\bkfog\\rvsfo\\rpnzm\\ilogc\\reshp\n",
      "main\\olmhl\\mmtsz\\nujko\\ywjka\\pxjip\\wthmo\\wtgrc\\mgplg\\rbyav\\ppeir\\subdi\\zljoz\\kgdme\\jhhbu\\rnqwd\\purto\\bkfog\\rvsfo\\rpnzm\\ilogc\\reshp\n",
      "main\\olmhl\\mmtsz\\nujko\\ywjka\\pxjip\\wthmo\\wtgrc\\mgplg\\rbyav\\ppeir\\subdi\\zljoz\\kgdme\\jhhbu\\rnqwd\\purto\\bkfog\\rvsfo\\rpnzm\\kafov\n",
      "main\\olmhl\\mmtsz\\nujko\\ywjka\\pxjip\\wthmo\\wtgrc\\mgplg\\rbyav\\ppeir\\subdi\\zljoz\\kgdme\\jhhbu\\rnqwd\\purto\\bkfog\\rvsfo\\rpnzm\\kafov\\iites\\ygtox\\bpmhg\n",
      "main\\olmhl\\mmtsz\\nujko\\ywjka\\pxjip\\wthmo\\wtgrc\\mgplg\\rbyav\\ppeir\\subdi\\zljoz\\kgdme\\jhhbu\\rnqwd\\purto\\bkfog\\rvsfo\\rpnzm\\kafov\\iites\\ygtox\\bpmhg\n",
      "main\\olmhl\\mmtsz\\nujko\\ywjka\\pxjip\\wthmo\\wtgrc\\mgplg\\rbyav\\ppeir\\subdi\\zljoz\\kgdme\\jhhbu\\rnqwd\\purto\\bkfog\\rvsfo\\rpnzm\\kafov\\iites\\ygtox\\rhvqn\n",
      "main\\olmhl\\mmtsz\\nujko\\ywjka\\pxjip\\wthmo\\wtgrc\\mgplg\\rbyav\\ppeir\\subdi\\zljoz\\kgdme\\jhhbu\\rnqwd\\purto\\bkfog\\rvsfo\\rpnzm\\kafov\\iites\\ygtox\\rhvqn\\ggfcr\n",
      "main\\olmhl\\mmtsz\\nujko\\ywjka\\pxjip\\wthmo\\wtgrc\\mgplg\\rbyav\\ppeir\\subdi\\zljoz\\kgdme\\jhhbu\\rnqwd\\purto\\bkfog\\rvsfo\\rpnzm\\kafov\\iites\\ygtox\\rhvqn\\ggfcr\n",
      "main\\olmhl\\mmtsz\\nujko\\ywjka\\pxjip\\wthmo\\wtgrc\\mgplg\\rbyav\\ppeir\\subdi\\zljoz\\kgdme\\jhhbu\\rnqwd\\purto\\bkfog\\rvsfo\\rpnzm\\kafov\\iites\\ygtox\\rhvqn\\ggfcr\n",
      "main\\olmhl\\mmtsz\\nujko\\ywjka\\pxjip\\wthmo\\wtgrc\\mgplg\\rbyav\\ppeir\\subdi\\zljoz\\kgdme\\jhhbu\\rnqwd\\purto\\bkfog\\rvsfo\\rpnzm\\kafov\\iites\\ygtox\\rhvqn\\ggfcr\\kxyxy\\qrxwt\n",
      "main\\olmhl\\mmtsz\\nujko\\ywjka\\pxjip\\wthmo\\wtgrc\\mgplg\\rbyav\\ppeir\\subdi\\zljoz\\kgdme\\jhhbu\\rnqwd\\purto\\bsgqc\\ujtgh\n",
      "main\\olmhl\\mmtsz\\nujko\\ywjka\\pxjip\\wthmo\\wtgrc\\mgplg\\rbyav\\ppeir\\subdi\\zljoz\\kgdme\\jhhbu\\rnqwd\\purto\\bsgqc\\ujtgh\n",
      "main\\olmhl\\mmtsz\\nujko\\ywjka\\pxjip\\wthmo\\wtgrc\\mgplg\\rbyav\\ppeir\\subdi\\zljoz\\kgdme\\jhhbu\\rnqwd\\purto\\bsgqc\\ujtgh\\tyapv\n",
      "main\\olmhl\\mmtsz\\nujko\\ywjka\\pxjip\\wthmo\\wtgrc\\mgplg\\rbyav\\ppeir\\subdi\\zljoz\\kgdme\\jhhbu\\rnqwd\\purto\\bsgqc\\ujtgh\\tyapv\n",
      "main\\olmhl\\mmtsz\\nujko\\ywjka\\pxjip\\wthmo\\wtgrc\\mgplg\\rbyav\\ppeir\\subdi\\zljoz\\kgdme\\jhhbu\\rnqwd\\purto\\bsgqc\\ujtgh\\tyapv\n",
      "main\\olmhl\\mmtsz\\nujko\\ywjka\\pxjip\\wthmo\\wtgrc\\mgplg\\rbyav\\ppeir\\subdi\\zljoz\\kgdme\\jhhbu\\rnqwd\\purto\\hmnro\\jtmnb\n",
      "main\\olmhl\\mmtsz\\nujko\\ywjka\\pxjip\\wthmo\\wtgrc\\mgplg\\rbyav\\ppeir\\subdi\\zljoz\\sgmoj\n",
      "main\\olmhl\\mmtsz\\nujko\\ywjka\\pxjip\\wthmo\\wtgrc\\mgplg\\rbyav\\ppeir\\subdi\\zljoz\\sgmoj\n",
      "main\\olmhl\\mmtsz\\nujko\\ywjka\\pxjip\\wthmo\\wtgrc\\mgplg\\rbyav\\ppeir\\subdi\\zljoz\\xrvnu\n",
      "main\\olmhl\\mmtsz\\nujko\\ywjka\\pxjip\\wthmo\\wtgrc\\mgplg\\rbyav\\ppeir\\subdi\\zljoz\\xrvnu\n",
      "main\\olmhl\\mmtsz\\nujko\\ywjka\\pxjip\\wthmo\\wtgrc\\mgplg\\rbyav\\qosgw\n",
      "main\\olmhl\\mmtsz\\nujko\\ywjka\\pxjip\\wthmo\\wtgrc\\mgplg\\rbyav\\uaodv\n",
      "main\\olmhl\\mmtsz\\nujko\\ywjka\\pxjip\\wthmo\\wtgrc\\zfukg\n",
      "main\\olmhl\\mmtsz\\nujko\\ywjka\\pxjip\\wthmo\\wtgrc\\zfukg\n",
      "main\\olmhl\\mmtsz\\nujko\\ywjka\\pxjip\\wthmo\\wtgrc\\zfukg\n",
      "main\\olmhl\\mmtsz\\nujko\\ywjka\\pxjip\\wthmo\\wtgrc\\zfukg\n",
      "main\\olmhl\\mmtsz\\nujko\\ywjka\\pxjip\\wthmo\\wtgrc\\zfukg\n",
      "main\\olmhl\\mmtsz\\nujko\\ywjka\\pxjip\\wthmo\\wtgrc\\zfukg\n",
      "main\\olmhl\\mmtsz\\nujko\\ywjka\\pxjip\\wthmo\\wtgrc\\zfukg\\cazio\n",
      "main\\olmhl\\mmtsz\\nujko\\ywjka\\pxjip\\wthmo\\wtgrc\\zfukg\\cazio\n",
      "main\\olmhl\\mmtsz\\nujko\\ywjka\\pxjip\\wthmo\\wtgrc\\zfukg\\cazio\\sosdj\n",
      "main\\olmhl\\mmtsz\\nujko\\ywjka\\pxjip\\wthmo\\wtgrc\\zfukg\\cazio\\sosdj\\rcsvd\n",
      "main\\olmhl\\mmtsz\\nujko\\ywjka\\pxjip\\wthmo\\wtgrc\\zfukg\\cazio\\sosdj\\uuyrs\n",
      "main\\olmhl\\mmtsz\\nujko\\ywjka\\pxjip\\wthmo\\wtgrc\\zfukg\\cazio\\sosdj\\yujjk\n",
      "main\\olmhl\\mmtsz\\nujko\\ywjka\\pxjip\\wthmo\\wtgrc\\zfukg\\jvmme\n",
      "main\\olmhl\\mmtsz\\nujko\\ywjka\\pxjip\\wthmo\\wtgrc\\zfukg\\jvmme\\eayzq\\isyki\n",
      "main\\olmhl\\mmtsz\\nujko\\ywjka\\pxjip\\wthmo\\wtgrc\\zfukg\\jvmme\\eayzq\\isyki\n",
      "main\\olmhl\\mmtsz\\nujko\\ywjka\\pxjip\\wthmo\\wtgrc\\zfukg\\jvmme\\eayzq\\nuiwj\n",
      "main\\olmhl\\mmtsz\\nujko\\ywjka\\pxjip\\wthmo\\wtgrc\\zfukg\\jvmme\\eayzq\\tixoq\\lldpv\n",
      "main\\olmhl\\mmtsz\\nujko\\ywjka\\pxjip\\wthmo\\wtgrc\\zfukg\\jvmme\\eayzq\\tixoq\\lldpv\n",
      "main\\olmhl\\mmtsz\\nujko\\ywjka\\pxjip\\wthmo\\wtgrc\\zfukg\\jvmme\\eayzq\\tixoq\\lldpv\n",
      "main\\olmhl\\mmtsz\\nujko\\ywjka\\pxjip\\wthmo\\wtgrc\\zfukg\\jvmme\\eayzq\\wfnda\n",
      "main\\olmhl\\mmtsz\\nujko\\ywjka\\pxjip\\wthmo\\wtgrc\\zfukg\\jvmme\\kehsm\n",
      "main\\olmhl\\mmtsz\\nujko\\ywjka\\pxjip\\wthmo\\wtgrc\\zfukg\\jvmme\\vynzv\n",
      "main\\olmhl\\mmtsz\\nujko\\ywjka\\pxjip\\wthmo\\wtgrc\\zfukg\\jvmme\\wvwva\n",
      "main\\olmhl\\mmtsz\\nujko\\ywjka\\pxjip\\wthmo\\wtgrc\\zfukg\\jvmme\\wvwva\n",
      "main\\olmhl\\mmtsz\\nujko\\ywjka\\pxjip\\wthmo\\wtgrc\\zfukg\\jvmme\\wvwva\n",
      "main\\olmhl\\mmtsz\\nujko\\ywjka\\pxjip\\wthmo\\wtgrc\\zfukg\\jvmme\\wvwva\\jebnq\\kjmeo\n",
      "main\\olmhl\\mmtsz\\nujko\\ywjka\\pxjip\\wthmo\\wtgrc\\zfukg\\jvmme\\wvwva\\jebnq\\phcud\n",
      "main\\olmhl\\mmtsz\\nujko\\ywjka\\pxjip\\wthmo\\wtgrc\\zfukg\\vydse\n",
      "main\\olmhl\\mmtsz\\nujko\\ywjxy\n",
      "main\\olmhl\\mmtsz\\phcap\n",
      "main\\qkseh\n",
      "main\\qkseh\n",
      "main\\sitdc\n",
      "main\\taivr\n",
      "main\\taivr\\bcsow\n",
      "main\\taivr\\yptwa\\xsbzr\n",
      "main\\taivr\\yptwa\\xsbzr\\hcasz\\ilitr\\joejy\n",
      "main\\taivr\\yptwa\\xsbzr\\hcasz\\ilitr\\urguw\\sjmeg\\ddnaa\n",
      "main\\taivr\\yptwa\\xsbzr\\hcasz\\ilitr\\urguw\\sjmeg\\ddnaa\n",
      "main\\taivr\\yptwa\\xsbzr\\hcasz\\ilitr\\urguw\\sjmeg\\ddnaa\n",
      "main\\taivr\\yptwa\\xsbzr\\hcasz\\ilitr\\urguw\\sjmeg\\ddnaa\\ckaab\n",
      "main\\taivr\\yptwa\\xsbzr\\hcasz\\ilitr\\urguw\\sjmeg\\ddnaa\\ckaab\n",
      "main\\taivr\\yptwa\\xsbzr\\hcasz\\ilitr\\urguw\\sjmeg\\ddnaa\\jxhbl\\lradw\n",
      "main\\taivr\\yptwa\\xsbzr\\hcasz\\ilitr\\urguw\\sjmeg\\ddnaa\\jxhbl\\lradw\\iglcm\n",
      "main\\taivr\\yptwa\\xsbzr\\hcasz\\ilitr\\urguw\\sjmeg\\ddnaa\\jxhbl\\lradw\\iglcm\n",
      "main\\taivr\\yptwa\\xsbzr\\hcasz\\ilitr\\urguw\\sjmeg\\ddnaa\\jxhbl\\lradw\\iglcm\n",
      "main\\taivr\\yptwa\\xsbzr\\hcasz\\ilitr\\urguw\\sjmeg\\ddnaa\\jxhbl\\lradw\\iglcm\n",
      "main\\taivr\\yptwa\\xsbzr\\hcasz\\ilitr\\urguw\\sjmeg\\ddnaa\\jxhbl\\lradw\\iglcm\n",
      "main\\taivr\\yptwa\\xsbzr\\hcasz\\ilitr\\urguw\\sjmeg\\ddnaa\\jxhbl\\tpdvr\n",
      "main\\taivr\\yptwa\\xsbzr\\hcasz\\ilitr\\urguw\\sjmeg\\ddnaa\\lszec\n",
      "main\\taivr\\yptwa\\xsbzr\\hcasz\\ilitr\\urguw\\sjmeg\\ddnaa\\lszec\n",
      "main\\taivr\\yptwa\\xsbzr\\hcasz\\ilitr\\urguw\\sjmeg\\ddnaa\\lszec\n",
      "main\\taivr\\yptwa\\xsbzr\\hcasz\\ilitr\\urguw\\sjmeg\\ddnaa\\lszec\\wdftb\\mhqps\n",
      "main\\taivr\\yptwa\\xsbzr\\hcasz\\ilitr\\urguw\\sjmeg\\ddnaa\\lszec\\wdftb\\mhqps\n",
      "main\\uvvuz\n",
      "main\\uvvuz\n",
      "main\\uvvuz\\ksnof\n",
      "main\\zduna\\ywucw\n",
      "main\\zduna\\ywucw\n",
      "main\\zduna\\ywucw\n",
      "main\\zyczx\n"
     ]
    }
   ],
   "source": [
    "lst = []\n",
    "# рекурсивно проходим все папки:\n",
    "\n",
    "for curent_dir, dirs, files in os.walk('.'):\n",
    "#     print(curent_dir, dirs, files)\n",
    "    \n",
    "    for i in files:\n",
    "#         print(i[-3:])\n",
    "        if i[-3:] == '.py':\n",
    "            print(curent_dir.lstrip('.\\\\'))\n",
    "            if curent_dir.lstrip('.\\\\') not in lst:\n",
    "                lst.append(curent_dir.lstrip('.\\\\'))"
   ]
  },
  {
   "cell_type": "code",
   "execution_count": 127,
   "id": "a9105220",
   "metadata": {},
   "outputs": [
    {
     "data": {
      "text/plain": [
       "['main',\n",
       " 'main\\\\afkgv',\n",
       " 'main\\\\frtrl',\n",
       " 'main\\\\hgyoc',\n",
       " 'main\\\\hgyoc\\\\kwawh',\n",
       " 'main\\\\hgyoc\\\\kwawh\\\\hapry',\n",
       " 'main\\\\hgyoc\\\\kwawh\\\\rzgzv',\n",
       " 'main\\\\hgyoc\\\\ycbxr\\\\ivjta',\n",
       " 'main\\\\ksuvk\\\\xjrqt',\n",
       " 'main\\\\ksuvk\\\\xjrqt\\\\qdbqt\\\\hotgx',\n",
       " 'main\\\\ksuvk\\\\xjrqt\\\\qdbqt\\\\hotgx\\\\izwwv',\n",
       " 'main\\\\ksuvk\\\\xjrqt\\\\qdbqt\\\\prkcp\\\\dnyyv',\n",
       " 'main\\\\lqbli\\\\otofk',\n",
       " 'main\\\\lqbli\\\\otofk\\\\armko',\n",
       " 'main\\\\mwhci',\n",
       " 'main\\\\olmhl\\\\mmtsz',\n",
       " 'main\\\\olmhl\\\\mmtsz\\\\nujko\\\\ywjka',\n",
       " 'main\\\\olmhl\\\\mmtsz\\\\nujko\\\\ywjka\\\\pxjip',\n",
       " 'main\\\\olmhl\\\\mmtsz\\\\nujko\\\\ywjka\\\\pxjip\\\\wthmo',\n",
       " 'main\\\\olmhl\\\\mmtsz\\\\nujko\\\\ywjka\\\\pxjip\\\\wthmo\\\\rwwuw',\n",
       " 'main\\\\olmhl\\\\mmtsz\\\\nujko\\\\ywjka\\\\pxjip\\\\wthmo\\\\wtgrc',\n",
       " 'main\\\\olmhl\\\\mmtsz\\\\nujko\\\\ywjka\\\\pxjip\\\\wthmo\\\\wtgrc\\\\grnfu',\n",
       " 'main\\\\olmhl\\\\mmtsz\\\\nujko\\\\ywjka\\\\pxjip\\\\wthmo\\\\wtgrc\\\\juoxd',\n",
       " 'main\\\\olmhl\\\\mmtsz\\\\nujko\\\\ywjka\\\\pxjip\\\\wthmo\\\\wtgrc\\\\kztxg\\\\qwlrx',\n",
       " 'main\\\\olmhl\\\\mmtsz\\\\nujko\\\\ywjka\\\\pxjip\\\\wthmo\\\\wtgrc\\\\kztxg\\\\qwlrx\\\\djozj',\n",
       " 'main\\\\olmhl\\\\mmtsz\\\\nujko\\\\ywjka\\\\pxjip\\\\wthmo\\\\wtgrc\\\\kztxg\\\\qwlrx\\\\lirot',\n",
       " 'main\\\\olmhl\\\\mmtsz\\\\nujko\\\\ywjka\\\\pxjip\\\\wthmo\\\\wtgrc\\\\kztxg\\\\qwlrx\\\\nfcxf',\n",
       " 'main\\\\olmhl\\\\mmtsz\\\\nujko\\\\ywjka\\\\pxjip\\\\wthmo\\\\wtgrc\\\\mgplg\\\\rbyav',\n",
       " 'main\\\\olmhl\\\\mmtsz\\\\nujko\\\\ywjka\\\\pxjip\\\\wthmo\\\\wtgrc\\\\mgplg\\\\rbyav\\\\ppeir\\\\subdi',\n",
       " 'main\\\\olmhl\\\\mmtsz\\\\nujko\\\\ywjka\\\\pxjip\\\\wthmo\\\\wtgrc\\\\mgplg\\\\rbyav\\\\ppeir\\\\subdi\\\\afrqp\\\\iaujh',\n",
       " 'main\\\\olmhl\\\\mmtsz\\\\nujko\\\\ywjka\\\\pxjip\\\\wthmo\\\\wtgrc\\\\mgplg\\\\rbyav\\\\ppeir\\\\subdi\\\\afrqp\\\\iaujh\\\\jqjsg',\n",
       " 'main\\\\olmhl\\\\mmtsz\\\\nujko\\\\ywjka\\\\pxjip\\\\wthmo\\\\wtgrc\\\\mgplg\\\\rbyav\\\\ppeir\\\\subdi\\\\afrqp\\\\iaujh\\\\jqjsg\\\\xriod',\n",
       " 'main\\\\olmhl\\\\mmtsz\\\\nujko\\\\ywjka\\\\pxjip\\\\wthmo\\\\wtgrc\\\\mgplg\\\\rbyav\\\\ppeir\\\\subdi\\\\afrqp\\\\iaujh\\\\jqnsz',\n",
       " 'main\\\\olmhl\\\\mmtsz\\\\nujko\\\\ywjka\\\\pxjip\\\\wthmo\\\\wtgrc\\\\mgplg\\\\rbyav\\\\ppeir\\\\subdi\\\\zljoz',\n",
       " 'main\\\\olmhl\\\\mmtsz\\\\nujko\\\\ywjka\\\\pxjip\\\\wthmo\\\\wtgrc\\\\mgplg\\\\rbyav\\\\ppeir\\\\subdi\\\\zljoz\\\\kgdme',\n",
       " 'main\\\\olmhl\\\\mmtsz\\\\nujko\\\\ywjka\\\\pxjip\\\\wthmo\\\\wtgrc\\\\mgplg\\\\rbyav\\\\ppeir\\\\subdi\\\\zljoz\\\\kgdme\\\\evnvn\\\\axqur',\n",
       " 'main\\\\olmhl\\\\mmtsz\\\\nujko\\\\ywjka\\\\pxjip\\\\wthmo\\\\wtgrc\\\\mgplg\\\\rbyav\\\\ppeir\\\\subdi\\\\zljoz\\\\kgdme\\\\evnvn\\\\axqur\\\\itkcz',\n",
       " 'main\\\\olmhl\\\\mmtsz\\\\nujko\\\\ywjka\\\\pxjip\\\\wthmo\\\\wtgrc\\\\mgplg\\\\rbyav\\\\ppeir\\\\subdi\\\\zljoz\\\\kgdme\\\\jhhbu\\\\dufxr',\n",
       " 'main\\\\olmhl\\\\mmtsz\\\\nujko\\\\ywjka\\\\pxjip\\\\wthmo\\\\wtgrc\\\\mgplg\\\\rbyav\\\\ppeir\\\\subdi\\\\zljoz\\\\kgdme\\\\jhhbu\\\\dufxr\\\\hlgup',\n",
       " 'main\\\\olmhl\\\\mmtsz\\\\nujko\\\\ywjka\\\\pxjip\\\\wthmo\\\\wtgrc\\\\mgplg\\\\rbyav\\\\ppeir\\\\subdi\\\\zljoz\\\\kgdme\\\\jhhbu\\\\dufxr\\\\hlgup\\\\auqky',\n",
       " 'main\\\\olmhl\\\\mmtsz\\\\nujko\\\\ywjka\\\\pxjip\\\\wthmo\\\\wtgrc\\\\mgplg\\\\rbyav\\\\ppeir\\\\subdi\\\\zljoz\\\\kgdme\\\\jhhbu\\\\dufxr\\\\sxojq',\n",
       " 'main\\\\olmhl\\\\mmtsz\\\\nujko\\\\ywjka\\\\pxjip\\\\wthmo\\\\wtgrc\\\\mgplg\\\\rbyav\\\\ppeir\\\\subdi\\\\zljoz\\\\kgdme\\\\jhhbu\\\\dufxr\\\\xroxl',\n",
       " 'main\\\\olmhl\\\\mmtsz\\\\nujko\\\\ywjka\\\\pxjip\\\\wthmo\\\\wtgrc\\\\mgplg\\\\rbyav\\\\ppeir\\\\subdi\\\\zljoz\\\\kgdme\\\\jhhbu\\\\dufxr\\\\xroxl\\\\abslw',\n",
       " 'main\\\\olmhl\\\\mmtsz\\\\nujko\\\\ywjka\\\\pxjip\\\\wthmo\\\\wtgrc\\\\mgplg\\\\rbyav\\\\ppeir\\\\subdi\\\\zljoz\\\\kgdme\\\\jhhbu\\\\dufxr\\\\xroxl\\\\rgunj\\\\bdcjg',\n",
       " 'main\\\\olmhl\\\\mmtsz\\\\nujko\\\\ywjka\\\\pxjip\\\\wthmo\\\\wtgrc\\\\mgplg\\\\rbyav\\\\ppeir\\\\subdi\\\\zljoz\\\\kgdme\\\\jhhbu\\\\dufxr\\\\xroxl\\\\rgunj\\\\bdcjg\\\\ktkfx',\n",
       " 'main\\\\olmhl\\\\mmtsz\\\\nujko\\\\ywjka\\\\pxjip\\\\wthmo\\\\wtgrc\\\\mgplg\\\\rbyav\\\\ppeir\\\\subdi\\\\zljoz\\\\kgdme\\\\jhhbu\\\\dufxr\\\\xroxl\\\\rgunj\\\\bdcjg\\\\vkntp',\n",
       " 'main\\\\olmhl\\\\mmtsz\\\\nujko\\\\ywjka\\\\pxjip\\\\wthmo\\\\wtgrc\\\\mgplg\\\\rbyav\\\\ppeir\\\\subdi\\\\zljoz\\\\kgdme\\\\jhhbu\\\\dufxr\\\\xroxl\\\\rgunj\\\\bdcjg\\\\vkntp\\\\rjqjr',\n",
       " 'main\\\\olmhl\\\\mmtsz\\\\nujko\\\\ywjka\\\\pxjip\\\\wthmo\\\\wtgrc\\\\mgplg\\\\rbyav\\\\ppeir\\\\subdi\\\\zljoz\\\\kgdme\\\\jhhbu\\\\dufxr\\\\xroxl\\\\rgunj\\\\bdcjg\\\\xpmcm',\n",
       " 'main\\\\olmhl\\\\mmtsz\\\\nujko\\\\ywjka\\\\pxjip\\\\wthmo\\\\wtgrc\\\\mgplg\\\\rbyav\\\\ppeir\\\\subdi\\\\zljoz\\\\kgdme\\\\jhhbu\\\\rnqwd',\n",
       " 'main\\\\olmhl\\\\mmtsz\\\\nujko\\\\ywjka\\\\pxjip\\\\wthmo\\\\wtgrc\\\\mgplg\\\\rbyav\\\\ppeir\\\\subdi\\\\zljoz\\\\kgdme\\\\jhhbu\\\\rnqwd\\\\purto',\n",
       " 'main\\\\olmhl\\\\mmtsz\\\\nujko\\\\ywjka\\\\pxjip\\\\wthmo\\\\wtgrc\\\\mgplg\\\\rbyav\\\\ppeir\\\\subdi\\\\zljoz\\\\kgdme\\\\jhhbu\\\\rnqwd\\\\purto\\\\bkfog',\n",
       " 'main\\\\olmhl\\\\mmtsz\\\\nujko\\\\ywjka\\\\pxjip\\\\wthmo\\\\wtgrc\\\\mgplg\\\\rbyav\\\\ppeir\\\\subdi\\\\zljoz\\\\kgdme\\\\jhhbu\\\\rnqwd\\\\purto\\\\bkfog\\\\rvsfo',\n",
       " 'main\\\\olmhl\\\\mmtsz\\\\nujko\\\\ywjka\\\\pxjip\\\\wthmo\\\\wtgrc\\\\mgplg\\\\rbyav\\\\ppeir\\\\subdi\\\\zljoz\\\\kgdme\\\\jhhbu\\\\rnqwd\\\\purto\\\\bkfog\\\\rvsfo\\\\gvbnv',\n",
       " 'main\\\\olmhl\\\\mmtsz\\\\nujko\\\\ywjka\\\\pxjip\\\\wthmo\\\\wtgrc\\\\mgplg\\\\rbyav\\\\ppeir\\\\subdi\\\\zljoz\\\\kgdme\\\\jhhbu\\\\rnqwd\\\\purto\\\\bkfog\\\\rvsfo\\\\rpnzm',\n",
       " 'main\\\\olmhl\\\\mmtsz\\\\nujko\\\\ywjka\\\\pxjip\\\\wthmo\\\\wtgrc\\\\mgplg\\\\rbyav\\\\ppeir\\\\subdi\\\\zljoz\\\\kgdme\\\\jhhbu\\\\rnqwd\\\\purto\\\\bkfog\\\\rvsfo\\\\rpnzm\\\\ilogc',\n",
       " 'main\\\\olmhl\\\\mmtsz\\\\nujko\\\\ywjka\\\\pxjip\\\\wthmo\\\\wtgrc\\\\mgplg\\\\rbyav\\\\ppeir\\\\subdi\\\\zljoz\\\\kgdme\\\\jhhbu\\\\rnqwd\\\\purto\\\\bkfog\\\\rvsfo\\\\rpnzm\\\\ilogc\\\\reshp',\n",
       " 'main\\\\olmhl\\\\mmtsz\\\\nujko\\\\ywjka\\\\pxjip\\\\wthmo\\\\wtgrc\\\\mgplg\\\\rbyav\\\\ppeir\\\\subdi\\\\zljoz\\\\kgdme\\\\jhhbu\\\\rnqwd\\\\purto\\\\bkfog\\\\rvsfo\\\\rpnzm\\\\kafov',\n",
       " 'main\\\\olmhl\\\\mmtsz\\\\nujko\\\\ywjka\\\\pxjip\\\\wthmo\\\\wtgrc\\\\mgplg\\\\rbyav\\\\ppeir\\\\subdi\\\\zljoz\\\\kgdme\\\\jhhbu\\\\rnqwd\\\\purto\\\\bkfog\\\\rvsfo\\\\rpnzm\\\\kafov\\\\iites\\\\ygtox\\\\bpmhg',\n",
       " 'main\\\\olmhl\\\\mmtsz\\\\nujko\\\\ywjka\\\\pxjip\\\\wthmo\\\\wtgrc\\\\mgplg\\\\rbyav\\\\ppeir\\\\subdi\\\\zljoz\\\\kgdme\\\\jhhbu\\\\rnqwd\\\\purto\\\\bkfog\\\\rvsfo\\\\rpnzm\\\\kafov\\\\iites\\\\ygtox\\\\rhvqn',\n",
       " 'main\\\\olmhl\\\\mmtsz\\\\nujko\\\\ywjka\\\\pxjip\\\\wthmo\\\\wtgrc\\\\mgplg\\\\rbyav\\\\ppeir\\\\subdi\\\\zljoz\\\\kgdme\\\\jhhbu\\\\rnqwd\\\\purto\\\\bkfog\\\\rvsfo\\\\rpnzm\\\\kafov\\\\iites\\\\ygtox\\\\rhvqn\\\\ggfcr',\n",
       " 'main\\\\olmhl\\\\mmtsz\\\\nujko\\\\ywjka\\\\pxjip\\\\wthmo\\\\wtgrc\\\\mgplg\\\\rbyav\\\\ppeir\\\\subdi\\\\zljoz\\\\kgdme\\\\jhhbu\\\\rnqwd\\\\purto\\\\bkfog\\\\rvsfo\\\\rpnzm\\\\kafov\\\\iites\\\\ygtox\\\\rhvqn\\\\ggfcr\\\\kxyxy\\\\qrxwt',\n",
       " 'main\\\\olmhl\\\\mmtsz\\\\nujko\\\\ywjka\\\\pxjip\\\\wthmo\\\\wtgrc\\\\mgplg\\\\rbyav\\\\ppeir\\\\subdi\\\\zljoz\\\\kgdme\\\\jhhbu\\\\rnqwd\\\\purto\\\\bsgqc\\\\ujtgh',\n",
       " 'main\\\\olmhl\\\\mmtsz\\\\nujko\\\\ywjka\\\\pxjip\\\\wthmo\\\\wtgrc\\\\mgplg\\\\rbyav\\\\ppeir\\\\subdi\\\\zljoz\\\\kgdme\\\\jhhbu\\\\rnqwd\\\\purto\\\\bsgqc\\\\ujtgh\\\\tyapv',\n",
       " 'main\\\\olmhl\\\\mmtsz\\\\nujko\\\\ywjka\\\\pxjip\\\\wthmo\\\\wtgrc\\\\mgplg\\\\rbyav\\\\ppeir\\\\subdi\\\\zljoz\\\\kgdme\\\\jhhbu\\\\rnqwd\\\\purto\\\\hmnro\\\\jtmnb',\n",
       " 'main\\\\olmhl\\\\mmtsz\\\\nujko\\\\ywjka\\\\pxjip\\\\wthmo\\\\wtgrc\\\\mgplg\\\\rbyav\\\\ppeir\\\\subdi\\\\zljoz\\\\sgmoj',\n",
       " 'main\\\\olmhl\\\\mmtsz\\\\nujko\\\\ywjka\\\\pxjip\\\\wthmo\\\\wtgrc\\\\mgplg\\\\rbyav\\\\ppeir\\\\subdi\\\\zljoz\\\\xrvnu',\n",
       " 'main\\\\olmhl\\\\mmtsz\\\\nujko\\\\ywjka\\\\pxjip\\\\wthmo\\\\wtgrc\\\\mgplg\\\\rbyav\\\\qosgw',\n",
       " 'main\\\\olmhl\\\\mmtsz\\\\nujko\\\\ywjka\\\\pxjip\\\\wthmo\\\\wtgrc\\\\mgplg\\\\rbyav\\\\uaodv',\n",
       " 'main\\\\olmhl\\\\mmtsz\\\\nujko\\\\ywjka\\\\pxjip\\\\wthmo\\\\wtgrc\\\\zfukg',\n",
       " 'main\\\\olmhl\\\\mmtsz\\\\nujko\\\\ywjka\\\\pxjip\\\\wthmo\\\\wtgrc\\\\zfukg\\\\cazio',\n",
       " 'main\\\\olmhl\\\\mmtsz\\\\nujko\\\\ywjka\\\\pxjip\\\\wthmo\\\\wtgrc\\\\zfukg\\\\cazio\\\\sosdj',\n",
       " 'main\\\\olmhl\\\\mmtsz\\\\nujko\\\\ywjka\\\\pxjip\\\\wthmo\\\\wtgrc\\\\zfukg\\\\cazio\\\\sosdj\\\\rcsvd',\n",
       " 'main\\\\olmhl\\\\mmtsz\\\\nujko\\\\ywjka\\\\pxjip\\\\wthmo\\\\wtgrc\\\\zfukg\\\\cazio\\\\sosdj\\\\uuyrs',\n",
       " 'main\\\\olmhl\\\\mmtsz\\\\nujko\\\\ywjka\\\\pxjip\\\\wthmo\\\\wtgrc\\\\zfukg\\\\cazio\\\\sosdj\\\\yujjk',\n",
       " 'main\\\\olmhl\\\\mmtsz\\\\nujko\\\\ywjka\\\\pxjip\\\\wthmo\\\\wtgrc\\\\zfukg\\\\jvmme',\n",
       " 'main\\\\olmhl\\\\mmtsz\\\\nujko\\\\ywjka\\\\pxjip\\\\wthmo\\\\wtgrc\\\\zfukg\\\\jvmme\\\\eayzq\\\\isyki',\n",
       " 'main\\\\olmhl\\\\mmtsz\\\\nujko\\\\ywjka\\\\pxjip\\\\wthmo\\\\wtgrc\\\\zfukg\\\\jvmme\\\\eayzq\\\\nuiwj',\n",
       " 'main\\\\olmhl\\\\mmtsz\\\\nujko\\\\ywjka\\\\pxjip\\\\wthmo\\\\wtgrc\\\\zfukg\\\\jvmme\\\\eayzq\\\\tixoq\\\\lldpv',\n",
       " 'main\\\\olmhl\\\\mmtsz\\\\nujko\\\\ywjka\\\\pxjip\\\\wthmo\\\\wtgrc\\\\zfukg\\\\jvmme\\\\eayzq\\\\wfnda',\n",
       " 'main\\\\olmhl\\\\mmtsz\\\\nujko\\\\ywjka\\\\pxjip\\\\wthmo\\\\wtgrc\\\\zfukg\\\\jvmme\\\\kehsm',\n",
       " 'main\\\\olmhl\\\\mmtsz\\\\nujko\\\\ywjka\\\\pxjip\\\\wthmo\\\\wtgrc\\\\zfukg\\\\jvmme\\\\vynzv',\n",
       " 'main\\\\olmhl\\\\mmtsz\\\\nujko\\\\ywjka\\\\pxjip\\\\wthmo\\\\wtgrc\\\\zfukg\\\\jvmme\\\\wvwva',\n",
       " 'main\\\\olmhl\\\\mmtsz\\\\nujko\\\\ywjka\\\\pxjip\\\\wthmo\\\\wtgrc\\\\zfukg\\\\jvmme\\\\wvwva\\\\jebnq\\\\kjmeo',\n",
       " 'main\\\\olmhl\\\\mmtsz\\\\nujko\\\\ywjka\\\\pxjip\\\\wthmo\\\\wtgrc\\\\zfukg\\\\jvmme\\\\wvwva\\\\jebnq\\\\phcud',\n",
       " 'main\\\\olmhl\\\\mmtsz\\\\nujko\\\\ywjka\\\\pxjip\\\\wthmo\\\\wtgrc\\\\zfukg\\\\vydse',\n",
       " 'main\\\\olmhl\\\\mmtsz\\\\nujko\\\\ywjxy',\n",
       " 'main\\\\olmhl\\\\mmtsz\\\\phcap',\n",
       " 'main\\\\qkseh',\n",
       " 'main\\\\sitdc',\n",
       " 'main\\\\taivr',\n",
       " 'main\\\\taivr\\\\bcsow',\n",
       " 'main\\\\taivr\\\\yptwa\\\\xsbzr',\n",
       " 'main\\\\taivr\\\\yptwa\\\\xsbzr\\\\hcasz\\\\ilitr\\\\joejy',\n",
       " 'main\\\\taivr\\\\yptwa\\\\xsbzr\\\\hcasz\\\\ilitr\\\\urguw\\\\sjmeg\\\\ddnaa',\n",
       " 'main\\\\taivr\\\\yptwa\\\\xsbzr\\\\hcasz\\\\ilitr\\\\urguw\\\\sjmeg\\\\ddnaa\\\\ckaab',\n",
       " 'main\\\\taivr\\\\yptwa\\\\xsbzr\\\\hcasz\\\\ilitr\\\\urguw\\\\sjmeg\\\\ddnaa\\\\jxhbl\\\\lradw',\n",
       " 'main\\\\taivr\\\\yptwa\\\\xsbzr\\\\hcasz\\\\ilitr\\\\urguw\\\\sjmeg\\\\ddnaa\\\\jxhbl\\\\lradw\\\\iglcm',\n",
       " 'main\\\\taivr\\\\yptwa\\\\xsbzr\\\\hcasz\\\\ilitr\\\\urguw\\\\sjmeg\\\\ddnaa\\\\jxhbl\\\\tpdvr',\n",
       " 'main\\\\taivr\\\\yptwa\\\\xsbzr\\\\hcasz\\\\ilitr\\\\urguw\\\\sjmeg\\\\ddnaa\\\\lszec',\n",
       " 'main\\\\taivr\\\\yptwa\\\\xsbzr\\\\hcasz\\\\ilitr\\\\urguw\\\\sjmeg\\\\ddnaa\\\\lszec\\\\wdftb\\\\mhqps',\n",
       " 'main\\\\uvvuz',\n",
       " 'main\\\\uvvuz\\\\ksnof',\n",
       " 'main\\\\zduna\\\\ywucw',\n",
       " 'main\\\\zyczx']"
      ]
     },
     "execution_count": 127,
     "metadata": {},
     "output_type": "execute_result"
    }
   ],
   "source": [
    "lst"
   ]
  },
  {
   "cell_type": "code",
   "execution_count": 129,
   "id": "7ff47d3c",
   "metadata": {},
   "outputs": [],
   "source": [
    "f = open('answer_main.txt', 'w')\n",
    "for i in lst:\n",
    "    f.write(i + '\\n')\n",
    "f.close()"
   ]
  },
  {
   "cell_type": "code",
   "execution_count": null,
   "id": "5c6d4099",
   "metadata": {},
   "outputs": [],
   "source": []
  }
 ],
 "metadata": {
  "kernelspec": {
   "display_name": "Python 3 (ipykernel)",
   "language": "python",
   "name": "python3"
  },
  "language_info": {
   "codemirror_mode": {
    "name": "ipython",
    "version": 3
   },
   "file_extension": ".py",
   "mimetype": "text/x-python",
   "name": "python",
   "nbconvert_exporter": "python",
   "pygments_lexer": "ipython3",
   "version": "3.10.0"
  }
 },
 "nbformat": 4,
 "nbformat_minor": 5
}
