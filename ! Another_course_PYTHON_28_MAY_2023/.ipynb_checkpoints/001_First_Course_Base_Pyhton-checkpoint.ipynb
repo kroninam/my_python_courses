{
 "cells": [
  {
   "cell_type": "code",
   "execution_count": null,
   "id": "e5850bb0",
   "metadata": {},
   "outputs": [],
   "source": [
    "# ССЫЛКА НА КУРС:\n",
    "\n",
    "# https://stepik.org/lesson/24456/step/9?unit=6762"
   ]
  },
  {
   "cell_type": "code",
   "execution_count": null,
   "id": "e9dd9a5d",
   "metadata": {},
   "outputs": [],
   "source": [
    "# Реализуйте программу, которая принимает последовательность чисел и выводит их сумму.\n",
    "\n",
    "# Вашей программе на вход подается последовательность строк.\n",
    "# Первая строка содержит число n (1 ≤ n ≤ 100).\n",
    "# В следующих n строках содержится по одному целому числу.\n",
    "\n",
    "# Выведите одно число – сумму данных n чисел."
   ]
  },
  {
   "cell_type": "code",
   "execution_count": 1,
   "id": "4cedd0ae",
   "metadata": {},
   "outputs": [
    {
     "name": "stdout",
     "output_type": "stream",
     "text": [
      "5\n"
     ]
    }
   ],
   "source": [
    "n = int(input())"
   ]
  },
  {
   "cell_type": "code",
   "execution_count": 3,
   "id": "1bd9839c",
   "metadata": {},
   "outputs": [
    {
     "name": "stdout",
     "output_type": "stream",
     "text": [
      "5\n",
      "6\n",
      "8\n",
      "10\n",
      "1000\n"
     ]
    }
   ],
   "source": [
    "summa = 0\n",
    "for i in range(n):\n",
    "    summa += int(input())"
   ]
  },
  {
   "cell_type": "code",
   "execution_count": 4,
   "id": "64979195",
   "metadata": {},
   "outputs": [
    {
     "data": {
      "text/plain": [
       "1029"
      ]
     },
     "execution_count": 4,
     "metadata": {},
     "output_type": "execute_result"
    }
   ],
   "source": [
    "summa"
   ]
  },
  {
   "cell_type": "code",
   "execution_count": null,
   "id": "9dcfd602",
   "metadata": {},
   "outputs": [],
   "source": []
  },
  {
   "cell_type": "markdown",
   "id": "4d114128",
   "metadata": {},
   "source": [
    "# Идентификаторы объектов"
   ]
  },
  {
   "cell_type": "code",
   "execution_count": 8,
   "id": "d6c39186",
   "metadata": {},
   "outputs": [],
   "source": [
    "x  = [1,2,3]"
   ]
  },
  {
   "cell_type": "code",
   "execution_count": 2,
   "id": "8bddf450",
   "metadata": {},
   "outputs": [
    {
     "name": "stdout",
     "output_type": "stream",
     "text": [
      "1807103024448\n",
      "1807103029632\n"
     ]
    }
   ],
   "source": [
    "print(id(x))\n",
    "print(id([1,2,3]))"
   ]
  },
  {
   "cell_type": "code",
   "execution_count": 9,
   "id": "a82a14cd",
   "metadata": {},
   "outputs": [],
   "source": [
    "y = x"
   ]
  },
  {
   "cell_type": "code",
   "execution_count": 4,
   "id": "e3126c79",
   "metadata": {},
   "outputs": [
    {
     "name": "stdout",
     "output_type": "stream",
     "text": [
      "1807103024448\n",
      "1807103024448\n"
     ]
    }
   ],
   "source": [
    "print(id(x))\n",
    "print(id(y))"
   ]
  },
  {
   "cell_type": "code",
   "execution_count": 10,
   "id": "365c3f6c",
   "metadata": {},
   "outputs": [
    {
     "name": "stdout",
     "output_type": "stream",
     "text": [
      "[1, 2, 3, 4]\n",
      "[1, 2, 3, 4]\n"
     ]
    }
   ],
   "source": [
    "x.append(4)\n",
    "\n",
    "print(x)\n",
    "print(y)"
   ]
  },
  {
   "cell_type": "code",
   "execution_count": null,
   "id": "e29c162f",
   "metadata": {},
   "outputs": [],
   "source": []
  },
  {
   "cell_type": "code",
   "execution_count": null,
   "id": "1cfb3f33",
   "metadata": {},
   "outputs": [],
   "source": [
    "# Строка - неизменяемый объект. При любых изменениях (добавление и т.п.) \n",
    "# происходит создание нового объекта. А лист - изменяемый объект,\n",
    "# изменения происходят в одном и том же объекте"
   ]
  },
  {
   "cell_type": "code",
   "execution_count": 11,
   "id": "366dcbc6",
   "metadata": {},
   "outputs": [],
   "source": [
    "x = [1,2,3]"
   ]
  },
  {
   "cell_type": "code",
   "execution_count": 13,
   "id": "ab934b99",
   "metadata": {},
   "outputs": [],
   "source": [
    "y = x"
   ]
  },
  {
   "cell_type": "code",
   "execution_count": 14,
   "id": "09a388cc",
   "metadata": {},
   "outputs": [],
   "source": [
    "y.append(4)"
   ]
  },
  {
   "cell_type": "code",
   "execution_count": 15,
   "id": "fdb9219c",
   "metadata": {},
   "outputs": [
    {
     "name": "stdout",
     "output_type": "stream",
     "text": [
      "[1, 2, 3, 4]\n"
     ]
    }
   ],
   "source": [
    "print(str(x))"
   ]
  },
  {
   "cell_type": "code",
   "execution_count": 16,
   "id": "32ee9456",
   "metadata": {},
   "outputs": [
    {
     "name": "stdout",
     "output_type": "stream",
     "text": [
      "123\n"
     ]
    }
   ],
   "source": [
    "s = '123'\n",
    "t = s\n",
    "t + '4'\n",
    "print(t)"
   ]
  },
  {
   "cell_type": "code",
   "execution_count": 18,
   "id": "d9516e63",
   "metadata": {},
   "outputs": [],
   "source": [
    "\n",
    "#     IMMUTABLE TYPES                    |       MUTABLE TYPES\n",
    "#     ___________________________________ ______________________________\n",
    "#                                        |\n",
    "#     1. Numbers                         |  1. List\n",
    "#                                        |  \n",
    "#     a = 5                              |  \n",
    "#     b = 6                              |\n",
    "#     a = a+b                            |  2. dict\n",
    "#     (a не изменилось,                  |\n",
    "#     оно стало ссылаться                |  \n",
    "#     на новый объект 11)                |  \n",
    "#                                        |\n",
    "#     int                                |  3. set\n",
    "#     float                              |  \n",
    "#     complex                            |    \n",
    "#                                        |\n",
    "#     ___________________________________|\n",
    "#                                        |\n",
    "#     2. Тип bool                        |\n",
    "#                                        |\n",
    "#     True не может поменяться на False  |\n",
    "#                                        |\n",
    "#     3. tuple                           |\n",
    "#                                        |\n",
    "#     4. str                             |\n",
    "#                                        | \n",
    "#             5. frozenset               |   \n",
    "                                         \n",
    "# _______________________________________________________________________\n",
    "\n",
    "#    Если несколько переменных ссылаются на один и тот же объект изменяемого типа,\n",
    "#    изменение какой-нибудь переменной, которая ссылается на этот объект - \n",
    "#    повелчет изменение объекта, а как следствие - всех переменных, которые ссылаются на этот объект."
   ]
  },
  {
   "cell_type": "code",
   "execution_count": null,
   "id": "2d9bc4d0",
   "metadata": {},
   "outputs": [],
   "source": []
  },
  {
   "cell_type": "markdown",
   "id": "94f319f1",
   "metadata": {},
   "source": [
    "# ЗАДАЧА"
   ]
  },
  {
   "cell_type": "code",
   "execution_count": 19,
   "id": "8612c948",
   "metadata": {},
   "outputs": [],
   "source": [
    "# Реализуйте программу, которая будет вычислять количество различных объектов в списке.\n",
    "\n",
    "# Два объекта a и b считаются различными, если a is b равно False.\n",
    "\n",
    "# Вашей программе доступна переменная с названием objects, которая ссылается на список, \n",
    "# содержащий не более 100 объектов. Выведите количество различных объектов в этом списке.\n",
    "\n",
    "# Формат ожидаемой программы:\n",
    "\n",
    "# ans = 0\n",
    "# for obj in objects: # доступная переменная objects\n",
    "#     ans += 1\n",
    "\n",
    "# print(ans)\n",
    "\n",
    "# Примечание:\n",
    "# Количеством различных объектов называется максимальный размер множества объектов, \n",
    "# в котором любые два объекта являются различными.\n",
    "\n",
    "# Рассмотрим пример:\n",
    "objects = [1, 2, 1, 2, 3] # будем считать, что одинаковые числа соответствуют одинаковым объектам, а различные – различным\n",
    "\n",
    "# Тогда все различные объекты являют собой множество {1, 2, 3}. \n",
    "# Таким образом, количество различных объектов равно трём."
   ]
  },
  {
   "cell_type": "code",
   "execution_count": 59,
   "id": "6b4733a3",
   "metadata": {},
   "outputs": [
    {
     "data": {
      "text/plain": [
       "3"
      ]
     },
     "execution_count": 59,
     "metadata": {},
     "output_type": "execute_result"
    }
   ],
   "source": [
    "# это решение не было принято:\n",
    "\n",
    "ans = 0\n",
    "for obj in set(objects): # доступная переменная objects\n",
    "    ans += 1\n",
    "ans"
   ]
  },
  {
   "cell_type": "code",
   "execution_count": 71,
   "id": "c2f79f3a",
   "metadata": {},
   "outputs": [
    {
     "name": "stdout",
     "output_type": "stream",
     "text": [
      "5\n"
     ]
    }
   ],
   "source": [
    "# это не правильное решение\n",
    "\n",
    "# так как не работает в случае:\n",
    "\n",
    "objects = [1, 2, 1, 2, 3, [1], [1] ]\n",
    "\n",
    "# этот код не работает:\n",
    "# print(len(set(objects)))\n",
    "\n",
    "# правильный ответ - смапить id:\n",
    "print(len(set(map(id, objects))))\n",
    "    \n",
    "    "
   ]
  },
  {
   "cell_type": "code",
   "execution_count": 57,
   "id": "9a088305",
   "metadata": {},
   "outputs": [
    {
     "name": "stdout",
     "output_type": "stream",
     "text": [
      "3\n"
     ]
    }
   ],
   "source": [
    "# а это принято:\n",
    "\n",
    "ans = 0\n",
    "lst = []\n",
    "for obj in objects: # доступная переменная objects\n",
    "    \n",
    "    if obj not in lst:\n",
    "        lst.append(obj)\n",
    "        \n",
    "ans = len(lst)\n",
    "print(ans)"
   ]
  },
  {
   "cell_type": "code",
   "execution_count": 63,
   "id": "b401520c",
   "metadata": {},
   "outputs": [
    {
     "data": {
      "text/plain": [
       "3"
      ]
     },
     "execution_count": 63,
     "metadata": {},
     "output_type": "execute_result"
    }
   ],
   "source": [
    "# ответ мастера:\n",
    "\n",
    "len(set(map(id, objects)))"
   ]
  },
  {
   "cell_type": "code",
   "execution_count": 64,
   "id": "8c862879",
   "metadata": {},
   "outputs": [
    {
     "data": {
      "text/plain": [
       "3"
      ]
     },
     "execution_count": 64,
     "metadata": {},
     "output_type": "execute_result"
    }
   ],
   "source": [
    "# и еще один ответ мастера:\n",
    "\n",
    "len(set(id(i) for i in objects))"
   ]
  },
  {
   "cell_type": "code",
   "execution_count": null,
   "id": "6f040d2e",
   "metadata": {},
   "outputs": [],
   "source": []
  },
  {
   "cell_type": "code",
   "execution_count": null,
   "id": "748ca6e1",
   "metadata": {},
   "outputs": [],
   "source": [
    "31.05.2023"
   ]
  },
  {
   "cell_type": "markdown",
   "id": "69006671",
   "metadata": {},
   "source": [
    "# Функции"
   ]
  },
  {
   "cell_type": "code",
   "execution_count": null,
   "id": "4bcc6940",
   "metadata": {},
   "outputs": [],
   "source": [
    "# Зачем нужны функциии:\n",
    "    \n",
    "#     1. Переиспользование кода неограниченное количество раз - вынос блока кода в отдельную функцию.\n",
    "    \n",
    "#     2. Структурирование кода. Маленькие и понятные компоненты.\n",
    "    \n",
    "#     3. Сокрытие деталей реализации функции."
   ]
  },
  {
   "cell_type": "code",
   "execution_count": null,
   "id": "7aa86e0a",
   "metadata": {},
   "outputs": [],
   "source": []
  },
  {
   "cell_type": "code",
   "execution_count": null,
   "id": "9f1ee6ab",
   "metadata": {},
   "outputs": [],
   "source": []
  },
  {
   "cell_type": "code",
   "execution_count": null,
   "id": "59cc792c",
   "metadata": {},
   "outputs": [],
   "source": []
  },
  {
   "cell_type": "code",
   "execution_count": null,
   "id": "973136f2",
   "metadata": {},
   "outputs": [],
   "source": [
    "# Что будет выведено на экран в результате исполнения данного кода?"
   ]
  },
  {
   "cell_type": "code",
   "execution_count": 1,
   "id": "697ec053",
   "metadata": {},
   "outputs": [
    {
     "name": "stdout",
     "output_type": "stream",
     "text": [
      "['arg1', 'arg2', 'foo']\n"
     ]
    }
   ],
   "source": [
    "a = []\n",
    "\n",
    "def foo(arg1, arg2):\n",
    "  a.append(\"foo\")\n",
    "\n",
    "foo(a.append(\"arg1\"), a.append(\"arg2\"))\n",
    "\n",
    "print(a)"
   ]
  },
  {
   "cell_type": "code",
   "execution_count": null,
   "id": "b379e5e3",
   "metadata": {},
   "outputs": [],
   "source": []
  },
  {
   "cell_type": "code",
   "execution_count": null,
   "id": "9d6f811c",
   "metadata": {},
   "outputs": [],
   "source": []
  },
  {
   "cell_type": "markdown",
   "id": "3778a105",
   "metadata": {},
   "source": [
    "# Стек вызовов"
   ]
  },
  {
   "cell_type": "code",
   "execution_count": null,
   "id": "ea7e1ab5",
   "metadata": {},
   "outputs": [],
   "source": [
    "# В процессе выполнения кода на стек добавляются и со стека снимаются функции. \n",
    "# Добавление функции на стек увеличивает его размер на 1, снятие функции со стека уменьшает его размер на 1.\n",
    "\n",
    "# Чему равен максимальный размер стека в процессе выполнения следующего кода?\n",
    "# Обратите внимание, что при интерпретации кода на стеке находится функция module, \n",
    "# которую также нужно учесть при подсчете размера стека.\n",
    "# В рамках данного задания можно считать, что функция print не вызывает \n",
    "# дополнительных функций внутри себя."
   ]
  },
  {
   "cell_type": "code",
   "execution_count": 2,
   "id": "1f2d0c24",
   "metadata": {},
   "outputs": [
    {
     "name": "stdout",
     "output_type": "stream",
     "text": [
      "12\n"
     ]
    }
   ],
   "source": [
    "def h():\n",
    "  print(12)\n",
    "\n",
    "def f():\n",
    "  g(h)\n",
    "\n",
    "def g(a):\n",
    "  a()\n",
    "\n",
    "g(f)"
   ]
  },
  {
   "cell_type": "code",
   "execution_count": null,
   "id": "8844380f",
   "metadata": {},
   "outputs": [],
   "source": [
    "0. Нулевой уровень - функция module  =1\n",
    "1. Выполняется g внутри которой a=f  =2\n",
    "2. Выполняется f                     =3\n",
    "3. Выполняется g, внутри которой h   =4\n",
    "4. Выполняется h                     =5\n",
    "5. Выполняется print                 =6"
   ]
  },
  {
   "cell_type": "code",
   "execution_count": null,
   "id": "d83e3903",
   "metadata": {},
   "outputs": [],
   "source": []
  },
  {
   "cell_type": "code",
   "execution_count": null,
   "id": "cddf66c9",
   "metadata": {},
   "outputs": [],
   "source": []
  },
  {
   "cell_type": "code",
   "execution_count": null,
   "id": "b4c1e2ff",
   "metadata": {},
   "outputs": [],
   "source": [
    "# 21.06.2023"
   ]
  },
  {
   "cell_type": "code",
   "execution_count": null,
   "id": "3ffcc5b4",
   "metadata": {},
   "outputs": [],
   "source": [
    "# Задача№1\n",
    "\n",
    "# Напишите реализацию функции closest_mod_5, принимающую в качестве единственного \n",
    "# аргумента целое число x и возвращающую самое маленькое целое число y, такое что:\n",
    "\n",
    "# y больше или равно x\n",
    "# y делится нацело на 5\n",
    "# Формат того, что ожидается от вас в качестве ответа:\n",
    "\n",
    "\n",
    "\n",
    "# def closest_mod_5(x):\n",
    "#     if x % 5 == 0:\n",
    "#         return x\n",
    "#     return \"I don't know :(\""
   ]
  },
  {
   "cell_type": "code",
   "execution_count": 13,
   "id": "e0f64525",
   "metadata": {},
   "outputs": [],
   "source": [
    "def closest_mod_5(x):\n",
    "    while x % 5 != 0:\n",
    "        x += 1\n",
    "    return x"
   ]
  },
  {
   "cell_type": "code",
   "execution_count": 15,
   "id": "ffc71d42",
   "metadata": {},
   "outputs": [
    {
     "data": {
      "text/plain": [
       "5"
      ]
     },
     "execution_count": 15,
     "metadata": {},
     "output_type": "execute_result"
    }
   ],
   "source": [
    "closest_mod_5(5)"
   ]
  },
  {
   "cell_type": "code",
   "execution_count": null,
   "id": "71089f6b",
   "metadata": {},
   "outputs": [],
   "source": []
  },
  {
   "cell_type": "code",
   "execution_count": null,
   "id": "33c21cb2",
   "metadata": {},
   "outputs": [],
   "source": [
    "# Задача №2\n",
    "\n",
    "# Дана функция s:\n",
    "\n",
    "# def s(a, *vs, b=10):\n",
    "#    res = a + b\n",
    "#    for v in vs:\n",
    "#        res += v\n",
    "#    return res\n",
    "\n",
    "\n",
    "# В результате каких вызовов данная функция вернет число 31?\n",
    "\n",
    "\n",
    "s(0, 0, 31)\n",
    "\n",
    "s(b=31, 0)\n",
    "\n",
    "s(5, 5, 5, 5, 1)\n",
    "\n",
    "s(11, 10, b=10)\n",
    "\n",
    "s(b=31)\n",
    "\n",
    "s(11, 10)\n",
    "\n",
    "s(21)\n",
    "\n",
    "s(11, b=20)\n",
    "\n",
    "s(11, 10, 10)"
   ]
  },
  {
   "cell_type": "code",
   "execution_count": 21,
   "id": "4df40178",
   "metadata": {},
   "outputs": [],
   "source": [
    "def s(a, *vs, b=10):\n",
    "    res = a + b\n",
    "    for v in vs:\n",
    "        print(v, vs)\n",
    "        res += v\n",
    "    return res"
   ]
  },
  {
   "cell_type": "code",
   "execution_count": 22,
   "id": "e8654f82",
   "metadata": {},
   "outputs": [
    {
     "name": "stdout",
     "output_type": "stream",
     "text": [
      "0 (0, 10)\n",
      "10 (0, 10)\n"
     ]
    },
    {
     "data": {
      "text/plain": [
       "20"
      ]
     },
     "execution_count": 22,
     "metadata": {},
     "output_type": "execute_result"
    }
   ],
   "source": [
    "s(0, 0, 10)"
   ]
  },
  {
   "cell_type": "code",
   "execution_count": null,
   "id": "25f56985",
   "metadata": {},
   "outputs": [],
   "source": []
  },
  {
   "cell_type": "code",
   "execution_count": null,
   "id": "7bcf1ee9",
   "metadata": {},
   "outputs": [],
   "source": []
  }
 ],
 "metadata": {
  "kernelspec": {
   "display_name": "Python 3 (ipykernel)",
   "language": "python",
   "name": "python3"
  },
  "language_info": {
   "codemirror_mode": {
    "name": "ipython",
    "version": 3
   },
   "file_extension": ".py",
   "mimetype": "text/x-python",
   "name": "python",
   "nbconvert_exporter": "python",
   "pygments_lexer": "ipython3",
   "version": "3.10.0"
  }
 },
 "nbformat": 4,
 "nbformat_minor": 5
}
