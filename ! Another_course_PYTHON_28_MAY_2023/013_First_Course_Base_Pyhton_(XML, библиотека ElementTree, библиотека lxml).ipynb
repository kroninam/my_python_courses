{
 "cells": [
  {
   "cell_type": "code",
   "execution_count": 1,
   "id": "8f866423",
   "metadata": {},
   "outputs": [],
   "source": [
    "from xml.etree import ElementTree"
   ]
  },
  {
   "cell_type": "code",
   "execution_count": 2,
   "id": "443f4319",
   "metadata": {},
   "outputs": [],
   "source": [
    "tree = ElementTree.parse('XML_example.xml')"
   ]
  },
  {
   "cell_type": "code",
   "execution_count": 3,
   "id": "853ed566",
   "metadata": {},
   "outputs": [],
   "source": [
    "root = tree.getroot()"
   ]
  },
  {
   "cell_type": "code",
   "execution_count": 6,
   "id": "fd38c437",
   "metadata": {},
   "outputs": [
    {
     "name": "stdout",
     "output_type": "stream",
     "text": [
      "<Element 'studentsList' at 0x0000029D66C4F650>\n"
     ]
    }
   ],
   "source": [
    "print(root)"
   ]
  },
  {
   "cell_type": "code",
   "execution_count": 10,
   "id": "0f2744d8",
   "metadata": {
    "scrolled": true
   },
   "outputs": [
    {
     "name": "stdout",
     "output_type": "stream",
     "text": [
      "student {'id': '1'}\n",
      "student {'id': '2'}\n"
     ]
    }
   ],
   "source": [
    "for child in root:\n",
    "    print(child.tag, child.attrib)"
   ]
  },
  {
   "cell_type": "code",
   "execution_count": 17,
   "id": "cd4cdca4",
   "metadata": {},
   "outputs": [
    {
     "data": {
      "text/plain": [
       "'firstName'"
      ]
     },
     "execution_count": 17,
     "metadata": {},
     "output_type": "execute_result"
    }
   ],
   "source": [
    "root[0][0].tag"
   ]
  },
  {
   "cell_type": "code",
   "execution_count": 16,
   "id": "8279380a",
   "metadata": {},
   "outputs": [
    {
     "data": {
      "text/plain": [
       "'Greg'"
      ]
     },
     "execution_count": 16,
     "metadata": {},
     "output_type": "execute_result"
    }
   ],
   "source": [
    "root[0][0].text"
   ]
  },
  {
   "cell_type": "code",
   "execution_count": null,
   "id": "e072e864",
   "metadata": {},
   "outputs": [],
   "source": []
  },
  {
   "cell_type": "code",
   "execution_count": 25,
   "id": "d5d07d35",
   "metadata": {},
   "outputs": [
    {
     "name": "stdout",
     "output_type": "stream",
     "text": [
      "<Element 'module1' at 0x0000029D66C4FD80>\n",
      "70\n",
      "80\n",
      "90\n",
      "<Element 'module1' at 0x0000029D66C5C040>\n",
      "80\n",
      "80.2\n",
      "80\n"
     ]
    }
   ],
   "source": [
    "for element in root.iter('scores'):\n",
    "    print(element[0])\n",
    "    for child in element:\n",
    "        print(child.text)"
   ]
  },
  {
   "cell_type": "code",
   "execution_count": null,
   "id": "eed43f43",
   "metadata": {},
   "outputs": [],
   "source": []
  },
  {
   "cell_type": "markdown",
   "id": "4ba1971e",
   "metadata": {},
   "source": [
    "# Создание деревьев и запись в xml формат"
   ]
  },
  {
   "cell_type": "code",
   "execution_count": 29,
   "id": "aec92920",
   "metadata": {},
   "outputs": [],
   "source": [
    "tree = ElementTree.parse('XML_example.xml')"
   ]
  },
  {
   "cell_type": "code",
   "execution_count": 30,
   "id": "2232b8d7",
   "metadata": {},
   "outputs": [],
   "source": [
    "tree.write('XML_example_copy.xml')"
   ]
  },
  {
   "cell_type": "code",
   "execution_count": 31,
   "id": "66735faf",
   "metadata": {},
   "outputs": [],
   "source": [
    "root = tree.getroot()"
   ]
  },
  {
   "cell_type": "code",
   "execution_count": 39,
   "id": "6c2be1b0",
   "metadata": {},
   "outputs": [
    {
     "data": {
      "text/plain": [
       "'Greg'"
      ]
     },
     "execution_count": 39,
     "metadata": {},
     "output_type": "execute_result"
    }
   ],
   "source": [
    "root[0][0].text"
   ]
  },
  {
   "cell_type": "code",
   "execution_count": 38,
   "id": "391e2a99",
   "metadata": {},
   "outputs": [
    {
     "data": {
      "text/plain": [
       "<Element 'student' at 0x0000029D680C3CE0>"
      ]
     },
     "execution_count": 38,
     "metadata": {},
     "output_type": "execute_result"
    }
   ],
   "source": [
    "root[0]"
   ]
  },
  {
   "cell_type": "code",
   "execution_count": null,
   "id": "6c262ac8",
   "metadata": {},
   "outputs": [],
   "source": []
  },
  {
   "cell_type": "code",
   "execution_count": 40,
   "id": "aaaa2f86",
   "metadata": {},
   "outputs": [],
   "source": [
    "greg = root[0]"
   ]
  },
  {
   "cell_type": "code",
   "execution_count": null,
   "id": "68038d09",
   "metadata": {},
   "outputs": [],
   "source": [
    "# увеличение оценки в модуле_1"
   ]
  },
  {
   "cell_type": "code",
   "execution_count": 47,
   "id": "86b32284",
   "metadata": {},
   "outputs": [],
   "source": [
    "module1 = next(greg.iter('module1'))"
   ]
  },
  {
   "cell_type": "code",
   "execution_count": 48,
   "id": "875bd92b",
   "metadata": {},
   "outputs": [
    {
     "name": "stdout",
     "output_type": "stream",
     "text": [
      "<Element 'module1' at 0x0000029D680C3FB0> 70\n"
     ]
    }
   ],
   "source": [
    "print(module1, module1.text)"
   ]
  },
  {
   "cell_type": "code",
   "execution_count": 49,
   "id": "c38c59d6",
   "metadata": {},
   "outputs": [],
   "source": [
    "module1.text = str(float(module1.text) + 30)"
   ]
  },
  {
   "cell_type": "code",
   "execution_count": 50,
   "id": "b687fa5a",
   "metadata": {},
   "outputs": [
    {
     "data": {
      "text/plain": [
       "'100.0'"
      ]
     },
     "execution_count": 50,
     "metadata": {},
     "output_type": "execute_result"
    }
   ],
   "source": [
    "module1.text"
   ]
  },
  {
   "cell_type": "code",
   "execution_count": 51,
   "id": "245f1b3e",
   "metadata": {},
   "outputs": [],
   "source": [
    "tree.write('XML_example_modified.xml')"
   ]
  },
  {
   "cell_type": "code",
   "execution_count": null,
   "id": "24842c9e",
   "metadata": {},
   "outputs": [],
   "source": []
  },
  {
   "cell_type": "code",
   "execution_count": null,
   "id": "dd3c9c00",
   "metadata": {},
   "outputs": [],
   "source": [
    "# Изменение типа сертификата"
   ]
  },
  {
   "cell_type": "code",
   "execution_count": 56,
   "id": "7d81c65a",
   "metadata": {},
   "outputs": [],
   "source": [
    "greg = root[0]"
   ]
  },
  {
   "cell_type": "code",
   "execution_count": 59,
   "id": "0b36eb30",
   "metadata": {},
   "outputs": [
    {
     "data": {
      "text/plain": [
       "<Element 'certificate' at 0x0000029D680C3F10>"
      ]
     },
     "execution_count": 59,
     "metadata": {},
     "output_type": "execute_result"
    }
   ],
   "source": [
    "greg[2]"
   ]
  },
  {
   "cell_type": "code",
   "execution_count": 60,
   "id": "bb892a87",
   "metadata": {},
   "outputs": [],
   "source": [
    "certificate = greg[2]"
   ]
  },
  {
   "cell_type": "code",
   "execution_count": 61,
   "id": "c3648784",
   "metadata": {},
   "outputs": [],
   "source": [
    "certificate.set('type', 'with distinction')"
   ]
  },
  {
   "cell_type": "code",
   "execution_count": 62,
   "id": "1b744587",
   "metadata": {},
   "outputs": [],
   "source": [
    "tree.write('XML_example_modified.xml')"
   ]
  },
  {
   "cell_type": "code",
   "execution_count": null,
   "id": "58d959d2",
   "metadata": {},
   "outputs": [],
   "source": []
  },
  {
   "cell_type": "code",
   "execution_count": null,
   "id": "567ad03a",
   "metadata": {},
   "outputs": [],
   "source": []
  },
  {
   "cell_type": "code",
   "execution_count": null,
   "id": "e38dedfc",
   "metadata": {},
   "outputs": [],
   "source": [
    "# создание нового элемента в дереве:"
   ]
  },
  {
   "cell_type": "code",
   "execution_count": 65,
   "id": "0220d903",
   "metadata": {},
   "outputs": [],
   "source": [
    "greg = root[0]"
   ]
  },
  {
   "cell_type": "code",
   "execution_count": 63,
   "id": "f0009088",
   "metadata": {},
   "outputs": [],
   "source": [
    "description = ElementTree.Element('description')"
   ]
  },
  {
   "cell_type": "code",
   "execution_count": 64,
   "id": "487d8308",
   "metadata": {},
   "outputs": [],
   "source": [
    "description.text = 'Some text for this new element created'"
   ]
  },
  {
   "cell_type": "code",
   "execution_count": 66,
   "id": "881f07bb",
   "metadata": {},
   "outputs": [],
   "source": [
    "greg.append(description)"
   ]
  },
  {
   "cell_type": "code",
   "execution_count": 67,
   "id": "31ae0944",
   "metadata": {},
   "outputs": [],
   "source": [
    "tree.write('XML_example_modified.xml')"
   ]
  },
  {
   "cell_type": "code",
   "execution_count": null,
   "id": "3513cd25",
   "metadata": {},
   "outputs": [],
   "source": []
  },
  {
   "cell_type": "code",
   "execution_count": null,
   "id": "fdda32c3",
   "metadata": {},
   "outputs": [],
   "source": [
    "# теперь удалим этот элемент:"
   ]
  },
  {
   "cell_type": "code",
   "execution_count": 70,
   "id": "e77fa82e",
   "metadata": {},
   "outputs": [],
   "source": [
    "description = greg.find('description')"
   ]
  },
  {
   "cell_type": "code",
   "execution_count": 71,
   "id": "14ad9176",
   "metadata": {},
   "outputs": [],
   "source": [
    "greg.remove(description)"
   ]
  },
  {
   "cell_type": "code",
   "execution_count": 72,
   "id": "3cc89f3b",
   "metadata": {},
   "outputs": [],
   "source": [
    "tree.write('XML_example_modified.xml')"
   ]
  },
  {
   "cell_type": "code",
   "execution_count": null,
   "id": "28cd0f4c",
   "metadata": {},
   "outputs": [],
   "source": []
  },
  {
   "cell_type": "code",
   "execution_count": null,
   "id": "263503de",
   "metadata": {},
   "outputs": [],
   "source": []
  },
  {
   "cell_type": "markdown",
   "id": "adbf38be",
   "metadata": {},
   "source": [
    "# Библиотека lxml"
   ]
  },
  {
   "cell_type": "code",
   "execution_count": 73,
   "id": "34bf5fdc",
   "metadata": {},
   "outputs": [],
   "source": [
    "from lxml import etree"
   ]
  },
  {
   "cell_type": "code",
   "execution_count": 74,
   "id": "e8d43901",
   "metadata": {},
   "outputs": [],
   "source": [
    "import requests"
   ]
  },
  {
   "cell_type": "code",
   "execution_count": 75,
   "id": "9a77144e",
   "metadata": {},
   "outputs": [],
   "source": [
    "res = requests.get('https://stepik.org/users/568719888/profile')"
   ]
  },
  {
   "cell_type": "code",
   "execution_count": 76,
   "id": "d9c12447",
   "metadata": {},
   "outputs": [
    {
     "data": {
      "text/plain": [
       "200"
      ]
     },
     "execution_count": 76,
     "metadata": {},
     "output_type": "execute_result"
    }
   ],
   "source": [
    "res.status_code"
   ]
  },
  {
   "cell_type": "code",
   "execution_count": 78,
   "id": "9d9ca031",
   "metadata": {},
   "outputs": [
    {
     "data": {
      "text/plain": [
       "'text/html; charset=utf-8'"
      ]
     },
     "execution_count": 78,
     "metadata": {},
     "output_type": "execute_result"
    }
   ],
   "source": [
    "res.headers['Content-Type']"
   ]
  },
  {
   "cell_type": "code",
   "execution_count": 87,
   "id": "6b1590ee",
   "metadata": {},
   "outputs": [],
   "source": [
    "# res.text"
   ]
  },
  {
   "cell_type": "code",
   "execution_count": null,
   "id": "958af901",
   "metadata": {},
   "outputs": [],
   "source": []
  },
  {
   "cell_type": "code",
   "execution_count": 79,
   "id": "5d5c3056",
   "metadata": {},
   "outputs": [],
   "source": [
    "parser = etree.HTMLParser()"
   ]
  },
  {
   "cell_type": "code",
   "execution_count": 80,
   "id": "a6845360",
   "metadata": {},
   "outputs": [],
   "source": [
    "root = etree.fromstring(res.text, parser)"
   ]
  },
  {
   "cell_type": "code",
   "execution_count": 89,
   "id": "2c131449",
   "metadata": {},
   "outputs": [
    {
     "name": "stdout",
     "output_type": "stream",
     "text": [
      "<Element a at 0x29d683a0500> {'target': '_blank', 'rel': 'noopener noreferrer', 'class': 'mobile-banner__main-link'}\n",
      "<Element a at 0x29d683a0980> {'href': '/users/655883500/learn', 'class': 'navbar__logo-link'}\n",
      "<Element a at 0x29d6836d2c0> {'href': '/catalog', 'class': 'navbar__link st-link'}\n",
      "<Element a at 0x29d683a0500> {'href': '/learn', 'class': 'navbar__link st-link'}\n",
      "<Element a at 0x29d683a0980> {'href': 'http://welcome.stepik.org/ru/terms'}\n",
      "<Element a at 0x29d6836d2c0> {'href': 'http://welcome.stepik.org/ru/privacy'}\n",
      "<Element a at 0x29d683a0500> {'href': 'http://welcome.stepik.org/ru/pricing'}\n",
      "<Element a at 0x29d683a0980> {'href': 'http://welcome.stepik.org/ru/press'}\n",
      "<Element a at 0x29d6836d2c0> {'href': 'http://welcome.stepik.org/ru/team'}\n",
      "<Element a at 0x29d683a0500> {'href': 'https://help.stepik.org/'}\n",
      "<Element a at 0x29d683a0980> {'href': 'http://welcome.stepik.org/ru/about'}\n",
      "<Element a at 0x29d6836d2c0> {'href': 'http://welcome.stepik.org/ru/contacts'}\n",
      "<Element a at 0x29d683a0500> {'href': 'https://vk.com/rustepik', 'class': 'page-footer__social-link'}\n",
      "<Element a at 0x29d683a0980> {'href': 'https://t.me/stepik_courses', 'class': 'page-footer__social-link'}\n",
      "<Element a at 0x29d6836d2c0> {'href': 'https://instagram.com/stepik.education/', 'class': 'page-footer__social-link'}\n",
      "<Element a at 0x29d683a0500> {'class': 'page-footer__mobapp-link', 'href': 'https://itunes.apple.com/ru/app/id1064581926'}\n",
      "<Element a at 0x29d683a0980> {'class': 'page-footer__mobapp-link', 'href': 'https://play.google.com/store/apps/details?id=org.stepic.droid&utm_source=global_co&utm_medium=prtnr&utm_content=Mar2515&utm_campaign=PartBadge&pcampaignid=MKT-AC-global-none-all-co-pr-py-PartBadges-Oct1515-1'}\n",
      "<Element a at 0x29d6836d2c0> {'href': 'https://creativecommons.org/licenses/by-sa/4.0/'}\n",
      "<Element a at 0x29d683a0500> {'class': 'page-footer__col', 'href': 'https://sk.ru', 'target': '_blank', 'rel': 'noopener noreferrer'}\n"
     ]
    }
   ],
   "source": [
    "# вывод всех элементов 'a' (то есть ссылок):\n",
    "\n",
    "for element in root.iter('a'):\n",
    "    print(element, element.attrib)\n"
   ]
  },
  {
   "cell_type": "code",
   "execution_count": null,
   "id": "43562e4b",
   "metadata": {},
   "outputs": [],
   "source": []
  },
  {
   "cell_type": "markdown",
   "id": "650aefa3",
   "metadata": {},
   "source": [
    "# Задача"
   ]
  },
  {
   "cell_type": "code",
   "execution_count": null,
   "id": "2a78deb3",
   "metadata": {},
   "outputs": [],
   "source": [
    "# Вам дано описание пирамиды из кубиков в формате XML.\n",
    "# Кубики могут быть трех цветов: красный (red), зеленый (green) и синий (blue).\n",
    "# Для каждого кубика известны его цвет, и известны кубики, расположенные прямо под ним.\n",
    "\n",
    "# Пример:\n",
    "\n",
    "<cube color=\"blue\">\n",
    "  <cube color=\"red\">\n",
    "    <cube color=\"green\">\n",
    "    </cube>\n",
    "  </cube>\n",
    "  <cube color=\"red\">\n",
    "  </cube>\n",
    "</cube>\n",
    " \n",
    "# Введем понятие ценности для кубиков. Самый верхний кубик, соответствующий \n",
    "# корню XML документа имеет ценность 1. Кубики, расположенные прямо под ним, \n",
    "# имеют ценность 2. Кубики, расположенные прямо под нижележащими кубиками, \n",
    "# имеют ценность 3. И т. д.\n",
    "\n",
    "# Ценность цвета равна сумме ценностей всех кубиков этого цвета.\n",
    "\n",
    "# Выведите через пробел три числа: ценности красного, зеленого и синего цветов.\n",
    "    \n",
    "# Sample Input:\n",
    "# <cube color=\"blue\"><cube color=\"red\"><cube color=\"green\"></cube></cube><cube color=\"red\"></cube></cube>\n",
    "\n",
    "# Sample Output:\n",
    "# 4 3 1"
   ]
  },
  {
   "cell_type": "code",
   "execution_count": null,
   "id": "7c83cb4e",
   "metadata": {},
   "outputs": [],
   "source": []
  },
  {
   "cell_type": "code",
   "execution_count": null,
   "id": "c97c3e56",
   "metadata": {},
   "outputs": [],
   "source": []
  },
  {
   "cell_type": "code",
   "execution_count": null,
   "id": "6a63b8c3",
   "metadata": {},
   "outputs": [],
   "source": []
  },
  {
   "cell_type": "code",
   "execution_count": null,
   "id": "4834403b",
   "metadata": {},
   "outputs": [],
   "source": []
  },
  {
   "cell_type": "code",
   "execution_count": null,
   "id": "2c612aa8",
   "metadata": {},
   "outputs": [],
   "source": []
  },
  {
   "cell_type": "code",
   "execution_count": null,
   "id": "60234d73",
   "metadata": {},
   "outputs": [],
   "source": []
  },
  {
   "cell_type": "code",
   "execution_count": null,
   "id": "771219c4",
   "metadata": {},
   "outputs": [],
   "source": []
  },
  {
   "cell_type": "code",
   "execution_count": null,
   "id": "b109870f",
   "metadata": {},
   "outputs": [],
   "source": []
  }
 ],
 "metadata": {
  "kernelspec": {
   "display_name": "Python 3 (ipykernel)",
   "language": "python",
   "name": "python3"
  },
  "language_info": {
   "codemirror_mode": {
    "name": "ipython",
    "version": 3
   },
   "file_extension": ".py",
   "mimetype": "text/x-python",
   "name": "python",
   "nbconvert_exporter": "python",
   "pygments_lexer": "ipython3",
   "version": "3.10.0"
  }
 },
 "nbformat": 4,
 "nbformat_minor": 5
}
