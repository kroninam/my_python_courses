{
 "cells": [
  {
   "cell_type": "markdown",
   "id": "d91e4412",
   "metadata": {},
   "source": [
    "# 2.2 Промежутки времени"
   ]
  },
  {
   "cell_type": "code",
   "execution_count": null,
   "id": "40a9811e",
   "metadata": {},
   "outputs": [],
   "source": []
  },
  {
   "cell_type": "code",
   "execution_count": null,
   "id": "152eaaa3",
   "metadata": {},
   "outputs": [],
   "source": [
    "Промежутком времени или дельтой называют разницу между двумя временными точками.\n",
    "Это могут быть секунды, минуты, часы, дни, недели, месяцы или годы. Например, \n",
    "дельта между 14:00 и 16:00 составляет 2 часа, а между 13.02 и 15.02 – 2 дня. Чтобы \n",
    "работать с промежутками времени в Python есть удобный класс datetime.timedelta."
   ]
  },
  {
   "cell_type": "code",
   "execution_count": 1,
   "id": "bbb631ea",
   "metadata": {},
   "outputs": [],
   "source": [
    "from datetime import timedelta\n",
    "\n",
    "delta = timedelta(days=1, hours=2, minutes=30, seconds=10)"
   ]
  },
  {
   "cell_type": "code",
   "execution_count": 2,
   "id": "bb9c72e9",
   "metadata": {},
   "outputs": [
    {
     "data": {
      "text/plain": [
       "datetime.timedelta(days=1, seconds=9010)"
      ]
     },
     "execution_count": 2,
     "metadata": {},
     "output_type": "execute_result"
    }
   ],
   "source": [
    "delta"
   ]
  },
  {
   "cell_type": "code",
   "execution_count": 4,
   "id": "bc80e587",
   "metadata": {},
   "outputs": [
    {
     "name": "stdout",
     "output_type": "stream",
     "text": [
      "35 days, 0:00:00\n",
      "35\n",
      "0\n",
      "3024000.0\n"
     ]
    }
   ],
   "source": [
    "# Если мы попробуем отнять от одной даты другую, то результатом будет дельта.\n",
    "\n",
    "from datetime import date\n",
    "\n",
    "date1 = date(year=2023, month=1, day=1)\n",
    "date2 = date(year=2023, month=2, day=5)\n",
    "delta = date2 - date1\n",
    "\n",
    "\n",
    "print(delta)  # 35 days, 0:00:00\n",
    "print(delta.days)  # 35\n",
    "print(delta.seconds)  # 0\n",
    "print(delta.total_seconds())  # 3024000.0"
   ]
  },
  {
   "cell_type": "code",
   "execution_count": 5,
   "id": "6ce34136",
   "metadata": {},
   "outputs": [
    {
     "name": "stdout",
     "output_type": "stream",
     "text": [
      "55 days, 0:00:00\n",
      "1.2\n",
      "90 days, 0:00:00\n",
      "30 days, 0:00:00\n"
     ]
    }
   ],
   "source": [
    "# С полученными временными интервалами можно совершать различные арифметические операции.\n",
    "\n",
    "from datetime import timedelta\n",
    "\n",
    "d1 = timedelta(days=30)\n",
    "d2 = timedelta(days=25)\n",
    "\n",
    "print(d1+d2)  # 55 days, 0:00:00\n",
    "print(d1 / d2)  # 1.2\n",
    "print(d1 * 3)  # 90 days, 0:00:00\n",
    "print(abs(-d1))  # 30 days, 0:00:00"
   ]
  },
  {
   "cell_type": "code",
   "execution_count": null,
   "id": "0504dcda",
   "metadata": {},
   "outputs": [],
   "source": []
  },
  {
   "cell_type": "code",
   "execution_count": null,
   "id": "f0027e41",
   "metadata": {},
   "outputs": [],
   "source": []
  },
  {
   "cell_type": "markdown",
   "id": "35e34a30",
   "metadata": {},
   "source": [
    "# Задача"
   ]
  },
  {
   "cell_type": "code",
   "execution_count": null,
   "id": "b4847efa",
   "metadata": {},
   "outputs": [],
   "source": [
    "У вас есть функционал с промокодами. Пользователь создает промокод и задает \n",
    "ему время действия в днях. Нужно определить в какую дату промокод закончит свое действие.\n",
    "\n",
    "На вход программе подаётся количество дней и дата создания промокода. \n",
    "Нужно вывести его дату окончания действия.\n",
    "\n",
    "\n",
    "Sample Input 1:\n",
    "\n",
    "10\n",
    "2023-04-13"
   ]
  },
  {
   "cell_type": "code",
   "execution_count": 10,
   "id": "8f7b7c3f",
   "metadata": {},
   "outputs": [
    {
     "name": "stdout",
     "output_type": "stream",
     "text": [
      "10\n",
      "2015-12-26\n"
     ]
    }
   ],
   "source": [
    "from datetime import date\n",
    "from datetime import timedelta\n",
    "\n",
    "\n",
    "n = int(input())\n",
    "d_release = input()\n"
   ]
  },
  {
   "cell_type": "code",
   "execution_count": 11,
   "id": "d633e5a5",
   "metadata": {},
   "outputs": [
    {
     "data": {
      "text/plain": [
       "datetime.date(2015, 12, 26)"
      ]
     },
     "execution_count": 11,
     "metadata": {},
     "output_type": "execute_result"
    }
   ],
   "source": [
    "d_release = date.fromisoformat(d_release)\n",
    "d_release"
   ]
  },
  {
   "cell_type": "code",
   "execution_count": 13,
   "id": "75b29dd7",
   "metadata": {},
   "outputs": [],
   "source": [
    "srok = d_release + timedelta(days = 10)"
   ]
  },
  {
   "cell_type": "code",
   "execution_count": 14,
   "id": "6612bc78",
   "metadata": {},
   "outputs": [
    {
     "name": "stdout",
     "output_type": "stream",
     "text": [
      "2016-01-05\n"
     ]
    }
   ],
   "source": [
    "print(srok)"
   ]
  },
  {
   "cell_type": "code",
   "execution_count": null,
   "id": "b52ee4e5",
   "metadata": {},
   "outputs": [],
   "source": []
  },
  {
   "cell_type": "markdown",
   "id": "987bb295",
   "metadata": {},
   "source": [
    "# Задача"
   ]
  },
  {
   "cell_type": "code",
   "execution_count": null,
   "id": "9c5e6d15",
   "metadata": {},
   "outputs": [],
   "source": [
    "# Напишите программу, которая будет выводить количество дней в каждом из кварталов для заданного года.\n",
    "\n",
    "# 1) с 1-го января по 31-е марта\n",
    "\n",
    "# 2) с 1-го апреля по 30-е июня\n",
    "\n",
    "# 3) с 1-го июля по 30-е сентября\n",
    "\n",
    "# 4) с 1-го октября по 31-е декабря\n",
    "\n",
    "# На вход подается натуральное число – год. Программа должна вывести количество дней в \n",
    "# каждом из кварталов, каждый в новой строке.\n",
    "\n",
    "Sample Input 1:\n",
    "\n",
    "2022\n",
    "Sample Output 1:\n",
    "\n",
    "90\n",
    "91\n",
    "92\n",
    "92"
   ]
  },
  {
   "cell_type": "code",
   "execution_count": 15,
   "id": "cf30ea02",
   "metadata": {},
   "outputs": [
    {
     "name": "stdout",
     "output_type": "stream",
     "text": [
      "2022\n"
     ]
    }
   ],
   "source": [
    "year = int(input())"
   ]
  },
  {
   "cell_type": "code",
   "execution_count": 41,
   "id": "6b4b71fd",
   "metadata": {},
   "outputs": [
    {
     "name": "stdout",
     "output_type": "stream",
     "text": [
      "90\n",
      "91\n",
      "92\n",
      "92\n"
     ]
    }
   ],
   "source": [
    "dat_start = date(year, 1, 1)\n",
    "dat_end = [date(year, 3, 31), date(year, 6, 30), date(year, 9, 30), date(year, 12, 31)]\n",
    "\n",
    "for i in range(len(dat_end)):\n",
    "    \n",
    "    delta = (dat_end[i] - dat_start).days + 1\n",
    "    print(delta)\n",
    "    dat_start = dat_start + timedelta(days = delta)\n",
    "\n",
    "\n",
    "    \n",
    "    \n",
    "    \n",
    "    "
   ]
  },
  {
   "cell_type": "code",
   "execution_count": 18,
   "id": "48cfe682",
   "metadata": {},
   "outputs": [],
   "source": [
    "dat_start = date(year, 1, 1)"
   ]
  },
  {
   "cell_type": "code",
   "execution_count": 19,
   "id": "ab7db9f4",
   "metadata": {},
   "outputs": [
    {
     "data": {
      "text/plain": [
       "datetime.date(2022, 1, 1)"
      ]
     },
     "execution_count": 19,
     "metadata": {},
     "output_type": "execute_result"
    }
   ],
   "source": [
    "dat_start"
   ]
  },
  {
   "cell_type": "code",
   "execution_count": 20,
   "id": "28e82b85",
   "metadata": {},
   "outputs": [],
   "source": [
    "dat_end = date(year, 3, 31)"
   ]
  },
  {
   "cell_type": "code",
   "execution_count": 21,
   "id": "804449f7",
   "metadata": {},
   "outputs": [
    {
     "data": {
      "text/plain": [
       "datetime.date(2022, 3, 31)"
      ]
     },
     "execution_count": 21,
     "metadata": {},
     "output_type": "execute_result"
    }
   ],
   "source": [
    "dat_end"
   ]
  },
  {
   "cell_type": "code",
   "execution_count": 33,
   "id": "e3fcc0e7",
   "metadata": {},
   "outputs": [
    {
     "data": {
      "text/plain": [
       "90"
      ]
     },
     "execution_count": 33,
     "metadata": {},
     "output_type": "execute_result"
    }
   ],
   "source": [
    "(dat_end - dat_start).days + 1"
   ]
  },
  {
   "cell_type": "code",
   "execution_count": 36,
   "id": "1ecd033b",
   "metadata": {},
   "outputs": [
    {
     "data": {
      "text/plain": [
       "datetime.date(2022, 4, 1)"
      ]
     },
     "execution_count": 36,
     "metadata": {},
     "output_type": "execute_result"
    }
   ],
   "source": [
    "dat_start + timedelta(days = 90)"
   ]
  },
  {
   "cell_type": "code",
   "execution_count": null,
   "id": "67cb927e",
   "metadata": {},
   "outputs": [],
   "source": [
    "from datetime import date\n",
    "from datetime import timedelta\n",
    "\n",
    "\n",
    "year = int(input())\n",
    "\n",
    "dat_start = date(year, 1, 1)\n",
    "dat_end = [date(year, 3, 31), date(year, 6, 30), date(year, 9, 30), date(year, 12, 31)]\n",
    "\n",
    "for i in range(len(dat_end)):\n",
    "    \n",
    "    delta = (dat_end[i] - dat_start).days + 1\n",
    "    print(delta)\n",
    "    dat_start = dat_start + timedelta(days = delta)\n",
    "\n"
   ]
  },
  {
   "cell_type": "code",
   "execution_count": null,
   "id": "fdb2f8eb",
   "metadata": {},
   "outputs": [],
   "source": []
  },
  {
   "cell_type": "markdown",
   "id": "7d061e0a",
   "metadata": {},
   "source": [
    "# Задача"
   ]
  },
  {
   "cell_type": "code",
   "execution_count": null,
   "id": "3cd5b49f",
   "metadata": {},
   "outputs": [],
   "source": [
    "Дана текущая дата и дата рождения пользователя. Нужно определить, \n",
    "сколько дней осталось до его дня рождения. Если у пользователя \n",
    "дата рождения 29-го февраля, то для невисокосных годов считаем, \n",
    "что день рождения 28-го февраля.\n",
    "\n",
    "На ввод программе подается текущая дата, а затем дата рождения \n",
    "пользователя в формате ISO 8601, каждая в новой строке. \n",
    "Программа должна вывести целое число дней, оставшихся до дня рождения.\n",
    "\n",
    "Sample Input 1:\n",
    "2020-02-26\n",
    "1996-02-29\n",
    "\n",
    "\n",
    "Sample Output 1:\n",
    "3"
   ]
  },
  {
   "cell_type": "code",
   "execution_count": 21,
   "id": "4ed8a737",
   "metadata": {},
   "outputs": [],
   "source": [
    "from datetime import date, timedelta\n",
    "import calendar\n"
   ]
  },
  {
   "cell_type": "code",
   "execution_count": 3,
   "id": "b1f83528",
   "metadata": {},
   "outputs": [
    {
     "name": "stdout",
     "output_type": "stream",
     "text": [
      "2020-02-26\n",
      "1996-02-29\n"
     ]
    }
   ],
   "source": [
    "dat = input()\n",
    "birthday = input()"
   ]
  },
  {
   "cell_type": "code",
   "execution_count": 8,
   "id": "e7ec62a2",
   "metadata": {},
   "outputs": [
    {
     "data": {
      "text/plain": [
       "2020"
      ]
     },
     "execution_count": 8,
     "metadata": {},
     "output_type": "execute_result"
    }
   ],
   "source": [
    "date.fromisoformat(dat).year"
   ]
  },
  {
   "cell_type": "code",
   "execution_count": 17,
   "id": "815c42dd",
   "metadata": {},
   "outputs": [
    {
     "data": {
      "text/plain": [
       "True"
      ]
     },
     "execution_count": 17,
     "metadata": {},
     "output_type": "execute_result"
    }
   ],
   "source": [
    "calendar.isleap(date.fromisoformat(dat).year)"
   ]
  },
  {
   "cell_type": "code",
   "execution_count": 43,
   "id": "604d4712",
   "metadata": {},
   "outputs": [
    {
     "name": "stdout",
     "output_type": "stream",
     "text": [
      "ok\n",
      "ok\n"
     ]
    }
   ],
   "source": [
    "\n",
    "if date.fromisoformat(birthday).month == 2:\n",
    "    print('ok')\n",
    "    if date.fromisoformat(birthday).day == 29:\n",
    "        print('ok')\n",
    "        if calendar.isleap(date.fromisoformat(dat).year) is False:\n",
    "            print('ok')\n",
    "            dr = date(date.fromisoformat(dat).year, 2, 28)\n",
    "                \n",
    "        else:\n",
    "            dr = date(date.fromisoformat(dat).year, date.fromisoformat(birthday).month, date.fromisoformat(birthday).day)\n",
    "    \n",
    "delta = dr - date.fromisoformat(dat)"
   ]
  },
  {
   "cell_type": "code",
   "execution_count": 48,
   "id": "1fba881b",
   "metadata": {},
   "outputs": [
    {
     "data": {
      "text/plain": [
       "3"
      ]
     },
     "execution_count": 48,
     "metadata": {},
     "output_type": "execute_result"
    }
   ],
   "source": [
    "delta.days"
   ]
  },
  {
   "cell_type": "code",
   "execution_count": null,
   "id": "f8b98f46",
   "metadata": {},
   "outputs": [],
   "source": [
    "if calendar.isleap(date.fromisoformat(dat).year) is True:\n",
    "    \n",
    "    if date.fromisoformat(birthday).month == 2 and date.fromisoformat(birthday).day == 29:\n",
    "        dr = date(date.fromisoformat(dat).year, 2, 29)\n",
    "        \n",
    "    else:\n",
    "        \n",
    "        dr =  date(date.fromisoformat(dat).year, ate.fromisoformat(birthday).month, date.fromisoformat(birthday).day)\n",
    "        \n",
    "if calendar.isleap(date.fromisoformat(dat).year) is False:\n",
    "    \n",
    "    if date.fromisoformat(birthday).month == 2 and date.fromisoformat(birthday).day == 29:\n",
    "        dr = date(date.fromisoformat(dat).year, 2, 28)\n",
    "        \n",
    "    else:\n",
    "        dr =  date(date.fromisoformat(dat).year, date.fromisoformat(birthday).month, date.fromisoformat(birthday).day)\n",
    "\n",
    "\n",
    "if date.fromisoformat(dat) > dr:\n",
    "    if calendar.isleap(date.fromisoformat(dat).year+1) is True:\n",
    "        \n",
    "        delta = dr - date.fromisoformat(dat) + timedelta(days = 366)\n",
    "        \n",
    "    else:\n",
    "        delta = dr - date.fromisoformat(dat) + timedelta(days = 365)\n",
    "    \n",
    "else:\n",
    "    delta = dr - date.fromisoformat(dat)\n",
    "        \n",
    "    \n",
    "    \n",
    "    \n",
    "    \n",
    "    \n",
    "    \n",
    "    "
   ]
  },
  {
   "cell_type": "code",
   "execution_count": 51,
   "id": "fb34788e",
   "metadata": {},
   "outputs": [
    {
     "name": "stdout",
     "output_type": "stream",
     "text": [
      "ok\n"
     ]
    }
   ],
   "source": [
    "if date.fromisoformat(birthday).month == 2 and \\\n",
    "date.fromisoformat(birthday).day == 29 and calendar.isleap(date.fromisoformat(dat).year) is True:\n",
    "    dr = date(date.fromisoformat(dat).year, 2, 29)\n",
    "    \n",
    "    \n",
    "    \n",
    "\n",
    "    \n",
    "\n",
    "    "
   ]
  },
  {
   "cell_type": "code",
   "execution_count": null,
   "id": "b26c5948",
   "metadata": {},
   "outputs": [],
   "source": []
  },
  {
   "cell_type": "markdown",
   "id": "befe2f33",
   "metadata": {},
   "source": [
    "# dateuti"
   ]
  },
  {
   "cell_type": "code",
   "execution_count": 2,
   "id": "39063e9c",
   "metadata": {},
   "outputs": [],
   "source": [
    "# dateutil – сторонняя библиотека Python, в которой \n",
    "# реализовано множество полезных функций. \n",
    "# Одна из самых важных – это подсчет количества времени между двумя датами."
   ]
  },
  {
   "cell_type": "code",
   "execution_count": 4,
   "id": "1c257d84",
   "metadata": {},
   "outputs": [],
   "source": [
    "# pip install python-dateutil"
   ]
  },
  {
   "cell_type": "code",
   "execution_count": 5,
   "id": "ec0a5332",
   "metadata": {},
   "outputs": [
    {
     "name": "stdout",
     "output_type": "stream",
     "text": [
      "relativedelta(months=+1, days=+27)\n",
      "1\n"
     ]
    }
   ],
   "source": [
    "from dateutil.relativedelta import relativedelta\n",
    "from datetime import date\n",
    "\n",
    "d1 = date(2023,1,1)\n",
    "d2 = date(2023,2,28)\n",
    "\n",
    "print(relativedelta(d2,d1))  # relativedelta(months=+1, days=+27)\n",
    "print(relativedelta(d2,d1).months)  # 1"
   ]
  },
  {
   "cell_type": "code",
   "execution_count": null,
   "id": "d95d4eb7",
   "metadata": {},
   "outputs": [],
   "source": []
  },
  {
   "cell_type": "markdown",
   "id": "3a264a36",
   "metadata": {},
   "source": [
    "## Задача"
   ]
  },
  {
   "cell_type": "code",
   "execution_count": null,
   "id": "3908ff0e",
   "metadata": {},
   "outputs": [],
   "source": [
    "# Напишите программу, которая определяет сколько лет, \n",
    "# месяцев и дней человек работает в компании. \n",
    "\n",
    "# На вход подаётся дата устройства на работу и текущая дата.\n",
    "# Падежи нужно учесть. В случае, если дата выхода на работу совпадает \n",
    "# с текущей датой, выведите \"Менее дня\"."
   ]
  },
  {
   "cell_type": "code",
   "execution_count": null,
   "id": "e4fc1d12",
   "metadata": {},
   "outputs": [],
   "source": [
    "Sample Input 1:\n",
    "\n",
    "2021-10-27\n",
    "2023-04-13\n",
    "\n",
    "\n",
    "Sample Output 1:\n",
    "\n",
    "1 год 5 месяцев 17 дней\n",
    "\n",
    "\n",
    "\n",
    "Sample Input 3:\n",
    "\n",
    "2023-04-03\n",
    "2023-04-13\n",
    "Sample Output 3:\n",
    "\n",
    "10 дней\n",
    "\n",
    "\n",
    "Sample Input 4:\n",
    "\n",
    "2023-10-03\n",
    "2023-10-03\n",
    "\n",
    "\n",
    "Sample Output 4:\n",
    "\n",
    "Менее дня"
   ]
  },
  {
   "cell_type": "code",
   "execution_count": 68,
   "id": "05609001",
   "metadata": {},
   "outputs": [
    {
     "name": "stdout",
     "output_type": "stream",
     "text": [
      "2023-10-03\n",
      "2023-10-03\n"
     ]
    }
   ],
   "source": [
    "from datetime import date, timedelta\n",
    "from dateutil.relativedelta import relativedelta\n",
    "\n",
    "\n",
    "\n",
    "start = input()\n",
    "dat = input()\n",
    "\n"
   ]
  },
  {
   "cell_type": "code",
   "execution_count": 69,
   "id": "da4e5189",
   "metadata": {},
   "outputs": [
    {
     "data": {
      "text/plain": [
       "'2023-10-03'"
      ]
     },
     "execution_count": 69,
     "metadata": {},
     "output_type": "execute_result"
    }
   ],
   "source": [
    "start"
   ]
  },
  {
   "cell_type": "code",
   "execution_count": 70,
   "id": "c3de1c9c",
   "metadata": {},
   "outputs": [],
   "source": [
    "start_d = date.fromisoformat(start)"
   ]
  },
  {
   "cell_type": "code",
   "execution_count": 71,
   "id": "8e61ba5a",
   "metadata": {},
   "outputs": [],
   "source": [
    "dat_d = date.fromisoformat(dat)"
   ]
  },
  {
   "cell_type": "code",
   "execution_count": 72,
   "id": "65d990b3",
   "metadata": {},
   "outputs": [],
   "source": [
    "y = relativedelta(dat_d, start_d).years"
   ]
  },
  {
   "cell_type": "code",
   "execution_count": 73,
   "id": "db652ffb",
   "metadata": {},
   "outputs": [],
   "source": [
    "m = relativedelta(dat_d, start_d).months"
   ]
  },
  {
   "cell_type": "code",
   "execution_count": 74,
   "id": "1d76c117",
   "metadata": {},
   "outputs": [],
   "source": [
    "d = relativedelta(dat_d, start_d).days"
   ]
  },
  {
   "cell_type": "code",
   "execution_count": 75,
   "id": "a8a1fd92",
   "metadata": {},
   "outputs": [],
   "source": [
    "if y == 1:\n",
    "    y_str = 'год'\n",
    "elif y in [2,3,4]:\n",
    "    y_str = 'года'\n",
    "elif y >=5:\n",
    "    y_str = 'лет'\n",
    "\n",
    "    \n",
    "if m == 1:\n",
    "    m_str = 'месяц'\n",
    "else:\n",
    "    m_str = 'месяцев'\n",
    "\n",
    "if d == 1:\n",
    "    d_str = 'день'\n",
    "else:   \n",
    "    d_str = 'дней'  \n",
    "        \n"
   ]
  },
  {
   "cell_type": "code",
   "execution_count": null,
   "id": "b5540647",
   "metadata": {},
   "outputs": [],
   "source": []
  },
  {
   "cell_type": "code",
   "execution_count": 78,
   "id": "fc9c2250",
   "metadata": {},
   "outputs": [
    {
     "name": "stdout",
     "output_type": "stream",
     "text": [
      "Менее дня\n"
     ]
    }
   ],
   "source": [
    "while True:\n",
    "    \n",
    "    if relativedelta(dat_d, start_d) == relativedelta(days=+0):\n",
    "        print('Менее дня')\n",
    "        break\n",
    "\n",
    "    if y == 0 and m != 0:\n",
    "        print(m, m_str, d, d_str)\n",
    "        break\n",
    "    elif m == 0 and y != 0:\n",
    "        print(y, y_str, d, d_str)\n",
    "        break\n",
    "\n",
    "    elif d == 0:\n",
    "        print(y, y_str, m, m_str)\n",
    "        break\n",
    "\n",
    "    elif y == 0 and m == 0:\n",
    "        print(d, d_str)\n",
    "        break\n",
    "\n",
    "\n",
    "\n",
    "    else:\n",
    "        print(y, y_str, m, m_str, d, d_str)\n",
    "        break"
   ]
  },
  {
   "cell_type": "code",
   "execution_count": 64,
   "id": "c0f243ad",
   "metadata": {},
   "outputs": [],
   "source": []
  },
  {
   "cell_type": "markdown",
   "id": "cd42cfb7",
   "metadata": {},
   "source": [
    "### Принятое решение"
   ]
  },
  {
   "cell_type": "code",
   "execution_count": 96,
   "id": "a203ad83",
   "metadata": {},
   "outputs": [
    {
     "name": "stdout",
     "output_type": "stream",
     "text": [
      "2023-05-02\n",
      "2023-10-02\n",
      "5 месяцев 0 дней\n"
     ]
    }
   ],
   "source": [
    "from datetime import date, timedelta\n",
    "from dateutil.relativedelta import relativedelta\n",
    "\n",
    "start = input()\n",
    "dat = input()\n",
    "\n",
    "start_d = date.fromisoformat(start)\n",
    "dat_d = date.fromisoformat(dat)\n",
    "\n",
    "y = relativedelta(dat_d, start_d).years\n",
    "m = relativedelta(dat_d, start_d).months\n",
    "d = relativedelta(dat_d, start_d).days\n",
    "\n",
    "if relativedelta(dat_d, start_d) == relativedelta(days=+0):\n",
    "    text = 'Менее дня'\n",
    "    \n",
    "    \n",
    "else:\n",
    "    if y == 1:\n",
    "        y_str = 'год'\n",
    "    elif y in [2,3,4]:\n",
    "        y_str = 'года'\n",
    "    elif y >= 5:\n",
    "        y_str = 'лет'\n",
    "\n",
    "    if m == 1:\n",
    "        m_str = 'месяц'\n",
    "    elif m >=5:\n",
    "        m_str = 'месяцев'\n",
    "\n",
    "    if d == 1:\n",
    "        d_str = 'день'\n",
    "    elif d >=5:\n",
    "        d_str = 'дней'  \n",
    "\n",
    "if relativedelta(dat_d, start_d) == relativedelta(days=+0):\n",
    "    print(text)\n",
    "    \n",
    "elif y == 0 and m != 0:\n",
    "    print(m, m_str, d, d_str)\n",
    "\n",
    "elif m == 0 and y != 0:\n",
    "    print(y, y_str, d, d_str)\n",
    "\n",
    "elif d == 0:\n",
    "    print(y, y_str, m, m_str)\n",
    "\n",
    "elif y == 0 and m == 0:\n",
    "    print(d, d_str)\n",
    "\n",
    "else:\n",
    "    print(y, y_str, m, m_str, d, d_str)\n",
    "\n",
    "\n",
    "\n",
    "\n"
   ]
  },
  {
   "cell_type": "code",
   "execution_count": 103,
   "id": "2649bd6d",
   "metadata": {},
   "outputs": [],
   "source": [
    "# Функция:\n",
    "\n",
    "\n",
    "def srok(hired, today):\n",
    "    start_d = date.fromisoformat(hired)\n",
    "    dat_d = date.fromisoformat(today)\n",
    "    \n",
    "    y = relativedelta(dat_d, start_d).years\n",
    "    m = relativedelta(dat_d, start_d).months\n",
    "    d = relativedelta(dat_d, start_d).days\n",
    "\n",
    "    if relativedelta(dat_d, start_d) == relativedelta(days=+0):\n",
    "        text = 'Менее дня'\n",
    "\n",
    "    else:\n",
    "        if y == 1:\n",
    "            y_str = 'год'\n",
    "        elif y in [2,3,4]:\n",
    "            y_str = 'года'\n",
    "        elif y >= 5:\n",
    "            y_str = 'лет'\n",
    "\n",
    "        if m == 1:\n",
    "            m_str = 'месяц'\n",
    "        else:\n",
    "            m_str = 'месяцев'\n",
    "\n",
    "        if d == 1:\n",
    "            d_str = 'день'\n",
    "        else:\n",
    "            d_str = 'дней'  \n",
    "\n",
    "    if relativedelta(dat_d, start_d) == relativedelta(days=+0):\n",
    "        print(text)\n",
    "\n",
    "    elif y == 0 and m != 0 and d == 0:        \n",
    "        print (m, m_str)\n",
    "        \n",
    "    elif y == 0 and m != 0 and d != 0:        \n",
    "        print (m, m_str, d, d_str)\n",
    "\n",
    "    elif m == 0 and y != 0:\n",
    "        print (y, y_str, d, d_str)\n",
    "        \n",
    "    elif m == 0 and d == 0:\n",
    "        print (y, y_str)\n",
    "        \n",
    "\n",
    "    elif d == 0:\n",
    "        print (y, y_str, m, m_str)\n",
    "\n",
    "    elif y == 0 and m == 0:\n",
    "        print (d, d_str)\n",
    "\n",
    "    else:\n",
    "        print (y, y_str, m, m_str, d, d_str)"
   ]
  },
  {
   "cell_type": "code",
   "execution_count": 105,
   "id": "2514dcc2",
   "metadata": {},
   "outputs": [
    {
     "name": "stdout",
     "output_type": "stream",
     "text": [
      "5 месяцев 1 день\n"
     ]
    }
   ],
   "source": [
    "srok('2023-05-02', '2023-10-03')"
   ]
  },
  {
   "cell_type": "code",
   "execution_count": null,
   "id": "ae0e715c",
   "metadata": {},
   "outputs": [],
   "source": []
  },
  {
   "cell_type": "code",
   "execution_count": null,
   "id": "2aba99cc",
   "metadata": {},
   "outputs": [],
   "source": []
  },
  {
   "cell_type": "code",
   "execution_count": null,
   "id": "1e35e075",
   "metadata": {},
   "outputs": [],
   "source": []
  },
  {
   "cell_type": "code",
   "execution_count": null,
   "id": "ecd3914e",
   "metadata": {},
   "outputs": [],
   "source": []
  }
 ],
 "metadata": {
  "kernelspec": {
   "display_name": "Python 3 (ipykernel)",
   "language": "python",
   "name": "python3"
  },
  "language_info": {
   "codemirror_mode": {
    "name": "ipython",
    "version": 3
   },
   "file_extension": ".py",
   "mimetype": "text/x-python",
   "name": "python",
   "nbconvert_exporter": "python",
   "pygments_lexer": "ipython3",
   "version": "3.10.0"
  }
 },
 "nbformat": 4,
 "nbformat_minor": 5
}
