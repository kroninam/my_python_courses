{
 "cells": [
  {
   "cell_type": "markdown",
   "id": "2d497862",
   "metadata": {},
   "source": [
    "# datetime.datetime"
   ]
  },
  {
   "cell_type": "code",
   "execution_count": 3,
   "id": "fd19a237",
   "metadata": {},
   "outputs": [
    {
     "name": "stdout",
     "output_type": "stream",
     "text": [
      "Sat Oct  7 09:45:23 2023\n"
     ]
    }
   ],
   "source": [
    "import time\n",
    "\n",
    "now = time.time()\n",
    "print(time.ctime(now))"
   ]
  },
  {
   "cell_type": "code",
   "execution_count": null,
   "id": "0f15319f",
   "metadata": {},
   "outputs": [],
   "source": []
  },
  {
   "cell_type": "code",
   "execution_count": 1,
   "id": "591b27fb",
   "metadata": {},
   "outputs": [],
   "source": [
    "# Класс datetime.datetime представляет собой сочетание даты и времени. \n",
    "# Чтобы создать его объект нужно обязательно передать год, месяц и день. \n",
    "# Опционально еще можно добавить параметры времени.\n",
    "\n",
    "import datetime\n",
    "\n",
    "date_with_time = datetime.datetime(2021, 10, 31, 17, 30, 00)  # 2021-10-31 17:30:00\n",
    "\n",
    "date = datetime.datetime(2021, 10, 31)  # 2021-10-31 00:00:00\n",
    "\n",
    "date_from_datetime = date_with_time.date()  # 2021-10-31\n",
    "\n",
    "time_from_datetime = date_with_time.time()  # 17:30:00"
   ]
  },
  {
   "cell_type": "code",
   "execution_count": null,
   "id": "4001328e",
   "metadata": {},
   "outputs": [],
   "source": []
  },
  {
   "cell_type": "code",
   "execution_count": 4,
   "id": "cf361b4b",
   "metadata": {},
   "outputs": [],
   "source": [
    "# Чтобы получить текущее время вычислительной машины можно воспользоваться методом now.\n",
    "# Эта функция возвращает дату с наивным временем, поэтому ее нельзя использовать для обозначения момента во времени.\n",
    "\n",
    "import datetime\n",
    "\n",
    "current_time = datetime.datetime.now()  # 2023-04-03 22:50:02.876654"
   ]
  },
  {
   "cell_type": "code",
   "execution_count": 5,
   "id": "6bd745d9",
   "metadata": {},
   "outputs": [
    {
     "data": {
      "text/plain": [
       "datetime.datetime(2023, 10, 7, 9, 50, 37, 920930)"
      ]
     },
     "execution_count": 5,
     "metadata": {},
     "output_type": "execute_result"
    }
   ],
   "source": [
    "datetime.datetime.now()"
   ]
  },
  {
   "cell_type": "code",
   "execution_count": 6,
   "id": "887a5a92",
   "metadata": {},
   "outputs": [
    {
     "name": "stdout",
     "output_type": "stream",
     "text": [
      "2023-10-07 09:50:56.020801\n"
     ]
    }
   ],
   "source": [
    "print(datetime.datetime.now())"
   ]
  },
  {
   "cell_type": "code",
   "execution_count": 9,
   "id": "da3f4cb1",
   "metadata": {},
   "outputs": [],
   "source": [
    "# Информацию из datetime.datetime можно извлекать точно так же как из объектов datetime.date и datetime.time.\n",
    "\n",
    "my_date = datetime.datetime(2021, 10, 31, 17, 30, 00)\n",
    "\n",
    "year = my_date.year  # 2021\n",
    "month = my_date.month  # 10\n",
    "day = my_date.day  # 31\n",
    "hours = my_date.hour  # 17\n",
    "minutes = my_date.minute  # 30\n",
    "seconds = my_date.second  # 0"
   ]
  },
  {
   "cell_type": "code",
   "execution_count": 13,
   "id": "b74da6c9",
   "metadata": {},
   "outputs": [],
   "source": [
    "my_date = datetime.datetime(2021, 10, 31)"
   ]
  },
  {
   "cell_type": "code",
   "execution_count": 14,
   "id": "fb7094e8",
   "metadata": {},
   "outputs": [
    {
     "data": {
      "text/plain": [
       "datetime.datetime(2021, 10, 31, 0, 0)"
      ]
     },
     "execution_count": 14,
     "metadata": {},
     "output_type": "execute_result"
    }
   ],
   "source": [
    "my_date"
   ]
  },
  {
   "cell_type": "code",
   "execution_count": null,
   "id": "f4a36dd8",
   "metadata": {},
   "outputs": [],
   "source": []
  },
  {
   "cell_type": "code",
   "execution_count": null,
   "id": "fdcd008f",
   "metadata": {},
   "outputs": [],
   "source": [
    "# Если нужен день недели, то можно использовать метод weekday или метод isocalendar для более детальной информации.\n",
    "\n",
    "import datetime\n",
    "\n",
    "my_date = datetime.datetime(2021, 10, 31, 17, 30, 00)\n",
    "\n",
    "# от 0 до 6\n",
    "print(my_date.weekday())  # 6\n",
    "year, week, weekday = my_date.isocalendar()\n",
    "# день недели от 1 до 7\n",
    "print(year, week, weekday)  # 2021 43 7"
   ]
  },
  {
   "cell_type": "code",
   "execution_count": null,
   "id": "21f3b91b",
   "metadata": {},
   "outputs": [],
   "source": []
  },
  {
   "cell_type": "code",
   "execution_count": 16,
   "id": "bddc306b",
   "metadata": {},
   "outputs": [
    {
     "name": "stdout",
     "output_type": "stream",
     "text": [
      "Отформатированная дата и время: 31/10/2021 17:30:00\n",
      "2000-02-03 00:00:00\n"
     ]
    }
   ],
   "source": [
    "# Форматирование datetime.datetime точно так же делается с помощью strftime и strptime.\n",
    "\n",
    "import datetime\n",
    "\n",
    "my_date = datetime.datetime(2021, 10, 31, 17, 30, 00)\n",
    "\n",
    "formatted_date = my_date.strftime(\"%d/%m/%Y %H:%M:%S\")\n",
    "print(\"Отформатированная дата и время:\", formatted_date)  # Отформатированная дата и время: 31/10/2021 17:30:00\n",
    "\n",
    "date_from_string = datetime.datetime.strptime(\"2000/2/3\", \"%Y/%m/%d\")\n",
    "print(date_from_string)  # 2000-02-03 00:00:00"
   ]
  },
  {
   "cell_type": "code",
   "execution_count": null,
   "id": "2600a67a",
   "metadata": {},
   "outputs": [],
   "source": []
  },
  {
   "cell_type": "code",
   "execution_count": 17,
   "id": "8ecc1dc9",
   "metadata": {},
   "outputs": [
    {
     "name": "stdout",
     "output_type": "stream",
     "text": [
      "Новая дата: 2021-11-01 17:30:00\n",
      "Новое время: 2021-10-31 15:30:00\n"
     ]
    }
   ],
   "source": [
    "# Промежутки времени можно считать в datetime.datetime так же, как и в datetime.date.\n",
    "\n",
    "import datetime\n",
    "\n",
    "my_date = datetime.datetime(2021, 10, 31, 17, 30, 00)\n",
    "\n",
    "# Добавление 1 дня\n",
    "new_date = my_date + datetime.timedelta(days=1)\n",
    "\n",
    "print(\"Новая дата:\", new_date)  # Новая дата: 2021-11-01 17:30:00\n",
    "\n",
    "# Вычитание 2 часов\n",
    "new_time = my_date - datetime.timedelta(hours=2)\n",
    "\n",
    "print(\"Новое время:\", new_time)  # Новое время: 2021-10-31 15:30:00"
   ]
  },
  {
   "cell_type": "code",
   "execution_count": null,
   "id": "c68ec8c4",
   "metadata": {},
   "outputs": [],
   "source": []
  },
  {
   "cell_type": "code",
   "execution_count": 18,
   "id": "08dd806f",
   "metadata": {},
   "outputs": [
    {
     "name": "stdout",
     "output_type": "stream",
     "text": [
      "Дата 1 меньше даты 2\n"
     ]
    }
   ],
   "source": [
    "# Сравнивать даты тоже можно.\n",
    "\n",
    "import datetime\n",
    "\n",
    "date1 = datetime.datetime(2021, 10, 31, 17, 30, 00)\n",
    "date2 = datetime.datetime(2021, 11, 1, 12, 00, 00)\n",
    "\n",
    "if date1 < date2:\n",
    "    print(\"Дата 1 меньше даты 2\")\n",
    "else:\n",
    "    print(\"Дата 1 больше или равна дате 2\")"
   ]
  },
  {
   "cell_type": "code",
   "execution_count": null,
   "id": "77d243f8",
   "metadata": {},
   "outputs": [],
   "source": []
  },
  {
   "cell_type": "markdown",
   "id": "83d8c674",
   "metadata": {},
   "source": [
    "# Задача"
   ]
  },
  {
   "cell_type": "code",
   "execution_count": null,
   "id": "c5a316da",
   "metadata": {},
   "outputs": [],
   "source": [
    "# В вашем продукте есть функционал, позволяющий создавать скидочные промокоды. \n",
    "# Пользователь создает промокоды и задает им дату и время окончания действия.\n",
    "\n",
    "# Вашей программе на вход подается неотрицательное число n и  список из n дат и \n",
    "# времени в формате ISO 8601, означающие срок истечения каждого из промокодов. \n",
    "# Определите когда закончится действие всех промокодов.\n",
    "\n",
    "# В качестве вывода укажите крайнюю дату и время промокода в формате ISO 8601.\n",
    "\n",
    "Sample Input 1:\n",
    "6\n",
    "2023-05-13T04:30:00\n",
    "2023-02-13T04:30:00\n",
    "2023-06-13T04:30:00\n",
    "2023-01-13T04:30:00\n",
    "2023-07-13T04:30:01\n",
    "2023-07-13T04:30:00\n",
    "        \n",
    "        \n",
    "Sample Output 1:\n",
    "2023-07-13T04:30:01"
   ]
  },
  {
   "cell_type": "code",
   "execution_count": 37,
   "id": "19e999bd",
   "metadata": {},
   "outputs": [
    {
     "data": {
      "text/plain": [
       "datetime.datetime(2023, 5, 13, 4, 30)"
      ]
     },
     "execution_count": 37,
     "metadata": {},
     "output_type": "execute_result"
    }
   ],
   "source": [
    "datetime.fromisoformat('2023-05-13T04:30:00')"
   ]
  },
  {
   "cell_type": "code",
   "execution_count": null,
   "id": "8f24de07",
   "metadata": {},
   "outputs": [],
   "source": []
  },
  {
   "cell_type": "code",
   "execution_count": 41,
   "id": "09ac481e",
   "metadata": {},
   "outputs": [
    {
     "name": "stdout",
     "output_type": "stream",
     "text": [
      "1\n",
      "2023-07-13T04:30:01\n",
      "2023-07-13T04:30:01\n"
     ]
    }
   ],
   "source": [
    "from datetime import datetime\n",
    "\n",
    "n = int(input())\n",
    "\n",
    "lst = []\n",
    "\n",
    "for i in range(n):\n",
    "    lst.append(datetime.fromisoformat(input()))\n",
    "    \n",
    "print(max(lst).isoformat())"
   ]
  },
  {
   "cell_type": "code",
   "execution_count": null,
   "id": "12f0d64a",
   "metadata": {},
   "outputs": [],
   "source": []
  },
  {
   "cell_type": "code",
   "execution_count": 54,
   "id": "a26f4e52",
   "metadata": {},
   "outputs": [
    {
     "data": {
      "text/plain": [
       "datetime.datetime(2019, 12, 4, 0, 0)"
      ]
     },
     "execution_count": 54,
     "metadata": {},
     "output_type": "execute_result"
    }
   ],
   "source": [
    "from datetime import datetime\n",
    "datetime.fromisoformat('2019-12-04')\n",
    "# datetime.date(2019, 12, 4)"
   ]
  },
  {
   "cell_type": "code",
   "execution_count": null,
   "id": "039cc813",
   "metadata": {},
   "outputs": [],
   "source": []
  },
  {
   "cell_type": "markdown",
   "id": "6a494675",
   "metadata": {},
   "source": [
    "# Задача"
   ]
  },
  {
   "cell_type": "code",
   "execution_count": null,
   "id": "c9b1fa5f",
   "metadata": {},
   "outputs": [],
   "source": [
    "# Вы разрабатываете сервис для очных приемов у психолога. \n",
    "# В этом сервисе есть календарь, в котором зафиксированы свободные часы \n",
    "# работы психолога. С помощью календаря вы можете выбрать время, на которое \n",
    "# можно забронировать прием. Количество часов приема пациента ограничено от \n",
    "# одного часа до окончания времени работы психолога в день расписания.\n",
    "\n",
    "# Разработайте программу, которая будет на вход получать расписание работы \n",
    "# психолога с понедельника по пятницу и для входной даты будет определять, \n",
    "# можно ли записаться к психологу или нет.\n",
    "\n",
    "# Вашей программе на вход поступают 5 строк, содержащих время начала и \n",
    "# окончания работы психолога через пробел. Каждая строка - это день недели, \n",
    "# начиная с понедельника и заканчивая пятницей. После расписания поступает \n",
    "# дата и время, в которую хотят записаться на прием. \n",
    "# Гарантируется, что первая дата строго меньше второй.\n",
    "\n",
    "# В качестве ответа выведите True в случае если записаться можно, и False если нельзя.\n",
    "\n",
    "\n",
    "Sample Input 1:\n",
    "07:00 13:00\n",
    "13:00 14:00\n",
    "12:30 19:30\n",
    "19:00 21:00\n",
    "14:00 19:45\n",
    "2023-04-03T11:00 2023-04-03T12:00\n",
    "        \n",
    "        \n",
    "Sample Output 1:\n",
    "True"
   ]
  },
  {
   "cell_type": "code",
   "execution_count": 78,
   "id": "f3b8827b",
   "metadata": {},
   "outputs": [
    {
     "name": "stdout",
     "output_type": "stream",
     "text": [
      "07:00 13:00\n",
      "13:00 14:00\n",
      "12:30 19:30\n",
      "19:00 21:00\n",
      "14:00 19:45\n"
     ]
    }
   ],
   "source": [
    "dict = {}\n",
    "\n",
    "for i in range(5):\n",
    "    dict[i] = input()"
   ]
  },
  {
   "cell_type": "code",
   "execution_count": 79,
   "id": "951aee9b",
   "metadata": {},
   "outputs": [
    {
     "data": {
      "text/plain": [
       "{0: '07:00 13:00',\n",
       " 1: '13:00 14:00',\n",
       " 2: '12:30 19:30',\n",
       " 3: '19:00 21:00',\n",
       " 4: '14:00 19:45'}"
      ]
     },
     "execution_count": 79,
     "metadata": {},
     "output_type": "execute_result"
    }
   ],
   "source": [
    "dict"
   ]
  },
  {
   "cell_type": "code",
   "execution_count": null,
   "id": "df5f6547",
   "metadata": {},
   "outputs": [],
   "source": []
  },
  {
   "cell_type": "code",
   "execution_count": null,
   "id": "f3b53b10",
   "metadata": {},
   "outputs": [],
   "source": []
  },
  {
   "cell_type": "code",
   "execution_count": 67,
   "id": "98d0c8a0",
   "metadata": {},
   "outputs": [],
   "source": [
    "s = '2023-04-03T11:00 2023-04-03T12:00'"
   ]
  },
  {
   "cell_type": "code",
   "execution_count": 70,
   "id": "f9bbdf75",
   "metadata": {},
   "outputs": [],
   "source": [
    "ss = s.split()"
   ]
  },
  {
   "cell_type": "code",
   "execution_count": 71,
   "id": "891a15fc",
   "metadata": {},
   "outputs": [
    {
     "data": {
      "text/plain": [
       "'2023-04-03T11:00'"
      ]
     },
     "execution_count": 71,
     "metadata": {},
     "output_type": "execute_result"
    }
   ],
   "source": [
    "ss[0]"
   ]
  },
  {
   "cell_type": "code",
   "execution_count": 63,
   "id": "8c794045",
   "metadata": {},
   "outputs": [],
   "source": [
    "from datetime import datetime"
   ]
  },
  {
   "cell_type": "code",
   "execution_count": 75,
   "id": "449fadb1",
   "metadata": {},
   "outputs": [
    {
     "data": {
      "text/plain": [
       "datetime.datetime(2023, 4, 3, 11, 0)"
      ]
     },
     "execution_count": 75,
     "metadata": {},
     "output_type": "execute_result"
    }
   ],
   "source": [
    "dat = datetime.fromisoformat(ss[0])\n",
    "dat"
   ]
  },
  {
   "cell_type": "code",
   "execution_count": 77,
   "id": "22b1a8f1",
   "metadata": {},
   "outputs": [
    {
     "data": {
      "text/plain": [
       "0"
      ]
     },
     "execution_count": 77,
     "metadata": {},
     "output_type": "execute_result"
    }
   ],
   "source": [
    "dat.weekday()"
   ]
  },
  {
   "cell_type": "code",
   "execution_count": 86,
   "id": "5eb4dfe9",
   "metadata": {},
   "outputs": [
    {
     "data": {
      "text/plain": [
       "2023"
      ]
     },
     "execution_count": 86,
     "metadata": {},
     "output_type": "execute_result"
    }
   ],
   "source": [
    "dat.year"
   ]
  },
  {
   "cell_type": "code",
   "execution_count": 87,
   "id": "8937db58",
   "metadata": {},
   "outputs": [
    {
     "data": {
      "text/plain": [
       "4"
      ]
     },
     "execution_count": 87,
     "metadata": {},
     "output_type": "execute_result"
    }
   ],
   "source": [
    "dat.month"
   ]
  },
  {
   "cell_type": "code",
   "execution_count": 88,
   "id": "8be977b4",
   "metadata": {},
   "outputs": [
    {
     "data": {
      "text/plain": [
       "3"
      ]
     },
     "execution_count": 88,
     "metadata": {},
     "output_type": "execute_result"
    }
   ],
   "source": [
    "dat.day"
   ]
  },
  {
   "cell_type": "code",
   "execution_count": null,
   "id": "30531c1a",
   "metadata": {},
   "outputs": [],
   "source": []
  },
  {
   "cell_type": "code",
   "execution_count": null,
   "id": "b6ac341e",
   "metadata": {},
   "outputs": [],
   "source": []
  },
  {
   "cell_type": "code",
   "execution_count": 83,
   "id": "8f084e60",
   "metadata": {},
   "outputs": [
    {
     "data": {
      "text/plain": [
       "'07:00 13:00'"
      ]
     },
     "execution_count": 83,
     "metadata": {},
     "output_type": "execute_result"
    }
   ],
   "source": [
    "dict[dat.weekday()]"
   ]
  },
  {
   "cell_type": "code",
   "execution_count": 90,
   "id": "866ee36e",
   "metadata": {},
   "outputs": [
    {
     "data": {
      "text/plain": [
       "'07:00'"
      ]
     },
     "execution_count": 90,
     "metadata": {},
     "output_type": "execute_result"
    }
   ],
   "source": [
    "st = dict[dat.weekday()].split()[0]\n",
    "st"
   ]
  },
  {
   "cell_type": "code",
   "execution_count": 95,
   "id": "5fdbc7dc",
   "metadata": {},
   "outputs": [
    {
     "data": {
      "text/plain": [
       "datetime.datetime(2023, 4, 3, 7, 0)"
      ]
     },
     "execution_count": 95,
     "metadata": {},
     "output_type": "execute_result"
    }
   ],
   "source": [
    "start = datetime(dat.year, dat.month, dat.day, int(st[:2]), int(st[-2:]))\n",
    "start"
   ]
  },
  {
   "cell_type": "code",
   "execution_count": null,
   "id": "7061109e",
   "metadata": {},
   "outputs": [],
   "source": []
  },
  {
   "cell_type": "code",
   "execution_count": 97,
   "id": "dbf60095",
   "metadata": {},
   "outputs": [
    {
     "data": {
      "text/plain": [
       "'13:00'"
      ]
     },
     "execution_count": 97,
     "metadata": {},
     "output_type": "execute_result"
    }
   ],
   "source": [
    "en = dict[dat.weekday()].split()[1]\n",
    "en"
   ]
  },
  {
   "cell_type": "code",
   "execution_count": 102,
   "id": "50d954cb",
   "metadata": {},
   "outputs": [
    {
     "data": {
      "text/plain": [
       "datetime.datetime(2023, 4, 3, 12, 0)"
      ]
     },
     "execution_count": 102,
     "metadata": {},
     "output_type": "execute_result"
    }
   ],
   "source": [
    "end = datetime(dat.year, dat.month, dat.day, int(en[:2])-1, int(en[-2:]))\n",
    "end"
   ]
  },
  {
   "cell_type": "code",
   "execution_count": null,
   "id": "8ac8aa62",
   "metadata": {},
   "outputs": [],
   "source": []
  },
  {
   "cell_type": "code",
   "execution_count": 106,
   "id": "e1904ec7",
   "metadata": {},
   "outputs": [
    {
     "data": {
      "text/plain": [
       "True"
      ]
     },
     "execution_count": 106,
     "metadata": {},
     "output_type": "execute_result"
    }
   ],
   "source": [
    "dat >= start and dat <= end"
   ]
  },
  {
   "cell_type": "code",
   "execution_count": null,
   "id": "aa71a54d",
   "metadata": {},
   "outputs": [],
   "source": [
    "Test input:\n",
    "07:00 13:00\n",
    "13:00 14:00\n",
    "12:30 19:30\n",
    "19:00 21:00\n",
    "14:00 19:45\n",
    "2023-06-06T13:59 2023-06-06T14:00"
   ]
  },
  {
   "cell_type": "code",
   "execution_count": 116,
   "id": "75d799d1",
   "metadata": {},
   "outputs": [
    {
     "name": "stdout",
     "output_type": "stream",
     "text": [
      "2023-06-06T13:59 2023-06-06T14:00\n",
      "True\n"
     ]
    }
   ],
   "source": [
    "from datetime import datetime\n",
    "\n",
    "dict = {}\n",
    "for i in range(5):\n",
    "    dict[i] = input()\n",
    "    \n",
    "s = input()\n",
    "\n",
    "ss = s.split()\n",
    "\n",
    "dat_start = datetime.fromisoformat(ss[0])\n",
    "dat_end = datetime.fromisoformat(ss[1])\n",
    "\n",
    "if dat_start.weekday() == 5 or dat_start.weekday() == 6:\n",
    "    print('False')\n",
    "else:\n",
    "    st = dict[dat_start.weekday()].split()[0]\n",
    "    start = datetime(dat_start.year, dat_start.month, dat_start.day, int(st[:2]), int(st[-2:]))\n",
    "\n",
    "    en = dict[dat_start.weekday()].split()[1]\n",
    "    end = datetime(dat_start.year, dat_start.month, dat_start.day, int(en[:2]), int(en[-2:]))\n",
    "\n",
    "    #print('start', start)\n",
    "    #print('dat_start', dat_start)\n",
    "    #print()\n",
    "    #print('end', end)\n",
    "    #print('dat_end', dat_end)\n",
    "\n",
    "\n",
    "    print(dat_start >= start and dat_end <= end)"
   ]
  },
  {
   "cell_type": "code",
   "execution_count": 114,
   "id": "30f418e2",
   "metadata": {},
   "outputs": [
    {
     "data": {
      "text/plain": [
       "{}"
      ]
     },
     "execution_count": 114,
     "metadata": {},
     "output_type": "execute_result"
    }
   ],
   "source": [
    "dict"
   ]
  },
  {
   "cell_type": "code",
   "execution_count": 112,
   "id": "76d9eab4",
   "metadata": {},
   "outputs": [
    {
     "name": "stdout",
     "output_type": "stream",
     "text": [
      "start 2023-06-06 13:00:00\n",
      "dat_start 2023-06-06 13:59:00\n",
      "\n",
      "end 2023-06-06 13:00:00\n",
      "dat_end 2023-06-06 14:00:00\n"
     ]
    }
   ],
   "source": [
    "print('start', start)\n",
    "print('dat_start', dat_start)\n",
    "print()\n",
    "print('end', end)\n",
    "print('dat_end', dat_end)"
   ]
  },
  {
   "cell_type": "code",
   "execution_count": null,
   "id": "30f6dd11",
   "metadata": {},
   "outputs": [],
   "source": []
  },
  {
   "cell_type": "code",
   "execution_count": null,
   "id": "39c4e0c1",
   "metadata": {},
   "outputs": [],
   "source": []
  },
  {
   "cell_type": "markdown",
   "id": "b676f21e",
   "metadata": {},
   "source": [
    "# Продолжение задачи"
   ]
  },
  {
   "cell_type": "code",
   "execution_count": 238,
   "id": "561a8489",
   "metadata": {},
   "outputs": [
    {
     "name": "stdout",
     "output_type": "stream",
     "text": [
      "2023-10-08 14:55:55.649507\n"
     ]
    }
   ],
   "source": [
    "from datetime import datetime\n",
    "now = datetime.now()\n",
    "print(now)"
   ]
  },
  {
   "cell_type": "code",
   "execution_count": null,
   "id": "9656b010",
   "metadata": {},
   "outputs": [],
   "source": [
    "Продолжаем делать сервис для психологов. Наша предыдущая программа не учитывает того,\n",
    "что к психологу мог записаться кто-то еще до нас, и, соответственно, врач не сможет \n",
    "провести для нас консультацию.\n",
    "\n",
    "Вашей программе на вход поступают 5 строк, содержащих время начала и\n",
    "окончания работы психолога через пробел. Каждая строка - это день недели,\n",
    "начиная с понедельника и заканчивая пятницей. После расписания идет натуральное\n",
    "число n, а затем n строк с занятым другими людьми временем. Последняя входная \n",
    "строка – время, в которое хочет записаться новый пользователь.\n",
    "\n",
    "В качестве ответа выведите, возможна ли запись к психологу для нового человека.\n",
    "\n",
    "Гарантируется, что время в массиве не пересекается друг с другом и что интервалы \n",
    "корректны (дата начала меньше даты конца интервала)\n",
    "\n",
    "\n",
    "Sample Input 1:\n",
    "07:00 13:00\n",
    "13:00 14:00\n",
    "12:30 19:30\n",
    "19:00 21:00\n",
    "14:00 19:45\n",
    "3\n",
    "2023-04-03T11:00 2023-04-03T12:00\n",
    "2023-05-11T19:00 2023-05-11T20:00\n",
    "2023-02-01T13:00 2023-02-01T14:00\n",
    "2023-04-10T11:00 2023-04-10T12:00\n",
    "        \n",
    "Sample Output 1:\n",
    "True"
   ]
  },
  {
   "cell_type": "code",
   "execution_count": 26,
   "id": "33f9e8c2",
   "metadata": {},
   "outputs": [],
   "source": [
    "from datetime import datetime\n",
    "from datetime import timedelta"
   ]
  },
  {
   "cell_type": "code",
   "execution_count": 112,
   "id": "f5bb0c29",
   "metadata": {},
   "outputs": [
    {
     "name": "stdout",
     "output_type": "stream",
     "text": [
      "07:00 13:00\n",
      "13:00 14:00\n",
      "12:30 19:30\n",
      "19:00 21:00\n",
      "14:00 19:45\n"
     ]
    }
   ],
   "source": [
    "dict = {}\n",
    "\n",
    "for i in range(5):\n",
    "    dict[i] = input().split()"
   ]
  },
  {
   "cell_type": "code",
   "execution_count": 113,
   "id": "a6fc81a0",
   "metadata": {},
   "outputs": [
    {
     "data": {
      "text/plain": [
       "{0: ['07:00', '13:00'],\n",
       " 1: ['13:00', '14:00'],\n",
       " 2: ['12:30', '19:30'],\n",
       " 3: ['19:00', '21:00'],\n",
       " 4: ['14:00', '19:45']}"
      ]
     },
     "execution_count": 113,
     "metadata": {},
     "output_type": "execute_result"
    }
   ],
   "source": [
    "dict"
   ]
  },
  {
   "cell_type": "code",
   "execution_count": null,
   "id": "cdc3959e",
   "metadata": {},
   "outputs": [],
   "source": [
    "Sample Input 6:\n",
    "\n",
    "07:00 13:00\n",
    "13:00 14:00\n",
    "12:30 19:30\n",
    "19:00 21:00\n",
    "14:00 19:45\n",
    "3\n",
    "2023-04-03T11:00 2023-04-03T11:10\n",
    "2023-04-03T11:10 2023-04-03T11:20\n",
    "2023-04-03T11:10 2023-04-03T11:20\n",
    "2023-04-03T11:30 2023-04-03T12:00\n",
    "Sample Output 6:\n",
    "\n",
    "True"
   ]
  },
  {
   "cell_type": "code",
   "execution_count": 118,
   "id": "62e44d86",
   "metadata": {},
   "outputs": [
    {
     "name": "stdout",
     "output_type": "stream",
     "text": [
      "3\n",
      "2023-04-03T11:00 2023-04-03T11:10\n",
      "2023-04-03T11:10 2023-04-03T11:20\n",
      "2023-04-03T11:10 2023-04-03T11:20\n"
     ]
    }
   ],
   "source": [
    "n = int(input())\n",
    "\n",
    "lst = []\n",
    "for i in range(n):\n",
    "    lst.append(input().split())"
   ]
  },
  {
   "cell_type": "code",
   "execution_count": 95,
   "id": "60107a9c",
   "metadata": {},
   "outputs": [
    {
     "data": {
      "text/plain": [
       "[['2023-04-03T11:00', '2023-04-03T12:00'],\n",
       " ['2023-05-11T19:00', '2023-05-11T20:00'],\n",
       " ['2023-02-01T13:00', '2023-02-01T14:00']]"
      ]
     },
     "execution_count": 95,
     "metadata": {},
     "output_type": "execute_result"
    }
   ],
   "source": [
    "lst"
   ]
  },
  {
   "cell_type": "code",
   "execution_count": 96,
   "id": "57d477c0",
   "metadata": {},
   "outputs": [],
   "source": [
    "quest = '2023-04-10T11:00 2023-04-10T12:00'.split()"
   ]
  },
  {
   "cell_type": "code",
   "execution_count": 97,
   "id": "f9c298a1",
   "metadata": {},
   "outputs": [
    {
     "data": {
      "text/plain": [
       "['2023-04-10T11:00', '2023-04-10T12:00']"
      ]
     },
     "execution_count": 97,
     "metadata": {},
     "output_type": "execute_result"
    }
   ],
   "source": [
    "quest"
   ]
  },
  {
   "cell_type": "code",
   "execution_count": 98,
   "id": "13a6c4b5",
   "metadata": {},
   "outputs": [
    {
     "data": {
      "text/plain": [
       "datetime.datetime(2023, 4, 10, 11, 0)"
      ]
     },
     "execution_count": 98,
     "metadata": {},
     "output_type": "execute_result"
    }
   ],
   "source": [
    "quest_start = datetime.fromisoformat(quest[0])\n",
    "quest_start"
   ]
  },
  {
   "cell_type": "code",
   "execution_count": 99,
   "id": "a457188e",
   "metadata": {},
   "outputs": [
    {
     "data": {
      "text/plain": [
       "datetime.datetime(2023, 4, 10, 12, 0)"
      ]
     },
     "execution_count": 99,
     "metadata": {},
     "output_type": "execute_result"
    }
   ],
   "source": [
    "quest_end = datetime.fromisoformat(quest[1])\n",
    "quest_end"
   ]
  },
  {
   "cell_type": "code",
   "execution_count": null,
   "id": "779d8ab3",
   "metadata": {},
   "outputs": [],
   "source": []
  },
  {
   "cell_type": "code",
   "execution_count": 100,
   "id": "52f7275e",
   "metadata": {},
   "outputs": [
    {
     "data": {
      "text/plain": [
       "0"
      ]
     },
     "execution_count": 100,
     "metadata": {},
     "output_type": "execute_result"
    }
   ],
   "source": [
    "quest_start.weekday()"
   ]
  },
  {
   "cell_type": "code",
   "execution_count": 101,
   "id": "12556075",
   "metadata": {},
   "outputs": [
    {
     "data": {
      "text/plain": [
       "['07:00', '13:00']"
      ]
     },
     "execution_count": 101,
     "metadata": {},
     "output_type": "execute_result"
    }
   ],
   "source": [
    "dict[quest_start.weekday()]"
   ]
  },
  {
   "cell_type": "code",
   "execution_count": 102,
   "id": "e25483ac",
   "metadata": {},
   "outputs": [
    {
     "data": {
      "text/plain": [
       "7"
      ]
     },
     "execution_count": 102,
     "metadata": {},
     "output_type": "execute_result"
    }
   ],
   "source": [
    "working_start_hour = dict[quest_start.weekday()][0][:2]\n",
    "int(working_start_hour)"
   ]
  },
  {
   "cell_type": "code",
   "execution_count": 103,
   "id": "01916c87",
   "metadata": {},
   "outputs": [
    {
     "data": {
      "text/plain": [
       "0"
      ]
     },
     "execution_count": 103,
     "metadata": {},
     "output_type": "execute_result"
    }
   ],
   "source": [
    "working_start_minute = dict[quest_start.weekday()][0][-2:]\n",
    "int(working_start_minute)"
   ]
  },
  {
   "cell_type": "code",
   "execution_count": 104,
   "id": "eaee70cb",
   "metadata": {},
   "outputs": [
    {
     "data": {
      "text/plain": [
       "13"
      ]
     },
     "execution_count": 104,
     "metadata": {},
     "output_type": "execute_result"
    }
   ],
   "source": [
    "working_end_hour = dict[quest_start.weekday()][1][:2]\n",
    "int(working_end_hour)"
   ]
  },
  {
   "cell_type": "code",
   "execution_count": 105,
   "id": "10c98945",
   "metadata": {},
   "outputs": [
    {
     "data": {
      "text/plain": [
       "0"
      ]
     },
     "execution_count": 105,
     "metadata": {},
     "output_type": "execute_result"
    }
   ],
   "source": [
    "working_end_minute = dict[quest_start.weekday()][1][-2:]\n",
    "int(working_end_minute)"
   ]
  },
  {
   "cell_type": "code",
   "execution_count": 157,
   "id": "97bd6a54",
   "metadata": {},
   "outputs": [
    {
     "data": {
      "text/plain": [
       "0"
      ]
     },
     "execution_count": 157,
     "metadata": {},
     "output_type": "execute_result"
    }
   ],
   "source": [
    "int(dict[quest_start.weekday()][0][-1:])"
   ]
  },
  {
   "cell_type": "code",
   "execution_count": 162,
   "id": "b0ee5110",
   "metadata": {},
   "outputs": [
    {
     "data": {
      "text/plain": [
       "datetime.time(7, 0)"
      ]
     },
     "execution_count": 162,
     "metadata": {},
     "output_type": "execute_result"
    }
   ],
   "source": [
    "time(hour = int(dict[quest_start.weekday()][0][:2]), minute = int(dict[quest_start.weekday()][0][-1:]))"
   ]
  },
  {
   "cell_type": "code",
   "execution_count": 152,
   "id": "3cc44703",
   "metadata": {},
   "outputs": [
    {
     "name": "stdout",
     "output_type": "stream",
     "text": [
      "11:34:00\n"
     ]
    }
   ],
   "source": [
    "from datetime import time\n",
    "c = time(hour = 11, minute = 34)\n",
    "print(c)"
   ]
  },
  {
   "cell_type": "code",
   "execution_count": 161,
   "id": "fc7b1eac",
   "metadata": {},
   "outputs": [
    {
     "data": {
      "text/plain": [
       "False"
      ]
     },
     "execution_count": 161,
     "metadata": {},
     "output_type": "execute_result"
    }
   ],
   "source": [
    "c > quest_start.time()"
   ]
  },
  {
   "cell_type": "code",
   "execution_count": 143,
   "id": "503bb2d8",
   "metadata": {},
   "outputs": [
    {
     "data": {
      "text/plain": [
       "datetime.time(11, 30)"
      ]
     },
     "execution_count": 143,
     "metadata": {},
     "output_type": "execute_result"
    }
   ],
   "source": [
    "quest_start.time()"
   ]
  },
  {
   "cell_type": "code",
   "execution_count": 166,
   "id": "d0118e1f",
   "metadata": {},
   "outputs": [
    {
     "name": "stdout",
     "output_type": "stream",
     "text": [
      "2023-04-03T11:30 2023-04-03T12:00\n",
      "True\n"
     ]
    }
   ],
   "source": [
    "from datetime import datetime\n",
    "from datetime import timedelta\n",
    "from datetime import time\n",
    "\n",
    "# dict = {}\n",
    "\n",
    "# for i in range(5):\n",
    "#     dict[i] = input().split()\n",
    "\n",
    "# n = int(input())\n",
    "\n",
    "# lst = []\n",
    "# for i in range(n):\n",
    "#     lst.append(input().split())\n",
    "    \n",
    "quest = input().split()\n",
    "quest_start = datetime.fromisoformat(quest[0])\n",
    "quest_end = datetime.fromisoformat(quest[1])\n",
    "\n",
    "lst_2 = []\n",
    "for booked in lst:\n",
    "    if quest_start.month == datetime.fromisoformat(booked[0]).month and \\\n",
    "    quest_start.day == datetime.fromisoformat(booked[0]).day:\n",
    "        lst_2.append(booked)\n",
    "        \n",
    "# print(lst_2)\n",
    "\n",
    "working_start_time = time(hour = int(dict[quest_start.weekday()][0][:2]), minute = int(dict[quest_start.weekday()][0][-1:]))\n",
    "working_end_time = time(hour = int(dict[quest_start.weekday()][1][:2]), minute = int(dict[quest_start.weekday()][1][-1:]))\n",
    "\n",
    "if quest_start.time() < working_start_time or quest_end.time() > working_end_time:\n",
    "    print(False)\n",
    "\n",
    "else:\n",
    "    k = 0\n",
    "    for booked in lst_2:\n",
    "    #     print(quest_start, quest_end)\n",
    "    #     print(booked)\n",
    "\n",
    "\n",
    "    #     print(datetime.fromisoformat(booked[0]), datetime.fromisoformat(booked[0]).month, datetime.fromisoformat(booked[0]).hour)\n",
    "        if quest_start.month == datetime.fromisoformat(booked[0]).month and \\\n",
    "        quest_start.day == datetime.fromisoformat(booked[0]).day:\n",
    "    #         print('111')\n",
    "\n",
    "            if quest_end.time() <= datetime.fromisoformat(booked[0]).time():\n",
    "                print(True)\n",
    "                k = 1\n",
    "                break\n",
    "\n",
    "\n",
    "\n",
    "            if quest_start.time() >= datetime.fromisoformat(booked[1]).time():\n",
    "                print(True)\n",
    "                k = 1\n",
    "                break\n",
    "\n",
    "            else:\n",
    "                k = 0\n",
    "                break\n",
    "\n",
    "    if len(lst_2) == 0:\n",
    "\n",
    "        print(True)\n",
    "        k = 1\n",
    "\n",
    "\n",
    "    if k == 0:\n",
    "        print(False)\n"
   ]
  },
  {
   "cell_type": "code",
   "execution_count": null,
   "id": "71875691",
   "metadata": {},
   "outputs": [],
   "source": []
  },
  {
   "cell_type": "code",
   "execution_count": 237,
   "id": "f7165e57",
   "metadata": {},
   "outputs": [
    {
     "name": "stdout",
     "output_type": "stream",
     "text": [
      "2023-10-08 14:55:51.292596\n"
     ]
    }
   ],
   "source": [
    "from datetime import datetime\n",
    "now = datetime.now()\n",
    "print(now)"
   ]
  },
  {
   "cell_type": "markdown",
   "id": "53cb1c71",
   "metadata": {},
   "source": [
    "# Задача"
   ]
  },
  {
   "cell_type": "code",
   "execution_count": null,
   "id": "2a903b03",
   "metadata": {},
   "outputs": [],
   "source": [
    "У работника есть расписание работы. \n",
    "\n",
    "С понедельника по пятницу он начинает и заканчивает работу в разное время.\n",
    "В компании, где он работает, есть система наказаний и поощрений:\n",
    "\n",
    "В случае если работник опоздал или ушел раньше расписания, \n",
    "ему вычитается 3 балла за каждый час. \n",
    "Штрафной час засчитывается с первой минуты.\n",
    "\n",
    "За каждый дополнительный час работы вне расписания \n",
    "сотруднику добавляется по 2 балла.\n",
    "\n",
    "Вашей программе на вход поступает 5 строк с днями недели с \n",
    "понедельника по пятницу, содержащих время начала работы и \n",
    "время окончания. Далее идет натуральное число n и n строк, \n",
    "содержащих дату и время прихода и ухода выборочно в рамках \n",
    "одного года. \n",
    "Гарантируется, что сотрудник не придет в выходные дни.\n",
    "\n",
    "В качестве ответа выведите итоговое число баллов работника.\n",
    "\n",
    "\n",
    "Sample Input 1:\n",
    "07:00 19:00\n",
    "05:00 14:00\n",
    "06:37 11:23\n",
    "19:00 05:00\n",
    "20:00 06:49\n",
    "3\n",
    "2023-04-03T11:00 2023-04-03T19:00\n",
    "2023-05-03T05:00 2023-05-03T16:00\n",
    "2023-04-20T10:00 2023-04-21T01:00\n",
    "        \n",
    "Sample Output 1:\n",
    "4"
   ]
  },
  {
   "cell_type": "code",
   "execution_count": 5,
   "id": "d9b8c9d0",
   "metadata": {},
   "outputs": [],
   "source": [
    "dict = {}"
   ]
  },
  {
   "cell_type": "code",
   "execution_count": 8,
   "id": "e4b735d4",
   "metadata": {},
   "outputs": [
    {
     "name": "stdout",
     "output_type": "stream",
     "text": [
      "07:00 19:00\n",
      "05:00 14:00\n",
      "06:37 11:23\n",
      "19:00 05:00\n",
      "20:00 06:49\n"
     ]
    }
   ],
   "source": [
    "for i in range(5):\n",
    "    dict[i] = input().split()    "
   ]
  },
  {
   "cell_type": "code",
   "execution_count": 9,
   "id": "169885e8",
   "metadata": {},
   "outputs": [
    {
     "data": {
      "text/plain": [
       "{0: ['07:00', '19:00'],\n",
       " 1: ['05:00', '14:00'],\n",
       " 2: ['06:37', '11:23'],\n",
       " 3: ['19:00', '05:00'],\n",
       " 4: ['20:00', '06:49']}"
      ]
     },
     "execution_count": 9,
     "metadata": {},
     "output_type": "execute_result"
    }
   ],
   "source": [
    "dict"
   ]
  },
  {
   "cell_type": "code",
   "execution_count": 11,
   "id": "26407fe5",
   "metadata": {},
   "outputs": [
    {
     "name": "stdout",
     "output_type": "stream",
     "text": [
      "2023-04-03T11:00 2023-04-03T19:00\n"
     ]
    }
   ],
   "source": [
    "s = input().split()"
   ]
  },
  {
   "cell_type": "code",
   "execution_count": 113,
   "id": "ff3d185d",
   "metadata": {},
   "outputs": [
    {
     "data": {
      "text/plain": [
       "['2023-04-20T10:00', '2023-04-21T01:00']"
      ]
     },
     "execution_count": 113,
     "metadata": {},
     "output_type": "execute_result"
    }
   ],
   "source": [
    "s"
   ]
  },
  {
   "cell_type": "code",
   "execution_count": 114,
   "id": "148f3b78",
   "metadata": {},
   "outputs": [
    {
     "data": {
      "text/plain": [
       "'2023-04-20T10:00'"
      ]
     },
     "execution_count": 114,
     "metadata": {},
     "output_type": "execute_result"
    }
   ],
   "source": [
    "s[0]"
   ]
  },
  {
   "cell_type": "code",
   "execution_count": 115,
   "id": "4610917c",
   "metadata": {},
   "outputs": [
    {
     "data": {
      "text/plain": [
       "datetime.datetime(2023, 4, 20, 10, 0)"
      ]
     },
     "execution_count": 115,
     "metadata": {},
     "output_type": "execute_result"
    }
   ],
   "source": [
    "t_come = datetime.fromisoformat(s[0])\n",
    "t_come"
   ]
  },
  {
   "cell_type": "code",
   "execution_count": 116,
   "id": "bf0bb222",
   "metadata": {},
   "outputs": [
    {
     "data": {
      "text/plain": [
       "datetime.datetime(2023, 4, 21, 1, 0)"
      ]
     },
     "execution_count": 116,
     "metadata": {},
     "output_type": "execute_result"
    }
   ],
   "source": [
    "t_gone = datetime.fromisoformat(s[1])\n",
    "t_gone"
   ]
  },
  {
   "cell_type": "code",
   "execution_count": 117,
   "id": "2b47bc75",
   "metadata": {},
   "outputs": [
    {
     "data": {
      "text/plain": [
       "2023"
      ]
     },
     "execution_count": 117,
     "metadata": {},
     "output_type": "execute_result"
    }
   ],
   "source": [
    "t_come.year"
   ]
  },
  {
   "cell_type": "code",
   "execution_count": 118,
   "id": "1f0ee076",
   "metadata": {},
   "outputs": [
    {
     "data": {
      "text/plain": [
       "4"
      ]
     },
     "execution_count": 118,
     "metadata": {},
     "output_type": "execute_result"
    }
   ],
   "source": [
    "t_come.month"
   ]
  },
  {
   "cell_type": "code",
   "execution_count": 119,
   "id": "4fac7d84",
   "metadata": {},
   "outputs": [
    {
     "data": {
      "text/plain": [
       "20"
      ]
     },
     "execution_count": 119,
     "metadata": {},
     "output_type": "execute_result"
    }
   ],
   "source": [
    "t_come.day"
   ]
  },
  {
   "cell_type": "code",
   "execution_count": null,
   "id": "e9760517",
   "metadata": {},
   "outputs": [],
   "source": []
  },
  {
   "cell_type": "code",
   "execution_count": 120,
   "id": "f5bbfcd9",
   "metadata": {},
   "outputs": [
    {
     "data": {
      "text/plain": [
       "3"
      ]
     },
     "execution_count": 120,
     "metadata": {},
     "output_type": "execute_result"
    }
   ],
   "source": [
    "t_come.weekday()"
   ]
  },
  {
   "cell_type": "code",
   "execution_count": 125,
   "id": "dbd1fad0",
   "metadata": {},
   "outputs": [
    {
     "data": {
      "text/plain": [
       "['19:00', '05:00']"
      ]
     },
     "execution_count": 125,
     "metadata": {},
     "output_type": "execute_result"
    }
   ],
   "source": [
    "# start - end\n",
    "dict[t_come.weekday()]"
   ]
  },
  {
   "cell_type": "code",
   "execution_count": 126,
   "id": "d878e7c6",
   "metadata": {},
   "outputs": [
    {
     "data": {
      "text/plain": [
       "19"
      ]
     },
     "execution_count": 126,
     "metadata": {},
     "output_type": "execute_result"
    }
   ],
   "source": [
    "h_start = int(dict[t_come.weekday()][0][:2])\n",
    "h_start"
   ]
  },
  {
   "cell_type": "code",
   "execution_count": 127,
   "id": "68f1f2f8",
   "metadata": {},
   "outputs": [
    {
     "data": {
      "text/plain": [
       "0"
      ]
     },
     "execution_count": 127,
     "metadata": {},
     "output_type": "execute_result"
    }
   ],
   "source": [
    "m_start = int(dict[t_come.weekday()][0][-2:])\n",
    "m_start"
   ]
  },
  {
   "cell_type": "code",
   "execution_count": 135,
   "id": "0cad9417",
   "metadata": {},
   "outputs": [
    {
     "data": {
      "text/plain": [
       "datetime.datetime(2023, 4, 20, 19, 0)"
      ]
     },
     "execution_count": 135,
     "metadata": {},
     "output_type": "execute_result"
    }
   ],
   "source": [
    "start_ = datetime(t_come.year, t_come.month, t_come.day, h_start, m_start)\n",
    "start_"
   ]
  },
  {
   "cell_type": "code",
   "execution_count": 136,
   "id": "5f42b050",
   "metadata": {},
   "outputs": [
    {
     "data": {
      "text/plain": [
       "datetime.datetime(2023, 4, 20, 10, 0)"
      ]
     },
     "execution_count": 136,
     "metadata": {},
     "output_type": "execute_result"
    }
   ],
   "source": [
    "t_come"
   ]
  },
  {
   "cell_type": "code",
   "execution_count": 139,
   "id": "16e000b4",
   "metadata": {},
   "outputs": [
    {
     "data": {
      "text/plain": [
       "datetime.timedelta(seconds=32400)"
      ]
     },
     "execution_count": 139,
     "metadata": {},
     "output_type": "execute_result"
    }
   ],
   "source": [
    "from datetime import timedelta\n",
    "\n",
    "delta_start = start_ -  t_come\n",
    "delta_start"
   ]
  },
  {
   "cell_type": "code",
   "execution_count": 140,
   "id": "46647be4",
   "metadata": {},
   "outputs": [
    {
     "data": {
      "text/plain": [
       "9"
      ]
     },
     "execution_count": 140,
     "metadata": {},
     "output_type": "execute_result"
    }
   ],
   "source": [
    "delta_start.seconds // 3600"
   ]
  },
  {
   "cell_type": "code",
   "execution_count": null,
   "id": "3a417c92",
   "metadata": {},
   "outputs": [],
   "source": []
  },
  {
   "cell_type": "code",
   "execution_count": null,
   "id": "42e95434",
   "metadata": {},
   "outputs": [],
   "source": []
  },
  {
   "cell_type": "code",
   "execution_count": null,
   "id": "8047db47",
   "metadata": {},
   "outputs": [],
   "source": [
    "07:00 19:00\n",
    "05:00 14:00\n",
    "06:37 11:23\n",
    "19:00 05:00\n",
    "20:00 06:49\n",
    "5\n",
    "2023-04-03T11:00 2023-04-03T18:33\n",
    "2023-05-03T05:00 2023-05-03T16:00\n",
    "2023-04-20T10:00 2023-04-21T01:00\n",
    "2023-06-21T10:00 2023-06-21T15:00\n",
    "2023-08-24T10:00 2023-08-24T16:00"
   ]
  },
  {
   "cell_type": "code",
   "execution_count": 230,
   "id": "9f7454b8",
   "metadata": {},
   "outputs": [
    {
     "name": "stdout",
     "output_type": "stream",
     "text": [
      "5\n",
      "2023-04-03T11:00 2023-04-03T18:33\n",
      "2023-05-03T05:00 2023-05-03T16:00\n",
      "2023-04-20T10:00 2023-04-21T01:00\n",
      "2023-06-21T10:00 2023-06-21T15:00\n",
      "2023-08-24T10:00 2023-08-24T16:00\n"
     ]
    }
   ],
   "source": [
    "from datetime import datetime\n",
    "from datetime import timedelta\n",
    "import math\n",
    "\n",
    "dict = {}\n",
    "\n",
    "for i in range(5):\n",
    "    dict[i] = input().split()\n",
    "\n",
    "n = int(input())\n",
    "\n",
    "lst = []\n",
    "for i in range(n):\n",
    "    lst.append(input().split())\n",
    "    \n",
    "points = 0\n",
    "for s in lst:\n",
    "    t_come = datetime.fromisoformat(s[0])\n",
    "    h_come = int(dict[t_come.weekday()][0][:2])\n",
    "    m_come = int(dict[t_come.weekday()][0][-2:])\n",
    "    start_ = datetime(t_come.year, t_come.month, t_come.day, h_come, m_come)\n",
    "    \n",
    "    if t_come > start_:\n",
    "        delta_start = t_come - start_       \n",
    "        \n",
    "        points -= math.ceil((delta_start.seconds / 3600))*3\n",
    "        \n",
    "    if t_come < start_:\n",
    "        delta_start = start_ - t_come       \n",
    "        points += (delta_start.seconds //3600)*2\n",
    "        \n",
    "        \n",
    "    #print(start_.weekday(), 'start_: ', start_, 't_come: ', t_come, points)\n",
    "    \n",
    "    t_gone = datetime.fromisoformat(s[1])\n",
    "    day_gone = t_gone.day\n",
    "    h_gone = int(dict[t_come.weekday()][1][:2])\n",
    "    m_gone = int(dict[t_come.weekday()][1][-2:])\n",
    "    \n",
    "    if int(dict[t_come.weekday()][0][:2]) > int(dict[t_come.weekday()][1][:2]):\n",
    "        day_gone = t_come.day + 1  \n",
    "        \n",
    "        \n",
    "        \n",
    "    \n",
    "    end_ = datetime(t_come.year, t_come.month, day_gone, h_gone, m_gone)\n",
    "    \n",
    "    if t_gone < end_:\n",
    "        delta_end = end_ - t_gone        \n",
    "        points -= math.ceil((end_ - t_gone).seconds / 3600)*3\n",
    "        \n",
    "    if t_gone > end_:\n",
    "        delta_end = t_gone - end_ \n",
    "        points += (delta_end.seconds //3600)*2\n",
    "        \n",
    "    #print('end_: ', end_, 't_gone: ', t_gone,  points)\n",
    "        \n",
    "    "
   ]
  },
  {
   "cell_type": "code",
   "execution_count": 231,
   "id": "f9c92ab7",
   "metadata": {},
   "outputs": [
    {
     "data": {
      "text/plain": [
       "-23"
      ]
     },
     "execution_count": 231,
     "metadata": {},
     "output_type": "execute_result"
    }
   ],
   "source": [
    "points"
   ]
  },
  {
   "cell_type": "code",
   "execution_count": 215,
   "id": "2af7cf3e",
   "metadata": {},
   "outputs": [
    {
     "data": {
      "text/plain": [
       "{0: ['07:00', '19:00'],\n",
       " 1: ['05:00', '14:00'],\n",
       " 2: ['06:37', '11:23'],\n",
       " 3: ['19:00', '05:00'],\n",
       " 4: ['20:00', '06:49']}"
      ]
     },
     "execution_count": 215,
     "metadata": {},
     "output_type": "execute_result"
    }
   ],
   "source": [
    "dict"
   ]
  },
  {
   "cell_type": "code",
   "execution_count": 216,
   "id": "7cb8da5f",
   "metadata": {},
   "outputs": [],
   "source": [
    "t_gone = datetime.fromisoformat('2023-04-03 18:33:00')"
   ]
  },
  {
   "cell_type": "code",
   "execution_count": 217,
   "id": "d9e102a6",
   "metadata": {},
   "outputs": [],
   "source": [
    "end = datetime.fromisoformat('2023-04-03 19:00:00')"
   ]
  },
  {
   "cell_type": "code",
   "execution_count": 218,
   "id": "1504cbe0",
   "metadata": {},
   "outputs": [
    {
     "data": {
      "text/plain": [
       "True"
      ]
     },
     "execution_count": 218,
     "metadata": {},
     "output_type": "execute_result"
    }
   ],
   "source": [
    "t_gone < end"
   ]
  },
  {
   "cell_type": "code",
   "execution_count": 220,
   "id": "1defd328",
   "metadata": {},
   "outputs": [
    {
     "data": {
      "text/plain": [
       "0.45"
      ]
     },
     "execution_count": 220,
     "metadata": {},
     "output_type": "execute_result"
    }
   ],
   "source": [
    "(end - t_gone).seconds / 3600"
   ]
  },
  {
   "cell_type": "code",
   "execution_count": 221,
   "id": "b7ba6ec6",
   "metadata": {},
   "outputs": [
    {
     "data": {
      "text/plain": [
       "0"
      ]
     },
     "execution_count": 221,
     "metadata": {},
     "output_type": "execute_result"
    }
   ],
   "source": [
    "import numpy as np\n",
    "int((end - t_gone).seconds / 3600)"
   ]
  },
  {
   "cell_type": "code",
   "execution_count": null,
   "id": "62321453",
   "metadata": {},
   "outputs": [],
   "source": []
  },
  {
   "cell_type": "code",
   "execution_count": 233,
   "id": "40286998",
   "metadata": {},
   "outputs": [],
   "source": [
    "start_ = datetime.fromisoformat('2023-06-21 06:37:00')"
   ]
  },
  {
   "cell_type": "code",
   "execution_count": 234,
   "id": "f2b4ee84",
   "metadata": {},
   "outputs": [],
   "source": [
    "t_come = datetime.fromisoformat('2023-06-21 10:00:00')"
   ]
  },
  {
   "cell_type": "code",
   "execution_count": 235,
   "id": "c1a56363",
   "metadata": {},
   "outputs": [],
   "source": [
    "if t_come > start_:\n",
    "    delta_start = t_come - start_"
   ]
  },
  {
   "cell_type": "code",
   "execution_count": 236,
   "id": "83a1688f",
   "metadata": {},
   "outputs": [
    {
     "data": {
      "text/plain": [
       "4"
      ]
     },
     "execution_count": 236,
     "metadata": {},
     "output_type": "execute_result"
    }
   ],
   "source": [
    "math.ceil(delta_start.seconds/3600)"
   ]
  },
  {
   "cell_type": "code",
   "execution_count": null,
   "id": "313cac82",
   "metadata": {},
   "outputs": [],
   "source": []
  },
  {
   "cell_type": "code",
   "execution_count": 167,
   "id": "4a498e3a",
   "metadata": {},
   "outputs": [
    {
     "name": "stdout",
     "output_type": "stream",
     "text": [
      "Mon Oct  9 13:47:23 2023\n"
     ]
    }
   ],
   "source": [
    "from time import time, ctime\n",
    "\n",
    "t = time()\n",
    "print(ctime(t))"
   ]
  },
  {
   "cell_type": "code",
   "execution_count": null,
   "id": "39559818",
   "metadata": {},
   "outputs": [],
   "source": []
  },
  {
   "cell_type": "code",
   "execution_count": 172,
   "id": "41d8586f",
   "metadata": {},
   "outputs": [
    {
     "name": "stdout",
     "output_type": "stream",
     "text": [
      "2023-10-09 13:48:23.545837\n"
     ]
    }
   ],
   "source": [
    "from datetime import datetime\n",
    "\n",
    "t = datetime.now()\n",
    "print(t)"
   ]
  },
  {
   "cell_type": "code",
   "execution_count": null,
   "id": "bb8e695f",
   "metadata": {},
   "outputs": [],
   "source": []
  },
  {
   "cell_type": "code",
   "execution_count": null,
   "id": "9fbc5c2d",
   "metadata": {},
   "outputs": [],
   "source": []
  },
  {
   "cell_type": "code",
   "execution_count": null,
   "id": "4fda11a3",
   "metadata": {},
   "outputs": [],
   "source": []
  },
  {
   "cell_type": "code",
   "execution_count": null,
   "id": "9c2a7fad",
   "metadata": {},
   "outputs": [],
   "source": []
  },
  {
   "cell_type": "code",
   "execution_count": null,
   "id": "a1130062",
   "metadata": {},
   "outputs": [],
   "source": []
  }
 ],
 "metadata": {
  "kernelspec": {
   "display_name": "Python 3 (ipykernel)",
   "language": "python",
   "name": "python3"
  },
  "language_info": {
   "codemirror_mode": {
    "name": "ipython",
    "version": 3
   },
   "file_extension": ".py",
   "mimetype": "text/x-python",
   "name": "python",
   "nbconvert_exporter": "python",
   "pygments_lexer": "ipython3",
   "version": "3.10.0"
  }
 },
 "nbformat": 4,
 "nbformat_minor": 5
}
