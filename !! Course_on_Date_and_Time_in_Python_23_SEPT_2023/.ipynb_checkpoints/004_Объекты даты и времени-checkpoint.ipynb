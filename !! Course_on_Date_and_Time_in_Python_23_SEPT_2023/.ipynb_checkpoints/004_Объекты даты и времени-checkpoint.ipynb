{
 "cells": [
  {
   "cell_type": "markdown",
   "id": "2d497862",
   "metadata": {},
   "source": [
    "# datetime.datetime"
   ]
  },
  {
   "cell_type": "code",
   "execution_count": 3,
   "id": "fd19a237",
   "metadata": {},
   "outputs": [
    {
     "name": "stdout",
     "output_type": "stream",
     "text": [
      "Sat Oct  7 09:45:23 2023\n"
     ]
    }
   ],
   "source": [
    "import time\n",
    "\n",
    "now = time.time()\n",
    "print(time.ctime(now))"
   ]
  },
  {
   "cell_type": "code",
   "execution_count": null,
   "id": "0f15319f",
   "metadata": {},
   "outputs": [],
   "source": []
  },
  {
   "cell_type": "code",
   "execution_count": 1,
   "id": "591b27fb",
   "metadata": {},
   "outputs": [],
   "source": [
    "# Класс datetime.datetime представляет собой сочетание даты и времени. \n",
    "# Чтобы создать его объект нужно обязательно передать год, месяц и день. \n",
    "# Опционально еще можно добавить параметры времени.\n",
    "\n",
    "import datetime\n",
    "\n",
    "date_with_time = datetime.datetime(2021, 10, 31, 17, 30, 00)  # 2021-10-31 17:30:00\n",
    "\n",
    "date = datetime.datetime(2021, 10, 31)  # 2021-10-31 00:00:00\n",
    "\n",
    "date_from_datetime = date_with_time.date()  # 2021-10-31\n",
    "\n",
    "time_from_datetime = date_with_time.time()  # 17:30:00"
   ]
  },
  {
   "cell_type": "code",
   "execution_count": null,
   "id": "4001328e",
   "metadata": {},
   "outputs": [],
   "source": []
  },
  {
   "cell_type": "code",
   "execution_count": 4,
   "id": "cf361b4b",
   "metadata": {},
   "outputs": [],
   "source": [
    "# Чтобы получить текущее время вычислительной машины можно воспользоваться методом now.\n",
    "# Эта функция возвращает дату с наивным временем, поэтому ее нельзя использовать для обозначения момента во времени.\n",
    "\n",
    "import datetime\n",
    "\n",
    "current_time = datetime.datetime.now()  # 2023-04-03 22:50:02.876654"
   ]
  },
  {
   "cell_type": "code",
   "execution_count": 5,
   "id": "6bd745d9",
   "metadata": {},
   "outputs": [
    {
     "data": {
      "text/plain": [
       "datetime.datetime(2023, 10, 7, 9, 50, 37, 920930)"
      ]
     },
     "execution_count": 5,
     "metadata": {},
     "output_type": "execute_result"
    }
   ],
   "source": [
    "datetime.datetime.now()"
   ]
  },
  {
   "cell_type": "code",
   "execution_count": 6,
   "id": "887a5a92",
   "metadata": {},
   "outputs": [
    {
     "name": "stdout",
     "output_type": "stream",
     "text": [
      "2023-10-07 09:50:56.020801\n"
     ]
    }
   ],
   "source": [
    "print(datetime.datetime.now())"
   ]
  },
  {
   "cell_type": "code",
   "execution_count": 9,
   "id": "da3f4cb1",
   "metadata": {},
   "outputs": [],
   "source": [
    "# Информацию из datetime.datetime можно извлекать точно так же как из объектов datetime.date и datetime.time.\n",
    "\n",
    "my_date = datetime.datetime(2021, 10, 31, 17, 30, 00)\n",
    "\n",
    "year = my_date.year  # 2021\n",
    "month = my_date.month  # 10\n",
    "day = my_date.day  # 31\n",
    "hours = my_date.hour  # 17\n",
    "minutes = my_date.minute  # 30\n",
    "seconds = my_date.second  # 0"
   ]
  },
  {
   "cell_type": "code",
   "execution_count": 13,
   "id": "b74da6c9",
   "metadata": {},
   "outputs": [],
   "source": [
    "my_date = datetime.datetime(2021, 10, 31)"
   ]
  },
  {
   "cell_type": "code",
   "execution_count": 14,
   "id": "fb7094e8",
   "metadata": {},
   "outputs": [
    {
     "data": {
      "text/plain": [
       "datetime.datetime(2021, 10, 31, 0, 0)"
      ]
     },
     "execution_count": 14,
     "metadata": {},
     "output_type": "execute_result"
    }
   ],
   "source": [
    "my_date"
   ]
  },
  {
   "cell_type": "code",
   "execution_count": null,
   "id": "f4a36dd8",
   "metadata": {},
   "outputs": [],
   "source": []
  },
  {
   "cell_type": "code",
   "execution_count": null,
   "id": "fdcd008f",
   "metadata": {},
   "outputs": [],
   "source": [
    "# Если нужен день недели, то можно использовать метод weekday или метод isocalendar для более детальной информации.\n",
    "\n",
    "import datetime\n",
    "\n",
    "my_date = datetime.datetime(2021, 10, 31, 17, 30, 00)\n",
    "\n",
    "# от 0 до 6\n",
    "print(my_date.weekday())  # 6\n",
    "year, week, weekday = my_date.isocalendar()\n",
    "# день недели от 1 до 7\n",
    "print(year, week, weekday)  # 2021 43 7"
   ]
  },
  {
   "cell_type": "code",
   "execution_count": null,
   "id": "21f3b91b",
   "metadata": {},
   "outputs": [],
   "source": []
  },
  {
   "cell_type": "code",
   "execution_count": 16,
   "id": "bddc306b",
   "metadata": {},
   "outputs": [
    {
     "name": "stdout",
     "output_type": "stream",
     "text": [
      "Отформатированная дата и время: 31/10/2021 17:30:00\n",
      "2000-02-03 00:00:00\n"
     ]
    }
   ],
   "source": [
    "# Форматирование datetime.datetime точно так же делается с помощью strftime и strptime.\n",
    "\n",
    "import datetime\n",
    "\n",
    "my_date = datetime.datetime(2021, 10, 31, 17, 30, 00)\n",
    "\n",
    "formatted_date = my_date.strftime(\"%d/%m/%Y %H:%M:%S\")\n",
    "print(\"Отформатированная дата и время:\", formatted_date)  # Отформатированная дата и время: 31/10/2021 17:30:00\n",
    "\n",
    "date_from_string = datetime.datetime.strptime(\"2000/2/3\", \"%Y/%m/%d\")\n",
    "print(date_from_string)  # 2000-02-03 00:00:00"
   ]
  },
  {
   "cell_type": "code",
   "execution_count": null,
   "id": "2600a67a",
   "metadata": {},
   "outputs": [],
   "source": []
  },
  {
   "cell_type": "code",
   "execution_count": 17,
   "id": "8ecc1dc9",
   "metadata": {},
   "outputs": [
    {
     "name": "stdout",
     "output_type": "stream",
     "text": [
      "Новая дата: 2021-11-01 17:30:00\n",
      "Новое время: 2021-10-31 15:30:00\n"
     ]
    }
   ],
   "source": [
    "# Промежутки времени можно считать в datetime.datetime так же, как и в datetime.date.\n",
    "\n",
    "import datetime\n",
    "\n",
    "my_date = datetime.datetime(2021, 10, 31, 17, 30, 00)\n",
    "\n",
    "# Добавление 1 дня\n",
    "new_date = my_date + datetime.timedelta(days=1)\n",
    "\n",
    "print(\"Новая дата:\", new_date)  # Новая дата: 2021-11-01 17:30:00\n",
    "\n",
    "# Вычитание 2 часов\n",
    "new_time = my_date - datetime.timedelta(hours=2)\n",
    "\n",
    "print(\"Новое время:\", new_time)  # Новое время: 2021-10-31 15:30:00"
   ]
  },
  {
   "cell_type": "code",
   "execution_count": null,
   "id": "c68ec8c4",
   "metadata": {},
   "outputs": [],
   "source": []
  },
  {
   "cell_type": "code",
   "execution_count": 18,
   "id": "08dd806f",
   "metadata": {},
   "outputs": [
    {
     "name": "stdout",
     "output_type": "stream",
     "text": [
      "Дата 1 меньше даты 2\n"
     ]
    }
   ],
   "source": [
    "# Сравнивать даты тоже можно.\n",
    "\n",
    "import datetime\n",
    "\n",
    "date1 = datetime.datetime(2021, 10, 31, 17, 30, 00)\n",
    "date2 = datetime.datetime(2021, 11, 1, 12, 00, 00)\n",
    "\n",
    "if date1 < date2:\n",
    "    print(\"Дата 1 меньше даты 2\")\n",
    "else:\n",
    "    print(\"Дата 1 больше или равна дате 2\")"
   ]
  },
  {
   "cell_type": "code",
   "execution_count": null,
   "id": "77d243f8",
   "metadata": {},
   "outputs": [],
   "source": []
  },
  {
   "cell_type": "markdown",
   "id": "83d8c674",
   "metadata": {},
   "source": [
    "# Задача"
   ]
  },
  {
   "cell_type": "code",
   "execution_count": null,
   "id": "c5a316da",
   "metadata": {},
   "outputs": [],
   "source": [
    "# В вашем продукте есть функционал, позволяющий создавать скидочные промокоды. \n",
    "# Пользователь создает промокоды и задает им дату и время окончания действия.\n",
    "\n",
    "# Вашей программе на вход подается неотрицательное число n и  список из n дат и \n",
    "# времени в формате ISO 8601, означающие срок истечения каждого из промокодов. \n",
    "# Определите когда закончится действие всех промокодов.\n",
    "\n",
    "# В качестве вывода укажите крайнюю дату и время промокода в формате ISO 8601.\n",
    "\n",
    "Sample Input 1:\n",
    "6\n",
    "2023-05-13T04:30:00\n",
    "2023-02-13T04:30:00\n",
    "2023-06-13T04:30:00\n",
    "2023-01-13T04:30:00\n",
    "2023-07-13T04:30:01\n",
    "2023-07-13T04:30:00\n",
    "        \n",
    "        \n",
    "Sample Output 1:\n",
    "2023-07-13T04:30:01"
   ]
  },
  {
   "cell_type": "code",
   "execution_count": 37,
   "id": "19e999bd",
   "metadata": {},
   "outputs": [
    {
     "data": {
      "text/plain": [
       "datetime.datetime(2023, 5, 13, 4, 30)"
      ]
     },
     "execution_count": 37,
     "metadata": {},
     "output_type": "execute_result"
    }
   ],
   "source": [
    "datetime.fromisoformat('2023-05-13T04:30:00')"
   ]
  },
  {
   "cell_type": "code",
   "execution_count": null,
   "id": "8f24de07",
   "metadata": {},
   "outputs": [],
   "source": []
  },
  {
   "cell_type": "code",
   "execution_count": 41,
   "id": "09ac481e",
   "metadata": {},
   "outputs": [
    {
     "name": "stdout",
     "output_type": "stream",
     "text": [
      "1\n",
      "2023-07-13T04:30:01\n",
      "2023-07-13T04:30:01\n"
     ]
    }
   ],
   "source": [
    "from datetime import datetime\n",
    "\n",
    "n = int(input())\n",
    "\n",
    "lst = []\n",
    "\n",
    "for i in range(n):\n",
    "    lst.append(datetime.fromisoformat(input()))\n",
    "    \n",
    "print(max(lst).isoformat())"
   ]
  },
  {
   "cell_type": "code",
   "execution_count": null,
   "id": "12f0d64a",
   "metadata": {},
   "outputs": [],
   "source": []
  },
  {
   "cell_type": "code",
   "execution_count": 54,
   "id": "a26f4e52",
   "metadata": {},
   "outputs": [
    {
     "data": {
      "text/plain": [
       "datetime.datetime(2019, 12, 4, 0, 0)"
      ]
     },
     "execution_count": 54,
     "metadata": {},
     "output_type": "execute_result"
    }
   ],
   "source": [
    "from datetime import datetime\n",
    "datetime.fromisoformat('2019-12-04')\n",
    "# datetime.date(2019, 12, 4)"
   ]
  },
  {
   "cell_type": "code",
   "execution_count": null,
   "id": "039cc813",
   "metadata": {},
   "outputs": [],
   "source": []
  },
  {
   "cell_type": "markdown",
   "id": "6a494675",
   "metadata": {},
   "source": [
    "# Задача"
   ]
  },
  {
   "cell_type": "code",
   "execution_count": null,
   "id": "c9b1fa5f",
   "metadata": {},
   "outputs": [],
   "source": [
    "# Вы разрабатываете сервис для очных приемов у психолога. \n",
    "# В этом сервисе есть календарь, в котором зафиксированы свободные часы \n",
    "# работы психолога. С помощью календаря вы можете выбрать время, на которое \n",
    "# можно забронировать прием. Количество часов приема пациента ограничено от \n",
    "# одного часа до окончания времени работы психолога в день расписания.\n",
    "\n",
    "# Разработайте программу, которая будет на вход получать расписание работы \n",
    "# психолога с понедельника по пятницу и для входной даты будет определять, \n",
    "# можно ли записаться к психологу или нет.\n",
    "\n",
    "# Вашей программе на вход поступают 5 строк, содержащих время начала и \n",
    "# окончания работы психолога через пробел. Каждая строка - это день недели, \n",
    "# начиная с понедельника и заканчивая пятницей. После расписания поступает \n",
    "# дата и время, в которую хотят записаться на прием. \n",
    "# Гарантируется, что первая дата строго меньше второй.\n",
    "\n",
    "# В качестве ответа выведите True в случае если записаться можно, и False если нельзя.\n",
    "\n",
    "\n",
    "Sample Input 1:\n",
    "07:00 13:00\n",
    "13:00 14:00\n",
    "12:30 19:30\n",
    "19:00 21:00\n",
    "14:00 19:45\n",
    "2023-04-03T11:00 2023-04-03T12:00\n",
    "        \n",
    "        \n",
    "Sample Output 1:\n",
    "True"
   ]
  },
  {
   "cell_type": "code",
   "execution_count": 78,
   "id": "f3b8827b",
   "metadata": {},
   "outputs": [
    {
     "name": "stdout",
     "output_type": "stream",
     "text": [
      "07:00 13:00\n",
      "13:00 14:00\n",
      "12:30 19:30\n",
      "19:00 21:00\n",
      "14:00 19:45\n"
     ]
    }
   ],
   "source": [
    "dict = {}\n",
    "\n",
    "for i in range(5):\n",
    "    dict[i] = input()"
   ]
  },
  {
   "cell_type": "code",
   "execution_count": 79,
   "id": "951aee9b",
   "metadata": {},
   "outputs": [
    {
     "data": {
      "text/plain": [
       "{0: '07:00 13:00',\n",
       " 1: '13:00 14:00',\n",
       " 2: '12:30 19:30',\n",
       " 3: '19:00 21:00',\n",
       " 4: '14:00 19:45'}"
      ]
     },
     "execution_count": 79,
     "metadata": {},
     "output_type": "execute_result"
    }
   ],
   "source": [
    "dict"
   ]
  },
  {
   "cell_type": "code",
   "execution_count": null,
   "id": "df5f6547",
   "metadata": {},
   "outputs": [],
   "source": []
  },
  {
   "cell_type": "code",
   "execution_count": null,
   "id": "f3b53b10",
   "metadata": {},
   "outputs": [],
   "source": []
  },
  {
   "cell_type": "code",
   "execution_count": 67,
   "id": "98d0c8a0",
   "metadata": {},
   "outputs": [],
   "source": [
    "s = '2023-04-03T11:00 2023-04-03T12:00'"
   ]
  },
  {
   "cell_type": "code",
   "execution_count": 70,
   "id": "f9bbdf75",
   "metadata": {},
   "outputs": [],
   "source": [
    "ss = s.split()"
   ]
  },
  {
   "cell_type": "code",
   "execution_count": 71,
   "id": "891a15fc",
   "metadata": {},
   "outputs": [
    {
     "data": {
      "text/plain": [
       "'2023-04-03T11:00'"
      ]
     },
     "execution_count": 71,
     "metadata": {},
     "output_type": "execute_result"
    }
   ],
   "source": [
    "ss[0]"
   ]
  },
  {
   "cell_type": "code",
   "execution_count": 63,
   "id": "8c794045",
   "metadata": {},
   "outputs": [],
   "source": [
    "from datetime import datetime"
   ]
  },
  {
   "cell_type": "code",
   "execution_count": 75,
   "id": "449fadb1",
   "metadata": {},
   "outputs": [
    {
     "data": {
      "text/plain": [
       "datetime.datetime(2023, 4, 3, 11, 0)"
      ]
     },
     "execution_count": 75,
     "metadata": {},
     "output_type": "execute_result"
    }
   ],
   "source": [
    "dat = datetime.fromisoformat(ss[0])\n",
    "dat"
   ]
  },
  {
   "cell_type": "code",
   "execution_count": 77,
   "id": "22b1a8f1",
   "metadata": {},
   "outputs": [
    {
     "data": {
      "text/plain": [
       "0"
      ]
     },
     "execution_count": 77,
     "metadata": {},
     "output_type": "execute_result"
    }
   ],
   "source": [
    "dat.weekday()"
   ]
  },
  {
   "cell_type": "code",
   "execution_count": 86,
   "id": "5eb4dfe9",
   "metadata": {},
   "outputs": [
    {
     "data": {
      "text/plain": [
       "2023"
      ]
     },
     "execution_count": 86,
     "metadata": {},
     "output_type": "execute_result"
    }
   ],
   "source": [
    "dat.year"
   ]
  },
  {
   "cell_type": "code",
   "execution_count": 87,
   "id": "8937db58",
   "metadata": {},
   "outputs": [
    {
     "data": {
      "text/plain": [
       "4"
      ]
     },
     "execution_count": 87,
     "metadata": {},
     "output_type": "execute_result"
    }
   ],
   "source": [
    "dat.month"
   ]
  },
  {
   "cell_type": "code",
   "execution_count": 88,
   "id": "8be977b4",
   "metadata": {},
   "outputs": [
    {
     "data": {
      "text/plain": [
       "3"
      ]
     },
     "execution_count": 88,
     "metadata": {},
     "output_type": "execute_result"
    }
   ],
   "source": [
    "dat.day"
   ]
  },
  {
   "cell_type": "code",
   "execution_count": null,
   "id": "30531c1a",
   "metadata": {},
   "outputs": [],
   "source": []
  },
  {
   "cell_type": "code",
   "execution_count": null,
   "id": "b6ac341e",
   "metadata": {},
   "outputs": [],
   "source": []
  },
  {
   "cell_type": "code",
   "execution_count": 83,
   "id": "8f084e60",
   "metadata": {},
   "outputs": [
    {
     "data": {
      "text/plain": [
       "'07:00 13:00'"
      ]
     },
     "execution_count": 83,
     "metadata": {},
     "output_type": "execute_result"
    }
   ],
   "source": [
    "dict[dat.weekday()]"
   ]
  },
  {
   "cell_type": "code",
   "execution_count": 90,
   "id": "866ee36e",
   "metadata": {},
   "outputs": [
    {
     "data": {
      "text/plain": [
       "'07:00'"
      ]
     },
     "execution_count": 90,
     "metadata": {},
     "output_type": "execute_result"
    }
   ],
   "source": [
    "st = dict[dat.weekday()].split()[0]\n",
    "st"
   ]
  },
  {
   "cell_type": "code",
   "execution_count": 95,
   "id": "5fdbc7dc",
   "metadata": {},
   "outputs": [
    {
     "data": {
      "text/plain": [
       "datetime.datetime(2023, 4, 3, 7, 0)"
      ]
     },
     "execution_count": 95,
     "metadata": {},
     "output_type": "execute_result"
    }
   ],
   "source": [
    "start = datetime(dat.year, dat.month, dat.day, int(st[:2]), int(st[-2:]))\n",
    "start"
   ]
  },
  {
   "cell_type": "code",
   "execution_count": null,
   "id": "7061109e",
   "metadata": {},
   "outputs": [],
   "source": []
  },
  {
   "cell_type": "code",
   "execution_count": 97,
   "id": "dbf60095",
   "metadata": {},
   "outputs": [
    {
     "data": {
      "text/plain": [
       "'13:00'"
      ]
     },
     "execution_count": 97,
     "metadata": {},
     "output_type": "execute_result"
    }
   ],
   "source": [
    "en = dict[dat.weekday()].split()[1]\n",
    "en"
   ]
  },
  {
   "cell_type": "code",
   "execution_count": 102,
   "id": "50d954cb",
   "metadata": {},
   "outputs": [
    {
     "data": {
      "text/plain": [
       "datetime.datetime(2023, 4, 3, 12, 0)"
      ]
     },
     "execution_count": 102,
     "metadata": {},
     "output_type": "execute_result"
    }
   ],
   "source": [
    "end = datetime(dat.year, dat.month, dat.day, int(en[:2])-1, int(en[-2:]))\n",
    "end"
   ]
  },
  {
   "cell_type": "code",
   "execution_count": null,
   "id": "8ac8aa62",
   "metadata": {},
   "outputs": [],
   "source": []
  },
  {
   "cell_type": "code",
   "execution_count": 106,
   "id": "e1904ec7",
   "metadata": {},
   "outputs": [
    {
     "data": {
      "text/plain": [
       "True"
      ]
     },
     "execution_count": 106,
     "metadata": {},
     "output_type": "execute_result"
    }
   ],
   "source": [
    "dat >= start and dat <= end"
   ]
  },
  {
   "cell_type": "code",
   "execution_count": null,
   "id": "aa71a54d",
   "metadata": {},
   "outputs": [],
   "source": [
    "Test input:\n",
    "07:00 13:00\n",
    "13:00 14:00\n",
    "12:30 19:30\n",
    "19:00 21:00\n",
    "14:00 19:45\n",
    "2023-06-06T13:59 2023-06-06T14:00"
   ]
  },
  {
   "cell_type": "code",
   "execution_count": 116,
   "id": "75d799d1",
   "metadata": {},
   "outputs": [
    {
     "name": "stdout",
     "output_type": "stream",
     "text": [
      "2023-06-06T13:59 2023-06-06T14:00\n",
      "True\n"
     ]
    }
   ],
   "source": [
    "from datetime import datetime\n",
    "\n",
    "dict = {}\n",
    "for i in range(5):\n",
    "    dict[i] = input()\n",
    "    \n",
    "s = input()\n",
    "\n",
    "ss = s.split()\n",
    "\n",
    "dat_start = datetime.fromisoformat(ss[0])\n",
    "dat_end = datetime.fromisoformat(ss[1])\n",
    "\n",
    "if dat_start.weekday() == 5 or dat_start.weekday() == 6:\n",
    "    print('False')\n",
    "else:\n",
    "    st = dict[dat_start.weekday()].split()[0]\n",
    "    start = datetime(dat_start.year, dat_start.month, dat_start.day, int(st[:2]), int(st[-2:]))\n",
    "\n",
    "    en = dict[dat_start.weekday()].split()[1]\n",
    "    end = datetime(dat_start.year, dat_start.month, dat_start.day, int(en[:2]), int(en[-2:]))\n",
    "\n",
    "    #print('start', start)\n",
    "    #print('dat_start', dat_start)\n",
    "    #print()\n",
    "    #print('end', end)\n",
    "    #print('dat_end', dat_end)\n",
    "\n",
    "\n",
    "    print(dat_start >= start and dat_end <= end)"
   ]
  },
  {
   "cell_type": "code",
   "execution_count": 114,
   "id": "30f418e2",
   "metadata": {},
   "outputs": [
    {
     "data": {
      "text/plain": [
       "{}"
      ]
     },
     "execution_count": 114,
     "metadata": {},
     "output_type": "execute_result"
    }
   ],
   "source": [
    "dict"
   ]
  },
  {
   "cell_type": "code",
   "execution_count": 112,
   "id": "76d9eab4",
   "metadata": {},
   "outputs": [
    {
     "name": "stdout",
     "output_type": "stream",
     "text": [
      "start 2023-06-06 13:00:00\n",
      "dat_start 2023-06-06 13:59:00\n",
      "\n",
      "end 2023-06-06 13:00:00\n",
      "dat_end 2023-06-06 14:00:00\n"
     ]
    }
   ],
   "source": [
    "print('start', start)\n",
    "print('dat_start', dat_start)\n",
    "print()\n",
    "print('end', end)\n",
    "print('dat_end', dat_end)"
   ]
  },
  {
   "cell_type": "code",
   "execution_count": null,
   "id": "30f6dd11",
   "metadata": {},
   "outputs": [],
   "source": []
  },
  {
   "cell_type": "code",
   "execution_count": null,
   "id": "19287c85",
   "metadata": {},
   "outputs": [],
   "source": []
  },
  {
   "cell_type": "code",
   "execution_count": null,
   "id": "0fb1cec8",
   "metadata": {},
   "outputs": [],
   "source": []
  }
 ],
 "metadata": {
  "kernelspec": {
   "display_name": "Python 3 (ipykernel)",
   "language": "python",
   "name": "python3"
  },
  "language_info": {
   "codemirror_mode": {
    "name": "ipython",
    "version": 3
   },
   "file_extension": ".py",
   "mimetype": "text/x-python",
   "name": "python",
   "nbconvert_exporter": "python",
   "pygments_lexer": "ipython3",
   "version": "3.10.0"
  }
 },
 "nbformat": 4,
 "nbformat_minor": 5
}
