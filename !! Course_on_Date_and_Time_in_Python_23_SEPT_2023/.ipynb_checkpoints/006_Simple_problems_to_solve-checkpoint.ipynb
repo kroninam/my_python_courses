{
 "cells": [
  {
   "cell_type": "markdown",
   "id": "758bf15e",
   "metadata": {},
   "source": [
    "#1"
   ]
  },
  {
   "cell_type": "code",
   "execution_count": null,
   "id": "13fe7714",
   "metadata": {},
   "outputs": [],
   "source": [
    "Вам на вход поступает две даты в формате ISO 8601. \n",
    "Поменяйте в них местами годы если это возможно. Например на вход дано 2 даты:\n",
    "\n",
    "2023-01-01\n",
    "2020-12-12\n",
    "В качестве ответа программа должна вернуть:\n",
    "\n",
    "2020-01-01\n",
    "2023-12-12\n",
    "В случае если это сделать невозможно выведите:\n",
    "\n",
    "Год изменить невозможно\n",
    "\n",
    "\n",
    "Sample Input 2:\n",
    "\n",
    "2020-02-29\n",
    "2021-12-12\n",
    "Sample Output 2:\n",
    "\n",
    "Год изменить невозможно"
   ]
  },
  {
   "cell_type": "code",
   "execution_count": 1,
   "id": "2ecc5445",
   "metadata": {},
   "outputs": [],
   "source": [
    "from datetime import datetime"
   ]
  },
  {
   "cell_type": "code",
   "execution_count": 25,
   "id": "a9d4018e",
   "metadata": {},
   "outputs": [
    {
     "name": "stdout",
     "output_type": "stream",
     "text": [
      "2020-02-29\n",
      "2021-12-12\n"
     ]
    }
   ],
   "source": [
    "n = input()\n",
    "m = input()"
   ]
  },
  {
   "cell_type": "code",
   "execution_count": 26,
   "id": "3c62ca7c",
   "metadata": {},
   "outputs": [],
   "source": [
    "y1 = datetime.fromisoformat(n).year\n",
    "m1 = datetime.fromisoformat(n).month\n",
    "d1 = datetime.fromisoformat(n).day"
   ]
  },
  {
   "cell_type": "code",
   "execution_count": 27,
   "id": "03036d42",
   "metadata": {},
   "outputs": [],
   "source": [
    "y2 = datetime.fromisoformat(m).year\n",
    "m2 = datetime.fromisoformat(m).month\n",
    "d2 = datetime.fromisoformat(m).day"
   ]
  },
  {
   "cell_type": "code",
   "execution_count": 29,
   "id": "757f0c32",
   "metadata": {},
   "outputs": [
    {
     "name": "stdout",
     "output_type": "stream",
     "text": [
      "Год изменить невозможно\n"
     ]
    }
   ],
   "source": [
    "try:\n",
    "    new_n = datetime(y2, m1, d1, 0, 0)\n",
    "except ValueError:\n",
    "    print('Год изменить невозможно')\n",
    "    k = 1"
   ]
  },
  {
   "cell_type": "code",
   "execution_count": 30,
   "id": "23890f5d",
   "metadata": {},
   "outputs": [],
   "source": [
    "try:\n",
    "    new_m = datetime(y1, m2, d2, 0, 0)\n",
    "except ValueError:\n",
    "    print('Год изменить невозможно')\n",
    "    k = 1"
   ]
  },
  {
   "cell_type": "code",
   "execution_count": 31,
   "id": "b32078ad",
   "metadata": {},
   "outputs": [
    {
     "data": {
      "text/plain": [
       "datetime.datetime(2020, 12, 12, 0, 0)"
      ]
     },
     "execution_count": 31,
     "metadata": {},
     "output_type": "execute_result"
    }
   ],
   "source": [
    "new_m"
   ]
  },
  {
   "cell_type": "code",
   "execution_count": null,
   "id": "4422250c",
   "metadata": {},
   "outputs": [],
   "source": []
  },
  {
   "cell_type": "code",
   "execution_count": null,
   "id": "933483d1",
   "metadata": {},
   "outputs": [],
   "source": []
  },
  {
   "cell_type": "code",
   "execution_count": null,
   "id": "ed483adc",
   "metadata": {},
   "outputs": [],
   "source": []
  },
  {
   "cell_type": "code",
   "execution_count": null,
   "id": "02d21466",
   "metadata": {},
   "outputs": [],
   "source": []
  },
  {
   "cell_type": "code",
   "execution_count": null,
   "id": "998b27e4",
   "metadata": {},
   "outputs": [],
   "source": []
  }
 ],
 "metadata": {
  "kernelspec": {
   "display_name": "Python 3 (ipykernel)",
   "language": "python",
   "name": "python3"
  },
  "language_info": {
   "codemirror_mode": {
    "name": "ipython",
    "version": 3
   },
   "file_extension": ".py",
   "mimetype": "text/x-python",
   "name": "python",
   "nbconvert_exporter": "python",
   "pygments_lexer": "ipython3",
   "version": "3.10.0"
  }
 },
 "nbformat": 4,
 "nbformat_minor": 5
}
