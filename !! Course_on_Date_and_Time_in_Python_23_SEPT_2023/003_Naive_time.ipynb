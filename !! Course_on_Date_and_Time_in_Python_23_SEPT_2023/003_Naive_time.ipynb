{
 "cells": [
  {
   "cell_type": "markdown",
   "id": "9d2ccbf1",
   "metadata": {},
   "source": [
    "# Модуль time"
   ]
  },
  {
   "cell_type": "code",
   "execution_count": null,
   "id": "0fd2286c",
   "metadata": {},
   "outputs": [],
   "source": [
    "Начнем с простого. Самая базовая функция модуля – это time. \n",
    "Она показывает время в секундах, которое прошло, начиная с 1 января 1970 года.\n",
    "Эту дату еще называют epoch time или временем начала эпохи."
   ]
  },
  {
   "cell_type": "code",
   "execution_count": 1,
   "id": "3baabb96",
   "metadata": {},
   "outputs": [],
   "source": [
    "import time"
   ]
  },
  {
   "cell_type": "code",
   "execution_count": 2,
   "id": "b81f3898",
   "metadata": {},
   "outputs": [
    {
     "name": "stdout",
     "output_type": "stream",
     "text": [
      "1696336470.6530275\n"
     ]
    }
   ],
   "source": [
    "# время может отличаться\n",
    "print(time.time())  # 1678907916.5734131"
   ]
  },
  {
   "cell_type": "code",
   "execution_count": null,
   "id": "b32e3baa",
   "metadata": {},
   "outputs": [],
   "source": []
  },
  {
   "cell_type": "code",
   "execution_count": null,
   "id": "3037106b",
   "metadata": {},
   "outputs": [],
   "source": [
    "Эту функцию нельзя использовать, если вам важна точность, \n",
    "потому что тип float дает погрешности. \n",
    "Вместо нее используйте time_ns. Она отдает время в наносекундах и типе int."
   ]
  },
  {
   "cell_type": "code",
   "execution_count": 5,
   "id": "be04d0b1",
   "metadata": {},
   "outputs": [
    {
     "name": "stdout",
     "output_type": "stream",
     "text": [
      "1696336542646148100\n"
     ]
    }
   ],
   "source": [
    "print(time.time_ns())"
   ]
  },
  {
   "cell_type": "code",
   "execution_count": null,
   "id": "6e523fb6",
   "metadata": {},
   "outputs": [],
   "source": []
  },
  {
   "cell_type": "code",
   "execution_count": null,
   "id": "5cc614e8",
   "metadata": {},
   "outputs": [],
   "source": [
    "Чтобы конвертировать это количество секунд в читаемый формат \n",
    "можно воспользоваться функцией ctime."
   ]
  },
  {
   "cell_type": "code",
   "execution_count": 6,
   "id": "05b01492",
   "metadata": {},
   "outputs": [
    {
     "name": "stdout",
     "output_type": "stream",
     "text": [
      "Tue Oct  3 15:36:27 2023\n"
     ]
    }
   ],
   "source": [
    "now = time.time()\n",
    "print(time.ctime(now))"
   ]
  },
  {
   "cell_type": "code",
   "execution_count": null,
   "id": "bde3db9a",
   "metadata": {},
   "outputs": [],
   "source": []
  },
  {
   "cell_type": "code",
   "execution_count": null,
   "id": "5df108d5",
   "metadata": {},
   "outputs": [],
   "source": [
    "Функция time хорошо подходит для измерения времени выполнения программ и функций небольшой длительности:"
   ]
  },
  {
   "cell_type": "code",
   "execution_count": 7,
   "id": "ca3e9ba1",
   "metadata": {},
   "outputs": [
    {
     "name": "stdout",
     "output_type": "stream",
     "text": [
      "9.728457927703857\n"
     ]
    }
   ],
   "source": [
    "import time\n",
    "\n",
    "def func():\n",
    "    c = 1\n",
    "    for i in range(50_000_000):\n",
    "        c = (i + 5) + c\n",
    "\n",
    "\n",
    "start = time.time()\n",
    "func()\n",
    "# ваше время может отличаться\n",
    "print(time.time() - start)  # 1.6221907138824463"
   ]
  },
  {
   "cell_type": "code",
   "execution_count": null,
   "id": "6239043f",
   "metadata": {},
   "outputs": [],
   "source": []
  },
  {
   "cell_type": "code",
   "execution_count": null,
   "id": "81aa6fbc",
   "metadata": {},
   "outputs": [],
   "source": [
    "Если же вы хотите измерять время выполнения программ, которые выполняются долго, \n",
    "то функция time вам уже не подходит, так как на ее результаты влияют изменения в \n",
    "конфигурации системного времени. Это может быть как ручное изменение, так и \n",
    "автоматический перевод на летнее время. Вместо нее используйте функцию monotonic \n",
    "или monotonic_ns если важна точность.\n",
    "\n",
    "Помимо этого, для программ с длительным выполнением обязательно нужен обработчик \n",
    "ошибок, ведь будет очень неприятно, если расчет длился 5 дней, оборвался на \n",
    "какой-то ошибке и не зафиксировался."
   ]
  },
  {
   "cell_type": "code",
   "execution_count": 8,
   "id": "b6487a1f",
   "metadata": {},
   "outputs": [],
   "source": [
    "import time\n",
    "from functools import wraps\n",
    "\n",
    "def timer(func):\n",
    "    @wraps(func)\n",
    "    def inner(*args, **kwargs):\n",
    "        start = time.monotonic()\n",
    "        try:\n",
    "            return func(*args, **kwargs)\n",
    "        finally:\n",
    "            with open(\"result_time.txt\", 'w') as f:\n",
    "                f.write(str(time.monotonic()-start))\n",
    "    return inner\n",
    "\n",
    "@timer\n",
    "def func():\n",
    "    c = 1\n",
    "    for i in range(50_000_000):\n",
    "        c = (i + 5) + c\n",
    "\n",
    "\n",
    "func()"
   ]
  },
  {
   "cell_type": "code",
   "execution_count": 9,
   "id": "c63968e7",
   "metadata": {},
   "outputs": [],
   "source": [
    "# Еще одной полезной функцией модуля является sleep. \n",
    "# Она позволяет заморозить выполнение кода на заданное количество \n",
    "# секунд и может быть полезна, например, чтобы не засыпать запросами чужой АПИ.\n",
    "\n",
    "import time\n",
    "\n",
    "time.sleep(2)  # 2 secs"
   ]
  },
  {
   "cell_type": "code",
   "execution_count": null,
   "id": "70605a31",
   "metadata": {},
   "outputs": [],
   "source": []
  },
  {
   "cell_type": "markdown",
   "id": "871f13cf",
   "metadata": {},
   "source": [
    "# Задача"
   ]
  },
  {
   "cell_type": "code",
   "execution_count": null,
   "id": "f11c8f3e",
   "metadata": {},
   "outputs": [],
   "source": [
    "Вам нужно написать декоратор для функции, который фиксирует ее лучшее время \n",
    "выполнения и записывает в файл. Например, если у функции func(1, 2) лучшее \n",
    "время выполнения 3 секунды, то в файл нужно записать строку:\n",
    "\n",
    "func(1, 2) -> 3\n",
    "В качестве результата запишите целое количество секунд. Если пользователь \n",
    "запустил функции foo(30, 40), func(3, 4) и func(1, 2) с результатами \n",
    "1, 2.5, и 2.7 то файл должен стать таким:\n",
    "\n",
    "foo(30, 40) -> 1\n",
    "func(3, 4) -> 2\n",
    "func(1, 2) -> 2\n",
    "\n",
    "Обратите внимание, что нужно записывать именно лучшее время выполнения. \n",
    "Если в программе была запущена функция func(3, 4) 2 раза с результатами \n",
    "в 3 секунды и 5 секунд, то в файле должно быть:\n",
    "\n",
    "func(3, 4) -> 3\n",
    "\n",
    "Результаты в файле должны быть отсортированы в порядке вызова функций программы. \n",
    "\n",
    "Назовите файл с результатами result_time.txt, имя декоратора оставьте неизменным."
   ]
  },
  {
   "cell_type": "code",
   "execution_count": null,
   "id": "5ab3e354",
   "metadata": {},
   "outputs": [],
   "source": [
    "def timer(func):\n",
    "    def inner(*args, **kwargs):\n",
    "        ...\n",
    "    return inner\n"
   ]
  },
  {
   "cell_type": "code",
   "execution_count": 102,
   "id": "c6dd317c",
   "metadata": {
    "scrolled": true
   },
   "outputs": [
    {
     "name": "stdout",
     "output_type": "stream",
     "text": [
      "{'foo(3, 4)': 2.2340000000003783}\n",
      "{'foo(3, 4)': 2.2340000000003783, 'func(3, 4)': 2.2340000000003783}\n",
      "{'foo(3, 4)': 2.2340000000003783, 'func(3, 4)': 2.2340000000003783}\n",
      "{'foo(3, 4)': 2.2340000000003783, 'func(3, 4)': 2.2340000000003783, 'func(1, 2)': 1.1570000000028813}\n"
     ]
    }
   ],
   "source": [
    "import time\n",
    "a = {}\n",
    "def timer(func):\n",
    "        \n",
    "    with open(\"result_time.txt\", 'w') as ff:\n",
    "        pass\n",
    "    def inner(*args, **kwargs):\n",
    "        \n",
    "        start = time.monotonic()\n",
    "        try:\n",
    "            return func(*args, **kwargs)\n",
    "        finally:\n",
    "#             a.append(time.monotonic()-start)\n",
    "            if f'{func.__name__}{args}' in a:\n",
    "                 a[f'{func.__name__}{args}'] += [time.monotonic()-start]\n",
    "            else:\n",
    "                a[f'{func.__name__}{args}'] = [time.monotonic()-start]\n",
    "            \n",
    "            \n",
    "            \n",
    "#             print(a)\n",
    "            \n",
    "            best_a = {}\n",
    "            for k,w in a.items():\n",
    "                best_a[k] = min(w)\n",
    "            print(best_a)\n",
    "        \n",
    "            \n",
    "            with open(\"result_time.txt\", 'w') as ff:\n",
    "                for k,w in best_a.items():\n",
    "                    ff.write (f'{k} -> {int(w)}\\n')\n",
    "    return inner\n",
    "\n",
    "@timer\n",
    "def func(c, r):\n",
    "    r = r*10_000_000\n",
    "    for i in range(r):\n",
    "        c = (i + 5) + c\n",
    "        \n",
    "        \n",
    "@timer\n",
    "def foo(c, r):\n",
    "    r = r*10_000_000\n",
    "    for i in range(r):\n",
    "        c = (i + 5) + c\n",
    "\n",
    "\n",
    "foo(3, 4)\n",
    "func(3, 4)\n",
    "func(3, 4)\n",
    "func(1, 2)"
   ]
  },
  {
   "cell_type": "code",
   "execution_count": null,
   "id": "a45007dc",
   "metadata": {},
   "outputs": [],
   "source": []
  },
  {
   "cell_type": "code",
   "execution_count": null,
   "id": "f2a2632b",
   "metadata": {},
   "outputs": [],
   "source": []
  },
  {
   "cell_type": "code",
   "execution_count": null,
   "id": "a44ac5e9",
   "metadata": {},
   "outputs": [],
   "source": []
  },
  {
   "cell_type": "code",
   "execution_count": null,
   "id": "8b0e8af2",
   "metadata": {},
   "outputs": [],
   "source": []
  },
  {
   "cell_type": "code",
   "execution_count": null,
   "id": "2dead403",
   "metadata": {},
   "outputs": [],
   "source": []
  },
  {
   "cell_type": "code",
   "execution_count": null,
   "id": "c97fb062",
   "metadata": {},
   "outputs": [],
   "source": []
  },
  {
   "cell_type": "code",
   "execution_count": null,
   "id": "94379cc0",
   "metadata": {},
   "outputs": [],
   "source": []
  },
  {
   "cell_type": "code",
   "execution_count": null,
   "id": "69654965",
   "metadata": {},
   "outputs": [],
   "source": []
  },
  {
   "cell_type": "code",
   "execution_count": null,
   "id": "438a8123",
   "metadata": {},
   "outputs": [],
   "source": []
  }
 ],
 "metadata": {
  "kernelspec": {
   "display_name": "Python 3 (ipykernel)",
   "language": "python",
   "name": "python3"
  },
  "language_info": {
   "codemirror_mode": {
    "name": "ipython",
    "version": 3
   },
   "file_extension": ".py",
   "mimetype": "text/x-python",
   "name": "python",
   "nbconvert_exporter": "python",
   "pygments_lexer": "ipython3",
   "version": "3.10.0"
  }
 },
 "nbformat": 4,
 "nbformat_minor": 5
}
