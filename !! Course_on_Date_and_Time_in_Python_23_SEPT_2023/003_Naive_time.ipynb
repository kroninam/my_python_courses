{
 "cells": [
  {
   "cell_type": "markdown",
   "id": "9d2ccbf1",
   "metadata": {},
   "source": [
    "# Модуль time"
   ]
  },
  {
   "cell_type": "code",
   "execution_count": null,
   "id": "46e1daf6",
   "metadata": {},
   "outputs": [],
   "source": []
  },
  {
   "cell_type": "code",
   "execution_count": null,
   "id": "31c63cdf",
   "metadata": {},
   "outputs": [],
   "source": [
    "# Резюме по наивному времени\n",
    "# 1. Если нам нужно посчитать время выполнения программы или куска кода то используем time.monotonic\n",
    "# 2. Наивное время следует использовать только для ситуаций, когда информация о том когда \n",
    "# происходило событие не важна, например для подсчета затраченного времени на работу, \n",
    "# для всех остальных случаев нужна таймзона.\n",
    "# 3. Всегда используем формат ISO 8601 для даты и времени."
   ]
  },
  {
   "cell_type": "code",
   "execution_count": null,
   "id": "aa8c8cdc",
   "metadata": {},
   "outputs": [],
   "source": []
  },
  {
   "cell_type": "code",
   "execution_count": null,
   "id": "0fd2286c",
   "metadata": {},
   "outputs": [],
   "source": [
    "Начнем с простого. Самая базовая функция модуля – это time. \n",
    "Она показывает время в секундах, которое прошло, начиная с 1 января 1970 года.\n",
    "Эту дату еще называют epoch time или временем начала эпохи."
   ]
  },
  {
   "cell_type": "code",
   "execution_count": 1,
   "id": "3baabb96",
   "metadata": {},
   "outputs": [],
   "source": [
    "import time"
   ]
  },
  {
   "cell_type": "code",
   "execution_count": 2,
   "id": "b81f3898",
   "metadata": {},
   "outputs": [
    {
     "name": "stdout",
     "output_type": "stream",
     "text": [
      "1696336470.6530275\n"
     ]
    }
   ],
   "source": [
    "# время может отличаться\n",
    "print(time.time())  # 1678907916.5734131"
   ]
  },
  {
   "cell_type": "code",
   "execution_count": null,
   "id": "b32e3baa",
   "metadata": {},
   "outputs": [],
   "source": []
  },
  {
   "cell_type": "code",
   "execution_count": null,
   "id": "3037106b",
   "metadata": {},
   "outputs": [],
   "source": [
    "Эту функцию нельзя использовать, если вам важна точность, \n",
    "потому что тип float дает погрешности. \n",
    "Вместо нее используйте time_ns. Она отдает время в наносекундах и типе int."
   ]
  },
  {
   "cell_type": "code",
   "execution_count": 5,
   "id": "be04d0b1",
   "metadata": {},
   "outputs": [
    {
     "name": "stdout",
     "output_type": "stream",
     "text": [
      "1696336542646148100\n"
     ]
    }
   ],
   "source": [
    "print(time.time_ns())"
   ]
  },
  {
   "cell_type": "code",
   "execution_count": null,
   "id": "6e523fb6",
   "metadata": {},
   "outputs": [],
   "source": []
  },
  {
   "cell_type": "code",
   "execution_count": null,
   "id": "5cc614e8",
   "metadata": {},
   "outputs": [],
   "source": [
    "Чтобы конвертировать это количество секунд в читаемый формат \n",
    "можно воспользоваться функцией ctime."
   ]
  },
  {
   "cell_type": "code",
   "execution_count": 6,
   "id": "05b01492",
   "metadata": {},
   "outputs": [
    {
     "name": "stdout",
     "output_type": "stream",
     "text": [
      "Tue Oct  3 15:36:27 2023\n"
     ]
    }
   ],
   "source": [
    "now = time.time()\n",
    "print(time.ctime(now))"
   ]
  },
  {
   "cell_type": "code",
   "execution_count": null,
   "id": "bde3db9a",
   "metadata": {},
   "outputs": [],
   "source": []
  },
  {
   "cell_type": "code",
   "execution_count": null,
   "id": "5df108d5",
   "metadata": {},
   "outputs": [],
   "source": [
    "Функция time хорошо подходит для измерения времени выполнения программ и функций небольшой длительности:"
   ]
  },
  {
   "cell_type": "code",
   "execution_count": 7,
   "id": "ca3e9ba1",
   "metadata": {},
   "outputs": [
    {
     "name": "stdout",
     "output_type": "stream",
     "text": [
      "9.728457927703857\n"
     ]
    }
   ],
   "source": [
    "import time\n",
    "\n",
    "def func():\n",
    "    c = 1\n",
    "    for i in range(50_000_000):\n",
    "        c = (i + 5) + c\n",
    "\n",
    "\n",
    "start = time.time()\n",
    "func()\n",
    "# ваше время может отличаться\n",
    "print(time.time() - start)  # 1.6221907138824463"
   ]
  },
  {
   "cell_type": "code",
   "execution_count": null,
   "id": "6239043f",
   "metadata": {},
   "outputs": [],
   "source": []
  },
  {
   "cell_type": "code",
   "execution_count": null,
   "id": "81aa6fbc",
   "metadata": {},
   "outputs": [],
   "source": [
    "Если же вы хотите измерять время выполнения программ, которые выполняются долго, \n",
    "то функция time вам уже не подходит, так как на ее результаты влияют изменения в \n",
    "конфигурации системного времени. Это может быть как ручное изменение, так и \n",
    "автоматический перевод на летнее время. Вместо нее используйте функцию monotonic \n",
    "или monotonic_ns если важна точность.\n",
    "\n",
    "Помимо этого, для программ с длительным выполнением обязательно нужен обработчик \n",
    "ошибок, ведь будет очень неприятно, если расчет длился 5 дней, оборвался на \n",
    "какой-то ошибке и не зафиксировался."
   ]
  },
  {
   "cell_type": "code",
   "execution_count": 8,
   "id": "b6487a1f",
   "metadata": {},
   "outputs": [],
   "source": [
    "import time\n",
    "from functools import wraps\n",
    "\n",
    "def timer(func):\n",
    "    @wraps(func)\n",
    "    def inner(*args, **kwargs):\n",
    "        start = time.monotonic()\n",
    "        try:\n",
    "            return func(*args, **kwargs)\n",
    "        finally:\n",
    "            with open(\"result_time.txt\", 'w') as f:\n",
    "                f.write(str(time.monotonic()-start))\n",
    "    return inner\n",
    "\n",
    "@timer\n",
    "def func():\n",
    "    c = 1\n",
    "    for i in range(50_000_000):\n",
    "        c = (i + 5) + c\n",
    "\n",
    "\n",
    "func()"
   ]
  },
  {
   "cell_type": "code",
   "execution_count": 9,
   "id": "c63968e7",
   "metadata": {},
   "outputs": [],
   "source": [
    "# Еще одной полезной функцией модуля является sleep. \n",
    "# Она позволяет заморозить выполнение кода на заданное количество \n",
    "# секунд и может быть полезна, например, чтобы не засыпать запросами чужой АПИ.\n",
    "\n",
    "import time\n",
    "\n",
    "time.sleep(2)  # 2 secs"
   ]
  },
  {
   "cell_type": "code",
   "execution_count": null,
   "id": "70605a31",
   "metadata": {},
   "outputs": [],
   "source": []
  },
  {
   "cell_type": "markdown",
   "id": "871f13cf",
   "metadata": {},
   "source": [
    "# Задача"
   ]
  },
  {
   "cell_type": "code",
   "execution_count": null,
   "id": "f11c8f3e",
   "metadata": {},
   "outputs": [],
   "source": [
    "Вам нужно написать декоратор для функции, который фиксирует ее лучшее время \n",
    "выполнения и записывает в файл. Например, если у функции func(1, 2) лучшее \n",
    "время выполнения 3 секунды, то в файл нужно записать строку:\n",
    "\n",
    "func(1, 2) -> 3\n",
    "В качестве результата запишите целое количество секунд. Если пользователь \n",
    "запустил функции foo(30, 40), func(3, 4) и func(1, 2) с результатами \n",
    "1, 2.5, и 2.7 то файл должен стать таким:\n",
    "\n",
    "foo(30, 40) -> 1\n",
    "func(3, 4) -> 2\n",
    "func(1, 2) -> 2\n",
    "\n",
    "Обратите внимание, что нужно записывать именно лучшее время выполнения. \n",
    "Если в программе была запущена функция func(3, 4) 2 раза с результатами \n",
    "в 3 секунды и 5 секунд, то в файле должно быть:\n",
    "\n",
    "func(3, 4) -> 3\n",
    "\n",
    "Результаты в файле должны быть отсортированы в порядке вызова функций программы. \n",
    "\n",
    "Назовите файл с результатами result_time.txt, имя декоратора оставьте неизменным."
   ]
  },
  {
   "cell_type": "code",
   "execution_count": null,
   "id": "5ab3e354",
   "metadata": {},
   "outputs": [],
   "source": [
    "def timer(func):\n",
    "    def inner(*args, **kwargs):\n",
    "        ...\n",
    "    return inner\n"
   ]
  },
  {
   "cell_type": "code",
   "execution_count": 102,
   "id": "c6dd317c",
   "metadata": {
    "scrolled": true
   },
   "outputs": [
    {
     "name": "stdout",
     "output_type": "stream",
     "text": [
      "{'foo(3, 4)': 2.2340000000003783}\n",
      "{'foo(3, 4)': 2.2340000000003783, 'func(3, 4)': 2.2340000000003783}\n",
      "{'foo(3, 4)': 2.2340000000003783, 'func(3, 4)': 2.2340000000003783}\n",
      "{'foo(3, 4)': 2.2340000000003783, 'func(3, 4)': 2.2340000000003783, 'func(1, 2)': 1.1570000000028813}\n"
     ]
    }
   ],
   "source": [
    "import time\n",
    "a = {}\n",
    "def timer(func):\n",
    "        \n",
    "    with open(\"result_time.txt\", 'w') as ff:\n",
    "        pass\n",
    "    def inner(*args, **kwargs):\n",
    "        \n",
    "        start = time.monotonic()\n",
    "        try:\n",
    "            return func(*args, **kwargs)\n",
    "        finally:\n",
    "#             a.append(time.monotonic()-start)\n",
    "            if f'{func.__name__}{args}' in a:\n",
    "                 a[f'{func.__name__}{args}'] += [time.monotonic()-start]\n",
    "            else:\n",
    "                a[f'{func.__name__}{args}'] = [time.monotonic()-start]\n",
    "            \n",
    "            \n",
    "            \n",
    "#             print(a)\n",
    "            \n",
    "            best_a = {}\n",
    "            for k,w in a.items():\n",
    "                best_a[k] = min(w)\n",
    "            print(best_a)\n",
    "        \n",
    "            \n",
    "            with open(\"result_time.txt\", 'w') as ff:\n",
    "                for k,w in best_a.items():\n",
    "                    ff.write (f'{k} -> {int(w)}\\n')\n",
    "    return inner\n",
    "\n",
    "@timer\n",
    "def func(c, r):\n",
    "    r = r*10_000_000\n",
    "    for i in range(r):\n",
    "        c = (i + 5) + c\n",
    "        \n",
    "        \n",
    "@timer\n",
    "def foo(c, r):\n",
    "    r = r*10_000_000\n",
    "    for i in range(r):\n",
    "        c = (i + 5) + c\n",
    "\n",
    "\n",
    "foo(3, 4)\n",
    "func(3, 4)\n",
    "func(3, 4)\n",
    "func(1, 2)"
   ]
  },
  {
   "cell_type": "code",
   "execution_count": null,
   "id": "a45007dc",
   "metadata": {},
   "outputs": [],
   "source": []
  },
  {
   "cell_type": "code",
   "execution_count": null,
   "id": "f2a2632b",
   "metadata": {},
   "outputs": [],
   "source": [
    "Как обозначить время и дату 13 февраля 1998 года 4:57 утра в городе Краснодаре в формате ISO 8601?"
   ]
  },
  {
   "cell_type": "code",
   "execution_count": null,
   "id": "a44ac5e9",
   "metadata": {},
   "outputs": [],
   "source": [
    "# 1998-02-13T04:57:00+03:00"
   ]
  },
  {
   "cell_type": "code",
   "execution_count": null,
   "id": "8b0e8af2",
   "metadata": {},
   "outputs": [],
   "source": []
  },
  {
   "cell_type": "markdown",
   "id": "427db4bc",
   "metadata": {},
   "source": [
    "# Объект наивного времени"
   ]
  },
  {
   "cell_type": "code",
   "execution_count": null,
   "id": "2239339b",
   "metadata": {},
   "outputs": [],
   "source": []
  },
  {
   "cell_type": "code",
   "execution_count": 109,
   "id": "2dead403",
   "metadata": {},
   "outputs": [
    {
     "name": "stdout",
     "output_type": "stream",
     "text": [
      "12:30:00\n"
     ]
    }
   ],
   "source": [
    "# Создать объект наивного времени в Python очень просто.\n",
    "\n",
    "from datetime import time\n",
    "\n",
    "t = time(hour=12, minute=30, second=00)\n",
    "\n",
    "print(t)  # 12:30:00"
   ]
  },
  {
   "cell_type": "code",
   "execution_count": 112,
   "id": "c97fb062",
   "metadata": {},
   "outputs": [
    {
     "name": "stdout",
     "output_type": "stream",
     "text": [
      "True\n",
      "True\n"
     ]
    }
   ],
   "source": [
    "# Такие объекты можно сравнивать друг с другом. Это позволяет узнать, что время находится в определенном диапазоне.\n",
    "\n",
    "from datetime import time\n",
    "\n",
    "t1 = time(12, 30, 00)\n",
    "t2 = time(12, 40, 00)\n",
    "\n",
    "print(t1 < t2)  # True\n",
    "\n",
    "t3 = time(12, 35, 00)\n",
    "print(t1 <= t3 <= t2) # True"
   ]
  },
  {
   "cell_type": "code",
   "execution_count": 113,
   "id": "94379cc0",
   "metadata": {},
   "outputs": [
    {
     "name": "stdout",
     "output_type": "stream",
     "text": [
      "12:30:00\n",
      "12:34:56\n"
     ]
    }
   ],
   "source": [
    "# Перевод в формат ISO 8601 и обратно происходит тоже очень просто.\n",
    "\n",
    "from datetime import time\n",
    "\n",
    "t = time(hour=12, minute=30, second=00)\n",
    "\n",
    "print(t.isoformat())  # 12:30:00\n",
    "\n",
    "t2 = time.fromisoformat(\"12:34:56\")\n",
    "\n",
    "print(t2)  # 12:34:56"
   ]
  },
  {
   "cell_type": "code",
   "execution_count": 5,
   "id": "69654965",
   "metadata": {},
   "outputs": [
    {
     "name": "stdout",
     "output_type": "stream",
     "text": [
      "12 30 0\n"
     ]
    }
   ],
   "source": [
    "# Если требуется сравнивать отдельно минуты и секунды, то можно воспользоваться свойствами класса hour, minute, second.\n",
    "\n",
    "from datetime import time\n",
    "\n",
    "t = time(hour=12,minute=30,second=00)\n",
    "\n",
    "print(t.hour, t.minute, t.second)  # 12 30 0"
   ]
  },
  {
   "cell_type": "code",
   "execution_count": 6,
   "id": "438a8123",
   "metadata": {},
   "outputs": [
    {
     "name": "stdout",
     "output_type": "stream",
     "text": [
      "6:00:00\n",
      "21600.0\n"
     ]
    }
   ],
   "source": [
    "# Промежутки времени считаются достаточно просто с помощью timedelta.\n",
    "\n",
    "from datetime import timedelta\n",
    "\n",
    "hours1 = timedelta(hours=4)\n",
    "hours2 = timedelta(hours=2)\n",
    "\n",
    "print(hours1+hours2)  # 6:00:00\n",
    "\n",
    "# в секундах\n",
    "print((hours1+hours2) / timedelta(seconds=1))  # 21600.0"
   ]
  },
  {
   "cell_type": "code",
   "execution_count": null,
   "id": "777e6630",
   "metadata": {},
   "outputs": [],
   "source": []
  },
  {
   "cell_type": "markdown",
   "id": "96c9f092",
   "metadata": {},
   "source": [
    "# Задача"
   ]
  },
  {
   "cell_type": "code",
   "execution_count": null,
   "id": "72574c57",
   "metadata": {},
   "outputs": [],
   "source": [
    "# Дан список времен в формате ISO 8601 обозначающий количество времени, \n",
    "# которое пользователи вашего сайта затратили на сдачу онлайн теста. \n",
    "# Определите среднее время прохождения теста.\n",
    "\n",
    "# Вашей программе на вход поступает натуральное число n и n строк, \n",
    "# содержащих время в формате ISO 8601. Определите среднее время и выведите его в \n",
    "# формате ISO 8601. Когда найдете среднее число отбросьте от него дробную часть с помощью int.\n",
    "\n",
    "# Sample Input 1:\n",
    "# 3\n",
    "# 02:00:00\n",
    "# 03:15:01\n",
    "# 01:10:10\n",
    "        \n",
    "        \n",
    "# Sample Output 1:\n",
    "# 02:08:23"
   ]
  },
  {
   "cell_type": "code",
   "execution_count": 7,
   "id": "42c5b302",
   "metadata": {},
   "outputs": [
    {
     "name": "stdout",
     "output_type": "stream",
     "text": [
      "3\n",
      "02:00:00\n",
      "03:15:01\n",
      "01:10:10\n",
      "['02:00:00', '03:15:01', '01:10:10']\n"
     ]
    }
   ],
   "source": [
    "lst = []\n",
    "\n",
    "n = int(input())\n",
    "for i in range(n):\n",
    "    lst.append(input())\n",
    "    \n",
    "print(lst)\n",
    "    "
   ]
  },
  {
   "cell_type": "code",
   "execution_count": null,
   "id": "cc85ba90",
   "metadata": {},
   "outputs": [],
   "source": []
  },
  {
   "cell_type": "code",
   "execution_count": 13,
   "id": "65c8375b",
   "metadata": {},
   "outputs": [
    {
     "data": {
      "text/plain": [
       "'02:00:00'"
      ]
     },
     "execution_count": 13,
     "metadata": {},
     "output_type": "execute_result"
    }
   ],
   "source": [
    "lst[0]"
   ]
  },
  {
   "cell_type": "code",
   "execution_count": 14,
   "id": "65632f87",
   "metadata": {},
   "outputs": [
    {
     "data": {
      "text/plain": [
       "['02', '00', '00']"
      ]
     },
     "execution_count": 14,
     "metadata": {},
     "output_type": "execute_result"
    }
   ],
   "source": [
    "lst[0].split(':')"
   ]
  },
  {
   "cell_type": "code",
   "execution_count": 16,
   "id": "36c68da3",
   "metadata": {},
   "outputs": [
    {
     "data": {
      "text/plain": [
       "'02'"
      ]
     },
     "execution_count": 16,
     "metadata": {},
     "output_type": "execute_result"
    }
   ],
   "source": [
    "hours = lst[0].split(':')[0]\n",
    "hours"
   ]
  },
  {
   "cell_type": "code",
   "execution_count": 17,
   "id": "6635b38d",
   "metadata": {},
   "outputs": [
    {
     "data": {
      "text/plain": [
       "'00'"
      ]
     },
     "execution_count": 17,
     "metadata": {},
     "output_type": "execute_result"
    }
   ],
   "source": [
    "min = lst[0].split(':')[1]\n",
    "min"
   ]
  },
  {
   "cell_type": "code",
   "execution_count": 18,
   "id": "6646ef01",
   "metadata": {},
   "outputs": [
    {
     "data": {
      "text/plain": [
       "'00'"
      ]
     },
     "execution_count": 18,
     "metadata": {},
     "output_type": "execute_result"
    }
   ],
   "source": [
    "sec = lst[0].split(':')[2]\n",
    "sec"
   ]
  },
  {
   "cell_type": "code",
   "execution_count": 26,
   "id": "59414e1f",
   "metadata": {},
   "outputs": [
    {
     "data": {
      "text/plain": [
       "datetime.time(2, 0)"
      ]
     },
     "execution_count": 26,
     "metadata": {},
     "output_type": "execute_result"
    }
   ],
   "source": [
    "t = time(int(hours), int(min), int(sec))\n",
    "t"
   ]
  },
  {
   "cell_type": "code",
   "execution_count": 30,
   "id": "a05e8720",
   "metadata": {},
   "outputs": [
    {
     "data": {
      "text/plain": [
       "7200"
      ]
     },
     "execution_count": 30,
     "metadata": {},
     "output_type": "execute_result"
    }
   ],
   "source": [
    "t.hour*60*60 + t.minute*60 + t.second*60"
   ]
  },
  {
   "cell_type": "code",
   "execution_count": null,
   "id": "17f49003",
   "metadata": {},
   "outputs": [],
   "source": []
  },
  {
   "cell_type": "code",
   "execution_count": 35,
   "id": "dff3c1ca",
   "metadata": {},
   "outputs": [
    {
     "data": {
      "text/plain": [
       "['02:00:00', '03:15:01', '01:10:10']"
      ]
     },
     "execution_count": 35,
     "metadata": {},
     "output_type": "execute_result"
    }
   ],
   "source": [
    "lst"
   ]
  },
  {
   "cell_type": "code",
   "execution_count": 57,
   "id": "34dc3f2d",
   "metadata": {},
   "outputs": [
    {
     "name": "stdout",
     "output_type": "stream",
     "text": [
      "02:00:00\n",
      "7200\n",
      "03:15:01\n",
      "18901\n",
      "01:10:10\n",
      "23111\n",
      "128\n",
      "23\n",
      "2\n",
      "8\n"
     ]
    }
   ],
   "source": [
    "total = 0\n",
    "\n",
    "for i in lst:\n",
    "    hours = i.split(':')[0]\n",
    "    m = i.split(':')[1]\n",
    "    sec = i.split(':')[2]\n",
    "    \n",
    "    t = time(int(hours), int(m), int(sec))\n",
    "    print(t)\n",
    "\n",
    "    \n",
    "    total += t.hour*60*60 + t.minute*60 + t.second\n",
    "    print(total)\n",
    "\n",
    "mean_sec = int(total/len(lst))\n",
    "\n",
    "\n",
    "h_min = mean_sec//60\n",
    "print(h_min)\n",
    "\n",
    "secs = mean_sec%60\n",
    "print(secs)\n",
    "\n",
    "h = h_min//60\n",
    "print(h)\n",
    "\n",
    "minuts = h_min%60\n",
    "print(minuts)\n",
    "\n",
    "\n",
    "    \n",
    "    "
   ]
  },
  {
   "cell_type": "code",
   "execution_count": 48,
   "id": "39392f4e",
   "metadata": {},
   "outputs": [
    {
     "data": {
      "text/plain": [
       "7920.0"
      ]
     },
     "execution_count": 48,
     "metadata": {},
     "output_type": "execute_result"
    }
   ],
   "source": [
    "mean_sec"
   ]
  },
  {
   "cell_type": "code",
   "execution_count": 65,
   "id": "a2ec8322",
   "metadata": {},
   "outputs": [],
   "source": [
    "t = time(h, minuts, secs)"
   ]
  },
  {
   "cell_type": "code",
   "execution_count": 66,
   "id": "d156b521",
   "metadata": {},
   "outputs": [
    {
     "data": {
      "text/plain": [
       "'02:08:23'"
      ]
     },
     "execution_count": 66,
     "metadata": {},
     "output_type": "execute_result"
    }
   ],
   "source": [
    "t.isoformat()"
   ]
  },
  {
   "cell_type": "code",
   "execution_count": null,
   "id": "d7fc0f3c",
   "metadata": {},
   "outputs": [],
   "source": []
  },
  {
   "cell_type": "markdown",
   "id": "0eb098b4",
   "metadata": {},
   "source": [
    "# strftime и strptime"
   ]
  },
  {
   "cell_type": "code",
   "execution_count": 67,
   "id": "bfe3e8fd",
   "metadata": {},
   "outputs": [
    {
     "name": "stdout",
     "output_type": "stream",
     "text": [
      "12 56 45\n"
     ]
    }
   ],
   "source": [
    "# strptime позволяет распарсить строку с помощью шаблона. \n",
    "# Если у вас стоит задача парсинга строк не в формате ISO 8601, \n",
    "# то функция вам очень поможет. К примеру вам нужно получить объект \n",
    "# time из строки: 12 часов 56 минут 45 секунд.\n",
    "\n",
    "import time\n",
    "\n",
    "s = \"12 часов 56 минут 45 секунд\"\n",
    "fmt = \"%H часов %M минут %S секунд\"\n",
    "\n",
    "t = time.strptime(s, fmt)\n",
    "\n",
    "print(t.tm_hour, t.tm_min, t.tm_sec)  # 12 56 45"
   ]
  },
  {
   "cell_type": "code",
   "execution_count": 68,
   "id": "180c9289",
   "metadata": {},
   "outputs": [
    {
     "name": "stdout",
     "output_type": "stream",
     "text": [
      "12 часов 56 минут 45 секунд\n"
     ]
    }
   ],
   "source": [
    "# Для преобразования объектов datetime.time к шаблону можно воспользоваться strftime.\n",
    "\n",
    "from datetime import time\n",
    "\n",
    "fmt = \"%H часов %M минут %S секунд\"\n",
    "\n",
    "t = time(hour=12, minute=56, second=45)\n",
    "\n",
    "print(time.strftime(t, fmt))  # 12 часов 56 минут 45 секунд"
   ]
  },
  {
   "cell_type": "code",
   "execution_count": null,
   "id": "869fa00a",
   "metadata": {},
   "outputs": [],
   "source": [
    "Чтобы сформировать шаблон нужно воспользоваться спецификаторами из таблицы ниже:\n",
    "\n",
    "Спецификатор\tЕдиница времени\tДиапазон\n",
    "%H            \tЧасы (24 часа)  \t00-23\n",
    "%I            \tЧасы (12 часов) \t01-12\n",
    "%p            \tAM или PM       \tAM, PM\n",
    "%M            \tМинуты          \t00-59\n",
    "%S            \tСекунды         \t00-59"
   ]
  },
  {
   "cell_type": "code",
   "execution_count": null,
   "id": "efe9bb8a",
   "metadata": {},
   "outputs": [],
   "source": []
  },
  {
   "cell_type": "markdown",
   "id": "3f8e263b",
   "metadata": {},
   "source": [
    "# Задача "
   ]
  },
  {
   "cell_type": "code",
   "execution_count": null,
   "id": "9efc5eb8",
   "metadata": {},
   "outputs": [],
   "source": [
    "Определите разницу во времени для t1 и t2.\n",
    "\n",
    "Время приходит в таком формате: без {m} минут {s} секунд {h} часа\n",
    "\n",
    "Например: без 15 минут 6 секунд 3 часа означает время равное 02:44:54\n",
    "            \n",
    "На вход программе идут 2 строки в странном формате, нужно определить разницу между t1 и t2 (t1-t2)\n",
    "\n",
    "\n",
    "# Sample Input 1:\n",
    "# без 15 минут 6 секунд 3 часа\n",
    "# без 4 минут 0 секунд 2 часа\n",
    "\n",
    "\n",
    "# Sample Output 1:\n",
    "# 00:48:54"
   ]
  },
  {
   "cell_type": "code",
   "execution_count": 100,
   "id": "ea94c20b",
   "metadata": {},
   "outputs": [
    {
     "name": "stdout",
     "output_type": "stream",
     "text": [
      "без 15 минут 6 секунд 3 часа\n",
      "без 4 минут 0 секунд 2 часа\n"
     ]
    }
   ],
   "source": [
    "from datetime import time as t\n",
    "import time as tt\n",
    "\n",
    "s1 = input()\n",
    "s2 = input()\n",
    "\n",
    "fmt = 'без %M минут %S секунд %H часа'\n",
    "\n",
    "t1 = tt.strptime(s1, fmt)\n",
    "t2 = tt.strptime(s2, fmt)\n"
   ]
  },
  {
   "cell_type": "code",
   "execution_count": 145,
   "id": "980e6949",
   "metadata": {},
   "outputs": [],
   "source": [
    "lst = [t1, t2]"
   ]
  },
  {
   "cell_type": "code",
   "execution_count": 146,
   "id": "c0524435",
   "metadata": {},
   "outputs": [
    {
     "data": {
      "text/plain": [
       "[time.struct_time(tm_year=1900, tm_mon=1, tm_mday=1, tm_hour=3, tm_min=15, tm_sec=6, tm_wday=0, tm_yday=1, tm_isdst=-1),\n",
       " time.struct_time(tm_year=1900, tm_mon=1, tm_mday=1, tm_hour=2, tm_min=4, tm_sec=0, tm_wday=0, tm_yday=1, tm_isdst=-1)]"
      ]
     },
     "execution_count": 146,
     "metadata": {},
     "output_type": "execute_result"
    }
   ],
   "source": [
    "lst"
   ]
  },
  {
   "cell_type": "code",
   "execution_count": null,
   "id": "5608abb4",
   "metadata": {},
   "outputs": [],
   "source": []
  },
  {
   "cell_type": "code",
   "execution_count": 204,
   "id": "4d14b4fc",
   "metadata": {},
   "outputs": [],
   "source": [
    "lst_2 = []\n",
    "for i in range(len(lst)):\n",
    "    hour = lst[i].tm_hour - 1\n",
    "    if lst[i].tm_min == 0:\n",
    "        minuts = 0\n",
    "    if lst[i].tm_sec == 0:\n",
    "        minuts = 60 - lst[i].tm_min\n",
    "    else:\n",
    "        minuts = 59 - lst[i].tm_min\n",
    "    \n",
    "        \n",
    "    if lst[i].tm_sec == 0:\n",
    "        secs = 0\n",
    "    else:\n",
    "        secs = 60 - lst[i].tm_sec\n",
    "    lst_2.append((hour, minuts,  secs))"
   ]
  },
  {
   "cell_type": "code",
   "execution_count": 205,
   "id": "6381498e",
   "metadata": {},
   "outputs": [
    {
     "data": {
      "text/plain": [
       "[(2, 44, 54), (1, 56, 0)]"
      ]
     },
     "execution_count": 205,
     "metadata": {},
     "output_type": "execute_result"
    }
   ],
   "source": [
    "lst_2"
   ]
  },
  {
   "cell_type": "code",
   "execution_count": 217,
   "id": "1606e0f2",
   "metadata": {},
   "outputs": [
    {
     "name": "stdout",
     "output_type": "stream",
     "text": [
      "2 44 54\n"
     ]
    }
   ],
   "source": [
    "print(lst_2[0][0],  lst_2[0][1], lst_2[0][2])"
   ]
  },
  {
   "cell_type": "code",
   "execution_count": 210,
   "id": "ddbd4e2b",
   "metadata": {},
   "outputs": [
    {
     "name": "stdout",
     "output_type": "stream",
     "text": [
      "1 56 0\n"
     ]
    }
   ],
   "source": [
    "print(lst_2[1][0],  lst_2[1][1], lst_2[1][2])"
   ]
  },
  {
   "cell_type": "code",
   "execution_count": 248,
   "id": "6f20404f",
   "metadata": {},
   "outputs": [],
   "source": [
    "delta_1 = timedelta(\n",
    "    days=0,\n",
    "    seconds=lst_2[0][2],\n",
    "    microseconds=0,\n",
    "    milliseconds=0,\n",
    "    minutes=lst_2[0][1],\n",
    "    hours=lst_2[0][0],\n",
    "    weeks=0\n",
    ")"
   ]
  },
  {
   "cell_type": "code",
   "execution_count": 249,
   "id": "0dcbd7c6",
   "metadata": {},
   "outputs": [
    {
     "data": {
      "text/plain": [
       "datetime.timedelta(seconds=9894)"
      ]
     },
     "execution_count": 249,
     "metadata": {},
     "output_type": "execute_result"
    }
   ],
   "source": [
    "delta_1"
   ]
  },
  {
   "cell_type": "code",
   "execution_count": 250,
   "id": "1830eb38",
   "metadata": {},
   "outputs": [],
   "source": [
    "delta_2 = timedelta(\n",
    "    days=0,\n",
    "    seconds=lst_2[1][2],\n",
    "    microseconds=0,\n",
    "    milliseconds=0,\n",
    "    minutes=lst_2[1][1],\n",
    "    hours=lst_2[1][0],\n",
    "    weeks=0\n",
    ")"
   ]
  },
  {
   "cell_type": "code",
   "execution_count": 251,
   "id": "ad04b135",
   "metadata": {},
   "outputs": [
    {
     "data": {
      "text/plain": [
       "datetime.timedelta(seconds=6960)"
      ]
     },
     "execution_count": 251,
     "metadata": {},
     "output_type": "execute_result"
    }
   ],
   "source": [
    "delta_2"
   ]
  },
  {
   "cell_type": "code",
   "execution_count": 252,
   "id": "256eb9fe",
   "metadata": {},
   "outputs": [],
   "source": [
    "res = abs(delta_1 - delta_2)"
   ]
  },
  {
   "cell_type": "code",
   "execution_count": 257,
   "id": "b9bf7d0d",
   "metadata": {},
   "outputs": [
    {
     "name": "stdout",
     "output_type": "stream",
     "text": [
      "00:48:54\n"
     ]
    }
   ],
   "source": [
    "print(str(res).zfill(8))"
   ]
  },
  {
   "cell_type": "code",
   "execution_count": null,
   "id": "dc43deeb",
   "metadata": {},
   "outputs": [],
   "source": []
  },
  {
   "cell_type": "markdown",
   "id": "717b3392",
   "metadata": {},
   "source": [
    "# Задача"
   ]
  },
  {
   "cell_type": "code",
   "execution_count": null,
   "id": "1d7abd87",
   "metadata": {},
   "outputs": [],
   "source": [
    "Оценка количества времени, необходимого для выполнения задач - рассчитывает её автоматически.\n",
    "\n",
    "У вас есть время выполнения задачи в формате MM:SS и ее сложность по трехбальной шкале (от 1 до 3).\n",
    "    \n",
    "Был придуман следующий алгоритм:\n",
    "\n",
    "1. Получаем на вход уровень сложности задачи.\n",
    "2. Считаем медианное время для этой сложности, опираясь на предыдущие выполненные задачи.\n",
    "3. Выводим медианное время выполнения задачи и умножаем его на 2, чтобы точно успеть ее выполнить.\n",
    "\n",
    "Вашей программе на вход поступает неотрицательное число n, а затем n строк содержащих время\n",
    "в формате MM:SS и уровень сложности через пробел. \n",
    "    \n",
    "После этого программа принимает на вход сложность новой задачи.\n",
    "\n",
    "В качестве ответа выведите время выполнения новой задачи в формате HH:MM:SS. \n",
    "Когда получите итоговое количество секунд обязательно отбросьте от них остаток с помощью int.\n",
    "\n",
    "В случае если время определить невозможно выведите Мало данных.\n",
    "\n",
    "\n",
    "Sample Input 1:\n",
    "5\n",
    "22:23 2\n",
    "55:33 3\n",
    "15:45 1\n",
    "07:32 1\n",
    "45:00 3\n",
    "1\n",
    "\n",
    "\n",
    "Sample Output 1:\n",
    "00:23:16"
   ]
  },
  {
   "cell_type": "code",
   "execution_count": 1,
   "id": "a4c36f93",
   "metadata": {},
   "outputs": [],
   "source": [
    "s = '22:23 2'"
   ]
  },
  {
   "cell_type": "code",
   "execution_count": 4,
   "id": "657831b0",
   "metadata": {},
   "outputs": [
    {
     "data": {
      "text/plain": [
       "['22:23', '2']"
      ]
     },
     "execution_count": 4,
     "metadata": {},
     "output_type": "execute_result"
    }
   ],
   "source": [
    "ss = s.split()\n",
    "ss"
   ]
  },
  {
   "cell_type": "code",
   "execution_count": 5,
   "id": "ee6b084e",
   "metadata": {},
   "outputs": [],
   "source": [
    "fmt = '%M:%S'"
   ]
  },
  {
   "cell_type": "code",
   "execution_count": 8,
   "id": "0c981f92",
   "metadata": {},
   "outputs": [],
   "source": [
    "# from datetime import time\n",
    "import time"
   ]
  },
  {
   "cell_type": "code",
   "execution_count": 11,
   "id": "44220380",
   "metadata": {},
   "outputs": [
    {
     "data": {
      "text/plain": [
       "time.struct_time(tm_year=1900, tm_mon=1, tm_mday=1, tm_hour=0, tm_min=22, tm_sec=23, tm_wday=0, tm_yday=1, tm_isdst=-1)"
      ]
     },
     "execution_count": 11,
     "metadata": {},
     "output_type": "execute_result"
    }
   ],
   "source": [
    "sss = time.strptime(ss[0], fmt)\n",
    "sss"
   ]
  },
  {
   "cell_type": "code",
   "execution_count": 15,
   "id": "5577d9cb",
   "metadata": {},
   "outputs": [
    {
     "data": {
      "text/plain": [
       "1343"
      ]
     },
     "execution_count": 15,
     "metadata": {},
     "output_type": "execute_result"
    }
   ],
   "source": [
    "total_s = sss.tm_min*60 + sss.tm_sec\n",
    "total_s"
   ]
  },
  {
   "cell_type": "code",
   "execution_count": 16,
   "id": "97c37a4d",
   "metadata": {},
   "outputs": [],
   "source": [
    "d = {}"
   ]
  },
  {
   "cell_type": "code",
   "execution_count": 17,
   "id": "b7d4cd4a",
   "metadata": {},
   "outputs": [],
   "source": [
    "d[ss[1]] = total_s"
   ]
  },
  {
   "cell_type": "code",
   "execution_count": 18,
   "id": "74e464ce",
   "metadata": {},
   "outputs": [
    {
     "data": {
      "text/plain": [
       "{'2': 1343}"
      ]
     },
     "execution_count": 18,
     "metadata": {},
     "output_type": "execute_result"
    }
   ],
   "source": [
    "d"
   ]
  },
  {
   "cell_type": "code",
   "execution_count": null,
   "id": "1867f1b4",
   "metadata": {},
   "outputs": [],
   "source": [
    "8\n",
    "22:23 2\n",
    "55:33 3\n",
    "15:45 1\n",
    "07:32 1\n",
    "45:00 3\n",
    "55:34 3\n",
    "59:40 3\n",
    "58:56 3\n",
    "3"
   ]
  },
  {
   "cell_type": "code",
   "execution_count": 81,
   "id": "cc36d6e1",
   "metadata": {},
   "outputs": [
    {
     "name": "stdout",
     "output_type": "stream",
     "text": [
      "8\n",
      "22:23 2\n",
      "55:33 3\n",
      "15:45 1\n",
      "07:32 1\n",
      "45:00 3\n",
      "55:34 3\n",
      "59:40 3\n",
      "58:56 3\n"
     ]
    },
    {
     "data": {
      "text/plain": [
       "{'2': [1343], '3': [3333, 2700, 3334, 3580, 3536], '1': [945, 452]}"
      ]
     },
     "execution_count": 81,
     "metadata": {},
     "output_type": "execute_result"
    }
   ],
   "source": [
    "\n",
    "d = {}\n",
    "\n",
    "n = int(input())\n",
    "\n",
    "for i in range(n):\n",
    "    s = input()\n",
    "    ss = s.split()\n",
    "    \n",
    "    fmt = '%M:%S'\n",
    "    \n",
    "    sss = time.strptime(ss[0], fmt)\n",
    "    \n",
    "    total_s = sss.tm_min*60 + sss.tm_sec\n",
    "    \n",
    "    if ss[1] not in d:\n",
    "        d[ss[1]] = [total_s]\n",
    "    else:\n",
    "        d[ss[1]] += [total_s]\n",
    "        \n",
    "d    "
   ]
  },
  {
   "cell_type": "code",
   "execution_count": 28,
   "id": "b472528c",
   "metadata": {},
   "outputs": [],
   "source": [
    "import numpy as np"
   ]
  },
  {
   "cell_type": "code",
   "execution_count": 84,
   "id": "e508b7eb",
   "metadata": {},
   "outputs": [
    {
     "data": {
      "text/plain": [
       "6668"
      ]
     },
     "execution_count": 84,
     "metadata": {},
     "output_type": "execute_result"
    }
   ],
   "source": [
    "mediana_total = int(np.median(d['3']))*2\n",
    "mediana_total"
   ]
  },
  {
   "cell_type": "code",
   "execution_count": 87,
   "id": "33ed3d3b",
   "metadata": {},
   "outputs": [
    {
     "data": {
      "text/plain": [
       "1"
      ]
     },
     "execution_count": 87,
     "metadata": {},
     "output_type": "execute_result"
    }
   ],
   "source": [
    "mediana_hour = mediana_total//3600\n",
    "mediana_hour"
   ]
  },
  {
   "cell_type": "code",
   "execution_count": 89,
   "id": "a439d2a2",
   "metadata": {},
   "outputs": [
    {
     "data": {
      "text/plain": [
       "51"
      ]
     },
     "execution_count": 89,
     "metadata": {},
     "output_type": "execute_result"
    }
   ],
   "source": [
    "mediana_min = (mediana_total%3600)//60\n",
    "mediana_min"
   ]
  },
  {
   "cell_type": "code",
   "execution_count": 90,
   "id": "c8d4de13",
   "metadata": {},
   "outputs": [
    {
     "data": {
      "text/plain": [
       "8"
      ]
     },
     "execution_count": 90,
     "metadata": {},
     "output_type": "execute_result"
    }
   ],
   "source": [
    "mediana_sec = (mediana_total%3600)%60\n",
    "mediana_sec"
   ]
  },
  {
   "cell_type": "code",
   "execution_count": 73,
   "id": "2fe489ed",
   "metadata": {},
   "outputs": [],
   "source": [
    "import time"
   ]
  },
  {
   "cell_type": "code",
   "execution_count": 96,
   "id": "028c93f1",
   "metadata": {},
   "outputs": [],
   "source": [
    "from datetime import time as dtime\n",
    "t = dtime(hour = mediana_hour, minute = mediana_min, second=mediana_sec)"
   ]
  },
  {
   "cell_type": "code",
   "execution_count": 101,
   "id": "920d78d8",
   "metadata": {},
   "outputs": [],
   "source": [
    "fmt_2 = '%H:%M:%S'"
   ]
  },
  {
   "cell_type": "code",
   "execution_count": 102,
   "id": "b3743acc",
   "metadata": {},
   "outputs": [
    {
     "data": {
      "text/plain": [
       "'01:51:08'"
      ]
     },
     "execution_count": 102,
     "metadata": {},
     "output_type": "execute_result"
    }
   ],
   "source": [
    "dtime.strftime(t, fmt_2)"
   ]
  },
  {
   "cell_type": "code",
   "execution_count": 72,
   "id": "e55a4b4b",
   "metadata": {},
   "outputs": [
    {
     "data": {
      "text/plain": [
       "datetime.time(0, 23, 16)"
      ]
     },
     "execution_count": 72,
     "metadata": {},
     "output_type": "execute_result"
    }
   ],
   "source": [
    "t"
   ]
  },
  {
   "cell_type": "code",
   "execution_count": null,
   "id": "e436d452",
   "metadata": {},
   "outputs": [],
   "source": []
  },
  {
   "cell_type": "code",
   "execution_count": null,
   "id": "d1def0b7",
   "metadata": {},
   "outputs": [],
   "source": [
    "# окончательное решение на основе того, что проделано выше по действиям:"
   ]
  },
  {
   "cell_type": "code",
   "execution_count": 80,
   "id": "0a4c2f61",
   "metadata": {},
   "outputs": [
    {
     "name": "stdout",
     "output_type": "stream",
     "text": [
      "4\n",
      "55:33 3\n",
      "15:45 1\n",
      "07:32 1\n",
      "45:00 3\n",
      "2\n",
      "Мало данных\n"
     ]
    }
   ],
   "source": [
    "import time as time\n",
    "from datetime import time as dtime\n",
    "import numpy as np\n",
    "\n",
    "d = {}\n",
    "\n",
    "n = int(input())\n",
    "\n",
    "for i in range(n):\n",
    "    s = input()\n",
    "    ss = s.split()\n",
    "    \n",
    "    fmt = '%M:%S'\n",
    "    \n",
    "    sss = time.strptime(ss[0], fmt)\n",
    "    \n",
    "    total_s = sss.tm_min*60 + sss.tm_sec\n",
    "    \n",
    "    if ss[1] not in d:\n",
    "        d[ss[1]] = [total_s]\n",
    "    else:\n",
    "        d[ss[1]] += [total_s]\n",
    "        \n",
    "level = input()\n",
    "\n",
    "if level not in d:\n",
    "    print('Мало данных')\n",
    "else:\n",
    "\n",
    "    mediana_total = int(np.median(d[level]))*2\n",
    "    mediana_hour = mediana_total//3600\n",
    "    mediana_min = (mediana_total%3600)//60\n",
    "    mediana_sec = (mediana_total%3600)%60\n",
    "    \n",
    "\n",
    "    t = dtime(hour = mediana_hour, minute = mediana_min, second=mediana_sec)\n",
    "    fmt_2 = '%H:%M:%S'\n",
    "    res = dtime.strftime(t, fmt_2)\n",
    "\n",
    "    print(res)"
   ]
  },
  {
   "cell_type": "code",
   "execution_count": null,
   "id": "24f397b0",
   "metadata": {},
   "outputs": [],
   "source": [
    "4\n",
    "55:33 3\n",
    "15:45 1\n",
    "07:32 1\n",
    "45:00 3\n",
    "2"
   ]
  },
  {
   "cell_type": "code",
   "execution_count": null,
   "id": "c0dc706d",
   "metadata": {},
   "outputs": [],
   "source": []
  },
  {
   "cell_type": "code",
   "execution_count": 107,
   "id": "a7682973",
   "metadata": {},
   "outputs": [],
   "source": [
    "import time\n",
    "\n",
    "now = time.time()"
   ]
  },
  {
   "cell_type": "code",
   "execution_count": 108,
   "id": "48dcd4c1",
   "metadata": {},
   "outputs": [
    {
     "name": "stdout",
     "output_type": "stream",
     "text": [
      "Sat Oct  7 09:36:10 2023\n"
     ]
    }
   ],
   "source": [
    "print(time.ctime(now))"
   ]
  },
  {
   "cell_type": "code",
   "execution_count": null,
   "id": "60de175a",
   "metadata": {},
   "outputs": [],
   "source": []
  }
 ],
 "metadata": {
  "kernelspec": {
   "display_name": "Python 3 (ipykernel)",
   "language": "python",
   "name": "python3"
  },
  "language_info": {
   "codemirror_mode": {
    "name": "ipython",
    "version": 3
   },
   "file_extension": ".py",
   "mimetype": "text/x-python",
   "name": "python",
   "nbconvert_exporter": "python",
   "pygments_lexer": "ipython3",
   "version": "3.10.0"
  }
 },
 "nbformat": 4,
 "nbformat_minor": 5
}
