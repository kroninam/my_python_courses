{
 "cells": [
  {
   "cell_type": "markdown",
   "id": "ede17011",
   "metadata": {},
   "source": [
    "# Что такое временная зона?"
   ]
  },
  {
   "cell_type": "code",
   "execution_count": 1,
   "id": "9fb67c13",
   "metadata": {},
   "outputs": [
    {
     "name": "stdout",
     "output_type": "stream",
     "text": [
      "Mon Oct  9 13:53:16 2023\n"
     ]
    }
   ],
   "source": [
    "from time import time, ctime\n",
    "\n",
    "t = time()\n",
    "print(ctime(t))"
   ]
  },
  {
   "cell_type": "code",
   "execution_count": null,
   "id": "77722d93",
   "metadata": {},
   "outputs": [],
   "source": []
  },
  {
   "cell_type": "code",
   "execution_count": null,
   "id": "bcc3228e",
   "metadata": {},
   "outputs": [],
   "source": [
    "Временная зона или часовой пояс – участок земной поверхности, где \n",
    "законом установлено определенное время. Это время устанавливается относительно \n",
    "всемирного координированного времени (Universal Time Coordinated) – UTC. \n",
    "Обозначается часовой пояс города или страны так: UTC±hh:mm, где hh обозначает \n",
    "количество часов, а mm количество минут относительно шкалы UTC.\n",
    "\n",
    "Примеры часовых поясов:\n",
    "\n",
    "UTC+3   \t   Москва\n",
    "UTC+1   \t   Лондон\n",
    "UTC-4   \t   Нью-Йорк\n",
    "\n",
    "География на это время влияет, но большее влияние все-таки в современном мире \n",
    "оказывают законы. Именно поэтому часовых поясов может быть больше 24-х."
   ]
  },
  {
   "cell_type": "code",
   "execution_count": null,
   "id": "79a3a94e",
   "metadata": {},
   "outputs": [],
   "source": []
  },
  {
   "cell_type": "markdown",
   "id": "28671275",
   "metadata": {},
   "source": [
    "# datetime.timezone"
   ]
  },
  {
   "cell_type": "code",
   "execution_count": null,
   "id": "2cf55820",
   "metadata": {},
   "outputs": [],
   "source": [
    "Класс datetime.timezone  - это подкласс datetime.tzinfo. \n",
    "\n",
    "Он реализует временную зону фиксированного смещения от таймзоны UTC."
   ]
  },
  {
   "cell_type": "code",
   "execution_count": 2,
   "id": "4a4950df",
   "metadata": {},
   "outputs": [
    {
     "name": "stdout",
     "output_type": "stream",
     "text": [
      "13:00:00+03:00\n"
     ]
    }
   ],
   "source": [
    "# Работать с этим классом очень удобно в случае, если в вашем проекте фиксированная временная зона. \n",
    "# Например, временная зона для московского времени выставляется так:\n",
    "\n",
    "from datetime import timedelta, time, timezone\n",
    "\n",
    "tz = timezone(offset=timedelta(hours=3), name='MSK')\n",
    "\n",
    "t = time(hour=13, minute=0, tzinfo=tz)\n",
    "\n",
    "print(t)  # 13:00:00+03:00"
   ]
  },
  {
   "cell_type": "code",
   "execution_count": 1,
   "id": "0a55ac4f",
   "metadata": {},
   "outputs": [
    {
     "name": "stdout",
     "output_type": "stream",
     "text": [
      "True\n"
     ]
    }
   ],
   "source": [
    "# В чем преимущество использования временных зон для проекта? Время становится \n",
    "# определенным и код становится яснее для понимания. Как мы говорили ранее – \n",
    "# по времени без временной зоны и даты невозможно определить точный момент во \n",
    "# времени, когда произошло событие.\n",
    "\n",
    "# Это означает, что для класса datetime.time в целом бессмысленно использовать \n",
    "# временные зоны, хоть это и дает немного дополнительной информации для разработчика.\n",
    "\n",
    "# С другой стороны, пример ниже может показаться вам полезным для работы, \n",
    "# однако на практике такое сравнение никогда не проводится, так как \n",
    "# разработчики всегда учитывают даты при сравнении.\n",
    "\n",
    "from datetime import timedelta, time, timezone\n",
    "# offset=timedelta(hours=3)\n",
    "tz = timezone(offset=timedelta(hours=3), name='MSK')\n",
    "\n",
    "\n",
    "t = time(hour=13, minute=0, tzinfo=tz)\n",
    "t2 = time(hour=11, minute=0, tzinfo=timezone.utc)\n",
    "\n",
    "print(t < t2) # True"
   ]
  },
  {
   "cell_type": "code",
   "execution_count": 16,
   "id": "7407f4af",
   "metadata": {},
   "outputs": [
    {
     "name": "stdout",
     "output_type": "stream",
     "text": [
      "3:00:00\n"
     ]
    }
   ],
   "source": [
    "print(offset)"
   ]
  },
  {
   "cell_type": "code",
   "execution_count": null,
   "id": "bbe5a54f",
   "metadata": {},
   "outputs": [],
   "source": [
    "Другое дело класс datetime.datetime. \n",
    "Запомните – любой создаваемый в проекте класс datetime.datetime обязательно должен быть с временной зоной!"
   ]
  },
  {
   "cell_type": "code",
   "execution_count": null,
   "id": "43d96737",
   "metadata": {},
   "outputs": [],
   "source": [
    "Если вы не будете следовать этому простому правилу, то скорее всего в вашем \n",
    "проекте появятся очень неочевидные баги, связанные с тем, что наивное время \n",
    "на самом деле создается из разных временных зон. А если это еще и попало в \n",
    "базу данных, то будьте готовы потратить уйму времени на то, \n",
    "чтобы все это исправить (и не факт, что получится).\n",
    "\n",
    "Примеры работы с datetime.datetime:"
   ]
  },
  {
   "cell_type": "code",
   "execution_count": 506,
   "id": "2d643d05",
   "metadata": {},
   "outputs": [
    {
     "name": "stdout",
     "output_type": "stream",
     "text": [
      "False\n",
      "0:25:00\n",
      "2023-10-11 07:00:00+00:00\n"
     ]
    }
   ],
   "source": [
    "from datetime import timezone, timedelta, datetime\n",
    "\n",
    "tz = timezone(offset=timedelta(hours=3), name='MSK')\n",
    "\n",
    "d1 = datetime(year=2023, month=10, day=11, hour=10, tzinfo=tz)\n",
    "d2 = datetime(year=2023, month=10, day=11, hour=9, minute=35, tzinfo=tz)\n",
    "\n",
    "print(d1 < d2)  # False\n",
    "print(d1 - d2)  # 0:25:00\n",
    "\n",
    "# перевести в другую временную зону\n",
    "d3 = d1.astimezone(timezone.utc)\n",
    "print(d3)  # 2023-10-11 07:00:00+00:0"
   ]
  },
  {
   "cell_type": "code",
   "execution_count": 46,
   "id": "8e64648f",
   "metadata": {},
   "outputs": [
    {
     "data": {
      "text/plain": [
       "10800.0"
      ]
     },
     "execution_count": 46,
     "metadata": {},
     "output_type": "execute_result"
    }
   ],
   "source": [
    "d1.tzinfo.utcoffset(d1).total_seconds()"
   ]
  },
  {
   "cell_type": "code",
   "execution_count": null,
   "id": "fb50ab7c",
   "metadata": {},
   "outputs": [],
   "source": []
  },
  {
   "cell_type": "code",
   "execution_count": null,
   "id": "81c9e630",
   "metadata": {},
   "outputs": [],
   "source": []
  },
  {
   "cell_type": "markdown",
   "id": "7853083d",
   "metadata": {},
   "source": [
    "# Задача"
   ]
  },
  {
   "cell_type": "code",
   "execution_count": null,
   "id": "27819052",
   "metadata": {},
   "outputs": [],
   "source": [
    "Цифровой кочевник каждый месяц меняет свое местоположение и, соотвественно,\n",
    "часовой пояс. Дейлики у него проходят каждый день в 13:00+03:00. На вход \n",
    "вашей программе дается часовой пояс в формате UTC. \n",
    "        \n",
    "Выведите для этого часового пояса время дейлика.\n",
    "\n",
    "Sample Input 1:\n",
    "UTC-03:00\n",
    "    \n",
    "Sample Output 1:\n",
    "07:00"
   ]
  },
  {
   "cell_type": "code",
   "execution_count": 556,
   "id": "bab79e57",
   "metadata": {},
   "outputs": [
    {
     "name": "stdout",
     "output_type": "stream",
     "text": [
      "UTC+04:35\n"
     ]
    }
   ],
   "source": [
    "input_tz = input()"
   ]
  },
  {
   "cell_type": "code",
   "execution_count": 557,
   "id": "76b08874",
   "metadata": {},
   "outputs": [
    {
     "data": {
      "text/plain": [
       "4"
      ]
     },
     "execution_count": 557,
     "metadata": {},
     "output_type": "execute_result"
    }
   ],
   "source": [
    "shift_hour = int(input_tz[3:6])\n",
    "shift_hour"
   ]
  },
  {
   "cell_type": "code",
   "execution_count": 558,
   "id": "0701e464",
   "metadata": {},
   "outputs": [
    {
     "data": {
      "text/plain": [
       "35"
      ]
     },
     "execution_count": 558,
     "metadata": {},
     "output_type": "execute_result"
    }
   ],
   "source": [
    "shift_minute = int(input_tz[-2:])\n",
    "shift_minute"
   ]
  },
  {
   "cell_type": "code",
   "execution_count": null,
   "id": "f6f5e5dc",
   "metadata": {},
   "outputs": [],
   "source": []
  },
  {
   "cell_type": "code",
   "execution_count": 563,
   "id": "8001aeb1",
   "metadata": {},
   "outputs": [
    {
     "name": "stdout",
     "output_type": "stream",
     "text": [
      "2023-10-11 13:00:00+03:00\n",
      "2023-10-11 13:00:00+04:35\n",
      "<class 'datetime.timedelta'>\n",
      "<built-in method time of datetime.datetime object at 0x000001B59E2A2E20>\n"
     ]
    }
   ],
   "source": [
    "from datetime import timezone, timedelta, datetime\n",
    "\n",
    "tz = timezone(offset=timedelta(hours=3), name='MSK')\n",
    "new_tz = timezone(offset=timedelta(hours=shift_hour, minutes = shift_minute), name='NEW')\n",
    "\n",
    "\n",
    "d1 = datetime(year=2023, month=10, day=11, hour=13, tzinfo=tz)\n",
    "d2 = datetime(year=2023, month=10, day=11, hour=13, tzinfo=new_tz)\n",
    "\n",
    "print(d1)\n",
    "print(d2)\n",
    "\n",
    "print(type(d2 - d1))\n",
    "print(d1.time)\n",
    "d3 = d1 - (d2 - d1)\n",
    "\n",
    "# timedelta(hours = d2 - d1)"
   ]
  },
  {
   "cell_type": "code",
   "execution_count": 564,
   "id": "d6243666",
   "metadata": {},
   "outputs": [
    {
     "name": "stdout",
     "output_type": "stream",
     "text": [
      "13:00:00\n"
     ]
    }
   ],
   "source": [
    "print(d1.time())"
   ]
  },
  {
   "cell_type": "code",
   "execution_count": 575,
   "id": "08f7b1e5",
   "metadata": {},
   "outputs": [
    {
     "name": "stdout",
     "output_type": "stream",
     "text": [
      "14:35\n"
     ]
    }
   ],
   "source": [
    "fmt = \"%H:%M\"\n",
    "\n",
    "print(time.strftime(d3.time(), fmt))"
   ]
  },
  {
   "cell_type": "code",
   "execution_count": null,
   "id": "93fd6022",
   "metadata": {},
   "outputs": [],
   "source": []
  },
  {
   "cell_type": "code",
   "execution_count": null,
   "id": "74bba56b",
   "metadata": {},
   "outputs": [],
   "source": []
  },
  {
   "cell_type": "code",
   "execution_count": 581,
   "id": "356168fd",
   "metadata": {},
   "outputs": [
    {
     "data": {
      "text/plain": [
       "datetime.time(13, 30)"
      ]
     },
     "execution_count": 581,
     "metadata": {},
     "output_type": "execute_result"
    }
   ],
   "source": [
    "t_start = time(hour = 13, minute = 30)\n",
    "t_start"
   ]
  },
  {
   "cell_type": "code",
   "execution_count": 582,
   "id": "487a45df",
   "metadata": {},
   "outputs": [
    {
     "data": {
      "text/plain": [
       "datetime.time(15, 17)"
      ]
     },
     "execution_count": 582,
     "metadata": {},
     "output_type": "execute_result"
    }
   ],
   "source": [
    "t_end_1 = time(hour = 15, minute = 17)\n",
    "t_end_1"
   ]
  },
  {
   "cell_type": "code",
   "execution_count": 587,
   "id": "25432d95",
   "metadata": {},
   "outputs": [],
   "source": [
    "d1 = datetime(year=2023, month=10, day=11, hour=13, minute = 30, tzinfo=tz)"
   ]
  },
  {
   "cell_type": "code",
   "execution_count": 591,
   "id": "8d22cc84",
   "metadata": {},
   "outputs": [],
   "source": [
    "d2 = datetime(year=2023, month=10, day=11, hour=15, minute = 21, tzinfo=tz)"
   ]
  },
  {
   "cell_type": "code",
   "execution_count": 592,
   "id": "c4df9558",
   "metadata": {},
   "outputs": [
    {
     "name": "stdout",
     "output_type": "stream",
     "text": [
      "1:51:00\n"
     ]
    }
   ],
   "source": [
    "print(d2-d1)"
   ]
  },
  {
   "cell_type": "code",
   "execution_count": null,
   "id": "788c6ceb",
   "metadata": {},
   "outputs": [],
   "source": []
  },
  {
   "cell_type": "code",
   "execution_count": 594,
   "id": "5210f6eb",
   "metadata": {},
   "outputs": [
    {
     "name": "stdout",
     "output_type": "stream",
     "text": [
      "Tue Oct 10 15:37:28 2023\n"
     ]
    }
   ],
   "source": [
    "from time import time, ctime\n",
    "print(ctime(time()))"
   ]
  },
  {
   "cell_type": "markdown",
   "id": "04467f1d",
   "metadata": {},
   "source": [
    "# Задача"
   ]
  },
  {
   "cell_type": "code",
   "execution_count": null,
   "id": "d3880774",
   "metadata": {},
   "outputs": [],
   "source": [
    "Ваш проект работает во временной зоне UTC+03:30, определите для входного времени текущую дату.\n",
    "\n",
    "На вход программе подается дата и время в формате ISO 8601. Нужно определить текущую дату для временной зоны проекта.\n",
    "\n",
    "В качестве ответа выведите дату в формате ISO 8601.\n",
    "\n",
    "\n",
    "Sample Input:\n",
    "2020-01-01T23:31:00+03:00\n",
    "            \n",
    "Sample Output:\n",
    "2020-01-02"
   ]
  },
  {
   "cell_type": "code",
   "execution_count": 596,
   "id": "5d706b33",
   "metadata": {},
   "outputs": [
    {
     "name": "stdout",
     "output_type": "stream",
     "text": [
      "2020-01-01T23:31:00+03:00\n"
     ]
    }
   ],
   "source": [
    "s = input()\n",
    "ss = datetime.fromisoformat(s)"
   ]
  },
  {
   "cell_type": "code",
   "execution_count": 615,
   "id": "acc4fc42",
   "metadata": {},
   "outputs": [
    {
     "data": {
      "text/plain": [
       "datetime.datetime(2020, 1, 1, 23, 31, tzinfo=datetime.timezone(datetime.timedelta(seconds=10800)))"
      ]
     },
     "execution_count": 615,
     "metadata": {},
     "output_type": "execute_result"
    }
   ],
   "source": [
    "ss"
   ]
  },
  {
   "cell_type": "code",
   "execution_count": 619,
   "id": "43225770",
   "metadata": {},
   "outputs": [],
   "source": [
    "new_tz = timezone(offset=timedelta(hours=3, minutes = 30), name='NEW')"
   ]
  },
  {
   "cell_type": "code",
   "execution_count": 620,
   "id": "f496b067",
   "metadata": {},
   "outputs": [],
   "source": [
    "sss = ss.astimezone(new_tz)"
   ]
  },
  {
   "cell_type": "code",
   "execution_count": 624,
   "id": "8e5d81e0",
   "metadata": {},
   "outputs": [
    {
     "name": "stdout",
     "output_type": "stream",
     "text": [
      "2020-01-02\n"
     ]
    }
   ],
   "source": [
    "print(sss.date())"
   ]
  },
  {
   "cell_type": "code",
   "execution_count": null,
   "id": "2d1b7951",
   "metadata": {},
   "outputs": [],
   "source": []
  },
  {
   "cell_type": "markdown",
   "id": "3a6fdda3",
   "metadata": {},
   "source": [
    "# zoneinfo"
   ]
  },
  {
   "cell_type": "code",
   "execution_count": null,
   "id": "5658976e",
   "metadata": {},
   "outputs": [],
   "source": []
  },
  {
   "cell_type": "code",
   "execution_count": null,
   "id": "0c01e1cc",
   "metadata": {},
   "outputs": [],
   "source": []
  },
  {
   "cell_type": "code",
   "execution_count": null,
   "id": "f1b510f5",
   "metadata": {},
   "outputs": [],
   "source": []
  },
  {
   "cell_type": "code",
   "execution_count": null,
   "id": "56626dfd",
   "metadata": {},
   "outputs": [],
   "source": []
  },
  {
   "cell_type": "code",
   "execution_count": null,
   "id": "29bb2118",
   "metadata": {},
   "outputs": [],
   "source": []
  },
  {
   "cell_type": "markdown",
   "id": "3a70e555",
   "metadata": {},
   "source": [
    "# Задача"
   ]
  },
  {
   "cell_type": "code",
   "execution_count": null,
   "id": "f31360aa",
   "metadata": {},
   "outputs": [],
   "source": [
    "На вход программе поступает время с таймзоной в формате UTC. \n",
    "Нужно определить и вывести таймзоны IANA, которые эквивалентны заданной таймзоне.\n",
    "\n",
    "Sample Input:\n",
    "\n",
    "06:00+03:00\n",
    "        \n",
    "        \n",
    "Sample Output:\n",
    "\n",
    "Africa/Addis_Ababa Africa/Asmara Africa/Asmera Africa/Dar_es_Salaam Africa/\n",
    "Djibouti Africa/Kampala Africa/Mogadishu Africa/Nairobi Antarctica/Syowa \n",
    "Asia/Aden Asia/Baghdad Asia/Bahrain Asia/Kuwait Asia/Qatar Asia/Riyadh \n",
    "Etc/GMT-3 Europe/Astrakhan Europe/Kirov Europe/Moscow Europe/Saratov \n",
    "Europe/Ulyanovsk Europe/Volgograd Indian/Antananarivo Indian/Comoro \n",
    "Indian/Mayotte W-SU"
   ]
  },
  {
   "cell_type": "code",
   "execution_count": 650,
   "id": "dacca967",
   "metadata": {},
   "outputs": [
    {
     "name": "stdout",
     "output_type": "stream",
     "text": [
      "06:00+03:00\n"
     ]
    }
   ],
   "source": [
    "s = ((input().split('+')))"
   ]
  },
  {
   "cell_type": "code",
   "execution_count": 657,
   "id": "07a4ee71",
   "metadata": {},
   "outputs": [
    {
     "data": {
      "text/plain": [
       "['06:00', '03:00']"
      ]
     },
     "execution_count": 657,
     "metadata": {},
     "output_type": "execute_result"
    }
   ],
   "source": [
    "s"
   ]
  },
  {
   "cell_type": "code",
   "execution_count": 662,
   "id": "543b6716",
   "metadata": {},
   "outputs": [
    {
     "data": {
      "text/plain": [
       "'+03:00'"
      ]
     },
     "execution_count": 662,
     "metadata": {},
     "output_type": "execute_result"
    }
   ],
   "source": [
    "'+'+s[1]"
   ]
  },
  {
   "cell_type": "code",
   "execution_count": 627,
   "id": "f855a34c",
   "metadata": {},
   "outputs": [],
   "source": [
    "# Скачиваем выгрузку с сайта https://www.timeapi.io/documentation/iana-timezones\n",
    "# в формате html\n",
    "\n",
    "import pandas as pd"
   ]
  },
  {
   "cell_type": "code",
   "execution_count": 628,
   "id": "0d55d9b4",
   "metadata": {},
   "outputs": [],
   "source": [
    "_lst = pd.read_html('TimeAPI _ IANA Timezones.html')"
   ]
  },
  {
   "cell_type": "code",
   "execution_count": 636,
   "id": "39fc7ec4",
   "metadata": {},
   "outputs": [
    {
     "data": {
      "text/html": [
       "<div>\n",
       "<style scoped>\n",
       "    .dataframe tbody tr th:only-of-type {\n",
       "        vertical-align: middle;\n",
       "    }\n",
       "\n",
       "    .dataframe tbody tr th {\n",
       "        vertical-align: top;\n",
       "    }\n",
       "\n",
       "    .dataframe thead th {\n",
       "        text-align: right;\n",
       "    }\n",
       "</style>\n",
       "<table border=\"1\" class=\"dataframe\">\n",
       "  <thead>\n",
       "    <tr style=\"text-align: right;\">\n",
       "      <th></th>\n",
       "      <th>IANA Time Zone</th>\n",
       "      <th>UTC offset (STD)</th>\n",
       "      <th>UTC offset (DST)</th>\n",
       "      <th>Abbreviation (STD)</th>\n",
       "      <th>Abbreviation (DST)</th>\n",
       "    </tr>\n",
       "  </thead>\n",
       "  <tbody>\n",
       "    <tr>\n",
       "      <th>0</th>\n",
       "      <td>Africa/Abidjan</td>\n",
       "      <td>+00:00</td>\n",
       "      <td>NaN</td>\n",
       "      <td>GMT</td>\n",
       "      <td>NaN</td>\n",
       "    </tr>\n",
       "    <tr>\n",
       "      <th>1</th>\n",
       "      <td>Africa/Accra</td>\n",
       "      <td>+00:00</td>\n",
       "      <td>NaN</td>\n",
       "      <td>GMT</td>\n",
       "      <td>NaN</td>\n",
       "    </tr>\n",
       "    <tr>\n",
       "      <th>2</th>\n",
       "      <td>Africa/Addis_Ababa</td>\n",
       "      <td>+03:00</td>\n",
       "      <td>NaN</td>\n",
       "      <td>EAT</td>\n",
       "      <td>NaN</td>\n",
       "    </tr>\n",
       "    <tr>\n",
       "      <th>3</th>\n",
       "      <td>Africa/Algiers</td>\n",
       "      <td>+01:00</td>\n",
       "      <td>NaN</td>\n",
       "      <td>CET</td>\n",
       "      <td>NaN</td>\n",
       "    </tr>\n",
       "    <tr>\n",
       "      <th>4</th>\n",
       "      <td>Africa/Asmara</td>\n",
       "      <td>+03:00</td>\n",
       "      <td>NaN</td>\n",
       "      <td>EAT</td>\n",
       "      <td>NaN</td>\n",
       "    </tr>\n",
       "    <tr>\n",
       "      <th>...</th>\n",
       "      <td>...</td>\n",
       "      <td>...</td>\n",
       "      <td>...</td>\n",
       "      <td>...</td>\n",
       "      <td>...</td>\n",
       "    </tr>\n",
       "    <tr>\n",
       "      <th>590</th>\n",
       "      <td>US/Samoa</td>\n",
       "      <td>-11:00</td>\n",
       "      <td>NaN</td>\n",
       "      <td>SST</td>\n",
       "      <td>NaN</td>\n",
       "    </tr>\n",
       "    <tr>\n",
       "      <th>591</th>\n",
       "      <td>UTC</td>\n",
       "      <td>+00:00</td>\n",
       "      <td>NaN</td>\n",
       "      <td>UTC</td>\n",
       "      <td>NaN</td>\n",
       "    </tr>\n",
       "    <tr>\n",
       "      <th>592</th>\n",
       "      <td>W-SU</td>\n",
       "      <td>+03:00</td>\n",
       "      <td>NaN</td>\n",
       "      <td>MSK</td>\n",
       "      <td>NaN</td>\n",
       "    </tr>\n",
       "    <tr>\n",
       "      <th>593</th>\n",
       "      <td>WET</td>\n",
       "      <td>+00:00</td>\n",
       "      <td>+01:00</td>\n",
       "      <td>WET</td>\n",
       "      <td>WEST</td>\n",
       "    </tr>\n",
       "    <tr>\n",
       "      <th>594</th>\n",
       "      <td>Zulu</td>\n",
       "      <td>+00:00</td>\n",
       "      <td>NaN</td>\n",
       "      <td>UTC</td>\n",
       "      <td>NaN</td>\n",
       "    </tr>\n",
       "  </tbody>\n",
       "</table>\n",
       "<p>595 rows × 5 columns</p>\n",
       "</div>"
      ],
      "text/plain": [
       "         IANA Time Zone UTC offset (STD) UTC offset (DST) Abbreviation (STD)  \\\n",
       "0        Africa/Abidjan           +00:00              NaN                GMT   \n",
       "1          Africa/Accra           +00:00              NaN                GMT   \n",
       "2    Africa/Addis_Ababa           +03:00              NaN                EAT   \n",
       "3        Africa/Algiers           +01:00              NaN                CET   \n",
       "4         Africa/Asmara           +03:00              NaN                EAT   \n",
       "..                  ...              ...              ...                ...   \n",
       "590            US/Samoa           -11:00              NaN                SST   \n",
       "591                 UTC           +00:00              NaN                UTC   \n",
       "592                W-SU           +03:00              NaN                MSK   \n",
       "593                 WET           +00:00           +01:00                WET   \n",
       "594                Zulu           +00:00              NaN                UTC   \n",
       "\n",
       "    Abbreviation (DST)  \n",
       "0                  NaN  \n",
       "1                  NaN  \n",
       "2                  NaN  \n",
       "3                  NaN  \n",
       "4                  NaN  \n",
       "..                 ...  \n",
       "590                NaN  \n",
       "591                NaN  \n",
       "592                NaN  \n",
       "593               WEST  \n",
       "594                NaN  \n",
       "\n",
       "[595 rows x 5 columns]"
      ]
     },
     "execution_count": 636,
     "metadata": {},
     "output_type": "execute_result"
    }
   ],
   "source": [
    "_lst[0]"
   ]
  },
  {
   "cell_type": "code",
   "execution_count": 670,
   "id": "62c75695",
   "metadata": {},
   "outputs": [
    {
     "name": "stdout",
     "output_type": "stream",
     "text": [
      "Africa/Addis_Ababa Africa/Asmara Africa/Asmera Africa/Dar_es_Salaam Africa/Djibouti Africa/Kampala Africa/Mogadishu Africa/Nairobi Antarctica/Syowa Asia/Aden Asia/Amman Asia/Baghdad Asia/Bahrain Asia/Damascus Asia/Istanbul Asia/Kuwait Asia/Qatar Asia/Riyadh Etc/GMT-3 Europe/Istanbul Europe/Kirov Europe/Minsk Europe/Moscow Europe/Simferopol Europe/Volgograd Indian/Antananarivo Indian/Comoro Indian/Mayotte Turkey W-SU\n"
     ]
    }
   ],
   "source": [
    "print(*sorted(list(_lst[0]['IANA Time Zone'][_lst[0]['UTC offset (STD)'] == '+'+s[1]])))"
   ]
  },
  {
   "cell_type": "code",
   "execution_count": null,
   "id": "d1dc76b5",
   "metadata": {},
   "outputs": [],
   "source": []
  },
  {
   "cell_type": "code",
   "execution_count": 674,
   "id": "28f54f7c",
   "metadata": {},
   "outputs": [],
   "source": [
    "_lst = pd.read_html('https://www.timeapi.io/documentation/iana-timezones')"
   ]
  },
  {
   "cell_type": "code",
   "execution_count": 675,
   "id": "8f4a6ddc",
   "metadata": {},
   "outputs": [
    {
     "data": {
      "text/html": [
       "<div>\n",
       "<style scoped>\n",
       "    .dataframe tbody tr th:only-of-type {\n",
       "        vertical-align: middle;\n",
       "    }\n",
       "\n",
       "    .dataframe tbody tr th {\n",
       "        vertical-align: top;\n",
       "    }\n",
       "\n",
       "    .dataframe thead th {\n",
       "        text-align: right;\n",
       "    }\n",
       "</style>\n",
       "<table border=\"1\" class=\"dataframe\">\n",
       "  <thead>\n",
       "    <tr style=\"text-align: right;\">\n",
       "      <th></th>\n",
       "      <th>IANA Time Zone</th>\n",
       "      <th>UTC offset (STD)</th>\n",
       "      <th>UTC offset (DST)</th>\n",
       "      <th>Abbreviation (STD)</th>\n",
       "      <th>Abbreviation (DST)</th>\n",
       "    </tr>\n",
       "  </thead>\n",
       "  <tbody>\n",
       "    <tr>\n",
       "      <th>0</th>\n",
       "      <td>Africa/Abidjan</td>\n",
       "      <td>+00:00</td>\n",
       "      <td>NaN</td>\n",
       "      <td>GMT</td>\n",
       "      <td>NaN</td>\n",
       "    </tr>\n",
       "    <tr>\n",
       "      <th>1</th>\n",
       "      <td>Africa/Accra</td>\n",
       "      <td>+00:00</td>\n",
       "      <td>NaN</td>\n",
       "      <td>GMT</td>\n",
       "      <td>NaN</td>\n",
       "    </tr>\n",
       "    <tr>\n",
       "      <th>2</th>\n",
       "      <td>Africa/Addis_Ababa</td>\n",
       "      <td>+03:00</td>\n",
       "      <td>NaN</td>\n",
       "      <td>EAT</td>\n",
       "      <td>NaN</td>\n",
       "    </tr>\n",
       "    <tr>\n",
       "      <th>3</th>\n",
       "      <td>Africa/Algiers</td>\n",
       "      <td>+01:00</td>\n",
       "      <td>NaN</td>\n",
       "      <td>CET</td>\n",
       "      <td>NaN</td>\n",
       "    </tr>\n",
       "    <tr>\n",
       "      <th>4</th>\n",
       "      <td>Africa/Asmara</td>\n",
       "      <td>+03:00</td>\n",
       "      <td>NaN</td>\n",
       "      <td>EAT</td>\n",
       "      <td>NaN</td>\n",
       "    </tr>\n",
       "    <tr>\n",
       "      <th>...</th>\n",
       "      <td>...</td>\n",
       "      <td>...</td>\n",
       "      <td>...</td>\n",
       "      <td>...</td>\n",
       "      <td>...</td>\n",
       "    </tr>\n",
       "    <tr>\n",
       "      <th>590</th>\n",
       "      <td>US/Samoa</td>\n",
       "      <td>-11:00</td>\n",
       "      <td>NaN</td>\n",
       "      <td>SST</td>\n",
       "      <td>NaN</td>\n",
       "    </tr>\n",
       "    <tr>\n",
       "      <th>591</th>\n",
       "      <td>UTC</td>\n",
       "      <td>+00:00</td>\n",
       "      <td>NaN</td>\n",
       "      <td>UTC</td>\n",
       "      <td>NaN</td>\n",
       "    </tr>\n",
       "    <tr>\n",
       "      <th>592</th>\n",
       "      <td>W-SU</td>\n",
       "      <td>+03:00</td>\n",
       "      <td>NaN</td>\n",
       "      <td>MSK</td>\n",
       "      <td>NaN</td>\n",
       "    </tr>\n",
       "    <tr>\n",
       "      <th>593</th>\n",
       "      <td>WET</td>\n",
       "      <td>+00:00</td>\n",
       "      <td>+01:00</td>\n",
       "      <td>WET</td>\n",
       "      <td>WEST</td>\n",
       "    </tr>\n",
       "    <tr>\n",
       "      <th>594</th>\n",
       "      <td>Zulu</td>\n",
       "      <td>+00:00</td>\n",
       "      <td>NaN</td>\n",
       "      <td>UTC</td>\n",
       "      <td>NaN</td>\n",
       "    </tr>\n",
       "  </tbody>\n",
       "</table>\n",
       "<p>595 rows × 5 columns</p>\n",
       "</div>"
      ],
      "text/plain": [
       "         IANA Time Zone UTC offset (STD) UTC offset (DST) Abbreviation (STD)  \\\n",
       "0        Africa/Abidjan           +00:00              NaN                GMT   \n",
       "1          Africa/Accra           +00:00              NaN                GMT   \n",
       "2    Africa/Addis_Ababa           +03:00              NaN                EAT   \n",
       "3        Africa/Algiers           +01:00              NaN                CET   \n",
       "4         Africa/Asmara           +03:00              NaN                EAT   \n",
       "..                  ...              ...              ...                ...   \n",
       "590            US/Samoa           -11:00              NaN                SST   \n",
       "591                 UTC           +00:00              NaN                UTC   \n",
       "592                W-SU           +03:00              NaN                MSK   \n",
       "593                 WET           +00:00           +01:00                WET   \n",
       "594                Zulu           +00:00              NaN                UTC   \n",
       "\n",
       "    Abbreviation (DST)  \n",
       "0                  NaN  \n",
       "1                  NaN  \n",
       "2                  NaN  \n",
       "3                  NaN  \n",
       "4                  NaN  \n",
       "..                 ...  \n",
       "590                NaN  \n",
       "591                NaN  \n",
       "592                NaN  \n",
       "593               WEST  \n",
       "594                NaN  \n",
       "\n",
       "[595 rows x 5 columns]"
      ]
     },
     "execution_count": 675,
     "metadata": {},
     "output_type": "execute_result"
    }
   ],
   "source": [
    "_lst[0]"
   ]
  },
  {
   "cell_type": "code",
   "execution_count": 678,
   "id": "ccfd7ae3",
   "metadata": {},
   "outputs": [],
   "source": [
    "lst_offset = list(_lst[0]['UTC offset (STD)'])"
   ]
  },
  {
   "cell_type": "code",
   "execution_count": 717,
   "id": "07d6f91d",
   "metadata": {},
   "outputs": [],
   "source": [
    "lst_abbr = list(_lst[0]['Abbreviation (STD)'])"
   ]
  },
  {
   "cell_type": "code",
   "execution_count": 681,
   "id": "d26b9f40",
   "metadata": {},
   "outputs": [
    {
     "name": "stdout",
     "output_type": "stream",
     "text": [
      "['+00:00', '+00:00', '+03:00', '+01:00', '+03:00', '+03:00', '+00:00', '+01:00', '+00:00', '+00:00', '+02:00', '+01:00', '+02:00', '+02:00', '+01:00', '+01:00', '+00:00', '+00:00', '+03:00', '+03:00', '+01:00', '+01:00', '+00:00', '+02:00', '+02:00', '+02:00', '+02:00', '+03:00', '+02:00', '+02:00', '+01:00', '+01:00', '+01:00', '+00:00', '+01:00', '+02:00', '+02:00', '+01:00', '+02:00', '+02:00', '+02:00', '+03:00', '+00:00', '+03:00', '+01:00', '+01:00', '+00:00', '+00:00', '+01:00', '+00:00', '+00:00', '+02:00', '+01:00', '+02:00', '-10:00', '-09:00', '-04:00', '-04:00', '-03:00', '-03:00', '-03:00', '-03:00', '-03:00', '-03:00', '-03:00', '-03:00', '-03:00', '-03:00', '-03:00', '-03:00', '-03:00', '-03:00', '-04:00', '-04:00', '-05:00', '-10:00', '-03:00', '-06:00', '-04:00', '-03:00', '-06:00', '-04:00', '-04:00', '-05:00', '-07:00', '-03:00', '-07:00', '-04:00', '-05:00', '-04:00', '-03:00', '-03:00', '-05:00', '-06:00', '-06:00', '-05:00', '-03:00', '-06:00', '-07:00', '-04:00', '-04:00', '+00:00', '-07:00', '-07:00', '-07:00', '-05:00', '-04:00', '-07:00', '-05:00', '-06:00', '-08:00', '-07:00', '-05:00', '-03:00', '-04:00', '-03:00', '-04:00', '-05:00', '-04:00', '-04:00', '-06:00', '-05:00', '-04:00', '-04:00', '-05:00', '-07:00', '-05:00', '-06:00', '-05:00', '-05:00', '-06:00', '-05:00', '-05:00', '-05:00', '-05:00', '-07:00', '-05:00', '-05:00', '-03:00', '-09:00', '-05:00', '-05:00', '-06:00', '-04:00', '-04:00', '-05:00', '-08:00', '-05:00', '-04:00', '-03:00', '-06:00', '-04:00', '-04:00', '-04:00', '-06:00', '-07:00', '-03:00', '-06:00', '-06:00', '-09:00', '-06:00', '-03:00', '-04:00', '-06:00', '-03:00', '-05:00', '-04:00', '-05:00', '-05:00', '-05:00', '-09:00', '-02:00', '-06:00', '-06:00', '-06:00', '-03:00', '-06:00', '-05:00', '-05:00', '-03:00', '-07:00', '-04:00', '-05:00', '-05:00', '-04:00', '-04:00', '-03:00', '-06:00', '-06:00', '-03:00', '-06:00', '-06:00', '-05:00', '-03:00', '-08:00', '-03:00', '-04:00', '-04:00', '-03:00', '-01:00', '-07:00', '-09:00', '-04:00', '-03:30', '-04:00', '-04:00', '-04:00', '-04:00', '-06:00', '-06:00', '-04:00', '-05:00', '-08:00', '-05:00', '-04:00', '-08:00', '-04:00', '-07:00', '-06:00', '-09:00', '-07:00', '+11:00', '+07:00', '+10:00', '+10:00', '+05:00', '+12:00', '-03:00', '-03:00', '+12:00', '+03:00', '+00:00', '+06:00', '+01:00', '+03:00', '+06:00', '+03:00', '+12:00', '+05:00', '+05:00', '+05:00', '+05:00', '+05:00', '+03:00', '+03:00', '+04:00', '+07:00', '+07:00', '+02:00', '+06:00', '+08:00', '+05:30', '+09:00', '+08:00', '+08:00', '+08:00', '+05:30', '+06:00', '+03:00', '+06:00', '+09:00', '+04:00', '+05:00', '+02:00', '+02:00', '+08:00', '+02:00', '+07:00', '+08:00', '+07:00', '+08:00', '+03:00', '+07:00', '+09:00', '+02:00', '+04:30', '+12:00', '+05:00', '+06:00', '+05:45', '+05:45', '+09:00', '+05:30', '+07:00', '+08:00', '+08:00', '+03:00', '+08:00', '+08:00', '+11:00', '+08:00', '+08:00', '+04:00', '+02:00', '+07:00', '+07:00', '+06:00', '+05:00', '+07:00', '+07:00', '+09:00', '+03:00', '+06:00', '+05:00', '+06:30', '+03:00', '+07:00', '+11:00', '+05:00', '+09:00', '+08:00', '+08:00', '+11:00', '+08:00', '+05:00', '+04:00', '+03:30', '+02:00', '+06:00', '+06:00', '+09:00', '+07:00', '+08:00', '+08:00', '+08:00', '+06:00', '+10:00', '+07:00', '+10:00', '+09:00', '+06:30', '+05:00', '+04:00', '-01:00', '-04:00', '+00:00', '-01:00', '+00:00', '+00:00', '+01:00', '+00:00', '+00:00', '-02:00', '+00:00', '-03:00', '+10:00', '+09:30', '+10:00', '+09:30', '+10:00', '+10:00', '+09:30', '+08:45', '+10:00', '+10:30', '+10:00', '+10:30', '+10:00', '+09:30', '+10:00', '+08:00', '+10:00', '+09:30', '+10:00', '+10:00', '+10:00', '+08:00', '+09:30', '-05:00', '-02:00', '-03:00', '-04:00', '-04:00', '-06:00', '-05:00', '-07:00', '-03:30', '-08:00', '-06:00', '-07:00', '+01:00', '-04:00', '-06:00', '-06:00', '-05:00', '+02:00', '+02:00', '+01:00', '-05:00', '-05:00', '+00:00', '+00:00', '+01:00', '+10:00', '+11:00', '+12:00', '+13:00', '+14:00', '+02:00', '+03:00', '+04:00', '+05:00', '+06:00', '+07:00', '+08:00', '+09:00', '+00:00', '-01:00', '-10:00', '-11:00', '-12:00', '-02:00', '-03:00', '-04:00', '-05:00', '-06:00', '-07:00', '-08:00', '-09:00', '+00:00', '+00:00', '+00:00', '+00:00', '+00:00', '+00:00', '+01:00', '+01:00', '+04:00', '+02:00', '+00:00', '+01:00', '+01:00', '+01:00', '+01:00', '+02:00', '+01:00', '+01:00', '+02:00', '+01:00', '+01:00', '+01:00', '+00:00', '+02:00', '+00:00', '+03:00', '+00:00', '+02:00', '+02:00', '+03:00', '+02:00', '+00:00', '+01:00', '+00:00', '+01:00', '+01:00', '+01:00', '+02:00', '+03:00', '+01:00', '+03:00', '+02:00', '+01:00', '+01:00', '+01:00', '+01:00', '+02:00', '+01:00', '+04:00', '+01:00', '+01:00', '+04:00', '+03:00', '+01:00', '+02:00', '+01:00', '+02:00', '+01:00', '+02:00', '+04:00', '+02:00', '+01:00', '+01:00', '+01:00', '+02:00', '+03:00', '+01:00', '+01:00', '+02:00', '+01:00', '+00:00', '+00:00', '+00:00', '+00:00', '+00:00', '+00:00', '+00:00', '+08:00', '-10:00', '+00:00', '+03:00', '+06:00', '+07:00', '+06:30', '+03:00', '+05:00', '+04:00', '+05:00', '+04:00', '+03:00', '+04:00', '+03:30', '+02:00', '-05:00', '+09:00', '+12:00', '+02:00', '+01:00', '-08:00', '-07:00', '-06:00', '-07:00', '-07:00', '-07:00', '+12:00', '+12:45', '+13:00', '+12:00', '+11:00', '+12:45', '+10:00', '-06:00', '+11:00', '+13:00', '+13:00', '+12:00', '+12:00', '-06:00', '-09:00', '+11:00', '+10:00', '-10:00', '-10:00', '+13:00', '+14:00', '+11:00', '+12:00', '+12:00', '-09:30', '-11:00', '+12:00', '-11:00', '+11:00', '+11:00', '-11:00', '+09:00', '-08:00', '+11:00', '+11:00', '+10:00', '-10:00', '+10:00', '-11:00', '-10:00', '+12:00', '+13:00', '+10:00', '+12:00', '+12:00', '+10:00', '+01:00', '+00:00', '+08:00', '-08:00', '+08:00', '+09:00', '+08:00', '+03:00', '+00:00', '+00:00', '-09:00', '-10:00', '-07:00', '-06:00', '-05:00', '-05:00', '-10:00', '-06:00', '-05:00', '-07:00', '-08:00', '-11:00', '+00:00', '+03:00', '+00:00', '+00:00']\n"
     ]
    }
   ],
   "source": [
    "print(lst_offset)"
   ]
  },
  {
   "cell_type": "code",
   "execution_count": 683,
   "id": "be3837e3",
   "metadata": {},
   "outputs": [],
   "source": [
    "lst_zone = list(_lst[0]['IANA Time Zone'])"
   ]
  },
  {
   "cell_type": "code",
   "execution_count": 684,
   "id": "52002310",
   "metadata": {},
   "outputs": [
    {
     "name": "stdout",
     "output_type": "stream",
     "text": [
      "['Africa/Abidjan', 'Africa/Accra', 'Africa/Addis_Ababa', 'Africa/Algiers', 'Africa/Asmara', 'Africa/Asmera', 'Africa/Bamako', 'Africa/Bangui', 'Africa/Banjul', 'Africa/Bissau', 'Africa/Blantyre', 'Africa/Brazzaville', 'Africa/Bujumbura', 'Africa/Cairo', 'Africa/Casablanca', 'Africa/Ceuta', 'Africa/Conakry', 'Africa/Dakar', 'Africa/Dar_es_Salaam', 'Africa/Djibouti', 'Africa/Douala', 'Africa/El_Aaiun', 'Africa/Freetown', 'Africa/Gaborone', 'Africa/Harare', 'Africa/Johannesburg', 'Africa/Juba', 'Africa/Kampala', 'Africa/Khartoum', 'Africa/Kigali', 'Africa/Kinshasa', 'Africa/Lagos', 'Africa/Libreville', 'Africa/Lome', 'Africa/Luanda', 'Africa/Lubumbashi', 'Africa/Lusaka', 'Africa/Malabo', 'Africa/Maputo', 'Africa/Maseru', 'Africa/Mbabane', 'Africa/Mogadishu', 'Africa/Monrovia', 'Africa/Nairobi', 'Africa/Ndjamena', 'Africa/Niamey', 'Africa/Nouakchott', 'Africa/Ouagadougou', 'Africa/Porto-Novo', 'Africa/Sao_Tome', 'Africa/Timbuktu', 'Africa/Tripoli', 'Africa/Tunis', 'Africa/Windhoek', 'America/Adak', 'America/Anchorage', 'America/Anguilla', 'America/Antigua', 'America/Araguaina', 'America/Argentina/Buenos_Aires', 'America/Argentina/Catamarca', 'America/Argentina/ComodRivadavia', 'America/Argentina/Cordoba', 'America/Argentina/Jujuy', 'America/Argentina/La_Rioja', 'America/Argentina/Mendoza', 'America/Argentina/Rio_Gallegos', 'America/Argentina/Salta', 'America/Argentina/San_Juan', 'America/Argentina/San_Luis', 'America/Argentina/Tucuman', 'America/Argentina/Ushuaia', 'America/Aruba', 'America/Asuncion', 'America/Atikokan', 'America/Atka', 'America/Bahia', 'America/Bahia_Banderas', 'America/Barbados', 'America/Belem', 'America/Belize', 'America/Blanc-Sablon', 'America/Boa_Vista', 'America/Bogota', 'America/Boise', 'America/Buenos_Aires', 'America/Cambridge_Bay', 'America/Campo_Grande', 'America/Cancun', 'America/Caracas', 'America/Catamarca', 'America/Cayenne', 'America/Cayman', 'America/Chicago', 'America/Chihuahua', 'America/Coral_Harbour', 'America/Cordoba', 'America/Costa_Rica', 'America/Creston', 'America/Cuiaba', 'America/Curacao', 'America/Danmarkshavn', 'America/Dawson', 'America/Dawson_Creek', 'America/Denver', 'America/Detroit', 'America/Dominica', 'America/Edmonton', 'America/Eirunepe', 'America/El_Salvador', 'America/Ensenada', 'America/Fort_Nelson', 'America/Fort_Wayne', 'America/Fortaleza', 'America/Glace_Bay', 'America/Godthab', 'America/Goose_Bay', 'America/Grand_Turk', 'America/Grenada', 'America/Guadeloupe', 'America/Guatemala', 'America/Guayaquil', 'America/Guyana', 'America/Halifax', 'America/Havana', 'America/Hermosillo', 'America/Indiana/Indianapolis', 'America/Indiana/Knox', 'America/Indiana/Marengo', 'America/Indiana/Petersburg', 'America/Indiana/Tell_City', 'America/Indiana/Vevay', 'America/Indiana/Vincennes', 'America/Indiana/Winamac', 'America/Indianapolis', 'America/Inuvik', 'America/Iqaluit', 'America/Jamaica', 'America/Jujuy', 'America/Juneau', 'America/Kentucky/Louisville', 'America/Kentucky/Monticello', 'America/Knox_IN', 'America/Kralendijk', 'America/La_Paz', 'America/Lima', 'America/Los_Angeles', 'America/Louisville', 'America/Lower_Princes', 'America/Maceio', 'America/Managua', 'America/Manaus', 'America/Marigot', 'America/Martinique', 'America/Matamoros', 'America/Mazatlan', 'America/Mendoza', 'America/Menominee', 'America/Merida', 'America/Metlakatla', 'America/Mexico_City', 'America/Miquelon', 'America/Moncton', 'America/Monterrey', 'America/Montevideo', 'America/Montreal', 'America/Montserrat', 'America/Nassau', 'America/New_York', 'America/Nipigon', 'America/Nome', 'America/Noronha', 'America/North_Dakota/Beulah', 'America/North_Dakota/Center', 'America/North_Dakota/New_Salem', 'America/Nuuk', 'America/Ojinaga', 'America/Panama', 'America/Pangnirtung', 'America/Paramaribo', 'America/Phoenix', 'America/Port_of_Spain', 'America/Port-au-Prince', 'America/Porto_Acre', 'America/Porto_Velho', 'America/Puerto_Rico', 'America/Punta_Arenas', 'America/Rainy_River', 'America/Rankin_Inlet', 'America/Recife', 'America/Regina', 'America/Resolute', 'America/Rio_Branco', 'America/Rosario', 'America/Santa_Isabel', 'America/Santarem', 'America/Santiago', 'America/Santo_Domingo', 'America/Sao_Paulo', 'America/Scoresbysund', 'America/Shiprock', 'America/Sitka', 'America/St_Barthelemy', 'America/St_Johns', 'America/St_Kitts', 'America/St_Lucia', 'America/St_Thomas', 'America/St_Vincent', 'America/Swift_Current', 'America/Tegucigalpa', 'America/Thule', 'America/Thunder_Bay', 'America/Tijuana', 'America/Toronto', 'America/Tortola', 'America/Vancouver', 'America/Virgin', 'America/Whitehorse', 'America/Winnipeg', 'America/Yakutat', 'America/Yellowknife', 'Antarctica/Casey', 'Antarctica/Davis', 'Antarctica/DumontDUrville', 'Antarctica/Macquarie', 'Antarctica/Mawson', 'Antarctica/McMurdo', 'Antarctica/Palmer', 'Antarctica/Rothera', 'Antarctica/South_Pole', 'Antarctica/Syowa', 'Antarctica/Troll', 'Antarctica/Vostok', 'Arctic/Longyearbyen', 'Asia/Aden', 'Asia/Almaty', 'Asia/Amman', 'Asia/Anadyr', 'Asia/Aqtau', 'Asia/Aqtobe', 'Asia/Ashgabat', 'Asia/Ashkhabad', 'Asia/Atyrau', 'Asia/Baghdad', 'Asia/Bahrain', 'Asia/Baku', 'Asia/Bangkok', 'Asia/Barnaul', 'Asia/Beirut', 'Asia/Bishkek', 'Asia/Brunei', 'Asia/Calcutta', 'Asia/Chita', 'Asia/Choibalsan', 'Asia/Chongqing', 'Asia/Chungking', 'Asia/Colombo', 'Asia/Dacca', 'Asia/Damascus', 'Asia/Dhaka', 'Asia/Dili', 'Asia/Dubai', 'Asia/Dushanbe', 'Asia/Famagusta', 'Asia/Gaza', 'Asia/Harbin', 'Asia/Hebron', 'Asia/Ho_Chi_Minh', 'Asia/Hong_Kong', 'Asia/Hovd', 'Asia/Irkutsk', 'Asia/Istanbul', 'Asia/Jakarta', 'Asia/Jayapura', 'Asia/Jerusalem', 'Asia/Kabul', 'Asia/Kamchatka', 'Asia/Karachi', 'Asia/Kashgar', 'Asia/Kathmandu', 'Asia/Katmandu', 'Asia/Khandyga', 'Asia/Kolkata', 'Asia/Krasnoyarsk', 'Asia/Kuala_Lumpur', 'Asia/Kuching', 'Asia/Kuwait', 'Asia/Macao', 'Asia/Macau', 'Asia/Magadan', 'Asia/Makassar', 'Asia/Manila', 'Asia/Muscat', 'Asia/Nicosia', 'Asia/Novokuznetsk', 'Asia/Novosibirsk', 'Asia/Omsk', 'Asia/Oral', 'Asia/Phnom_Penh', 'Asia/Pontianak', 'Asia/Pyongyang', 'Asia/Qatar', 'Asia/Qostanay', 'Asia/Qyzylorda', 'Asia/Rangoon', 'Asia/Riyadh', 'Asia/Saigon', 'Asia/Sakhalin', 'Asia/Samarkand', 'Asia/Seoul', 'Asia/Shanghai', 'Asia/Singapore', 'Asia/Srednekolymsk', 'Asia/Taipei', 'Asia/Tashkent', 'Asia/Tbilisi', 'Asia/Tehran', 'Asia/Tel_Aviv', 'Asia/Thimbu', 'Asia/Thimphu', 'Asia/Tokyo', 'Asia/Tomsk', 'Asia/Ujung_Pandang', 'Asia/Ulaanbaatar', 'Asia/Ulan_Bator', 'Asia/Urumqi', 'Asia/Ust-Nera', 'Asia/Vientiane', 'Asia/Vladivostok', 'Asia/Yakutsk', 'Asia/Yangon', 'Asia/Yekaterinburg', 'Asia/Yerevan', 'Atlantic/Azores', 'Atlantic/Bermuda', 'Atlantic/Canary', 'Atlantic/Cape_Verde', 'Atlantic/Faeroe', 'Atlantic/Faroe', 'Atlantic/Jan_Mayen', 'Atlantic/Madeira', 'Atlantic/Reykjavik', 'Atlantic/South_Georgia', 'Atlantic/St_Helena', 'Atlantic/Stanley', 'Australia/ACT', 'Australia/Adelaide', 'Australia/Brisbane', 'Australia/Broken_Hill', 'Australia/Canberra', 'Australia/Currie', 'Australia/Darwin', 'Australia/Eucla', 'Australia/Hobart', 'Australia/LHI', 'Australia/Lindeman', 'Australia/Lord_Howe', 'Australia/Melbourne', 'Australia/North', 'Australia/NSW', 'Australia/Perth', 'Australia/Queensland', 'Australia/South', 'Australia/Sydney', 'Australia/Tasmania', 'Australia/Victoria', 'Australia/West', 'Australia/Yancowinna', 'Brazil/Acre', 'Brazil/DeNoronha', 'Brazil/East', 'Brazil/West', 'Canada/Atlantic', 'Canada/Central', 'Canada/Eastern', 'Canada/Mountain', 'Canada/Newfoundland', 'Canada/Pacific', 'Canada/Saskatchewan', 'Canada/Yukon', 'CET', 'Chile/Continental', 'Chile/EasterIsland', 'CST6CDT', 'Cuba', 'EET', 'Egypt', 'Eire', 'EST', 'EST5EDT', 'Etc/GMT', 'Etc/GMT-0', 'Etc/GMT-1', 'Etc/GMT-10', 'Etc/GMT-11', 'Etc/GMT-12', 'Etc/GMT-13', 'Etc/GMT-14', 'Etc/GMT-2', 'Etc/GMT-3', 'Etc/GMT-4', 'Etc/GMT-5', 'Etc/GMT-6', 'Etc/GMT-7', 'Etc/GMT-8', 'Etc/GMT-9', 'Etc/GMT+0', 'Etc/GMT+1', 'Etc/GMT+10', 'Etc/GMT+11', 'Etc/GMT+12', 'Etc/GMT+2', 'Etc/GMT+3', 'Etc/GMT+4', 'Etc/GMT+5', 'Etc/GMT+6', 'Etc/GMT+7', 'Etc/GMT+8', 'Etc/GMT+9', 'Etc/GMT0', 'Etc/Greenwich', 'Etc/UCT', 'Etc/Universal', 'Etc/UTC', 'Etc/Zulu', 'Europe/Amsterdam', 'Europe/Andorra', 'Europe/Astrakhan', 'Europe/Athens', 'Europe/Belfast', 'Europe/Belgrade', 'Europe/Berlin', 'Europe/Bratislava', 'Europe/Brussels', 'Europe/Bucharest', 'Europe/Budapest', 'Europe/Busingen', 'Europe/Chisinau', 'Europe/Copenhagen', 'Europe/Dublin', 'Europe/Gibraltar', 'Europe/Guernsey', 'Europe/Helsinki', 'Europe/Isle_of_Man', 'Europe/Istanbul', 'Europe/Jersey', 'Europe/Kaliningrad', 'Europe/Kiev', 'Europe/Kirov', 'Europe/Kyiv', 'Europe/Lisbon', 'Europe/Ljubljana', 'Europe/London', 'Europe/Luxembourg', 'Europe/Madrid', 'Europe/Malta', 'Europe/Mariehamn', 'Europe/Minsk', 'Europe/Monaco', 'Europe/Moscow', 'Europe/Nicosia', 'Europe/Oslo', 'Europe/Paris', 'Europe/Podgorica', 'Europe/Prague', 'Europe/Riga', 'Europe/Rome', 'Europe/Samara', 'Europe/San_Marino', 'Europe/Sarajevo', 'Europe/Saratov', 'Europe/Simferopol', 'Europe/Skopje', 'Europe/Sofia', 'Europe/Stockholm', 'Europe/Tallinn', 'Europe/Tirane', 'Europe/Tiraspol', 'Europe/Ulyanovsk', 'Europe/Uzhgorod', 'Europe/Vaduz', 'Europe/Vatican', 'Europe/Vienna', 'Europe/Vilnius', 'Europe/Volgograd', 'Europe/Warsaw', 'Europe/Zagreb', 'Europe/Zaporozhye', 'Europe/Zurich', 'GB', 'GB-Eire', 'GMT', 'GMT-0', 'GMT+0', 'GMT0', 'Greenwich', 'Hongkong', 'HST', 'Iceland', 'Indian/Antananarivo', 'Indian/Chagos', 'Indian/Christmas', 'Indian/Cocos', 'Indian/Comoro', 'Indian/Kerguelen', 'Indian/Mahe', 'Indian/Maldives', 'Indian/Mauritius', 'Indian/Mayotte', 'Indian/Reunion', 'Iran', 'Israel', 'Jamaica', 'Japan', 'Kwajalein', 'Libya', 'MET', 'Mexico/BajaNorte', 'Mexico/BajaSur', 'Mexico/General', 'MST', 'MST7MDT', 'Navajo', 'NZ', 'NZ-CHAT', 'Pacific/Apia', 'Pacific/Auckland', 'Pacific/Bougainville', 'Pacific/Chatham', 'Pacific/Chuuk', 'Pacific/Easter', 'Pacific/Efate', 'Pacific/Enderbury', 'Pacific/Fakaofo', 'Pacific/Fiji', 'Pacific/Funafuti', 'Pacific/Galapagos', 'Pacific/Gambier', 'Pacific/Guadalcanal', 'Pacific/Guam', 'Pacific/Honolulu', 'Pacific/Johnston', 'Pacific/Kanton', 'Pacific/Kiritimati', 'Pacific/Kosrae', 'Pacific/Kwajalein', 'Pacific/Majuro', 'Pacific/Marquesas', 'Pacific/Midway', 'Pacific/Nauru', 'Pacific/Niue', 'Pacific/Norfolk', 'Pacific/Noumea', 'Pacific/Pago_Pago', 'Pacific/Palau', 'Pacific/Pitcairn', 'Pacific/Pohnpei', 'Pacific/Ponape', 'Pacific/Port_Moresby', 'Pacific/Rarotonga', 'Pacific/Saipan', 'Pacific/Samoa', 'Pacific/Tahiti', 'Pacific/Tarawa', 'Pacific/Tongatapu', 'Pacific/Truk', 'Pacific/Wake', 'Pacific/Wallis', 'Pacific/Yap', 'Poland', 'Portugal', 'PRC', 'PST8PDT', 'ROC', 'ROK', 'Singapore', 'Turkey', 'UCT', 'Universal', 'US/Alaska', 'US/Aleutian', 'US/Arizona', 'US/Central', 'US/East-Indiana', 'US/Eastern', 'US/Hawaii', 'US/Indiana-Starke', 'US/Michigan', 'US/Mountain', 'US/Pacific', 'US/Samoa', 'UTC', 'W-SU', 'WET', 'Zulu']\n"
     ]
    }
   ],
   "source": [
    "print(lst_zone)"
   ]
  },
  {
   "cell_type": "code",
   "execution_count": 719,
   "id": "de6ec675",
   "metadata": {},
   "outputs": [
    {
     "name": "stdout",
     "output_type": "stream",
     "text": [
      "['GMT', 'GMT', 'EAT', 'CET', 'EAT', 'EAT', 'GMT', 'WAT', 'GMT', 'GMT', 'CAT', 'WAT', 'CAT', 'EET', '+01', 'CET', 'GMT', 'GMT', 'EAT', 'EAT', 'WAT', '+01', 'GMT', 'CAT', 'CAT', 'SAST', 'CAT', 'EAT', 'CAT', 'CAT', 'WAT', 'WAT', 'WAT', 'GMT', 'WAT', 'CAT', 'CAT', 'WAT', 'CAT', 'SAST', 'SAST', 'EAT', 'GMT', 'EAT', 'WAT', 'WAT', 'GMT', 'GMT', 'WAT', 'GMT', 'GMT', 'EET', 'CET', 'CAT', 'HST', 'AKST', 'AST', 'AST', '-03', '-03', '-03', '-03', '-03', '-03', '-03', '-03', '-03', '-03', '-03', '-03', '-03', '-03', 'AST', '-04', 'EST', 'HST', '-03', 'CST', 'AST', '-03', 'CST', 'AST', '-04', '-05', 'MST', '-03', 'MST', '-04', 'EST', '-04', '-03', '-03', 'EST', 'CST', 'CST', 'EST', '-03', 'CST', 'MST', '-04', 'AST', 'GMT', 'MST', 'MST', 'MST', 'EST', 'AST', 'MST', '-05', 'CST', 'PST', 'MST', 'EST', '-03', 'AST', '-03', 'AST', 'EST', 'AST', 'AST', 'CST', '-05', '-04', 'AST', 'CST', 'MST', 'EST', 'CST', 'EST', 'EST', 'CST', 'EST', 'EST', 'EST', 'EST', 'MST', 'EST', 'EST', '-03', 'AKST', 'EST', 'EST', 'CST', 'AST', '-04', '-05', 'PST', 'EST', 'AST', '-03', 'CST', '-04', 'AST', 'AST', 'CST', 'MST', '-03', 'CST', 'CST', 'AKST', 'CST', '-03', 'AST', 'CST', '-03', 'EST', 'AST', 'EST', 'EST', 'EST', 'AKST', '-02', 'CST', 'CST', 'CST', '-03', 'CST', 'EST', 'EST', '-03', 'MST', 'AST', 'EST', '-05', '-04', 'AST', '-03', 'CST', 'CST', '-03', 'CST', 'CST', '-05', '-03', 'PST', '-03', '-04', 'AST', '-03', '-01', 'MST', 'AKST', 'AST', 'NST', 'AST', 'AST', 'AST', 'AST', 'CST', 'CST', 'AST', 'EST', 'PST', 'EST', 'AST', 'PST', 'AST', 'MST', 'CST', 'AKST', 'MST', '+11', '+07', '+10', 'AEST', '+05', 'NZST', '-03', '-03', 'NZST', '+03', '+00', '+06', 'CET', '+03', '+06', '+03', '+12', '+05', '+05', '+05', '+05', '+05', '+03', '+03', '+04', '+07', '+07', 'EET', '+06', '+08', 'IST', '+09', '+08', 'CST', 'CST', '+0530', '+06', '+03', '+06', '+09', '+04', '+05', 'EET', 'EET', 'CST', 'EET', '+07', 'HKT', '+07', '+08', '+03', 'WIB', 'WIT', 'IST', '+0430', '+12', 'PKT', '+06', '+0545', '+0545', '+09', 'IST', '+07', '+08', '+08', '+03', 'CST', 'CST', '+11', 'WITA', 'PST', '+04', 'EET', '+07', '+07', '+06', '+05', '+07', 'WIB', 'KST', '+03', '+06', '+05', '+0630', '+03', '+07', '+11', '+05', 'KST', 'CST', '+08', '+11', 'CST', '+05', '+04', '+0330', 'IST', '+06', '+06', 'JST', '+07', 'WITA', '+08', '+08', '+06', '+10', '+07', '+10', '+09', '+0630', '+05', '+04', '-01', 'AST', 'WET', '-01', 'WET', 'WET', 'CET', 'WET', 'GMT', '-02', 'GMT', '-03', 'AEST', 'ACST', 'AEST', 'ACST', 'AEST', 'AEST', 'ACST', '+0845', 'AEST', '+1030', 'AEST', '+1030', 'AEST', 'ACST', 'AEST', 'AWST', 'AEST', 'ACST', 'AEST', 'AEST', 'AEST', 'AWST', 'ACST', '-05', '-02', '-03', '-04', 'AST', 'CST', 'EST', 'MST', 'NST', 'PST', 'CST', 'MST', 'CET', '-04', '-06', 'CST', 'CST', 'EET', 'EET', 'IST', 'EST', 'EST', 'GMT', 'GMT', '+01', '+10', '+11', '+12', '+13', '+14', '+02', '+03', '+04', '+05', '+06', '+07', '+08', '+09', 'GMT', '-01', '-10', '-11', '-12', '-02', '-03', '-04', '-05', '-06', '-07', '-08', '-09', 'GMT', 'GMT', 'UTC', 'UTC', 'UTC', 'UTC', 'CET', 'CET', '+04', 'EET', 'GMT', 'CET', 'CET', 'CET', 'CET', 'EET', 'CET', 'CET', 'EET', 'CET', 'IST', 'CET', 'GMT', 'EET', 'GMT', '+03', 'GMT', 'EET', 'EET', '+03', 'EET', 'WET', 'CET', 'GMT', 'CET', 'CET', 'CET', 'EET', '+03', 'CET', 'MSK', 'EET', 'CET', 'CET', 'CET', 'CET', 'EET', 'CET', '+04', 'CET', 'CET', '+04', 'MSK', 'CET', 'EET', 'CET', 'EET', 'CET', 'EET', '+04', 'EET', 'CET', 'CET', 'CET', 'EET', '+03', 'CET', 'CET', 'EET', 'CET', 'GMT', 'GMT', 'GMT', 'GMT', 'GMT', 'GMT', 'GMT', 'HKT', 'HST', 'GMT', 'EAT', '+06', '+07', '+0630', 'EAT', '+05', '+04', '+05', '+04', 'EAT', '+04', '+0330', 'IST', 'EST', 'JST', '+12', 'EET', 'MET', 'PST', 'MST', 'CST', 'MST', 'MST', 'MST', 'NZST', '+1245', '+13', 'NZST', '+11', '+1245', '+10', '-06', '+11', '+13', '+13', '+12', '+12', '-06', '-09', '+11', 'ChST', 'HST', 'HST', '+13', '+14', '+11', '+12', '+12', '-0930', 'SST', '+12', '-11', '+11', '+11', 'SST', '+09', '-08', '+11', '+11', '+10', '-10', 'ChST', 'SST', '-10', '+12', '+13', '+10', '+12', '+12', '+10', 'CET', 'WET', 'CST', 'PST', 'CST', 'KST', '+08', '+03', 'UTC', 'UTC', 'AKST', 'HST', 'MST', 'CST', 'EST', 'EST', 'HST', 'CST', 'EST', 'MST', 'PST', 'SST', 'UTC', 'MSK', 'WET', 'UTC']\n"
     ]
    }
   ],
   "source": [
    "print(lst_abbr)"
   ]
  },
  {
   "cell_type": "code",
   "execution_count": null,
   "id": "d5b2bd62",
   "metadata": {},
   "outputs": [],
   "source": []
  },
  {
   "cell_type": "code",
   "execution_count": null,
   "id": "37632149",
   "metadata": {},
   "outputs": [],
   "source": []
  },
  {
   "cell_type": "code",
   "execution_count": 722,
   "id": "34b765ac",
   "metadata": {},
   "outputs": [],
   "source": [
    "df = pd.DataFrame(lst_offset)"
   ]
  },
  {
   "cell_type": "code",
   "execution_count": 723,
   "id": "3b2e5de7",
   "metadata": {},
   "outputs": [],
   "source": [
    "df['zone'] = lst_zone"
   ]
  },
  {
   "cell_type": "code",
   "execution_count": 724,
   "id": "f367338a",
   "metadata": {},
   "outputs": [],
   "source": [
    "df['abbr'] = lst_abbr"
   ]
  },
  {
   "cell_type": "code",
   "execution_count": 726,
   "id": "57c54f31",
   "metadata": {},
   "outputs": [],
   "source": [
    "df.columns = ['offset', 'zone', 'abbr']"
   ]
  },
  {
   "cell_type": "code",
   "execution_count": 727,
   "id": "a27106dd",
   "metadata": {},
   "outputs": [
    {
     "data": {
      "text/html": [
       "<div>\n",
       "<style scoped>\n",
       "    .dataframe tbody tr th:only-of-type {\n",
       "        vertical-align: middle;\n",
       "    }\n",
       "\n",
       "    .dataframe tbody tr th {\n",
       "        vertical-align: top;\n",
       "    }\n",
       "\n",
       "    .dataframe thead th {\n",
       "        text-align: right;\n",
       "    }\n",
       "</style>\n",
       "<table border=\"1\" class=\"dataframe\">\n",
       "  <thead>\n",
       "    <tr style=\"text-align: right;\">\n",
       "      <th></th>\n",
       "      <th>offset</th>\n",
       "      <th>zone</th>\n",
       "      <th>abbr</th>\n",
       "    </tr>\n",
       "  </thead>\n",
       "  <tbody>\n",
       "    <tr>\n",
       "      <th>0</th>\n",
       "      <td>+00:00</td>\n",
       "      <td>Africa/Abidjan</td>\n",
       "      <td>GMT</td>\n",
       "    </tr>\n",
       "    <tr>\n",
       "      <th>1</th>\n",
       "      <td>+00:00</td>\n",
       "      <td>Africa/Accra</td>\n",
       "      <td>GMT</td>\n",
       "    </tr>\n",
       "    <tr>\n",
       "      <th>2</th>\n",
       "      <td>+03:00</td>\n",
       "      <td>Africa/Addis_Ababa</td>\n",
       "      <td>EAT</td>\n",
       "    </tr>\n",
       "    <tr>\n",
       "      <th>3</th>\n",
       "      <td>+01:00</td>\n",
       "      <td>Africa/Algiers</td>\n",
       "      <td>CET</td>\n",
       "    </tr>\n",
       "    <tr>\n",
       "      <th>4</th>\n",
       "      <td>+03:00</td>\n",
       "      <td>Africa/Asmara</td>\n",
       "      <td>EAT</td>\n",
       "    </tr>\n",
       "    <tr>\n",
       "      <th>...</th>\n",
       "      <td>...</td>\n",
       "      <td>...</td>\n",
       "      <td>...</td>\n",
       "    </tr>\n",
       "    <tr>\n",
       "      <th>590</th>\n",
       "      <td>-11:00</td>\n",
       "      <td>US/Samoa</td>\n",
       "      <td>SST</td>\n",
       "    </tr>\n",
       "    <tr>\n",
       "      <th>591</th>\n",
       "      <td>+00:00</td>\n",
       "      <td>UTC</td>\n",
       "      <td>UTC</td>\n",
       "    </tr>\n",
       "    <tr>\n",
       "      <th>592</th>\n",
       "      <td>+03:00</td>\n",
       "      <td>W-SU</td>\n",
       "      <td>MSK</td>\n",
       "    </tr>\n",
       "    <tr>\n",
       "      <th>593</th>\n",
       "      <td>+00:00</td>\n",
       "      <td>WET</td>\n",
       "      <td>WET</td>\n",
       "    </tr>\n",
       "    <tr>\n",
       "      <th>594</th>\n",
       "      <td>+00:00</td>\n",
       "      <td>Zulu</td>\n",
       "      <td>UTC</td>\n",
       "    </tr>\n",
       "  </tbody>\n",
       "</table>\n",
       "<p>595 rows × 3 columns</p>\n",
       "</div>"
      ],
      "text/plain": [
       "     offset                zone abbr\n",
       "0    +00:00      Africa/Abidjan  GMT\n",
       "1    +00:00        Africa/Accra  GMT\n",
       "2    +03:00  Africa/Addis_Ababa  EAT\n",
       "3    +01:00      Africa/Algiers  CET\n",
       "4    +03:00       Africa/Asmara  EAT\n",
       "..      ...                 ...  ...\n",
       "590  -11:00            US/Samoa  SST\n",
       "591  +00:00                 UTC  UTC\n",
       "592  +03:00                W-SU  MSK\n",
       "593  +00:00                 WET  WET\n",
       "594  +00:00                Zulu  UTC\n",
       "\n",
       "[595 rows x 3 columns]"
      ]
     },
     "execution_count": 727,
     "metadata": {},
     "output_type": "execute_result"
    }
   ],
   "source": [
    "df"
   ]
  },
  {
   "cell_type": "code",
   "execution_count": 728,
   "id": "bdeaa317",
   "metadata": {},
   "outputs": [],
   "source": [
    "df = df[df['abbr'] == 'UTC']"
   ]
  },
  {
   "cell_type": "code",
   "execution_count": 730,
   "id": "91b5cc70",
   "metadata": {},
   "outputs": [
    {
     "data": {
      "text/html": [
       "<div>\n",
       "<style scoped>\n",
       "    .dataframe tbody tr th:only-of-type {\n",
       "        vertical-align: middle;\n",
       "    }\n",
       "\n",
       "    .dataframe tbody tr th {\n",
       "        vertical-align: top;\n",
       "    }\n",
       "\n",
       "    .dataframe thead th {\n",
       "        text-align: right;\n",
       "    }\n",
       "</style>\n",
       "<table border=\"1\" class=\"dataframe\">\n",
       "  <thead>\n",
       "    <tr style=\"text-align: right;\">\n",
       "      <th></th>\n",
       "      <th>offset</th>\n",
       "      <th>zone</th>\n",
       "      <th>abbr</th>\n",
       "    </tr>\n",
       "  </thead>\n",
       "  <tbody>\n",
       "    <tr>\n",
       "      <th>421</th>\n",
       "      <td>+00:00</td>\n",
       "      <td>Etc/UCT</td>\n",
       "      <td>UTC</td>\n",
       "    </tr>\n",
       "    <tr>\n",
       "      <th>422</th>\n",
       "      <td>+00:00</td>\n",
       "      <td>Etc/Universal</td>\n",
       "      <td>UTC</td>\n",
       "    </tr>\n",
       "    <tr>\n",
       "      <th>423</th>\n",
       "      <td>+00:00</td>\n",
       "      <td>Etc/UTC</td>\n",
       "      <td>UTC</td>\n",
       "    </tr>\n",
       "    <tr>\n",
       "      <th>424</th>\n",
       "      <td>+00:00</td>\n",
       "      <td>Etc/Zulu</td>\n",
       "      <td>UTC</td>\n",
       "    </tr>\n",
       "    <tr>\n",
       "      <th>577</th>\n",
       "      <td>+00:00</td>\n",
       "      <td>UCT</td>\n",
       "      <td>UTC</td>\n",
       "    </tr>\n",
       "    <tr>\n",
       "      <th>578</th>\n",
       "      <td>+00:00</td>\n",
       "      <td>Universal</td>\n",
       "      <td>UTC</td>\n",
       "    </tr>\n",
       "    <tr>\n",
       "      <th>591</th>\n",
       "      <td>+00:00</td>\n",
       "      <td>UTC</td>\n",
       "      <td>UTC</td>\n",
       "    </tr>\n",
       "    <tr>\n",
       "      <th>594</th>\n",
       "      <td>+00:00</td>\n",
       "      <td>Zulu</td>\n",
       "      <td>UTC</td>\n",
       "    </tr>\n",
       "  </tbody>\n",
       "</table>\n",
       "</div>"
      ],
      "text/plain": [
       "     offset           zone abbr\n",
       "421  +00:00        Etc/UCT  UTC\n",
       "422  +00:00  Etc/Universal  UTC\n",
       "423  +00:00        Etc/UTC  UTC\n",
       "424  +00:00       Etc/Zulu  UTC\n",
       "577  +00:00            UCT  UTC\n",
       "578  +00:00      Universal  UTC\n",
       "591  +00:00            UTC  UTC\n",
       "594  +00:00           Zulu  UTC"
      ]
     },
     "execution_count": 730,
     "metadata": {},
     "output_type": "execute_result"
    }
   ],
   "source": [
    "df"
   ]
  },
  {
   "cell_type": "code",
   "execution_count": null,
   "id": "6a5b913b",
   "metadata": {},
   "outputs": [],
   "source": []
  },
  {
   "cell_type": "code",
   "execution_count": 729,
   "id": "ed7df936",
   "metadata": {},
   "outputs": [
    {
     "name": "stdout",
     "output_type": "stream",
     "text": [
      "\n"
     ]
    }
   ],
   "source": [
    "print(*sorted(list(df['zone'][df['offset'] == '+'+s[1]])))"
   ]
  },
  {
   "cell_type": "code",
   "execution_count": 705,
   "id": "70cdc37a",
   "metadata": {},
   "outputs": [],
   "source": [
    "from datetime import datetime\n",
    "from zoneinfo import ZoneInfo\n",
    "\n",
    "# moskow_tz = ZoneInfo(\"Europe/Moscow\")\n",
    "# london_tz = ZoneInfo(\"Europe/London\")\n",
    "\n",
    "# t1 = datetime(2023,4,1,12,30,0, tzinfo=moskow_tz)  # 2023-04-01 12:30:00+03:00\n",
    "# t2 = datetime(2023,4,1,12,30,0, tzinfo=london_tz) "
   ]
  },
  {
   "cell_type": "code",
   "execution_count": null,
   "id": "8ebfe49c",
   "metadata": {},
   "outputs": [],
   "source": []
  },
  {
   "cell_type": "code",
   "execution_count": 715,
   "id": "e7be01cc",
   "metadata": {},
   "outputs": [],
   "source": [
    "df = df[df['offset'] == '+03:00']"
   ]
  },
  {
   "cell_type": "code",
   "execution_count": 716,
   "id": "4df3ef6c",
   "metadata": {},
   "outputs": [
    {
     "data": {
      "text/html": [
       "<div>\n",
       "<style scoped>\n",
       "    .dataframe tbody tr th:only-of-type {\n",
       "        vertical-align: middle;\n",
       "    }\n",
       "\n",
       "    .dataframe tbody tr th {\n",
       "        vertical-align: top;\n",
       "    }\n",
       "\n",
       "    .dataframe thead th {\n",
       "        text-align: right;\n",
       "    }\n",
       "</style>\n",
       "<table border=\"1\" class=\"dataframe\">\n",
       "  <thead>\n",
       "    <tr style=\"text-align: right;\">\n",
       "      <th></th>\n",
       "      <th>offset</th>\n",
       "      <th>zone</th>\n",
       "    </tr>\n",
       "  </thead>\n",
       "  <tbody>\n",
       "    <tr>\n",
       "      <th>2</th>\n",
       "      <td>+03:00</td>\n",
       "      <td>Africa/Addis_Ababa</td>\n",
       "    </tr>\n",
       "    <tr>\n",
       "      <th>4</th>\n",
       "      <td>+03:00</td>\n",
       "      <td>Africa/Asmara</td>\n",
       "    </tr>\n",
       "    <tr>\n",
       "      <th>5</th>\n",
       "      <td>+03:00</td>\n",
       "      <td>Africa/Asmera</td>\n",
       "    </tr>\n",
       "    <tr>\n",
       "      <th>18</th>\n",
       "      <td>+03:00</td>\n",
       "      <td>Africa/Dar_es_Salaam</td>\n",
       "    </tr>\n",
       "    <tr>\n",
       "      <th>19</th>\n",
       "      <td>+03:00</td>\n",
       "      <td>Africa/Djibouti</td>\n",
       "    </tr>\n",
       "    <tr>\n",
       "      <th>27</th>\n",
       "      <td>+03:00</td>\n",
       "      <td>Africa/Kampala</td>\n",
       "    </tr>\n",
       "    <tr>\n",
       "      <th>41</th>\n",
       "      <td>+03:00</td>\n",
       "      <td>Africa/Mogadishu</td>\n",
       "    </tr>\n",
       "    <tr>\n",
       "      <th>43</th>\n",
       "      <td>+03:00</td>\n",
       "      <td>Africa/Nairobi</td>\n",
       "    </tr>\n",
       "    <tr>\n",
       "      <th>230</th>\n",
       "      <td>+03:00</td>\n",
       "      <td>Antarctica/Syowa</td>\n",
       "    </tr>\n",
       "    <tr>\n",
       "      <th>234</th>\n",
       "      <td>+03:00</td>\n",
       "      <td>Asia/Aden</td>\n",
       "    </tr>\n",
       "    <tr>\n",
       "      <th>236</th>\n",
       "      <td>+03:00</td>\n",
       "      <td>Asia/Amman</td>\n",
       "    </tr>\n",
       "    <tr>\n",
       "      <th>243</th>\n",
       "      <td>+03:00</td>\n",
       "      <td>Asia/Baghdad</td>\n",
       "    </tr>\n",
       "    <tr>\n",
       "      <th>244</th>\n",
       "      <td>+03:00</td>\n",
       "      <td>Asia/Bahrain</td>\n",
       "    </tr>\n",
       "    <tr>\n",
       "      <th>258</th>\n",
       "      <td>+03:00</td>\n",
       "      <td>Asia/Damascus</td>\n",
       "    </tr>\n",
       "    <tr>\n",
       "      <th>271</th>\n",
       "      <td>+03:00</td>\n",
       "      <td>Asia/Istanbul</td>\n",
       "    </tr>\n",
       "    <tr>\n",
       "      <th>286</th>\n",
       "      <td>+03:00</td>\n",
       "      <td>Asia/Kuwait</td>\n",
       "    </tr>\n",
       "    <tr>\n",
       "      <th>301</th>\n",
       "      <td>+03:00</td>\n",
       "      <td>Asia/Qatar</td>\n",
       "    </tr>\n",
       "    <tr>\n",
       "      <th>305</th>\n",
       "      <td>+03:00</td>\n",
       "      <td>Asia/Riyadh</td>\n",
       "    </tr>\n",
       "    <tr>\n",
       "      <th>399</th>\n",
       "      <td>+03:00</td>\n",
       "      <td>Etc/GMT-3</td>\n",
       "    </tr>\n",
       "    <tr>\n",
       "      <th>444</th>\n",
       "      <td>+03:00</td>\n",
       "      <td>Europe/Istanbul</td>\n",
       "    </tr>\n",
       "    <tr>\n",
       "      <th>448</th>\n",
       "      <td>+03:00</td>\n",
       "      <td>Europe/Kirov</td>\n",
       "    </tr>\n",
       "    <tr>\n",
       "      <th>457</th>\n",
       "      <td>+03:00</td>\n",
       "      <td>Europe/Minsk</td>\n",
       "    </tr>\n",
       "    <tr>\n",
       "      <th>459</th>\n",
       "      <td>+03:00</td>\n",
       "      <td>Europe/Moscow</td>\n",
       "    </tr>\n",
       "    <tr>\n",
       "      <th>471</th>\n",
       "      <td>+03:00</td>\n",
       "      <td>Europe/Simferopol</td>\n",
       "    </tr>\n",
       "    <tr>\n",
       "      <th>484</th>\n",
       "      <td>+03:00</td>\n",
       "      <td>Europe/Volgograd</td>\n",
       "    </tr>\n",
       "    <tr>\n",
       "      <th>499</th>\n",
       "      <td>+03:00</td>\n",
       "      <td>Indian/Antananarivo</td>\n",
       "    </tr>\n",
       "    <tr>\n",
       "      <th>503</th>\n",
       "      <td>+03:00</td>\n",
       "      <td>Indian/Comoro</td>\n",
       "    </tr>\n",
       "    <tr>\n",
       "      <th>508</th>\n",
       "      <td>+03:00</td>\n",
       "      <td>Indian/Mayotte</td>\n",
       "    </tr>\n",
       "    <tr>\n",
       "      <th>576</th>\n",
       "      <td>+03:00</td>\n",
       "      <td>Turkey</td>\n",
       "    </tr>\n",
       "    <tr>\n",
       "      <th>592</th>\n",
       "      <td>+03:00</td>\n",
       "      <td>W-SU</td>\n",
       "    </tr>\n",
       "  </tbody>\n",
       "</table>\n",
       "</div>"
      ],
      "text/plain": [
       "     offset                  zone\n",
       "2    +03:00    Africa/Addis_Ababa\n",
       "4    +03:00         Africa/Asmara\n",
       "5    +03:00         Africa/Asmera\n",
       "18   +03:00  Africa/Dar_es_Salaam\n",
       "19   +03:00       Africa/Djibouti\n",
       "27   +03:00        Africa/Kampala\n",
       "41   +03:00      Africa/Mogadishu\n",
       "43   +03:00        Africa/Nairobi\n",
       "230  +03:00      Antarctica/Syowa\n",
       "234  +03:00             Asia/Aden\n",
       "236  +03:00            Asia/Amman\n",
       "243  +03:00          Asia/Baghdad\n",
       "244  +03:00          Asia/Bahrain\n",
       "258  +03:00         Asia/Damascus\n",
       "271  +03:00         Asia/Istanbul\n",
       "286  +03:00           Asia/Kuwait\n",
       "301  +03:00            Asia/Qatar\n",
       "305  +03:00           Asia/Riyadh\n",
       "399  +03:00             Etc/GMT-3\n",
       "444  +03:00       Europe/Istanbul\n",
       "448  +03:00          Europe/Kirov\n",
       "457  +03:00          Europe/Minsk\n",
       "459  +03:00         Europe/Moscow\n",
       "471  +03:00     Europe/Simferopol\n",
       "484  +03:00      Europe/Volgograd\n",
       "499  +03:00   Indian/Antananarivo\n",
       "503  +03:00         Indian/Comoro\n",
       "508  +03:00        Indian/Mayotte\n",
       "576  +03:00                Turkey\n",
       "592  +03:00                  W-SU"
      ]
     },
     "execution_count": 716,
     "metadata": {},
     "output_type": "execute_result"
    }
   ],
   "source": [
    "df"
   ]
  },
  {
   "cell_type": "code",
   "execution_count": null,
   "id": "c7c98ed2",
   "metadata": {},
   "outputs": [],
   "source": []
  }
 ],
 "metadata": {
  "kernelspec": {
   "display_name": "Python 3 (ipykernel)",
   "language": "python",
   "name": "python3"
  },
  "language_info": {
   "codemirror_mode": {
    "name": "ipython",
    "version": 3
   },
   "file_extension": ".py",
   "mimetype": "text/x-python",
   "name": "python",
   "nbconvert_exporter": "python",
   "pygments_lexer": "ipython3",
   "version": "3.10.0"
  }
 },
 "nbformat": 4,
 "nbformat_minor": 5
}
