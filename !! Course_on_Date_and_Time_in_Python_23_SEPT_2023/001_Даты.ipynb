{
 "cells": [
  {
   "cell_type": "code",
   "execution_count": 1,
   "id": "acb73ccf",
   "metadata": {},
   "outputs": [],
   "source": [
    "from datetime import date"
   ]
  },
  {
   "cell_type": "code",
   "execution_count": 2,
   "id": "617f2c2c",
   "metadata": {},
   "outputs": [
    {
     "name": "stdout",
     "output_type": "stream",
     "text": [
      "2022-01-01\n"
     ]
    }
   ],
   "source": [
    "my_date = date(2022, 1, 1)  # год, месяц, день\n",
    "print(my_date)"
   ]
  },
  {
   "cell_type": "code",
   "execution_count": 6,
   "id": "907d7b14",
   "metadata": {},
   "outputs": [
    {
     "name": "stdout",
     "output_type": "stream",
     "text": [
      "Год даты:  2022\n",
      "Месяц даты:  1\n",
      "День даты:  1\n",
      "Номер дня недели даты:  5\n",
      "Сегодняшняя дата на устройстве:  2023-09-23\n"
     ]
    }
   ],
   "source": [
    "# У объекта date есть несколько атрибутов, которые позволяют получить информацию о дате.\n",
    "\n",
    "print('Год даты: ', my_date.year)  # 2022\n",
    "print('Месяц даты: ', my_date.month) # 1\n",
    "print('День даты: ', my_date.day)   # 1\n",
    "\n",
    "# день недели от 0 до 6\n",
    "print('Номер дня недели даты: ', my_date.weekday())  # 5\n",
    "\n",
    "# сегодняшняя дата на устройстве\n",
    "print('Сегодняшняя дата на устройстве: ', my_date.today())"
   ]
  },
  {
   "cell_type": "code",
   "execution_count": null,
   "id": "9ad93b10",
   "metadata": {},
   "outputs": [],
   "source": []
  },
  {
   "cell_type": "code",
   "execution_count": 3,
   "id": "034fd04a",
   "metadata": {},
   "outputs": [],
   "source": [
    "# Если в дате нужно что-то заменить, то следует использовать replace.\n",
    "\n",
    "my_date = date(2022, 2, 22)"
   ]
  },
  {
   "cell_type": "code",
   "execution_count": 4,
   "id": "34e02fa0",
   "metadata": {},
   "outputs": [
    {
     "data": {
      "text/plain": [
       "datetime.date(2022, 2, 22)"
      ]
     },
     "execution_count": 4,
     "metadata": {},
     "output_type": "execute_result"
    }
   ],
   "source": [
    "my_date"
   ]
  },
  {
   "cell_type": "code",
   "execution_count": 9,
   "id": "c77a4bdf",
   "metadata": {},
   "outputs": [
    {
     "data": {
      "text/plain": [
       "datetime.date(2023, 2, 22)"
      ]
     },
     "execution_count": 9,
     "metadata": {},
     "output_type": "execute_result"
    }
   ],
   "source": [
    "my_date.replace(year = 2023)"
   ]
  },
  {
   "cell_type": "code",
   "execution_count": 8,
   "id": "25f57146",
   "metadata": {},
   "outputs": [
    {
     "data": {
      "text/plain": [
       "datetime.date(2022, 3, 22)"
      ]
     },
     "execution_count": 8,
     "metadata": {},
     "output_type": "execute_result"
    }
   ],
   "source": [
    "my_date.replace(month = 3)"
   ]
  },
  {
   "cell_type": "code",
   "execution_count": 10,
   "id": "9c920e04",
   "metadata": {},
   "outputs": [
    {
     "data": {
      "text/plain": [
       "datetime.date(2022, 2, 28)"
      ]
     },
     "execution_count": 10,
     "metadata": {},
     "output_type": "execute_result"
    }
   ],
   "source": [
    "my_date.replace(day = 28)"
   ]
  },
  {
   "cell_type": "code",
   "execution_count": null,
   "id": "45f7c270",
   "metadata": {},
   "outputs": [],
   "source": []
  },
  {
   "cell_type": "code",
   "execution_count": 11,
   "id": "253f464f",
   "metadata": {},
   "outputs": [
    {
     "data": {
      "text/plain": [
       "False"
      ]
     },
     "execution_count": 11,
     "metadata": {},
     "output_type": "execute_result"
    }
   ],
   "source": [
    "# Даты, как и время, можно сравнивать друг с другом.\n",
    "\n",
    "d_1 = date(2022, 2, 22)\n",
    "d_2 = date(2023, 2, 22)\n",
    "\n",
    "d_1 > d_2"
   ]
  },
  {
   "cell_type": "code",
   "execution_count": null,
   "id": "b278b89a",
   "metadata": {},
   "outputs": [],
   "source": []
  },
  {
   "cell_type": "code",
   "execution_count": null,
   "id": "8d5a25a0",
   "metadata": {},
   "outputs": [],
   "source": []
  },
  {
   "cell_type": "code",
   "execution_count": null,
   "id": "08e72421",
   "metadata": {},
   "outputs": [],
   "source": []
  },
  {
   "cell_type": "code",
   "execution_count": 17,
   "id": "08f17fa3",
   "metadata": {},
   "outputs": [],
   "source": [
    "# Ввести дату в формате  ISO 8601 можно так же, как и время.\n",
    "\n",
    "d = date.fromisoformat('2022-02-22')"
   ]
  },
  {
   "cell_type": "code",
   "execution_count": 18,
   "id": "5e85b73c",
   "metadata": {},
   "outputs": [
    {
     "data": {
      "text/plain": [
       "datetime.date(2022, 2, 22)"
      ]
     },
     "execution_count": 18,
     "metadata": {},
     "output_type": "execute_result"
    }
   ],
   "source": [
    "d"
   ]
  },
  {
   "cell_type": "code",
   "execution_count": 21,
   "id": "9a694057",
   "metadata": {},
   "outputs": [
    {
     "name": "stdout",
     "output_type": "stream",
     "text": [
      "2022-02-22\n"
     ]
    }
   ],
   "source": [
    "print(d.isoformat())"
   ]
  },
  {
   "cell_type": "code",
   "execution_count": null,
   "id": "4479c44b",
   "metadata": {},
   "outputs": [],
   "source": []
  },
  {
   "cell_type": "code",
   "execution_count": 23,
   "id": "490ed62c",
   "metadata": {},
   "outputs": [],
   "source": [
    "# Форматировать даты можно с помощью strftime.\n",
    "\n",
    "# Спецификатор  \t Единица времени \t Диапазон\n",
    "# %Y          \t     Год    \t   целое число\n",
    "# %m    \t         Месяц   \t    '01-12'\n",
    "# %d       \t        День    \t     '01-31'"
   ]
  },
  {
   "cell_type": "code",
   "execution_count": 28,
   "id": "4dfa8d94",
   "metadata": {},
   "outputs": [
    {
     "data": {
      "text/plain": [
       "'22**02**2022'"
      ]
     },
     "execution_count": 28,
     "metadata": {},
     "output_type": "execute_result"
    }
   ],
   "source": [
    "my_date.strftime('%d**%m**%Y')"
   ]
  },
  {
   "cell_type": "code",
   "execution_count": 12,
   "id": "5423d5bd",
   "metadata": {},
   "outputs": [
    {
     "data": {
      "text/plain": [
       "'202220222022'"
      ]
     },
     "execution_count": 12,
     "metadata": {},
     "output_type": "execute_result"
    }
   ],
   "source": [
    "my_date.strftime('%Y%Y%Y')"
   ]
  },
  {
   "cell_type": "code",
   "execution_count": null,
   "id": "b604b726",
   "metadata": {},
   "outputs": [],
   "source": []
  },
  {
   "cell_type": "markdown",
   "id": "93b56bab",
   "metadata": {},
   "source": [
    "# Задачи"
   ]
  },
  {
   "cell_type": "markdown",
   "id": "9320a4fb",
   "metadata": {},
   "source": [
    "# Задача #1"
   ]
  },
  {
   "cell_type": "code",
   "execution_count": 58,
   "id": "d3241c53",
   "metadata": {},
   "outputs": [],
   "source": [
    "\n",
    "# Вам дана дата в формате ISO 8601. Выведите на русском языке день недели этой даты.\n",
    "# В качестве вывода используйте слова: Понедельник, Вторник, Среда, Четверг, \n",
    "# Пятница, Суббота, Воскресенье.\n",
    "\n",
    "weekdays = [\"Понедельник\", \"Вторник\", \"Среда\", \"Четверг\", \"Пятница\", \"Суббота\", \"Воскресенье\"]"
   ]
  },
  {
   "cell_type": "code",
   "execution_count": null,
   "id": "b91b081d",
   "metadata": {},
   "outputs": [],
   "source": [
    "n_date = input()"
   ]
  },
  {
   "cell_type": "code",
   "execution_count": 62,
   "id": "c538e751",
   "metadata": {},
   "outputs": [
    {
     "data": {
      "text/plain": [
       "'2020-06-16'"
      ]
     },
     "execution_count": 62,
     "metadata": {},
     "output_type": "execute_result"
    }
   ],
   "source": [
    "n_date = '2020-06-16'\n",
    "n_date"
   ]
  },
  {
   "cell_type": "code",
   "execution_count": 60,
   "id": "a2490216",
   "metadata": {},
   "outputs": [
    {
     "data": {
      "text/plain": [
       "datetime.date(2020, 6, 16)"
      ]
     },
     "execution_count": 60,
     "metadata": {},
     "output_type": "execute_result"
    }
   ],
   "source": [
    "n_date_isoformat = date.fromisoformat(n_date)\n",
    "n_date_isoformat"
   ]
  },
  {
   "cell_type": "code",
   "execution_count": 61,
   "id": "35a07279",
   "metadata": {},
   "outputs": [
    {
     "data": {
      "text/plain": [
       "1"
      ]
     },
     "execution_count": 61,
     "metadata": {},
     "output_type": "execute_result"
    }
   ],
   "source": [
    "number_of_the_day_in_week = n_date_isoformat.weekday()\n",
    "number_of_the_day_in_week"
   ]
  },
  {
   "cell_type": "code",
   "execution_count": 59,
   "id": "e95f313f",
   "metadata": {},
   "outputs": [
    {
     "name": "stdout",
     "output_type": "stream",
     "text": [
      "Вторник\n"
     ]
    }
   ],
   "source": [
    "print(weekdays[number_of_the_day_in_week])"
   ]
  },
  {
   "cell_type": "code",
   "execution_count": null,
   "id": "822ac885",
   "metadata": {},
   "outputs": [],
   "source": []
  },
  {
   "cell_type": "code",
   "execution_count": null,
   "id": "bc70ba6a",
   "metadata": {},
   "outputs": [],
   "source": []
  },
  {
   "cell_type": "markdown",
   "id": "0db9aeae",
   "metadata": {},
   "source": [
    "# Задача #2"
   ]
  },
  {
   "cell_type": "code",
   "execution_count": null,
   "id": "b56b0946",
   "metadata": {},
   "outputs": [],
   "source": [
    "\n",
    "# Вам дан список из дат в формате ISO 8601. \n",
    "# Нужно сгрупировать их по дням, месяцам и годам и вывести в определенном формате.\n",
    "# Например для дат 2020-01-01, 2022-04-01, 2021-01-02, 2023-05-02, 2023-12-02 \n",
    "# результат будет таким:\n",
    "\n",
    "{\n",
    "    \"days\": {\n",
    "        \"1\": [\n",
    "            \"2020-01-01\",\n",
    "            \"2022-04-01\"\n",
    "        ],\n",
    "        \"2\": [\n",
    "            \"2021-01-02\",\n",
    "            \"2023-05-02\",\n",
    "            \"2023-12-02\"\n",
    "        ]\n",
    "    },\n",
    "    \"months\": {\n",
    "        \"1\": [\n",
    "            \"2020-01-01\",\n",
    "            \"2021-01-02\"\n",
    "        ],\n",
    "        \"4\": [\n",
    "            \"2022-04-01\"\n",
    "        ],\n",
    "        \"5\": [\n",
    "            \"2023-05-02\"\n",
    "        ],\n",
    "        \"12\": [\n",
    "            \"2023-12-02\"\n",
    "        ]\n",
    "    },\n",
    "    \"years\": {\n",
    "        \"2020\": [\n",
    "            \"2020-01-01\"\n",
    "        ],\n",
    "        \"2021\": [\n",
    "            \"2021-01-02\"\n",
    "        ],\n",
    "        \"2022\": [\n",
    "            \"2022-04-01\"\n",
    "        ],\n",
    "        \"2023\": [\n",
    "            \"2023-05-02\",\n",
    "            \"2023-12-02\"\n",
    "        ]\n",
    "    }\n",
    "}"
   ]
  },
  {
   "cell_type": "code",
   "execution_count": 64,
   "id": "c5ed4b2f",
   "metadata": {},
   "outputs": [],
   "source": [
    "answer = {\"days\": {}, \"months\": {}, \"years\": {}}"
   ]
  },
  {
   "cell_type": "code",
   "execution_count": 68,
   "id": "18ee1abd",
   "metadata": {},
   "outputs": [],
   "source": [
    "answer['days'] = 1"
   ]
  },
  {
   "cell_type": "code",
   "execution_count": 69,
   "id": "f2c415ad",
   "metadata": {},
   "outputs": [
    {
     "data": {
      "text/plain": [
       "{'days': 1, 'months': {}, 'years': {}}"
      ]
     },
     "execution_count": 69,
     "metadata": {},
     "output_type": "execute_result"
    }
   ],
   "source": []
  },
  {
   "cell_type": "code",
   "execution_count": 84,
   "id": "9ccbab37",
   "metadata": {},
   "outputs": [
    {
     "name": "stdout",
     "output_type": "stream",
     "text": [
      "1\n",
      "2022-02-22\n"
     ]
    }
   ],
   "source": [
    "n = int(input())\n",
    "days = {}\n",
    "months = {}\n",
    "years = {}\n",
    "\n",
    "\n",
    "for i in range(n):\n",
    "    n_date = input()\n",
    "    n_date_isoformat = date.fromisoformat(n_date)\n",
    "    \n",
    "    if n_date_isoformat.day not in days:\n",
    "        days[n_date_isoformat.day] = [n_date]\n",
    "    else:\n",
    "        days[n_date_isoformat.day] += [n_date]\n",
    "    \n",
    "    \n",
    "    if n_date_isoformat.month not in months:\n",
    "        months[n_date_isoformat.month] = [n_date]\n",
    "    else:\n",
    "        months[n_date_isoformat.month] += [n_date]\n",
    "\n",
    "        \n",
    "    if n_date_isoformat.year not in years:\n",
    "        years[n_date_isoformat.year] = [n_date]\n",
    "    else:\n",
    "        years[n_date_isoformat.year] += [n_date]"
   ]
  },
  {
   "cell_type": "code",
   "execution_count": 85,
   "id": "73e2fb2d",
   "metadata": {},
   "outputs": [
    {
     "data": {
      "text/plain": [
       "{22: ['2022-02-22']}"
      ]
     },
     "execution_count": 85,
     "metadata": {},
     "output_type": "execute_result"
    }
   ],
   "source": [
    "days"
   ]
  },
  {
   "cell_type": "code",
   "execution_count": 86,
   "id": "30d4dd97",
   "metadata": {},
   "outputs": [
    {
     "data": {
      "text/plain": [
       "{2: ['2022-02-22']}"
      ]
     },
     "execution_count": 86,
     "metadata": {},
     "output_type": "execute_result"
    }
   ],
   "source": [
    "months"
   ]
  },
  {
   "cell_type": "code",
   "execution_count": 87,
   "id": "8aca93cd",
   "metadata": {},
   "outputs": [
    {
     "data": {
      "text/plain": [
       "{2022: ['2022-02-22']}"
      ]
     },
     "execution_count": 87,
     "metadata": {},
     "output_type": "execute_result"
    }
   ],
   "source": [
    "years"
   ]
  },
  {
   "cell_type": "code",
   "execution_count": null,
   "id": "0f25aac4",
   "metadata": {},
   "outputs": [],
   "source": []
  },
  {
   "cell_type": "code",
   "execution_count": 116,
   "id": "83cc2098",
   "metadata": {},
   "outputs": [],
   "source": [
    "answer = {'days': days, 'months': months, 'years': years}"
   ]
  },
  {
   "cell_type": "code",
   "execution_count": 117,
   "id": "f1407a78",
   "metadata": {},
   "outputs": [
    {
     "data": {
      "text/plain": [
       "{'days': {22: ['2022-02-22']},\n",
       " 'months': {2: ['2022-02-22']},\n",
       " 'years': {2022: ['2022-02-22']}}"
      ]
     },
     "execution_count": 117,
     "metadata": {},
     "output_type": "execute_result"
    }
   ],
   "source": [
    "answer"
   ]
  },
  {
   "cell_type": "code",
   "execution_count": 118,
   "id": "ae59e96d",
   "metadata": {},
   "outputs": [],
   "source": [
    "import json"
   ]
  },
  {
   "cell_type": "code",
   "execution_count": 119,
   "id": "0823d317",
   "metadata": {},
   "outputs": [
    {
     "data": {
      "text/plain": [
       "'{\\n    \"days\": {\\n        \"22\": [\\n            \"2022-02-22\"\\n        ]\\n    },\\n    \"months\": {\\n        \"2\": [\\n            \"2022-02-22\"\\n        ]\\n    },\\n    \"years\": {\\n        \"2022\": [\\n            \"2022-02-22\"\\n        ]\\n    }\\n}'"
      ]
     },
     "execution_count": 119,
     "metadata": {},
     "output_type": "execute_result"
    }
   ],
   "source": [
    "json.dumps(answer, indent = 4)"
   ]
  },
  {
   "cell_type": "code",
   "execution_count": 120,
   "id": "dfb16f9d",
   "metadata": {},
   "outputs": [
    {
     "name": "stdout",
     "output_type": "stream",
     "text": [
      "{\n",
      "    \"days\": {\n",
      "        \"22\": [\n",
      "            \"2022-02-22\"\n",
      "        ]\n",
      "    },\n",
      "    \"months\": {\n",
      "        \"2\": [\n",
      "            \"2022-02-22\"\n",
      "        ]\n",
      "    },\n",
      "    \"years\": {\n",
      "        \"2022\": [\n",
      "            \"2022-02-22\"\n",
      "        ]\n",
      "    }\n",
      "}\n"
     ]
    }
   ],
   "source": [
    "print(json.dumps(answer, indent = 4))"
   ]
  },
  {
   "cell_type": "code",
   "execution_count": null,
   "id": "0328e610",
   "metadata": {},
   "outputs": [],
   "source": []
  },
  {
   "cell_type": "code",
   "execution_count": 124,
   "id": "ffb8053f",
   "metadata": {},
   "outputs": [
    {
     "name": "stdout",
     "output_type": "stream",
     "text": [
      "2\n"
     ]
    }
   ],
   "source": [
    "n = int(input())\n",
    "lst = []\n",
    "for i in range(n):\n",
    "    lst.append(input())\n",
    "    "
   ]
  },
  {
   "cell_type": "code",
   "execution_count": null,
   "id": "1bef4682",
   "metadata": {},
   "outputs": [],
   "source": []
  },
  {
   "cell_type": "code",
   "execution_count": 158,
   "id": "8edebaeb",
   "metadata": {},
   "outputs": [
    {
     "name": "stdout",
     "output_type": "stream",
     "text": [
      "2\n",
      "2023-11-01\n",
      "2023-12-02\n",
      "{\n",
      "    \"days\": {\n",
      "        \"1\": [\n",
      "            \"2023-11-01\"\n",
      "        ],\n",
      "        \"2\": [\n",
      "            \"2023-12-02\"\n",
      "        ]\n",
      "    },\n",
      "    \"months\": {\n",
      "        \"11\": [\n",
      "            \"2023-11-01\"\n",
      "        ],\n",
      "        \"12\": [\n",
      "            \"2023-12-02\"\n",
      "        ]\n",
      "    },\n",
      "    \"years\": {\n",
      "        \"2023\": [\n",
      "            \"2023-11-01\",\n",
      "            \"2023-12-02\"\n",
      "        ]\n",
      "    }\n",
      "}\n"
     ]
    }
   ],
   "source": [
    "from datetime import date\n",
    "import json\n",
    "\n",
    "n = int(input())\n",
    "lst = []\n",
    "for i in range(n):\n",
    "    lst.append(input())\n",
    "    \n",
    "    \n",
    "days = {}\n",
    "months = {}\n",
    "years = {}\n",
    "\n",
    "\n",
    "for i in lst:\n",
    "    \n",
    "    n_date_isoformat = date.fromisoformat(i)\n",
    "    \n",
    "    if n_date_isoformat.day not in days:\n",
    "        days[n_date_isoformat.day] = [i]\n",
    "    else:\n",
    "        if i not in days[n_date_isoformat.day]:\n",
    "            days[n_date_isoformat.day] += [i]\n",
    "    days[n_date_isoformat.day] = sorted(days[n_date_isoformat.day])\n",
    "    \n",
    "    if n_date_isoformat.month not in months:\n",
    "        months[n_date_isoformat.month] = [i]\n",
    "    else:\n",
    "        if i not in months[n_date_isoformat.month]:\n",
    "            months[n_date_isoformat.month] += [i]\n",
    "    months[n_date_isoformat.month] = sorted(months[n_date_isoformat.month])\n",
    "\n",
    "        \n",
    "    if n_date_isoformat.year not in years:\n",
    "        years[n_date_isoformat.year] = [i]\n",
    "    else:\n",
    "        if i not in years[n_date_isoformat.year]:\n",
    "            years[n_date_isoformat.year] += [i]\n",
    "    years[n_date_isoformat.year] = sorted(years[n_date_isoformat.year])\n",
    "\n",
    "answer = {'days': dict(sorted(days.items())), 'months': dict(sorted(months.items())), 'years': dict(sorted(years.items()))}\n",
    "\n",
    "print(json.dumps(answer, indent = 4))"
   ]
  },
  {
   "cell_type": "code",
   "execution_count": 157,
   "id": "0065868e",
   "metadata": {},
   "outputs": [
    {
     "data": {
      "text/plain": [
       "['2023-11-01', '2023-12-02']"
      ]
     },
     "execution_count": 157,
     "metadata": {},
     "output_type": "execute_result"
    }
   ],
   "source": [
    "sorted(years[2023])"
   ]
  },
  {
   "cell_type": "code",
   "execution_count": 150,
   "id": "5f79ca90",
   "metadata": {},
   "outputs": [
    {
     "data": {
      "text/plain": [
       "{1: ['2023-11-01'], 2: ['2023-12-02']}"
      ]
     },
     "execution_count": 150,
     "metadata": {},
     "output_type": "execute_result"
    }
   ],
   "source": [
    "dict(sorted(days.items()))"
   ]
  },
  {
   "cell_type": "code",
   "execution_count": null,
   "id": "4eca3f3d",
   "metadata": {},
   "outputs": [],
   "source": []
  },
  {
   "cell_type": "markdown",
   "id": "de46d6a1",
   "metadata": {},
   "source": [
    "# Задача # 3"
   ]
  },
  {
   "cell_type": "code",
   "execution_count": null,
   "id": "903f3c72",
   "metadata": {},
   "outputs": [],
   "source": [
    "# Нужно отфильтровать список интервалов. Дано две даты для фильтра – start_date и end_date, \n",
    "# составляющие временной интервал. Нужно выяснить, какие переданные интервалы \n",
    "# пересекаются с обозначенным.\n",
    "\n",
    "# На вход программе поступают две даты для фильтра: start_date и end_date \n",
    "# через пробел, после чего идет натуральное число n. Далее идут n интервалов \n",
    "# с датами через пробел. Нужно вывести даты, которые пересекаются с периодом из фильтра.\n",
    "# Даты выводите в том же порядке, в котором они пришли в программу."
   ]
  },
  {
   "cell_type": "code",
   "execution_count": 14,
   "id": "5a813913",
   "metadata": {},
   "outputs": [
    {
     "name": "stdout",
     "output_type": "stream",
     "text": [
      "2020-02-05 2020-02-10\n"
     ]
    }
   ],
   "source": [
    "interval = input().split()"
   ]
  },
  {
   "cell_type": "code",
   "execution_count": 15,
   "id": "b99554dd",
   "metadata": {},
   "outputs": [
    {
     "data": {
      "text/plain": [
       "['2020-02-05', '2020-02-10']"
      ]
     },
     "execution_count": 15,
     "metadata": {},
     "output_type": "execute_result"
    }
   ],
   "source": [
    "interval"
   ]
  },
  {
   "cell_type": "code",
   "execution_count": 17,
   "id": "8fad79d8",
   "metadata": {},
   "outputs": [],
   "source": [
    "start = interval[0]"
   ]
  },
  {
   "cell_type": "code",
   "execution_count": 18,
   "id": "a4bd76e4",
   "metadata": {},
   "outputs": [],
   "source": [
    "end = interval[1]"
   ]
  },
  {
   "cell_type": "code",
   "execution_count": null,
   "id": "820d0612",
   "metadata": {},
   "outputs": [],
   "source": []
  },
  {
   "cell_type": "code",
   "execution_count": 16,
   "id": "47ad48d2",
   "metadata": {},
   "outputs": [
    {
     "name": "stdout",
     "output_type": "stream",
     "text": [
      "4\n"
     ]
    }
   ],
   "source": [
    "n = int(input())"
   ]
  },
  {
   "cell_type": "code",
   "execution_count": 20,
   "id": "416881fa",
   "metadata": {},
   "outputs": [
    {
     "name": "stdout",
     "output_type": "stream",
     "text": [
      "2020-02-01 2020-03-01\n",
      "['2020-02-01', '2020-03-01']\n",
      "2020-02-10 2020-02-20\n",
      "['2020-02-10', '2020-02-20']\n",
      "2020-01-10 2020-02-10\n",
      "['2020-01-10', '2020-02-10']\n",
      "2020-02-20 2020-03-20\n"
     ]
    }
   ],
   "source": [
    "for i in range(n):\n",
    "    int_1 = input().split()\n",
    "    if int_1[1] < start:\n",
    "        pass\n",
    "    elif int_1[0] > end:\n",
    "        pass\n",
    "    \n",
    "    else:\n",
    "        print(int_1)"
   ]
  },
  {
   "cell_type": "code",
   "execution_count": 21,
   "id": "1c163d4a",
   "metadata": {},
   "outputs": [
    {
     "data": {
      "text/plain": [
       "['2020-02-20', '2020-03-20']"
      ]
     },
     "execution_count": 21,
     "metadata": {},
     "output_type": "execute_result"
    }
   ],
   "source": [
    "int_1"
   ]
  },
  {
   "cell_type": "code",
   "execution_count": 22,
   "id": "7d62f21e",
   "metadata": {},
   "outputs": [
    {
     "name": "stdout",
     "output_type": "stream",
     "text": [
      "['2020-02-20', '2020-03-20']\n"
     ]
    }
   ],
   "source": [
    "print(int_1)"
   ]
  },
  {
   "cell_type": "code",
   "execution_count": 27,
   "id": "f7f8ca10",
   "metadata": {},
   "outputs": [
    {
     "name": "stdout",
     "output_type": "stream",
     "text": [
      "2020-02-20 2020-03-20\n"
     ]
    }
   ],
   "source": [
    "print(*int_1)"
   ]
  },
  {
   "cell_type": "code",
   "execution_count": null,
   "id": "3947df5b",
   "metadata": {},
   "outputs": [],
   "source": []
  },
  {
   "cell_type": "markdown",
   "id": "c399ecd8",
   "metadata": {},
   "source": [
    "# Модуль calendar"
   ]
  },
  {
   "cell_type": "code",
   "execution_count": null,
   "id": "cc23a980",
   "metadata": {},
   "outputs": [],
   "source": [
    "# В задачах, связанных с календарём, может помочь модуль calendar. \n",
    "# Например, получить календарь на февраль 2023 года с ним очень просто."
   ]
  },
  {
   "cell_type": "code",
   "execution_count": 1,
   "id": "e82c78ee",
   "metadata": {},
   "outputs": [],
   "source": [
    "import calendar"
   ]
  },
  {
   "cell_type": "code",
   "execution_count": 15,
   "id": "4f971b4c",
   "metadata": {},
   "outputs": [],
   "source": [
    "year = 2023\n",
    "month = 10"
   ]
  },
  {
   "cell_type": "code",
   "execution_count": 20,
   "id": "5e378a83",
   "metadata": {},
   "outputs": [],
   "source": [
    "cal = calendar.month(year, month)"
   ]
  },
  {
   "cell_type": "code",
   "execution_count": 21,
   "id": "2df6d35e",
   "metadata": {},
   "outputs": [
    {
     "name": "stdout",
     "output_type": "stream",
     "text": [
      "    October 2023\n",
      "Mo Tu We Th Fr Sa Su\n",
      "                   1\n",
      " 2  3  4  5  6  7  8\n",
      " 9 10 11 12 13 14 15\n",
      "16 17 18 19 20 21 22\n",
      "23 24 25 26 27 28 29\n",
      "30 31\n",
      "\n"
     ]
    }
   ],
   "source": [
    "print(cal)"
   ]
  },
  {
   "cell_type": "code",
   "execution_count": 23,
   "id": "aeb13be9",
   "metadata": {},
   "outputs": [
    {
     "name": "stdout",
     "output_type": "stream",
     "text": [
      "(5, 29)\n",
      "[[0, 0, 0, 0, 0, 1, 2], [3, 4, 5, 6, 7, 8, 9], [10, 11, 12, 13, 14, 15, 16], [17, 18, 19, 20, 21, 22, 23], [24, 25, 26, 27, 28, 29, 0]]\n",
      "True\n"
     ]
    }
   ],
   "source": [
    "# Функций у модуля большое множество. Самые, на наш взгляд, полезные, мы собрали ниже.\n",
    "\n",
    "# import calendar\n",
    "\n",
    "# получить количество дней в месяце и день недели, с которого начинается месяц\n",
    "print(calendar.monthrange(2020, 2))  # (5, 29)\n",
    "# получить двумерный массив из дней календаря по неделям\n",
    "print(calendar.monthcalendar(2020,2)) # [[0, 0, 0, 0, 0, 1, 2], [3, 4, 5, 6, 7, 8, 9], [10, 11, 12, 13, 14, 15, 16], [17, 18, 19, 20, 21, 22, 23], [24, 25, 26, 27, 28, 29, 0]]\n",
    "# определить, является ли год високосным\n",
    "print(calendar.isleap(2020))  # True\n",
    "\n",
    "\n",
    "# Если у вас стоит задача, связанная с календарём, то прежде чем идти \n",
    "# и реализовывать логику самостоятельно, загляните в документацию calendar. \n",
    "# Возможно, там уже есть подходящая функция."
   ]
  },
  {
   "cell_type": "code",
   "execution_count": null,
   "id": "f6112b91",
   "metadata": {},
   "outputs": [],
   "source": []
  },
  {
   "cell_type": "code",
   "execution_count": 33,
   "id": "22644448",
   "metadata": {},
   "outputs": [
    {
     "name": "stdout",
     "output_type": "stream",
     "text": [
      "The calendar of year 2023 is : \n",
      "                                  2023\n",
      "\n",
      "      January                   February                   March\n",
      "Mo Tu We Th Fr Sa Su      Mo Tu We Th Fr Sa Su      Mo Tu We Th Fr Sa Su\n",
      "                   1             1  2  3  4  5             1  2  3  4  5\n",
      " 2  3  4  5  6  7  8       6  7  8  9 10 11 12       6  7  8  9 10 11 12\n",
      " 9 10 11 12 13 14 15      13 14 15 16 17 18 19      13 14 15 16 17 18 19\n",
      "16 17 18 19 20 21 22      20 21 22 23 24 25 26      20 21 22 23 24 25 26\n",
      "23 24 25 26 27 28 29      27 28                     27 28 29 30 31\n",
      "30 31\n",
      "\n",
      "       April                      May                       June\n",
      "Mo Tu We Th Fr Sa Su      Mo Tu We Th Fr Sa Su      Mo Tu We Th Fr Sa Su\n",
      "                1  2       1  2  3  4  5  6  7                1  2  3  4\n",
      " 3  4  5  6  7  8  9       8  9 10 11 12 13 14       5  6  7  8  9 10 11\n",
      "10 11 12 13 14 15 16      15 16 17 18 19 20 21      12 13 14 15 16 17 18\n",
      "17 18 19 20 21 22 23      22 23 24 25 26 27 28      19 20 21 22 23 24 25\n",
      "24 25 26 27 28 29 30      29 30 31                  26 27 28 29 30\n",
      "\n",
      "        July                     August                  September\n",
      "Mo Tu We Th Fr Sa Su      Mo Tu We Th Fr Sa Su      Mo Tu We Th Fr Sa Su\n",
      "                1  2          1  2  3  4  5  6                   1  2  3\n",
      " 3  4  5  6  7  8  9       7  8  9 10 11 12 13       4  5  6  7  8  9 10\n",
      "10 11 12 13 14 15 16      14 15 16 17 18 19 20      11 12 13 14 15 16 17\n",
      "17 18 19 20 21 22 23      21 22 23 24 25 26 27      18 19 20 21 22 23 24\n",
      "24 25 26 27 28 29 30      28 29 30 31               25 26 27 28 29 30\n",
      "31\n",
      "\n",
      "      October                   November                  December\n",
      "Mo Tu We Th Fr Sa Su      Mo Tu We Th Fr Sa Su      Mo Tu We Th Fr Sa Su\n",
      "                   1             1  2  3  4  5                   1  2  3\n",
      " 2  3  4  5  6  7  8       6  7  8  9 10 11 12       4  5  6  7  8  9 10\n",
      " 9 10 11 12 13 14 15      13 14 15 16 17 18 19      11 12 13 14 15 16 17\n",
      "16 17 18 19 20 21 22      20 21 22 23 24 25 26      18 19 20 21 22 23 24\n",
      "23 24 25 26 27 28 29      27 28 29 30               25 26 27 28 29 30 31\n",
      "30 31\n",
      "\n"
     ]
    }
   ],
   "source": [
    "print (\"The calendar of year 2023 is : \")\n",
    "print (calendar.calendar(2023))"
   ]
  },
  {
   "cell_type": "code",
   "execution_count": null,
   "id": "d880a2a3",
   "metadata": {},
   "outputs": [],
   "source": []
  },
  {
   "cell_type": "markdown",
   "id": "9fe22365",
   "metadata": {},
   "source": [
    "# Задача"
   ]
  },
  {
   "cell_type": "code",
   "execution_count": 37,
   "id": "60886209",
   "metadata": {},
   "outputs": [],
   "source": [
    "# Напишите программу, которая определяет, сколько дней в месяце даты, введённой с клавиатуры."
   ]
  },
  {
   "cell_type": "code",
   "execution_count": 38,
   "id": "b3ec5242",
   "metadata": {},
   "outputs": [],
   "source": [
    "from datetime import date"
   ]
  },
  {
   "cell_type": "code",
   "execution_count": 39,
   "id": "b96cbfdc",
   "metadata": {},
   "outputs": [],
   "source": [
    "dat = '2023-10-01'"
   ]
  },
  {
   "cell_type": "code",
   "execution_count": null,
   "id": "7ca5ac69",
   "metadata": {},
   "outputs": [],
   "source": [
    "dat = input()"
   ]
  },
  {
   "cell_type": "code",
   "execution_count": 48,
   "id": "2a4b5845",
   "metadata": {},
   "outputs": [],
   "source": [
    "iso_dat = date.fromisoformat(dat)"
   ]
  },
  {
   "cell_type": "code",
   "execution_count": 49,
   "id": "6cb65461",
   "metadata": {},
   "outputs": [
    {
     "data": {
      "text/plain": [
       "datetime.date(2023, 10, 1)"
      ]
     },
     "execution_count": 49,
     "metadata": {},
     "output_type": "execute_result"
    }
   ],
   "source": [
    "iso_dat"
   ]
  },
  {
   "cell_type": "code",
   "execution_count": 50,
   "id": "12f6ae31",
   "metadata": {},
   "outputs": [
    {
     "data": {
      "text/plain": [
       "10"
      ]
     },
     "execution_count": 50,
     "metadata": {},
     "output_type": "execute_result"
    }
   ],
   "source": [
    "iso_dat.month"
   ]
  },
  {
   "cell_type": "code",
   "execution_count": 52,
   "id": "b8ba8df4",
   "metadata": {},
   "outputs": [
    {
     "data": {
      "text/plain": [
       "2023"
      ]
     },
     "execution_count": 52,
     "metadata": {},
     "output_type": "execute_result"
    }
   ],
   "source": [
    "iso_dat.year"
   ]
  },
  {
   "cell_type": "code",
   "execution_count": 54,
   "id": "79ac3bce",
   "metadata": {},
   "outputs": [
    {
     "data": {
      "text/plain": [
       "31"
      ]
     },
     "execution_count": 54,
     "metadata": {},
     "output_type": "execute_result"
    }
   ],
   "source": [
    "calendar.monthrange(iso_dat.year, iso_dat.month)[1]"
   ]
  },
  {
   "cell_type": "code",
   "execution_count": null,
   "id": "afa912b1",
   "metadata": {},
   "outputs": [],
   "source": []
  },
  {
   "cell_type": "markdown",
   "id": "f9ec405d",
   "metadata": {},
   "source": [
    "# Задача"
   ]
  },
  {
   "cell_type": "code",
   "execution_count": 63,
   "id": "5cb4c56a",
   "metadata": {},
   "outputs": [],
   "source": [
    "import numpy as np\n",
    "import pandas as pd"
   ]
  },
  {
   "cell_type": "code",
   "execution_count": null,
   "id": "34dd341b",
   "metadata": {},
   "outputs": [],
   "source": [
    "# Определите, сколько было понедельников в году, введённом с клавиатуры."
   ]
  },
  {
   "cell_type": "code",
   "execution_count": 55,
   "id": "81080994",
   "metadata": {},
   "outputs": [],
   "source": [
    "year = 2023"
   ]
  },
  {
   "cell_type": "code",
   "execution_count": 57,
   "id": "33442ed9",
   "metadata": {},
   "outputs": [
    {
     "data": {
      "text/plain": [
       "6"
      ]
     },
     "execution_count": 57,
     "metadata": {},
     "output_type": "execute_result"
    }
   ],
   "source": [
    "calendar.weekday(year, 10, 1)"
   ]
  },
  {
   "cell_type": "code",
   "execution_count": 58,
   "id": "edc2bfe0",
   "metadata": {},
   "outputs": [
    {
     "data": {
      "text/plain": [
       "[[0, 0, 0, 0, 0, 0, 1],\n",
       " [2, 3, 4, 5, 6, 7, 8],\n",
       " [9, 10, 11, 12, 13, 14, 15],\n",
       " [16, 17, 18, 19, 20, 21, 22],\n",
       " [23, 24, 25, 26, 27, 28, 29],\n",
       " [30, 31, 0, 0, 0, 0, 0]]"
      ]
     },
     "execution_count": 58,
     "metadata": {},
     "output_type": "execute_result"
    }
   ],
   "source": [
    "calendar.monthcalendar(year, 10)"
   ]
  },
  {
   "cell_type": "code",
   "execution_count": 71,
   "id": "38d065d1",
   "metadata": {},
   "outputs": [
    {
     "data": {
      "text/plain": [
       "True"
      ]
     },
     "execution_count": 71,
     "metadata": {},
     "output_type": "execute_result"
    }
   ],
   "source": [
    "calendar.weekday(year, 10, 1) == 6"
   ]
  },
  {
   "cell_type": "code",
   "execution_count": 84,
   "id": "fe0eac6b",
   "metadata": {},
   "outputs": [
    {
     "name": "stdout",
     "output_type": "stream",
     "text": [
      "52\n"
     ]
    }
   ],
   "source": [
    "# year = 2023\n",
    "year = int(input())\n",
    "count = 0\n",
    "for i in range(1,13):\n",
    "    for j in calendar.monthcalendar(year, i):\n",
    "        if j[0] != 0:\n",
    "            count +=1\n",
    "            \n",
    "print(count)\n",
    "    \n",
    "    "
   ]
  },
  {
   "cell_type": "code",
   "execution_count": null,
   "id": "5ef1559d",
   "metadata": {},
   "outputs": [],
   "source": []
  },
  {
   "cell_type": "markdown",
   "id": "9013b3bb",
   "metadata": {},
   "source": [
    "# Задача"
   ]
  },
  {
   "cell_type": "code",
   "execution_count": null,
   "id": "a967ac6d",
   "metadata": {},
   "outputs": [],
   "source": [
    "# Вам нужно поздравлять ваших сотрудников с днем рождения. \n",
    "# Если у вас есть сотрудники, которые родились 29 февраля, \n",
    "# то в високосный год их нужно поздравлять в эту дату, а в \n",
    "# невисокосный 28-го февраля. Дан список дней рождений сотрудников\n",
    "# и дата поздравления. Нужно вывести те даты, которые попадают под \n",
    "# поздравление в указанный день.\n",
    "\n",
    "# Вашей программе на вход идет дата поздравления, затем натуральное число n,\n",
    "# и далее n дат дней рождений. Выведите даты тех пользователей, которых \n",
    "# нужно поздравить в эту дату. Если поздравлять некого, выведите фразу: \n",
    "# Поздравлять некого"
   ]
  },
  {
   "cell_type": "code",
   "execution_count": 1,
   "id": "8ce1f508",
   "metadata": {},
   "outputs": [],
   "source": [
    "dat = '2022-02-28'\n",
    "n = 4\n",
    "a = ['1998-02-13', '1996-02-29', '2001-02-28', '1996-03-28']"
   ]
  },
  {
   "cell_type": "code",
   "execution_count": 89,
   "id": "101c7e7e",
   "metadata": {},
   "outputs": [
    {
     "data": {
      "text/plain": [
       "['1998-02-13', '1996-02-29', '2001-02-28', '1996-03-28']"
      ]
     },
     "execution_count": 89,
     "metadata": {},
     "output_type": "execute_result"
    }
   ],
   "source": [
    "a"
   ]
  },
  {
   "cell_type": "code",
   "execution_count": 92,
   "id": "79225c4e",
   "metadata": {},
   "outputs": [
    {
     "data": {
      "text/plain": [
       "2"
      ]
     },
     "execution_count": 92,
     "metadata": {},
     "output_type": "execute_result"
    }
   ],
   "source": [
    "date.fromisoformat(a[0]).month"
   ]
  },
  {
   "cell_type": "code",
   "execution_count": 93,
   "id": "4f1c4c58",
   "metadata": {},
   "outputs": [
    {
     "data": {
      "text/plain": [
       "13"
      ]
     },
     "execution_count": 93,
     "metadata": {},
     "output_type": "execute_result"
    }
   ],
   "source": [
    "date.fromisoformat(a[0]).day"
   ]
  },
  {
   "cell_type": "code",
   "execution_count": 98,
   "id": "8632b4fe",
   "metadata": {},
   "outputs": [
    {
     "data": {
      "text/plain": [
       "False"
      ]
     },
     "execution_count": 98,
     "metadata": {},
     "output_type": "execute_result"
    }
   ],
   "source": [
    "calendar.isleap(date.fromisoformat(dat).year)"
   ]
  },
  {
   "cell_type": "code",
   "execution_count": null,
   "id": "f3188a0e",
   "metadata": {},
   "outputs": [],
   "source": []
  },
  {
   "cell_type": "code",
   "execution_count": 106,
   "id": "e84ec502",
   "metadata": {},
   "outputs": [
    {
     "name": "stdout",
     "output_type": "stream",
     "text": [
      "1996-02-29\n",
      "2001-02-28\n"
     ]
    }
   ],
   "source": [
    "year = date.fromisoformat(dat).year\n",
    "month = date.fromisoformat(dat).month\n",
    "day = date.fromisoformat(dat).day\n",
    "for i in range(len(a)):\n",
    "    if date.fromisoformat(a[i]).month == month and date.fromisoformat(a[i]).day == day:\n",
    "        \n",
    "        print(a[i])\n",
    "    \n",
    "    if calendar.isleap(date.fromisoformat(dat).year) is False \\\n",
    "    and date.fromisoformat(a[i]).month == 2 \\\n",
    "    and date.fromisoformat(a[i]).day == 29:\n",
    "        print(a[i])\n",
    "        \n",
    "        \n",
    "        "
   ]
  },
  {
   "cell_type": "code",
   "execution_count": null,
   "id": "fac829ed",
   "metadata": {},
   "outputs": [],
   "source": []
  },
  {
   "cell_type": "code",
   "execution_count": 2,
   "id": "4d57da84",
   "metadata": {},
   "outputs": [
    {
     "name": "stdout",
     "output_type": "stream",
     "text": [
      "1996-02-29\n",
      "2001-02-28\n"
     ]
    }
   ],
   "source": [
    "from datetime import date\n",
    "import calendar\n",
    "\n",
    "dat = '2022-02-28'\n",
    "n = 4\n",
    "a = ['1998-02-13', '1996-02-29', '2001-02-28', '1996-03-28']\n",
    "\n",
    "# dat = input()\n",
    "# n = int(input())\n",
    "# a = []\n",
    "# print(n)\n",
    "# for j in range(n):\n",
    "#     a.append(input())\n",
    "kost = 0\n",
    "\n",
    "year = date.fromisoformat(dat).year\n",
    "month = date.fromisoformat(dat).month\n",
    "day = date.fromisoformat(dat).day\n",
    "for i in range(len(a)):\n",
    "    if date.fromisoformat(a[i]).month == month and date.fromisoformat(a[i]).day == day:\n",
    "        \n",
    "        print(a[i])\n",
    "        kost +=1\n",
    "    \n",
    "    if calendar.isleap(date.fromisoformat(dat).year) is False \\\n",
    "    and date.fromisoformat(a[i]).month == 2 \\\n",
    "    and date.fromisoformat(a[i]).day == 29:\n",
    "        print(a[i])\n",
    "        kost +=1\n",
    "if kost == 0:\n",
    "    print('Поздравлять некого')"
   ]
  },
  {
   "cell_type": "code",
   "execution_count": null,
   "id": "3b40c5f5",
   "metadata": {},
   "outputs": [],
   "source": []
  },
  {
   "cell_type": "markdown",
   "id": "48e1f70a",
   "metadata": {},
   "source": [
    "# Небольшая теория к интервалам"
   ]
  },
  {
   "cell_type": "code",
   "execution_count": null,
   "id": "a9337f38",
   "metadata": {},
   "outputs": [],
   "source": [
    "# В последней задаче этого урока вам, скорее всего, придется применить \n",
    "# несколько базовых алгоритмов работы с числовыми интервалами. Всех, \n",
    "# кто учил алгоритмы, приветствуем, а остальным попытаемся дать необходимую\n",
    "# теорию, чтобы подобные задачи шли у вас проще, так как встречаются они часто."
   ]
  },
  {
   "cell_type": "code",
   "execution_count": null,
   "id": "84e5ec34",
   "metadata": {},
   "outputs": [],
   "source": [
    "# Как склеить несколько интервалов?\n",
    "# Допустим, у вас есть пересекающиеся интервалы (10, 15), (14,20), (15, 21) и \n",
    "# вам нужно их объединить в один, чтобы получилось (10-21)?\n",
    "\n",
    "# Алгоритм следующий:\n",
    "\n",
    "# Сортируем массив интервалов по левой границе\n",
    "# Создаем новый массив и добавляем в него первый элемент массива интервалов\n",
    "# Перебираем исходный массив интервалов\n",
    "# На каждой интерации проверяем пересекаются ли последний элемент из нового массива и интервал\n",
    "# Если да, тогда расширяем правую границу последнего элемента нового массива\n",
    "# Если нет – добавляем интервал в новый массив\n",
    "# Попробуйте реализовать данный алгоритм в следующей задаче!"
   ]
  },
  {
   "cell_type": "markdown",
   "id": "8bfe33b4",
   "metadata": {},
   "source": [
    "# Задача"
   ]
  },
  {
   "cell_type": "code",
   "execution_count": null,
   "id": "59572a14",
   "metadata": {},
   "outputs": [],
   "source": [
    "# Вам даны состоящие из целых чисел интервалы. Если они пересекаются или между ними нет \n",
    "# промежуточных целых чисел их нужно объединить, например:\n",
    "\n",
    "# [(10,20), (15,20)] == [(10,20)]\n",
    "\n",
    "# [(11,20), (21-30)] == [(11,30)]\n",
    "\n",
    "# [(10,30), (15,20)] == [(10,30)]\n",
    "\n",
    "# [(10,20), (15,20), (5,8)] == [(10,20), (5,8)]\n",
    "\n",
    "# Вашей программе на вход поступает натуральное число n и n интервалов, \n",
    "# каждый в новой строке с разделителем границ в пробел.\n",
    "\n",
    "# Ваша программа должна вывести склеенные интервалы, отсортированные по левой границе."
   ]
  },
  {
   "cell_type": "code",
   "execution_count": null,
   "id": "ee86134d",
   "metadata": {},
   "outputs": [],
   "source": [
    "Sample Input 1:\n",
    "5\n",
    "10 20\n",
    "15 20\n",
    "5 8\n",
    "6 7\n",
    "40 50\n",
    "\n",
    "Sample Output 1:\n",
    "[[5, 8], [10, 20], [40, 50]]\n",
    "\n",
    "\n",
    "Sample Input 2:\n",
    "5\n",
    "9 20\n",
    "15 20\n",
    "5 8\n",
    "6 7\n",
    "40 50\n",
    "\n",
    "Sample Output 2:\n",
    "[[5, 20], [40, 50]]\n",
    "\n",
    "\n",
    "Sample Input 3:\n",
    "1\n",
    "9 20\n",
    "\n",
    "Sample Output 3:\n",
    "[[9, 20]]\n",
    "\n",
    "\n",
    "Sample Input 4:\n",
    "10\n",
    "10 20\n",
    "15 20\n",
    "5 8\n",
    "6 7\n",
    "40 50\n",
    "6 20\n",
    "30 40\n",
    "21 22\n",
    "23 34\n",
    "10 11\n",
    "\n",
    "Sample Output 4:\n",
    "[[5, 50]]"
   ]
  },
  {
   "cell_type": "code",
   "execution_count": 119,
   "id": "047d6c11",
   "metadata": {},
   "outputs": [
    {
     "name": "stdout",
     "output_type": "stream",
     "text": [
      "10 20\n",
      "15 20\n",
      "5 8\n",
      "6 7\n",
      "40 50\n",
      "6 20\n",
      "30 40\n",
      "21 22\n",
      "23 34\n",
      "10 11\n"
     ]
    }
   ],
   "source": [
    "e = []\n",
    "\n",
    "for i in range(10):\n",
    "    e.append(input().split())"
   ]
  },
  {
   "cell_type": "code",
   "execution_count": 120,
   "id": "434ae065",
   "metadata": {},
   "outputs": [
    {
     "data": {
      "text/plain": [
       "[['10', '20'],\n",
       " ['15', '20'],\n",
       " ['5', '8'],\n",
       " ['6', '7'],\n",
       " ['40', '50'],\n",
       " ['6', '20'],\n",
       " ['30', '40'],\n",
       " ['21', '22'],\n",
       " ['23', '34'],\n",
       " ['10', '11']]"
      ]
     },
     "execution_count": 120,
     "metadata": {},
     "output_type": "execute_result"
    }
   ],
   "source": [
    "e"
   ]
  },
  {
   "cell_type": "code",
   "execution_count": 121,
   "id": "0c89877f",
   "metadata": {},
   "outputs": [],
   "source": [
    "e = sorted(e, key = lambda x: int(x[0]))"
   ]
  },
  {
   "cell_type": "code",
   "execution_count": 122,
   "id": "d1abc3d3",
   "metadata": {},
   "outputs": [
    {
     "data": {
      "text/plain": [
       "[['5', '8'],\n",
       " ['6', '7'],\n",
       " ['6', '20'],\n",
       " ['10', '20'],\n",
       " ['10', '11'],\n",
       " ['15', '20'],\n",
       " ['21', '22'],\n",
       " ['23', '34'],\n",
       " ['30', '40'],\n",
       " ['40', '50']]"
      ]
     },
     "execution_count": 122,
     "metadata": {},
     "output_type": "execute_result"
    }
   ],
   "source": [
    "e"
   ]
  },
  {
   "cell_type": "code",
   "execution_count": null,
   "id": "79509ce8",
   "metadata": {},
   "outputs": [],
   "source": []
  },
  {
   "cell_type": "code",
   "execution_count": 123,
   "id": "781f1950",
   "metadata": {},
   "outputs": [],
   "source": [
    "start = int(e[0][0])"
   ]
  },
  {
   "cell_type": "code",
   "execution_count": 124,
   "id": "b49060a2",
   "metadata": {},
   "outputs": [
    {
     "data": {
      "text/plain": [
       "5"
      ]
     },
     "execution_count": 124,
     "metadata": {},
     "output_type": "execute_result"
    }
   ],
   "source": [
    "start"
   ]
  },
  {
   "cell_type": "code",
   "execution_count": 125,
   "id": "0fc9c819",
   "metadata": {},
   "outputs": [],
   "source": [
    "end = int(e[0][1])"
   ]
  },
  {
   "cell_type": "code",
   "execution_count": 126,
   "id": "2887e3db",
   "metadata": {},
   "outputs": [
    {
     "data": {
      "text/plain": [
       "8"
      ]
     },
     "execution_count": 126,
     "metadata": {},
     "output_type": "execute_result"
    }
   ],
   "source": [
    "end"
   ]
  },
  {
   "cell_type": "code",
   "execution_count": null,
   "id": "ccb50d72",
   "metadata": {},
   "outputs": [],
   "source": []
  },
  {
   "cell_type": "code",
   "execution_count": 86,
   "id": "488fc90d",
   "metadata": {},
   "outputs": [],
   "source": [
    "res = []"
   ]
  },
  {
   "cell_type": "code",
   "execution_count": null,
   "id": "0952f5e5",
   "metadata": {},
   "outputs": [],
   "source": []
  },
  {
   "cell_type": "code",
   "execution_count": 133,
   "id": "fd7df838",
   "metadata": {},
   "outputs": [
    {
     "data": {
      "text/plain": [
       "[['5', '8'],\n",
       " ['6', '7'],\n",
       " ['6', '20'],\n",
       " ['10', '20'],\n",
       " ['10', '11'],\n",
       " ['15', '20'],\n",
       " ['21', '22'],\n",
       " ['23', '34'],\n",
       " ['30', '40'],\n",
       " ['40', '50']]"
      ]
     },
     "execution_count": 133,
     "metadata": {},
     "output_type": "execute_result"
    }
   ],
   "source": [
    "e"
   ]
  },
  {
   "cell_type": "code",
   "execution_count": 134,
   "id": "4bf93fec",
   "metadata": {},
   "outputs": [],
   "source": [
    "start = int(e[0][0])\n",
    "end = int(e[0][1])\n",
    "\n",
    "\n",
    "for i in range(len(e)):\n",
    "    if int(e[i][0]) < end and int(e[i][1]) <= end:\n",
    "        pass\n",
    "    elif int(e[i][0]) == end+1 or int(e[i][0]) == end:\n",
    "        end = int(e[i][1])\n",
    "        continue\n",
    "        \n",
    "    elif int(e[i][0]) < end and int(e[i][1]) > end:\n",
    "        end = int(e[i][1])\n",
    "        continue\n",
    "    \n",
    "    elif int(e[i][0]) > end:\n",
    "        res.append([start, end])\n",
    "        start = int(e[i][0])\n",
    "        end = int(e[i][1])\n",
    "        \n",
    "res.append([start, end])\n"
   ]
  },
  {
   "cell_type": "code",
   "execution_count": 135,
   "id": "c4490b58",
   "metadata": {},
   "outputs": [
    {
     "data": {
      "text/plain": [
       "[[5, 50]]"
      ]
     },
     "execution_count": 135,
     "metadata": {},
     "output_type": "execute_result"
    }
   ],
   "source": [
    "res"
   ]
  },
  {
   "cell_type": "code",
   "execution_count": null,
   "id": "4d9f57fa",
   "metadata": {},
   "outputs": [],
   "source": []
  },
  {
   "cell_type": "code",
   "execution_count": null,
   "id": "ec3c4dea",
   "metadata": {},
   "outputs": [],
   "source": []
  },
  {
   "cell_type": "code",
   "execution_count": null,
   "id": "de93f272",
   "metadata": {},
   "outputs": [],
   "source": []
  }
 ],
 "metadata": {
  "kernelspec": {
   "display_name": "Python 3 (ipykernel)",
   "language": "python",
   "name": "python3"
  },
  "language_info": {
   "codemirror_mode": {
    "name": "ipython",
    "version": 3
   },
   "file_extension": ".py",
   "mimetype": "text/x-python",
   "name": "python",
   "nbconvert_exporter": "python",
   "pygments_lexer": "ipython3",
   "version": "3.10.0"
  }
 },
 "nbformat": 4,
 "nbformat_minor": 5
}
