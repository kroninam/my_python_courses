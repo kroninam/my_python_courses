{
 "cells": [
  {
   "cell_type": "code",
   "execution_count": 2,
   "id": "acb73ccf",
   "metadata": {},
   "outputs": [],
   "source": [
    "from datetime import date"
   ]
  },
  {
   "cell_type": "code",
   "execution_count": 3,
   "id": "617f2c2c",
   "metadata": {},
   "outputs": [
    {
     "name": "stdout",
     "output_type": "stream",
     "text": [
      "2022-01-01\n"
     ]
    }
   ],
   "source": [
    "my_date = date(2022, 1, 1)  # год, месяц, день\n",
    "print(my_date)"
   ]
  },
  {
   "cell_type": "code",
   "execution_count": 6,
   "id": "907d7b14",
   "metadata": {},
   "outputs": [
    {
     "name": "stdout",
     "output_type": "stream",
     "text": [
      "Год даты:  2022\n",
      "Месяц даты:  1\n",
      "День даты:  1\n",
      "Номер дня недели даты:  5\n",
      "Сегодняшняя дата на устройстве:  2023-09-23\n"
     ]
    }
   ],
   "source": [
    "# У объекта date есть несколько атрибутов, которые позволяют получить информацию о дате.\n",
    "\n",
    "print('Год даты: ', my_date.year)  # 2022\n",
    "print('Месяц даты: ', my_date.month) # 1\n",
    "print('День даты: ', my_date.day)   # 1\n",
    "\n",
    "# день недели от 0 до 6\n",
    "print('Номер дня недели даты: ', my_date.weekday())  # 5\n",
    "\n",
    "# сегодняшняя дата на устройстве\n",
    "print('Сегодняшняя дата на устройстве: ', my_date.today())"
   ]
  },
  {
   "cell_type": "code",
   "execution_count": null,
   "id": "9ad93b10",
   "metadata": {},
   "outputs": [],
   "source": []
  },
  {
   "cell_type": "code",
   "execution_count": 7,
   "id": "034fd04a",
   "metadata": {},
   "outputs": [],
   "source": [
    "# Если в дате нужно что-то заменить, то следует использовать replace.\n",
    "\n",
    "my_date = date(2022, 2, 22)"
   ]
  },
  {
   "cell_type": "code",
   "execution_count": 8,
   "id": "34e02fa0",
   "metadata": {},
   "outputs": [
    {
     "data": {
      "text/plain": [
       "datetime.date(2022, 2, 22)"
      ]
     },
     "execution_count": 8,
     "metadata": {},
     "output_type": "execute_result"
    }
   ],
   "source": [
    "my_date"
   ]
  },
  {
   "cell_type": "code",
   "execution_count": 9,
   "id": "c77a4bdf",
   "metadata": {},
   "outputs": [
    {
     "data": {
      "text/plain": [
       "datetime.date(2023, 2, 22)"
      ]
     },
     "execution_count": 9,
     "metadata": {},
     "output_type": "execute_result"
    }
   ],
   "source": [
    "my_date.replace(year = 2023)"
   ]
  },
  {
   "cell_type": "code",
   "execution_count": null,
   "id": "25f57146",
   "metadata": {},
   "outputs": [],
   "source": []
  },
  {
   "cell_type": "code",
   "execution_count": 11,
   "id": "253f464f",
   "metadata": {},
   "outputs": [
    {
     "data": {
      "text/plain": [
       "False"
      ]
     },
     "execution_count": 11,
     "metadata": {},
     "output_type": "execute_result"
    }
   ],
   "source": [
    "# Даты, как и время, можно сравнивать друг с другом.\n",
    "\n",
    "d_1 = date(2022, 2, 22)\n",
    "d_2 = date(2023, 2, 22)\n",
    "\n",
    "d_1 > d_2"
   ]
  },
  {
   "cell_type": "code",
   "execution_count": null,
   "id": "08e72421",
   "metadata": {},
   "outputs": [],
   "source": []
  },
  {
   "cell_type": "code",
   "execution_count": 17,
   "id": "08f17fa3",
   "metadata": {},
   "outputs": [],
   "source": [
    "# Ввести дату в формате  ISO 8601 можно так же, как и время.\n",
    "\n",
    "d = date.fromisoformat('2022-02-22')"
   ]
  },
  {
   "cell_type": "code",
   "execution_count": 18,
   "id": "5e85b73c",
   "metadata": {},
   "outputs": [
    {
     "data": {
      "text/plain": [
       "datetime.date(2022, 2, 22)"
      ]
     },
     "execution_count": 18,
     "metadata": {},
     "output_type": "execute_result"
    }
   ],
   "source": [
    "d"
   ]
  },
  {
   "cell_type": "code",
   "execution_count": 21,
   "id": "9a694057",
   "metadata": {},
   "outputs": [
    {
     "name": "stdout",
     "output_type": "stream",
     "text": [
      "2022-02-22\n"
     ]
    }
   ],
   "source": [
    "print(d.isoformat())"
   ]
  },
  {
   "cell_type": "code",
   "execution_count": null,
   "id": "4479c44b",
   "metadata": {},
   "outputs": [],
   "source": []
  },
  {
   "cell_type": "code",
   "execution_count": 23,
   "id": "490ed62c",
   "metadata": {},
   "outputs": [],
   "source": [
    "# Форматировать даты можно с помощью strftime.\n",
    "\n",
    "# Спецификатор  \t Единица времени \t Диапазон\n",
    "# %Y          \t     Год    \t   целое число\n",
    "# %m    \t         Месяц   \t    '01-12'\n",
    "# %d       \t        День    \t     '01-31'"
   ]
  },
  {
   "cell_type": "code",
   "execution_count": 28,
   "id": "4dfa8d94",
   "metadata": {},
   "outputs": [
    {
     "data": {
      "text/plain": [
       "'22**02**2022'"
      ]
     },
     "execution_count": 28,
     "metadata": {},
     "output_type": "execute_result"
    }
   ],
   "source": [
    "my_date.strftime('%d**%m**%Y')"
   ]
  },
  {
   "cell_type": "code",
   "execution_count": null,
   "id": "5423d5bd",
   "metadata": {},
   "outputs": [],
   "source": []
  },
  {
   "cell_type": "code",
   "execution_count": null,
   "id": "b604b726",
   "metadata": {},
   "outputs": [],
   "source": []
  },
  {
   "cell_type": "markdown",
   "id": "93b56bab",
   "metadata": {},
   "source": [
    "# Задачи"
   ]
  },
  {
   "cell_type": "code",
   "execution_count": 58,
   "id": "d3241c53",
   "metadata": {},
   "outputs": [],
   "source": [
    "# Задача\n",
    "# Вам дана дата в формате ISO 8601. Выведите на русском языке день недели этой даты.\n",
    "# В качестве вывода используйте слова: Понедельник, Вторник, Среда, Четверг, \n",
    "# Пятница, Суббота, Воскресенье.\n",
    "\n",
    "weekdays = [\"Понедельник\", \"Вторник\", \"Среда\", \"Четверг\", \"Пятница\", \"Суббота\", \"Воскресенье\"]"
   ]
  },
  {
   "cell_type": "code",
   "execution_count": null,
   "id": "b91b081d",
   "metadata": {},
   "outputs": [],
   "source": [
    "n_date = input()"
   ]
  },
  {
   "cell_type": "code",
   "execution_count": 62,
   "id": "c538e751",
   "metadata": {},
   "outputs": [
    {
     "data": {
      "text/plain": [
       "'2020-06-16'"
      ]
     },
     "execution_count": 62,
     "metadata": {},
     "output_type": "execute_result"
    }
   ],
   "source": [
    "n_date = '2020-06-16'\n",
    "n_date"
   ]
  },
  {
   "cell_type": "code",
   "execution_count": 60,
   "id": "a2490216",
   "metadata": {},
   "outputs": [
    {
     "data": {
      "text/plain": [
       "datetime.date(2020, 6, 16)"
      ]
     },
     "execution_count": 60,
     "metadata": {},
     "output_type": "execute_result"
    }
   ],
   "source": [
    "n_date_isoformat = date.fromisoformat(n_date)\n",
    "n_date_isoformat"
   ]
  },
  {
   "cell_type": "code",
   "execution_count": 61,
   "id": "35a07279",
   "metadata": {},
   "outputs": [
    {
     "data": {
      "text/plain": [
       "1"
      ]
     },
     "execution_count": 61,
     "metadata": {},
     "output_type": "execute_result"
    }
   ],
   "source": [
    "number_of_the_day_in_week = n_date_isoformat.weekday()\n",
    "number_of_the_day_in_week"
   ]
  },
  {
   "cell_type": "code",
   "execution_count": 59,
   "id": "e95f313f",
   "metadata": {},
   "outputs": [
    {
     "name": "stdout",
     "output_type": "stream",
     "text": [
      "Вторник\n"
     ]
    }
   ],
   "source": [
    "print(weekdays[number_of_the_day_in_week])"
   ]
  },
  {
   "cell_type": "code",
   "execution_count": null,
   "id": "fbd05ce6",
   "metadata": {},
   "outputs": [],
   "source": []
  },
  {
   "cell_type": "code",
   "execution_count": null,
   "id": "b56b0946",
   "metadata": {},
   "outputs": [],
   "source": [
    "# Задача\n",
    "# Вам дан список из дат в формате ISO 8601. \n",
    "# Нужно сгрупировать их по дням, месяцам и годам и вывести в определенном формате.\n",
    "# Например для дат 2020-01-01, 2022-04-01, 2021-01-02, 2023-05-02, 2023-12-02 \n",
    "# результат будет таким:\n",
    "\n",
    "{\n",
    "    \"days\": {\n",
    "        \"1\": [\n",
    "            \"2020-01-01\",\n",
    "            \"2022-04-01\"\n",
    "        ],\n",
    "        \"2\": [\n",
    "            \"2021-01-02\",\n",
    "            \"2023-05-02\",\n",
    "            \"2023-12-02\"\n",
    "        ]\n",
    "    },\n",
    "    \"months\": {\n",
    "        \"1\": [\n",
    "            \"2020-01-01\",\n",
    "            \"2021-01-02\"\n",
    "        ],\n",
    "        \"4\": [\n",
    "            \"2022-04-01\"\n",
    "        ],\n",
    "        \"5\": [\n",
    "            \"2023-05-02\"\n",
    "        ],\n",
    "        \"12\": [\n",
    "            \"2023-12-02\"\n",
    "        ]\n",
    "    },\n",
    "    \"years\": {\n",
    "        \"2020\": [\n",
    "            \"2020-01-01\"\n",
    "        ],\n",
    "        \"2021\": [\n",
    "            \"2021-01-02\"\n",
    "        ],\n",
    "        \"2022\": [\n",
    "            \"2022-04-01\"\n",
    "        ],\n",
    "        \"2023\": [\n",
    "            \"2023-05-02\",\n",
    "            \"2023-12-02\"\n",
    "        ]\n",
    "    }\n",
    "}"
   ]
  },
  {
   "cell_type": "code",
   "execution_count": 64,
   "id": "c5ed4b2f",
   "metadata": {},
   "outputs": [],
   "source": [
    "answer = {\"days\": {}, \"months\": {}, \"years\": {}}"
   ]
  },
  {
   "cell_type": "code",
   "execution_count": 68,
   "id": "18ee1abd",
   "metadata": {},
   "outputs": [],
   "source": [
    "answer['days'] = 1"
   ]
  },
  {
   "cell_type": "code",
   "execution_count": 69,
   "id": "f2c415ad",
   "metadata": {},
   "outputs": [
    {
     "data": {
      "text/plain": [
       "{'days': 1, 'months': {}, 'years': {}}"
      ]
     },
     "execution_count": 69,
     "metadata": {},
     "output_type": "execute_result"
    }
   ],
   "source": []
  },
  {
   "cell_type": "code",
   "execution_count": 84,
   "id": "9ccbab37",
   "metadata": {},
   "outputs": [
    {
     "name": "stdout",
     "output_type": "stream",
     "text": [
      "1\n",
      "2022-02-22\n"
     ]
    }
   ],
   "source": [
    "n = int(input())\n",
    "days = {}\n",
    "months = {}\n",
    "years = {}\n",
    "\n",
    "\n",
    "for i in range(n):\n",
    "    n_date = input()\n",
    "    n_date_isoformat = date.fromisoformat(n_date)\n",
    "    \n",
    "    if n_date_isoformat.day not in days:\n",
    "        days[n_date_isoformat.day] = [n_date]\n",
    "    else:\n",
    "        days[n_date_isoformat.day] += [n_date]\n",
    "    \n",
    "    \n",
    "    if n_date_isoformat.month not in months:\n",
    "        months[n_date_isoformat.month] = [n_date]\n",
    "    else:\n",
    "        months[n_date_isoformat.month] += [n_date]\n",
    "\n",
    "        \n",
    "    if n_date_isoformat.year not in years:\n",
    "        years[n_date_isoformat.year] = [n_date]\n",
    "    else:\n",
    "        years[n_date_isoformat.year] += [n_date]"
   ]
  },
  {
   "cell_type": "code",
   "execution_count": 85,
   "id": "73e2fb2d",
   "metadata": {},
   "outputs": [
    {
     "data": {
      "text/plain": [
       "{22: ['2022-02-22']}"
      ]
     },
     "execution_count": 85,
     "metadata": {},
     "output_type": "execute_result"
    }
   ],
   "source": [
    "days"
   ]
  },
  {
   "cell_type": "code",
   "execution_count": 86,
   "id": "30d4dd97",
   "metadata": {},
   "outputs": [
    {
     "data": {
      "text/plain": [
       "{2: ['2022-02-22']}"
      ]
     },
     "execution_count": 86,
     "metadata": {},
     "output_type": "execute_result"
    }
   ],
   "source": [
    "months"
   ]
  },
  {
   "cell_type": "code",
   "execution_count": 87,
   "id": "8aca93cd",
   "metadata": {},
   "outputs": [
    {
     "data": {
      "text/plain": [
       "{2022: ['2022-02-22']}"
      ]
     },
     "execution_count": 87,
     "metadata": {},
     "output_type": "execute_result"
    }
   ],
   "source": [
    "years"
   ]
  },
  {
   "cell_type": "code",
   "execution_count": null,
   "id": "0f25aac4",
   "metadata": {},
   "outputs": [],
   "source": []
  },
  {
   "cell_type": "code",
   "execution_count": 116,
   "id": "83cc2098",
   "metadata": {},
   "outputs": [],
   "source": [
    "answer = {'days': days, 'months': months, 'years': years}"
   ]
  },
  {
   "cell_type": "code",
   "execution_count": 117,
   "id": "f1407a78",
   "metadata": {},
   "outputs": [
    {
     "data": {
      "text/plain": [
       "{'days': {22: ['2022-02-22']},\n",
       " 'months': {2: ['2022-02-22']},\n",
       " 'years': {2022: ['2022-02-22']}}"
      ]
     },
     "execution_count": 117,
     "metadata": {},
     "output_type": "execute_result"
    }
   ],
   "source": [
    "answer"
   ]
  },
  {
   "cell_type": "code",
   "execution_count": 118,
   "id": "ae59e96d",
   "metadata": {},
   "outputs": [],
   "source": [
    "import json"
   ]
  },
  {
   "cell_type": "code",
   "execution_count": 119,
   "id": "0823d317",
   "metadata": {},
   "outputs": [
    {
     "data": {
      "text/plain": [
       "'{\\n    \"days\": {\\n        \"22\": [\\n            \"2022-02-22\"\\n        ]\\n    },\\n    \"months\": {\\n        \"2\": [\\n            \"2022-02-22\"\\n        ]\\n    },\\n    \"years\": {\\n        \"2022\": [\\n            \"2022-02-22\"\\n        ]\\n    }\\n}'"
      ]
     },
     "execution_count": 119,
     "metadata": {},
     "output_type": "execute_result"
    }
   ],
   "source": [
    "json.dumps(answer, indent = 4)"
   ]
  },
  {
   "cell_type": "code",
   "execution_count": 120,
   "id": "dfb16f9d",
   "metadata": {},
   "outputs": [
    {
     "name": "stdout",
     "output_type": "stream",
     "text": [
      "{\n",
      "    \"days\": {\n",
      "        \"22\": [\n",
      "            \"2022-02-22\"\n",
      "        ]\n",
      "    },\n",
      "    \"months\": {\n",
      "        \"2\": [\n",
      "            \"2022-02-22\"\n",
      "        ]\n",
      "    },\n",
      "    \"years\": {\n",
      "        \"2022\": [\n",
      "            \"2022-02-22\"\n",
      "        ]\n",
      "    }\n",
      "}\n"
     ]
    }
   ],
   "source": [
    "print(json.dumps(answer, indent = 4))"
   ]
  },
  {
   "cell_type": "code",
   "execution_count": null,
   "id": "0328e610",
   "metadata": {},
   "outputs": [],
   "source": []
  },
  {
   "cell_type": "code",
   "execution_count": 124,
   "id": "ffb8053f",
   "metadata": {},
   "outputs": [
    {
     "name": "stdout",
     "output_type": "stream",
     "text": [
      "2\n"
     ]
    }
   ],
   "source": [
    "n = int(input())\n",
    "lst = []\n",
    "for i in range(n):\n",
    "    lst.append(input())\n",
    "    "
   ]
  },
  {
   "cell_type": "code",
   "execution_count": null,
   "id": "1bef4682",
   "metadata": {},
   "outputs": [],
   "source": []
  },
  {
   "cell_type": "code",
   "execution_count": 158,
   "id": "8edebaeb",
   "metadata": {},
   "outputs": [
    {
     "name": "stdout",
     "output_type": "stream",
     "text": [
      "2\n",
      "2023-11-01\n",
      "2023-12-02\n",
      "{\n",
      "    \"days\": {\n",
      "        \"1\": [\n",
      "            \"2023-11-01\"\n",
      "        ],\n",
      "        \"2\": [\n",
      "            \"2023-12-02\"\n",
      "        ]\n",
      "    },\n",
      "    \"months\": {\n",
      "        \"11\": [\n",
      "            \"2023-11-01\"\n",
      "        ],\n",
      "        \"12\": [\n",
      "            \"2023-12-02\"\n",
      "        ]\n",
      "    },\n",
      "    \"years\": {\n",
      "        \"2023\": [\n",
      "            \"2023-11-01\",\n",
      "            \"2023-12-02\"\n",
      "        ]\n",
      "    }\n",
      "}\n"
     ]
    }
   ],
   "source": [
    "from datetime import date\n",
    "import json\n",
    "\n",
    "n = int(input())\n",
    "lst = []\n",
    "for i in range(n):\n",
    "    lst.append(input())\n",
    "    \n",
    "    \n",
    "days = {}\n",
    "months = {}\n",
    "years = {}\n",
    "\n",
    "\n",
    "for i in lst:\n",
    "    \n",
    "    n_date_isoformat = date.fromisoformat(i)\n",
    "    \n",
    "    if n_date_isoformat.day not in days:\n",
    "        days[n_date_isoformat.day] = [i]\n",
    "    else:\n",
    "        if i not in days[n_date_isoformat.day]:\n",
    "            days[n_date_isoformat.day] += [i]\n",
    "    days[n_date_isoformat.day] = sorted(days[n_date_isoformat.day])\n",
    "    \n",
    "    if n_date_isoformat.month not in months:\n",
    "        months[n_date_isoformat.month] = [i]\n",
    "    else:\n",
    "        if i not in months[n_date_isoformat.month]:\n",
    "            months[n_date_isoformat.month] += [i]\n",
    "    months[n_date_isoformat.month] = sorted(months[n_date_isoformat.month])\n",
    "\n",
    "        \n",
    "    if n_date_isoformat.year not in years:\n",
    "        years[n_date_isoformat.year] = [i]\n",
    "    else:\n",
    "        if i not in years[n_date_isoformat.year]:\n",
    "            years[n_date_isoformat.year] += [i]\n",
    "    years[n_date_isoformat.year] = sorted(years[n_date_isoformat.year])\n",
    "\n",
    "answer = {'days': dict(sorted(days.items())), 'months': dict(sorted(months.items())), 'years': dict(sorted(years.items()))}\n",
    "\n",
    "print(json.dumps(answer, indent = 4))"
   ]
  },
  {
   "cell_type": "code",
   "execution_count": 157,
   "id": "0065868e",
   "metadata": {},
   "outputs": [
    {
     "data": {
      "text/plain": [
       "['2023-11-01', '2023-12-02']"
      ]
     },
     "execution_count": 157,
     "metadata": {},
     "output_type": "execute_result"
    }
   ],
   "source": [
    "sorted(years[2023])"
   ]
  },
  {
   "cell_type": "code",
   "execution_count": 150,
   "id": "5f79ca90",
   "metadata": {},
   "outputs": [
    {
     "data": {
      "text/plain": [
       "{1: ['2023-11-01'], 2: ['2023-12-02']}"
      ]
     },
     "execution_count": 150,
     "metadata": {},
     "output_type": "execute_result"
    }
   ],
   "source": [
    "dict(sorted(days.items()))"
   ]
  },
  {
   "cell_type": "code",
   "execution_count": null,
   "id": "4eca3f3d",
   "metadata": {},
   "outputs": [],
   "source": []
  }
 ],
 "metadata": {
  "kernelspec": {
   "display_name": "Python 3 (ipykernel)",
   "language": "python",
   "name": "python3"
  },
  "language_info": {
   "codemirror_mode": {
    "name": "ipython",
    "version": 3
   },
   "file_extension": ".py",
   "mimetype": "text/x-python",
   "name": "python",
   "nbconvert_exporter": "python",
   "pygments_lexer": "ipython3",
   "version": "3.10.0"
  }
 },
 "nbformat": 4,
 "nbformat_minor": 5
}
