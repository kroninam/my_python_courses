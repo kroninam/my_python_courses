{
 "cells": [
  {
   "cell_type": "markdown",
   "id": "79e243bc",
   "metadata": {},
   "source": [
    "# 1"
   ]
  },
  {
   "cell_type": "code",
   "execution_count": 1,
   "id": "13fe7714",
   "metadata": {},
   "outputs": [
    {
     "ename": "SyntaxError",
     "evalue": "leading zeros in decimal integer literals are not permitted; use an 0o prefix for octal integers (196184533.py, line 4)",
     "output_type": "error",
     "traceback": [
      "\u001b[1;36m  Cell \u001b[1;32mIn[1], line 4\u001b[1;36m\u001b[0m\n\u001b[1;33m    2023-01-01\u001b[0m\n\u001b[1;37m         ^\u001b[0m\n\u001b[1;31mSyntaxError\u001b[0m\u001b[1;31m:\u001b[0m leading zeros in decimal integer literals are not permitted; use an 0o prefix for octal integers\n"
     ]
    }
   ],
   "source": [
    "Вам на вход поступает две даты в формате ISO 8601. \n",
    "Поменяйте в них местами годы если это возможно. Например на вход дано 2 даты:\n",
    "\n",
    "2023-01-01\n",
    "2020-12-12\n",
    "В качестве ответа программа должна вернуть:\n",
    "\n",
    "2020-01-01\n",
    "2023-12-12\n",
    "В случае если это сделать невозможно выведите:\n",
    "\n",
    "Год изменить невозможно\n",
    "\n",
    "\n",
    "Sample Input 2:\n",
    "\n",
    "2020-02-29\n",
    "2021-12-12\n",
    "Sample Output 2:\n",
    "\n",
    "Год изменить невозможно"
   ]
  },
  {
   "cell_type": "code",
   "execution_count": 1,
   "id": "2ecc5445",
   "metadata": {},
   "outputs": [],
   "source": [
    "from datetime import datetime"
   ]
  },
  {
   "cell_type": "code",
   "execution_count": 25,
   "id": "a9d4018e",
   "metadata": {},
   "outputs": [
    {
     "name": "stdout",
     "output_type": "stream",
     "text": [
      "2020-02-29\n",
      "2021-12-12\n"
     ]
    }
   ],
   "source": [
    "n = input()\n",
    "m = input()"
   ]
  },
  {
   "cell_type": "code",
   "execution_count": 26,
   "id": "3c62ca7c",
   "metadata": {},
   "outputs": [],
   "source": [
    "y1 = datetime.fromisoformat(n).year\n",
    "m1 = datetime.fromisoformat(n).month\n",
    "d1 = datetime.fromisoformat(n).day"
   ]
  },
  {
   "cell_type": "code",
   "execution_count": 27,
   "id": "03036d42",
   "metadata": {},
   "outputs": [],
   "source": [
    "y2 = datetime.fromisoformat(m).year\n",
    "m2 = datetime.fromisoformat(m).month\n",
    "d2 = datetime.fromisoformat(m).day"
   ]
  },
  {
   "cell_type": "code",
   "execution_count": 29,
   "id": "757f0c32",
   "metadata": {},
   "outputs": [
    {
     "name": "stdout",
     "output_type": "stream",
     "text": [
      "Год изменить невозможно\n"
     ]
    }
   ],
   "source": [
    "try:\n",
    "    new_n = datetime(y2, m1, d1, 0, 0)\n",
    "except ValueError:\n",
    "    print('Год изменить невозможно')\n",
    "    k = 1"
   ]
  },
  {
   "cell_type": "code",
   "execution_count": 30,
   "id": "23890f5d",
   "metadata": {},
   "outputs": [],
   "source": [
    "try:\n",
    "    new_m = datetime(y1, m2, d2, 0, 0)\n",
    "except ValueError:\n",
    "    print('Год изменить невозможно')\n",
    "    k = 1"
   ]
  },
  {
   "cell_type": "code",
   "execution_count": 31,
   "id": "b32078ad",
   "metadata": {},
   "outputs": [
    {
     "data": {
      "text/plain": [
       "datetime.datetime(2020, 12, 12, 0, 0)"
      ]
     },
     "execution_count": 31,
     "metadata": {},
     "output_type": "execute_result"
    }
   ],
   "source": [
    "new_m"
   ]
  },
  {
   "cell_type": "code",
   "execution_count": null,
   "id": "4422250c",
   "metadata": {},
   "outputs": [],
   "source": []
  },
  {
   "cell_type": "markdown",
   "id": "9e636d44",
   "metadata": {},
   "source": [
    "# 2"
   ]
  },
  {
   "cell_type": "code",
   "execution_count": null,
   "id": "ed483adc",
   "metadata": {},
   "outputs": [],
   "source": [
    "Вашей программе на вход идут два числа – первый и второй год. Посчитайте количество високосных годов между ними включительно.\n",
    "\n",
    "Sample Input 1:\n",
    "\n",
    "2020\n",
    "2028\n",
    "Sample Output 1:\n",
    "\n",
    "3"
   ]
  },
  {
   "cell_type": "code",
   "execution_count": 5,
   "id": "a18ec58b",
   "metadata": {},
   "outputs": [
    {
     "name": "stdout",
     "output_type": "stream",
     "text": [
      "2020\n",
      "2028\n"
     ]
    }
   ],
   "source": [
    "n = int(input())\n",
    "m = int(input())"
   ]
  },
  {
   "cell_type": "code",
   "execution_count": 2,
   "id": "55c549e5",
   "metadata": {},
   "outputs": [],
   "source": [
    "from datetime import datetime"
   ]
  },
  {
   "cell_type": "code",
   "execution_count": 8,
   "id": "02d21466",
   "metadata": {},
   "outputs": [
    {
     "data": {
      "text/plain": [
       "datetime.datetime(2020, 1, 1, 0, 0)"
      ]
     },
     "execution_count": 8,
     "metadata": {},
     "output_type": "execute_result"
    }
   ],
   "source": [
    "n_1 = datetime(n, 1, 1)\n",
    "n_1"
   ]
  },
  {
   "cell_type": "code",
   "execution_count": 9,
   "id": "998b27e4",
   "metadata": {},
   "outputs": [
    {
     "data": {
      "text/plain": [
       "datetime.datetime(2028, 1, 1, 0, 0)"
      ]
     },
     "execution_count": 9,
     "metadata": {},
     "output_type": "execute_result"
    }
   ],
   "source": [
    "m_1 = datetime(m, 1, 1)\n",
    "m_1"
   ]
  },
  {
   "cell_type": "code",
   "execution_count": null,
   "id": "b45afd22",
   "metadata": {},
   "outputs": [],
   "source": []
  },
  {
   "cell_type": "code",
   "execution_count": 19,
   "id": "c66f4850",
   "metadata": {},
   "outputs": [],
   "source": [
    "import calendar"
   ]
  },
  {
   "cell_type": "code",
   "execution_count": 21,
   "id": "e67c52f0",
   "metadata": {},
   "outputs": [
    {
     "data": {
      "text/plain": [
       "True"
      ]
     },
     "execution_count": 21,
     "metadata": {},
     "output_type": "execute_result"
    }
   ],
   "source": [
    "calendar.isleap(n)"
   ]
  },
  {
   "cell_type": "code",
   "execution_count": null,
   "id": "8d6399c1",
   "metadata": {},
   "outputs": [],
   "source": []
  },
  {
   "cell_type": "code",
   "execution_count": 42,
   "id": "553ba830",
   "metadata": {},
   "outputs": [
    {
     "data": {
      "text/plain": [
       "3"
      ]
     },
     "execution_count": 42,
     "metadata": {},
     "output_type": "execute_result"
    }
   ],
   "source": [
    "from datetime import datetime, timedelta\n",
    "import calendar\n",
    "\n",
    "c = 0\n",
    "for i in range (m-n+1):    \n",
    "    if calendar.isleap(n + i):\n",
    "        c += 1\n",
    "print(c)"
   ]
  },
  {
   "cell_type": "code",
   "execution_count": null,
   "id": "09facbcb",
   "metadata": {},
   "outputs": [],
   "source": []
  },
  {
   "cell_type": "markdown",
   "id": "aab3e005",
   "metadata": {},
   "source": [
    "# 3"
   ]
  },
  {
   "cell_type": "code",
   "execution_count": null,
   "id": "3abfbc69",
   "metadata": {},
   "outputs": [],
   "source": [
    "Вам дано 2 даты: start_date и end_date, где start_date <= end_date. \n",
    "Посчитайте, сколько между этими датами дней (включая даты), \n",
    "причём если end_date переходит на следующий месяц или ещё дальше – посчитайте,\n",
    "сколько дней между start_date и последним днём её месяца."
   ]
  },
  {
   "cell_type": "code",
   "execution_count": null,
   "id": "fb9afce2",
   "metadata": {},
   "outputs": [],
   "source": [
    "Ввод:\n",
    "\n",
    "start_date – начальная дата\n",
    "\n",
    "end_date – конечная дата\n",
    "\n",
    "Вывод:\n",
    "\n",
    "Количество дней между датами, ограниченное максимальным количеством дней в месяце.\n",
    "\n",
    "Sample Input 1:\n",
    "\n",
    "2022-08-01\n",
    "2022-08-14\n",
    "Sample Output 1:\n",
    "\n",
    "14"
   ]
  },
  {
   "cell_type": "code",
   "execution_count": 43,
   "id": "68b03898",
   "metadata": {},
   "outputs": [],
   "source": [
    "n = '2022-08-01'\n",
    "m = '2022-08-14'"
   ]
  },
  {
   "cell_type": "code",
   "execution_count": 73,
   "id": "ec2149f9",
   "metadata": {},
   "outputs": [
    {
     "name": "stdout",
     "output_type": "stream",
     "text": [
      "2022-08-01\n",
      "2022-08-14\n",
      "14\n"
     ]
    }
   ],
   "source": [
    "from datetime import datetime, timedelta\n",
    "import calendar\n",
    "\n",
    "n = input()\n",
    "m = input()\n",
    "\n",
    "if datetime.fromisoformat(m).month == datetime.fromisoformat(n).month:\n",
    "    x = datetime.fromisoformat(m) - datetime.fromisoformat(n) + timedelta(days = 1)\n",
    "    print(x.days)\n",
    "    \n",
    "else:\n",
    "    dat = datetime.fromisoformat(m)\n",
    "    last_day = calendar.monthrange(dat.year, dat.month)[1] \n",
    "    x = datetime(dat.year, dat.month, last_day) - datetime.fromisoformat() + timedelta(days = 1)\n",
    "    print(x)\n",
    "    "
   ]
  },
  {
   "cell_type": "code",
   "execution_count": 66,
   "id": "c7f8dceb",
   "metadata": {},
   "outputs": [
    {
     "data": {
      "text/plain": [
       "2022"
      ]
     },
     "execution_count": 66,
     "metadata": {},
     "output_type": "execute_result"
    }
   ],
   "source": [
    "datetime.fromisoformat(m).year"
   ]
  },
  {
   "cell_type": "code",
   "execution_count": 67,
   "id": "68b9b433",
   "metadata": {},
   "outputs": [
    {
     "data": {
      "text/plain": [
       "8"
      ]
     },
     "execution_count": 67,
     "metadata": {},
     "output_type": "execute_result"
    }
   ],
   "source": [
    "datetime.fromisoformat(m).month"
   ]
  },
  {
   "cell_type": "code",
   "execution_count": 69,
   "id": "680d4386",
   "metadata": {},
   "outputs": [
    {
     "data": {
      "text/plain": [
       "31"
      ]
     },
     "execution_count": 69,
     "metadata": {},
     "output_type": "execute_result"
    }
   ],
   "source": [
    "calendar.monthrange(datetime.fromisoformat(m).year, datetime.fromisoformat(m).month)[1]"
   ]
  },
  {
   "cell_type": "code",
   "execution_count": 74,
   "id": "1c8b4170",
   "metadata": {},
   "outputs": [
    {
     "ename": "NameError",
     "evalue": "name 'dat' is not defined",
     "output_type": "error",
     "traceback": [
      "\u001b[1;31m---------------------------------------------------------------------------\u001b[0m",
      "\u001b[1;31mNameError\u001b[0m                                 Traceback (most recent call last)",
      "Cell \u001b[1;32mIn[74], line 1\u001b[0m\n\u001b[1;32m----> 1\u001b[0m datetime(\u001b[43mdat\u001b[49m\u001b[38;5;241m.\u001b[39myear, dat\u001b[38;5;241m.\u001b[39mmonth, last_day)\n",
      "\u001b[1;31mNameError\u001b[0m: name 'dat' is not defined"
     ]
    }
   ],
   "source": [
    "datetime(dat.year, dat.month, last_day)"
   ]
  },
  {
   "cell_type": "code",
   "execution_count": null,
   "id": "0829b6ea",
   "metadata": {},
   "outputs": [],
   "source": []
  },
  {
   "cell_type": "markdown",
   "id": "36e0872e",
   "metadata": {},
   "source": [
    "# 4"
   ]
  },
  {
   "cell_type": "code",
   "execution_count": null,
   "id": "0b055a35",
   "metadata": {},
   "outputs": [],
   "source": [
    "Определите количество дней между двумя годами. Вам на вход поступает два числа – первый год и второй. \n",
    "Нужно определить количество дней между ними.\n",
    "\n",
    "В качестве ответа выведите количество дней между годами.\n",
    "\n",
    "Sample Input 1:\n",
    "\n",
    "2024\n",
    "2020\n",
    "Sample Output 1:\n",
    "\n",
    "1461"
   ]
  },
  {
   "cell_type": "code",
   "execution_count": 2,
   "id": "d87b26e7",
   "metadata": {},
   "outputs": [],
   "source": [
    "from datetime import datetime"
   ]
  },
  {
   "cell_type": "code",
   "execution_count": 3,
   "id": "c9623b7e",
   "metadata": {},
   "outputs": [],
   "source": [
    "n = 2024\n",
    "m = 2020"
   ]
  },
  {
   "cell_type": "code",
   "execution_count": 5,
   "id": "e0614543",
   "metadata": {},
   "outputs": [],
   "source": [
    "dat_1 = datetime(m, 1, 1)"
   ]
  },
  {
   "cell_type": "code",
   "execution_count": 6,
   "id": "642ff34b",
   "metadata": {},
   "outputs": [],
   "source": [
    "dat_2 = datetime(n, 1, 1)"
   ]
  },
  {
   "cell_type": "code",
   "execution_count": 9,
   "id": "02ab2740",
   "metadata": {},
   "outputs": [],
   "source": [
    "delt = dat_2 - dat_1"
   ]
  },
  {
   "cell_type": "code",
   "execution_count": 11,
   "id": "ff3c57ba",
   "metadata": {},
   "outputs": [
    {
     "name": "stdout",
     "output_type": "stream",
     "text": [
      "1461\n"
     ]
    }
   ],
   "source": [
    "print(delt.days)"
   ]
  },
  {
   "cell_type": "code",
   "execution_count": null,
   "id": "0cc291b9",
   "metadata": {},
   "outputs": [],
   "source": []
  },
  {
   "cell_type": "markdown",
   "id": "7ab293a3",
   "metadata": {},
   "source": [
    "# 5"
   ]
  },
  {
   "cell_type": "code",
   "execution_count": null,
   "id": "c035f976",
   "metadata": {},
   "outputs": [],
   "source": [
    "На вход вашей программы подается две строки со временем в формате ISO 8601.\n",
    "Посчитайте, сколько времени прошло между ними.\n",
    "Время дается в разном порядке в рамках одного дня.\n",
    "\n",
    "Sample Input 1:\n",
    "\n",
    "12:00:00\n",
    "15:00:00\n",
    "Sample Output 1:\n",
    "\n",
    "03:00:00"
   ]
  },
  {
   "cell_type": "code",
   "execution_count": null,
   "id": "fcc00c9f",
   "metadata": {},
   "outputs": [],
   "source": []
  },
  {
   "cell_type": "code",
   "execution_count": 12,
   "id": "9207b5fc",
   "metadata": {},
   "outputs": [],
   "source": [
    "from datetime import time, timedelta"
   ]
  },
  {
   "cell_type": "code",
   "execution_count": 37,
   "id": "39f56b74",
   "metadata": {},
   "outputs": [],
   "source": [
    "t_1 = time.fromisoformat('12:00:00')"
   ]
  },
  {
   "cell_type": "code",
   "execution_count": 38,
   "id": "df69e73e",
   "metadata": {},
   "outputs": [],
   "source": [
    "t_2 = time.fromisoformat('15:00:00')"
   ]
  },
  {
   "cell_type": "code",
   "execution_count": null,
   "id": "446d318e",
   "metadata": {},
   "outputs": [],
   "source": [
    "t_1[]"
   ]
  },
  {
   "cell_type": "code",
   "execution_count": null,
   "id": "106ea142",
   "metadata": {},
   "outputs": [],
   "source": []
  },
  {
   "cell_type": "code",
   "execution_count": null,
   "id": "e39ee94e",
   "metadata": {},
   "outputs": [],
   "source": []
  },
  {
   "cell_type": "code",
   "execution_count": 40,
   "id": "2019ca98",
   "metadata": {},
   "outputs": [
    {
     "data": {
      "text/plain": [
       "12"
      ]
     },
     "execution_count": 40,
     "metadata": {},
     "output_type": "execute_result"
    }
   ],
   "source": [
    "t_1.hour"
   ]
  },
  {
   "cell_type": "code",
   "execution_count": 42,
   "id": "9c341927",
   "metadata": {},
   "outputs": [
    {
     "data": {
      "text/plain": [
       "0"
      ]
     },
     "execution_count": 42,
     "metadata": {},
     "output_type": "execute_result"
    }
   ],
   "source": [
    "t_1.minute"
   ]
  },
  {
   "cell_type": "code",
   "execution_count": 44,
   "id": "c1692b7b",
   "metadata": {},
   "outputs": [
    {
     "data": {
      "text/plain": [
       "0"
      ]
     },
     "execution_count": 44,
     "metadata": {},
     "output_type": "execute_result"
    }
   ],
   "source": [
    "t_1.second"
   ]
  },
  {
   "cell_type": "code",
   "execution_count": 47,
   "id": "7ef261c9",
   "metadata": {},
   "outputs": [],
   "source": [
    "tt_1 = timedelta(hours = t_1.hour, minutes = t_1.minute, seconds = t_1.second)"
   ]
  },
  {
   "cell_type": "code",
   "execution_count": 48,
   "id": "5a06ee31",
   "metadata": {},
   "outputs": [],
   "source": [
    "tt_2 = timedelta(hours = t_2.hour, minutes = t_2.minute, seconds = t_2.second)"
   ]
  },
  {
   "cell_type": "code",
   "execution_count": 51,
   "id": "f5f4376a",
   "metadata": {},
   "outputs": [],
   "source": [
    "ttd = abs(tt_1 - tt_2)"
   ]
  },
  {
   "cell_type": "code",
   "execution_count": 57,
   "id": "3d05a425",
   "metadata": {},
   "outputs": [],
   "source": [
    "hours = ttd.seconds//3600"
   ]
  },
  {
   "cell_type": "code",
   "execution_count": 58,
   "id": "1423890b",
   "metadata": {},
   "outputs": [],
   "source": [
    "minutes = ttd.seconds%3600//60"
   ]
  },
  {
   "cell_type": "code",
   "execution_count": 59,
   "id": "07924c93",
   "metadata": {},
   "outputs": [],
   "source": [
    "seconds = minutes%60//60"
   ]
  },
  {
   "cell_type": "code",
   "execution_count": 61,
   "id": "59f15e11",
   "metadata": {},
   "outputs": [
    {
     "name": "stdout",
     "output_type": "stream",
     "text": [
      "03:00:00\n"
     ]
    }
   ],
   "source": [
    "print(time(hour=hours, minute= minutes, second= seconds))"
   ]
  },
  {
   "cell_type": "code",
   "execution_count": null,
   "id": "1c669137",
   "metadata": {},
   "outputs": [],
   "source": []
  },
  {
   "cell_type": "code",
   "execution_count": null,
   "id": "bc08133b",
   "metadata": {},
   "outputs": [],
   "source": [
    "Sample Input 5:\n",
    "\n",
    "23:03:03\n",
    "23:59:02\n",
    "Sample Output 5:\n",
    "\n",
    "00:55:59"
   ]
  },
  {
   "cell_type": "code",
   "execution_count": 76,
   "id": "2ae183fc",
   "metadata": {},
   "outputs": [
    {
     "name": "stdout",
     "output_type": "stream",
     "text": [
      "23:03:03\n",
      "23:59:02\n",
      "00:55:00\n"
     ]
    }
   ],
   "source": [
    "from datetime import time, timedelta\n",
    "\n",
    "t_1 = input().split(':')\n",
    "t_2 = input().split(':')\n",
    "\n",
    "tt_1 = timedelta(hours = int(t_1[0]), minutes = int(t_1[1]), seconds = int(t_1[2]))\n",
    "tt_2 = timedelta(hours = int(t_2[0]), minutes = int(t_2[1]), seconds = int(t_2[2]))\n",
    "\n",
    "ttd = abs(tt_1 - tt_2)\n",
    "\n",
    "hours = ttd.seconds//3600\n",
    "\n",
    "minutes = ttd.seconds%3600//60\n",
    "\n",
    "secs= (ttd.seconds%3600)%60//60\n",
    "\n",
    "print(time(hour=hours, minute= minutes, second= secs))"
   ]
  },
  {
   "cell_type": "code",
   "execution_count": 77,
   "id": "efe97087",
   "metadata": {},
   "outputs": [
    {
     "data": {
      "text/plain": [
       "['23', '03', '03']"
      ]
     },
     "execution_count": 77,
     "metadata": {},
     "output_type": "execute_result"
    }
   ],
   "source": [
    "t_1"
   ]
  },
  {
   "cell_type": "code",
   "execution_count": 78,
   "id": "b902aa6f",
   "metadata": {},
   "outputs": [
    {
     "data": {
      "text/plain": [
       "datetime.timedelta(seconds=3359)"
      ]
     },
     "execution_count": 78,
     "metadata": {},
     "output_type": "execute_result"
    }
   ],
   "source": [
    "ttd"
   ]
  },
  {
   "cell_type": "code",
   "execution_count": 79,
   "id": "16b96374",
   "metadata": {},
   "outputs": [
    {
     "data": {
      "text/plain": [
       "0"
      ]
     },
     "execution_count": 79,
     "metadata": {},
     "output_type": "execute_result"
    }
   ],
   "source": [
    "hours = ttd.seconds//3600\n",
    "hours"
   ]
  },
  {
   "cell_type": "code",
   "execution_count": 80,
   "id": "44d9a221",
   "metadata": {},
   "outputs": [
    {
     "data": {
      "text/plain": [
       "55"
      ]
     },
     "execution_count": 80,
     "metadata": {},
     "output_type": "execute_result"
    }
   ],
   "source": [
    "minutes = ttd.seconds%3600//60\n",
    "minutes"
   ]
  },
  {
   "cell_type": "code",
   "execution_count": 82,
   "id": "4d203dfe",
   "metadata": {},
   "outputs": [
    {
     "data": {
      "text/plain": [
       "59"
      ]
     },
     "execution_count": 82,
     "metadata": {},
     "output_type": "execute_result"
    }
   ],
   "source": [
    "seconds = ttd.seconds%3600%60\n",
    "seconds"
   ]
  },
  {
   "cell_type": "code",
   "execution_count": null,
   "id": "3c8c251a",
   "metadata": {},
   "outputs": [],
   "source": []
  },
  {
   "cell_type": "markdown",
   "id": "80b16079",
   "metadata": {},
   "source": [
    "# 6"
   ]
  },
  {
   "cell_type": "code",
   "execution_count": null,
   "id": "ce6a658d",
   "metadata": {},
   "outputs": [],
   "source": [
    "Определите, сколько прошло времени между двумя моментами во времени.\n",
    "\n",
    "На вход программе идут две строки в формате ISO 8601, содержащие дату и время. \n",
    "Определите сколько между ними секунд.\n",
    "\n",
    "\n",
    "Sample Input 1:\n",
    "\n",
    "2020-02-20T12:00:00\n",
    "2023-01-02T20:01:33\n",
    "Sample Output 1:\n",
    "\n",
    "90489693"
   ]
  },
  {
   "cell_type": "code",
   "execution_count": 83,
   "id": "105414c6",
   "metadata": {},
   "outputs": [],
   "source": [
    "from datetime import datetime"
   ]
  },
  {
   "cell_type": "code",
   "execution_count": 85,
   "id": "e917a89f",
   "metadata": {},
   "outputs": [
    {
     "data": {
      "text/plain": [
       "datetime.datetime(2020, 2, 20, 12, 0)"
      ]
     },
     "execution_count": 85,
     "metadata": {},
     "output_type": "execute_result"
    }
   ],
   "source": [
    "dt_1 = datetime.fromisoformat('2020-02-20T12:00:00')\n",
    "dt_1"
   ]
  },
  {
   "cell_type": "code",
   "execution_count": 86,
   "id": "01c65451",
   "metadata": {
    "scrolled": true
   },
   "outputs": [
    {
     "data": {
      "text/plain": [
       "datetime.datetime(2023, 1, 2, 20, 1, 33)"
      ]
     },
     "execution_count": 86,
     "metadata": {},
     "output_type": "execute_result"
    }
   ],
   "source": [
    "dt_2 = datetime.fromisoformat('2023-01-02T20:01:33')\n",
    "dt_2"
   ]
  },
  {
   "cell_type": "code",
   "execution_count": 98,
   "id": "060517ea",
   "metadata": {},
   "outputs": [],
   "source": [
    "delt = abs(dt_2 - dt_1)"
   ]
  },
  {
   "cell_type": "code",
   "execution_count": 103,
   "id": "a755a787",
   "metadata": {},
   "outputs": [
    {
     "name": "stdout",
     "output_type": "stream",
     "text": [
      "90489693\n"
     ]
    }
   ],
   "source": [
    "print(int(delt.total_seconds()))"
   ]
  },
  {
   "cell_type": "code",
   "execution_count": null,
   "id": "2f0c2f4d",
   "metadata": {},
   "outputs": [],
   "source": []
  },
  {
   "cell_type": "markdown",
   "id": "c768074f",
   "metadata": {},
   "source": [
    "# 7"
   ]
  },
  {
   "cell_type": "code",
   "execution_count": null,
   "id": "7ebeb70c",
   "metadata": {},
   "outputs": [],
   "source": [
    "На вход вашей программе поступают строка с датой, временем и часовым поясом \n",
    "в формате ISO 8601. Переведите время в часовой пояс UTC-03:46 и \"Europe/Moscow\" \n",
    "и выведите каждое время в новой строке.\n",
    "\n",
    "Sample Input 1:\n",
    "\n",
    "2022-01-01T03:44:56+04:40\n",
    "Sample Output 1:\n",
    "\n",
    "2021-12-31T19:18:56-03:46\n",
    "2022-01-01T02:04:56+03:00"
   ]
  },
  {
   "cell_type": "code",
   "execution_count": 110,
   "id": "464ad1a9",
   "metadata": {},
   "outputs": [],
   "source": [
    "from datetime import datetime, timezone\n",
    "from zoneinfo import ZoneInfo"
   ]
  },
  {
   "cell_type": "code",
   "execution_count": 257,
   "id": "32de96d3",
   "metadata": {},
   "outputs": [],
   "source": [
    "n = '2022-04-05T23:33:56-03:46'"
   ]
  },
  {
   "cell_type": "code",
   "execution_count": 258,
   "id": "83003ab1",
   "metadata": {},
   "outputs": [],
   "source": [
    "dat = datetime.fromisoformat('2022-04-05T23:33:56-03:46')"
   ]
  },
  {
   "cell_type": "code",
   "execution_count": 261,
   "id": "4d2d64da",
   "metadata": {},
   "outputs": [
    {
     "data": {
      "text/plain": [
       "datetime.datetime(2022, 4, 5, 23, 33, 56, tzinfo=datetime.timezone(datetime.timedelta(days=-1, seconds=72840)))"
      ]
     },
     "execution_count": 261,
     "metadata": {},
     "output_type": "execute_result"
    }
   ],
   "source": [
    "dat"
   ]
  },
  {
   "cell_type": "code",
   "execution_count": 240,
   "id": "e264614b",
   "metadata": {},
   "outputs": [
    {
     "data": {
      "text/plain": [
       "datetime.timezone(datetime.timedelta(days=-1, seconds=72840))"
      ]
     },
     "execution_count": 240,
     "metadata": {},
     "output_type": "execute_result"
    }
   ],
   "source": [
    "dat.tzinfo"
   ]
  },
  {
   "cell_type": "code",
   "execution_count": 262,
   "id": "f33fa7e9",
   "metadata": {},
   "outputs": [
    {
     "data": {
      "text/plain": [
       "-1"
      ]
     },
     "execution_count": 262,
     "metadata": {},
     "output_type": "execute_result"
    }
   ],
   "source": [
    "dat.tzinfo.utcoffset(dat).days"
   ]
  },
  {
   "cell_type": "code",
   "execution_count": 241,
   "id": "dca333f7",
   "metadata": {},
   "outputs": [
    {
     "data": {
      "text/plain": [
       "72840"
      ]
     },
     "execution_count": 241,
     "metadata": {},
     "output_type": "execute_result"
    }
   ],
   "source": [
    "dat.tzinfo.utcoffset(dat).seconds"
   ]
  },
  {
   "cell_type": "code",
   "execution_count": null,
   "id": "a39ce7d5",
   "metadata": {},
   "outputs": [],
   "source": []
  },
  {
   "cell_type": "code",
   "execution_count": 277,
   "id": "bf5f78a0",
   "metadata": {},
   "outputs": [],
   "source": [
    "if timedelta(days = dat.tzinfo.utcoffset(dat).days, seconds = dat.tzinfo.utcoffset(dat).seconds) != timedelta(days=-1, seconds=72840):\n",
    "    dat = dat - timedelta(days = dat.tzinfo.utcoffset(dat).days, seconds = dat.tzinfo.utcoffset(dat).seconds)\n",
    "    dat = dat - timedelta(hours= 3, minutes= 46)\n",
    "else:\n",
    "    dat = dat - timedelta(days = dat.tzinfo.utcoffset(dat).days, seconds = dat.tzinfo.utcoffset(dat).seconds)"
   ]
  },
  {
   "cell_type": "code",
   "execution_count": 278,
   "id": "3c064d11",
   "metadata": {},
   "outputs": [
    {
     "data": {
      "text/plain": [
       "datetime.datetime(2022, 4, 5, 3, 19, 56, tzinfo=datetime.timezone(datetime.timedelta(days=-1, seconds=72840)))"
      ]
     },
     "execution_count": 278,
     "metadata": {},
     "output_type": "execute_result"
    }
   ],
   "source": [
    "dat"
   ]
  },
  {
   "cell_type": "code",
   "execution_count": null,
   "id": "162826d6",
   "metadata": {},
   "outputs": [],
   "source": []
  },
  {
   "cell_type": "code",
   "execution_count": 263,
   "id": "0a66b2bb",
   "metadata": {},
   "outputs": [
    {
     "data": {
      "text/plain": [
       "datetime.timedelta(days=-1, seconds=72840)"
      ]
     },
     "execution_count": 263,
     "metadata": {},
     "output_type": "execute_result"
    }
   ],
   "source": [
    "timedelta(days = dat.tzinfo.utcoffset(dat).days, seconds = dat.tzinfo.utcoffset(dat).seconds)"
   ]
  },
  {
   "cell_type": "code",
   "execution_count": 264,
   "id": "77bb0338",
   "metadata": {},
   "outputs": [
    {
     "data": {
      "text/plain": [
       "datetime.timedelta(seconds=13560)"
      ]
     },
     "execution_count": 264,
     "metadata": {},
     "output_type": "execute_result"
    }
   ],
   "source": [
    "timedelta(hours= 3, minutes= 46)"
   ]
  },
  {
   "cell_type": "code",
   "execution_count": 268,
   "id": "39fbeaf6",
   "metadata": {},
   "outputs": [
    {
     "data": {
      "text/plain": [
       "datetime.datetime(2022, 4, 5, 3, 19, 56, tzinfo=datetime.timezone(datetime.timedelta(days=-1, seconds=72840)))"
      ]
     },
     "execution_count": 268,
     "metadata": {},
     "output_type": "execute_result"
    }
   ],
   "source": [
    "dat = dat - timedelta(days = dat.tzinfo.utcoffset(dat).days, seconds = dat.tzinfo.utcoffset(dat).seconds)\n",
    "dat"
   ]
  },
  {
   "cell_type": "code",
   "execution_count": 311,
   "id": "4ca07718",
   "metadata": {},
   "outputs": [],
   "source": [
    "dat = dat - timedelta(hours= 3, minutes= 46)"
   ]
  },
  {
   "cell_type": "code",
   "execution_count": 312,
   "id": "5f207f4b",
   "metadata": {},
   "outputs": [
    {
     "data": {
      "text/plain": [
       "datetime.datetime(2022, 4, 5, 3, 19, 56, tzinfo=datetime.timezone(datetime.timedelta(days=-1, seconds=72840)))"
      ]
     },
     "execution_count": 312,
     "metadata": {},
     "output_type": "execute_result"
    }
   ],
   "source": [
    "dat"
   ]
  },
  {
   "cell_type": "code",
   "execution_count": null,
   "id": "a6aca171",
   "metadata": {},
   "outputs": [],
   "source": []
  },
  {
   "cell_type": "code",
   "execution_count": null,
   "id": "9f793207",
   "metadata": {},
   "outputs": [],
   "source": []
  },
  {
   "cell_type": "code",
   "execution_count": 313,
   "id": "09e34a4b",
   "metadata": {},
   "outputs": [
    {
     "data": {
      "text/plain": [
       "2022"
      ]
     },
     "execution_count": 313,
     "metadata": {},
     "output_type": "execute_result"
    }
   ],
   "source": [
    "dat.year"
   ]
  },
  {
   "cell_type": "code",
   "execution_count": 314,
   "id": "ccac91a8",
   "metadata": {},
   "outputs": [
    {
     "data": {
      "text/plain": [
       "4"
      ]
     },
     "execution_count": 314,
     "metadata": {},
     "output_type": "execute_result"
    }
   ],
   "source": [
    "dat.month"
   ]
  },
  {
   "cell_type": "code",
   "execution_count": 315,
   "id": "edd36675",
   "metadata": {},
   "outputs": [
    {
     "data": {
      "text/plain": [
       "5"
      ]
     },
     "execution_count": 315,
     "metadata": {},
     "output_type": "execute_result"
    }
   ],
   "source": [
    "dat.day"
   ]
  },
  {
   "cell_type": "code",
   "execution_count": 316,
   "id": "7112927e",
   "metadata": {},
   "outputs": [
    {
     "data": {
      "text/plain": [
       "3"
      ]
     },
     "execution_count": 316,
     "metadata": {},
     "output_type": "execute_result"
    }
   ],
   "source": [
    "dat.hour"
   ]
  },
  {
   "cell_type": "code",
   "execution_count": 317,
   "id": "b78fbde1",
   "metadata": {},
   "outputs": [
    {
     "data": {
      "text/plain": [
       "19"
      ]
     },
     "execution_count": 317,
     "metadata": {},
     "output_type": "execute_result"
    }
   ],
   "source": [
    "dat.minute"
   ]
  },
  {
   "cell_type": "code",
   "execution_count": 318,
   "id": "14eb9fb0",
   "metadata": {},
   "outputs": [
    {
     "data": {
      "text/plain": [
       "56"
      ]
     },
     "execution_count": 318,
     "metadata": {},
     "output_type": "execute_result"
    }
   ],
   "source": [
    "dat.second"
   ]
  },
  {
   "cell_type": "code",
   "execution_count": 319,
   "id": "c8532c33",
   "metadata": {},
   "outputs": [],
   "source": [
    "tz = timezone(offset=timedelta(hours= -3, minutes=-46))"
   ]
  },
  {
   "cell_type": "code",
   "execution_count": 320,
   "id": "300fa4ee",
   "metadata": {},
   "outputs": [
    {
     "data": {
      "text/plain": [
       "datetime.timezone(datetime.timedelta(days=-1, seconds=72840))"
      ]
     },
     "execution_count": 320,
     "metadata": {},
     "output_type": "execute_result"
    }
   ],
   "source": [
    "tz"
   ]
  },
  {
   "cell_type": "code",
   "execution_count": 321,
   "id": "80c86891",
   "metadata": {},
   "outputs": [],
   "source": [
    "t3 = datetime(dat.year, dat.month, dat.day, dat.hour, dat.minute, dat.second, tzinfo=tz)"
   ]
  },
  {
   "cell_type": "code",
   "execution_count": 322,
   "id": "e1e9ddaa",
   "metadata": {},
   "outputs": [
    {
     "name": "stdout",
     "output_type": "stream",
     "text": [
      "2022-04-05 03:19:56-03:46\n"
     ]
    }
   ],
   "source": [
    "print(t3)"
   ]
  },
  {
   "cell_type": "code",
   "execution_count": null,
   "id": "1514c78b",
   "metadata": {},
   "outputs": [],
   "source": []
  },
  {
   "cell_type": "code",
   "execution_count": null,
   "id": "30664dd3",
   "metadata": {},
   "outputs": [],
   "source": []
  },
  {
   "cell_type": "code",
   "execution_count": 323,
   "id": "c39c03b5",
   "metadata": {},
   "outputs": [],
   "source": [
    "moskow_tz = ZoneInfo(\"Europe/Moscow\")"
   ]
  },
  {
   "cell_type": "code",
   "execution_count": 324,
   "id": "63537c40",
   "metadata": {},
   "outputs": [
    {
     "data": {
      "text/plain": [
       "zoneinfo.ZoneInfo(key='Europe/Moscow')"
      ]
     },
     "execution_count": 324,
     "metadata": {},
     "output_type": "execute_result"
    }
   ],
   "source": [
    "moskow_tz"
   ]
  },
  {
   "cell_type": "code",
   "execution_count": 359,
   "id": "c39d9296",
   "metadata": {},
   "outputs": [
    {
     "data": {
      "text/plain": [
       "datetime.datetime(2022, 4, 5, 23, 33, 56, tzinfo=datetime.timezone(datetime.timedelta(days=-1, seconds=72840)))"
      ]
     },
     "execution_count": 359,
     "metadata": {},
     "output_type": "execute_result"
    }
   ],
   "source": [
    "dat = datetime.fromisoformat('2022-04-05T23:33:56-03:46')\n",
    "dat"
   ]
  },
  {
   "cell_type": "code",
   "execution_count": 360,
   "id": "ee55eabd",
   "metadata": {},
   "outputs": [
    {
     "data": {
      "text/plain": [
       "72840"
      ]
     },
     "execution_count": 360,
     "metadata": {},
     "output_type": "execute_result"
    }
   ],
   "source": [
    "dat.tzinfo.utcoffset(dat).seconds"
   ]
  },
  {
   "cell_type": "code",
   "execution_count": 361,
   "id": "321e7e6d",
   "metadata": {},
   "outputs": [
    {
     "data": {
      "text/plain": [
       "datetime.datetime(2022, 4, 6, 3, 19, 56, tzinfo=datetime.timezone(datetime.timedelta(days=-1, seconds=72840)))"
      ]
     },
     "execution_count": 361,
     "metadata": {},
     "output_type": "execute_result"
    }
   ],
   "source": [
    "dat = dat - timedelta(days = dat.tzinfo.utcoffset(dat).days, seconds = dat.tzinfo.utcoffset(dat).seconds)\n",
    "dat"
   ]
  },
  {
   "cell_type": "code",
   "execution_count": 362,
   "id": "43d35071",
   "metadata": {},
   "outputs": [],
   "source": [
    "dat = dat + timedelta(hours= 3, minutes= 00)"
   ]
  },
  {
   "cell_type": "code",
   "execution_count": 363,
   "id": "8a86ed99",
   "metadata": {},
   "outputs": [
    {
     "data": {
      "text/plain": [
       "datetime.datetime(2022, 4, 6, 6, 19, 56, tzinfo=datetime.timezone(datetime.timedelta(days=-1, seconds=72840)))"
      ]
     },
     "execution_count": 363,
     "metadata": {},
     "output_type": "execute_result"
    }
   ],
   "source": [
    "dat"
   ]
  },
  {
   "cell_type": "code",
   "execution_count": 364,
   "id": "f176bfc7",
   "metadata": {},
   "outputs": [],
   "source": [
    "t2 = datetime(dat.year, dat.month, dat.day, dat.hour, dat.minute, dat.second, tzinfo=moskow_tz)"
   ]
  },
  {
   "cell_type": "code",
   "execution_count": 365,
   "id": "e53edebb",
   "metadata": {
    "scrolled": true
   },
   "outputs": [
    {
     "name": "stdout",
     "output_type": "stream",
     "text": [
      "2022-04-06T06:19:56+03:00\n"
     ]
    }
   ],
   "source": [
    "print(datetime.isoformat(t2))"
   ]
  },
  {
   "cell_type": "code",
   "execution_count": null,
   "id": "24cbf40c",
   "metadata": {},
   "outputs": [],
   "source": []
  },
  {
   "cell_type": "code",
   "execution_count": null,
   "id": "b2bdb025",
   "metadata": {},
   "outputs": [],
   "source": []
  }
 ],
 "metadata": {
  "kernelspec": {
   "display_name": "Python 3 (ipykernel)",
   "language": "python",
   "name": "python3"
  },
  "language_info": {
   "codemirror_mode": {
    "name": "ipython",
    "version": 3
   },
   "file_extension": ".py",
   "mimetype": "text/x-python",
   "name": "python",
   "nbconvert_exporter": "python",
   "pygments_lexer": "ipython3",
   "version": "3.10.2"
  }
 },
 "nbformat": 4,
 "nbformat_minor": 5
}
