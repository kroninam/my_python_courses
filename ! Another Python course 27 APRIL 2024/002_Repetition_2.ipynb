{
 "cells": [
  {
   "cell_type": "markdown",
   "id": "adb8f71b-b0b3-46b7-b374-4c951510b19f",
   "metadata": {},
   "source": [
    "# Задача №1"
   ]
  },
  {
   "cell_type": "code",
   "execution_count": null,
   "id": "b5ff4dd2-3581-42ae-a464-afde4377b2b4",
   "metadata": {},
   "outputs": [],
   "source": [
    "Тимуру необходимо посетить два магазина, расположенных рядом с его домом. \n",
    "От дома до первого магазина ведёт дорожка длиной \n",
    "\n",
    "d 1  метров, а до второго магазина ведёт дорожка длиной d 2  метров. \n",
    "\n",
    "Также существует дорожка, соединяющая два магазина друг с другом, длиной \n",
    "\n",
    "d 3  метров.\n",
    "\n",
    "Напишите программу, которая вычисляет минимальное расстояние, которое потребуется пройти Тимуру,\n",
    "чтобы посетить оба магазина и вернуться домой. Тимур всегда стартует из дома. Он должен посетить \n",
    "оба магазина, перемещаясь только по имеющимся трём дорожкам, и вернуться назад домой. При этом его\n",
    "совершенно не смутит, если ему придётся посетить один и тот же магазин или пройти по одной и той же\n",
    "дорожке более одного раза. Единственная его задача — минимизировать суммарное пройденное расстояние.\n",
    "\n",
    "Формат входных данных\n",
    "На вход программе подаются \n",
    "3 натуральных числа  \n",
    "𝑑1,𝑑2,𝑑3  — длины дорожек, каждое на отдельной строке:\n",
    "\n",
    "d 1  — длина дорожки, соединяющая дом Тимура и первый магазин\n",
    "d 2  — длина дорожки, соединяющая дом Тимура и второй магазин\n",
    "d 3  — длина дорожки, соединяющая магазины\n",
    "\n",
    "Формат выходных данных\n",
    "Программа должна вывести минимальное количество метров, которое придётся пройти Тимуру, \n",
    "чтобы посетить оба магазина и вернуться домой.\n",
    "\n",
    "Sample Input 1:\n",
    "10\n",
    "20\n",
    "30\n",
    "Sample Output 1:\n",
    "60"
   ]
  },
  {
   "cell_type": "code",
   "execution_count": null,
   "id": "8c5f76ee-8293-4a0e-8144-1edd2448f6e9",
   "metadata": {},
   "outputs": [],
   "source": []
  },
  {
   "cell_type": "code",
   "execution_count": 1,
   "id": "e580395e-2227-4af0-b780-ef1f42ee4c9a",
   "metadata": {},
   "outputs": [
    {
     "name": "stdin",
     "output_type": "stream",
     "text": [
      " 100\n",
      " 33\n",
      " 34\n"
     ]
    }
   ],
   "source": [
    "d1 = int(input())\n",
    "d2 = int(input())\n",
    "d3 = int(input())"
   ]
  },
  {
   "cell_type": "code",
   "execution_count": 2,
   "id": "381001f4-a4f5-4cc8-bc74-1a23a4ab96d2",
   "metadata": {},
   "outputs": [
    {
     "data": {
      "text/plain": [
       "266"
      ]
     },
     "execution_count": 2,
     "metadata": {},
     "output_type": "execute_result"
    }
   ],
   "source": [
    "s1 = d1 + d1 + d2 + d2\n",
    "s1"
   ]
  },
  {
   "cell_type": "code",
   "execution_count": 3,
   "id": "4e1af857-70d8-493d-b4d1-b18b96b15e5e",
   "metadata": {},
   "outputs": [
    {
     "data": {
      "text/plain": [
       "167"
      ]
     },
     "execution_count": 3,
     "metadata": {},
     "output_type": "execute_result"
    }
   ],
   "source": [
    "s2 = d1 + d3 + d2\n",
    "s2"
   ]
  },
  {
   "cell_type": "code",
   "execution_count": 5,
   "id": "12d798d3-ae74-4380-9118-c476f3c50c38",
   "metadata": {},
   "outputs": [
    {
     "data": {
      "text/plain": [
       "134"
      ]
     },
     "execution_count": 5,
     "metadata": {},
     "output_type": "execute_result"
    }
   ],
   "source": [
    "s3 = d2 + d3 + d3 + d2\n",
    "s3"
   ]
  },
  {
   "cell_type": "code",
   "execution_count": 6,
   "id": "fc9ee318-faf7-44fe-a7f9-a9b0cb75a616",
   "metadata": {},
   "outputs": [
    {
     "data": {
      "text/plain": [
       "268"
      ]
     },
     "execution_count": 6,
     "metadata": {},
     "output_type": "execute_result"
    }
   ],
   "source": [
    "s4 = d1 + d3 + d3 + d1\n",
    "s4"
   ]
  },
  {
   "cell_type": "code",
   "execution_count": null,
   "id": "91df803c-d013-40cc-9325-e6e73a62e90c",
   "metadata": {},
   "outputs": [],
   "source": []
  },
  {
   "cell_type": "code",
   "execution_count": null,
   "id": "ffeb2d5d-b0c4-4dbb-bac8-f2fc18ce3aa6",
   "metadata": {},
   "outputs": [],
   "source": []
  },
  {
   "cell_type": "code",
   "execution_count": 7,
   "id": "52087c1d-9c53-4f6e-9594-59902661745f",
   "metadata": {},
   "outputs": [],
   "source": [
    "def optimal_lenth(d1, d2, d3):\n",
    "    s1 = d1 + d1 + d2 + d2\n",
    "    s2 = d1 + d3 + d2\n",
    "    s3 = d2 + d3 + d3 + d2\n",
    "    s4 = d1 + d3 + d3 + d1\n",
    "\n",
    "    return min([s1, s2, s3, s4])"
   ]
  },
  {
   "cell_type": "code",
   "execution_count": 8,
   "id": "50b845fb-00ab-4aae-8e45-74e71344028c",
   "metadata": {},
   "outputs": [
    {
     "name": "stdout",
     "output_type": "stream",
     "text": [
      "134\n"
     ]
    }
   ],
   "source": [
    "print(optimal_lenth(d1, d2, d3))"
   ]
  },
  {
   "cell_type": "code",
   "execution_count": null,
   "id": "6be41646-3016-492a-aa7b-aac1b14ddee9",
   "metadata": {},
   "outputs": [],
   "source": []
  },
  {
   "cell_type": "markdown",
   "id": "02b228d3-3347-4d2e-b88b-ba7b5e0bb183",
   "metadata": {},
   "source": [
    "# Задача №2"
   ]
  },
  {
   "cell_type": "code",
   "execution_count": null,
   "id": "0ddbbdd5-6eb8-4471-bf78-aef5c290580a",
   "metadata": {},
   "outputs": [],
   "source": [
    "Схожие буквы\n",
    "В русском и английском языках есть буквы, которые выглядят одинаково. Вот список \n",
    "английских букв \"AaBCcEeHKMOoPpTXxy\", а вот их русские аналоги \"АаВСсЕеНКМОоРрТХху\". \n",
    "Напишите программу, которая для трёх букв из данных списков букв определяет, русские они,\n",
    "английские или и те и другие (смесь русских и английских букв).\n",
    "\n",
    "Формат входных данных\n",
    "На вход программе подаются три буквы из указанных в условии наборов букв, каждая на отдельной строке.\n",
    "\n",
    "Формат выходных данных\n",
    "Программа должна вывести\n",
    "\n",
    "ru, если все три буквы русские\n",
    " en, если все три буквы английские\n",
    " mix, если среди букв есть как русские, так и английские\n",
    "Примечание 1. Гарантируется, что введенные три буквы находятся в наборе \"AaBCcEeHKMOoPpTXxy\" + \"АаВСсЕеНКМОоРрТХху\" (английские + русские буквы)."
   ]
  },
  {
   "cell_type": "code",
   "execution_count": 33,
   "id": "8ab6647e-9d99-4b26-b13d-c4915d9f3c50",
   "metadata": {},
   "outputs": [
    {
     "name": "stdin",
     "output_type": "stream",
     "text": [
      " f\n",
      " d\n",
      " K\n"
     ]
    },
    {
     "name": "stdout",
     "output_type": "stream",
     "text": [
      "mix\n"
     ]
    }
   ],
   "source": [
    "def mix_letters(a,b,c):\n",
    "    if all((a in \"AaBCcEeHKMOoPpTXxy\", b in \"AaBCcEeHKMOoPpTXxy\", c in \"AaBCcEeHKMOoPpTXxy\")):\n",
    "        return 'en'\n",
    "    elif all((a in \"АаВСсЕеНКМОоРрТХху\", b in \"АаВСсЕеНКМОоРрТХху\", c in \"АаВСсЕеНКМОоРрТХху\")):\n",
    "        return 'ru'\n",
    "    return 'mix'\n",
    "\n",
    "a = input()\n",
    "b = input()\n",
    "c = input()\n",
    "\n",
    "print(mix_letters(a,b,c))"
   ]
  },
  {
   "cell_type": "code",
   "execution_count": null,
   "id": "764bceb8-90b2-4de0-ba95-a7b9b5cd5d7b",
   "metadata": {},
   "outputs": [],
   "source": []
  },
  {
   "cell_type": "markdown",
   "id": "7ad8bbca-3f90-4665-83c9-12c5e020e5f9",
   "metadata": {},
   "source": [
    "# Задача №4"
   ]
  },
  {
   "cell_type": "code",
   "execution_count": null,
   "id": "9f05e0d7-9294-4929-835f-9bc54486d342",
   "metadata": {},
   "outputs": [],
   "source": [
    "Переворатор\n",
    "Дана последовательность натуральных чисел от \n",
    "1 до n включительно. Напишите программу, которая сначала располагает в обратном порядке часть \n",
    "элементов этой последовательности от элемента с номером \n",
    "X до элемента с номером 𝑌\n",
    "Y, а затем от элемента с номером 𝐴 до элемента с номером B.\n",
    "\n",
    "Формат входных данных\n",
    "На вход программе подаются \n",
    "\n",
    "5 натуральных чисел, разделенных пробелом: n,X, Y,A,B (X<Y,A<B,  1≤X,Y,A,B≤ n).\n",
    "\n",
    "Формат выходных данных\n",
    "Программа должна сформировать последовательность чисел, согласно условию задачи, и вывести их, разделяя пробелом.\n",
    "\n",
    "Примечание 1. Нумерация членов последовательности начинается с единицы.\n",
    "\n",
    "Примечание 2. Рассмотрим первый тест, в котором \n",
    "\n",
    "n=9,X=2,Y=5,A=6,B=9. Запишем последовательность от 1 до 9\n",
    "1,2,3,4,5,6,7,8,9\n",
    "\n",
    "Перевернем в этой последовательности сначала элементы со \n",
    "\n",
    "2 по 5(2,3,4,5), затем с \n",
    "6 по 9\n",
    "\n",
    "(6,7,8,9). Получим искомую последовательность:\n",
    "\n",
    "1,5,4,3,2,9,8,7,6\n",
    "    \n",
    "Примечание 3. Тестовые данные доступны по ссылкам:\n",
    "\n",
    "Архив с тестами\n",
    "GitHub\n",
    "Sample Input 1:\n",
    "9 2 5 6 9\n",
    "Sample Output 1:\n",
    "1 5 4 3 2 9 8 7 6 \n",
    "\n",
    "Sample Input 2:\n",
    "\n",
    "9 3 6 5 8\n",
    "Sample Output 2:\n",
    "\n",
    "1 2 6 5 8 7 3 4 9 "
   ]
  },
  {
   "cell_type": "code",
   "execution_count": 64,
   "id": "33fb4f8d-0c70-4c4d-be41-d2c6b3617282",
   "metadata": {},
   "outputs": [],
   "source": [
    "def perevorator(n, x, y, a, b):\n",
    "    lst = list(range(1, n+1))\n",
    "    lst[x-1:y] =  lst[x-1:y][::-1]\n",
    "    lst[a-1:b] = lst[a-1:b][::-1]\n",
    "    \n",
    "\n",
    "    return lst"
   ]
  },
  {
   "cell_type": "code",
   "execution_count": 65,
   "id": "b675d747-f3cc-4cbc-b91a-5c7ac423217c",
   "metadata": {},
   "outputs": [
    {
     "name": "stdin",
     "output_type": "stream",
     "text": [
      " 9 2 5 6 9\n"
     ]
    }
   ],
   "source": [
    "n, x, y, a, b = map(int, input().split())"
   ]
  },
  {
   "cell_type": "code",
   "execution_count": 66,
   "id": "f126a880-b864-44d2-80a1-4dda00213eeb",
   "metadata": {},
   "outputs": [
    {
     "name": "stdout",
     "output_type": "stream",
     "text": [
      "1 5 4 3 2 9 8 7 6\n"
     ]
    }
   ],
   "source": [
    "print(*perevorator(n, x, y, a, b))"
   ]
  },
  {
   "cell_type": "code",
   "execution_count": null,
   "id": "88e3ec9a-f6b1-45df-90b8-d4301a19a32a",
   "metadata": {},
   "outputs": [],
   "source": []
  }
 ],
 "metadata": {
  "kernelspec": {
   "display_name": "Python 3 (ipykernel)",
   "language": "python",
   "name": "python3"
  },
  "language_info": {
   "codemirror_mode": {
    "name": "ipython",
    "version": 3
   },
   "file_extension": ".py",
   "mimetype": "text/x-python",
   "name": "python",
   "nbconvert_exporter": "python",
   "pygments_lexer": "ipython3",
   "version": "3.12.3"
  }
 },
 "nbformat": 4,
 "nbformat_minor": 5
}
