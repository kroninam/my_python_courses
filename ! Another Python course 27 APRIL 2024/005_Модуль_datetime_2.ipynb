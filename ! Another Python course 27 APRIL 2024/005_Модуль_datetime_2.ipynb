{
 "cells": [
  {
   "cell_type": "code",
   "execution_count": 3,
   "id": "c760bc4a-dbb1-41cc-8394-740b3b9efcf4",
   "metadata": {},
   "outputs": [],
   "source": [
    "# Типы данных date и time. Часть 2"
   ]
  },
  {
   "cell_type": "code",
   "execution_count": 9,
   "id": "35e6ceba-b6f1-4ae1-824c-fb372b1f5949",
   "metadata": {},
   "outputs": [
    {
     "name": "stdout",
     "output_type": "stream",
     "text": [
      "Дата первого урагана в ISO формате: 2024-05-17\n",
      "Дата первого урагана в RU формате: 17.05.2024\n",
      "Дата первого урагана в US формате: 05/17/2024\n"
     ]
    }
   ],
   "source": [
    "from datetime import date\n",
    "\n",
    "# присваиваем самую раннюю дату урагана в переменную first_date\n",
    "first_date = date(day = 17, month = 5, year = 2024)\n",
    "\n",
    "# конвертируем дату в ISO и RU формат\n",
    "iso = 'Дата первого урагана в ISO формате: ' + str(first_date)\n",
    "ru = 'Дата первого урагана в RU формате: ' + first_date.strftime('%d.%m.%Y')\n",
    "us = 'Дата первого урагана в US формате: ' + first_date.strftime('%m/%d/%Y')\n",
    "\n",
    "print(iso)\n",
    "print(ru)\n",
    "print(us)"
   ]
  },
  {
   "cell_type": "code",
   "execution_count": null,
   "id": "0c4a345c-faf4-457f-8310-b47127d50a11",
   "metadata": {},
   "outputs": [],
   "source": []
  },
  {
   "cell_type": "code",
   "execution_count": 11,
   "id": "4a357963-92c0-4ee8-9026-cb697f5b1cca",
   "metadata": {},
   "outputs": [
    {
     "name": "stdout",
     "output_type": "stream",
     "text": [
      "1992-08\n",
      "August (1992)\n",
      "1992-1\n"
     ]
    }
   ],
   "source": [
    "from datetime import date\n",
    "\n",
    "andrew = date(1992, 8, 24)\n",
    "\n",
    "print(andrew.strftime('%Y-%m'))   # выводим дату в формате YYYY-MM\n",
    "print(andrew.strftime('%B (%Y)'))   # выводим дату в формате month_name (YYYY)\n",
    "print(andrew.strftime('%Y-%w'))   # выводим дату в формате YYYY-day_number"
   ]
  },
  {
   "cell_type": "code",
   "execution_count": null,
   "id": "b2fe07d0-2fcd-4d75-8e22-de9134b8ebce",
   "metadata": {},
   "outputs": [],
   "source": []
  },
  {
   "cell_type": "markdown",
   "id": "83784656-a7b8-47c8-a7f2-d28a2d7d9291",
   "metadata": {},
   "source": [
    "# Задача №1"
   ]
  },
  {
   "cell_type": "code",
   "execution_count": 26,
   "id": "8b79b3ef-adf9-44e6-9fc9-c997435025a2",
   "metadata": {},
   "outputs": [],
   "source": [
    "Функция print_good_dates()\n",
    "Тимур считает дату «интересной», если её год совпадает с годом его рождения, \n",
    "\n",
    "а сумма номера месяца\n",
    "и номера дня равна его возрасту. Год рождения Тимура — \n",
    "1992, возраст — \n",
    "29 лет.\n",
    "\n",
    "Реализуйте функцию print_good_dates(), которая принимает один аргумент:\n",
    "\n",
    "dates — список дат (тип date)\n",
    "Функция должна выводить «интересные» даты в порядке возрастания, каждую на отдельной строке, в формате  \n",
    "    month_name DD, YYYY, где month_name — полное название месяца на английском. \n",
    "\n",
    "Примечание 1. Если в функцию передается пустой список или список без интересных дат, функция ничего не\n",
    "    должна выводить.\n",
    "\n",
    "Примечание 2. В тестирующую систему сдайте программу, содержащую только необходимую функцию \n",
    "    print_good_dates(), но не код, вызывающий ее.\n",
    "\n",
    "Sample Input 1:\n",
    "dates = [date(1992, 10, 19), date(1991, 12, 6), date(1992, 9, 20)]\n",
    "print_good_dates(dates)\n",
    "Sample Output 1:\n",
    "September 20, 1992\n",
    "October 19, 1992\n",
    "\n",
    "dates = [date(1993, 9, 15), date(2021, 11, 2), date(2000, 7, 7)]\n",
    "print_good_dates(dates)\n",
    "'Nothing'\n",
    "\n",
    "# TEST_5:\n",
    "dates = [date(1257, 8, 22), date(1765, 8, 23), date(1999, 9, 9), date(1992, 6, 23), date(1993, 1, 28)]\n",
    "print_good_dates(dates)"
   ]
  },
  {
   "cell_type": "code",
   "execution_count": 28,
   "id": "e19df6f0-a06d-4f11-9524-cc4852f377bd",
   "metadata": {},
   "outputs": [],
   "source": [
    "from datetime import date\n",
    "\n",
    "def print_good_dates(dates):\n",
    "    lst = []\n",
    "    for i in dates:\n",
    "        if i.year == 1992 and i.day + i.month == 29:\n",
    "            lst.append(i)\n",
    "    res = list(map(lambda x: x.strftime('%B %d, %Y'), sorted(lst)))\n",
    "            \n",
    "    print(*res, sep = '\\n')    "
   ]
  },
  {
   "cell_type": "code",
   "execution_count": 29,
   "id": "fa4084de-cf8e-4f1c-983b-c9ba6b37115a",
   "metadata": {},
   "outputs": [],
   "source": [
    "dates = [date(1992, 10, 19), date(1991, 12, 6), date(1992, 9, 20)]"
   ]
  },
  {
   "cell_type": "code",
   "execution_count": 30,
   "id": "5856856a-60d8-4407-9416-56e2b3f0d37f",
   "metadata": {},
   "outputs": [
    {
     "name": "stdout",
     "output_type": "stream",
     "text": [
      "September 20, 1992\n",
      "October 19, 1992\n"
     ]
    }
   ],
   "source": [
    "print_good_dates(dates)"
   ]
  },
  {
   "cell_type": "code",
   "execution_count": 31,
   "id": "f0a0538b-22d6-4b0f-9f26-70326f4125d3",
   "metadata": {},
   "outputs": [
    {
     "name": "stdout",
     "output_type": "stream",
     "text": [
      "\n"
     ]
    }
   ],
   "source": [
    "dates = [date(1993, 9, 15), date(2021, 11, 2), date(2000, 7, 7)]\n",
    "print_good_dates(dates)"
   ]
  },
  {
   "cell_type": "code",
   "execution_count": 32,
   "id": "1aecd058-4462-4e00-8617-2fa159c5462d",
   "metadata": {},
   "outputs": [
    {
     "name": "stdout",
     "output_type": "stream",
     "text": [
      "June 23, 1992\n"
     ]
    }
   ],
   "source": [
    "dates = [date(1257, 8, 22), date(1765, 8, 23), date(1999, 9, 9), date(1992, 6, 23), date(1993, 1, 28)]\n",
    "print_good_dates(dates)"
   ]
  },
  {
   "cell_type": "code",
   "execution_count": null,
   "id": "ddb12b8a-9fbf-4f9a-8ca0-ec0b8dd8f2e0",
   "metadata": {},
   "outputs": [],
   "source": []
  },
  {
   "cell_type": "markdown",
   "id": "935e96e3-f762-4a59-9b6e-004471aa13c4",
   "metadata": {
    "scrolled": true
   },
   "source": [
    "# Задача №2"
   ]
  },
  {
   "cell_type": "code",
   "execution_count": null,
   "id": "76f8c967-bbd9-48cc-afe8-e0af939b55f4",
   "metadata": {},
   "outputs": [],
   "source": [
    "Функция is_correct()\n",
    "Реализуйте функцию is_correct(), которая принимает три аргумента в следующем порядке:\n",
    "\n",
    "day — натуральное число, день\n",
    "month — натуральное число, месяц\n",
    "year — натуральное число, год\n",
    "Функция должна возвращать True, если дата с компонентами day, month и year является корректной, или False в противном случае.\n",
    "\n",
    "Примечание 1. Вспомните про конструкцию try-except. \n",
    "\n",
    "Примечание 2. В тестирующую систему сдайте программу, содержащую только необходимую функцию is_correct(), но не код, вызывающий ее."
   ]
  },
  {
   "cell_type": "code",
   "execution_count": 35,
   "id": "09f20412-e300-4728-b55d-a10d0bed8da2",
   "metadata": {},
   "outputs": [],
   "source": [
    "from datetime import date\n",
    "\n",
    "def is_correct(day, month, year):\n",
    "    try:\n",
    "        res = date(day = day, month = month, year = year)\n",
    "        return True\n",
    "    except:\n",
    "        return False            "
   ]
  },
  {
   "cell_type": "code",
   "execution_count": 38,
   "id": "86a8453d-1665-4cc3-aa8f-0a19b60a8c97",
   "metadata": {},
   "outputs": [
    {
     "data": {
      "text/plain": [
       "False"
      ]
     },
     "execution_count": 38,
     "metadata": {},
     "output_type": "execute_result"
    }
   ],
   "source": [
    "is_correct(12, 13, 1985)"
   ]
  },
  {
   "cell_type": "code",
   "execution_count": null,
   "id": "c03b176c-f9d5-497b-aab8-46aeb6bb1bcb",
   "metadata": {},
   "outputs": [],
   "source": []
  },
  {
   "cell_type": "markdown",
   "id": "79b1a0f3-4834-439f-973a-61f53d47685e",
   "metadata": {},
   "source": [
    "# Задача №3"
   ]
  },
  {
   "cell_type": "code",
   "execution_count": null,
   "id": "8fcddc3f-c5c7-492f-9ed8-ce50670bd895",
   "metadata": {},
   "outputs": [],
   "source": [
    "Корректные даты\n",
    "Напишите программу, которая принимает на вход последовательность дат и проверяет каждую из них на корректность.\n",
    "\n",
    "Формат входных данных\n",
    "На вход программе подается последовательность дат в формате DD.MM.YYYY, каждая на отдельной строке.\n",
    "Концом последовательности является слово end.\n",
    "\n",
    "Формат выходных данных\n",
    "Программа должна для каждой введенной даты вывести текст Корректная или Некорректная в зависимости от того,\n",
    "является ли дата корректной, а затем вывести количество корректных дат.\n",
    "\n",
    "Примечание 1. Для анализа даты на корректность можете использовать уже реализованную функцию \n",
    "is_correct() из предыдущей задачи.\n",
    "\n",
    "Sample Input 1:\n",
    "\n",
    "19.05.2016\n",
    "05.13.2010\n",
    "21.12.2012\n",
    "01.01.1000\n",
    "32.04.2003\n",
    "end\n",
    "Sample Output 1:\n",
    "\n",
    "Корректная\n",
    "Некорректная\n",
    "Корректная\n",
    "Корректная\n",
    "Некорректная\n",
    "3"
   ]
  },
  {
   "cell_type": "code",
   "execution_count": 45,
   "id": "dc9ed972-70ea-4738-9209-85a8a093f210",
   "metadata": {},
   "outputs": [
    {
     "name": "stdin",
     "output_type": "stream",
     "text": [
      " 19.05.2016\n"
     ]
    },
    {
     "name": "stdout",
     "output_type": "stream",
     "text": [
      "Некорректная\n"
     ]
    },
    {
     "name": "stdin",
     "output_type": "stream",
     "text": [
      " 05.13.2010\n"
     ]
    },
    {
     "name": "stdout",
     "output_type": "stream",
     "text": [
      "Некорректная\n"
     ]
    },
    {
     "name": "stdin",
     "output_type": "stream",
     "text": [
      " 21.12.2012\n"
     ]
    },
    {
     "name": "stdout",
     "output_type": "stream",
     "text": [
      "Некорректная\n"
     ]
    },
    {
     "name": "stdin",
     "output_type": "stream",
     "text": [
      " 01.01.1000\n"
     ]
    },
    {
     "name": "stdout",
     "output_type": "stream",
     "text": [
      "Некорректная\n"
     ]
    },
    {
     "name": "stdin",
     "output_type": "stream",
     "text": [
      " 32.04.2003\n"
     ]
    },
    {
     "name": "stdout",
     "output_type": "stream",
     "text": [
      "Некорректная\n"
     ]
    },
    {
     "name": "stdin",
     "output_type": "stream",
     "text": [
      " end\n"
     ]
    }
   ],
   "source": [
    "from datetime import date\n",
    "\n",
    "count = 0\n",
    "n = input()\n",
    "while n != 'end':\n",
    "    date_format = n.split('.')    \n",
    "    try:\n",
    "        date(day = int(date_format[0]), month = int(date_format[1]), year = int(date_format[2]))\n",
    "        print(\"Корректная\")\n",
    "        count +=1\n",
    "    except:\n",
    "        print(\"Некорректная\")\n",
    "\n",
    "    n = input()\n",
    "    \n",
    "print(count)        "
   ]
  },
  {
   "cell_type": "code",
   "execution_count": null,
   "id": "8c8492f6-ef35-4a88-9d9e-3109e54cbc51",
   "metadata": {},
   "outputs": [],
   "source": []
  },
  {
   "cell_type": "code",
   "execution_count": null,
   "id": "bd4162b4-caaf-4b52-aff9-c4971bc24550",
   "metadata": {},
   "outputs": [],
   "source": []
  },
  {
   "cell_type": "code",
   "execution_count": null,
   "id": "aa307a2f-2082-415a-8bed-7c612b7716da",
   "metadata": {},
   "outputs": [],
   "source": []
  },
  {
   "cell_type": "code",
   "execution_count": null,
   "id": "36ce2f65-f4e5-4795-9ebd-6de7e94a31d1",
   "metadata": {},
   "outputs": [],
   "source": []
  },
  {
   "cell_type": "code",
   "execution_count": null,
   "id": "e914b612-eeeb-4648-8e51-27d2f7760a0e",
   "metadata": {},
   "outputs": [],
   "source": []
  },
  {
   "cell_type": "code",
   "execution_count": null,
   "id": "be86a1ef-f5ba-4cff-b67e-b1238db3399f",
   "metadata": {},
   "outputs": [],
   "source": []
  },
  {
   "cell_type": "code",
   "execution_count": null,
   "id": "ffa484a3-c192-40fa-830b-5a29b47944bb",
   "metadata": {},
   "outputs": [],
   "source": []
  },
  {
   "cell_type": "code",
   "execution_count": null,
   "id": "ccba4e6a-71ae-4421-a1b4-accda944cdb8",
   "metadata": {},
   "outputs": [],
   "source": []
  },
  {
   "cell_type": "code",
   "execution_count": null,
   "id": "14c58e09-b8c0-4281-b01b-f5e018cb6ea5",
   "metadata": {},
   "outputs": [],
   "source": []
  },
  {
   "cell_type": "code",
   "execution_count": null,
   "id": "30efa542-3c50-4a35-b497-668d751f8b04",
   "metadata": {},
   "outputs": [],
   "source": []
  },
  {
   "cell_type": "code",
   "execution_count": null,
   "id": "c0ad1797-fb10-48ad-8e52-585641a48c22",
   "metadata": {},
   "outputs": [],
   "source": []
  }
 ],
 "metadata": {
  "kernelspec": {
   "display_name": "Python 3 (ipykernel)",
   "language": "python",
   "name": "python3"
  },
  "language_info": {
   "codemirror_mode": {
    "name": "ipython",
    "version": 3
   },
   "file_extension": ".py",
   "mimetype": "text/x-python",
   "name": "python",
   "nbconvert_exporter": "python",
   "pygments_lexer": "ipython3",
   "version": "3.12.3"
  }
 },
 "nbformat": 4,
 "nbformat_minor": 5
}
