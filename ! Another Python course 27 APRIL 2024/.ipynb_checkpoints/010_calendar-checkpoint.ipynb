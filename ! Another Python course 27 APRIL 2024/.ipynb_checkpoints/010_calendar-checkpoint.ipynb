{
 "cells": [
  {
   "cell_type": "code",
   "execution_count": 1,
   "id": "3d0512fe-dc2a-42f5-9ed6-84d9dc58abe4",
   "metadata": {},
   "outputs": [],
   "source": [
    "import calendar"
   ]
  },
  {
   "cell_type": "code",
   "execution_count": 2,
   "id": "981fc98b-3373-453b-87c5-8a1d8e04b955",
   "metadata": {},
   "outputs": [
    {
     "name": "stdout",
     "output_type": "stream",
     "text": [
      "Monday\n",
      "Tuesday\n",
      "Wednesday\n",
      "Thursday\n",
      "Friday\n",
      "Saturday\n",
      "Sunday\n"
     ]
    }
   ],
   "source": [
    "for name in calendar.day_name:\n",
    "    print(name)"
   ]
  },
  {
   "cell_type": "code",
   "execution_count": 3,
   "id": "a3193370-bbff-4903-9d61-5f72e1b66af5",
   "metadata": {},
   "outputs": [
    {
     "name": "stdout",
     "output_type": "stream",
     "text": [
      "понедельник\n",
      "вторник\n",
      "среда\n",
      "четверг\n",
      "пятница\n",
      "суббота\n",
      "воскресенье\n"
     ]
    }
   ],
   "source": [
    "import calendar, locale\n",
    "\n",
    "locale.setlocale(locale.LC_ALL, 'ru_RU.UTF-8')\n",
    "\n",
    "for name in calendar.day_name:\n",
    "    print(name)"
   ]
  },
  {
   "cell_type": "code",
   "execution_count": 4,
   "id": "cb63b4ff-6508-46d2-8389-6f3d1d5429ce",
   "metadata": {},
   "outputs": [
    {
     "name": "stdout",
     "output_type": "stream",
     "text": [
      "['понедельник', 'вторник', 'среда', 'четверг', 'пятница', 'суббота', 'воскресенье']\n"
     ]
    }
   ],
   "source": [
    "names = list(calendar.day_name)\n",
    "print(names)"
   ]
  },
  {
   "cell_type": "code",
   "execution_count": 5,
   "id": "fea2927c-a670-4bf8-b64b-919375b7674e",
   "metadata": {},
   "outputs": [
    {
     "name": "stdout",
     "output_type": "stream",
     "text": [
      "Пн\n",
      "Вт\n",
      "Ср\n",
      "Чт\n",
      "Пт\n",
      "Сб\n",
      "Вс\n",
      "Пн\n",
      "Вт\n",
      "Ср\n",
      "Чт\n",
      "Пт\n",
      "Сб\n",
      "Вс\n"
     ]
    }
   ],
   "source": [
    "import calendar, locale\n",
    "\n",
    "for name in calendar.day_abbr:\n",
    "    print(name)\n",
    "\n",
    "locale.setlocale(locale.LC_ALL, 'ru_RU.UTF-8')\n",
    "\n",
    "for name in calendar.day_abbr:\n",
    "    print(name)"
   ]
  },
  {
   "cell_type": "code",
   "execution_count": 7,
   "id": "5023ea19-9d33-4228-a097-1916c9da8c3d",
   "metadata": {},
   "outputs": [
    {
     "name": "stdout",
     "output_type": "stream",
     "text": [
      "['', 'Январь', 'Февраль', 'Март', 'Апрель', 'Май', 'Июнь', 'Июль', 'Август', 'Сентябрь', 'Октябрь', 'Ноябрь', 'Декабрь']\n",
      "['', 'Январь', 'Февраль', 'Март', 'Апрель', 'Май', 'Июнь', 'Июль', 'Август', 'Сентябрь', 'Октябрь', 'Ноябрь', 'Декабрь']\n"
     ]
    }
   ],
   "source": [
    "# атрибут month_name соответствует обычному соглашению, что январь – это месяц номер \n",
    "# 1, поэтому список имеет длину в \n",
    "# 13 элементов, первый из которых – пустая строка.\n",
    "\n",
    "import calendar, locale\n",
    "\n",
    "english_names = list(calendar.month_name)\n",
    "print(english_names)\n",
    "\n",
    "locale.setlocale(locale.LC_ALL, 'ru_RU.UTF-8')\n",
    "\n",
    "russian_names = list(calendar.month_name)\n",
    "print(russian_names)"
   ]
  },
  {
   "cell_type": "code",
   "execution_count": 8,
   "id": "de67ee25-f29d-4483-a115-85c8bcea391b",
   "metadata": {},
   "outputs": [
    {
     "name": "stdout",
     "output_type": "stream",
     "text": [
      "['', 'янв', 'фев', 'мар', 'апр', 'май', 'июн', 'июл', 'авг', 'сен', 'окт', 'ноя', 'дек']\n",
      "['', 'янв', 'фев', 'мар', 'апр', 'май', 'июн', 'июл', 'авг', 'сен', 'окт', 'ноя', 'дек']\n"
     ]
    }
   ],
   "source": [
    "import calendar, locale\n",
    "\n",
    "english_names = list(calendar.month_abbr)\n",
    "print(english_names)\n",
    "\n",
    "locale.setlocale(locale.LC_ALL, 'ru_RU.UTF-8')\n",
    "\n",
    "russian_names = list(calendar.month_abbr)\n",
    "print(russian_names)"
   ]
  },
  {
   "cell_type": "code",
   "execution_count": 9,
   "id": "488fcf6d-0bdc-4814-9570-46f95cb241fc",
   "metadata": {},
   "outputs": [
    {
     "name": "stdout",
     "output_type": "stream",
     "text": [
      "0\n",
      "1\n",
      "2\n",
      "3\n",
      "4\n",
      "5\n",
      "6\n"
     ]
    }
   ],
   "source": [
    "import calendar\n",
    "\n",
    "print(calendar.MONDAY)\n",
    "print(calendar.TUESDAY)\n",
    "print(calendar.WEDNESDAY)\n",
    "print(calendar.THURSDAY)\n",
    "print(calendar.FRIDAY)\n",
    "print(calendar.SATURDAY)\n",
    "print(calendar.SUNDAY)"
   ]
  },
  {
   "cell_type": "code",
   "execution_count": 11,
   "id": "a46ceb3f-dc52-46ea-844b-7383e58857b5",
   "metadata": {},
   "outputs": [],
   "source": [
    "# чтобы установить первый будний день воскресенье, мы используем код:\n",
    "\n",
    "import calendar\n",
    "\n",
    "calendar.setfirstweekday(calendar.SUNDAY)     # эквивалентно calendar.setfirstweekday(6)\n",
    "# На практике следует использовать константы calendar.MONDAY, calendar.TUESDAY, ...,calendar.SUNDAY , а не значения 0, 1, ..., 6."
   ]
  },
  {
   "cell_type": "code",
   "execution_count": 13,
   "id": "24656d1c-d859-48a0-bc92-549037ec94ed",
   "metadata": {},
   "outputs": [
    {
     "name": "stdout",
     "output_type": "stream",
     "text": [
      "6\n",
      "0\n"
     ]
    }
   ],
   "source": [
    "import calendar\n",
    "\n",
    "print(calendar.firstweekday())\n",
    "calendar.setfirstweekday(calendar.MONDAY)\n",
    "print(calendar.firstweekday())"
   ]
  },
  {
   "cell_type": "code",
   "execution_count": 14,
   "id": "638f3e97-cbed-4fed-83f3-c2188b7aec71",
   "metadata": {},
   "outputs": [
    {
     "name": "stdout",
     "output_type": "stream",
     "text": [
      "True\n",
      "False\n"
     ]
    }
   ],
   "source": [
    "import calendar\n",
    "\n",
    "print(calendar.isleap(2020))\n",
    "print(calendar.isleap(2021))"
   ]
  },
  {
   "cell_type": "code",
   "execution_count": 16,
   "id": "08b9f90e-631b-4555-90f7-83c2fa2b3bfe",
   "metadata": {},
   "outputs": [
    {
     "name": "stdout",
     "output_type": "stream",
     "text": [
      "2\n"
     ]
    }
   ],
   "source": [
    "import calendar\n",
    "\n",
    "print(calendar.leapdays(2020, 2025))\n",
    "\n",
    "# так как в нужном диапазоне [2020;2025) находятся два високосных года: 2020 и 2024."
   ]
  },
  {
   "cell_type": "code",
   "execution_count": 17,
   "id": "e05961c6-3093-42a0-a959-81e9f18c17a0",
   "metadata": {},
   "outputs": [
    {
     "name": "stdout",
     "output_type": "stream",
     "text": [
      "2\n",
      "3\n"
     ]
    }
   ],
   "source": [
    "import calendar\n",
    "\n",
    "print(calendar.weekday(2021, 9, 1))     # среда\n",
    "print(calendar.weekday(2021, 9, 2))     # четверг"
   ]
  },
  {
   "cell_type": "code",
   "execution_count": 18,
   "id": "a0670028-6060-4663-8b67-3db15d9a0964",
   "metadata": {},
   "outputs": [
    {
     "name": "stdout",
     "output_type": "stream",
     "text": [
      "(calendar.SATURDAY, 31)\n",
      "(calendar.WEDNESDAY, 30)\n"
     ]
    }
   ],
   "source": [
    "# Функция monthrange(year, month) возвращает день недели первого дня месяца и количество дней в месяце\n",
    "# в виде кортежа для указанного года year и месяца month.\n",
    "\n",
    "import calendar\n",
    "\n",
    "print(calendar.monthrange(2022, 1))     # январь 2022 года\n",
    "print(calendar.monthrange(2021, 9))     # сентябрь 2021 года"
   ]
  },
  {
   "cell_type": "code",
   "execution_count": 19,
   "id": "5e05a648-f2df-4f55-915a-7a6d6c41045c",
   "metadata": {},
   "outputs": [
    {
     "data": {
      "text/plain": [
       "calendar.SATURDAY"
      ]
     },
     "execution_count": 19,
     "metadata": {},
     "output_type": "execute_result"
    }
   ],
   "source": [
    "calendar.SATURDAY"
   ]
  },
  {
   "cell_type": "code",
   "execution_count": 21,
   "id": "3965e91b-5b72-40e0-aad7-917132e2151e",
   "metadata": {},
   "outputs": [
    {
     "name": "stdout",
     "output_type": "stream",
     "text": [
      "5\n"
     ]
    }
   ],
   "source": [
    "# ?\n",
    "print(calendar.SATURDAY)"
   ]
  },
  {
   "cell_type": "code",
   "execution_count": null,
   "id": "8310b378-21c8-45eb-b992-ddfe6fa0d860",
   "metadata": {},
   "outputs": [],
   "source": []
  },
  {
   "cell_type": "code",
   "execution_count": 22,
   "id": "d0659804-d473-4f2c-bad7-45e675bcc725",
   "metadata": {},
   "outputs": [
    {
     "name": "stdout",
     "output_type": "stream",
     "text": [
      "[0, 0, 1, 2, 3, 4, 5]\n",
      "[6, 7, 8, 9, 10, 11, 12]\n",
      "[13, 14, 15, 16, 17, 18, 19]\n",
      "[20, 21, 22, 23, 24, 25, 26]\n",
      "[27, 28, 29, 30, 0, 0, 0]\n"
     ]
    }
   ],
   "source": [
    "import calendar\n",
    "\n",
    "print(*calendar.monthcalendar(2021, 9), sep='\\n')"
   ]
  },
  {
   "cell_type": "code",
   "execution_count": 23,
   "id": "c4856b4d-bc66-4a52-8553-6cb56e1304fd",
   "metadata": {},
   "outputs": [],
   "source": [
    "# дни, которые не входят в указанный месяц, представлены нулями. \n",
    "# При этом каждая неделя начинается с понедельника, если не установлено другое функцией\n",
    "# setfirstweekday()."
   ]
  },
  {
   "cell_type": "code",
   "execution_count": null,
   "id": "0b1e8db4-df68-4760-b9c8-def5418a45df",
   "metadata": {},
   "outputs": [],
   "source": []
  },
  {
   "cell_type": "code",
   "execution_count": 24,
   "id": "63d588b6-cada-4ec4-9d48-6a2cdb9f839b",
   "metadata": {},
   "outputs": [],
   "source": [
    "# Функция month(year, month, w=0, l=0) возвращает календарь на месяц в многострочной строке.\n",
    "# Аргументами функции являются: year (год), month (месяц), w (ширина столбца даты) и l (количество строк, отводимые на неделю).\n",
    "# Аргументы w и l имеют значения по умолчанию, поэтому их можно не передавать явно при вызове функции."
   ]
  },
  {
   "cell_type": "code",
   "execution_count": 25,
   "id": "7a719c48-ba0a-4c13-bb7c-eeb799b55f77",
   "metadata": {},
   "outputs": [
    {
     "name": "stdout",
     "output_type": "stream",
     "text": [
      "   Сентябрь 2021\n",
      "Пн Вт Ср Чт Пт Сб Вс\n",
      "       1  2  3  4  5\n",
      " 6  7  8  9 10 11 12\n",
      "13 14 15 16 17 18 19\n",
      "20 21 22 23 24 25 26\n",
      "27 28 29 30\n",
      "\n",
      "    Октябрь 2021\n",
      "Пн Вт Ср Чт Пт Сб Вс\n",
      "             1  2  3\n",
      " 4  5  6  7  8  9 10\n",
      "11 12 13 14 15 16 17\n",
      "18 19 20 21 22 23 24\n",
      "25 26 27 28 29 30 31\n",
      "\n",
      "       Сентябрь 2021\n",
      " Пн  Вт  Ср  Чт  Пт  Сб  Вс\n",
      "          1   2   3   4   5\n",
      "  6   7   8   9  10  11  12\n",
      " 13  14  15  16  17  18  19\n",
      " 20  21  22  23  24  25  26\n",
      " 27  28  29  30\n",
      "\n",
      "   Сентябрь 2021\n",
      "\n",
      "Пн Вт Ср Чт Пт Сб Вс\n",
      "\n",
      "       1  2  3  4  5\n",
      "\n",
      " 6  7  8  9 10 11 12\n",
      "\n",
      "13 14 15 16 17 18 19\n",
      "\n",
      "20 21 22 23 24 25 26\n",
      "\n",
      "27 28 29 30\n",
      "\n",
      "\n",
      "              Сентябрь 2021\n",
      "\n",
      "  Пн    Вт    Ср    Чт    Пт    Сб    Вс\n",
      "\n",
      "               1     2     3     4     5\n",
      "\n",
      "   6     7     8     9    10    11    12\n",
      "\n",
      "  13    14    15    16    17    18    19\n",
      "\n",
      "  20    21    22    23    24    25    26\n",
      "\n",
      "  27    28    29    30\n",
      "\n",
      "\n"
     ]
    }
   ],
   "source": [
    "import calendar\n",
    "\n",
    "print(calendar.month(2021, 9))\n",
    "print(calendar.month(2021, 10))\n",
    "print(calendar.month(2021, 9, w=3))\n",
    "print(calendar.month(2021, 9, l=2))\n",
    "print(calendar.month(2021, 9, w=5, l=2))"
   ]
  },
  {
   "cell_type": "code",
   "execution_count": 27,
   "id": "e0e9331d-73be-47e2-a873-2d856e824ada",
   "metadata": {},
   "outputs": [
    {
     "name": "stdout",
     "output_type": "stream",
     "text": [
      "     Июль 2024\n",
      "Пн Вт Ср Чт Пт Сб Вс\n",
      " 1  2  3  4  5  6  7\n",
      " 8  9 10 11 12 13 14\n",
      "15 16 17 18 19 20 21\n",
      "22 23 24 25 26 27 28\n",
      "29 30 31\n",
      "\n"
     ]
    }
   ],
   "source": [
    "print(calendar.month(2024, 7))"
   ]
  },
  {
   "cell_type": "code",
   "execution_count": null,
   "id": "d1f4f7ea-86d7-4d10-8299-e124d83fc13c",
   "metadata": {},
   "outputs": [],
   "source": [
    "# Функция \n",
    "\n",
    "calendar(year, w=2, l=1, c=6, m=3) \n",
    "\n",
    "# возвращает календарь на весь год в виде многострочной строки.\n",
    "\n",
    "\n",
    "# Аргументами функции являются: \n",
    "\n",
    "year (год),  w (ширина столбца даты), l (количество строк, отводимые на неделю),\n",
    "# c (количество пробелов между столбцом месяца) и  m (количество столбцов).\n",
    "\n",
    "# Аргументы w, l, c, m имеют значения по умолчанию, поэтому их можно не передавать явно при вызове функции."
   ]
  },
  {
   "cell_type": "code",
   "execution_count": 31,
   "id": "bb0258ea-ab3c-4611-8aaa-20a9b06c249d",
   "metadata": {},
   "outputs": [
    {
     "name": "stdout",
     "output_type": "stream",
     "text": [
      "                                  2024\n",
      "\n",
      "       Январь                   Февраль                     Март\n",
      "Пн Вт Ср Чт Пт Сб Вс      Пн Вт Ср Чт Пт Сб Вс      Пн Вт Ср Чт Пт Сб Вс\n",
      " 1  2  3  4  5  6  7                1  2  3  4                   1  2  3\n",
      " 8  9 10 11 12 13 14       5  6  7  8  9 10 11       4  5  6  7  8  9 10\n",
      "15 16 17 18 19 20 21      12 13 14 15 16 17 18      11 12 13 14 15 16 17\n",
      "22 23 24 25 26 27 28      19 20 21 22 23 24 25      18 19 20 21 22 23 24\n",
      "29 30 31                  26 27 28 29               25 26 27 28 29 30 31\n",
      "\n",
      "       Апрель                     Май                       Июнь\n",
      "Пн Вт Ср Чт Пт Сб Вс      Пн Вт Ср Чт Пт Сб Вс      Пн Вт Ср Чт Пт Сб Вс\n",
      " 1  2  3  4  5  6  7             1  2  3  4  5                      1  2\n",
      " 8  9 10 11 12 13 14       6  7  8  9 10 11 12       3  4  5  6  7  8  9\n",
      "15 16 17 18 19 20 21      13 14 15 16 17 18 19      10 11 12 13 14 15 16\n",
      "22 23 24 25 26 27 28      20 21 22 23 24 25 26      17 18 19 20 21 22 23\n",
      "29 30                     27 28 29 30 31            24 25 26 27 28 29 30\n",
      "\n",
      "        Июль                     Август                   Сентябрь\n",
      "Пн Вт Ср Чт Пт Сб Вс      Пн Вт Ср Чт Пт Сб Вс      Пн Вт Ср Чт Пт Сб Вс\n",
      " 1  2  3  4  5  6  7                1  2  3  4                         1\n",
      " 8  9 10 11 12 13 14       5  6  7  8  9 10 11       2  3  4  5  6  7  8\n",
      "15 16 17 18 19 20 21      12 13 14 15 16 17 18       9 10 11 12 13 14 15\n",
      "22 23 24 25 26 27 28      19 20 21 22 23 24 25      16 17 18 19 20 21 22\n",
      "29 30 31                  26 27 28 29 30 31         23 24 25 26 27 28 29\n",
      "                                                    30\n",
      "\n",
      "      Октябрь                    Ноябрь                   Декабрь\n",
      "Пн Вт Ср Чт Пт Сб Вс      Пн Вт Ср Чт Пт Сб Вс      Пн Вт Ср Чт Пт Сб Вс\n",
      "    1  2  3  4  5  6                   1  2  3                         1\n",
      " 7  8  9 10 11 12 13       4  5  6  7  8  9 10       2  3  4  5  6  7  8\n",
      "14 15 16 17 18 19 20      11 12 13 14 15 16 17       9 10 11 12 13 14 15\n",
      "21 22 23 24 25 26 27      18 19 20 21 22 23 24      16 17 18 19 20 21 22\n",
      "28 29 30 31               25 26 27 28 29 30         23 24 25 26 27 28 29\n",
      "                                                    30 31\n",
      "\n"
     ]
    }
   ],
   "source": [
    "import calendar\n",
    "\n",
    "print(calendar.calendar(2024))"
   ]
  },
  {
   "cell_type": "code",
   "execution_count": 30,
   "id": "68c437d1-8456-480b-bd95-c0bc5f1e55fa",
   "metadata": {},
   "outputs": [
    {
     "name": "stdout",
     "output_type": "stream",
     "text": [
      "                                               2022\n",
      "\n",
      "       Январь                   Февраль                     Март                     Апрель\n",
      "Пн Вт Ср Чт Пт Сб Вс      Пн Вт Ср Чт Пт Сб Вс      Пн Вт Ср Чт Пт Сб Вс      Пн Вт Ср Чт Пт Сб Вс\n",
      "                1  2          1  2  3  4  5  6          1  2  3  4  5  6                   1  2  3\n",
      " 3  4  5  6  7  8  9       7  8  9 10 11 12 13       7  8  9 10 11 12 13       4  5  6  7  8  9 10\n",
      "10 11 12 13 14 15 16      14 15 16 17 18 19 20      14 15 16 17 18 19 20      11 12 13 14 15 16 17\n",
      "17 18 19 20 21 22 23      21 22 23 24 25 26 27      21 22 23 24 25 26 27      18 19 20 21 22 23 24\n",
      "24 25 26 27 28 29 30      28                        28 29 30 31               25 26 27 28 29 30\n",
      "31\n",
      "\n",
      "        Май                       Июнь                      Июль                     Август\n",
      "Пн Вт Ср Чт Пт Сб Вс      Пн Вт Ср Чт Пт Сб Вс      Пн Вт Ср Чт Пт Сб Вс      Пн Вт Ср Чт Пт Сб Вс\n",
      "                   1             1  2  3  4  5                   1  2  3       1  2  3  4  5  6  7\n",
      " 2  3  4  5  6  7  8       6  7  8  9 10 11 12       4  5  6  7  8  9 10       8  9 10 11 12 13 14\n",
      " 9 10 11 12 13 14 15      13 14 15 16 17 18 19      11 12 13 14 15 16 17      15 16 17 18 19 20 21\n",
      "16 17 18 19 20 21 22      20 21 22 23 24 25 26      18 19 20 21 22 23 24      22 23 24 25 26 27 28\n",
      "23 24 25 26 27 28 29      27 28 29 30               25 26 27 28 29 30 31      29 30 31\n",
      "30 31\n",
      "\n",
      "      Сентябрь                  Октябрь                    Ноябрь                   Декабрь\n",
      "Пн Вт Ср Чт Пт Сб Вс      Пн Вт Ср Чт Пт Сб Вс      Пн Вт Ср Чт Пт Сб Вс      Пн Вт Ср Чт Пт Сб Вс\n",
      "          1  2  3  4                      1  2          1  2  3  4  5  6                1  2  3  4\n",
      " 5  6  7  8  9 10 11       3  4  5  6  7  8  9       7  8  9 10 11 12 13       5  6  7  8  9 10 11\n",
      "12 13 14 15 16 17 18      10 11 12 13 14 15 16      14 15 16 17 18 19 20      12 13 14 15 16 17 18\n",
      "19 20 21 22 23 24 25      17 18 19 20 21 22 23      21 22 23 24 25 26 27      19 20 21 22 23 24 25\n",
      "26 27 28 29 30            24 25 26 27 28 29 30      28 29 30                  26 27 28 29 30 31\n",
      "                          31\n",
      "\n"
     ]
    }
   ],
   "source": [
    "import calendar, locale\n",
    "\n",
    "locale.setlocale(locale.LC_ALL, 'ru_RU.UTF-8')\n",
    "\n",
    "print(calendar.calendar(2022, m=4))"
   ]
  },
  {
   "cell_type": "code",
   "execution_count": 33,
   "id": "c79d0c90-b9ad-4569-adfa-4d0b79827076",
   "metadata": {},
   "outputs": [
    {
     "name": "stdout",
     "output_type": "stream",
     "text": [
      "   Сентябрь 2021\n",
      "Пн Вт Ср Чт Пт Сб Вс\n",
      "       1  2  3  4  5\n",
      " 6  7  8  9 10 11 12\n",
      "13 14 15 16 17 18 19\n",
      "20 21 22 23 24 25 26\n",
      "27 28 29 30\n",
      "\n",
      "                                  2021\n",
      "\n",
      "       Январь                   Февраль                     Март\n",
      "Пн Вт Ср Чт Пт Сб Вс      Пн Вт Ср Чт Пт Сб Вс      Пн Вт Ср Чт Пт Сб Вс\n",
      "             1  2  3       1  2  3  4  5  6  7       1  2  3  4  5  6  7\n",
      " 4  5  6  7  8  9 10       8  9 10 11 12 13 14       8  9 10 11 12 13 14\n",
      "11 12 13 14 15 16 17      15 16 17 18 19 20 21      15 16 17 18 19 20 21\n",
      "18 19 20 21 22 23 24      22 23 24 25 26 27 28      22 23 24 25 26 27 28\n",
      "25 26 27 28 29 30 31                                29 30 31\n",
      "\n",
      "       Апрель                     Май                       Июнь\n",
      "Пн Вт Ср Чт Пт Сб Вс      Пн Вт Ср Чт Пт Сб Вс      Пн Вт Ср Чт Пт Сб Вс\n",
      "          1  2  3  4                      1  2          1  2  3  4  5  6\n",
      " 5  6  7  8  9 10 11       3  4  5  6  7  8  9       7  8  9 10 11 12 13\n",
      "12 13 14 15 16 17 18      10 11 12 13 14 15 16      14 15 16 17 18 19 20\n",
      "19 20 21 22 23 24 25      17 18 19 20 21 22 23      21 22 23 24 25 26 27\n",
      "26 27 28 29 30            24 25 26 27 28 29 30      28 29 30\n",
      "                          31\n",
      "\n",
      "        Июль                     Август                   Сентябрь\n",
      "Пн Вт Ср Чт Пт Сб Вс      Пн Вт Ср Чт Пт Сб Вс      Пн Вт Ср Чт Пт Сб Вс\n",
      "          1  2  3  4                         1             1  2  3  4  5\n",
      " 5  6  7  8  9 10 11       2  3  4  5  6  7  8       6  7  8  9 10 11 12\n",
      "12 13 14 15 16 17 18       9 10 11 12 13 14 15      13 14 15 16 17 18 19\n",
      "19 20 21 22 23 24 25      16 17 18 19 20 21 22      20 21 22 23 24 25 26\n",
      "26 27 28 29 30 31         23 24 25 26 27 28 29      27 28 29 30\n",
      "                          30 31\n",
      "\n",
      "      Октябрь                    Ноябрь                   Декабрь\n",
      "Пн Вт Ср Чт Пт Сб Вс      Пн Вт Ср Чт Пт Сб Вс      Пн Вт Ср Чт Пт Сб Вс\n",
      "             1  2  3       1  2  3  4  5  6  7             1  2  3  4  5\n",
      " 4  5  6  7  8  9 10       8  9 10 11 12 13 14       6  7  8  9 10 11 12\n",
      "11 12 13 14 15 16 17      15 16 17 18 19 20 21      13 14 15 16 17 18 19\n",
      "18 19 20 21 22 23 24      22 23 24 25 26 27 28      20 21 22 23 24 25 26\n",
      "25 26 27 28 29 30 31      29 30                     27 28 29 30 31\n",
      "\n"
     ]
    }
   ],
   "source": [
    "# Следующий код:\n",
    "\n",
    "import calendar\n",
    "\n",
    "# calendar.prmonth(2021, 9)\n",
    "# calendar.prcal(2021)\n",
    "\n",
    "\n",
    "# эквивалентен коду:\n",
    "\n",
    "import calendar\n",
    "\n",
    "print(calendar.month(2021, 9))\n",
    "print(calendar.calendar(2021))"
   ]
  },
  {
   "cell_type": "code",
   "execution_count": 36,
   "id": "9ae3206c-ef0d-4de8-809a-6cfd372684ad",
   "metadata": {},
   "outputs": [
    {
     "name": "stdout",
     "output_type": "stream",
     "text": [
      "вторник\n",
      "Вт\n",
      "Январь\n",
      "янв\n"
     ]
    }
   ],
   "source": [
    "# Объекты, доступные по атрибутам day_name, day_abbr, month_name и month_abbr, поддерживают индексацию\n",
    "import calendar\n",
    "\n",
    "print(calendar.day_name[1])\n",
    "print(calendar.day_abbr[1])\n",
    "print(calendar.month_name[1])\n",
    "print(calendar.month_abbr[1])"
   ]
  },
  {
   "cell_type": "code",
   "execution_count": null,
   "id": "5fdd78e4-b728-4d1a-b7f9-d930c85b1e69",
   "metadata": {},
   "outputs": [],
   "source": []
  },
  {
   "cell_type": "markdown",
   "id": "8dfb4ae6-888c-4873-b65f-0783afccd320",
   "metadata": {},
   "source": [
    "# Задача №1"
   ]
  },
  {
   "cell_type": "code",
   "execution_count": null,
   "id": "169310c6-ae6d-4b77-aa5c-4de0f77c7a8b",
   "metadata": {},
   "outputs": [],
   "source": [
    "Високосный год\n",
    "Напишите программу, которая определяет, является ли год високосным.\n",
    "\n",
    "Формат входных данных\n",
    "На вход программе в первой строке подается целое число \n",
    "𝑛\n",
    "n, в последующих \n",
    "𝑛\n",
    "n строках вводятся натуральные числа, представляющие года.\n",
    "\n",
    "Формат выходных данных\n",
    "Программа должна для каждого введенного года вывести True, если он является високосным, или False в противном случае."
   ]
  },
  {
   "cell_type": "code",
   "execution_count": 38,
   "id": "aa7299a2-aa25-4134-9b38-8f9ad4038bbd",
   "metadata": {},
   "outputs": [],
   "source": [
    "import calendar"
   ]
  },
  {
   "cell_type": "code",
   "execution_count": 41,
   "id": "bdef4da0-4d13-431f-85d4-5eaeaca91c66",
   "metadata": {},
   "outputs": [
    {
     "name": "stdin",
     "output_type": "stream",
     "text": [
      " 1\n",
      " 2024\n"
     ]
    },
    {
     "name": "stdout",
     "output_type": "stream",
     "text": [
      "True\n"
     ]
    }
   ],
   "source": [
    "for i in range(int(input())):\n",
    "    print(calendar.isleap(int(input())))"
   ]
  },
  {
   "cell_type": "code",
   "execution_count": null,
   "id": "f165464a-7e7f-40ba-ba25-adce503f01a5",
   "metadata": {},
   "outputs": [],
   "source": []
  },
  {
   "cell_type": "markdown",
   "id": "59aeda39-c9b5-43f0-abf9-2d4364397ffe",
   "metadata": {},
   "source": [
    "# Задача №2"
   ]
  },
  {
   "cell_type": "code",
   "execution_count": null,
   "id": "0cb87d0b-eca1-43d8-9cce-a69aaf16163f",
   "metadata": {},
   "outputs": [],
   "source": [
    "Календарь на месяц\n",
    "Напишите программу, которая выводит календарь на заданные год и месяц.\n",
    "\n",
    "Формат входных данных\n",
    "На вход программе подаются год и сокращенное название месяца на английском, разделенные пробелом.\n",
    "\n",
    "Формат выходных данных\n",
    "Программа должна вывести календарь на введенные год и месяц."
   ]
  },
  {
   "cell_type": "code",
   "execution_count": 6,
   "id": "92b181cb-5a35-407c-93ed-30a648adfa3f",
   "metadata": {},
   "outputs": [
    {
     "data": {
      "text/plain": [
       "True"
      ]
     },
     "execution_count": 6,
     "metadata": {},
     "output_type": "execute_result"
    }
   ],
   "source": [
    "import calendar\n",
    "\n",
    "calendar.month_abbr[1] == 'Jan'"
   ]
  },
  {
   "cell_type": "code",
   "execution_count": null,
   "id": "e8ba7290-a649-4467-86e7-319e08e12904",
   "metadata": {},
   "outputs": [],
   "source": []
  },
  {
   "cell_type": "code",
   "execution_count": 8,
   "id": "cca1ab40-04a0-4d99-b7b5-494cfc6fd590",
   "metadata": {},
   "outputs": [
    {
     "name": "stdin",
     "output_type": "stream",
     "text": [
      " 2024 Dec\n"
     ]
    }
   ],
   "source": [
    "d = input().split()"
   ]
  },
  {
   "cell_type": "code",
   "execution_count": 17,
   "id": "d3377652-c65b-4249-b965-a7b3841b872b",
   "metadata": {},
   "outputs": [
    {
     "data": {
      "text/plain": [
       "'Dec'"
      ]
     },
     "execution_count": 17,
     "metadata": {},
     "output_type": "execute_result"
    }
   ],
   "source": [
    "d[1]"
   ]
  },
  {
   "cell_type": "code",
   "execution_count": 42,
   "id": "a2dc3688-b7a2-4873-a06f-7935f0d3db8f",
   "metadata": {},
   "outputs": [
    {
     "name": "stdout",
     "output_type": "stream",
     "text": [
      "   December 2024\n",
      "Mo Tu We Th Fr Sa Su\n",
      "                   1\n",
      " 2  3  4  5  6  7  8\n",
      " 9 10 11 12 13 14 15\n",
      "16 17 18 19 20 21 22\n",
      "23 24 25 26 27 28 29\n",
      "30 31\n",
      "\n"
     ]
    }
   ],
   "source": [
    "for i in range(1,13):\n",
    "    # print(calendar.month_abbr[i])\n",
    "    if calendar.month_abbr[i] == d[1]:\n",
    "        \n",
    "        x = i\n",
    "        break\n",
    "\n",
    "print(calendar.month(int(d[0]), x))"
   ]
  },
  {
   "cell_type": "code",
   "execution_count": null,
   "id": "80a0f8fa-f70b-42a7-af13-415a772c19b7",
   "metadata": {},
   "outputs": [],
   "source": []
  },
  {
   "cell_type": "markdown",
   "id": "7607bae3-7a58-4096-a74b-83dc10de6882",
   "metadata": {},
   "source": [
    "# Задача №3"
   ]
  },
  {
   "cell_type": "code",
   "execution_count": null,
   "id": "24a89634-32fc-4479-9c74-d08d39e465b0",
   "metadata": {},
   "outputs": [],
   "source": [
    "День недели\n",
    "Напишите программу, которая определяет день недели, соответствующий заданной дате.\n",
    "\n",
    "Формат входных данных\n",
    "На вход программе подается дата в формате YYYY-MM-DD.\n",
    "\n",
    "Формат выходных данных\n",
    "Программа должна вывести полное название дня недели на английском, который соответствует введенной дате.\n",
    "\n",
    "Sample Input 1:\n",
    "2021-12-10\n",
    "    \n",
    "Sample Output 1:\n",
    "Friday"
   ]
  },
  {
   "cell_type": "code",
   "execution_count": 44,
   "id": "e08d9457-2860-4c7a-a286-0c9258edb369",
   "metadata": {},
   "outputs": [
    {
     "name": "stdin",
     "output_type": "stream",
     "text": [
      " 2021-12-10\n"
     ]
    }
   ],
   "source": [
    "d = input()"
   ]
  },
  {
   "cell_type": "code",
   "execution_count": 47,
   "id": "8a45705c-adf8-4b14-ba55-60953d85dbe0",
   "metadata": {},
   "outputs": [
    {
     "data": {
      "text/plain": [
       "'2021-12-10'"
      ]
     },
     "execution_count": 47,
     "metadata": {},
     "output_type": "execute_result"
    }
   ],
   "source": [
    "d"
   ]
  },
  {
   "cell_type": "code",
   "execution_count": 62,
   "id": "9f227906-de78-419f-8d09-3d5fa352e59b",
   "metadata": {},
   "outputs": [
    {
     "data": {
      "text/plain": [
       "datetime.datetime(2021, 12, 10, 0, 0)"
      ]
     },
     "execution_count": 62,
     "metadata": {},
     "output_type": "execute_result"
    }
   ],
   "source": [
    "from datetime import datetime\n",
    "\n",
    "date = datetime.strptime(d, '%Y-%m-%d')\n",
    "date"
   ]
  },
  {
   "cell_type": "code",
   "execution_count": 59,
   "id": "aad0b038-a32c-4065-bad6-830e54b6a12c",
   "metadata": {},
   "outputs": [
    {
     "data": {
      "text/plain": [
       "['Monday', 'Tuesday', 'Wednesday', 'Thursday', 'Friday', 'Saturday', 'Sunday']"
      ]
     },
     "execution_count": 59,
     "metadata": {},
     "output_type": "execute_result"
    }
   ],
   "source": [
    "list(calendar.day_name)"
   ]
  },
  {
   "cell_type": "code",
   "execution_count": 78,
   "id": "92534a17-e748-4b4b-a417-49edaa478311",
   "metadata": {},
   "outputs": [
    {
     "data": {
      "text/plain": [
       "'Friday'"
      ]
     },
     "execution_count": 78,
     "metadata": {},
     "output_type": "execute_result"
    }
   ],
   "source": [
    "date.strftime('%A')"
   ]
  },
  {
   "cell_type": "code",
   "execution_count": 100,
   "id": "06931a3d-9ac6-4474-a0f1-9da46f4ff845",
   "metadata": {},
   "outputs": [
    {
     "data": {
      "text/plain": [
       "4"
      ]
     },
     "execution_count": 100,
     "metadata": {},
     "output_type": "execute_result"
    }
   ],
   "source": [
    "x = calendar.weekday(date.year, date.month, date.day)\n",
    "int(x)"
   ]
  },
  {
   "cell_type": "code",
   "execution_count": 103,
   "id": "b1da5141-d01e-4d8b-893d-e529e3c4ebab",
   "metadata": {},
   "outputs": [
    {
     "name": "stdout",
     "output_type": "stream",
     "text": [
      "Friday\n"
     ]
    }
   ],
   "source": [
    "for i in range(len(calendar.day_name)):\n",
    "    if i == int(x):\n",
    "        print(calendar.day_name[i])"
   ]
  },
  {
   "cell_type": "code",
   "execution_count": null,
   "id": "f29bb92f-158c-4ccd-ab07-8396fbb8275c",
   "metadata": {},
   "outputs": [],
   "source": []
  },
  {
   "cell_type": "markdown",
   "id": "59d875b4-0e8d-4609-94c8-41d4883dfa32",
   "metadata": {},
   "source": [
    "# Задача №4"
   ]
  },
  {
   "cell_type": "code",
   "execution_count": null,
   "id": "c76a29b1-2666-4191-99c8-f19d0b52d286",
   "metadata": {},
   "outputs": [],
   "source": [
    "Количество дней 😉\n",
    "Напишите программу, которая определяет количество дней в заданном месяце.\n",
    "\n",
    "Формат входных данных\n",
    "На вход программе подаются год и порядковый номер месяца (начиная с \n",
    "1\n",
    "1), разделенные пробелом.\n",
    "\n",
    "Формат выходных данных\n",
    "Программа должна вывести единственное число — количество дней в введенном месяце.\n",
    "\n",
    "Примечание 1. Январь имеет порядковый номер \n",
    "1\n",
    "1, Февраль — \n",
    "2\n",
    "2, Март — \n",
    "3\n",
    "3, и так далее.\n",
    "\n",
    "Sample Input 1:\n",
    "\n",
    "2008 1\n",
    "\n",
    "    \n",
    "Sample Output 1:\n",
    "\n",
    "31"
   ]
  },
  {
   "cell_type": "code",
   "execution_count": null,
   "id": "c34d5a94-3089-421f-92f7-57b74851c20c",
   "metadata": {},
   "outputs": [],
   "source": []
  },
  {
   "cell_type": "code",
   "execution_count": 3,
   "id": "3de24fc1-c342-4565-a02c-1d8a7ae966c7",
   "metadata": {},
   "outputs": [
    {
     "name": "stdin",
     "output_type": "stream",
     "text": [
      " 2008 1\n"
     ]
    }
   ],
   "source": [
    "s = input().split()"
   ]
  },
  {
   "cell_type": "code",
   "execution_count": 4,
   "id": "c3edeee2-a129-40c7-af4d-d48cafab67c2",
   "metadata": {},
   "outputs": [],
   "source": [
    "year = int(s[0])\n",
    "month = int(s[1])"
   ]
  },
  {
   "cell_type": "code",
   "execution_count": 5,
   "id": "063e8034-ad03-4bce-b785-5c35fea99972",
   "metadata": {},
   "outputs": [],
   "source": [
    "import calendar"
   ]
  },
  {
   "cell_type": "code",
   "execution_count": 15,
   "id": "33fb4c4c-761c-4a16-a8ee-92624a1cfe44",
   "metadata": {},
   "outputs": [
    {
     "name": "stdout",
     "output_type": "stream",
     "text": [
      "31\n"
     ]
    }
   ],
   "source": [
    "print(calendar.monthrange(year, month)[1])"
   ]
  },
  {
   "cell_type": "code",
   "execution_count": null,
   "id": "89733604-6d26-4d97-b06d-3a2619f3873c",
   "metadata": {},
   "outputs": [],
   "source": []
  },
  {
   "cell_type": "markdown",
   "id": "67df73d3-4b28-46d8-8d11-644d64e257ed",
   "metadata": {},
   "source": [
    "# Задача №5"
   ]
  },
  {
   "cell_type": "code",
   "execution_count": null,
   "id": "113bd339-3d48-4e2f-87ea-22647704ceef",
   "metadata": {},
   "outputs": [],
   "source": [
    "Количество дней 😎\n",
    "Напишите программу, которая определяет количество дней в заданном месяце.\n",
    "\n",
    "Формат входных данных\n",
    "На вход программе подаются год и полное название месяца на английском, разделенные пробелом.\n",
    "\n",
    "Формат выходных данных\n",
    "Программа должна вывести единственное число — количество дней в введенном месяце."
   ]
  },
  {
   "cell_type": "code",
   "execution_count": 18,
   "id": "4dc0416a-0d2d-4180-9777-460f52cb6dd2",
   "metadata": {},
   "outputs": [
    {
     "name": "stdin",
     "output_type": "stream",
     "text": [
      " 2024 July\n"
     ]
    }
   ],
   "source": [
    "import calendar\n",
    "\n",
    "s = input().split()\n",
    "year = int(s[0])\n",
    "month = s[1]"
   ]
  },
  {
   "cell_type": "code",
   "execution_count": 19,
   "id": "fe5b2434-5a64-4aca-97ac-2b94abb464dd",
   "metadata": {},
   "outputs": [
    {
     "data": {
      "text/plain": [
       "'July'"
      ]
     },
     "execution_count": 19,
     "metadata": {},
     "output_type": "execute_result"
    }
   ],
   "source": [
    "month"
   ]
  },
  {
   "cell_type": "code",
   "execution_count": 26,
   "id": "53fe89c4-56a6-4558-beeb-6c38a5b13ab3",
   "metadata": {},
   "outputs": [
    {
     "data": {
      "text/plain": [
       "['',\n",
       " 'January',\n",
       " 'February',\n",
       " 'March',\n",
       " 'April',\n",
       " 'May',\n",
       " 'June',\n",
       " 'July',\n",
       " 'August',\n",
       " 'September',\n",
       " 'October',\n",
       " 'November',\n",
       " 'December']"
      ]
     },
     "execution_count": 26,
     "metadata": {},
     "output_type": "execute_result"
    }
   ],
   "source": [
    "list(calendar.month_name)"
   ]
  },
  {
   "cell_type": "code",
   "execution_count": 27,
   "id": "f7a967fe-ad76-4d44-a685-174889f5ee5f",
   "metadata": {},
   "outputs": [
    {
     "data": {
      "text/plain": [
       "7"
      ]
     },
     "execution_count": 27,
     "metadata": {},
     "output_type": "execute_result"
    }
   ],
   "source": [
    "list(calendar.month_name).index(month)"
   ]
  },
  {
   "cell_type": "code",
   "execution_count": 29,
   "id": "f36e884b-00bb-4c1e-b26e-e0a1171e350c",
   "metadata": {},
   "outputs": [
    {
     "name": "stdout",
     "output_type": "stream",
     "text": [
      "31\n"
     ]
    }
   ],
   "source": [
    "print(calendar.monthrange(year, list(calendar.month_name).index(month))[1])"
   ]
  },
  {
   "cell_type": "code",
   "execution_count": null,
   "id": "c475a0e6-d1a0-4b39-a327-5a708bf2e34e",
   "metadata": {},
   "outputs": [],
   "source": []
  },
  {
   "cell_type": "markdown",
   "id": "961299d2-5bd4-488a-b981-98e80531c1aa",
   "metadata": {},
   "source": [
    "# Задача №6"
   ]
  },
  {
   "cell_type": "code",
   "execution_count": null,
   "id": "7fc5c3c2-f89b-42cb-bcc9-8031dd5860a4",
   "metadata": {},
   "outputs": [],
   "source": [
    "Функция get_days_in_month()   \n",
    "Реализуйте функцию get_days_in_month(), которая принимает два аргумента в следующем порядке:\n",
    "\n",
    "year — натуральное число\n",
    "month — полное название месяца на английском\n",
    "Функция должна возвращать отсортированный по возрастанию список всех дат (тип date) месяца month и года year.\n",
    "\n",
    "Примечание 1. Например, вызов:\n",
    "\n",
    "get_days_in_month(2021, 'December')\n",
    "должен вернуть список:\n",
    "\n",
    "[datetime.date(2021, 12, 1), datetime.date(2021, 12, 2), ..., datetime.date(2021, 12, 30), datetime.date(2021, 12, 31)]"
   ]
  },
  {
   "cell_type": "code",
   "execution_count": 54,
   "id": "cb7f9a45-c79e-4108-bc34-7d2277879b82",
   "metadata": {},
   "outputs": [],
   "source": [
    "import calendar\n",
    "from datetime import date\n",
    "\n",
    "def get_days_in_month(year, month):\n",
    "    month_range = calendar.monthrange(year, list(calendar.month_name).index(month))[1]\n",
    "    month_number = list(calendar.month_name).index(month)\n",
    "\n",
    "    lst = []\n",
    "    for i in range(1, month_range+1):\n",
    "        lst.append(date(year, month_number, i))\n",
    "    return lst\n",
    "    "
   ]
  },
  {
   "cell_type": "code",
   "execution_count": 55,
   "id": "596f9e08-ead8-41e0-ab08-400861b46843",
   "metadata": {},
   "outputs": [
    {
     "data": {
      "text/plain": [
       "['',\n",
       " 'January',\n",
       " 'February',\n",
       " 'March',\n",
       " 'April',\n",
       " 'May',\n",
       " 'June',\n",
       " 'July',\n",
       " 'August',\n",
       " 'September',\n",
       " 'October',\n",
       " 'November',\n",
       " 'December']"
      ]
     },
     "execution_count": 55,
     "metadata": {},
     "output_type": "execute_result"
    }
   ],
   "source": [
    "list(calendar.month_name)"
   ]
  },
  {
   "cell_type": "code",
   "execution_count": 56,
   "id": "d7fe796e-ee4f-47ec-a4d2-e7293bf85aca",
   "metadata": {},
   "outputs": [
    {
     "data": {
      "text/plain": [
       "5"
      ]
     },
     "execution_count": 56,
     "metadata": {},
     "output_type": "execute_result"
    }
   ],
   "source": [
    "list(calendar.month_name).index('May')"
   ]
  },
  {
   "cell_type": "code",
   "execution_count": 57,
   "id": "d7797ac4-7b6a-4dc6-95eb-22e7b497d560",
   "metadata": {},
   "outputs": [
    {
     "data": {
      "text/plain": [
       "31"
      ]
     },
     "execution_count": 57,
     "metadata": {},
     "output_type": "execute_result"
    }
   ],
   "source": [
    "calendar.monthrange(year, list(calendar.month_name).index(month))[1]"
   ]
  },
  {
   "cell_type": "code",
   "execution_count": null,
   "id": "fbf79f0c-8cb2-4de8-908b-08f24f359ff1",
   "metadata": {},
   "outputs": [],
   "source": []
  },
  {
   "cell_type": "code",
   "execution_count": 58,
   "id": "a0f60036-49ee-463e-ba16-b1dbeff8ed35",
   "metadata": {},
   "outputs": [
    {
     "data": {
      "text/plain": [
       "[datetime.date(2024, 7, 1),\n",
       " datetime.date(2024, 7, 2),\n",
       " datetime.date(2024, 7, 3),\n",
       " datetime.date(2024, 7, 4),\n",
       " datetime.date(2024, 7, 5),\n",
       " datetime.date(2024, 7, 6),\n",
       " datetime.date(2024, 7, 7),\n",
       " datetime.date(2024, 7, 8),\n",
       " datetime.date(2024, 7, 9),\n",
       " datetime.date(2024, 7, 10),\n",
       " datetime.date(2024, 7, 11),\n",
       " datetime.date(2024, 7, 12),\n",
       " datetime.date(2024, 7, 13),\n",
       " datetime.date(2024, 7, 14),\n",
       " datetime.date(2024, 7, 15),\n",
       " datetime.date(2024, 7, 16),\n",
       " datetime.date(2024, 7, 17),\n",
       " datetime.date(2024, 7, 18),\n",
       " datetime.date(2024, 7, 19),\n",
       " datetime.date(2024, 7, 20),\n",
       " datetime.date(2024, 7, 21),\n",
       " datetime.date(2024, 7, 22),\n",
       " datetime.date(2024, 7, 23),\n",
       " datetime.date(2024, 7, 24),\n",
       " datetime.date(2024, 7, 25),\n",
       " datetime.date(2024, 7, 26),\n",
       " datetime.date(2024, 7, 27),\n",
       " datetime.date(2024, 7, 28),\n",
       " datetime.date(2024, 7, 29),\n",
       " datetime.date(2024, 7, 30),\n",
       " datetime.date(2024, 7, 31)]"
      ]
     },
     "execution_count": 58,
     "metadata": {},
     "output_type": "execute_result"
    }
   ],
   "source": [
    "get_days_in_month(2024, 'July')"
   ]
  },
  {
   "cell_type": "code",
   "execution_count": null,
   "id": "a0c6f6e7-2d9c-41cd-94d2-a6060a11dcfd",
   "metadata": {},
   "outputs": [],
   "source": []
  },
  {
   "cell_type": "markdown",
   "id": "cb32bfe9-1d21-48d9-a016-9c0090fe1549",
   "metadata": {},
   "source": [
    "# Задача №7"
   ]
  },
  {
   "cell_type": "code",
   "execution_count": null,
   "id": "195a36cd-db35-45cb-803f-47e53f787946",
   "metadata": {},
   "outputs": [],
   "source": [
    "Функция get_all_mondays()\n",
    "Реализуйте функцию get_all_mondays(), которая принимает один аргумент:\n",
    "\n",
    "year — натуральное число\n",
    "Функция должна возвращать отсортированный по возрастанию список всех дат (тип date) года year, выпадающих на понедельник.\n",
    "\n",
    "Примечание 1. Например, вызов:\n",
    "\n",
    "get_all_mondays(2021)\n",
    "должен вернуть список:\n",
    "\n",
    "[datetime.date(2021, 1, 4), datetime.date(2021, 1, 11), ..., datetime.date(2021, 12, 20), datetime.date(2021, 12, 27)]"
   ]
  },
  {
   "cell_type": "code",
   "execution_count": 2,
   "id": "ed943422-6eb5-4c9a-8ecb-9d0fc0fd68ca",
   "metadata": {},
   "outputs": [],
   "source": [
    "import calendar"
   ]
  },
  {
   "cell_type": "code",
   "execution_count": 3,
   "id": "f3991c4e-654e-4d4b-b0e5-e29f36516115",
   "metadata": {},
   "outputs": [],
   "source": [
    "def get_all_mondays(year):\n",
    "    pass"
   ]
  },
  {
   "cell_type": "code",
   "execution_count": 7,
   "id": "ecdb80ea-12ff-4977-9006-eba6017f439d",
   "metadata": {},
   "outputs": [
    {
     "data": {
      "text/plain": [
       "['Monday', 'Tuesday', 'Wednesday', 'Thursday', 'Friday', 'Saturday', 'Sunday']"
      ]
     },
     "execution_count": 7,
     "metadata": {},
     "output_type": "execute_result"
    }
   ],
   "source": [
    "list(calendar.day_name)"
   ]
  },
  {
   "cell_type": "code",
   "execution_count": 9,
   "id": "f77a6fe9-84ac-47ed-ba6c-82862d6a26a4",
   "metadata": {},
   "outputs": [],
   "source": [
    "import datetime"
   ]
  },
  {
   "cell_type": "code",
   "execution_count": 12,
   "id": "d498f4ff-ecf5-4094-b803-6d0fb3bb838a",
   "metadata": {},
   "outputs": [
    {
     "data": {
      "text/plain": [
       "datetime.date(2024, 1, 1)"
      ]
     },
     "execution_count": 12,
     "metadata": {},
     "output_type": "execute_result"
    }
   ],
   "source": [
    "datetime.date(2024, 1, 1)"
   ]
  },
  {
   "cell_type": "code",
   "execution_count": 13,
   "id": "dc606107-7a4a-40f0-92c7-8962e06a1435",
   "metadata": {},
   "outputs": [],
   "source": [
    "start_date = datetime.date(2024, 1, 1)"
   ]
  },
  {
   "cell_type": "code",
   "execution_count": 14,
   "id": "e9c9eaa9-ed5a-4680-a211-bbf71091b039",
   "metadata": {},
   "outputs": [
    {
     "data": {
      "text/plain": [
       "0"
      ]
     },
     "execution_count": 14,
     "metadata": {},
     "output_type": "execute_result"
    }
   ],
   "source": [
    "start_date.weekday()"
   ]
  },
  {
   "cell_type": "code",
   "execution_count": 17,
   "id": "482d8090-9553-4cd0-8312-00e092a27cb6",
   "metadata": {},
   "outputs": [
    {
     "data": {
      "text/plain": [
       "calendar.MONDAY"
      ]
     },
     "execution_count": 17,
     "metadata": {},
     "output_type": "execute_result"
    }
   ],
   "source": [
    "calendar.weekday(2024, 1, 1)"
   ]
  },
  {
   "cell_type": "code",
   "execution_count": 18,
   "id": "c74a8281-c6c0-4f3f-a09e-42d69396976e",
   "metadata": {},
   "outputs": [
    {
     "data": {
      "text/plain": [
       "2024"
      ]
     },
     "execution_count": 18,
     "metadata": {},
     "output_type": "execute_result"
    }
   ],
   "source": [
    "start_date.year"
   ]
  },
  {
   "cell_type": "code",
   "execution_count": null,
   "id": "de1af674-f06f-4d12-bb7a-69f90add1262",
   "metadata": {},
   "outputs": [],
   "source": []
  },
  {
   "cell_type": "code",
   "execution_count": 24,
   "id": "3e4ac765-1853-441f-8399-d42507337e7a",
   "metadata": {},
   "outputs": [],
   "source": [
    "import datetime\n",
    "from datetime import timedelta\n",
    "\n",
    "def get_all_mondays(year):\n",
    "    lst = []\n",
    "    start_date = datetime.date(year, 1, 1)\n",
    "    \n",
    "    print(start_date.year)\n",
    "    \n",
    "    while start_date.year == year:\n",
    "        if start_date.weekday() == 0:\n",
    "            lst.append(start_date)\n",
    "            start_date += timedelta(days = 1)\n",
    "        else:\n",
    "            start_date += timedelta(days = 1)\n",
    "    return lst"
   ]
  },
  {
   "cell_type": "code",
   "execution_count": 25,
   "id": "6c3663bd-e7aa-465d-8284-ed5fd8980eb3",
   "metadata": {},
   "outputs": [
    {
     "name": "stdout",
     "output_type": "stream",
     "text": [
      "2024\n"
     ]
    },
    {
     "data": {
      "text/plain": [
       "[datetime.date(2024, 1, 1),\n",
       " datetime.date(2024, 1, 8),\n",
       " datetime.date(2024, 1, 15),\n",
       " datetime.date(2024, 1, 22),\n",
       " datetime.date(2024, 1, 29),\n",
       " datetime.date(2024, 2, 5),\n",
       " datetime.date(2024, 2, 12),\n",
       " datetime.date(2024, 2, 19),\n",
       " datetime.date(2024, 2, 26),\n",
       " datetime.date(2024, 3, 4),\n",
       " datetime.date(2024, 3, 11),\n",
       " datetime.date(2024, 3, 18),\n",
       " datetime.date(2024, 3, 25),\n",
       " datetime.date(2024, 4, 1),\n",
       " datetime.date(2024, 4, 8),\n",
       " datetime.date(2024, 4, 15),\n",
       " datetime.date(2024, 4, 22),\n",
       " datetime.date(2024, 4, 29),\n",
       " datetime.date(2024, 5, 6),\n",
       " datetime.date(2024, 5, 13),\n",
       " datetime.date(2024, 5, 20),\n",
       " datetime.date(2024, 5, 27),\n",
       " datetime.date(2024, 6, 3),\n",
       " datetime.date(2024, 6, 10),\n",
       " datetime.date(2024, 6, 17),\n",
       " datetime.date(2024, 6, 24),\n",
       " datetime.date(2024, 7, 1),\n",
       " datetime.date(2024, 7, 8),\n",
       " datetime.date(2024, 7, 15),\n",
       " datetime.date(2024, 7, 22),\n",
       " datetime.date(2024, 7, 29),\n",
       " datetime.date(2024, 8, 5),\n",
       " datetime.date(2024, 8, 12),\n",
       " datetime.date(2024, 8, 19),\n",
       " datetime.date(2024, 8, 26),\n",
       " datetime.date(2024, 9, 2),\n",
       " datetime.date(2024, 9, 9),\n",
       " datetime.date(2024, 9, 16),\n",
       " datetime.date(2024, 9, 23),\n",
       " datetime.date(2024, 9, 30),\n",
       " datetime.date(2024, 10, 7),\n",
       " datetime.date(2024, 10, 14),\n",
       " datetime.date(2024, 10, 21),\n",
       " datetime.date(2024, 10, 28),\n",
       " datetime.date(2024, 11, 4),\n",
       " datetime.date(2024, 11, 11),\n",
       " datetime.date(2024, 11, 18),\n",
       " datetime.date(2024, 11, 25),\n",
       " datetime.date(2024, 12, 2),\n",
       " datetime.date(2024, 12, 9),\n",
       " datetime.date(2024, 12, 16),\n",
       " datetime.date(2024, 12, 23),\n",
       " datetime.date(2024, 12, 30)]"
      ]
     },
     "execution_count": 25,
     "metadata": {},
     "output_type": "execute_result"
    }
   ],
   "source": [
    "get_all_mondays(2024)"
   ]
  },
  {
   "cell_type": "markdown",
   "id": "947b573e-7319-4f2a-88b3-f16685affb9f",
   "metadata": {},
   "source": [
    "# Задача №8"
   ]
  },
  {
   "cell_type": "code",
   "execution_count": null,
   "id": "683356f3-df97-46f6-b457-e841cd2b3538",
   "metadata": {},
   "outputs": [],
   "source": [
    "ТЧМ\n",
    "Во многих музеях существует один день месяца, когда посещение музея для всех лиц или отдельных\n",
    "категорий граждан происходит без взимания платы. Например, в Эрмитаже это третий четверг месяца.\n",
    "\n",
    "Напишите программу, которая определяет даты бесплатных дней посещения Эрмитажа в заданном году.\n",
    "\n",
    "Формат входных данных\n",
    "На вход программе подается натуральное число, представляющее год.\n",
    "\n",
    "Формат выходных данных\n",
    "Программа должна определить все даты бесплатных дней посещения Эрмитажа в введенном году и вывести их. \n",
    "Даты должны быть расположены в порядке возрастания, каждая на отдельной строке, в формате DD.MM.YYYY."
   ]
  },
  {
   "cell_type": "code",
   "execution_count": 27,
   "id": "0113a2b8-5451-40ba-8e8e-4585be6c27b0",
   "metadata": {},
   "outputs": [],
   "source": [
    "import datetime"
   ]
  },
  {
   "cell_type": "code",
   "execution_count": 28,
   "id": "f1026153-1e8b-49aa-a58c-f9c3ced65ea5",
   "metadata": {},
   "outputs": [
    {
     "name": "stdin",
     "output_type": "stream",
     "text": [
      " 2024\n"
     ]
    }
   ],
   "source": [
    "year = int(input())"
   ]
  },
  {
   "cell_type": "code",
   "execution_count": 45,
   "id": "7f38ac26-5e36-4f1b-bc38-173adfa91313",
   "metadata": {},
   "outputs": [],
   "source": [
    "start_date = datetime.date(year, 1, 1)"
   ]
  },
  {
   "cell_type": "code",
   "execution_count": 44,
   "id": "088148a2-adc4-4525-8ea6-577b4bfd5dc2",
   "metadata": {},
   "outputs": [],
   "source": [
    "month = 1"
   ]
  },
  {
   "cell_type": "code",
   "execution_count": 49,
   "id": "92c030a1-9579-471c-a7b8-dc9adb4ff560",
   "metadata": {},
   "outputs": [],
   "source": [
    "start_date = datetime.date(year, month, 1)"
   ]
  },
  {
   "cell_type": "code",
   "execution_count": 50,
   "id": "25261199-cf54-4bb3-b960-3aaef1c56ba8",
   "metadata": {},
   "outputs": [
    {
     "data": {
      "text/plain": [
       "1"
      ]
     },
     "execution_count": 50,
     "metadata": {},
     "output_type": "execute_result"
    }
   ],
   "source": [
    "start_date.month"
   ]
  },
  {
   "cell_type": "code",
   "execution_count": 63,
   "id": "1f68b5eb-f8d9-42de-bd92-131ce5ee5726",
   "metadata": {},
   "outputs": [],
   "source": [
    "lst = []\n",
    "start_date = datetime.date(year, 1, 1)\n",
    "\n",
    "\n",
    "for i in range(1, 13):\n",
    "\n",
    "    count_wednesdays = 0\n",
    "    while start_date.month == i:\n",
    "        if start_date.weekday() == 2:\n",
    "            count_wednesdays += 1\n",
    "    \n",
    "            if count_wednesdays == 3:\n",
    "                lst.append(start_date)\n",
    "                if i == 12:\n",
    "                    break\n",
    "                start_date = datetime.date(year, i + 1 , 1)\n",
    "\n",
    "                break\n",
    "            \n",
    "            start_date += timedelta(days = 1)\n",
    "        else:\n",
    "            start_date += timedelta(days = 1)\n"
   ]
  },
  {
   "cell_type": "code",
   "execution_count": 68,
   "id": "b43155de-a968-41c1-9425-849c7c93189e",
   "metadata": {},
   "outputs": [
    {
     "name": "stdout",
     "output_type": "stream",
     "text": [
      "17.01.2024\n",
      "21.02.2024\n",
      "20.03.2024\n",
      "17.04.2024\n",
      "15.05.2024\n",
      "19.06.2024\n",
      "17.07.2024\n",
      "21.08.2024\n",
      "18.09.2024\n",
      "16.10.2024\n",
      "20.11.2024\n",
      "18.12.2024\n"
     ]
    }
   ],
   "source": [
    "for i in lst:\n",
    "    print(i.strftime('%d.%m.%Y'))"
   ]
  },
  {
   "cell_type": "code",
   "execution_count": 69,
   "id": "3f3112a2-117f-4551-91f6-c9ae99b872c4",
   "metadata": {},
   "outputs": [
    {
     "name": "stdout",
     "output_type": "stream",
     "text": [
      "[0, 0, 1, 2, 3, 4, 5]\n",
      "[6, 7, 8, 9, 10, 11, 12]\n",
      "[13, 14, 15, 16, 17, 18, 19]\n",
      "[20, 21, 22, 23, 24, 25, 26]\n",
      "[27, 28, 29, 30, 0, 0, 0]\n"
     ]
    }
   ],
   "source": [
    "# Это упростит решение\n",
    "\n",
    "import calendar\n",
    "\n",
    "print(*calendar.monthcalendar(2021, 9), sep='\\n')"
   ]
  },
  {
   "cell_type": "code",
   "execution_count": null,
   "id": "e466e114-03e9-4a2c-b2a8-36acf2980102",
   "metadata": {},
   "outputs": [],
   "source": []
  },
  {
   "cell_type": "code",
   "execution_count": null,
   "id": "713e7394-10bb-44e1-a234-cc6e159f03d5",
   "metadata": {},
   "outputs": [],
   "source": []
  },
  {
   "cell_type": "code",
   "execution_count": null,
   "id": "5e14de91-acb4-4403-9ca9-7ae427823233",
   "metadata": {},
   "outputs": [],
   "source": []
  },
  {
   "cell_type": "code",
   "execution_count": null,
   "id": "9eeb0d35-3362-4897-a036-7bd9b0291f5d",
   "metadata": {},
   "outputs": [],
   "source": []
  },
  {
   "cell_type": "code",
   "execution_count": null,
   "id": "c1019f44-f8f2-4d15-a90c-1c7e527d53ef",
   "metadata": {},
   "outputs": [],
   "source": []
  }
 ],
 "metadata": {
  "kernelspec": {
   "display_name": "Python 3 (ipykernel)",
   "language": "python",
   "name": "python3"
  },
  "language_info": {
   "codemirror_mode": {
    "name": "ipython",
    "version": 3
   },
   "file_extension": ".py",
   "mimetype": "text/x-python",
   "name": "python",
   "nbconvert_exporter": "python",
   "pygments_lexer": "ipython3",
   "version": "3.12.3"
  }
 },
 "nbformat": 4,
 "nbformat_minor": 5
}
