{
 "cells": [
  {
   "cell_type": "markdown",
   "id": "79f04915-06be-4458-b0d1-b3aee38afa36",
   "metadata": {},
   "source": [
    "# \"Поколение Python\": курс для профессионалов"
   ]
  },
  {
   "cell_type": "markdown",
   "id": "17614c94-5867-4845-ab4e-e6bad8c0371c",
   "metadata": {},
   "source": [
    "# 001_Повторение"
   ]
  },
  {
   "cell_type": "markdown",
   "id": "2b7b8c49-d6d8-4dec-99f4-6a815aa7c6cb",
   "metadata": {},
   "source": [
    "## Задача №1"
   ]
  },
  {
   "cell_type": "code",
   "execution_count": null,
   "id": "cbdcb793-ecb7-4bb9-8d8f-fee25ea182b1",
   "metadata": {},
   "outputs": [],
   "source": [
    "Функция same_parity()\n",
    "Реализуйте функцию same_parity(), которая принимает один аргумент:\n",
    "\n",
    "numbers — список целых чисел\n",
    "Функция должна возвращать новый список, элементами которого являются числа из списка numbers, \n",
    "имеющие ту же четность, что и первый элемент этого списка.\n",
    "\n",
    "Примечание 1. Числа в возвращаемом функцией списке должны располагаться в своем исходном порядке.\n",
    "\n",
    "Sample Input 1:\n",
    "\n",
    "print(same_parity([]))\n",
    "Sample Output 1:\n",
    "\n",
    "[]\n",
    "Sample Input 2:\n",
    "\n",
    "print(same_parity([6, 0, 67, -7, 10, -20]))\n",
    "Sample Output 2:\n",
    "\n",
    "[6, 0, 10, -20]\n",
    "Sample Input 3:\n",
    "\n",
    "print(same_parity([-7, 0, 67, -9, 70, -29, 90]))\n",
    "Sample Output 3:\n",
    "\n",
    "[-7, 67, -9, -29]"
   ]
  },
  {
   "cell_type": "code",
   "execution_count": 6,
   "id": "3fc7091e-54cd-4e8d-8815-305776cce975",
   "metadata": {},
   "outputs": [],
   "source": [
    "numbers = [6, 0, 67, -7, 10, -20]"
   ]
  },
  {
   "cell_type": "code",
   "execution_count": 9,
   "id": "f86eb327-c322-485d-8aca-9030f91b3702",
   "metadata": {},
   "outputs": [
    {
     "data": {
      "text/plain": [
       "[6, 0, None, None, 10, -20]"
      ]
     },
     "execution_count": 9,
     "metadata": {},
     "output_type": "execute_result"
    }
   ],
   "source": [
    "list(map(lambda x: x if x%2 == numbers[0]%2 else None, numbers))"
   ]
  },
  {
   "cell_type": "code",
   "execution_count": 16,
   "id": "d1c5fc05-4b5a-4d68-9755-b5c999f63296",
   "metadata": {},
   "outputs": [],
   "source": [
    "def same_parity(numbers):\n",
    "    lst = []\n",
    "    for i in list(map(lambda x: x if x%2 == numbers[0]%2 else None, numbers)):\n",
    "        if i or i == 0:\n",
    "            lst.append(i)\n",
    "    return lst"
   ]
  },
  {
   "cell_type": "code",
   "execution_count": 17,
   "id": "30b6958c-8808-4d8c-8d5c-c0ef9bf097e6",
   "metadata": {},
   "outputs": [
    {
     "name": "stdout",
     "output_type": "stream",
     "text": [
      "[]\n"
     ]
    }
   ],
   "source": [
    "print(same_parity([]))"
   ]
  },
  {
   "cell_type": "code",
   "execution_count": 18,
   "id": "136237bb-192c-4843-a0b3-e0e44f64dd5a",
   "metadata": {},
   "outputs": [
    {
     "name": "stdout",
     "output_type": "stream",
     "text": [
      "[6, 0, 10, -20]\n"
     ]
    }
   ],
   "source": [
    "print(same_parity([6, 0, 67, -7, 10, -20]))"
   ]
  },
  {
   "cell_type": "code",
   "execution_count": 19,
   "id": "0e93b179-a9e2-4c5d-afad-3e2c8f1f93d7",
   "metadata": {},
   "outputs": [
    {
     "name": "stdout",
     "output_type": "stream",
     "text": [
      "[-7, 67, -9, -29]\n"
     ]
    }
   ],
   "source": [
    "print(same_parity([-7, 0, 67, -9, 70, -29, 90]))"
   ]
  },
  {
   "cell_type": "code",
   "execution_count": 20,
   "id": "dd4086f9-a954-4e65-8899-be24a4946ae1",
   "metadata": {},
   "outputs": [],
   "source": [
    "# Just new line for git"
   ]
  },
  {
   "cell_type": "code",
   "execution_count": null,
   "id": "36a6b932-5c1b-48f2-b78c-080cacca8641",
   "metadata": {},
   "outputs": [],
   "source": []
  },
  {
   "cell_type": "markdown",
   "id": "533e6e9f-650c-4edb-b0e5-0b1bf0633ae6",
   "metadata": {},
   "source": [
    "# Задача №2"
   ]
  },
  {
   "cell_type": "code",
   "execution_count": null,
   "id": "54b0a8a6-b999-43d1-8752-a91fac0070c5",
   "metadata": {},
   "outputs": [],
   "source": [
    "Функция is_valid()\n",
    "Будем считать, что PIN-код является корректным, если он удовлетворяет следующим условиям:\n",
    "\n",
    "состоит из 4, 5 или 6 символов\n",
    "состоит только из цифр (0−9)\n",
    "не содержит пробелов\n",
    "Реализуйте функцию is_valid(), которая принимает один аргумент:\n",
    "\n",
    "string — произвольная строка\n",
    "Функция должна возвращать значение True, если строка string представляет собой корректный PIN-код, или False в противном случае.\n",
    "\n",
    "Примечание 1. Если в функцию передается пустая строка, функция должна возвращать значение False.\n",
    "\n",
    "\n",
    "Sample Input 1:\n",
    "\n",
    "print(is_valid('4367'))\n",
    "Sample Output 1:\n",
    "\n",
    "True\n",
    "Sample Input 2:\n",
    "\n",
    "print(is_valid('92134'))\n",
    "Sample Output 2:\n",
    "\n",
    "True\n",
    "Sample Input 3:\n",
    "\n",
    "print(is_valid('89abc1'))\n",
    "Sample Output 3:\n",
    "\n",
    "False\n",
    "Sample Input 4:\n",
    "\n",
    "print(is_valid('900876'))\n",
    "Sample Output 4:\n",
    "\n",
    "True\n",
    "Sample Input 5:\n",
    "\n",
    "print(is_valid('49 83'))\n",
    "Sample Output 5:\n",
    "\n",
    "False"
   ]
  },
  {
   "cell_type": "code",
   "execution_count": 3,
   "id": "0546a364-aa37-418a-b549-6855dd7ce2b8",
   "metadata": {},
   "outputs": [],
   "source": [
    "def is_valid(string):\n",
    "    if len(string) in [4,5,6] and string.isdigit():\n",
    "        return True\n",
    "    return False"
   ]
  },
  {
   "cell_type": "code",
   "execution_count": 4,
   "id": "fd00c53a-7516-4854-ba46-734830ecacbe",
   "metadata": {},
   "outputs": [
    {
     "name": "stdout",
     "output_type": "stream",
     "text": [
      "True\n"
     ]
    }
   ],
   "source": [
    "print(is_valid('4367'))"
   ]
  },
  {
   "cell_type": "code",
   "execution_count": 5,
   "id": "5ec66339-dc5a-40d2-997b-1612f45eb93b",
   "metadata": {},
   "outputs": [
    {
     "name": "stdout",
     "output_type": "stream",
     "text": [
      "False\n"
     ]
    }
   ],
   "source": [
    "print(is_valid('49 83'))"
   ]
  },
  {
   "cell_type": "code",
   "execution_count": null,
   "id": "594ef477-769b-455b-9ba1-283136983ecb",
   "metadata": {},
   "outputs": [],
   "source": []
  },
  {
   "cell_type": "markdown",
   "id": "e4271427-4d14-4818-8150-5f7bc3cde8fa",
   "metadata": {},
   "source": [
    "# Задача №3"
   ]
  },
  {
   "cell_type": "code",
   "execution_count": null,
   "id": "1349de35-4c81-4531-8dfd-634bbfe5474d",
   "metadata": {},
   "outputs": [],
   "source": [
    "Функция print_given()\n",
    "Реализуйте функцию print_given(), которая принимает произвольное количество позиционных и \n",
    "именованных аргументов и выводит все переданные аргументы, указывая тип каждого. Пары \n",
    "аргумент-тип должны выводиться каждая на отдельной строке, в следующем формате:\n",
    "\n",
    "для позиционных аргументов:\n",
    "<значение аргумента> <тип аргумента>\n",
    "для именованных аргументов:\n",
    "<имя переменной> <значение аргумента> <тип аргумента>\n",
    "    \n",
    "Примечание 1. При выводе позиционные аргументы должны быть расположены в порядке их передачи,\n",
    "именованные — в лексикографическом порядке имен переменных.\n",
    "\n",
    "Примечание 2. При выводе сначала должны следовать все позиционные аргументы, затем — все именованные.\n",
    "\n",
    "Примечание 3. Если в функцию ничего не передается, функция ничего не должна выводить.\n",
    "\n",
    "Sample Input 1:\n",
    "print_given(1, [1, 2, 3], 'three', two=2)\n",
    "\n",
    "Sample Output 1:\n",
    "1 <class 'int'>\n",
    "[1, 2, 3] <class 'list'>\n",
    "three <class 'str'>\n",
    "two 2 <class 'int'>\n",
    "\n",
    "\n",
    "Sample Input 2:\n",
    "print_given('apple', 'cherry', 'watermelon')\n",
    "Sample Output 2:\n",
    "apple <class 'str'>\n",
    "cherry <class 'str'>\n",
    "watermelon <class 'str'>\n",
    "\n",
    "Sample Input 3:\n",
    "print_given(b=2, d=4, c=3, a=1)\n",
    "Sample Output 3:\n",
    "a 1 <class 'int'>\n",
    "b 2 <class 'int'>\n",
    "c 3 <class 'int'>\n",
    "d 4 <class 'int'>\n",
    "\n",
    "Sample Input 4:\n",
    "print_given()\n",
    "Sample Output 4:"
   ]
  },
  {
   "cell_type": "code",
   "execution_count": 6,
   "id": "6855e0cb-c540-43ad-b403-bba2ea1ffd74",
   "metadata": {},
   "outputs": [],
   "source": [
    "def print_given(*args, **kwargs):\n",
    "    for i in args:\n",
    "        print(i, type(i))\n",
    "    for k,w in sorted(kwargs.items()):\n",
    "        print(k, w, type(k))"
   ]
  },
  {
   "cell_type": "code",
   "execution_count": 7,
   "id": "2b435653-6150-411d-85de-e4eb7f73b84b",
   "metadata": {},
   "outputs": [
    {
     "name": "stdout",
     "output_type": "stream",
     "text": [
      "1 <class 'int'>\n",
      "[1, 2, 3] <class 'list'>\n",
      "three <class 'str'>\n",
      "two 2 <class 'str'>\n"
     ]
    }
   ],
   "source": [
    "print_given(1, [1, 2, 3], 'three', two=2)"
   ]
  },
  {
   "cell_type": "code",
   "execution_count": 8,
   "id": "5bf3efc0-e8ca-4a40-a09c-d2af40320889",
   "metadata": {},
   "outputs": [
    {
     "name": "stdout",
     "output_type": "stream",
     "text": [
      "apple <class 'str'>\n",
      "cherry <class 'str'>\n",
      "watermelon <class 'str'>\n"
     ]
    }
   ],
   "source": [
    "print_given('apple', 'cherry', 'watermelon')\n"
   ]
  },
  {
   "cell_type": "code",
   "execution_count": 9,
   "id": "21f33f69-bbe4-4613-9c46-7f805831e58e",
   "metadata": {},
   "outputs": [
    {
     "name": "stdout",
     "output_type": "stream",
     "text": [
      "a 1 <class 'str'>\n",
      "b 2 <class 'str'>\n",
      "c 3 <class 'str'>\n",
      "d 4 <class 'str'>\n"
     ]
    }
   ],
   "source": [
    "print_given(b=2, d=4, c=3, a=1)\n"
   ]
  },
  {
   "cell_type": "code",
   "execution_count": 10,
   "id": "faeeb98d-9417-46b4-b40d-e6654b45ddba",
   "metadata": {},
   "outputs": [],
   "source": [
    "print_given()"
   ]
  },
  {
   "cell_type": "code",
   "execution_count": null,
   "id": "fc2eaf76-ade7-4607-95f3-6e909bdd0f71",
   "metadata": {},
   "outputs": [],
   "source": []
  },
  {
   "cell_type": "markdown",
   "id": "2bec931b-1b55-4f0f-8ee6-bdd3ac90e8b8",
   "metadata": {},
   "source": [
    "# Задача №4"
   ]
  },
  {
   "cell_type": "code",
   "execution_count": null,
   "id": "74cef701-9223-43bc-ad0b-d327b6362bd2",
   "metadata": {},
   "outputs": [],
   "source": [
    "Функция convert()\n",
    "Реализуйте функцию convert(), которая принимает один аргумент:\n",
    "\n",
    "string — произвольная строка\n",
    "Функция должна возвращать строку string:\n",
    "\n",
    "полностью в нижнем регистре, если букв в нижнем регистре в этой строке больше\n",
    "полностью в верхнем регистре, если букв в верхнем регистре в этой строке больше\n",
    "полностью в нижнем регистре, если количество букв в верхнем и нижнем регистрах в этой строке совпадает\n",
    "\n",
    "Примечание 1. Символы строки, не являющиеся буквами, следует игнорировать.\n",
    "\n",
    "Sample Input 1:\n",
    "print(convert('BEEgeek'))    \n",
    "Sample Output 1:\n",
    "beegeek\n",
    "    \n",
    "Sample Input 2:\n",
    "print(convert('pyTHON'))\n",
    "Sample Output 2:\n",
    "PYTHON\n",
    "    \n",
    "Sample Input 3:\n",
    "print(convert('pi31415!'))\n",
    "Sample Output 3:\n",
    "pi31415!"
   ]
  },
  {
   "cell_type": "code",
   "execution_count": 37,
   "id": "7689f2a1-1be5-441c-9cca-d6920a31f2ea",
   "metadata": {},
   "outputs": [],
   "source": [
    "def convert(string):\n",
    "    lo = 0\n",
    "    up = 0\n",
    "    for i in string:\n",
    "        if i.isalpha():\n",
    "            if i == i.lower():\n",
    "                lo +=1\n",
    "            else:\n",
    "                up +=1\n",
    "    #print(f'lo = {lo}, up = {up}')\n",
    "    lst = list(map(lambda x: x.lower() if lo >= up else x.upper(), string))\n",
    "    return ''.join(lst)\n",
    "        "
   ]
  },
  {
   "cell_type": "code",
   "execution_count": 38,
   "id": "3554d5a2-6812-42d7-81ef-c291400f1d1a",
   "metadata": {},
   "outputs": [
    {
     "data": {
      "text/plain": [
       "'!'"
      ]
     },
     "execution_count": 38,
     "metadata": {},
     "output_type": "execute_result"
    }
   ],
   "source": [
    "'!'.lower()"
   ]
  },
  {
   "cell_type": "code",
   "execution_count": 39,
   "id": "c73b30e3-82e4-4684-a1e2-17ac5fc2ca72",
   "metadata": {},
   "outputs": [
    {
     "name": "stdout",
     "output_type": "stream",
     "text": [
      "beegeek\n"
     ]
    }
   ],
   "source": [
    "print(convert('BEEgeek'))    "
   ]
  },
  {
   "cell_type": "code",
   "execution_count": 40,
   "id": "4a184d6b-5b0e-44c6-8e4a-24c27839da15",
   "metadata": {},
   "outputs": [
    {
     "name": "stdout",
     "output_type": "stream",
     "text": [
      "PYTHON\n"
     ]
    }
   ],
   "source": [
    "print(convert('pyTHON'))"
   ]
  },
  {
   "cell_type": "code",
   "execution_count": 41,
   "id": "69acf6f8-3a35-46ce-b271-75654f705860",
   "metadata": {},
   "outputs": [
    {
     "name": "stdout",
     "output_type": "stream",
     "text": [
      "pi31415!\n"
     ]
    }
   ],
   "source": [
    "print(convert('pi31415!'))"
   ]
  },
  {
   "cell_type": "code",
   "execution_count": null,
   "id": "2a3b0a51-f6ae-41cf-a134-366e602f7b20",
   "metadata": {},
   "outputs": [],
   "source": []
  },
  {
   "cell_type": "markdown",
   "id": "be1e21e4-7710-4069-bdee-1047a2f43ef4",
   "metadata": {},
   "source": [
    "# Задача №5"
   ]
  },
  {
   "cell_type": "code",
   "execution_count": null,
   "id": "48a9d32d-0187-4818-8f4d-ba0a078334eb",
   "metadata": {},
   "outputs": [],
   "source": [
    "Функция filter_anagrams()\n",
    "Анаграммы — это слова, которые состоят из одинаковых букв. Например:\n",
    "\n",
    "адаптер — петарда\n",
    "адресочек — середочка\n",
    "азбука — базука\n",
    "аистенок — осетинка\n",
    "Реализуйте функцию filter_anagrams(), которая принимает два аргумента в следующем порядке:\n",
    "\n",
    "word — слово в нижнем регистре\n",
    "words — список слов в нижнем регистре\n",
    "Функция должна возвращать список, элементами которого являются слова из списка words, которые \n",
    "представляют анаграмму слова word. Если список words пуст или не содержит анаграмм, \n",
    "функция должна вернуть пустой список.\n",
    "\n",
    "Примечание 1. Слова в возвращаемом функцией списке должны располагаться в своем исходном порядке. \n",
    "\n",
    "Примечание 2. Считайте, что слово является анаграммой самого себя.\n",
    "\n",
    "Примечание 3. В тестирующую систему сдайте программу, содержащую только необходимую функцию filter_anagrams(), но не код, вызывающий ее.\n",
    "\n",
    "Примечание 4. Тестовые данные доступны по ссылкам:\n",
    "\n",
    "Архив с тестами\n",
    "GitHub\n",
    "\n",
    "Sample Input 1:\n",
    "word = 'abba'\n",
    "anagrams = ['aabb', 'abcd', 'bbaa', 'dada']\n",
    "print(filter_anagrams(word, anagrams))\n",
    "Sample Output 1:\n",
    "['aabb', 'bbaa']\n",
    "\n",
    "Sample Input 2:\n",
    "print(filter_anagrams('отсечка', ['сеточка', 'стоечка', 'тесачок', 'чесотка']))\n",
    "Sample Output 2:\n",
    "['сеточка', 'стоечка', 'тесачок', 'чесотка']\n",
    "\n",
    "Sample Input 3:\n",
    "print(filter_anagrams('tommarvoloriddle', ['iamlordvoldemort', 'iamdevolremort', 'mortmortmortmort', 'remortvolremort']))\n",
    "Sample Output 3:\n",
    "['iamlordvoldemort']\n",
    "\n",
    "Sample Input 4:\n",
    "print(filter_anagrams('стекло', []))\n",
    "Sample Output 4:\n",
    "\n",
    "[]"
   ]
  },
  {
   "cell_type": "code",
   "execution_count": 7,
   "id": "a926290f-8c22-49e9-8a30-16f18bfcf4e0",
   "metadata": {},
   "outputs": [],
   "source": [
    "def filter_anagrams(word, words):\n",
    "    lst = []\n",
    "    for i in words:\n",
    "        if sorted(list(word)) == sorted(list(i)):\n",
    "            lst.append(i)\n",
    "    return lst\n",
    "    "
   ]
  },
  {
   "cell_type": "code",
   "execution_count": 6,
   "id": "16eca05c-bb30-4827-a8ca-0603506b36c2",
   "metadata": {},
   "outputs": [
    {
     "data": {
      "text/plain": [
       "True"
      ]
     },
     "execution_count": 6,
     "metadata": {},
     "output_type": "execute_result"
    }
   ],
   "source": [
    "sorted(list('abba')) == sorted(list('bbaa'))    "
   ]
  },
  {
   "cell_type": "code",
   "execution_count": 8,
   "id": "2f113305-53de-43a1-92b1-35c982744463",
   "metadata": {},
   "outputs": [
    {
     "name": "stdout",
     "output_type": "stream",
     "text": [
      "['aabb', 'bbaa']\n"
     ]
    }
   ],
   "source": [
    "word = 'abba'\n",
    "anagrams = ['aabb', 'abcd', 'bbaa', 'dada']\n",
    "print(filter_anagrams(word, anagrams))"
   ]
  },
  {
   "cell_type": "code",
   "execution_count": 10,
   "id": "3bbc37d5-2f0f-445c-9c81-73c115083f71",
   "metadata": {},
   "outputs": [
    {
     "name": "stdout",
     "output_type": "stream",
     "text": [
      "['сеточка', 'стоечка', 'тесачок', 'чесотка']\n"
     ]
    }
   ],
   "source": [
    "print(filter_anagrams('отсечка', ['сеточка', 'стоечка', 'тесачок', 'чесотка']))"
   ]
  },
  {
   "cell_type": "code",
   "execution_count": 11,
   "id": "650ea225-cc10-48bb-9201-2a87692f38aa",
   "metadata": {},
   "outputs": [
    {
     "name": "stdout",
     "output_type": "stream",
     "text": [
      "['iamlordvoldemort']\n"
     ]
    }
   ],
   "source": [
    "print(filter_anagrams('tommarvoloriddle', ['iamlordvoldemort', 'iamdevolremort', 'mortmortmortmort', 'remortvolremort']))"
   ]
  },
  {
   "cell_type": "code",
   "execution_count": 12,
   "id": "51fdf679-7394-41e0-98d2-c70735539c6f",
   "metadata": {},
   "outputs": [
    {
     "name": "stdout",
     "output_type": "stream",
     "text": [
      "[]\n"
     ]
    }
   ],
   "source": [
    "print(filter_anagrams('стекло', []))"
   ]
  },
  {
   "cell_type": "code",
   "execution_count": null,
   "id": "64c4985e-0975-4227-a5f9-c2f93c036d9c",
   "metadata": {},
   "outputs": [],
   "source": []
  },
  {
   "cell_type": "markdown",
   "id": "fc16c6ae-4ceb-4f50-ad3a-5943eb0d2770",
   "metadata": {
    "editable": true,
    "slideshow": {
     "slide_type": ""
    },
    "tags": []
   },
   "source": [
    "# Задача №6"
   ]
  },
  {
   "cell_type": "code",
   "execution_count": null,
   "id": "0479c156-341d-42a1-9902-cffd71e25a73",
   "metadata": {},
   "outputs": [],
   "source": [
    "Функция likes()\n",
    "В различных социальных сетях существуют системы лайков, которые в зависимости от количества\n",
    "людей, оценивших запись, показывают соответствующую информацию.\n",
    "\n",
    "Реализуйте функцию likes(), которая принимает один аргумент:\n",
    "\n",
    "names — список имён\n",
    "Функция должна возвращать строку в соответствии с примерами ниже, содержание которой\n",
    "зависит от количества имён в списке names.\n",
    "\n",
    "Приведенный ниже код:\n",
    "\n",
    "print(likes([]))\n",
    "print(likes(['Тимур']))\n",
    "print(likes(['Тимур', 'Артур']))\n",
    "print(likes(['Тимур', 'Артур', 'Руслан']))\n",
    "print(likes(['Тимур', 'Артур', 'Руслан', 'Анри']))\n",
    "print(likes(['Тимур', 'Артур', 'Руслан', 'Анри', 'Дима']))\n",
    "print(likes(['Тимур', 'Артур', 'Руслан', 'Анри', 'Дима', 'Рома', 'Гвидо', 'Марк']))\n",
    "должен выводить:\n",
    "\n",
    "Никто не оценил данную запись\n",
    "Тимур оценил(а) данную запись\n",
    "Тимур и Артур оценили данную запись\n",
    "Тимур, Артур и Руслан оценили данную запись\n",
    "Тимур, Артур и 2 других оценили данную запись\n",
    "Тимур, Артур и 3 других оценили данную запись\n",
    "Тимур, Артур и 6 других оценили данную запись\n",
    "Примечание 1. Имена в формируемой и возвращаемой функцией строке должны располагаться в своем исходном порядке.\n",
    "\n",
    "Примечание 2. Обратите внимание, что если в передаваемом в функцию списке более трех имен, то явно указываются лишь первые два из них. \n",
    "\n",
    "Примечание 3. В тестирующую систему сдайте программу, содержащую только необходимую функцию likes(), но не код, вызывающий ее.\n",
    "\n",
    "Примечание 4. Тестовые данные доступны по ссылкам:\n",
    "\n",
    "Архив с тестами\n",
    "GitHub\n",
    "Sample Input 1:\n",
    "print(likes(['Дима', 'Алиса']))\n",
    "Sample Output 1:\n",
    "Дима и Алиса оценили данную запись\n",
    "\n",
    "Sample Input 2:\n",
    "print(likes(['Эндрю', 'Тоби', 'Том']))\n",
    "Sample Output 2:\n",
    "Эндрю, Тоби и Том оценили данную запись\n",
    "\n",
    "Sample Input 3:\n",
    "print(likes([]))\n",
    "Sample Output 3:\n",
    "Никто не оценил данную запись"
   ]
  },
  {
   "cell_type": "code",
   "execution_count": 64,
   "id": "6c9693ae-5fd4-4ab9-89ec-c8b1ab42c4a0",
   "metadata": {},
   "outputs": [],
   "source": [
    "def likes(names):\n",
    "    if names:\n",
    "        if len(names) == 1:\n",
    "            return(f'{names[0]} оценил(а) данную запись')\n",
    "        if len(names) == 2:\n",
    "            return(f'{names[0]} и {names[1]} оценили данную запись')\n",
    "        if len(names) == 3:\n",
    "            return(f'{names[0]}, {names[1]} и {names[2]} оценили данную запись')\n",
    "        if len(names) > 3:\n",
    "            return(f'{names[0]}, {names[1]} и {len(names)-2} других оценили данную запись')\n",
    "    else:\n",
    "        return 'Никто не оценил данную запись'"
   ]
  },
  {
   "cell_type": "code",
   "execution_count": 65,
   "id": "128a9d9c-30c1-4364-b509-09c1c541341b",
   "metadata": {},
   "outputs": [
    {
     "name": "stdout",
     "output_type": "stream",
     "text": [
      "Никто не оценил данную запись\n",
      "Тимур оценил(а) данную запись\n",
      "Тимур и Артур оценили данную запись\n",
      "Тимур, Артур и Руслан оценили данную запись\n",
      "Тимур, Артур и 2 других оценили данную запись\n",
      "Тимур, Артур и 3 других оценили данную запись\n",
      "Тимур, Артур и 6 других оценили данную запись\n"
     ]
    }
   ],
   "source": [
    "print(likes([]))\n",
    "print(likes(['Тимур']))\n",
    "print(likes(['Тимур', 'Артур']))\n",
    "print(likes(['Тимур', 'Артур', 'Руслан']))\n",
    "print(likes(['Тимур', 'Артур', 'Руслан', 'Анри']))\n",
    "print(likes(['Тимур', 'Артур', 'Руслан', 'Анри', 'Дима']))\n",
    "print(likes(['Тимур', 'Артур', 'Руслан', 'Анри', 'Дима', 'Рома', 'Гвидо', 'Марк']))\n",
    "\n",
    "# Никто не оценил данную запись\n",
    "# Тимур оценил(а) данную запись\n",
    "# Тимур и Артур оценили данную запись\n",
    "# Тимур, Артур и Руслан оценили данную запись\n",
    "# Тимур, Артур и 2 других оценили данную запись\n",
    "# Тимур, Артур и 3 других оценили данную запись\n",
    "# Тимур, Артур и 6 других оценили данную запись"
   ]
  },
  {
   "cell_type": "markdown",
   "id": "3e2304ad-3fc2-45f1-a0d9-3dce0b57ad23",
   "metadata": {},
   "source": [
    "# Задача №7"
   ]
  },
  {
   "cell_type": "code",
   "execution_count": null,
   "id": "b29bb0fe-6bff-4762-a65d-2e36156ca4d9",
   "metadata": {},
   "outputs": [],
   "source": [
    "Функция index_of_nearest()\n",
    "Реализуйте функцию index_of_nearest(), которая принимает два аргумента в следующем порядке:\n",
    "\n",
    "numbers — список целых чисел\n",
    "number — целое число\n",
    "Функция должна находить в списке numbers ближайшее по значению число к числу number и\n",
    "возвращать его индекс. Если список numbers пуст, функция должна вернуть число \n",
    "− 1.\n",
    "\n",
    "Примечание 1. Если в функцию передается список, содержащий несколько чисел, одновременно \n",
    "являющихся ближайшими к искомому числу, функция должна возвращать наименьший из индексов\n",
    "ближайших чисел.\n",
    "\n",
    "Примечание 2. Рассмотрим третий тест. Ближайшими числами к числу \n",
    "4 являются \n",
    "5 и \n",
    "3, имеющие индексы \n",
    "1 и \n",
    "2 соответственно. Наименьший из индексов равен \n",
    "1.\n",
    "\n",
    "Sample Input 1:\n",
    "print(index_of_nearest([], 17))\n",
    "Sample Output 1:\n",
    "-1\n",
    "\n",
    "Sample Input 2:\n",
    "print(index_of_nearest([7, 13, 3, 5, 18], 0))\n",
    "Sample Output 2:\n",
    "2\n",
    "\n",
    "Sample Input 3:\n",
    "print(index_of_nearest([9, 5, 3, 2, 11], 4))\n",
    "Sample Output 3:\n",
    "1\n",
    "\n",
    "Sample Input 4:\n",
    "print(index_of_nearest([7, 5, 4, 4, 3], 4))\n",
    "Sample Output 4:\n",
    "2"
   ]
  },
  {
   "cell_type": "code",
   "execution_count": 205,
   "id": "c5b8a65a-4d1a-48af-a501-810dec1f990c",
   "metadata": {},
   "outputs": [
    {
     "name": "stdout",
     "output_type": "stream",
     "text": [
      "-1\n",
      "2\n",
      "1\n",
      "2\n",
      "\n",
      "-1\n",
      "2\n",
      "1\n",
      "2\n",
      "0\n",
      "3\n",
      "4\n",
      "0\n",
      "3\n",
      "0\n"
     ]
    }
   ],
   "source": [
    "def index_of_nearest(numbers, number):\n",
    "\n",
    "    if numbers:\n",
    "    \n",
    "        if number in numbers:\n",
    "            return numbers.index(number)\n",
    "\n",
    "        else:\n",
    "            lst_raznosti = list(map(lambda x: abs(x - number), numbers))\n",
    "            min_abs_raznost = min(list(map(lambda x: abs(x - number), numbers)))\n",
    "\n",
    "            return lst_raznosti.index(min_abs_raznost)\n",
    "    \n",
    "    else:\n",
    "        return(-1)\n",
    "\n",
    "print(index_of_nearest([], 17))\n",
    "print(index_of_nearest([7, 13, 3, 5, 18], 0))\n",
    "print(index_of_nearest([9, 5, 3, 2, 11], 4))\n",
    "print(index_of_nearest([7, 5, 4, 4, 3], 4))\n",
    "print()\n",
    "\n",
    "print(index_of_nearest([], 17)) #-1\n",
    "print(index_of_nearest([7, 13, 3, 5, 18], 0)) #2\n",
    "print(index_of_nearest([9, 5, 3, 2, 11], 4)) #1\n",
    "print(index_of_nearest([7, 5, 4, 4, 3], 4)) #2\n",
    "print(index_of_nearest([6, 100, 101, 2], 4)) #0\n",
    "print(index_of_nearest([734234423423423, 5343423423546463423, 934234423423423423, -1], 0)) #3\n",
    "print(index_of_nearest([1, 14, 100, 65, 6], 5)) #4\n",
    "print(index_of_nearest([10, 164, 100, 265, 16], 8)) #0\n",
    "print(index_of_nearest([10, 99, 0, -12, 16], -9)) #3\n",
    "print(index_of_nearest([1, 1, 1, 1, 1], 1)) #0\n"
   ]
  },
  {
   "cell_type": "code",
   "execution_count": 200,
   "id": "e9644eaa-41a4-432b-a660-3a7f42c97110",
   "metadata": {},
   "outputs": [],
   "source": [
    "numbers = [7, 13, 3, 5, 18]\n",
    "number = 0"
   ]
  },
  {
   "cell_type": "code",
   "execution_count": 184,
   "id": "e08fb12d-2658-481b-9aa2-98c5b5aba50b",
   "metadata": {},
   "outputs": [],
   "source": [
    "numbers = [9, 5, 3, 2, 11]\n",
    "number = 4"
   ]
  },
  {
   "cell_type": "code",
   "execution_count": 196,
   "id": "395825ee-5d07-44f1-a056-18104bd6f5fb",
   "metadata": {},
   "outputs": [],
   "source": [
    "numbers = [734234423423423, 5343423423546463423, 934234423423423423, -1]\n",
    "number = 100"
   ]
  },
  {
   "cell_type": "code",
   "execution_count": 201,
   "id": "7463ec8c-f521-4b44-babf-68c5b4d3a1e1",
   "metadata": {},
   "outputs": [
    {
     "data": {
      "text/plain": [
       "[7, 13, 3, 5, 18]"
      ]
     },
     "execution_count": 201,
     "metadata": {},
     "output_type": "execute_result"
    }
   ],
   "source": [
    "lst_raznosti = list(map(lambda x: abs(x - number), numbers))\n",
    "lst_raznosti"
   ]
  },
  {
   "cell_type": "code",
   "execution_count": 202,
   "id": "df1b924c-d35e-4bdd-a423-4e1b2514d0ad",
   "metadata": {},
   "outputs": [
    {
     "data": {
      "text/plain": [
       "3"
      ]
     },
     "execution_count": 202,
     "metadata": {},
     "output_type": "execute_result"
    }
   ],
   "source": [
    "min_abs_raznost = min(list(map(lambda x: abs(x - number), numbers)))\n",
    "min_abs_raznost"
   ]
  },
  {
   "cell_type": "code",
   "execution_count": 203,
   "id": "a1fd7540-e2f2-40f6-a9b4-cb394b28ca16",
   "metadata": {},
   "outputs": [
    {
     "data": {
      "text/plain": [
       "2"
      ]
     },
     "execution_count": 203,
     "metadata": {},
     "output_type": "execute_result"
    }
   ],
   "source": [
    "lst_raznosti.index(min_abs_raznost)"
   ]
  },
  {
   "cell_type": "code",
   "execution_count": null,
   "id": "31e0d40f-2f92-4f82-95bf-851a08c74e4e",
   "metadata": {},
   "outputs": [],
   "source": []
  },
  {
   "cell_type": "markdown",
   "id": "e02889c9-3b22-4b07-872a-73b2eef2c43f",
   "metadata": {},
   "source": [
    "# Задача №8"
   ]
  },
  {
   "cell_type": "code",
   "execution_count": null,
   "id": "37e8a449-4adc-45f0-91c9-fb6e5aed79c2",
   "metadata": {},
   "outputs": [],
   "source": [
    "Функция spell()\n",
    "Реализуйте функцию spell(), которая принимает произвольное количество позиционных \n",
    "аргументов-слов и возвращает словарь, ключи которого — первые буквы слов, а значения — \n",
    "максимальные длины слов на эту букву.\n",
    "\n",
    "Примечание 1. Если в функцию не передается ни одного аргумента, функция должна возвращать \n",
    "пустой словарь.\n",
    "\n",
    "Примечание 2. Функция должна игнорировать регистр слов, при этом в результирующий словарь \n",
    "должны попасть именно буквы в нижнем регистре.\n",
    "\n",
    "Примечание 3. В тестирующую систему сдайте программу, содержащую только необходимую функцию,\n",
    "но не код, вызывающий ее.\n",
    "\n",
    "Примечание 4. Тестовые данные доступны по ссылкам:\n",
    "\n",
    "Sample Input 1:\n",
    "words = ['Россия', 'Австрия', 'Австралия', 'РумыниЯ', 'Украина', 'КИТай', 'УЗБЕКИСТАН']\n",
    "print(spell(*words))\n",
    "Sample Output 1:\n",
    "{'р': 7, 'а': 9, 'у': 10, 'к': 5}\n",
    "\n",
    "Sample Input 2:\n",
    "print(spell('Математика', 'История', 'химия', 'биология', 'Информатика'))\n",
    "Sample Output 2:\n",
    "{'м': 10, 'и': 11, 'х': 5, 'б': 8}\n",
    "\n",
    "Sample Input 3:\n",
    "words = ['fruit', 'football', 'February', 'forest', 'Family']\n",
    "print(spell(*words))\n",
    "Sample Output 3:\n",
    "{'f': 8}"
   ]
  },
  {
   "cell_type": "code",
   "execution_count": 254,
   "id": "8c848bcc-5fb6-4ba0-bca7-7327f2dee311",
   "metadata": {},
   "outputs": [],
   "source": [
    "def spell(*args):\n",
    "    # d = {}\n",
    "    d = dict.fromkeys([i[0].lower() for i in args], 0)\n",
    "    # print(d)\n",
    "    for i in args:\n",
    "        if len(i) > d[i[0].lower()]:\n",
    "           d[i[0].lower()] =  len(i)\n",
    "    return d\n",
    "        "
   ]
  },
  {
   "cell_type": "code",
   "execution_count": 255,
   "id": "d0798be4-ef72-485f-b3cc-fd1357aa3e8f",
   "metadata": {},
   "outputs": [
    {
     "name": "stdout",
     "output_type": "stream",
     "text": [
      "{'р': 7, 'а': 9, 'у': 10, 'к': 5}\n"
     ]
    }
   ],
   "source": [
    "words = ['Россия', 'Австрия', 'Австралия', 'РумыниЯ', 'Украина', 'КИТай', 'УЗБЕКИСТАН']\n",
    "print(spell(*words))"
   ]
  },
  {
   "cell_type": "code",
   "execution_count": 256,
   "id": "37e5e039-d2d1-4350-a604-328454047bef",
   "metadata": {},
   "outputs": [
    {
     "name": "stdout",
     "output_type": "stream",
     "text": [
      "{'м': 10, 'и': 11, 'х': 5, 'б': 8}\n"
     ]
    }
   ],
   "source": [
    "print(spell('Математика', 'История', 'химия', 'биология', 'Информатика'))"
   ]
  },
  {
   "cell_type": "code",
   "execution_count": 257,
   "id": "5194ec11-edbb-436b-bb0c-9f015d4b84b1",
   "metadata": {},
   "outputs": [
    {
     "name": "stdout",
     "output_type": "stream",
     "text": [
      "{'f': 8}\n"
     ]
    }
   ],
   "source": [
    "words = ['fruit', 'football', 'February', 'forest', 'Family']\n",
    "print(spell(*words))"
   ]
  },
  {
   "cell_type": "code",
   "execution_count": 258,
   "id": "88d846ce-7c06-423b-baf9-1606c3abcfb1",
   "metadata": {},
   "outputs": [],
   "source": [
    "# +"
   ]
  },
  {
   "cell_type": "code",
   "execution_count": null,
   "id": "08f54750-f781-4897-aadc-a8a86c17e3d0",
   "metadata": {},
   "outputs": [],
   "source": []
  },
  {
   "cell_type": "markdown",
   "id": "98bf09f3-63ce-40c0-b5c9-21ebe5a18873",
   "metadata": {},
   "source": [
    "# Задача №9"
   ]
  },
  {
   "cell_type": "code",
   "execution_count": 6,
   "id": "b633bd27-5d44-4c9d-953d-8ad6ffa40c6c",
   "metadata": {},
   "outputs": [],
   "source": [
    "# Функция choose_plural() 🌶️🌶️\n",
    "# Реализуйте функцию choose_plural(), которая принимает два аргумента в следующем порядке:\n",
    "\n",
    "# amount — натуральное число, количество\n",
    "# declensions — кортеж из трех вариантов склонения существительного\n",
    "# Функция должна возвращать строку, полученную путем объединения подходящего существительного\n",
    "# из кортежа declensions и количества amount, в следующем формате:\n",
    "\n",
    "# <количество> <существительное>\n",
    "# Примечание 1. Передаваемый в функцию кортеж легко составить по мнемоническому\n",
    "# правилу: один, два, пять. Например:\n",
    "\n",
    "# для слова «арбуз»: арбуз, арбуза, арбузов\n",
    "# для слова «рубль»: рубль, рубля, рублей\n",
    "\n",
    "# Sample Input 1:\n",
    "# print(choose_plural(21, ('пример', 'примера', 'примеров')))\n",
    "\n",
    "# Sample Output 1:\n",
    "# 21 пример"
   ]
  },
  {
   "cell_type": "code",
   "execution_count": 31,
   "id": "09bde0f4-5177-4422-bf68-6d7d4071a382",
   "metadata": {},
   "outputs": [],
   "source": [
    "def choose_plural(amount, declensions):\n",
    "\n",
    "    if str(amount).endswith(('11', '12', '13', '14', '15', '16', '17', '18', '19')):\n",
    "        return(f'{amount} {declensions[2]}')\n",
    "    \n",
    "    elif str(amount).endswith('1'):\n",
    "        return(f'{amount} {declensions[0]}')\n",
    "\n",
    "    elif str(amount).endswith(('2', '3', '4')):\n",
    "        return(f'{amount} {declensions[1]}')\n",
    "\n",
    "    elif str(amount).endswith(('0', '5', '6', '7', '8', '9')):\n",
    "        return(f'{amount} {declensions[2]}')    "
   ]
  },
  {
   "cell_type": "code",
   "execution_count": 33,
   "id": "430a2c00-edbc-464c-9b91-66e4ff4fa8c5",
   "metadata": {},
   "outputs": [
    {
     "name": "stdout",
     "output_type": "stream",
     "text": [
      "21 пример\n",
      "92 гвоздя\n",
      "8 яблок\n",
      "111223 копейки\n",
      "763434 рубля\n",
      "512312 центов\n",
      "59 помидоров\n",
      "23424157 огурцов\n",
      "240 куриц\n",
      "49324 плюмбуса\n",
      "505 уток\n",
      "666 шкафов\n",
      "11 стульев\n",
      "3458438435812 долларов\n",
      "2 примера\n",
      "111 примеров\n",
      "1223123111 примеров\n"
     ]
    }
   ],
   "source": [
    "# INPUT DATA:\n",
    "# TEST_1:\n",
    "print(choose_plural(21, ('пример', 'примера', 'примеров')))\n",
    "# TEST_2:\n",
    "print(choose_plural(92, ('гвоздь', 'гвоздя', 'гвоздей')))\n",
    "# TEST_3:\n",
    "print(choose_plural(8, ('яблоко', 'яблока', 'яблок')))\n",
    "# TEST_4:\n",
    "print(choose_plural(111223, ('копейка', 'копейки', 'копеек')))\n",
    "# TEST_5:\n",
    "print(choose_plural(763434, ('рубль', 'рубля', 'рублей')))\n",
    "# TEST_6:\n",
    "print(choose_plural(512312, ('цент', 'цента', 'центов')))\n",
    "# TEST_7:\n",
    "print(choose_plural(59, ('помидор', 'помидора', 'помидоров')))\n",
    "# TEST_8:\n",
    "print(choose_plural(23424157, ('огурец', 'огурца', 'огурцов')))\n",
    "# TEST_9:\n",
    "print(choose_plural(240, ('курица', 'курицы', 'куриц')))\n",
    "# TEST_10:\n",
    "print(choose_plural(49324, ('плюмбус', 'плюмбуса', 'плюмбусов')))\n",
    "# TEST_11:\n",
    "print(choose_plural(505, ('утка', 'утки', 'уток')))\n",
    "# TEST_12:\n",
    "print(choose_plural(666, ('шкаф', 'шкафа', 'шкафов')))\n",
    "# TEST_13:\n",
    "print(choose_plural(11, ('стул', 'стула', 'стульев')))\n",
    "# TEST_14:\n",
    "print(choose_plural(3458438435812, ('доллар', 'доллара', 'долларов')))\n",
    "# TEST_15:\n",
    "print(choose_plural(2, ('пример', 'примера', 'примеров')))\n",
    "# TEST_16:\n",
    "print(choose_plural(111, ('пример', 'примера', 'примеров')))\n",
    "# TEST_17:\n",
    "print(choose_plural(1223123111, ('пример', 'примера', 'примеров')))"
   ]
  },
  {
   "cell_type": "code",
   "execution_count": null,
   "id": "54f46fe8-7bc4-4665-82b2-6234e6e9716a",
   "metadata": {},
   "outputs": [],
   "source": []
  },
  {
   "cell_type": "markdown",
   "id": "69cffbf8-bffa-4338-88be-b81ed2b9fb5b",
   "metadata": {},
   "source": [
    "# Задача №10"
   ]
  },
  {
   "cell_type": "code",
   "execution_count": null,
   "id": "4447dc38-c1d5-48e0-9bb4-e1b80a4137e9",
   "metadata": {},
   "outputs": [],
   "source": [
    "Функция get_biggest() 🌶️🌶️\n",
    "Реализуйте функцию get_biggest(), которая принимает один аргумент:\n",
    "\n",
    "numbers — список целых неотрицательных чисел\n",
    "Функция должна возвращать наибольшее число, которое можно составить из чисел \n",
    "из списка numbers. Если список numbers пуст, функция должна вернуть число −1.\n",
    "\n",
    "Примечание 1. Рассмотрим первый тест со списком чисел [1, 2, 3], \n",
    "из которых можно составить следующие числа: 123,132,213,231,312,321\n",
    "Наибольшим из представленных является 321.\n",
    "\n",
    "# print(get_biggest([1, 2, 3]))"
   ]
  },
  {
   "cell_type": "code",
   "execution_count": null,
   "id": "f5060fea-ab8b-46a7-ad8c-197b425ed4e4",
   "metadata": {},
   "outputs": [],
   "source": []
  },
  {
   "cell_type": "code",
   "execution_count": null,
   "id": "6d344abb-07b1-427b-b06b-edbdd87525ff",
   "metadata": {},
   "outputs": [],
   "source": []
  },
  {
   "cell_type": "code",
   "execution_count": null,
   "id": "9344858f-f869-406b-997c-291a90b13fd7",
   "metadata": {},
   "outputs": [],
   "source": []
  },
  {
   "cell_type": "code",
   "execution_count": null,
   "id": "4fc840a6-8463-4a36-8524-7df0f9fa0493",
   "metadata": {},
   "outputs": [],
   "source": []
  },
  {
   "cell_type": "code",
   "execution_count": null,
   "id": "113f68ad-b03c-4c66-9be4-f7581c07c19f",
   "metadata": {},
   "outputs": [],
   "source": []
  },
  {
   "cell_type": "code",
   "execution_count": null,
   "id": "e4e696ea-1a2c-40eb-838f-72a29b7f7c8f",
   "metadata": {},
   "outputs": [],
   "source": []
  }
 ],
 "metadata": {
  "kernelspec": {
   "display_name": "Python 3 (ipykernel)",
   "language": "python",
   "name": "python3"
  },
  "language_info": {
   "codemirror_mode": {
    "name": "ipython",
    "version": 3
   },
   "file_extension": ".py",
   "mimetype": "text/x-python",
   "name": "python",
   "nbconvert_exporter": "python",
   "pygments_lexer": "ipython3",
   "version": "3.12.3"
  }
 },
 "nbformat": 4,
 "nbformat_minor": 5
}
