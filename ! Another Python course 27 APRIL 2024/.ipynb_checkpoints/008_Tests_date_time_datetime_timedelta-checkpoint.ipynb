{
 "cells": [
  {
   "cell_type": "markdown",
   "id": "1177fee2-5956-4912-afe4-34ccc00cbea5",
   "metadata": {},
   "source": [
    "# Задача №1"
   ]
  },
  {
   "cell_type": "code",
   "execution_count": null,
   "id": "05a6a360-132d-43a2-978a-5720a1089371",
   "metadata": {},
   "outputs": [],
   "source": [
    "Во время решения очередной задачи программист фиксирует время начала и окончания ее решения \n",
    "и добавляет полученные результаты в список data. Каждый результат представляет собой кортеж, \n",
    "первым элементом которого является время начала решения в виде строки в формате HH:MM, вторым\n",
    "элементом — время окончания решения в виде строки в том же формате. Дополните приведенный ниже \n",
    "код, чтобы он вывел общее целое количество минут, которое программист затратил на решение всех\n",
    "задач."
   ]
  },
  {
   "cell_type": "code",
   "execution_count": 3,
   "id": "156fe277-3c77-4ef2-9c53-dd19a1d7c518",
   "metadata": {},
   "outputs": [],
   "source": [
    "from datetime import date, time, datetime, timedelta\n",
    "\n",
    "data = [('07:14', '08:46'),\n",
    "        ('09:01', '09:37'),\n",
    "        ('10:00', '11:43'),\n",
    "        ('12:13', '13:49'),\n",
    "        ('15:00', '15:19'),\n",
    "        ('15:58', '17:24'),\n",
    "        ('17:57', '19:21'),\n",
    "        ('19:30', '19:59')]"
   ]
  },
  {
   "cell_type": "code",
   "execution_count": 6,
   "id": "da2b1db8-088f-4b36-870b-32742bef3f18",
   "metadata": {},
   "outputs": [
    {
     "data": {
      "text/plain": [
       "datetime.datetime(1900, 1, 1, 7, 14)"
      ]
     },
     "execution_count": 6,
     "metadata": {},
     "output_type": "execute_result"
    }
   ],
   "source": [
    "datetime.strptime('07:14', '%H:%M')"
   ]
  },
  {
   "cell_type": "code",
   "execution_count": 7,
   "id": "7ce05144-0b09-441a-be57-d4c00adcd6af",
   "metadata": {},
   "outputs": [
    {
     "data": {
      "text/plain": [
       "datetime.time(7, 14)"
      ]
     },
     "execution_count": 7,
     "metadata": {},
     "output_type": "execute_result"
    }
   ],
   "source": [
    "datetime.strptime('07:14', '%H:%M').time()"
   ]
  },
  {
   "cell_type": "code",
   "execution_count": 9,
   "id": "9deae534-ca7b-4136-8a15-b68e317fc35c",
   "metadata": {},
   "outputs": [
    {
     "data": {
      "text/plain": [
       "14"
      ]
     },
     "execution_count": 9,
     "metadata": {},
     "output_type": "execute_result"
    }
   ],
   "source": [
    "datetime.strptime('07:14', '%H:%M').time().minute"
   ]
  },
  {
   "cell_type": "code",
   "execution_count": 11,
   "id": "215a06fc-1514-4784-9671-6cb09b23ca27",
   "metadata": {},
   "outputs": [
    {
     "data": {
      "text/plain": [
       "7"
      ]
     },
     "execution_count": 11,
     "metadata": {},
     "output_type": "execute_result"
    }
   ],
   "source": [
    "datetime.strptime('07:14', '%H:%M').time().hour"
   ]
  },
  {
   "cell_type": "code",
   "execution_count": 27,
   "id": "c411a477-df84-41cd-ad5e-85b34eb3fb5e",
   "metadata": {},
   "outputs": [
    {
     "data": {
      "text/plain": [
       "('07:14', '08:46')"
      ]
     },
     "execution_count": 27,
     "metadata": {},
     "output_type": "execute_result"
    }
   ],
   "source": [
    "data[0]"
   ]
  },
  {
   "cell_type": "code",
   "execution_count": 28,
   "id": "808c606b-f24d-4719-a474-f4b4a16a98e2",
   "metadata": {},
   "outputs": [
    {
     "data": {
      "text/plain": [
       "'07:14'"
      ]
     },
     "execution_count": 28,
     "metadata": {},
     "output_type": "execute_result"
    }
   ],
   "source": [
    "data[0][0]"
   ]
  },
  {
   "cell_type": "code",
   "execution_count": 29,
   "id": "f1ddf28d-b9df-4ba7-b3c5-b26ae6b5d840",
   "metadata": {},
   "outputs": [],
   "source": [
    "start = datetime.strptime(data[0][0], '%H:%M')\n",
    "end = datetime.strptime(data[0][1], '%H:%M')"
   ]
  },
  {
   "cell_type": "code",
   "execution_count": 30,
   "id": "318991f5-8618-46c9-8847-32cab99ee14a",
   "metadata": {},
   "outputs": [
    {
     "data": {
      "text/plain": [
       "datetime.timedelta(seconds=5520)"
      ]
     },
     "execution_count": 30,
     "metadata": {},
     "output_type": "execute_result"
    }
   ],
   "source": [
    "end - start"
   ]
  },
  {
   "cell_type": "code",
   "execution_count": 31,
   "id": "7b31d52b-fc80-47de-8890-b14628e69db2",
   "metadata": {},
   "outputs": [
    {
     "data": {
      "text/plain": [
       "5520"
      ]
     },
     "execution_count": 31,
     "metadata": {},
     "output_type": "execute_result"
    }
   ],
   "source": [
    "(end - start).seconds"
   ]
  },
  {
   "cell_type": "code",
   "execution_count": 32,
   "id": "9acba525-afa7-4235-99f9-58e15b561a35",
   "metadata": {},
   "outputs": [
    {
     "data": {
      "text/plain": [
       "92"
      ]
     },
     "execution_count": 32,
     "metadata": {},
     "output_type": "execute_result"
    }
   ],
   "source": [
    "int(((end - start).seconds)/60)"
   ]
  },
  {
   "cell_type": "code",
   "execution_count": null,
   "id": "12e2f459-baeb-488b-90c6-4b13f5d83a25",
   "metadata": {},
   "outputs": [],
   "source": []
  },
  {
   "cell_type": "code",
   "execution_count": 26,
   "id": "2a9e9e45-654d-4778-841c-e754d5bd9854",
   "metadata": {},
   "outputs": [
    {
     "name": "stdout",
     "output_type": "stream",
     "text": [
      "545\n"
     ]
    }
   ],
   "source": [
    "count = 0\n",
    "\n",
    "for i in range(len(data)):\n",
    "    start = datetime.strptime(data[i][0], '%H:%M')\n",
    "    end = datetime.strptime(data[i][1], '%H:%M')\n",
    "\n",
    "    count += int(((end - start).seconds)/60)\n",
    "\n",
    "print(count)\n",
    "    "
   ]
  },
  {
   "cell_type": "code",
   "execution_count": null,
   "id": "e2d0f2b8-1130-480c-a9f8-feca21665ac6",
   "metadata": {},
   "outputs": [],
   "source": []
  },
  {
   "cell_type": "markdown",
   "id": "fe987dc7-406f-4833-9394-b7fa3ffce739",
   "metadata": {},
   "source": [
    "# Задача №2"
   ]
  },
  {
   "cell_type": "code",
   "execution_count": null,
   "id": "42d4591f-265a-4f93-b65b-19cfb24c9366",
   "metadata": {},
   "outputs": [],
   "source": [
    "Докажите, что \n",
    "13\n",
    "13-е число месяца чаще всего приходится на пятницу. Напишите программу, которая вычисляет, \n",
    "сколько тринадцатых чисел приходится на каждый день недели в период с 01.01.0001 по 31.12.9999.\n",
    "\n",
    "Формат входных данных\n",
    "На вход программе ничего не подается.\n",
    "\n",
    "Формат выходных данных\n",
    "Программа должна вывести \n",
    "7\n",
    "7 чисел — количество тринадцатых чисел, которые приходятся на понедельник, вторник, среду, \n",
    "четверг, пятницу, субботу и воскресенье в период с 01.01.0001 по 31.12.9999. Числа должны \n",
    "быть расположены каждое на отдельной строке."
   ]
  },
  {
   "cell_type": "code",
   "execution_count": 32,
   "id": "c5d565b6-fe99-4b09-9497-98eb47c09e11",
   "metadata": {},
   "outputs": [],
   "source": [
    "from datetime import datetime, date, timedelta\n",
    "\n",
    "s = {}\n",
    "d = d.fromkeys([1,2,3,4,5,6,7], 0)\n",
    "\n",
    "date_to_see = datetime.strptime('01.01.0001', '%d.%m.%Y')\n",
    "end = datetime.strptime('31.12.9999', '%d.%m.%Y')\n",
    "\n",
    "while date_to_see < end:\n",
    "    if date_to_see.day == 13:\n",
    "        d[date_to_see.isoweekday()] += 1\n",
    "        date_to_see += timedelta(days = 1)\n",
    "    else:\n",
    "        date_to_see += timedelta(days = 1)\n",
    "        "
   ]
  },
  {
   "cell_type": "code",
   "execution_count": 33,
   "id": "47fa8b3c-9429-4243-8c12-9250b44c8d14",
   "metadata": {},
   "outputs": [
    {
     "name": "stdout",
     "output_type": "stream",
     "text": [
      "17123\n",
      "17124\n",
      "17173\n",
      "17097\n",
      "17199\n",
      "17099\n",
      "17173\n"
     ]
    }
   ],
   "source": [
    "for w in d.values():\n",
    "    print(w)"
   ]
  },
  {
   "cell_type": "code",
   "execution_count": null,
   "id": "15e1a791-b90f-4209-93e5-16b81b10f7bf",
   "metadata": {},
   "outputs": [],
   "source": []
  },
  {
   "cell_type": "markdown",
   "id": "3c0bad64-c191-463c-809c-38d18515688e",
   "metadata": {},
   "source": [
    "# Задача №3"
   ]
  },
  {
   "cell_type": "code",
   "execution_count": null,
   "id": "eb74c5df-6b6c-46f3-aa2b-4c3cfba6311c",
   "metadata": {},
   "outputs": [],
   "source": [
    "Снова не успел\n",
    "Дан режим работы магазина:\n",
    "\n",
    "Понедельник\t9:00 - 21:00\n",
    "Вторник\t9:00 - 21:00\n",
    "Среда\t9:00 - 21:00\n",
    "Четверг\t9:00 - 21:00\n",
    "Пятница\t9:00 - 21:00\n",
    "Суббота\t10:00 - 18:00\n",
    "Воскресенье\t10:00 - 18:00\n",
    "Напишите программу, которая принимает на вход текущие дату и время и определяет количество минут, оставшееся до закрытия магазина.\n",
    "\n",
    "Формат входных данных\n",
    "На вход программе подаются текущие дата и время в формате DD.MM.YYYY HH:MM.\n",
    "\n",
    "Формат выходных данных\n",
    "Программа должна вывести количество минут, которое осталось до закрытия магазина, или текст Магазин не работает, если он закрыт.\n",
    "\n",
    "Sample Input 1:\n",
    "\n",
    "01.11.2021 20:45\n",
    "Sample Output 1:\n",
    "\n",
    "15\n",
    "Sample Input 2:\n",
    "\n",
    "02.11.2021 21:15\n",
    "Sample Output 2:\n",
    "\n",
    "Магазин не работает\n",
    "Sample Input 3:\n",
    "\n",
    "07.11.2021 10:00\n",
    "Sample Output 3:\n",
    "\n",
    "480"
   ]
  },
  {
   "cell_type": "code",
   "execution_count": 9,
   "id": "938e786c-dcf0-405b-b5a5-9bee2e3c42df",
   "metadata": {},
   "outputs": [],
   "source": [
    "from datetime import date, time, timedelta, datetime"
   ]
  },
  {
   "cell_type": "code",
   "execution_count": 14,
   "id": "837c282e-e7f8-4c50-9483-af59ab683c43",
   "metadata": {},
   "outputs": [
    {
     "data": {
      "text/plain": [
       "datetime.date(2024, 6, 12)"
      ]
     },
     "execution_count": 14,
     "metadata": {},
     "output_type": "execute_result"
    }
   ],
   "source": [
    "date.today()"
   ]
  },
  {
   "cell_type": "code",
   "execution_count": 12,
   "id": "0b199210-947f-437d-b3c4-cce4ae5964de",
   "metadata": {},
   "outputs": [
    {
     "data": {
      "text/plain": [
       "datetime.datetime(2024, 6, 12, 12, 22, 5, 826063)"
      ]
     },
     "execution_count": 12,
     "metadata": {},
     "output_type": "execute_result"
    }
   ],
   "source": [
    "datetime.now()"
   ]
  },
  {
   "cell_type": "code",
   "execution_count": null,
   "id": "12f90e32-97eb-4a02-9280-d331b82f0d7f",
   "metadata": {},
   "outputs": [],
   "source": []
  },
  {
   "cell_type": "code",
   "execution_count": 16,
   "id": "bbe08567-85dc-482d-a81f-66d22c8e4a65",
   "metadata": {},
   "outputs": [],
   "source": [
    "d = {}\n",
    "d = d.fromkeys([1,2,3,4,5], '9:00 - 21:00')\n",
    "d[6] = '10:00 - 18:00'\n",
    "d[7] = '10:00 - 18:00'"
   ]
  },
  {
   "cell_type": "code",
   "execution_count": 17,
   "id": "7277b892-4695-4bc2-89cb-b6b89f4cb42d",
   "metadata": {},
   "outputs": [
    {
     "data": {
      "text/plain": [
       "{1: '9:00 - 21:00',\n",
       " 2: '9:00 - 21:00',\n",
       " 3: '9:00 - 21:00',\n",
       " 4: '9:00 - 21:00',\n",
       " 5: '9:00 - 21:00',\n",
       " 6: '10:00 - 18:00',\n",
       " 7: '10:00 - 18:00'}"
      ]
     },
     "execution_count": 17,
     "metadata": {},
     "output_type": "execute_result"
    }
   ],
   "source": [
    "d"
   ]
  },
  {
   "cell_type": "code",
   "execution_count": 22,
   "id": "e5ec2f79-b336-43a8-84a7-240f12ceaad8",
   "metadata": {},
   "outputs": [
    {
     "data": {
      "text/plain": [
       "datetime.datetime(2024, 6, 12, 12, 26, 47, 908556)"
      ]
     },
     "execution_count": 22,
     "metadata": {},
     "output_type": "execute_result"
    }
   ],
   "source": [
    "current_time = datetime.now()\n",
    "current_time"
   ]
  },
  {
   "cell_type": "code",
   "execution_count": 47,
   "id": "950ce3ff-e5c5-49ad-8b93-cad92bad8add",
   "metadata": {},
   "outputs": [
    {
     "name": "stdin",
     "output_type": "stream",
     "text": [
      " 01.11.2021 20:45\n"
     ]
    }
   ],
   "source": [
    "current_time = input()"
   ]
  },
  {
   "cell_type": "code",
   "execution_count": 49,
   "id": "52f012c2-49bd-4328-89d1-32bdc359c1c2",
   "metadata": {},
   "outputs": [
    {
     "data": {
      "text/plain": [
       "datetime.datetime(2021, 11, 1, 20, 45)"
      ]
     },
     "execution_count": 49,
     "metadata": {},
     "output_type": "execute_result"
    }
   ],
   "source": [
    "datetime.strptime(current_time, \"%d.%m.%Y %H:%M\")"
   ]
  },
  {
   "cell_type": "code",
   "execution_count": 50,
   "id": "bba55ff6-117e-4586-82fc-7600569a3681",
   "metadata": {},
   "outputs": [
    {
     "name": "stdin",
     "output_type": "stream",
     "text": [
      " 01.11.2021 20:45\n"
     ]
    }
   ],
   "source": [
    "current_time = datetime.strptime(input(), \"%d.%m.%Y %H:%M\")"
   ]
  },
  {
   "cell_type": "code",
   "execution_count": 51,
   "id": "8bc5b5e5-9a4d-4bcb-b074-94eff3e70d3a",
   "metadata": {},
   "outputs": [
    {
     "data": {
      "text/plain": [
       "datetime.datetime(2021, 11, 1, 20, 45)"
      ]
     },
     "execution_count": 51,
     "metadata": {},
     "output_type": "execute_result"
    }
   ],
   "source": [
    "current_time"
   ]
  },
  {
   "cell_type": "code",
   "execution_count": null,
   "id": "2cae6d63-5458-401d-8db3-fdc2d41b5a2f",
   "metadata": {},
   "outputs": [],
   "source": []
  },
  {
   "cell_type": "code",
   "execution_count": 19,
   "id": "675f8c42-d1a7-4df0-82ec-53f018ba4252",
   "metadata": {},
   "outputs": [
    {
     "data": {
      "text/plain": [
       "3"
      ]
     },
     "execution_count": 19,
     "metadata": {},
     "output_type": "execute_result"
    }
   ],
   "source": [
    "current_time.isoweekday()"
   ]
  },
  {
   "cell_type": "code",
   "execution_count": 21,
   "id": "e5b4be93-13da-4c7b-9e54-80db336a5874",
   "metadata": {},
   "outputs": [
    {
     "data": {
      "text/plain": [
       "['9:00', '21:00']"
      ]
     },
     "execution_count": 21,
     "metadata": {},
     "output_type": "execute_result"
    }
   ],
   "source": [
    "d[current_time.isoweekday()].split(' - ')"
   ]
  },
  {
   "cell_type": "code",
   "execution_count": 25,
   "id": "ea47ff99-10d3-4bdd-827a-684e97288800",
   "metadata": {},
   "outputs": [],
   "source": [
    "start_today = d[current_time.isoweekday()].split(' - ')[0]\n",
    "end_today = d[current_time.isoweekday()].split(' - ')[1]"
   ]
  },
  {
   "cell_type": "code",
   "execution_count": null,
   "id": "f8c812f6-2ada-4594-8bc3-4244d2d47778",
   "metadata": {},
   "outputs": [],
   "source": []
  },
  {
   "cell_type": "code",
   "execution_count": 39,
   "id": "5123d708-96b9-4eee-aa87-2542c289d1ef",
   "metadata": {},
   "outputs": [
    {
     "data": {
      "text/plain": [
       "datetime.datetime(2024, 6, 12, 9, 0)"
      ]
     },
     "execution_count": 39,
     "metadata": {},
     "output_type": "execute_result"
    }
   ],
   "source": [
    "start_work_today = current_time.replace(hour = int(start_today.split(':')[0]), minute = int(start_today.split(':')[1]), second = 0, microsecond = 0)\n",
    "start_work_today"
   ]
  },
  {
   "cell_type": "code",
   "execution_count": 40,
   "id": "e16baea6-0641-4348-97a6-af05570dcfd1",
   "metadata": {},
   "outputs": [
    {
     "data": {
      "text/plain": [
       "datetime.datetime(2024, 6, 12, 21, 0)"
      ]
     },
     "execution_count": 40,
     "metadata": {},
     "output_type": "execute_result"
    }
   ],
   "source": [
    "end_work_today = current_time.replace(hour = int(end_today.split(':')[0]), minute = int(end_today.split(':')[1]), second = 0, microsecond = 0)\n",
    "end_work_today"
   ]
  },
  {
   "cell_type": "code",
   "execution_count": null,
   "id": "628618fb-91d3-4fa7-a4b5-e131a31ff407",
   "metadata": {},
   "outputs": [],
   "source": []
  },
  {
   "cell_type": "code",
   "execution_count": 46,
   "id": "ddbf884c-1c6d-4b39-b204-f0a1b61c49dd",
   "metadata": {},
   "outputs": [
    {
     "name": "stdout",
     "output_type": "stream",
     "text": [
      "513\n"
     ]
    }
   ],
   "source": [
    "if current_time < start_work_today or current_time > end_work_today:\n",
    "    print('Магазин не работает')\n",
    "else:\n",
    "    print(round((end_work_today - current_time).total_seconds()/60))"
   ]
  },
  {
   "cell_type": "code",
   "execution_count": null,
   "id": "c2d32ff4-28ef-4f35-bdf7-f5a01643f732",
   "metadata": {},
   "outputs": [],
   "source": []
  },
  {
   "cell_type": "markdown",
   "id": "2755acc9-0a5d-4304-abaa-63c3e3b58225",
   "metadata": {},
   "source": [
    "# Задача №4"
   ]
  },
  {
   "cell_type": "code",
   "execution_count": null,
   "id": "775c32ab-38bc-489a-a4a2-be382f8eb66e",
   "metadata": {},
   "outputs": [],
   "source": [
    "Самое понятное условие\n",
    "Даны две даты — левая и правая границы диапазона соответственно. \n",
    "Напишите программу, которая из этого диапазона, включая границы, выводит, \n",
    "начиная с даты, у которой сумма дня и месяца нечетная, каждую третью дату, \n",
    "только если она не понедельник и не четверг.\n",
    "\n",
    "Формат входных данных\n",
    "На вход программе подаются две даты в формате DD.MM.YYYY — левая и правая границы\n",
    "диапазона соответственно, каждая на отдельной строке. Гарантируется, что первая дата не больше второй.\n",
    "\n",
    "Формат выходных данных\n",
    "Программа должна из указанного диапазона, включая концы, вывести, начиная с даты,\n",
    "у которой сумма дня и месяца нечетная, каждую третью дату, только если она не понедельник\n",
    "и не четверг. Даты должны быть расположены каждая на отдельной строке, в формате DD.MM.YYYY.\n",
    "\n",
    "Примечание 1. Если дат, удовлетворяющих условию, нет, программа ничего не должна выводить.\n",
    "\n",
    "Примечание 2. Рассмотрим второй тест. Левая граница диапазона 07.03.2021 не является \n",
    "начальной датой, так как имеет четную сумму дня и месяца, поэтому в качестве начальной\n",
    "берем следующую дату 08.03.2021. Дата 08.03.2021 не выводится, так как является понедельником,\n",
    "поэтому двигаемся к следующей дате с шагом три: 11.03.2021. Дата 11.03.2021 не выводится, так как является четвергом.\n",
    "\n",
    "Sample Input 1:\n",
    "\n",
    "01.11.2021\n",
    "10.11.2021\n",
    "Sample Output 1:\n",
    "\n",
    "02.11.2021\n",
    "05.11.2021\n",
    "Sample Input 2:\n",
    "\n",
    "07.03.2021\n",
    "13.03.2021\n",
    "Sample Output 2:\n",
    "\n",
    "Sample Input 3:\n",
    "\n",
    "06.11.2021\n",
    "27.11.2021\n",
    "Sample Output 3:\n",
    "\n",
    "06.11.2021\n",
    "09.11.2021\n",
    "12.11.2021\n",
    "21.11.2021\n",
    "24.11.2021\n",
    "27.11.2021"
   ]
  },
  {
   "cell_type": "code",
   "execution_count": 14,
   "id": "28c79faa-af08-482b-b82f-effd1957c78c",
   "metadata": {},
   "outputs": [],
   "source": [
    "from datetime import datetime, timedelta"
   ]
  },
  {
   "cell_type": "code",
   "execution_count": 9,
   "id": "f0cccce5-78e2-4d71-88bb-a19f4c0b2805",
   "metadata": {},
   "outputs": [
    {
     "data": {
      "text/plain": [
       "datetime.datetime(2021, 11, 1, 0, 0)"
      ]
     },
     "execution_count": 9,
     "metadata": {},
     "output_type": "execute_result"
    }
   ],
   "source": [
    "datetime.strptime('01.11.2021', '%d.%m.%Y')"
   ]
  },
  {
   "cell_type": "code",
   "execution_count": null,
   "id": "b7a69809-608a-4969-a6c4-4a8e7e459db1",
   "metadata": {},
   "outputs": [],
   "source": [
    "start = datetime.strptime(input(), '%d.%m.%Y')\n",
    "end = datetime.strptime(input(), '%d.%m.%Y')"
   ]
  },
  {
   "cell_type": "code",
   "execution_count": 30,
   "id": "af733143-8731-48ba-a9e3-125deb83e978",
   "metadata": {},
   "outputs": [
    {
     "name": "stdout",
     "output_type": "stream",
     "text": [
      "12\n",
      "13\n",
      "14\n",
      "15\n",
      "16\n",
      "17\n",
      "18\n",
      "19\n",
      "20\n",
      "21\n"
     ]
    }
   ],
   "source": [
    "for i in range((end - start).days +1):\n",
    "    if ((start + timedelta(days = i)).day + (start + timedelta(days = i)).month) %2 == 0:\n",
    "       \n",
    "    # print(   datetime.strftime(   ((start + timedelta(days = i)).date()), '%d.%m.%Y'   )    )"
   ]
  },
  {
   "cell_type": "code",
   "execution_count": 43,
   "id": "05b88669-7d2b-4d87-8bfb-b13d414c40b6",
   "metadata": {},
   "outputs": [
    {
     "name": "stdout",
     "output_type": "stream",
     "text": [
      "02.11.2021\n",
      "05.11.2021\n"
     ]
    }
   ],
   "source": [
    "x = 0\n",
    "s = 0\n",
    "\n",
    "while s == 0:\n",
    "    if ((start + timedelta(days = x)).day + (start + timedelta(days = x)).month) %2 == 0:\n",
    "        x += 1\n",
    "    else:\n",
    "        first_date = start + timedelta(days = x)\n",
    "        s += 1\n",
    "\n",
    "\n",
    "while first_date <= end:\n",
    "    if first_date.isoweekday() not in (1,4):\n",
    "        print(datetime.strftime(first_date, '%d.%m.%Y')) \n",
    "\n",
    "        first_date += timedelta(days = 3)\n",
    "    else:\n",
    "        first_date += timedelta(days = 3)"
   ]
  },
  {
   "cell_type": "code",
   "execution_count": null,
   "id": "c55d0823-8fe4-42a7-a2a8-bbbe4a50c985",
   "metadata": {},
   "outputs": [],
   "source": []
  },
  {
   "cell_type": "markdown",
   "id": "405a109c-73e0-4360-854f-477d91604eaf",
   "metadata": {},
   "source": [
    "# Задача №5"
   ]
  },
  {
   "cell_type": "code",
   "execution_count": null,
   "id": "7e40bc72-8f7b-4ea1-9b1d-14f4c543710d",
   "metadata": {},
   "outputs": [],
   "source": [
    "Сотрудники организации 😄\n",
    "Дан список сотрудников организации, в котором указаны их фамилии, имена и даты рождения. \n",
    "Напишите программу, которая определяет самого старшего сотрудника из данного списка.\n",
    "\n",
    "Формат входных данных\n",
    "На вход программе в первой строке подается натуральное число \n",
    "𝑛\n",
    "n — количество сотрудников, работающих в организации. В последующих \n",
    "𝑛\n",
    "n строках вводятся данные о каждом сотруднике: имя, фамилия и дата рождения, разделённые \n",
    "пробелом. Дата рождения указывается в формате DD.MM.YYYY.\n",
    "\n",
    "Формат выходных данных\n",
    "Программа должна определить самого старшего сотрудника и вывести его дату рождения, имя \n",
    "и фамилию, разделив пробелом. Если таких сотрудников несколько, программа должна вывести\n",
    "их дату рождения, а также их количество, разделив пробелом.\n",
    "\n",
    "Примечание 1. Гарантируется, что у всех сотрудников имена и фамилии различны.\n",
    "\n",
    "Sample Input 1:\n",
    "\n",
    "3\n",
    "Иван Петров 01.05.1995\n",
    "Петр Сергеев 29.04.1995\n",
    "Сергей Иванов 01.01.1996\n",
    "\n",
    "Sample Output 1:\n",
    "29.04.1995 Петр Сергеев\n",
    "\n",
    "\n",
    "Sample Input 2:\n",
    "3\n",
    "Иван Петров 01.05.1995\n",
    "Петр Сергеев 29.05.1995\n",
    "Сергей Иванов 01.05.1995\n",
    "\n",
    "Sample Output 2:\n",
    "01.05.1995 2"
   ]
  },
  {
   "cell_type": "code",
   "execution_count": 5,
   "id": "e6140760-7afb-4cc2-a089-0642a8bba0a2",
   "metadata": {},
   "outputs": [],
   "source": [
    "from datetime import datetime, timedelta, date"
   ]
  },
  {
   "cell_type": "code",
   "execution_count": 3,
   "id": "8ac88422-6ef6-4d22-891e-12c2a033f0fc",
   "metadata": {},
   "outputs": [
    {
     "name": "stdin",
     "output_type": "stream",
     "text": [
      " 3\n",
      " Иван Петров 01.05.1995\n",
      " Петр Сергеев 29.04.1995\n",
      " Сергей Иванов 01.01.1996\n"
     ]
    }
   ],
   "source": [
    "n = int(input())\n",
    "lst = []\n",
    "for i in range(n):\n",
    "    lst.append(input().split())"
   ]
  },
  {
   "cell_type": "code",
   "execution_count": 4,
   "id": "e255ad6e-d0ed-40fc-ac66-286bc32b9691",
   "metadata": {},
   "outputs": [
    {
     "data": {
      "text/plain": [
       "[['Иван', 'Петров', '01.05.1995'],\n",
       " ['Петр', 'Сергеев', '29.04.1995'],\n",
       " ['Сергей', 'Иванов', '01.01.1996']]"
      ]
     },
     "execution_count": 4,
     "metadata": {},
     "output_type": "execute_result"
    }
   ],
   "source": [
    "lst"
   ]
  },
  {
   "cell_type": "code",
   "execution_count": 14,
   "id": "a77a566f-9b1d-49c4-9834-d2b0c8d5f1be",
   "metadata": {},
   "outputs": [
    {
     "data": {
      "text/plain": [
       "datetime.date(1995, 5, 1)"
      ]
     },
     "execution_count": 14,
     "metadata": {},
     "output_type": "execute_result"
    }
   ],
   "source": [
    "(datetime.strptime('01.05.1995', '%d.%m.%Y')).date()"
   ]
  },
  {
   "cell_type": "code",
   "execution_count": null,
   "id": "c79b7bc4-c048-4fbe-8c09-f315c61fcc17",
   "metadata": {},
   "outputs": [],
   "source": []
  },
  {
   "cell_type": "code",
   "execution_count": 22,
   "id": "5518ba09-ee42-4d63-aedd-6c9859e0f6e5",
   "metadata": {},
   "outputs": [
    {
     "name": "stdout",
     "output_type": "stream",
     "text": [
      "29.04.1995 Петр Сергеев\n"
     ]
    }
   ],
   "source": [
    "min_date = (datetime.now()).date()\n",
    "for i in lst:\n",
    "    if min_date > (datetime.strptime(i[2], '%d.%m.%Y')).date():\n",
    "        min_date = (datetime.strptime(i[2], '%d.%m.%Y')).date()\n",
    "        name = i[0] + ' ' + i[1] \n",
    "\n",
    "res_lst = []\n",
    "for i in lst:\n",
    "    if (datetime.strptime(i[2], '%d.%m.%Y')).date() == min_date:\n",
    "        res_lst.append(i)\n",
    "\n",
    "if len(res_lst) > 1:\n",
    "    print(datetime.strftime(min_date, '%d.%m.%Y'), len(res_lst))\n",
    "else:\n",
    "    print(datetime.strftime(min_date, '%d.%m.%Y'), name)\n"
   ]
  },
  {
   "cell_type": "code",
   "execution_count": null,
   "id": "229556cf-4d36-42c4-98e6-ab2521de9864",
   "metadata": {},
   "outputs": [],
   "source": []
  },
  {
   "cell_type": "markdown",
   "id": "4431f0d7-9ad3-4760-8f68-f7ec62a421f0",
   "metadata": {},
   "source": [
    "# Задача №6"
   ]
  },
  {
   "cell_type": "code",
   "execution_count": null,
   "id": "13625dff-02af-45c6-a221-4d9b3006f66e",
   "metadata": {},
   "outputs": [],
   "source": [
    "Сотрудники организации 🙂\n",
    "Дан список сотрудников организации, в котором указаны их фамилии, имена и даты рождения. \n",
    "Напишите программу, которая определяет, в какую из дат родилось больше всего сотрудников.\n",
    "\n",
    "Формат входных данных\n",
    "На вход программе в первой строке подается натуральное число \n",
    "𝑛\n",
    "n — количество сотрудников, работающих в организации. В последующих \n",
    "𝑛\n",
    "n строках вводятся данные о каждом сотруднике: имя, фамилия и дата рождения, разделённые пробелом. \n",
    "Дата рождения указывается в формате DD.MM.YYYY.\n",
    "\n",
    "Формат выходных данных\n",
    "Программа должна вывести дату, в которую наибольшее количество сотрудников отмечает день рождения, \n",
    "в формате DD.MM.YYYY. Если таких дат несколько, программа должна вывести их все в порядке возрастания,\n",
    "каждую на отдельной строке, в том же формате.\n",
    "\n",
    "Sample Input 1:\n",
    "\n",
    "5\n",
    "Иван Петров 01.05.1995\n",
    "Петр Сергеев 29.04.1995\n",
    "Сергей Романов 01.01.1996\n",
    "Роман Григорьев 01.01.1996\n",
    "Григорий Иванов 01.05.1995\n",
    "\n",
    "Sample Output 1:\n",
    "01.05.1995\n",
    "01.01.1996\n",
    "Sample Input 2:\n",
    "\n",
    "5\n",
    "Иван Петров 14.10.1995\n",
    "Петр Сергеев 29.04.1992\n",
    "Сергей Романов 01.01.1994\n",
    "Роман Григорьев 01.01.1994\n",
    "Григорий Иванов 16.07.1995\n",
    "\n",
    "Sample Output 2:\n",
    "01.01.1994"
   ]
  },
  {
   "cell_type": "code",
   "execution_count": 2,
   "id": "0df6221e-0dbf-4a10-90b1-c149230f1e9d",
   "metadata": {},
   "outputs": [],
   "source": [
    "from datetime import datetime, timedelta"
   ]
  },
  {
   "cell_type": "code",
   "execution_count": 3,
   "id": "48e5d6db-0bbe-4d03-bb17-a2a502cd747d",
   "metadata": {},
   "outputs": [
    {
     "name": "stdin",
     "output_type": "stream",
     "text": [
      " 5\n",
      " Иван Петров 01.05.1995\n",
      " Петр Сергеев 29.04.1995\n",
      " Сергей Романов 01.01.1996\n",
      " Роман Григорьев 01.01.1996\n",
      " Григорий Иванов 01.05.1995\n"
     ]
    }
   ],
   "source": [
    "n = int(input())\n",
    "lst = []\n",
    "\n",
    "for i in range(n):\n",
    "    lst.append(input().split())"
   ]
  },
  {
   "cell_type": "code",
   "execution_count": 4,
   "id": "d4f9eb58-6ba7-495a-9783-566f6fab5d4e",
   "metadata": {},
   "outputs": [
    {
     "data": {
      "text/plain": [
       "[['Иван', 'Петров', '01.05.1995'],\n",
       " ['Петр', 'Сергеев', '29.04.1995'],\n",
       " ['Сергей', 'Романов', '01.01.1996'],\n",
       " ['Роман', 'Григорьев', '01.01.1996'],\n",
       " ['Григорий', 'Иванов', '01.05.1995']]"
      ]
     },
     "execution_count": 4,
     "metadata": {},
     "output_type": "execute_result"
    }
   ],
   "source": [
    "lst"
   ]
  },
  {
   "cell_type": "code",
   "execution_count": 7,
   "id": "e50650da-b908-4418-aaa1-529e0111ec52",
   "metadata": {},
   "outputs": [],
   "source": [
    "d = {}\n",
    "\n",
    "for i in lst:\n",
    "    if i[2] in d:\n",
    "        d[i[2]] +=1\n",
    "    else:\n",
    "        d[i[2]] = 1"
   ]
  },
  {
   "cell_type": "code",
   "execution_count": 8,
   "id": "167b505c-e07c-452c-8d7c-f25235075331",
   "metadata": {},
   "outputs": [
    {
     "data": {
      "text/plain": [
       "{'01.05.1995': 2, '29.04.1995': 1, '01.01.1996': 2}"
      ]
     },
     "execution_count": 8,
     "metadata": {},
     "output_type": "execute_result"
    }
   ],
   "source": [
    "d"
   ]
  },
  {
   "cell_type": "code",
   "execution_count": 10,
   "id": "9506c85e-65fc-436e-ae02-b0944c4a7db0",
   "metadata": {},
   "outputs": [
    {
     "data": {
      "text/plain": [
       "2"
      ]
     },
     "execution_count": 10,
     "metadata": {},
     "output_type": "execute_result"
    }
   ],
   "source": [
    "max(d.values())"
   ]
  },
  {
   "cell_type": "code",
   "execution_count": 18,
   "id": "dc1075ed-9fd8-4fc2-bfba-c290e5d50dfc",
   "metadata": {},
   "outputs": [
    {
     "name": "stdout",
     "output_type": "stream",
     "text": [
      "01.05.1995\n",
      "01.01.1996\n"
     ]
    }
   ],
   "source": [
    "for k, w in sorted(d.items(), key = lambda x: (x[0].split('.')[2], x[0].split('.')[1]), reverse = False):\n",
    "    if w == max(d.values()):\n",
    "        print(k)"
   ]
  },
  {
   "cell_type": "code",
   "execution_count": null,
   "id": "60801c69-905f-4eb3-a126-47eb26881336",
   "metadata": {},
   "outputs": [],
   "source": []
  },
  {
   "cell_type": "markdown",
   "id": "0f5205a4-5880-47f1-a4a9-db0238e46015",
   "metadata": {},
   "source": [
    "# Задача №7"
   ]
  },
  {
   "cell_type": "code",
   "execution_count": null,
   "id": "bebd8095-5275-4347-b0ff-ef8aad76d4c8",
   "metadata": {},
   "outputs": [],
   "source": [
    "Сотрудники организации 😔\n",
    "Дан список сотрудников организации, в котором указаны их фамилии, имена и даты рождения.\n",
    "Напишите программу, которая определяет самого молодого сотрудника, празднующего свой день \n",
    "рождения в течение ближайших семи дней от текущей даты.\n",
    "\n",
    "Формат входных данных\n",
    "На вход программе в первой строке подается текущая дата в формате DD.MM.YYYY, в следующей \n",
    "строке вводится натуральное число \n",
    "𝑛\n",
    "n — количество сотрудников, работающих в организации. В последующих \n",
    "𝑛\n",
    "n строках вводятся данные о каждом сотруднике: имя, фамилия и дата рождения, разделённые пробелом. \n",
    "Дата рождения указывается в формате DD.MM.YYYY.\n",
    "\n",
    "Формат выходных данных\n",
    "Программа должна определить самого молодого сотрудника, празднующего свой день рождения в течение \n",
    "ближайших семи дней, и вывести его имя и фамилию, разделив пробелом. Если таких сотрудников нет, \n",
    "программа должна вывести текст:\n",
    "\n",
    "Дни рождения не планируются\n",
    "\n",
    "Примечание 1. Гарантируется, что у всех сотрудников даты рождения различны.\n",
    "\n",
    "Примечание 2. Например, для даты 01.11.2021 ближайшими семью днями являются:\n",
    "\n",
    "02.11.2021, 03.11.2021, 04.11.2021, 05.11.2021, 06.11.2021, 07.11.2021, 08.11.2021"
   ]
  },
  {
   "cell_type": "code",
   "execution_count": null,
   "id": "de48bfb5-91af-4695-91a1-87bfe0adfa62",
   "metadata": {},
   "outputs": [],
   "source": [
    "Sample Input 1:\n",
    "\n",
    "14.11.2021\n",
    "3\n",
    "Иван Петров 16.11.1995\n",
    "Петр Сергеев 14.11.1997\n",
    "Сергей Романов 17.11.1994\n",
    "Sample Output 1:\n",
    "\n",
    "Иван Петров\n",
    "Sample Input 2:\n",
    "\n",
    "14.11.2021\n",
    "3\n",
    "Иван Петров 25.12.1995\n",
    "Петр Сергеев 24.11.1997\n",
    "Сергей Романов 28.12.1994\n",
    "Sample Output 2:\n",
    "\n",
    "Дни рождения не планируются"
   ]
  },
  {
   "cell_type": "code",
   "execution_count": 2,
   "id": "ce3c3e6b-c15b-4844-a5cb-b030f9caef85",
   "metadata": {},
   "outputs": [
    {
     "name": "stdin",
     "output_type": "stream",
     "text": [
      " 14.11.2021\n"
     ]
    }
   ],
   "source": [
    "date_today = input()"
   ]
  },
  {
   "cell_type": "code",
   "execution_count": 7,
   "id": "2415ddf3-d81d-47bd-bcce-cbd98d93d934",
   "metadata": {},
   "outputs": [],
   "source": [
    "from datetime import datetime, timedelta"
   ]
  },
  {
   "cell_type": "code",
   "execution_count": 3,
   "id": "e3168d34-a396-4ab9-a5ea-5c0956378fa2",
   "metadata": {},
   "outputs": [
    {
     "name": "stdin",
     "output_type": "stream",
     "text": [
      " 14.11.2021\n"
     ]
    },
    {
     "data": {
      "text/plain": [
       "datetime.datetime(2021, 11, 14, 0, 0)"
      ]
     },
     "execution_count": 3,
     "metadata": {},
     "output_type": "execute_result"
    }
   ],
   "source": [
    "date_today = datetime.strptime(input(), '%d.%m.%Y')\n",
    "date_today"
   ]
  },
  {
   "cell_type": "code",
   "execution_count": 14,
   "id": "a530053a-7e0c-4a9d-a4a6-b5c7fa013d3d",
   "metadata": {},
   "outputs": [
    {
     "data": {
      "text/plain": [
       "2021"
      ]
     },
     "execution_count": 14,
     "metadata": {},
     "output_type": "execute_result"
    }
   ],
   "source": [
    "year_now = date_today.year\n",
    "year_now"
   ]
  },
  {
   "cell_type": "code",
   "execution_count": null,
   "id": "871cc2f2-ea11-46d6-8782-93be2e97d184",
   "metadata": {},
   "outputs": [],
   "source": []
  },
  {
   "cell_type": "code",
   "execution_count": 28,
   "id": "8fe5bac3-28cc-4f69-b77a-0cdd885c78ad",
   "metadata": {},
   "outputs": [],
   "source": [
    "lst_7_days = []\n",
    "for i in range(1, 8):\n",
    "    lst_7_days.append((date_today + timedelta(days = i)))"
   ]
  },
  {
   "cell_type": "code",
   "execution_count": 29,
   "id": "9302c446-4a59-4f80-94aa-d58c153ba294",
   "metadata": {},
   "outputs": [
    {
     "data": {
      "text/plain": [
       "[datetime.datetime(2021, 11, 15, 0, 0),\n",
       " datetime.datetime(2021, 11, 16, 0, 0),\n",
       " datetime.datetime(2021, 11, 17, 0, 0),\n",
       " datetime.datetime(2021, 11, 18, 0, 0),\n",
       " datetime.datetime(2021, 11, 19, 0, 0),\n",
       " datetime.datetime(2021, 11, 20, 0, 0),\n",
       " datetime.datetime(2021, 11, 21, 0, 0)]"
      ]
     },
     "execution_count": 29,
     "metadata": {},
     "output_type": "execute_result"
    }
   ],
   "source": [
    "lst_7_days"
   ]
  },
  {
   "cell_type": "code",
   "execution_count": null,
   "id": "ac7545a6-2cb1-4037-a6e8-d61b599a7c3a",
   "metadata": {},
   "outputs": [],
   "source": []
  },
  {
   "cell_type": "code",
   "execution_count": 4,
   "id": "8b6d881a-e539-46ba-b5e9-54d39d13da5b",
   "metadata": {},
   "outputs": [
    {
     "name": "stdin",
     "output_type": "stream",
     "text": [
      " 3\n"
     ]
    }
   ],
   "source": [
    "n = int(input())"
   ]
  },
  {
   "cell_type": "code",
   "execution_count": 5,
   "id": "1a2638f6-c7f9-4c8f-85fa-2bc568e0cb10",
   "metadata": {},
   "outputs": [
    {
     "name": "stdin",
     "output_type": "stream",
     "text": [
      " Иван Петров 16.11.1995\n",
      " Петр Сергеев 14.11.1997\n",
      " Сергей Романов 17.11.1994\n"
     ]
    }
   ],
   "source": [
    "lst = []\n",
    "for i in range(n):\n",
    "    lst.append(input().split())"
   ]
  },
  {
   "cell_type": "code",
   "execution_count": 6,
   "id": "5e0e63c5-a19f-481c-9e1b-fb5c67cf4ae8",
   "metadata": {},
   "outputs": [
    {
     "data": {
      "text/plain": [
       "[['Иван', 'Петров', '16.11.1995'],\n",
       " ['Петр', 'Сергеев', '14.11.1997'],\n",
       " ['Сергей', 'Романов', '17.11.1994']]"
      ]
     },
     "execution_count": 6,
     "metadata": {},
     "output_type": "execute_result"
    }
   ],
   "source": [
    "lst"
   ]
  },
  {
   "cell_type": "code",
   "execution_count": 32,
   "id": "d81cf80c-df29-45c7-abf8-3c20d351b6c1",
   "metadata": {},
   "outputs": [
    {
     "name": "stdout",
     "output_type": "stream",
     "text": [
      "Иван Петров\n"
     ]
    }
   ],
   "source": [
    "res_lst = []\n",
    "for i in lst:\n",
    "    if datetime.strptime(i[2], '%d.%m.%Y').replace(year = year_now) in lst_7_days or datetime.strptime(i[2], '%d.%m.%Y').replace(year = year_now + 1) in lst_7_days:\n",
    "        res_lst.append((i[0], i[1], datetime.strptime(i[2], '%d.%m.%Y')))\n",
    "if res_lst:\n",
    "    print(sorted(res_lst, key = lambda x: x[2], reverse = True)[0][0], sorted(res_lst, key = lambda x: x[2], reverse = True)[0][1])\n",
    "else:\n",
    "    print('Дни рождения не планируются')"
   ]
  },
  {
   "cell_type": "code",
   "execution_count": null,
   "id": "13ce8160-4fa2-43c3-bcff-b608c5ffe3ef",
   "metadata": {},
   "outputs": [],
   "source": []
  },
  {
   "cell_type": "markdown",
   "id": "ae66a1b3-c038-4a8c-aed8-a341951e183c",
   "metadata": {},
   "source": [
    "# Задача №8"
   ]
  },
  {
   "cell_type": "code",
   "execution_count": null,
   "id": "378bad0d-68b0-4d7c-90cf-1eacef6c3ec6",
   "metadata": {},
   "outputs": [],
   "source": [
    "FAKE NEWS 🌶️\n",
    "Команда BEEGEEK планирует выпустить свой новый курс 08.11.2022 ровно в 12:00. \n",
    "Напишите программу, которая принимает на вход текущие дату и время и определяет, \n",
    "сколько времени осталось до выхода курса.\n",
    "\n",
    "Формат входных данных\n",
    "На вход программе подаются текущие дата и время в формате DD.MM.YYYY HH:MM.\n",
    "\n",
    "Формат выходных данных\n",
    "Программа должна вывести текст с указанием количества дней и часов, оставшихся до \n",
    "выхода курса, в следующем формате:\n",
    "\n",
    "До выхода курса осталось: <кол-во дней> дней и <кол-во часов> часов\n",
    "Если в данном случае количество часов равно нулю, то вывести нужно только дни.\n",
    "\n",
    "Если количество дней равно нулю, то вывести нужно только часы и минуты в следующем формате:\n",
    "\n",
    "До выхода курса осталось: <кол-во часов> часов и <кол-во минут> минут\n",
    "Если в данном случае количество минут равно нулю, то вывести нужно только часы. Аналогично, \n",
    "если количество часов равно нулю, то вывести нужно только минуты.\n",
    "\n",
    "Если введенные дата и время больше либо равны 08.11.2022 12:00, программа должна вывести текст: \n",
    "\n",
    "Курс уже вышел!\n",
    "Примечание 1. Программа должна подбирать правильную форму для существительных «день» и «минута». \n",
    "Для этого можете смело взять свою функцию choose_plural() из этой задачи.\n",
    "\n",
    "Sample Input 1:\n",
    "\n",
    "16.11.2021 06:30\n",
    "Sample Output 1:\n",
    "\n",
    "До выхода курса осталось: 357 дней и 5 часов\n",
    "Sample Input 2:\n",
    "\n",
    "06.11.2022 12:00\n",
    "Sample Output 2:\n",
    "\n",
    "До выхода курса осталось: 2 дня\n",
    "Sample Input 3:\n",
    "\n",
    "08.11.2022 10:30\n",
    "Sample Output 3:\n",
    "\n",
    "До выхода курса осталось: 1 час и 30 минут\n",
    "Sample Input 4:\n",
    "\n",
    "08.11.2022 09:00\n",
    "Sample Output 4:\n",
    "\n",
    "До выхода курса осталось: 3 часа\n",
    "Sample Input 5:\n",
    "\n",
    "08.11.2022 11:40\n",
    "Sample Output 5:\n",
    "\n",
    "До выхода курса осталось: 20 минут\n",
    "Sample Input 6:\n",
    "\n",
    "08.11.2022 12:15\n",
    "Sample Output 6:\n",
    "\n",
    "Курс уже вышел!"
   ]
  },
  {
   "cell_type": "code",
   "execution_count": 6,
   "id": "98464389-e7a8-4396-a000-8d693f6b82db",
   "metadata": {},
   "outputs": [],
   "source": [
    "from datetime import datetime, timedelta, date\n",
    "# start_course = datetime('2022-11-08 12:00')"
   ]
  },
  {
   "cell_type": "code",
   "execution_count": 187,
   "id": "0326d176-a89f-4a51-8993-10f59b85d07f",
   "metadata": {},
   "outputs": [
    {
     "data": {
      "text/plain": [
       "datetime.datetime(2022, 11, 8, 12, 0)"
      ]
     },
     "execution_count": 187,
     "metadata": {},
     "output_type": "execute_result"
    }
   ],
   "source": [
    "start_course = datetime(2022, 11, 8, 12, 0)\n",
    "\n",
    "start_course\n",
    "    \n",
    "# '2022-11-08 12:00'"
   ]
  },
  {
   "cell_type": "code",
   "execution_count": 189,
   "id": "6830f83d-f5eb-44f6-a71b-dec4b6fde150",
   "metadata": {},
   "outputs": [
    {
     "name": "stdin",
     "output_type": "stream",
     "text": [
      " 08.11.2022 09:00\n"
     ]
    }
   ],
   "source": [
    "date_now = datetime.strptime(input(), '%d.%m.%Y %H:%M')"
   ]
  },
  {
   "cell_type": "code",
   "execution_count": 190,
   "id": "714b41a7-f19e-4e23-b666-168b8395cc2f",
   "metadata": {},
   "outputs": [
    {
     "data": {
      "text/plain": [
       "datetime.datetime(2022, 11, 8, 9, 0)"
      ]
     },
     "execution_count": 190,
     "metadata": {},
     "output_type": "execute_result"
    }
   ],
   "source": [
    "date_now"
   ]
  },
  {
   "cell_type": "code",
   "execution_count": 191,
   "id": "e6ff03e1-b646-496f-8004-468277186208",
   "metadata": {},
   "outputs": [
    {
     "data": {
      "text/plain": [
       "datetime.datetime(2022, 11, 8, 12, 0)"
      ]
     },
     "execution_count": 191,
     "metadata": {},
     "output_type": "execute_result"
    }
   ],
   "source": [
    "start_course"
   ]
  },
  {
   "cell_type": "code",
   "execution_count": null,
   "id": "3aef3759-dd8d-4e85-96a9-50b02470ce21",
   "metadata": {},
   "outputs": [],
   "source": []
  },
  {
   "cell_type": "code",
   "execution_count": 192,
   "id": "0671f130-68c6-4ab6-932d-feef8a38f2d7",
   "metadata": {},
   "outputs": [],
   "source": [
    "delta_ = start_course - date_now"
   ]
  },
  {
   "cell_type": "code",
   "execution_count": 193,
   "id": "173fe801-6790-4370-876e-e2609ed8d14a",
   "metadata": {},
   "outputs": [
    {
     "data": {
      "text/plain": [
       "datetime.timedelta(seconds=10800)"
      ]
     },
     "execution_count": 193,
     "metadata": {},
     "output_type": "execute_result"
    }
   ],
   "source": [
    "delta_"
   ]
  },
  {
   "cell_type": "code",
   "execution_count": 194,
   "id": "af1c24a7-744b-4d58-82b5-ad1a50246cc3",
   "metadata": {},
   "outputs": [
    {
     "data": {
      "text/plain": [
       "0"
      ]
     },
     "execution_count": 194,
     "metadata": {},
     "output_type": "execute_result"
    }
   ],
   "source": [
    "delta_.days"
   ]
  },
  {
   "cell_type": "code",
   "execution_count": 195,
   "id": "656f00e8-37fe-4f69-987b-6c2b25e4417a",
   "metadata": {},
   "outputs": [
    {
     "data": {
      "text/plain": [
       "3.0"
      ]
     },
     "execution_count": 195,
     "metadata": {},
     "output_type": "execute_result"
    }
   ],
   "source": [
    "(delta_.seconds) / 60 // 60"
   ]
  },
  {
   "cell_type": "code",
   "execution_count": 196,
   "id": "8c11d3fd-107e-4d8a-a349-f59874574339",
   "metadata": {},
   "outputs": [
    {
     "data": {
      "text/plain": [
       "0.0"
      ]
     },
     "execution_count": 196,
     "metadata": {},
     "output_type": "execute_result"
    }
   ],
   "source": [
    "(delta_.seconds) / 60 % 60"
   ]
  },
  {
   "cell_type": "code",
   "execution_count": null,
   "id": "a49225fe-0e81-4cfd-9865-0014652b47c2",
   "metadata": {},
   "outputs": [],
   "source": []
  },
  {
   "cell_type": "code",
   "execution_count": null,
   "id": "608c4f90-e059-4bdd-97a8-d9c084fc4715",
   "metadata": {},
   "outputs": [],
   "source": []
  },
  {
   "cell_type": "code",
   "execution_count": 198,
   "id": "4a580175-8edf-46f3-b872-bc80c7c9c457",
   "metadata": {},
   "outputs": [],
   "source": [
    "def choose_plural(amount, declensions):\n",
    "\n",
    "    if str(amount).endswith(('11', '12', '13', '14', '15', '16', '17', '18', '19')):\n",
    "        return(f'{amount} {declensions[2]}')\n",
    "    \n",
    "    elif str(amount).endswith('1'):\n",
    "        return(f'{amount} {declensions[0]}')\n",
    "\n",
    "    elif str(amount).endswith(('2', '3', '4')):\n",
    "        return(f'{amount} {declensions[1]}')\n",
    "\n",
    "    elif str(amount).endswith(('0', '5', '6', '7', '8', '9')):\n",
    "        return(f'{amount} {declensions[2]}')"
   ]
  },
  {
   "cell_type": "code",
   "execution_count": 203,
   "id": "52d0432a-0b31-4cca-b8ca-1dfa958a7f9e",
   "metadata": {},
   "outputs": [
    {
     "name": "stdout",
     "output_type": "stream",
     "text": [
      "3 часа\n"
     ]
    }
   ],
   "source": [
    "if delta_.days > 0  and int((delta_.seconds) / 60 // 60) != 0:\n",
    "    print(choose_plural(delta_.days, ('день', 'дня', 'дней')), choose_plural((int((delta_.seconds) / 60 // 60)), ('час', 'часа', 'часов')))\n",
    "\n",
    "elif delta_.days > 0  and int((delta_.seconds) / 60 // 60) == 0:\n",
    "    print(choose_plural(delta_.days, ('день', 'дня', 'дней')), choose_plural((int((delta_.seconds) / 60 % 60)), ('минута', 'минуты', 'минут')))\n",
    "\n",
    "\n",
    "elif delta_.days == 0 and int((delta_.seconds) / 60 // 60) == 0:\n",
    "    print(choose_plural((int((delta_.seconds) / 60 % 60)), ('минута', 'минуты', 'минут')))\n",
    "\n",
    "elif delta_.days == 0 and int((delta_.seconds) / 60 % 60) == 0:\n",
    "    print(choose_plural((int((delta_.seconds) / 60 // 60)), ('час', 'часа', 'часов')))\n",
    "\n",
    "elif delta_.days == 0:\n",
    "    print(choose_plural((int((delta_.seconds) / 60 // 60)), ('час', 'часа', 'часов')), choose_plural((int((delta_.seconds) / 60 % 60)), ('минута', 'минуты', 'минут')))\n",
    "\n",
    "else:\n",
    "    print('Курс уже вышел!')"
   ]
  },
  {
   "cell_type": "code",
   "execution_count": 201,
   "id": "f74c5553-7275-47ce-ab4d-62ae9d45d814",
   "metadata": {},
   "outputs": [
    {
     "data": {
      "text/plain": [
       "0"
      ]
     },
     "execution_count": 201,
     "metadata": {},
     "output_type": "execute_result"
    }
   ],
   "source": [
    "int((delta_.seconds) / 60 % 60)"
   ]
  },
  {
   "cell_type": "code",
   "execution_count": 200,
   "id": "2ab0f5ae-a56d-4774-b445-0947b9b2587e",
   "metadata": {},
   "outputs": [
    {
     "data": {
      "text/plain": [
       "'0 дней'"
      ]
     },
     "execution_count": 200,
     "metadata": {},
     "output_type": "execute_result"
    }
   ],
   "source": [
    "choose_plural(delta_.days, ('день', 'дня', 'дней'))"
   ]
  },
  {
   "cell_type": "code",
   "execution_count": null,
   "id": "7988bbd0-ab3c-42f5-888a-721207b55b0b",
   "metadata": {},
   "outputs": [],
   "source": []
  },
  {
   "cell_type": "code",
   "execution_count": null,
   "id": "1b54bc7f-32b9-4d27-aff2-e977f78cd530",
   "metadata": {},
   "outputs": [],
   "source": []
  },
  {
   "cell_type": "code",
   "execution_count": null,
   "id": "f9a7ea6b-54e2-4a4a-80d7-4d157bebb96a",
   "metadata": {},
   "outputs": [],
   "source": []
  },
  {
   "cell_type": "code",
   "execution_count": null,
   "id": "838f968b-62c3-45fb-8ffc-5a1a75ffb330",
   "metadata": {},
   "outputs": [],
   "source": []
  },
  {
   "cell_type": "code",
   "execution_count": null,
   "id": "3a4bd2da-9aae-44c4-aff9-58469ee582e6",
   "metadata": {},
   "outputs": [],
   "source": []
  },
  {
   "cell_type": "code",
   "execution_count": null,
   "id": "30478964-b4cf-4d8f-92b3-fd7b5b6c50f9",
   "metadata": {},
   "outputs": [],
   "source": []
  },
  {
   "cell_type": "code",
   "execution_count": null,
   "id": "e04562a3-62c5-4610-b316-85dab6d10c2a",
   "metadata": {},
   "outputs": [],
   "source": []
  },
  {
   "cell_type": "code",
   "execution_count": null,
   "id": "e2478e64-e6d4-455f-9f79-ed843053ab2a",
   "metadata": {},
   "outputs": [],
   "source": []
  },
  {
   "cell_type": "code",
   "execution_count": null,
   "id": "4b1a4943-7c6d-41ac-83b5-d584e543a9d1",
   "metadata": {},
   "outputs": [],
   "source": []
  }
 ],
 "metadata": {
  "kernelspec": {
   "display_name": "Python 3 (ipykernel)",
   "language": "python",
   "name": "python3"
  },
  "language_info": {
   "codemirror_mode": {
    "name": "ipython",
    "version": 3
   },
   "file_extension": ".py",
   "mimetype": "text/x-python",
   "name": "python",
   "nbconvert_exporter": "python",
   "pygments_lexer": "ipython3",
   "version": "3.12.3"
  }
 },
 "nbformat": 4,
 "nbformat_minor": 5
}
