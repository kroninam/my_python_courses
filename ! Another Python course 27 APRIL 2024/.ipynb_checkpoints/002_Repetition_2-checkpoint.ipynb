{
 "cells": [
  {
   "cell_type": "markdown",
   "id": "adb8f71b-b0b3-46b7-b374-4c951510b19f",
   "metadata": {},
   "source": [
    "# Задача №1"
   ]
  },
  {
   "cell_type": "code",
   "execution_count": null,
   "id": "b5ff4dd2-3581-42ae-a464-afde4377b2b4",
   "metadata": {},
   "outputs": [],
   "source": [
    "Тимуру необходимо посетить два магазина, расположенных рядом с его домом. \n",
    "От дома до первого магазина ведёт дорожка длиной \n",
    "\n",
    "d 1  метров, а до второго магазина ведёт дорожка длиной d 2  метров. \n",
    "\n",
    "Также существует дорожка, соединяющая два магазина друг с другом, длиной \n",
    "\n",
    "d 3  метров.\n",
    "\n",
    "Напишите программу, которая вычисляет минимальное расстояние, которое потребуется пройти Тимуру,\n",
    "чтобы посетить оба магазина и вернуться домой. Тимур всегда стартует из дома. Он должен посетить \n",
    "оба магазина, перемещаясь только по имеющимся трём дорожкам, и вернуться назад домой. При этом его\n",
    "совершенно не смутит, если ему придётся посетить один и тот же магазин или пройти по одной и той же\n",
    "дорожке более одного раза. Единственная его задача — минимизировать суммарное пройденное расстояние.\n",
    "\n",
    "Формат входных данных\n",
    "На вход программе подаются \n",
    "3 натуральных числа  \n",
    "𝑑1,𝑑2,𝑑3  — длины дорожек, каждое на отдельной строке:\n",
    "\n",
    "d 1  — длина дорожки, соединяющая дом Тимура и первый магазин\n",
    "d 2  — длина дорожки, соединяющая дом Тимура и второй магазин\n",
    "d 3  — длина дорожки, соединяющая магазины\n",
    "\n",
    "Формат выходных данных\n",
    "Программа должна вывести минимальное количество метров, которое придётся пройти Тимуру, \n",
    "чтобы посетить оба магазина и вернуться домой.\n",
    "\n",
    "Sample Input 1:\n",
    "10\n",
    "20\n",
    "30\n",
    "Sample Output 1:\n",
    "60"
   ]
  },
  {
   "cell_type": "code",
   "execution_count": null,
   "id": "8c5f76ee-8293-4a0e-8144-1edd2448f6e9",
   "metadata": {},
   "outputs": [],
   "source": []
  },
  {
   "cell_type": "code",
   "execution_count": 1,
   "id": "e580395e-2227-4af0-b780-ef1f42ee4c9a",
   "metadata": {},
   "outputs": [
    {
     "name": "stdin",
     "output_type": "stream",
     "text": [
      " 100\n",
      " 33\n",
      " 34\n"
     ]
    }
   ],
   "source": [
    "d1 = int(input())\n",
    "d2 = int(input())\n",
    "d3 = int(input())"
   ]
  },
  {
   "cell_type": "code",
   "execution_count": 2,
   "id": "381001f4-a4f5-4cc8-bc74-1a23a4ab96d2",
   "metadata": {},
   "outputs": [
    {
     "data": {
      "text/plain": [
       "266"
      ]
     },
     "execution_count": 2,
     "metadata": {},
     "output_type": "execute_result"
    }
   ],
   "source": [
    "s1 = d1 + d1 + d2 + d2\n",
    "s1"
   ]
  },
  {
   "cell_type": "code",
   "execution_count": 3,
   "id": "4e1af857-70d8-493d-b4d1-b18b96b15e5e",
   "metadata": {},
   "outputs": [
    {
     "data": {
      "text/plain": [
       "167"
      ]
     },
     "execution_count": 3,
     "metadata": {},
     "output_type": "execute_result"
    }
   ],
   "source": [
    "s2 = d1 + d3 + d2\n",
    "s2"
   ]
  },
  {
   "cell_type": "code",
   "execution_count": 5,
   "id": "12d798d3-ae74-4380-9118-c476f3c50c38",
   "metadata": {},
   "outputs": [
    {
     "data": {
      "text/plain": [
       "134"
      ]
     },
     "execution_count": 5,
     "metadata": {},
     "output_type": "execute_result"
    }
   ],
   "source": [
    "s3 = d2 + d3 + d3 + d2\n",
    "s3"
   ]
  },
  {
   "cell_type": "code",
   "execution_count": 6,
   "id": "fc9ee318-faf7-44fe-a7f9-a9b0cb75a616",
   "metadata": {},
   "outputs": [
    {
     "data": {
      "text/plain": [
       "268"
      ]
     },
     "execution_count": 6,
     "metadata": {},
     "output_type": "execute_result"
    }
   ],
   "source": [
    "s4 = d1 + d3 + d3 + d1\n",
    "s4"
   ]
  },
  {
   "cell_type": "code",
   "execution_count": null,
   "id": "91df803c-d013-40cc-9325-e6e73a62e90c",
   "metadata": {},
   "outputs": [],
   "source": []
  },
  {
   "cell_type": "code",
   "execution_count": null,
   "id": "ffeb2d5d-b0c4-4dbb-bac8-f2fc18ce3aa6",
   "metadata": {},
   "outputs": [],
   "source": []
  },
  {
   "cell_type": "code",
   "execution_count": 7,
   "id": "52087c1d-9c53-4f6e-9594-59902661745f",
   "metadata": {},
   "outputs": [],
   "source": [
    "def optimal_lenth(d1, d2, d3):\n",
    "    s1 = d1 + d1 + d2 + d2\n",
    "    s2 = d1 + d3 + d2\n",
    "    s3 = d2 + d3 + d3 + d2\n",
    "    s4 = d1 + d3 + d3 + d1\n",
    "\n",
    "    return min([s1, s2, s3, s4])"
   ]
  },
  {
   "cell_type": "code",
   "execution_count": 8,
   "id": "50b845fb-00ab-4aae-8e45-74e71344028c",
   "metadata": {},
   "outputs": [
    {
     "name": "stdout",
     "output_type": "stream",
     "text": [
      "134\n"
     ]
    }
   ],
   "source": [
    "print(optimal_lenth(d1, d2, d3))"
   ]
  },
  {
   "cell_type": "code",
   "execution_count": null,
   "id": "6be41646-3016-492a-aa7b-aac1b14ddee9",
   "metadata": {},
   "outputs": [],
   "source": []
  },
  {
   "cell_type": "markdown",
   "id": "02b228d3-3347-4d2e-b88b-ba7b5e0bb183",
   "metadata": {},
   "source": [
    "# Задача №2"
   ]
  },
  {
   "cell_type": "code",
   "execution_count": null,
   "id": "0ddbbdd5-6eb8-4471-bf78-aef5c290580a",
   "metadata": {},
   "outputs": [],
   "source": [
    "Схожие буквы\n",
    "В русском и английском языках есть буквы, которые выглядят одинаково. Вот список \n",
    "английских букв \"AaBCcEeHKMOoPpTXxy\", а вот их русские аналоги \"АаВСсЕеНКМОоРрТХху\". \n",
    "Напишите программу, которая для трёх букв из данных списков букв определяет, русские они,\n",
    "английские или и те и другие (смесь русских и английских букв).\n",
    "\n",
    "Формат входных данных\n",
    "На вход программе подаются три буквы из указанных в условии наборов букв, каждая на отдельной строке.\n",
    "\n",
    "Формат выходных данных\n",
    "Программа должна вывести\n",
    "\n",
    "ru, если все три буквы русские\n",
    " en, если все три буквы английские\n",
    " mix, если среди букв есть как русские, так и английские\n",
    "Примечание 1. Гарантируется, что введенные три буквы находятся в наборе \"AaBCcEeHKMOoPpTXxy\" + \"АаВСсЕеНКМОоРрТХху\" (английские + русские буквы)."
   ]
  },
  {
   "cell_type": "code",
   "execution_count": 33,
   "id": "8ab6647e-9d99-4b26-b13d-c4915d9f3c50",
   "metadata": {},
   "outputs": [
    {
     "name": "stdin",
     "output_type": "stream",
     "text": [
      " f\n",
      " d\n",
      " K\n"
     ]
    },
    {
     "name": "stdout",
     "output_type": "stream",
     "text": [
      "mix\n"
     ]
    }
   ],
   "source": [
    "def mix_letters(a,b,c):\n",
    "    if all((a in \"AaBCcEeHKMOoPpTXxy\", b in \"AaBCcEeHKMOoPpTXxy\", c in \"AaBCcEeHKMOoPpTXxy\")):\n",
    "        return 'en'\n",
    "    elif all((a in \"АаВСсЕеНКМОоРрТХху\", b in \"АаВСсЕеНКМОоРрТХху\", c in \"АаВСсЕеНКМОоРрТХху\")):\n",
    "        return 'ru'\n",
    "    return 'mix'\n",
    "\n",
    "a = input()\n",
    "b = input()\n",
    "c = input()\n",
    "\n",
    "print(mix_letters(a,b,c))"
   ]
  },
  {
   "cell_type": "code",
   "execution_count": null,
   "id": "764bceb8-90b2-4de0-ba95-a7b9b5cd5d7b",
   "metadata": {},
   "outputs": [],
   "source": []
  },
  {
   "cell_type": "markdown",
   "id": "7ad8bbca-3f90-4665-83c9-12c5e020e5f9",
   "metadata": {},
   "source": [
    "# Задача №3"
   ]
  },
  {
   "cell_type": "code",
   "execution_count": null,
   "id": "9f05e0d7-9294-4929-835f-9bc54486d342",
   "metadata": {},
   "outputs": [],
   "source": [
    "Переворатор\n",
    "Дана последовательность натуральных чисел от \n",
    "1 до n включительно. Напишите программу, которая сначала располагает в обратном порядке часть \n",
    "элементов этой последовательности от элемента с номером \n",
    "X до элемента с номером 𝑌\n",
    "Y, а затем от элемента с номером 𝐴 до элемента с номером B.\n",
    "\n",
    "Формат входных данных\n",
    "На вход программе подаются \n",
    "\n",
    "5 натуральных чисел, разделенных пробелом: n,X, Y,A,B (X<Y,A<B,  1≤X,Y,A,B≤ n).\n",
    "\n",
    "Формат выходных данных\n",
    "Программа должна сформировать последовательность чисел, согласно условию задачи, и вывести их, разделяя пробелом.\n",
    "\n",
    "Примечание 1. Нумерация членов последовательности начинается с единицы.\n",
    "\n",
    "Примечание 2. Рассмотрим первый тест, в котором \n",
    "\n",
    "n=9,X=2,Y=5,A=6,B=9. Запишем последовательность от 1 до 9\n",
    "1,2,3,4,5,6,7,8,9\n",
    "\n",
    "Перевернем в этой последовательности сначала элементы со \n",
    "\n",
    "2 по 5(2,3,4,5), затем с \n",
    "6 по 9\n",
    "\n",
    "(6,7,8,9). Получим искомую последовательность:\n",
    "\n",
    "1,5,4,3,2,9,8,7,6\n",
    "    \n",
    "Примечание 3. Тестовые данные доступны по ссылкам:\n",
    "\n",
    "Архив с тестами\n",
    "GitHub\n",
    "Sample Input 1:\n",
    "9 2 5 6 9\n",
    "Sample Output 1:\n",
    "1 5 4 3 2 9 8 7 6 \n",
    "\n",
    "Sample Input 2:\n",
    "\n",
    "9 3 6 5 8\n",
    "Sample Output 2:\n",
    "\n",
    "1 2 6 5 8 7 3 4 9 "
   ]
  },
  {
   "cell_type": "code",
   "execution_count": 64,
   "id": "33fb4f8d-0c70-4c4d-be41-d2c6b3617282",
   "metadata": {},
   "outputs": [],
   "source": [
    "def perevorator(n, x, y, a, b):\n",
    "    lst = list(range(1, n+1))\n",
    "    lst[x-1:y] =  lst[x-1:y][::-1]\n",
    "    lst[a-1:b] = lst[a-1:b][::-1]\n",
    "    \n",
    "\n",
    "    return lst"
   ]
  },
  {
   "cell_type": "code",
   "execution_count": 65,
   "id": "b675d747-f3cc-4cbc-b91a-5c7ac423217c",
   "metadata": {},
   "outputs": [
    {
     "name": "stdin",
     "output_type": "stream",
     "text": [
      " 9 2 5 6 9\n"
     ]
    }
   ],
   "source": [
    "n, x, y, a, b = map(int, input().split())"
   ]
  },
  {
   "cell_type": "code",
   "execution_count": 66,
   "id": "f126a880-b864-44d2-80a1-4dda00213eeb",
   "metadata": {},
   "outputs": [
    {
     "name": "stdout",
     "output_type": "stream",
     "text": [
      "1 5 4 3 2 9 8 7 6\n"
     ]
    }
   ],
   "source": [
    "print(*perevorator(n, x, y, a, b))"
   ]
  },
  {
   "cell_type": "code",
   "execution_count": null,
   "id": "88e3ec9a-f6b1-45df-90b8-d4301a19a32a",
   "metadata": {},
   "outputs": [],
   "source": []
  },
  {
   "cell_type": "markdown",
   "id": "48f4d3cd-f05e-4805-91c8-a08e19a4592b",
   "metadata": {},
   "source": [
    "# Задача №4"
   ]
  },
  {
   "cell_type": "code",
   "execution_count": null,
   "id": "1cca49b3-6b60-40f6-b351-cf2b8e618b45",
   "metadata": {},
   "outputs": [],
   "source": [
    "Более одного\n",
    "Дана последовательность неотрицательных целых чисел. Напишите программу, которая выводит те числа, \n",
    "которые встречаются в данной последовательности более одного раза.\n",
    "\n",
    "Формат входных данных\n",
    "На вход программе подается строка, содержащая целые неотрицательные числа, разделенные пробелом.\n",
    "\n",
    "Формат выходных данных\n",
    "Программа должна вывести те числа, которые встречаются в данной строке более одного раза, разделяя их пробелом. Числа должны быть расположены в порядке возрастания и не должны повторяться.\n",
    "\n",
    "Примечание 1. Если повторяющихся чисел в исходной строке нет, программа ничего не должна выводить.\n",
    "\n",
    "Примечание 2. Тестовые данные доступны по ссылкам:\n",
    "\n",
    "Архив с тестами\n",
    "GitHub\n",
    "Sample Input 1:\n",
    "\n",
    "4 8 0 3 4 2 0 3\n",
    "Sample Output 1:\n",
    "\n",
    "0 3 4\n",
    "Sample Input 2:\n",
    "\n",
    "1 2 3 4 5 4 5 6 7 7 7 7 4 4\n",
    "Sample Output 2:\n",
    "\n",
    "4 5 7\n",
    "Sample Input 3:\n",
    "\n",
    "1 2 3 4 5 6 7 8 9\n",
    "Sample Output 3:"
   ]
  },
  {
   "cell_type": "code",
   "execution_count": 46,
   "id": "7e28c309-fbc8-44b9-9584-2aecf6ee920c",
   "metadata": {},
   "outputs": [
    {
     "name": "stdin",
     "output_type": "stream",
     "text": [
      " 1 2 3 4 5 4 5 6 7 7 7 7 4 4\n"
     ]
    }
   ],
   "source": [
    "lst = list(map(int, input().split()))"
   ]
  },
  {
   "cell_type": "code",
   "execution_count": 47,
   "id": "4fe3f4cd-6a6d-4ab3-878a-5e30091f74ce",
   "metadata": {},
   "outputs": [],
   "source": [
    "rem = set(lst)"
   ]
  },
  {
   "cell_type": "code",
   "execution_count": 48,
   "id": "a05513cb-64e5-4a26-8fdf-f3a9275e3ec4",
   "metadata": {},
   "outputs": [
    {
     "data": {
      "text/plain": [
       "{1, 2, 3, 4, 5, 6, 7}"
      ]
     },
     "execution_count": 48,
     "metadata": {},
     "output_type": "execute_result"
    }
   ],
   "source": [
    "rem"
   ]
  },
  {
   "cell_type": "code",
   "execution_count": 49,
   "id": "ff45e502-d06d-40fa-a6bc-1fed87bcd188",
   "metadata": {},
   "outputs": [
    {
     "name": "stdout",
     "output_type": "stream",
     "text": [
      "4 5 7\n"
     ]
    }
   ],
   "source": [
    "for i in rem:\n",
    "    lst.remove(i)\n",
    "print(*sorted(set(lst)))"
   ]
  },
  {
   "cell_type": "code",
   "execution_count": null,
   "id": "5afa7c1b-afed-4556-a45e-261bdd2850b8",
   "metadata": {},
   "outputs": [],
   "source": []
  },
  {
   "cell_type": "markdown",
   "id": "e30ece6f-cb9b-4b6b-85ff-8ff52e45cd0a",
   "metadata": {},
   "source": [
    "# Задача №5"
   ]
  },
  {
   "cell_type": "code",
   "execution_count": null,
   "id": "c6f52595-c64e-4dea-a92d-0592ad68758f",
   "metadata": {},
   "outputs": [],
   "source": [
    "Максимальная группа\n",
    "Назовем набор различных натуральных чисел группой. Например: \n",
    "\n",
    "(13,4,22,40). Тогда длиной группы будем считать количество чисел в группе. Например, длина группы \n",
    "\n",
    "(13,4,22,40) равна \n",
    "\n",
    "4.\n",
    "\n",
    "Дана последовательность натуральных чисел от \n",
    "1 до n включительно. Напишите программу, которая группирует все числа данной последовательности\n",
    "по сумме их цифр и определяет длину группы, содержащей наибольшее количество чисел.\n",
    "\n",
    "Формат входных данных\n",
    "На вход программе подается натуральное число n.\n",
    "\n",
    "Формат выходных данных\n",
    "Программа должна сгруппировать все числа из натуральной последовательности от \n",
    "1 до n по сумме их цифр и определить длину группы, содержащей наибольшее количество чисел.\n",
    "\n",
    "Примечание 1. Рассмотрим третий тест, в котором \n",
    "\n",
    "n=20. Запишем последовательность чисел от \n",
    "1 до 20\n",
    "\n",
    "1,2,3,4,5,6,7,8,9,10,11,12,13,14,15,16,17,18,19,20\n",
    "Сгруппируем полученные числа по сумме их цифр:\n",
    "(1,10),(2,11,20),(3,12),(4,13),(5,14),(6,15),(7,16),(8,17),(9,18),(19)\n",
    "\n",
    "Итак, длина группы с наибольшим количеством чисел равна \n",
    "3."
   ]
  },
  {
   "cell_type": "code",
   "execution_count": 13,
   "id": "218e2e04-45fa-48d4-ae61-a700316ed020",
   "metadata": {},
   "outputs": [
    {
     "name": "stdin",
     "output_type": "stream",
     "text": [
      " 20\n"
     ]
    }
   ],
   "source": [
    "n = int(input())\n",
    "lst = [i for i in range(n+1)]"
   ]
  },
  {
   "cell_type": "code",
   "execution_count": 22,
   "id": "17150b6d-168d-4915-af4d-4d3adb5c4d18",
   "metadata": {},
   "outputs": [
    {
     "data": {
      "text/plain": [
       "[0, 1, 2, 3, 4, 5, 6, 7, 8, 9, 10, 11, 12, 13, 14, 15, 16, 17, 18, 19, 20]"
      ]
     },
     "execution_count": 22,
     "metadata": {},
     "output_type": "execute_result"
    }
   ],
   "source": [
    "lst"
   ]
  },
  {
   "cell_type": "code",
   "execution_count": 30,
   "id": "3ec59712-f668-4c89-9640-6b3bead81dc7",
   "metadata": {},
   "outputs": [],
   "source": [
    "d = {}\n",
    "for i in lst:\n",
    "    summa_chisel = 0\n",
    "    for j in str(i):\n",
    "        summa_chisel += int(j)\n",
    "    if summa_chisel not in d:\n",
    "        d[summa_chisel] = [i]\n",
    "    else:\n",
    "        d[summa_chisel] += [i]"
   ]
  },
  {
   "cell_type": "code",
   "execution_count": 46,
   "id": "4bb92beb-ed48-4d06-9665-ef1e167c91ff",
   "metadata": {},
   "outputs": [
    {
     "data": {
      "text/plain": [
       "3"
      ]
     },
     "execution_count": 46,
     "metadata": {},
     "output_type": "execute_result"
    }
   ],
   "source": [
    "len(sorted(d.values(), key = len)[-1])"
   ]
  },
  {
   "cell_type": "code",
   "execution_count": null,
   "id": "f6691553-e61d-4150-be0f-c71fefcb6ec2",
   "metadata": {},
   "outputs": [],
   "source": []
  },
  {
   "cell_type": "markdown",
   "id": "335671a4-d1a6-4500-b204-ae094325f31f",
   "metadata": {},
   "source": [
    "# Задача №6"
   ]
  },
  {
   "cell_type": "code",
   "execution_count": null,
   "id": "8739808c-27f9-48fe-9db6-3bd79231201c",
   "metadata": {},
   "outputs": [],
   "source": [
    "Трудности перевода\n",
    "Зачастую переводить сериалы, не теряя изначальный смысл, невозможно, особенно за счет игр слов. \n",
    "Сумасшедший режиссер хочет снять сериал, в котором бы в целях эксперимента задействовал как можно \n",
    "больше языков, чтобы пользоваться красотой каждого из них. Тем не менее если задействовать слишком\n",
    "много языков, то сериал станет непонятен абсолютно всем, поэтому режиссер достает случайных людей на \n",
    "улице и спрашивает их, какие языки они знают, таким образом он будет использовать языки которые знают \n",
    "все из них.\n",
    "\n",
    "Напишите программу, которая определяет, какие языки будут использоваться в сериале.\n",
    "\n",
    "Формат входных данных\n",
    "На вход программе в первой строке подается число \n",
    "n — количество людей, которых донимает режиссер. В каждой из следующих \n",
    "n строк через запятую и пробел указывается список языков, которые знает человек.\n",
    "\n",
    "Формат выходных данных\n",
    "Программа должна вывести список языков для сериала в лексикографическом порядке. Если такой список \n",
    "составить нельзя, необходимо вывести текст: \n",
    "\n",
    "Сериал снять не удастся\n",
    "\n",
    "Sample Input 1:\n",
    "6\n",
    "испанский, португальский, эсперанто, французский\n",
    "французский, испанский, эсперанто\n",
    "португальский, эсперанто, французский, испанский\n",
    "французский, английский, болгарский, испанский, эсперанто\n",
    "эсперанто, английский, русский, испанский, французский\n",
    "python, испанский, эсперанто, латышский, польский, французский\n",
    "Sample Output 1:\n",
    "испанский, французский, эсперанто\n",
    "\n",
    "\n",
    "Sample Input 2:\n",
    "6\n",
    "испанский, португальский, эсперанто\n",
    "французский, испанский\n",
    "португальский, эсперанто, французский\n",
    "французский, английский, болгарский, испанский, эсперанто\n",
    "эсперанто, английский, русский, испанский, французский\n",
    "python, испанский, эсперанто, латышский, польский, французский\n",
    "Sample Output 2:\n",
    "\n",
    "Сериал снять не удастся"
   ]
  },
  {
   "cell_type": "code",
   "execution_count": 48,
   "id": "a29f1955-68a3-4383-bb4f-485ebeb41f67",
   "metadata": {},
   "outputs": [
    {
     "name": "stdin",
     "output_type": "stream",
     "text": [
      " 6\n",
      " испанский, португальский, эсперанто, французский\n",
      " французский, испанский, эсперанто\n",
      " португальский, эсперанто, французский, испанский\n",
      " французский, английский, болгарский, испанский, эсперанто\n",
      " эсперанто, английский, русский, испанский, французский\n",
      " python, испанский, эсперанто, латышский, польский, французский\n"
     ]
    }
   ],
   "source": [
    "n = int(input())\n",
    "lst = [input().split() for i in range(n)]"
   ]
  },
  {
   "cell_type": "code",
   "execution_count": 49,
   "id": "2bcffb01-3558-411d-9e6c-7c221c926808",
   "metadata": {},
   "outputs": [
    {
     "data": {
      "text/plain": [
       "[['испанский,', 'португальский,', 'эсперанто,', 'французский'],\n",
       " ['французский,', 'испанский,', 'эсперанто'],\n",
       " ['португальский,', 'эсперанто,', 'французский,', 'испанский'],\n",
       " ['французский,', 'английский,', 'болгарский,', 'испанский,', 'эсперанто'],\n",
       " ['эсперанто,', 'английский,', 'русский,', 'испанский,', 'французский'],\n",
       " ['python,',\n",
       "  'испанский,',\n",
       "  'эсперанто,',\n",
       "  'латышский,',\n",
       "  'польский,',\n",
       "  'французский']]"
      ]
     },
     "execution_count": 49,
     "metadata": {},
     "output_type": "execute_result"
    }
   ],
   "source": [
    "lst"
   ]
  },
  {
   "cell_type": "code",
   "execution_count": 55,
   "id": "3fa13d17-3620-4169-9fb3-b19b7bdd2189",
   "metadata": {},
   "outputs": [],
   "source": [
    "d = {}\n",
    "for i in lst:\n",
    "    for j in i:\n",
    "        if j.strip(',') not in d:\n",
    "            d[j.strip(',')] = 1\n",
    "        else:\n",
    "            d[j.strip(',')] += 1        "
   ]
  },
  {
   "cell_type": "code",
   "execution_count": 62,
   "id": "19ef4730-34ee-43a0-bd58-eae8ac640163",
   "metadata": {},
   "outputs": [
    {
     "name": "stdout",
     "output_type": "stream",
     "text": [
      "испанский, эсперанто, французский\n"
     ]
    }
   ],
   "source": [
    "res = []\n",
    "for k,w in d.items():\n",
    "    if w == n:\n",
    "        res.append(k)\n",
    "if res:\n",
    "    print(*res, sep = ', ')\n",
    "else:\n",
    "    print('Сериал снять не удастся')"
   ]
  },
  {
   "cell_type": "code",
   "execution_count": null,
   "id": "60d15c11-d7b0-4da9-9ec5-fd85330e8058",
   "metadata": {},
   "outputs": [],
   "source": []
  },
  {
   "cell_type": "markdown",
   "id": "6ba142b6-7648-414a-84d8-20949d4139f8",
   "metadata": {},
   "source": [
    "# Задача №7"
   ]
  },
  {
   "cell_type": "code",
   "execution_count": null,
   "id": "d5fd4c06-26fe-493a-97f0-4f73fb42b5c3",
   "metadata": {},
   "outputs": [],
   "source": [
    "Схожие слова\n",
    "Напишите программу, которая находит все схожие слова для заданного слова.\n",
    "    \n",
    "Слова называются схожими, если имеют одинаковое количество и расположение гласных букв. \n",
    "При этом сами гласные могут различаться.\n",
    "\n",
    "Формат входных данных\n",
    "На вход программе подается одно слово, записанное в первой строке, затем натуральное число \n",
    "𝑛\n",
    "n — количество слов для сравнения и \n",
    "𝑛\n",
    "n строк со словами.\n",
    "\n",
    "Формат выходных данных\n",
    "Программа должна вывести все схожие слова для заданного слова, сохранив их исходный порядок следования.\n",
    "\n",
    "Примечание 1. После последней гласной в начальном и проверяемом слове может быть любое количество согласных.\n",
    "\n",
    "Примечание 2. В русском языке \n",
    "10 гласных букв (а, у, о, ы, и, э, я, ю, ё, е) и \n",
    "21 согласная буква (б, в, г, д, ж, з, й, к, л, м, н, п, р, с, т, ф, х, ц, ч, ш, щ).\n",
    "\n",
    "\n",
    "Sample Input 1:\n",
    "машина\n",
    "8\n",
    "сеть\n",
    "машинист\n",
    "дорога\n",
    "урок\n",
    "работа\n",
    "аксиома\n",
    "железо\n",
    "ветеран\n",
    "Sample Output 1:\n",
    "машинист\n",
    "дорога\n",
    "работа\n",
    "железо\n",
    "ветеран\n",
    "\n",
    "\n",
    "Sample Input 2:\n",
    "весть\n",
    "3\n",
    "месть\n",
    "гость\n",
    "лань\n",
    "Sample Output 2:\n",
    "месть\n",
    "гость\n",
    "лань"
   ]
  },
  {
   "cell_type": "code",
   "execution_count": 17,
   "id": "f7ab5f65-4a22-4820-8040-754b8310b9ed",
   "metadata": {},
   "outputs": [
    {
     "name": "stdin",
     "output_type": "stream",
     "text": [
      " машина\n"
     ]
    }
   ],
   "source": [
    "word = input()"
   ]
  },
  {
   "cell_type": "code",
   "execution_count": 18,
   "id": "5acc33d0-d00c-4da6-bc88-caf041be4fc7",
   "metadata": {},
   "outputs": [
    {
     "name": "stdin",
     "output_type": "stream",
     "text": [
      " 8\n",
      " сеть\n",
      " машинист\n",
      " дорога\n",
      " урок\n",
      " работа\n",
      " аксиома\n",
      " железо\n",
      " ветеран\n"
     ]
    }
   ],
   "source": [
    "n = int(input())\n",
    "lst = [input() for i in range(n)]"
   ]
  },
  {
   "cell_type": "code",
   "execution_count": 19,
   "id": "b238ca25-e569-477c-b548-aab6a8e0c081",
   "metadata": {},
   "outputs": [
    {
     "data": {
      "text/plain": [
       "['сеть',\n",
       " 'машинист',\n",
       " 'дорога',\n",
       " 'урок',\n",
       " 'работа',\n",
       " 'аксиома',\n",
       " 'железо',\n",
       " 'ветеран']"
      ]
     },
     "execution_count": 19,
     "metadata": {},
     "output_type": "execute_result"
    }
   ],
   "source": [
    "lst"
   ]
  },
  {
   "cell_type": "code",
   "execution_count": 20,
   "id": "2199557f-b49f-4dba-8308-9f2ddbb23434",
   "metadata": {},
   "outputs": [],
   "source": [
    "d = {}\n",
    "for i in range(len(word)):\n",
    "    if word[i] in ['а', 'у', 'о', 'ы', 'и', 'э', 'я', 'ю', 'ё', 'е']:\n",
    "        d[i] = 'wow'"
   ]
  },
  {
   "cell_type": "code",
   "execution_count": 21,
   "id": "3d7a2951-9a97-46dc-8956-16178563e4a5",
   "metadata": {},
   "outputs": [
    {
     "data": {
      "text/plain": [
       "{1: 'wow', 3: 'wow', 5: 'wow'}"
      ]
     },
     "execution_count": 21,
     "metadata": {},
     "output_type": "execute_result"
    }
   ],
   "source": [
    "d"
   ]
  },
  {
   "cell_type": "code",
   "execution_count": 22,
   "id": "fc037717-e09f-466e-a2ae-149dcb91295b",
   "metadata": {},
   "outputs": [],
   "source": [
    "res = []\n",
    "for word in lst:\n",
    "    d_1 = {}\n",
    "    for j in range(len(word)):\n",
    "        if word[j] in ['а', 'у', 'о', 'ы', 'и', 'э', 'я', 'ю', 'ё', 'е']:\n",
    "            d_1[j] = 'wow'\n",
    "            if d_1 == d:\n",
    "                res.append(word)"
   ]
  },
  {
   "cell_type": "code",
   "execution_count": 23,
   "id": "febd53d2-74b9-4704-85f0-d00527906b58",
   "metadata": {},
   "outputs": [
    {
     "data": {
      "text/plain": [
       "['машинист', 'дорога', 'работа', 'железо', 'ветеран']"
      ]
     },
     "execution_count": 23,
     "metadata": {},
     "output_type": "execute_result"
    }
   ],
   "source": [
    "res"
   ]
  },
  {
   "cell_type": "code",
   "execution_count": null,
   "id": "2be762b6-f7e5-40ea-a3dd-92504c8fac41",
   "metadata": {},
   "outputs": [],
   "source": []
  },
  {
   "cell_type": "markdown",
   "id": "0674e1be-2711-4c79-ab46-73824ad916f9",
   "metadata": {},
   "source": [
    "# Задача №8"
   ]
  },
  {
   "cell_type": "code",
   "execution_count": null,
   "id": "30ff9701-1bce-44e5-b922-ece44664305c",
   "metadata": {},
   "outputs": [],
   "source": [
    "Корпоративная почта 🌶️\n",
    "В онлайн-школе .\"BEEGEEK\" сотрудникам положена корпоративная почта, которая формируется как \n",
    "<имя-фамилия>@beegeek.bzz, например, timyr-guev@beegeek.bzz. При таком подходе \n",
    "существует проблема тёзок. Для решения такой проблемы было решено приписывать справа номер.\n",
    "\n",
    "Тогда первый Тимур Гуев получает ящик timyr-guev@beegeek.bzz (без номера), второй — \n",
    "timyr-guev1@beegeek.bzz, третий — timyr-guev2@beegeek.bzz, и так далее.\n",
    "\n",
    "Вам дан список уже занятых ящиков в порядке их выдачи и имена-фамилии новых сотрудников\n",
    "в заранее подготовленном виде (латиницей с символом - между ними). Напишите программу,\n",
    "которая раздает корпоративные ящики новым сотрудникам школы.\n",
    "\n",
    "Формат входных данных\n",
    "На вход программе в первой строке подается целое неотрицательное число \n",
    "n — количество выданных ящиков. В следующих \n",
    "n строках перечислены сами ящики в порядке выдачи, по одному на строке. На следующей строке задано целое неотрицательное число \n",
    "m — количество новых сотрудников, которым нужно раздать корпоративные ящики. Каждая из последующих \n",
    "m строк представляет собой имя и фамилию сотрудника в подготовленном к использованию формате.\n",
    "\n",
    "Формат выходных данных\n",
    "Программа должна вывести почтовые ящики (m строк) для новых сотрудников в том порядке, в котором они раздавались.\n",
    "\n",
    "Примечание. Тестовые данные доступны по ссылкам:\n",
    "\n",
    "Архив с тестами\n",
    "GitHub\n",
    "Sample Input 1:\n",
    "\n",
    "6\n",
    "ivan-petrov@beegeek.bzz\n",
    "petr-ivanov@beegeek.bzz\n",
    "ivan-petrov1@beegeek.bzz\n",
    "ivan-ivanov@beegeek.bzz\n",
    "ivan-ivanov1@beegeek.bzz\n",
    "ivan-ivanov2@beegeek.bzz\n",
    "3\n",
    "ivan-ivanov\n",
    "petr-petrov\n",
    "petr-ivanov\n",
    "Sample Output 1:\n",
    "ivan-ivanov3@beegeek.bzz\n",
    "petr-petrov@beegeek.bzz\n",
    "petr-ivanov1@beegeek.bzz\n",
    "\n",
    "\n",
    "Sample Input 2:\n",
    "2\n",
    "timyr-guev2@beegeek.bzz\n",
    "anri-tabuev@beegeek.bzz\n",
    "3\n",
    "timyr-guev\n",
    "timyr-guev\n",
    "anri-tabuev\n",
    "Sample Output 2:\n",
    "timyr-guev@beegeek.bzz\n",
    "timyr-guev1@beegeek.bzz\n",
    "anri-tabuev1@beegeek.bzz\n",
    "\n",
    "\n",
    "2\n",
    "anri-tabuev1@beegeek.bzz\n",
    "arthur-kharisov3@beegeek.bzz\n",
    "15\n",
    "anri-tabuev\n",
    "anri-tabuev\n",
    "arthur-kharisov\n",
    "arthur-kharisov\n",
    "arthur-kharisov\n",
    "arthur-kharisov\n",
    "arthur-kharisov\n",
    "arthur-kharisov\n",
    "arthur-kharisov\n",
    "arthur-kharisov\n",
    "arthur-kharisov\n",
    "arthur-kharisov\n",
    "arthur-kharisov\n",
    "arthur-kharisov\n",
    "arthur-kharisov"
   ]
  },
  {
   "cell_type": "code",
   "execution_count": 301,
   "id": "a21fb614-ffe0-47f9-8dae-e0b2d52fdf51",
   "metadata": {},
   "outputs": [
    {
     "name": "stdin",
     "output_type": "stream",
     "text": [
      " 2\n",
      " anri-tabuev1@beegeek.bzz\n",
      " arthur-kharisov3@beegeek.bzz\n"
     ]
    }
   ],
   "source": [
    "n = int(input())\n",
    "lst = [input().split('@')[0] for i in range(n)]"
   ]
  },
  {
   "cell_type": "code",
   "execution_count": 314,
   "id": "443123be-57b4-4aac-8fb5-537a2b7f0cfe",
   "metadata": {},
   "outputs": [
    {
     "data": {
      "text/plain": [
       "['anri-tabuev1', 'arthur-kharisov3']"
      ]
     },
     "execution_count": 314,
     "metadata": {},
     "output_type": "execute_result"
    }
   ],
   "source": [
    "# lst = ['ivan-petrov',\n",
    "#  'petr-ivanov',\n",
    "#  'ivan-petrov1',\n",
    "#  'ivan-ivanov',\n",
    "#  'ivan-ivanov1',\n",
    "#  'ivan-ivanov2']\n",
    "\n",
    "# lst = ['timyr-guev2', 'anri-tabuev']\n",
    "\n",
    "lst"
   ]
  },
  {
   "cell_type": "code",
   "execution_count": null,
   "id": "d35c61ef-f4f9-42ef-a836-80e81a83ea84",
   "metadata": {},
   "outputs": [],
   "source": []
  },
  {
   "cell_type": "code",
   "execution_count": 303,
   "id": "9fb028e5-f948-4fd8-b8fd-8f3e4d2bfc9c",
   "metadata": {},
   "outputs": [
    {
     "name": "stdin",
     "output_type": "stream",
     "text": [
      " 15\n",
      " anri-tabuev\n",
      " anri-tabuev\n",
      " arthur-kharisov\n",
      " arthur-kharisov\n",
      " arthur-kharisov\n",
      " arthur-kharisov\n",
      " arthur-kharisov\n",
      " arthur-kharisov\n",
      " arthur-kharisov\n",
      " arthur-kharisov\n",
      " arthur-kharisov\n",
      " arthur-kharisov\n",
      " arthur-kharisov\n",
      " arthur-kharisov\n",
      " arthur-kharisov\n"
     ]
    }
   ],
   "source": [
    "m = int(input())\n",
    "lst_1 = [input() for i in range(m)]"
   ]
  },
  {
   "cell_type": "code",
   "execution_count": 315,
   "id": "6a23b05f-afa4-43fb-aadd-f12057fe1139",
   "metadata": {},
   "outputs": [
    {
     "data": {
      "text/plain": [
       "['anri-tabuev',\n",
       " 'anri-tabuev',\n",
       " 'arthur-kharisov',\n",
       " 'arthur-kharisov',\n",
       " 'arthur-kharisov',\n",
       " 'arthur-kharisov',\n",
       " 'arthur-kharisov',\n",
       " 'arthur-kharisov',\n",
       " 'arthur-kharisov',\n",
       " 'arthur-kharisov',\n",
       " 'arthur-kharisov',\n",
       " 'arthur-kharisov',\n",
       " 'arthur-kharisov',\n",
       " 'arthur-kharisov',\n",
       " 'arthur-kharisov']"
      ]
     },
     "execution_count": 315,
     "metadata": {},
     "output_type": "execute_result"
    }
   ],
   "source": [
    "# lst_1 = ['ivan-ivanov', 'petr-petrov', 'petr-ivanov']\n",
    "\n",
    "# lst_1 = ['timyr-guev', 'timyr-guev', 'anri-tabuev']\n",
    "\n",
    "lst_1\n"
   ]
  },
  {
   "cell_type": "code",
   "execution_count": null,
   "id": "229fb8ec-1a80-4794-af42-6b07d30c2145",
   "metadata": {},
   "outputs": [],
   "source": []
  },
  {
   "cell_type": "code",
   "execution_count": 316,
   "id": "f3506e75-c122-431c-99f2-fda65c2330fc",
   "metadata": {},
   "outputs": [
    {
     "data": {
      "text/plain": [
       "['anri-tabuev1', 'arthur-kharisov3']"
      ]
     },
     "execution_count": 316,
     "metadata": {},
     "output_type": "execute_result"
    }
   ],
   "source": [
    "lst"
   ]
  },
  {
   "cell_type": "code",
   "execution_count": 317,
   "id": "dd2a5462-096d-4d48-a324-5bf2f85c4f6d",
   "metadata": {},
   "outputs": [
    {
     "data": {
      "text/plain": [
       "['anri-tabuev',\n",
       " 'anri-tabuev',\n",
       " 'arthur-kharisov',\n",
       " 'arthur-kharisov',\n",
       " 'arthur-kharisov',\n",
       " 'arthur-kharisov',\n",
       " 'arthur-kharisov',\n",
       " 'arthur-kharisov',\n",
       " 'arthur-kharisov',\n",
       " 'arthur-kharisov',\n",
       " 'arthur-kharisov',\n",
       " 'arthur-kharisov',\n",
       " 'arthur-kharisov',\n",
       " 'arthur-kharisov',\n",
       " 'arthur-kharisov']"
      ]
     },
     "execution_count": 317,
     "metadata": {},
     "output_type": "execute_result"
    }
   ],
   "source": [
    "lst_1"
   ]
  },
  {
   "cell_type": "code",
   "execution_count": 318,
   "id": "51682d22-741f-4687-90ee-70d74953903d",
   "metadata": {},
   "outputs": [],
   "source": [
    "d = {}\n",
    "for i in lst:\n",
    "    \n",
    "    if i[-1].isdigit():\n",
    "        d[i[:-1]] = []\n",
    "        \n",
    "    else:\n",
    "        d[i] = []     "
   ]
  },
  {
   "cell_type": "code",
   "execution_count": 319,
   "id": "d429f919-4354-48bb-bd21-30d6da46c616",
   "metadata": {},
   "outputs": [
    {
     "data": {
      "text/plain": [
       "{'anri-tabuev': [], 'arthur-kharisov': []}"
      ]
     },
     "execution_count": 319,
     "metadata": {},
     "output_type": "execute_result"
    }
   ],
   "source": [
    "d"
   ]
  },
  {
   "cell_type": "code",
   "execution_count": 320,
   "id": "6e779c68-c338-4196-bfd4-c7194858bd1c",
   "metadata": {},
   "outputs": [],
   "source": [
    "for i in lst:\n",
    "    if i[-1].isdigit():\n",
    "        d[i[:-1]] += [int(i[-1])]\n",
    "        \n",
    "    else:\n",
    "        d[i] += [0]    "
   ]
  },
  {
   "cell_type": "code",
   "execution_count": 321,
   "id": "310e0a3e-1e85-48d4-9deb-393bd928a8d6",
   "metadata": {},
   "outputs": [
    {
     "data": {
      "text/plain": [
       "{'anri-tabuev': [1], 'arthur-kharisov': [3]}"
      ]
     },
     "execution_count": 321,
     "metadata": {},
     "output_type": "execute_result"
    }
   ],
   "source": [
    "d"
   ]
  },
  {
   "cell_type": "code",
   "execution_count": 322,
   "id": "f4641cc3-a9ec-433c-acd8-9b9a461fdd2a",
   "metadata": {},
   "outputs": [
    {
     "data": {
      "text/plain": [
       "['anri-tabuev',\n",
       " 'anri-tabuev',\n",
       " 'arthur-kharisov',\n",
       " 'arthur-kharisov',\n",
       " 'arthur-kharisov',\n",
       " 'arthur-kharisov',\n",
       " 'arthur-kharisov',\n",
       " 'arthur-kharisov',\n",
       " 'arthur-kharisov',\n",
       " 'arthur-kharisov',\n",
       " 'arthur-kharisov',\n",
       " 'arthur-kharisov',\n",
       " 'arthur-kharisov',\n",
       " 'arthur-kharisov',\n",
       " 'arthur-kharisov']"
      ]
     },
     "execution_count": 322,
     "metadata": {},
     "output_type": "execute_result"
    }
   ],
   "source": [
    "lst_1"
   ]
  },
  {
   "cell_type": "code",
   "execution_count": 323,
   "id": "222485c7-94d9-41db-b7fe-c5c93cb5752f",
   "metadata": {},
   "outputs": [
    {
     "name": "stdout",
     "output_type": "stream",
     "text": [
      "anri-tabuev 0\n",
      "anri-tabuev 2\n",
      "arthur-kharisov 0\n",
      "arthur-kharisov 1\n",
      "arthur-kharisov 2\n",
      "arthur-kharisov 4\n",
      "arthur-kharisov 5\n",
      "arthur-kharisov 6\n",
      "arthur-kharisov 7\n",
      "arthur-kharisov 8\n",
      "arthur-kharisov 9\n",
      "arthur-kharisov 10\n",
      "arthur-kharisov 11\n",
      "arthur-kharisov 12\n",
      "arthur-kharisov 13\n"
     ]
    }
   ],
   "source": [
    "res = []\n",
    "for k,w in d.items():\n",
    "    for i in lst_1:\n",
    "        if i in k:\n",
    "            for j in range(16):\n",
    "                if j not in w:\n",
    "                    w.append(j)\n",
    "                    print(i, j)\n",
    "                    res.append(i+str(j))\n",
    "                    break\n",
    "\n",
    "        \n",
    "        "
   ]
  },
  {
   "cell_type": "code",
   "execution_count": 324,
   "id": "5e8cf1f9-3b42-4f6b-9c94-a20123441881",
   "metadata": {},
   "outputs": [
    {
     "data": {
      "text/plain": [
       "{'anri-tabuev': [1, 0, 2],\n",
       " 'arthur-kharisov': [3, 0, 1, 2, 4, 5, 6, 7, 8, 9, 10, 11, 12, 13]}"
      ]
     },
     "execution_count": 324,
     "metadata": {},
     "output_type": "execute_result"
    }
   ],
   "source": [
    "d"
   ]
  },
  {
   "cell_type": "code",
   "execution_count": 325,
   "id": "b1d94d70-dfd9-47bf-a8b8-57cd8e809386",
   "metadata": {},
   "outputs": [
    {
     "data": {
      "text/plain": [
       "['anri-tabuev0',\n",
       " 'anri-tabuev2',\n",
       " 'arthur-kharisov0',\n",
       " 'arthur-kharisov1',\n",
       " 'arthur-kharisov2',\n",
       " 'arthur-kharisov4',\n",
       " 'arthur-kharisov5',\n",
       " 'arthur-kharisov6',\n",
       " 'arthur-kharisov7',\n",
       " 'arthur-kharisov8',\n",
       " 'arthur-kharisov9',\n",
       " 'arthur-kharisov10',\n",
       " 'arthur-kharisov11',\n",
       " 'arthur-kharisov12',\n",
       " 'arthur-kharisov13']"
      ]
     },
     "execution_count": 325,
     "metadata": {},
     "output_type": "execute_result"
    }
   ],
   "source": [
    "res"
   ]
  },
  {
   "cell_type": "code",
   "execution_count": 326,
   "id": "d15bd394-80af-4a44-bef1-97c7e0a6fec6",
   "metadata": {},
   "outputs": [],
   "source": [
    "for i in lst_1:\n",
    "    if i not in d:\n",
    "        res.append(i + str(0))"
   ]
  },
  {
   "cell_type": "code",
   "execution_count": 327,
   "id": "140731f3-af59-4f97-ac24-5780de0b5bf3",
   "metadata": {},
   "outputs": [
    {
     "data": {
      "text/plain": [
       "['anri-tabuev0',\n",
       " 'anri-tabuev2',\n",
       " 'arthur-kharisov0',\n",
       " 'arthur-kharisov1',\n",
       " 'arthur-kharisov2',\n",
       " 'arthur-kharisov4',\n",
       " 'arthur-kharisov5',\n",
       " 'arthur-kharisov6',\n",
       " 'arthur-kharisov7',\n",
       " 'arthur-kharisov8',\n",
       " 'arthur-kharisov9',\n",
       " 'arthur-kharisov10',\n",
       " 'arthur-kharisov11',\n",
       " 'arthur-kharisov12',\n",
       " 'arthur-kharisov13']"
      ]
     },
     "execution_count": 327,
     "metadata": {},
     "output_type": "execute_result"
    }
   ],
   "source": [
    "res"
   ]
  },
  {
   "cell_type": "code",
   "execution_count": 328,
   "id": "55034303-54fa-4d6b-99c4-c3002df96127",
   "metadata": {},
   "outputs": [],
   "source": [
    "answer = []\n",
    "for i in res:\n",
    "    if i[-1] == '0':\n",
    "        answer.append(i[:-1] + '@beegeek.bzz')\n",
    "    else:\n",
    "        answer.append(i + '@beegeek.bzz')\n",
    "        "
   ]
  },
  {
   "cell_type": "code",
   "execution_count": null,
   "id": "444042fe-c95c-4ad1-a5b6-9b1d82e648b0",
   "metadata": {},
   "outputs": [],
   "source": []
  },
  {
   "cell_type": "code",
   "execution_count": null,
   "id": "31aada6c-eed2-414e-bce9-b970f3a31136",
   "metadata": {},
   "outputs": [],
   "source": []
  },
  {
   "cell_type": "code",
   "execution_count": 329,
   "id": "58d7f955-744a-4402-ab44-c0b395d087a4",
   "metadata": {},
   "outputs": [
    {
     "data": {
      "text/plain": [
       "['anri-tabuev',\n",
       " 'anri-tabuev',\n",
       " 'arthur-kharisov',\n",
       " 'arthur-kharisov',\n",
       " 'arthur-kharisov',\n",
       " 'arthur-kharisov',\n",
       " 'arthur-kharisov',\n",
       " 'arthur-kharisov',\n",
       " 'arthur-kharisov',\n",
       " 'arthur-kharisov',\n",
       " 'arthur-kharisov',\n",
       " 'arthur-kharisov',\n",
       " 'arthur-kharisov',\n",
       " 'arthur-kharisov',\n",
       " 'arthur-kharisov']"
      ]
     },
     "execution_count": 329,
     "metadata": {},
     "output_type": "execute_result"
    }
   ],
   "source": [
    "lst_1"
   ]
  },
  {
   "cell_type": "code",
   "execution_count": 335,
   "id": "e0e81a91-dd04-4eee-86b2-f4f205a6b038",
   "metadata": {},
   "outputs": [
    {
     "data": {
      "text/plain": [
       "['anri-tabuev0',\n",
       " 'anri-tabuev2',\n",
       " 'arthur-kharisov0',\n",
       " 'arthur-kharisov1',\n",
       " 'arthur-kharisov2',\n",
       " 'arthur-kharisov4',\n",
       " 'arthur-kharisov5',\n",
       " 'arthur-kharisov6',\n",
       " 'arthur-kharisov7',\n",
       " 'arthur-kharisov8',\n",
       " 'arthur-kharisov9',\n",
       " 'arthur-kharisov10',\n",
       " 'arthur-kharisov11',\n",
       " 'arthur-kharisov12',\n",
       " 'arthur-kharisov13']"
      ]
     },
     "execution_count": 335,
     "metadata": {},
     "output_type": "execute_result"
    }
   ],
   "source": [
    "res"
   ]
  },
  {
   "cell_type": "code",
   "execution_count": 339,
   "id": "faa44c76-43f5-4bef-b214-23c97428f0b3",
   "metadata": {},
   "outputs": [],
   "source": [
    "answer_1 = []\n",
    "\n",
    "for i in range(len(lst_1)):\n",
    "    for j in range(len(res)):\n",
    "        if res[j][:-1] == lst_1[i] and res[j].rstrip('0') + '@beegeek.bzz' not in answer_1:\n",
    "            answer_1.append(res[j].rstrip('0') + '@beegeek.bzz')\n",
    "        elif res[j][:-2] == lst_1[i] and res[j] + '@beegeek.bzz' not in answer_1:\n",
    "            answer_1.append(res[j] + '@beegeek.bzz')\n"
   ]
  },
  {
   "cell_type": "code",
   "execution_count": 340,
   "id": "29c329a6-edd5-408d-bbe9-f3216b56f15d",
   "metadata": {},
   "outputs": [
    {
     "data": {
      "text/plain": [
       "['anri-tabuev@beegeek.bzz',\n",
       " 'anri-tabuev2@beegeek.bzz',\n",
       " 'arthur-kharisov@beegeek.bzz',\n",
       " 'arthur-kharisov1@beegeek.bzz',\n",
       " 'arthur-kharisov2@beegeek.bzz',\n",
       " 'arthur-kharisov4@beegeek.bzz',\n",
       " 'arthur-kharisov5@beegeek.bzz',\n",
       " 'arthur-kharisov6@beegeek.bzz',\n",
       " 'arthur-kharisov7@beegeek.bzz',\n",
       " 'arthur-kharisov8@beegeek.bzz',\n",
       " 'arthur-kharisov9@beegeek.bzz',\n",
       " 'arthur-kharisov10@beegeek.bzz',\n",
       " 'arthur-kharisov11@beegeek.bzz',\n",
       " 'arthur-kharisov12@beegeek.bzz',\n",
       " 'arthur-kharisov13@beegeek.bzz']"
      ]
     },
     "execution_count": 340,
     "metadata": {},
     "output_type": "execute_result"
    }
   ],
   "source": [
    "answer_1"
   ]
  },
  {
   "cell_type": "code",
   "execution_count": 341,
   "id": "12a2aeb2-fc3c-49a0-a1c9-dccf1f8193f3",
   "metadata": {},
   "outputs": [
    {
     "name": "stdout",
     "output_type": "stream",
     "text": [
      "anri-tabuev@beegeek.bzz\n",
      "anri-tabuev2@beegeek.bzz\n",
      "arthur-kharisov@beegeek.bzz\n",
      "arthur-kharisov1@beegeek.bzz\n",
      "arthur-kharisov2@beegeek.bzz\n",
      "arthur-kharisov4@beegeek.bzz\n",
      "arthur-kharisov5@beegeek.bzz\n",
      "arthur-kharisov6@beegeek.bzz\n",
      "arthur-kharisov7@beegeek.bzz\n",
      "arthur-kharisov8@beegeek.bzz\n",
      "arthur-kharisov9@beegeek.bzz\n",
      "arthur-kharisov10@beegeek.bzz\n",
      "arthur-kharisov11@beegeek.bzz\n",
      "arthur-kharisov12@beegeek.bzz\n",
      "arthur-kharisov13@beegeek.bzz\n"
     ]
    }
   ],
   "source": [
    "print(*answer_1, sep = '\\n')"
   ]
  },
  {
   "cell_type": "code",
   "execution_count": null,
   "id": "15216f16-749e-4125-b009-5d2c72a6fe37",
   "metadata": {},
   "outputs": [],
   "source": []
  },
  {
   "cell_type": "code",
   "execution_count": null,
   "id": "6fcfbdbd-07d0-485c-84ea-45fdf8f93c0e",
   "metadata": {},
   "outputs": [],
   "source": []
  },
  {
   "cell_type": "code",
   "execution_count": null,
   "id": "07622e9f-1ea8-465b-8300-6cc307b32834",
   "metadata": {},
   "outputs": [],
   "source": []
  },
  {
   "cell_type": "code",
   "execution_count": null,
   "id": "cbdb9409-bf23-41c7-b31e-5965e5a0e25b",
   "metadata": {},
   "outputs": [],
   "source": []
  },
  {
   "cell_type": "code",
   "execution_count": null,
   "id": "a7594627-55dc-44d4-9493-0446df88a3dd",
   "metadata": {},
   "outputs": [],
   "source": []
  },
  {
   "cell_type": "code",
   "execution_count": null,
   "id": "e18c3700-cc3f-4564-9146-4db477ae3c83",
   "metadata": {},
   "outputs": [],
   "source": []
  },
  {
   "cell_type": "code",
   "execution_count": null,
   "id": "2b6398bb-4e11-42b8-9153-a67351c95936",
   "metadata": {},
   "outputs": [],
   "source": []
  }
 ],
 "metadata": {
  "kernelspec": {
   "display_name": "Python 3 (ipykernel)",
   "language": "python",
   "name": "python3"
  },
  "language_info": {
   "codemirror_mode": {
    "name": "ipython",
    "version": 3
   },
   "file_extension": ".py",
   "mimetype": "text/x-python",
   "name": "python",
   "nbconvert_exporter": "python",
   "pygments_lexer": "ipython3",
   "version": "3.12.3"
  }
 },
 "nbformat": 4,
 "nbformat_minor": 5
}
