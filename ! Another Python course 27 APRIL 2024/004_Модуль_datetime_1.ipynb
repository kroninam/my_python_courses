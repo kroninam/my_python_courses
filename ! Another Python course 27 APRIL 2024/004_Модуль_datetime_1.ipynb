{
 "cells": [
  {
   "cell_type": "code",
   "execution_count": 4,
   "id": "c93f346a-be3d-4f47-891f-de6992e1b614",
   "metadata": {},
   "outputs": [],
   "source": [
    "import datetime"
   ]
  },
  {
   "cell_type": "code",
   "execution_count": 7,
   "id": "46d84732-6d45-419e-b77f-17e6ca240995",
   "metadata": {},
   "outputs": [
    {
     "name": "stdout",
     "output_type": "stream",
     "text": [
      "9999\n",
      "1\n"
     ]
    }
   ],
   "source": [
    "print(datetime.MAXYEAR)\n",
    "print(datetime.MINYEAR)"
   ]
  },
  {
   "cell_type": "code",
   "execution_count": null,
   "id": "b4d71dc8-8148-4f12-8a3c-37528f16f896",
   "metadata": {},
   "outputs": [],
   "source": []
  },
  {
   "cell_type": "markdown",
   "id": "d825dbed-7408-4644-a888-cc72e15a1e75",
   "metadata": {},
   "source": [
    "# Задача №1"
   ]
  },
  {
   "cell_type": "code",
   "execution_count": null,
   "id": "2de2352b-737b-436e-945b-edfa93f93436",
   "metadata": {},
   "outputs": [],
   "source": [
    "Вам доступен список dates, содержащий даты. Дополните приведенный ниже код, чтобы он вывел год и номер \n",
    "квартала каждой даты из данного списка. Компоненты дат должны быть расположены в исходном порядке, каждые\n",
    "на отдельной строке, в следующем формате:\n",
    "\n",
    "<год>-Q<номер квартала>\n",
    "Примечание 1. Продолжительность кварталов:\n",
    "\n",
    "1\n",
    "1 квартал\tянварь, февраль, март\n",
    "2\n",
    "2 квартал\tапрель, май, июнь\n",
    "3\n",
    "3 квартал\tиюль, август, сентябрь\n",
    "4\n",
    "4 квартал\tоктябрь, ноябрь, декабрь\n",
    "Примечание 2. Начальная часть ответа выглядит так:\n",
    "\n",
    "2010-Q3\n",
    "2017-Q1\n",
    "..."
   ]
  },
  {
   "cell_type": "code",
   "execution_count": 9,
   "id": "8a7e2db2-4ff9-4d0b-b5cf-2acd0ab29cca",
   "metadata": {},
   "outputs": [],
   "source": [
    "from datetime import date\n",
    "\n",
    "dates = [date(2010, 9, 28), date(2017, 1, 13), date(2009, 12, 25),\n",
    "         date(2010, 2, 27), date(2021, 10, 11), date(2020, 3, 13),\n",
    "         date(2000, 7, 7), date(1999, 4, 14), date(1789, 11, 19),\n",
    "         date(2013, 8, 21), date(1666, 6, 6), date(1968, 5, 26)]"
   ]
  },
  {
   "cell_type": "code",
   "execution_count": 24,
   "id": "c5316b39-5915-4627-97e1-7b75143c9fef",
   "metadata": {},
   "outputs": [
    {
     "name": "stdout",
     "output_type": "stream",
     "text": [
      "2010-Q3\n",
      "2017-Q1\n",
      "2009-Q4\n",
      "2010-Q1\n",
      "2021-Q4\n",
      "2020-Q1\n",
      "2000-Q3\n",
      "1999-Q2\n",
      "1789-Q4\n",
      "2013-Q3\n",
      "1666-Q2\n",
      "1968-Q2\n"
     ]
    }
   ],
   "source": [
    "for i in dates:\n",
    "    q = 'Q1' if i.month < 4 else 'Q2' if  i.month < 7 else 'Q3' if  i.month < 10 else 'Q4'\n",
    "    \n",
    "    print(f'{i.year}-{q}')\n",
    "    "
   ]
  },
  {
   "cell_type": "code",
   "execution_count": null,
   "id": "471a4a0d-101a-4ab0-b302-d27cda0faf12",
   "metadata": {},
   "outputs": [],
   "source": []
  },
  {
   "cell_type": "code",
   "execution_count": null,
   "id": "9f2fb8f5-fe75-449d-b6fd-87caede9a0bf",
   "metadata": {},
   "outputs": [],
   "source": []
  },
  {
   "cell_type": "code",
   "execution_count": null,
   "id": "21bde1e7-700a-4795-9878-ed9a021ec3ea",
   "metadata": {},
   "outputs": [],
   "source": []
  },
  {
   "cell_type": "code",
   "execution_count": null,
   "id": "f88e7e4f-853e-41fe-8e10-3b78202e9915",
   "metadata": {},
   "outputs": [],
   "source": []
  },
  {
   "cell_type": "code",
   "execution_count": null,
   "id": "d8b49f34-b61a-414d-b965-386fb646f519",
   "metadata": {},
   "outputs": [],
   "source": []
  },
  {
   "cell_type": "code",
   "execution_count": null,
   "id": "66dae561-dbff-401f-8336-15beac714edb",
   "metadata": {},
   "outputs": [],
   "source": []
  },
  {
   "cell_type": "code",
   "execution_count": null,
   "id": "961f8db6-4ee2-46aa-9cb3-f9cb1fa47d15",
   "metadata": {},
   "outputs": [],
   "source": []
  },
  {
   "cell_type": "code",
   "execution_count": null,
   "id": "be5e4898-fcfb-4e5d-93bf-5356addfdedf",
   "metadata": {},
   "outputs": [],
   "source": []
  },
  {
   "cell_type": "code",
   "execution_count": null,
   "id": "e5316dc4-1409-42e8-97dc-6e40fa51c02e",
   "metadata": {},
   "outputs": [],
   "source": []
  },
  {
   "cell_type": "code",
   "execution_count": null,
   "id": "8c3f37de-e70e-4f87-8511-bfb7e7fe14c0",
   "metadata": {},
   "outputs": [],
   "source": []
  },
  {
   "cell_type": "code",
   "execution_count": null,
   "id": "e24eeb12-ae0e-4729-a80a-16b1094be8b5",
   "metadata": {},
   "outputs": [],
   "source": []
  },
  {
   "cell_type": "code",
   "execution_count": null,
   "id": "a7217321-96dc-45b9-a2da-9ac5fef55b7c",
   "metadata": {},
   "outputs": [],
   "source": []
  }
 ],
 "metadata": {
  "kernelspec": {
   "display_name": "Python 3 (ipykernel)",
   "language": "python",
   "name": "python3"
  },
  "language_info": {
   "codemirror_mode": {
    "name": "ipython",
    "version": 3
   },
   "file_extension": ".py",
   "mimetype": "text/x-python",
   "name": "python",
   "nbconvert_exporter": "python",
   "pygments_lexer": "ipython3",
   "version": "3.12.3"
  }
 },
 "nbformat": 4,
 "nbformat_minor": 5
}
