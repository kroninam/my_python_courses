{
 "cells": [
  {
   "cell_type": "code",
   "execution_count": 4,
   "id": "c93f346a-be3d-4f47-891f-de6992e1b614",
   "metadata": {},
   "outputs": [],
   "source": [
    "import datetime"
   ]
  },
  {
   "cell_type": "code",
   "execution_count": 7,
   "id": "46d84732-6d45-419e-b77f-17e6ca240995",
   "metadata": {},
   "outputs": [
    {
     "name": "stdout",
     "output_type": "stream",
     "text": [
      "9999\n",
      "1\n"
     ]
    }
   ],
   "source": [
    "print(datetime.MAXYEAR)\n",
    "print(datetime.MINYEAR)"
   ]
  },
  {
   "cell_type": "code",
   "execution_count": null,
   "id": "b4d71dc8-8148-4f12-8a3c-37528f16f896",
   "metadata": {},
   "outputs": [],
   "source": []
  },
  {
   "cell_type": "markdown",
   "id": "d825dbed-7408-4644-a888-cc72e15a1e75",
   "metadata": {},
   "source": [
    "# Задача №1"
   ]
  },
  {
   "cell_type": "code",
   "execution_count": null,
   "id": "2de2352b-737b-436e-945b-edfa93f93436",
   "metadata": {},
   "outputs": [],
   "source": [
    "Вам доступен список dates, содержащий даты. Дополните приведенный ниже код, чтобы он вывел год и номер \n",
    "квартала каждой даты из данного списка. Компоненты дат должны быть расположены в исходном порядке, каждые\n",
    "на отдельной строке, в следующем формате:\n",
    "\n",
    "<год>-Q<номер квартала>\n",
    "Примечание 1. Продолжительность кварталов:\n",
    "\n",
    "1\n",
    "1 квартал\tянварь, февраль, март\n",
    "2\n",
    "2 квартал\tапрель, май, июнь\n",
    "3\n",
    "3 квартал\tиюль, август, сентябрь\n",
    "4\n",
    "4 квартал\tоктябрь, ноябрь, декабрь\n",
    "Примечание 2. Начальная часть ответа выглядит так:\n",
    "\n",
    "2010-Q3\n",
    "2017-Q1\n",
    "..."
   ]
  },
  {
   "cell_type": "code",
   "execution_count": 9,
   "id": "8a7e2db2-4ff9-4d0b-b5cf-2acd0ab29cca",
   "metadata": {},
   "outputs": [],
   "source": [
    "from datetime import date\n",
    "\n",
    "dates = [date(2010, 9, 28), date(2017, 1, 13), date(2009, 12, 25),\n",
    "         date(2010, 2, 27), date(2021, 10, 11), date(2020, 3, 13),\n",
    "         date(2000, 7, 7), date(1999, 4, 14), date(1789, 11, 19),\n",
    "         date(2013, 8, 21), date(1666, 6, 6), date(1968, 5, 26)]"
   ]
  },
  {
   "cell_type": "code",
   "execution_count": 24,
   "id": "c5316b39-5915-4627-97e1-7b75143c9fef",
   "metadata": {},
   "outputs": [
    {
     "name": "stdout",
     "output_type": "stream",
     "text": [
      "2010-Q3\n",
      "2017-Q1\n",
      "2009-Q4\n",
      "2010-Q1\n",
      "2021-Q4\n",
      "2020-Q1\n",
      "2000-Q3\n",
      "1999-Q2\n",
      "1789-Q4\n",
      "2013-Q3\n",
      "1666-Q2\n",
      "1968-Q2\n"
     ]
    }
   ],
   "source": [
    "for i in dates:\n",
    "    q = 'Q1' if i.month < 4 else 'Q2' if  i.month < 7 else 'Q3' if  i.month < 10 else 'Q4'\n",
    "    \n",
    "    print(f'{i.year}-{q}')\n",
    "    "
   ]
  },
  {
   "cell_type": "code",
   "execution_count": null,
   "id": "471a4a0d-101a-4ab0-b302-d27cda0faf12",
   "metadata": {},
   "outputs": [],
   "source": []
  },
  {
   "cell_type": "markdown",
   "id": "75a74754-a5d6-4c14-b5bd-8d5be1f061fc",
   "metadata": {},
   "source": [
    "# Задача №2"
   ]
  },
  {
   "cell_type": "code",
   "execution_count": 15,
   "id": "21bde1e7-700a-4795-9878-ed9a021ec3ea",
   "metadata": {},
   "outputs": [],
   "source": [
    "# Функция get_date_range()\n",
    "# Реализуйте функцию get_date_range(), которая принимает два аргумента в следующем порядке:\n",
    "\n",
    "# start — начальная дата, тип date\n",
    "# end — конечная дата, тип date\n",
    "# Функция get_date_range() должна возвращать список, состоящий из дат (тип date) \n",
    "# от start до end включительно. Если start > end, функция должна вернуть пустой список.\n",
    "\n",
    "date1 = date(2021, 10, 1)\n",
    "date2 = date(2021, 10, 5)"
   ]
  },
  {
   "cell_type": "code",
   "execution_count": 18,
   "id": "074571ae-304f-42c9-94b8-df9bd2ddd088",
   "metadata": {},
   "outputs": [
    {
     "data": {
      "text/plain": [
       "738064"
      ]
     },
     "execution_count": 18,
     "metadata": {},
     "output_type": "execute_result"
    }
   ],
   "source": [
    "date1.toordinal()"
   ]
  },
  {
   "cell_type": "code",
   "execution_count": null,
   "id": "1424d1e6-51a8-4c11-8c31-072afb8e53d7",
   "metadata": {},
   "outputs": [],
   "source": []
  },
  {
   "cell_type": "code",
   "execution_count": 39,
   "id": "f88e7e4f-853e-41fe-8e10-3b78202e9915",
   "metadata": {},
   "outputs": [],
   "source": [
    "from datetime import date\n",
    "\n",
    "def get_date_range(start, end):\n",
    "    if start > end:\n",
    "        return []\n",
    "    elif start == end:\n",
    "        return [start]\n",
    "    else:\n",
    "        lst = [start]\n",
    "        ranger = end.toordinal() - start.toordinal()\n",
    "        for i in range(1, ranger+1):\n",
    "            nxt = start.toordinal() + i\n",
    "            lst.append(date.fromordinal(nxt))\n",
    "        return lst"
   ]
  },
  {
   "cell_type": "code",
   "execution_count": null,
   "id": "d8b49f34-b61a-414d-b965-386fb646f519",
   "metadata": {},
   "outputs": [],
   "source": []
  },
  {
   "cell_type": "code",
   "execution_count": 40,
   "id": "e5316dc4-1409-42e8-97dc-6e40fa51c02e",
   "metadata": {},
   "outputs": [
    {
     "name": "stdout",
     "output_type": "stream",
     "text": [
      "2021-10-01\n",
      "2021-10-02\n",
      "2021-10-03\n",
      "2021-10-04\n",
      "2021-10-05\n"
     ]
    }
   ],
   "source": [
    "date1 = date(2021, 10, 1)\n",
    "date2 = date(2021, 10, 5)\n",
    "\n",
    "print(*get_date_range(date1, date2), sep='\\n')"
   ]
  },
  {
   "cell_type": "code",
   "execution_count": null,
   "id": "8c3f37de-e70e-4f87-8511-bfb7e7fe14c0",
   "metadata": {},
   "outputs": [],
   "source": []
  },
  {
   "cell_type": "markdown",
   "id": "1c7443bc-aff0-4579-962e-a6b51b0bdf8b",
   "metadata": {},
   "source": [
    "# Задача №2"
   ]
  },
  {
   "cell_type": "code",
   "execution_count": null,
   "id": "a7217321-96dc-45b9-a2da-9ac5fef55b7c",
   "metadata": {},
   "outputs": [],
   "source": [
    "Функция saturdays_between_two_dates()\n",
    "Реализуйте функцию saturdays_between_two_dates(), которая принимает два аргумента в следующем порядке:\n",
    "\n",
    "start — начальная дата, тип date\n",
    "end — конечная дата, тип date\n",
    "Функция должна возвращать количество суббот между датами start и end включительно.\n",
    "\n",
    "Примечание 1. Даты могут передаваться в любом порядке, то есть не гарантируется, что первая дата меньше второй.\n",
    "\n",
    "Примечание 2. В тестирующую систему сдайте программу, содержащую только необходимую функцию \n",
    "saturdays_between_two_dates(), но не код, вызывающий ее.\n",
    "\n",
    "Примечание 3. Тестовые данные доступны по ссылкам:\n",
    "\n",
    "Архив с тестами\n",
    "GitHub\n",
    "Sample Input 1:\n",
    "date1 = date(2021, 11, 1)\n",
    "date2 = date(2021, 11, 22)\n",
    "print(saturdays_between_two_dates(date1, date2))\n",
    "Sample Output 1:\n",
    "3\n",
    "\n",
    "Sample Input 2:\n",
    "date1 = date(2020, 7, 26)\n",
    "date2 = date(2020, 7, 2)\n",
    "print(saturdays_between_two_dates(date1, date2))\n",
    "Sample Output 2:\n",
    "4\n",
    "\n",
    "Sample Input 3:\n",
    "date1 = date(2018, 7, 13)\n",
    "date2 = date(2018, 7, 13)\n",
    "print(saturdays_between_two_dates(date1, date2))\n",
    "Sample Output 3:\n",
    "0"
   ]
  },
  {
   "cell_type": "code",
   "execution_count": 44,
   "id": "38129c78-2e38-4c51-9f28-e86bfa7b365e",
   "metadata": {},
   "outputs": [],
   "source": [
    "from datetime import date\n",
    "def saturdays_between_two_dates(start, end):\n",
    "    ranger = sorted([start, end])\n",
    "\n",
    "    count_saturdays = 0\n",
    "    for i in range(ranger[1].toordinal() - ranger[0].toordinal() + 1):\n",
    "        day_num = ranger[0].toordinal() + i\n",
    "        day_date = date.fromordinal(day_num)\n",
    "        weekday_date = day_date.weekday()\n",
    "        if weekday_date == 5:\n",
    "            count_saturdays += 1\n",
    "\n",
    "\n",
    "    return count_saturdays\n",
    "    "
   ]
  },
  {
   "cell_type": "code",
   "execution_count": 45,
   "id": "23bd211f-f179-405a-8251-79476f72991e",
   "metadata": {},
   "outputs": [],
   "source": [
    "date1 = date(2021, 11, 1)"
   ]
  },
  {
   "cell_type": "code",
   "execution_count": 46,
   "id": "3fa620c7-99fa-4a11-8525-5ce797f980d1",
   "metadata": {},
   "outputs": [
    {
     "data": {
      "text/plain": [
       "0"
      ]
     },
     "execution_count": 46,
     "metadata": {},
     "output_type": "execute_result"
    }
   ],
   "source": [
    "# суббота - это номер 5\n",
    "\n",
    "date1.weekday()"
   ]
  },
  {
   "cell_type": "code",
   "execution_count": 47,
   "id": "e8e23aee-a865-4b9f-8d31-d189bf9b6ada",
   "metadata": {},
   "outputs": [
    {
     "data": {
      "text/plain": [
       "738095"
      ]
     },
     "execution_count": 47,
     "metadata": {},
     "output_type": "execute_result"
    }
   ],
   "source": [
    "date1.toordinal()"
   ]
  },
  {
   "cell_type": "code",
   "execution_count": 48,
   "id": "108bd388-1f49-473e-a2ec-98aa50aea318",
   "metadata": {},
   "outputs": [
    {
     "name": "stdout",
     "output_type": "stream",
     "text": [
      "3\n"
     ]
    }
   ],
   "source": [
    "date1 = date(2021, 11, 1)\n",
    "date2 = date(2021, 11, 22)\n",
    "print(saturdays_between_two_dates(date1, date2))"
   ]
  },
  {
   "cell_type": "code",
   "execution_count": 49,
   "id": "70807fe1-bfb0-4bd7-a95a-f348ae37c8cd",
   "metadata": {},
   "outputs": [
    {
     "name": "stdout",
     "output_type": "stream",
     "text": [
      "4\n"
     ]
    }
   ],
   "source": [
    "date1 = date(2020, 7, 26)\n",
    "date2 = date(2020, 7, 2)\n",
    "print(saturdays_between_two_dates(date1, date2))"
   ]
  },
  {
   "cell_type": "code",
   "execution_count": 50,
   "id": "3dbac719-71cf-4991-ae4b-b3b01834f7f2",
   "metadata": {},
   "outputs": [
    {
     "name": "stdout",
     "output_type": "stream",
     "text": [
      "0\n"
     ]
    }
   ],
   "source": [
    "date1 = date(2018, 7, 13)\n",
    "date2 = date(2018, 7, 13)\n",
    "print(saturdays_between_two_dates(date1, date2))"
   ]
  },
  {
   "cell_type": "code",
   "execution_count": 51,
   "id": "dacd6780-5a66-4b9b-b153-ba57b344fb1d",
   "metadata": {},
   "outputs": [
    {
     "name": "stdout",
     "output_type": "stream",
     "text": [
      "1\n"
     ]
    }
   ],
   "source": [
    "date1 = date(2021, 11, 1)\n",
    "date2 = date(2021, 11, 6)\n",
    "print(saturdays_between_two_dates(date1, date2))\n"
   ]
  },
  {
   "cell_type": "code",
   "execution_count": 52,
   "id": "abe15309-b460-4c04-a0d5-944892f77567",
   "metadata": {},
   "outputs": [
    {
     "data": {
      "text/plain": [
       "5"
      ]
     },
     "execution_count": 52,
     "metadata": {},
     "output_type": "execute_result"
    }
   ],
   "source": [
    "date(2021, 11, 6).weekday()"
   ]
  },
  {
   "cell_type": "code",
   "execution_count": null,
   "id": "dc77a365-0046-4854-bf39-fa6f756a064d",
   "metadata": {},
   "outputs": [],
   "source": []
  },
  {
   "cell_type": "code",
   "execution_count": null,
   "id": "0f5865ab-dc47-48aa-a731-40b52b8999a3",
   "metadata": {},
   "outputs": [],
   "source": []
  },
  {
   "cell_type": "code",
   "execution_count": null,
   "id": "fae07de3-8f17-4843-8a93-86ba38578231",
   "metadata": {},
   "outputs": [],
   "source": []
  },
  {
   "cell_type": "code",
   "execution_count": null,
   "id": "60195849-d510-45cd-a5c4-ea094bcb3a2f",
   "metadata": {},
   "outputs": [],
   "source": []
  },
  {
   "cell_type": "code",
   "execution_count": null,
   "id": "fd8b2b07-6fe9-4231-bea1-6cfee4a7c033",
   "metadata": {},
   "outputs": [],
   "source": []
  },
  {
   "cell_type": "code",
   "execution_count": null,
   "id": "dcae26e4-6b6b-4c9f-aae5-ae361066aed0",
   "metadata": {},
   "outputs": [],
   "source": []
  }
 ],
 "metadata": {
  "kernelspec": {
   "display_name": "Python 3 (ipykernel)",
   "language": "python",
   "name": "python3"
  },
  "language_info": {
   "codemirror_mode": {
    "name": "ipython",
    "version": 3
   },
   "file_extension": ".py",
   "mimetype": "text/x-python",
   "name": "python",
   "nbconvert_exporter": "python",
   "pygments_lexer": "ipython3",
   "version": "3.12.3"
  }
 },
 "nbformat": 4,
 "nbformat_minor": 5
}
