{
 "cells": [
  {
   "cell_type": "markdown",
   "id": "79f04915-06be-4458-b0d1-b3aee38afa36",
   "metadata": {},
   "source": [
    "# \"Поколение Python\": курс для профессионалов"
   ]
  },
  {
   "cell_type": "markdown",
   "id": "17614c94-5867-4845-ab4e-e6bad8c0371c",
   "metadata": {},
   "source": [
    "# 001_Повторение"
   ]
  },
  {
   "cell_type": "markdown",
   "id": "2b7b8c49-d6d8-4dec-99f4-6a815aa7c6cb",
   "metadata": {},
   "source": [
    "## Задача №1"
   ]
  },
  {
   "cell_type": "code",
   "execution_count": null,
   "id": "cbdcb793-ecb7-4bb9-8d8f-fee25ea182b1",
   "metadata": {},
   "outputs": [],
   "source": [
    "Функция same_parity()\n",
    "Реализуйте функцию same_parity(), которая принимает один аргумент:\n",
    "\n",
    "numbers — список целых чисел\n",
    "Функция должна возвращать новый список, элементами которого являются числа из списка numbers, \n",
    "имеющие ту же четность, что и первый элемент этого списка.\n",
    "\n",
    "Примечание 1. Числа в возвращаемом функцией списке должны располагаться в своем исходном порядке.\n",
    "\n",
    "Sample Input 1:\n",
    "\n",
    "print(same_parity([]))\n",
    "Sample Output 1:\n",
    "\n",
    "[]\n",
    "Sample Input 2:\n",
    "\n",
    "print(same_parity([6, 0, 67, -7, 10, -20]))\n",
    "Sample Output 2:\n",
    "\n",
    "[6, 0, 10, -20]\n",
    "Sample Input 3:\n",
    "\n",
    "print(same_parity([-7, 0, 67, -9, 70, -29, 90]))\n",
    "Sample Output 3:\n",
    "\n",
    "[-7, 67, -9, -29]"
   ]
  },
  {
   "cell_type": "code",
   "execution_count": 6,
   "id": "3fc7091e-54cd-4e8d-8815-305776cce975",
   "metadata": {},
   "outputs": [],
   "source": [
    "numbers = [6, 0, 67, -7, 10, -20]"
   ]
  },
  {
   "cell_type": "code",
   "execution_count": 9,
   "id": "f86eb327-c322-485d-8aca-9030f91b3702",
   "metadata": {},
   "outputs": [
    {
     "data": {
      "text/plain": [
       "[6, 0, None, None, 10, -20]"
      ]
     },
     "execution_count": 9,
     "metadata": {},
     "output_type": "execute_result"
    }
   ],
   "source": [
    "list(map(lambda x: x if x%2 == numbers[0]%2 else None, numbers))"
   ]
  },
  {
   "cell_type": "code",
   "execution_count": 16,
   "id": "d1c5fc05-4b5a-4d68-9755-b5c999f63296",
   "metadata": {},
   "outputs": [],
   "source": [
    "def same_parity(numbers):\n",
    "    lst = []\n",
    "    for i in list(map(lambda x: x if x%2 == numbers[0]%2 else None, numbers)):\n",
    "        if i or i == 0:\n",
    "            lst.append(i)\n",
    "    return lst"
   ]
  },
  {
   "cell_type": "code",
   "execution_count": 17,
   "id": "30b6958c-8808-4d8c-8d5c-c0ef9bf097e6",
   "metadata": {},
   "outputs": [
    {
     "name": "stdout",
     "output_type": "stream",
     "text": [
      "[]\n"
     ]
    }
   ],
   "source": [
    "print(same_parity([]))"
   ]
  },
  {
   "cell_type": "code",
   "execution_count": 18,
   "id": "136237bb-192c-4843-a0b3-e0e44f64dd5a",
   "metadata": {},
   "outputs": [
    {
     "name": "stdout",
     "output_type": "stream",
     "text": [
      "[6, 0, 10, -20]\n"
     ]
    }
   ],
   "source": [
    "print(same_parity([6, 0, 67, -7, 10, -20]))"
   ]
  },
  {
   "cell_type": "code",
   "execution_count": 19,
   "id": "0e93b179-a9e2-4c5d-afad-3e2c8f1f93d7",
   "metadata": {},
   "outputs": [
    {
     "name": "stdout",
     "output_type": "stream",
     "text": [
      "[-7, 67, -9, -29]\n"
     ]
    }
   ],
   "source": [
    "print(same_parity([-7, 0, 67, -9, 70, -29, 90]))"
   ]
  },
  {
   "cell_type": "code",
   "execution_count": 20,
   "id": "dd4086f9-a954-4e65-8899-be24a4946ae1",
   "metadata": {},
   "outputs": [],
   "source": [
    "# Just new line for git"
   ]
  },
  {
   "cell_type": "code",
   "execution_count": null,
   "id": "36a6b932-5c1b-48f2-b78c-080cacca8641",
   "metadata": {},
   "outputs": [],
   "source": []
  },
  {
   "cell_type": "code",
   "execution_count": null,
   "id": "49e2d773-d565-41be-a742-c712f6c78777",
   "metadata": {},
   "outputs": [],
   "source": []
  },
  {
   "cell_type": "code",
   "execution_count": null,
   "id": "54b0a8a6-b999-43d1-8752-a91fac0070c5",
   "metadata": {},
   "outputs": [],
   "source": []
  },
  {
   "cell_type": "code",
   "execution_count": null,
   "id": "0546a364-aa37-418a-b549-6855dd7ce2b8",
   "metadata": {},
   "outputs": [],
   "source": []
  }
 ],
 "metadata": {
  "kernelspec": {
   "display_name": "Python 3 (ipykernel)",
   "language": "python",
   "name": "python3"
  },
  "language_info": {
   "codemirror_mode": {
    "name": "ipython",
    "version": 3
   },
   "file_extension": ".py",
   "mimetype": "text/x-python",
   "name": "python",
   "nbconvert_exporter": "python",
   "pygments_lexer": "ipython3",
   "version": "3.12.3"
  }
 },
 "nbformat": 4,
 "nbformat_minor": 5
}
