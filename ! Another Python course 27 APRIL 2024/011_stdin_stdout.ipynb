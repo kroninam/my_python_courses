{
 "cells": [
  {
   "cell_type": "code",
   "execution_count": 2,
   "id": "bc2201ef-8199-45b5-a94c-5e4c9fd5da18",
   "metadata": {},
   "outputs": [],
   "source": [
    "import sys\n",
    "\n",
    "for line in sys.stdin:\n",
    "    print(line.strip('\\n'))\n",
    "    "
   ]
  },
  {
   "cell_type": "code",
   "execution_count": 5,
   "id": "b2ba330d-0721-448a-be44-8b570deeb0e2",
   "metadata": {},
   "outputs": [],
   "source": [
    "# ???"
   ]
  },
  {
   "cell_type": "code",
   "execution_count": null,
   "id": "b38beb85-9fd5-4e71-9a1f-edbfa5a52eb7",
   "metadata": {},
   "outputs": [],
   "source": []
  },
  {
   "cell_type": "markdown",
   "id": "30fecad2-a657-49ec-9e7b-ab69e846c4e2",
   "metadata": {},
   "source": [
    "# Читаем входные данные в одну строку"
   ]
  },
  {
   "cell_type": "code",
   "execution_count": 7,
   "id": "abf0dc3b-22c4-46c6-9912-5b3a7b51cb25",
   "metadata": {},
   "outputs": [],
   "source": [
    "# с помощью списочного выражения:\n",
    "\n",
    "import sys\n",
    "\n",
    "data = [line.strip() for line in sys.stdin]"
   ]
  },
  {
   "cell_type": "code",
   "execution_count": 8,
   "id": "29062837-a158-469a-917c-a85eb1ef9ec3",
   "metadata": {},
   "outputs": [
    {
     "data": {
      "text/plain": [
       "[]"
      ]
     },
     "execution_count": 8,
     "metadata": {},
     "output_type": "execute_result"
    }
   ],
   "source": [
    "data"
   ]
  },
  {
   "cell_type": "code",
   "execution_count": 10,
   "id": "ebf12d04-47b9-496f-9acb-4e7bc149d6ca",
   "metadata": {},
   "outputs": [
    {
     "data": {
      "text/plain": [
       "''"
      ]
     },
     "execution_count": 10,
     "metadata": {},
     "output_type": "execute_result"
    }
   ],
   "source": [
    "sys.stdin.readline()"
   ]
  },
  {
   "cell_type": "code",
   "execution_count": null,
   "id": "08972eff-5e28-4630-94d3-90536b7b362d",
   "metadata": {},
   "outputs": [],
   "source": []
  },
  {
   "cell_type": "code",
   "execution_count": 9,
   "id": "3b076210-0802-433f-a656-98da18d50251",
   "metadata": {},
   "outputs": [
    {
     "name": "stdout",
     "output_type": "stream",
     "text": [
      "Hello\n",
      "world!from\n",
      "python\n",
      "Bye-bye\n"
     ]
    }
   ],
   "source": [
    "import sys\n",
    "\n",
    "print('Hello')\n",
    "sys.stdout.write('world!')\n",
    "print('from')\n",
    "sys.stdout.write('python\\n')\n",
    "print('Bye-bye')"
   ]
  },
  {
   "cell_type": "code",
   "execution_count": 11,
   "id": "4b284569-82d9-44e5-b617-0b29ca419342",
   "metadata": {},
   "outputs": [
    {
     "name": "stdout",
     "output_type": "stream",
     "text": [
      "Bye-bye\n"
     ]
    }
   ],
   "source": [
    "print('Bye-bye')"
   ]
  },
  {
   "cell_type": "code",
   "execution_count": null,
   "id": "bfc0c5cb-42a6-460e-876e-a1aeed3ca224",
   "metadata": {},
   "outputs": [],
   "source": []
  },
  {
   "cell_type": "markdown",
   "id": "7a4a9388-1874-4cfb-ab98-87cb6e91e483",
   "metadata": {},
   "source": [
    "# Задача №1"
   ]
  },
  {
   "cell_type": "code",
   "execution_count": null,
   "id": "695c8b9e-be97-489d-95cd-a68ddbb7543c",
   "metadata": {},
   "outputs": [],
   "source": [
    "Обратный порядок\n",
    "Напишите программу, которая принимает произвольное количество строк и в каждой введенной \n",
    "строке располагает все символы в обратном порядке.\n",
    "\n",
    "Формат входных данных\n",
    "На вход программе подается произвольное количество строк.\n",
    "\n",
    "Формат выходных данных\n",
    "Программа должна вывести все введенные строки, предварительно расположив в каждой строке \n",
    "все символы в обратном порядке.\n",
    "\n",
    "Примечание 1. Порядок вывода строк должен совпадать с порядком их ввода.\n",
    "\n",
    "Примечание 2. Если на вход программе ничего не подается, то она ничего не должна выводить.\n",
    "\n",
    "\n",
    "Sample Input 1:\n",
    "\n",
    "Take all of my dreams\n",
    "Take off both your wings\n",
    "And set them on fire\n",
    "Set them on fire\n",
    "Sample Output 1:\n",
    "\n",
    "smaerd ym fo lla ekaT\n",
    "sgniw ruoy htob ffo ekaT\n",
    "erif no meht tes dnA\n",
    "erif no meht teS"
   ]
  },
  {
   "cell_type": "code",
   "execution_count": 16,
   "id": "939c37ef-dfb6-4161-a911-28eda5752209",
   "metadata": {},
   "outputs": [],
   "source": [
    "import sys\n",
    "\n",
    "for line in sys.stdin:\n",
    "    print(line.strip('\\n')[::-1])"
   ]
  },
  {
   "cell_type": "code",
   "execution_count": null,
   "id": "69b4c553-3681-4fc6-bd6e-7f55c965d824",
   "metadata": {},
   "outputs": [],
   "source": []
  },
  {
   "cell_type": "markdown",
   "id": "931c01c6-4449-4992-8810-ee486ffe3d35",
   "metadata": {},
   "source": [
    "# Задача №2"
   ]
  },
  {
   "cell_type": "code",
   "execution_count": null,
   "id": "9e4d7860-1a49-4637-88d0-3b9b12ea3e9e",
   "metadata": {},
   "outputs": [],
   "source": [
    "Размах данных\n",
    "Дана последовательность дат. Напишите программу, которая выводит количество дней между \n",
    "максимальной и минимальной датами данной последовательности.\n",
    "\n",
    "Формат входных данных\n",
    "На вход программе подается произвольное количество строк, в каждой строке записана дата\n",
    "в ISO формате (YYYY-MM-DD).\n",
    "\n",
    "Формат выходных данных\n",
    "Программа должна вывести единственное число — количество дней между максимальной и \n",
    "минимальной датами введенной последовательности.\n",
    "\n",
    "Sample Input 1:\n",
    "\n",
    "2022-06-15\n",
    "2022-06-12\n",
    "2022-06-16\n",
    "2022-06-30\n",
    "    \n",
    "Sample Output 1:\n",
    "\n",
    "18"
   ]
  },
  {
   "cell_type": "code",
   "execution_count": 9,
   "id": "da62bc81-4f4c-40b4-bbe9-89ba485ea416",
   "metadata": {},
   "outputs": [],
   "source": [
    "from datetime import datetime"
   ]
  },
  {
   "cell_type": "code",
   "execution_count": 21,
   "id": "21eade8e-e226-477f-bd16-78095ec1f13c",
   "metadata": {},
   "outputs": [],
   "source": [
    "dat = ['2022-06-15', '2022-06-12', '2022-06-16', '2022-06-30']"
   ]
  },
  {
   "cell_type": "code",
   "execution_count": 24,
   "id": "8553435f-60e1-4e47-b881-4fcdefc8c86a",
   "metadata": {},
   "outputs": [],
   "source": [
    "data = list(map(datetime.fromisoformat, dat))"
   ]
  },
  {
   "cell_type": "code",
   "execution_count": 25,
   "id": "0a01a7ba-8f1e-4196-8556-08a96964f913",
   "metadata": {},
   "outputs": [
    {
     "data": {
      "text/plain": [
       "[datetime.datetime(2022, 6, 15, 0, 0),\n",
       " datetime.datetime(2022, 6, 12, 0, 0),\n",
       " datetime.datetime(2022, 6, 16, 0, 0),\n",
       " datetime.datetime(2022, 6, 30, 0, 0)]"
      ]
     },
     "execution_count": 25,
     "metadata": {},
     "output_type": "execute_result"
    }
   ],
   "source": [
    "data"
   ]
  },
  {
   "cell_type": "code",
   "execution_count": 13,
   "id": "8c16e9fe-e5ab-4f76-ac15-19aa2e8471f8",
   "metadata": {},
   "outputs": [
    {
     "data": {
      "text/plain": [
       "[datetime.datetime(2022, 6, 15, 0, 0), datetime.datetime(2022, 6, 30, 0, 0)]"
      ]
     },
     "execution_count": 13,
     "metadata": {},
     "output_type": "execute_result"
    }
   ],
   "source": [
    "dat = [datetime.fromisoformat('2022-06-15'), datetime.fromisoformat('2022-06-30')]\n",
    "dat"
   ]
  },
  {
   "cell_type": "code",
   "execution_count": 20,
   "id": "a28d7c30-02ce-4e81-bd02-a657b38f4d84",
   "metadata": {},
   "outputs": [
    {
     "data": {
      "text/plain": [
       "15"
      ]
     },
     "execution_count": 20,
     "metadata": {},
     "output_type": "execute_result"
    }
   ],
   "source": [
    "(max(dat) - min(dat)).days"
   ]
  },
  {
   "cell_type": "code",
   "execution_count": null,
   "id": "8d26e06c-8fe6-4ebb-926d-dd8e97ae78e1",
   "metadata": {},
   "outputs": [],
   "source": []
  },
  {
   "cell_type": "code",
   "execution_count": null,
   "id": "6583a1ae-263a-4b79-ac5a-16d70a467c99",
   "metadata": {},
   "outputs": [],
   "source": [
    "import sys\n",
    "from datetime import datetime\n",
    "\n",
    "data = sys.stdin.readlines()\n",
    "data = list(map(lambda x: x.strip() , data))\n",
    "data_datetime = list(map(datetime.fromisoformat, data))\n",
    "\n",
    "print((max(data_datetime) - min(data_datetime)).days)"
   ]
  },
  {
   "cell_type": "code",
   "execution_count": null,
   "id": "ace37d99-4289-4af4-8f48-ba6113ca6c8e",
   "metadata": {},
   "outputs": [],
   "source": []
  },
  {
   "cell_type": "markdown",
   "id": "1329bc8b-ebb9-4d74-b8fe-614be5912909",
   "metadata": {},
   "source": [
    "# Задача №3"
   ]
  },
  {
   "cell_type": "code",
   "execution_count": null,
   "id": "2c69ae58-3b0c-4e8d-8bf7-930d6248da4f",
   "metadata": {},
   "outputs": [],
   "source": [
    "Урок статистики\n",
    "Дан список чисел, каждое из которых — рост очередного ученика онлайн-школы BEEGEEK. \n",
    "Напишите программу, которая определяет рост самого низкого и самого высокого учеников, \n",
    "а также средний рост среди всех учеников.\n",
    "\n",
    "Формат входных данных\n",
    "На вход программе подается произвольное количество строк, в каждой строке записано натуральное \n",
    "число — рост очередного ученика онлайн-школы BEEGEEK.\n",
    "\n",
    "Формат выходных данных\n",
    "Программа должна определить рост самого низкого и самого высокого учеников, а также средний \n",
    "    рост среди всех учеников.\n",
    "\n",
    "Полученные результаты должны быть выведены в следующем формате:\n",
    "\n",
    "Рост самого низкого ученика: <рост самого низкого ученика>\n",
    "Рост самого высокого ученика: <рост самого высокого ученика>\n",
    "Средний рост: <средний рост среди всех учеников>\n",
    "Примечание 1. Если на вход программе ничего не подается, то она должна выводить текст нет учеников.\n",
    "\n",
    "Sample Input 1:\n",
    "\n",
    "185\n",
    "170\n",
    "190\n",
    "155\n",
    "175\n",
    "Sample Output 1:\n",
    "\n",
    "Рост самого низкого ученика: 155\n",
    "Рост самого высокого ученика: 190\n",
    "Средний рост: 175.0\n",
    "Sample Input 2:\n",
    "\n",
    "Sample Output 2:\n",
    "\n",
    "нет учеников"
   ]
  },
  {
   "cell_type": "code",
   "execution_count": null,
   "id": "e7215325-fc92-4f92-92e2-6fcf8b1f791b",
   "metadata": {},
   "outputs": [],
   "source": [
    "import sys\n",
    "\n",
    "#data = sys.stdin.readlines()\n",
    "\n",
    "data1 = list(map(int, sys.stdin.readlines()))\n",
    "\n",
    "if data1:\n",
    "    print(f'Рост самого низкого ученика: {min(data1)}')\n",
    "    print(f'Рост самого высокого ученика: {max(data1)}')\n",
    "    print(f'Средний рост: {sum(data1)/len(data1)}')\n",
    "else:\n",
    "    print('нет учеников')"
   ]
  },
  {
   "cell_type": "code",
   "execution_count": null,
   "id": "fdd127fa-1ac4-4af6-802b-944e3c0e77f0",
   "metadata": {},
   "outputs": [],
   "source": []
  },
  {
   "cell_type": "markdown",
   "id": "c10622e5-4d96-4578-a3d3-e96391a4e1fc",
   "metadata": {},
   "source": [
    "# Задача №4"
   ]
  },
  {
   "cell_type": "code",
   "execution_count": null,
   "id": "5d2422b1-1894-4aa5-ba57-14399d0f1628",
   "metadata": {},
   "outputs": [],
   "source": [
    "Панорамное агентство\n",
    "По чатам одного немалоизвестного мессенджера начали появляться новости сомнительного содержания. \n",
    "Оказалось, что некий молодежный клуб решил подшутить, распространяя всякие глупости. Однако \n",
    "подобное хулиганство мешает доверчивым людям, особенно пенсионного возраста, поэтому группа \n",
    "независимых программистов решила разработать бота, который мог бы оценить степень достоверности\n",
    "новости, а также отнести её к какой-либо категории.\n",
    "\n",
    "Напишите программу, которая выводит все новости заданной категории, располагая их по возрастанию \n",
    "степени достоверности.\n",
    "\n",
    "Формат входных данных\n",
    "На вход программе подается произвольное количество строк, в каждой строке, кроме последней, записана \n",
    "новость, категория, к которой она относится, и ее достоверность в следующем формате:\n",
    "\n",
    "<новость> / <категория> / <достоверность>\n",
    "В последней строке подается одиночная категория.\n",
    "\n",
    "Формат выходных данных\n",
    "Программа должна вывести все новости, которые относятся к введенной категории. Новости должны \n",
    "быть расположены в порядке возрастания степени достоверности, а при совпадении степеней достоверности\n",
    "— в лексикографическом порядке самих новостей.\n",
    "\n",
    "Sample Input:\n",
    "\n",
    "На рейсах Поражения второй пилот будет исполнять обязанности бортпроводника / Авиация / 0.3\n",
    "Огурец исключит из своих рядов членов, не проголосовавших за Единую Арстоцку на выборах / Политика / 0.8\n",
    "Орбистанские точки общепита будут закрыты для вакцинированных граждан / Общество / 0.7\n",
    "Джорджи Костава получил членский билет Независимого Кобрастана / Политика / 0.0\n",
    "В Колечии повысят призывной возраст до 40 лет / Политика / 1.0\n",
    "Всем гражданам Антегрии въезд в Арстоцку запрещен / Политика / 0.8\n",
    "Политика\n",
    "Sample Output:\n",
    "\n",
    "Джорджи Костава получил членский билет Независимого Кобрастана\n",
    "Всем гражданам Антегрии въезд в Арстоцку запрещен\n",
    "Огурец исключит из своих рядов членов, не проголосовавших за Единую Арстоцку на выборах\n",
    "В Колечии повысят призывной возраст до 40 лет"
   ]
  },
  {
   "cell_type": "code",
   "execution_count": null,
   "id": "06664ff9-d703-4a1e-92c9-46696c140ab1",
   "metadata": {},
   "outputs": [],
   "source": [
    "import sys\n",
    "\n",
    "data = sys.stdin.readlines()\n",
    "\n",
    "topic = data[-1].strip('\\n')\n",
    "\n",
    "for i in sorted(data[:-1], key = lambda x: (float(x.split('/')[2].strip()), x.split('/')[0].strip())   ):\n",
    "    if i.split('/')[1].strip() == topic:\n",
    "        print(i.split('/')[0].strip())"
   ]
  },
  {
   "cell_type": "code",
   "execution_count": null,
   "id": "42bfd561-e6b5-47fc-b431-7d22267db8ad",
   "metadata": {},
   "outputs": [],
   "source": []
  },
  {
   "cell_type": "code",
   "execution_count": null,
   "id": "f31aac1d-daff-4abd-a72a-b21da2b2e2e0",
   "metadata": {},
   "outputs": [],
   "source": []
  },
  {
   "cell_type": "markdown",
   "id": "787b6115-5bca-41f3-b687-346fef9d8388",
   "metadata": {},
   "source": [
    "# Задача №5\n"
   ]
  },
  {
   "cell_type": "code",
   "execution_count": null,
   "id": "1ace9725-e52e-44cd-bb66-98287633ae41",
   "metadata": {},
   "outputs": [],
   "source": [
    "Дана последовательность дат. Напишите программу, которая определяет, в каком порядке расположены даты в данной последовательности.\n",
    "\n",
    "Формат входных данных\n",
    "На вход программе подается произвольное количество строк (две или более), в каждой строке записана дата в формате DD.MM.YYYY.\n",
    "\n",
    "Формат выходных данных\n",
    "Программа должны вывести текст:\n",
    "\n",
    "ASC, если даты в введенной последовательности расположены строго в порядке возрастания\n",
    "DESC, если даты в введенной последовательности расположены строго в порядке убывания\n",
    "MIX, если даты в введенной последовательности расположены ни в порядке возрастания, ни в порядке убывания"
   ]
  },
  {
   "cell_type": "code",
   "execution_count": null,
   "id": "cbfc9b7d-b894-47ca-99e0-ef0cacbc050d",
   "metadata": {},
   "outputs": [],
   "source": [
    "import sys\n",
    "from datetime import datetime\n",
    "\n",
    "data = sys.stdin.readlines()\n",
    "\n",
    "s = 0\n",
    "lst = []\n",
    "for i in range(len(data)):\n",
    "    date_1 = datetime.strptime(data[i].strip(), '%d.%m.%Y')\n",
    "    if date_1 in lst:\n",
    "        print('MIX')\n",
    "        s = 1\n",
    "        break\n",
    "    lst.append(date_1)\n",
    "\n",
    "if s == 0:\n",
    "    \n",
    "    if sorted(lst) == lst:\n",
    "        print('ASC')\n",
    "    elif sorted(lst, reverse = True) == lst:\n",
    "        print('DESC')\n",
    "    else:\n",
    "        print('MIX')\n",
    "\n",
    "    \n",
    "#print(lst)\n",
    "#print(sorted(lst))\n",
    "#print(sorted(lst, reverse = True))"
   ]
  },
  {
   "cell_type": "code",
   "execution_count": null,
   "id": "ca600633-8761-4267-8e9b-99870cb8abe3",
   "metadata": {},
   "outputs": [],
   "source": []
  },
  {
   "cell_type": "markdown",
   "id": "2a56344e-5fe7-445e-89ec-eebcd838d210",
   "metadata": {},
   "source": [
    "# Задача №6"
   ]
  },
  {
   "cell_type": "code",
   "execution_count": null,
   "id": "6ac28fe2-d9c0-4da8-a4ae-d95fe7a96ada",
   "metadata": {},
   "outputs": [],
   "source": [
    "Дана последовательность целых чисел. Напишите программу, которая определяет, является ли данная последовательность \n",
    "прогрессией, и если да, то определяет её вид.\n",
    "\n",
    "Формат входных данных\n",
    "На вход программе подается произвольное количество строк (не менее трёх), в каждой строке записано натуральное \n",
    "число — очередной член последовательности.\n",
    "\n",
    "Формат выходных данных\n",
    "Программа должна вывести текст:\n",
    "\n",
    "Арифметическая прогрессия, если введенная последовательность чисел является арифметической прогрессией\n",
    "Геометрическая прогрессия, если введенная последовательность чисел является геометрической прогрессией\n",
    "Не прогрессия, если введенная последовательность чисел не является прогрессией\n",
    "Примечание 1. Гарантируется, что вид прогрессии определяется однозначно.\n",
    "\n"
   ]
  },
  {
   "cell_type": "code",
   "execution_count": 40,
   "id": "0832466b-45a3-4a4b-a669-e46eb86e6f01",
   "metadata": {},
   "outputs": [],
   "source": [
    "# lst_a = [1,2,3,4,5,6,7,8,9]\n",
    "# lst_a = [2,4,8,16]\n",
    "\n",
    "lst_a = [1, 9, 1, 1, 4, 5]"
   ]
  },
  {
   "cell_type": "code",
   "execution_count": 43,
   "id": "d1fb06b5-6744-4e4c-a381-84f8e3edc94f",
   "metadata": {},
   "outputs": [
    {
     "data": {
      "text/plain": [
       "['a', 'hz', 'hz', 'hz', 'hz']"
      ]
     },
     "execution_count": 43,
     "metadata": {},
     "output_type": "execute_result"
    }
   ],
   "source": [
    "res = []\n",
    "\n",
    "for i in range(len(lst_a) - 1):\n",
    "    \n",
    "    \n",
    "    \n",
    "    t = lst_a[1] - lst_a[0]\n",
    "    y = lst_a[0] / lst_a[1]\n",
    "    \n",
    "    if lst_a[i+1] - lst_a[i] == t:\n",
    "        # print(lst_a[i+1] - lst_a[i] == t)\n",
    "        res.append('a')\n",
    "\n",
    "    \n",
    "    \n",
    "    elif lst_a[i] / lst_a[i+1] == y:\n",
    "        res.append('g')\n",
    "\n",
    "    else:\n",
    "        res.append('hz')\n",
    "\n",
    "res\n",
    "        "
   ]
  },
  {
   "cell_type": "code",
   "execution_count": 44,
   "id": "297b3415-7f92-4555-98e9-624db53970a0",
   "metadata": {},
   "outputs": [
    {
     "name": "stdout",
     "output_type": "stream",
     "text": [
      "Не прогрессия\n"
     ]
    }
   ],
   "source": [
    "if all(map(lambda x: x == 'g', res[1:])):\n",
    "    print('Геометрическая прогрессия')\n",
    "elif all(map(lambda x: x == 'a', res[1:])):\n",
    "    print('Арифметическая прогрессия')\n",
    "\n",
    "else:\n",
    "    print('Не прогрессия')"
   ]
  },
  {
   "cell_type": "code",
   "execution_count": null,
   "id": "72953bdb-06f9-445f-85c4-b05ee793104a",
   "metadata": {},
   "outputs": [],
   "source": []
  },
  {
   "cell_type": "code",
   "execution_count": null,
   "id": "634fab6b-99a0-4d9c-a021-4b7e0fb13ca9",
   "metadata": {},
   "outputs": [],
   "source": []
  },
  {
   "cell_type": "code",
   "execution_count": null,
   "id": "9606d00d-84ae-4957-9408-05ec129954f4",
   "metadata": {},
   "outputs": [],
   "source": []
  },
  {
   "cell_type": "code",
   "execution_count": null,
   "id": "300e76f7-d41b-42a0-89d6-c3b102f5f099",
   "metadata": {},
   "outputs": [],
   "source": []
  },
  {
   "cell_type": "code",
   "execution_count": null,
   "id": "459804b2-73f5-4146-9297-9b509fd74dcc",
   "metadata": {},
   "outputs": [],
   "source": []
  },
  {
   "cell_type": "code",
   "execution_count": null,
   "id": "028e9e93-b53e-4eca-b4ec-e8520c2911f2",
   "metadata": {},
   "outputs": [],
   "source": []
  },
  {
   "cell_type": "code",
   "execution_count": null,
   "id": "187a519e-d628-45e6-bd68-61d8da6dff51",
   "metadata": {},
   "outputs": [],
   "source": []
  },
  {
   "cell_type": "code",
   "execution_count": null,
   "id": "4fcd77e4-2fb1-4a0e-90fc-28c28d339679",
   "metadata": {},
   "outputs": [],
   "source": []
  },
  {
   "cell_type": "code",
   "execution_count": null,
   "id": "f1dc3d09-85b0-4b98-8ab7-e4b316abc65c",
   "metadata": {},
   "outputs": [],
   "source": []
  },
  {
   "cell_type": "code",
   "execution_count": null,
   "id": "3102a057-1b4d-40c3-8ca5-790954dd4efd",
   "metadata": {},
   "outputs": [],
   "source": []
  },
  {
   "cell_type": "code",
   "execution_count": null,
   "id": "7a47b0a1-bf8b-42d2-b1a8-e02efb04e673",
   "metadata": {},
   "outputs": [],
   "source": []
  },
  {
   "cell_type": "code",
   "execution_count": null,
   "id": "d1b333e3-94d1-4d0f-9dd0-9569760f431f",
   "metadata": {},
   "outputs": [],
   "source": []
  }
 ],
 "metadata": {
  "kernelspec": {
   "display_name": "Python 3 (ipykernel)",
   "language": "python",
   "name": "python3"
  },
  "language_info": {
   "codemirror_mode": {
    "name": "ipython",
    "version": 3
   },
   "file_extension": ".py",
   "mimetype": "text/x-python",
   "name": "python",
   "nbconvert_exporter": "python",
   "pygments_lexer": "ipython3",
   "version": "3.12.3"
  }
 },
 "nbformat": 4,
 "nbformat_minor": 5
}
