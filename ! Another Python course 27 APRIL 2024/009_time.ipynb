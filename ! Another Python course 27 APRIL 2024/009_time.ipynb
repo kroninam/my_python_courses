{
 "cells": [
  {
   "cell_type": "markdown",
   "id": "b706449f-1aca-43f3-8b57-c1d732e29895",
   "metadata": {},
   "source": [
    "# Задача  №1"
   ]
  },
  {
   "cell_type": "code",
   "execution_count": null,
   "id": "5e154f03-c366-4416-8994-8a438f9e87a0",
   "metadata": {},
   "outputs": [],
   "source": [
    "Функция calculate_it()\n",
    "Реализуйте функцию calculate_it(), которая принимает один или более аргументов \n",
    "в следующем порядке:\n",
    "\n",
    "func — произвольная функция\n",
    "*args — переменное количество позиционных аргументов, каждый из которых является \n",
    "произвольным объектом\n",
    "Функция должна возвращать кортеж, первым элементом которого является возвращаемое \n",
    "значение функции func при вызове с аргументами *args, а вторым — примерное время \n",
    "(в секундах), затраченное на вычисление этого значения.\n",
    "\n",
    "Примечание 1. Например, если функция add() определена так:\n",
    "\n",
    "def add(a, b, c):\n",
    "    time.sleep(3)\n",
    "    return a + b + c\n",
    "то вызов\n",
    "\n",
    "calculate_it(add, 1, 2, 3)\n",
    "должен вернуть кортеж (6, 3.000720262527466), где 6 — результат вызова add(1, 2, 3), \n",
    "а 3.000720262527466 — примерное время работы функции add() в секундах."
   ]
  },
  {
   "cell_type": "code",
   "execution_count": 8,
   "id": "85c14fb6-51b0-462f-8b12-487a9b092a9f",
   "metadata": {},
   "outputs": [],
   "source": [
    "import time\n",
    "\n",
    "def calculate_it(func, *args):\n",
    "    start = time.monotonic()\n",
    "    res = func(*args)\n",
    "    end = time.monotonic()\n",
    "\n",
    "    return (res, end - start)"
   ]
  },
  {
   "cell_type": "code",
   "execution_count": 9,
   "id": "b5cc4390-543e-4f3e-8f42-12e1bd5749d8",
   "metadata": {},
   "outputs": [
    {
     "data": {
      "text/plain": [
       "754583.984"
      ]
     },
     "execution_count": 9,
     "metadata": {},
     "output_type": "execute_result"
    }
   ],
   "source": [
    "time.monotonic()"
   ]
  },
  {
   "cell_type": "code",
   "execution_count": 10,
   "id": "4f1a78e5-b1fe-43b2-a9c3-266975bb1134",
   "metadata": {},
   "outputs": [],
   "source": [
    "def add(a, b, c):\n",
    "    time.sleep(3)\n",
    "    return a + b + c"
   ]
  },
  {
   "cell_type": "code",
   "execution_count": 11,
   "id": "4a98ff78-a096-42d2-b707-96b223b7c32e",
   "metadata": {},
   "outputs": [
    {
     "data": {
      "text/plain": [
       "(6, 3.0)"
      ]
     },
     "execution_count": 11,
     "metadata": {},
     "output_type": "execute_result"
    }
   ],
   "source": [
    "calculate_it(add, 1, 2, 3)"
   ]
  },
  {
   "cell_type": "code",
   "execution_count": null,
   "id": "017caa38-5e6d-4141-8542-b69c0b6081ae",
   "metadata": {},
   "outputs": [],
   "source": []
  },
  {
   "cell_type": "markdown",
   "id": "185711b5-c27e-4cb1-b351-62f115c66de8",
   "metadata": {},
   "source": [
    "# Задача №2"
   ]
  },
  {
   "cell_type": "code",
   "execution_count": null,
   "id": "a991afb4-1adf-4192-a15c-264666ff4698",
   "metadata": {},
   "outputs": [],
   "source": [
    "Функция get_the_fastest_func()\n",
    "Реализуйте функцию get_the_fastest_func(), которая принимает два аргумента в следующем порядке:\n",
    "\n",
    "funcs — список произвольных функций\n",
    "arg — произвольный объект\n",
    "Функция get_the_fastest_func() должна возвращать функцию из списка funcs, которая затратила \n",
    "на вычисление значения при вызове с аргументом arg наименьшее количество времени."
   ]
  },
  {
   "cell_type": "code",
   "execution_count": 46,
   "id": "0ce29635-5a97-4d8d-b356-69cde48bec4a",
   "metadata": {},
   "outputs": [],
   "source": [
    "import time\n",
    "def get_the_fastest_func(func_lst, arg):\n",
    "    d = {}\n",
    "    for func in func_lst:\n",
    "        start_time = time.monotonic_ns()\n",
    "        func(arg)\n",
    "        end_time = time.monotonic_ns()\n",
    "        d[func] = end_time - start_time\n",
    "\n",
    "    return sorted(d.items(), key = lambda x: x[1])[0][0]\n",
    "    # return sorted(d.items(), key = lambda x: x[1])[0][0].__name__"
   ]
  },
  {
   "cell_type": "code",
   "execution_count": 47,
   "id": "3e00f26a-30c8-40d9-a2ff-ec82243eb636",
   "metadata": {},
   "outputs": [
    {
     "name": "stdout",
     "output_type": "stream",
     "text": [
      "<function fast at 0x000001622A3876A0>\n"
     ]
    }
   ],
   "source": [
    "def slow(arg):\n",
    "    time.sleep(2)\n",
    "\n",
    "def fast(arg):\n",
    "    time.sleep(1)\n",
    "\n",
    "funcs = [slow, fast]\n",
    "\n",
    "print(get_the_fastest_func(funcs, 0))"
   ]
  },
  {
   "cell_type": "code",
   "execution_count": null,
   "id": "7585fdc2-2882-4a7e-bbb8-ee6d1de3608c",
   "metadata": {},
   "outputs": [],
   "source": []
  },
  {
   "cell_type": "markdown",
   "id": "cf0b5f70-c50d-4bf0-8841-3343bd159e1a",
   "metadata": {},
   "source": [
    "# Задача №3"
   ]
  },
  {
   "cell_type": "code",
   "execution_count": 2,
   "id": "b321d07b-f40c-462a-bd1c-2c61b5938388",
   "metadata": {},
   "outputs": [],
   "source": [
    "# Вам доступны три реализации функции, которая вычисляет факториал числа n:\n",
    "\n",
    "# встроенная из модуля math\n",
    "# рекурсивная\n",
    "# итеративная\n",
    "# Выясните, какая функция быстрее вычислит факториал числа 900.\n",
    "\n",
    "# Примечание. Реализации функций:\n",
    "\n",
    "from math import factorial                   # функция из модуля math     \n",
    "\n",
    "\n",
    "def factorial_recurrent(n):                  # рекурсивная функция\n",
    "    if n == 0:\n",
    "        return 1\n",
    "    return n * factorial_recurrent(n - 1)    \n",
    "\n",
    "\n",
    "def factorial_classic(n):                    # итеративная функция\n",
    "    f = 1\n",
    "    for i in range(2, n + 1):\n",
    "        f *= i\n",
    "    return f"
   ]
  },
  {
   "cell_type": "code",
   "execution_count": 50,
   "id": "fd381cb5-e21c-4442-80cd-b02d7dbd385e",
   "metadata": {},
   "outputs": [
    {
     "name": "stdout",
     "output_type": "stream",
     "text": [
      "7.08999577909708e-05\n"
     ]
    }
   ],
   "source": [
    "import time\n",
    "\n",
    "start = time.perf_counter()\n",
    "factorial(900)\n",
    "# time.sleep(1)\n",
    "end = time.perf_counter()\n",
    "print( end - start)\n",
    "s1 = end - start"
   ]
  },
  {
   "cell_type": "code",
   "execution_count": 51,
   "id": "7cc4d3d9-b0c8-4714-bb41-a2c9bd07f335",
   "metadata": {},
   "outputs": [
    {
     "name": "stdout",
     "output_type": "stream",
     "text": [
      "0.000634100055322051\n"
     ]
    }
   ],
   "source": [
    "start = time.perf_counter()\n",
    "factorial_recurrent(900)\n",
    "# time.sleep(1)\n",
    "end = time.perf_counter()\n",
    "print( end - start)\n",
    "s2 = end - start"
   ]
  },
  {
   "cell_type": "code",
   "execution_count": null,
   "id": "b412335b-35a0-44af-bb53-1a2800399fdf",
   "metadata": {},
   "outputs": [],
   "source": []
  },
  {
   "cell_type": "code",
   "execution_count": 52,
   "id": "40e4a45d-179b-42e6-b8b2-d5493c338461",
   "metadata": {},
   "outputs": [
    {
     "name": "stdout",
     "output_type": "stream",
     "text": [
      "0.00034950010012835264\n"
     ]
    }
   ],
   "source": [
    "start = time.perf_counter()\n",
    "factorial_classic(900)\n",
    "# time.sleep(1)\n",
    "end = time.perf_counter()\n",
    "print( end - start)\n",
    "s3 = end - start"
   ]
  },
  {
   "cell_type": "code",
   "execution_count": 53,
   "id": "4d3a959a-aedd-403f-994b-ed1222cccc3e",
   "metadata": {},
   "outputs": [
    {
     "data": {
      "text/plain": [
       "7.08999577909708e-05"
      ]
     },
     "execution_count": 53,
     "metadata": {},
     "output_type": "execute_result"
    }
   ],
   "source": [
    "min([s1, s2, s3])"
   ]
  },
  {
   "cell_type": "code",
   "execution_count": 48,
   "id": "04549650-635f-425e-a551-143c1b019e29",
   "metadata": {},
   "outputs": [
    {
     "name": "stdout",
     "output_type": "stream",
     "text": [
      "<built-in function factorial>\n"
     ]
    }
   ],
   "source": [
    "funcs = [factorial, factorial_recurrent, factorial_classic]\n",
    "print(get_the_fastest_func(funcs, 900))"
   ]
  },
  {
   "cell_type": "code",
   "execution_count": 49,
   "id": "b2d98ea5-815e-4875-ad54-98b5da3f089f",
   "metadata": {},
   "outputs": [
    {
     "name": "stdout",
     "output_type": "stream",
     "text": [
      "0.00011309992987662554\n"
     ]
    }
   ],
   "source": [
    "start2 = time.perf_counter()\n",
    "factorial(900)\n",
    "end2 = time.perf_counter()\n",
    "print(end2-start2)"
   ]
  },
  {
   "cell_type": "code",
   "execution_count": null,
   "id": "58d8c4cf-3082-4aac-9d64-28780571d713",
   "metadata": {},
   "outputs": [],
   "source": []
  },
  {
   "cell_type": "code",
   "execution_count": null,
   "id": "12fe23d5-a41e-4200-8f58-a9e8a0c30d5b",
   "metadata": {},
   "outputs": [],
   "source": []
  }
 ],
 "metadata": {
  "kernelspec": {
   "display_name": "Python 3 (ipykernel)",
   "language": "python",
   "name": "python3"
  },
  "language_info": {
   "codemirror_mode": {
    "name": "ipython",
    "version": 3
   },
   "file_extension": ".py",
   "mimetype": "text/x-python",
   "name": "python",
   "nbconvert_exporter": "python",
   "pygments_lexer": "ipython3",
   "version": "3.12.3"
  }
 },
 "nbformat": 4,
 "nbformat_minor": 5
}
