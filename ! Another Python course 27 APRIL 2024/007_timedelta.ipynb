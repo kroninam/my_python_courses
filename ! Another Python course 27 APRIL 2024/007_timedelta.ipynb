{
 "cells": [
  {
   "cell_type": "code",
   "execution_count": 4,
   "id": "fb716b47-71d0-4eab-bd02-2afd7dba0a2b",
   "metadata": {},
   "outputs": [],
   "source": [
    "from datetime import date, timedelta"
   ]
  },
  {
   "cell_type": "code",
   "execution_count": 9,
   "id": "313122d8-c10a-4918-a43b-0ea35bfccbda",
   "metadata": {},
   "outputs": [],
   "source": [
    "today = date(2024, 5, 30)\n",
    "birthday = date(2024, 5, 12)"
   ]
  },
  {
   "cell_type": "code",
   "execution_count": 10,
   "id": "cc8a38a1-4c59-4d18-935f-3db17e949dd9",
   "metadata": {},
   "outputs": [
    {
     "data": {
      "text/plain": [
       "datetime.timedelta(days=18)"
      ]
     },
     "execution_count": 10,
     "metadata": {},
     "output_type": "execute_result"
    }
   ],
   "source": [
    "today - birthday"
   ]
  },
  {
   "cell_type": "code",
   "execution_count": 11,
   "id": "9dc1672e-acb4-440e-bc38-d352598fdf78",
   "metadata": {},
   "outputs": [
    {
     "data": {
      "text/plain": [
       "datetime.timedelta(days=-18)"
      ]
     },
     "execution_count": 11,
     "metadata": {},
     "output_type": "execute_result"
    }
   ],
   "source": [
    "birthday - today"
   ]
  },
  {
   "cell_type": "code",
   "execution_count": 13,
   "id": "41067720-c7f9-4dda-bea1-64228dd04709",
   "metadata": {},
   "outputs": [
    {
     "data": {
      "text/plain": [
       "18"
      ]
     },
     "execution_count": 13,
     "metadata": {},
     "output_type": "execute_result"
    }
   ],
   "source": [
    "(abs(birthday - today)).days"
   ]
  },
  {
   "cell_type": "code",
   "execution_count": null,
   "id": "0744098a-77ca-4cf9-87bc-c7d09dfce8d0",
   "metadata": {},
   "outputs": [],
   "source": []
  },
  {
   "cell_type": "markdown",
   "id": "4589a309-57a7-4203-bd11-4efb71d54a3f",
   "metadata": {},
   "source": [
    "# Задача №1"
   ]
  },
  {
   "cell_type": "code",
   "execution_count": null,
   "id": "7323ce38-c97b-4098-90a1-c892413d5d58",
   "metadata": {},
   "outputs": [],
   "source": [
    "Предыдущая и следующая даты\n",
    "Напишите программу, которая принимает на вход дату и выводит предыдущую и следующую даты.\n",
    "\n",
    "Формат входных данных\n",
    "На вход программе подается дата в формате DD.MM.YYYY.\n",
    "\n",
    "Формат выходных данных\n",
    "Программа должна вывести предыдущую и следующую даты относительно введенной даты, каждую на отдельной строке, в формате DD.MM.YYYY.\n",
    "\n",
    "Примечание 1. Гарантируется, что у подаваемой даты есть предыдущая и следующая даты.\n",
    "\n",
    "Sample Input 1:\n",
    "\n",
    "04.11.2021\n",
    "Sample Output 1:\n",
    "\n",
    "03.11.2021\n",
    "05.11.2021"
   ]
  },
  {
   "cell_type": "code",
   "execution_count": 11,
   "id": "8413b702-0fc9-4d39-9bf4-f45f35f5cee0",
   "metadata": {},
   "outputs": [],
   "source": [
    "from datetime import date, timedelta"
   ]
  },
  {
   "cell_type": "code",
   "execution_count": 12,
   "id": "7e2ea21b-70a4-435d-941e-39ec1f011d98",
   "metadata": {},
   "outputs": [
    {
     "name": "stdin",
     "output_type": "stream",
     "text": [
      " 04.11.2021\n"
     ]
    }
   ],
   "source": [
    "s = input()"
   ]
  },
  {
   "cell_type": "code",
   "execution_count": 13,
   "id": "f63efe8c-3008-4549-84ee-de8b1aaebb23",
   "metadata": {},
   "outputs": [
    {
     "data": {
      "text/plain": [
       "datetime.date(2021, 11, 4)"
      ]
     },
     "execution_count": 13,
     "metadata": {},
     "output_type": "execute_result"
    }
   ],
   "source": [
    "ss = date(day = int(s.split('.')[0]), month = int(s.split('.')[1]), year = int(s.split('.')[2]))\n",
    "ss"
   ]
  },
  {
   "cell_type": "code",
   "execution_count": 15,
   "id": "961cb272-1d90-4e3e-976e-db21d2c0d343",
   "metadata": {},
   "outputs": [
    {
     "data": {
      "text/plain": [
       "datetime.date(2021, 11, 5)"
      ]
     },
     "execution_count": 15,
     "metadata": {},
     "output_type": "execute_result"
    }
   ],
   "source": [
    "ss + timedelta(days = 1)"
   ]
  },
  {
   "cell_type": "code",
   "execution_count": 16,
   "id": "954ba2e7-8063-4183-9d2e-84028490d05b",
   "metadata": {},
   "outputs": [
    {
     "data": {
      "text/plain": [
       "datetime.date(2021, 11, 3)"
      ]
     },
     "execution_count": 16,
     "metadata": {},
     "output_type": "execute_result"
    }
   ],
   "source": [
    "ss - timedelta(days = 1)"
   ]
  },
  {
   "cell_type": "code",
   "execution_count": null,
   "id": "84baa80d-d320-4878-83ee-d1c2fb763051",
   "metadata": {},
   "outputs": [],
   "source": []
  },
  {
   "cell_type": "code",
   "execution_count": 26,
   "id": "c5dc8358-0672-4775-bd4d-adb9b96962e7",
   "metadata": {},
   "outputs": [
    {
     "name": "stdout",
     "output_type": "stream",
     "text": [
      "05.11.2021\n",
      "03.11.2021\n"
     ]
    }
   ],
   "source": [
    "print(date.strftime(ss + timedelta(days = 1), '%d.%m.%Y'))\n",
    "print(date.strftime(ss - timedelta(days = 1), '%d.%m.%Y'))"
   ]
  },
  {
   "cell_type": "code",
   "execution_count": null,
   "id": "25b5a94c-6e50-469b-a831-205b97e97696",
   "metadata": {},
   "outputs": [],
   "source": []
  },
  {
   "cell_type": "markdown",
   "id": "8f5d5365-7b99-4d34-b8df-5e37ea302f7a",
   "metadata": {},
   "source": [
    "# Задача №2"
   ]
  },
  {
   "cell_type": "code",
   "execution_count": 3,
   "id": "8fb828e5-5366-489a-ab70-95e4d3d99045",
   "metadata": {},
   "outputs": [],
   "source": [
    "Количество секунд\n",
    "Напишите программу, которая принимает на вход время и выводит целое количество секунд, прошедшее с начала суток.\n",
    "\n",
    "Формат входных данных\n",
    "На вход программе подается время в формате HH:MM:SS.\n",
    "\n",
    "Формат выходных данных\n",
    "Программа должна вывести целое количество секунд, прошедшее с начала суток.\n",
    "\n",
    "Примечание 1. Началом суток считается момент времени, соответствующий 00:00:00.\n",
    "\n",
    "\n",
    "Sample Input 1:\n",
    "\n",
    "00:01:01\n",
    "Sample Output 1:\n",
    "\n",
    "61\n",
    "Sample Input 2:\n",
    "\n",
    "00:00:00\n",
    "Sample Output 2:\n",
    "\n",
    "0\n",
    "Sample Input 3:\n",
    "\n",
    "12:12:12\n",
    "Sample Output 3:\n",
    "\n",
    "43932"
   ]
  },
  {
   "cell_type": "code",
   "execution_count": 4,
   "id": "6f4475b2-daf8-40a3-a3e7-904916c7b858",
   "metadata": {},
   "outputs": [],
   "source": [
    "from datetime import time, timedelta"
   ]
  },
  {
   "cell_type": "code",
   "execution_count": 5,
   "id": "f1f03b53-3a29-4f26-b1bc-a97f194f1b12",
   "metadata": {},
   "outputs": [
    {
     "name": "stdin",
     "output_type": "stream",
     "text": [
      " 00:01:01\n"
     ]
    }
   ],
   "source": [
    "s = input()"
   ]
  },
  {
   "cell_type": "code",
   "execution_count": 9,
   "id": "b697d5bd-5132-47c6-b57b-1a7d3dee3458",
   "metadata": {},
   "outputs": [],
   "source": [
    "ss = time.fromisoformat(s)"
   ]
  },
  {
   "cell_type": "code",
   "execution_count": 12,
   "id": "d44d3025-41f7-41a6-912c-775a2b144c4d",
   "metadata": {},
   "outputs": [
    {
     "data": {
      "text/plain": [
       "datetime.time(0, 1, 1)"
      ]
     },
     "execution_count": 12,
     "metadata": {},
     "output_type": "execute_result"
    }
   ],
   "source": [
    "ss"
   ]
  },
  {
   "cell_type": "code",
   "execution_count": 17,
   "id": "3550962d-f1b4-4a78-840a-ad938e25b9cb",
   "metadata": {},
   "outputs": [
    {
     "data": {
      "text/plain": [
       "61"
      ]
     },
     "execution_count": 17,
     "metadata": {},
     "output_type": "execute_result"
    }
   ],
   "source": [
    "ss.second + ss.minute * 60 + ss.hour * 3600"
   ]
  },
  {
   "cell_type": "code",
   "execution_count": null,
   "id": "010a2fcc-9854-4f87-8a95-c20463f93b66",
   "metadata": {},
   "outputs": [],
   "source": []
  },
  {
   "cell_type": "markdown",
   "id": "3c6ee3d7-f3b0-46a4-9c20-8e7ecb6ac3db",
   "metadata": {},
   "source": [
    "# Задача №3"
   ]
  },
  {
   "cell_type": "code",
   "execution_count": null,
   "id": "d2fbdbab-0b70-4347-9a14-df86cf35aeea",
   "metadata": {},
   "outputs": [],
   "source": [
    "Таймер\n",
    "Часы показывают время в формате HH:MM:SS. На этих часах запустили таймер, который прозвенит через \n",
    "𝑛\n",
    "n секунд. Напишите программу, которая определит, какое время будет на часах, когда прозвенит таймер.\n",
    "\n",
    "Формат входных данных\n",
    "На вход программе в первой строке подается текущее время на часах в формате HH:MM:SS. В следующей строке вводится целое неотрицательное число \n",
    "𝑛\n",
    "n — количество секунд, через которое должен прозвенеть таймер.\n",
    "\n",
    "Формат выходных данных\n",
    "Программа должна вывести время в формате HH:MM:SS, которое будет на часах, когда прозвенит таймер.\n",
    "\n",
    "Sample Input 1:\n",
    "\n",
    "09:00:00\n",
    "90\n",
    "Sample Output 1:\n",
    "\n",
    "09:01:30\n",
    "Sample Input 2:\n",
    "\n",
    "23:59:59\n",
    "1\n",
    "Sample Output 2:\n",
    "\n",
    "00:00:00\n",
    "Sample Input 3:\n",
    "\n",
    "13:34:46\n",
    "456\n",
    "Sample Output 3:\n",
    "\n",
    "13:42:22"
   ]
  },
  {
   "cell_type": "code",
   "execution_count": 33,
   "id": "77e75128-6a2b-48ad-898f-b11673ba0d0e",
   "metadata": {},
   "outputs": [
    {
     "name": "stdin",
     "output_type": "stream",
     "text": [
      " 09:00:00\n",
      " 90\n"
     ]
    }
   ],
   "source": [
    "from datetime import time, timedelta, datetime\n",
    "\n",
    "s = input()\n",
    "delta = int(input())"
   ]
  },
  {
   "cell_type": "code",
   "execution_count": 31,
   "id": "2a135b59-77bf-4968-a1ae-cef48410d754",
   "metadata": {},
   "outputs": [
    {
     "data": {
      "text/plain": [
       "datetime.timedelta(seconds=90)"
      ]
     },
     "execution_count": 31,
     "metadata": {},
     "output_type": "execute_result"
    }
   ],
   "source": [
    "timedelta(seconds = delta)"
   ]
  },
  {
   "cell_type": "code",
   "execution_count": null,
   "id": "eb69b52f-6a63-4d72-a7a5-3a1c2da2e070",
   "metadata": {},
   "outputs": [],
   "source": []
  },
  {
   "cell_type": "code",
   "execution_count": 20,
   "id": "3c948473-ec23-4af9-9b35-9d60fa861798",
   "metadata": {},
   "outputs": [
    {
     "ename": "TypeError",
     "evalue": "unsupported operand type(s) for +: 'datetime.time' and 'datetime.timedelta'",
     "output_type": "error",
     "traceback": [
      "\u001b[1;31m---------------------------------------------------------------------------\u001b[0m",
      "\u001b[1;31mTypeError\u001b[0m                                 Traceback (most recent call last)",
      "Cell \u001b[1;32mIn[20], line 1\u001b[0m\n\u001b[1;32m----> 1\u001b[0m \u001b[43mtime\u001b[49m\u001b[38;5;241;43m.\u001b[39;49m\u001b[43mfromisoformat\u001b[49m\u001b[43m(\u001b[49m\u001b[43ms\u001b[49m\u001b[43m)\u001b[49m\u001b[43m \u001b[49m\u001b[38;5;241;43m+\u001b[39;49m\u001b[43m \u001b[49m\u001b[43mtimedelta\u001b[49m\u001b[43m(\u001b[49m\u001b[43mseconds\u001b[49m\u001b[43m \u001b[49m\u001b[38;5;241;43m=\u001b[39;49m\u001b[43m \u001b[49m\u001b[43mdelta\u001b[49m\u001b[43m)\u001b[49m\n",
      "\u001b[1;31mTypeError\u001b[0m: unsupported operand type(s) for +: 'datetime.time' and 'datetime.timedelta'"
     ]
    }
   ],
   "source": [
    "time.fromisoformat(s) + timedelta(seconds = delta)"
   ]
  },
  {
   "cell_type": "code",
   "execution_count": null,
   "id": "4e1eacb2-b34a-41ed-a7ed-15bb2dd9eac9",
   "metadata": {},
   "outputs": [],
   "source": []
  },
  {
   "cell_type": "code",
   "execution_count": 34,
   "id": "c73c0d34-69c2-4422-9632-f4926233fd09",
   "metadata": {},
   "outputs": [
    {
     "ename": "TypeError",
     "evalue": "unsupported operand type(s) for +: 'datetime.time' and 'datetime.timedelta'",
     "output_type": "error",
     "traceback": [
      "\u001b[1;31m---------------------------------------------------------------------------\u001b[0m",
      "\u001b[1;31mTypeError\u001b[0m                                 Traceback (most recent call last)",
      "Cell \u001b[1;32mIn[34], line 1\u001b[0m\n\u001b[1;32m----> 1\u001b[0m datetime\u001b[38;5;241m.\u001b[39mcombine(\u001b[43mtime\u001b[49m\u001b[38;5;241;43m.\u001b[39;49m\u001b[43mfromisoformat\u001b[49m\u001b[43m(\u001b[49m\u001b[43ms\u001b[49m\u001b[43m)\u001b[49m\u001b[43m \u001b[49m\u001b[38;5;241;43m+\u001b[39;49m\u001b[43m \u001b[49m\u001b[43mtimedelta\u001b[49m\u001b[43m(\u001b[49m\u001b[43mseconds\u001b[49m\u001b[43m \u001b[49m\u001b[38;5;241;43m=\u001b[39;49m\u001b[43m \u001b[49m\u001b[43mdelta\u001b[49m\u001b[43m)\u001b[49m)\n",
      "\u001b[1;31mTypeError\u001b[0m: unsupported operand type(s) for +: 'datetime.time' and 'datetime.timedelta'"
     ]
    }
   ],
   "source": [
    "datetime.combine(time.fromisoformat(s) + timedelta(seconds = delta))"
   ]
  },
  {
   "cell_type": "code",
   "execution_count": null,
   "id": "4db8a14e-545c-4747-8de3-4d3c7c17fd8e",
   "metadata": {},
   "outputs": [],
   "source": []
  },
  {
   "cell_type": "code",
   "execution_count": 38,
   "id": "3bd0ee7d-392f-4951-8137-cd342abd042f",
   "metadata": {},
   "outputs": [
    {
     "ename": "TypeError",
     "evalue": "'datetime.time' object cannot be interpreted as an integer",
     "output_type": "error",
     "traceback": [
      "\u001b[1;31m---------------------------------------------------------------------------\u001b[0m",
      "\u001b[1;31mTypeError\u001b[0m                                 Traceback (most recent call last)",
      "Cell \u001b[1;32mIn[38], line 1\u001b[0m\n\u001b[1;32m----> 1\u001b[0m \u001b[43mdatetime\u001b[49m\u001b[43m(\u001b[49m\u001b[38;5;241;43m2000\u001b[39;49m\u001b[43m,\u001b[49m\u001b[43m \u001b[49m\u001b[38;5;241;43m1\u001b[39;49m\u001b[43m,\u001b[49m\u001b[43m \u001b[49m\u001b[38;5;241;43m1\u001b[39;49m\u001b[43m,\u001b[49m\u001b[43m \u001b[49m\u001b[43mtime\u001b[49m\u001b[38;5;241;43m.\u001b[39;49m\u001b[43mfromisoformat\u001b[49m\u001b[43m(\u001b[49m\u001b[43ms\u001b[49m\u001b[43m)\u001b[49m\u001b[43m)\u001b[49m\n",
      "\u001b[1;31mTypeError\u001b[0m: 'datetime.time' object cannot be interpreted as an integer"
     ]
    }
   ],
   "source": [
    "datetime(2000, 1, 1, time.fromisoformat(s))"
   ]
  },
  {
   "cell_type": "code",
   "execution_count": null,
   "id": "b5ac1a0e-8956-4f0f-a3f0-0ed6bdccc626",
   "metadata": {},
   "outputs": [],
   "source": []
  },
  {
   "cell_type": "code",
   "execution_count": 43,
   "id": "21566449-f79f-4ee0-8e36-b9d4ec07c6c0",
   "metadata": {},
   "outputs": [
    {
     "data": {
      "text/plain": [
       "['09', '00', '00']"
      ]
     },
     "execution_count": 43,
     "metadata": {},
     "output_type": "execute_result"
    }
   ],
   "source": [
    "s.split(':')"
   ]
  },
  {
   "cell_type": "code",
   "execution_count": 113,
   "id": "19d41b05-d601-47c2-b9e0-09f612449356",
   "metadata": {},
   "outputs": [
    {
     "data": {
      "text/plain": [
       "datetime.datetime(2000, 1, 2, 0, 0)"
      ]
     },
     "execution_count": 113,
     "metadata": {},
     "output_type": "execute_result"
    }
   ],
   "source": [
    "new_time = datetime(2000, 1, 1, int(s.split(':')[0]), int(s.split(':')[1]), int(s.split(':')[2])) + timedelta(seconds = delta)\n",
    "new_time"
   ]
  },
  {
   "cell_type": "code",
   "execution_count": 115,
   "id": "c88bf541-63d2-41a5-ae00-675c4440d7fa",
   "metadata": {},
   "outputs": [
    {
     "data": {
      "text/plain": [
       "'00:00:00'"
      ]
     },
     "execution_count": 115,
     "metadata": {},
     "output_type": "execute_result"
    }
   ],
   "source": [
    "# print(datetime + timedelta).time()) - выводит отдельно время\n",
    "str(new_time.time())"
   ]
  },
  {
   "cell_type": "code",
   "execution_count": null,
   "id": "3675e388-0355-4f61-a8d6-7cfbf378decd",
   "metadata": {},
   "outputs": [],
   "source": []
  },
  {
   "cell_type": "code",
   "execution_count": null,
   "id": "29999cc6-1e1c-479b-8bcb-4b1f8fd67ef7",
   "metadata": {},
   "outputs": [],
   "source": []
  },
  {
   "cell_type": "code",
   "execution_count": 56,
   "id": "3686aeb6-7d70-4504-9907-973d35c7f4b9",
   "metadata": {},
   "outputs": [
    {
     "data": {
      "text/plain": [
       "datetime.time(9, 0)"
      ]
     },
     "execution_count": 56,
     "metadata": {},
     "output_type": "execute_result"
    }
   ],
   "source": [
    "time.fromisoformat(s)"
   ]
  },
  {
   "cell_type": "code",
   "execution_count": 60,
   "id": "01efab02-cbc6-474a-9bfd-8c6cec025819",
   "metadata": {},
   "outputs": [
    {
     "data": {
      "text/plain": [
       "datetime.timedelta(seconds=90)"
      ]
     },
     "execution_count": 60,
     "metadata": {},
     "output_type": "execute_result"
    }
   ],
   "source": [
    "timedelta(seconds = delta)"
   ]
  },
  {
   "cell_type": "code",
   "execution_count": null,
   "id": "bbc52f6c-dd8c-4f8d-814d-d59dc47d3690",
   "metadata": {},
   "outputs": [],
   "source": []
  },
  {
   "cell_type": "code",
   "execution_count": 66,
   "id": "8c0e55e5-d2e2-4769-a550-ea6d65f85739",
   "metadata": {},
   "outputs": [
    {
     "data": {
      "text/plain": [
       "'9:01:30'"
      ]
     },
     "execution_count": 66,
     "metadata": {},
     "output_type": "execute_result"
    }
   ],
   "source": [
    "str(timedelta(hours = int(s.split(':')[0]), minutes = int(s.split(':')[1]), seconds = int(s.split(':')[2])) + timedelta(seconds = delta))"
   ]
  },
  {
   "cell_type": "code",
   "execution_count": 67,
   "id": "0230a732-7252-4aa7-82f1-0a6ea8449cb3",
   "metadata": {},
   "outputs": [
    {
     "name": "stdout",
     "output_type": "stream",
     "text": [
      "9:01:30\n"
     ]
    }
   ],
   "source": [
    "print(timedelta(hours = int(s.split(':')[0]), minutes = int(s.split(':')[1]), seconds = int(s.split(':')[2])) + timedelta(seconds = delta))"
   ]
  },
  {
   "cell_type": "code",
   "execution_count": null,
   "id": "ac1f8840-f99e-4ca6-88c5-0d20dbbfd96c",
   "metadata": {},
   "outputs": [],
   "source": []
  },
  {
   "cell_type": "code",
   "execution_count": 68,
   "id": "497c5e73-5188-4ba7-9362-e06e36896b2c",
   "metadata": {},
   "outputs": [
    {
     "data": {
      "text/plain": [
       "'09:01:30'"
      ]
     },
     "execution_count": 68,
     "metadata": {},
     "output_type": "execute_result"
    }
   ],
   "source": [
    "str(timedelta(hours = int(s.split(':')[0]), minutes = int(s.split(':')[1]), seconds = int(s.split(':')[2])) + timedelta(seconds = delta)).zfill(8)"
   ]
  },
  {
   "cell_type": "code",
   "execution_count": null,
   "id": "d06c4e3c-3c76-46d2-b988-85334e2676d6",
   "metadata": {},
   "outputs": [],
   "source": []
  },
  {
   "cell_type": "code",
   "execution_count": 69,
   "id": "f64815ec-a0b6-45b1-b914-273bd2828833",
   "metadata": {},
   "outputs": [
    {
     "name": "stdin",
     "output_type": "stream",
     "text": [
      " 23:59:59\n",
      " 1\n"
     ]
    }
   ],
   "source": [
    "s = input()\n",
    "delta = int(input())"
   ]
  },
  {
   "cell_type": "code",
   "execution_count": 78,
   "id": "76a6df74-7d35-4038-a789-19a0670c7bf1",
   "metadata": {},
   "outputs": [
    {
     "data": {
      "text/plain": [
       "datetime.timedelta(seconds=86399)"
      ]
     },
     "execution_count": 78,
     "metadata": {},
     "output_type": "execute_result"
    }
   ],
   "source": [
    "time_format = timedelta(hours = int(s.split(':')[0]), minutes = int(s.split(':')[1]), seconds = int(s.split(':')[2]))\n",
    "time_format"
   ]
  },
  {
   "cell_type": "code",
   "execution_count": 81,
   "id": "edffa110-0258-4a43-b5ae-04ef0dd57553",
   "metadata": {},
   "outputs": [
    {
     "data": {
      "text/plain": [
       "datetime.timedelta(days=1)"
      ]
     },
     "execution_count": 81,
     "metadata": {},
     "output_type": "execute_result"
    }
   ],
   "source": [
    "new_time = time_format + timedelta(seconds = delta)\n",
    "new_time"
   ]
  },
  {
   "cell_type": "code",
   "execution_count": 105,
   "id": "35d1a220-7551-43db-ad2c-5a88d1978b5e",
   "metadata": {},
   "outputs": [
    {
     "data": {
      "text/plain": [
       "0"
      ]
     },
     "execution_count": 105,
     "metadata": {},
     "output_type": "execute_result"
    }
   ],
   "source": [
    "new_time.seconds"
   ]
  },
  {
   "cell_type": "code",
   "execution_count": 111,
   "id": "b8972b52-3df1-433d-bfe0-e712b192f608",
   "metadata": {},
   "outputs": [
    {
     "data": {
      "text/plain": [
       "'00:00:00'"
      ]
     },
     "execution_count": 111,
     "metadata": {},
     "output_type": "execute_result"
    }
   ],
   "source": [
    "str(timedelta(hours = new_time.seconds//3600, minutes = (new_time.seconds%3600)// 60, seconds = (new_time.seconds%3600)% 60)).zfill(8)"
   ]
  },
  {
   "cell_type": "code",
   "execution_count": null,
   "id": "91de57a4-8b70-4afe-a426-b158e50fcd93",
   "metadata": {},
   "outputs": [],
   "source": []
  },
  {
   "cell_type": "markdown",
   "id": "25732785-4836-4f2d-8286-9a681e10d3b1",
   "metadata": {},
   "source": [
    "# Задача №4"
   ]
  },
  {
   "cell_type": "code",
   "execution_count": null,
   "id": "f3a2b07f-642b-4847-b7be-53ba1eb40227",
   "metadata": {},
   "outputs": [],
   "source": [
    "Функция num_of_sundays()\n",
    "Реализуйте функцию num_of_sundays(), которая принимает на вход один аргумент:\n",
    "\n",
    "year — натуральное число, год\n",
    "Функция должна возвращать количество воскресений в году year.\n",
    "\n",
    "Примечание 1. В тестирующую систему сдайте программу, содержащую только \n",
    "необходимую функцию num_of_sundays(), но не код, вызывающий ее."
   ]
  },
  {
   "cell_type": "code",
   "execution_count": 17,
   "id": "babc670e-bb85-4c24-a876-d2ef7219f61a",
   "metadata": {},
   "outputs": [],
   "source": [
    "from datetime import date, timedelta\n",
    "\n",
    "# def num_of_sundays(year):\n",
    "    "
   ]
  },
  {
   "cell_type": "code",
   "execution_count": 56,
   "id": "15bc9aa1-c15a-4bab-83aa-2042e0d169eb",
   "metadata": {},
   "outputs": [],
   "source": [
    "year = 2024"
   ]
  },
  {
   "cell_type": "code",
   "execution_count": 62,
   "id": "c9d15eb4-14df-4305-b380-072136966e21",
   "metadata": {},
   "outputs": [
    {
     "data": {
      "text/plain": [
       "2024"
      ]
     },
     "execution_count": 62,
     "metadata": {},
     "output_type": "execute_result"
    }
   ],
   "source": [
    "year"
   ]
  },
  {
   "cell_type": "code",
   "execution_count": 63,
   "id": "99fb9179-3f63-4c23-94b3-e927842c9a71",
   "metadata": {},
   "outputs": [
    {
     "data": {
      "text/plain": [
       "datetime.date(2024, 1, 1)"
      ]
     },
     "execution_count": 63,
     "metadata": {},
     "output_type": "execute_result"
    }
   ],
   "source": [
    "date(year, 1, 1)"
   ]
  },
  {
   "cell_type": "code",
   "execution_count": 64,
   "id": "8bf7de92-2bf3-4bcb-82bb-4f16cebeea2a",
   "metadata": {
    "scrolled": true
   },
   "outputs": [
    {
     "ename": "TypeError",
     "evalue": "'datetime.date' object cannot be interpreted as an integer",
     "output_type": "error",
     "traceback": [
      "\u001b[1;31m---------------------------------------------------------------------------\u001b[0m",
      "\u001b[1;31mTypeError\u001b[0m                                 Traceback (most recent call last)",
      "Cell \u001b[1;32mIn[64], line 1\u001b[0m\n\u001b[1;32m----> 1\u001b[0m \u001b[38;5;28;01mfor\u001b[39;00m i \u001b[38;5;129;01min\u001b[39;00m \u001b[38;5;28;43mrange\u001b[39;49m\u001b[43m(\u001b[49m\u001b[43mdate\u001b[49m\u001b[43m(\u001b[49m\u001b[43myear\u001b[49m\u001b[43m,\u001b[49m\u001b[43m \u001b[49m\u001b[38;5;241;43m1\u001b[39;49m\u001b[43m,\u001b[49m\u001b[43m \u001b[49m\u001b[38;5;241;43m1\u001b[39;49m\u001b[43m)\u001b[49m\u001b[43m,\u001b[49m\u001b[43m \u001b[49m\u001b[43mdate\u001b[49m\u001b[43m(\u001b[49m\u001b[43myear\u001b[49m\u001b[43m,\u001b[49m\u001b[43m \u001b[49m\u001b[38;5;241;43m12\u001b[39;49m\u001b[43m,\u001b[49m\u001b[43m \u001b[49m\u001b[38;5;241;43m31\u001b[39;49m\u001b[43m)\u001b[49m\u001b[43m)\u001b[49m:\n\u001b[0;32m      2\u001b[0m     \u001b[38;5;28mprint\u001b[39m(i)\n",
      "\u001b[1;31mTypeError\u001b[0m: 'datetime.date' object cannot be interpreted as an integer"
     ]
    }
   ],
   "source": [
    "for i in range(date(year, 1, 1), date(year, 12, 31)):\n",
    "    print(i)"
   ]
  },
  {
   "cell_type": "code",
   "execution_count": 65,
   "id": "4e99b372-c3eb-496c-aa0c-b9857b8e051f",
   "metadata": {},
   "outputs": [
    {
     "data": {
      "text/plain": [
       "1"
      ]
     },
     "execution_count": 65,
     "metadata": {},
     "output_type": "execute_result"
    }
   ],
   "source": [
    "date(year, 1, 1).isoweekday()"
   ]
  },
  {
   "cell_type": "code",
   "execution_count": 66,
   "id": "d4e5ffe9-e75f-42de-b4a3-61a55e66d66b",
   "metadata": {},
   "outputs": [
    {
     "data": {
      "text/plain": [
       "datetime.date(2025, 1, 5)"
      ]
     },
     "execution_count": 66,
     "metadata": {},
     "output_type": "execute_result"
    }
   ],
   "source": [
    "date(year, 1, 1) + timedelta(days = 370)"
   ]
  },
  {
   "cell_type": "code",
   "execution_count": 67,
   "id": "10dc4c20-56ea-4d95-ae79-579ac1e32eb0",
   "metadata": {},
   "outputs": [],
   "source": [
    "date_year = date(year, 1, 1)"
   ]
  },
  {
   "cell_type": "code",
   "execution_count": 68,
   "id": "7589b3a4-1971-4a52-a5cf-c3bf23aaa553",
   "metadata": {},
   "outputs": [
    {
     "data": {
      "text/plain": [
       "2024"
      ]
     },
     "execution_count": 68,
     "metadata": {},
     "output_type": "execute_result"
    }
   ],
   "source": [
    "date_year.year"
   ]
  },
  {
   "cell_type": "code",
   "execution_count": 69,
   "id": "5e8e3730-9727-4606-841e-8bd9a8317c00",
   "metadata": {},
   "outputs": [
    {
     "name": "stdout",
     "output_type": "stream",
     "text": [
      "52\n"
     ]
    }
   ],
   "source": [
    "count = 0\n",
    "while date_year.year == year:\n",
    "    # print(date_year.isoweekday)\n",
    "    if date_year.isoweekday() == 6:\n",
    "        \n",
    "        count += 1\n",
    "        date_year += timedelta(days = 1)\n",
    "    else:\n",
    "        date_year += timedelta(days = 1)\n",
    "        \n",
    "print(count)"
   ]
  },
  {
   "cell_type": "code",
   "execution_count": 70,
   "id": "21ee46da-f37a-4748-b925-08c410f1e233",
   "metadata": {},
   "outputs": [],
   "source": [
    "from datetime import date, timedelta\n",
    "\n",
    "def num_of_sundays(year):\n",
    "    count = 0\n",
    "    while date_year.year == year:\n",
    "        # print(date_year.isoweekday)\n",
    "        if date_year.isoweekday() == 7:\n",
    "            \n",
    "            count += 1\n",
    "            date_year += timedelta(days = 1)\n",
    "        else:\n",
    "            date_year += timedelta(days = 1)\n",
    "\n",
    "    return count\n",
    "        "
   ]
  },
  {
   "cell_type": "code",
   "execution_count": null,
   "id": "827ba978-e3b7-4530-a653-f748346dc417",
   "metadata": {},
   "outputs": [],
   "source": []
  },
  {
   "cell_type": "markdown",
   "id": "bcdab07b-1448-44bc-a78e-322a535f26eb",
   "metadata": {},
   "source": [
    "# Задача №5"
   ]
  },
  {
   "cell_type": "code",
   "execution_count": null,
   "id": "a1792c19-4789-40db-a529-8b9081e5e557",
   "metadata": {},
   "outputs": [],
   "source": [
    "Продуктивность\n",
    "Артуру нужно подготовить \n",
    "10\n",
    "10 задач для нового курса \"ООП на Python\". Чтобы занятие не оказалось утомительным, он придумал правило:\n",
    "\n",
    "если сегодня он подготовил первую задачу, то вторую он должен подготовить через один день\n",
    "если сегодня он подготовил вторую задачу, то третью он должен подготовить через два дня\n",
    "если сегодня он подготовил третью задачу, то четвертую он должен подготовить через три дня\n",
    "и так далее\n",
    "Напишите программу, которая определяет даты, в которые Артуру нужно подготовить задачи.\n",
    "\n",
    "Формат входных данных\n",
    "На вход программе подается дата подготовки первой задачи в формате DD.MM.YYYY.\n",
    "\n",
    "Формат выходных данных\n",
    "Программа должна вывести \n",
    "10\n",
    "10 дат, удовлетворяющих условию задачи, каждую на отдельной строке, в формате DD.MM.YYYY.\n",
    "\n",
    "Sample Input 1:\n",
    "\n",
    "20.12.2021\n",
    "Sample Output 1:\n",
    "\n",
    "20.12.2021\n",
    "22.12.2021\n",
    "25.12.2021\n",
    "29.12.2021\n",
    "03.01.2022\n",
    "09.01.2022\n",
    "16.01.2022\n",
    "24.01.2022\n",
    "02.02.2022\n",
    "12.02.2022\n"
   ]
  },
  {
   "cell_type": "code",
   "execution_count": 9,
   "id": "e28910af-8fc2-4f89-bd62-9af9f0ef55af",
   "metadata": {},
   "outputs": [],
   "source": [
    "from datetime import date, timedelta"
   ]
  },
  {
   "cell_type": "code",
   "execution_count": 10,
   "id": "d5577c8a-b254-43c3-bdb4-11a9aebd4cd9",
   "metadata": {},
   "outputs": [
    {
     "name": "stdin",
     "output_type": "stream",
     "text": [
      " 20.12.2021\n"
     ]
    }
   ],
   "source": [
    "s = input()"
   ]
  },
  {
   "cell_type": "code",
   "execution_count": 76,
   "id": "3eb05c56-5c36-4b18-8ad9-c65545031895",
   "metadata": {},
   "outputs": [
    {
     "data": {
      "text/plain": [
       "'2021-12-20'"
      ]
     },
     "execution_count": 76,
     "metadata": {},
     "output_type": "execute_result"
    }
   ],
   "source": [
    "# isoformat 2024-06-06\n",
    "ss = s.split('.')[2] + '-' + s.split('.')[1] + '-' + s.split('.')[0]\n",
    "ss"
   ]
  },
  {
   "cell_type": "code",
   "execution_count": 77,
   "id": "5524da9a-b745-45b8-a3b2-238df6a126f9",
   "metadata": {},
   "outputs": [
    {
     "data": {
      "text/plain": [
       "datetime.date(2021, 12, 20)"
      ]
     },
     "execution_count": 77,
     "metadata": {},
     "output_type": "execute_result"
    }
   ],
   "source": [
    "sss = date.fromisoformat(ss)\n",
    "sss"
   ]
  },
  {
   "cell_type": "code",
   "execution_count": 78,
   "id": "0df8add4-abe0-487a-914b-0ac4a5f135bf",
   "metadata": {},
   "outputs": [],
   "source": [
    "# new_sss = sss + timedelta(days = 2)\n",
    "# new_sss"
   ]
  },
  {
   "cell_type": "code",
   "execution_count": 79,
   "id": "a26eb548-4c66-40e5-9fc0-1aee33da26da",
   "metadata": {},
   "outputs": [],
   "source": [
    "x = 2\n",
    "n = 1"
   ]
  },
  {
   "cell_type": "code",
   "execution_count": 80,
   "id": "8ea5c89b-6291-4433-a641-f40bddf7bdde",
   "metadata": {},
   "outputs": [
    {
     "name": "stdout",
     "output_type": "stream",
     "text": [
      "20.12.2021\n",
      "22.12.2021\n",
      "25.12.2021\n",
      "29.12.2021\n",
      "03.01.2022\n",
      "09.01.2022\n",
      "16.01.2022\n",
      "24.01.2022\n",
      "02.02.2022\n",
      "12.02.2022\n"
     ]
    }
   ],
   "source": [
    "new_sss = sss\n",
    "print(date.strftime(new_sss, '%d.%m.%Y'))\n",
    "\n",
    "while n != 10:\n",
    "    new_sss = new_sss + timedelta(days = x)\n",
    "    print(date.strftime(new_sss, '%d.%m.%Y'))\n",
    "    x += 1\n",
    "    n += 1"
   ]
  },
  {
   "cell_type": "code",
   "execution_count": null,
   "id": "57e41e6a-64f1-4159-a5d4-eb7d10591a10",
   "metadata": {},
   "outputs": [],
   "source": []
  },
  {
   "cell_type": "markdown",
   "id": "1909216e-d40e-43dc-a963-ff5c44f20c23",
   "metadata": {},
   "source": [
    "# Задача №6"
   ]
  },
  {
   "cell_type": "code",
   "execution_count": null,
   "id": "ca76984e-43d8-40c6-9159-debdc190e17e",
   "metadata": {},
   "outputs": [],
   "source": [
    "Соседние даты\n",
    "Дана последовательность дат. Напишите программу, которая создает и выводит список, элементами \n",
    "которого являются неотрицательные целые числа — количество дней между двумя соседними датами последовательности.\n",
    "\n",
    "Формат входных данных\n",
    "На вход программе подается последовательность дат, разделенных пробелом, в формате DD.MM.YYYY.\n",
    "\n",
    "Формат выходных данных\n",
    "Программа должна вывести список, содержащий неотрицательные целые числа, каждое из которых — количество \n",
    "дней между двумя соседними датами последовательности.\n",
    "\n",
    "Примечание 1. Даты в последовательности могут располагаться в произвольном порядке, то есть не гарантируется, \n",
    "что следующая дата больше предыдущей.\n",
    "\n",
    "Примечание 2. Если последовательность состоит из одной даты, то программа должна вывести пустой список.\n",
    "\n",
    "Примечание 3. Рассмотрим второй тест, в котором подается последовательность из пяти дат. Определим элементы \n",
    "результирующего списка:\n",
    "\n",
    "первый элемент — \n",
    "1\n",
    "1, количество дней между датами 06.10.2021 и 05.10.2021\n",
    "второй элемент — \n",
    "3\n",
    "3, количество дней между датами 05.10.2021 и 08.10.2021\n",
    "третий элемент — \n",
    "1\n",
    "1, количество дней между датами 08.10.2021 и 09.10.2021\n",
    "четвертый элемент — \n",
    "2\n",
    "2, количество дней между датами 09.10.2021 и 07.10.2021\n",
    "\n",
    "Sample Input 1:\n",
    "\n",
    "05.10.2021 06.10.2021 07.10.2021 08.10.2021 09.10.2021\n",
    "Sample Output 1:\n",
    "\n",
    "[1, 1, 1, 1]\n",
    "Sample Input 2:\n",
    "\n",
    "06.10.2021 05.10.2021 08.10.2021 09.10.2021 07.10.2021\n",
    "Sample Output 2:\n",
    "\n",
    "[1, 3, 1, 2]\n",
    "Sample Input 3:\n",
    "\n",
    "05.10.2021\n",
    "Sample Output 3:\n",
    "\n",
    "[]"
   ]
  },
  {
   "cell_type": "code",
   "execution_count": null,
   "id": "8aa080e9-fe27-482e-aff6-4c6cd7e09894",
   "metadata": {},
   "outputs": [],
   "source": []
  },
  {
   "cell_type": "code",
   "execution_count": 22,
   "id": "3638e21f-6655-4133-8209-a6164b797e24",
   "metadata": {},
   "outputs": [
    {
     "name": "stdin",
     "output_type": "stream",
     "text": [
      " 06.10.2021 05.10.2021 08.10.2021 09.10.2021 07.10.2021\n"
     ]
    }
   ],
   "source": [
    "s = input().split()"
   ]
  },
  {
   "cell_type": "code",
   "execution_count": 23,
   "id": "88c7e1ea-c026-454a-aafa-3aa00013af88",
   "metadata": {},
   "outputs": [
    {
     "data": {
      "text/plain": [
       "['06.10.2021', '05.10.2021', '08.10.2021', '09.10.2021', '07.10.2021']"
      ]
     },
     "execution_count": 23,
     "metadata": {},
     "output_type": "execute_result"
    }
   ],
   "source": [
    "s"
   ]
  },
  {
   "cell_type": "code",
   "execution_count": 24,
   "id": "12e9ab0f-a82c-43ce-9ada-f71700dd9096",
   "metadata": {},
   "outputs": [
    {
     "data": {
      "text/plain": [
       "datetime.datetime(2021, 10, 6, 0, 0)"
      ]
     },
     "execution_count": 24,
     "metadata": {},
     "output_type": "execute_result"
    }
   ],
   "source": [
    "from datetime import date, timedelta, datetime\n",
    "\n",
    "datetime.strptime(s[0], '%d.%m.%Y')"
   ]
  },
  {
   "cell_type": "code",
   "execution_count": 26,
   "id": "f90ed225-858e-4338-a656-15b6a0fccf5f",
   "metadata": {},
   "outputs": [
    {
     "data": {
      "text/plain": [
       "[1, 3, 1, 2]"
      ]
     },
     "execution_count": 26,
     "metadata": {},
     "output_type": "execute_result"
    }
   ],
   "source": [
    "res = []\n",
    "for i in range(len(s)-1):\n",
    "    res.append(abs((datetime.strptime(s[i+1], '%d.%m.%Y') - datetime.strptime(s[i], '%d.%m.%Y'))).days)\n",
    "    \n",
    "res    "
   ]
  },
  {
   "cell_type": "code",
   "execution_count": null,
   "id": "75035009-1a7f-4f51-99e8-32ccc8eb1737",
   "metadata": {},
   "outputs": [],
   "source": []
  },
  {
   "cell_type": "markdown",
   "id": "07d985cc-7de1-4a52-a43f-452b31db7816",
   "metadata": {},
   "source": [
    "# Задача №7"
   ]
  },
  {
   "cell_type": "code",
   "execution_count": null,
   "id": "0fe519fd-9307-490c-a352-65f8e79da6a1",
   "metadata": {},
   "outputs": [],
   "source": [
    "Функция fill_up_missing_dates()\n",
    "Реализуйте функцию fill_up_missing_dates(), которая принимает на вход один аргумент:\n",
    "\n",
    "dates — список строковых дат в формате DD.MM.YYYY\n",
    "Функция должна возвращать список, в котором содержатся все даты из списка dates, расположенные в \n",
    "порядке возрастания, а также все недостающие промежуточные даты.\n",
    "\n",
    "Примечание 1. Рассмотрим первый тест. Список dates содержит период с 01.11.2021 по 07.11.2021:\n",
    "\n",
    "dates = ['01.11.2021', '07.11.2021', '04.11.2021', '03.11.2021']\n",
    "в котором отсутствуют даты 02.11.2021, 05.11.2021, 06.11.2021. Тогда вызов функции:\n",
    "\n",
    "fill_up_missing_dates(dates)\n",
    "должен вернуть список: \n",
    "\n",
    "['01.11.2021', '02.11.2021', '03.11.2021', '04.11.2021', '05.11.2021', '06.11.2021', '07.11.2021']\n",
    "Примечание 2. Функция должна создавать и возвращать новый список, а не изменять переданный."
   ]
  },
  {
   "cell_type": "code",
   "execution_count": 2,
   "id": "93fa3a3b-66e8-42ac-aa05-c3f317e2ba23",
   "metadata": {},
   "outputs": [],
   "source": [
    "def fill_up_missing_dates(dates):\n",
    "    pass"
   ]
  },
  {
   "cell_type": "code",
   "execution_count": 6,
   "id": "a0ff613b-798a-42c2-8f26-4817445c2181",
   "metadata": {},
   "outputs": [],
   "source": [
    "from datetime import date, timedelta, datetime"
   ]
  },
  {
   "cell_type": "code",
   "execution_count": 7,
   "id": "c6089ccf-9925-4348-aa10-363d17dfc7d9",
   "metadata": {},
   "outputs": [],
   "source": [
    "dates = ['01.11.2021', '07.11.2021', '04.11.2021', '03.11.2021']"
   ]
  },
  {
   "cell_type": "code",
   "execution_count": 10,
   "id": "c5be9c1b-2826-4d67-8885-8f4898afbb2c",
   "metadata": {},
   "outputs": [
    {
     "name": "stdout",
     "output_type": "stream",
     "text": [
      "2021-11-01\n",
      "2021-11-07\n",
      "2021-11-04\n",
      "2021-11-03\n"
     ]
    }
   ],
   "source": [
    "for i in dates:\n",
    "    d = datetime.strptime(i, '%d.%m.%Y')\n",
    "    print(d.date())"
   ]
  },
  {
   "cell_type": "code",
   "execution_count": null,
   "id": "d9048a20-1538-4df1-803d-b762784fe48b",
   "metadata": {},
   "outputs": [],
   "source": []
  },
  {
   "cell_type": "code",
   "execution_count": 31,
   "id": "04746e91-3517-460f-9fe1-25e0536ebe73",
   "metadata": {},
   "outputs": [
    {
     "data": {
      "text/plain": [
       "[datetime.datetime(2021, 11, 1, 0, 0),\n",
       " datetime.datetime(2021, 11, 3, 0, 0),\n",
       " datetime.datetime(2021, 11, 4, 0, 0),\n",
       " datetime.datetime(2021, 11, 7, 0, 0)]"
      ]
     },
     "execution_count": 31,
     "metadata": {},
     "output_type": "execute_result"
    }
   ],
   "source": [
    "list_sorted_dates = sorted(list(map(lambda x: datetime.strptime(x, '%d.%m.%Y'), dates)))\n",
    "list_sorted_dates"
   ]
  },
  {
   "cell_type": "code",
   "execution_count": 23,
   "id": "e7f251df-cfe6-413b-a5c9-a083737859f8",
   "metadata": {},
   "outputs": [
    {
     "data": {
      "text/plain": [
       "True"
      ]
     },
     "execution_count": 23,
     "metadata": {},
     "output_type": "execute_result"
    }
   ],
   "source": [
    "datetime(2021, 11, 7, 0, 0) < datetime(2021, 11, 8, 0, 0)"
   ]
  },
  {
   "cell_type": "code",
   "execution_count": 24,
   "id": "3ecc21db-9a1e-4147-9e19-7f8ed82205b2",
   "metadata": {},
   "outputs": [
    {
     "data": {
      "text/plain": [
       "True"
      ]
     },
     "execution_count": 24,
     "metadata": {},
     "output_type": "execute_result"
    }
   ],
   "source": [
    "list_sorted_dates[0] < list_sorted_dates[-1]"
   ]
  },
  {
   "cell_type": "code",
   "execution_count": 29,
   "id": "8f1b806e-e2b4-4b96-b984-89094590accd",
   "metadata": {},
   "outputs": [
    {
     "name": "stdout",
     "output_type": "stream",
     "text": [
      "2021-11-01 00:00:00\n",
      "2021-11-02 00:00:00\n",
      "2021-11-03 00:00:00\n",
      "2021-11-04 00:00:00\n",
      "2021-11-05 00:00:00\n",
      "2021-11-06 00:00:00\n",
      "2021-11-07 00:00:00\n"
     ]
    }
   ],
   "source": [
    "i = list_sorted_dates[0]\n",
    "print(i)\n",
    "while i < list_sorted_dates[-1]:\n",
    "    i += timedelta(days = 1)\n",
    "    print(i)"
   ]
  },
  {
   "cell_type": "code",
   "execution_count": null,
   "id": "55f6f633-ea38-452d-866e-40f67f3719cb",
   "metadata": {},
   "outputs": [],
   "source": []
  },
  {
   "cell_type": "code",
   "execution_count": 32,
   "id": "3da3decd-22e1-4a9f-b812-085826ca4995",
   "metadata": {},
   "outputs": [],
   "source": [
    "res = []\n",
    "\n",
    "i = list_sorted_dates[0]\n",
    "res.append(i)\n",
    "while i < list_sorted_dates[-1]:\n",
    "    i += timedelta(days = 1)\n",
    "    res.append(i)"
   ]
  },
  {
   "cell_type": "code",
   "execution_count": 45,
   "id": "e72e94ec-a011-491d-923a-6736c6ae3de0",
   "metadata": {},
   "outputs": [
    {
     "data": {
      "text/plain": [
       "['01-11-2021',\n",
       " '02-11-2021',\n",
       " '03-11-2021',\n",
       " '04-11-2021',\n",
       " '05-11-2021',\n",
       " '06-11-2021',\n",
       " '07-11-2021']"
      ]
     },
     "execution_count": 45,
     "metadata": {},
     "output_type": "execute_result"
    }
   ],
   "source": [
    "list(map(lambda x: (datetime.strftime(x, '%d-%m-%Y')), res))"
   ]
  },
  {
   "cell_type": "code",
   "execution_count": null,
   "id": "1820e054-9b37-4d5d-9b9a-b3e5dd3d57cc",
   "metadata": {},
   "outputs": [],
   "source": []
  },
  {
   "cell_type": "code",
   "execution_count": 46,
   "id": "356fb4c0-4d73-41ff-88c8-7249e643cb1a",
   "metadata": {},
   "outputs": [],
   "source": [
    "from datetime import date, timedelta, datetime\n",
    "\n",
    "def fill_up_missing_dates(dates):\n",
    "    list_sorted_dates = sorted(list(map(lambda x: datetime.strptime(x, '%d.%m.%Y'), dates)))\n",
    "\n",
    "    res = []\n",
    "\n",
    "    i = list_sorted_dates[0]\n",
    "    res.append(i)\n",
    "    while i < list_sorted_dates[-1]:\n",
    "        i += timedelta(days = 1)\n",
    "        res.append(i)\n",
    "\n",
    "    return list(map(lambda x: (datetime.strftime(x, '%d.%m.%Y')), res))"
   ]
  },
  {
   "cell_type": "code",
   "execution_count": 47,
   "id": "5f754626-1a4a-4f4c-ba6b-b51b870b8025",
   "metadata": {},
   "outputs": [
    {
     "data": {
      "text/plain": [
       "['01-11-2021',\n",
       " '02-11-2021',\n",
       " '03-11-2021',\n",
       " '04-11-2021',\n",
       " '05-11-2021',\n",
       " '06-11-2021',\n",
       " '07-11-2021']"
      ]
     },
     "execution_count": 47,
     "metadata": {},
     "output_type": "execute_result"
    }
   ],
   "source": [
    "fill_up_missing_dates(dates)"
   ]
  },
  {
   "cell_type": "code",
   "execution_count": null,
   "id": "7b042bcd-482c-4b8c-97a5-fb64fb816485",
   "metadata": {},
   "outputs": [],
   "source": []
  },
  {
   "cell_type": "markdown",
   "id": "0bb65f48-c268-4e0f-ba50-e603220bebe8",
   "metadata": {},
   "source": [
    "# Задача №8"
   ]
  },
  {
   "cell_type": "code",
   "execution_count": null,
   "id": "aaf89201-ba71-470f-9e68-5a977dd806f3",
   "metadata": {},
   "outputs": [],
   "source": [
    "Реп по матеше\n",
    "Репетитор по математике проводит занятия по \n",
    "45\n",
    "45 минут с перерывами по \n",
    "10\n",
    "10 минут. Репетитор обозначает время начала рабочего дня и время окончания рабочего дня. Напишите программу, \n",
    "которая генерирует и выводит расписание занятий.\n",
    "\n",
    "Формат входных данных\n",
    "На вход программе в первой строке подается время начала рабочего дня в формате HH:MM. В следующей строке \n",
    "вводится время окончания рабочего дня в том же формате.\n",
    "\n",
    "Формат выходных данных\n",
    "Программа должна сгенерировать и вывести расписание занятий. На первой строке выводится время начала и \n",
    "окончания первого занятия в формате HH:MM - HH:MM, на второй строке — время начала и окончания второго \n",
    "занятия в том же формате, и так далее.\n",
    "\n",
    "Примечание 1. Если занятие обрывается временем окончания работы, то добавлять его в расписание не нужно.\n",
    "\n",
    "Примечание 2. Если разница между временем начала и окончания рабочего дня меньше \n",
    "45\n",
    "45 минут, программа ничего не должна выводить.\n",
    "\n",
    "\n",
    "Sample Input 1:\n",
    "10:00\n",
    "12:35\n",
    "Sample Output 1:\n",
    "10:00 - 10:45\n",
    "10:55 - 11:40\n",
    "11:50 - 12:35\n",
    "\n",
    "    \n",
    "Sample Input 2:\n",
    "09:00\n",
    "11:00\n",
    "Sample Output 2:\n",
    "09:00 - 09:45\n",
    "09:55 - 10:40\n",
    "\n",
    "    \n",
    "Sample Input 3:\n",
    "11:00\n",
    "11:30\n",
    "Sample Output 3:"
   ]
  },
  {
   "cell_type": "code",
   "execution_count": 4,
   "id": "6b1ac7b1-ad74-41a3-9075-d6fcef3d86e2",
   "metadata": {},
   "outputs": [],
   "source": [
    "from datetime import time, timedelta, datetime"
   ]
  },
  {
   "cell_type": "code",
   "execution_count": 46,
   "id": "88faeeae-daf1-42ba-a48b-91ec8a79a2a8",
   "metadata": {},
   "outputs": [
    {
     "name": "stdin",
     "output_type": "stream",
     "text": [
      " 09:00\n",
      " 11:00\n"
     ]
    }
   ],
   "source": [
    "start = input()\n",
    "end = input()"
   ]
  },
  {
   "cell_type": "code",
   "execution_count": 47,
   "id": "750c176d-2bde-45a0-96c0-a24aa2a0050e",
   "metadata": {},
   "outputs": [],
   "source": [
    "start = datetime.strptime(start, '%H:%M')\n",
    "end = datetime.strptime(end, '%H:%M')"
   ]
  },
  {
   "cell_type": "code",
   "execution_count": 48,
   "id": "83927989-cb77-484d-9bb1-0d436c11f256",
   "metadata": {},
   "outputs": [
    {
     "name": "stdout",
     "output_type": "stream",
     "text": [
      "09:00 - 11:00\n",
      "09:55 - 11:00\n"
     ]
    }
   ],
   "source": [
    "while start + timedelta(minutes = 45) <= end:\n",
    "    end_ = start + timedelta(minutes = 45)\n",
    "    print(datetime.strftime(start, '%H:%M'), '-', datetime.strftime(end, '%H:%M'))\n",
    "    start += timedelta(minutes = 55)\n",
    "    "
   ]
  },
  {
   "cell_type": "code",
   "execution_count": null,
   "id": "c4170874-eaa2-435e-905f-654fbf6096f0",
   "metadata": {},
   "outputs": [],
   "source": []
  },
  {
   "cell_type": "code",
   "execution_count": null,
   "id": "19f31942-21fc-4495-b299-8ab7172fca9b",
   "metadata": {},
   "outputs": [],
   "source": []
  }
 ],
 "metadata": {
  "kernelspec": {
   "display_name": "Python 3 (ipykernel)",
   "language": "python",
   "name": "python3"
  },
  "language_info": {
   "codemirror_mode": {
    "name": "ipython",
    "version": 3
   },
   "file_extension": ".py",
   "mimetype": "text/x-python",
   "name": "python",
   "nbconvert_exporter": "python",
   "pygments_lexer": "ipython3",
   "version": "3.12.3"
  }
 },
 "nbformat": 4,
 "nbformat_minor": 5
}
