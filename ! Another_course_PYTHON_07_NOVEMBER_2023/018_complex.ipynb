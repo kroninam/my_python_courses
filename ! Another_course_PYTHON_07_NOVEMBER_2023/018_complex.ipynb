{
 "cells": [
  {
   "cell_type": "code",
   "execution_count": null,
   "id": "4f5e3727",
   "metadata": {},
   "outputs": [],
   "source": []
  },
  {
   "cell_type": "markdown",
   "id": "12742b02",
   "metadata": {},
   "source": [
    "# Задача №1"
   ]
  },
  {
   "cell_type": "code",
   "execution_count": null,
   "id": "870ae669",
   "metadata": {},
   "outputs": [],
   "source": [
    "Операции над комплексными числами\n",
    "Даны два комплексных числа. Напишите программу, которая вычисляет и выводит их сумму, разность и произведение.\n",
    "\n",
    "Формат входных данных\n",
    "На вход программе подается два комплексных числа, каждое на отдельной строке.\n",
    "\n",
    "Sample Input 1:\n",
    "\n",
    "1+2j\n",
    "-2+4j\n",
    "Sample Output 1:\n",
    "\n",
    "(1+2j) + (-2+4j) = (-1+6j)\n",
    "(1+2j) - (-2+4j) = (3-2j)\n",
    "(1+2j) * (-2+4j) = (-10+0j)\n",
    "\n"
   ]
  },
  {
   "cell_type": "code",
   "execution_count": 3,
   "id": "fe2c04a9",
   "metadata": {},
   "outputs": [],
   "source": [
    "n = input()\n",
    "m = input()"
   ]
  },
  {
   "cell_type": "code",
   "execution_count": 5,
   "id": "356fce91",
   "metadata": {},
   "outputs": [
    {
     "data": {
      "text/plain": [
       "(-1+6j)"
      ]
     },
     "execution_count": 5,
     "metadata": {},
     "output_type": "execute_result"
    }
   ],
   "source": [
    "complex(n) + complex(m)"
   ]
  },
  {
   "cell_type": "code",
   "execution_count": null,
   "id": "6d388e4b",
   "metadata": {},
   "outputs": [],
   "source": []
  },
  {
   "cell_type": "code",
   "execution_count": 2,
   "id": "8ba82939",
   "metadata": {
    "scrolled": true
   },
   "outputs": [
    {
     "data": {
      "text/plain": [
       "'1+2j-2+4j'"
      ]
     },
     "execution_count": 2,
     "metadata": {},
     "output_type": "execute_result"
    }
   ],
   "source": [
    "n + m"
   ]
  },
  {
   "cell_type": "code",
   "execution_count": 8,
   "id": "0a22387d",
   "metadata": {},
   "outputs": [
    {
     "name": "stdout",
     "output_type": "stream",
     "text": [
      "(1+2j) + (-2+4j) = (-1+6j)\n",
      "(1+2j) - (-2+4j) = (3-2j)\n",
      "(1+2j) * (-2+4j) = (-10+0j)\n"
     ]
    }
   ],
   "source": [
    "print(f'{complex(n)} + {complex(m)} = {complex(n) + complex(m)}')\n",
    "print(f'{complex(n)} - {complex(m)} = {complex(n) - complex(m)}')\n",
    "print(f'{complex(n)} * {complex(m)} = {complex(n) * complex(m)}')"
   ]
  },
  {
   "cell_type": "code",
   "execution_count": null,
   "id": "2c658587",
   "metadata": {},
   "outputs": [],
   "source": []
  },
  {
   "cell_type": "markdown",
   "id": "ea92388a",
   "metadata": {},
   "source": [
    "# Задача №2"
   ]
  },
  {
   "cell_type": "code",
   "execution_count": null,
   "id": "9901f863",
   "metadata": {},
   "outputs": [],
   "source": [
    "Комплексные числа хранятся в списке numbers. Дополните приведенный код так, чтобы \n",
    "он вывел комплексное число с наибольшим модулем и сам модуль числа на отдельных строках.\n",
    "\n",
    "Примечание. Модуль комплексного числа можно вычислить с помощью встроенной функции abs()."
   ]
  },
  {
   "cell_type": "code",
   "execution_count": 9,
   "id": "0c146922",
   "metadata": {},
   "outputs": [
    {
     "data": {
      "text/plain": [
       "2.23606797749979"
      ]
     },
     "execution_count": 9,
     "metadata": {},
     "output_type": "execute_result"
    }
   ],
   "source": [
    "abs(complex(n))"
   ]
  },
  {
   "cell_type": "code",
   "execution_count": 11,
   "id": "a41f30d3",
   "metadata": {},
   "outputs": [],
   "source": [
    "numbers = [3 + 4j, 3 + 1j, -7 + 3j, 4 + 8j,\n",
    "           -8 + 10j, -3 + 2j, 3 - 2j, -9 + 9j,\n",
    "           -1 - 1j, -1 - 10j, -20 + 15j, -21 + 1j,\n",
    "           1j, -3 + 8j, 4 - 6j, 8 + 2j, 2 + 3j]"
   ]
  },
  {
   "cell_type": "code",
   "execution_count": 13,
   "id": "959b5496",
   "metadata": {},
   "outputs": [
    {
     "name": "stdout",
     "output_type": "stream",
     "text": [
      "5.0 (3+4j)\n",
      "7.615773105863909 (-7+3j)\n",
      "8.94427190999916 (4+8j)\n",
      "12.806248474865697 (-8+10j)\n",
      "25.0 (-20+15j)\n",
      "(-20+15j)\n"
     ]
    }
   ],
   "source": [
    "maxi = 0\n",
    "res = ''\n",
    "for i in numbers:\n",
    "    if abs(complex(i)) > maxi:\n",
    "        maxi = abs(complex(i))\n",
    "        res = i\n",
    "        print(maxi, res)\n",
    "print(res)"
   ]
  },
  {
   "cell_type": "code",
   "execution_count": null,
   "id": "b9da4941",
   "metadata": {},
   "outputs": [],
   "source": []
  },
  {
   "cell_type": "markdown",
   "id": "6035a203",
   "metadata": {},
   "source": [
    "# Задача №3"
   ]
  },
  {
   "cell_type": "code",
   "execution_count": 2,
   "id": "a4e14be0",
   "metadata": {},
   "outputs": [],
   "source": [
    "# Сопряженные числа\n",
    "# Дано натуральное число \n",
    "# n и два комплексных числа z1, z2. \n",
    "\n",
    "# Напишите программу, которая вычисляет и выводит значение выражения\n",
    "\n",
    "# z1**n + z2**n + z1_s**n + z2_s**n+1\n",
    "\n",
    "# где z1_s, z2_s - сопряженные числа\n",
    "\n",
    "# Test input:\n",
    "# 3\n",
    "# 1-1j\n",
    "# 1+2j\n",
    "# Correct output:\n",
    "# (-22+22j)"
   ]
  },
  {
   "cell_type": "code",
   "execution_count": null,
   "id": "6d6949bd",
   "metadata": {},
   "outputs": [],
   "source": [
    "Число z=a−bi называется сопряженным к числу z=a+bi. "
   ]
  },
  {
   "cell_type": "code",
   "execution_count": 28,
   "id": "1922c4f0",
   "metadata": {},
   "outputs": [
    {
     "name": "stdout",
     "output_type": "stream",
     "text": [
      "3\n",
      "1-1j\n",
      "1+2j\n"
     ]
    }
   ],
   "source": [
    "n = int(input())\n",
    "z1 = input()\n",
    "z2 = input()"
   ]
  },
  {
   "cell_type": "code",
   "execution_count": 29,
   "id": "516db1e0",
   "metadata": {},
   "outputs": [
    {
     "data": {
      "text/plain": [
       "1.0"
      ]
     },
     "execution_count": 29,
     "metadata": {},
     "output_type": "execute_result"
    }
   ],
   "source": [
    "complex(z1).real"
   ]
  },
  {
   "cell_type": "code",
   "execution_count": 30,
   "id": "ddfa09da",
   "metadata": {},
   "outputs": [
    {
     "data": {
      "text/plain": [
       "-1.0"
      ]
     },
     "execution_count": 30,
     "metadata": {},
     "output_type": "execute_result"
    }
   ],
   "source": [
    "complex(z1).imag"
   ]
  },
  {
   "cell_type": "code",
   "execution_count": null,
   "id": "7e94e408",
   "metadata": {},
   "outputs": [],
   "source": []
  },
  {
   "cell_type": "code",
   "execution_count": 16,
   "id": "08314c06",
   "metadata": {},
   "outputs": [
    {
     "data": {
      "text/plain": [
       "'1-1j'"
      ]
     },
     "execution_count": 16,
     "metadata": {},
     "output_type": "execute_result"
    }
   ],
   "source": [
    "z1"
   ]
  },
  {
   "cell_type": "code",
   "execution_count": 31,
   "id": "804c4699",
   "metadata": {},
   "outputs": [
    {
     "data": {
      "text/plain": [
       "(1+1j)"
      ]
     },
     "execution_count": 31,
     "metadata": {},
     "output_type": "execute_result"
    }
   ],
   "source": [
    "complex(z1).conjugate()"
   ]
  },
  {
   "cell_type": "code",
   "execution_count": 32,
   "id": "da981b95",
   "metadata": {},
   "outputs": [
    {
     "data": {
      "text/plain": [
       "'1+2j'"
      ]
     },
     "execution_count": 32,
     "metadata": {},
     "output_type": "execute_result"
    }
   ],
   "source": [
    "z2"
   ]
  },
  {
   "cell_type": "code",
   "execution_count": 33,
   "id": "4666ab69",
   "metadata": {},
   "outputs": [
    {
     "data": {
      "text/plain": [
       "(1-2j)"
      ]
     },
     "execution_count": 33,
     "metadata": {},
     "output_type": "execute_result"
    }
   ],
   "source": [
    "complex(z2).conjugate()"
   ]
  },
  {
   "cell_type": "code",
   "execution_count": null,
   "id": "e0f6d246",
   "metadata": {},
   "outputs": [],
   "source": []
  },
  {
   "cell_type": "code",
   "execution_count": null,
   "id": "0b0ff08c",
   "metadata": {},
   "outputs": [],
   "source": []
  },
  {
   "cell_type": "code",
   "execution_count": 35,
   "id": "d313971b",
   "metadata": {},
   "outputs": [],
   "source": [
    "ans = complex(z1)**n + complex(z2)**n + complex(z1).conjugate()**n + complex(z2).conjugate()**(n+1)"
   ]
  },
  {
   "cell_type": "code",
   "execution_count": 36,
   "id": "77a7904e",
   "metadata": {},
   "outputs": [
    {
     "data": {
      "text/plain": [
       "(-22+22j)"
      ]
     },
     "execution_count": 36,
     "metadata": {},
     "output_type": "execute_result"
    }
   ],
   "source": [
    "ans"
   ]
  },
  {
   "cell_type": "code",
   "execution_count": null,
   "id": "e1a2d77a",
   "metadata": {},
   "outputs": [],
   "source": []
  }
 ],
 "metadata": {
  "kernelspec": {
   "display_name": "Python 3 (ipykernel)",
   "language": "python",
   "name": "python3"
  },
  "language_info": {
   "codemirror_mode": {
    "name": "ipython",
    "version": 3
   },
   "file_extension": ".py",
   "mimetype": "text/x-python",
   "name": "python",
   "nbconvert_exporter": "python",
   "pygments_lexer": "ipython3",
   "version": "3.10.2"
  }
 },
 "nbformat": 4,
 "nbformat_minor": 5
}
