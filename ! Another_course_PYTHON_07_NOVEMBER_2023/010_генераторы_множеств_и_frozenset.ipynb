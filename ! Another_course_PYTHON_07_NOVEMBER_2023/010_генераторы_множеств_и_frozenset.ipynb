{
 "cells": [
  {
   "cell_type": "markdown",
   "id": "90d09541",
   "metadata": {},
   "source": [
    "# Задача №1"
   ]
  },
  {
   "cell_type": "code",
   "execution_count": null,
   "id": "cc2088bc",
   "metadata": {},
   "outputs": [],
   "source": [
    "Используя генератор множеств, дополните приведенный код так, чтобы получить множество, \n",
    "содержащее уникальные значения списка items. Результат вывести на одной строке, в упорядоченном виде, \n",
    "разделяя элементы одним символом пробела.\n",
    "\n",
    "Примечание 1. Обратите внимание, некоторые элементы списка – числа, а некоторые – строки, \n",
    "при этом строки необходимо трактовать как числа.\n",
    "\n",
    "Примечание 2. Чтобы вывести элементы множества в упорядоченном виде используйте следующий код:\n",
    "\n",
    "print(*sorted(myset))"
   ]
  },
  {
   "cell_type": "code",
   "execution_count": 2,
   "id": "a00c3176",
   "metadata": {},
   "outputs": [],
   "source": [
    "items = [10, '30', 30, 10, '56', 34, '12', 90, 89, 34, 45, '67', 12, 10, 90, 23, '45', 56, '56', 1, 5, '6', 5]"
   ]
  },
  {
   "cell_type": "code",
   "execution_count": 3,
   "id": "a4cf1bcf",
   "metadata": {},
   "outputs": [],
   "source": [
    "myset = {int(i) for i in items}"
   ]
  },
  {
   "cell_type": "code",
   "execution_count": 4,
   "id": "1e7e894f",
   "metadata": {},
   "outputs": [
    {
     "name": "stdout",
     "output_type": "stream",
     "text": [
      "1 5 6 10 12 23 30 34 45 56 67 89 90\n"
     ]
    }
   ],
   "source": [
    "print(*sorted(myset))"
   ]
  },
  {
   "cell_type": "code",
   "execution_count": null,
   "id": "fd4b1d2d",
   "metadata": {},
   "outputs": [],
   "source": []
  },
  {
   "cell_type": "markdown",
   "id": "b49350d4",
   "metadata": {},
   "source": [
    "# Задача №2"
   ]
  },
  {
   "cell_type": "code",
   "execution_count": null,
   "id": "68b2f10d",
   "metadata": {},
   "outputs": [],
   "source": [
    "Используя генератор множеств, дополните приведенный код так, \n",
    "чтобы получить множество, содержащее первую букву каждого слова \n",
    "(в нижнем регистре) списка words. Результат вывести на одной строке\n",
    "в алфавитном порядке, разделяя элементы одним символом пробела."
   ]
  },
  {
   "cell_type": "code",
   "execution_count": 5,
   "id": "87b192fe",
   "metadata": {},
   "outputs": [],
   "source": [
    "words = ['Plum', 'Grapefruit', 'apple', 'orange', 'pomegranate',\n",
    "         'Cranberry', 'lime', 'Lemon', 'grapes', 'persimmon', \n",
    "         'tangerine', 'Watermelon', 'currant', 'Almond']"
   ]
  },
  {
   "cell_type": "code",
   "execution_count": 7,
   "id": "70bbaa1b",
   "metadata": {},
   "outputs": [
    {
     "name": "stdout",
     "output_type": "stream",
     "text": [
      "a c g l o p t w\n"
     ]
    }
   ],
   "source": [
    "myset = {i[0].lower() for i in words}\n",
    "\n",
    "print(*sorted(myset))"
   ]
  },
  {
   "cell_type": "code",
   "execution_count": null,
   "id": "e0d7d03f",
   "metadata": {},
   "outputs": [],
   "source": []
  },
  {
   "cell_type": "markdown",
   "id": "a9440df6",
   "metadata": {},
   "source": [
    "# Задача №3"
   ]
  },
  {
   "cell_type": "code",
   "execution_count": null,
   "id": "256a9500",
   "metadata": {},
   "outputs": [],
   "source": [
    "Используя генератор множеств, дополните приведенный код так, чтобы получить \n",
    "множество, содержащее уникальные слова (в нижнем регистре) строки sentence. \n",
    "Результат вывести на одной строке в алфавитном порядке, разделяя элементы одним символом пробела.\n",
    "\n",
    "Примечание. Учтите, что знаки пунктуации не относятся к словам."
   ]
  },
  {
   "cell_type": "code",
   "execution_count": 35,
   "id": "8d407444",
   "metadata": {},
   "outputs": [],
   "source": [
    "sentence = '''My very photogenic mother died in a freak accident (picnic,\n",
    "lightning) when I was three, and, save for a pocket of warmth in the darkest past, \n",
    "nothing of her subsists within the hollows and dells of memory, over which, \n",
    "if you can still stand my style (I am writing under observation), the sun of my\n",
    "infancy had set: surely, you all know those redolent remnants of day suspended,\n",
    "with the midges, about some hedge in bloom or suddenly entered and traversed by \n",
    "the rambler, at the bottom of a hill, in the summer dusk; a furry warmth, golden midges.'''"
   ]
  },
  {
   "cell_type": "code",
   "execution_count": 64,
   "id": "f5c04648",
   "metadata": {},
   "outputs": [
    {
     "name": "stdout",
     "output_type": "stream",
     "text": [
      "a about accident all am and at bloom bottom by can darkest day dells died dusk entered for freak furry golden had hedge her hill hollows i if in infancy know lightning memory midges mother my nothing observation of or over past photogenic picnic pocket rambler redolent remnants save set some stand still style subsists suddenly summer sun surely suspended the those three traversed under very warmth was when which with within writing you\n"
     ]
    }
   ],
   "source": [
    "myset = {i.lower().strip(',) (.:;') for i in sentence.split()}\n",
    "\n",
    "print(*sorted(myset))"
   ]
  },
  {
   "cell_type": "code",
   "execution_count": null,
   "id": "636956ec",
   "metadata": {},
   "outputs": [],
   "source": []
  },
  {
   "cell_type": "markdown",
   "id": "22837b1a",
   "metadata": {},
   "source": [
    "# Задача №4"
   ]
  },
  {
   "cell_type": "code",
   "execution_count": 66,
   "id": "32149ae0",
   "metadata": {},
   "outputs": [],
   "source": [
    "# Используя генератор множеств, дополните приведенный код так, чтобы получить множество, \n",
    "# содержащее уникальные слова  строки sentence длиною меньше \n",
    "# 4 символов. Результат вывести на одной строке (в нижнем регистре) в алфавитном порядке, \n",
    "# разделяя элементы одним символом пробела.\n",
    "\n",
    "# Примечание. Учтите, что знаки пунктуации не относятся к словам."
   ]
  },
  {
   "cell_type": "code",
   "execution_count": null,
   "id": "d283133f",
   "metadata": {},
   "outputs": [],
   "source": [
    "sentence = '''My very photogenic mother died in a freak accident (picnic,\n",
    "lightning) when I was three, and, save for a pocket of warmth in the darkest past,\n",
    "nothing of her subsists within the hollows and dells of memory, over which, if you \n",
    "can still stand my style (I am writing under observation), the sun of my infancy had\n",
    "set: surely, you all know those redolent remnants of day suspended, with the midges, \n",
    "about some hedge in bloom or suddenly entered and traversed by the rambler, at the bottom\n",
    "of a hill, in the summer dusk; a furry warmth, golden midges.'''"
   ]
  },
  {
   "cell_type": "code",
   "execution_count": 73,
   "id": "5ed10e71",
   "metadata": {},
   "outputs": [],
   "source": [
    "myset = {i.lower().strip('.,:;)(') for i in sentence.split() if len(i.strip('.,:;)(')) < 4}"
   ]
  },
  {
   "cell_type": "code",
   "execution_count": 74,
   "id": "0e93ffab",
   "metadata": {},
   "outputs": [
    {
     "name": "stdout",
     "output_type": "stream",
     "text": [
      "a all am and at by can day for had her i if in my of or set sun the was you\n"
     ]
    }
   ],
   "source": [
    "print(*sorted(myset))"
   ]
  },
  {
   "cell_type": "code",
   "execution_count": null,
   "id": "6e2d7a9a",
   "metadata": {},
   "outputs": [],
   "source": []
  },
  {
   "cell_type": "markdown",
   "id": "b2bfa64e",
   "metadata": {},
   "source": [
    "# Задача №5"
   ]
  },
  {
   "cell_type": "code",
   "execution_count": null,
   "id": "b2a6290a",
   "metadata": {},
   "outputs": [],
   "source": [
    "Используя генератор множеств, дополните приведенный код так, чтобы он\n",
    "выбрал из списка files уникальные имена файлов c расширением .png, независимо\n",
    "от регистра имен и расширений. Имена файлов вывести вместе с расширением, все\n",
    "на одной строке, в нижнем регистре, в алфавитном порядке через пробел.\n",
    "\n",
    "Примечание. Если бы список files содержал следующие имена файлов:\n",
    "\n",
    "files = ['python.png', 'qwerty.py', 'Python.PNg', 'apple.pnG', 'zebra.PNG',\n",
    "         'solution.Py', 'stepik.org', 'kotlin.ko', 'github.git', 'ZeBrA.PnG']\n",
    "то ответом был бы:\n",
    "\n",
    "apple.png python.png zebra.png"
   ]
  },
  {
   "cell_type": "code",
   "execution_count": 116,
   "id": "69209c51",
   "metadata": {},
   "outputs": [],
   "source": [
    "files = ['python.png', 'qwerty.py', 'Python.PNg', 'apple.pnG', 'zebra.PNG',\n",
    "         'solution.Py', 'stepik.org', 'kotlin.ko', 'github.git', 'ZeBrA.PnG']"
   ]
  },
  {
   "cell_type": "code",
   "execution_count": 117,
   "id": "fd447933",
   "metadata": {},
   "outputs": [
    {
     "data": {
      "text/plain": [
       "['python.png',\n",
       " 'qwerty.py',\n",
       " 'Python.PNg',\n",
       " 'apple.pnG',\n",
       " 'zebra.PNG',\n",
       " 'solution.Py',\n",
       " 'stepik.org',\n",
       " 'kotlin.ko',\n",
       " 'github.git',\n",
       " 'ZeBrA.PnG']"
      ]
     },
     "execution_count": 117,
     "metadata": {},
     "output_type": "execute_result"
    }
   ],
   "source": [
    "files"
   ]
  },
  {
   "cell_type": "code",
   "execution_count": 129,
   "id": "3846eca9",
   "metadata": {},
   "outputs": [],
   "source": [
    "myset = {i.lower() for i in files if i[-3:].lower() == 'png'}"
   ]
  },
  {
   "cell_type": "code",
   "execution_count": 130,
   "id": "da184612",
   "metadata": {},
   "outputs": [
    {
     "data": {
      "text/plain": [
       "{'apple.png', 'python.png', 'zebra.png'}"
      ]
     },
     "execution_count": 130,
     "metadata": {},
     "output_type": "execute_result"
    }
   ],
   "source": [
    "myset"
   ]
  },
  {
   "cell_type": "code",
   "execution_count": 131,
   "id": "2a61a5d8",
   "metadata": {},
   "outputs": [
    {
     "name": "stdout",
     "output_type": "stream",
     "text": [
      "apple.png python.png zebra.png\n"
     ]
    }
   ],
   "source": [
    "print(*sorted(myset))"
   ]
  },
  {
   "cell_type": "code",
   "execution_count": null,
   "id": "93186b34",
   "metadata": {},
   "outputs": [],
   "source": []
  },
  {
   "cell_type": "code",
   "execution_count": null,
   "id": "a3132342",
   "metadata": {},
   "outputs": [],
   "source": []
  },
  {
   "cell_type": "markdown",
   "id": "9facfec0",
   "metadata": {},
   "source": [
    "# Тестовая Задача №1"
   ]
  },
  {
   "cell_type": "code",
   "execution_count": null,
   "id": "2ec4efe2",
   "metadata": {},
   "outputs": [],
   "source": [
    "Домашнее задание\n",
    "Учитель проверяет домашнее задание в классе и получил следующие ответы: из \n",
    "n школьников у \n",
    "m домашнее задание съела собака, у \n",
    "k отключили свет, а \n",
    "p учеников постигли оба несчастья. Напишите программу, которая определяет сколько человек выполнило домашнее задание.\n",
    "\n",
    "Формат входных данных\n",
    "На вход программе подаются числа \n",
    "\n",
    "n,m,k,p, каждое на отдельной строке.\n",
    "\n",
    "Формат выходных данных\n",
    "Программа должна вывести количество учеников, сделавших домашнее задание.\n",
    "\n",
    "Тестовые данные 🟢\n",
    "Sample Input:\n",
    "\n",
    "35\n",
    "20\n",
    "10\n",
    "3\n",
    "Sample Output:\n",
    "\n",
    "8"
   ]
  },
  {
   "cell_type": "code",
   "execution_count": 132,
   "id": "474f3d53",
   "metadata": {},
   "outputs": [
    {
     "name": "stdout",
     "output_type": "stream",
     "text": [
      "35\n",
      "20\n",
      "10\n",
      "3\n"
     ]
    }
   ],
   "source": [
    "n = int(input())\n",
    "m = int(input())\n",
    "k = int(input())\n",
    "p = int(input())"
   ]
  },
  {
   "cell_type": "code",
   "execution_count": 133,
   "id": "49131300",
   "metadata": {},
   "outputs": [],
   "source": [
    "ans = n - m - (k-p)"
   ]
  },
  {
   "cell_type": "code",
   "execution_count": 134,
   "id": "29242ea5",
   "metadata": {},
   "outputs": [
    {
     "name": "stdout",
     "output_type": "stream",
     "text": [
      "8\n"
     ]
    }
   ],
   "source": [
    "print(ans)"
   ]
  },
  {
   "cell_type": "code",
   "execution_count": null,
   "id": "e3713a12",
   "metadata": {},
   "outputs": [],
   "source": []
  },
  {
   "cell_type": "markdown",
   "id": "b090ca0c",
   "metadata": {},
   "source": [
    "# Тестовая Задача №2"
   ]
  },
  {
   "cell_type": "code",
   "execution_count": null,
   "id": "00476f6c",
   "metadata": {},
   "outputs": [],
   "source": [
    "Восход\n",
    "На спутнике «Восход» установлен прибор для измерения солнечной активности. \n",
    "Каждую минуту он передаёт в обсерваторию по каналу связи положительное целое \n",
    "число — количество энергии солнечного излучения. Для правильного анализа \n",
    "результатов нет необходимости держать повторяющиеся данные, поэтому их нужно \n",
    "удалить. Напишите программу, которая выводит максимальное количество показаний \n",
    "путника, при удалении которых результат будет правильно проанализирован.\n",
    "\n",
    "Формат входных данных\n",
    "На вход программе подаётся одна строка, содержащая числа – показания спутника \n",
    "«Восход». Числа указываются через пробел и не содержат ведущих нулей.\n",
    "\n",
    "Формат выходных данных\n",
    "Программа должна вывести максимальное количество показаний, после удаления \n",
    "5которых анализ результатов будет произведен верно.\n",
    "\n",
    "Примечание. Рассмотрим \n",
    "1\n",
    "1 тест: у нас подаются данные 10 20 30 10 40 10. Мы видим, что число \n",
    "10\n",
    "10 содержится тут \n",
    "3\n",
    "3 раза – значит, повторяющиеся числа \n",
    "10\n",
    "10 надо удалить. Таких у нас \n",
    "2\n",
    "2 (первое число \n",
    "10\n",
    "10 мы не учитываем). Другие числа не повторяются, поэтому ответ будет \n",
    "2\n",
    "2.\n",
    "\n",
    "Тестовые данные 🟢\n",
    "Sample Input 1:\n",
    "\n",
    "10 20 30 10 40 10\n",
    "Sample Output 1:\n",
    "\n",
    "2"
   ]
  },
  {
   "cell_type": "code",
   "execution_count": 140,
   "id": "cf1d6b74",
   "metadata": {},
   "outputs": [
    {
     "name": "stdout",
     "output_type": "stream",
     "text": [
      "10 20 30 10 40 10\n"
     ]
    }
   ],
   "source": [
    "s = list(map(int, input().split()))"
   ]
  },
  {
   "cell_type": "code",
   "execution_count": 141,
   "id": "70ece15b",
   "metadata": {},
   "outputs": [
    {
     "data": {
      "text/plain": [
       "[10, 20, 30, 10, 40, 10]"
      ]
     },
     "execution_count": 141,
     "metadata": {},
     "output_type": "execute_result"
    }
   ],
   "source": [
    "s"
   ]
  },
  {
   "cell_type": "code",
   "execution_count": 142,
   "id": "6d9da733",
   "metadata": {},
   "outputs": [],
   "source": [
    "ss = set(s)"
   ]
  },
  {
   "cell_type": "code",
   "execution_count": 143,
   "id": "b2c2845d",
   "metadata": {},
   "outputs": [
    {
     "data": {
      "text/plain": [
       "{10, 20, 30, 40}"
      ]
     },
     "execution_count": 143,
     "metadata": {},
     "output_type": "execute_result"
    }
   ],
   "source": [
    "ss"
   ]
  },
  {
   "cell_type": "code",
   "execution_count": 144,
   "id": "59bea156",
   "metadata": {},
   "outputs": [],
   "source": [
    "ans = len(s) - len(ss)"
   ]
  },
  {
   "cell_type": "code",
   "execution_count": 145,
   "id": "ed4c08ac",
   "metadata": {},
   "outputs": [
    {
     "data": {
      "text/plain": [
       "2"
      ]
     },
     "execution_count": 145,
     "metadata": {},
     "output_type": "execute_result"
    }
   ],
   "source": [
    "ans"
   ]
  },
  {
   "cell_type": "code",
   "execution_count": null,
   "id": "0d6b6141",
   "metadata": {},
   "outputs": [],
   "source": []
  },
  {
   "cell_type": "markdown",
   "id": "b693e6dd",
   "metadata": {},
   "source": [
    "# Тестовая Задача №3"
   ]
  },
  {
   "cell_type": "code",
   "execution_count": null,
   "id": "1ebc3933",
   "metadata": {},
   "outputs": [],
   "source": [
    "Города\n",
    "Тимур и Руслан играют в игру города. Они очень любят эту игру и знают \n",
    "много городов, особенно Тимур, однако к концу игры ввиду своего возраста забывают,\n",
    "какие города уже называли.\n",
    "\n",
    "Напишите программу, считывающую информацию об игре и сообщающую ребятам, \n",
    "что очередной город назван повторно.\n",
    "\n",
    "Формат входных данных\n",
    "На вход программе в первой строке подаётся натуральное число \n",
    "n – количество названных городов, в последующих \n",
    "n строках вводятся названные города и ещё одна строка с новым, только что названым городом.\n",
    "\n",
    "Формат выходных данных\n",
    "Программа должна вывести OK, если этот город ещё не вспоминали, и REPEAT, если город уже был назван.\n",
    "\n",
    "Sample Input 1:\n",
    "\n",
    "3\n",
    "Каир\n",
    "Рим\n",
    "Москва\n",
    "Агра\n",
    "Sample Output 1:\n",
    "\n",
    "OK"
   ]
  },
  {
   "cell_type": "code",
   "execution_count": 147,
   "id": "c09818f7",
   "metadata": {},
   "outputs": [
    {
     "name": "stdout",
     "output_type": "stream",
     "text": [
      "3\n",
      "Каир\n",
      "Рим\n",
      "Москва\n",
      "Агра\n",
      "OK\n"
     ]
    }
   ],
   "source": [
    "n = int(input())\n",
    "\n",
    "lst = []\n",
    "for i in range(n):\n",
    "    s = input()\n",
    "    lst.append(s)\n",
    "    ss = set(lst)\n",
    "    \n",
    "new = input()\n",
    "\n",
    "if new in ss:\n",
    "    print('REPEAT')\n",
    "else:\n",
    "    print(\"OK\")"
   ]
  },
  {
   "cell_type": "code",
   "execution_count": null,
   "id": "9e48cc75",
   "metadata": {},
   "outputs": [],
   "source": []
  },
  {
   "cell_type": "markdown",
   "id": "62fc0936",
   "metadata": {},
   "source": [
    "# Тестовая Задача №4"
   ]
  },
  {
   "cell_type": "code",
   "execution_count": null,
   "id": "fee3d4b6",
   "metadata": {},
   "outputs": [],
   "source": [
    "Книги на прочтение\n",
    "Руслан получил в конце учебного года список литературы на лето. Теперь ему надо выяснить, \n",
    "какие книги из этого списка у него есть. У Руслана на компьютере в текстовом файле \n",
    "записаны все книги из его домашней библиотеки в случайном порядке.\n",
    "\n",
    "Напишите программу, определяющую для каждой книги из списка на прочтение, \n",
    "есть она у Руслана или нет.\n",
    "\n",
    "Формат входных данных\n",
    "На вход программе в первой строке подается натуральное число \n",
    "m — количество книг в домашней библиотеке Руслана. Во второй строке записано натуральное число \n",
    "n —  количество книг в списке на лето. Далее идут \n",
    "m строк с названиями книг из домашней библиотеки и \n",
    "n строк названий из списка на лето.\n",
    "\n",
    "Формат выходных данных\n",
    "Программа должна вывести \n",
    "n строк, в каждой из которых написано слово YES, если книга найдена в библиотеке, и NO, если нет.\n",
    "\n",
    "Sample Input:\n",
    "\n",
    "4\n",
    "4\n",
    "Хоббит\n",
    "Алиса в стране чудес\n",
    "Том Сойер\n",
    "Остров сокровищ\n",
    "Буратино\n",
    "Хоббит\n",
    "Остров сокровищ\n",
    "Война и мир\n",
    "Sample Output:\n",
    "\n",
    "NO\n",
    "YES\n",
    "YES\n",
    "NO"
   ]
  },
  {
   "cell_type": "code",
   "execution_count": 152,
   "id": "98d76d31",
   "metadata": {},
   "outputs": [
    {
     "name": "stdout",
     "output_type": "stream",
     "text": [
      "1\n",
      "adfg\n"
     ]
    }
   ],
   "source": [
    "m = int(input())\n",
    "n = int(input())\n",
    "\n",
    "\n",
    "\n",
    "    \n",
    "dom_lib = set()\n",
    "for i in range(m):\n",
    "    dom_lib.add(input())\n",
    "    \n",
    "spisok = set()\n",
    "for i in range(n):\n",
    "    spisok.add(input())    \n",
    "    \n",
    "\n",
    "    \n",
    "for i in spisok:\n",
    "    if i in dom_lib:\n",
    "        print('YES')\n",
    "    else:\n",
    "        print('NO')"
   ]
  },
  {
   "cell_type": "code",
   "execution_count": 153,
   "id": "abea8408",
   "metadata": {},
   "outputs": [
    {
     "data": {
      "text/plain": [
       "{'adfg'}"
      ]
     },
     "execution_count": 153,
     "metadata": {},
     "output_type": "execute_result"
    }
   ],
   "source": [
    "ss"
   ]
  },
  {
   "cell_type": "code",
   "execution_count": null,
   "id": "1bc89739",
   "metadata": {},
   "outputs": [],
   "source": []
  },
  {
   "cell_type": "markdown",
   "id": "afa5471f",
   "metadata": {},
   "source": [
    "# Тестовая Задача №5"
   ]
  },
  {
   "cell_type": "code",
   "execution_count": null,
   "id": "54ee5cb1",
   "metadata": {},
   "outputs": [],
   "source": [
    "Странное увлечение\n",
    "Как известно, математики странные люди. Не составляет исключения и Тимур — автор данного курса. \n",
    "Каждый день Тимур решает ровно две сложные математические задачи. Решая первую задачу, \n",
    "он записывает на первом листочке все числа, которые в ней встречаются. Далее он делает \n",
    "паузу и берется за вторую задачу. Затем записывает на втором листочке все числа, которые \n",
    "в ней встречаются. После этого он берет еще один листок и выписывает на него все совпадающие \n",
    "числа из первых двух листочков. Если такие числа есть — день удался, если общих чисел нет — \n",
    "Тимур считает день неудачным.\n",
    "\n",
    "Напишите программу, которая находит общие числа двух листочков или сообщает, что день не удался 😏.\n",
    "\n",
    "Формат входных данных\n",
    "На вход программе подаются две строки с числами: в первой строке числа с первого листочка, во второй — со второго.\n",
    "\n",
    "Формат выходных данных\n",
    "Программа должна вывести числа, встретившиеся на обоих листках в отсортированном по убыванию порядке, либо \n",
    "словосочетание BAD DAY, если таких чисел нет.\n",
    "\n",
    "Тестовые данные 🟢\n",
    "Sample Input 1:\n",
    "\n",
    "6 56 7 34 14\n",
    "675 45 246 2 1\n",
    "Sample Output 1:\n",
    "\n",
    "BAD DAY"
   ]
  },
  {
   "cell_type": "code",
   "execution_count": 159,
   "id": "2c8ca25b",
   "metadata": {},
   "outputs": [
    {
     "name": "stdout",
     "output_type": "stream",
     "text": [
      "6 56 7 34 14\n",
      "675 45 246 2 1\n"
     ]
    }
   ],
   "source": [
    "s = {int(i) for i in input().split()}\n",
    "s1 = {int(i) for i in input().split()}"
   ]
  },
  {
   "cell_type": "code",
   "execution_count": 162,
   "id": "4cb554ac",
   "metadata": {},
   "outputs": [
    {
     "name": "stdout",
     "output_type": "stream",
     "text": [
      "BAD DAY\n"
     ]
    }
   ],
   "source": [
    "if s.isdisjoint(s1):\n",
    "    print('BAD DAY')\n",
    "else:\n",
    "    print(*sorted(s.intersection(s1), reverse = True))"
   ]
  },
  {
   "cell_type": "code",
   "execution_count": null,
   "id": "8a8160ea",
   "metadata": {},
   "outputs": [],
   "source": []
  },
  {
   "cell_type": "markdown",
   "id": "1ce24a44",
   "metadata": {},
   "source": [
    "# Тестовая Задача №6"
   ]
  },
  {
   "cell_type": "code",
   "execution_count": null,
   "id": "936fd12a",
   "metadata": {},
   "outputs": [],
   "source": [
    "Онлайн-школа BEEGEEK 1\n",
    "При приёме новых сотрудников в онлайн-школу BEEGEEK её руководитель тестирует не \n",
    "только профессиональные качества кандидата, но и его память.\n",
    "\n",
    "Кандидату показывают ненадолго несколько различных чисел, а затем кандидат должен \n",
    "их назвать. Причем неважно, в каком порядке он их вспоминает, и повторяется он или \n",
    "нет, главное он должен назвать все числа, не добавляя лишних.\n",
    "\n",
    "Напишите программу, определяющую, успешно ли прошел кандидат тестирование памяти.\n",
    "\n",
    "Формат входных данных\n",
    "На вход программе подаются две строки с числами: в первой строке показанные кандидату,\n",
    "    а во второй ответы кандидата.\n",
    "\n",
    "Формат выходных данных\n",
    "Программа должна вывести YES, если кандидат прошел испытание и его можно брать на \n",
    "работу и NO в противном случае.\n",
    "\n",
    "Sample Input 1:\n",
    "\n",
    "8\n",
    "9\n",
    "Sample Output 1:\n",
    "\n",
    "NO"
   ]
  },
  {
   "cell_type": "code",
   "execution_count": 164,
   "id": "5278bbce",
   "metadata": {},
   "outputs": [
    {
     "name": "stdout",
     "output_type": "stream",
     "text": [
      "1 2 3 4 5 6\n"
     ]
    }
   ],
   "source": [
    "s = [int(i) for i in input().split()]"
   ]
  },
  {
   "cell_type": "code",
   "execution_count": 165,
   "id": "901f690a",
   "metadata": {},
   "outputs": [
    {
     "name": "stdout",
     "output_type": "stream",
     "text": [
      "6 5 2 3 1\n"
     ]
    }
   ],
   "source": [
    "s1 = [int(i) for i in input().split()]"
   ]
  },
  {
   "cell_type": "code",
   "execution_count": 167,
   "id": "51918697",
   "metadata": {},
   "outputs": [
    {
     "name": "stdout",
     "output_type": "stream",
     "text": [
      "NO\n"
     ]
    }
   ],
   "source": [
    "if set(s) == set(s1):\n",
    "    print(\"YES\")\n",
    "else:\n",
    "    print('NO')"
   ]
  },
  {
   "cell_type": "code",
   "execution_count": null,
   "id": "46f88917",
   "metadata": {},
   "outputs": [],
   "source": []
  },
  {
   "cell_type": "markdown",
   "id": "7cb1aa29",
   "metadata": {},
   "source": [
    "# Тестовая Задача №7"
   ]
  },
  {
   "cell_type": "code",
   "execution_count": null,
   "id": "1b790c13",
   "metadata": {},
   "outputs": [],
   "source": [
    "Онлайн-школа BEEGEEK 2\n",
    "Каждый ученик, обучающийся в онлайн-школе BEEGEEK изучает либо математику, \n",
    "либо информатику, либо оба эти предмета. У руководителя школы есть списки изучающих каждый предмет.\n",
    "\n",
    "Напишите программу, позволяющую руководителю выяснить, сколько учеников изучает только математику.\n",
    "\n",
    "Формат входных данных\n",
    "На вход программе в первых двух строках подаются числа \n",
    "m и \n",
    "n – количества учеников, изучающих математику и информатику соответственно. Далее идут \n",
    "m строк — фамилии учеников, которые изучают математику и \n",
    "n строк с фамилиями учеников, изучающих информатику.\n",
    "\n",
    "Формат выходных данных\n",
    "Программа должна вывести количество учеников, которые изучают только математику.\n",
    "\n",
    "Примечание. Гарантируется, что среди учеников школы BEEGEEK нет однофамильцев.\n",
    "\n",
    " \n",
    "Тестовые данные 🟢\n",
    "Sample Input 1:\n",
    "\n",
    "2\n",
    "3\n",
    "Хохлов\n",
    "Фадеев\n",
    "Ершов\n",
    "Ушаков\n",
    "Хохлов\n",
    "Sample Output 1:\n",
    "\n",
    "1"
   ]
  },
  {
   "cell_type": "code",
   "execution_count": 171,
   "id": "5c5d6a9b",
   "metadata": {},
   "outputs": [
    {
     "name": "stdout",
     "output_type": "stream",
     "text": [
      "2\n",
      "3\n",
      "Хохлов\n",
      "Фадеев\n",
      "Ершов\n",
      "Ушаков\n",
      "Хохлов\n"
     ]
    }
   ],
   "source": [
    "m = int(input())\n",
    "n = int(input())\n",
    "\n",
    "matem = []\n",
    "for i in range(m):\n",
    "    matem.append(input())\n",
    "\n",
    "    \n",
    "info = []\n",
    "for i in range(n):\n",
    "    info.append(input())\n",
    "    "
   ]
  },
  {
   "cell_type": "code",
   "execution_count": 172,
   "id": "32fb8d2b",
   "metadata": {},
   "outputs": [
    {
     "data": {
      "text/plain": [
       "['Хохлов', 'Фадеев']"
      ]
     },
     "execution_count": 172,
     "metadata": {},
     "output_type": "execute_result"
    }
   ],
   "source": [
    "matem"
   ]
  },
  {
   "cell_type": "code",
   "execution_count": 173,
   "id": "a89f3f5b",
   "metadata": {},
   "outputs": [
    {
     "data": {
      "text/plain": [
       "['Ершов', 'Ушаков', 'Хохлов']"
      ]
     },
     "execution_count": 173,
     "metadata": {},
     "output_type": "execute_result"
    }
   ],
   "source": [
    "info"
   ]
  },
  {
   "cell_type": "code",
   "execution_count": 176,
   "id": "c8c67c11",
   "metadata": {},
   "outputs": [
    {
     "name": "stdout",
     "output_type": "stream",
     "text": [
      "1\n"
     ]
    }
   ],
   "source": [
    "print(len(set(matem) - set(info)))"
   ]
  },
  {
   "cell_type": "code",
   "execution_count": null,
   "id": "3ad37c6b",
   "metadata": {},
   "outputs": [],
   "source": []
  },
  {
   "cell_type": "markdown",
   "id": "83a7cc00",
   "metadata": {},
   "source": [
    "# Тестовая Задача №8"
   ]
  },
  {
   "cell_type": "code",
   "execution_count": null,
   "id": "b6774e73",
   "metadata": {},
   "outputs": [],
   "source": [
    "Онлайн-школа BEEGEEK 3\n",
    "Каждый ученик, обучающийся в онлайн-школе BEEGEEK изучает либо математику, \n",
    "либо информатику, либо оба этих предмета. У руководителя школы есть списки \n",
    "изучающих каждый предмет.\n",
    "\n",
    "Напишите программу, позволяющую руководителю выяснить, сколько учеников \n",
    "изучает только один предмет.\n",
    "\n",
    "Формат входных данных\n",
    "На вход программе в первых двух строках подаются числа \n",
    "m и \n",
    "n – количества учеников, изучающих математику и информатику соответственно. \n",
    "Далее идут \n",
    "m строк — фамилии учеников, которые изучают математику и \n",
    "n строк с фамилиями учеников, изучающих информатику.\n",
    "\n",
    "Формат выходных данных\n",
    "Программа должна вывести количество учеников, которые изучают только один\n",
    "предмет. Если таких учеников не окажется, то необходимо вывести NO.\n",
    "\n",
    "Примечание. Гарантируется, что среди учеников школы BEEGEEK нет однофамильцев.\n",
    "\n",
    "Sample Input 1:\n",
    "\n",
    "5\n",
    "4\n",
    "Демин\n",
    "Рыбаков\n",
    "Сафонов\n",
    "Игнатов\n",
    "Мухин\n",
    "Сафонов\n",
    "Игнатов\n",
    "Демин\n",
    "Рыбаков\n",
    "Sample Output 1:\n",
    "\n",
    "1"
   ]
  },
  {
   "cell_type": "code",
   "execution_count": null,
   "id": "5596ee8f",
   "metadata": {},
   "outputs": [],
   "source": [
    "m = int(input())\n",
    "n = int(input())\n",
    "\n",
    "matem = []\n",
    "for i in range(m):\n",
    "    matem.append(input())\n",
    "\n",
    "    \n",
    "info = []\n",
    "for i in range(n):\n",
    "    info.append(input())"
   ]
  },
  {
   "cell_type": "code",
   "execution_count": 179,
   "id": "8a8fba32",
   "metadata": {},
   "outputs": [
    {
     "name": "stdout",
     "output_type": "stream",
     "text": [
      "1\n"
     ]
    }
   ],
   "source": [
    "print(len(set(s).symmetric_difference(s1)))"
   ]
  },
  {
   "cell_type": "code",
   "execution_count": null,
   "id": "0085dc2d",
   "metadata": {},
   "outputs": [],
   "source": []
  },
  {
   "cell_type": "markdown",
   "id": "1fbd475c",
   "metadata": {},
   "source": [
    "# Тестовая Задача №9"
   ]
  },
  {
   "cell_type": "code",
   "execution_count": null,
   "id": "cc0261b9",
   "metadata": {},
   "outputs": [],
   "source": [
    "Онлайн-школа BEEGEEK 4\n",
    "Руководитель онлайн-школы BEEGEEK и его помощник составили списки учеников их школы.\n",
    "\n",
    "Напишите программу, которая выведет все фамилии учеников, которые вспомнили \n",
    "руководитель и его помощник.\n",
    "\n",
    "Формат входных данных\n",
    "На вход программе в первой строке подаются фамилии, записанные руководителем \n",
    "школы, а на второй строке - помощником руководителя. Фамилии указываются через пробел.\n",
    "\n",
    "Формат выходных данных\n",
    "Программа должна вывести все фамилии учеников, отсортированных в лексикографическом\n",
    "порядке, записанные руководителем и его помощником.\n",
    "\n",
    "Примечание. Гарантируется, что среди учеников школы BEEGEEK нет однофамильцев.\n",
    "\n",
    "Тестовые данные 🟢\n",
    "Sample Input 1:\n",
    "\n",
    "Блинов Жданов\n",
    "Бобров Жданов Некрасов Блинов\n",
    "Sample Output 1:\n",
    "\n",
    "Блинов Бобров Жданов Некрасов"
   ]
  },
  {
   "cell_type": "code",
   "execution_count": 181,
   "id": "8a30af3b",
   "metadata": {},
   "outputs": [
    {
     "name": "stdout",
     "output_type": "stream",
     "text": [
      "Блинов Жданов\n"
     ]
    }
   ],
   "source": [
    "s = {i for i in input().split()}"
   ]
  },
  {
   "cell_type": "code",
   "execution_count": 182,
   "id": "08e75e36",
   "metadata": {},
   "outputs": [
    {
     "name": "stdout",
     "output_type": "stream",
     "text": [
      "Бобров Жданов Некрасов Блинов\n"
     ]
    }
   ],
   "source": [
    "s1 = {i for i in input().split()}"
   ]
  },
  {
   "cell_type": "code",
   "execution_count": 185,
   "id": "32133e7b",
   "metadata": {},
   "outputs": [
    {
     "name": "stdout",
     "output_type": "stream",
     "text": [
      "Блинов Бобров Жданов Некрасов\n"
     ]
    }
   ],
   "source": [
    "print(*sorted(s | s1))"
   ]
  },
  {
   "cell_type": "code",
   "execution_count": null,
   "id": "d741e95e",
   "metadata": {},
   "outputs": [],
   "source": []
  },
  {
   "cell_type": "markdown",
   "id": "5a628d27",
   "metadata": {},
   "source": [
    "# Тестовая Задача №10"
   ]
  },
  {
   "cell_type": "code",
   "execution_count": null,
   "id": "dc9b3b66",
   "metadata": {},
   "outputs": [],
   "source": [
    "Онлайн-школа BEEGEEK 5 🌶️\n",
    "Каждый ученик, обучающийся в онлайн-школе BEEGEEK изучает либо математику, \n",
    "либо информатику, либо оба этих предмета. У руководителя школы есть списки учеников, \n",
    "изучающих каждый предмет. Случайно списки всех учеников перемешались.\n",
    "\n",
    "Напишите программу, которая позволит руководителю выяснить, сколько учеников \n",
    "изучает только один предмет.\n",
    "\n",
    "Формат входных данных\n",
    "На вход программе в первых двух строках подаются числа \n",
    "m и \n",
    "n – количества учеников, изучающих математику и информатику соответственно. Далее идут \n",
    "\n",
    "m+n строк — фамилии учеников, изучающих математику и информатику, в произвольном порядке.\n",
    "\n",
    "Формат выходных данных\n",
    "Программа должна вывести количество учеников, которые изучают только один предмет. \n",
    "Если таких учеников не окажется, то необходимо вывести NO.\n",
    "\n",
    "Примечание. Гарантируется, что среди учеников школы BEEGEEK нет однофамильцев.\n",
    "\n",
    "Тестовые данные 🟢\n",
    "Sample Input 1:\n",
    "\n",
    "2\n",
    "3\n",
    "Хохлов\n",
    "Фадеев\n",
    "Ершов\n",
    "Ушаков\n",
    "Хохлов\n",
    "\n",
    "Sample Output 1:\n",
    "\n",
    "3"
   ]
  },
  {
   "cell_type": "code",
   "execution_count": 189,
   "id": "c5fe098b",
   "metadata": {},
   "outputs": [
    {
     "name": "stdout",
     "output_type": "stream",
     "text": [
      "2\n",
      "2\n",
      "a\n",
      "s\n",
      "d\n",
      "f\n",
      "4\n"
     ]
    }
   ],
   "source": [
    "m = int(input())\n",
    "n = int(input())\n",
    "\n",
    "lst = []\n",
    "for i in range(m+n):\n",
    "    lst.append(input())\n",
    "    \n",
    "diff = len(lst) - len(set(lst))\n",
    "\n",
    "ans = m+n - diff\n",
    "\n",
    "if ans == 0:\n",
    "    print('NO')\n",
    "else:\n",
    "    print(ans)"
   ]
  },
  {
   "cell_type": "code",
   "execution_count": 188,
   "id": "23cec960",
   "metadata": {},
   "outputs": [
    {
     "data": {
      "text/plain": [
       "2"
      ]
     },
     "execution_count": 188,
     "metadata": {},
     "output_type": "execute_result"
    }
   ],
   "source": [
    "ans"
   ]
  },
  {
   "cell_type": "code",
   "execution_count": null,
   "id": "2d733070",
   "metadata": {},
   "outputs": [],
   "source": []
  },
  {
   "cell_type": "markdown",
   "id": "d73a4e83",
   "metadata": {},
   "source": [
    "# Тестовая Задача №11"
   ]
  },
  {
   "cell_type": "code",
   "execution_count": null,
   "id": "00d52995",
   "metadata": {},
   "outputs": [],
   "source": [
    "Онлайн-школа BEEGEEK 6 🌶️\n",
    "Руководителю онлайн-школы BEEGEEK захотелось узнать, кто из его учеников присутствовал \n",
    "на всех уроках с начала учебного года. Для каждого урока есть листок \n",
    "со списком присутствовавших учеников.\n",
    "\n",
    "Напишите программу, определяющую фамилии учеников, которые присутствовали \n",
    "на всех уроках.\n",
    "\n",
    "Формат входных данных\n",
    "На вход программе в первой строке дается число \n",
    "m – количество уроков, проведенных с начала учебного года. Далее идёт \n",
    "m блоков строк, описывающих листки с фамилиями. На первой строке каждого \n",
    "блока указано количество фамилий \n",
    "\n",
    "n-i\n",
    " , затем идёт \n",
    "n-i\n",
    "  строчек с фамилиями тех, кто был на i-ом уроке.\n",
    "\n",
    "Формат выходных данных\n",
    "Программа должна вывести фамилии учеников, которые были на всех уроках, \n",
    "отсортированных в лексикографическом порядке. Каждая фамилия должна быть записана на отдельной строке.\n",
    "\n",
    "Примечание 1. Гарантируется, что среди учеников школы BEEGEEK нет однофамильцев.\n",
    "\n",
    "Примечание 2. Гарантируется, что хотя бы один ученик был на всех уроках.\n",
    "\n",
    "Sample Input 1:\n",
    "\n",
    "2\n",
    "4\n",
    "Черкасов\n",
    "Фокин\n",
    "Самойлов\n",
    "Устинов\n",
    "2\n",
    "Черкасов\n",
    "Устинов\n",
    "\n",
    "Sample Output 1:\n",
    "\n",
    "Устинов\n",
    "Черкасов"
   ]
  },
  {
   "cell_type": "code",
   "execution_count": 219,
   "id": "0601f261",
   "metadata": {},
   "outputs": [
    {
     "name": "stdout",
     "output_type": "stream",
     "text": [
      "2\n",
      "4\n",
      "ч\n",
      "ф\n",
      "с\n",
      "у\n",
      "['ч', 'ф', 'с', 'у']\n",
      "2\n",
      "ч\n",
      "у\n",
      "['ч', 'у']\n"
     ]
    }
   ],
   "source": [
    "m = int(input())\n",
    "\n",
    "final_rez = []\n",
    "\n",
    "\n",
    "for i in range(m):\n",
    "    n = int(input())\n",
    "    lst = []\n",
    "    for i in range(n):\n",
    "        lst.append(input())\n",
    "        \n",
    "    print(lst)\n",
    "    final_rez.append(lst)\n",
    "    \n",
    "    "
   ]
  },
  {
   "cell_type": "code",
   "execution_count": 220,
   "id": "f503286e",
   "metadata": {},
   "outputs": [
    {
     "data": {
      "text/plain": [
       "[['ч', 'ф', 'с', 'у'], ['ч', 'у']]"
      ]
     },
     "execution_count": 220,
     "metadata": {},
     "output_type": "execute_result"
    }
   ],
   "source": [
    "final_rez"
   ]
  },
  {
   "cell_type": "code",
   "execution_count": 224,
   "id": "28685d05",
   "metadata": {},
   "outputs": [
    {
     "name": "stdout",
     "output_type": "stream",
     "text": [
      "у ч\n"
     ]
    }
   ],
   "source": [
    "ans = []\n",
    "for i in range(m-1):\n",
    "    print(*sorted(set(final_rez[i]) & set(final_rez[i+1])))\n",
    "    "
   ]
  },
  {
   "cell_type": "code",
   "execution_count": null,
   "id": "fdbe19d2",
   "metadata": {},
   "outputs": [],
   "source": []
  }
 ],
 "metadata": {
  "kernelspec": {
   "display_name": "Python 3 (ipykernel)",
   "language": "python",
   "name": "python3"
  },
  "language_info": {
   "codemirror_mode": {
    "name": "ipython",
    "version": 3
   },
   "file_extension": ".py",
   "mimetype": "text/x-python",
   "name": "python",
   "nbconvert_exporter": "python",
   "pygments_lexer": "ipython3",
   "version": "3.10.2"
  }
 },
 "nbformat": 4,
 "nbformat_minor": 5
}
