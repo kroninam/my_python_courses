{
 "cells": [
  {
   "cell_type": "code",
   "execution_count": 1,
   "id": "aa981caf",
   "metadata": {},
   "outputs": [],
   "source": [
    "# Вложенные словари"
   ]
  },
  {
   "cell_type": "code",
   "execution_count": 5,
   "id": "a5bdbe73",
   "metadata": {},
   "outputs": [],
   "source": [
    "info = {'emp1': {'name': 'Timur', 'job': 'Teacher', 'dict': {'dict', 'dict2'}},\n",
    "        'emp2': {'name': 'Ruslan', 'job': 'Developer'},\n",
    "        'emp3': {'name': 'Rustam', 'job': 'Tester'}}"
   ]
  },
  {
   "cell_type": "code",
   "execution_count": 6,
   "id": "8537ceb4",
   "metadata": {},
   "outputs": [],
   "source": [
    "import pandas as pd"
   ]
  },
  {
   "cell_type": "code",
   "execution_count": 7,
   "id": "872651cf",
   "metadata": {},
   "outputs": [
    {
     "data": {
      "text/html": [
       "<div>\n",
       "<style scoped>\n",
       "    .dataframe tbody tr th:only-of-type {\n",
       "        vertical-align: middle;\n",
       "    }\n",
       "\n",
       "    .dataframe tbody tr th {\n",
       "        vertical-align: top;\n",
       "    }\n",
       "\n",
       "    .dataframe thead th {\n",
       "        text-align: right;\n",
       "    }\n",
       "</style>\n",
       "<table border=\"1\" class=\"dataframe\">\n",
       "  <thead>\n",
       "    <tr style=\"text-align: right;\">\n",
       "      <th></th>\n",
       "      <th>emp1</th>\n",
       "      <th>emp2</th>\n",
       "      <th>emp3</th>\n",
       "    </tr>\n",
       "  </thead>\n",
       "  <tbody>\n",
       "    <tr>\n",
       "      <th>name</th>\n",
       "      <td>Timur</td>\n",
       "      <td>Ruslan</td>\n",
       "      <td>Rustam</td>\n",
       "    </tr>\n",
       "    <tr>\n",
       "      <th>job</th>\n",
       "      <td>Teacher</td>\n",
       "      <td>Developer</td>\n",
       "      <td>Tester</td>\n",
       "    </tr>\n",
       "    <tr>\n",
       "      <th>dict</th>\n",
       "      <td>{dict2, dict}</td>\n",
       "      <td>NaN</td>\n",
       "      <td>NaN</td>\n",
       "    </tr>\n",
       "  </tbody>\n",
       "</table>\n",
       "</div>"
      ],
      "text/plain": [
       "               emp1       emp2    emp3\n",
       "name          Timur     Ruslan  Rustam\n",
       "job         Teacher  Developer  Tester\n",
       "dict  {dict2, dict}        NaN     NaN"
      ]
     },
     "execution_count": 7,
     "metadata": {},
     "output_type": "execute_result"
    }
   ],
   "source": [
    "pd.DataFrame(info)"
   ]
  },
  {
   "cell_type": "code",
   "execution_count": null,
   "id": "9eb96596",
   "metadata": {},
   "outputs": [],
   "source": []
  },
  {
   "cell_type": "code",
   "execution_count": 14,
   "id": "2a4b81cf",
   "metadata": {},
   "outputs": [],
   "source": [
    "colors = {'c1': 'Red', 'c2': 'Grey', 'c3': None, 'c4': 'Green', \n",
    "          'c5': 'Yellow', 'c6': 'Pink', 'c7': 'Orange', 'c8': None, \n",
    "          'c9': 'White', 'c10': 'Black', 'c11': 'Violet', 'c12': 'Gold', \n",
    "          'c13': None, 'c14': 'Amber', 'c15': 'Azure', 'c16': 'Beige', \n",
    "          'c17': 'Bronze', 'c18': None, 'c19': 'Lilac', 'c20': 'Pearl', \n",
    "          'c21': None, 'c22': 'Sand', 'c23': None}\n",
    "\n",
    "result = {}\n",
    "\n",
    "result = {k: w for k,w in colors.items() if w is not None}"
   ]
  },
  {
   "cell_type": "code",
   "execution_count": 15,
   "id": "3a29a172",
   "metadata": {},
   "outputs": [
    {
     "data": {
      "text/plain": [
       "{'c1': 'Red',\n",
       " 'c2': 'Grey',\n",
       " 'c4': 'Green',\n",
       " 'c5': 'Yellow',\n",
       " 'c6': 'Pink',\n",
       " 'c7': 'Orange',\n",
       " 'c9': 'White',\n",
       " 'c10': 'Black',\n",
       " 'c11': 'Violet',\n",
       " 'c12': 'Gold',\n",
       " 'c14': 'Amber',\n",
       " 'c15': 'Azure',\n",
       " 'c16': 'Beige',\n",
       " 'c17': 'Bronze',\n",
       " 'c19': 'Lilac',\n",
       " 'c20': 'Pearl',\n",
       " 'c22': 'Sand'}"
      ]
     },
     "execution_count": 15,
     "metadata": {},
     "output_type": "execute_result"
    }
   ],
   "source": [
    "result"
   ]
  },
  {
   "cell_type": "code",
   "execution_count": null,
   "id": "9d3a6387",
   "metadata": {},
   "outputs": [],
   "source": []
  },
  {
   "cell_type": "markdown",
   "id": "33ee911d",
   "metadata": {},
   "source": [
    "# Задача №1"
   ]
  },
  {
   "cell_type": "code",
   "execution_count": null,
   "id": "4a891c36",
   "metadata": {},
   "outputs": [],
   "source": [
    "# В переменной s хранится строка пар число:слово. Дополните \n",
    "#     приведенный код, используя генератор, чтобы получить словарь \n",
    "#     result , в котором числа будут ключами, а слова – значениями.\n",
    "\n",
    "# Примечание 1. Ключи словаря должны быть целыми числами (иметь тип int),\n",
    "# значения – строками (иметь тип str).\n",
    "\n",
    "# Примечание 2. Выводить содержимое словаря result не нужно."
   ]
  },
  {
   "cell_type": "code",
   "execution_count": 25,
   "id": "2c2026d3",
   "metadata": {},
   "outputs": [],
   "source": [
    "s = '1:men 2:kind 90:number 0:sun 34:book 56:mountain 87:wood 54:car 3:island 88:power 7:box 17:star 101:ice'\n",
    "\n",
    "result = {}"
   ]
  },
  {
   "cell_type": "code",
   "execution_count": 26,
   "id": "3a3372ca",
   "metadata": {},
   "outputs": [],
   "source": [
    "ss = s.split()"
   ]
  },
  {
   "cell_type": "code",
   "execution_count": 27,
   "id": "2c043a7f",
   "metadata": {},
   "outputs": [
    {
     "data": {
      "text/plain": [
       "['1:men',\n",
       " '2:kind',\n",
       " '90:number',\n",
       " '0:sun',\n",
       " '34:book',\n",
       " '56:mountain',\n",
       " '87:wood',\n",
       " '54:car',\n",
       " '3:island',\n",
       " '88:power',\n",
       " '7:box',\n",
       " '17:star',\n",
       " '101:ice']"
      ]
     },
     "execution_count": 27,
     "metadata": {},
     "output_type": "execute_result"
    }
   ],
   "source": [
    "ss"
   ]
  },
  {
   "cell_type": "code",
   "execution_count": 29,
   "id": "2de347fe",
   "metadata": {},
   "outputs": [],
   "source": [
    "for i in ss:\n",
    "    i = i.split(':')\n",
    "    result[int(i[0])] = i[1]"
   ]
  },
  {
   "cell_type": "code",
   "execution_count": 30,
   "id": "05090177",
   "metadata": {},
   "outputs": [
    {
     "data": {
      "text/plain": [
       "{1: 'men',\n",
       " 2: 'kind',\n",
       " 90: 'number',\n",
       " 0: 'sun',\n",
       " 34: 'book',\n",
       " 56: 'mountain',\n",
       " 87: 'wood',\n",
       " 54: 'car',\n",
       " 3: 'island',\n",
       " 88: 'power',\n",
       " 7: 'box',\n",
       " 17: 'star',\n",
       " 101: 'ice'}"
      ]
     },
     "execution_count": 30,
     "metadata": {},
     "output_type": "execute_result"
    }
   ],
   "source": [
    "result"
   ]
  },
  {
   "cell_type": "code",
   "execution_count": null,
   "id": "2180deec",
   "metadata": {},
   "outputs": [],
   "source": []
  },
  {
   "cell_type": "markdown",
   "id": "7911bdaf",
   "metadata": {},
   "source": [
    "# Задача №2"
   ]
  },
  {
   "cell_type": "code",
   "execution_count": null,
   "id": "6bd6e36f",
   "metadata": {},
   "outputs": [],
   "source": [
    "Используя генератор, дополните приведенный код, чтобы получить словарь \n",
    "result , где ключом будет элемент списка numbers, а значением – отсортированный\n",
    "по возрастанию список всех его делителей начиная с 1.\n",
    "\n",
    "Примечание 1. Если бы список numbers имел вид: numbers = [1, 6, 18], то \n",
    "результатом был бы словарь\n",
    "\n",
    "result = {1: [1], 6: [1, 2, 3, 6], 18: [1, 2, 3, 6, 9, 18]}"
   ]
  },
  {
   "cell_type": "code",
   "execution_count": 31,
   "id": "de7a9881",
   "metadata": {},
   "outputs": [
    {
     "data": {
      "text/plain": [
       "[1,\n",
       " 1,\n",
       " 4,\n",
       " 6,\n",
       " 6,\n",
       " 10,\n",
       " 10,\n",
       " 19,\n",
       " 21,\n",
       " 23,\n",
       " 34,\n",
       " 35,\n",
       " 36,\n",
       " 38,\n",
       " 87,\n",
       " 90,\n",
       " 95,\n",
       " 100,\n",
       " 360,\n",
       " 1000,\n",
       " 13456]"
      ]
     },
     "execution_count": 31,
     "metadata": {},
     "output_type": "execute_result"
    }
   ],
   "source": [
    "numbers = [34, 10, 4, 6, 10, 23, 90, 100, 21, 35, 95, 1, 36, 38, 19, 1, 6, 87, 1000, 13456, 360]\n",
    "\n",
    "result = {}\n",
    "\n",
    "sorted(numbers)"
   ]
  },
  {
   "cell_type": "code",
   "execution_count": 38,
   "id": "bf0518d9",
   "metadata": {},
   "outputs": [],
   "source": [
    "numbers = [1, 6, 18]"
   ]
  },
  {
   "cell_type": "code",
   "execution_count": 39,
   "id": "893721f8",
   "metadata": {},
   "outputs": [],
   "source": [
    "result = {i: [*set([j for j in sorted(numbers) if i%j == 0])] for i in sorted(numbers) }"
   ]
  },
  {
   "cell_type": "code",
   "execution_count": 40,
   "id": "be9a1f41",
   "metadata": {},
   "outputs": [
    {
     "data": {
      "text/plain": [
       "{1: [1], 6: [1, 6], 18: [1, 18, 6]}"
      ]
     },
     "execution_count": 40,
     "metadata": {},
     "output_type": "execute_result"
    }
   ],
   "source": [
    "result"
   ]
  },
  {
   "cell_type": "code",
   "execution_count": 43,
   "id": "85d7b380",
   "metadata": {},
   "outputs": [],
   "source": [
    "result = {i: [j for j in range(1, max(numbers)+1) if i%j == 0] for i in sorted(numbers)}"
   ]
  },
  {
   "cell_type": "code",
   "execution_count": 44,
   "id": "cfbb4cc3",
   "metadata": {},
   "outputs": [
    {
     "data": {
      "text/plain": [
       "{1: [1], 6: [1, 2, 3, 6], 18: [1, 2, 3, 6, 9, 18]}"
      ]
     },
     "execution_count": 44,
     "metadata": {},
     "output_type": "execute_result"
    }
   ],
   "source": [
    "result"
   ]
  },
  {
   "cell_type": "code",
   "execution_count": null,
   "id": "7c04bdf4",
   "metadata": {},
   "outputs": [],
   "source": []
  },
  {
   "cell_type": "code",
   "execution_count": null,
   "id": "1ce73b25",
   "metadata": {},
   "outputs": [],
   "source": []
  },
  {
   "cell_type": "markdown",
   "id": "9b6a5d4b",
   "metadata": {},
   "source": [
    "# Задача №3"
   ]
  },
  {
   "cell_type": "code",
   "execution_count": null,
   "id": "bc7c2af4",
   "metadata": {},
   "outputs": [],
   "source": [
    "Даны три списка student_ids, student_names, student_grades, содержащие информацию о студентах.\n",
    "\n",
    "Дополните приведенный код, используя генератор, так чтобы получить список result, \n",
    "содержащий вложенные словари в соответствии с образцом: [{'S001': {'Camila Rodriguez': 86}}, {'S002': {'Juan Cruz': 98}},...].\n",
    "\n",
    "Примечание 1. Для параллельной итерации по всем трем спискам одновременно можно использовать встроенную функцию zip()."
   ]
  },
  {
   "cell_type": "code",
   "execution_count": 16,
   "id": "e8de5b66",
   "metadata": {},
   "outputs": [],
   "source": [
    "student_ids = ['S001', 'S002', 'S003', 'S004', 'S005', 'S006', 'S007', 'S008', 'S009', 'S010', 'S011', 'S012', 'S013'] \n",
    "student_names = ['Camila Rodriguez', 'Juan Cruz', 'Dan Richards', 'Sam Boyle', 'Batista Cesare', 'Francesco Totti', 'Khalid Hussain', 'Ethan Hawke', 'David Bowman', 'James Milner', 'Michael Owen', 'Gary Oldman', 'Tom Hardy'] \n",
    "student_grades = [86, 98, 89, 92, 45, 67, 89, 90, 100, 98, 10, 96, 93]\n",
    "\n",
    "result = [{student_ids[i]: {student_names[i]: student_grades[i]}} for i in range(len(student_grades))]"
   ]
  },
  {
   "cell_type": "code",
   "execution_count": 17,
   "id": "2ca41ff7",
   "metadata": {},
   "outputs": [
    {
     "data": {
      "text/plain": [
       "[{'S001': {'Camila Rodriguez': 86}},\n",
       " {'S002': {'Juan Cruz': 98}},\n",
       " {'S003': {'Dan Richards': 89}},\n",
       " {'S004': {'Sam Boyle': 92}},\n",
       " {'S005': {'Batista Cesare': 45}},\n",
       " {'S006': {'Francesco Totti': 67}},\n",
       " {'S007': {'Khalid Hussain': 89}},\n",
       " {'S008': {'Ethan Hawke': 90}},\n",
       " {'S009': {'David Bowman': 100}},\n",
       " {'S010': {'James Milner': 98}},\n",
       " {'S011': {'Michael Owen': 10}},\n",
       " {'S012': {'Gary Oldman': 96}},\n",
       " {'S013': {'Tom Hardy': 93}}]"
      ]
     },
     "execution_count": 17,
     "metadata": {},
     "output_type": "execute_result"
    }
   ],
   "source": [
    "result"
   ]
  },
  {
   "cell_type": "code",
   "execution_count": 26,
   "id": "5121c773",
   "metadata": {},
   "outputs": [
    {
     "data": {
      "text/plain": [
       "[('S001', 'Camila Rodriguez', 86),\n",
       " ('S002', 'Juan Cruz', 98),\n",
       " ('S003', 'Dan Richards', 89),\n",
       " ('S004', 'Sam Boyle', 92),\n",
       " ('S005', 'Batista Cesare', 45),\n",
       " ('S006', 'Francesco Totti', 67),\n",
       " ('S007', 'Khalid Hussain', 89),\n",
       " ('S008', 'Ethan Hawke', 90),\n",
       " ('S009', 'David Bowman', 100),\n",
       " ('S010', 'James Milner', 98),\n",
       " ('S011', 'Michael Owen', 10),\n",
       " ('S012', 'Gary Oldman', 96),\n",
       " ('S013', 'Tom Hardy', 93)]"
      ]
     },
     "execution_count": 26,
     "metadata": {},
     "output_type": "execute_result"
    }
   ],
   "source": [
    "zip_list = list(zip(student_ids, student_names, student_grades))\n",
    "zip_list"
   ]
  },
  {
   "cell_type": "code",
   "execution_count": 27,
   "id": "9a274282",
   "metadata": {},
   "outputs": [],
   "source": [
    "result = [{i[0]: {i[1]: i[2]}} for i in zip_list]"
   ]
  },
  {
   "cell_type": "code",
   "execution_count": null,
   "id": "99dcfe1c",
   "metadata": {},
   "outputs": [],
   "source": []
  },
  {
   "cell_type": "code",
   "execution_count": 28,
   "id": "768250af",
   "metadata": {},
   "outputs": [
    {
     "data": {
      "text/plain": [
       "[{'S001': {'Camila Rodriguez': 86}},\n",
       " {'S002': {'Juan Cruz': 98}},\n",
       " {'S003': {'Dan Richards': 89}},\n",
       " {'S004': {'Sam Boyle': 92}},\n",
       " {'S005': {'Batista Cesare': 45}},\n",
       " {'S006': {'Francesco Totti': 67}},\n",
       " {'S007': {'Khalid Hussain': 89}},\n",
       " {'S008': {'Ethan Hawke': 90}},\n",
       " {'S009': {'David Bowman': 100}},\n",
       " {'S010': {'James Milner': 98}},\n",
       " {'S011': {'Michael Owen': 10}},\n",
       " {'S012': {'Gary Oldman': 96}},\n",
       " {'S013': {'Tom Hardy': 93}}]"
      ]
     },
     "execution_count": 28,
     "metadata": {},
     "output_type": "execute_result"
    }
   ],
   "source": [
    "result"
   ]
  },
  {
   "cell_type": "code",
   "execution_count": null,
   "id": "13225df1",
   "metadata": {},
   "outputs": [],
   "source": []
  }
 ],
 "metadata": {
  "kernelspec": {
   "display_name": "Python 3 (ipykernel)",
   "language": "python",
   "name": "python3"
  },
  "language_info": {
   "codemirror_mode": {
    "name": "ipython",
    "version": 3
   },
   "file_extension": ".py",
   "mimetype": "text/x-python",
   "name": "python",
   "nbconvert_exporter": "python",
   "pygments_lexer": "ipython3",
   "version": "3.10.2"
  }
 },
 "nbformat": 4,
 "nbformat_minor": 5
}
