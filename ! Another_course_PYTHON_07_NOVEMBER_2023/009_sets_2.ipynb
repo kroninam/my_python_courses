{
 "cells": [
  {
   "cell_type": "markdown",
   "id": "691cbad8",
   "metadata": {},
   "source": [
    "# Задача №1"
   ]
  },
  {
   "cell_type": "code",
   "execution_count": null,
   "id": "91621f9e",
   "metadata": {},
   "outputs": [],
   "source": [
    "# Количество совпадающих\n",
    "# На вход программе подаются две строки текста, содержащие числа. Напишите программу,\n",
    "# которая определяет количество чисел, которые есть как в первой строке, так и во второй.\n",
    "\n",
    "# Формат входных данных\n",
    "# На вход программе подаются две строки текста, содержащие числа, отделенные символом пробела.\n",
    "\n",
    "# Формат выходных данных\n",
    "# Программа должна вывести количество чисел, содержащихся одновременно как \n",
    "# в первой строке, так и во второй."
   ]
  },
  {
   "cell_type": "code",
   "execution_count": 5,
   "id": "9c5aab98",
   "metadata": {},
   "outputs": [
    {
     "name": "stdout",
     "output_type": "stream",
     "text": [
      "1 2 4 5 6 7\n",
      "6 7 8 9 1\n"
     ]
    }
   ],
   "source": [
    "s1 = set(list(map(int, input().split())))\n",
    "s2 = set(list(map(int, input().split())))"
   ]
  },
  {
   "cell_type": "code",
   "execution_count": 7,
   "id": "b4ef39d6",
   "metadata": {},
   "outputs": [
    {
     "name": "stdout",
     "output_type": "stream",
     "text": [
      "3\n"
     ]
    }
   ],
   "source": [
    "print(len(s1 & s2))"
   ]
  },
  {
   "cell_type": "code",
   "execution_count": null,
   "id": "17b5dda0",
   "metadata": {},
   "outputs": [],
   "source": []
  },
  {
   "cell_type": "markdown",
   "id": "eecd85b7",
   "metadata": {},
   "source": [
    "# Задача №2"
   ]
  },
  {
   "cell_type": "code",
   "execution_count": null,
   "id": "0f990c04",
   "metadata": {},
   "outputs": [],
   "source": [
    "# Общие числа\n",
    "# На вход программе подаются две строки текста, содержащие числа. Напишите программу, \n",
    "# которая выводит все числа в порядке возрастания, которые есть как в первой строке, так и во второй.\n",
    "\n",
    "# Формат входных данных\n",
    "# На вход программе подаются две строки текста, содержащие числа, отделенные символом пробела.\n",
    "\n",
    "# Формат выходных данных\n",
    "# Программа должна вывести на одной строке множество чисел, встречающихся в обеих строках."
   ]
  },
  {
   "cell_type": "code",
   "execution_count": 1,
   "id": "4224473f",
   "metadata": {},
   "outputs": [
    {
     "name": "stdout",
     "output_type": "stream",
     "text": [
      "1 2 3 4 5\n",
      "5 6 7 8 9\n"
     ]
    }
   ],
   "source": [
    "s1 = list(map(int, input().split()))\n",
    "s2 = list(map(int, input().split()))"
   ]
  },
  {
   "cell_type": "code",
   "execution_count": 3,
   "id": "f6364f1e",
   "metadata": {},
   "outputs": [],
   "source": [
    "s3 = set(s1) & set(s2)"
   ]
  },
  {
   "cell_type": "code",
   "execution_count": 6,
   "id": "b9633d5b",
   "metadata": {},
   "outputs": [
    {
     "name": "stdout",
     "output_type": "stream",
     "text": [
      "5\n"
     ]
    }
   ],
   "source": [
    "print(*sorted(s3))"
   ]
  },
  {
   "cell_type": "code",
   "execution_count": null,
   "id": "734ccd9e",
   "metadata": {},
   "outputs": [],
   "source": []
  },
  {
   "cell_type": "markdown",
   "id": "a326493e",
   "metadata": {},
   "source": [
    "# Задача №3"
   ]
  },
  {
   "cell_type": "code",
   "execution_count": null,
   "id": "680b53cf",
   "metadata": {},
   "outputs": [],
   "source": [
    "# Числа первой строки\n",
    "# На вход программе подаются две строки текста, содержащие числа. Напишите программу,\n",
    "# которая выводит все числа в порядке возрастания, которые есть в первой строке, но отсутствуют во второй.\n",
    "\n",
    "# Формат входных данных\n",
    "# На вход программе подаются две строки текста, содержащие числа, отделенные символом пробела.\n",
    "\n",
    "# Формат выходных данных\n",
    "# Программа должна вывести множество чисел, встречающихся только в первой строке."
   ]
  },
  {
   "cell_type": "code",
   "execution_count": null,
   "id": "53953924",
   "metadata": {},
   "outputs": [],
   "source": [
    "s1 = list(map(int, input().split()))\n",
    "s2 = list(map(int, input().split()))\n",
    "\n",
    "s3 = set(s1) - set(s2)\n",
    "\n",
    "print(*sorted(s3))"
   ]
  },
  {
   "cell_type": "code",
   "execution_count": null,
   "id": "f1921a0a",
   "metadata": {},
   "outputs": [],
   "source": []
  },
  {
   "cell_type": "markdown",
   "id": "42127c1c",
   "metadata": {},
   "source": [
    "# Задача №4"
   ]
  },
  {
   "cell_type": "code",
   "execution_count": null,
   "id": "8447982c",
   "metadata": {},
   "outputs": [],
   "source": [
    "# Общие цифры\n",
    "# На вход программе подается натуральное число \n",
    "# n, а затем \n",
    "# n различных натуральных чисел, каждое на отдельной строке. \n",
    "# Напишите программу, которая выводит все общие цифры в порядке возрастания у всех введенных чисел.\n",
    "\n",
    "# Формат входных данных\n",
    "# На вход программе подаются натуральное число \n",
    "# n≥1, а затем \n",
    "# n различных натуральных чисел, каждое на отдельной строке.\n",
    "\n",
    "# Формат выходных данных\n",
    "# Программа должна вывести цифры в соответствии с условием задачи. Если общих цифр нет, то ничего выводить не нужно.\n",
    "\n",
    "# 4\n",
    "# 12345\n",
    "# 236\n",
    "# 3452222\n",
    "# 9302\n",
    "# Sample Output 1:\n",
    "\n",
    "# 2 3"
   ]
  },
  {
   "cell_type": "code",
   "execution_count": 10,
   "id": "60ef494c",
   "metadata": {},
   "outputs": [
    {
     "name": "stdout",
     "output_type": "stream",
     "text": [
      "3\n",
      "123\n",
      "456\n",
      "12345678\n"
     ]
    }
   ],
   "source": [
    "n = int(input())\n",
    "\n",
    "ss = []\n",
    "\n",
    "for i in range(n):\n",
    "    s = set(input())\n",
    "    ss.append(s)"
   ]
  },
  {
   "cell_type": "markdown",
   "id": "5674bb29",
   "metadata": {},
   "source": [
    "ss"
   ]
  },
  {
   "cell_type": "code",
   "execution_count": 11,
   "id": "5d623279",
   "metadata": {},
   "outputs": [
    {
     "data": {
      "text/plain": [
       "[{'1', '2', '3'}, {'4', '5', '6'}, {'1', '2', '3', '4', '5', '6', '7', '8'}]"
      ]
     },
     "execution_count": 11,
     "metadata": {},
     "output_type": "execute_result"
    }
   ],
   "source": [
    "ss"
   ]
  },
  {
   "cell_type": "code",
   "execution_count": 12,
   "id": "4a0b9c88",
   "metadata": {},
   "outputs": [
    {
     "data": {
      "text/plain": [
       "{'1', '2', '3'}"
      ]
     },
     "execution_count": 12,
     "metadata": {},
     "output_type": "execute_result"
    }
   ],
   "source": [
    "set('123')"
   ]
  },
  {
   "cell_type": "code",
   "execution_count": 16,
   "id": "4ef0b2c0",
   "metadata": {},
   "outputs": [
    {
     "data": {
      "text/plain": [
       "set()"
      ]
     },
     "execution_count": 16,
     "metadata": {},
     "output_type": "execute_result"
    }
   ],
   "source": [
    "ss[0] & ss[1]"
   ]
  },
  {
   "cell_type": "code",
   "execution_count": 14,
   "id": "ae80ecce",
   "metadata": {},
   "outputs": [
    {
     "data": {
      "text/plain": [
       "{'4', '5', '6'}"
      ]
     },
     "execution_count": 14,
     "metadata": {},
     "output_type": "execute_result"
    }
   ],
   "source": [
    "ans"
   ]
  },
  {
   "cell_type": "code",
   "execution_count": 19,
   "id": "24e02348",
   "metadata": {},
   "outputs": [],
   "source": [
    "ans = ss[0]\n",
    "\n",
    "for i in range(len(ss)):\n",
    "    ans = ans & ss[i]   "
   ]
  },
  {
   "cell_type": "code",
   "execution_count": 21,
   "id": "5d436d8f",
   "metadata": {},
   "outputs": [
    {
     "name": "stdout",
     "output_type": "stream",
     "text": [
      "\n"
     ]
    }
   ],
   "source": [
    "print(*ans)"
   ]
  },
  {
   "cell_type": "code",
   "execution_count": null,
   "id": "3ee5dc0b",
   "metadata": {},
   "outputs": [],
   "source": [
    "# Строгое и нестрогое подмножество?"
   ]
  },
  {
   "cell_type": "code",
   "execution_count": 3,
   "id": "6b115b3b",
   "metadata": {},
   "outputs": [
    {
     "name": "stdout",
     "output_type": "stream",
     "text": [
      "True\n",
      "True\n"
     ]
    }
   ],
   "source": [
    "set1 = {2, 3}\n",
    "set2 = {1, 2, 3, 4, 5, 6}\n",
    "\n",
    "print(set1 < set2)\n",
    "print(set1 <= set2)"
   ]
  },
  {
   "cell_type": "code",
   "execution_count": null,
   "id": "3d268202",
   "metadata": {},
   "outputs": [],
   "source": []
  },
  {
   "cell_type": "code",
   "execution_count": null,
   "id": "0083b671",
   "metadata": {},
   "outputs": [],
   "source": []
  },
  {
   "cell_type": "markdown",
   "id": "c3e2b6d6",
   "metadata": {},
   "source": [
    "# Задача №5"
   ]
  },
  {
   "cell_type": "code",
   "execution_count": null,
   "id": "d6c06dc6",
   "metadata": {},
   "outputs": [],
   "source": [
    "# Одинаковые цифры\n",
    "# На вход программе подаются два числа. Напишите программу, определяющую, есть ли в данных числах одинаковые цифры.\n",
    "\n",
    "# Формат входных данных\n",
    "# На вход программе подаются два натуральных числа, каждое на отдельной строке.\n",
    "\n",
    "# Формат выходных данных\n",
    "# Программа должна вывести YES, если в записи данных чисел есть одинаковые цифры и NO если нет.\n",
    "\n",
    "\n",
    "# Sample Input 1:\n",
    "\n",
    "# 114\n",
    "# 223\n",
    "\n",
    "# Sample Output 1:\n",
    "\n",
    "# NO\n",
    "\n",
    "1523\n",
    "3678"
   ]
  },
  {
   "cell_type": "code",
   "execution_count": 12,
   "id": "96997928",
   "metadata": {},
   "outputs": [
    {
     "name": "stdout",
     "output_type": "stream",
     "text": [
      "1523\n",
      "3678\n",
      "YES\n"
     ]
    }
   ],
   "source": [
    "n = set(input())\n",
    "m = set(input())\n",
    "\n",
    "if n.isdisjoint(m):\n",
    "    print('NO')\n",
    "else:\n",
    "    print('YES')"
   ]
  },
  {
   "cell_type": "code",
   "execution_count": 13,
   "id": "3fbcc5fc",
   "metadata": {},
   "outputs": [
    {
     "data": {
      "text/plain": [
       "{'1', '2', '3', '5'}"
      ]
     },
     "execution_count": 13,
     "metadata": {},
     "output_type": "execute_result"
    }
   ],
   "source": [
    "n"
   ]
  },
  {
   "cell_type": "code",
   "execution_count": null,
   "id": "c7b0ce38",
   "metadata": {},
   "outputs": [],
   "source": []
  },
  {
   "cell_type": "markdown",
   "id": "6b436683",
   "metadata": {},
   "source": [
    "# Задача №6"
   ]
  },
  {
   "cell_type": "code",
   "execution_count": null,
   "id": "79dbb9f5",
   "metadata": {},
   "outputs": [],
   "source": [
    "Все цифры\n",
    "На вход программе подаются два числа. Напишите программу, которая определяет,\n",
    "входят ли в запись первого числа все цифры, содержащиеся в записи второго \n",
    "(независимо от повтора, то есть количества цифр) числа или нет.\n",
    "\n",
    "Формат входных данных\n",
    "На вход программе подаются два натуральных числа, каждое на отдельной строке.\n",
    "\n",
    "Формат выходных данных\n",
    "Программа должна вывести YES, если в запись первого числа входят все цифры, \n",
    "содержащиеся в записи второго числа и NO в противном случае.\n",
    "\n",
    "Sample Input 1:\n",
    "\n",
    "123456789\n",
    "657\n",
    "Sample Output 1:\n",
    "\n",
    "YES"
   ]
  },
  {
   "cell_type": "code",
   "execution_count": 23,
   "id": "af043867",
   "metadata": {},
   "outputs": [
    {
     "name": "stdout",
     "output_type": "stream",
     "text": [
      "123456789\n",
      "657\n",
      "YES\n"
     ]
    }
   ],
   "source": [
    "n = set(input())\n",
    "m = set(input())\n",
    "\n",
    "if n >= m:\n",
    "    print('YES')\n",
    "else:\n",
    "    print('NO')"
   ]
  },
  {
   "cell_type": "code",
   "execution_count": 19,
   "id": "c17fbf56",
   "metadata": {},
   "outputs": [
    {
     "data": {
      "text/plain": [
       "{'1', '2', '3', '4', '5', '6', '7', '8', '9'}"
      ]
     },
     "execution_count": 19,
     "metadata": {},
     "output_type": "execute_result"
    }
   ],
   "source": [
    "n"
   ]
  },
  {
   "cell_type": "code",
   "execution_count": 20,
   "id": "9c2bf233",
   "metadata": {},
   "outputs": [
    {
     "data": {
      "text/plain": [
       "{'5', '6', '7'}"
      ]
     },
     "execution_count": 20,
     "metadata": {},
     "output_type": "execute_result"
    }
   ],
   "source": [
    "m"
   ]
  },
  {
   "cell_type": "code",
   "execution_count": null,
   "id": "94e0108f",
   "metadata": {},
   "outputs": [],
   "source": []
  },
  {
   "cell_type": "markdown",
   "id": "d10a41d4",
   "metadata": {},
   "source": [
    "# Задача №7"
   ]
  },
  {
   "cell_type": "code",
   "execution_count": null,
   "id": "485607be",
   "metadata": {},
   "outputs": [],
   "source": [
    "Урок информатики\n",
    "Даны по \n",
    "10-балльной шкале оценки по информатике трех учеников. \n",
    "Напишите программу, которая выводит множество оценок, которые есть \n",
    "и у первого и у второго учеников, но которых нет у третьего ученика.\n",
    "\n",
    "Формат входных данных\n",
    "На вход программе подаются оценки трех учеников, \n",
    "разделенные символом пробела (оценки каждого ученика на отдельной строке).\n",
    "\n",
    "Формат выходных данных\n",
    "Программа должна вывести множество оценок в порядке \n",
    "убывания на одной строке, разделенных пробелами, в соответствии с условием задачи.\n",
    "\n",
    "Примечание. Оценка ученика находится в диапазоне от \n",
    "0 до 10 включительно.\n",
    "\n",
    "Sample Input 1:\n",
    "\n",
    "1 5 4 2 5 6 6 2 3 3 5 2\n",
    "2 3 5 1 2 1 2 6 7 1 1 6\n",
    "1 4 6 9 8 7 0 9 0 9 8 10\n",
    "\n",
    "Sample Output 1:\n",
    "\n",
    "5 3 2\n",
    "\n",
    "Sample Input\n",
    "2 9 3 4 6 10\n",
    "2 3 4 5 2 10\n",
    "2 3 4 5 3 9\n",
    "Correct output:\n",
    "10"
   ]
  },
  {
   "cell_type": "code",
   "execution_count": 45,
   "id": "6ed5428f",
   "metadata": {},
   "outputs": [
    {
     "name": "stdout",
     "output_type": "stream",
     "text": [
      "2 9 3 4 6 10\n",
      "2 3 4 5 2 10\n",
      "2 3 4 5 3 9\n"
     ]
    }
   ],
   "source": [
    "s1 = list(map(int, input().split()))\n",
    "s2 = list(map(int, input().split()))\n",
    "s3 = list(map(int, input().split()))\n"
   ]
  },
  {
   "cell_type": "code",
   "execution_count": 46,
   "id": "03d1fc1a",
   "metadata": {},
   "outputs": [
    {
     "data": {
      "text/plain": [
       "[2, 9, 3, 4, 6, 10]"
      ]
     },
     "execution_count": 46,
     "metadata": {},
     "output_type": "execute_result"
    }
   ],
   "source": [
    "s1"
   ]
  },
  {
   "cell_type": "code",
   "execution_count": 47,
   "id": "240f5bdc",
   "metadata": {},
   "outputs": [
    {
     "data": {
      "text/plain": [
       "[2, 3, 4, 5, 2, 10]"
      ]
     },
     "execution_count": 47,
     "metadata": {},
     "output_type": "execute_result"
    }
   ],
   "source": [
    "s2"
   ]
  },
  {
   "cell_type": "code",
   "execution_count": 48,
   "id": "ad85d990",
   "metadata": {},
   "outputs": [
    {
     "data": {
      "text/plain": [
       "[2, 3, 4, 5, 3, 9]"
      ]
     },
     "execution_count": 48,
     "metadata": {},
     "output_type": "execute_result"
    }
   ],
   "source": [
    "s3"
   ]
  },
  {
   "cell_type": "code",
   "execution_count": 49,
   "id": "1f55b330",
   "metadata": {},
   "outputs": [],
   "source": [
    "ss = set(s1).intersection(s2) - set(s3)"
   ]
  },
  {
   "cell_type": "code",
   "execution_count": 51,
   "id": "5cd3f4bf",
   "metadata": {},
   "outputs": [
    {
     "name": "stdout",
     "output_type": "stream",
     "text": [
      "10\n"
     ]
    }
   ],
   "source": [
    "print(*sorted(ss, reverse = True))"
   ]
  },
  {
   "cell_type": "code",
   "execution_count": null,
   "id": "659a53af",
   "metadata": {},
   "outputs": [],
   "source": []
  },
  {
   "cell_type": "markdown",
   "id": "990a436a",
   "metadata": {},
   "source": [
    "# Задача №8"
   ]
  },
  {
   "cell_type": "code",
   "execution_count": null,
   "id": "c8947318",
   "metadata": {},
   "outputs": [],
   "source": [
    "Урок математики\n",
    "Даны оценки по математике трёх учеников в \n",
    "10-балльной шкале. Напишите программу, \n",
    "которая выводит такие оценки, которые встречаются не более, чем у двух учеников.\n",
    "\n",
    "Формат входных данных\n",
    "На вход программе подаются оценки трех учеников, разделенные символом пробела\n",
    "(оценки каждого ученика на отдельной строке).\n",
    "\n",
    "Формат выходных данных\n",
    "Программа должна вывести множество оценок в порядке возрастания на одной строке,\n",
    "разделенных пробелами, в соответствии с условием задачи.\n",
    "\n",
    "Примечание. Оценка ученика находится в диапазоне от \n",
    "\n",
    "0 до 10 включительно.\n",
    "\n",
    "Sample Input 1:\n",
    "\n",
    "1 5 4 2 5 6 6 2 3 3 5 2\n",
    "2 3 5 10 2 10 2 6 7 10 10 6\n",
    "1 4 6 9 8 7 0 9 0 9 8 10\n",
    "\n",
    "Sample Output 1:\n",
    "\n",
    "0 1 2 3 4 5 7 8 9 10"
   ]
  },
  {
   "cell_type": "code",
   "execution_count": 100,
   "id": "af52c07f",
   "metadata": {},
   "outputs": [
    {
     "name": "stdout",
     "output_type": "stream",
     "text": [
      "1 5 4 2 5 6 6 2 3 3 5 2\n",
      "2 3 5 10 2 10 2 6 7 10 10 6\n",
      "1 4 6 9 8 7 0 9 0 9 8 10\n"
     ]
    }
   ],
   "source": [
    "s1 = list(map(int, input().split()))\n",
    "s2 = list(map(int, input().split()))\n",
    "s3 = list(map(int, input().split()))"
   ]
  },
  {
   "cell_type": "code",
   "execution_count": 101,
   "id": "ba16873a",
   "metadata": {},
   "outputs": [
    {
     "data": {
      "text/plain": [
       "{6}"
      ]
     },
     "execution_count": 101,
     "metadata": {},
     "output_type": "execute_result"
    }
   ],
   "source": [
    "set(s1).intersection(s2, s3)"
   ]
  },
  {
   "cell_type": "code",
   "execution_count": 104,
   "id": "b47a312f",
   "metadata": {},
   "outputs": [
    {
     "data": {
      "text/plain": [
       "{0, 1, 2, 3, 4, 5, 7, 8, 9, 10}"
      ]
     },
     "execution_count": 104,
     "metadata": {},
     "output_type": "execute_result"
    }
   ],
   "source": [
    "set(s1 + s2 + s3) - set(s1).intersection(s2, s3)"
   ]
  },
  {
   "cell_type": "code",
   "execution_count": null,
   "id": "0765f9c7",
   "metadata": {},
   "outputs": [],
   "source": [
    "Главное понять что значит:\n",
    "\n",
    "встречаются не более, чем у двух из указанных учеников\n",
    "\n",
    "Значит все, кроме тех, которые встречаются у всех трёх : )"
   ]
  },
  {
   "cell_type": "markdown",
   "id": "776b00dd",
   "metadata": {},
   "source": [
    "# Задача №10"
   ]
  },
  {
   "cell_type": "code",
   "execution_count": null,
   "id": "29b79a2f",
   "metadata": {},
   "outputs": [],
   "source": [
    "Урок физики\n",
    "Даны по \n",
    "10-балльной шкале оценки по физике трех учеников. \n",
    "Напишите программу, которая выводит множество оценок третьего ученика,\n",
    "которые не встречаются ни у первого, ни у второго ученика.\n",
    "\n",
    "Формат входных данных\n",
    "На вход программе подаются оценки трех учеников, разделенные \n",
    "символом пробела (оценки каждого ученика на отдельной строке).\n",
    "\n",
    "Формат выходных данных\n",
    "Программа должна вывести множество оценок в порядке убывания на \n",
    "одной строке, разделенных пробелами, в соответствии с условием задачи.\n",
    "\n",
    "Примечание. Оценка ученика находится в диапазоне от \n",
    "0 до \n",
    "10 включительно.\n",
    "\n",
    "Sample Input 1:\n",
    "\n",
    "1 5 4 2 5 6 6 2 3 3 5 2\n",
    "2 3 5 1 2 1 2 6 7 1 1 6\n",
    "1 4 6 9 8 7 0 9 0 9 8 10\n",
    "\n",
    "Sample Output 1:\n",
    "\n",
    "10 9 8 0"
   ]
  },
  {
   "cell_type": "code",
   "execution_count": 109,
   "id": "2d3588bb",
   "metadata": {},
   "outputs": [
    {
     "name": "stdout",
     "output_type": "stream",
     "text": [
      "1 5 4 2 5 6 6 2 3 3 5 2\n",
      "2 3 5 1 2 1 2 6 7 1 1 6\n",
      "1 4 6 9 8 7 0 9 0 9 8 10\n"
     ]
    }
   ],
   "source": [
    "s1 = list(map(int, input().split()))\n",
    "s2 = list(map(int, input().split()))\n",
    "s3 = list(map(int, input().split()))"
   ]
  },
  {
   "cell_type": "code",
   "execution_count": 110,
   "id": "3b7d7f94",
   "metadata": {},
   "outputs": [
    {
     "data": {
      "text/plain": [
       "{1, 2, 3, 4, 5, 6, 7}"
      ]
     },
     "execution_count": 110,
     "metadata": {},
     "output_type": "execute_result"
    }
   ],
   "source": [
    "set(s1 + s2)"
   ]
  },
  {
   "cell_type": "code",
   "execution_count": 112,
   "id": "df524b41",
   "metadata": {},
   "outputs": [
    {
     "name": "stdout",
     "output_type": "stream",
     "text": [
      "10 9 8 0\n"
     ]
    }
   ],
   "source": [
    "print(*sorted(set(s3) - set(s1 + s2), reverse = True))"
   ]
  },
  {
   "cell_type": "code",
   "execution_count": null,
   "id": "4fb1708c",
   "metadata": {},
   "outputs": [],
   "source": []
  },
  {
   "cell_type": "markdown",
   "id": "df11544c",
   "metadata": {},
   "source": [
    "# Задача №11"
   ]
  },
  {
   "cell_type": "code",
   "execution_count": null,
   "id": "60dbcabc",
   "metadata": {},
   "outputs": [],
   "source": [
    "Урок биологии\n",
    "Даны по \n",
    "10\n",
    "10-балльной шкале оценки по биологии трех учеников. Напишите программу, \n",
    "которая выводит множество оценок, не встречающихся ни у одного из трех учеников.\n",
    "\n",
    "Формат входных данных\n",
    "На вход программе подаются оценки трех учеников, разделенные символом пробела \n",
    "(оценки каждого ученика на отдельной строке).\n",
    "\n",
    "Формат выходных данных\n",
    "Программа должна вывести множество оценок в порядке возрастания на одной строке, \n",
    "разделенных пробелами, в соответствии с условием задачи.\n",
    "\n",
    "Примечание. Оценка ученика находится в диапазоне от \n",
    "0 до 10 включительно.\n",
    "\n",
    "Sample Input 1:\n",
    "\n",
    "1 5 4 2 5 6 6 2 3 3 5 2\n",
    "2 3 5 1 2 1 2 6 7 1 1 6\n",
    "1 4 6 8 8 7 0 6 0 3 8 1\n",
    "Sample Output 1:\n",
    "\n",
    "9 10"
   ]
  },
  {
   "cell_type": "code",
   "execution_count": 114,
   "id": "fd987005",
   "metadata": {},
   "outputs": [
    {
     "name": "stdout",
     "output_type": "stream",
     "text": [
      "1 5 4 2 5 6 6 2 3 3 5 2\n",
      "2 3 5 1 2 1 2 6 7 1 1 6\n",
      "1 4 6 8 8 7 0 6 0 3 8 1\n"
     ]
    }
   ],
   "source": [
    "s1 = list(map(int, input().split()))\n",
    "s2 = list(map(int, input().split()))\n",
    "s3 = list(map(int, input().split()))\n",
    "\n",
    "ss = set(range(0,11, 1))"
   ]
  },
  {
   "cell_type": "code",
   "execution_count": 115,
   "id": "d3266a32",
   "metadata": {},
   "outputs": [
    {
     "data": {
      "text/plain": [
       "{0, 1, 2, 3, 4, 5, 6, 7, 8, 9, 10}"
      ]
     },
     "execution_count": 115,
     "metadata": {},
     "output_type": "execute_result"
    }
   ],
   "source": [
    "ss"
   ]
  },
  {
   "cell_type": "code",
   "execution_count": null,
   "id": "1c1b5ef3",
   "metadata": {},
   "outputs": [],
   "source": []
  }
 ],
 "metadata": {
  "kernelspec": {
   "display_name": "Python 3 (ipykernel)",
   "language": "python",
   "name": "python3"
  },
  "language_info": {
   "codemirror_mode": {
    "name": "ipython",
    "version": 3
   },
   "file_extension": ".py",
   "mimetype": "text/x-python",
   "name": "python",
   "nbconvert_exporter": "python",
   "pygments_lexer": "ipython3",
   "version": "3.10.2"
  }
 },
 "nbformat": 4,
 "nbformat_minor": 5
}
