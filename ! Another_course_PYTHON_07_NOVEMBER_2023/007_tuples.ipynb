{
 "cells": [
  {
   "cell_type": "markdown",
   "id": "a11a8a9b",
   "metadata": {},
   "source": [
    "# Задача №1"
   ]
  },
  {
   "cell_type": "code",
   "execution_count": 1,
   "id": "f763daab",
   "metadata": {},
   "outputs": [
    {
     "name": "stdout",
     "output_type": "stream",
     "text": [
      "[None, None, None, None, None, None]\n"
     ]
    }
   ],
   "source": [
    "tuples = [(10, 20, 40), (40, 50, 60), (70, 80, 90), (10, 90), (1, 2, 3, 4), (5, 6, 10, 2, 1, 77)]\n",
    "new_tuples = [(list(i[:-1]).append(100)) for i in tuples]\n",
    "print(new_tuples)"
   ]
  },
  {
   "cell_type": "code",
   "execution_count": 11,
   "id": "ba5c5ca8",
   "metadata": {},
   "outputs": [
    {
     "data": {
      "text/plain": [
       "[(10, 20, 100),\n",
       " (40, 50, 100),\n",
       " (70, 80, 100),\n",
       " (10, 100),\n",
       " (1, 2, 3, 100),\n",
       " (5, 6, 10, 2, 1, 100)]"
      ]
     },
     "execution_count": 11,
     "metadata": {},
     "output_type": "execute_result"
    }
   ],
   "source": [
    "[((i[:-1]))+(100,) for i in tuples]"
   ]
  },
  {
   "cell_type": "code",
   "execution_count": null,
   "id": "a08d7b69",
   "metadata": {},
   "outputs": [],
   "source": []
  },
  {
   "cell_type": "code",
   "execution_count": null,
   "id": "a917f9f2",
   "metadata": {},
   "outputs": [],
   "source": []
  },
  {
   "cell_type": "markdown",
   "id": "0431b0a6",
   "metadata": {},
   "source": [
    "# Задача №2"
   ]
  },
  {
   "cell_type": "code",
   "execution_count": null,
   "id": "e96c951c",
   "metadata": {},
   "outputs": [],
   "source": [
    "Вершина параболы\n",
    "Уравнение параболы имеет вид \n",
    "\n",
    "y =ax**2 +bx+c, где a ≠  0\n",
    "Напишите программу, которая по введенным значениям \n",
    "\n",
    "a,b,c определяет и выводит вершину параболы.\n",
    "\n",
    "Формат входных данных\n",
    "На вход программе подаются три целых числа, каждое на отдельной строке.\n",
    "\n",
    "Формат выходных данных\n",
    "Программа должна вывести координаты вершины параболы.\n",
    "\n",
    "Примечание. Координаты вершины параболы \n",
    "\n",
    "(− b/2a; (4ac−b**2)/4ac)."
   ]
  },
  {
   "cell_type": "code",
   "execution_count": 1,
   "id": "9ef55971",
   "metadata": {},
   "outputs": [
    {
     "name": "stdout",
     "output_type": "stream",
     "text": [
      "-2\n",
      "6\n",
      "1\n"
     ]
    }
   ],
   "source": [
    "a = int(input())\n",
    "b = int(input())\n",
    "c = int(input())"
   ]
  },
  {
   "cell_type": "code",
   "execution_count": 14,
   "id": "ecd5b8de",
   "metadata": {},
   "outputs": [
    {
     "name": "stdout",
     "output_type": "stream",
     "text": [
      "(1.5, 5.5)\n"
     ]
    }
   ],
   "source": [
    "print(((-1*b)/(2*a), (4*a*c - b**2)/(4*a*c)))"
   ]
  },
  {
   "cell_type": "code",
   "execution_count": null,
   "id": "3d544721",
   "metadata": {},
   "outputs": [],
   "source": []
  },
  {
   "cell_type": "markdown",
   "id": "d1a11fb0",
   "metadata": {},
   "source": [
    "# Задача №3"
   ]
  },
  {
   "cell_type": "code",
   "execution_count": null,
   "id": "fa506e28",
   "metadata": {},
   "outputs": [],
   "source": [
    "Конкурсный отбор\n",
    "Напишите программу, которая выводит список хорошистов и отличников в классе.\n",
    "\n",
    "Формат входных данных\n",
    "На вход программе подается натуральное число \n",
    "n, далее следует n строк с фамилией школьника и его оценкой на каждой из них.\n",
    "\n",
    "Формат выходных данных\n",
    "Программа должна вывести сначала все введённые строки с фамилиями и оценками учеников в том же порядке.\n",
    "Затем следует пустая строка, а затем выводятся строки с фамилиями и оценками хорошистов и отличников (в том же порядке).\n",
    "\n",
    "Примечание 1. Оценка ученика – это натуральное число от \n",
    "1 до 5.\n",
    "\n",
    "Примечание 2. Гарантируется, что в классе есть хотя бы один хорошист (обладатель оценки\n",
    "4) или отличник (получивший 5)."
   ]
  },
  {
   "cell_type": "code",
   "execution_count": 24,
   "id": "14e75c1b",
   "metadata": {},
   "outputs": [
    {
     "name": "stdout",
     "output_type": "stream",
     "text": [
      "2\n",
      "adf 5\n",
      "dasf2\n",
      "adf 5\n",
      "dasf2\n"
     ]
    }
   ],
   "source": [
    "n = int(input())\n",
    "\n",
    "lst = []\n",
    "lst_2 = []\n",
    "for i in range(n):\n",
    "    a = input()\n",
    "    lst.append(a)\n",
    "    if int(a[-1]) == 4 or int(a[-1]) == 5:\n",
    "        lst_2.append(a)\n",
    "        \n",
    "print(*lst, sep = '\\n')\n",
    "print()\n",
    "print(*lst_2, sep = '\\n')"
   ]
  },
  {
   "cell_type": "code",
   "execution_count": 37,
   "id": "3ca4b693",
   "metadata": {},
   "outputs": [
    {
     "name": "stdout",
     "output_type": "stream",
     "text": [
      "uectd 5\n",
      "yjkbr 2\n",
      "\n",
      "uectd 5\n"
     ]
    }
   ],
   "source": [
    "n = int(input())\n",
    "\n",
    "s = [tuple(input().split()) for i in range(n)]\n",
    "\n",
    "for i in s:\n",
    "    print(*i)\n",
    "    \n",
    "print()\n",
    "\n",
    "for i in s:\n",
    "    if i[-1] == '4' or i[-1] == '5':\n",
    "        print(*i)"
   ]
  },
  {
   "cell_type": "code",
   "execution_count": null,
   "id": "ec5ae9a7",
   "metadata": {},
   "outputs": [],
   "source": []
  },
  {
   "cell_type": "markdown",
   "id": "f77bff57",
   "metadata": {},
   "source": [
    "# Задача №4"
   ]
  },
  {
   "cell_type": "code",
   "execution_count": null,
   "id": "9673f9b6",
   "metadata": {},
   "outputs": [],
   "source": [
    "Последовательность Трибоначчи\n",
    "Напишите программу, которая считывает натуральное число \n",
    "n и выводит первые \n",
    "n чисел последовательности Трибоначчи.\n",
    "\n",
    "Формат входных данных\n",
    "На вход программе подается одно число \n",
    "n (n≤100) – количество членов последовательности.\n",
    "\n",
    "Формат выходных данных\n",
    "Программа должна вывести члены последовательности Трибоначчи, отделенные символом пробела.\n",
    "\n",
    "Примечание. Последовательность Трибоначчи – последовательность натуральных чисел, \n",
    "где каждое последующее число является суммой трех предыдущих:\n",
    "1,1,1,3,5,9,17,31,57,105 …"
   ]
  },
  {
   "cell_type": "code",
   "execution_count": 1,
   "id": "109ab942",
   "metadata": {},
   "outputs": [
    {
     "name": "stdout",
     "output_type": "stream",
     "text": [
      "5\n"
     ]
    }
   ],
   "source": [
    "n = int(input())"
   ]
  },
  {
   "cell_type": "code",
   "execution_count": 12,
   "id": "4a25f0ae",
   "metadata": {},
   "outputs": [
    {
     "name": "stdout",
     "output_type": "stream",
     "text": [
      "1 1 1 3 5 9 17 31 57 105 193 355 653 1201 2209\n"
     ]
    }
   ],
   "source": [
    "lst = []\n",
    "\n",
    "f1, f2, f3 = 1, 1, 1\n",
    "for i in range(n):\n",
    "    lst.extend([f1, f2, f3])\n",
    "    f1 = f1 + f2 + f3\n",
    "    f2 = f1 + f2 + f3\n",
    "    f3 = f1 + f2 + f3\n",
    "print(*lst)"
   ]
  },
  {
   "cell_type": "code",
   "execution_count": null,
   "id": "088e2429",
   "metadata": {},
   "outputs": [],
   "source": []
  },
  {
   "cell_type": "code",
   "execution_count": 13,
   "id": "c02bcf90",
   "metadata": {},
   "outputs": [
    {
     "name": "stdout",
     "output_type": "stream",
     "text": [
      "200\n"
     ]
    }
   ],
   "source": [
    "tpl = (100)\n",
    "print(tpl * 2)"
   ]
  },
  {
   "cell_type": "code",
   "execution_count": null,
   "id": "cb98ff1d",
   "metadata": {},
   "outputs": [],
   "source": []
  },
  {
   "cell_type": "code",
   "execution_count": null,
   "id": "85b6897e",
   "metadata": {},
   "outputs": [],
   "source": []
  },
  {
   "cell_type": "code",
   "execution_count": null,
   "id": "949d2f2b",
   "metadata": {},
   "outputs": [],
   "source": []
  }
 ],
 "metadata": {
  "kernelspec": {
   "display_name": "Python 3 (ipykernel)",
   "language": "python",
   "name": "python3"
  },
  "language_info": {
   "codemirror_mode": {
    "name": "ipython",
    "version": 3
   },
   "file_extension": ".py",
   "mimetype": "text/x-python",
   "name": "python",
   "nbconvert_exporter": "python",
   "pygments_lexer": "ipython3",
   "version": "3.10.2"
  }
 },
 "nbformat": 4,
 "nbformat_minor": 5
}
