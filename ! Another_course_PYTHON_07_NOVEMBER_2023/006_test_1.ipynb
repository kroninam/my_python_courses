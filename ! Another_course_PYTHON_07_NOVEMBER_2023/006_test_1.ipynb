{
 "cells": [
  {
   "cell_type": "markdown",
   "id": "df849e4a",
   "metadata": {},
   "source": [
    "# Задача №1"
   ]
  },
  {
   "cell_type": "code",
   "execution_count": null,
   "id": "a9068a3d",
   "metadata": {},
   "outputs": [],
   "source": [
    "Каждый n-ый элемент\n",
    "На вход программе подается строка текста, содержащая символы и число \n",
    "�\n",
    "n. Из данной строки формируется список. Напишите программу, которая разделяет список на вложенные подсписки так, что \n",
    "�\n",
    "n последовательных элементов принадлежат разным подспискам.\n",
    "\n",
    "Формат входных данных\n",
    "На вход программе подается строка текста, содержащая символы, отделенные символом пробела и число \n",
    "�\n",
    "n на отдельной строке.\n",
    "\n",
    "Формат выходных данных\n",
    "Программа должна вывести указанный вложенный список.\n",
    "\n",
    "Sample Input 1:\n",
    "\n",
    "a b c d e f g h i j k l m n\n",
    "3\n",
    "\n",
    "\n",
    "Sample Output 1:\n",
    "\n",
    "[['a', 'd', 'g', 'j', 'm'], ['b', 'e', 'h', 'k', 'n'], ['c', 'f', 'i', 'l']] "
   ]
  },
  {
   "cell_type": "code",
   "execution_count": 37,
   "id": "d1b9676f",
   "metadata": {},
   "outputs": [
    {
     "name": "stdout",
     "output_type": "stream",
     "text": [
      "a b c d e f g h i j k l m n\n"
     ]
    }
   ],
   "source": [
    "s = input().split()"
   ]
  },
  {
   "cell_type": "code",
   "execution_count": 35,
   "id": "f79032b5",
   "metadata": {},
   "outputs": [
    {
     "name": "stdout",
     "output_type": "stream",
     "text": [
      "3\n"
     ]
    }
   ],
   "source": [
    "n = int(input())"
   ]
  },
  {
   "cell_type": "code",
   "execution_count": 28,
   "id": "a25ccf6f",
   "metadata": {},
   "outputs": [],
   "source": [
    "tmp = []\n",
    "for i in range(len(s)):\n",
    "    if i%n == 0:\n",
    "        tmp.append(s[i])        "
   ]
  },
  {
   "cell_type": "code",
   "execution_count": 29,
   "id": "c0277518",
   "metadata": {},
   "outputs": [
    {
     "data": {
      "text/plain": [
       "['a', 'd', 'g', 'j', 'm']"
      ]
     },
     "execution_count": 29,
     "metadata": {},
     "output_type": "execute_result"
    }
   ],
   "source": [
    "tmp"
   ]
  },
  {
   "cell_type": "code",
   "execution_count": 30,
   "id": "c58caf45",
   "metadata": {},
   "outputs": [],
   "source": [
    "for i in tmp:\n",
    "    s.remove(i)"
   ]
  },
  {
   "cell_type": "code",
   "execution_count": 31,
   "id": "9d3ab066",
   "metadata": {},
   "outputs": [
    {
     "data": {
      "text/plain": [
       "['b', 'c', 'e', 'f', 'h', 'i', 'k', 'l', 'n']"
      ]
     },
     "execution_count": 31,
     "metadata": {},
     "output_type": "execute_result"
    }
   ],
   "source": [
    "s"
   ]
  },
  {
   "cell_type": "code",
   "execution_count": 38,
   "id": "479d79e8",
   "metadata": {},
   "outputs": [
    {
     "name": "stdout",
     "output_type": "stream",
     "text": [
      "[['a', 'd', 'g', 'j', 'm'], ['b', 'e', 'h', 'k', 'n'], ['c', 'f', 'i', 'l']]\n"
     ]
    }
   ],
   "source": [
    "lst = []\n",
    "\n",
    "while len(s) > 0:\n",
    "    tmp = []\n",
    "    for i in range(len(s)):\n",
    "        if i % n == 0:\n",
    "            tmp.append(s[i])\n",
    "            \n",
    "    for i in tmp:\n",
    "        s.remove(i)\n",
    "        \n",
    "    lst.append(tmp)\n",
    "    n -= 1\n",
    "    \n",
    "print(lst)"
   ]
  },
  {
   "cell_type": "code",
   "execution_count": null,
   "id": "d43226c2",
   "metadata": {},
   "outputs": [],
   "source": []
  },
  {
   "cell_type": "markdown",
   "id": "86f1b47d",
   "metadata": {},
   "source": [
    "# Задача №2"
   ]
  },
  {
   "cell_type": "code",
   "execution_count": null,
   "id": "6e4a907d",
   "metadata": {},
   "outputs": [],
   "source": [
    "Максимальный в области 2\n",
    "Напишите программу, которая выводит максимальный элемент ниже побочной диагонали в области квадратной матрицы."
   ]
  },
  {
   "cell_type": "code",
   "execution_count": null,
   "id": "4661d585",
   "metadata": {},
   "outputs": [],
   "source": [
    "Формат входных данных\n",
    "На вход программе подаётся натуральное число \n",
    "�\n",
    "n — количество строк и столбцов в матрице, затем элементы матрицы.\n",
    "\n",
    "Формат выходных данных\n",
    "Программа должна вывести одно число — максимальный элемент в заштрихованной области квадратной матрицы.\n",
    "\n",
    "Примечание. Элементы побочной диагонали также учитываются.\\\n",
    "\n",
    "3\n",
    "1 4 5\n",
    "6 7 8\n",
    "1 1 6"
   ]
  },
  {
   "cell_type": "code",
   "execution_count": 40,
   "id": "c2f9b108",
   "metadata": {},
   "outputs": [
    {
     "name": "stdout",
     "output_type": "stream",
     "text": [
      "3\n",
      "1 4 5\n",
      "6 7 8\n",
      "1 1 6\n"
     ]
    }
   ],
   "source": [
    "n = int(input())\n",
    "\n",
    "lst = []\n",
    "\n",
    "for i in range(n):\n",
    "    lst.append(list(map(int, input().split())))"
   ]
  },
  {
   "cell_type": "code",
   "execution_count": 41,
   "id": "b704ccb5",
   "metadata": {},
   "outputs": [
    {
     "data": {
      "text/plain": [
       "[[1, 4, 5], [6, 7, 8], [1, 1, 6]]"
      ]
     },
     "execution_count": 41,
     "metadata": {},
     "output_type": "execute_result"
    }
   ],
   "source": [
    "lst"
   ]
  },
  {
   "cell_type": "code",
   "execution_count": 46,
   "id": "4879c287",
   "metadata": {},
   "outputs": [
    {
     "name": "stdout",
     "output_type": "stream",
     "text": [
      "8\n"
     ]
    }
   ],
   "source": [
    "tmp = []\n",
    "for i in range(n):\n",
    "    for j in range(n):\n",
    "        if i >= n-1-j:\n",
    "            #print(lst[i][j])\n",
    "            tmp.append(lst[i][j])\n",
    "            \n",
    "print(max(tmp))"
   ]
  },
  {
   "cell_type": "code",
   "execution_count": null,
   "id": "87a01f23",
   "metadata": {},
   "outputs": [],
   "source": []
  },
  {
   "cell_type": "markdown",
   "id": "bf850003",
   "metadata": {},
   "source": [
    "# Задача №3"
   ]
  },
  {
   "cell_type": "code",
   "execution_count": null,
   "id": "c0d4204e",
   "metadata": {},
   "outputs": [],
   "source": [
    "Транспонирование матрицы\n",
    "Напишите программу, которая транспонирует квадратную матрицу.\n",
    "\n",
    "Формат входных данных\n",
    "На вход программе подаётся натуральное число \n",
    "�\n",
    "n — количество строк и столбцов в матрице, затем элементы матрицы.\n",
    "\n",
    "Формат выходных данных\n",
    "Программа должна вывести транспонированную матрицу.\n",
    "\n",
    "Примечание 1. Транспонированная матрица — матрица, полученная из исходной матрицы заменой строк на столбцы.\n",
    "\n",
    "Примечание 2. Задачу можно решить без использования вспомогательного списка.\n",
    "\n",
    "\n",
    "Sample Input 1:\n",
    "\n",
    "3\n",
    "1 2 3\n",
    "4 5 6\n",
    "7 8 9\n",
    "\n",
    "\n",
    "Sample Output 1:\n",
    "\n",
    "1 4 7\n",
    "2 5 8\n",
    "3 6 9"
   ]
  },
  {
   "cell_type": "code",
   "execution_count": 47,
   "id": "4a512aa5",
   "metadata": {},
   "outputs": [
    {
     "name": "stdout",
     "output_type": "stream",
     "text": [
      "3\n",
      "1 2 3\n",
      "4 5 6\n",
      "7 8 9\n"
     ]
    }
   ],
   "source": [
    "n = int(input())\n",
    "\n",
    "lst = []\n",
    "\n",
    "for i in range(n):\n",
    "    lst.append(list(map(int, input().split())))"
   ]
  },
  {
   "cell_type": "code",
   "execution_count": 51,
   "id": "7b52fa8f",
   "metadata": {},
   "outputs": [
    {
     "name": "stdout",
     "output_type": "stream",
     "text": [
      "1 4 7 \n",
      "2 5 8 \n",
      "3 6 9 \n"
     ]
    }
   ],
   "source": [
    "for i in range(n):\n",
    "    for j in range(n):\n",
    "        print(lst[j][i], end = ' ')\n",
    "    print()"
   ]
  },
  {
   "cell_type": "code",
   "execution_count": null,
   "id": "ed5a3859",
   "metadata": {},
   "outputs": [],
   "source": []
  },
  {
   "cell_type": "markdown",
   "id": "3f79d457",
   "metadata": {},
   "source": [
    "# Задача №4"
   ]
  },
  {
   "cell_type": "code",
   "execution_count": null,
   "id": "57efb4ac",
   "metadata": {},
   "outputs": [],
   "source": [
    "Снежинка\n",
    "На вход программе подается нечетное натуральное число \n",
    "n. Напишите программу, которая создает матрицу размером \n",
    "\n",
    "n×n заполнив её символами . . Затем заполните символами * среднюю строку \n",
    "и столбец матрицы, главную и побочную диагональ матрицы. \n",
    "Выведите полученную матрицу на экран, разделяя элементы пробелами.\n",
    "\n",
    "Формат входных данных\n",
    "На вход программе подается нечетное натуральное число \n",
    "\n",
    "n,(n≥3) — количество строк и столбцов в матрице.\n",
    "\n",
    "Формат выходных данных\n",
    "Программа должна вывести матрицу в соответствии с условием задачи.\n",
    "\n"
   ]
  },
  {
   "cell_type": "code",
   "execution_count": 91,
   "id": "186a85a9",
   "metadata": {},
   "outputs": [
    {
     "name": "stdout",
     "output_type": "stream",
     "text": [
      "50\n"
     ]
    }
   ],
   "source": [
    "n = int(input())\n",
    "\n",
    "lst = []\n",
    "\n",
    "for i in range(n):\n",
    "    lst.append(['.']*n)"
   ]
  },
  {
   "cell_type": "code",
   "execution_count": 93,
   "id": "c3324aba",
   "metadata": {},
   "outputs": [],
   "source": [
    "# lst"
   ]
  },
  {
   "cell_type": "code",
   "execution_count": 94,
   "id": "8c444a04",
   "metadata": {},
   "outputs": [],
   "source": [
    "for i in range(n):\n",
    "    for j in range(n):\n",
    "        if i == n//2:\n",
    "            lst[i][j] = '*'\n",
    "            \n",
    "        if j == n//2:\n",
    "            lst[i][j] = '*'\n",
    "            \n",
    "        if i == j:\n",
    "            lst[i][j] = '*'\n",
    "          \n",
    "        if i == n - 1 - j:\n",
    "            lst[i][j] = '*'\n",
    "        "
   ]
  },
  {
   "cell_type": "code",
   "execution_count": 96,
   "id": "c599ef8e",
   "metadata": {},
   "outputs": [],
   "source": [
    "# lst"
   ]
  },
  {
   "cell_type": "code",
   "execution_count": 97,
   "id": "8197786f",
   "metadata": {},
   "outputs": [
    {
     "name": "stdout",
     "output_type": "stream",
     "text": [
      "* . . . . . . . . . . . . . . . . . . . . . . . . * . . . . . . . . . . . . . . . . . . . . . . . * \n",
      ". * . . . . . . . . . . . . . . . . . . . . . . . * . . . . . . . . . . . . . . . . . . . . . . * . \n",
      ". . * . . . . . . . . . . . . . . . . . . . . . . * . . . . . . . . . . . . . . . . . . . . . * . . \n",
      ". . . * . . . . . . . . . . . . . . . . . . . . . * . . . . . . . . . . . . . . . . . . . . * . . . \n",
      ". . . . * . . . . . . . . . . . . . . . . . . . . * . . . . . . . . . . . . . . . . . . . * . . . . \n",
      ". . . . . * . . . . . . . . . . . . . . . . . . . * . . . . . . . . . . . . . . . . . . * . . . . . \n",
      ". . . . . . * . . . . . . . . . . . . . . . . . . * . . . . . . . . . . . . . . . . . * . . . . . . \n",
      ". . . . . . . * . . . . . . . . . . . . . . . . . * . . . . . . . . . . . . . . . . * . . . . . . . \n",
      ". . . . . . . . * . . . . . . . . . . . . . . . . * . . . . . . . . . . . . . . . * . . . . . . . . \n",
      ". . . . . . . . . * . . . . . . . . . . . . . . . * . . . . . . . . . . . . . . * . . . . . . . . . \n",
      ". . . . . . . . . . * . . . . . . . . . . . . . . * . . . . . . . . . . . . . * . . . . . . . . . . \n",
      ". . . . . . . . . . . * . . . . . . . . . . . . . * . . . . . . . . . . . . * . . . . . . . . . . . \n",
      ". . . . . . . . . . . . * . . . . . . . . . . . . * . . . . . . . . . . . * . . . . . . . . . . . . \n",
      ". . . . . . . . . . . . . * . . . . . . . . . . . * . . . . . . . . . . * . . . . . . . . . . . . . \n",
      ". . . . . . . . . . . . . . * . . . . . . . . . . * . . . . . . . . . * . . . . . . . . . . . . . . \n",
      ". . . . . . . . . . . . . . . * . . . . . . . . . * . . . . . . . . * . . . . . . . . . . . . . . . \n",
      ". . . . . . . . . . . . . . . . * . . . . . . . . * . . . . . . . * . . . . . . . . . . . . . . . . \n",
      ". . . . . . . . . . . . . . . . . * . . . . . . . * . . . . . . * . . . . . . . . . . . . . . . . . \n",
      ". . . . . . . . . . . . . . . . . . * . . . . . . * . . . . . * . . . . . . . . . . . . . . . . . . \n",
      ". . . . . . . . . . . . . . . . . . . * . . . . . * . . . . * . . . . . . . . . . . . . . . . . . . \n",
      ". . . . . . . . . . . . . . . . . . . . * . . . . * . . . * . . . . . . . . . . . . . . . . . . . . \n",
      ". . . . . . . . . . . . . . . . . . . . . * . . . * . . * . . . . . . . . . . . . . . . . . . . . . \n",
      ". . . . . . . . . . . . . . . . . . . . . . * . . * . * . . . . . . . . . . . . . . . . . . . . . . \n",
      ". . . . . . . . . . . . . . . . . . . . . . . * . * * . . . . . . . . . . . . . . . . . . . . . . . \n",
      ". . . . . . . . . . . . . . . . . . . . . . . . * * . . . . . . . . . . . . . . . . . . . . . . . . \n",
      "* * * * * * * * * * * * * * * * * * * * * * * * * * * * * * * * * * * * * * * * * * * * * * * * * * \n",
      ". . . . . . . . . . . . . . . . . . . . . . . * . * * . . . . . . . . . . . . . . . . . . . . . . . \n",
      ". . . . . . . . . . . . . . . . . . . . . . * . . * . * . . . . . . . . . . . . . . . . . . . . . . \n",
      ". . . . . . . . . . . . . . . . . . . . . * . . . * . . * . . . . . . . . . . . . . . . . . . . . . \n",
      ". . . . . . . . . . . . . . . . . . . . * . . . . * . . . * . . . . . . . . . . . . . . . . . . . . \n",
      ". . . . . . . . . . . . . . . . . . . * . . . . . * . . . . * . . . . . . . . . . . . . . . . . . . \n",
      ". . . . . . . . . . . . . . . . . . * . . . . . . * . . . . . * . . . . . . . . . . . . . . . . . . \n",
      ". . . . . . . . . . . . . . . . . * . . . . . . . * . . . . . . * . . . . . . . . . . . . . . . . . \n",
      ". . . . . . . . . . . . . . . . * . . . . . . . . * . . . . . . . * . . . . . . . . . . . . . . . . \n",
      ". . . . . . . . . . . . . . . * . . . . . . . . . * . . . . . . . . * . . . . . . . . . . . . . . . \n",
      ". . . . . . . . . . . . . . * . . . . . . . . . . * . . . . . . . . . * . . . . . . . . . . . . . . \n",
      ". . . . . . . . . . . . . * . . . . . . . . . . . * . . . . . . . . . . * . . . . . . . . . . . . . \n",
      ". . . . . . . . . . . . * . . . . . . . . . . . . * . . . . . . . . . . . * . . . . . . . . . . . . \n",
      ". . . . . . . . . . . * . . . . . . . . . . . . . * . . . . . . . . . . . . * . . . . . . . . . . . \n",
      ". . . . . . . . . . * . . . . . . . . . . . . . . * . . . . . . . . . . . . . * . . . . . . . . . . \n",
      ". . . . . . . . . * . . . . . . . . . . . . . . . * . . . . . . . . . . . . . . * . . . . . . . . . \n",
      ". . . . . . . . * . . . . . . . . . . . . . . . . * . . . . . . . . . . . . . . . * . . . . . . . . \n",
      ". . . . . . . * . . . . . . . . . . . . . . . . . * . . . . . . . . . . . . . . . . * . . . . . . . \n",
      ". . . . . . * . . . . . . . . . . . . . . . . . . * . . . . . . . . . . . . . . . . . * . . . . . . \n",
      ". . . . . * . . . . . . . . . . . . . . . . . . . * . . . . . . . . . . . . . . . . . . * . . . . . \n",
      ". . . . * . . . . . . . . . . . . . . . . . . . . * . . . . . . . . . . . . . . . . . . . * . . . . \n",
      ". . . * . . . . . . . . . . . . . . . . . . . . . * . . . . . . . . . . . . . . . . . . . . * . . . \n",
      ". . * . . . . . . . . . . . . . . . . . . . . . . * . . . . . . . . . . . . . . . . . . . . . * . . \n",
      ". * . . . . . . . . . . . . . . . . . . . . . . . * . . . . . . . . . . . . . . . . . . . . . . * . \n",
      "* . . . . . . . . . . . . . . . . . . . . . . . . * . . . . . . . . . . . . . . . . . . . . . . . * \n"
     ]
    }
   ],
   "source": [
    "for i in range(n):\n",
    "    for j in range(n):\n",
    "        print(lst[i][j], end = ' ')\n",
    "    print()"
   ]
  },
  {
   "cell_type": "code",
   "execution_count": null,
   "id": "1e7cacca",
   "metadata": {},
   "outputs": [],
   "source": []
  },
  {
   "cell_type": "markdown",
   "id": "a589fc72",
   "metadata": {},
   "source": [
    "# Задача №5"
   ]
  },
  {
   "cell_type": "code",
   "execution_count": null,
   "id": "ef0a4f72",
   "metadata": {},
   "outputs": [],
   "source": [
    "Симметричная матрица\n",
    "Напишите программу проверки симметричности квадратной матрицы относительно побочной диагонали.\n",
    "\n",
    "Формат входных данных\n",
    "На вход программе подаётся натуральное число \n",
    "�\n",
    "n — количество строк и столбцов в матрице, затем элементы матрицы.\n",
    "\n",
    "Формат выходных данных\n",
    "Программа должна вывести YES, если матрица симметрична, и слово NO в противном случае.\n",
    "\n",
    "3\n",
    "0 3 10\n",
    "4 9 3\n",
    "7 4 0\n",
    "\n",
    "3\n",
    "0 1 2\n",
    "1 2 7\n",
    "2 3 4"
   ]
  },
  {
   "cell_type": "code",
   "execution_count": 101,
   "id": "677408b1",
   "metadata": {},
   "outputs": [
    {
     "name": "stdout",
     "output_type": "stream",
     "text": [
      "3\n"
     ]
    }
   ],
   "source": [
    "n = int(input())"
   ]
  },
  {
   "cell_type": "code",
   "execution_count": 169,
   "id": "9b6500fe",
   "metadata": {
    "scrolled": true
   },
   "outputs": [
    {
     "name": "stdout",
     "output_type": "stream",
     "text": [
      "0 3 10\n",
      "4 9 3\n",
      "7 4 0\n"
     ]
    }
   ],
   "source": [
    "lst = []\n",
    "\n",
    "for i in range(n):\n",
    "    lst.append(list(map(int, input().split()))) "
   ]
  },
  {
   "cell_type": "code",
   "execution_count": 141,
   "id": "320dc8c8",
   "metadata": {},
   "outputs": [],
   "source": [
    "lst_2 = []\n",
    "\n",
    "for i in range(n):\n",
    "    tmp = []\n",
    "    for j in range(n):\n",
    "        tmp.append(lst[j][i])\n",
    "    lst_2.append(tmp)"
   ]
  },
  {
   "cell_type": "code",
   "execution_count": 170,
   "id": "676d9283",
   "metadata": {},
   "outputs": [],
   "source": [
    "lst_2 = []\n",
    "\n",
    "for i in range(n):\n",
    "    tmp = []\n",
    "    for j in range(-1, -n-1, -1):\n",
    "        tmp.append(lst[i][j])\n",
    "    lst_2.append(tmp)"
   ]
  },
  {
   "cell_type": "code",
   "execution_count": 180,
   "id": "b98319df",
   "metadata": {},
   "outputs": [
    {
     "data": {
      "text/plain": [
       "[[10, 3, 0], [3, 9, 4], [0, 4, 7]]"
      ]
     },
     "execution_count": 180,
     "metadata": {},
     "output_type": "execute_result"
    }
   ],
   "source": [
    "lst_2"
   ]
  },
  {
   "cell_type": "code",
   "execution_count": 181,
   "id": "581e5e8d",
   "metadata": {},
   "outputs": [],
   "source": [
    "lst_3 = []\n",
    "for i in range(n):\n",
    "    tmp = []\n",
    "    for j in range(n):\n",
    "        tmp.append(lst_2[j][i])\n",
    "    lst_3.append(tmp)"
   ]
  },
  {
   "cell_type": "code",
   "execution_count": 182,
   "id": "a7ce9703",
   "metadata": {},
   "outputs": [
    {
     "data": {
      "text/plain": [
       "[[10, 3, 0], [3, 9, 4], [0, 4, 7]]"
      ]
     },
     "execution_count": 182,
     "metadata": {},
     "output_type": "execute_result"
    }
   ],
   "source": [
    "lst_3"
   ]
  },
  {
   "cell_type": "code",
   "execution_count": 179,
   "id": "2df0113a",
   "metadata": {},
   "outputs": [
    {
     "name": "stdout",
     "output_type": "stream",
     "text": [
      "10 3 0 \n",
      "3 9 4 \n",
      "0 4 7 \n"
     ]
    }
   ],
   "source": [
    "for i in range(n):\n",
    "    for j in range(n):\n",
    "        print(lst_3[j][i], end = ' ')\n",
    "    print()"
   ]
  },
  {
   "cell_type": "code",
   "execution_count": 176,
   "id": "c7b1b272",
   "metadata": {},
   "outputs": [
    {
     "name": "stdout",
     "output_type": "stream",
     "text": [
      "10 3 0 \n",
      "3 9 4 \n",
      "0 4 7 \n"
     ]
    }
   ],
   "source": [
    "for i in range(n):\n",
    "    for j in range(n):\n",
    "        print(lst_2[i][j], end = ' ')\n",
    "    print()"
   ]
  },
  {
   "cell_type": "code",
   "execution_count": 168,
   "id": "7fd0c0dc",
   "metadata": {},
   "outputs": [
    {
     "data": {
      "text/plain": [
       "False"
      ]
     },
     "execution_count": 168,
     "metadata": {},
     "output_type": "execute_result"
    }
   ],
   "source": [
    "lst == lst_3"
   ]
  },
  {
   "cell_type": "code",
   "execution_count": 183,
   "id": "99cc0cd6",
   "metadata": {},
   "outputs": [
    {
     "name": "stdout",
     "output_type": "stream",
     "text": [
      "YES\n"
     ]
    }
   ],
   "source": [
    "if lst_2 == lst_3:\n",
    "    print('YES')\n",
    "else:\n",
    "    print('NO')"
   ]
  },
  {
   "cell_type": "code",
   "execution_count": null,
   "id": "913534d3",
   "metadata": {},
   "outputs": [],
   "source": []
  },
  {
   "cell_type": "markdown",
   "id": "d387899a",
   "metadata": {},
   "source": [
    "# Задача №6"
   ]
  },
  {
   "cell_type": "code",
   "execution_count": null,
   "id": "df98f13f",
   "metadata": {},
   "outputs": [],
   "source": [
    "Латинский квадрат 🌶️\n",
    "Латинским квадратом порядка \n",
    "n называется квадратная матрица размером \n",
    "\n",
    "n×n, каждая строка и каждый столбец которой содержат все числа от 1 до\n",
    "n. Напишите программу, которая проверяет, является ли заданная квадратная матрица латинским квадратом.\n",
    "\n",
    "Формат входных данных\n",
    "На вход программе подаётся натуральное число \n",
    "�\n",
    "n — количество строк и столбцов в матрице, затем элементы матрицы: \n",
    "�\n",
    "n строк, по \n",
    "�\n",
    "n чисел в каждой, разделённые пробелами.\n",
    "\n",
    "Формат выходных данных\n",
    "Программа должна вывести слово YES, если матрица является латинским квадратом, и слово NO, если не является.\n",
    "\n",
    "4\n",
    "2 3 4 1\n",
    "3 4 1 2\n",
    "4 1 2 3\n",
    "1 2 3 4"
   ]
  },
  {
   "cell_type": "code",
   "execution_count": 186,
   "id": "2cfb0970",
   "metadata": {},
   "outputs": [
    {
     "name": "stdout",
     "output_type": "stream",
     "text": [
      "4\n",
      "2 3 4 1\n",
      "3 4 1 2\n",
      "4 1 2 3\n",
      "1 2 3 4\n"
     ]
    }
   ],
   "source": [
    "n = int(input())\n",
    "lst = []\n",
    "\n",
    "for i in range(n):\n",
    "    lst.append(list(map(int, input().split())))"
   ]
  },
  {
   "cell_type": "code",
   "execution_count": 189,
   "id": "f7c7e856",
   "metadata": {},
   "outputs": [],
   "source": [
    "s = [i+1 for i in range(n)]       "
   ]
  },
  {
   "cell_type": "code",
   "execution_count": 190,
   "id": "7029a3b2",
   "metadata": {},
   "outputs": [
    {
     "data": {
      "text/plain": [
       "[1, 2, 3, 4]"
      ]
     },
     "execution_count": 190,
     "metadata": {},
     "output_type": "execute_result"
    }
   ],
   "source": [
    "s"
   ]
  },
  {
   "cell_type": "code",
   "execution_count": 197,
   "id": "ea2cff16",
   "metadata": {},
   "outputs": [],
   "source": [
    "lst_2 = []\n",
    "for i in range(n):\n",
    "    tmp = []\n",
    "    for j in range(n):\n",
    "        tmp.append(lst[j][i])\n",
    "    lst_2.append(tmp)"
   ]
  },
  {
   "cell_type": "code",
   "execution_count": 198,
   "id": "adceea22",
   "metadata": {},
   "outputs": [],
   "source": [
    "t = 0\n",
    "for i in range(n):\n",
    "    if sorted(lst[i]) == s and sorted(lst_2[i]) == s:\n",
    "        t += 1       "
   ]
  },
  {
   "cell_type": "code",
   "execution_count": 200,
   "id": "ed2fd34d",
   "metadata": {},
   "outputs": [
    {
     "name": "stdout",
     "output_type": "stream",
     "text": [
      "YES\n"
     ]
    }
   ],
   "source": [
    "if t == n:\n",
    "    print('YES')\n",
    "else:\n",
    "    print('NO')"
   ]
  },
  {
   "cell_type": "code",
   "execution_count": null,
   "id": "4a01b422",
   "metadata": {},
   "outputs": [],
   "source": []
  },
  {
   "cell_type": "markdown",
   "id": "33a5258f",
   "metadata": {},
   "source": [
    "# Задача №7"
   ]
  },
  {
   "cell_type": "code",
   "execution_count": null,
   "id": "f97ead9c",
   "metadata": {},
   "outputs": [],
   "source": [
    "Диагонали, параллельные главной\n",
    "На вход программе подается натуральное число \n",
    "n. Напишите программу, которая создает матрицу размером \n",
    "\n",
    "n×n и заполняет её по следующему правилу:\n",
    "\n",
    "на главной диагонали на месте каждого элемента должно стоять число \n",
    "0;\n",
    "на двух диагоналях, прилегающих к главной, – число \n",
    "1\n",
    "1;\n",
    "на следующих двух диагоналях – число \n",
    "2\n",
    "2, и т.д.\n",
    "Формат входных данных\n",
    "На вход программе подается натуральное число \n",
    "�\n",
    "n — количество строк и столбцов в матрице.\n",
    "\n",
    "Формат выходных данных\n",
    "Программа должна вывести матрицу в соответствии с условием задачи.\n",
    "\n",
    "Sample Input 1:\n",
    "\n",
    "5\n",
    "Sample Output 1:\n",
    "\n",
    "0 1 2 3 4\n",
    "1 0 1 2 3\n",
    "2 1 0 1 2\n",
    "3 2 1 0 1\n",
    "4 3 2 1 0"
   ]
  },
  {
   "cell_type": "code",
   "execution_count": 201,
   "id": "860d396b",
   "metadata": {},
   "outputs": [
    {
     "name": "stdout",
     "output_type": "stream",
     "text": [
      "5\n"
     ]
    }
   ],
   "source": [
    "n = int(input())"
   ]
  },
  {
   "cell_type": "code",
   "execution_count": 242,
   "id": "c6180813",
   "metadata": {},
   "outputs": [],
   "source": [
    "lst = []\n",
    "\n",
    "for i in range(n):\n",
    "    lst.append([0]*n)"
   ]
  },
  {
   "cell_type": "code",
   "execution_count": 243,
   "id": "f60b882c",
   "metadata": {},
   "outputs": [],
   "source": [
    "k = 1\n",
    "while k != n:\n",
    "    for i in range(n):\n",
    "        for j in range(n):\n",
    "\n",
    "            if i == j+k or i == j-k:\n",
    "                lst[i][j] = k\n",
    "    k += 1\n"
   ]
  },
  {
   "cell_type": "code",
   "execution_count": null,
   "id": "11f0d4ac",
   "metadata": {},
   "outputs": [],
   "source": []
  },
  {
   "cell_type": "code",
   "execution_count": 244,
   "id": "aab0cede",
   "metadata": {},
   "outputs": [
    {
     "name": "stdout",
     "output_type": "stream",
     "text": [
      "0 1 2 3 4 \n",
      "1 0 1 2 3 \n",
      "2 1 0 1 2 \n",
      "3 2 1 0 1 \n",
      "4 3 2 1 0 \n"
     ]
    }
   ],
   "source": [
    "for i in range(n):\n",
    "    for j in range(n):\n",
    "        print(lst[i][j], end = ' ')\n",
    "    print()"
   ]
  },
  {
   "cell_type": "code",
   "execution_count": null,
   "id": "765788bc",
   "metadata": {},
   "outputs": [],
   "source": []
  },
  {
   "cell_type": "markdown",
   "id": "2f695af2",
   "metadata": {},
   "source": [
    "# Задача №8"
   ]
  },
  {
   "cell_type": "code",
   "execution_count": null,
   "id": "9aa1d520",
   "metadata": {},
   "outputs": [],
   "source": [
    "Ходы ферзя\n",
    "На шахматной доске 8×8 стоит ферзь. \n",
    "Отметьте положение ферзя на доске и все клетки, которые бьет ферзь. \n",
    "Клетку, где стоит ферзь, отметьте буквой Q, клетки, которые бьет ферзь, отметьте символами *, \n",
    "остальные клетки заполните точками.\n",
    "\n",
    "Формат входных данных\n",
    "На вход программе подаются координаты ферзя на шахматной доске в шахматной нотации \n",
    "(то есть в виде e4, где сначала записывается номер столбца (буква от a до h, слева направо), \n",
    "затем номер строки (цифра от \n",
    "\n",
    "1 до \n",
    "\n",
    "8, снизу вверх)).\n",
    "\n",
    "Формат выходных данных\n",
    "Программа должна вывести на экран изображение доски, разделяя элементы пробелами."
   ]
  },
  {
   "cell_type": "code",
   "execution_count": 762,
   "id": "5ecb002b",
   "metadata": {},
   "outputs": [],
   "source": [
    "lst = []\n",
    "\n",
    "for i in range(8):\n",
    "    lst.append(['.'] * 8)"
   ]
  },
  {
   "cell_type": "code",
   "execution_count": 763,
   "id": "3780771a",
   "metadata": {
    "scrolled": true
   },
   "outputs": [
    {
     "name": "stdout",
     "output_type": "stream",
     "text": [
      ". . . . . . . . \n",
      ". . . . . . . . \n",
      ". . . . . . . . \n",
      ". . . . . . . . \n",
      ". . . . . . . . \n",
      ". . . . . . . . \n",
      ". . . . . . . . \n",
      ". . . . . . . . \n"
     ]
    }
   ],
   "source": [
    "for i in range(8):\n",
    "    for j in range(8):\n",
    "        print(lst[i][j], end = ' ')\n",
    "    print()"
   ]
  },
  {
   "cell_type": "code",
   "execution_count": 749,
   "id": "b05b2274",
   "metadata": {},
   "outputs": [
    {
     "name": "stdout",
     "output_type": "stream",
     "text": [
      "c4\n"
     ]
    }
   ],
   "source": [
    "s = input()"
   ]
  },
  {
   "cell_type": "code",
   "execution_count": 750,
   "id": "34802f4f",
   "metadata": {},
   "outputs": [],
   "source": [
    "abc = 'abcdefgh'"
   ]
  },
  {
   "cell_type": "code",
   "execution_count": 751,
   "id": "95f73720",
   "metadata": {},
   "outputs": [
    {
     "data": {
      "text/plain": [
       "2"
      ]
     },
     "execution_count": 751,
     "metadata": {},
     "output_type": "execute_result"
    }
   ],
   "source": [
    "y = abc.index(s[0])\n",
    "y"
   ]
  },
  {
   "cell_type": "code",
   "execution_count": 752,
   "id": "a5685da6",
   "metadata": {},
   "outputs": [],
   "source": [
    "cc = [7, 6, 5, 4, 3, 2, 1, 0]"
   ]
  },
  {
   "cell_type": "code",
   "execution_count": 753,
   "id": "39b79b18",
   "metadata": {},
   "outputs": [
    {
     "data": {
      "text/plain": [
       "4"
      ]
     },
     "execution_count": 753,
     "metadata": {},
     "output_type": "execute_result"
    }
   ],
   "source": [
    "x = cc[int(s[1])-1]\n",
    "x"
   ]
  },
  {
   "cell_type": "code",
   "execution_count": 764,
   "id": "97a4a64e",
   "metadata": {},
   "outputs": [],
   "source": [
    "lst[x][y] = 'Q'"
   ]
  },
  {
   "cell_type": "code",
   "execution_count": 765,
   "id": "30cb01dd",
   "metadata": {},
   "outputs": [
    {
     "name": "stdout",
     "output_type": "stream",
     "text": [
      ". . . . . . . . \n",
      ". . . . . . . . \n",
      ". . . . . . . . \n",
      ". . . . . . . . \n",
      ". . Q . . . . . \n",
      ". . . . . . . . \n",
      ". . . . . . . . \n",
      ". . . . . . . . \n"
     ]
    }
   ],
   "source": [
    "for i in range(8):\n",
    "    for j in range(8):\n",
    "        print(lst[i][j], end = ' ')\n",
    "    print()"
   ]
  },
  {
   "cell_type": "code",
   "execution_count": 760,
   "id": "70a66529",
   "metadata": {},
   "outputs": [],
   "source": []
  },
  {
   "cell_type": "code",
   "execution_count": null,
   "id": "db4d5278",
   "metadata": {},
   "outputs": [],
   "source": []
  },
  {
   "cell_type": "code",
   "execution_count": null,
   "id": "5571542c",
   "metadata": {},
   "outputs": [],
   "source": []
  },
  {
   "cell_type": "code",
   "execution_count": null,
   "id": "9139671e",
   "metadata": {},
   "outputs": [],
   "source": []
  },
  {
   "cell_type": "code",
   "execution_count": 685,
   "id": "1513aadc",
   "metadata": {},
   "outputs": [],
   "source": [
    "for i in range(8):\n",
    "    for j in range(8):\n",
    "        if i == x:\n",
    "            lst[i][j] = '*'\n",
    "        if j == y:\n",
    "            lst[i][j] = '*'"
   ]
  },
  {
   "cell_type": "code",
   "execution_count": 686,
   "id": "7397cf1d",
   "metadata": {},
   "outputs": [],
   "source": [
    "for i in range(8):\n",
    "    for j in range(8):\n",
    "        if y < 7:\n",
    "            lst[x][y+1] = '*'\n",
    "        \n",
    "        if y>0:\n",
    "            lst[x][j-1] = '*'"
   ]
  },
  {
   "cell_type": "code",
   "execution_count": 687,
   "id": "36b3182f",
   "metadata": {},
   "outputs": [
    {
     "data": {
      "text/plain": [
       "7"
      ]
     },
     "execution_count": 687,
     "metadata": {},
     "output_type": "execute_result"
    }
   ],
   "source": [
    "y"
   ]
  },
  {
   "cell_type": "code",
   "execution_count": null,
   "id": "f5038a8b",
   "metadata": {},
   "outputs": [],
   "source": []
  },
  {
   "cell_type": "code",
   "execution_count": 688,
   "id": "be38a47d",
   "metadata": {},
   "outputs": [
    {
     "name": "stdout",
     "output_type": "stream",
     "text": [
      ". . . . . . . * \n",
      ". . . . . . . * \n",
      ". . . . . . . * \n",
      "* * * * * * * * \n",
      ". . . . . . . * \n",
      ". . . . . . . * \n",
      ". . . . . . . * \n",
      ". . . . . . . * \n"
     ]
    }
   ],
   "source": [
    "for i in range(8):\n",
    "    for j in range(8):\n",
    "        print(lst[i][j], end = ' ')\n",
    "    print()"
   ]
  },
  {
   "cell_type": "code",
   "execution_count": null,
   "id": "a0806a6f",
   "metadata": {},
   "outputs": [],
   "source": []
  },
  {
   "cell_type": "code",
   "execution_count": 697,
   "id": "29553e13",
   "metadata": {},
   "outputs": [],
   "source": [
    "for i in range(8):\n",
    "    for j in range(8):\n",
    "        if i == x:\n",
    "            lst[i][j] = '*'\n",
    "            lst[i-1][j-1] = '*'\n",
    "            \n",
    "        if j == y:\n",
    "            lst[i][j] = '*'\n"
   ]
  },
  {
   "cell_type": "code",
   "execution_count": 698,
   "id": "e5a2d1c0",
   "metadata": {},
   "outputs": [
    {
     "name": "stdout",
     "output_type": "stream",
     "text": [
      ". . . . . . . * \n",
      ". . . . . . . * \n",
      "* * * * * * * * \n",
      "* * * * * * * * \n",
      ". . . . . . . * \n",
      ". . . . . . . * \n",
      ". . . . . . . * \n",
      ". . . . . . . * \n"
     ]
    }
   ],
   "source": [
    "for i in range(8):\n",
    "    for j in range(8):\n",
    "        print(lst[i][j], end = ' ')\n",
    "    print()"
   ]
  },
  {
   "cell_type": "code",
   "execution_count": null,
   "id": "9d01f12c",
   "metadata": {},
   "outputs": [],
   "source": []
  },
  {
   "cell_type": "code",
   "execution_count": null,
   "id": "5c13ba59",
   "metadata": {},
   "outputs": [],
   "source": []
  },
  {
   "cell_type": "code",
   "execution_count": null,
   "id": "2e66ac35",
   "metadata": {},
   "outputs": [],
   "source": []
  }
 ],
 "metadata": {
  "kernelspec": {
   "display_name": "Python 3 (ipykernel)",
   "language": "python",
   "name": "python3"
  },
  "language_info": {
   "codemirror_mode": {
    "name": "ipython",
    "version": 3
   },
   "file_extension": ".py",
   "mimetype": "text/x-python",
   "name": "python",
   "nbconvert_exporter": "python",
   "pygments_lexer": "ipython3",
   "version": "3.10.2"
  }
 },
 "nbformat": 4,
 "nbformat_minor": 5
}
