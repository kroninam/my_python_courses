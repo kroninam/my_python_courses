{
 "cells": [
  {
   "cell_type": "markdown",
   "id": "1baa9664",
   "metadata": {},
   "source": [
    "# Задача №2"
   ]
  },
  {
   "cell_type": "code",
   "execution_count": null,
   "id": "d97297ae",
   "metadata": {},
   "outputs": [],
   "source": [
    "Суммарная стоимость\n",
    "Вам доступен текстовый файл ledger.txt с данными о продажах фирмы за месяц. На каждой строке файла указано, \n",
    "сколько клиент заплатил за товар, в долларах (целое число):\n",
    "\n",
    "$47\n",
    "$100\n",
    "$60\n",
    "$12\n",
    "$8\n",
    "...\n",
    "Напишите программу для подсчета суммарной месячной выручки фирмы. \n",
    "\n",
    "Формат входных данных\n",
    "На вход программе ничего не подается.\n",
    "\n",
    "Формат выходных данных\n",
    "Программа должна вывести выручку фирмы (сумму всех чисел из файла) в соответствии с примером ниже.\n",
    "\n",
    "Примечание 1. Считайте, что исполняемая программа и указанный файл находятся в одной папке.\n",
    "\n",
    "Примечание 2. Если бы файл ledger.txt содержал строки:\n",
    "\n",
    "$37\n",
    "$44\n",
    "$19\n",
    "то результатом будет:\n",
    "\n",
    "$100"
   ]
  },
  {
   "cell_type": "code",
   "execution_count": 11,
   "id": "4d469f04",
   "metadata": {},
   "outputs": [],
   "source": [
    "with open('files/ledger.txt') as file:\n",
    "    s = file.read()[1:].strip().split('$')"
   ]
  },
  {
   "cell_type": "code",
   "execution_count": 14,
   "id": "b9a463fb",
   "metadata": {},
   "outputs": [
    {
     "data": {
      "text/plain": [
       "26127"
      ]
     },
     "execution_count": 14,
     "metadata": {},
     "output_type": "execute_result"
    }
   ],
   "source": [
    "sum(list(map(int, s)))"
   ]
  },
  {
   "cell_type": "code",
   "execution_count": 15,
   "id": "2458990a",
   "metadata": {},
   "outputs": [
    {
     "name": "stdout",
     "output_type": "stream",
     "text": [
      "$26127\n"
     ]
    }
   ],
   "source": [
    "print('$' + str(sum(list(map(int, s)))))"
   ]
  },
  {
   "cell_type": "code",
   "execution_count": null,
   "id": "19358c0b",
   "metadata": {},
   "outputs": [],
   "source": []
  },
  {
   "cell_type": "markdown",
   "id": "731f7ec8",
   "metadata": {},
   "source": [
    "# Задача №3"
   ]
  },
  {
   "cell_type": "code",
   "execution_count": null,
   "id": "e13a4cf5",
   "metadata": {},
   "outputs": [],
   "source": [
    "Goooood students\n",
    "Вам доступен текстовый файл grades.txt, содержащий оценки студента за три теста в каждом из триместров.\n",
    "Строки файла имеют вид: фамилия оценка_1 оценка_2 оценка_3.\n",
    "\n",
    "Напишите программу для подсчета количества студентов, сдавших все три теста. Тест считается сданным,\n",
    "если количество баллов по нему не меньше 65.\n",
    "\n",
    "Формат входных данных\n",
    "На вход программе ничего не подается.\n",
    "\n",
    "Формат выходных данных\n",
    "Программа должна вывести количество студентов, сдавших все три теста.\n",
    "\n",
    "Примечание 1. Считайте, что исполняемая программа и указанный файл находятся в одной папке.\n",
    "\n",
    "Примечание 2. Если бы файл grades.txt содержал строки:\n",
    "\n",
    "Washington 83 77 54\n",
    "Adams 86 69 90\n",
    "Jacobson 50 49 71\n",
    "MacDonald 100 99 100\n",
    "Berrington 66 67 64\n",
    "то результатом будет:\n",
    "\n",
    "2"
   ]
  },
  {
   "cell_type": "code",
   "execution_count": 29,
   "id": "ff02c16b",
   "metadata": {},
   "outputs": [
    {
     "name": "stdout",
     "output_type": "stream",
     "text": [
      "19\n"
     ]
    }
   ],
   "source": [
    "with open('files/grades.txt') as file:\n",
    "    s = file.read().split('\\n')\n",
    "res = 0\n",
    "for i in s:\n",
    "    if all((int(i.split()[1])>=65, int(i.split()[2])>=65, int(i.split()[3])>=65)):\n",
    "        res += 1\n",
    "print(res)  "
   ]
  },
  {
   "cell_type": "code",
   "execution_count": null,
   "id": "7c6c0987",
   "metadata": {},
   "outputs": [],
   "source": []
  },
  {
   "cell_type": "markdown",
   "id": "80be277f",
   "metadata": {},
   "source": [
    "# Задача №4"
   ]
  },
  {
   "cell_type": "code",
   "execution_count": null,
   "id": "a38d01c4",
   "metadata": {},
   "outputs": [],
   "source": [
    "Самое длинное слово в файле\n",
    "Вам доступен текстовый файл words.txt со словами, разделенными пробелом. Напишите программу, \n",
    "которая находит и выводит самые длинные слова этого файла, не меняя порядка их следования.\n",
    "\n",
    "Формат входных данных\n",
    "На вход программе ничего не подается.\n",
    "\n",
    "Формат выходных данных\n",
    "Программа должна вывести самые длинные слова файла words.txt, каждое с новой строки, \n",
    "не меняя их порядка следования.\n",
    "\n",
    "Примечание 1. Считайте, что исполняемая программа и указанный файл находятся в одной папке.\n",
    "\n",
    "Примечание 2. Словом считайте любую группу символов без пробелов, даже если она включает \n",
    "цифры или знаки препинания.\n",
    "\n",
    "Примечание 3. Если бы файл words.txt содержал строки:\n",
    "\n",
    "there are many different holidays on the first of january we celebrate new year on the \n",
    "seventh of january and the twenty-fifth of december we have christmas the twenty-third \n",
    "of february is the day of the defenders of the motherland or the army day then comes \n",
    "easter and radonitsa the first of may is the labour day the ninth of may is victory \n",
    "day the third of july is independence day then comes the seventh of november the day\n",
    "of the october revolution and so on\n",
    "то результатом будет:\n",
    "\n",
    "twenty-fifth\n",
    "twenty-third\n",
    "independence"
   ]
  },
  {
   "cell_type": "code",
   "execution_count": 36,
   "id": "a4ca295e",
   "metadata": {},
   "outputs": [
    {
     "name": "stdout",
     "output_type": "stream",
     "text": [
      "responsibility\n",
      "administration\n",
      "recommendation\n",
      "transportation\n"
     ]
    }
   ],
   "source": [
    "with open('files/words.txt') as file:\n",
    "    s = file.read().split(' ')\n",
    "    for i in s:\n",
    "        if len(i) == max(list(map(len, s))):\n",
    "            print(i)"
   ]
  },
  {
   "cell_type": "code",
   "execution_count": 35,
   "id": "02c4abc6",
   "metadata": {},
   "outputs": [
    {
     "data": {
      "text/plain": [
       "14"
      ]
     },
     "execution_count": 35,
     "metadata": {},
     "output_type": "execute_result"
    }
   ],
   "source": [
    "max(list(map(len, s)))"
   ]
  },
  {
   "cell_type": "code",
   "execution_count": null,
   "id": "2a25d2e5",
   "metadata": {},
   "outputs": [],
   "source": []
  },
  {
   "cell_type": "markdown",
   "id": "209aca00",
   "metadata": {},
   "source": [
    "# Задача №5"
   ]
  },
  {
   "cell_type": "code",
   "execution_count": null,
   "id": "fcdfed5e",
   "metadata": {},
   "outputs": [],
   "source": [
    "Tail of a File\n",
    "На вход программе подается строка текста с именем текстового файла. Напишите программу, \n",
    "выводящую на экран последние \n",
    "10 строк данного файла.\n",
    "\n",
    "Формат входных данных\n",
    "На вход программе подается строка текста с именем существующего текстового файла.\n",
    "\n",
    "Формат выходных данных\n",
    "Программа должна вывести последние \n",
    "10\n",
    "10 строк этого файла.\n",
    "\n",
    "Примечание 1. Считайте, что исполняемая программа и файл находятся в одной папке.\n",
    "\n",
    "Примечание 2. Если количество строк в файле меньше \n",
    "10, необходимо вывести содержимое файла полностью.\n",
    "\n",
    "Примечание 3. Если бы файл содержал строки:\n",
    "\n",
    "there are many different holidays\n",
    "on the first of january we\n",
    "celebrate new year on the\n",
    "seventh of january and the\n",
    "twenty-fifth of december we\n",
    "have christmas the twenty-third\n",
    "of february is the day of the\n",
    "defenders of the motherland\n",
    "or the army day then comes\n",
    "easter and radonitsa the\n",
    "first of may is the labour\n",
    "day the ninth of may is\n",
    "victory day the third of july\n",
    "is independence day then comes\n",
    "the seventh of november the day\n",
    "of the october revolution and so on\n",
    "\n",
    "то результатом будет:\n",
    "\n",
    "of february is the day of the\n",
    "defenders of the motherland\n",
    "or the army day then comes\n",
    "easter and radonitsa the\n",
    "first of may is the labour\n",
    "day the ninth of may is\n",
    "victory day the third of july\n",
    "is independence day then comes\n",
    "the seventh of november the day\n",
    "of the october revolution and so on\n",
    "\n",
    "Примечание 4. Подумайте над ситуацией, когда файл очень большой и нерационально считывать\n",
    "все его содержимое в память компьютера."
   ]
  },
  {
   "cell_type": "code",
   "execution_count": null,
   "id": "6c981397",
   "metadata": {},
   "outputs": [],
   "source": [
    "data = input()"
   ]
  },
  {
   "cell_type": "code",
   "execution_count": 70,
   "id": "cfa41b70",
   "metadata": {},
   "outputs": [],
   "source": [
    "with open('files/tile_of_file.txt') as file:\n",
    "    lst = file.readlines()   "
   ]
  },
  {
   "cell_type": "code",
   "execution_count": 71,
   "id": "fe2b539b",
   "metadata": {},
   "outputs": [
    {
     "data": {
      "text/plain": [
       "['there are many different holidays\\n',\n",
       " 'on the first of january we\\n',\n",
       " 'celebrate new year on the\\n',\n",
       " 'seventh of january and the\\n',\n",
       " 'twenty-fifth of december we\\n',\n",
       " 'have christmas the twenty-third\\n',\n",
       " 'of february is the day of the\\n',\n",
       " 'defenders of the motherland\\n',\n",
       " 'or the army day then comes\\n',\n",
       " 'easter and radonitsa the\\n',\n",
       " 'first of may is the labour\\n',\n",
       " 'day the ninth of may is\\n',\n",
       " 'victory day the third of july\\n',\n",
       " 'is independence day then comes\\n',\n",
       " 'the seventh of november the day\\n',\n",
       " 'of the october revolution and so on']"
      ]
     },
     "execution_count": 71,
     "metadata": {},
     "output_type": "execute_result"
    }
   ],
   "source": [
    "lst"
   ]
  },
  {
   "cell_type": "code",
   "execution_count": 73,
   "id": "53ed82ac",
   "metadata": {},
   "outputs": [
    {
     "name": "stdout",
     "output_type": "stream",
     "text": [
      "of february is the day of the\n",
      "defenders of the motherland\n",
      "or the army day then comes\n",
      "easter and radonitsa the\n",
      "first of may is the labour\n",
      "day the ninth of may is\n",
      "victory day the third of july\n",
      "is independence day then comes\n",
      "the seventh of november the day\n",
      "of the october revolution and so on\n"
     ]
    }
   ],
   "source": [
    "for i in lst[-10:]:\n",
    "    print(i.strip())"
   ]
  },
  {
   "cell_type": "code",
   "execution_count": null,
   "id": "4a675151",
   "metadata": {},
   "outputs": [],
   "source": []
  },
  {
   "cell_type": "markdown",
   "id": "e2063a8c",
   "metadata": {},
   "source": [
    "# Задача №6"
   ]
  },
  {
   "cell_type": "code",
   "execution_count": null,
   "id": "e73c56fd",
   "metadata": {},
   "outputs": [],
   "source": [
    "Forbidden words 🌶️\n",
    "На вход программе подается строка текста с именем текстового файла. \n",
    "Напишите программу, выводящую на экран содержимое этого файла, \n",
    "но с заменой всех запрещенных слов звездочками * (количество звездочек равно количеству букв в слове).\n",
    "\n",
    "Запрещенные слова, разделенные символом пробела, хранятся в текстовом \n",
    "файле forbidden_words.txt. Гарантируется, что все слова в этом файле записаны в нижнем регистре.\n",
    "\n",
    "Формат входных данных\n",
    "На вход программе подается строка текста с именем существующего текстового \n",
    "файла, в котором необходимо заменить запрещенные слова звездочками.\n",
    "\n",
    "Формат выходных данных\n",
    "Программа должна вывести текст в соответствии с условием задачи.\n",
    "\n",
    "Примечание 1. Ваша программа должна заменить запрещенные слова, где бы они \n",
    "ни встречались, даже если они встречаются в середине другого слова.\n",
    "\n",
    "Примечание 2. Программа должна заменять запрещенные слова независимо от их \n",
    "регистра. Например, если файл forbidden_words.txt содержит запрещенное слово \n",
    "exam, то слова exam, Exam, ExaM, EXAM и подобные должны быть заменены на ****.\n",
    "\n",
    "Примечание 3. Если бы файл forbidden_words.txt содержал слова:\n",
    "\n",
    "hello email python the exam wor is\n",
    "а файл в котором заменяются слова имел бы вид:\n",
    "\n",
    "Hello, world! Python IS the programming language of thE future. My EMAIL is....\n",
    "PYTHON is awesome!!!!\n",
    "то результатом будет:\n",
    "\n",
    "*****, ***ld! ****** ** *** programming language of *** future. My ***** **....\n",
    "****** ** awesome!!!!"
   ]
  },
  {
   "cell_type": "code",
   "execution_count": 78,
   "id": "6fb9d2bf",
   "metadata": {},
   "outputs": [],
   "source": [
    "with open('files/forbidden_words.txt') as file:\n",
    "    s = file.read().split()"
   ]
  },
  {
   "cell_type": "code",
   "execution_count": 80,
   "id": "dfc3fbbd",
   "metadata": {},
   "outputs": [
    {
     "data": {
      "text/plain": [
       "['warning',\n",
       " 'priority',\n",
       " 'candidate',\n",
       " 'leadership',\n",
       " 'recording',\n",
       " 'judgment',\n",
       " 'law',\n",
       " 'responsibility',\n",
       " 'efficiency',\n",
       " 'advertising']"
      ]
     },
     "execution_count": 80,
     "metadata": {},
     "output_type": "execute_result"
    }
   ],
   "source": [
    "s[:10]"
   ]
  },
  {
   "cell_type": "code",
   "execution_count": 115,
   "id": "e451a71f",
   "metadata": {},
   "outputs": [],
   "source": [
    "with open('files/stepik.txt') as file1:\n",
    "    ss = file1.read()"
   ]
  },
  {
   "cell_type": "code",
   "execution_count": 116,
   "id": "25153ab7",
   "metadata": {},
   "outputs": [
    {
     "data": {
      "text/plain": [
       "'DEVELOPMENT distributionsuccess delivery presentation relationship. Grandmother     confusio  chocolate and feedbackCombination.\\nhistorian and math variety explanation...... python PYTHON PyToN'"
      ]
     },
     "execution_count": 116,
     "metadata": {},
     "output_type": "execute_result"
    }
   ],
   "source": [
    "ss"
   ]
  },
  {
   "cell_type": "code",
   "execution_count": 117,
   "id": "39ebe9fa",
   "metadata": {},
   "outputs": [
    {
     "data": {
      "text/plain": [
       "32"
      ]
     },
     "execution_count": 117,
     "metadata": {},
     "output_type": "execute_result"
    }
   ],
   "source": [
    "ss.find('deliv')"
   ]
  },
  {
   "cell_type": "code",
   "execution_count": 118,
   "id": "4d77dd1b",
   "metadata": {},
   "outputs": [
    {
     "data": {
      "text/plain": [
       "'DEVELOPMENT distributionsuccess ******** presentation relationship. Grandmother     confusio  chocolate and feedbackCombination.\\nhistorian and math variety explanation...... python PYTHON PyToN'"
      ]
     },
     "execution_count": 118,
     "metadata": {},
     "output_type": "execute_result"
    }
   ],
   "source": [
    "ss.replace('delivery', '*'*len('delivery'))"
   ]
  },
  {
   "cell_type": "code",
   "execution_count": 125,
   "id": "f455c7b4",
   "metadata": {},
   "outputs": [
    {
     "data": {
      "text/plain": [
       "'DEVELOPMENT distributionsuccess delivery presentation relationship. Grandmother     confusio  chocolate and feedbackCombination.\\nhistorian and math variety explanation...... python PYTHON PyToN'"
      ]
     },
     "execution_count": 125,
     "metadata": {},
     "output_type": "execute_result"
    }
   ],
   "source": [
    "ss"
   ]
  },
  {
   "cell_type": "code",
   "execution_count": 126,
   "id": "13a900ca",
   "metadata": {},
   "outputs": [],
   "source": [
    "sss = ss.lower()"
   ]
  },
  {
   "cell_type": "code",
   "execution_count": 127,
   "id": "86a35f91",
   "metadata": {},
   "outputs": [],
   "source": [
    "for i in s:    \n",
    "    sss = sss.replace(i, '*'*len(i))"
   ]
  },
  {
   "cell_type": "code",
   "execution_count": 128,
   "id": "b3b0bc18",
   "metadata": {},
   "outputs": [
    {
     "data": {
      "text/plain": [
       "'*********** ******************* ******** ************ ************. ***********     confusio  ********* and *******************.\\n********* and math ******* ***********...... ****** ****** pyton'"
      ]
     },
     "execution_count": 128,
     "metadata": {},
     "output_type": "execute_result"
    }
   ],
   "source": [
    "sss"
   ]
  },
  {
   "cell_type": "code",
   "execution_count": 129,
   "id": "89d4450e",
   "metadata": {},
   "outputs": [],
   "source": [
    "res = ''\n",
    "for i in range(len(ss)):\n",
    "    if sss[i] == '*':\n",
    "        res += '*'\n",
    "    else:\n",
    "        res += ss[i]\n",
    "        \n",
    "    "
   ]
  },
  {
   "cell_type": "code",
   "execution_count": 130,
   "id": "96f2142b",
   "metadata": {},
   "outputs": [
    {
     "data": {
      "text/plain": [
       "'*********** ******************* ******** ************ ************. ***********     confusio  ********* and *******************.\\n********* and math ******* ***********...... ****** ****** PyToN'"
      ]
     },
     "execution_count": 130,
     "metadata": {},
     "output_type": "execute_result"
    }
   ],
   "source": [
    "res"
   ]
  },
  {
   "cell_type": "code",
   "execution_count": null,
   "id": "636f330a",
   "metadata": {},
   "outputs": [],
   "source": []
  },
  {
   "cell_type": "markdown",
   "id": "105ab596",
   "metadata": {},
   "source": [
    "# Задача №7"
   ]
  },
  {
   "cell_type": "code",
   "execution_count": null,
   "id": "84b42720",
   "metadata": {},
   "outputs": [],
   "source": [
    "Транслитерация 🌶️\n",
    "Транслитерация — передача знаков одной письменности знаками другой письменности, при \n",
    "которой каждый знак (или последовательность знаков) одной системы письма передаётся \n",
    "соответствующим знаком (или последовательностью знаков) другой системы письма.\n",
    "\n",
    "Вам доступен текстовый файл cyrillic.txt, содержащий текст. Напишите программу для \n",
    "транслитерации этого файла, то есть замены кириллических символов на латинские в \n",
    "соответствии с предложенной таблицей. Все остальные символы надо оставить без изменений.\n",
    "Результат транслитерации требуется записать в файл transliteration.txt.\n",
    "\n",
    "Кириллица \tЛатиница\tКириллица\tЛатиница\tКириллица\tЛатиница\n",
    "а\ta\tк\tk\tх\th\n",
    "б\tb\tл\tl\tц\tc\n",
    "в\tv\tм\tm\tч\tch\n",
    "г\tg\tн\tn\tш\tsh\n",
    "д\td\tо\to\tщ\tshh\n",
    "е\te\tп\tp\tъ\t*\n",
    "ё\tjo\tр\tr\tы\ty\n",
    "ж\tzh\tс\ts\tь\t'\n",
    "з\tz\tт\tt\tэ\tje\n",
    "и\ti\tу\tu\tю\tju\n",
    "й\tj\tф\tf\tя\tya\n",
    "Формат входных данных\n",
    "На вход программе ничего не подается.\n",
    "\n",
    "Формат выходных данных\n",
    "Программа должна создать файл с именем transliteration.txt в соответствии \n",
    "с условием задачи.\n",
    "\n",
    "Примечание 1. Считайте, что исполняемая программа и указанные файлы находятся\n",
    "в одной папке.\n",
    "\n",
    "Примечание 2. Обратите внимание, что заглавные буквы должны заменяться на \n",
    "соответствующие им заглавные же буквы, но если транслитерационная последовательность\n",
    "состоит из нескольких символов, то заглавным будет только первый из них: «С» на «S», \n",
    "    а «Я» на «Ya».\n",
    "\n",
    "Примечание 3. Если бы файл cyrillic.txt содержал текст:\n",
    "\n",
    "Президент США Дональд Трамп продолжил обмен выпадами с руководством КНДР.\n",
    "We all know why Joe Biden is rushing to falsely pose as the winner, and why his \n",
    "media allies are trying so hard to help him: they don’t want the truth to be exposed.\n",
    "то содержимое файла transliteration.txt будет:\n",
    "\n",
    "Prezident SShA Donal'd Tramp prodolzhil obmen vypadami s rukovodstvom KNDR.\n",
    "We all know why Joe Biden is rushing to falsely pose as the winner, and why his\n",
    "media allies are trying so hard to help him: they don’t want the truth to be exposed."
   ]
  },
  {
   "cell_type": "code",
   "execution_count": null,
   "id": "083091a3",
   "metadata": {},
   "outputs": [],
   "source": []
  },
  {
   "cell_type": "code",
   "execution_count": 136,
   "id": "6772b99d",
   "metadata": {},
   "outputs": [],
   "source": [
    "st = '''а:a, к:k, х:h \n",
    "б:b, л:l, ц:c\n",
    "в:v, м:m, ч:ch\n",
    "г:g, н:n, ш:sh\n",
    "д:d, о:o, щ:shh\n",
    "е:e, п:p, ъ:*\n",
    "ё:jo, р:r, ы:y\n",
    "ж:zh, с:s, ь:'\n",
    "з:z, т:t, э:je\n",
    "и:i, у:u, ю:ju\n",
    "й:j, ф:f, я:ya'''"
   ]
  },
  {
   "cell_type": "code",
   "execution_count": 137,
   "id": "1f9bc257",
   "metadata": {},
   "outputs": [
    {
     "data": {
      "text/plain": [
       "\"а:a, к:k, х:h \\nб:b, л:l, ц:c\\nв:v, м:m, ч:ch\\nг:g, н:n, ш:sh\\nд:d, о:o, щ:shh\\nе:e, п:p, ъ:*\\nё:jo, р:r, ы:y\\nж:zh, с:s, ь:'\\nз:z, т:t, э:je\\nи:i, у:u, ю:ju\\nй:j, ф:f, я:ya\""
      ]
     },
     "execution_count": 137,
     "metadata": {},
     "output_type": "execute_result"
    }
   ],
   "source": [
    "st"
   ]
  },
  {
   "cell_type": "code",
   "execution_count": 140,
   "id": "3a595927",
   "metadata": {},
   "outputs": [],
   "source": [
    "st = st.replace('\\n', ', ')"
   ]
  },
  {
   "cell_type": "code",
   "execution_count": 150,
   "id": "2f740e3f",
   "metadata": {},
   "outputs": [
    {
     "data": {
      "text/plain": [
       "['а:a',\n",
       " ' к:k',\n",
       " ' х:h ',\n",
       " ' б:b',\n",
       " ' л:l',\n",
       " ' ц:c',\n",
       " ' в:v',\n",
       " ' м:m',\n",
       " ' ч:ch',\n",
       " ' г:g',\n",
       " ' н:n',\n",
       " ' ш:sh',\n",
       " ' д:d',\n",
       " ' о:o',\n",
       " ' щ:shh',\n",
       " ' е:e',\n",
       " ' п:p',\n",
       " ' ъ:*',\n",
       " ' ё:jo',\n",
       " ' р:r',\n",
       " ' ы:y',\n",
       " ' ж:zh',\n",
       " ' с:s',\n",
       " \" ь:'\",\n",
       " ' з:z',\n",
       " ' т:t',\n",
       " ' э:je',\n",
       " ' и:i',\n",
       " ' у:u',\n",
       " ' ю:ju',\n",
       " ' й:j',\n",
       " ' ф:f',\n",
       " ' я:ya']"
      ]
     },
     "execution_count": 150,
     "metadata": {},
     "output_type": "execute_result"
    }
   ],
   "source": [
    "st.split(',')"
   ]
  },
  {
   "cell_type": "code",
   "execution_count": 156,
   "id": "dccf7e97",
   "metadata": {},
   "outputs": [],
   "source": [
    "d = {}\n",
    "\n",
    "for i in st.split(','):\n",
    "#     print(i.strip().split(':'))\n",
    "    d[i.strip().split(':')[0]] = i.strip().split(':')[1]"
   ]
  },
  {
   "cell_type": "code",
   "execution_count": 157,
   "id": "d0671030",
   "metadata": {},
   "outputs": [
    {
     "data": {
      "text/plain": [
       "{'а': 'a',\n",
       " 'к': 'k',\n",
       " 'х': 'h',\n",
       " 'б': 'b',\n",
       " 'л': 'l',\n",
       " 'ц': 'c',\n",
       " 'в': 'v',\n",
       " 'м': 'm',\n",
       " 'ч': 'ch',\n",
       " 'г': 'g',\n",
       " 'н': 'n',\n",
       " 'ш': 'sh',\n",
       " 'д': 'd',\n",
       " 'о': 'o',\n",
       " 'щ': 'shh',\n",
       " 'е': 'e',\n",
       " 'п': 'p',\n",
       " 'ъ': '*',\n",
       " 'ё': 'jo',\n",
       " 'р': 'r',\n",
       " 'ы': 'y',\n",
       " 'ж': 'zh',\n",
       " 'с': 's',\n",
       " 'ь': \"'\",\n",
       " 'з': 'z',\n",
       " 'т': 't',\n",
       " 'э': 'je',\n",
       " 'и': 'i',\n",
       " 'у': 'u',\n",
       " 'ю': 'ju',\n",
       " 'й': 'j',\n",
       " 'ф': 'f',\n",
       " 'я': 'ya'}"
      ]
     },
     "execution_count": 157,
     "metadata": {},
     "output_type": "execute_result"
    }
   ],
   "source": [
    "d"
   ]
  },
  {
   "cell_type": "code",
   "execution_count": 242,
   "id": "e75c8062",
   "metadata": {},
   "outputs": [],
   "source": [
    "dd = {}\n",
    "for k, w in d.items():\n",
    "    dd[k.upper()] = w.title()"
   ]
  },
  {
   "cell_type": "code",
   "execution_count": 244,
   "id": "dc5593a5",
   "metadata": {},
   "outputs": [],
   "source": [
    "d.update(dd)"
   ]
  },
  {
   "cell_type": "code",
   "execution_count": 245,
   "id": "49f2aabe",
   "metadata": {},
   "outputs": [
    {
     "data": {
      "text/plain": [
       "{'а': 'a',\n",
       " 'к': 'k',\n",
       " 'х': 'h',\n",
       " 'б': 'b',\n",
       " 'л': 'l',\n",
       " 'ц': 'c',\n",
       " 'в': 'v',\n",
       " 'м': 'm',\n",
       " 'ч': 'ch',\n",
       " 'г': 'g',\n",
       " 'н': 'n',\n",
       " 'ш': 'sh',\n",
       " 'д': 'd',\n",
       " 'о': 'o',\n",
       " 'щ': 'shh',\n",
       " 'е': 'e',\n",
       " 'п': 'p',\n",
       " 'ъ': '*',\n",
       " 'ё': 'jo',\n",
       " 'р': 'r',\n",
       " 'ы': 'y',\n",
       " 'ж': 'zh',\n",
       " 'с': 's',\n",
       " 'ь': \"'\",\n",
       " 'з': 'z',\n",
       " 'т': 't',\n",
       " 'э': 'je',\n",
       " 'и': 'i',\n",
       " 'у': 'u',\n",
       " 'ю': 'ju',\n",
       " 'й': 'j',\n",
       " 'ф': 'f',\n",
       " 'я': 'ya',\n",
       " 'А': 'A',\n",
       " 'К': 'K',\n",
       " 'Х': 'H',\n",
       " 'Б': 'B',\n",
       " 'Л': 'L',\n",
       " 'Ц': 'C',\n",
       " 'В': 'V',\n",
       " 'М': 'M',\n",
       " 'Ч': 'Ch',\n",
       " 'Г': 'G',\n",
       " 'Н': 'N',\n",
       " 'Ш': 'Sh',\n",
       " 'Д': 'D',\n",
       " 'О': 'O',\n",
       " 'Щ': 'Shh',\n",
       " 'Е': 'E',\n",
       " 'П': 'P',\n",
       " 'Ъ': '*',\n",
       " 'Ё': 'Jo',\n",
       " 'Р': 'R',\n",
       " 'Ы': 'Y',\n",
       " 'Ж': 'Zh',\n",
       " 'С': 'S',\n",
       " 'Ь': \"'\",\n",
       " 'З': 'Z',\n",
       " 'Т': 'T',\n",
       " 'Э': 'Je',\n",
       " 'И': 'I',\n",
       " 'У': 'U',\n",
       " 'Ю': 'Ju',\n",
       " 'Й': 'J',\n",
       " 'Ф': 'F',\n",
       " 'Я': 'Ya'}"
      ]
     },
     "execution_count": 245,
     "metadata": {},
     "output_type": "execute_result"
    }
   ],
   "source": [
    "d"
   ]
  },
  {
   "cell_type": "code",
   "execution_count": null,
   "id": "c8494081",
   "metadata": {},
   "outputs": [],
   "source": []
  },
  {
   "cell_type": "code",
   "execution_count": 246,
   "id": "3a03db39",
   "metadata": {},
   "outputs": [],
   "source": [
    "with open('files/cyrillic.txt', encoding = 'utf-8') as file:\n",
    "    s = file.read()"
   ]
  },
  {
   "cell_type": "code",
   "execution_count": 247,
   "id": "a57280a2",
   "metadata": {},
   "outputs": [
    {
     "data": {
      "text/plain": [
       "\"Президент США Дональд Трамп продолжил обмен выпадами с руководством КНДР. В своем Twitter, комментируя выступление главы северокорейского МИДа Ли Ён Хо, американский лидер заявил, что если министр говорил от имени своего государства, то это означает, что КНДР долго не просуществует.\\nJust heard Foreign Minister of North Korea speak at U.N. If he echoes thoughts of Little Rocket Man, they won't be around much longer!\""
      ]
     },
     "execution_count": 247,
     "metadata": {},
     "output_type": "execute_result"
    }
   ],
   "source": [
    "s"
   ]
  },
  {
   "cell_type": "code",
   "execution_count": 257,
   "id": "ef278c8e",
   "metadata": {},
   "outputs": [],
   "source": [
    "res = ''\n",
    "for i in s:\n",
    "    if i in d:\n",
    "        res += d[i]\n",
    "    else:\n",
    "        res += i\n",
    "        "
   ]
  },
  {
   "cell_type": "code",
   "execution_count": 258,
   "id": "d24e8b09",
   "metadata": {},
   "outputs": [
    {
     "data": {
      "text/plain": [
       "\"Prezident SShA Donal'd Tramp prodolzhil obmen vypadami s rukovodstvom KNDR. V svoem Twitter, kommentiruya vystuplenie glavy severokorejskogo MIDa Li Jon Ho, amerikanskij lider zayavil, chto esli ministr govoril ot imeni svoego gosudarstva, to jeto oznachaet, chto KNDR dolgo ne prosushhestvuet.\\nJust heard Foreign Minister of North Korea speak at U.N. If he echoes thoughts of Little Rocket Man, they won't be around much longer!\""
      ]
     },
     "execution_count": 258,
     "metadata": {},
     "output_type": "execute_result"
    }
   ],
   "source": [
    "res"
   ]
  },
  {
   "cell_type": "code",
   "execution_count": 259,
   "id": "73339fda",
   "metadata": {},
   "outputs": [],
   "source": [
    "with open('transliteration.txt', 'w') as file:\n",
    "    file.write(res)"
   ]
  },
  {
   "cell_type": "code",
   "execution_count": null,
   "id": "2fea38bd",
   "metadata": {},
   "outputs": [],
   "source": []
  },
  {
   "cell_type": "markdown",
   "id": "16f9e7f0",
   "metadata": {},
   "source": [
    "# Задача №8"
   ]
  },
  {
   "cell_type": "code",
   "execution_count": null,
   "id": "94a40e9b",
   "metadata": {},
   "outputs": [],
   "source": [
    "Пропущенные комменты 🌶️\n",
    "При написании собственных функций рекомендуется в комментарии описывать назначение функции, \n",
    "ее параметры и возвращаемое значение. Часто программисты откладывают написание таких комментариев \n",
    "напоследок, а потом и вовсе забывают о них 😂.\n",
    "\n",
    "На вход программе подается строка текста с именем текстового файла, в котором написан код на языке\n",
    "Python. Напишите программу, выводящую на экран имена всех функций, для которых отсутствует поясняющий\n",
    "комментарий. Будем считать, что любая строка, начинающаяся со слова def и пробела, является началом\n",
    "определения функции. Функция содержит комментарий, если первый символ предыдущей строки - #.\n",
    "\n",
    "Формат входных данных\n",
    "На вход программе подается строка текста, содержащая имя существующего текстового файла с кодом на языке Python.\n",
    "\n",
    "Формат выходных данных\n",
    "Программа должна вывести названия всех функций (не меняя порядка их следования в исходном файле), \n",
    "каждое на отдельной строке, для которых отсутствует поясняющий комментарий. Если все функции в \n",
    "файле имеют поясняющий комментарий, то следует вывести: Best Programming Team.\n",
    "\n",
    "Примечание 1. Если бы файл содержал код:\n",
    "\n",
    "def powers(a):\n",
    "    return a, a**2, a**3\n",
    "\n",
    "# функция вычисляет сумму всех переданных чисел\n",
    "def sum_all(*args):\n",
    "    return sum(args)\n",
    "\n",
    "def matrix():\n",
    "    pass\n",
    "\n",
    "# функция возвращает количество переданных аргументов\n",
    "def count_args(*args):\n",
    "    return len(args)\n",
    "\n",
    "def mean(*args):\n",
    "    total = 0.0\n",
    "    count = 0  \n",
    "    for i in args:\n",
    "        if type(i) in (int, float):\n",
    "            total += i\n",
    "            count += 1\n",
    "    if count == 0:\n",
    "        return 0.0\n",
    "    else:\n",
    "        return total / count\n",
    "    \n",
    "def greet(name, *args):\n",
    "    args = (name,) + args\n",
    "    return f'Hello, {\" and \".join(args)}!'\n",
    "\n",
    "# функция вычисляет факториал переданного числа\n",
    "def fact(n):\n",
    "    res = 1\n",
    "    for i in range(1, n + 1):\n",
    "        res *= i\n",
    "    return res\n",
    "\n",
    "\n",
    "то результатом будет:\n",
    "\n",
    "powers\n",
    "matrix\n",
    "mean\n",
    "greet\n",
    "\n",
    "Примечание 2. Гарантируется, что в файле есть хотя бы одна функция при этом вложенных функций в файле нет. "
   ]
  },
  {
   "cell_type": "code",
   "execution_count": 308,
   "id": "3f7b118c",
   "metadata": {},
   "outputs": [
    {
     "name": "stdout",
     "output_type": "stream",
     "text": [
      "matrix\n",
      "mean\n",
      "greet\n"
     ]
    }
   ],
   "source": [
    "with open(input(), encoding = 'utf-8') as file:\n",
    "    s = file.readlines()\n",
    "\n",
    "funcs_comment_no = 0\n",
    "for i in range(len(s)):\n",
    "    if s[i][:3] == 'def':\n",
    "        if i == 0:\n",
    "            print(s[i].split()[1].split('(')[0])\n",
    "        elif s[i-1][0] !='#':\n",
    "            print(s[i].split()[1].split('(')[0])\n",
    "            funcs_comment_no += 1\n",
    "            \n",
    "if funcs_comment_no== 0:\n",
    "    print('Best Programming Team')\n",
    "        "
   ]
  },
  {
   "cell_type": "code",
   "execution_count": null,
   "id": "ccf70d90",
   "metadata": {},
   "outputs": [],
   "source": []
  },
  {
   "cell_type": "code",
   "execution_count": null,
   "id": "fc4aecd8",
   "metadata": {},
   "outputs": [],
   "source": []
  },
  {
   "cell_type": "code",
   "execution_count": null,
   "id": "704bc22f",
   "metadata": {},
   "outputs": [],
   "source": []
  },
  {
   "cell_type": "code",
   "execution_count": null,
   "id": "50e2dd60",
   "metadata": {},
   "outputs": [],
   "source": []
  }
 ],
 "metadata": {
  "kernelspec": {
   "display_name": "Python 3 (ipykernel)",
   "language": "python",
   "name": "python3"
  },
  "language_info": {
   "codemirror_mode": {
    "name": "ipython",
    "version": 3
   },
   "file_extension": ".py",
   "mimetype": "text/x-python",
   "name": "python",
   "nbconvert_exporter": "python",
   "pygments_lexer": "ipython3",
   "version": "3.10.2"
  }
 },
 "nbformat": 4,
 "nbformat_minor": 5
}
