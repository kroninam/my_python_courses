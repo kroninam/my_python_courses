{
 "cells": [
  {
   "cell_type": "code",
   "execution_count": 1,
   "id": "cde100ea",
   "metadata": {},
   "outputs": [],
   "source": [
    "matrix  = [[277, -930, 11, 0],\n",
    "           [9, 43, 6, 87],\n",
    "           [4456, 8, 290, 7]]"
   ]
  },
  {
   "cell_type": "code",
   "execution_count": 4,
   "id": "b6c28f71",
   "metadata": {},
   "outputs": [
    {
     "name": "stdout",
     "output_type": "stream",
     "text": [
      "277 -930 11 0 \n",
      "9 43 6 87 \n",
      "4456 8 290 7 \n"
     ]
    }
   ],
   "source": [
    "for i in range(3):\n",
    "    for j in range(4):\n",
    "        print(matrix[i][j], end = ' ')\n",
    "    print()"
   ]
  },
  {
   "cell_type": "markdown",
   "id": "b049785e",
   "metadata": {},
   "source": [
    "# Строковые методы rjust & ljust"
   ]
  },
  {
   "cell_type": "code",
   "execution_count": 10,
   "id": "a079b166",
   "metadata": {},
   "outputs": [
    {
     "name": "stdout",
     "output_type": "stream",
     "text": [
      "277    -930   11     0      \n",
      "9      43     6      87     \n",
      "4456   8      290    7      \n"
     ]
    }
   ],
   "source": [
    "for i in range(3):\n",
    "    for j in range(4):\n",
    "        print(str(matrix[i][j]).ljust(6), end = ' ')\n",
    "    print()"
   ]
  },
  {
   "cell_type": "code",
   "execution_count": 11,
   "id": "6305a635",
   "metadata": {},
   "outputs": [
    {
     "name": "stdout",
     "output_type": "stream",
     "text": [
      "   277   -930     11      0 \n",
      "     9     43      6     87 \n",
      "  4456      8    290      7 \n"
     ]
    }
   ],
   "source": [
    "for i in range(3):\n",
    "    for j in range(4):\n",
    "        print(str(matrix[i][j]).rjust(6), end = ' ')\n",
    "    print()"
   ]
  },
  {
   "cell_type": "code",
   "execution_count": null,
   "id": "02b88174",
   "metadata": {},
   "outputs": [],
   "source": []
  },
  {
   "cell_type": "markdown",
   "id": "eae7670a",
   "metadata": {},
   "source": [
    "# Задача №1"
   ]
  },
  {
   "cell_type": "code",
   "execution_count": null,
   "id": "503b6e0c",
   "metadata": {},
   "outputs": [],
   "source": [
    "Вывести матрицу 1\n",
    "На вход программе подаются два натуральных числа n и m, каждое на отдельной строке — \n",
    "количество строк и столбцов в матрице. Далее вводятся сами элементы матрицы — слова,\n",
    "каждое на отдельной строке; подряд идут элементы сначала первой строки, затем второй, и т.д.\n",
    "\n",
    "Напишите программу, которая сначала считывает элементы матрицы один за другим, \n",
    "затем выводит их в виде матрицы."
   ]
  },
  {
   "cell_type": "code",
   "execution_count": 13,
   "id": "b4517081",
   "metadata": {},
   "outputs": [
    {
     "name": "stdout",
     "output_type": "stream",
     "text": [
      "4\n",
      "2\n"
     ]
    }
   ],
   "source": [
    "n, m = int(input()), int(input())"
   ]
  },
  {
   "cell_type": "code",
   "execution_count": 19,
   "id": "16943705",
   "metadata": {},
   "outputs": [
    {
     "name": "stdout",
     "output_type": "stream",
     "text": [
      "и\n",
      "швец\n",
      "и\n",
      "жнец\n",
      "и\n",
      "на\n",
      "дуде\n",
      "игрец\n"
     ]
    }
   ],
   "source": [
    "matrix = []\n",
    "for i in range(n):\n",
    "    row = []\n",
    "    \n",
    "    for j in range(m):\n",
    "        row.append(input())\n",
    "        \n",
    "    matrix.append(row)"
   ]
  },
  {
   "cell_type": "code",
   "execution_count": 21,
   "id": "740b052f",
   "metadata": {},
   "outputs": [
    {
     "name": "stdout",
     "output_type": "stream",
     "text": [
      "и швец \n",
      "и жнец \n",
      "и на \n",
      "дуде игрец \n"
     ]
    }
   ],
   "source": [
    "for i in range(n):\n",
    "    for j in range(m):\n",
    "        print(matrix[i][j], end = ' ')\n",
    "    print()"
   ]
  },
  {
   "cell_type": "code",
   "execution_count": null,
   "id": "e52c53c9",
   "metadata": {},
   "outputs": [],
   "source": []
  },
  {
   "cell_type": "markdown",
   "id": "da3da45f",
   "metadata": {},
   "source": [
    "# Задача №2\n",
    "\n"
   ]
  },
  {
   "cell_type": "code",
   "execution_count": null,
   "id": "6be0670d",
   "metadata": {},
   "outputs": [],
   "source": [
    "На вход программе подаются два натуральных числа \n",
    "n и m, каждое на отдельной строке — количество строк \n",
    "и столбцов в матрице. Далее вводятся сами элементы матрицы — \n",
    "слова, каждое на отдельной строке; подряд идут элементы \n",
    "сначала первой строки, затем второй, и т.д.\n",
    "\n",
    "Напишите программу, которая считывает элементы матрицы один \n",
    "за другим, выводит их в виде матрицы, выводит пустую строку, \n",
    "и снова ту же матрицу, но уже поменяв местами строки со столбцами: \n",
    "первая строка выводится как первый столбец, и так далее.\n",
    "\n",
    "Формат входных данных\n",
    "На вход программе подаются два числа n и m — количество строк и столбцов в матрице, далее идут \n",
    "× n×m слов, каждое на отдельной строке.\n",
    "\n",
    "Формат выходных данных\n",
    "Программа должна вывести считанную матрицу, за ней пустую строку и ту же матрицу, но поменяв \n",
    "местами строки со столбцами. Элементы матрицы разделять одним пробелом."
   ]
  },
  {
   "cell_type": "code",
   "execution_count": 2,
   "id": "03ab4271",
   "metadata": {},
   "outputs": [
    {
     "name": "stdout",
     "output_type": "stream",
     "text": [
      "4\n",
      "2\n"
     ]
    }
   ],
   "source": [
    "n, m = int(input()), int(input())"
   ]
  },
  {
   "cell_type": "code",
   "execution_count": null,
   "id": "ae5decd5",
   "metadata": {},
   "outputs": [],
   "source": []
  },
  {
   "cell_type": "code",
   "execution_count": 26,
   "id": "90e082b2",
   "metadata": {},
   "outputs": [
    {
     "name": "stdout",
     "output_type": "stream",
     "text": [
      "и\n",
      "швец\n",
      "и\n",
      "жнец\n",
      "и\n",
      "на\n",
      "дуде\n",
      "игрец\n"
     ]
    }
   ],
   "source": [
    "lst = []\n",
    "\n",
    "for i in range (n):\n",
    "    tmp = []\n",
    "    for j in range(m):\n",
    "        a = input()\n",
    "        tmp.append(a)\n",
    "    lst.append(tmp)\n",
    "        "
   ]
  },
  {
   "cell_type": "code",
   "execution_count": 27,
   "id": "bfdbe09d",
   "metadata": {},
   "outputs": [
    {
     "data": {
      "text/plain": [
       "[['и', 'швец'], ['и', 'жнец'], ['и', 'на'], ['дуде', 'игрец']]"
      ]
     },
     "execution_count": 27,
     "metadata": {},
     "output_type": "execute_result"
    }
   ],
   "source": [
    "lst"
   ]
  },
  {
   "cell_type": "code",
   "execution_count": 29,
   "id": "028ddb03",
   "metadata": {},
   "outputs": [
    {
     "name": "stdout",
     "output_type": "stream",
     "text": [
      "и швец\n",
      "и жнец\n",
      "и на\n",
      "дуде игрец\n"
     ]
    }
   ],
   "source": [
    "for i in lst:\n",
    "    print(*i)"
   ]
  },
  {
   "cell_type": "code",
   "execution_count": 35,
   "id": "58cfc8f0",
   "metadata": {},
   "outputs": [
    {
     "name": "stdout",
     "output_type": "stream",
     "text": [
      "и и и дуде \n",
      "швец жнец на игрец \n"
     ]
    }
   ],
   "source": [
    "for i in range(len(lst[0])):\n",
    "    for j in range(len(lst)):\n",
    "        print(lst[j][i], end = ' ')\n",
    "    print()  \n",
    "    "
   ]
  },
  {
   "cell_type": "code",
   "execution_count": 36,
   "id": "28c65f5f",
   "metadata": {},
   "outputs": [
    {
     "name": "stdout",
     "output_type": "stream",
     "text": [
      "и и и дуде \n",
      "швец жнец на игрец \n"
     ]
    }
   ],
   "source": [
    "for i in range(m):\n",
    "    for j in range(n):\n",
    "        print(lst[j][i], end = ' ')\n",
    "    print()"
   ]
  },
  {
   "cell_type": "code",
   "execution_count": 38,
   "id": "b15aecfa",
   "metadata": {},
   "outputs": [
    {
     "name": "stdout",
     "output_type": "stream",
     "text": [
      "и швец \n",
      "и жнец \n",
      "и на \n",
      "дуде игрец \n"
     ]
    }
   ],
   "source": [
    "for i in range(n):\n",
    "    for j in range(m):\n",
    "        print(lst[i][j], end = ' ')\n",
    "    print()"
   ]
  },
  {
   "cell_type": "code",
   "execution_count": 39,
   "id": "5844cb5c",
   "metadata": {},
   "outputs": [],
   "source": [
    "# И готово:\n",
    "\n",
    "\n",
    "n, m = int(input()), int(input())\n",
    "\n",
    "lst = []\n",
    "\n",
    "for i in range (n):\n",
    "    tmp = []\n",
    "    for j in range(m):\n",
    "        a = input()\n",
    "        tmp.append(a)\n",
    "    lst.append(tmp)\n",
    "    \n",
    "for i in range(n):\n",
    "    for j in range(m):\n",
    "        print(lst[i][j], end = ' ')\n",
    "    print()\n",
    "    \n",
    "print()\n",
    "\n",
    "for i in range(m):\n",
    "    for j in range(n):\n",
    "        print(lst[j][i], end = ' ')\n",
    "    print()"
   ]
  },
  {
   "cell_type": "code",
   "execution_count": null,
   "id": "9465a5e5",
   "metadata": {},
   "outputs": [],
   "source": []
  },
  {
   "cell_type": "markdown",
   "id": "9f1fb87e",
   "metadata": {},
   "source": [
    "# Задача №3"
   ]
  },
  {
   "cell_type": "code",
   "execution_count": null,
   "id": "b210e039",
   "metadata": {},
   "outputs": [],
   "source": [
    "Следом квадратной матрицы называется сумма элементов главной диагонали. \n",
    "Напишите программу, которая выводит след заданной квадратной матрицы.\n",
    "\n",
    "Формат входных данных \n",
    "На вход программе подаётся натуральное число n — \n",
    "количество строк и столбцов в матрице, затем элементы матрицы (целые числа) \n",
    "построчно через пробел.\n",
    "\n",
    "Формат выходных данных\n",
    "Программа должна вывести одно число — след заданной матрицы."
   ]
  },
  {
   "cell_type": "code",
   "execution_count": 45,
   "id": "e2be7c63",
   "metadata": {},
   "outputs": [
    {
     "name": "stdout",
     "output_type": "stream",
     "text": [
      "3\n",
      "1 2 3\n",
      "4 5 6\n",
      "7 8 9\n"
     ]
    }
   ],
   "source": [
    "lst = []\n",
    "n = int(input())\n",
    "\n",
    "for i in range(n):\n",
    "    lst.append(input().split())"
   ]
  },
  {
   "cell_type": "code",
   "execution_count": 46,
   "id": "eb0e7bd7",
   "metadata": {},
   "outputs": [
    {
     "data": {
      "text/plain": [
       "[['1', '2', '3'], ['4', '5', '6'], ['7', '8', '9']]"
      ]
     },
     "execution_count": 46,
     "metadata": {},
     "output_type": "execute_result"
    }
   ],
   "source": [
    "lst"
   ]
  },
  {
   "cell_type": "code",
   "execution_count": 47,
   "id": "13e699a8",
   "metadata": {},
   "outputs": [],
   "source": [
    "sled = 0\n",
    "for i in range(n):\n",
    "    sled += int(lst[i][i])"
   ]
  },
  {
   "cell_type": "code",
   "execution_count": 48,
   "id": "026fbcab",
   "metadata": {},
   "outputs": [
    {
     "data": {
      "text/plain": [
       "15"
      ]
     },
     "execution_count": 48,
     "metadata": {},
     "output_type": "execute_result"
    }
   ],
   "source": [
    "sled"
   ]
  },
  {
   "cell_type": "code",
   "execution_count": null,
   "id": "54946f05",
   "metadata": {},
   "outputs": [],
   "source": []
  },
  {
   "cell_type": "markdown",
   "id": "7a0f0697",
   "metadata": {},
   "source": [
    "# Задача №4"
   ]
  },
  {
   "cell_type": "code",
   "execution_count": null,
   "id": "47d32ad3",
   "metadata": {},
   "outputs": [],
   "source": [
    "Напишите программу, которая выводит количество элементов квадратной матрицы \n",
    "в каждой строке, больших среднего арифметического элементов данной строки.\n",
    "\n",
    "Формат входных данных \n",
    "На вход программе подаётся натуральное число \n",
    "n — количество строк и столбцов в матрице, \n",
    "затем элементы матрицы (целые числа) построчно через пробел.\n",
    "\n",
    "Формат выходных данных\n",
    "Программа должна вывести\n",
    "n чисел — для каждой строки количество элементов матрицы, \n",
    "больших среднего арифметического элементов данной строки."
   ]
  },
  {
   "cell_type": "code",
   "execution_count": 50,
   "id": "a740d85d",
   "metadata": {},
   "outputs": [
    {
     "name": "stdout",
     "output_type": "stream",
     "text": [
      "2\n",
      "5 6\n",
      "1\n",
      "99 5\n",
      "1\n"
     ]
    }
   ],
   "source": [
    "n = int(input())\n",
    "\n",
    "for i in range(n):\n",
    "    a = input().split()\n",
    "    mean = 0\n",
    "    for j in a:\n",
    "        mean += int(j)\n",
    "    mean = mean/len(a)\n",
    "    \n",
    "    rez = 0\n",
    "    for k in a:\n",
    "        if int(k) > mean:\n",
    "            rez += 1\n",
    "    print(rez)\n",
    "            \n"
   ]
  },
  {
   "cell_type": "code",
   "execution_count": null,
   "id": "d927a9f6",
   "metadata": {},
   "outputs": [],
   "source": []
  },
  {
   "cell_type": "markdown",
   "id": "b7180c17",
   "metadata": {},
   "source": [
    "# Задача №5"
   ]
  },
  {
   "cell_type": "code",
   "execution_count": null,
   "id": "378897be",
   "metadata": {},
   "outputs": [],
   "source": [
    "Максимальный в области 1\n",
    "Напишите программу, которая выводит максимальный элемент \n",
    "в заштрихованной области квадратной матрицы (ниже главной диагонали).\n",
    "\n",
    "Формат входных данных\n",
    "На вход программе подаётся натуральное число \n",
    "n — количество строк и столбцов в матрице, затем элементы матрицы (целые числа) построчно через пробел.\n",
    "\n",
    "Формат выходных данных\n",
    "Программа должна вывести одно число — максимальный элемент в заштрихованной области квадратной матрицы.\n",
    "\n",
    "Примечание. Элементы главной диагонали также учитываются."
   ]
  },
  {
   "cell_type": "code",
   "execution_count": 1,
   "id": "812df630",
   "metadata": {},
   "outputs": [
    {
     "name": "stdout",
     "output_type": "stream",
     "text": [
      "3\n",
      "1 2 3\n",
      "4 5 6\n",
      "7 8 9\n"
     ]
    }
   ],
   "source": [
    "n = int(input())\n",
    "\n",
    "lst = []\n",
    "\n",
    "for i in range(n):\n",
    "    lst.append(input().split())"
   ]
  },
  {
   "cell_type": "code",
   "execution_count": 8,
   "id": "0b3dac27",
   "metadata": {},
   "outputs": [
    {
     "data": {
      "text/plain": [
       "[['1', '2', '3'], ['4', '5', '6'], ['7', '8', '9']]"
      ]
     },
     "execution_count": 8,
     "metadata": {},
     "output_type": "execute_result"
    }
   ],
   "source": [
    "lst"
   ]
  },
  {
   "cell_type": "code",
   "execution_count": 16,
   "id": "e51b0c18",
   "metadata": {},
   "outputs": [],
   "source": [
    "lst2 = []\n",
    "for j in range(len(lst)):\n",
    "    for k in range(len(lst[j])):\n",
    "        if j >= k:\n",
    "            lst2.append(int(lst[j][k]))"
   ]
  },
  {
   "cell_type": "code",
   "execution_count": 17,
   "id": "21b95d7b",
   "metadata": {},
   "outputs": [
    {
     "data": {
      "text/plain": [
       "9"
      ]
     },
     "execution_count": 17,
     "metadata": {},
     "output_type": "execute_result"
    }
   ],
   "source": [
    "max(lst2)"
   ]
  },
  {
   "cell_type": "code",
   "execution_count": null,
   "id": "ff838749",
   "metadata": {},
   "outputs": [],
   "source": []
  }
 ],
 "metadata": {
  "kernelspec": {
   "display_name": "Python 3 (ipykernel)",
   "language": "python",
   "name": "python3"
  },
  "language_info": {
   "codemirror_mode": {
    "name": "ipython",
    "version": 3
   },
   "file_extension": ".py",
   "mimetype": "text/x-python",
   "name": "python",
   "nbconvert_exporter": "python",
   "pygments_lexer": "ipython3",
   "version": "3.10.2"
  }
 },
 "nbformat": 4,
 "nbformat_minor": 5
}
