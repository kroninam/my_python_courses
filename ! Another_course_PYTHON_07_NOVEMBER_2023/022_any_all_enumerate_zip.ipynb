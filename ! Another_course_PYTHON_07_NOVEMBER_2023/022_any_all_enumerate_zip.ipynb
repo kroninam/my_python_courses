{
 "cells": [
  {
   "cell_type": "code",
   "execution_count": null,
   "id": "34286615",
   "metadata": {},
   "outputs": [],
   "source": []
  },
  {
   "cell_type": "markdown",
   "id": "e6abb3d7",
   "metadata": {},
   "source": [
    "# Задача №1"
   ]
  },
  {
   "cell_type": "code",
   "execution_count": null,
   "id": "f17d0b96",
   "metadata": {},
   "outputs": [],
   "source": [
    "Функция ignore_command() принимает на вход один строковый аргумент command – команда, которую нужно проверить,\n",
    "\n",
    "и возвращает значение True, если в команде содержится подстрока из списка ignore и False – если нет.\n",
    "\n",
    "def ignore_command(command):\n",
    "    ignore = ['alias', 'configuration', 'ip', 'sql', 'select', 'update', 'exec', 'del', 'truncate']\n",
    "\n",
    "    for word in ignore:\n",
    "        if word in command:\n",
    "            return True\n",
    "    return False\n",
    "\n",
    "Перепишите функцию ignore_command(), чтобы она использовала встроенные функции all()/any(), сохранив при этом ее функционал.\n",
    "\n",
    "Примечание 1. Следующий программный код:\n",
    "\n",
    "print(ignore_command('get ip'))\n",
    "print(ignore_command('select all'))\n",
    "print(ignore_command('delete'))\n",
    "print(ignore_command('trancate'))\n",
    "должен выводить:\n",
    "\n",
    "True\n",
    "True\n",
    "True\n",
    "False"
   ]
  },
  {
   "cell_type": "code",
   "execution_count": 4,
   "id": "4211f952",
   "metadata": {},
   "outputs": [
    {
     "name": "stdout",
     "output_type": "stream",
     "text": [
      "True\n",
      "True\n",
      "True\n",
      "False\n"
     ]
    }
   ],
   "source": [
    "def ignore_command(command):\n",
    "    ignore = ['alias', 'configuration', 'ip', 'sql', 'select', 'update', 'exec', 'del', 'truncate']\n",
    "\n",
    "    for word in ignore:\n",
    "        if word in command:\n",
    "            return True\n",
    "    return False\n",
    "\n",
    "print(ignore_command('get ip'))\n",
    "print(ignore_command('select all'))\n",
    "print(ignore_command('delete'))\n",
    "print(ignore_command('trancate'))"
   ]
  },
  {
   "cell_type": "code",
   "execution_count": 13,
   "id": "38705fcc",
   "metadata": {},
   "outputs": [
    {
     "name": "stdout",
     "output_type": "stream",
     "text": [
      "True\n",
      "True\n",
      "True\n",
      "False\n"
     ]
    }
   ],
   "source": [
    "def ignore_command(command):\n",
    "    ignore = ['alias', 'configuration', 'ip', 'sql', 'select', 'update', 'exec', 'del', 'truncate']\n",
    "    \n",
    "    lst = []\n",
    "    for i in ignore:\n",
    "        lst.append(i in command)\n",
    "    \n",
    "    return any(lst)\n",
    "\n",
    "print(ignore_command('get ip'))\n",
    "print(ignore_command('select all'))\n",
    "print(ignore_command('delete'))\n",
    "print(ignore_command('trancate'))"
   ]
  },
  {
   "cell_type": "code",
   "execution_count": null,
   "id": "46b6fc42",
   "metadata": {},
   "outputs": [],
   "source": [
    "# Лучшие ответы:\n",
    "    \n",
    "return any(map(lambda x: x in command, ignore))\n",
    "\n",
    "return any(word in command for word in ignore)"
   ]
  },
  {
   "cell_type": "code",
   "execution_count": null,
   "id": "fa633ab0",
   "metadata": {},
   "outputs": [],
   "source": []
  },
  {
   "cell_type": "markdown",
   "id": "b2c1f3b7",
   "metadata": {},
   "source": [
    "# Задача №2"
   ]
  },
  {
   "cell_type": "code",
   "execution_count": null,
   "id": "8c016b78",
   "metadata": {},
   "outputs": [],
   "source": [
    "Используя параллельную итерацию сразу по трем спискам countries, capitals и\n",
    "population выведите информацию о стране в формате:\n",
    "\n",
    "<capital> is the capital of <country>, population equal <population> people.\n",
    "\n",
    "\n",
    "Moscow is the capital of Russia, population equal 145934462 people.\n",
    "Washington is the capital of USA, population equal 331002651 people.\n",
    "...\n",
    "Для каждой страны информацию выводить на отдельной строке. "
   ]
  },
  {
   "cell_type": "code",
   "execution_count": 15,
   "id": "8ae32e19",
   "metadata": {},
   "outputs": [],
   "source": [
    "countries = ['Russia', 'USA', 'UK', 'Germany', 'France', 'India']\n",
    "capitals = ['Moscow', 'Washington', 'London', 'Berlin', 'Paris', 'Delhi']\n",
    "population = [145_934_462, 331_002_651, 80_345_321, 67_886_011, 65_273_511, 1_380_004_385]"
   ]
  },
  {
   "cell_type": "code",
   "execution_count": 18,
   "id": "43b88444",
   "metadata": {},
   "outputs": [
    {
     "data": {
      "text/plain": [
       "[('Russia', 'Moscow', 145934462),\n",
       " ('USA', 'Washington', 331002651),\n",
       " ('UK', 'London', 80345321),\n",
       " ('Germany', 'Berlin', 67886011),\n",
       " ('France', 'Paris', 65273511),\n",
       " ('India', 'Delhi', 1380004385)]"
      ]
     },
     "execution_count": 18,
     "metadata": {},
     "output_type": "execute_result"
    }
   ],
   "source": [
    "list(zip(countries, capitals, population))"
   ]
  },
  {
   "cell_type": "code",
   "execution_count": 19,
   "id": "1b958169",
   "metadata": {},
   "outputs": [
    {
     "name": "stdout",
     "output_type": "stream",
     "text": [
      "Moscow is the capital of Russia, population equal 145934462 people.\n",
      "Washington is the capital of USA, population equal 331002651 people.\n",
      "London is the capital of UK, population equal 80345321 people.\n",
      "Berlin is the capital of Germany, population equal 67886011 people.\n",
      "Paris is the capital of France, population equal 65273511 people.\n",
      "Delhi is the capital of India, population equal 1380004385 people.\n"
     ]
    }
   ],
   "source": [
    "for i in list(zip(countries, capitals, population)):\n",
    "    print(f'{i[1]} is the capital of {i[0]}, population equal {i[2]} people.')"
   ]
  },
  {
   "cell_type": "code",
   "execution_count": null,
   "id": "23e0ef5c",
   "metadata": {},
   "outputs": [],
   "source": []
  },
  {
   "cell_type": "markdown",
   "id": "fd1e064c",
   "metadata": {},
   "source": [
    "# Здача №3"
   ]
  },
  {
   "cell_type": "code",
   "execution_count": null,
   "id": "c80f923c",
   "metadata": {},
   "outputs": [],
   "source": [
    "Внутри шара\n",
    "На вход программе подаются три строки текста с вещественными числами, значениями абсцисс (\n",
    "x), ординат (y) и аппликат (z) точек трехмерного пространства. Напишите программу для проверки\n",
    "расположения всех точек с введенными координатами внутри либо на поверхности шара с центром в начале координат и радиусом \n",
    "R =2.\n",
    "\n",
    "Формат входных данных\n",
    "На вход программе подаются три строки текста с вещественными числами, \n",
    "разделенными символом пробела – абсциссы, ординаты и аппликаты точек в трехмерной системе координат.\n",
    "\n",
    "Формат выходных данных\n",
    "Программа должна вывести True если все точки с введенными координатами находятся \n",
    "внутри или на границе шара и False, если вне.\n",
    "\n",
    "0.0 1.0 2.0\n",
    "0.0 0.0 1.1\n",
    "0.0 1.0 1.5\n",
    "\n",
    "Примечание 1. Гарантируется, что количество чисел во всех трех строках одинаковое.\n",
    "\n",
    "Примечание 2. Уравнение поверхности шара (сферы)\n",
    "\n",
    "Примечание 3. Для решения задачи используйте встроенные функции all() и zip().\n",
    "\n",
    "Примечание 4. Используйте следующие названия abscissas, ordinates, applicates для соответствующих списков."
   ]
  },
  {
   "cell_type": "code",
   "execution_count": 21,
   "id": "39f88b6c",
   "metadata": {},
   "outputs": [
    {
     "name": "stdout",
     "output_type": "stream",
     "text": [
      "0.0 1.0 2.0\n",
      "0.0 0.0 1.1\n",
      "0.0 1.0 1.5\n"
     ]
    }
   ],
   "source": [
    "abscissas = list(map(float, input().split()))\n",
    "ordinates = list(map(float, input().split()))\n",
    "applicates = list(map(float, input().split()))"
   ]
  },
  {
   "cell_type": "code",
   "execution_count": 28,
   "id": "aea14b98",
   "metadata": {},
   "outputs": [
    {
     "data": {
      "text/plain": [
       "[(0.0, 0.0, 0.0), (1.0, 0.0, 1.0), (2.0, 1.1, 1.5)]"
      ]
     },
     "execution_count": 28,
     "metadata": {},
     "output_type": "execute_result"
    }
   ],
   "source": [
    "list(zip(abscissas, ordinates, applicates))"
   ]
  },
  {
   "cell_type": "code",
   "execution_count": 39,
   "id": "c22a2ffe",
   "metadata": {},
   "outputs": [
    {
     "name": "stdout",
     "output_type": "stream",
     "text": [
      "True\n"
     ]
    }
   ],
   "source": [
    "print(all(map(lambda x: all(map(lambda i: i <= 2, x)), list(zip(abscissas, ordinates, applicates)))))"
   ]
  },
  {
   "cell_type": "code",
   "execution_count": null,
   "id": "a9c461c8",
   "metadata": {},
   "outputs": [],
   "source": [
    "x**2 + y**2 + z**2 <= 2"
   ]
  },
  {
   "cell_type": "code",
   "execution_count": 41,
   "id": "e4952933",
   "metadata": {},
   "outputs": [
    {
     "data": {
      "text/plain": [
       "False"
      ]
     },
     "execution_count": 41,
     "metadata": {},
     "output_type": "execute_result"
    }
   ],
   "source": [
    "all(map(lambda xyz: xyz[0]**2 + xyz[1]**2 + xyz[2]**2 <= 4, list(zip(abscissas, ordinates, applicates))))"
   ]
  },
  {
   "cell_type": "code",
   "execution_count": null,
   "id": "34b8de34",
   "metadata": {},
   "outputs": [],
   "source": []
  },
  {
   "cell_type": "markdown",
   "id": "5cc503e3",
   "metadata": {},
   "source": [
    "# Задача №4"
   ]
  },
  {
   "cell_type": "code",
   "execution_count": null,
   "id": "6df700bf",
   "metadata": {},
   "outputs": [],
   "source": [
    "Корректный IP-адрес\n",
    "IP-адрес – уникальный числовой идентификатор устройства в компьютерной сети, работающей по протоколу TCP/IP.\n",
    "\n",
    "В 4-й версии IP-адрес представляет собой \n",
    "32-битное число. Адрес записывается в виде четырёх десятичных чисел (октетов) со значением от \n",
    "\n",
    "0 до 255 (включительно), разделённых точками, например, \n",
    "192.168.1.2\n",
    "192.168.1.2.\n",
    "\n",
    "Напишите программу с использованием встроенной функции all() для проверки корректности \n",
    "IP-адреса: все ли октеты в IP-адресе – числа со значением от \n",
    "0 до 255.\n",
    "\n",
    "Формат входных данных\n",
    "На вход программе подается строка в формате x.x.x.x, где x – непустой набор символов 0-9, a-z.\n",
    "\n",
    "Формат выходных данных\n",
    "Программа должна вывести True если введенная строка – корректный IP-адрес и False в противном случае.\n",
    "\n",
    "Примечание. Ведущие нули следует игнорировать:\n",
    "\n",
    "0001 = 1\n",
    "006 = 6\n",
    "0213 = 213\n",
    "0000 = 0\n",
    "00345 = 345\n",
    "...\n",
    "\n",
    "Sample Input 1:\n",
    "10.0.1.1\n",
    "\n",
    "Sample Output 1:\n",
    "True\n",
    "\n",
    "\n",
    "Sample Input 2:\n",
    "10.1.1.a\n",
    "\n",
    "Sample Output 2:\n",
    "False"
   ]
  },
  {
   "cell_type": "code",
   "execution_count": 43,
   "id": "4815804c",
   "metadata": {},
   "outputs": [
    {
     "data": {
      "text/plain": [
       "'1'"
      ]
     },
     "execution_count": 43,
     "metadata": {},
     "output_type": "execute_result"
    }
   ],
   "source": [
    "'0001'.lstrip('0')"
   ]
  },
  {
   "cell_type": "code",
   "execution_count": 44,
   "id": "b7579f56",
   "metadata": {},
   "outputs": [
    {
     "name": "stdout",
     "output_type": "stream",
     "text": [
      "10.0.1.1\n"
     ]
    }
   ],
   "source": [
    "s = input().split('.')"
   ]
  },
  {
   "cell_type": "code",
   "execution_count": 56,
   "id": "e326b5e6",
   "metadata": {},
   "outputs": [
    {
     "data": {
      "text/plain": [
       "['10', '0', '1', '1']"
      ]
     },
     "execution_count": 56,
     "metadata": {},
     "output_type": "execute_result"
    }
   ],
   "source": [
    "s"
   ]
  },
  {
   "cell_type": "code",
   "execution_count": 52,
   "id": "1059d715",
   "metadata": {},
   "outputs": [
    {
     "data": {
      "text/plain": [
       "False"
      ]
     },
     "execution_count": 52,
     "metadata": {},
     "output_type": "execute_result"
    }
   ],
   "source": [
    "all(map(lambda x: int(x.lstrip('0')) >= 0 and int(x.lstrip('0')) <= 255, s))"
   ]
  },
  {
   "cell_type": "code",
   "execution_count": 62,
   "id": "5ccdac76",
   "metadata": {},
   "outputs": [
    {
     "name": "stdout",
     "output_type": "stream",
     "text": [
      "True\n"
     ]
    }
   ],
   "source": [
    "if all(map(lambda x: x.isdigit(), s)):\n",
    "    print(all(map(lambda x: int(x) >= 0 and int(x) <= 255, s)))\n",
    "else:\n",
    "    print(False)"
   ]
  },
  {
   "cell_type": "code",
   "execution_count": 63,
   "id": "77115e0c",
   "metadata": {},
   "outputs": [
    {
     "data": {
      "text/plain": [
       "True"
      ]
     },
     "execution_count": 63,
     "metadata": {},
     "output_type": "execute_result"
    }
   ],
   "source": [
    "# Чем хорош оператор and, если первое условие неверно, то последующие не выполняются.\n",
    "\n",
    "all(map(lambda x: x.isdigit(), s)) and all(map(lambda x: int(x) >= 0 and int(x) <= 255, s))"
   ]
  },
  {
   "cell_type": "code",
   "execution_count": null,
   "id": "afe6d3a3",
   "metadata": {},
   "outputs": [],
   "source": []
  },
  {
   "cell_type": "markdown",
   "id": "6d511b3c",
   "metadata": {},
   "source": [
    "# Задача №5"
   ]
  },
  {
   "cell_type": "code",
   "execution_count": null,
   "id": "9034d597",
   "metadata": {},
   "outputs": [],
   "source": [
    "Интересные числа\n",
    "На вход программе подаются два натуральных числа \n",
    "a и b. Напишите программу с использованием встроенной функции all() для обнаружения всех целых чисел в диапазоне \n",
    "\n",
    "[a;b], которые делятся на каждую содержащуюся в них цифру без остатка.\n",
    "\n",
    "Формат входных данных\n",
    "На вход программе подаются два натуральных числа \n",
    "\n",
    "a и \n",
    "\n",
    "b на отдельных строках.\n",
    "\n",
    "Формат выходных данных\n",
    "Программа должна вывести все числа из диапазона \n",
    "\n",
    "[a;b], удовлетворяющие условию задачи, на одной строке, разделяя их символом пробела.\n",
    "\n",
    "Примечание. Числа, содержащие нули, неинтересны, их выводить не нужно."
   ]
  },
  {
   "cell_type": "code",
   "execution_count": 1,
   "id": "bc337ea9",
   "metadata": {},
   "outputs": [
    {
     "name": "stdout",
     "output_type": "stream",
     "text": [
      "1\n",
      "25\n"
     ]
    }
   ],
   "source": [
    "a = int(input())\n",
    "b = int(input())"
   ]
  },
  {
   "cell_type": "code",
   "execution_count": 4,
   "id": "96fa144a",
   "metadata": {},
   "outputs": [
    {
     "data": {
      "text/plain": [
       "range(1, 26)"
      ]
     },
     "execution_count": 4,
     "metadata": {},
     "output_type": "execute_result"
    }
   ],
   "source": [
    "range(a, b+1)"
   ]
  },
  {
   "cell_type": "code",
   "execution_count": 26,
   "id": "1ec02966",
   "metadata": {},
   "outputs": [
    {
     "name": "stdout",
     "output_type": "stream",
     "text": [
      "1 2 3 4 5 6 7 8 9 10 11 11 12 12 13 14 15 15 16 17 18 19 20 22 22 24 24\n"
     ]
    }
   ],
   "source": [
    "lst = []\n",
    "for i in range(a, b+1):\n",
    "    \n",
    "    for j in range(len(str(i))):\n",
    "\n",
    "        if int(str(i)[j]) != 0:\n",
    "            if i % int(str(i)[j]) != 0:\n",
    "                break\n",
    "            lst.append(i)\n",
    "print(*lst)"
   ]
  },
  {
   "cell_type": "code",
   "execution_count": 48,
   "id": "1525126b",
   "metadata": {},
   "outputs": [
    {
     "name": "stdout",
     "output_type": "stream",
     "text": [
      "1 2 3 4 5 6 7 8 9 11 12 15 22 24\n"
     ]
    }
   ],
   "source": [
    "lst = []\n",
    "for i in range(a, b+1):\n",
    "    if all(i % int(str(i)[j]) == 0 for j in range(len(str(i))) if int(str(i)[j]) != 0):\n",
    "        if '0' not in str(i):\n",
    "            lst.append(i)\n",
    "print(*lst)"
   ]
  },
  {
   "cell_type": "code",
   "execution_count": null,
   "id": "2a43eb6a",
   "metadata": {},
   "outputs": [],
   "source": []
  },
  {
   "cell_type": "code",
   "execution_count": null,
   "id": "8c43d2bd",
   "metadata": {},
   "outputs": [],
   "source": []
  },
  {
   "cell_type": "code",
   "execution_count": 37,
   "id": "a98ed52d",
   "metadata": {},
   "outputs": [
    {
     "data": {
      "text/plain": [
       "{1, 2, 3, 4, 5, 6, 7, 8, 9, 11, 12, 15, 22, 24}"
      ]
     },
     "execution_count": 37,
     "metadata": {},
     "output_type": "execute_result"
    }
   ],
   "source": [
    "set_1 = set([i for i in list(map(lambda x: x if len(str(x)) == lst.count(x) else 0, lst)) if i != 0])\n",
    "set_1"
   ]
  },
  {
   "cell_type": "code",
   "execution_count": 39,
   "id": "64a97b01",
   "metadata": {},
   "outputs": [
    {
     "name": "stdout",
     "output_type": "stream",
     "text": [
      "1 2 3 4 5 6 7 8 9 11 12 15 22 24\n"
     ]
    }
   ],
   "source": [
    "print(*sorted(list(set_1)))"
   ]
  },
  {
   "cell_type": "code",
   "execution_count": null,
   "id": "e48698ee",
   "metadata": {},
   "outputs": [],
   "source": []
  },
  {
   "cell_type": "markdown",
   "id": "f8d24eca",
   "metadata": {},
   "source": [
    "# Задача №5"
   ]
  },
  {
   "cell_type": "code",
   "execution_count": null,
   "id": "060e44cf",
   "metadata": {},
   "outputs": [],
   "source": [
    "Хороший пароль\n",
    "Хороший пароль по условиям этой задачи состоит как минимум из \n",
    "7 символов, содержит хотя бы одну цифру, заглавную и строчную букву. \n",
    "Напишите программу со встроенной функцией any() для определения хорош ли введенный пароль.\n",
    "\n",
    "Формат входных данных\n",
    "На вход программе подаётся одна строка текста.\n",
    "\n",
    "Формат выходных данных\n",
    "Программа должна вывести YES, если строка – хороший пароль, и NO в противном случае.\n",
    "\n",
    "Sample Input 1:\n",
    "abcABC9\n",
    "\n",
    "Sample Output 1:\n",
    "YES\n",
    "\n",
    "\n",
    "Sample Input 2:\n",
    "abAB34\n",
    "\n",
    "Sample Output 2:\n",
    "NO"
   ]
  },
  {
   "cell_type": "code",
   "execution_count": 29,
   "id": "65bbca09",
   "metadata": {},
   "outputs": [
    {
     "name": "stdout",
     "output_type": "stream",
     "text": [
      "12345678\n"
     ]
    }
   ],
   "source": [
    "s = input()"
   ]
  },
  {
   "cell_type": "code",
   "execution_count": 30,
   "id": "b1f1c8ab",
   "metadata": {},
   "outputs": [
    {
     "name": "stdout",
     "output_type": "stream",
     "text": [
      "NO\n"
     ]
    }
   ],
   "source": [
    "import string\n",
    "\n",
    "if all([len(s) >= 7, any(list(map(lambda x: x in string.ascii_letters.upper(), s))),\n",
    "        any(list(map(lambda x: x in string.ascii_letters.lower(), s))), \n",
    "        any(list(map(lambda x: x in '1234567890', s)))]):\n",
    "    print('YES')\n",
    "else:\n",
    "    print('NO')"
   ]
  },
  {
   "cell_type": "code",
   "execution_count": 9,
   "id": "51fa7ef5",
   "metadata": {},
   "outputs": [
    {
     "data": {
      "text/plain": [
       "'ABCDEFGHIJKLMNOPQRSTUVWXYZABCDEFGHIJKLMNOPQRSTUVWXYZ'"
      ]
     },
     "execution_count": 9,
     "metadata": {},
     "output_type": "execute_result"
    }
   ],
   "source": [
    "import string\n",
    "string.ascii_letters.upper()"
   ]
  },
  {
   "cell_type": "code",
   "execution_count": 17,
   "id": "86bea208",
   "metadata": {},
   "outputs": [
    {
     "data": {
      "text/plain": [
       "'abcABC9'"
      ]
     },
     "execution_count": 17,
     "metadata": {},
     "output_type": "execute_result"
    }
   ],
   "source": [
    "s"
   ]
  },
  {
   "cell_type": "code",
   "execution_count": 26,
   "id": "91548fd0",
   "metadata": {},
   "outputs": [
    {
     "data": {
      "text/plain": [
       "True"
      ]
     },
     "execution_count": 26,
     "metadata": {},
     "output_type": "execute_result"
    }
   ],
   "source": [
    "any(list(map(lambda x: x in string.ascii_letters.upper(), s)))"
   ]
  },
  {
   "cell_type": "code",
   "execution_count": null,
   "id": "3200d659",
   "metadata": {},
   "outputs": [],
   "source": []
  },
  {
   "cell_type": "markdown",
   "id": "fbd85646",
   "metadata": {},
   "source": [
    "# Задача №6"
   ]
  },
  {
   "cell_type": "code",
   "execution_count": null,
   "id": "6539df5c",
   "metadata": {},
   "outputs": [],
   "source": [
    "Отличники\n",
    "Учитель Тимур проверял контрольные работы по математике в нескольких классах \n",
    "онлайн-школы BEEGEEK и решил убедиться, что в каждом классе есть хотя бы один отличник – ученик с оценкой \n",
    "5 по контрольной работе. Напишите программу с использованием встроенных \n",
    "функций all(), any() для помощи Тимуру в проверке.\n",
    "\n",
    "Формат входных данных\n",
    "На вход программе подается натуральное число \n",
    "n – количество классов. Затем для каждого класса вводится блок информации вида:\n",
    "\n",
    "натуральное число \n",
    "k – количество учеников в классе;\n",
    "далее вводится \n",
    "k строк вида: фамилия оценка.\n",
    "Формат выходных данных\n",
    "Программа должна вывести YES, если в каждом классе есть хотя бы один отличник, и NO в противном случае.\n",
    "\n",
    "\n",
    "Sample Input 1:\n",
    "4\n",
    "3\n",
    "Васечкин 4\n",
    "Илюшин 5\n",
    "Кривцов 3\n",
    "2\n",
    "Боталов 5\n",
    "Петров 5\n",
    "3\n",
    "Лебеда 4\n",
    "Ивлев 4\n",
    "Суворов 5\n",
    "2\n",
    "Ласкер 4\n",
    "Козлов 5\n",
    "\n",
    "Sample Output 1:\n",
    "YES"
   ]
  },
  {
   "cell_type": "code",
   "execution_count": 2,
   "id": "46d22117",
   "metadata": {},
   "outputs": [
    {
     "name": "stdout",
     "output_type": "stream",
     "text": [
      "4\n",
      "3\n",
      "В 4\n",
      "И 5\n",
      "К 3\n",
      "2\n",
      "Б 5\n",
      "П 5\n",
      "3\n",
      "Л 4\n",
      "И 4\n",
      "С 5\n",
      "2\n",
      "яЛа 4\n",
      "Ко 5\n"
     ]
    }
   ],
   "source": [
    "n = int(input())\n",
    "\n",
    "all_classes = []\n",
    "for i in range(n):\n",
    "    k = int(input())\n",
    "    class_num = []\n",
    "    for j in range(k):\n",
    "        class_num.append(input().split())\n",
    "    all_classes.append(class_num)"
   ]
  },
  {
   "cell_type": "code",
   "execution_count": 3,
   "id": "dd8204c8",
   "metadata": {},
   "outputs": [
    {
     "data": {
      "text/plain": [
       "[[['В', '4'], ['И', '5'], ['К', '3']],\n",
       " [['Б', '5'], ['П', '5']],\n",
       " [['Л', '4'], ['И', '4'], ['С', '5']],\n",
       " [['яЛа', '4'], ['Ко', '5']]]"
      ]
     },
     "execution_count": 3,
     "metadata": {},
     "output_type": "execute_result"
    }
   ],
   "source": [
    "all_classes"
   ]
  },
  {
   "cell_type": "code",
   "execution_count": 12,
   "id": "e89c8a13",
   "metadata": {},
   "outputs": [
    {
     "data": {
      "text/plain": [
       "[[['В', '4'], ['И', '5'], ['К', '3']],\n",
       " [['Б', '5'], ['П', '5']],\n",
       " [['Л', '4'], ['И', '4'], ['С', '5']],\n",
       " [['яЛа', '4'], ['Ко', '5']]]"
      ]
     },
     "execution_count": 12,
     "metadata": {},
     "output_type": "execute_result"
    }
   ],
   "source": [
    "[i for i in all_classes]"
   ]
  },
  {
   "cell_type": "code",
   "execution_count": 18,
   "id": "06c61cd5",
   "metadata": {},
   "outputs": [
    {
     "name": "stdout",
     "output_type": "stream",
     "text": [
      "YES\n"
     ]
    }
   ],
   "source": [
    "lst = []\n",
    "for i in all_classes:\n",
    "    lst.append((any(list(map( lambda x: x[1] == '5', i)))))\n",
    "    \n",
    "if all(lst):\n",
    "    print('YES')\n",
    "else:\n",
    "    print('NO') \n",
    "\n",
    "    "
   ]
  },
  {
   "cell_type": "code",
   "execution_count": null,
   "id": "4d755621",
   "metadata": {},
   "outputs": [],
   "source": [
    "if (any(list(map( lambda x: x[1] == '5', cls)))):\n"
   ]
  },
  {
   "cell_type": "code",
   "execution_count": null,
   "id": "2139258b",
   "metadata": {},
   "outputs": [],
   "source": []
  },
  {
   "cell_type": "code",
   "execution_count": 8,
   "id": "adebb292",
   "metadata": {},
   "outputs": [
    {
     "data": {
      "text/plain": [
       "True"
      ]
     },
     "execution_count": 8,
     "metadata": {},
     "output_type": "execute_result"
    }
   ],
   "source": [
    "any(list(map(lambda x: x[1] == '5', [['В', '4'], ['И', '5'], ['К', '3']])))"
   ]
  },
  {
   "cell_type": "code",
   "execution_count": null,
   "id": "b657fc86",
   "metadata": {},
   "outputs": [],
   "source": []
  }
 ],
 "metadata": {
  "kernelspec": {
   "display_name": "Python 3 (ipykernel)",
   "language": "python",
   "name": "python3"
  },
  "language_info": {
   "codemirror_mode": {
    "name": "ipython",
    "version": 3
   },
   "file_extension": ".py",
   "mimetype": "text/x-python",
   "name": "python",
   "nbconvert_exporter": "python",
   "pygments_lexer": "ipython3",
   "version": "3.10.2"
  }
 },
 "nbformat": 4,
 "nbformat_minor": 5
}
