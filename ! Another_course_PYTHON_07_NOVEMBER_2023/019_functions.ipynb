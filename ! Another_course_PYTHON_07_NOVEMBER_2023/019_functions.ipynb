{
 "cells": [
  {
   "cell_type": "markdown",
   "id": "66d947fe",
   "metadata": {},
   "source": [
    "# Задача №1"
   ]
  },
  {
   "cell_type": "code",
   "execution_count": null,
   "id": "3666d5a3",
   "metadata": {},
   "outputs": [],
   "source": [
    "Напишите функцию matrix(), которая создает, заполняет и \n",
    "возвращает матрицу заданного размера. \n",
    "При этом (в зависимости от переданных аргументов) она должна вести себя так:\n",
    "\n",
    "matrix() — возвращает матрицу \n",
    "1×1, в которой единственное число равно нулю;\n",
    "\n",
    "matrix(n) — возвращает матрицу n × n, заполненную нулями;\n",
    "\n",
    "matrix(n, m) — возвращает матрицу из n строк и m столбцов, заполненную нулями;\n",
    "\n",
    "matrix(n, m, value) — возвращает матрицу из \n",
    "\n",
    "n строк и \n",
    "\n",
    "m столбцов, в которой каждый элемент равен числу value.\n",
    "При создании функции пользуйтесь аргументами по умолчанию.\n",
    "\n",
    "Примечание 1. Приведенный ниже код:\n",
    "\n",
    "print(matrix())         # матрица 1 × 1 из 0\n",
    "print(matrix(3))        # матрица 3 × 3 из 0\n",
    "print(matrix(2, 5))     # матрица 2 × 5 из 0\n",
    "print(matrix(3, 4, 9))  # матрица 3 × 4 из 9\n",
    "\n",
    "должен выводить:\n",
    "\n",
    "[[0]]\n",
    "[[0, 0, 0], [0, 0, 0], [0, 0, 0]]\n",
    "[[0, 0, 0, 0, 0], [0, 0, 0, 0, 0]]\n",
    "[[9, 9, 9, 9], [9, 9, 9, 9], [9, 9, 9, 9]]"
   ]
  },
  {
   "cell_type": "code",
   "execution_count": 77,
   "id": "c058463e",
   "metadata": {},
   "outputs": [],
   "source": [
    "def matrix(m=1, n=None, value=0):\n",
    "    lst = []\n",
    "    if n == None:\n",
    "        n = m\n",
    "        for i in range(n):\n",
    "            lst.append([value] * n)\n",
    "    else:\n",
    "        for i in range(m):\n",
    "            lst.append([value] * n)\n",
    "    return lst"
   ]
  },
  {
   "cell_type": "code",
   "execution_count": 78,
   "id": "2b387de5",
   "metadata": {},
   "outputs": [
    {
     "data": {
      "text/plain": [
       "[[0]]"
      ]
     },
     "execution_count": 78,
     "metadata": {},
     "output_type": "execute_result"
    }
   ],
   "source": [
    "matrix()"
   ]
  },
  {
   "cell_type": "code",
   "execution_count": 79,
   "id": "cc216084",
   "metadata": {},
   "outputs": [
    {
     "name": "stdout",
     "output_type": "stream",
     "text": [
      "[[0, 0, 0], [0, 0, 0], [0, 0, 0]]\n"
     ]
    }
   ],
   "source": [
    "print(matrix(3))"
   ]
  },
  {
   "cell_type": "code",
   "execution_count": 80,
   "id": "8e434efe",
   "metadata": {},
   "outputs": [
    {
     "name": "stdout",
     "output_type": "stream",
     "text": [
      "[[0, 0, 0, 0, 0], [0, 0, 0, 0, 0]]\n"
     ]
    }
   ],
   "source": [
    "print(matrix(2, 5))"
   ]
  },
  {
   "cell_type": "code",
   "execution_count": 81,
   "id": "60548768",
   "metadata": {},
   "outputs": [
    {
     "name": "stdout",
     "output_type": "stream",
     "text": [
      "[[9, 9, 9, 9], [9, 9, 9, 9], [9, 9, 9, 9]]\n"
     ]
    }
   ],
   "source": [
    "print(matrix(3, 4, 9))"
   ]
  },
  {
   "cell_type": "code",
   "execution_count": null,
   "id": "47fba777",
   "metadata": {},
   "outputs": [],
   "source": []
  },
  {
   "cell_type": "markdown",
   "id": "7c1d7bbf",
   "metadata": {},
   "source": [
    "# Порядок передачи аргументов в функцию"
   ]
  },
  {
   "cell_type": "code",
   "execution_count": 83,
   "id": "5b871a67",
   "metadata": {},
   "outputs": [
    {
     "name": "stdout",
     "output_type": "stream",
     "text": [
      "1 2\n",
      "3\n",
      "(4, 5)\n",
      "3\n",
      "2\n",
      "{'f': 1}\n"
     ]
    }
   ],
   "source": [
    "# 1. Позиционные аргументы без значений по умолчанию.\n",
    "# 2. Позиционные аргументы со значениями по умолчанию.\n",
    "# 3. Позиционные аргументы, указанные как *args.\n",
    "# 4. Именованные аргументы.\n",
    "# 5. Именнованные со значением по умолчанию\n",
    "# 6. Именованные аргументы, указанные как *kwargs.\n",
    "\n",
    "def my_func(a, b, c=10, *args, d, g=1, **kwargs):\n",
    "    print(a, b)\n",
    "    print(c)\n",
    "    print(args)\n",
    "    print(d)\n",
    "    print(g)\n",
    "    print(kwargs)\n",
    "\n",
    "\n",
    "my_func(1, 2, 3, 4, 5, d=3, g=2, f=1)"
   ]
  },
  {
   "cell_type": "code",
   "execution_count": null,
   "id": "05be9c58",
   "metadata": {},
   "outputs": [],
   "source": []
  },
  {
   "cell_type": "markdown",
   "id": "e210a8ec",
   "metadata": {},
   "source": [
    "# Задача №2"
   ]
  },
  {
   "cell_type": "code",
   "execution_count": null,
   "id": "7e9c511e",
   "metadata": {},
   "outputs": [],
   "source": [
    "Напишите функцию count_args(), которая принимает произвольное количество аргументов и \n",
    "возвращает количество переданных в нее аргументов.\n",
    "\n",
    "Примечание 1. Обратите внимание, что функция должна принимать не список, \n",
    "а именно произвольное количество аргументов.\n",
    "\n",
    "Примечание 2. Следующий программный код:\n",
    "\n",
    "print(count_args())\n",
    "print(count_args(10))\n",
    "print(count_args('stepik', 'beegeek'))\n",
    "print(count_args([], (''), 'a', 12, False))\n",
    "должен выводить:\n",
    "\n",
    "0\n",
    "1\n",
    "2\n",
    "5"
   ]
  },
  {
   "cell_type": "code",
   "execution_count": 84,
   "id": "99615e7b",
   "metadata": {},
   "outputs": [],
   "source": [
    "def count_args(*args):\n",
    "    return len(args)"
   ]
  },
  {
   "cell_type": "code",
   "execution_count": 85,
   "id": "4aedb209",
   "metadata": {},
   "outputs": [
    {
     "name": "stdout",
     "output_type": "stream",
     "text": [
      "0\n",
      "1\n",
      "2\n",
      "5\n"
     ]
    }
   ],
   "source": [
    "print(count_args())\n",
    "print(count_args(10))\n",
    "print(count_args('stepik', 'beegeek'))\n",
    "print(count_args([], (''), 'a', 12, False))"
   ]
  },
  {
   "cell_type": "code",
   "execution_count": null,
   "id": "e416efff",
   "metadata": {},
   "outputs": [],
   "source": []
  },
  {
   "cell_type": "markdown",
   "id": "90feb669",
   "metadata": {},
   "source": [
    "# Задача №3"
   ]
  },
  {
   "cell_type": "code",
   "execution_count": null,
   "id": "75afadf6",
   "metadata": {},
   "outputs": [],
   "source": [
    "Напишите функцию sq_sum(), которая принимает произвольное количество\n",
    "числовых аргументов и возвращает сумму их квадратов.\n",
    "\n",
    "Примечание 1. Обратите внимание, что функция должна принимать не список,\n",
    "а именно произвольное количество аргументов.\n",
    "\n",
    "Примечание 2. Следующий программный код:\n",
    "\n",
    "print(sq_sum())\n",
    "print(sq_sum(2))\n",
    "print(sq_sum(1.5, 2.5))\n",
    "print(sq_sum(1, 2, 3))\n",
    "print(sq_sum(1, 2, 3, 4, 5, 6, 7, 8, 9, 10))\n",
    "должен выводить:\n",
    "\n",
    "0\n",
    "4\n",
    "8.5\n",
    "14\n",
    "385"
   ]
  },
  {
   "cell_type": "code",
   "execution_count": 90,
   "id": "7e124ff4",
   "metadata": {},
   "outputs": [],
   "source": [
    "def sq_sum(*args):\n",
    "    summa = 0\n",
    "    for i in args:\n",
    "        summa += i**2\n",
    "    return summa"
   ]
  },
  {
   "cell_type": "code",
   "execution_count": 91,
   "id": "e1352b2a",
   "metadata": {},
   "outputs": [
    {
     "name": "stdout",
     "output_type": "stream",
     "text": [
      "0\n",
      "4\n",
      "8.5\n",
      "14\n",
      "385\n"
     ]
    }
   ],
   "source": [
    "print(sq_sum())\n",
    "print(sq_sum(2))\n",
    "print(sq_sum(1.5, 2.5))\n",
    "print(sq_sum(1, 2, 3))\n",
    "print(sq_sum(1, 2, 3, 4, 5, 6, 7, 8, 9, 10))"
   ]
  },
  {
   "cell_type": "code",
   "execution_count": null,
   "id": "e92ff381",
   "metadata": {},
   "outputs": [],
   "source": []
  },
  {
   "cell_type": "markdown",
   "id": "81745180",
   "metadata": {},
   "source": [
    "# Задача №4"
   ]
  },
  {
   "cell_type": "code",
   "execution_count": null,
   "id": "505755c6",
   "metadata": {},
   "outputs": [],
   "source": [
    "Напишите функцию mean(), которая принимает произвольное количество аргументов и \n",
    "возвращает среднее арифметическое переданных в нее числовых (int или float) аргументов.\n",
    "\n",
    "Примечание 1. Обратите внимание, что функция должна принимать не список, \n",
    "а именно произвольное количество аргументов.\n",
    "\n",
    "Примечание 2. Функция должна игнорировать аргументы всех типов, кроме int или float.\n",
    "\n",
    "Примечание 3. Следующий программный код:\n",
    "\n",
    "print(mean())\n",
    "print(mean(7))\n",
    "print(mean(1.5, True, ['stepik'], 'beegeek', 2.5, (1, 2)))\n",
    "print(mean(True, ['stepik'], 'beegeek', (1, 2)))\n",
    "print(mean(-1, 2, 3, 10, ('5')))\n",
    "print(mean(1, 2, 3, 4, 5, 6, 7, 8, 9, 10))\n",
    "должен выводить:\n",
    "\n",
    "0.0\n",
    "7.0\n",
    "2.0\n",
    "0.0\n",
    "3.5\n",
    "5.5"
   ]
  },
  {
   "cell_type": "code",
   "execution_count": 112,
   "id": "0f710f86",
   "metadata": {},
   "outputs": [],
   "source": [
    "def mean(*args):\n",
    "    s = 0\n",
    "    c = 0.00000000000000000001\n",
    "    for i in args:\n",
    "        if type(i) == int or type(i) == float:\n",
    "            s += i\n",
    "            c += 1\n",
    "            \n",
    "    return s/c"
   ]
  },
  {
   "cell_type": "code",
   "execution_count": 113,
   "id": "c37abc44",
   "metadata": {},
   "outputs": [
    {
     "name": "stdout",
     "output_type": "stream",
     "text": [
      "0.0\n",
      "7.0\n",
      "2.0\n",
      "0.0\n",
      "3.5\n",
      "5.5\n"
     ]
    }
   ],
   "source": [
    "print(mean())\n",
    "print(mean(7))\n",
    "print(mean(1.5, True, ['stepik'], 'beegeek', 2.5, (1, 2)))\n",
    "print(mean(True, ['stepik'], 'beegeek', (1, 2)))\n",
    "print(mean(-1, 2, 3, 10, ('5')))\n",
    "print(mean(1, 2, 3, 4, 5, 6, 7, 8, 9, 10))"
   ]
  },
  {
   "cell_type": "code",
   "execution_count": null,
   "id": "3e24448a",
   "metadata": {},
   "outputs": [],
   "source": []
  },
  {
   "cell_type": "markdown",
   "id": "274bc006",
   "metadata": {},
   "source": [
    "# Задача №5"
   ]
  },
  {
   "cell_type": "code",
   "execution_count": null,
   "id": "0a845cd6",
   "metadata": {},
   "outputs": [],
   "source": [
    "Напишите функцию greet(), которая принимает произвольное количество аргументов \n",
    "строк имен (как минимум одно) и возвращает приветствие в соответствии с образцом.\n",
    "\n",
    "Примечание 1. Обратите внимание, что функция должна принимать не список, \n",
    "а именно произвольное количество аргументов.\n",
    "\n",
    "Примечание 2. Следующий программный код:\n",
    "\n",
    "print(greet('Timur'))\n",
    "print(greet('Timur', 'Roman'))\n",
    "print(greet('Timur', 'Roman', 'Ruslan'))\n",
    "должен выводить:\n",
    "\n",
    "Hello, Timur!\n",
    "Hello, Timur and Roman!\n",
    "Hello, Timur and Roman and Ruslan!\n",
    "Примечание 3. Функция greet() должна принимать как минимум один обязательный аргумент!"
   ]
  },
  {
   "cell_type": "code",
   "execution_count": 86,
   "id": "c9c8224b",
   "metadata": {},
   "outputs": [],
   "source": [
    "def greet(name, *args):\n",
    "    s = \"Hello, \" + name\n",
    "    for i in args:\n",
    "        s += ' and ' + i\n",
    "    return  s.rstrip(', ') + '!'"
   ]
  },
  {
   "cell_type": "code",
   "execution_count": 87,
   "id": "d9e9601a",
   "metadata": {},
   "outputs": [
    {
     "name": "stdout",
     "output_type": "stream",
     "text": [
      "Hello, Timur!\n",
      "Hello, Timur and Roman!\n",
      "Hello, Timur and Roman and Ruslan!\n"
     ]
    }
   ],
   "source": [
    "print(greet('Timur'))\n",
    "print(greet('Timur', 'Roman'))\n",
    "print(greet('Timur', 'Roman', 'Ruslan'))"
   ]
  },
  {
   "cell_type": "code",
   "execution_count": null,
   "id": "57a13eb2",
   "metadata": {},
   "outputs": [],
   "source": []
  },
  {
   "cell_type": "markdown",
   "id": "6b56c410",
   "metadata": {},
   "source": [
    "# Задача №6"
   ]
  },
  {
   "cell_type": "code",
   "execution_count": null,
   "id": "521df682",
   "metadata": {},
   "outputs": [],
   "source": [
    "Напишите функцию print_products(), которая принимает произвольное количество\n",
    "аргументов и выводит список продуктов (любая непустая строка) по образцу: <номер продукта>)\n",
    "    <название продукта> (нумерация продуктов начинается с единицы). Если среди переданных\n",
    "    аргументов нет ни одного продукта, необходимо вывести текст Нет продуктов.\n",
    "\n",
    "Примечание 1. Обратите внимание, что функция должна принимать не список, а именно \n",
    "произвольное количество аргументов.\n",
    "\n",
    "Примечание 2. Числа, списки, кортежи, словари, множества и другие нестроковые\n",
    "объекты продуктами не являются и их нужно игнорировать.\n",
    "\n",
    "Примечание 3. Следующий программный код:\n",
    "\n",
    "print_products('Бананы', [1, 2], ('Stepik',), 'Яблоки', '', 'Макароны', 5, True)\n",
    "должен выводить:\n",
    "\n",
    "1) Бананы\n",
    "2) Яблоки\n",
    "3) Макароны\n",
    "Следующий программный код:\n",
    "\n",
    "print_products([4], {}, 1, 2, {'Beegeek'}, '') \n",
    "должен выводить:\n",
    "\n",
    "Нет продуктов\n",
    "Примечание 4. Обратите внимание: функция print_products() должна выводить \n",
    "    (печатать) нужное значение, а не возвращать его."
   ]
  },
  {
   "cell_type": "code",
   "execution_count": 131,
   "id": "f0e1a87d",
   "metadata": {},
   "outputs": [],
   "source": [
    "def print_products(*args):\n",
    "    s = ''\n",
    "    c = 0\n",
    "    lst = []\n",
    "    for i in args:\n",
    "        \n",
    "        if type(i) == str and i != '':\n",
    "            c += 1\n",
    "            lst.append(i)\n",
    "    if lst:\n",
    "        for i in range(len(lst)):\n",
    "            print(str(i+1) + ') ' + lst[i])\n",
    "    else:\n",
    "        print('Нет продуктов')\n",
    "    \n",
    "    \n",
    "    "
   ]
  },
  {
   "cell_type": "code",
   "execution_count": 133,
   "id": "1beb2428",
   "metadata": {},
   "outputs": [
    {
     "name": "stdout",
     "output_type": "stream",
     "text": [
      "1) Бананы\n",
      "2) Яблоки\n",
      "3) Макароны\n",
      "Нет продуктов\n"
     ]
    }
   ],
   "source": [
    "print_products('Бананы', [1, 2], ('Stepik',), 'Яблоки', '', 'Макароны', 5, True)\n",
    "print_products([4], {}, 1, 2, {'Beegeek'}, '')"
   ]
  },
  {
   "cell_type": "code",
   "execution_count": null,
   "id": "90ff34c5",
   "metadata": {},
   "outputs": [],
   "source": []
  },
  {
   "cell_type": "markdown",
   "id": "5f3e65e0",
   "metadata": {},
   "source": [
    "# Задача №7"
   ]
  },
  {
   "cell_type": "code",
   "execution_count": null,
   "id": "7cf5878b",
   "metadata": {},
   "outputs": [],
   "source": [
    "Напишите функцию info_kwargs(), которая принимает произвольное количество \n",
    "именованных аргументов и печатает именованные аргументы в соответствии с \n",
    "образцом: <имя аргумента>: <значение аргумента>, при этом имена аргументов \n",
    "        следуют в алфавитном порядке (по возрастанию).\n",
    "\n",
    "Примечание 1. Обратите внимание, что функция должна принимать не список, \n",
    "а именно произвольное количество именованных аргументов.\n",
    "\n",
    "Примечание 2. Следующий программный код:\n",
    "\n",
    "info_kwargs(first_name='Timur', last_name='Guev', age=28, job='teacher') \n",
    "должен выводить:\n",
    "\n",
    "age: 28\n",
    "first_name: Timur\n",
    "job: teacher\n",
    "last_name: Guev"
   ]
  },
  {
   "cell_type": "code",
   "execution_count": 162,
   "id": "bcb1f754",
   "metadata": {},
   "outputs": [],
   "source": [
    "def info_kwargs(**kwargs):\n",
    "    for i in sorted(kwargs):\n",
    "        print(i + ':', kwargs[i])\n",
    "\n",
    "    "
   ]
  },
  {
   "cell_type": "code",
   "execution_count": 163,
   "id": "bcaba4e9",
   "metadata": {},
   "outputs": [
    {
     "name": "stdout",
     "output_type": "stream",
     "text": [
      "age: 28\n",
      "first_name: Timur\n",
      "job: teacher\n",
      "last_name: Guev\n"
     ]
    }
   ],
   "source": [
    "info_kwargs(first_name='Timur', last_name='Guev', age=28, job='teacher') "
   ]
  },
  {
   "cell_type": "code",
   "execution_count": null,
   "id": "098e3ff9",
   "metadata": {},
   "outputs": [],
   "source": []
  },
  {
   "cell_type": "markdown",
   "id": "f763b43e",
   "metadata": {},
   "source": [
    "# Задача №8"
   ]
  },
  {
   "cell_type": "code",
   "execution_count": null,
   "id": "0d15fc3d",
   "metadata": {},
   "outputs": [],
   "source": [
    "Напишите программу, которая сортирует список points координат точек \n",
    "плоскости в соответствии с расстоянием от начала координат (точки (0;0)\n",
    "(0;0)). Программа должна вывести отсортированный список."
   ]
  },
  {
   "cell_type": "code",
   "execution_count": 3,
   "id": "5a13ab56",
   "metadata": {},
   "outputs": [
    {
     "name": "stdout",
     "output_type": "stream",
     "text": [
      "[(0, 0), (0, 1), (-1, 1), (2, 0), (3, 0), (-1, 3), (-3, 2), (4, 3), (3, 6), (5, 6), (-9, 1), (8, 8), (12, 0)]\n"
     ]
    }
   ],
   "source": [
    "points = [(-1, 1), (5, 6), (12, 0), (4, 3), (0, 1), (-3, 2), (0, 0), (-1, 3), (2, 0), (3, 0), (-9, 1), (3, 6), (8, 8)]\n",
    "\n",
    "points = sorted(points, key = lambda x: x[0]**2 + x[1]**2)\n",
    "\n",
    "print(points)"
   ]
  },
  {
   "cell_type": "code",
   "execution_count": null,
   "id": "8981e63a",
   "metadata": {},
   "outputs": [],
   "source": []
  },
  {
   "cell_type": "markdown",
   "id": "fed7d800",
   "metadata": {},
   "source": [
    "# Задача №9"
   ]
  },
  {
   "cell_type": "code",
   "execution_count": null,
   "id": "34e3ec85",
   "metadata": {},
   "outputs": [],
   "source": [
    "Дан список numbers, содержащий кортежи чисел. Напишите программу, которая\n",
    "сортирует и выводит список numbers в соответствии с суммой минимального и максимального элемента кортежа."
   ]
  },
  {
   "cell_type": "code",
   "execution_count": 4,
   "id": "60144e41",
   "metadata": {},
   "outputs": [],
   "source": [
    "numbers = [(10, 10, 10), (30, 45, 56), (81, 80, 39), (1, 2, 3), (12, 45, 67),\n",
    "           (-2, -4, 100), (1, 2, 99), (89, 90, 34), (10, 20, 30), (50, 40, 50),\n",
    "           (34, 78, 65), (-5, 90, -1)]"
   ]
  },
  {
   "cell_type": "code",
   "execution_count": 5,
   "id": "8534ca9e",
   "metadata": {},
   "outputs": [
    {
     "data": {
      "text/plain": [
       "[(1, 2, 3),\n",
       " (10, 10, 10),\n",
       " (10, 20, 30),\n",
       " (12, 45, 67),\n",
       " (-5, 90, -1),\n",
       " (30, 45, 56),\n",
       " (50, 40, 50),\n",
       " (-2, -4, 100),\n",
       " (1, 2, 99),\n",
       " (34, 78, 65),\n",
       " (81, 80, 39),\n",
       " (89, 90, 34)]"
      ]
     },
     "execution_count": 5,
     "metadata": {},
     "output_type": "execute_result"
    }
   ],
   "source": [
    "sorted(numbers, key = lambda x: max(x) + min(x))"
   ]
  },
  {
   "cell_type": "code",
   "execution_count": null,
   "id": "def3bdc0",
   "metadata": {},
   "outputs": [],
   "source": []
  },
  {
   "cell_type": "markdown",
   "id": "6f3c0349",
   "metadata": {},
   "source": [
    "# Задача №10"
   ]
  },
  {
   "cell_type": "code",
   "execution_count": null,
   "id": "fd27f164",
   "metadata": {},
   "outputs": [],
   "source": [
    "Список athletes содержит сведения о спортсменах в виде кортежей: (имя, возраст, рост, вес).\n",
    "\n",
    "Напишите программу сортировки списка спортсменов по указанному полю:\n",
    "\n",
    "1\n",
    "1: по имени;\n",
    "2\n",
    "2: по возрасту;\n",
    "3\n",
    "3: по росту;\n",
    "4\n",
    "4: по весу."
   ]
  },
  {
   "cell_type": "code",
   "execution_count": null,
   "id": "dc570125",
   "metadata": {},
   "outputs": [],
   "source": [
    "Sample Input 1:\n",
    "\n",
    "3\n",
    "\n",
    "Sample Output 1:\n",
    "\n",
    "Рустам 10 128 30\n",
    "Дима 10 130 35\n",
    "Тимур 11 135 39\n",
    "Руслан 9 140 33\n",
    "Матвей 17 168 68\n",
    "Амир 16 170 70\n",
    "Рома 16 188 100\n",
    "Петя 15 190 90"
   ]
  },
  {
   "cell_type": "code",
   "execution_count": 6,
   "id": "16f1c582",
   "metadata": {},
   "outputs": [],
   "source": [
    "athletes = [('Дима', 10, 130, 35), ('Тимур', 11, 135, 39), ('Руслан', 9, 140, 33),\n",
    "            ('Рустам', 10, 128, 30), ('Амир', 16, 170, 70), ('Рома', 16, 188, 100),\n",
    "            ('Матвей', 17, 168, 68), ('Петя', 15, 190, 90)]"
   ]
  },
  {
   "cell_type": "code",
   "execution_count": 7,
   "id": "dc325087",
   "metadata": {},
   "outputs": [
    {
     "name": "stdout",
     "output_type": "stream",
     "text": [
      "3\n"
     ]
    }
   ],
   "source": [
    "n = int(input())\n",
    "athletes.sort(key = lambda x: x[n])"
   ]
  },
  {
   "cell_type": "code",
   "execution_count": 8,
   "id": "aae1bb70",
   "metadata": {},
   "outputs": [
    {
     "data": {
      "text/plain": [
       "[('Рустам', 10, 128, 30),\n",
       " ('Руслан', 9, 140, 33),\n",
       " ('Дима', 10, 130, 35),\n",
       " ('Тимур', 11, 135, 39),\n",
       " ('Матвей', 17, 168, 68),\n",
       " ('Амир', 16, 170, 70),\n",
       " ('Петя', 15, 190, 90),\n",
       " ('Рома', 16, 188, 100)]"
      ]
     },
     "execution_count": 8,
     "metadata": {},
     "output_type": "execute_result"
    }
   ],
   "source": [
    "athletes"
   ]
  },
  {
   "cell_type": "code",
   "execution_count": null,
   "id": "57bb1d71",
   "metadata": {},
   "outputs": [],
   "source": []
  },
  {
   "cell_type": "markdown",
   "id": "17ba19ff",
   "metadata": {},
   "source": [
    "# Задача №11"
   ]
  },
  {
   "cell_type": "code",
   "execution_count": null,
   "id": "15b1246b",
   "metadata": {},
   "outputs": [],
   "source": [
    "Напишите программу, которая принимает число и название функции, \n",
    "а выводит результат применения функции к данному числу.\n",
    "\n",
    "Список возможных функций:\n",
    "\n",
    "квадрат: функция принимает число и возвращает его квадрат;\n",
    "куб: функция принимает число и возвращает его куб;\n",
    "корень: функция принимает число и возвращает корень квадратный из этого числа;\n",
    "модуль: функция принимает число и возвращает его модуль;\n",
    "синус: функция принимает число (в радианах) и возвращает синус этого числа.\n",
    "Формат входных данных\n",
    "На вход программе подается целое число и название функции, записанные на отдельных строках.\n",
    "\n",
    "Формат выходных данных\n",
    "Программа должна выдать результат применения функции к числу.\n",
    "\n",
    "Примечание. Решите задачу без использования условного оператора."
   ]
  },
  {
   "cell_type": "code",
   "execution_count": null,
   "id": "a6da10ba",
   "metadata": {},
   "outputs": [],
   "source": [
    "Sample Input 1:\n",
    "\n",
    "5\n",
    "квадрат\n",
    "\n",
    "Sample Output 1:\n",
    "\n",
    "25"
   ]
  },
  {
   "cell_type": "code",
   "execution_count": 20,
   "id": "d49d22e3",
   "metadata": {},
   "outputs": [],
   "source": [
    "from math import sin, sqrt\n",
    "\n",
    "def power2(x):\n",
    "    return x**2\n",
    "\n",
    "def power3(x):\n",
    "    return x**3\n",
    "\n",
    "\n",
    "options = {'квадрат': power2, 'куб': power2, 'корень': sqrt, 'модуль': abs, 'синус': sin}"
   ]
  },
  {
   "cell_type": "code",
   "execution_count": 22,
   "id": "65ea3666",
   "metadata": {},
   "outputs": [
    {
     "name": "stdout",
     "output_type": "stream",
     "text": [
      "5\n",
      "квадрат\n"
     ]
    }
   ],
   "source": [
    "x = int(input())\n",
    "option = input()"
   ]
  },
  {
   "cell_type": "code",
   "execution_count": 23,
   "id": "c468b929",
   "metadata": {},
   "outputs": [
    {
     "data": {
      "text/plain": [
       "25"
      ]
     },
     "execution_count": 23,
     "metadata": {},
     "output_type": "execute_result"
    }
   ],
   "source": [
    "options[option](x)"
   ]
  },
  {
   "cell_type": "code",
   "execution_count": null,
   "id": "05206703",
   "metadata": {},
   "outputs": [],
   "source": []
  },
  {
   "cell_type": "markdown",
   "id": "d84246fc",
   "metadata": {},
   "source": [
    "# Задача №12"
   ]
  },
  {
   "cell_type": "code",
   "execution_count": null,
   "id": "df0dfda7",
   "metadata": {},
   "outputs": [],
   "source": [
    "На вход программе подается строка натуральных чисел. Из элементов строки \n",
    "формируется список чисел.\n",
    "\n",
    "Напишите программу сортировки списка чисел в порядке неубывания суммы их цифр. \n",
    "При этом, если два числа имеют одинаковую сумму цифр, следует сохранить их\n",
    "взаиморасположение в начальном списке.\n",
    "\n",
    "Формат входных данных\n",
    "На вход программе подается строка текста, содержащая натуральные числа, разделенные пробелами.\n",
    "\n",
    "Формат выходных данных\n",
    "Программа должна вывести отсортированный список чисел в соответствии с условием задачи, \n",
    "разделяя его элементы одним пробелом.\n",
    "\n",
    "Sample Input 1:\n",
    "\n",
    "12 14 79 7 4 123 45 90 111\n",
    "\n",
    "Sample Output 1:\n",
    "\n",
    "12 111 4 14 123 7 45 90 79"
   ]
  },
  {
   "cell_type": "code",
   "execution_count": 86,
   "id": "840db7db",
   "metadata": {},
   "outputs": [
    {
     "name": "stdout",
     "output_type": "stream",
     "text": [
      "111 14 79 7 4 123 90 45 12 171\n"
     ]
    }
   ],
   "source": [
    "n = input().split()"
   ]
  },
  {
   "cell_type": "code",
   "execution_count": 87,
   "id": "afa21e68",
   "metadata": {},
   "outputs": [
    {
     "data": {
      "text/plain": [
       "['111', '14', '79', '7', '4', '123', '90', '45', '12', '171']"
      ]
     },
     "execution_count": 87,
     "metadata": {},
     "output_type": "execute_result"
    }
   ],
   "source": [
    "n"
   ]
  },
  {
   "cell_type": "code",
   "execution_count": 88,
   "id": "967b4b30",
   "metadata": {},
   "outputs": [],
   "source": [
    "d = {}\n",
    "d = d.fromkeys(n, 0)\n",
    "for i in n:\n",
    "    for j in range(len(i)):\n",
    "        d[i] += int(i[j])"
   ]
  },
  {
   "cell_type": "code",
   "execution_count": 89,
   "id": "0abd98a1",
   "metadata": {},
   "outputs": [
    {
     "data": {
      "text/plain": [
       "{'111': 3,\n",
       " '14': 5,\n",
       " '79': 16,\n",
       " '7': 7,\n",
       " '4': 4,\n",
       " '123': 6,\n",
       " '90': 9,\n",
       " '45': 9,\n",
       " '12': 3,\n",
       " '171': 9}"
      ]
     },
     "execution_count": 89,
     "metadata": {},
     "output_type": "execute_result"
    }
   ],
   "source": [
    "d"
   ]
  },
  {
   "cell_type": "code",
   "execution_count": 90,
   "id": "41ed6e83",
   "metadata": {},
   "outputs": [
    {
     "name": "stdout",
     "output_type": "stream",
     "text": [
      "111 12 4 14 123 7 90 45 171 79 "
     ]
    }
   ],
   "source": [
    "for k,w in sorted(d.items(), key = lambda x: x[1]):\n",
    "    print(k, end = ' ')"
   ]
  },
  {
   "cell_type": "code",
   "execution_count": null,
   "id": "9383d493",
   "metadata": {},
   "outputs": [],
   "source": []
  },
  {
   "cell_type": "code",
   "execution_count": null,
   "id": "8496d686",
   "metadata": {},
   "outputs": [],
   "source": []
  },
  {
   "cell_type": "code",
   "execution_count": null,
   "id": "8edcb147",
   "metadata": {},
   "outputs": [],
   "source": []
  },
  {
   "cell_type": "code",
   "execution_count": null,
   "id": "49b873da",
   "metadata": {},
   "outputs": [],
   "source": []
  },
  {
   "cell_type": "code",
   "execution_count": 92,
   "id": "5f92fa9c",
   "metadata": {},
   "outputs": [
    {
     "data": {
      "text/plain": [
       "[(111, 3),\n",
       " (12, 3),\n",
       " (4, 4),\n",
       " (14, 5),\n",
       " (123, 6),\n",
       " (7, 7),\n",
       " (90, 9),\n",
       " (45, 9),\n",
       " (171, 9),\n",
       " (79, 16)]"
      ]
     },
     "execution_count": 92,
     "metadata": {},
     "output_type": "execute_result"
    }
   ],
   "source": [
    "lst = []\n",
    "for k,w in sorted(d.items(), key = lambda x: x[1]):\n",
    "    lst.append((int(k), int(w)))\n",
    "lst"
   ]
  },
  {
   "cell_type": "code",
   "execution_count": 99,
   "id": "e9cc5927",
   "metadata": {},
   "outputs": [
    {
     "name": "stdout",
     "output_type": "stream",
     "text": [
      "12 111 4 14 123 7 45 90 171 79 "
     ]
    }
   ],
   "source": [
    "for i in sorted(lst, key = lambda x: (x[1], x[0])):\n",
    "    print(i[0], end = ' ')"
   ]
  },
  {
   "cell_type": "code",
   "execution_count": null,
   "id": "0ec8a33a",
   "metadata": {},
   "outputs": [],
   "source": [
    "12 111 4 14 123 7 45 90 171 79"
   ]
  },
  {
   "cell_type": "code",
   "execution_count": null,
   "id": "cc9bc303",
   "metadata": {},
   "outputs": [],
   "source": []
  }
 ],
 "metadata": {
  "kernelspec": {
   "display_name": "Python 3 (ipykernel)",
   "language": "python",
   "name": "python3"
  },
  "language_info": {
   "codemirror_mode": {
    "name": "ipython",
    "version": 3
   },
   "file_extension": ".py",
   "mimetype": "text/x-python",
   "name": "python",
   "nbconvert_exporter": "python",
   "pygments_lexer": "ipython3",
   "version": "3.10.2"
  }
 },
 "nbformat": 4,
 "nbformat_minor": 5
}
