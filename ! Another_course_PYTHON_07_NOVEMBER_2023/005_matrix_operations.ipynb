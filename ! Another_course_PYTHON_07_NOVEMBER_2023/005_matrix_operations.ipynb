{
 "cells": [
  {
   "cell_type": "markdown",
   "id": "2324592a",
   "metadata": {},
   "source": [
    "# Задача №1"
   ]
  },
  {
   "cell_type": "code",
   "execution_count": null,
   "id": "ae299870",
   "metadata": {},
   "outputs": [],
   "source": [
    "Сложение матриц\n",
    "Напишите программу для вычисления суммы двух матриц.\n",
    "\n",
    "Формат входных данных\n",
    "На вход программе подаются два натуральных числа \n",
    "n и m — количество строк и столбцов в матрицах, затем элементы первой матрицы, \n",
    "затем пустая строка, далее следуют элементы второй матрицы.\n",
    "\n",
    "Формат выходных данных\n",
    "Программа должна вывести результирующую матрицу, разделяя элементы символом пробела.\n",
    "\n",
    "\n",
    "2 4\n",
    "1 2 3 4\n",
    "5 6 7 1\n",
    "\n",
    "3 2 1 2\n",
    "1 3 1 3"
   ]
  },
  {
   "cell_type": "code",
   "execution_count": 2,
   "id": "c7c80163",
   "metadata": {},
   "outputs": [
    {
     "name": "stdout",
     "output_type": "stream",
     "text": [
      "2 4\n"
     ]
    }
   ],
   "source": [
    "n, m = map(int, input().split())"
   ]
  },
  {
   "cell_type": "code",
   "execution_count": 3,
   "id": "6de42c13",
   "metadata": {},
   "outputs": [
    {
     "name": "stdout",
     "output_type": "stream",
     "text": [
      "1 2 3 4\n",
      "5 6 7 1\n"
     ]
    }
   ],
   "source": [
    "lst_1 = []\n",
    "\n",
    "for i in range(n):\n",
    "    lst_1.append(list(map(int, input().split())))"
   ]
  },
  {
   "cell_type": "code",
   "execution_count": 4,
   "id": "10a9065d",
   "metadata": {},
   "outputs": [
    {
     "name": "stdout",
     "output_type": "stream",
     "text": [
      "3 2 1 2\n",
      "1 3 1 3\n"
     ]
    }
   ],
   "source": [
    "lst_2 = []\n",
    "\n",
    "for i in range(n):\n",
    "    lst_2.append(list(map(int, input().split())))"
   ]
  },
  {
   "cell_type": "code",
   "execution_count": 16,
   "id": "822aee10",
   "metadata": {},
   "outputs": [],
   "source": [
    "lst_3 = []\n",
    "\n",
    "for i in range(n):\n",
    "    lst_3.append([0]*m)"
   ]
  },
  {
   "cell_type": "code",
   "execution_count": 19,
   "id": "fa9a526d",
   "metadata": {},
   "outputs": [],
   "source": [
    "for i in range(n):\n",
    "    for j in range(m):\n",
    "        lst_3[i][j] = lst_1[i][j] + lst_2[i][j]"
   ]
  },
  {
   "cell_type": "code",
   "execution_count": 20,
   "id": "600b4758",
   "metadata": {},
   "outputs": [
    {
     "data": {
      "text/plain": [
       "[[4, 4, 4, 6], [6, 9, 8, 4]]"
      ]
     },
     "execution_count": 20,
     "metadata": {},
     "output_type": "execute_result"
    }
   ],
   "source": [
    "lst_3"
   ]
  },
  {
   "cell_type": "code",
   "execution_count": 21,
   "id": "dab9fa5e",
   "metadata": {},
   "outputs": [
    {
     "name": "stdout",
     "output_type": "stream",
     "text": [
      "4 4 4 6 \n",
      "6 9 8 4 \n"
     ]
    }
   ],
   "source": [
    "for i in range(n):\n",
    "    for j in range(m):\n",
    "        print(lst_3[i][j], end = ' ')\n",
    "    print()"
   ]
  },
  {
   "cell_type": "code",
   "execution_count": null,
   "id": "0e1105a3",
   "metadata": {},
   "outputs": [],
   "source": []
  },
  {
   "cell_type": "markdown",
   "id": "ab34bab5",
   "metadata": {},
   "source": [
    "# Задача №2"
   ]
  },
  {
   "cell_type": "code",
   "execution_count": 14,
   "id": "368f2f83",
   "metadata": {},
   "outputs": [],
   "source": [
    "a = [[1, 0], [4, 1]]\n",
    "b = [[1, 0], [4, 1]]"
   ]
  },
  {
   "cell_type": "code",
   "execution_count": 15,
   "id": "4d2b8bfd",
   "metadata": {},
   "outputs": [],
   "source": [
    "import numpy as np"
   ]
  },
  {
   "cell_type": "code",
   "execution_count": 16,
   "id": "94d2290d",
   "metadata": {},
   "outputs": [
    {
     "data": {
      "text/plain": [
       "array([[1, 0],\n",
       "       [8, 1]])"
      ]
     },
     "execution_count": 16,
     "metadata": {},
     "output_type": "execute_result"
    }
   ],
   "source": [
    "np.dot(a,b)"
   ]
  },
  {
   "cell_type": "code",
   "execution_count": 18,
   "id": "e93e2ade",
   "metadata": {},
   "outputs": [],
   "source": [
    "for i in range(25):\n",
    "    a = np.dot(a,b)"
   ]
  },
  {
   "cell_type": "code",
   "execution_count": 19,
   "id": "d01f3211",
   "metadata": {},
   "outputs": [
    {
     "data": {
      "text/plain": [
       "array([[  1,   0],\n",
       "       [104,   1]])"
      ]
     },
     "execution_count": 19,
     "metadata": {},
     "output_type": "execute_result"
    }
   ],
   "source": [
    "a"
   ]
  },
  {
   "cell_type": "code",
   "execution_count": null,
   "id": "8f47dcb2",
   "metadata": {},
   "outputs": [],
   "source": []
  },
  {
   "cell_type": "markdown",
   "id": "60069b8b",
   "metadata": {},
   "source": [
    "# Задача №3"
   ]
  },
  {
   "cell_type": "code",
   "execution_count": null,
   "id": "98fd2ae9",
   "metadata": {},
   "outputs": [],
   "source": [
    "Умножение матриц 🌶️\n",
    "Напишите программу, которая перемножает две матрицы.\n",
    "\n",
    "Формат входных данных\n",
    "На вход программе подаются два натуральных числа \n",
    "n и m — количество строк и столбцов в первой матрице, \n",
    "затем элементы первой матрицы, затем пустая строка. Далее следуют числа \n",
    "m и k — количество строк и столбцов второй матрицы затем элементы второй матрицы.\n",
    "\n",
    "Формат выходных данных\n",
    "Программа должна вывести результирующую матрицу, разделяя элементы символом пробела."
   ]
  },
  {
   "cell_type": "code",
   "execution_count": 26,
   "id": "9ce850f0",
   "metadata": {},
   "outputs": [
    {
     "name": "stdout",
     "output_type": "stream",
     "text": [
      "2 2\n"
     ]
    }
   ],
   "source": [
    "n, m = map(int, input().split())"
   ]
  },
  {
   "cell_type": "code",
   "execution_count": 27,
   "id": "bdb65444",
   "metadata": {},
   "outputs": [
    {
     "name": "stdout",
     "output_type": "stream",
     "text": [
      "1 2\n",
      "3 2\n"
     ]
    }
   ],
   "source": [
    "lst_1 = []\n",
    "for i in range(n):\n",
    "    lst_1.append(list(map(int, input().split())))    "
   ]
  },
  {
   "cell_type": "code",
   "execution_count": 40,
   "id": "4be8fce9",
   "metadata": {},
   "outputs": [
    {
     "data": {
      "text/plain": [
       "[[1, 2], [3, 2]]"
      ]
     },
     "execution_count": 40,
     "metadata": {},
     "output_type": "execute_result"
    }
   ],
   "source": [
    "lst_1"
   ]
  },
  {
   "cell_type": "code",
   "execution_count": null,
   "id": "eb465527",
   "metadata": {},
   "outputs": [],
   "source": []
  },
  {
   "cell_type": "code",
   "execution_count": 29,
   "id": "9d8525c5",
   "metadata": {},
   "outputs": [
    {
     "name": "stdout",
     "output_type": "stream",
     "text": [
      "2 2\n"
     ]
    }
   ],
   "source": [
    "m, k = map(int, input().split())"
   ]
  },
  {
   "cell_type": "code",
   "execution_count": 30,
   "id": "16ca0f58",
   "metadata": {},
   "outputs": [
    {
     "name": "stdout",
     "output_type": "stream",
     "text": [
      "3 2\n",
      "1 1\n"
     ]
    }
   ],
   "source": [
    "lst_2 = []\n",
    "for i in range(m):\n",
    "    lst_2.append(list(map(int, input().split())))"
   ]
  },
  {
   "cell_type": "code",
   "execution_count": 39,
   "id": "b0819209",
   "metadata": {},
   "outputs": [
    {
     "data": {
      "text/plain": [
       "[[3, 2], [1, 1]]"
      ]
     },
     "execution_count": 39,
     "metadata": {},
     "output_type": "execute_result"
    }
   ],
   "source": [
    "lst_2"
   ]
  },
  {
   "cell_type": "code",
   "execution_count": null,
   "id": "43e82de7",
   "metadata": {},
   "outputs": [],
   "source": []
  },
  {
   "cell_type": "code",
   "execution_count": 84,
   "id": "22d2fb6d",
   "metadata": {},
   "outputs": [],
   "source": [
    "lst_3 = []\n",
    "\n",
    "for i in range(n):\n",
    "    lst_3.append([0]*k)"
   ]
  },
  {
   "cell_type": "code",
   "execution_count": 85,
   "id": "afe64a5b",
   "metadata": {},
   "outputs": [
    {
     "data": {
      "text/plain": [
       "[[0, 0], [0, 0]]"
      ]
     },
     "execution_count": 85,
     "metadata": {},
     "output_type": "execute_result"
    }
   ],
   "source": [
    "lst_3"
   ]
  },
  {
   "cell_type": "code",
   "execution_count": null,
   "id": "b0872f60",
   "metadata": {},
   "outputs": [],
   "source": []
  },
  {
   "cell_type": "code",
   "execution_count": 97,
   "id": "f566827b",
   "metadata": {},
   "outputs": [
    {
     "name": "stdout",
     "output_type": "stream",
     "text": [
      "5\n",
      "4\n",
      "11\n",
      "8\n"
     ]
    }
   ],
   "source": [
    "for i in range(n):\n",
    "    \n",
    "    for j in range(k):\n",
    "        sum = 0\n",
    "        for kk in range(m):\n",
    "            sum += lst_1[i][kk] * lst_2[kk][j]\n",
    "\n",
    "        print(sum)\n",
    "        lst_3[i][j] = sum"
   ]
  },
  {
   "cell_type": "code",
   "execution_count": 98,
   "id": "84ca6f0f",
   "metadata": {},
   "outputs": [
    {
     "data": {
      "text/plain": [
       "[[5, 4], [11, 8]]"
      ]
     },
     "execution_count": 98,
     "metadata": {},
     "output_type": "execute_result"
    }
   ],
   "source": [
    "lst_3"
   ]
  },
  {
   "cell_type": "code",
   "execution_count": 99,
   "id": "7f9bc43b",
   "metadata": {},
   "outputs": [
    {
     "name": "stdout",
     "output_type": "stream",
     "text": [
      "5 4 \n",
      "11 8 \n"
     ]
    }
   ],
   "source": [
    "for i in range(len(lst_3)):\n",
    "    for j in range(len(lst_3[i])):\n",
    "        print(lst_3[i][j], end = ' ')\n",
    "    print()"
   ]
  },
  {
   "cell_type": "code",
   "execution_count": null,
   "id": "1107ed64",
   "metadata": {},
   "outputs": [],
   "source": []
  },
  {
   "cell_type": "markdown",
   "id": "7742699e",
   "metadata": {},
   "source": [
    "# Задача №4"
   ]
  },
  {
   "cell_type": "code",
   "execution_count": null,
   "id": "8c894cd0",
   "metadata": {},
   "outputs": [],
   "source": [
    "Возведение матрицы в степень 🌶️\n",
    "Напишите программу, которая возводит квадратную матрицу в \n",
    "m-ую степень.\n",
    "\n",
    "Формат входных данных\n",
    "На вход программе подаётся натуральное число \n",
    "\n",
    "n — количество строк и столбцов в матрице, \n",
    "затем элементы матрицы, затем натуральное число m.\n",
    "\n",
    "Формат выходных данных\n",
    "Программа должна вывести результирующую матрицу, разделяя элементы символом пробела.\n",
    "\n",
    "Sample Input 1:\n",
    "\n",
    "3\n",
    "1 2 3\n",
    "4 5 6\n",
    "7 8 9\n",
    "2\n",
    "\n",
    "\n",
    "Sample Output 1:\n",
    "\n",
    "30 36 42\n",
    "66 81 96\n",
    "102 126 150\n",
    "\n",
    "\n",
    "Test input:\n",
    "3\n",
    "1 2 1\n",
    "3 3 3\n",
    "1 2 1\n",
    "5\n",
    "Correct output:\n",
    "1666 2222 1666\n",
    "3333 4443 3333\n",
    "1666 2222 1666"
   ]
  },
  {
   "cell_type": "code",
   "execution_count": 74,
   "id": "eb61f511",
   "metadata": {},
   "outputs": [
    {
     "name": "stdout",
     "output_type": "stream",
     "text": [
      "3\n",
      "1 2 1\n",
      "3 3 3\n",
      "1 2 1\n",
      "5\n"
     ]
    }
   ],
   "source": [
    "n = int(input())\n",
    "\n",
    "lst = []\n",
    "\n",
    "for i in range(n):\n",
    "    lst.append(list(map(int, input().split())))\n",
    "m = int(input())\n"
   ]
  },
  {
   "cell_type": "code",
   "execution_count": 131,
   "id": "92739b10",
   "metadata": {},
   "outputs": [],
   "source": [
    "lst_2 = []\n",
    "\n",
    "for i in range(n):\n",
    "    lst_2.append([0] * n)    "
   ]
  },
  {
   "cell_type": "code",
   "execution_count": 132,
   "id": "305ce1af",
   "metadata": {},
   "outputs": [
    {
     "data": {
      "text/plain": [
       "[[0, 0, 0], [0, 0, 0], [0, 0, 0]]"
      ]
     },
     "execution_count": 132,
     "metadata": {},
     "output_type": "execute_result"
    }
   ],
   "source": [
    "lst_2"
   ]
  },
  {
   "cell_type": "code",
   "execution_count": 133,
   "id": "c8fcd39a",
   "metadata": {},
   "outputs": [
    {
     "data": {
      "text/plain": [
       "[[1, 2, 1], [3, 3, 3], [1, 2, 1]]"
      ]
     },
     "execution_count": 133,
     "metadata": {},
     "output_type": "execute_result"
    }
   ],
   "source": [
    "lst"
   ]
  },
  {
   "cell_type": "code",
   "execution_count": 134,
   "id": "a8923d18",
   "metadata": {},
   "outputs": [],
   "source": [
    "# for i in range(len(lst)):\n",
    "    \n",
    "#     for j in range(len(lst[i])):\n",
    "#         sum = 0\n",
    "        \n",
    "#         for k in range(len(lst)):\n",
    "            \n",
    "#             sum += lst[j][k]*lst[k][i]\n",
    "        \n",
    "#         lst_2[j][i] = sum\n",
    "#         print(sum)"
   ]
  },
  {
   "cell_type": "code",
   "execution_count": 135,
   "id": "550fba17",
   "metadata": {},
   "outputs": [
    {
     "data": {
      "text/plain": [
       "[[0, 0, 0], [0, 0, 0], [0, 0, 0]]"
      ]
     },
     "execution_count": 135,
     "metadata": {},
     "output_type": "execute_result"
    }
   ],
   "source": [
    "lst_2"
   ]
  },
  {
   "cell_type": "code",
   "execution_count": 136,
   "id": "b8ec9bc8",
   "metadata": {},
   "outputs": [
    {
     "data": {
      "text/plain": [
       "[[1666, 2222, 1666], [3333, 4443, 3333], [1666, 2222, 1666]]"
      ]
     },
     "execution_count": 136,
     "metadata": {},
     "output_type": "execute_result"
    }
   ],
   "source": [
    "lst_1"
   ]
  },
  {
   "cell_type": "code",
   "execution_count": 139,
   "id": "ab3ad255",
   "metadata": {},
   "outputs": [
    {
     "name": "stdout",
     "output_type": "stream",
     "text": [
      "8\n",
      "15\n",
      "8\n",
      "10\n",
      "21\n",
      "10\n",
      "8\n",
      "15\n",
      "8\n",
      "46\n",
      "93\n",
      "46\n",
      "62\n",
      "123\n",
      "62\n",
      "46\n",
      "93\n",
      "46\n",
      "278\n",
      "555\n",
      "278\n",
      "370\n",
      "741\n",
      "370\n",
      "278\n",
      "555\n",
      "278\n",
      "1666\n",
      "3333\n",
      "1666\n",
      "2222\n",
      "4443\n",
      "2222\n",
      "1666\n",
      "3333\n",
      "1666\n"
     ]
    }
   ],
   "source": [
    "lst_1 = lst.copy()\n",
    "\n",
    "while m > 1 :\n",
    "\n",
    "\n",
    "    for i in range(len(lst)):\n",
    "\n",
    "        for j in range(len(lst[i])):\n",
    "            sum = 0\n",
    "\n",
    "            for k in range(len(lst)):\n",
    "\n",
    "                sum += lst_1[j][k]*lst[k][i]\n",
    "\n",
    "            lst_2[j][i] = sum\n",
    "            print(sum)\n",
    "            \n",
    "    lst_1 = lst_2.copy()\n",
    "    \n",
    "    m -= 1\n",
    "\n",
    "    if m > 1:\n",
    "        lst_2 = []\n",
    "        for i in range(n):\n",
    "            lst_2.append([0] * n)    "
   ]
  },
  {
   "cell_type": "code",
   "execution_count": 138,
   "id": "da0d60c6",
   "metadata": {},
   "outputs": [],
   "source": [
    "m = 5"
   ]
  },
  {
   "cell_type": "code",
   "execution_count": 140,
   "id": "c11797d6",
   "metadata": {},
   "outputs": [
    {
     "name": "stdout",
     "output_type": "stream",
     "text": [
      "1666 2222 1666 \n",
      "3333 4443 3333 \n",
      "1666 2222 1666 \n"
     ]
    }
   ],
   "source": [
    "for i in range(len(lst_2)):\n",
    "    for j in range(len(lst_2[i])):\n",
    "        print(lst_2[i][j], end = ' ')\n",
    "    print()"
   ]
  },
  {
   "cell_type": "code",
   "execution_count": 130,
   "id": "93ec1262",
   "metadata": {},
   "outputs": [
    {
     "data": {
      "text/plain": [
       "1"
      ]
     },
     "execution_count": 130,
     "metadata": {},
     "output_type": "execute_result"
    }
   ],
   "source": [
    "m"
   ]
  },
  {
   "cell_type": "code",
   "execution_count": null,
   "id": "3075b160",
   "metadata": {},
   "outputs": [],
   "source": []
  },
  {
   "cell_type": "code",
   "execution_count": null,
   "id": "228dd9b2",
   "metadata": {},
   "outputs": [],
   "source": []
  },
  {
   "cell_type": "code",
   "execution_count": null,
   "id": "fb8616ea",
   "metadata": {},
   "outputs": [],
   "source": []
  },
  {
   "cell_type": "code",
   "execution_count": null,
   "id": "c0f23dc2",
   "metadata": {},
   "outputs": [],
   "source": []
  },
  {
   "cell_type": "code",
   "execution_count": null,
   "id": "aeef8b24",
   "metadata": {},
   "outputs": [],
   "source": []
  },
  {
   "cell_type": "code",
   "execution_count": null,
   "id": "660af916",
   "metadata": {},
   "outputs": [],
   "source": []
  }
 ],
 "metadata": {
  "kernelspec": {
   "display_name": "Python 3 (ipykernel)",
   "language": "python",
   "name": "python3"
  },
  "language_info": {
   "codemirror_mode": {
    "name": "ipython",
    "version": 3
   },
   "file_extension": ".py",
   "mimetype": "text/x-python",
   "name": "python",
   "nbconvert_exporter": "python",
   "pygments_lexer": "ipython3",
   "version": "3.10.2"
  }
 },
 "nbformat": 4,
 "nbformat_minor": 5
}
