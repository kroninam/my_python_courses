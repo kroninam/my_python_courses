{
 "cells": [
  {
   "cell_type": "markdown",
   "id": "edca3145",
   "metadata": {},
   "source": [
    "# Задача №1"
   ]
  },
  {
   "cell_type": "code",
   "execution_count": 4,
   "id": "04963336",
   "metadata": {},
   "outputs": [],
   "source": [
    "# Случайные числа\n",
    "# Напишите программу, записывающую в текстовый файл random.txt \n",
    "\n",
    "# 25 случайных чисел в диапазоне от \n",
    "\n",
    "# 111 до \n",
    "# 777 (включительно), каждое с новой строки.\n",
    "\n",
    "# Формат входных данных\n",
    "# На вход программе ничего не подается.\n",
    "\n",
    "# Формат выходных данных\n",
    "# Программа должна создать файл с именем random.txt и записать в него случайные числа в соответствии с условием задачи.\n",
    "\n",
    "# Примечание 1. Считайте, что исполняемая программа и указанный файл находятся в одной папке.\n",
    "\n",
    "# Примечание 2. Для генерации случайных чисел используйте модуль random."
   ]
  },
  {
   "cell_type": "code",
   "execution_count": 9,
   "id": "c0871fbf",
   "metadata": {},
   "outputs": [],
   "source": [
    "import random\n",
    "s = ''\n",
    "for i in range(25):\n",
    "    s += str(random.randrange(111,778))"
   ]
  },
  {
   "cell_type": "code",
   "execution_count": 10,
   "id": "741114de",
   "metadata": {},
   "outputs": [
    {
     "data": {
      "text/plain": [
       "'703670149699460471578389557184752608720449705147324295442198281614301328514'"
      ]
     },
     "execution_count": 10,
     "metadata": {},
     "output_type": "execute_result"
    }
   ],
   "source": [
    "s"
   ]
  },
  {
   "cell_type": "code",
   "execution_count": 15,
   "id": "299a69bb",
   "metadata": {},
   "outputs": [],
   "source": [
    "with open('random.txt', 'w') as file:\n",
    "    for i in range(24):\n",
    "        file.write(str(random.randrange(111,778)))\n",
    "        file.write('\\n')\n",
    "    file.write(str(random.randrange(111,778)))"
   ]
  },
  {
   "cell_type": "code",
   "execution_count": 16,
   "id": "e2e75bd4",
   "metadata": {},
   "outputs": [
    {
     "name": "stdout",
     "output_type": "stream",
     "text": [
      "536\n",
      "196\n",
      "507\n",
      "222\n",
      "523\n",
      "135\n",
      "194\n",
      "219\n",
      "408\n",
      "453\n",
      "178\n",
      "656\n",
      "499\n",
      "260\n",
      "365\n",
      "300\n",
      "184\n",
      "452\n",
      "595\n",
      "432\n",
      "718\n",
      "773\n",
      "763\n",
      "307\n",
      "249\n"
     ]
    }
   ],
   "source": [
    "with open('random.txt') as file:\n",
    "    print(file.read())"
   ]
  },
  {
   "cell_type": "code",
   "execution_count": null,
   "id": "01a8a56d",
   "metadata": {},
   "outputs": [],
   "source": []
  },
  {
   "cell_type": "markdown",
   "id": "b9bb59ae",
   "metadata": {},
   "source": [
    "# Задача №2"
   ]
  },
  {
   "cell_type": "code",
   "execution_count": null,
   "id": "ef6ac125",
   "metadata": {},
   "outputs": [],
   "source": [
    "Нумерация строк\n",
    "Вам доступен текстовый файл input.txt, состоящий из нескольких строк. \n",
    "Напишите программу для записи содержимого этого файла в файл output.txt \n",
    "в виде нумерованного списка, где перед каждой строкой стоит ее номер, символ ) и\n",
    "пробел. Нумерация строк должна начинаться с \n",
    "1.\n",
    "\n",
    "Формат входных данных\n",
    "На вход программе ничего не подается.\n",
    "\n",
    "Формат выходных данных\n",
    "Программа должна создать файл с именем output.txt и записать в него пронумерованные строки файла input.txt.\n",
    "\n",
    "Примечание 1. Считайте, что исполняемая программа и указанные файлы находятся в одной папке.\n",
    "\n",
    "Примечание 2. Используйте встроенную функцию enumerate().\n",
    "\n",
    "Примечание 3. Если бы файл input.txt содержал строки:\n",
    "\n",
    "Beautiful is better than ugly.\n",
    "Explicit is better than implicit.\n",
    "Simple is better than complex.\n",
    "Complex is better than complicated.\n",
    "то файл output.txt имел бы вид:\n",
    "\n",
    "1) Beautiful is better than ugly.\n",
    "2) Explicit is better than implicit.\n",
    "3) Simple is better than complex.\n",
    "4) Complex is better than complicated.\n"
   ]
  },
  {
   "cell_type": "code",
   "execution_count": 20,
   "id": "0bbf00b7",
   "metadata": {},
   "outputs": [
    {
     "data": {
      "text/plain": [
       "['abcd\\n',\n",
       " 'xcnvmnvkje\\n',\n",
       " '32432423\\n',\n",
       " 'sdflsdjkn34r43\\n',\n",
       " '345349854395#$%$#\\n',\n",
       " 'jksdfkjsdfkjsd\\n',\n",
       " 'lwerjlwerlkwe\\n',\n",
       " 'jwfhjkwehkjwefkjwebfjkwe\\n',\n",
       " 'djdddddddddddddddddddddddddddddddd\\n',\n",
       " '3249835438594390583490583490853490582349058340\\n',\n",
       " 'sdfsjkldflksdjaflkjsdflkjsdlfkjsdlfjsldfsldkfjlsdkfjls']"
      ]
     },
     "execution_count": 20,
     "metadata": {},
     "output_type": "execute_result"
    }
   ],
   "source": [
    "with open('files/input.txt') as file:\n",
    "    lst = file.readlines()\n",
    "lst  "
   ]
  },
  {
   "cell_type": "code",
   "execution_count": 23,
   "id": "cc6eb698",
   "metadata": {},
   "outputs": [
    {
     "name": "stdout",
     "output_type": "stream",
     "text": [
      "1) abcd\n",
      "2) xcnvmnvkje\n",
      "3) 32432423\n",
      "4) sdflsdjkn34r43\n",
      "5) 345349854395#$%$#\n",
      "6) jksdfkjsdfkjsd\n",
      "7) lwerjlwerlkwe\n",
      "8) jwfhjkwehkjwefkjwebfjkwe\n",
      "9) djdddddddddddddddddddddddddddddddd\n",
      "10) 3249835438594390583490583490853490582349058340\n",
      "11) sdfsjkldflksdjaflkjsdflkjsdlfkjsdlfjsldfsldkfjlsdkfjls\n"
     ]
    }
   ],
   "source": [
    "for i in range(len(lst)):\n",
    "    print(f'{i+1}) {lst[i].strip()}')        "
   ]
  },
  {
   "cell_type": "code",
   "execution_count": 25,
   "id": "14b5faf0",
   "metadata": {},
   "outputs": [],
   "source": [
    "with open('output.txt', 'w') as file:\n",
    "    for i in range(len(lst)):\n",
    "        file.write(f'{i+1}) {lst[i]}')  "
   ]
  },
  {
   "cell_type": "code",
   "execution_count": null,
   "id": "817c950f",
   "metadata": {},
   "outputs": [],
   "source": []
  },
  {
   "cell_type": "code",
   "execution_count": 26,
   "id": "2d1a04b4",
   "metadata": {},
   "outputs": [],
   "source": [
    "with open('output.txt', 'w') as file:\n",
    "    with open('files/input.txt') as file1:\n",
    "        lst = file1.readlines()\n",
    "    \n",
    "    for i in range(len(lst)):\n",
    "        file.write(f'{i+1}) {lst[i]}')  "
   ]
  },
  {
   "cell_type": "code",
   "execution_count": null,
   "id": "52f9b9cc",
   "metadata": {},
   "outputs": [],
   "source": []
  },
  {
   "cell_type": "markdown",
   "id": "450ca5bb",
   "metadata": {},
   "source": [
    "# Задача №3"
   ]
  },
  {
   "cell_type": "code",
   "execution_count": null,
   "id": "2839fa87",
   "metadata": {},
   "outputs": [],
   "source": [
    "Подарок на новый год\n",
    "Вам доступен текстовый файл class_scores.txt с оценками за итоговый тест на строках вида:\n",
    "    фамилия оценка (фамилия и оценка разделены пробелом). Оценка - целое число от\n",
    "0 до \n",
    "100 включительно.\n",
    "\n",
    "Напишите программу для добавления \n",
    "5\n",
    "5 баллов к каждому результату теста и вывода фамилий и новых результатов тестов в файл new_scores.txt.\n",
    "\n",
    "Формат входных данных\n",
    "На вход программе ничего не подается.\n",
    "\n",
    "Формат выходных данных\n",
    "Программа должна создать файл с именем new_scores.txt в соответствии с условием задачи.\n",
    "\n",
    "Примечание 1. Считайте, что исполняемая программа и указанные файлы находятся в одной папке.\n",
    "\n",
    "Примечание 2. Если бы файл class_scores.txt содержал строки:\n",
    "\n",
    "Washington 83\n",
    "Adams 86\n",
    "Kingsman 100\n",
    "MacDonald 95\n",
    "Thomson 98\n",
    "то файл new_scores.txt имел бы вид:\n",
    "\n",
    "Washington 88\n",
    "Adams 91\n",
    "Kingsman 100\n",
    "MacDonald 100\n",
    "Thomson 100"
   ]
  },
  {
   "cell_type": "code",
   "execution_count": 31,
   "id": "114368e4",
   "metadata": {},
   "outputs": [],
   "source": [
    "with open('files/class_scores.txt', encoding = 'utf-8') as file:\n",
    "    lst = file.readlines()"
   ]
  },
  {
   "cell_type": "code",
   "execution_count": 32,
   "id": "a2efd21e",
   "metadata": {},
   "outputs": [
    {
     "data": {
      "text/plain": [
       "['Гуев 100\\n',\n",
       " 'Маргиев 99\\n',\n",
       " 'Чаниев 95\\n',\n",
       " 'Тепсикоев 94\\n',\n",
       " 'Левитский 80\\n',\n",
       " 'Габолаев 0\\n',\n",
       " 'Хлюстова 10\\n',\n",
       " 'Гергиева 85']"
      ]
     },
     "execution_count": 32,
     "metadata": {},
     "output_type": "execute_result"
    }
   ],
   "source": [
    "lst"
   ]
  },
  {
   "cell_type": "code",
   "execution_count": 35,
   "id": "380d762b",
   "metadata": {},
   "outputs": [
    {
     "name": "stdout",
     "output_type": "stream",
     "text": [
      "Гуев 105\n",
      "Маргиев 104\n",
      "Чаниев 100\n",
      "Тепсикоев 99\n",
      "Левитский 85\n",
      "Габолаев 5\n",
      "Хлюстова 15\n",
      "Гергиева 90\n"
     ]
    }
   ],
   "source": [
    "for i in lst:\n",
    "    print(i.split()[0], int(i.split()[1].strip()) + 5)"
   ]
  },
  {
   "cell_type": "code",
   "execution_count": 40,
   "id": "4cc4c4fe",
   "metadata": {},
   "outputs": [],
   "source": [
    "with open('new_scores.txt', 'w', encoding = 'utf-8') as file1:\n",
    "    with open('files/class_scores.txt', encoding = 'utf-8') as file:\n",
    "        lst = file.readlines()\n",
    "    for i in lst:\n",
    "        if int(i.split()[1].strip()) + 5 > 100:\n",
    "            s = f'{i.split()[0]} 100\\n'\n",
    "        else:\n",
    "            s = f'{i.split()[0]} {int(i.split()[1].strip()) + 5}\\n'\n",
    "        file1.write(s)"
   ]
  },
  {
   "cell_type": "code",
   "execution_count": null,
   "id": "ec0252fd",
   "metadata": {},
   "outputs": [],
   "source": []
  },
  {
   "cell_type": "markdown",
   "id": "a622d847",
   "metadata": {},
   "source": [
    "# Задача №4"
   ]
  },
  {
   "cell_type": "code",
   "execution_count": null,
   "id": "0be9f6a2",
   "metadata": {},
   "outputs": [],
   "source": [
    "Вам доступен текстовый файл goats.txt в первой строке которого написано слово COLOURS,\n",
    "далее идет список всех возможных цветов козлов. Затем идет строка со словом GOATS, и \n",
    "далее непосредственно перечисление козлов разных цветов. Перечень козлов включает \n",
    "только строки из первого списка.\n",
    "\n",
    "Напишите программу создания файла answer.txt и вывода в него списка козлов, которые\n",
    "удовлетворяют условию загадки от Жака Фреско.\n",
    "\n",
    "Формат входных данных\n",
    "На вход программе ничего не подается.\n",
    "\n",
    "Формат выходных данных\n",
    "Программа должна создать файл с именем answer.txt и вывести в него в алфавитном порядке\n",
    "названия цветов козлов, которые удовлетворяют условию загадки Жака Фреско.\n",
    "\n",
    "Примечание 1. Считайте, что исполняемая программа и указанные файлы находятся в одной папке.\n",
    "\n",
    "Примечание 2. Если бы файл goats.txt содержал строки:\n",
    "\n",
    "COLOURS\n",
    "Pink goat\n",
    "Green goat\n",
    "Black goat\n",
    "GOATS\n",
    "Pink goat\n",
    "Pink goat\n",
    "Black goat\n",
    "Pink goat\n",
    "Pink goat\n",
    "Black goat\n",
    "Green goat\n",
    "Pink goat\n",
    "Black goat\n",
    "Black goat\n",
    "Pink goat\n",
    "Pink goat\n",
    "Black goat\n",
    "Black goat\n",
    "Pink goat\n",
    "то файл answer.txt имел бы вид:\n",
    "\n",
    "Black goat\n",
    "Pink goat"
   ]
  },
  {
   "cell_type": "code",
   "execution_count": 9,
   "id": "ddd54ad3",
   "metadata": {},
   "outputs": [],
   "source": [
    "with open('files/goats.txt') as file:\n",
    "    lst = file.read()    "
   ]
  },
  {
   "cell_type": "code",
   "execution_count": 11,
   "id": "b818ce5a",
   "metadata": {
    "scrolled": false
   },
   "outputs": [
    {
     "data": {
      "text/plain": [
       "'COLOURS\\nPink goat\\nGreen goat\\nBlack goat\\nWhite goat\\nOrange goat\\nRed goat\\n'"
      ]
     },
     "execution_count": 11,
     "metadata": {},
     "output_type": "execute_result"
    }
   ],
   "source": [
    "lst.split('GOATS\\n')[0]"
   ]
  },
  {
   "cell_type": "code",
   "execution_count": 16,
   "id": "53042687",
   "metadata": {},
   "outputs": [],
   "source": [
    "keys = []\n",
    "for i in lst.split('GOATS\\n')[0].strip().split('\\n')[1:]:\n",
    "    keys.append(i.strip())"
   ]
  },
  {
   "cell_type": "code",
   "execution_count": 43,
   "id": "0924e9ce",
   "metadata": {
    "scrolled": true
   },
   "outputs": [
    {
     "data": {
      "text/plain": [
       "{'Pink goat': 0,\n",
       " 'Green goat': 0,\n",
       " 'Black goat': 0,\n",
       " 'White goat': 0,\n",
       " 'Orange goat': 0,\n",
       " 'Red goat': 0}"
      ]
     },
     "execution_count": 43,
     "metadata": {},
     "output_type": "execute_result"
    }
   ],
   "source": [
    "d = dict.fromkeys(keys, 0)\n",
    "d"
   ]
  },
  {
   "cell_type": "code",
   "execution_count": null,
   "id": "8b2cb050",
   "metadata": {},
   "outputs": [],
   "source": []
  },
  {
   "cell_type": "code",
   "execution_count": 44,
   "id": "0d5254aa",
   "metadata": {},
   "outputs": [
    {
     "data": {
      "text/plain": [
       "'Red goat\\nPink goat\\nPink goat\\nPink goat\\nRed goat\\nPink goat\\nPink goat\\nPink goat\\nPink goat\\nPink goat\\nPink goat\\nPink goat\\nPink goat\\nPink goat\\nBlack goat\\nPink goat\\nPink goat\\nPink goat\\nRed goat\\nOrange goat\\nPink goat\\nPink goat\\nRed goat\\nBlack goat\\nPink goat\\nPink goat\\nPink goat\\nWhite goat\\nPink goat\\nPink goat\\nPink goat\\nPink goat\\nPink goat\\nPink goat\\nPink goat\\nPink goat\\nOrange goat\\nPink goat\\nPink goat\\nPink goat\\nPink goat\\nPink goat\\nPink goat\\nWhite goat\\nWhite goat\\nPink goat\\nWhite goat\\nPink goat\\nPink goat\\nOrange goat\\nPink goat\\nOrange goat\\nOrange goat\\nPink goat\\nPink goat\\nPink goat\\nGreen goat\\nOrange goat\\nOrange goat\\nPink goat\\nPink goat\\nPink goat\\nPink goat\\nPink goat\\nBlack goat\\nPink goat\\nPink goat\\nPink goat\\nPink goat\\nBlack goat\\nGreen goat\\nPink goat\\nPink goat\\nPink goat\\nPink goat\\nPink goat\\nPink goat\\nWhite goat\\nWhite goat\\nPink goat\\nPink goat\\nPink goat\\nPink goat\\nPink goat\\nPink goat\\nRed goat\\nPink goat\\nWhite goat\\nPink goat\\nPink goat\\nPink goat\\nWhite goat\\nPink goat\\nPink goat\\nPink goat\\nPink goat\\nBlack goat\\nPink goat\\nRed goat\\nPink goat'"
      ]
     },
     "execution_count": 44,
     "metadata": {},
     "output_type": "execute_result"
    }
   ],
   "source": [
    "lst.split('GOATS\\n')[1]"
   ]
  },
  {
   "cell_type": "code",
   "execution_count": 45,
   "id": "01c0de04",
   "metadata": {
    "scrolled": false
   },
   "outputs": [],
   "source": [
    "for i in lst.split('GOATS\\n')[1].strip().split('\\n'):\n",
    "    for k, w in d.items():     \n",
    "        if i.strip() == k:\n",
    "            #print (i.strip(), k, w)\n",
    "            d[k] += 1"
   ]
  },
  {
   "cell_type": "code",
   "execution_count": 46,
   "id": "fcf50e68",
   "metadata": {},
   "outputs": [
    {
     "data": {
      "text/plain": [
       "{'Pink goat': 72,\n",
       " 'Green goat': 2,\n",
       " 'Black goat': 5,\n",
       " 'White goat': 8,\n",
       " 'Orange goat': 7,\n",
       " 'Red goat': 6}"
      ]
     },
     "execution_count": 46,
     "metadata": {},
     "output_type": "execute_result"
    }
   ],
   "source": [
    "d"
   ]
  },
  {
   "cell_type": "code",
   "execution_count": 50,
   "id": "bd79b77e",
   "metadata": {},
   "outputs": [
    {
     "data": {
      "text/plain": [
       "100"
      ]
     },
     "execution_count": 50,
     "metadata": {},
     "output_type": "execute_result"
    }
   ],
   "source": [
    "sum(d.values())"
   ]
  },
  {
   "cell_type": "code",
   "execution_count": 52,
   "id": "ff36f5fd",
   "metadata": {},
   "outputs": [
    {
     "data": {
      "text/plain": [
       "7.0"
      ]
     },
     "execution_count": 52,
     "metadata": {},
     "output_type": "execute_result"
    }
   ],
   "source": [
    "sum(d.values())/100 * 7"
   ]
  },
  {
   "cell_type": "code",
   "execution_count": 55,
   "id": "cf2ccd79",
   "metadata": {},
   "outputs": [],
   "source": [
    "with open('answer.txt', 'w') as file:\n",
    "    for k, w in d.items():\n",
    "        if w > 7:\n",
    "            s = k + '\\n'\n",
    "            file.write(s)"
   ]
  },
  {
   "cell_type": "code",
   "execution_count": null,
   "id": "4de38f04",
   "metadata": {},
   "outputs": [],
   "source": []
  },
  {
   "cell_type": "markdown",
   "id": "13215016",
   "metadata": {},
   "source": [
    "# Задача №5"
   ]
  },
  {
   "cell_type": "code",
   "execution_count": null,
   "id": "c6e090d7",
   "metadata": {},
   "outputs": [],
   "source": [
    "Конкатенация файлов 🌶️\n",
    "На вход программе подается натуральное число \n",
    "n и \n",
    "n строк с названиями файлов. Напишите программу, которая создает файл output.txt и\n",
    "выводит в него содержимое всех файлов, не меняя их порядка. Смотрите Примечание 2 для понимания работы программы.\n",
    "\n",
    "Формат входных данных\n",
    "На вход программе подается натуральное число \n",
    "n и \n",
    "n строк названий существующих файлов.\n",
    "\n",
    "Формат выходных данных\n",
    "Программа должна создать файл с именем output.txt в соответствии с условием задачи.\n",
    "\n",
    "Примечание 1. Считайте, что исполняемая программа и указанные файлы находятся в одной папке.\n",
    "\n",
    "Примечание 2. Если бы на вход было подано \n",
    "2 файла и эти файлы содержали бы строки (обратите внимание, что в конце первого файла нет переноса строки)\n",
    "\n",
    "Early in the morning\n",
    "и\n",
    "\n",
    "we\n",
    "went\n",
    "for mushrooms\n",
    "то результирующий файл output.txt выглядел бы следующим образом:\n",
    "\n",
    "Early in the morningwe\n",
    "went\n",
    "for mushrooms"
   ]
  },
  {
   "cell_type": "code",
   "execution_count": 61,
   "id": "a4dbd062",
   "metadata": {},
   "outputs": [
    {
     "name": "stdout",
     "output_type": "stream",
     "text": [
      "2\n",
      "111.txt\n",
      "222.txt\n"
     ]
    }
   ],
   "source": [
    "n = int(input())\n",
    "\n",
    "lst = []\n",
    "for i in range(n):\n",
    "    lst.append(input())    "
   ]
  },
  {
   "cell_type": "code",
   "execution_count": 62,
   "id": "79377133",
   "metadata": {},
   "outputs": [
    {
     "data": {
      "text/plain": [
       "['111.txt', '222.txt']"
      ]
     },
     "execution_count": 62,
     "metadata": {},
     "output_type": "execute_result"
    }
   ],
   "source": [
    "lst"
   ]
  },
  {
   "cell_type": "code",
   "execution_count": 69,
   "id": "17ff2889",
   "metadata": {},
   "outputs": [],
   "source": [
    "with open ('output.txt', 'w') as file1:\n",
    "    for i in lst:\n",
    "        with open(f'files/{i}') as file:\n",
    "            file1.write(file.read())"
   ]
  },
  {
   "cell_type": "code",
   "execution_count": null,
   "id": "36616c27",
   "metadata": {},
   "outputs": [],
   "source": []
  },
  {
   "cell_type": "markdown",
   "id": "accf960a",
   "metadata": {},
   "source": [
    "# Задача №6"
   ]
  },
  {
   "cell_type": "code",
   "execution_count": null,
   "id": "4035f304",
   "metadata": {},
   "outputs": [],
   "source": [
    "Лог файл 🌶️\n",
    "Вам доступен текстовый файл logfile.txt с информацией о времени входа пользователя\n",
    "в систему и выхода из нее. Каждая строка файла содержит три значения, разделенные \n",
    "запятыми и символом пробела: имя пользователя, время входа, время выхода, где время указано в \n",
    "24-часовом формате.\n",
    "\n",
    "Напишите программу, которая создает файл output.txt и выводит в него имена всех пользователей\n",
    "(не меняя порядка следования), которые были в сети не менее часа.\n",
    "\n",
    "Формат входных данных\n",
    "На вход программе ничего не подается.\n",
    "\n",
    "Формат выходных данных\n",
    "Программа должна создать файл с именем output.txt в соответствии с условием задачи.\n",
    "\n",
    "Примечание 1. Считайте, что исполняемая программа и указанные файлы находятся в одной папке.\n",
    "\n",
    "Примечание 2. Считайте, что каждый пользователь был только раз в системе, то есть в файле нет\n",
    "двух строк с одинаковым пользователем.\n",
    "\n",
    "Примечание 3. Если бы файл logfile.txt содержал строки:\n",
    "\n",
    "Тимур Гуев, 14:10, 15:50\n",
    "Руслан Гриценко, 12:00, 12:59\n",
    "Роман Гацалов, 09:10, 17:45\n",
    "Габолаев Георгий, 11:10, 12:10\n",
    "то файл output.txt имел бы вид:\n",
    "\n",
    "Тимур Гуев\n",
    "Роман Гацалов\n",
    "Габолаев Георгий"
   ]
  },
  {
   "cell_type": "code",
   "execution_count": 75,
   "id": "b74cdcfa",
   "metadata": {},
   "outputs": [],
   "source": [
    "with open('files/logfile.txt', encoding = 'utf-8') as file:\n",
    "    lst = file.readlines()"
   ]
  },
  {
   "cell_type": "code",
   "execution_count": 76,
   "id": "54eebcaa",
   "metadata": {},
   "outputs": [
    {
     "data": {
      "text/plain": [
       "['Тимур Гуев, 14:10, 15:50\\n',\n",
       " 'Джагмаидзе Ирбек, 00:00, 00:59\\n',\n",
       " 'Руслан Гриценко, 12:00, 12:59\\n',\n",
       " 'Роман Гацалов, 09:10, 17:45\\n',\n",
       " 'Габолаев Георгий, 11:10, 12:10\\n',\n",
       " 'Гергиева Светлана, 09:10, 21:45\\n',\n",
       " 'Гуева Лариса, 07:05, 08:05\\n',\n",
       " 'Засеев Ирбек, 00:00, 01:00\\n',\n",
       " 'Гуева Лиза, 09:05, 10:05\\n',\n",
       " 'Харисов Артур, 19:07, 20:07\\n',\n",
       " 'Джабиев Алан, 17:56, 18:55\\n',\n",
       " 'Янченко Роман, 00:00, 01:01']"
      ]
     },
     "execution_count": 76,
     "metadata": {},
     "output_type": "execute_result"
    }
   ],
   "source": [
    "lst"
   ]
  },
  {
   "cell_type": "code",
   "execution_count": 90,
   "id": "66a89c9a",
   "metadata": {},
   "outputs": [
    {
     "data": {
      "text/plain": [
       "['Джагмаидзе Ирбек', ' 00:00', ' 00:59']"
      ]
     },
     "execution_count": 90,
     "metadata": {},
     "output_type": "execute_result"
    }
   ],
   "source": [
    "lst[1].strip().split(',')"
   ]
  },
  {
   "cell_type": "code",
   "execution_count": 91,
   "id": "8e3dff50",
   "metadata": {},
   "outputs": [
    {
     "data": {
      "text/plain": [
       "0"
      ]
     },
     "execution_count": 91,
     "metadata": {},
     "output_type": "execute_result"
    }
   ],
   "source": [
    "int(lst[1].strip().split(',')[1].strip().replace(':', ''))"
   ]
  },
  {
   "cell_type": "code",
   "execution_count": 93,
   "id": "999287b8",
   "metadata": {},
   "outputs": [
    {
     "data": {
      "text/plain": [
       "59"
      ]
     },
     "execution_count": 93,
     "metadata": {},
     "output_type": "execute_result"
    }
   ],
   "source": [
    "int(lst[1].strip().split(',')[2].strip().replace(':', ''))"
   ]
  },
  {
   "cell_type": "code",
   "execution_count": 94,
   "id": "9571b5da",
   "metadata": {},
   "outputs": [
    {
     "data": {
      "text/plain": [
       "140"
      ]
     },
     "execution_count": 94,
     "metadata": {},
     "output_type": "execute_result"
    }
   ],
   "source": [
    "int(lst[0].strip().split(',')[2].strip().replace(':', '')) - int(lst[0].strip().split(',')[1].strip().replace(':', ''))"
   ]
  },
  {
   "cell_type": "code",
   "execution_count": null,
   "id": "e5ded1a7",
   "metadata": {},
   "outputs": [],
   "source": []
  },
  {
   "cell_type": "code",
   "execution_count": null,
   "id": "cddbe485",
   "metadata": {},
   "outputs": [],
   "source": [
    "with open('output.txt', 'w') as file1:\n",
    "    \n",
    "\n",
    "    with open('files/logfile.txt', encoding = 'utf-8') as file:\n",
    "        lst = file.readlines()\n",
    "        \n",
    "        for i in range(len(lst)):\n",
    "            if int(lst[i].strip().split(',')[2].strip().replace(':', '')) - int(lst[i].strip().split(',')[1].strip().replace(':', '')) >= 60:\n",
    "                file1.write(lst[i].split(',')[0])\n",
    "            "
   ]
  },
  {
   "cell_type": "code",
   "execution_count": 99,
   "id": "82262788",
   "metadata": {},
   "outputs": [
    {
     "name": "stdout",
     "output_type": "stream",
     "text": [
      "Тимур Гуев\n",
      "Роман Гацалов\n",
      "Габолаев Георгий\n",
      "Гергиева Светлана\n",
      "Гуева Лариса\n",
      "Засеев Ирбек\n",
      "Гуева Лиза\n",
      "Харисов Артур\n",
      "Джабиев Алан\n",
      "Янченко Роман\n"
     ]
    }
   ],
   "source": [
    "with open('files/logfile.txt', encoding = 'utf-8') as file:\n",
    "        lst = file.readlines()\n",
    "        \n",
    "        for i in range(len(lst)):\n",
    "            if int(lst[i].strip().split(',')[2].strip().replace(':', '')) - int(lst[i].strip().split(',')[1].strip().replace(':', '')) > 60:\n",
    "                print(lst[i].split(',')[0])\n",
    "            "
   ]
  },
  {
   "cell_type": "code",
   "execution_count": 112,
   "id": "0e56d39f",
   "metadata": {},
   "outputs": [],
   "source": [
    "with open('output.txt', 'w') as file1:\n",
    "    \n",
    "\n",
    "    with open('files/logfile.txt', encoding = 'utf-8') as file:\n",
    "        lst = file.readlines()\n",
    "        \n",
    "        for i in range(len(lst)):\n",
    "            tim = int(lst[i].strip().split(',')[2].strip().replace(':', '')) - int(lst[i].strip().split(',')[1].strip().replace(':', ''))\n",
    "            if tim >= 100:\n",
    "                s = lst[i].split(',')[0] + '\\n'\n",
    "                file1.write(s)"
   ]
  },
  {
   "cell_type": "code",
   "execution_count": null,
   "id": "f32b0b07",
   "metadata": {},
   "outputs": [],
   "source": []
  }
 ],
 "metadata": {
  "kernelspec": {
   "display_name": "Python 3 (ipykernel)",
   "language": "python",
   "name": "python3"
  },
  "language_info": {
   "codemirror_mode": {
    "name": "ipython",
    "version": 3
   },
   "file_extension": ".py",
   "mimetype": "text/x-python",
   "name": "python",
   "nbconvert_exporter": "python",
   "pygments_lexer": "ipython3",
   "version": "3.10.2"
  }
 },
 "nbformat": 4,
 "nbformat_minor": 5
}
