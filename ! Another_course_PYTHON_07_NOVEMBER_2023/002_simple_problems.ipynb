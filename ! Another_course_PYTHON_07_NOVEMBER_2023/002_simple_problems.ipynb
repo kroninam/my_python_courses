{
 "cells": [
  {
   "cell_type": "markdown",
   "id": "e93b8316",
   "metadata": {},
   "source": [
    "# Задача №1"
   ]
  },
  {
   "cell_type": "code",
   "execution_count": null,
   "id": "21acaa4f",
   "metadata": {},
   "outputs": [],
   "source": [
    "Дан набор точек на координатной плоскости. Необходимо подсчитать и вывести количество \n",
    "точек, лежащих в каждой координатной четверти.\n",
    "\n",
    "Формат входных данных\n",
    "В первой строке записано количество точек. Каждая следующая строка состоит\n",
    "из двух целых чисел — координат точки (сначала абсцисса – \n",
    "\n",
    "x, затем ордината – \n",
    "\n",
    "y), разделенных символом пробела.\n",
    "\n",
    "Формат выходных данных\n",
    "Программа должна вывести количество точек, лежащих в каждой координатной четверти, как в примерах.\n",
    "\n",
    "Примечание. Учтите, что точки, лежащие на осях координат, не принято относить к какой-либо координатной четверти.\n",
    "\n",
    "Sample Input 1:\n",
    "    \n",
    "4\n",
    "0 -1\n",
    "1 2\n",
    "0 9\n",
    "-9 -5\n",
    "\n",
    "\n",
    "Sample Output 1:\n",
    "    \n",
    "Первая четверть: 1\n",
    "Вторая четверть: 0\n",
    "Третья четверть: 1\n",
    "Четвертая четверть: 0"
   ]
  },
  {
   "cell_type": "code",
   "execution_count": 13,
   "id": "7f617b55",
   "metadata": {},
   "outputs": [
    {
     "name": "stdout",
     "output_type": "stream",
     "text": [
      "4\n",
      "0 -1\n",
      "1 2\n",
      "0 9\n",
      "-9 -5\n",
      "Первая четверть: 1\n",
      "Вторая четверть: 0\n",
      "Третья четверть: 1\n",
      "Четвертая четверть: 0\n"
     ]
    }
   ],
   "source": [
    "a1 = 0\n",
    "a2 = 0\n",
    "a3 = 0\n",
    "a4 = 0\n",
    "\n",
    "n = int(input())\n",
    "\n",
    "for i in range(n):\n",
    "    s = input().split()\n",
    "    x = int(s[0])\n",
    "    y = int(s[1])\n",
    "     \n",
    "    \n",
    "    if x > 0 and y > 0:\n",
    "        a1 += 1\n",
    "        \n",
    "    elif x < 0 and y > 0:\n",
    "        a2 += 1\n",
    "        \n",
    "    elif x < 0 and y < 0:\n",
    "        a3 += 1\n",
    "        \n",
    "    elif x > 0 and y < 0:\n",
    "        a4 += 1\n",
    "        \n",
    "print('Первая четверть:', a1)\n",
    "print('Вторая четверть:', a2)\n",
    "print('Третья четверть:', a3)\n",
    "print('Четвертая четверть:', a4)\n"
   ]
  },
  {
   "cell_type": "code",
   "execution_count": null,
   "id": "0afe0eaf",
   "metadata": {},
   "outputs": [],
   "source": []
  },
  {
   "cell_type": "markdown",
   "id": "6ef44579",
   "metadata": {},
   "source": [
    "# Задача №2"
   ]
  },
  {
   "cell_type": "code",
   "execution_count": null,
   "id": "82e96fde",
   "metadata": {},
   "outputs": [],
   "source": [
    "На вход программе подается строка текста из натуральных чисел. \n",
    "Из неё формируется список чисел. Напишите программу подсчета количества \n",
    "чисел, которые больше предшествующего им в этом списке числа. \n",
    "\n",
    "Формат входных данных\n",
    "На вход программе подается строка текста из разделенных пробелами натуральных чисел.\n",
    "\n",
    "Формат выходных данных\n",
    "Программа должна вывести одно число – количество элементов списка, больших предыдущего."
   ]
  },
  {
   "cell_type": "code",
   "execution_count": 16,
   "id": "08e9d377",
   "metadata": {},
   "outputs": [
    {
     "name": "stdout",
     "output_type": "stream",
     "text": [
      "1 2 3 4 5\n"
     ]
    }
   ],
   "source": [
    "lst = list(map(int, input(). split()))"
   ]
  },
  {
   "cell_type": "code",
   "execution_count": 17,
   "id": "afb1468f",
   "metadata": {},
   "outputs": [
    {
     "data": {
      "text/plain": [
       "[1, 2, 3, 4, 5]"
      ]
     },
     "execution_count": 17,
     "metadata": {},
     "output_type": "execute_result"
    }
   ],
   "source": [
    "lst"
   ]
  },
  {
   "cell_type": "code",
   "execution_count": 21,
   "id": "dd5e90e3",
   "metadata": {},
   "outputs": [
    {
     "name": "stdout",
     "output_type": "stream",
     "text": [
      "4\n"
     ]
    }
   ],
   "source": [
    "count = 0\n",
    "\n",
    "for i in range(len(lst) - 1):\n",
    "    if lst[i + 1] > lst[i]:\n",
    "        count += 1\n",
    "        \n",
    "print(count)"
   ]
  },
  {
   "cell_type": "code",
   "execution_count": null,
   "id": "beacd9b1",
   "metadata": {},
   "outputs": [],
   "source": []
  },
  {
   "cell_type": "markdown",
   "id": "40e74b00",
   "metadata": {},
   "source": [
    "# Задача №3"
   ]
  },
  {
   "cell_type": "code",
   "execution_count": null,
   "id": "2c590fbd",
   "metadata": {},
   "outputs": [],
   "source": [
    "На вход программе подается строка текста из натуральных чисел. \n",
    "\n",
    "Из элементов строки формируется список чисел. Напишите программу, \n",
    "\n",
    "которая меняет местами соседние элементы списка (a[0] c a[1], a[2] c a[3] и т.д.). \n",
    "\n",
    "Если в списке нечетное количество элементов, то последний остается на своем месте."
   ]
  },
  {
   "cell_type": "code",
   "execution_count": null,
   "id": "213affcf",
   "metadata": {},
   "outputs": [],
   "source": []
  },
  {
   "cell_type": "code",
   "execution_count": 35,
   "id": "0055ed46",
   "metadata": {},
   "outputs": [
    {
     "name": "stdout",
     "output_type": "stream",
     "text": [
      "1\n"
     ]
    }
   ],
   "source": [
    "lst = list(map(int, input().split()))"
   ]
  },
  {
   "cell_type": "code",
   "execution_count": 36,
   "id": "38b3cd53",
   "metadata": {},
   "outputs": [
    {
     "data": {
      "text/plain": [
       "[1]"
      ]
     },
     "execution_count": 36,
     "metadata": {},
     "output_type": "execute_result"
    }
   ],
   "source": [
    "lst"
   ]
  },
  {
   "cell_type": "code",
   "execution_count": 38,
   "id": "1fbfea9f",
   "metadata": {},
   "outputs": [
    {
     "name": "stdout",
     "output_type": "stream",
     "text": [
      "[1]\n"
     ]
    }
   ],
   "source": [
    "lst_2 = []\n",
    "\n",
    "if len(lst)%2 == 0:\n",
    "\n",
    "    x = 0\n",
    "\n",
    "    while x < len(lst) - 1:\n",
    "        lst_2.append(lst[x+1])\n",
    "        lst_2.append(lst[x])\n",
    "        x += 2\n",
    "\n",
    "    print(lst_2)\n",
    "    \n",
    "else:\n",
    "    x = 0\n",
    "\n",
    "    while x < len(lst) - 1:\n",
    "        lst_2.append(lst[x+1])\n",
    "        lst_2.append(lst[x])\n",
    "        x += 2\n",
    "    lst_2.append(lst[-1])\n",
    "    print(lst_2)\n",
    "    \n"
   ]
  },
  {
   "cell_type": "code",
   "execution_count": null,
   "id": "df096e81",
   "metadata": {},
   "outputs": [],
   "source": []
  },
  {
   "cell_type": "code",
   "execution_count": null,
   "id": "eef84df6",
   "metadata": {},
   "outputs": [],
   "source": []
  },
  {
   "cell_type": "markdown",
   "id": "ad7c19f7",
   "metadata": {},
   "source": [
    "# Задача №4"
   ]
  },
  {
   "cell_type": "code",
   "execution_count": null,
   "id": "63ee6cc7",
   "metadata": {},
   "outputs": [],
   "source": [
    "На вход программе подается строка текста из натуральных чисел. \n",
    "Из элементов строки формируется список чисел. Напишите программу \n",
    "циклического сдвига элементов списка направо, когда последний элемент \n",
    "становится первым, а остальные сдвигаются на одну позицию вперед, в сторону увеличения индексов.\n",
    "\n",
    "Формат входных данных\n",
    "На вход программе подается строка текста из разделенных пробелами натуральных чисел.\n",
    "\n",
    "Формат выходных данных\n",
    "Программа должна вывести элементы измененного списка с циклическим сдвигом,\n",
    "разделяя его элементы одним пробелом."
   ]
  },
  {
   "cell_type": "code",
   "execution_count": 44,
   "id": "1eeaf923",
   "metadata": {},
   "outputs": [
    {
     "name": "stdout",
     "output_type": "stream",
     "text": [
      "1 2 3 4 5\n"
     ]
    }
   ],
   "source": [
    "s = list(map(int, input().split()))"
   ]
  },
  {
   "cell_type": "code",
   "execution_count": 45,
   "id": "b2aa7522",
   "metadata": {},
   "outputs": [],
   "source": [
    "s.insert(0, s.pop())"
   ]
  },
  {
   "cell_type": "code",
   "execution_count": 46,
   "id": "ed754dc1",
   "metadata": {},
   "outputs": [
    {
     "data": {
      "text/plain": [
       "[5, 1, 2, 3, 4]"
      ]
     },
     "execution_count": 46,
     "metadata": {},
     "output_type": "execute_result"
    }
   ],
   "source": [
    "s"
   ]
  },
  {
   "cell_type": "code",
   "execution_count": null,
   "id": "4cb762c9",
   "metadata": {},
   "outputs": [],
   "source": []
  },
  {
   "cell_type": "code",
   "execution_count": null,
   "id": "0bb37c81",
   "metadata": {},
   "outputs": [],
   "source": []
  },
  {
   "cell_type": "markdown",
   "id": "7815e134",
   "metadata": {},
   "source": [
    "# Задача №5"
   ]
  },
  {
   "cell_type": "code",
   "execution_count": null,
   "id": "bf8ac399",
   "metadata": {},
   "outputs": [],
   "source": [
    "На вход программе подается строка текста, содержащая натуральные числа, \n",
    "расположенные по неубыванию. Из строки формируется список чисел. \n",
    "Напишите программу для подсчета количества разных элементов в списке.\n",
    "\n",
    "Формат входных данных\n",
    "На вход программе подается строка текста, содержащая натуральные числа, \n",
    "разделенные символом пробела, расположенные по неубыванию.\n",
    "\n",
    "Формат выходных данных\n",
    "Программа должна вывести одно число – количество различных элементов списка."
   ]
  },
  {
   "cell_type": "code",
   "execution_count": 53,
   "id": "e2ea255c",
   "metadata": {},
   "outputs": [
    {
     "name": "stdout",
     "output_type": "stream",
     "text": [
      "1 1 1 2 2 2 2 3 3 3\n"
     ]
    }
   ],
   "source": [
    "s = list(map(int, input().split()))"
   ]
  },
  {
   "cell_type": "code",
   "execution_count": 54,
   "id": "2a8cf286",
   "metadata": {},
   "outputs": [
    {
     "data": {
      "text/plain": [
       "[1, 1, 1, 2, 2, 2, 2, 3, 3, 3]"
      ]
     },
     "execution_count": 54,
     "metadata": {},
     "output_type": "execute_result"
    }
   ],
   "source": [
    "s"
   ]
  },
  {
   "cell_type": "code",
   "execution_count": 56,
   "id": "b7bf10b5",
   "metadata": {},
   "outputs": [
    {
     "name": "stdout",
     "output_type": "stream",
     "text": [
      "3\n"
     ]
    }
   ],
   "source": [
    "import pandas as pd\n",
    "ss = pd.Series(s)\n",
    "print(len(ss.unique()))"
   ]
  },
  {
   "cell_type": "code",
   "execution_count": 60,
   "id": "5b6e83bb",
   "metadata": {},
   "outputs": [
    {
     "data": {
      "text/plain": [
       "3"
      ]
     },
     "execution_count": 60,
     "metadata": {},
     "output_type": "execute_result"
    }
   ],
   "source": [
    "len(set(s))"
   ]
  },
  {
   "cell_type": "code",
   "execution_count": null,
   "id": "c06c4029",
   "metadata": {},
   "outputs": [],
   "source": []
  },
  {
   "cell_type": "markdown",
   "id": "6f044790",
   "metadata": {},
   "source": [
    "# Задача №6"
   ]
  },
  {
   "cell_type": "code",
   "execution_count": null,
   "id": "d86d88e8",
   "metadata": {},
   "outputs": [],
   "source": [
    "Напишите программу для определения, является ли число произведением \n",
    "двух чисел из данного набора. \n",
    "\n",
    "Программа должна выводить результат в виде ответа «ДА» или «НЕТ».\n",
    "\n",
    "Формат входных данных\n",
    "В первой строке подаётся число n\n",
    "В последующих n строках вводятся целые числа, составляющие набор (могут повторяться). \n",
    "\n",
    "Затем следует целое число, которое является или не является произведением двух каких-то чисел из набора.\n",
    "\n",
    "Формат выходных данных\n",
    "Программа должна вывести «ДА» или «НЕТ» в соответствии с условием задачи.\n",
    "\n",
    "Примечание 1. Само на себя число из набора умножиться не может. \n",
    "Другими словами, два множителя должны иметь разные индексы в наборе.\n",
    "\n",
    "Примечание 2. Для решения задачи используйте вложенные циклы."
   ]
  },
  {
   "cell_type": "code",
   "execution_count": null,
   "id": "4fcf4902",
   "metadata": {},
   "outputs": [],
   "source": [
    "3\n",
    "1\n",
    "5\n",
    "1\n",
    "25"
   ]
  },
  {
   "cell_type": "code",
   "execution_count": 67,
   "id": "8a0ae76a",
   "metadata": {},
   "outputs": [
    {
     "name": "stdout",
     "output_type": "stream",
     "text": [
      "3\n",
      "1\n",
      "5\n",
      "1\n",
      "25\n",
      "НЕТ\n"
     ]
    }
   ],
   "source": [
    "n = int(input())\n",
    "\n",
    "lst = []\n",
    "kost = 0\n",
    "\n",
    "for i in range(n):    \n",
    "    lst.append(int(input()))\n",
    "    \n",
    "q = int(input())\n",
    "    \n",
    "for i in range(len(lst)):\n",
    "    for j in range(len(lst) - 1):\n",
    "        if i != j+1 and q == lst[i] * lst[j+1]:\n",
    "            print('ДА')\n",
    "            kost += 1\n",
    "            break\n",
    "            \n",
    "    if kost == 1:\n",
    "        break\n",
    "if kost == 0:\n",
    "    print('НЕТ')  "
   ]
  },
  {
   "cell_type": "code",
   "execution_count": 63,
   "id": "e2aa586e",
   "metadata": {},
   "outputs": [
    {
     "data": {
      "text/plain": [
       "[1, 5, 1]"
      ]
     },
     "execution_count": 63,
     "metadata": {},
     "output_type": "execute_result"
    }
   ],
   "source": [
    "lst"
   ]
  },
  {
   "cell_type": "code",
   "execution_count": 66,
   "id": "a820e7f5",
   "metadata": {},
   "outputs": [
    {
     "data": {
      "text/plain": [
       "5"
      ]
     },
     "execution_count": 66,
     "metadata": {},
     "output_type": "execute_result"
    }
   ],
   "source": [
    "lst[2] * lst[1+1]"
   ]
  },
  {
   "cell_type": "code",
   "execution_count": null,
   "id": "011b5f49",
   "metadata": {},
   "outputs": [],
   "source": []
  },
  {
   "cell_type": "markdown",
   "id": "bfe4f8de",
   "metadata": {},
   "source": [
    "# Задача №7"
   ]
  },
  {
   "cell_type": "code",
   "execution_count": null,
   "id": "c90c77f4",
   "metadata": {},
   "outputs": [],
   "source": [
    "Камень, ножницы, бумага\n",
    "\n",
    "    \n",
    "Формат входных данных\n",
    "На вход программе подаются две строки текста, содержащие слова \"камень\", \"ножницы\" или \"бумага\". \n",
    "\n",
    "На первой строке записан выбор Тимура, на второй – выбор Руслана.\n",
    "\n",
    "Формат выходных данных\n",
    "Программа должна вывести результат жеребьёвки, то есть кто победит: Тимур, Руслан или же они сыграют вничью.\n",
    "\n",
    "Примечание. Правила игры стандартные: камень побеждает ножницы, но проигрывает бумаге, а ножницы побеждают бумагу."
   ]
  },
  {
   "cell_type": "code",
   "execution_count": 70,
   "id": "a35ca1f0",
   "metadata": {},
   "outputs": [
    {
     "ename": "IndentationError",
     "evalue": "expected an indented block after 'if' statement on line 7 (3304129699.py, line 7)",
     "output_type": "error",
     "traceback": [
      "\u001b[1;36m  Cell \u001b[1;32mIn[70], line 7\u001b[1;36m\u001b[0m\n\u001b[1;33m    if tim == 'камень' or rus == 'камень':\u001b[0m\n\u001b[1;37m                                          ^\u001b[0m\n\u001b[1;31mIndentationError\u001b[0m\u001b[1;31m:\u001b[0m expected an indented block after 'if' statement on line 7\n"
     ]
    }
   ],
   "source": [
    "tim = input()\n",
    "rus = input()\n",
    "\n",
    "if tim == rus:\n",
    "    print('ничья')\n",
    "    \n",
    "if tim == 'камень' or rus == 'камень':\n",
    "    if tim == 'бумага':\n",
    "        print('Тимур')\n",
    "    if rus == 'бумага':\n",
    "        print('Руслан')\n",
    "        \n",
    "    if tim == 'ножницы':\n",
    "        print('Руслан')\n",
    "    if rus == 'ножницы':\n",
    "        print('Тимур')\n",
    "        \n",
    "    \n",
    "elif tim == 'бумага' or rus == 'бумага':\n",
    "    if tim == 'ножницы':\n",
    "        print('Тимур')\n",
    "    if rus == 'ножницы':\n",
    "        print('Руслан')\n",
    "        \n",
    "    if tim == 'камень':\n",
    "        print('Руслан')\n",
    "    if rus == 'камень':\n",
    "        print('Тимур')   \n",
    "    \n",
    "    \n",
    "elif tim == 'ножницы' or rus == 'ножницы':\n",
    "    if tim == 'камень':\n",
    "        print('Тимур')\n",
    "    if rus == 'камень':\n",
    "        print('Руслан')\n",
    "        \n",
    "    if tim == 'бумага':\n",
    "        print('Руслан')\n",
    "    if rus == 'бумага':\n",
    "        print('Тимур')      \n",
    "    \n",
    "    \n",
    "    "
   ]
  },
  {
   "cell_type": "code",
   "execution_count": null,
   "id": "e779767c",
   "metadata": {},
   "outputs": [],
   "source": []
  },
  {
   "cell_type": "markdown",
   "id": "944ab718",
   "metadata": {},
   "source": [
    "# Задача № 8"
   ]
  },
  {
   "cell_type": "code",
   "execution_count": null,
   "id": "d42ddd40",
   "metadata": {},
   "outputs": [],
   "source": [
    "Теперь Тимур и Руслан играют в игру Камень, ножницы, бумага, ящерица, Спок. \n",
    "Помогите ребятам вновь бросить честный жребий и определить, кто будет делать следующий модуль в новом курсе.\n",
    "\n",
    "Формат входных данных\n",
    "На вход программе подаются две строки текста, содержащие по одному слову из перечня\n",
    "\"камень\", \"ножницы\", \"бумага\", \"ящерица\" или \"Спок\". На первой строке записан выбор Тимура, \n",
    "на второй – выбор Руслана.\n",
    "\n",
    "Формат выходных данных\n",
    "Программа должна вывести результат жеребьёвки: кто победил - Тимур или Руслан, \n",
    "    или они сыграли вничью.\n",
    "\n",
    "Примечание. Правила игры стандартные: ножницы режут бумагу. Бумага заворачивает камень. \n",
    "Камень давит ящерицу, а ящерица травит Спока, в то время как Спок ломает ножницы, которые, \n",
    "в свою очередь, отрезают голову ящерице, которая ест бумагу, на которой улики против Спока. \n",
    "Спок испаряет камень, а камень, разумеется, затупляет ножницы."
   ]
  },
  {
   "cell_type": "code",
   "execution_count": 24,
   "id": "cdb56ef6",
   "metadata": {},
   "outputs": [
    {
     "name": "stdout",
     "output_type": "stream",
     "text": [
      "Спок\n",
      "Спок\n",
      "ничья\n"
     ]
    }
   ],
   "source": [
    "tim = input()\n",
    "rus = input()\n",
    "\n",
    "if tim == rus:\n",
    "    print('ничья')\n",
    "    \n",
    "if tim == 'камень' or rus == 'камень':\n",
    "    \n",
    "    if tim == 'бумага' or tim =='Спок':\n",
    "        print('Тимур')\n",
    "        \n",
    "    if rus == 'бумага' or rus =='Спок':\n",
    "        print('Руслан')    \n",
    "        \n",
    "        \n",
    "        \n",
    "    if tim == 'ножницы' or tim == 'ящерица':\n",
    "        print('Руслан')\n",
    "        \n",
    "       \n",
    "        \n",
    "    if rus == 'ножницы' or rus =='ящерица':\n",
    "        print('Тимур')\n",
    "        \n",
    "    \n",
    "elif tim == 'бумага' or rus == 'бумага':\n",
    "    if tim == 'ножницы' or tim =='ящерица':\n",
    "        print('Тимур')\n",
    "    if rus == 'ножницы' or rus =='ящерица':\n",
    "        print('Руслан')\n",
    "        \n",
    "    if tim == 'камень' or tim =='Спок':\n",
    "        print('Руслан')\n",
    "    if rus == 'камень' or rus =='Спок':\n",
    "        print('Тимур')   \n",
    "    \n",
    "    \n",
    "elif tim == 'ножницы' or rus == 'ножницы':\n",
    "    if tim == 'камень' or tim =='Спок':\n",
    "        print('Тимур')\n",
    "    if rus == 'камень' or rus =='Спок':\n",
    "        print('Руслан')\n",
    "        \n",
    "    if tim == 'бумага' or tim =='ящерица':\n",
    "        print('Руслан')\n",
    "    if rus == 'бумага' or rus =='ящерица':\n",
    "        print('Тимур')\n",
    "        \n",
    "elif tim == 'Спок' or rus == 'Спок':\n",
    "    \n",
    "    if tim == 'бумага' or tim =='ящерица':\n",
    "        print('Тимур')\n",
    "    if rus == 'бумага' or rus == 'ящерица':\n",
    "        print('Руслан')\n",
    "        \n",
    "    if tim == 'ножницы' or tim =='камень':\n",
    "        print('Руслан')\n",
    "    if rus == 'ножницы' or rus == 'камень':\n",
    "        print('Тимур')\n",
    "        \n",
    "        \n",
    "elif tim == 'ящерица' or rus == 'ящерица':\n",
    "    \n",
    "    if tim == 'ножницы' or tim == 'бумага':        \n",
    "        print('Тимур')\n",
    "        \n",
    "    if rus == 'ножницы' or rus == 'бумага':\n",
    "        print('Руслан')\n",
    "        \n",
    "        \n",
    "    if tim == 'Спок' or tim == 'камень':\n",
    "        \n",
    "        print('Руслан')\n",
    "        \n",
    "        \n",
    "        \n",
    "    if rus == 'Спок' or rus == 'камень':\n",
    "        \n",
    "        print('Тимур')"
   ]
  },
  {
   "cell_type": "code",
   "execution_count": null,
   "id": "4e1306da",
   "metadata": {},
   "outputs": [],
   "source": []
  },
  {
   "cell_type": "markdown",
   "id": "cbeb1d9f",
   "metadata": {},
   "source": [
    "# Задача №9"
   ]
  },
  {
   "cell_type": "code",
   "execution_count": null,
   "id": "032e610c",
   "metadata": {},
   "outputs": [],
   "source": [
    "Дана строка текста, состоящая из букв русского алфавита \"О\" и \"Р\". \n",
    "\n",
    "Буква \"О\" соответствует выпадению Орла, а буква \"Р\" - выпадению Решки. \n",
    "\n",
    "Напишите программу, которая подсчитывает наибольшее количество подряд выпавших Решек.\n",
    "\n",
    "Примечание. Если выпавших Решек нет, то необходимо вывести число 0\n",
    "\n",
    "ОРРОРОРООРРРО"
   ]
  },
  {
   "cell_type": "code",
   "execution_count": 25,
   "id": "9acb0907",
   "metadata": {},
   "outputs": [
    {
     "name": "stdout",
     "output_type": "stream",
     "text": [
      "ОРРОРОРООРРРО\n"
     ]
    }
   ],
   "source": [
    "s = input()"
   ]
  },
  {
   "cell_type": "code",
   "execution_count": 26,
   "id": "590a3fb0",
   "metadata": {},
   "outputs": [
    {
     "data": {
      "text/plain": [
       "'ОРРОРОРООРРРО'"
      ]
     },
     "execution_count": 26,
     "metadata": {},
     "output_type": "execute_result"
    }
   ],
   "source": [
    "s"
   ]
  },
  {
   "cell_type": "code",
   "execution_count": null,
   "id": "3f7ba0c3",
   "metadata": {},
   "outputs": [],
   "source": []
  },
  {
   "cell_type": "code",
   "execution_count": 39,
   "id": "48bcfd5c",
   "metadata": {},
   "outputs": [
    {
     "data": {
      "text/plain": [
       "['', 'РР', 'Р', 'Р', '', 'РРР', '']"
      ]
     },
     "execution_count": 39,
     "metadata": {},
     "output_type": "execute_result"
    }
   ],
   "source": [
    "lst = s.split('О')\n",
    "\n",
    "lst"
   ]
  },
  {
   "cell_type": "code",
   "execution_count": 46,
   "id": "f7f711e3",
   "metadata": {},
   "outputs": [
    {
     "data": {
      "text/plain": [
       "['РРР', 'РР', 'Р', 'Р', '', '', '']"
      ]
     },
     "execution_count": 46,
     "metadata": {},
     "output_type": "execute_result"
    }
   ],
   "source": [
    "sorted(lst, reverse = True)"
   ]
  },
  {
   "cell_type": "code",
   "execution_count": 48,
   "id": "1bec38ca",
   "metadata": {},
   "outputs": [
    {
     "data": {
      "text/plain": [
       "3"
      ]
     },
     "execution_count": 48,
     "metadata": {},
     "output_type": "execute_result"
    }
   ],
   "source": [
    "len(sorted(lst, reverse = True)[0])"
   ]
  },
  {
   "cell_type": "code",
   "execution_count": null,
   "id": "1792e3d2",
   "metadata": {},
   "outputs": [],
   "source": []
  },
  {
   "cell_type": "markdown",
   "id": "2c277107",
   "metadata": {},
   "source": [
    "# Задача №10"
   ]
  },
  {
   "cell_type": "code",
   "execution_count": null,
   "id": "c19e4dd8",
   "metadata": {},
   "outputs": [],
   "source": [
    "Искусственный интеллект Антон, созданный Гилфойлом, взломал сеть умных холодильников. Теперь он использует их \n",
    "в качестве серверов \"Пегого дудочника\". Помогите владельцу фирмы отыскать все зараженные холодильники.\n",
    "\n",
    "Для каждого холодильника существует строка с данными, состоящая из строчных букв и цифр, и если в ней \n",
    "присутствует слово \"anton\" (необязательно рядом стоящие буквы, главное наличие последовательности букв), \n",
    "то холодильник заражен и нужно вывести номер холодильника, нумерация начинается с единицы.\n",
    "\n",
    "Формат входных данных\n",
    "В первой строке подаётся число \n",
    "n – количество холодильников. В последующих \n",
    "n строках вводятся строки, содержащие латинские строчные буквы и цифры, в каждой строке от \n",
    "5\n",
    "5 до \n",
    "100\n",
    "100 символов.\n",
    "\n",
    "Формат выходных данных\n",
    "Программа должна вывести номера зараженных холодильников через пробел. Если таких холодильников нет, \n",
    "ничего выводить не нужно.\n",
    "\n",
    "Made with 💛 by Anri Tabuev"
   ]
  },
  {
   "cell_type": "code",
   "execution_count": 53,
   "id": "5fe47812",
   "metadata": {},
   "outputs": [
    {
     "name": "stdout",
     "output_type": "stream",
     "text": [
      "2\n"
     ]
    }
   ],
   "source": [
    "n = int(input())"
   ]
  },
  {
   "cell_type": "code",
   "execution_count": 56,
   "id": "279eb878",
   "metadata": {},
   "outputs": [
    {
     "name": "stdout",
     "output_type": "stream",
     "text": [
      "asdf\n",
      "asdf\n"
     ]
    }
   ],
   "source": [
    "lst = []\n",
    "\n",
    "for i in range(n):\n",
    "    lst.append(input())\n",
    "        "
   ]
  },
  {
   "cell_type": "code",
   "execution_count": 58,
   "id": "28f50733",
   "metadata": {},
   "outputs": [
    {
     "data": {
      "text/plain": [
       "'sdf'"
      ]
     },
     "execution_count": 58,
     "metadata": {},
     "output_type": "execute_result"
    }
   ],
   "source": [
    "lst[0][lst[i].index('s'):]"
   ]
  },
  {
   "cell_type": "code",
   "execution_count": 61,
   "id": "37bf0b9e",
   "metadata": {},
   "outputs": [],
   "source": [
    "lst_2 = []"
   ]
  },
  {
   "cell_type": "code",
   "execution_count": 62,
   "id": "b2474501",
   "metadata": {},
   "outputs": [],
   "source": [
    "for i in range(len(lst)):\n",
    "    if 'a' in lst[i]:\n",
    "        lst[i] = lst[i][lst[i].index('a'):]\n",
    "        \n",
    "        if 'n' in lst[i]:\n",
    "            lst[i] = lst[i][lst[i].index('n'):]\n",
    "            \n",
    "            if 't' in lst[i]:\n",
    "                lst[i] = lst[i][lst[i].index('t'):]\n",
    "                \n",
    "                if 'o' in lst[i]:\n",
    "                    lst[i] = lst[i][lst[i].index('o'):]\n",
    "                    \n",
    "                    if 'n' in lst[i]:\n",
    "                        lst_2 += [i]\n",
    "                    \n",
    "            "
   ]
  },
  {
   "cell_type": "code",
   "execution_count": 63,
   "id": "9986b97e",
   "metadata": {},
   "outputs": [
    {
     "data": {
      "text/plain": [
       "[]"
      ]
     },
     "execution_count": 63,
     "metadata": {},
     "output_type": "execute_result"
    }
   ],
   "source": [
    "lst_2"
   ]
  },
  {
   "cell_type": "code",
   "execution_count": null,
   "id": "b9f8d40f",
   "metadata": {},
   "outputs": [],
   "source": []
  },
  {
   "cell_type": "markdown",
   "id": "d3a09d52",
   "metadata": {},
   "source": [
    "# Задача №11"
   ]
  },
  {
   "cell_type": "code",
   "execution_count": null,
   "id": "238c6691",
   "metadata": {},
   "outputs": [],
   "source": [
    "Алгоритм выводит в конце предложения следующую в алфавитном порядке букву, \n",
    "если она встречается в строке текста, а очередную строку отображает уже без этой буквы."
   ]
  },
  {
   "cell_type": "code",
   "execution_count": 73,
   "id": "5e329041",
   "metadata": {},
   "outputs": [
    {
     "name": "stdout",
     "output_type": "stream",
     "text": [
      "роскомнадзор\n"
     ]
    }
   ],
   "source": [
    "s = input()"
   ]
  },
  {
   "cell_type": "code",
   "execution_count": 74,
   "id": "e390bc50",
   "metadata": {},
   "outputs": [],
   "source": [
    "s = s + ' запретил букву '"
   ]
  },
  {
   "cell_type": "code",
   "execution_count": 75,
   "id": "80b9442c",
   "metadata": {},
   "outputs": [
    {
     "data": {
      "text/plain": [
       "'роскомнадзор запретил букву '"
      ]
     },
     "execution_count": 75,
     "metadata": {},
     "output_type": "execute_result"
    }
   ],
   "source": [
    "s"
   ]
  },
  {
   "cell_type": "code",
   "execution_count": 76,
   "id": "ced3ab4e",
   "metadata": {},
   "outputs": [],
   "source": [
    "alphabet = 'абвгдежзийклмнопрстуфхцчшщыьъэюя'"
   ]
  },
  {
   "cell_type": "code",
   "execution_count": 77,
   "id": "0012442a",
   "metadata": {},
   "outputs": [
    {
     "data": {
      "text/plain": [
       "32"
      ]
     },
     "execution_count": 77,
     "metadata": {},
     "output_type": "execute_result"
    }
   ],
   "source": [
    "len(alphabet)"
   ]
  },
  {
   "cell_type": "code",
   "execution_count": 78,
   "id": "12fd264f",
   "metadata": {},
   "outputs": [
    {
     "name": "stdout",
     "output_type": "stream",
     "text": [
      "роскомнадзор запретил букву а\n",
      "роскомндзор зпретил букву б\n",
      "роскомндзор зпретил укву в\n",
      "роскомндзор зпретил уку д\n",
      "роскомнзор зпретил уку е\n",
      "роскомнзор зпртил уку з\n",
      "роскомнор пртил уку и\n",
      "роскомнор пртл уку к\n",
      "росомнор пртл уу л\n",
      "росомнор прт уу м\n",
      "росонор прт уу н\n",
      "росоор прт уу о\n",
      "рср прт уу п\n",
      "рср рт уу р\n",
      "с т уу с\n",
      "т уу т\n",
      "уу у\n"
     ]
    }
   ],
   "source": [
    "for i in range(len(alphabet)):\n",
    "    \n",
    "    if alphabet[i] in s:\n",
    "        s = s + ' ' + alphabet[i]\n",
    "        s = \" \".join(s.split())\n",
    "        print(s.strip())\n",
    "        \n",
    "        s = s.replace(s[-1], '')[:-1]\n",
    "        \n",
    "        \n",
    "    \n",
    "    \n",
    "    "
   ]
  },
  {
   "cell_type": "code",
   "execution_count": 35,
   "id": "c2d1ed3a",
   "metadata": {},
   "outputs": [
    {
     "data": {
      "text/plain": [
       "('тимур запретил букву  ', 'а')"
      ]
     },
     "execution_count": 35,
     "metadata": {},
     "output_type": "execute_result"
    }
   ],
   "source": [
    "s"
   ]
  },
  {
   "cell_type": "code",
   "execution_count": null,
   "id": "30486e4c",
   "metadata": {},
   "outputs": [],
   "source": []
  },
  {
   "cell_type": "markdown",
   "id": "5b229867",
   "metadata": {},
   "source": [
    "# Задача №12"
   ]
  },
  {
   "cell_type": "code",
   "execution_count": null,
   "id": "7bd0427d",
   "metadata": {},
   "outputs": [],
   "source": [
    "Предикат делимости\n",
    "Напишите функцию func(num1, num2), принимающую в качестве аргументов два натуральных числа num1 и num2 и \n",
    "возвращающую значение True если число num1 делится без остатка на число num2 и False в противном случае.\n",
    "\n",
    "Результатом вывода программы должно быть \"делится\" (если функция func() вернула True) и \"не делится\" \n",
    "(если функция func() вернула False).\n",
    "\n",
    "Примечание. Следующий программный код:\n",
    "\n",
    "print(func(10, 2))\n",
    "print(func(5, 7))\n",
    "print(func(15, 15))\n",
    "должен выводить:\n",
    "\n",
    "True\n",
    "False\n",
    "True\n",
    "а вся программа должна выводить:\n",
    "\n",
    "делится\n",
    "не делится\n",
    "делится"
   ]
  },
  {
   "cell_type": "code",
   "execution_count": 5,
   "id": "6d653d37",
   "metadata": {},
   "outputs": [],
   "source": [
    "def func(num1, num2):\n",
    "    if num1 % num2 == 0:\n",
    "        return 'делится'\n",
    "    else:\n",
    "        return'не делится'   "
   ]
  },
  {
   "cell_type": "code",
   "execution_count": 6,
   "id": "9894d7ac",
   "metadata": {},
   "outputs": [
    {
     "name": "stdout",
     "output_type": "stream",
     "text": [
      "делится\n",
      "не делится\n",
      "делится\n"
     ]
    }
   ],
   "source": [
    "print(func(10, 2))\n",
    "print(func(5, 7))\n",
    "print(func(15, 15))"
   ]
  },
  {
   "cell_type": "code",
   "execution_count": null,
   "id": "46fe2e91",
   "metadata": {},
   "outputs": [],
   "source": [
    "# объявление функции\n",
    "def func(num1, num2):\n",
    "    return num1 % num2 == 0\n",
    "\n",
    "# считываем данные\n",
    "num1, num2 = int(input()), int(input())\n",
    "\n",
    "# вызываем функцию\n",
    "if func(num1, num2):\n",
    "    print('делится')\n",
    "else:\n",
    "    print('не делится')"
   ]
  },
  {
   "cell_type": "code",
   "execution_count": null,
   "id": "cdff2c7f",
   "metadata": {},
   "outputs": [],
   "source": []
  },
  {
   "cell_type": "code",
   "execution_count": null,
   "id": "d0300258",
   "metadata": {},
   "outputs": [],
   "source": []
  },
  {
   "cell_type": "code",
   "execution_count": null,
   "id": "28c0113a",
   "metadata": {},
   "outputs": [],
   "source": []
  },
  {
   "cell_type": "code",
   "execution_count": null,
   "id": "42f10a3a",
   "metadata": {},
   "outputs": [],
   "source": []
  },
  {
   "cell_type": "code",
   "execution_count": null,
   "id": "1e2e4cc2",
   "metadata": {},
   "outputs": [],
   "source": []
  },
  {
   "cell_type": "code",
   "execution_count": null,
   "id": "938ee0a6",
   "metadata": {},
   "outputs": [],
   "source": []
  },
  {
   "cell_type": "code",
   "execution_count": null,
   "id": "cd1f7184",
   "metadata": {},
   "outputs": [],
   "source": []
  },
  {
   "cell_type": "code",
   "execution_count": null,
   "id": "80261a5a",
   "metadata": {},
   "outputs": [],
   "source": []
  },
  {
   "cell_type": "code",
   "execution_count": null,
   "id": "abf7c0ec",
   "metadata": {},
   "outputs": [],
   "source": []
  },
  {
   "cell_type": "code",
   "execution_count": null,
   "id": "0182331c",
   "metadata": {},
   "outputs": [],
   "source": []
  },
  {
   "cell_type": "code",
   "execution_count": null,
   "id": "5191cf6d",
   "metadata": {},
   "outputs": [],
   "source": []
  },
  {
   "cell_type": "code",
   "execution_count": null,
   "id": "15e0b064",
   "metadata": {},
   "outputs": [],
   "source": []
  },
  {
   "cell_type": "code",
   "execution_count": null,
   "id": "43a909db",
   "metadata": {},
   "outputs": [],
   "source": []
  },
  {
   "cell_type": "code",
   "execution_count": null,
   "id": "2a1d3a7d",
   "metadata": {},
   "outputs": [],
   "source": []
  },
  {
   "cell_type": "code",
   "execution_count": null,
   "id": "53a2cb50",
   "metadata": {},
   "outputs": [],
   "source": []
  }
 ],
 "metadata": {
  "kernelspec": {
   "display_name": "Python 3 (ipykernel)",
   "language": "python",
   "name": "python3"
  },
  "language_info": {
   "codemirror_mode": {
    "name": "ipython",
    "version": 3
   },
   "file_extension": ".py",
   "mimetype": "text/x-python",
   "name": "python",
   "nbconvert_exporter": "python",
   "pygments_lexer": "ipython3",
   "version": "3.10.2"
  }
 },
 "nbformat": 4,
 "nbformat_minor": 5
}
