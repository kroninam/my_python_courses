{
 "cells": [
  {
   "cell_type": "code",
   "execution_count": 1,
   "id": "c8a08e31",
   "metadata": {},
   "outputs": [
    {
     "name": "stdout",
     "output_type": "stream",
     "text": [
      "99.12\n"
     ]
    }
   ],
   "source": [
    "my_dict = {1.12: 'aa', 67.9: 45, 3.11: 'ccc', 7.9: 'dd', 9.2: 'ee', 7.1: 'ff', 0.12: 'qq', 1.91: 'aa', 10.12: [1, 2, 3], 99.0: {9, 0, 1}}\n",
    "\n",
    "print(max(my_dict) + min(my_dict))"
   ]
  },
  {
   "cell_type": "code",
   "execution_count": null,
   "id": "87415ac0",
   "metadata": {},
   "outputs": [],
   "source": []
  },
  {
   "cell_type": "markdown",
   "id": "c7e4edf4",
   "metadata": {},
   "source": [
    "# Задача №1"
   ]
  },
  {
   "cell_type": "code",
   "execution_count": 2,
   "id": "9f0d08da",
   "metadata": {},
   "outputs": [],
   "source": [
    "# Дополните приведенный код, чтобы он вывел имена всех \n",
    "# пользователей (в алфавитном порядке), чей номер оканчивается на 8.\n",
    "\n",
    "# Примечание. Имена необходимо вывести на одной строке, разделяя символом пробела.\n",
    "\n",
    "users = [{'name': 'Todd', 'phone': '551-1414', 'email': 'todd@gmail.com'},\n",
    "         {'name': 'Helga', 'phone': '555-1618', 'email': 'helga@mail.net'},\n",
    "         {'name': 'Olivia', 'phone': '449-3141', 'email': ''},\n",
    "         {'name': 'LJ', 'phone': '555-2718', 'email': 'lj@gmail.net'},\n",
    "         {'name': 'Ruslan', 'phone': '422-145-9098', 'email': 'rus-lan.cha@yandex.ru'},\n",
    "         {'name': 'John', 'phone': '233-421-32', 'email': ''},\n",
    "         {'name': 'Lara', 'phone': '+7998-676-2532', 'email': 'g.lara89@gmail.com'},\n",
    "         {'name': 'Alina', 'phone': '+7948-799-2434', 'email': 'ali.ch.b@gmail.com'},\n",
    "         {'name': 'Robert', 'phone': '420-2011', 'email': ''},\n",
    "         {'name': 'Riyad', 'phone': '128-8890-128', 'email': 'r.mahrez@mail.net'},\n",
    "         {'name': 'Khabib', 'phone': '+7995-600-9080', 'email': 'kh.nurmag@gmail.com'},\n",
    "         {'name': 'Olga', 'phone': '6449-314-1213', 'email': ''},\n",
    "         {'name': 'Roman', 'phone': '+7459-145-8059', 'email': 'roma988@mail.ru'},\n",
    "         {'name': 'Maria', 'phone': '12-129-3148', 'email': 'm.sharapova@gmail.com'},\n",
    "         {'name': 'Fedor', 'phone': '+7445-341-0545', 'email': ''},\n",
    "         {'name': 'Tim', 'phone': '242-449-3141', 'email': 'timm.ggg@yandex.ru'}]"
   ]
  },
  {
   "cell_type": "code",
   "execution_count": 11,
   "id": "0971a5e9",
   "metadata": {},
   "outputs": [
    {
     "name": "stdout",
     "output_type": "stream",
     "text": [
      "Helga LJ Maria Riyad Ruslan\n"
     ]
    }
   ],
   "source": [
    "lst = []\n",
    "for i in users:\n",
    "    for k, v in i.items():\n",
    "        if k == 'phone' and i[k][-1] == '8':\n",
    "            lst.append((i['name']))\n",
    "            \n",
    "print(*sorted(lst))"
   ]
  },
  {
   "cell_type": "code",
   "execution_count": null,
   "id": "4557d078",
   "metadata": {},
   "outputs": [],
   "source": []
  },
  {
   "cell_type": "markdown",
   "id": "201252d9",
   "metadata": {},
   "source": [
    "# Задача №2"
   ]
  },
  {
   "cell_type": "code",
   "execution_count": null,
   "id": "08639bae",
   "metadata": {},
   "outputs": [],
   "source": [
    "# Дополните приведенный код, чтобы он вывел имена всех пользователей (в алфавитном порядке),\n",
    "# у которых нет информации об электронной почте. \n",
    "\n",
    "# Примечание 1. Ключ email может отсутствовать в словаре.\n",
    "\n",
    "# Примечание 2. Имена необходимо вывести на одной строке, разделяя символом пробела."
   ]
  },
  {
   "cell_type": "code",
   "execution_count": 1,
   "id": "9be2c21a",
   "metadata": {},
   "outputs": [],
   "source": [
    "users = [{'name': 'Todd', 'phone': '551-1414', 'email': 'todd@gmail.com'},\n",
    "         {'name': 'Helga', 'phone': '555-1618'},\n",
    "         {'name': 'Olivia', 'phone': '449-3141', 'email': ''},\n",
    "         {'name': 'LJ', 'phone': '555-2718', 'email': 'lj@gmail.net'},\n",
    "         {'name': 'Ruslan', 'phone': '422-145-9098', 'email': 'rus-lan.cha@yandex.ru'},\n",
    "         {'name': 'John', 'phone': '233-421-32', 'email': ''},\n",
    "         {'name': 'Lara', 'phone': '+7998-676-2532', 'email': 'g.lara89@gmail.com'},\n",
    "         {'name': 'Alina', 'phone': '+7948-799-2434'},\n",
    "         {'name': 'Robert', 'phone': '420-2011', 'email': ''},\n",
    "         {'name': 'Riyad', 'phone': '128-8890-128', 'email': 'r.mahrez@mail.net'},\n",
    "         {'name': 'Khabib', 'phone': '+7995-600-9080', 'email': 'kh.nurmag@gmail.com'},\n",
    "         {'name': 'Olga', 'phone': '6449-314-1213', 'email': ''},\n",
    "         {'name': 'Roman', 'phone': '+7459-145-8059'},\n",
    "         {'name': 'Maria', 'phone': '12-129-3148', 'email': 'm.sharapova@gmail.com'},\n",
    "         {'name': 'Fedor', 'phone': '+7445-341-0545', 'email': ''},\n",
    "         {'name': 'Tim', 'phone': '242-449-3141', 'email': 'timm.ggg@yandex.ru'}]"
   ]
  },
  {
   "cell_type": "code",
   "execution_count": 5,
   "id": "e5b11e09",
   "metadata": {},
   "outputs": [
    {
     "name": "stdout",
     "output_type": "stream",
     "text": [
      "Alina Fedor Helga John Olga Olivia Robert Roman\n"
     ]
    }
   ],
   "source": [
    "lst = []\n",
    "for i in users:\n",
    "    if 'email' not in i or i['email'] == '':\n",
    "        lst.append(i['name'])\n",
    "        \n",
    "print(*sorted(lst))"
   ]
  },
  {
   "cell_type": "code",
   "execution_count": null,
   "id": "29d364a4",
   "metadata": {},
   "outputs": [],
   "source": []
  },
  {
   "cell_type": "markdown",
   "id": "9947b453",
   "metadata": {},
   "source": [
    "# Задача №3"
   ]
  },
  {
   "cell_type": "code",
   "execution_count": null,
   "id": "9b6d6e25",
   "metadata": {},
   "outputs": [],
   "source": [
    "Строковое представление\n",
    "Напишите программу, которая будет превращать натуральное число в строку, заменяя все цифры в числе на слова:\n",
    "\n",
    "0\n",
    "0 на zero;\n",
    "1\n",
    "1 на one;\n",
    "2\n",
    "2 на two;\n",
    "3\n",
    "3 на three;\n",
    "4\n",
    "4 на four;\n",
    "5\n",
    "5 на five;\n",
    "6\n",
    "6 на six;\n",
    "7\n",
    "7 на seven;\n",
    "8\n",
    "8 на eight;\n",
    "9\n",
    "9 на nine.\n",
    "\n",
    "Формат входных данных\n",
    "На вход программе подается натуральное число.\n",
    "\n",
    "Формат выходных данных\n",
    "Программа должна вывести строковое представление числа.\n",
    "\n",
    "Примечание. Используйте словарь вместо условного оператора.\n",
    "\n",
    "Sample Input 1:\n",
    "\n",
    "230\n",
    "\n",
    "Sample Output 1:\n",
    "\n",
    "two three zero"
   ]
  },
  {
   "cell_type": "code",
   "execution_count": 23,
   "id": "33d9e006",
   "metadata": {},
   "outputs": [
    {
     "name": "stdout",
     "output_type": "stream",
     "text": [
      "230\n"
     ]
    }
   ],
   "source": [
    "d = {1: 'one', 2: 'two', 3: 'three', 4: 'four', 5: 'five', 6: 'six', 7: 'seven', 8: 'eight', 9: 'nine', 0: 'zero'}\n",
    "\n",
    "n = int(input())"
   ]
  },
  {
   "cell_type": "code",
   "execution_count": 20,
   "id": "1ca3327d",
   "metadata": {},
   "outputs": [
    {
     "data": {
      "text/plain": [
       "'230'"
      ]
     },
     "execution_count": 20,
     "metadata": {},
     "output_type": "execute_result"
    }
   ],
   "source": [
    "str(n)"
   ]
  },
  {
   "cell_type": "code",
   "execution_count": 21,
   "id": "7994e66a",
   "metadata": {},
   "outputs": [
    {
     "name": "stdout",
     "output_type": "stream",
     "text": [
      "two three zero "
     ]
    }
   ],
   "source": [
    "for i in str(n):\n",
    "    for k, w in d.items():\n",
    "        if int(i) == k:\n",
    "            print(w, end = ' ')"
   ]
  },
  {
   "cell_type": "code",
   "execution_count": 24,
   "id": "c9159959",
   "metadata": {},
   "outputs": [
    {
     "name": "stdout",
     "output_type": "stream",
     "text": [
      "two three zero "
     ]
    }
   ],
   "source": [
    "for i in str(n):\n",
    "    print(d[int(i)], end = ' ')"
   ]
  },
  {
   "cell_type": "code",
   "execution_count": null,
   "id": "55537009",
   "metadata": {},
   "outputs": [],
   "source": []
  },
  {
   "cell_type": "code",
   "execution_count": null,
   "id": "9cde3037",
   "metadata": {},
   "outputs": [],
   "source": []
  },
  {
   "cell_type": "markdown",
   "id": "543876e3",
   "metadata": {},
   "source": [
    "# Задача №4"
   ]
  },
  {
   "cell_type": "code",
   "execution_count": null,
   "id": "2745c419",
   "metadata": {},
   "outputs": [],
   "source": [
    "# Формат входных данных\n",
    "# На вход программе подается одна строка – номер курса.\n",
    "\n",
    "# Формат выходных данных\n",
    "# Программа должна вывести номер курса, затем номер аудитории, имя преподавателя и \n",
    "# время проведения курса в соответствии с примерами.\n",
    "\n",
    "# Примечание 1. Используйте словарь вместо условного оператора.\n",
    "\n",
    "# Примечание 2. Для удобного вывода используйте строковый метод format() или f-строки.\n",
    "\n",
    "Sample Input 1:\n",
    "\n",
    "CS101\n",
    "\n",
    "Sample Output 1:\n",
    "\n",
    "CS101: 3004, Хайнс, 8:00"
   ]
  },
  {
   "cell_type": "code",
   "execution_count": 28,
   "id": "7081443c",
   "metadata": {},
   "outputs": [],
   "source": [
    "d = { \"CS101\": \"CS101: 3004, Хайнс, 8:00\", \n",
    "     \"CS102\": \"CS102: 4501, Альварадо, 9:00\", \n",
    "     \"CS103\": \"CS103: 6755, Рич, 10:00\", \n",
    "     \"NT110\": \"NT110: 1244, Берк, 11:00\", \n",
    "     \"CM241\": \"CM241: 1411, Ли, 13:00\" }"
   ]
  },
  {
   "cell_type": "code",
   "execution_count": 27,
   "id": "9ec3fd4d",
   "metadata": {},
   "outputs": [
    {
     "name": "stdout",
     "output_type": "stream",
     "text": [
      "CS101\n"
     ]
    }
   ],
   "source": [
    "n = input()\n"
   ]
  },
  {
   "cell_type": "code",
   "execution_count": 29,
   "id": "e7fae11b",
   "metadata": {},
   "outputs": [
    {
     "data": {
      "text/plain": [
       "'CS101: 3004, Хайнс, 8:00'"
      ]
     },
     "execution_count": 29,
     "metadata": {},
     "output_type": "execute_result"
    }
   ],
   "source": [
    "d[n]"
   ]
  },
  {
   "cell_type": "code",
   "execution_count": 31,
   "id": "1e2c8065",
   "metadata": {},
   "outputs": [
    {
     "name": "stdout",
     "output_type": "stream",
     "text": [
      "Ответ: CS101: 3004, Хайнс, 8:00 и точка\n"
     ]
    }
   ],
   "source": [
    "print(f'Ответ: {d[n]} и точка')"
   ]
  },
  {
   "cell_type": "code",
   "execution_count": null,
   "id": "28142b2d",
   "metadata": {},
   "outputs": [],
   "source": []
  },
  {
   "cell_type": "markdown",
   "id": "cf0c3248",
   "metadata": {},
   "source": [
    "# Задача №5"
   ]
  },
  {
   "cell_type": "code",
   "execution_count": null,
   "id": "02b43b58",
   "metadata": {},
   "outputs": [],
   "source": [
    "Набор сообщений\n",
    "На мобильных кнопочных телефонах текстовые сообщения можно отправлять с помощью цифровой клавиатуры.\n",
    "Поскольку с каждой клавишей связано несколько букв, для большинства букв требуется несколько нажатий\n",
    "клавиш. При однократном нажатии цифры генерируется первый символ, указанный для этой клавиши. \n",
    "Нажатие цифры \n",
    "2\n",
    ",\n",
    "3\n",
    ",\n",
    "4\n",
    "2,3,4 или \n",
    "5\n",
    "5 раз генерирует второй, третий, четвертый или пятый символ клавиши.\n",
    "\n",
    "1\t.,?!:\n",
    "2\tABC\n",
    "3\tDEF\n",
    "4\tGHI\n",
    "5\tJKL\n",
    "6\tMNO\n",
    "7\tPQRS\n",
    "8\tTUV\n",
    "9\tWXYZ\n",
    "0\tspace (пробел)\n",
    "Напишите программу, которая отображает нажатия клавиш, необходимые для введенного сообщения.\n",
    "\n",
    "Формат входных данных\n",
    "На вход программе подается одна строка – текстовое сообщение.\n",
    "\n",
    "Формат выходных данных\n",
    "Программа должна вывести нажатия клавиш, необходимых для введенного сообщения.\n",
    "\n",
    "Примечание 1. Ваша программа должна обрабатывать как прописные, так и строчные буквы.\n",
    "\n",
    "Примечание 2. Ваша программа должна игнорировать любые символы, не указанные в приведенной выше таблице.\n",
    "\n",
    "Sample Input 1:\n",
    "\n",
    "Hello, World!\n",
    "\n",
    "Sample Output 1:\n",
    "\n",
    "4433555555666110966677755531111"
   ]
  },
  {
   "cell_type": "code",
   "execution_count": 7,
   "id": "515b0693",
   "metadata": {},
   "outputs": [],
   "source": [
    "d = {1: '.,?!', 2:'ABC', 3:'DEF', 4:'GHI', 5:'JKL', 6:'MNO', 7:'PQRS', 8:'TUV', 9:'WXYZ', 0: ' '}"
   ]
  },
  {
   "cell_type": "code",
   "execution_count": 9,
   "id": "4958e880",
   "metadata": {},
   "outputs": [
    {
     "name": "stdout",
     "output_type": "stream",
     "text": [
      "Hello, World!\n"
     ]
    }
   ],
   "source": [
    "s = input()"
   ]
  },
  {
   "cell_type": "code",
   "execution_count": 35,
   "id": "62dd3411",
   "metadata": {},
   "outputs": [
    {
     "name": "stdout",
     "output_type": "stream",
     "text": [
      "4433555555666110966677755531111"
     ]
    }
   ],
   "source": [
    "lst = []\n",
    "\n",
    "for i in s:\n",
    "#     print(i)\n",
    "    for k, w in d.items():\n",
    "        if i.upper() in w:\n",
    "            \n",
    "            lst.append((str(k) * (w.index(i.upper()) + 1)))\n",
    "            print(str(k) * (w.index(i.upper()) + 1), end = '')"
   ]
  },
  {
   "cell_type": "code",
   "execution_count": null,
   "id": "3d4c9426",
   "metadata": {},
   "outputs": [],
   "source": []
  },
  {
   "cell_type": "markdown",
   "id": "0ec5facc",
   "metadata": {},
   "source": [
    "# Задача №6"
   ]
  },
  {
   "cell_type": "code",
   "execution_count": null,
   "id": "45f3df63",
   "metadata": {},
   "outputs": [],
   "source": [
    "Код Морзе\n",
    "Код Морзе для представления цифр и букв использует тире и точки.\n",
    "\n",
    "Напишите программу для кодирования текстового сообщения в соответствии с кодом Морзе.\n",
    "\n",
    "Символ\tКод\tСимвол\tКод\tСимвол\tКод\tСимвол\tКод\n",
    "A\t.-\tJ\t.---\tS\t...\t1\t.----\n",
    "B\t-...\tK\t-.-\tT\t-\t2\t..---\n",
    "C\t-.-.\tL\t.-..\tU\t..-\t3\t...--\n",
    "D\t-..\tM\t--\tV\t...-\t4\t....-\n",
    "E\t.\tN\t-.\tW\t.--\t5\t.....\n",
    "F\t..-.\tO\t---\tX\t-..-\t6\t-....\n",
    "G\t--.\tP\t.--.\tY\t-.--\t7\t--...\n",
    "H\t....\tQ\t--.-\tZ\t--..\t8\t---..\n",
    "I\t..\tR\t.-.\t0\t-----\t9\t----.\n",
    "Формат входных данных\n",
    "На вход программе подается одна строка – текстовое сообщение.\n",
    "\n",
    "Формат выходных данных\n",
    "Программа должна вывести закодированное с помощью кода Морзе сообщение, \n",
    "оставляя пробел между каждым закодированным символом (последовательностью тире и точек).\n",
    "\n",
    "Примечание 1. Ваша программа должна игнорировать любые символы, не перечисленные в таблице.\n",
    "\n",
    "Примечание 2. Код Морзе был разработан в XIX веке и все еще используется, спустя более \n",
    "160 лет после создания.\n",
    "\n",
    "Sample Input 1:\n",
    "\n",
    "Interstellar\n",
    "\n",
    "Sample Output 1:\n",
    "\n",
    ".. -. - . .-. ... - . .-.. .-.. .- .-."
   ]
  },
  {
   "cell_type": "code",
   "execution_count": 37,
   "id": "f2c8a353",
   "metadata": {},
   "outputs": [],
   "source": [
    "letters = [c for c in 'ABCDEFGHIJKLMNOPQRSTUVWXYZ0123456789']\n",
    "morse = ['.-', '-...', '-.-.', '-..', '.', '..-.', '--.', '....', '..',\n",
    "         '.---', '-.-', '.-..', '--', '-.', '---', '.--.', '--.-', '.-.',\n",
    "         '...', '-', '..-', '...-', '.--', '-..-', '-.--', '--..', '-----',\n",
    "         '.----', '..---', '...--', '....-', '.....', '-....', '--...', '---..', '----.']"
   ]
  },
  {
   "cell_type": "code",
   "execution_count": 48,
   "id": "3ec0c830",
   "metadata": {},
   "outputs": [],
   "source": [
    "d = {}\n",
    "\n",
    "for i in range(len(letters)):\n",
    "    d[letters[i]] = morse[i]"
   ]
  },
  {
   "cell_type": "code",
   "execution_count": 49,
   "id": "74896875",
   "metadata": {},
   "outputs": [
    {
     "data": {
      "text/plain": [
       "{'A': '.-',\n",
       " 'B': '-...',\n",
       " 'C': '-.-.',\n",
       " 'D': '-..',\n",
       " 'E': '.',\n",
       " 'F': '..-.',\n",
       " 'G': '--.',\n",
       " 'H': '....',\n",
       " 'I': '..',\n",
       " 'J': '.---',\n",
       " 'K': '-.-',\n",
       " 'L': '.-..',\n",
       " 'M': '--',\n",
       " 'N': '-.',\n",
       " 'O': '---',\n",
       " 'P': '.--.',\n",
       " 'Q': '--.-',\n",
       " 'R': '.-.',\n",
       " 'S': '...',\n",
       " 'T': '-',\n",
       " 'U': '..-',\n",
       " 'V': '...-',\n",
       " 'W': '.--',\n",
       " 'X': '-..-',\n",
       " 'Y': '-.--',\n",
       " 'Z': '--..',\n",
       " '0': '-----',\n",
       " '1': '.----',\n",
       " '2': '..---',\n",
       " '3': '...--',\n",
       " '4': '....-',\n",
       " '5': '.....',\n",
       " '6': '-....',\n",
       " '7': '--...',\n",
       " '8': '---..',\n",
       " '9': '----.'}"
      ]
     },
     "execution_count": 49,
     "metadata": {},
     "output_type": "execute_result"
    }
   ],
   "source": [
    "d"
   ]
  },
  {
   "cell_type": "code",
   "execution_count": 41,
   "id": "88448249",
   "metadata": {},
   "outputs": [
    {
     "name": "stdout",
     "output_type": "stream",
     "text": [
      "Interstellar\n"
     ]
    }
   ],
   "source": [
    "s = input()"
   ]
  },
  {
   "cell_type": "code",
   "execution_count": 51,
   "id": "2dca1317",
   "metadata": {},
   "outputs": [
    {
     "name": "stdout",
     "output_type": "stream",
     "text": [
      ".. -. - . .-. ... - . .-.. .-.. .- .-. "
     ]
    }
   ],
   "source": [
    "for i in s:\n",
    "\n",
    "    if i.upper() in d:\n",
    "        print(d[i.upper()], end = ' ')"
   ]
  },
  {
   "cell_type": "code",
   "execution_count": null,
   "id": "a095a029",
   "metadata": {},
   "outputs": [],
   "source": []
  },
  {
   "cell_type": "code",
   "execution_count": null,
   "id": "409b2feb",
   "metadata": {},
   "outputs": [],
   "source": []
  },
  {
   "cell_type": "code",
   "execution_count": null,
   "id": "450608a5",
   "metadata": {},
   "outputs": [],
   "source": []
  },
  {
   "cell_type": "code",
   "execution_count": null,
   "id": "f38207de",
   "metadata": {},
   "outputs": [],
   "source": []
  },
  {
   "cell_type": "code",
   "execution_count": null,
   "id": "2e97f663",
   "metadata": {},
   "outputs": [],
   "source": []
  },
  {
   "cell_type": "code",
   "execution_count": null,
   "id": "730e6668",
   "metadata": {},
   "outputs": [],
   "source": []
  },
  {
   "cell_type": "code",
   "execution_count": null,
   "id": "d82ea0bc",
   "metadata": {},
   "outputs": [],
   "source": []
  },
  {
   "cell_type": "code",
   "execution_count": null,
   "id": "f5077f14",
   "metadata": {},
   "outputs": [],
   "source": []
  },
  {
   "cell_type": "code",
   "execution_count": null,
   "id": "b71c0656",
   "metadata": {},
   "outputs": [],
   "source": []
  },
  {
   "cell_type": "code",
   "execution_count": null,
   "id": "73cf6875",
   "metadata": {},
   "outputs": [],
   "source": []
  },
  {
   "cell_type": "code",
   "execution_count": null,
   "id": "35a0a997",
   "metadata": {},
   "outputs": [],
   "source": []
  },
  {
   "cell_type": "code",
   "execution_count": null,
   "id": "d5855fe1",
   "metadata": {},
   "outputs": [],
   "source": []
  },
  {
   "cell_type": "code",
   "execution_count": null,
   "id": "c6cc8380",
   "metadata": {},
   "outputs": [],
   "source": []
  },
  {
   "cell_type": "code",
   "execution_count": null,
   "id": "17b60f26",
   "metadata": {},
   "outputs": [],
   "source": []
  },
  {
   "cell_type": "code",
   "execution_count": null,
   "id": "b802237e",
   "metadata": {},
   "outputs": [],
   "source": []
  }
 ],
 "metadata": {
  "kernelspec": {
   "display_name": "Python 3 (ipykernel)",
   "language": "python",
   "name": "python3"
  },
  "language_info": {
   "codemirror_mode": {
    "name": "ipython",
    "version": 3
   },
   "file_extension": ".py",
   "mimetype": "text/x-python",
   "name": "python",
   "nbconvert_exporter": "python",
   "pygments_lexer": "ipython3",
   "version": "3.10.2"
  }
 },
 "nbformat": 4,
 "nbformat_minor": 5
}
