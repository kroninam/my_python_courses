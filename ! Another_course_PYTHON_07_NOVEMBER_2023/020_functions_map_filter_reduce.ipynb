{
 "cells": [
  {
   "cell_type": "markdown",
   "id": "a451b780",
   "metadata": {},
   "source": [
    "# Задача №1"
   ]
  },
  {
   "cell_type": "code",
   "execution_count": null,
   "id": "f4ae18df",
   "metadata": {},
   "outputs": [],
   "source": [
    "Напишите программу, которая с помощью функций filter() и map() отбирает\n",
    "из заданного списка numbers трёхзначные числа, дающие при делении на 5\n",
    "остаток 2, и выводит их кубы, каждый в отдельной строке.\n",
    "\n",
    "Примечание. Остаток \n",
    "2 при делении на \n",
    "5 должно давать само число, а не его куб."
   ]
  },
  {
   "cell_type": "code",
   "execution_count": 21,
   "id": "7e477d6e",
   "metadata": {},
   "outputs": [
    {
     "name": "stdout",
     "output_type": "stream",
     "text": [
      "283593393\n",
      "758550528\n",
      "154854153\n",
      "8869743\n",
      "16974593\n",
      "12487168\n",
      "6028568\n",
      "849278123\n",
      "2863288\n",
      "57960603\n",
      "575930368\n"
     ]
    }
   ],
   "source": [
    "def map(function, items):\n",
    "    result = []\n",
    "    for item in items:\n",
    "        result.append(function(item))\n",
    "    return result\n",
    "\n",
    "\n",
    "def filter(function, items):\n",
    "    result = []\n",
    "    for item in items:\n",
    "        if function(item):\n",
    "            result.append(item)\n",
    "    return result\n",
    "\n",
    "\n",
    "numbers = [1014, 1321, 675, 1215, 56, 1386, 1385, 431, 1058, 486, 1434, 696, 1016, 1084,\n",
    "           424, 1189, 475, 95, 1434, 1462, 815, 776, 657, 1225, 912, 537, 1478, 1176, 544,\n",
    "           488, 668, 944, 207, 266, 1309, 1027, 257, 1374, 1289, 1155, 230, 866, 708, 144,\n",
    "           1434, 1163, 345, 394, 560, 338, 232, 182, 1438, 1127, 928, 1309, 98, 530, 1013,\n",
    "           898, 669, 105, 130, 1363, 947, 72, 1278, 166, 904, 349, 831, 1207, 1496, 370, 725,\n",
    "           926, 175, 959, 1282, 336, 1268, 351, 1439, 186, 273, 1008, 231, 138, 142, 433, 456,\n",
    "           1268, 1018, 1274, 387, 120, 340, 963, 832, 1127]\n",
    "\n",
    "def func1(x):\n",
    "    if len(str(x)) == 3:\n",
    "        return (x, x**3)\n",
    "    \n",
    "def func2(x):\n",
    "    if x:\n",
    "        if x[0] % 5 == 2:\n",
    "            return x\n",
    "    \n",
    "lst = filter(func2, (map(func1, numbers)))\n",
    "\n",
    "# lst = map(func1, numbers)\n",
    "\n",
    "\n",
    "for i in lst:\n",
    "    print(i[1])\n",
    "\n"
   ]
  },
  {
   "cell_type": "code",
   "execution_count": 11,
   "id": "0433b5e3",
   "metadata": {},
   "outputs": [
    {
     "data": {
      "text/plain": [
       "[1462,\n",
       " 657,\n",
       " 912,\n",
       " 537,\n",
       " 207,\n",
       " 1027,\n",
       " 257,\n",
       " 232,\n",
       " 182,\n",
       " 1127,\n",
       " 947,\n",
       " 72,\n",
       " 1207,\n",
       " 1282,\n",
       " 142,\n",
       " 387,\n",
       " 832,\n",
       " 1127]"
      ]
     },
     "execution_count": 11,
     "metadata": {},
     "output_type": "execute_result"
    }
   ],
   "source": [
    "filter(func2, numbers)"
   ]
  },
  {
   "cell_type": "code",
   "execution_count": null,
   "id": "20aefd4a",
   "metadata": {},
   "outputs": [],
   "source": []
  },
  {
   "cell_type": "markdown",
   "id": "3e431ac8",
   "metadata": {},
   "source": [
    "# Задача №2"
   ]
  },
  {
   "cell_type": "code",
   "execution_count": 2,
   "id": "2c055dd7",
   "metadata": {},
   "outputs": [],
   "source": [
    "# Напишите программу для вычисления и вывода суммы квадратов элементов списка numbers.\n",
    "\n",
    "def reduce(operation, items, initial_value):\n",
    "    acc = initial_value\n",
    "    for item in items:\n",
    "        acc = operation(acc, item)\n",
    "    return acc\n",
    "\n",
    "\n",
    "numbers = [97, 42, 9, 32, 3, 45, 31, 77, -1, 11, -2, 75, 5, 51, 34, 28, 46,\n",
    "           1, -8, 84, 16, 51, 90, 56, 65, 90, 23, 35, 11, -10, 70, 90, 90, 12,\n",
    "           96, 58, -8, -4, 91, 76, 94, 60, 72, 43, 4, -6, -5, 51, 58, 60, 30,\n",
    "           38, 67, 62, 36, 72, 34, 82, 62, -1, 60, 82, 87, 81, -7, 57, 26, 36,\n",
    "           17, 43, 80, 40, 75, 94, 91, 64, 38, 72, 29, 84, 38, 35, 7, 54, 31, 95,\n",
    "           78, 27, 82, 1, 64, 94, 31, 29, -8, 98, 24, 61, 7, 73]"
   ]
  },
  {
   "cell_type": "code",
   "execution_count": 4,
   "id": "aa4df677",
   "metadata": {},
   "outputs": [],
   "source": [
    "def operation(acc, item):\n",
    "    acc += item**2\n",
    "    return acc\n",
    "    "
   ]
  },
  {
   "cell_type": "code",
   "execution_count": 5,
   "id": "aa7b7163",
   "metadata": {},
   "outputs": [
    {
     "data": {
      "text/plain": [
       "319563"
      ]
     },
     "execution_count": 5,
     "metadata": {},
     "output_type": "execute_result"
    }
   ],
   "source": [
    "reduce(operation, numbers, 0)"
   ]
  },
  {
   "cell_type": "code",
   "execution_count": 12,
   "id": "6005e641",
   "metadata": {},
   "outputs": [
    {
     "data": {
      "text/plain": [
       "319563"
      ]
     },
     "execution_count": 12,
     "metadata": {},
     "output_type": "execute_result"
    }
   ],
   "source": [
    "def func(x):\n",
    "    return x**2\n",
    "        \n",
    "sum(map(func, numbers))"
   ]
  },
  {
   "cell_type": "code",
   "execution_count": null,
   "id": "3bad7ae3",
   "metadata": {},
   "outputs": [],
   "source": []
  },
  {
   "cell_type": "markdown",
   "id": "c0a2aeb6",
   "metadata": {},
   "source": [
    "# Задача №3"
   ]
  },
  {
   "cell_type": "code",
   "execution_count": null,
   "id": "7e5e4c53",
   "metadata": {},
   "outputs": [],
   "source": [
    "Напишите программу для вычисления и вывода суммы квадратов двузначных чисел, которые делятся на 7 без остатка.\n",
    "\n",
    "Примечание 1. При решении задачи используйте функции filter(), map() и sum().\n",
    "\n",
    "Примечание 2. На 7 должно делиться исходное двузначное число, а не его квадрат.\n",
    "\n",
    "Примечание 3. Не забывайте про отрицательные двузначные числа."
   ]
  },
  {
   "cell_type": "code",
   "execution_count": 3,
   "id": "b855ef97",
   "metadata": {},
   "outputs": [],
   "source": [
    "def map(function, items):\n",
    "    result = []\n",
    "    for item in items:\n",
    "        result.append(function(item))\n",
    "    return result\n",
    "\n",
    "\n",
    "def filter(function, items):\n",
    "    result = []\n",
    "    for item in items:\n",
    "        if function(item):\n",
    "            result.append(item)\n",
    "    return result\n",
    "\n",
    "\n",
    "numbers = [77, 293, 28, 242, 213, 285, 71, 286, 144, 276, 61, 298, 280, 214, 156, 227, 228,\n",
    "           51, -4, 202, 58, 99, 270, 219, 94, 253, 53, 235, 9, 158, 49, 183, 166, 205, 183,\n",
    "           266, 180, 6, 279, 200, 208, 231, 178, 201, 260, -35, 152, 115, 79, 284, 181, 92,\n",
    "           286, 98, 271, 259, 258, 196, -8, 43, 2, 128, 143, 43, 297, 229, 60, 254, -9, 5,\n",
    "           187, 220, -8, 111, 285, 5, 263, 187, 192, -9, 268, -9, 23, 71, 135, 7, -161, 65,\n",
    "           135, 29, 148, 242, 33, 35, 211, 5, 161, 46, 159, 23, 169, 23, 172, 184, -7, 228,\n",
    "           129, 274, 73, 197, 272, 54, 278, 26, 280, 13, 171, 2, 79, -2, 183, 10, 236, 276,\n",
    "           4, 29, -10, 41, 269, 94, 279, 129, 39, 92, -63, 263, 219, 57, 18, 236, 291, 234,\n",
    "           10, 250, 0, 64, 172, 216, 30, 15, 229, 205, 123, -105]"
   ]
  },
  {
   "cell_type": "code",
   "execution_count": 38,
   "id": "b556740e",
   "metadata": {},
   "outputs": [],
   "source": [
    "def function1(x):\n",
    "    if len (str(abs(x))) == 2:\n",
    "        if x % 7 == 0:\n",
    "            return x**2"
   ]
  },
  {
   "cell_type": "code",
   "execution_count": 43,
   "id": "e3b118f6",
   "metadata": {},
   "outputs": [],
   "source": [
    "# map(function1, numbers)"
   ]
  },
  {
   "cell_type": "code",
   "execution_count": 40,
   "id": "0a8d2deb",
   "metadata": {},
   "outputs": [],
   "source": [
    "def function2(x):    \n",
    "    if x:\n",
    "        return x"
   ]
  },
  {
   "cell_type": "code",
   "execution_count": 41,
   "id": "3801d3ca",
   "metadata": {},
   "outputs": [
    {
     "data": {
      "text/plain": [
       "[5929, 784, 2401, 1225, 9604, 1225, 3969]"
      ]
     },
     "execution_count": 41,
     "metadata": {},
     "output_type": "execute_result"
    }
   ],
   "source": [
    "filter(function2, map(function1, numbers))"
   ]
  },
  {
   "cell_type": "code",
   "execution_count": 42,
   "id": "00f436e2",
   "metadata": {},
   "outputs": [
    {
     "data": {
      "text/plain": [
       "25137"
      ]
     },
     "execution_count": 42,
     "metadata": {},
     "output_type": "execute_result"
    }
   ],
   "source": [
    "sum(filter(function2, map(function1, numbers)))"
   ]
  },
  {
   "cell_type": "code",
   "execution_count": null,
   "id": "a3cbb722",
   "metadata": {},
   "outputs": [],
   "source": []
  },
  {
   "cell_type": "markdown",
   "id": "4e260edc",
   "metadata": {},
   "source": [
    "# Задача №4"
   ]
  },
  {
   "cell_type": "code",
   "execution_count": 45,
   "id": "3819b57c",
   "metadata": {},
   "outputs": [],
   "source": [
    "# Напишите функцию func_apply(), принимающую на вход функцию и список значений и \n",
    "# возвращающую список, в котором каждое значение будет результатом применения \n",
    "# переданной функции к переданному списку.\n",
    "\n",
    "# Примечание 1. Приведенный ниже код, при условии, что функция func_apply() написана правильно\n",
    "\n",
    "def add3(x):\n",
    "    return x + 3\n",
    "\n",
    "\n",
    "def mul7(x):\n",
    "    return x * 7\n",
    "\n",
    "\n",
    "# print(func_apply(mul7, [1, 2, 3, 4, 5, 6]))\n",
    "# print(func_apply(add3, [1, 2, 3, 4, 5, 6]))\n",
    "# print(func_apply(str, [1, 2, 3, 4, 5, 6]))\n",
    "# должен выводить:\n",
    "\n",
    "# [7, 14, 21, 28, 35, 42]\n",
    "# [4, 5, 6, 7, 8, 9]\n",
    "# ['1', '2', '3', '4', '5', '6']"
   ]
  },
  {
   "cell_type": "code",
   "execution_count": 46,
   "id": "57a7bafd",
   "metadata": {},
   "outputs": [],
   "source": [
    "def func_apply(func, items):\n",
    "    lst = []\n",
    "    for item in items:\n",
    "        lst.append(func(item))\n",
    "    return lst\n",
    "        "
   ]
  },
  {
   "cell_type": "code",
   "execution_count": 47,
   "id": "451316bb",
   "metadata": {},
   "outputs": [
    {
     "name": "stdout",
     "output_type": "stream",
     "text": [
      "[7, 14, 21, 28, 35, 42]\n",
      "[4, 5, 6, 7, 8, 9]\n",
      "['1', '2', '3', '4', '5', '6']\n"
     ]
    }
   ],
   "source": [
    "print(func_apply(mul7, [1, 2, 3, 4, 5, 6]))\n",
    "print(func_apply(add3, [1, 2, 3, 4, 5, 6]))\n",
    "print(func_apply(str, [1, 2, 3, 4, 5, 6]))"
   ]
  },
  {
   "cell_type": "code",
   "execution_count": null,
   "id": "dea9523f",
   "metadata": {},
   "outputs": [],
   "source": []
  },
  {
   "cell_type": "code",
   "execution_count": null,
   "id": "176db07d",
   "metadata": {},
   "outputs": [],
   "source": []
  },
  {
   "cell_type": "markdown",
   "id": "2cae7c63",
   "metadata": {},
   "source": [
    "# Задача №5"
   ]
  },
  {
   "cell_type": "code",
   "execution_count": null,
   "id": "6b559925",
   "metadata": {},
   "outputs": [],
   "source": [
    "Напишите программу, которая с помощью встроенных функций filter(), map(), sorted() и reduce() \n",
    "выводит в алфавитном порядке список primary городов с населением более \n",
    "10000000 человек, в формате:\n",
    "\n",
    "Cities: Beijing, Buenos Aires, ..."
   ]
  },
  {
   "cell_type": "code",
   "execution_count": 41,
   "id": "afe29102",
   "metadata": {},
   "outputs": [],
   "source": [
    "from functools import reduce\n",
    "\n",
    "data = [['Tokyo', 35676000, 'primary'],\n",
    "        ['New York', 19354922, 'nan'],\n",
    "        ['Mexico City', 19028000, 'primary'],\n",
    "        ['Mumbai', 18978000, 'admin'],\n",
    "        ['Sao Paulo', 18845000, 'admin'],\n",
    "        ['Delhi', 15926000, 'admin'],\n",
    "        ['Shanghai', 14987000, 'admin'],\n",
    "        ['Kolkata', 14787000, 'admin'],\n",
    "        ['Los Angeles', 12815475, 'nan'],\n",
    "        ['Dhaka', 12797394, 'primary'],\n",
    "        ['Buenos Aires', 12795000, 'primary'],\n",
    "        ['Karachi', 12130000, 'admin'],\n",
    "        ['Cairo', 11893000, 'primary'],\n",
    "        ['Rio de Janeiro', 11748000, 'admin'],\n",
    "        ['Osaka', 11294000, 'admin'],\n",
    "        ['Beijing', 11106000, 'primary'],\n",
    "        ['Manila', 11100000, 'primary'],\n",
    "        ['Moscow', 10452000, 'primary'],\n",
    "        ['Istanbul', 10061000, 'admin'],\n",
    "        ['Paris', 9904000, 'primary']]\n",
    "\n",
    "\n",
    "f = filter(lambda x: x[1] > 10000000 and x[2] == 'primary', data)\n",
    "\n",
    "ff = sorted(f, key = lambda x: x[0])\n",
    "\n",
    "# res = reduce(lambda x: x + x[0] + ', ', ff, 'Cities: ')\n",
    "\n",
    "# print(res[:-2])"
   ]
  },
  {
   "cell_type": "code",
   "execution_count": 42,
   "id": "98dcb391",
   "metadata": {},
   "outputs": [
    {
     "data": {
      "text/plain": [
       "[['Beijing', 11106000, 'primary'],\n",
       " ['Buenos Aires', 12795000, 'primary'],\n",
       " ['Cairo', 11893000, 'primary'],\n",
       " ['Dhaka', 12797394, 'primary'],\n",
       " ['Manila', 11100000, 'primary'],\n",
       " ['Mexico City', 19028000, 'primary'],\n",
       " ['Moscow', 10452000, 'primary'],\n",
       " ['Tokyo', 35676000, 'primary']]"
      ]
     },
     "execution_count": 42,
     "metadata": {},
     "output_type": "execute_result"
    }
   ],
   "source": [
    "ff"
   ]
  },
  {
   "cell_type": "code",
   "execution_count": 43,
   "id": "b3ac0f38",
   "metadata": {},
   "outputs": [],
   "source": [
    "fff = list(map(lambda x: x[0], ff))"
   ]
  },
  {
   "cell_type": "code",
   "execution_count": 44,
   "id": "8058da2b",
   "metadata": {},
   "outputs": [
    {
     "data": {
      "text/plain": [
       "['Beijing',\n",
       " 'Buenos Aires',\n",
       " 'Cairo',\n",
       " 'Dhaka',\n",
       " 'Manila',\n",
       " 'Mexico City',\n",
       " 'Moscow',\n",
       " 'Tokyo']"
      ]
     },
     "execution_count": 44,
     "metadata": {},
     "output_type": "execute_result"
    }
   ],
   "source": [
    "fff"
   ]
  },
  {
   "cell_type": "code",
   "execution_count": 45,
   "id": "fa506cfc",
   "metadata": {},
   "outputs": [
    {
     "data": {
      "text/plain": [
       "'Cities: Beijing, Buenos Aires, Cairo, Dhaka, Manila, Mexico City, Moscow, Tokyo'"
      ]
     },
     "execution_count": 45,
     "metadata": {},
     "output_type": "execute_result"
    }
   ],
   "source": [
    "reduce(lambda x, lst: x + lst[0]  + ', ', ff, 'Cities: ')[:-2]"
   ]
  },
  {
   "cell_type": "code",
   "execution_count": null,
   "id": "69c3b6b4",
   "metadata": {},
   "outputs": [],
   "source": []
  },
  {
   "cell_type": "markdown",
   "id": "b8f7c18c",
   "metadata": {},
   "source": [
    "# Задача №6"
   ]
  },
  {
   "cell_type": "code",
   "execution_count": null,
   "id": "33aef8fd",
   "metadata": {},
   "outputs": [],
   "source": [
    "Напишите функцию func, используя синтаксис анонимных функций, которая принимает\n",
    "целочисленный аргумент и возвращает значение True, если он делится без остатка на \n",
    "19 или на \n",
    "13 и False в противном случае.\n",
    "\n",
    "Примечание 1. Следующий программный код:\n",
    "\n",
    "print(func(19))\n",
    "print(func(13))\n",
    "print(func(20))\n",
    "print(func(15))\n",
    "print(func(247))\n",
    "\n",
    "должен выводить:\n",
    "\n",
    "True\n",
    "True\n",
    "False\n",
    "False\n",
    "True"
   ]
  },
  {
   "cell_type": "code",
   "execution_count": 60,
   "id": "27a8a3a7",
   "metadata": {},
   "outputs": [],
   "source": [
    "def func(x):\n",
    "    for i in map(lambda x: True if x % 19 == 0 or x % 13 == 0 else False, [x]):\n",
    "        return i"
   ]
  },
  {
   "cell_type": "code",
   "execution_count": 63,
   "id": "4c91ce7b",
   "metadata": {},
   "outputs": [
    {
     "name": "stdout",
     "output_type": "stream",
     "text": [
      "True\n",
      "True\n",
      "False\n",
      "False\n",
      "True\n"
     ]
    }
   ],
   "source": [
    "print(func(19))\n",
    "print(func(13))\n",
    "print(func(20))\n",
    "print(func(15))\n",
    "print(func(247))"
   ]
  },
  {
   "cell_type": "code",
   "execution_count": 56,
   "id": "b49a2a88",
   "metadata": {},
   "outputs": [],
   "source": [
    "# Лучший вариант:\n",
    "    \n",
    "func = lambda x: x % 19 == 0 or x % 13 == 0"
   ]
  },
  {
   "cell_type": "code",
   "execution_count": 57,
   "id": "76e1c83d",
   "metadata": {},
   "outputs": [
    {
     "name": "stdout",
     "output_type": "stream",
     "text": [
      "True\n",
      "True\n",
      "False\n",
      "False\n",
      "True\n"
     ]
    }
   ],
   "source": [
    "print(func(19))\n",
    "print(func(13))\n",
    "print(func(20))\n",
    "print(func(15))\n",
    "print(func(247))"
   ]
  },
  {
   "cell_type": "code",
   "execution_count": null,
   "id": "ffb896db",
   "metadata": {},
   "outputs": [],
   "source": []
  },
  {
   "cell_type": "code",
   "execution_count": null,
   "id": "756a8c9c",
   "metadata": {},
   "outputs": [],
   "source": []
  },
  {
   "cell_type": "code",
   "execution_count": null,
   "id": "87b3da8f",
   "metadata": {},
   "outputs": [],
   "source": []
  },
  {
   "cell_type": "code",
   "execution_count": null,
   "id": "688a17ca",
   "metadata": {},
   "outputs": [],
   "source": []
  },
  {
   "cell_type": "code",
   "execution_count": null,
   "id": "a3b52b03",
   "metadata": {},
   "outputs": [],
   "source": []
  },
  {
   "cell_type": "code",
   "execution_count": null,
   "id": "894d4823",
   "metadata": {},
   "outputs": [],
   "source": []
  }
 ],
 "metadata": {
  "kernelspec": {
   "display_name": "Python 3 (ipykernel)",
   "language": "python",
   "name": "python3"
  },
  "language_info": {
   "codemirror_mode": {
    "name": "ipython",
    "version": 3
   },
   "file_extension": ".py",
   "mimetype": "text/x-python",
   "name": "python",
   "nbconvert_exporter": "python",
   "pygments_lexer": "ipython3",
   "version": "3.10.2"
  }
 },
 "nbformat": 4,
 "nbformat_minor": 5
}
