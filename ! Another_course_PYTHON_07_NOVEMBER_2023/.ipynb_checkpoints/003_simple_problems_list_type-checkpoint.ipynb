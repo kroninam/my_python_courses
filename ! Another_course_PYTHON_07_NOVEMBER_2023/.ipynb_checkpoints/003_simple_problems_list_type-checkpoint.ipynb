{
 "cells": [
  {
   "cell_type": "markdown",
   "id": "b8728e29",
   "metadata": {},
   "source": [
    "# Задача №1"
   ]
  },
  {
   "cell_type": "code",
   "execution_count": null,
   "id": "ca4633fc",
   "metadata": {},
   "outputs": [],
   "source": [
    "На вход программе подается число n. \n",
    "\n",
    "Напишите программу, которая создает и выводит построчно список, состоящий из \n",
    "n списков [[1, 2, ..., n], [1, 2, ..., n], ..., [1, 2, ..., n]]."
   ]
  },
  {
   "cell_type": "code",
   "execution_count": 6,
   "id": "d8b7fb9d",
   "metadata": {},
   "outputs": [
    {
     "name": "stdout",
     "output_type": "stream",
     "text": [
      "6\n"
     ]
    }
   ],
   "source": [
    "n = int(input())\n",
    "\n",
    "lst = [[i+1 for i in range(n)] for i in range(n)]"
   ]
  },
  {
   "cell_type": "code",
   "execution_count": 7,
   "id": "d5c01a94",
   "metadata": {},
   "outputs": [
    {
     "data": {
      "text/plain": [
       "[[1, 2, 3, 4, 5, 6],\n",
       " [1, 2, 3, 4, 5, 6],\n",
       " [1, 2, 3, 4, 5, 6],\n",
       " [1, 2, 3, 4, 5, 6],\n",
       " [1, 2, 3, 4, 5, 6],\n",
       " [1, 2, 3, 4, 5, 6]]"
      ]
     },
     "execution_count": 7,
     "metadata": {},
     "output_type": "execute_result"
    }
   ],
   "source": [
    "lst"
   ]
  },
  {
   "cell_type": "code",
   "execution_count": 18,
   "id": "657e59fa",
   "metadata": {},
   "outputs": [
    {
     "name": "stdout",
     "output_type": "stream",
     "text": [
      "[1, 2, 3, 4, 5, 6]\n",
      "[1, 2, 3, 4, 5, 6]\n",
      "[1, 2, 3, 4, 5, 6]\n",
      "[1, 2, 3, 4, 5, 6]\n",
      "[1, 2, 3, 4, 5, 6]\n",
      "[1, 2, 3, 4, 5, 6]\n"
     ]
    }
   ],
   "source": [
    "for j in lst:\n",
    "    print(j)"
   ]
  },
  {
   "cell_type": "code",
   "execution_count": null,
   "id": "d4831aa7",
   "metadata": {},
   "outputs": [],
   "source": []
  },
  {
   "cell_type": "markdown",
   "id": "9b6ead2f",
   "metadata": {},
   "source": [
    "# Задача №2"
   ]
  },
  {
   "cell_type": "code",
   "execution_count": null,
   "id": "4aa8d2bc",
   "metadata": {},
   "outputs": [],
   "source": [
    "На вход программе подается число n. \n",
    "\n",
    "Напишите программу, которая создает и выводит построчно вложенный список, \n",
    "состоящий из n списков [[1], [1, 2], [1, 2, 3], ..., [1, 2, ..., n]]."
   ]
  },
  {
   "cell_type": "code",
   "execution_count": 29,
   "id": "0ce50011",
   "metadata": {},
   "outputs": [
    {
     "name": "stdout",
     "output_type": "stream",
     "text": [
      "7\n",
      "[1]\n",
      "[1, 2]\n",
      "[1, 2, 3]\n",
      "[1, 2, 3, 4]\n",
      "[1, 2, 3, 4, 5]\n",
      "[1, 2, 3, 4, 5, 6]\n",
      "[1, 2, 3, 4, 5, 6, 7]\n"
     ]
    }
   ],
   "source": [
    "n = int(input())\n",
    "\n",
    "lst = []\n",
    "\n",
    "for i in range(n):\n",
    "    \n",
    "    lst.append([x+1 for x in range(i+1)])\n",
    "    \n",
    "for j in lst:\n",
    "    print(j)    "
   ]
  },
  {
   "cell_type": "code",
   "execution_count": null,
   "id": "c38e7a85",
   "metadata": {},
   "outputs": [],
   "source": []
  },
  {
   "cell_type": "markdown",
   "id": "f70f81dd",
   "metadata": {},
   "source": [
    "# Задача № 3"
   ]
  },
  {
   "cell_type": "code",
   "execution_count": null,
   "id": "600698b8",
   "metadata": {},
   "outputs": [],
   "source": [
    "Треугольник Паскаля — бесконечная таблица биномиальных коэффициентов, имеющая треугольную форму.\n",
    "В этом треугольнике на вершине и по бокам стоят единицы.\n",
    "Каждое число равно сумме двух расположенных над ним чисел.\n",
    "\n",
    "На вход программе подается число n. \n",
    "Напишите программу, которая возвращает указанную строку треугольника \n",
    "Паскаля в виде списка (нумерация строк начинается с нуля)."
   ]
  },
  {
   "cell_type": "code",
   "execution_count": 97,
   "id": "db740878",
   "metadata": {},
   "outputs": [
    {
     "name": "stdout",
     "output_type": "stream",
     "text": [
      "7\n"
     ]
    }
   ],
   "source": [
    "n = int(input())"
   ]
  },
  {
   "cell_type": "code",
   "execution_count": 98,
   "id": "0b31ec52",
   "metadata": {},
   "outputs": [],
   "source": [
    "lst = []\n",
    "for i in range(n):\n",
    "    row = [0] * n\n",
    "    row[0] = 1\n",
    "    lst.append(row)\n",
    "    \n",
    "    \n",
    "# Для того, чтобы не было проблем с n == 0:\n",
    "\n",
    "# lst = []\n",
    "# for i in range(n+1):\n",
    "#     row = [0] * (n+1)\n",
    "#     row[0] = 1\n",
    "#     lst.append(row)    "
   ]
  },
  {
   "cell_type": "code",
   "execution_count": 99,
   "id": "65b5a745",
   "metadata": {
    "scrolled": true
   },
   "outputs": [
    {
     "data": {
      "text/plain": [
       "[[1, 0, 0, 0, 0, 0, 0],\n",
       " [1, 0, 0, 0, 0, 0, 0],\n",
       " [1, 0, 0, 0, 0, 0, 0],\n",
       " [1, 0, 0, 0, 0, 0, 0],\n",
       " [1, 0, 0, 0, 0, 0, 0],\n",
       " [1, 0, 0, 0, 0, 0, 0],\n",
       " [1, 0, 0, 0, 0, 0, 0]]"
      ]
     },
     "execution_count": 99,
     "metadata": {},
     "output_type": "execute_result"
    }
   ],
   "source": [
    "lst"
   ]
  },
  {
   "cell_type": "code",
   "execution_count": 100,
   "id": "aa5e7774",
   "metadata": {},
   "outputs": [],
   "source": [
    "for i in range(len(lst)-1):\n",
    "    for j in range(len(lst[i+1])-1):\n",
    "        \n",
    "        lst[i+1][j+1] = lst[i][j] + lst[i][j+1]"
   ]
  },
  {
   "cell_type": "code",
   "execution_count": 101,
   "id": "d867a056",
   "metadata": {},
   "outputs": [
    {
     "data": {
      "text/plain": [
       "[[1, 0, 0, 0, 0, 0, 0],\n",
       " [1, 1, 0, 0, 0, 0, 0],\n",
       " [1, 2, 1, 0, 0, 0, 0],\n",
       " [1, 3, 3, 1, 0, 0, 0],\n",
       " [1, 4, 6, 4, 1, 0, 0],\n",
       " [1, 5, 10, 10, 5, 1, 0],\n",
       " [1, 6, 15, 20, 15, 6, 1]]"
      ]
     },
     "execution_count": 101,
     "metadata": {},
     "output_type": "execute_result"
    }
   ],
   "source": [
    "lst"
   ]
  },
  {
   "cell_type": "code",
   "execution_count": 110,
   "id": "b7d410a0",
   "metadata": {},
   "outputs": [
    {
     "data": {
      "text/plain": [
       "[1, 0, 0, 0, 0, 0, 0]"
      ]
     },
     "execution_count": 110,
     "metadata": {},
     "output_type": "execute_result"
    }
   ],
   "source": [
    "lst[0]"
   ]
  },
  {
   "cell_type": "code",
   "execution_count": null,
   "id": "1e275800",
   "metadata": {},
   "outputs": [],
   "source": [
    "# How to remove all 0 from list using list(filter):\n",
    "\n",
    "X = [0,5,0,0,3,1,15,0,12]\n",
    "list(filter(lambda num: num != 0, X))\n",
    "# [5, 3, 1, 15, 12]"
   ]
  },
  {
   "cell_type": "code",
   "execution_count": 118,
   "id": "a57dc71d",
   "metadata": {},
   "outputs": [
    {
     "data": {
      "text/plain": [
       "[[1],\n",
       " [1, 1],\n",
       " [1, 2, 1],\n",
       " [1, 3, 3, 1],\n",
       " [1, 4, 6, 4, 1],\n",
       " [1, 5, 10, 10, 5, 1],\n",
       " [1, 6, 15, 20, 15, 6, 1]]"
      ]
     },
     "execution_count": 118,
     "metadata": {},
     "output_type": "execute_result"
    }
   ],
   "source": [
    "for i in range(len(lst)):\n",
    "    lst[i] = list(filter(lambda x: x != 0, lst[i]))\n",
    "lst"
   ]
  },
  {
   "cell_type": "code",
   "execution_count": null,
   "id": "f3dca32a",
   "metadata": {},
   "outputs": [],
   "source": []
  },
  {
   "cell_type": "code",
   "execution_count": null,
   "id": "fca1bd0b",
   "metadata": {},
   "outputs": [],
   "source": []
  },
  {
   "cell_type": "markdown",
   "id": "131db95e",
   "metadata": {},
   "source": [
    "# Задача №4"
   ]
  },
  {
   "cell_type": "code",
   "execution_count": null,
   "id": "0aa5b88e",
   "metadata": {},
   "outputs": [],
   "source": [
    "Треугольник Паскаля 2\n",
    "На вход программе подается натуральное число n.\n",
    "Напишите программу, которая выводит первые n строк треугольника Паскаля.\n",
    "\n",
    "Формат входных данных\n",
    "На вход программе подается число n\n",
    "\n",
    "Формат выходных данных\n",
    "Программа должна вывести первые n строк треугольника Паскаля, \n",
    "каждую на отдельной строке в соответствии с образцом."
   ]
  },
  {
   "cell_type": "code",
   "execution_count": 2,
   "id": "c2088e7b",
   "metadata": {},
   "outputs": [
    {
     "name": "stdout",
     "output_type": "stream",
     "text": [
      "5\n"
     ]
    }
   ],
   "source": [
    "n = int(input())"
   ]
  },
  {
   "cell_type": "code",
   "execution_count": 15,
   "id": "ac6c6b2f",
   "metadata": {},
   "outputs": [],
   "source": [
    "import numpy as np\n",
    "a = np.zeros((n,n))"
   ]
  },
  {
   "cell_type": "code",
   "execution_count": 52,
   "id": "c22b357f",
   "metadata": {},
   "outputs": [],
   "source": []
  },
  {
   "cell_type": "code",
   "execution_count": 87,
   "id": "4390e6d0",
   "metadata": {},
   "outputs": [],
   "source": [
    "a = []\n",
    "\n",
    "for i in range(n):\n",
    "    a.append([0]*n)"
   ]
  },
  {
   "cell_type": "code",
   "execution_count": 88,
   "id": "0800810e",
   "metadata": {},
   "outputs": [
    {
     "data": {
      "text/plain": [
       "[0, 0, 0, 0, 0]"
      ]
     },
     "execution_count": 88,
     "metadata": {},
     "output_type": "execute_result"
    }
   ],
   "source": [
    "[0]*5"
   ]
  },
  {
   "cell_type": "code",
   "execution_count": 89,
   "id": "bc800ab2",
   "metadata": {},
   "outputs": [
    {
     "data": {
      "text/plain": [
       "[[0, 0, 0, 0, 0],\n",
       " [0, 0, 0, 0, 0],\n",
       " [0, 0, 0, 0, 0],\n",
       " [0, 0, 0, 0, 0],\n",
       " [0, 0, 0, 0, 0]]"
      ]
     },
     "execution_count": 89,
     "metadata": {},
     "output_type": "execute_result"
    }
   ],
   "source": [
    "a"
   ]
  },
  {
   "cell_type": "code",
   "execution_count": 90,
   "id": "e3589fbc",
   "metadata": {},
   "outputs": [],
   "source": [
    "for i in a:\n",
    "    i[0] = 1"
   ]
  },
  {
   "cell_type": "code",
   "execution_count": 91,
   "id": "04a15c00",
   "metadata": {},
   "outputs": [
    {
     "data": {
      "text/plain": [
       "[[1, 0, 0, 0, 0],\n",
       " [1, 0, 0, 0, 0],\n",
       " [1, 0, 0, 0, 0],\n",
       " [1, 0, 0, 0, 0],\n",
       " [1, 0, 0, 0, 0]]"
      ]
     },
     "execution_count": 91,
     "metadata": {},
     "output_type": "execute_result"
    }
   ],
   "source": [
    "a"
   ]
  },
  {
   "cell_type": "code",
   "execution_count": 92,
   "id": "891dfbfc",
   "metadata": {},
   "outputs": [],
   "source": [
    "for i in range(n-1):\n",
    "    for j in range(n-1):\n",
    "        a[i+1][j+1] = a[i][j] + a[i][j+1]"
   ]
  },
  {
   "cell_type": "code",
   "execution_count": 93,
   "id": "33f458e2",
   "metadata": {},
   "outputs": [
    {
     "data": {
      "text/plain": [
       "[[1, 0, 0, 0, 0],\n",
       " [1, 1, 0, 0, 0],\n",
       " [1, 2, 1, 0, 0],\n",
       " [1, 3, 3, 1, 0],\n",
       " [1, 4, 6, 4, 1]]"
      ]
     },
     "execution_count": 93,
     "metadata": {},
     "output_type": "execute_result"
    }
   ],
   "source": [
    "a"
   ]
  },
  {
   "cell_type": "code",
   "execution_count": 94,
   "id": "b3a9f0c9",
   "metadata": {},
   "outputs": [
    {
     "name": "stdout",
     "output_type": "stream",
     "text": [
      "1 \n",
      "1 1 \n",
      "1 2 1 \n",
      "1 3 3 1 \n",
      "1 4 6 4 1 \n"
     ]
    }
   ],
   "source": [
    "for i in a:\n",
    "    for j in i:\n",
    "        if j != 0:\n",
    "            print(j, end = ' ')\n",
    "    print()"
   ]
  },
  {
   "cell_type": "code",
   "execution_count": null,
   "id": "40bd1b86",
   "metadata": {},
   "outputs": [],
   "source": []
  },
  {
   "cell_type": "markdown",
   "id": "f29f3ac3",
   "metadata": {},
   "source": [
    "# Задача №5"
   ]
  },
  {
   "cell_type": "code",
   "execution_count": null,
   "id": "fe709db7",
   "metadata": {},
   "outputs": [],
   "source": [
    "Упаковка дубликатов 🌶️\n",
    "На вход программе подается строка текста, содержащая символы. \n",
    "Напишите программу, которая упаковывает последовательности одинаковых символов заданной строки в подсписки.\n",
    "\n",
    "Формат входных данных\n",
    "На вход программе подается строка текста, содержащая символы, отделенные символом пробела."
   ]
  },
  {
   "cell_type": "code",
   "execution_count": 322,
   "id": "d6279553",
   "metadata": {},
   "outputs": [
    {
     "name": "stdout",
     "output_type": "stream",
     "text": [
      "a b c d e w w w\n"
     ]
    }
   ],
   "source": [
    "s = input().split()"
   ]
  },
  {
   "cell_type": "code",
   "execution_count": 323,
   "id": "dd9aa17c",
   "metadata": {},
   "outputs": [
    {
     "data": {
      "text/plain": [
       "['a', 'b', 'c', 'd', 'e', 'w', 'w', 'w']"
      ]
     },
     "execution_count": 323,
     "metadata": {},
     "output_type": "execute_result"
    }
   ],
   "source": [
    "s"
   ]
  },
  {
   "cell_type": "code",
   "execution_count": 324,
   "id": "e90efbd8",
   "metadata": {},
   "outputs": [],
   "source": [
    "ss = s.copy()"
   ]
  },
  {
   "cell_type": "code",
   "execution_count": 325,
   "id": "2c203cb0",
   "metadata": {},
   "outputs": [
    {
     "data": {
      "text/plain": [
       "['a', 'b', 'c', 'd', 'e', 'w', 'w', 'w']"
      ]
     },
     "execution_count": 325,
     "metadata": {},
     "output_type": "execute_result"
    }
   ],
   "source": [
    "ss"
   ]
  },
  {
   "cell_type": "code",
   "execution_count": 326,
   "id": "52500b4e",
   "metadata": {},
   "outputs": [
    {
     "name": "stdout",
     "output_type": "stream",
     "text": [
      "['b', 'c', 'd', 'e', 'w', 'w', 'w']\n",
      "['c', 'd', 'e', 'w', 'w', 'w']\n",
      "['d', 'e', 'w', 'w', 'w']\n",
      "['e', 'w', 'w', 'w']\n",
      "['w', 'w', 'w']\n",
      "['w', 'w']\n",
      "['w']\n"
     ]
    }
   ],
   "source": [
    "lst = []\n",
    "\n",
    "while len(ss) > 0:\n",
    "    \n",
    "    tmp_lst = []    \n",
    "\n",
    "    if len(ss) == 1:\n",
    "        lst.append([ss[0]])\n",
    "        ss.remove(ss[0])\n",
    "        break\n",
    "    elif len(ss) == 1:\n",
    "            lst[-1].append(ss[0])\n",
    "            break\n",
    "        \n",
    "    \n",
    "    for i in range(len(ss) - 1):\n",
    "        if ss[i] == ss[i+1]:\n",
    "            tmp_lst.append(ss[i])\n",
    "            s.remove(ss[i])\n",
    "            print(s)\n",
    "        else:\n",
    "            tmp_lst.append(ss[i])\n",
    "            s.remove(ss[i])\n",
    "            print(s)\n",
    "            break\n",
    "            \n",
    "    lst.append(tmp_lst)\n",
    "    for j in tmp_lst:\n",
    "        ss.remove(j)"
   ]
  },
  {
   "cell_type": "code",
   "execution_count": 327,
   "id": "38dafff0",
   "metadata": {
    "scrolled": false
   },
   "outputs": [
    {
     "data": {
      "text/plain": [
       "[]"
      ]
     },
     "execution_count": 327,
     "metadata": {},
     "output_type": "execute_result"
    }
   ],
   "source": [
    "ss"
   ]
  },
  {
   "cell_type": "code",
   "execution_count": 328,
   "id": "9703f842",
   "metadata": {},
   "outputs": [
    {
     "data": {
      "text/plain": [
       "[['a'], ['b'], ['c'], ['d'], ['e'], ['w', 'w'], ['w']]"
      ]
     },
     "execution_count": 328,
     "metadata": {},
     "output_type": "execute_result"
    }
   ],
   "source": [
    "lst"
   ]
  },
  {
   "cell_type": "code",
   "execution_count": 329,
   "id": "2e8e13ed",
   "metadata": {},
   "outputs": [
    {
     "data": {
      "text/plain": [
       "['w']"
      ]
     },
     "execution_count": 329,
     "metadata": {},
     "output_type": "execute_result"
    }
   ],
   "source": [
    "lst[-1]"
   ]
  },
  {
   "cell_type": "code",
   "execution_count": 336,
   "id": "2d0ec330",
   "metadata": {},
   "outputs": [],
   "source": [
    "if lst[-1][0] in lst[-2]:\n",
    "    lst[-2].extend(lst[-1])\n",
    "    lst.pop(-1)"
   ]
  },
  {
   "cell_type": "code",
   "execution_count": 337,
   "id": "588c7719",
   "metadata": {},
   "outputs": [
    {
     "data": {
      "text/plain": [
       "[['a'], ['b'], ['c'], ['d'], ['e'], ['w', 'w', 'w', 'w']]"
      ]
     },
     "execution_count": 337,
     "metadata": {},
     "output_type": "execute_result"
    }
   ],
   "source": [
    "lst"
   ]
  },
  {
   "cell_type": "code",
   "execution_count": null,
   "id": "ea2dd492",
   "metadata": {},
   "outputs": [],
   "source": []
  },
  {
   "cell_type": "code",
   "execution_count": null,
   "id": "a70221be",
   "metadata": {},
   "outputs": [],
   "source": []
  },
  {
   "cell_type": "markdown",
   "id": "35ac059f",
   "metadata": {},
   "source": [
    "# Задача №6"
   ]
  },
  {
   "cell_type": "code",
   "execution_count": null,
   "id": "c38ee6ca",
   "metadata": {},
   "outputs": [],
   "source": [
    "Разбиение на чанки 🌶️\n",
    "\n",
    "На вход программе подаются две строки: на одной – символы, на другой – число n.\n",
    "Из первой строки формируется список.\n",
    "\n",
    "Реализуйте функцию chunked(), которая принимает на вход список и число, задающее\n",
    "размер чанка (куска), а возвращает список из чанков (кусков) указанной длины."
   ]
  },
  {
   "cell_type": "code",
   "execution_count": 22,
   "id": "187735bb",
   "metadata": {},
   "outputs": [
    {
     "name": "stdout",
     "output_type": "stream",
     "text": [
      "a b c d e\n",
      "2\n"
     ]
    }
   ],
   "source": [
    "s = input().split()\n",
    "\n",
    "n = int(input())"
   ]
  },
  {
   "cell_type": "code",
   "execution_count": 19,
   "id": "0bd14792",
   "metadata": {},
   "outputs": [],
   "source": [
    "def chunked(s, n):\n",
    "    lst = []\n",
    "    \n",
    "    while len(s) > 0:\n",
    "    \n",
    "        lst.append(s[:n])\n",
    "    \n",
    "        for j in s[:n]:\n",
    "            s.remove(j)\n",
    "            \n",
    "    return lst\n",
    "        "
   ]
  },
  {
   "cell_type": "code",
   "execution_count": 7,
   "id": "7ee4b50a",
   "metadata": {},
   "outputs": [
    {
     "data": {
      "text/plain": [
       "['a', 'b']"
      ]
     },
     "execution_count": 7,
     "metadata": {},
     "output_type": "execute_result"
    }
   ],
   "source": [
    "s[:n]"
   ]
  },
  {
   "cell_type": "code",
   "execution_count": 8,
   "id": "6c1ee8a2",
   "metadata": {},
   "outputs": [
    {
     "data": {
      "text/plain": [
       "['a', 'b', 'c', 'd', 'e', 'f']"
      ]
     },
     "execution_count": 8,
     "metadata": {},
     "output_type": "execute_result"
    }
   ],
   "source": [
    "s"
   ]
  },
  {
   "cell_type": "code",
   "execution_count": 10,
   "id": "1152e539",
   "metadata": {},
   "outputs": [],
   "source": [
    "for j in s[:n]:\n",
    "    s.remove(j)"
   ]
  },
  {
   "cell_type": "code",
   "execution_count": 11,
   "id": "42f5428e",
   "metadata": {},
   "outputs": [
    {
     "data": {
      "text/plain": [
       "['c', 'd', 'e', 'f']"
      ]
     },
     "execution_count": 11,
     "metadata": {},
     "output_type": "execute_result"
    }
   ],
   "source": [
    "s"
   ]
  },
  {
   "cell_type": "code",
   "execution_count": null,
   "id": "175aaba2",
   "metadata": {},
   "outputs": [],
   "source": []
  },
  {
   "cell_type": "code",
   "execution_count": 14,
   "id": "4edc73d5",
   "metadata": {},
   "outputs": [],
   "source": [
    "lst = []\n",
    "\n",
    "while len(s) > 0:\n",
    "    \n",
    "    lst.append(s[:n])\n",
    "    \n",
    "    for j in s[:n]:\n",
    "        s.remove(j)\n",
    "    "
   ]
  },
  {
   "cell_type": "code",
   "execution_count": 20,
   "id": "c60c20ab",
   "metadata": {},
   "outputs": [
    {
     "data": {
      "text/plain": [
       "[['c', 'd'], ['e', 'f']]"
      ]
     },
     "execution_count": 20,
     "metadata": {},
     "output_type": "execute_result"
    }
   ],
   "source": [
    "lst"
   ]
  },
  {
   "cell_type": "code",
   "execution_count": 23,
   "id": "07fd18e4",
   "metadata": {},
   "outputs": [
    {
     "data": {
      "text/plain": [
       "[['a', 'b'], ['c', 'd'], ['e']]"
      ]
     },
     "execution_count": 23,
     "metadata": {},
     "output_type": "execute_result"
    }
   ],
   "source": [
    "chunked(s, n)"
   ]
  },
  {
   "cell_type": "code",
   "execution_count": null,
   "id": "d6132936",
   "metadata": {},
   "outputs": [],
   "source": []
  },
  {
   "cell_type": "code",
   "execution_count": 24,
   "id": "91403fa8",
   "metadata": {},
   "outputs": [
    {
     "name": "stdout",
     "output_type": "stream",
     "text": [
      "a s d f g h j\n",
      "2\n"
     ]
    },
    {
     "data": {
      "text/plain": [
       "[['a', 's'], ['d', 'f'], ['g', 'h'], ['j']]"
      ]
     },
     "execution_count": 24,
     "metadata": {},
     "output_type": "execute_result"
    }
   ],
   "source": [
    "s = input().split()\n",
    "\n",
    "n = int(input())\n",
    "\n",
    "def chunked(s, n):\n",
    "    \n",
    "    lst = []\n",
    "    \n",
    "    while len(s) > 0:\n",
    "    \n",
    "        lst.append(s[:n])\n",
    "    \n",
    "        for j in s[:n]:\n",
    "            s.remove(j)\n",
    "            \n",
    "    return lst\n",
    "\n",
    "chunked(s, n)"
   ]
  },
  {
   "cell_type": "code",
   "execution_count": null,
   "id": "ac450a2a",
   "metadata": {},
   "outputs": [],
   "source": []
  },
  {
   "cell_type": "code",
   "execution_count": null,
   "id": "c383c319",
   "metadata": {},
   "outputs": [],
   "source": []
  }
 ],
 "metadata": {
  "kernelspec": {
   "display_name": "Python 3 (ipykernel)",
   "language": "python",
   "name": "python3"
  },
  "language_info": {
   "codemirror_mode": {
    "name": "ipython",
    "version": 3
   },
   "file_extension": ".py",
   "mimetype": "text/x-python",
   "name": "python",
   "nbconvert_exporter": "python",
   "pygments_lexer": "ipython3",
   "version": "3.10.2"
  }
 },
 "nbformat": 4,
 "nbformat_minor": 5
}
