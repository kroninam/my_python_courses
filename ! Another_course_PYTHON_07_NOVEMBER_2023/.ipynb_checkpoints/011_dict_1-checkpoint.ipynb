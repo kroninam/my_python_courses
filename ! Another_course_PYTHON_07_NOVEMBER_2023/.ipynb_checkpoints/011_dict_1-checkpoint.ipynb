{
 "cells": [
  {
   "cell_type": "code",
   "execution_count": 1,
   "id": "c8a08e31",
   "metadata": {},
   "outputs": [
    {
     "name": "stdout",
     "output_type": "stream",
     "text": [
      "99.12\n"
     ]
    }
   ],
   "source": [
    "my_dict = {1.12: 'aa', 67.9: 45, 3.11: 'ccc', 7.9: 'dd', 9.2: 'ee', 7.1: 'ff', 0.12: 'qq', 1.91: 'aa', 10.12: [1, 2, 3], 99.0: {9, 0, 1}}\n",
    "\n",
    "print(max(my_dict) + min(my_dict))"
   ]
  },
  {
   "cell_type": "code",
   "execution_count": null,
   "id": "87415ac0",
   "metadata": {},
   "outputs": [],
   "source": []
  },
  {
   "cell_type": "markdown",
   "id": "c7e4edf4",
   "metadata": {},
   "source": [
    "# Задача №1"
   ]
  },
  {
   "cell_type": "code",
   "execution_count": 2,
   "id": "9f0d08da",
   "metadata": {},
   "outputs": [],
   "source": [
    "# Дополните приведенный код, чтобы он вывел имена всех \n",
    "# пользователей (в алфавитном порядке), чей номер оканчивается на 8.\n",
    "\n",
    "# Примечание. Имена необходимо вывести на одной строке, разделяя символом пробела.\n",
    "\n",
    "users = [{'name': 'Todd', 'phone': '551-1414', 'email': 'todd@gmail.com'},\n",
    "         {'name': 'Helga', 'phone': '555-1618', 'email': 'helga@mail.net'},\n",
    "         {'name': 'Olivia', 'phone': '449-3141', 'email': ''},\n",
    "         {'name': 'LJ', 'phone': '555-2718', 'email': 'lj@gmail.net'},\n",
    "         {'name': 'Ruslan', 'phone': '422-145-9098', 'email': 'rus-lan.cha@yandex.ru'},\n",
    "         {'name': 'John', 'phone': '233-421-32', 'email': ''},\n",
    "         {'name': 'Lara', 'phone': '+7998-676-2532', 'email': 'g.lara89@gmail.com'},\n",
    "         {'name': 'Alina', 'phone': '+7948-799-2434', 'email': 'ali.ch.b@gmail.com'},\n",
    "         {'name': 'Robert', 'phone': '420-2011', 'email': ''},\n",
    "         {'name': 'Riyad', 'phone': '128-8890-128', 'email': 'r.mahrez@mail.net'},\n",
    "         {'name': 'Khabib', 'phone': '+7995-600-9080', 'email': 'kh.nurmag@gmail.com'},\n",
    "         {'name': 'Olga', 'phone': '6449-314-1213', 'email': ''},\n",
    "         {'name': 'Roman', 'phone': '+7459-145-8059', 'email': 'roma988@mail.ru'},\n",
    "         {'name': 'Maria', 'phone': '12-129-3148', 'email': 'm.sharapova@gmail.com'},\n",
    "         {'name': 'Fedor', 'phone': '+7445-341-0545', 'email': ''},\n",
    "         {'name': 'Tim', 'phone': '242-449-3141', 'email': 'timm.ggg@yandex.ru'}]"
   ]
  },
  {
   "cell_type": "code",
   "execution_count": 11,
   "id": "0971a5e9",
   "metadata": {},
   "outputs": [
    {
     "name": "stdout",
     "output_type": "stream",
     "text": [
      "Helga LJ Maria Riyad Ruslan\n"
     ]
    }
   ],
   "source": [
    "lst = []\n",
    "for i in users:\n",
    "    for k, v in i.items():\n",
    "        if k == 'phone' and i[k][-1] == '8':\n",
    "            lst.append((i['name']))\n",
    "            \n",
    "print(*sorted(lst))"
   ]
  },
  {
   "cell_type": "code",
   "execution_count": null,
   "id": "4557d078",
   "metadata": {},
   "outputs": [],
   "source": []
  },
  {
   "cell_type": "markdown",
   "id": "201252d9",
   "metadata": {},
   "source": [
    "# Задача №2"
   ]
  },
  {
   "cell_type": "code",
   "execution_count": null,
   "id": "08639bae",
   "metadata": {},
   "outputs": [],
   "source": [
    "# Дополните приведенный код, чтобы он вывел имена всех пользователей (в алфавитном порядке),\n",
    "# у которых нет информации об электронной почте. \n",
    "\n",
    "# Примечание 1. Ключ email может отсутствовать в словаре.\n",
    "\n",
    "# Примечание 2. Имена необходимо вывести на одной строке, разделяя символом пробела."
   ]
  },
  {
   "cell_type": "code",
   "execution_count": 1,
   "id": "9be2c21a",
   "metadata": {},
   "outputs": [],
   "source": [
    "users = [{'name': 'Todd', 'phone': '551-1414', 'email': 'todd@gmail.com'},\n",
    "         {'name': 'Helga', 'phone': '555-1618'},\n",
    "         {'name': 'Olivia', 'phone': '449-3141', 'email': ''},\n",
    "         {'name': 'LJ', 'phone': '555-2718', 'email': 'lj@gmail.net'},\n",
    "         {'name': 'Ruslan', 'phone': '422-145-9098', 'email': 'rus-lan.cha@yandex.ru'},\n",
    "         {'name': 'John', 'phone': '233-421-32', 'email': ''},\n",
    "         {'name': 'Lara', 'phone': '+7998-676-2532', 'email': 'g.lara89@gmail.com'},\n",
    "         {'name': 'Alina', 'phone': '+7948-799-2434'},\n",
    "         {'name': 'Robert', 'phone': '420-2011', 'email': ''},\n",
    "         {'name': 'Riyad', 'phone': '128-8890-128', 'email': 'r.mahrez@mail.net'},\n",
    "         {'name': 'Khabib', 'phone': '+7995-600-9080', 'email': 'kh.nurmag@gmail.com'},\n",
    "         {'name': 'Olga', 'phone': '6449-314-1213', 'email': ''},\n",
    "         {'name': 'Roman', 'phone': '+7459-145-8059'},\n",
    "         {'name': 'Maria', 'phone': '12-129-3148', 'email': 'm.sharapova@gmail.com'},\n",
    "         {'name': 'Fedor', 'phone': '+7445-341-0545', 'email': ''},\n",
    "         {'name': 'Tim', 'phone': '242-449-3141', 'email': 'timm.ggg@yandex.ru'}]"
   ]
  },
  {
   "cell_type": "code",
   "execution_count": 5,
   "id": "e5b11e09",
   "metadata": {},
   "outputs": [
    {
     "name": "stdout",
     "output_type": "stream",
     "text": [
      "Alina Fedor Helga John Olga Olivia Robert Roman\n"
     ]
    }
   ],
   "source": [
    "lst = []\n",
    "for i in users:\n",
    "    if 'email' not in i or i['email'] == '':\n",
    "        lst.append(i['name'])\n",
    "        \n",
    "print(*sorted(lst))"
   ]
  },
  {
   "cell_type": "code",
   "execution_count": null,
   "id": "29d364a4",
   "metadata": {},
   "outputs": [],
   "source": []
  },
  {
   "cell_type": "markdown",
   "id": "9947b453",
   "metadata": {},
   "source": [
    "# Задача №3"
   ]
  },
  {
   "cell_type": "code",
   "execution_count": null,
   "id": "9b6d6e25",
   "metadata": {},
   "outputs": [],
   "source": [
    "Строковое представление\n",
    "Напишите программу, которая будет превращать натуральное число в строку, заменяя все цифры в числе на слова:\n",
    "\n",
    "0\n",
    "0 на zero;\n",
    "1\n",
    "1 на one;\n",
    "2\n",
    "2 на two;\n",
    "3\n",
    "3 на three;\n",
    "4\n",
    "4 на four;\n",
    "5\n",
    "5 на five;\n",
    "6\n",
    "6 на six;\n",
    "7\n",
    "7 на seven;\n",
    "8\n",
    "8 на eight;\n",
    "9\n",
    "9 на nine.\n",
    "\n",
    "Формат входных данных\n",
    "На вход программе подается натуральное число.\n",
    "\n",
    "Формат выходных данных\n",
    "Программа должна вывести строковое представление числа.\n",
    "\n",
    "Примечание. Используйте словарь вместо условного оператора.\n",
    "\n",
    "Sample Input 1:\n",
    "\n",
    "230\n",
    "\n",
    "Sample Output 1:\n",
    "\n",
    "two three zero"
   ]
  },
  {
   "cell_type": "code",
   "execution_count": 23,
   "id": "33d9e006",
   "metadata": {},
   "outputs": [
    {
     "name": "stdout",
     "output_type": "stream",
     "text": [
      "230\n"
     ]
    }
   ],
   "source": [
    "d = {1: 'one', 2: 'two', 3: 'three', 4: 'four', 5: 'five', 6: 'six', 7: 'seven', 8: 'eight', 9: 'nine', 0: 'zero'}\n",
    "\n",
    "n = int(input())"
   ]
  },
  {
   "cell_type": "code",
   "execution_count": 20,
   "id": "1ca3327d",
   "metadata": {},
   "outputs": [
    {
     "data": {
      "text/plain": [
       "'230'"
      ]
     },
     "execution_count": 20,
     "metadata": {},
     "output_type": "execute_result"
    }
   ],
   "source": [
    "str(n)"
   ]
  },
  {
   "cell_type": "code",
   "execution_count": 21,
   "id": "7994e66a",
   "metadata": {},
   "outputs": [
    {
     "name": "stdout",
     "output_type": "stream",
     "text": [
      "two three zero "
     ]
    }
   ],
   "source": [
    "for i in str(n):\n",
    "    for k, w in d.items():\n",
    "        if int(i) == k:\n",
    "            print(w, end = ' ')"
   ]
  },
  {
   "cell_type": "code",
   "execution_count": 24,
   "id": "c9159959",
   "metadata": {},
   "outputs": [
    {
     "name": "stdout",
     "output_type": "stream",
     "text": [
      "two three zero "
     ]
    }
   ],
   "source": [
    "for i in str(n):\n",
    "    print(d[int(i)], end = ' ')"
   ]
  },
  {
   "cell_type": "code",
   "execution_count": null,
   "id": "55537009",
   "metadata": {},
   "outputs": [],
   "source": []
  },
  {
   "cell_type": "code",
   "execution_count": null,
   "id": "9cde3037",
   "metadata": {},
   "outputs": [],
   "source": []
  },
  {
   "cell_type": "markdown",
   "id": "543876e3",
   "metadata": {},
   "source": [
    "# Задача №4"
   ]
  },
  {
   "cell_type": "code",
   "execution_count": null,
   "id": "2745c419",
   "metadata": {},
   "outputs": [],
   "source": [
    "# Формат входных данных\n",
    "# На вход программе подается одна строка – номер курса.\n",
    "\n",
    "# Формат выходных данных\n",
    "# Программа должна вывести номер курса, затем номер аудитории, имя преподавателя и \n",
    "# время проведения курса в соответствии с примерами.\n",
    "\n",
    "# Примечание 1. Используйте словарь вместо условного оператора.\n",
    "\n",
    "# Примечание 2. Для удобного вывода используйте строковый метод format() или f-строки.\n",
    "\n",
    "Sample Input 1:\n",
    "\n",
    "CS101\n",
    "\n",
    "Sample Output 1:\n",
    "\n",
    "CS101: 3004, Хайнс, 8:00"
   ]
  },
  {
   "cell_type": "code",
   "execution_count": 28,
   "id": "7081443c",
   "metadata": {},
   "outputs": [],
   "source": [
    "d = { \"CS101\": \"CS101: 3004, Хайнс, 8:00\", \n",
    "     \"CS102\": \"CS102: 4501, Альварадо, 9:00\", \n",
    "     \"CS103\": \"CS103: 6755, Рич, 10:00\", \n",
    "     \"NT110\": \"NT110: 1244, Берк, 11:00\", \n",
    "     \"CM241\": \"CM241: 1411, Ли, 13:00\" }"
   ]
  },
  {
   "cell_type": "code",
   "execution_count": 27,
   "id": "9ec3fd4d",
   "metadata": {},
   "outputs": [
    {
     "name": "stdout",
     "output_type": "stream",
     "text": [
      "CS101\n"
     ]
    }
   ],
   "source": [
    "n = input()\n"
   ]
  },
  {
   "cell_type": "code",
   "execution_count": 29,
   "id": "e7fae11b",
   "metadata": {},
   "outputs": [
    {
     "data": {
      "text/plain": [
       "'CS101: 3004, Хайнс, 8:00'"
      ]
     },
     "execution_count": 29,
     "metadata": {},
     "output_type": "execute_result"
    }
   ],
   "source": [
    "d[n]"
   ]
  },
  {
   "cell_type": "code",
   "execution_count": 31,
   "id": "1e2c8065",
   "metadata": {},
   "outputs": [
    {
     "name": "stdout",
     "output_type": "stream",
     "text": [
      "Ответ: CS101: 3004, Хайнс, 8:00 и точка\n"
     ]
    }
   ],
   "source": [
    "print(f'Ответ: {d[n]} и точка')"
   ]
  },
  {
   "cell_type": "code",
   "execution_count": null,
   "id": "28142b2d",
   "metadata": {},
   "outputs": [],
   "source": []
  },
  {
   "cell_type": "markdown",
   "id": "cf0c3248",
   "metadata": {},
   "source": [
    "# Задача №5"
   ]
  },
  {
   "cell_type": "code",
   "execution_count": null,
   "id": "02b43b58",
   "metadata": {},
   "outputs": [],
   "source": [
    "Набор сообщений\n",
    "На мобильных кнопочных телефонах текстовые сообщения можно отправлять с помощью цифровой клавиатуры.\n",
    "Поскольку с каждой клавишей связано несколько букв, для большинства букв требуется несколько нажатий\n",
    "клавиш. При однократном нажатии цифры генерируется первый символ, указанный для этой клавиши. \n",
    "Нажатие цифры \n",
    "2\n",
    ",\n",
    "3\n",
    ",\n",
    "4\n",
    "2,3,4 или \n",
    "5\n",
    "5 раз генерирует второй, третий, четвертый или пятый символ клавиши.\n",
    "\n",
    "1\t.,?!:\n",
    "2\tABC\n",
    "3\tDEF\n",
    "4\tGHI\n",
    "5\tJKL\n",
    "6\tMNO\n",
    "7\tPQRS\n",
    "8\tTUV\n",
    "9\tWXYZ\n",
    "0\tspace (пробел)\n",
    "Напишите программу, которая отображает нажатия клавиш, необходимые для введенного сообщения.\n",
    "\n",
    "Формат входных данных\n",
    "На вход программе подается одна строка – текстовое сообщение.\n",
    "\n",
    "Формат выходных данных\n",
    "Программа должна вывести нажатия клавиш, необходимых для введенного сообщения.\n",
    "\n",
    "Примечание 1. Ваша программа должна обрабатывать как прописные, так и строчные буквы.\n",
    "\n",
    "Примечание 2. Ваша программа должна игнорировать любые символы, не указанные в приведенной выше таблице.\n",
    "\n",
    "Sample Input 1:\n",
    "\n",
    "Hello, World!\n",
    "\n",
    "Sample Output 1:\n",
    "\n",
    "4433555555666110966677755531111"
   ]
  },
  {
   "cell_type": "code",
   "execution_count": 7,
   "id": "515b0693",
   "metadata": {},
   "outputs": [],
   "source": [
    "d = {1: '.,?!', 2:'ABC', 3:'DEF', 4:'GHI', 5:'JKL', 6:'MNO', 7:'PQRS', 8:'TUV', 9:'WXYZ', 0: ' '}"
   ]
  },
  {
   "cell_type": "code",
   "execution_count": 9,
   "id": "4958e880",
   "metadata": {},
   "outputs": [
    {
     "name": "stdout",
     "output_type": "stream",
     "text": [
      "Hello, World!\n"
     ]
    }
   ],
   "source": [
    "s = input()"
   ]
  },
  {
   "cell_type": "code",
   "execution_count": 35,
   "id": "62dd3411",
   "metadata": {},
   "outputs": [
    {
     "name": "stdout",
     "output_type": "stream",
     "text": [
      "4433555555666110966677755531111"
     ]
    }
   ],
   "source": [
    "lst = []\n",
    "\n",
    "for i in s:\n",
    "#     print(i)\n",
    "    for k, w in d.items():\n",
    "        if i.upper() in w:\n",
    "            \n",
    "            lst.append((str(k) * (w.index(i.upper()) + 1)))\n",
    "            print(str(k) * (w.index(i.upper()) + 1), end = '')"
   ]
  },
  {
   "cell_type": "code",
   "execution_count": null,
   "id": "3d4c9426",
   "metadata": {},
   "outputs": [],
   "source": []
  },
  {
   "cell_type": "markdown",
   "id": "0ec5facc",
   "metadata": {},
   "source": [
    "# Задача №6"
   ]
  },
  {
   "cell_type": "code",
   "execution_count": null,
   "id": "45f3df63",
   "metadata": {},
   "outputs": [],
   "source": [
    "Код Морзе\n",
    "Код Морзе для представления цифр и букв использует тире и точки.\n",
    "\n",
    "Напишите программу для кодирования текстового сообщения в соответствии с кодом Морзе.\n",
    "\n",
    "Символ\tКод\tСимвол\tКод\tСимвол\tКод\tСимвол\tКод\n",
    "A\t.-\tJ\t.---\tS\t...\t1\t.----\n",
    "B\t-...\tK\t-.-\tT\t-\t2\t..---\n",
    "C\t-.-.\tL\t.-..\tU\t..-\t3\t...--\n",
    "D\t-..\tM\t--\tV\t...-\t4\t....-\n",
    "E\t.\tN\t-.\tW\t.--\t5\t.....\n",
    "F\t..-.\tO\t---\tX\t-..-\t6\t-....\n",
    "G\t--.\tP\t.--.\tY\t-.--\t7\t--...\n",
    "H\t....\tQ\t--.-\tZ\t--..\t8\t---..\n",
    "I\t..\tR\t.-.\t0\t-----\t9\t----.\n",
    "Формат входных данных\n",
    "На вход программе подается одна строка – текстовое сообщение.\n",
    "\n",
    "Формат выходных данных\n",
    "Программа должна вывести закодированное с помощью кода Морзе сообщение, \n",
    "оставляя пробел между каждым закодированным символом (последовательностью тире и точек).\n",
    "\n",
    "Примечание 1. Ваша программа должна игнорировать любые символы, не перечисленные в таблице.\n",
    "\n",
    "Примечание 2. Код Морзе был разработан в XIX веке и все еще используется, спустя более \n",
    "160 лет после создания.\n",
    "\n",
    "Sample Input 1:\n",
    "\n",
    "Interstellar\n",
    "\n",
    "Sample Output 1:\n",
    "\n",
    ".. -. - . .-. ... - . .-.. .-.. .- .-."
   ]
  },
  {
   "cell_type": "code",
   "execution_count": 37,
   "id": "f2c8a353",
   "metadata": {},
   "outputs": [],
   "source": [
    "letters = [c for c in 'ABCDEFGHIJKLMNOPQRSTUVWXYZ0123456789']\n",
    "morse = ['.-', '-...', '-.-.', '-..', '.', '..-.', '--.', '....', '..',\n",
    "         '.---', '-.-', '.-..', '--', '-.', '---', '.--.', '--.-', '.-.',\n",
    "         '...', '-', '..-', '...-', '.--', '-..-', '-.--', '--..', '-----',\n",
    "         '.----', '..---', '...--', '....-', '.....', '-....', '--...', '---..', '----.']"
   ]
  },
  {
   "cell_type": "code",
   "execution_count": 48,
   "id": "3ec0c830",
   "metadata": {},
   "outputs": [],
   "source": [
    "d = {}\n",
    "\n",
    "for i in range(len(letters)):\n",
    "    d[letters[i]] = morse[i]"
   ]
  },
  {
   "cell_type": "code",
   "execution_count": 49,
   "id": "74896875",
   "metadata": {},
   "outputs": [
    {
     "data": {
      "text/plain": [
       "{'A': '.-',\n",
       " 'B': '-...',\n",
       " 'C': '-.-.',\n",
       " 'D': '-..',\n",
       " 'E': '.',\n",
       " 'F': '..-.',\n",
       " 'G': '--.',\n",
       " 'H': '....',\n",
       " 'I': '..',\n",
       " 'J': '.---',\n",
       " 'K': '-.-',\n",
       " 'L': '.-..',\n",
       " 'M': '--',\n",
       " 'N': '-.',\n",
       " 'O': '---',\n",
       " 'P': '.--.',\n",
       " 'Q': '--.-',\n",
       " 'R': '.-.',\n",
       " 'S': '...',\n",
       " 'T': '-',\n",
       " 'U': '..-',\n",
       " 'V': '...-',\n",
       " 'W': '.--',\n",
       " 'X': '-..-',\n",
       " 'Y': '-.--',\n",
       " 'Z': '--..',\n",
       " '0': '-----',\n",
       " '1': '.----',\n",
       " '2': '..---',\n",
       " '3': '...--',\n",
       " '4': '....-',\n",
       " '5': '.....',\n",
       " '6': '-....',\n",
       " '7': '--...',\n",
       " '8': '---..',\n",
       " '9': '----.'}"
      ]
     },
     "execution_count": 49,
     "metadata": {},
     "output_type": "execute_result"
    }
   ],
   "source": [
    "d"
   ]
  },
  {
   "cell_type": "code",
   "execution_count": 41,
   "id": "88448249",
   "metadata": {},
   "outputs": [
    {
     "name": "stdout",
     "output_type": "stream",
     "text": [
      "Interstellar\n"
     ]
    }
   ],
   "source": [
    "s = input()"
   ]
  },
  {
   "cell_type": "code",
   "execution_count": 51,
   "id": "2dca1317",
   "metadata": {},
   "outputs": [
    {
     "name": "stdout",
     "output_type": "stream",
     "text": [
      ".. -. - . .-. ... - . .-.. .-.. .- .-. "
     ]
    }
   ],
   "source": [
    "for i in s:\n",
    "\n",
    "    if i.upper() in d:\n",
    "        print(d[i.upper()], end = ' ')"
   ]
  },
  {
   "cell_type": "code",
   "execution_count": null,
   "id": "a095a029",
   "metadata": {},
   "outputs": [],
   "source": []
  },
  {
   "cell_type": "markdown",
   "id": "aa6826c5",
   "metadata": {},
   "source": [
    "# Задача №7"
   ]
  },
  {
   "cell_type": "code",
   "execution_count": null,
   "id": "450608a5",
   "metadata": {},
   "outputs": [],
   "source": [
    "# Дополните приведенный код так, чтобы он объединил содержимое двух словарей \n",
    "# dict1 и dict2: если ключ есть в обоих словарях, добавьте его в результирующий \n",
    "#     словарь со значением, равным сумме соответствующих значений из первого и \n",
    "#     второго словаря; если ключ есть только в одном из словарей, добавьте его \n",
    "#     в результирующий словарь с его текущим значением. Результирующий словарь \n",
    "#     необходимо присвоить переменной result.\n",
    "\n",
    "# Примечание. Выводить содержимое словаря result не нужно."
   ]
  },
  {
   "cell_type": "code",
   "execution_count": 32,
   "id": "f38207de",
   "metadata": {},
   "outputs": [],
   "source": [
    "dict1 = {'a': 100, 'z': 333, 'b': 200, 'c': 300, 'd': 45, 'e': 98, 't': 76, 'q': 34, 'f': 90, 'm': 230}\n",
    "dict2 = {'a': 300, 'b': 200, 'd': 400, 't': 777, 'c': 12, 'p': 123, 'w': 111, 'z': 666}\n",
    "\n",
    "result = {}"
   ]
  },
  {
   "cell_type": "code",
   "execution_count": 33,
   "id": "a5219621",
   "metadata": {},
   "outputs": [
    {
     "data": {
      "text/plain": [
       "{}"
      ]
     },
     "execution_count": 33,
     "metadata": {},
     "output_type": "execute_result"
    }
   ],
   "source": [
    "result"
   ]
  },
  {
   "cell_type": "code",
   "execution_count": 39,
   "id": "2e97f663",
   "metadata": {},
   "outputs": [],
   "source": [
    "for k in dict1| dict2:\n",
    "    a = dict1.setdefault(k, 0)\n",
    "    b = dict2.setdefault(k, 0)\n",
    "    result[k] = (a + b)\n"
   ]
  },
  {
   "cell_type": "code",
   "execution_count": 40,
   "id": "35a0a997",
   "metadata": {},
   "outputs": [
    {
     "data": {
      "text/plain": [
       "{'a': 400,\n",
       " 'z': 999,\n",
       " 'b': 400,\n",
       " 'c': 312,\n",
       " 'd': 445,\n",
       " 'e': 98,\n",
       " 't': 853,\n",
       " 'q': 34,\n",
       " 'f': 90,\n",
       " 'm': 230,\n",
       " 'p': 123,\n",
       " 'w': 111}"
      ]
     },
     "execution_count": 40,
     "metadata": {},
     "output_type": "execute_result"
    }
   ],
   "source": [
    "result"
   ]
  },
  {
   "cell_type": "code",
   "execution_count": null,
   "id": "d5855fe1",
   "metadata": {},
   "outputs": [],
   "source": []
  },
  {
   "cell_type": "markdown",
   "id": "99aa6450",
   "metadata": {},
   "source": [
    "# Задача №8"
   ]
  },
  {
   "cell_type": "code",
   "execution_count": null,
   "id": "17b60f26",
   "metadata": {},
   "outputs": [],
   "source": [
    "Дополните приведенный код так, чтобы в переменной result \n",
    "хранился словарь, в котором для каждого символа строки text будет \n",
    "подсчитано количество его вхождений.\n",
    "\n",
    "Примечание. Выводить содержимое словаря result не нужно."
   ]
  },
  {
   "cell_type": "code",
   "execution_count": 44,
   "id": "b802237e",
   "metadata": {},
   "outputs": [],
   "source": [
    "text = 'footballcyberpunkextraterritorialityconversationalistblockophthalmoscopicinterdependencemamauserfff'\n",
    "\n",
    "result = {}"
   ]
  },
  {
   "cell_type": "code",
   "execution_count": 45,
   "id": "655bc453",
   "metadata": {},
   "outputs": [],
   "source": [
    "for i in text:\n",
    "    result[i] = result.setdefault(i, 0) + 1"
   ]
  },
  {
   "cell_type": "code",
   "execution_count": 46,
   "id": "d14d3d8d",
   "metadata": {},
   "outputs": [
    {
     "data": {
      "text/plain": [
       "{'f': 4,\n",
       " 'o': 9,\n",
       " 't': 9,\n",
       " 'b': 3,\n",
       " 'a': 8,\n",
       " 'l': 6,\n",
       " 'c': 6,\n",
       " 'y': 2,\n",
       " 'e': 10,\n",
       " 'r': 8,\n",
       " 'p': 4,\n",
       " 'u': 2,\n",
       " 'n': 6,\n",
       " 'k': 2,\n",
       " 'x': 1,\n",
       " 'i': 7,\n",
       " 'v': 1,\n",
       " 's': 4,\n",
       " 'h': 2,\n",
       " 'm': 3,\n",
       " 'd': 2}"
      ]
     },
     "execution_count": 46,
     "metadata": {},
     "output_type": "execute_result"
    }
   ],
   "source": [
    "result"
   ]
  },
  {
   "cell_type": "code",
   "execution_count": 47,
   "id": "40ee313e",
   "metadata": {},
   "outputs": [],
   "source": [
    "for i in text:\n",
    "    result[i] = result.get(i, 0) + 1"
   ]
  },
  {
   "cell_type": "code",
   "execution_count": null,
   "id": "106e6d52",
   "metadata": {},
   "outputs": [],
   "source": []
  },
  {
   "cell_type": "markdown",
   "id": "541b4881",
   "metadata": {},
   "source": [
    "# Задача №9"
   ]
  },
  {
   "cell_type": "code",
   "execution_count": null,
   "id": "b07cbc93",
   "metadata": {},
   "outputs": [],
   "source": [
    "# Дополните приведенный код, чтобы он вывел наиболее часто встречающееся слово строки s.\n",
    "# Если таких слов несколько,должно быть выведено то, что меньше в лексикографическом порядке."
   ]
  },
  {
   "cell_type": "code",
   "execution_count": 76,
   "id": "0020a837",
   "metadata": {},
   "outputs": [],
   "source": [
    "s = 'orange strawberry barley gooseberry apple apricot barley currant orange melon pomegranate banana banana orange barley apricot plum grapefruit banana quince strawberry barley grapefruit banana grapes melon strawberry apricot currant currant gooseberry raspberry apricot currant orange lime quince grapefruit barley banana melon pomegranate barley banana orange barley apricot plum banana quince lime grapefruit strawberry gooseberry apple barley apricot currant orange melon pomegranate banana banana orange apricot barley plum banana grapefruit banana quince currant orange melon pomegranate barley plum banana quince barley lime grapefruit pomegranate barley'"
   ]
  },
  {
   "cell_type": "code",
   "execution_count": 143,
   "id": "039278e7",
   "metadata": {},
   "outputs": [
    {
     "name": "stdout",
     "output_type": "stream",
     "text": [
      "banana\n"
     ]
    }
   ],
   "source": [
    "d = {}\n",
    "for i in s.split():\n",
    "    \n",
    "    d[i] = d.get(i, 0) + 1\n",
    "\n",
    "print(sorted(d.items(), key = lambda x: (-x[1], x[0]), reverse = (False))[0][0])"
   ]
  },
  {
   "cell_type": "code",
   "execution_count": null,
   "id": "c4ae7fe6",
   "metadata": {},
   "outputs": [],
   "source": []
  },
  {
   "cell_type": "markdown",
   "id": "77400d6c",
   "metadata": {},
   "source": [
    "# Задача №10"
   ]
  },
  {
   "cell_type": "code",
   "execution_count": null,
   "id": "e0cba0d9",
   "metadata": {},
   "outputs": [],
   "source": [
    "# Вам доступен список pets, содержащий информацию о собаках и их владельцах.  \n",
    "# Каждый элемент списка – это кортеж вида (кличка собаки, имя владельца, фамилия владельца, возраст владельца).\n",
    "\n",
    "# Дополните приведенный код так, чтобы в переменной result хранился словарь, \n",
    "# в котором для каждого владельца будут перечислены его собаки. Ключом словаря\n",
    "# должен быть кортеж (имя, фамилия, возраст владельца), а значением – список \n",
    "# кличек собак (сохранив исходный порядок следования).\n",
    "\n",
    "# Примечание 1. Не забывайте: кортежи являются неизменяемыми, поэтому могут быть \n",
    "#     ключами словаря.\n",
    "\n",
    "# Примечание 2. Обратите внимание, что у некоторых владельцев по несколько собак.\n",
    "\n",
    "# Примечание 3. Выводить содержимое словаря result не нужно."
   ]
  },
  {
   "cell_type": "code",
   "execution_count": 25,
   "id": "e869f007",
   "metadata": {},
   "outputs": [],
   "source": [
    "pets = [('Hatiko', 'Parker', 'Wilson', 50),\n",
    "        ('Rusty', 'Josh', 'King', 25),\n",
    "        ('Fido', 'John', 'Smith', 28),\n",
    "        ('Butch', 'Jake', 'Smirnoff', 18),\n",
    "        ('Odi', 'Emma', 'Wright', 18),\n",
    "        ('Balto', 'Josh', 'King', 25),\n",
    "        ('Barry', 'Josh', 'King', 25),\n",
    "        ('Snape', 'Hannah', 'Taylor', 40),\n",
    "        ('Horry', 'Martha', 'Robinson', 73),\n",
    "        ('Giro', 'Alex', 'Martinez', 65),\n",
    "        ('Zooma', 'Simon', 'Nevel', 32),\n",
    "        ('Lassie', 'Josh', 'King', 25),\n",
    "        ('Chase', 'Martha', 'Robinson', 73),\n",
    "        ('Ace', 'Martha', 'Williams', 38),\n",
    "        ('Rocky', 'Simon', 'Nevel', 32)]\n",
    "\n",
    "result = {}\n",
    "\n",
    "for i in pets:\n",
    "    if (i[-3], i[-2], i[-1]) not in result:\n",
    "        result[(i[-3], i[-2], i[-1])] = [i[0]]\n",
    "    else:\n",
    "        result[(i[-3], i[-2], i[-1])] += [i[0]]\n"
   ]
  },
  {
   "cell_type": "code",
   "execution_count": 26,
   "id": "b4a20111",
   "metadata": {},
   "outputs": [
    {
     "data": {
      "text/plain": [
       "{('Parker', 'Wilson', 50): ['Hatiko'],\n",
       " ('Josh', 'King', 25): ['Rusty', 'Balto', 'Barry', 'Lassie'],\n",
       " ('John', 'Smith', 28): ['Fido'],\n",
       " ('Jake', 'Smirnoff', 18): ['Butch'],\n",
       " ('Emma', 'Wright', 18): ['Odi'],\n",
       " ('Hannah', 'Taylor', 40): ['Snape'],\n",
       " ('Martha', 'Robinson', 73): ['Horry', 'Chase'],\n",
       " ('Alex', 'Martinez', 65): ['Giro'],\n",
       " ('Simon', 'Nevel', 32): ['Zooma', 'Rocky'],\n",
       " ('Martha', 'Williams', 38): ['Ace']}"
      ]
     },
     "execution_count": 26,
     "metadata": {},
     "output_type": "execute_result"
    }
   ],
   "source": [
    "result"
   ]
  },
  {
   "cell_type": "code",
   "execution_count": null,
   "id": "07d11c24",
   "metadata": {},
   "outputs": [],
   "source": []
  },
  {
   "cell_type": "code",
   "execution_count": 35,
   "id": "5f0710cf",
   "metadata": {},
   "outputs": [],
   "source": [
    "pets = [('Hatiko', 'Parker', 'Wilson', 50),\n",
    "        ('Rusty', 'Josh', 'King', 25),\n",
    "        ('Fido', 'John', 'Smith', 28),\n",
    "        ('Butch', 'Jake', 'Smirnoff', 18),\n",
    "        ('Odi', 'Emma', 'Wright', 18),\n",
    "        ('Balto', 'Josh', 'King', 25),\n",
    "        ('Barry', 'Josh', 'King', 25),\n",
    "        ('Snape', 'Hannah', 'Taylor', 40),\n",
    "        ('Horry', 'Martha', 'Robinson', 73),\n",
    "        ('Giro', 'Alex', 'Martinez', 65),\n",
    "        ('Zooma', 'Simon', 'Nevel', 32),\n",
    "        ('Lassie', 'Josh', 'King', 25),\n",
    "        ('Chase', 'Martha', 'Robinson', 73),\n",
    "        ('Ace', 'Martha', 'Williams', 38),\n",
    "        ('Rocky', 'Simon', 'Nevel', 32)]\n",
    "\n",
    "result = {}\n",
    "\n",
    "for i in pets:\n",
    "    result[(i[-3], i[-2], i[-1])] = result.get((i[-3], i[-2], i[-1]), []) + [i[0]]"
   ]
  },
  {
   "cell_type": "code",
   "execution_count": 36,
   "id": "de18e7b6",
   "metadata": {},
   "outputs": [
    {
     "data": {
      "text/plain": [
       "{('Parker', 'Wilson', 50): ['Hatiko'],\n",
       " ('Josh', 'King', 25): ['Rusty', 'Balto', 'Barry', 'Lassie'],\n",
       " ('John', 'Smith', 28): ['Fido'],\n",
       " ('Jake', 'Smirnoff', 18): ['Butch'],\n",
       " ('Emma', 'Wright', 18): ['Odi'],\n",
       " ('Hannah', 'Taylor', 40): ['Snape'],\n",
       " ('Martha', 'Robinson', 73): ['Horry', 'Chase'],\n",
       " ('Alex', 'Martinez', 65): ['Giro'],\n",
       " ('Simon', 'Nevel', 32): ['Zooma', 'Rocky'],\n",
       " ('Martha', 'Williams', 38): ['Ace']}"
      ]
     },
     "execution_count": 36,
     "metadata": {},
     "output_type": "execute_result"
    }
   ],
   "source": [
    "result"
   ]
  },
  {
   "cell_type": "code",
   "execution_count": null,
   "id": "66201df6",
   "metadata": {},
   "outputs": [],
   "source": []
  },
  {
   "cell_type": "markdown",
   "id": "7d85394b",
   "metadata": {},
   "source": [
    "# Задача №11"
   ]
  },
  {
   "cell_type": "code",
   "execution_count": null,
   "id": "0d36d2b4",
   "metadata": {},
   "outputs": [],
   "source": [
    "Самое редкое слово 🌶️\n",
    "На вход программе подается строка текста. Напишите программу, которая \n",
    "выводит слово, которое встречается реже всего, без учета регистра. \n",
    "Если таких слов несколько, выведите то, которое меньше в лексикографическом порядке.\n",
    "\n",
    "Формат входных данных\n",
    "На вход программе подается строка текста.\n",
    "\n",
    "Формат выходных данных\n",
    "Программа должна вывести слово (в нижнем регистре), встречаемое реже всего.\n",
    "\n",
    "Примечание 1. Программа не должна быть чувствительной к регистру, \n",
    "слова apple и Apple должна воспринимать как одинаковые.\n",
    "\n",
    "Примечание 2. Слово — последовательность букв. Кроме слов в тексте \n",
    "могут присутствовать пробелы и знаки препинания .,!?:;-, которые нужно \n",
    "    игнорировать. Других символов в тексте нет.\n",
    "\n",
    "\n",
    "Sample Input 1:\n",
    "\n",
    "home sweet home\n",
    "\n",
    "Sample Output 1:\n",
    "\n",
    "sweet"
   ]
  },
  {
   "cell_type": "code",
   "execution_count": 74,
   "id": "7fd792ca",
   "metadata": {},
   "outputs": [
    {
     "name": "stdout",
     "output_type": "stream",
     "text": [
      "home sweet home\n"
     ]
    }
   ],
   "source": [
    "s = input().split()"
   ]
  },
  {
   "cell_type": "code",
   "execution_count": 75,
   "id": "4f5d3daf",
   "metadata": {},
   "outputs": [
    {
     "data": {
      "text/plain": [
       "['home', 'sweet', 'home']"
      ]
     },
     "execution_count": 75,
     "metadata": {},
     "output_type": "execute_result"
    }
   ],
   "source": [
    "s"
   ]
  },
  {
   "cell_type": "code",
   "execution_count": 76,
   "id": "4e06176b",
   "metadata": {},
   "outputs": [
    {
     "name": "stdout",
     "output_type": "stream",
     "text": [
      "home\n",
      "sweet\n",
      "home\n"
     ]
    }
   ],
   "source": [
    "d = {}\n",
    "\n",
    "for i in s:\n",
    "    print(i.lower().strip('.,! ?:;-'))\n",
    "    d[i.lower().strip('.,!?: ;-')] = d.get(i.lower().strip('.,!?: ;-'), 0) + 1\n",
    "    "
   ]
  },
  {
   "cell_type": "code",
   "execution_count": 83,
   "id": "16b19b24",
   "metadata": {},
   "outputs": [
    {
     "name": "stdout",
     "output_type": "stream",
     "text": [
      "sweet\n"
     ]
    }
   ],
   "source": [
    "print(sorted(d.items(), key = lambda x: (x[1], x[0][0]))[0][0])"
   ]
  },
  {
   "cell_type": "code",
   "execution_count": null,
   "id": "6fb07ac9",
   "metadata": {},
   "outputs": [],
   "source": []
  },
  {
   "cell_type": "markdown",
   "id": "35f93ccd",
   "metadata": {},
   "source": [
    "# Задача №12"
   ]
  },
  {
   "cell_type": "code",
   "execution_count": null,
   "id": "05124147",
   "metadata": {},
   "outputs": [],
   "source": [
    "Исправление дубликатов 🌶️\n",
    "На вход программе подается строка, содержащая строки-идентификаторы. \n",
    "Напишите программу, которая исправляет их так, чтобы в результирующей\n",
    "строке не было дубликатов. Для этого необходимо прибавлять к повторяющимся\n",
    "идентификаторам постфикс _n, где n – количество раз, сколько \n",
    "такой идентификатор уже встречался.\n",
    "\n",
    "Формат входных данных\n",
    "На вход программе подается строка текста, содержащая строки-идентификаторы,\n",
    "разделенные символом пробела.\n",
    "\n",
    "Формат выходных данных\n",
    "Программа должна вывести исправленную строку, не содержащую дубликатов \n",
    "сохранив при этом исходный порядок.\n",
    "\n",
    "Sample Input 1:\n",
    "\n",
    "a b c a a d c\n",
    "\n",
    "Sample Output 1:\n",
    "\n",
    "a b c a_1 a_2 d c_1"
   ]
  },
  {
   "cell_type": "code",
   "execution_count": 84,
   "id": "ee35142b",
   "metadata": {},
   "outputs": [
    {
     "name": "stdout",
     "output_type": "stream",
     "text": [
      "a b c a a d c\n"
     ]
    }
   ],
   "source": [
    "s = input().split()"
   ]
  },
  {
   "cell_type": "code",
   "execution_count": 91,
   "id": "d602f616",
   "metadata": {},
   "outputs": [
    {
     "data": {
      "text/plain": [
       "['a', 'b', 'c', 'a', 'a', 'd', 'c']"
      ]
     },
     "execution_count": 91,
     "metadata": {},
     "output_type": "execute_result"
    }
   ],
   "source": [
    "s"
   ]
  },
  {
   "cell_type": "code",
   "execution_count": 92,
   "id": "1c06809d",
   "metadata": {},
   "outputs": [
    {
     "name": "stdout",
     "output_type": "stream",
     "text": [
      "a\n",
      "b\n",
      "c\n",
      "a_1\n",
      "a_2\n",
      "d\n",
      "c_1\n"
     ]
    }
   ],
   "source": [
    "d = {}\n",
    "\n",
    "for i in s:\n",
    "    if i not in d:\n",
    "        print(i, end = ' ')\n",
    "        d[i] = 1\n",
    "    elif i in d:\n",
    "        print(i + '_' + str(d[i]), end = ' ')\n",
    "        d[i] += 1\n",
    "   "
   ]
  },
  {
   "cell_type": "code",
   "execution_count": null,
   "id": "8df069e2",
   "metadata": {},
   "outputs": [],
   "source": []
  },
  {
   "cell_type": "markdown",
   "id": "de8689e2",
   "metadata": {},
   "source": [
    "# Задача №13"
   ]
  },
  {
   "cell_type": "code",
   "execution_count": null,
   "id": "6ec2b2c0",
   "metadata": {},
   "outputs": [],
   "source": [
    "Словарь программиста\n",
    "Программисты, как вы уже знаете, постоянно учатся, а в \n",
    "общении между собой используют весьма специфический язык. \n",
    "Чтобы систематизировать ваш пополняющийся профессиональный \n",
    "лексикон, мы придумали эту задачу. Напишите программу создания \n",
    "небольшого словаря сленговых программерских выражений, чтобы она\n",
    "потом по запросу возвращала значения из этого словаря.\n",
    "\n",
    "Формат входных данных\n",
    "В первой строке задано одно целое число \n",
    "n — количество слов в словаре. В следующих \n",
    "n строках записаны слова и их определения, разделенные двоеточием и символом пробела. \n",
    "В следующей строке записано целое число \n",
    "m — количество поисковых слов, чье определение нужно вывести. В следующих \n",
    "m строках записаны сами слова, по одному на строке.\n",
    "\n",
    "Формат выходных данных\n",
    "Для каждого слова, независимо от регистра символов, если \n",
    "оно присутствует в словаре, необходимо вывести его определение. \n",
    "Если слова в словаре нет, программа должна вывести \"Не найдено\", без кавычек.\n",
    "\n",
    "\n",
    "Примечание 2. Гарантируется, что в определяемом слове или фразе отсутствует\n",
    "двоеточие (:), следом за которым идёт пробел.\n",
    "\n",
    "Sample Input 1:\n",
    "\n",
    "5\n",
    "Змея: язык программирования Python\n",
    "Баг: от англ. bug — жучок, клоп, ошибка в программе\n",
    "Конфа: конференция\n",
    "Костыль: код, который нужен, чтобы исправить несовершенство ранее написанного кода\n",
    "Бета: бета-версия, приложение на стадии публичного тестирования\n",
    "3\n",
    "Змея\n",
    "Жаба\n",
    "костыль\n",
    "\n",
    "Sample Output 1:\n",
    "\n",
    "язык программирования Python\n",
    "Не найдено\n",
    "код, который нужен, чтобы исправить несовершенство ранее написанного кода"
   ]
  },
  {
   "cell_type": "code",
   "execution_count": 93,
   "id": "aee448cf",
   "metadata": {},
   "outputs": [
    {
     "name": "stdout",
     "output_type": "stream",
     "text": [
      "5\n"
     ]
    }
   ],
   "source": [
    "n = int(input())"
   ]
  },
  {
   "cell_type": "code",
   "execution_count": 94,
   "id": "f55ea30c",
   "metadata": {},
   "outputs": [
    {
     "name": "stdout",
     "output_type": "stream",
     "text": [
      "Змея: язык программирования Python\n",
      "Баг: от англ. bug — жучок, клоп, ошибка в программе\n",
      "Конфа: конференция\n",
      "Костыль: код, который нужен, чтобы исправить несовершенство ранее написанного кода\n",
      "Бета: бета-версия, приложение на стадии публичного тестирования\n"
     ]
    }
   ],
   "source": [
    "lst = []\n",
    "for i in range(n):\n",
    "    lst.append(input().split(': '))"
   ]
  },
  {
   "cell_type": "code",
   "execution_count": 95,
   "id": "d00e9e18",
   "metadata": {},
   "outputs": [
    {
     "data": {
      "text/plain": [
       "[['Змея', 'язык программирования Python'],\n",
       " ['Баг', 'от англ. bug — жучок, клоп, ошибка в программе'],\n",
       " ['Конфа', 'конференция'],\n",
       " ['Костыль',\n",
       "  'код, который нужен, чтобы исправить несовершенство ранее написанного кода'],\n",
       " ['Бета', 'бета-версия, приложение на стадии публичного тестирования']]"
      ]
     },
     "execution_count": 95,
     "metadata": {},
     "output_type": "execute_result"
    }
   ],
   "source": [
    "lst"
   ]
  },
  {
   "cell_type": "code",
   "execution_count": 98,
   "id": "ab293fb7",
   "metadata": {},
   "outputs": [],
   "source": [
    "d = {}\n",
    "for i in lst:\n",
    "    d[i[0].lower()] = d.get(i[0].lower(), i[1])\n",
    "    "
   ]
  },
  {
   "cell_type": "code",
   "execution_count": 99,
   "id": "0edf550c",
   "metadata": {},
   "outputs": [
    {
     "data": {
      "text/plain": [
       "{'змея': 'язык программирования Python',\n",
       " 'баг': 'от англ. bug — жучок, клоп, ошибка в программе',\n",
       " 'конфа': 'конференция',\n",
       " 'костыль': 'код, который нужен, чтобы исправить несовершенство ранее написанного кода',\n",
       " 'бета': 'бета-версия, приложение на стадии публичного тестирования'}"
      ]
     },
     "execution_count": 99,
     "metadata": {},
     "output_type": "execute_result"
    }
   ],
   "source": [
    "d"
   ]
  },
  {
   "cell_type": "code",
   "execution_count": 100,
   "id": "865963b7",
   "metadata": {},
   "outputs": [
    {
     "name": "stdout",
     "output_type": "stream",
     "text": [
      "3\n"
     ]
    }
   ],
   "source": [
    "m = int(input())"
   ]
  },
  {
   "cell_type": "code",
   "execution_count": 102,
   "id": "681cb190",
   "metadata": {},
   "outputs": [
    {
     "name": "stdout",
     "output_type": "stream",
     "text": [
      "Змея\n",
      "язык программирования Python\n",
      "Костыль\n",
      "код, который нужен, чтобы исправить несовершенство ранее написанного кода\n",
      "Говнокод\n",
      " Не найдено\n"
     ]
    }
   ],
   "source": [
    "for i in range(m):\n",
    "    a = input().lower()\n",
    "    print(d.get(a, 'Не найдено'))"
   ]
  },
  {
   "cell_type": "code",
   "execution_count": null,
   "id": "7823ed30",
   "metadata": {},
   "outputs": [],
   "source": []
  },
  {
   "cell_type": "markdown",
   "id": "35023fc2",
   "metadata": {},
   "source": [
    "# Задача №14"
   ]
  },
  {
   "cell_type": "code",
   "execution_count": null,
   "id": "692ca1c1",
   "metadata": {},
   "outputs": [],
   "source": [
    "Анаграммы 1\n",
    "Анаграмма – слово (словосочетание), образованное путём перестановки букв, \n",
    "составляющих другое слово (или словосочетание). Например, английские \n",
    "слова evil и live – это анаграммы.\n",
    "\n",
    "На вход программе подаются два слова. Напишите программу, которая \n",
    "определяет, являются ли они анаграммами.\n",
    "\n",
    "Формат входных данных\n",
    "На вход программе подаются два слова, каждое на отдельной строке.\n",
    "\n",
    "Формат выходных данных\n",
    "Программа должна вывести YES если слова являются анаграммами и NO в противном случае.\n",
    "\n",
    "Sample Input 1:\n",
    "\n",
    "thing\n",
    "night\n",
    "\n",
    "Sample Output 1:\n",
    "\n",
    "YES"
   ]
  },
  {
   "cell_type": "code",
   "execution_count": 116,
   "id": "ac6532e9",
   "metadata": {},
   "outputs": [
    {
     "name": "stdout",
     "output_type": "stream",
     "text": [
      "qwer\n",
      "rewq\n",
      "YES\n"
     ]
    }
   ],
   "source": [
    "s = input()\n",
    "s1 = input()\n",
    "\n",
    "\n",
    "\n",
    "d = {}\n",
    "d1 = {}\n",
    "kost = 0\n",
    "for i in range(len(max(s, s1))):\n",
    "    try:\n",
    "        d[s[i]] = d.get(s[i], 0) + 1\n",
    "        d1[s1[i]] = d1.get(s1[i], 0) + 1\n",
    "    \n",
    "    except:\n",
    "        print('NO')\n",
    "        kost = 1\n",
    "        break\n",
    "\n",
    "if kost == 0:\n",
    "    if d == d1:\n",
    "        print('YES')\n",
    "    else:\n",
    "        print('NO')\n",
    "        "
   ]
  },
  {
   "cell_type": "code",
   "execution_count": 108,
   "id": "b66b390f",
   "metadata": {},
   "outputs": [
    {
     "data": {
      "text/plain": [
       "{'q': 1, 'w': 1, 'e': 1, 'r': 1}"
      ]
     },
     "execution_count": 108,
     "metadata": {},
     "output_type": "execute_result"
    }
   ],
   "source": [
    "d"
   ]
  },
  {
   "cell_type": "code",
   "execution_count": 109,
   "id": "15ff6143",
   "metadata": {},
   "outputs": [
    {
     "data": {
      "text/plain": [
       "{'q': 1, 'w': 1, 'e': 1, 'r': 1}"
      ]
     },
     "execution_count": 109,
     "metadata": {},
     "output_type": "execute_result"
    }
   ],
   "source": [
    "d1"
   ]
  },
  {
   "cell_type": "code",
   "execution_count": null,
   "id": "f05dd7a8",
   "metadata": {},
   "outputs": [],
   "source": []
  },
  {
   "cell_type": "markdown",
   "id": "1f336530",
   "metadata": {},
   "source": [
    "# Задача №15"
   ]
  },
  {
   "cell_type": "code",
   "execution_count": null,
   "id": "0d3d8a00",
   "metadata": {},
   "outputs": [],
   "source": [
    "Анаграммы 2\n",
    "На вход программе подаются два предложения. Напишите программу, которая\n",
    "определяет, являются они анаграммами или нет. Ваша программа должна игнорировать\n",
    "регистр символов, знаки препинания и пробелы.\n",
    "\n",
    "Формат входных данных\n",
    "На вход программе подаются два предложения, каждое на отдельной строке.\n",
    "\n",
    "Формат выходных данных\n",
    "Программа должна вывести YES , если предложения – анаграммы и NO в противном случае.\n",
    "\n",
    "Примечание. Кроме слов в тексте могут присутствовать пробелы и знаки препинания .,!?:;-.\n",
    "Других символов в тексте нет.\n",
    "\n",
    "Sample Input 1:\n",
    "\n",
    "Вижу зверей\n",
    "Живу резвей\n",
    "\n",
    "Sample Output 1:\n",
    "\n",
    "YES\n",
    "\n",
    "Sample Input 2:\n",
    "\n",
    "Когда увидимся\n",
    "тогда и свидимся\n",
    "\n",
    "Sample Output 2:\n",
    "\n",
    "NO\n",
    "\n",
    "Sample Input 3:\n",
    "\n",
    "С мая весной\n",
    "сам я не свой\n",
    "\n",
    "Sample Output 3:\n",
    "\n",
    "YES"
   ]
  },
  {
   "cell_type": "code",
   "execution_count": 133,
   "id": "3a224539",
   "metadata": {},
   "outputs": [
    {
     "name": "stdout",
     "output_type": "stream",
     "text": [
      "С мая -,.?весной\n",
      "сам я не свой\n"
     ]
    }
   ],
   "source": [
    "s = input().lower().replace(' ', '').replace('.', '').replace(',', ''). replace('!', '').replace('?', '').replace(':', '').replace(';', '').replace('-', '')\n",
    "s1 = input().lower().replace(' ', '').replace('.', '').replace(',', ''). replace('!', '').replace('?', '').replace(':', '').replace(';', '').replace('-', '')"
   ]
  },
  {
   "cell_type": "code",
   "execution_count": 137,
   "id": "0b49026f",
   "metadata": {},
   "outputs": [
    {
     "name": "stdout",
     "output_type": "stream",
     "text": [
      "С мая весной\n",
      "сам я не свой\n"
     ]
    }
   ],
   "source": [
    "s = [i for i in input().lower() if i.isalpha()]\n",
    "s1 = [i for i in input().lower() if i.isalpha()]"
   ]
  },
  {
   "cell_type": "code",
   "execution_count": 139,
   "id": "70f10e50",
   "metadata": {},
   "outputs": [
    {
     "name": "stdout",
     "output_type": "stream",
     "text": [
      "YES\n"
     ]
    }
   ],
   "source": [
    "d = {}\n",
    "d1 = {}\n",
    "kost = 0\n",
    "for i in range(len(max(s, s1))):\n",
    "    try:\n",
    "        d[s[i]] = d.get(s[i], 0) + 1\n",
    "        d1[s1[i]] = d1.get(s1[i], 0) + 1\n",
    "    \n",
    "    except:\n",
    "        print('NO')\n",
    "        kost = 1\n",
    "        break\n",
    "\n",
    "if kost == 0:\n",
    "    if d == d1:\n",
    "        print('YES')\n",
    "    else:\n",
    "        print('NO')"
   ]
  },
  {
   "cell_type": "code",
   "execution_count": null,
   "id": "d4e1b3af",
   "metadata": {},
   "outputs": [],
   "source": []
  },
  {
   "cell_type": "markdown",
   "id": "a8bc04a8",
   "metadata": {},
   "source": [
    "# Задача №16"
   ]
  },
  {
   "cell_type": "code",
   "execution_count": null,
   "id": "2bf9d268",
   "metadata": {},
   "outputs": [],
   "source": [
    "Словарь синонимов\n",
    "Вам дан словарь, состоящий из пар слов-синонимов. Повторяющихся \n",
    "слов в словаре нет. Напишите программу, которая для одного данного \n",
    "слова определяет его синоним.\n",
    "\n",
    "Формат входных данных\n",
    "На вход программе подается количество пар синонимов \n",
    "n. Далее следует \n",
    "n строк, каждая строка содержит два слова-синонима. После этого следует одно \n",
    "слово, синоним которого надо найти.\n",
    "\n",
    "Формат выходных данных\n",
    "Программа должна вывести одно слово, синоним введенного.\n",
    "\n",
    "Примечание 1. Гарантируется, что синоним введенного слова существует в словаре.\n",
    "\n",
    "Примечание 2. Все слова в словаре начинаются с заглавной буквы.\n",
    "\n",
    "Sample Input 1:\n",
    "\n",
    "4\n",
    "Awful Terrible\n",
    "Beautiful Pretty\n",
    "Great Excellent\n",
    "Generous Bountiful\n",
    "Pretty\n",
    "\n",
    "Sample Output 1:\n",
    "\n",
    "Beautiful\n",
    "\n",
    "Sample Input 2:\n",
    "\n",
    "3\n",
    "Kind Affable\n",
    "Intellect Mind\n",
    "Popular Celebrated\n",
    "Popular\n",
    "\n",
    "Sample Output 2:\n",
    "\n",
    "Celebrated"
   ]
  },
  {
   "cell_type": "code",
   "execution_count": 140,
   "id": "14b71385",
   "metadata": {},
   "outputs": [
    {
     "name": "stdout",
     "output_type": "stream",
     "text": [
      "3\n"
     ]
    }
   ],
   "source": [
    "n = int(input())"
   ]
  },
  {
   "cell_type": "code",
   "execution_count": 144,
   "id": "e5f454f6",
   "metadata": {},
   "outputs": [
    {
     "name": "stdout",
     "output_type": "stream",
     "text": [
      "Kind Affable\n",
      "Intellect Mind\n",
      "Popular Celebrated\n",
      "Popular\n",
      "Celebrated\n"
     ]
    }
   ],
   "source": [
    "d = {}\n",
    "\n",
    "for i in range(n):\n",
    "    s = input().split()\n",
    "    d[s[0]] = s[1]\n",
    "    \n",
    "ss = input()\n",
    "for k, w in d.items():\n",
    "    if ss == w:\n",
    "        print(k)\n",
    "    elif ss == k:\n",
    "        print(w)\n",
    "    \n",
    "    "
   ]
  },
  {
   "cell_type": "code",
   "execution_count": null,
   "id": "fd36fece",
   "metadata": {},
   "outputs": [],
   "source": []
  },
  {
   "cell_type": "markdown",
   "id": "80f15717",
   "metadata": {},
   "source": [
    "# Задача №17"
   ]
  },
  {
   "cell_type": "code",
   "execution_count": null,
   "id": "fd39d3cf",
   "metadata": {},
   "outputs": [],
   "source": [
    "Страны и города\n",
    "На вход программе подается список стран и городов каждой страны. \n",
    "Затем даны названия городов. Напишите программу, которая для каждого \n",
    "города выводит, в какой стране он находится.\n",
    "\n",
    "Формат входных данных\n",
    "Программа получает на вход количество стран \n",
    "n. Далее идет \n",
    "n строк, каждая строка начинается с названия страны, затем идут названия \n",
    "городов этой страны. В следующей строке записано число \n",
    "m, далее идут \n",
    "m запросов — названия каких-то \n",
    "m городов, из перечисленных выше.\n",
    "\n",
    "Формат выходных данных\n",
    "Программа должна вывести название страны, в которой находится данный город в соответствии с примером.\n",
    "\n",
    "Тестовые данные 🟢\n",
    "Sample Input:\n",
    "\n",
    "2\n",
    "Германия Берлин Мюнхен Гамбург Дортмунд\n",
    "Нидерланды Амстердам Гаага Роттердам Алкмар\n",
    "4\n",
    "Амстердам\n",
    "Алкмар\n",
    "Гамбург\n",
    "Гаага\n",
    "\n",
    "Sample Output:\n",
    "\n",
    "Нидерланды\n",
    "Нидерланды\n",
    "Германия\n",
    "Нидерланды"
   ]
  },
  {
   "cell_type": "code",
   "execution_count": 145,
   "id": "e442c791",
   "metadata": {},
   "outputs": [
    {
     "name": "stdout",
     "output_type": "stream",
     "text": [
      "2\n"
     ]
    }
   ],
   "source": [
    "n = int(input())"
   ]
  },
  {
   "cell_type": "code",
   "execution_count": 146,
   "id": "885175f1",
   "metadata": {},
   "outputs": [
    {
     "name": "stdout",
     "output_type": "stream",
     "text": [
      "Германия Берлин Мюнхен Гамбург Дортмунд\n",
      "Нидерланды Амстердам Гаага Роттердам Алкмар\n",
      "4\n",
      "Амстердам\n",
      "Нидерланды\n",
      "Алкмар\n",
      "Нидерланды\n",
      "Гамбург\n",
      "Германия\n",
      "Гаага\n",
      "Нидерланды\n"
     ]
    }
   ],
   "source": [
    "d = {}\n",
    "for i in range(n):\n",
    "    s = input().split()\n",
    "    d[s[0]] = s[1:]\n",
    "    \n",
    "    \n",
    "m = int(input())\n",
    "for i in range(m):\n",
    "    ss = input()\n",
    "    for k, w in d.items():\n",
    "        if ss in w:\n",
    "            print(k)"
   ]
  },
  {
   "cell_type": "code",
   "execution_count": null,
   "id": "2bffcc19",
   "metadata": {},
   "outputs": [],
   "source": []
  },
  {
   "cell_type": "markdown",
   "id": "294cd696",
   "metadata": {},
   "source": [
    "# Задача №18"
   ]
  },
  {
   "cell_type": "code",
   "execution_count": null,
   "id": "ed8c5a29",
   "metadata": {},
   "outputs": [],
   "source": [
    "Телефонная книга\n",
    "Тимур записал телефоны всех своих друзей, чтобы автоматизировать поиск нужного номера.\n",
    "\n",
    "У каждого из друзей Тимура может быть один или более телефонных номеров. \n",
    "Напишите программу, которая поможет Тимуру находить все номера определённого друга.\n",
    "\n",
    "Формат входных данных\n",
    "В первой строке задано одно целое число \n",
    "n — количество номеров телефонов, информацию о которых Тимур сохранил в телефонной книге. \n",
    "В следующих \n",
    "n строках заданы телефоны и имена их владельцев через пробел. В следующей строке записано целое число \n",
    "m — количество поисковых запросов от Тимура. В следующих \n",
    "m строках записаны сами запросы, по одному на строке. Каждый запрос — это имя друга, \n",
    "чьи телефоны Тимур хочет найти.\n",
    "\n",
    "Формат выходных данных\n",
    "Для каждого запроса от Тимура выведите в отдельной строке все телефоны, принадлежащие человеку \n",
    "с этим именем (независимо от регистра имени). Если в телефонной книге нет телефонов человека \n",
    "с таким именем, выведите в соответствующей строке «абонент не найден» (без кавычек).\n",
    "\n",
    "Примечание 1. Телефоны одного человека выводите в одну строку через пробел в том порядке, в \n",
    "каком они были заданы во входных данных.\n",
    "\n",
    "Примечание 2. Количество строк в ответе должно быть равно числу m.\n",
    "\n",
    "Примечание 3. Телефон — это несколько цифр, записанных подряд, а имя может состоять из \n",
    "букв русского или английского алфавита. Записи не повторяются.\n",
    "\n",
    "Sample Input:\n",
    "\n",
    "3\n",
    "79184219577 Женя\n",
    "79194249271 Руслан\n",
    "79281234567 Женя\n",
    "3\n",
    "Руслан\n",
    "женя\n",
    "Рустам\n",
    "Sample Output:\n",
    "\n",
    "79194249271\n",
    "79184219577 79281234567\n",
    "абонент не найден\n",
    "\n",
    "3\n",
    "79947588998 Eva\n",
    "45546321 Felix\n",
    "8982223132 Anthon\n",
    "2\n",
    "Ashley\n",
    "Carl"
   ]
  },
  {
   "cell_type": "code",
   "execution_count": 148,
   "id": "5737cfd1",
   "metadata": {},
   "outputs": [
    {
     "name": "stdout",
     "output_type": "stream",
     "text": [
      "3\n"
     ]
    }
   ],
   "source": [
    "n = int(input())"
   ]
  },
  {
   "cell_type": "code",
   "execution_count": 162,
   "id": "0fdc498f",
   "metadata": {},
   "outputs": [
    {
     "name": "stdout",
     "output_type": "stream",
     "text": [
      "79947588998 Eva\n",
      "45546321 Felix\n",
      "8982223132 Anthon\n"
     ]
    }
   ],
   "source": [
    "d = {}\n",
    "\n",
    "for i in range(n):\n",
    "    s = input().lower().split()\n",
    "    d[s[1]] = d.get(s[1], []) + [s[0]]\n",
    "    "
   ]
  },
  {
   "cell_type": "code",
   "execution_count": 163,
   "id": "58dabbf2",
   "metadata": {},
   "outputs": [
    {
     "data": {
      "text/plain": [
       "{'eva': ['79947588998'], 'felix': ['45546321'], 'anthon': ['8982223132']}"
      ]
     },
     "execution_count": 163,
     "metadata": {},
     "output_type": "execute_result"
    }
   ],
   "source": [
    "d"
   ]
  },
  {
   "cell_type": "code",
   "execution_count": 164,
   "id": "6cfd654e",
   "metadata": {},
   "outputs": [
    {
     "name": "stdout",
     "output_type": "stream",
     "text": [
      "2\n"
     ]
    }
   ],
   "source": [
    "m = int(input())"
   ]
  },
  {
   "cell_type": "code",
   "execution_count": 165,
   "id": "a6f1a7d8",
   "metadata": {},
   "outputs": [
    {
     "name": "stdout",
     "output_type": "stream",
     "text": [
      "Ashley\n",
      "абонент не найден\n",
      "Carl\n",
      "абонент не найден\n",
      "ыавп\n",
      "абонент не найден\n"
     ]
    }
   ],
   "source": [
    "for i in range(3):\n",
    "    s = input().lower()\n",
    "    for k, w in d.items():\n",
    "        if s not in d.keys():\n",
    "            print('абонент не найден')\n",
    "            break\n",
    "        if s == k:\n",
    "            print(*w)\n",
    "        "
   ]
  },
  {
   "cell_type": "code",
   "execution_count": null,
   "id": "65adde46",
   "metadata": {},
   "outputs": [],
   "source": []
  },
  {
   "cell_type": "markdown",
   "id": "a83ee33b",
   "metadata": {},
   "source": [
    "# Задача №19"
   ]
  },
  {
   "cell_type": "code",
   "execution_count": null,
   "id": "2823be5d",
   "metadata": {},
   "outputs": [],
   "source": [
    "Секретное слово\n",
    "Напишите программу для расшифровки секретного слова методом частотного анализа.\n",
    "\n",
    "Формат входных данных\n",
    "В первой строке задано зашифрованное слово. Во второй строке задано одно целое число \n",
    "n – количество букв в словаре. В следующих \n",
    "n строках записано, сколько раз конкретная буква алфавита встречается в этом слове – <буква>: <частота>.\n",
    "\n",
    "Формат выходных данных\n",
    "Программа должна вывести дешифрованное слово.\n",
    "\n",
    "Примечание. Гарантируется, что частоты букв не повторяются.\n",
    "\n",
    "Sample Input 1:\n",
    "\n",
    "*!*!*?\n",
    "3\n",
    "а: 3\n",
    "н: 2\n",
    "с: 1\n",
    "Sample Output 1:\n",
    "\n",
    "ананас"
   ]
  },
  {
   "cell_type": "code",
   "execution_count": 186,
   "id": "da1d32fe",
   "metadata": {},
   "outputs": [
    {
     "name": "stdout",
     "output_type": "stream",
     "text": [
      "*!*!*?\n"
     ]
    }
   ],
   "source": [
    "s = input()"
   ]
  },
  {
   "cell_type": "code",
   "execution_count": 187,
   "id": "62abfc64",
   "metadata": {},
   "outputs": [
    {
     "data": {
      "text/plain": [
       "'*!*!*?'"
      ]
     },
     "execution_count": 187,
     "metadata": {},
     "output_type": "execute_result"
    }
   ],
   "source": [
    "s"
   ]
  },
  {
   "cell_type": "code",
   "execution_count": 180,
   "id": "199e8077",
   "metadata": {},
   "outputs": [
    {
     "name": "stdout",
     "output_type": "stream",
     "text": [
      "3\n"
     ]
    }
   ],
   "source": [
    "n = int(input())"
   ]
  },
  {
   "cell_type": "code",
   "execution_count": 188,
   "id": "f932cc9d",
   "metadata": {},
   "outputs": [
    {
     "name": "stdout",
     "output_type": "stream",
     "text": [
      "а: 3\n",
      "н: 2\n",
      "с: 1\n"
     ]
    }
   ],
   "source": [
    "d = {}\n",
    "for i in range(n):\n",
    "    ss = input().split(': ')\n",
    "    d[ss[0]] = int(ss[1])"
   ]
  },
  {
   "cell_type": "code",
   "execution_count": 189,
   "id": "22d32644",
   "metadata": {},
   "outputs": [
    {
     "data": {
      "text/plain": [
       "{'а': 3, 'н': 2, 'с': 1}"
      ]
     },
     "execution_count": 189,
     "metadata": {},
     "output_type": "execute_result"
    }
   ],
   "source": [
    "d"
   ]
  },
  {
   "cell_type": "code",
   "execution_count": 190,
   "id": "c5ad63e4",
   "metadata": {},
   "outputs": [
    {
     "data": {
      "text/plain": [
       "'*!*!*?'"
      ]
     },
     "execution_count": 190,
     "metadata": {},
     "output_type": "execute_result"
    }
   ],
   "source": [
    "s"
   ]
  },
  {
   "cell_type": "code",
   "execution_count": 191,
   "id": "a45d94bc",
   "metadata": {},
   "outputs": [
    {
     "data": {
      "text/plain": [
       "3"
      ]
     },
     "execution_count": 191,
     "metadata": {},
     "output_type": "execute_result"
    }
   ],
   "source": [
    "s.count('*')"
   ]
  },
  {
   "cell_type": "code",
   "execution_count": 193,
   "id": "c78aac47",
   "metadata": {},
   "outputs": [
    {
     "name": "stdout",
     "output_type": "stream",
     "text": [
      "ананас"
     ]
    }
   ],
   "source": [
    "for i in s:\n",
    "    for k, w in d.items():  \n",
    "        if s.count(i) == w:\n",
    "            print(k, end = '')"
   ]
  },
  {
   "cell_type": "code",
   "execution_count": null,
   "id": "e5044386",
   "metadata": {},
   "outputs": [],
   "source": []
  },
  {
   "cell_type": "code",
   "execution_count": null,
   "id": "262e6594",
   "metadata": {},
   "outputs": [],
   "source": []
  },
  {
   "cell_type": "code",
   "execution_count": null,
   "id": "5b556661",
   "metadata": {},
   "outputs": [],
   "source": []
  },
  {
   "cell_type": "code",
   "execution_count": null,
   "id": "eca03841",
   "metadata": {},
   "outputs": [],
   "source": []
  },
  {
   "cell_type": "code",
   "execution_count": null,
   "id": "fb606285",
   "metadata": {},
   "outputs": [],
   "source": []
  },
  {
   "cell_type": "code",
   "execution_count": null,
   "id": "ae8d6c4e",
   "metadata": {},
   "outputs": [],
   "source": []
  }
 ],
 "metadata": {
  "kernelspec": {
   "display_name": "Python 3 (ipykernel)",
   "language": "python",
   "name": "python3"
  },
  "language_info": {
   "codemirror_mode": {
    "name": "ipython",
    "version": 3
   },
   "file_extension": ".py",
   "mimetype": "text/x-python",
   "name": "python",
   "nbconvert_exporter": "python",
   "pygments_lexer": "ipython3",
   "version": "3.10.2"
  }
 },
 "nbformat": 4,
 "nbformat_minor": 5
}
