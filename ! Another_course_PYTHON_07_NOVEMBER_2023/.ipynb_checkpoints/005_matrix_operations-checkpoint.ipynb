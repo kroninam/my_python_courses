{
 "cells": [
  {
   "cell_type": "markdown",
   "id": "2324592a",
   "metadata": {},
   "source": [
    "# Задача №3"
   ]
  },
  {
   "cell_type": "code",
   "execution_count": null,
   "id": "ae299870",
   "metadata": {},
   "outputs": [],
   "source": [
    "Сложение матриц\n",
    "Напишите программу для вычисления суммы двух матриц.\n",
    "\n",
    "Формат входных данных\n",
    "На вход программе подаются два натуральных числа \n",
    "n и m — количество строк и столбцов в матрицах, затем элементы первой матрицы, \n",
    "затем пустая строка, далее следуют элементы второй матрицы.\n",
    "\n",
    "Формат выходных данных\n",
    "Программа должна вывести результирующую матрицу, разделяя элементы символом пробела.\n",
    "\n",
    "\n",
    "2 4\n",
    "1 2 3 4\n",
    "5 6 7 1\n",
    "\n",
    "3 2 1 2\n",
    "1 3 1 3"
   ]
  },
  {
   "cell_type": "code",
   "execution_count": 2,
   "id": "c7c80163",
   "metadata": {},
   "outputs": [
    {
     "name": "stdout",
     "output_type": "stream",
     "text": [
      "2 4\n"
     ]
    }
   ],
   "source": [
    "n, m = map(int, input().split())"
   ]
  },
  {
   "cell_type": "code",
   "execution_count": 3,
   "id": "6de42c13",
   "metadata": {},
   "outputs": [
    {
     "name": "stdout",
     "output_type": "stream",
     "text": [
      "1 2 3 4\n",
      "5 6 7 1\n"
     ]
    }
   ],
   "source": [
    "lst_1 = []\n",
    "\n",
    "for i in range(n):\n",
    "    lst_1.append(list(map(int, input().split())))"
   ]
  },
  {
   "cell_type": "code",
   "execution_count": 4,
   "id": "10a9065d",
   "metadata": {},
   "outputs": [
    {
     "name": "stdout",
     "output_type": "stream",
     "text": [
      "3 2 1 2\n",
      "1 3 1 3\n"
     ]
    }
   ],
   "source": [
    "lst_2 = []\n",
    "\n",
    "for i in range(n):\n",
    "    lst_2.append(list(map(int, input().split())))"
   ]
  },
  {
   "cell_type": "code",
   "execution_count": 16,
   "id": "822aee10",
   "metadata": {},
   "outputs": [],
   "source": [
    "lst_3 = []\n",
    "\n",
    "for i in range(n):\n",
    "    lst_3.append([0]*m)"
   ]
  },
  {
   "cell_type": "code",
   "execution_count": 19,
   "id": "fa9a526d",
   "metadata": {},
   "outputs": [],
   "source": [
    "for i in range(n):\n",
    "    for j in range(m):\n",
    "        lst_3[i][j] = lst_1[i][j] + lst_2[i][j]"
   ]
  },
  {
   "cell_type": "code",
   "execution_count": 20,
   "id": "600b4758",
   "metadata": {},
   "outputs": [
    {
     "data": {
      "text/plain": [
       "[[4, 4, 4, 6], [6, 9, 8, 4]]"
      ]
     },
     "execution_count": 20,
     "metadata": {},
     "output_type": "execute_result"
    }
   ],
   "source": [
    "lst_3"
   ]
  },
  {
   "cell_type": "code",
   "execution_count": 21,
   "id": "dab9fa5e",
   "metadata": {},
   "outputs": [
    {
     "name": "stdout",
     "output_type": "stream",
     "text": [
      "4 4 4 6 \n",
      "6 9 8 4 \n"
     ]
    }
   ],
   "source": [
    "for i in range(n):\n",
    "    for j in range(m):\n",
    "        print(lst_3[i][j], end = ' ')\n",
    "    print()"
   ]
  },
  {
   "cell_type": "code",
   "execution_count": null,
   "id": "0e1105a3",
   "metadata": {},
   "outputs": [],
   "source": []
  },
  {
   "cell_type": "code",
   "execution_count": null,
   "id": "0f043557",
   "metadata": {},
   "outputs": [],
   "source": []
  }
 ],
 "metadata": {
  "kernelspec": {
   "display_name": "Python 3 (ipykernel)",
   "language": "python",
   "name": "python3"
  },
  "language_info": {
   "codemirror_mode": {
    "name": "ipython",
    "version": 3
   },
   "file_extension": ".py",
   "mimetype": "text/x-python",
   "name": "python",
   "nbconvert_exporter": "python",
   "pygments_lexer": "ipython3",
   "version": "3.10.2"
  }
 },
 "nbformat": 4,
 "nbformat_minor": 5
}
