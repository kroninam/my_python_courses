{
 "cells": [
  {
   "cell_type": "code",
   "execution_count": 1,
   "id": "f4f1cb77",
   "metadata": {},
   "outputs": [],
   "source": [
    "import random"
   ]
  },
  {
   "cell_type": "code",
   "execution_count": 1,
   "id": "d38bcc63",
   "metadata": {},
   "outputs": [],
   "source": [
    "# Задача №1"
   ]
  },
  {
   "cell_type": "code",
   "execution_count": 35,
   "id": "b964b545",
   "metadata": {},
   "outputs": [
    {
     "name": "stdout",
     "output_type": "stream",
     "text": [
      "100\n",
      "ok\n",
      "ok\n",
      "ok\n",
      "ok\n",
      "ok\n",
      "ok\n",
      "ok\n",
      "ok\n",
      "ok\n",
      "ok\n",
      "ok\n",
      "UMRSwWwolvEQUktDBxvIKFnITkDTimSwOSQiuEZDXvgiFMIHAJjmjWfYbMTGchNLQoguxUUAZnoHKiKEFTuNsshiFNjxwvFPXyIP\n"
     ]
    }
   ],
   "source": [
    "import random\n",
    "\n",
    "length = int(input())    # длина пароля\n",
    "\n",
    "ans = ''\n",
    "while len(ans) < length:\n",
    "    \n",
    "    \n",
    "    s = random.randrange(65, 122)\n",
    "    if s > 90 and s < 97:\n",
    "        print('ok')\n",
    "        continue\n",
    "                \n",
    "    else:\n",
    "        ans += chr(s)\n",
    "print(ans)\n"
   ]
  },
  {
   "cell_type": "code",
   "execution_count": 36,
   "id": "f2fd296b",
   "metadata": {},
   "outputs": [
    {
     "data": {
      "text/plain": [
       "100"
      ]
     },
     "execution_count": 36,
     "metadata": {},
     "output_type": "execute_result"
    }
   ],
   "source": [
    "len(ans)"
   ]
  },
  {
   "cell_type": "code",
   "execution_count": null,
   "id": "2fb7cbbf",
   "metadata": {},
   "outputs": [],
   "source": [
    "# Задача №2"
   ]
  },
  {
   "cell_type": "code",
   "execution_count": 54,
   "id": "04c67053",
   "metadata": {},
   "outputs": [],
   "source": [
    "import random\n",
    "def generate_ip():\n",
    "\n",
    "    s = random.sample(range(0, 256), 4)\n",
    "    \n",
    "    ss = []\n",
    "    for i in s:\n",
    "        ss.append(str(i))\n",
    "    \n",
    "    ans = '.'.join(ss)\n",
    "    return ans"
   ]
  },
  {
   "cell_type": "code",
   "execution_count": 55,
   "id": "62eaf9d0",
   "metadata": {},
   "outputs": [
    {
     "data": {
      "text/plain": [
       "'170.253.246.224'"
      ]
     },
     "execution_count": 55,
     "metadata": {},
     "output_type": "execute_result"
    }
   ],
   "source": [
    "generate_ip()"
   ]
  },
  {
   "cell_type": "code",
   "execution_count": null,
   "id": "0a05aab4",
   "metadata": {},
   "outputs": [],
   "source": []
  },
  {
   "cell_type": "markdown",
   "id": "41856201",
   "metadata": {},
   "source": [
    "### Задача №2"
   ]
  },
  {
   "cell_type": "code",
   "execution_count": null,
   "id": "3a399402",
   "metadata": {},
   "outputs": [],
   "source": [
    "Почтовый индекс в Латверии имеет вид: LetterLetterNumber_NumberLetterLetter, \n",
    "    где Letter – заглавная буква английского алфавита, Number – число от \n",
    "0\n",
    "0 до \n",
    "99\n",
    "99 (включительно).\n",
    "\n",
    "Напишите функцию generate_index(), которая с помощью модуля random генерирует и \n",
    "возвращает случайный корректный почтовый индекс Латверии.\n",
    "\n",
    "Примечание 1. Пример правильного (неправильного) индекса Латверии:\n",
    "\n",
    "AB23_56VG          # правильный\n",
    "V3F_231GT          # неправильный\n",
    "Примечание 2. Обратите внимание на символ _ в почтовом индексе.\n",
    "\n",
    "Примечание 3. Вызывать функцию generate_index() не нужно, требуется только реализовать.\n",
    "\n"
   ]
  },
  {
   "cell_type": "code",
   "execution_count": null,
   "id": "30948ec7",
   "metadata": {},
   "outputs": [],
   "source": [
    "import random rand\n",
    "\n",
    "def generate_index():\n",
    "    ans = string.ascii_uppercase\n",
    "    \n",
    "    s = rand.randsample(ans, 2)\n",
    "    s.append(str(rand.randrange(range(0, 100))))"
   ]
  },
  {
   "cell_type": "code",
   "execution_count": 26,
   "id": "6d7e058f",
   "metadata": {},
   "outputs": [],
   "source": [
    "import random as rand\n",
    "import string\n",
    "\n",
    "ans = string.ascii_uppercase\n",
    "s = rand.sample(ans, 2)\n",
    "s.append(str(rand.randrange(100)))\n",
    "s.append(str(rand.randrange(100)))\n",
    "s.append('_')\n",
    "s.append(str(rand.randrange(100)))\n",
    "s.append(str(rand.randrange(100)))\n",
    "s.extend(rand.sample(ans, 2))"
   ]
  },
  {
   "cell_type": "code",
   "execution_count": 27,
   "id": "fce0c219",
   "metadata": {},
   "outputs": [
    {
     "name": "stdout",
     "output_type": "stream",
     "text": [
      "QV4548_8891WD\n"
     ]
    }
   ],
   "source": [
    "print(*s, sep='')"
   ]
  },
  {
   "cell_type": "code",
   "execution_count": 28,
   "id": "4b2e976a",
   "metadata": {},
   "outputs": [
    {
     "data": {
      "text/plain": [
       "'QV4548_8891WD'"
      ]
     },
     "execution_count": 28,
     "metadata": {},
     "output_type": "execute_result"
    }
   ],
   "source": [
    "''.join(s)"
   ]
  },
  {
   "cell_type": "code",
   "execution_count": 29,
   "id": "6637e7e6",
   "metadata": {},
   "outputs": [],
   "source": [
    "import random as rand\n",
    "import string\n",
    "def generate_index():\n",
    "    ans = string.ascii_uppercase\n",
    "    s = rand.sample(ans, 2)\n",
    "    s.append(str(rand.randrange(100)))\n",
    "    s.append('_')\n",
    "    s.append(str(rand.randrange(100)))\n",
    "    s.extend(rand.sample(ans, 2))\n",
    "    \n",
    "    return ''.join(s)"
   ]
  },
  {
   "cell_type": "code",
   "execution_count": null,
   "id": "0a4d7ce3",
   "metadata": {},
   "outputs": [],
   "source": []
  },
  {
   "cell_type": "markdown",
   "id": "0fe3b7cf",
   "metadata": {},
   "source": [
    "# Задача №3"
   ]
  },
  {
   "cell_type": "code",
   "execution_count": null,
   "id": "7a4b1604",
   "metadata": {},
   "outputs": [],
   "source": [
    "Напишите программу, которая с помощью модуля random генерирует \n",
    "100\n",
    "100 случайных номеров лотерейных билетов и выводит их каждый на отдельной строке. \n",
    "Обратите внимание, вы должны придерживаться следующих условий:\n",
    "\n",
    "номер не может начинаться с нулей;\n",
    "номер лотерейного билета должен состоять из \n",
    "7 цифр;\n",
    "все \n",
    "100 лотерейных билетов должны быть различными."
   ]
  },
  {
   "cell_type": "code",
   "execution_count": 1,
   "id": "4e35e829",
   "metadata": {},
   "outputs": [
    {
     "name": "stdout",
     "output_type": "stream",
     "text": [
      "6754913\n",
      "3279610\n",
      "6589021\n",
      "5976218\n",
      "8109243\n",
      "3425796\n",
      "7308596\n",
      "8740329\n",
      "8034596\n",
      "1769843\n"
     ]
    }
   ],
   "source": [
    "import random\n",
    "\n",
    "lst = []\n",
    "while len(lst) < 10:\n",
    "    s = random.sample('1234567890', 7)\n",
    "    s = ''.join([str(i) for i in s])\n",
    "   \n",
    "    if s[0] == '0':\n",
    "        continue\n",
    "        \n",
    "    if s in lst:\n",
    "        continue\n",
    "    else:\n",
    "        lst.append(s)\n",
    "        \n",
    "for i in lst:\n",
    "    print(int(i))"
   ]
  },
  {
   "cell_type": "code",
   "execution_count": 16,
   "id": "c18d824c",
   "metadata": {},
   "outputs": [
    {
     "data": {
      "text/plain": [
       "[9, 2, 5, 6, 3, 0, 7]"
      ]
     },
     "execution_count": 16,
     "metadata": {},
     "output_type": "execute_result"
    }
   ],
   "source": [
    "ss = random.sample([1,2,3,4,5,6,7,8,9,0], 7)\n",
    "ss"
   ]
  },
  {
   "cell_type": "code",
   "execution_count": 18,
   "id": "c425f80b",
   "metadata": {},
   "outputs": [
    {
     "data": {
      "text/plain": [
       "'9256307'"
      ]
     },
     "execution_count": 18,
     "metadata": {},
     "output_type": "execute_result"
    }
   ],
   "source": [
    "''.join([str(i) for i in ss])"
   ]
  },
  {
   "cell_type": "code",
   "execution_count": null,
   "id": "8d70feb9",
   "metadata": {},
   "outputs": [],
   "source": []
  },
  {
   "cell_type": "markdown",
   "id": "a880d18a",
   "metadata": {},
   "source": [
    "# Задача №4"
   ]
  },
  {
   "cell_type": "code",
   "execution_count": null,
   "id": "fcbc3272",
   "metadata": {},
   "outputs": [],
   "source": [
    "Анаграмма – это слово образованное путём перестановки букв, составляющих другое слово.\n",
    "\n",
    "Например, слова пила и липа или пост и стоп – анаграммы.\n",
    "\n",
    "Напишите программу, которая считывает одно слово и выводит с помощью модуля random его случайную анаграмму."
   ]
  },
  {
   "cell_type": "code",
   "execution_count": 14,
   "id": "8ecc8382",
   "metadata": {},
   "outputs": [
    {
     "name": "stdout",
     "output_type": "stream",
     "text": [
      "word\n"
     ]
    }
   ],
   "source": [
    "import random\n",
    "\n",
    "word = list(input())"
   ]
  },
  {
   "cell_type": "code",
   "execution_count": 15,
   "id": "ae3b41b5",
   "metadata": {},
   "outputs": [
    {
     "name": "stdout",
     "output_type": "stream",
     "text": [
      "['d', 'w', 'r', 'o']\n"
     ]
    }
   ],
   "source": [
    "random.shuffle(word)\n",
    "print(word)"
   ]
  },
  {
   "cell_type": "code",
   "execution_count": 16,
   "id": "1926fc81",
   "metadata": {},
   "outputs": [
    {
     "name": "stdout",
     "output_type": "stream",
     "text": [
      "dwro\n"
     ]
    }
   ],
   "source": [
    "print(''.join(word))"
   ]
  },
  {
   "cell_type": "code",
   "execution_count": null,
   "id": "624340e9",
   "metadata": {},
   "outputs": [],
   "source": []
  },
  {
   "cell_type": "markdown",
   "id": "ed4254e2",
   "metadata": {},
   "source": [
    "# Задача №5"
   ]
  },
  {
   "cell_type": "code",
   "execution_count": null,
   "id": "b53b0b4e",
   "metadata": {},
   "outputs": [],
   "source": [
    "Для игры в бинго требуется карточка размером \n",
    "5\n",
    "×\n",
    "5\n",
    "5×5, содержащая различные (уникальные) целые числа от \n",
    "1\n",
    "1 до \n",
    "75\n",
    "75 (включительно), при этом центральная клетка является пустой (она заполняется числом \n",
    "0\n",
    "0).\n",
    "\n",
    "Напишите программу, которая с помощью модуля random генерирует и выводит случайную карточку для игры в бинго.\n",
    "\n",
    "Примечание 1. Для наглядности рекомендуем отводить на вывод каждого числа ровно \n",
    "3\n",
    "3 символа. Для этого используйте строковый метод ljust().\n",
    "\n",
    "Примечание 2. Пример возможного ответа:\n",
    "\n",
    "1  16 31 46 61\n",
    "10 30 42 47 68\n",
    "3  18 0  48 63\n",
    "9  19 34 49 70\n",
    "5  20 35 50 65\n",
    "\n",
    "Возможны и другие способы генерации карточки для игры в бинго."
   ]
  },
  {
   "cell_type": "code",
   "execution_count": 47,
   "id": "a735be2c",
   "metadata": {},
   "outputs": [],
   "source": [
    "import random \n",
    "\n",
    "lst = []\n",
    "\n",
    "\n",
    "lst1 = []\n",
    "\n",
    "while len(lst1) < 25:    \n",
    "    n = random.choice(range(1, 76))\n",
    "    if n in lst1:\n",
    "        continue\n",
    "    else:\n",
    "        lst1.append(n)\n"
   ]
  },
  {
   "cell_type": "code",
   "execution_count": 48,
   "id": "adb88e33",
   "metadata": {},
   "outputs": [],
   "source": [
    "lst1[12] = 0"
   ]
  },
  {
   "cell_type": "code",
   "execution_count": 2,
   "id": "8080a554",
   "metadata": {},
   "outputs": [],
   "source": [
    "# lst1"
   ]
  },
  {
   "cell_type": "code",
   "execution_count": 50,
   "id": "26cfc957",
   "metadata": {},
   "outputs": [
    {
     "name": "stdout",
     "output_type": "stream",
     "text": [
      "42 60 18 59 4  \n",
      "66 36 26 67 12 \n",
      "5  57 0  65 23 \n",
      "38 75 48 13 64 \n",
      "32 25 53 21 68 \n"
     ]
    }
   ],
   "source": [
    "for _ in range(5):\n",
    "\n",
    "    for i in range(5):\n",
    "        print(str(lst1[i]).ljust(3), end = '')\n",
    "    print()\n",
    "    lst1 = lst1[5:]\n",
    "    "
   ]
  },
  {
   "cell_type": "code",
   "execution_count": null,
   "id": "2a51ba68",
   "metadata": {},
   "outputs": [],
   "source": []
  },
  {
   "cell_type": "markdown",
   "id": "e071f262",
   "metadata": {},
   "source": [
    "# Задача №6"
   ]
  },
  {
   "cell_type": "code",
   "execution_count": 3,
   "id": "d0d25eef",
   "metadata": {},
   "outputs": [
    {
     "ename": "SyntaxError",
     "evalue": "invalid character '🌶' (U+1F336) (3883277978.py, line 1)",
     "output_type": "error",
     "traceback": [
      "\u001b[1;36m  Cell \u001b[1;32mIn[3], line 1\u001b[1;36m\u001b[0m\n\u001b[1;33m    Тайный друг 🌶️\u001b[0m\n\u001b[1;37m                ^\u001b[0m\n\u001b[1;31mSyntaxError\u001b[0m\u001b[1;31m:\u001b[0m invalid character '🌶' (U+1F336)\n"
     ]
    }
   ],
   "source": [
    "Тайный друг 🌶️\n",
    "Напишите программу, которая случайным образом назначает каждому ученику\n",
    "его тайного друга, который будет вместе с ним решать задачи по программированию.\n",
    "\n",
    "Формат входных данных\n",
    "На вход программе в первой строке подается число \n",
    "n – общее количество учеников. Далее идут \n",
    "n строк, содержащих имена и фамилии учеников.\n",
    "\n",
    "Формат выходных данных\n",
    "Программа должна вывести имя и фамилию ученика (в соответствии с исходным порядком) \n",
    "и имя и фамилию его тайного друга, разделённые дефисом.\n",
    "\n",
    "Примечание 1. Обратите внимание, что нельзя быть тайным другом самому себе и нельзя быть\n",
    "тайным другом для нескольких учеников.\n",
    "\n",
    "Примечание 2. Приведенные ниже тесты это лишь образцы возможного ответа. Возможны и \n",
    "другие способы выбора тайных друзей.\n",
    "\n",
    "Sample Input 1:\n",
    "\n",
    "3\n",
    "Светлана Зуева\n",
    "Аркадий Белых\n",
    "Борис Боков\n",
    "Sample Output 1:\n",
    "\n",
    "Светлана Зуева - Борис Боков\n",
    "Аркадий Белых - Светлана Зуева\n",
    "Борис Боков - Аркадий Белых"
   ]
  },
  {
   "cell_type": "code",
   "execution_count": 41,
   "id": "312533b9",
   "metadata": {},
   "outputs": [
    {
     "name": "stdout",
     "output_type": "stream",
     "text": [
      "3\n",
      "Светлана Зуева\n",
      "Аркадий Белых\n",
      "Борис Боков\n"
     ]
    }
   ],
   "source": [
    "n = int(input())\n",
    "lst = []\n",
    "for i in range(n):\n",
    "    lst.append(input())"
   ]
  },
  {
   "cell_type": "code",
   "execution_count": 42,
   "id": "76c349ce",
   "metadata": {},
   "outputs": [],
   "source": [
    "lst1 = lst.copy()"
   ]
  },
  {
   "cell_type": "code",
   "execution_count": 43,
   "id": "fce8f4b0",
   "metadata": {},
   "outputs": [
    {
     "data": {
      "text/plain": [
       "['Светлана Зуева', 'Аркадий Белых', 'Борис Боков']"
      ]
     },
     "execution_count": 43,
     "metadata": {},
     "output_type": "execute_result"
    }
   ],
   "source": [
    "lst1"
   ]
  },
  {
   "cell_type": "code",
   "execution_count": 44,
   "id": "e6c3e5a8",
   "metadata": {},
   "outputs": [
    {
     "name": "stdout",
     "output_type": "stream",
     "text": [
      "Борис Боков\n",
      "Светлана Зуева\n",
      "Светлана Зуева\n",
      "Аркадий Белых\n",
      "Борис Боков\n",
      "Борис Боков\n",
      "Аркадий Белых\n",
      "Борис Боков\n",
      "{'Светлана Зуева': 'Борис Боков', 'Аркадий Белых': 'Светлана Зуева', 'Борис Боков': 'Аркадий Белых'}\n"
     ]
    }
   ],
   "source": [
    "import random\n",
    "res ={}\n",
    "res = res.fromkeys(lst)\n",
    "i = 0\n",
    "while None in res.values():\n",
    "    r = random.choice(lst)\n",
    "    t = lst[i]\n",
    "    \n",
    "    print(r)\n",
    "    print(t)\n",
    "\n",
    "    if t == r:\n",
    "        continue\n",
    "    elif r in res.values():\n",
    "        continue\n",
    "\n",
    "    else:\n",
    "        res[t] = r\n",
    "        i += 1\n",
    "            \n",
    "print(res)    \n"
   ]
  },
  {
   "cell_type": "code",
   "execution_count": 45,
   "id": "771bb63e",
   "metadata": {},
   "outputs": [
    {
     "name": "stdout",
     "output_type": "stream",
     "text": [
      "Светлана Зуева - Борис Боков\n",
      "Аркадий Белых - Светлана Зуева\n",
      "Борис Боков - Аркадий Белых\n"
     ]
    }
   ],
   "source": [
    "for k, w in res.items():\n",
    "    print(f'{k} - {w}')"
   ]
  },
  {
   "cell_type": "code",
   "execution_count": null,
   "id": "232d9445",
   "metadata": {},
   "outputs": [],
   "source": [
    "# Failed test #4 of 4. Time limit exceeded"
   ]
  },
  {
   "cell_type": "code",
   "execution_count": null,
   "id": "0352d102",
   "metadata": {},
   "outputs": [],
   "source": []
  },
  {
   "cell_type": "code",
   "execution_count": 48,
   "id": "0dcf7307",
   "metadata": {},
   "outputs": [
    {
     "name": "stdout",
     "output_type": "stream",
     "text": [
      "['Светлана Зуева', 'Аркадий Белых']\n",
      "['Аркадий Белых']\n",
      "[]\n",
      "{'Светлана Зуева': 'Борис Боков', 'Аркадий Белых': 'Светлана Зуева', 'Борис Боков': 'Аркадий Белых'}\n"
     ]
    }
   ],
   "source": [
    "import random\n",
    "res ={}\n",
    "res = res.fromkeys(lst)\n",
    "i = 0\n",
    "\n",
    "lst1 = lst.copy()\n",
    "\n",
    "\n",
    "while len(lst1) > 0:\n",
    "    r = random.choice(lst1)\n",
    "    t = lst[i]\n",
    "\n",
    "\n",
    "    if t == r:\n",
    "        continue\n",
    "    elif r in res.values():\n",
    "        continue\n",
    "\n",
    "    else:\n",
    "        res[t] = r\n",
    "        i += 1\n",
    "        \n",
    "        lst1.remove(r)\n",
    "        print(lst1)\n",
    "            \n",
    "print(res)"
   ]
  },
  {
   "cell_type": "code",
   "execution_count": null,
   "id": "feed77a1",
   "metadata": {},
   "outputs": [],
   "source": []
  },
  {
   "cell_type": "markdown",
   "id": "17cc80f4",
   "metadata": {},
   "source": [
    "# Задача №7"
   ]
  },
  {
   "cell_type": "code",
   "execution_count": null,
   "id": "908b361f",
   "metadata": {},
   "outputs": [],
   "source": [
    "Генератор паролей 1\n",
    "Напишите программу, которая с помощью модуля random генерирует \n",
    "�\n",
    "n паролей длиной \n",
    "�\n",
    "m символов, состоящих из строчных и прописных английских букв и цифр, кроме тех, которые легко перепутать между собой:\n",
    "\n",
    "«l» (L маленькое);\n",
    "«I» (i большое);\n",
    "«1» (цифра);\n",
    "«o» и «O» (маленькая и большая буквы);\n",
    "«0» (цифра).\n",
    "Формат входных данных\n",
    "На вход программе подаются два числа \n",
    "�\n",
    "n и \n",
    "�\n",
    "m, каждое на отдельной строке.\n",
    "\n",
    "Формат выходных данных\n",
    "Программа должна вывести \n",
    "�\n",
    "n паролей длиной \n",
    "�\n",
    "m символов в соответствии с условием задачи, каждый на отдельной строке.\n",
    "\n",
    "Примечание 1. Считать, что числа \n",
    "�\n",
    "n и \n",
    "�\n",
    "m всегда таковы, что требуемые пароли сгенерировать возможно.\n",
    "\n",
    "Примечание 2. В каждом пароле необязательно должна присутствовать хотя бы одна цифра и буква в верхнем и нижнем регистре.\n",
    "\n",
    "Примечание 3. Решение задачи удобно оформить в виде двух вспомогательных функций:\n",
    "\n",
    "функция generate_password(length) – возвращает случайный пароль длиной length символов;\n",
    "функция generate_passwords(count, length) – возвращает список, состоящий из count случайных паролей длиной length символов.\n",
    "\n",
    "\n",
    "Sample Input 1:\n",
    "\n",
    "9\n",
    "7\n",
    "\n",
    "Sample Output 1:\n",
    "\n",
    "YbykdW8\n",
    "heEWSyL\n",
    "MDxYCzf\n",
    "syWRujr\n",
    "mFGBYNJ\n",
    "bhmg5ip\n",
    "2XmPgsx\n",
    "hy7UMVs\n",
    "JzKPyBw"
   ]
  },
  {
   "cell_type": "code",
   "execution_count": 21,
   "id": "84c6f2cf",
   "metadata": {},
   "outputs": [
    {
     "name": "stdout",
     "output_type": "stream",
     "text": [
      "9\n",
      "7\n"
     ]
    }
   ],
   "source": [
    "n = int(input())\n",
    "m = int(input())"
   ]
  },
  {
   "cell_type": "code",
   "execution_count": 41,
   "id": "9684cf07",
   "metadata": {},
   "outputs": [],
   "source": [
    "import random\n",
    "import string\n",
    "\n",
    "a = string.digits\n",
    "b = string.ascii_lowercase\n",
    "c = string.ascii_uppercase\n",
    "\n",
    "all = (a+b+c).replace('0', '').replace('l', '').replace('I', '').replace('1', '').replace('o', '').replace('O', '')"
   ]
  },
  {
   "cell_type": "code",
   "execution_count": 42,
   "id": "193c51bf",
   "metadata": {},
   "outputs": [],
   "source": [
    "def generate_password(m):\n",
    "     \n",
    "    lst = random.sample(all, m)\n",
    "    return ''.join(lst)\n",
    "        \n",
    "        \n",
    "    "
   ]
  },
  {
   "cell_type": "code",
   "execution_count": 43,
   "id": "5af033a3",
   "metadata": {},
   "outputs": [
    {
     "data": {
      "text/plain": [
       "'WkfcHyz'"
      ]
     },
     "execution_count": 43,
     "metadata": {},
     "output_type": "execute_result"
    }
   ],
   "source": [
    "generate_password(m)"
   ]
  },
  {
   "cell_type": "code",
   "execution_count": 44,
   "id": "7aa23d43",
   "metadata": {},
   "outputs": [],
   "source": [
    "def generate_passwords(count, length):\n",
    "    res = []\n",
    "    for i in range(count):\n",
    "        res.append(generate_password(length))\n",
    "    for i in res:\n",
    "        print(i)"
   ]
  },
  {
   "cell_type": "code",
   "execution_count": 45,
   "id": "672b1894",
   "metadata": {},
   "outputs": [
    {
     "name": "stdout",
     "output_type": "stream",
     "text": [
      "ePmj4b7\n",
      "dV3vwc8\n",
      "7xnARPv\n",
      "tYmJj8x\n",
      "vQcafRB\n",
      "he4GDEM\n",
      "UguaBDG\n",
      "JpmdTje\n",
      "C2mGAZa\n"
     ]
    }
   ],
   "source": [
    "generate_passwords(n, m)"
   ]
  },
  {
   "cell_type": "code",
   "execution_count": null,
   "id": "daff676b",
   "metadata": {},
   "outputs": [],
   "source": []
  },
  {
   "cell_type": "code",
   "execution_count": null,
   "id": "bcfad2f4",
   "metadata": {},
   "outputs": [],
   "source": []
  },
  {
   "cell_type": "code",
   "execution_count": null,
   "id": "d3f7c3d9",
   "metadata": {},
   "outputs": [],
   "source": []
  },
  {
   "cell_type": "code",
   "execution_count": null,
   "id": "dd9a15c9",
   "metadata": {},
   "outputs": [],
   "source": []
  },
  {
   "cell_type": "code",
   "execution_count": null,
   "id": "1bb32da7",
   "metadata": {},
   "outputs": [],
   "source": []
  }
 ],
 "metadata": {
  "kernelspec": {
   "display_name": "Python 3 (ipykernel)",
   "language": "python",
   "name": "python3"
  },
  "language_info": {
   "codemirror_mode": {
    "name": "ipython",
    "version": 3
   },
   "file_extension": ".py",
   "mimetype": "text/x-python",
   "name": "python",
   "nbconvert_exporter": "python",
   "pygments_lexer": "ipython3",
   "version": "3.10.2"
  }
 },
 "nbformat": 4,
 "nbformat_minor": 5
}
