{
 "cells": [
  {
   "cell_type": "code",
   "execution_count": null,
   "id": "001e96c5",
   "metadata": {},
   "outputs": [],
   "source": []
  },
  {
   "cell_type": "code",
   "execution_count": 2,
   "id": "7819d598",
   "metadata": {},
   "outputs": [
    {
     "name": "stdout",
     "output_type": "stream",
     "text": [
      "{'emp': 'Kelly', 'salary': 9000}\n",
      "emp salary "
     ]
    }
   ],
   "source": [
    "def display(**kwargs):\n",
    "    print(kwargs)\n",
    "    for i in kwargs:\n",
    "        print(i, end=' ')\n",
    "\n",
    "display(emp='Kelly', salary=9000)"
   ]
  },
  {
   "cell_type": "code",
   "execution_count": null,
   "id": "31233ae5",
   "metadata": {},
   "outputs": [],
   "source": []
  },
  {
   "cell_type": "code",
   "execution_count": 7,
   "id": "3a49e547",
   "metadata": {},
   "outputs": [
    {
     "name": "stdout",
     "output_type": "stream",
     "text": [
      "1000001\n"
     ]
    }
   ],
   "source": [
    "num = int('1000001', 10)\n",
    "print(num)"
   ]
  },
  {
   "cell_type": "code",
   "execution_count": 9,
   "id": "3890441f",
   "metadata": {},
   "outputs": [
    {
     "name": "stdout",
     "output_type": "stream",
     "text": [
      "65\n"
     ]
    }
   ],
   "source": [
    "num = int('1000001', 2)\n",
    "print(num)"
   ]
  },
  {
   "cell_type": "code",
   "execution_count": null,
   "id": "cf5796c3",
   "metadata": {},
   "outputs": [],
   "source": []
  },
  {
   "cell_type": "markdown",
   "id": "060d8295",
   "metadata": {},
   "source": [
    "# Задача №1"
   ]
  },
  {
   "cell_type": "code",
   "execution_count": null,
   "id": "1d238acc",
   "metadata": {},
   "outputs": [],
   "source": [
    "Письмо для экзамена\n",
    "Напишите функцию generate_letter(), которая будет собирать электронное письмо в соответствии с шаблоном:\n",
    "\n",
    "To: <mail>\n",
    "Приветствую, <name>!\n",
    "Вам назначен экзамен, который пройдет <date>, в <time>.\n",
    "По адресу: <place>. \n",
    "Экзамен будет проводить <teacher> в кабинете <number>. \n",
    "Желаем удачи на экзамене!\n",
    "\n",
    "\n",
    "Функция должна получать на вход пять обязательных аргументов mail, name, date, time, place и два необязательных \n",
    "teacher, number и возвращать текст готового письма. При отсутствии аргумента teacher учителем будет Тимур Гуев,\n",
    "а если нет аргумента number, то кабинет будет \n",
    "17.\n",
    "\n",
    "Примечание 1. Следующий программный код:\n",
    "\n",
    "print(generate_letter('lara@yandex.ru', 'Лариса', '10 декабря', '12:00', 'Часова 23, корпус 2'))\n",
    "print()\n",
    "print(generate_letter('lara@yandex.ru', 'Лариса', '10 декабря', '12:00', \n",
    "                      'Часова 23, корпус 2', 'Василь Ярошевич', 23))\n",
    "должен выводить:\n",
    "\n",
    "To: lara@yandex.ru\n",
    "Приветствую, Лариса!\n",
    "Вам назначен экзамен, который пройдет 10 декабря, в 12:00.\n",
    "По адресу: Часова 23, корпус 2. \n",
    "Экзамен будет проводить Тимур Гуев в кабинете 17. \n",
    "Желаем удачи на экзамене!\n",
    "\n",
    "To: lara@yandex.ru\n",
    "Приветствую, Лариса!\n",
    "Вам назначен экзамен, который пройдет 10 декабря, в 12:00.\n",
    "По адресу: Часова 23, корпус 2. \n",
    "Экзамен будет проводить Василь Ярошевич в кабинете 23. \n",
    "Желаем удачи на экзамене!"
   ]
  },
  {
   "cell_type": "code",
   "execution_count": 13,
   "id": "d4b8a144",
   "metadata": {},
   "outputs": [],
   "source": [
    "def generate_letter(mail, name, date, time, place, teacher='Тимур Гуев', number=17):\n",
    "    return(f'''To: {mail}\n",
    "Приветствую, {name}!\n",
    "Вам назначен экзамен, который пройдет {date}, в {time}.\n",
    "По адресу: {place}. \n",
    "Экзамен будет проводить {teacher} в кабинете {number}. \n",
    "Желаем удачи на экзамене!'''\n",
    "    \n",
    "    ) "
   ]
  },
  {
   "cell_type": "code",
   "execution_count": 14,
   "id": "7222f7bb",
   "metadata": {},
   "outputs": [
    {
     "name": "stdout",
     "output_type": "stream",
     "text": [
      "To: lara@yandex.ru\n",
      "Приветствую, Лариса!\n",
      "Вам назначен экзамен, который пройдет 10 декабря, в 12:00.\n",
      "По адресу: Часова 23, корпус 2. \n",
      "Экзамен будет проводить Тимур Гуев в кабинете 17. \n",
      "Желаем удачи на экзамене!\n",
      "\n",
      "To: lara@yandex.ru\n",
      "Приветствую, Лариса!\n",
      "Вам назначен экзамен, который пройдет 10 декабря, в 12:00.\n",
      "По адресу: Часова 23, корпус 2. \n",
      "Экзамен будет проводить Василь Ярошевич в кабинете 23. \n",
      "Желаем удачи на экзамене!\n"
     ]
    }
   ],
   "source": [
    "print(generate_letter('lara@yandex.ru', 'Лариса', '10 декабря', '12:00', 'Часова 23, корпус 2'))\n",
    "print()\n",
    "print(generate_letter('lara@yandex.ru', 'Лариса', '10 декабря', '12:00', \n",
    "                      'Часова 23, корпус 2', 'Василь Ярошевич', 23))"
   ]
  },
  {
   "cell_type": "code",
   "execution_count": null,
   "id": "40d223f6",
   "metadata": {},
   "outputs": [],
   "source": []
  },
  {
   "cell_type": "markdown",
   "id": "bd357c4e",
   "metadata": {},
   "source": [
    "# Задача №2"
   ]
  },
  {
   "cell_type": "code",
   "execution_count": null,
   "id": "60f1d093",
   "metadata": {},
   "outputs": [],
   "source": [
    "Pretty print\n",
    "Напишите функцию pretty_print(), которая выводит содержимое списка с рамкой. \n",
    "\n",
    "Функция должна получать на вход один обязательный аргумент data – список, который следует \n",
    "вывести и два необязательных строковых односимвольных  аргумента side и delimiter и выводить \n",
    "содержимое списка в соответствии с примерами.\n",
    "\n",
    "В случае если отсутствует аргумент side, то полагаем side='-', а если отсутствует аргумент \n",
    "delimiter, то полагаем delimiter='|'.\n",
    "\n",
    "Примечание 1. Следующий программный код:\n",
    "\n",
    "pretty_print([1, 2, 10, 23, 123, 3000])\n",
    "pretty_print(['abc', 'def', 'ghi', '12345'])\n",
    "pretty_print(['abc', 'def', 'ghi'], side='*')\n",
    "pretty_print(['abc', 'def', 'ghi'], delimiter='#')\n",
    "pretty_print(['abc', 'def', 'ghi'], side='*', delimiter='#')\n",
    "должен выводить:\n",
    "\n",
    " ------------------------------ \n",
    "| 1 | 2 | 10 | 23 | 123 | 3000 |\n",
    " ------------------------------ \n",
    " ------------------------- \n",
    "| abc | def | ghi | 12345 |\n",
    " ------------------------- \n",
    " ***************** \n",
    "| abc | def | ghi |\n",
    " ***************** \n",
    " ----------------- \n",
    "# abc # def # ghi #\n",
    " ----------------- \n",
    " ***************** \n",
    "# abc # def # ghi #\n",
    " ***************** "
   ]
  },
  {
   "cell_type": "code",
   "execution_count": 61,
   "id": "f4d427c5",
   "metadata": {},
   "outputs": [],
   "source": [
    "def pretty_print(data, side='-', delimiter='|'):\n",
    "    \n",
    "    ss = ''\n",
    "    for i in data:\n",
    "        ss += f'{delimiter} {i} '\n",
    "    \n",
    "    s = f' {side*(len(ss)-1)} '\n",
    "\n",
    "    sss = f'''{s}\n",
    "{ss}{delimiter}\n",
    "{s}'''\n",
    "    print(sss)\n",
    "    "
   ]
  },
  {
   "cell_type": "code",
   "execution_count": 62,
   "id": "7f783ca1",
   "metadata": {},
   "outputs": [
    {
     "name": "stdout",
     "output_type": "stream",
     "text": [
      " ------------------------------ \n",
      "| 1 | 2 | 10 | 23 | 123 | 3000 |\n",
      " ------------------------------ \n",
      " ------------------------- \n",
      "| abc | def | ghi | 12345 |\n",
      " ------------------------- \n",
      " ***************** \n",
      "| abc | def | ghi |\n",
      " ***************** \n",
      " ----------------- \n",
      "# abc # def # ghi #\n",
      " ----------------- \n",
      " ***************** \n",
      "# abc # def # ghi #\n",
      " ***************** \n"
     ]
    }
   ],
   "source": [
    "pretty_print([1, 2, 10, 23, 123, 3000])\n",
    "pretty_print(['abc', 'def', 'ghi', '12345'])\n",
    "pretty_print(['abc', 'def', 'ghi'], side='*')\n",
    "pretty_print(['abc', 'def', 'ghi'], delimiter='#')\n",
    "pretty_print(['abc', 'def', 'ghi'], side='*', delimiter='#')"
   ]
  },
  {
   "cell_type": "code",
   "execution_count": null,
   "id": "ee06ecea",
   "metadata": {},
   "outputs": [],
   "source": []
  },
  {
   "cell_type": "code",
   "execution_count": 63,
   "id": "101ef964",
   "metadata": {},
   "outputs": [
    {
     "name": "stdout",
     "output_type": "stream",
     "text": [
      "s.t.e.p.i.k\n"
     ]
    }
   ],
   "source": [
    "data = [['p', 'y', 't', 'h', 'o', 'n'], ['s', 't', 'e', 'p', 'i', 'k']]\n",
    "result = list(map(lambda x: '.'.join(x), data))\n",
    "print(result[1])"
   ]
  },
  {
   "cell_type": "code",
   "execution_count": null,
   "id": "5accfa16",
   "metadata": {},
   "outputs": [],
   "source": []
  },
  {
   "cell_type": "code",
   "execution_count": 67,
   "id": "e1fde4e4",
   "metadata": {},
   "outputs": [
    {
     "name": "stdout",
     "output_type": "stream",
     "text": [
      "['a', '1', 'b', '2']\n"
     ]
    }
   ],
   "source": [
    "result = list(filter(str.swapcase, ['a', '1', '', 'b', '2']))\n",
    "\n",
    "print(result)"
   ]
  },
  {
   "cell_type": "code",
   "execution_count": null,
   "id": "14170176",
   "metadata": {},
   "outputs": [],
   "source": []
  },
  {
   "cell_type": "code",
   "execution_count": 68,
   "id": "c92c1998",
   "metadata": {},
   "outputs": [
    {
     "name": "stdout",
     "output_type": "stream",
     "text": [
      "6\n"
     ]
    }
   ],
   "source": [
    "from functools import reduce\n",
    "\n",
    "numbers = [1, 2, 3]\n",
    "result = reduce(lambda x, y: x + y, numbers)\n",
    "print(result)"
   ]
  },
  {
   "cell_type": "code",
   "execution_count": null,
   "id": "627db868",
   "metadata": {},
   "outputs": [],
   "source": []
  },
  {
   "cell_type": "markdown",
   "id": "5097be60",
   "metadata": {},
   "source": [
    "# Задача №3"
   ]
  },
  {
   "cell_type": "code",
   "execution_count": null,
   "id": "b9276e45",
   "metadata": {},
   "outputs": [],
   "source": [
    "Напишите функцию concat(), принимающую переменное количество аргументов и объединяющую их \n",
    "в одну строку через разделитель (sep). Если разделитель не задан, им служит пробел.\n",
    "\n",
    "Примечание 1. Обратите внимание, что функция concat() должна принимать не список, \n",
    "а именно переменное количество аргументов.\n",
    "\n",
    "Примечание 2. Приведенный ниже код, при условии, что функция concat() написана правильно\n",
    "\n",
    "print(concat('hello', 'python', 'and', 'stepik'))\n",
    "print(concat('hello', 'python', 'and', 'stepik', sep='*'))\n",
    "print(concat('hello', 'python', sep='()()()'))\n",
    "print(concat('hello', sep='()'))\n",
    "print(concat(1, 2, 3, 4, 5, 6, 7, 8, 9, sep='$$'))\n",
    "должен выводить:\n",
    "\n",
    "hello python and stepik\n",
    "hello*python*and*stepik\n",
    "hello()()()python\n",
    "hello\n",
    "1$$2$$3$$4$$5$$6$$7$$8$$9"
   ]
  },
  {
   "cell_type": "code",
   "execution_count": 95,
   "id": "d74b4c04",
   "metadata": {},
   "outputs": [],
   "source": [
    "def concat(*args, sep=' '):\n",
    "    s = ''\n",
    "    for i in args:\n",
    "        s += str(i) + sep\n",
    "    \n",
    "    return s.rstrip(sep)\n",
    "    "
   ]
  },
  {
   "cell_type": "code",
   "execution_count": 96,
   "id": "8f21b7ad",
   "metadata": {},
   "outputs": [
    {
     "name": "stdout",
     "output_type": "stream",
     "text": [
      "hello python and stepik\n",
      "hello*python*and*stepik\n",
      "hello()()()python\n",
      "hello\n",
      "1$$2$$3$$4$$5$$6$$7$$8$$9\n"
     ]
    }
   ],
   "source": [
    "print(concat('hello', 'python', 'and', 'stepik'))\n",
    "print(concat('hello', 'python', 'and', 'stepik', sep='*'))\n",
    "print(concat('hello', 'python', sep='()()()'))\n",
    "print(concat('hello', sep='()'))\n",
    "print(concat(1, 2, 3, 4, 5, 6, 7, 8, 9, sep='$$'))"
   ]
  },
  {
   "cell_type": "code",
   "execution_count": null,
   "id": "7cfe028b",
   "metadata": {},
   "outputs": [],
   "source": []
  },
  {
   "cell_type": "markdown",
   "id": "762be4a0",
   "metadata": {},
   "source": [
    "# Задача №4"
   ]
  },
  {
   "cell_type": "code",
   "execution_count": null,
   "id": "3c3e1201",
   "metadata": {},
   "outputs": [],
   "source": [
    "Перепишите функцию product_of_odds() в функциональном стиле с использованием\n",
    "встроенных функций filter() и reduce().\n",
    "\n",
    "def product_of_odds(data):   # data - список целых чисел\n",
    "    result = 1\n",
    "    for i in data:\n",
    "        if i % 2 == 1:\n",
    "            result *= i\n",
    "    return result\n",
    "Примечание 1. Тестирующая система никак не \"покарает\" вас за неиспользование \n",
    "встроенных функций filter() и reduce(), однако лучше сделать это задание честно 😃."
   ]
  },
  {
   "cell_type": "code",
   "execution_count": null,
   "id": "5ff9527f",
   "metadata": {},
   "outputs": [],
   "source": [
    "def product_of_odds(data):   # data - список целых чисел\n",
    "    result = 1\n",
    "    for i in data:\n",
    "        if i % 2 == 1:\n",
    "            result *= i\n",
    "    return result"
   ]
  },
  {
   "cell_type": "code",
   "execution_count": 119,
   "id": "871739ab",
   "metadata": {},
   "outputs": [],
   "source": [
    "def product_of_odds(data):   # data - список целых чисел\n",
    "    lst = list(filter(lambda x: x% 2 == 1, data))\n",
    "    result = reduce(lambda x, y: x*y, lst)\n",
    "    return result"
   ]
  },
  {
   "cell_type": "code",
   "execution_count": 120,
   "id": "5c50d7d2",
   "metadata": {},
   "outputs": [
    {
     "data": {
      "text/plain": [
       "945"
      ]
     },
     "execution_count": 120,
     "metadata": {},
     "output_type": "execute_result"
    }
   ],
   "source": [
    "product_of_odds([1,2,3,4,5,6,7,8,9])"
   ]
  },
  {
   "cell_type": "code",
   "execution_count": null,
   "id": "fdd013d6",
   "metadata": {},
   "outputs": [],
   "source": []
  },
  {
   "cell_type": "markdown",
   "id": "f1de00de",
   "metadata": {},
   "source": [
    "# Задача №5"
   ]
  },
  {
   "cell_type": "code",
   "execution_count": null,
   "id": "1aa97d18",
   "metadata": {},
   "outputs": [],
   "source": [
    "Дан список слов words. Допишите код после оператора распаковки (*), \n",
    "который оборачивает в двойные кавычки все элементы списка words,\n",
    "а затем печатает результат на одной строке через пробел.\n",
    "\n",
    "Примечание. Вспомните про встроенную функцию map() и анонимные функции lambda."
   ]
  },
  {
   "cell_type": "code",
   "execution_count": 122,
   "id": "8cf8cfc1",
   "metadata": {},
   "outputs": [],
   "source": [
    "words = 'the world is mine take a look what you have started'.split()"
   ]
  },
  {
   "cell_type": "code",
   "execution_count": 125,
   "id": "6c3083dc",
   "metadata": {},
   "outputs": [
    {
     "name": "stdout",
     "output_type": "stream",
     "text": [
      "\"the\" \"world\" \"is\" \"mine\" \"take\" \"a\" \"look\" \"what\" \"you\" \"have\" \"started\"\n"
     ]
    }
   ],
   "source": [
    "print(*list(map(lambda x: '\"' + x + '\"', words)))"
   ]
  },
  {
   "cell_type": "code",
   "execution_count": null,
   "id": "a8d6c3d0",
   "metadata": {},
   "outputs": [],
   "source": []
  },
  {
   "cell_type": "markdown",
   "id": "e5ab2b21",
   "metadata": {},
   "source": [
    "# Задача №5"
   ]
  },
  {
   "cell_type": "code",
   "execution_count": null,
   "id": "0f196ee2",
   "metadata": {},
   "outputs": [],
   "source": [
    "Дан список целых чисел numbers. Допишите код после оператора распаковки (*), \n",
    "для удаления из списка всех чисел-палиндромов и печати результата на одной строке через пробел.\n",
    "\n",
    "Примечание. Вспомните про встроенную функцию filter() и анонимные функции lambda."
   ]
  },
  {
   "cell_type": "code",
   "execution_count": 127,
   "id": "9461a451",
   "metadata": {},
   "outputs": [],
   "source": [
    "numbers = [18, 191, 9009, 5665, 78, 77, 45, 23, 19991, 908, 8976, 6565, 5665, 10, 1000, 908, 909, 232, 45654, 786]"
   ]
  },
  {
   "cell_type": "code",
   "execution_count": 128,
   "id": "e03f0dec",
   "metadata": {},
   "outputs": [
    {
     "data": {
      "text/plain": [
       "[18, 78, 45, 23, 908, 8976, 6565, 10, 1000, 908, 786]"
      ]
     },
     "execution_count": 128,
     "metadata": {},
     "output_type": "execute_result"
    }
   ],
   "source": [
    "list(filter(lambda x: x if str(x) != str(x)[::-1] else None, numbers))"
   ]
  },
  {
   "cell_type": "code",
   "execution_count": null,
   "id": "6b528d0a",
   "metadata": {},
   "outputs": [],
   "source": []
  },
  {
   "cell_type": "markdown",
   "id": "479d7e6b",
   "metadata": {},
   "source": [
    "# Задача №6"
   ]
  },
  {
   "cell_type": "code",
   "execution_count": null,
   "id": "962cc6f5",
   "metadata": {},
   "outputs": [],
   "source": [
    "Дан список numbers, состоящий из кортежей. Допишите пропущенную \n",
    "часть программы, чтобы список sorted_numbers был упорядочен по \n",
    "убыванию среднего арифметического элементов кортежей списка numbers."
   ]
  },
  {
   "cell_type": "code",
   "execution_count": 132,
   "id": "4621bd58",
   "metadata": {},
   "outputs": [
    {
     "name": "stdout",
     "output_type": "stream",
     "text": [
      "[(39, 12), (-13, 56), (17, 0, 1), (1, 9, 2), (10, -2, 3, 4), (3,), (-1, 5, 1), (1, 1), (0, 1), (3, -8), (-1, -9, -45, 32), (11, -23), (10, -100, 21, 32)]\n"
     ]
    }
   ],
   "source": [
    "numbers = [(10, -2, 3, 4), (-13, 56), (1, 9, 2), (-1, -9, -45, 32), (-1, 5, 1), (17, 0, 1), (0, 1), (3,), (39, 12), (11, -23), (10, -100, 21, 32), (3, -8), (1, 1)]\n",
    "\n",
    "sorted_numbers = sorted(numbers, key = lambda x: sum(x)/len(x), reverse = True)\n",
    "\n",
    "print(sorted_numbers)"
   ]
  },
  {
   "cell_type": "code",
   "execution_count": null,
   "id": "69a9cc30",
   "metadata": {},
   "outputs": [],
   "source": []
  },
  {
   "cell_type": "markdown",
   "id": "db21339c",
   "metadata": {},
   "source": [
    "# Задача №7"
   ]
  },
  {
   "cell_type": "code",
   "execution_count": null,
   "id": "11d56f49",
   "metadata": {},
   "outputs": [],
   "source": [
    "Напишите функцию call(), которая принимает произвольную функцию и аргументы для \n",
    "неё и делает вызов переданной функции, возвращая ее значение.\n",
    "\n",
    "Примечание 1. Приведенный ниже код, при условии, что функция call() написана правильно\n",
    "\n",
    "def mul7(x):\n",
    "    return x * 7\n",
    "\n",
    "\n",
    "def add2(x, y):\n",
    "    return x + y\n",
    "\n",
    "\n",
    "def add3(x, y, z):\n",
    "    return x + y + z\n",
    "\n",
    "\n",
    "print(call(mul7, 10))\n",
    "print(call(add2, 2, 7))\n",
    "print(call(add3, 10, 30, 40))\n",
    "print(call(bool, 0))\n",
    "должен выводить:\n",
    "\n",
    "70\n",
    "9\n",
    "80\n",
    "False"
   ]
  },
  {
   "cell_type": "code",
   "execution_count": 136,
   "id": "2b171e75",
   "metadata": {},
   "outputs": [],
   "source": [
    "def mul7(x):\n",
    "    return x * 7\n",
    "\n",
    "\n",
    "def add2(x, y):\n",
    "    return x + y\n",
    "\n",
    "\n",
    "def add3(x, y, z):\n",
    "    return x + y + z\n",
    "\n",
    "def call(func, *args):\n",
    "    return func(*args)\n",
    "    \n",
    "    "
   ]
  },
  {
   "cell_type": "code",
   "execution_count": 137,
   "id": "7dc1116c",
   "metadata": {},
   "outputs": [
    {
     "name": "stdout",
     "output_type": "stream",
     "text": [
      "70\n",
      "9\n",
      "80\n",
      "False\n"
     ]
    }
   ],
   "source": [
    "print(call(mul7, 10))\n",
    "print(call(add2, 2, 7))\n",
    "print(call(add3, 10, 30, 40))\n",
    "print(call(bool, 0))"
   ]
  },
  {
   "cell_type": "code",
   "execution_count": null,
   "id": "6e338a7e",
   "metadata": {},
   "outputs": [],
   "source": []
  },
  {
   "cell_type": "markdown",
   "id": "fdf4d367",
   "metadata": {},
   "source": [
    "# Задача №8"
   ]
  },
  {
   "cell_type": "code",
   "execution_count": null,
   "id": "d4107cc7",
   "metadata": {},
   "outputs": [],
   "source": [
    "Напишите функцию compose(), которая принимает на вход две других одноаргументных функции f и g\n",
    "и возвращает новую функцию. Эта новая функция также должна принимать один аргумент x и \n",
    "применять к нему исходные функции в нужном порядке: для функций f и g порядок применения должен выглядеть, как f(g(x)).\n",
    "\n",
    "Примечание 1. Приведенный ниже код, при условии, что функция compose() написана правильно\n",
    "\n",
    "def add3(x):\n",
    "    return x + 3\n",
    "\n",
    "\n",
    "def mul7(x):\n",
    "    return x * 7\n",
    "\n",
    "\n",
    "print(compose(mul7, add3)(1))\n",
    "print(compose(add3, mul7)(2))\n",
    "print(compose(mul7, str)(3))\n",
    "print(compose(str, mul7)(5))\n",
    "должен выводить:\n",
    "\n",
    "28\n",
    "17\n",
    "3333333\n",
    "35\n",
    "Примечание 2. Вызывать функцию compose() не нужно, требуется только реализовать ее.\n",
    "\n",
    "Примечание 3. С точки зрения математики, композиция функций f и g — это новая функция h(x) = f(g(x)), \n",
    "при этом порядок применения функций f и g важен! "
   ]
  },
  {
   "cell_type": "code",
   "execution_count": 73,
   "id": "28538e04",
   "metadata": {},
   "outputs": [],
   "source": [
    "def add3(x):\n",
    "    return x + 3\n",
    "\n",
    "def mul7(x):\n",
    "    return x * 7\n",
    "\n",
    "def compose(f, g):\n",
    "    \n",
    "    return lambda x: f(g(x))    "
   ]
  },
  {
   "cell_type": "code",
   "execution_count": 74,
   "id": "09a275ce",
   "metadata": {},
   "outputs": [
    {
     "name": "stdout",
     "output_type": "stream",
     "text": [
      "28\n"
     ]
    }
   ],
   "source": [
    "print(compose(mul7, add3)(1))"
   ]
  },
  {
   "cell_type": "code",
   "execution_count": 75,
   "id": "12a90ca2",
   "metadata": {},
   "outputs": [
    {
     "name": "stdout",
     "output_type": "stream",
     "text": [
      "28\n",
      "17\n",
      "3333333\n",
      "35\n"
     ]
    }
   ],
   "source": [
    "print(compose(mul7, add3)(1))\n",
    "print(compose(add3, mul7)(2))\n",
    "print(compose(mul7, str)(3))\n",
    "print(compose(str, mul7)(5))"
   ]
  },
  {
   "cell_type": "code",
   "execution_count": null,
   "id": "992de75b",
   "metadata": {},
   "outputs": [],
   "source": []
  },
  {
   "cell_type": "markdown",
   "id": "7a8b9127",
   "metadata": {},
   "source": [
    "# Задача №9"
   ]
  },
  {
   "cell_type": "code",
   "execution_count": null,
   "id": "3a7450cc",
   "metadata": {},
   "outputs": [],
   "source": [
    "Напишите функцию arithmetic_operation(), которая принимает символ одной из четырех\n",
    "арифметических операций (+, -, *, /) и возвращает функцию двух аргументов для соответствующей операции.\n",
    "\n",
    "Примечание 1. Приведенный ниже код, при условии, что функция arithmetic_operation() написана правильно\n",
    "\n",
    "add = arithmetic_operation('+')\n",
    "div = arithmetic_operation('/')\n",
    "print(add(10, 20))\n",
    "print(div(20, 5))\n",
    "должен выводить:\n",
    "\n",
    "30\n",
    "4.0"
   ]
  },
  {
   "cell_type": "code",
   "execution_count": 20,
   "id": "70cacee4",
   "metadata": {},
   "outputs": [],
   "source": [
    "add = lambda x, y: x+y"
   ]
  },
  {
   "cell_type": "code",
   "execution_count": 117,
   "id": "0695be5a",
   "metadata": {},
   "outputs": [],
   "source": [
    "d = {'+': lambda x, y: x+y, '-': lambda x, y: x-y, '*': lambda x, y: x*y, '/': lambda x, y: x/y}"
   ]
  },
  {
   "cell_type": "code",
   "execution_count": 122,
   "id": "8affbb9f",
   "metadata": {},
   "outputs": [],
   "source": [
    "add = d['add']\n",
    "div = d['div']"
   ]
  },
  {
   "cell_type": "code",
   "execution_count": 123,
   "id": "bb7c4718",
   "metadata": {},
   "outputs": [
    {
     "name": "stdout",
     "output_type": "stream",
     "text": [
      "30\n",
      "4.0\n"
     ]
    }
   ],
   "source": [
    "print(add(10, 20))\n",
    "print(div(20, 5))"
   ]
  },
  {
   "cell_type": "code",
   "execution_count": 124,
   "id": "92a12129",
   "metadata": {},
   "outputs": [],
   "source": [
    "def arithmetic_operation(oper):\n",
    "    return {'+': lambda x, y: x+y, '-': lambda x, y: x-y, '*': lambda x, y: x*y, '/': lambda x, y: x/y}[oper]"
   ]
  },
  {
   "cell_type": "code",
   "execution_count": 126,
   "id": "0a2a204d",
   "metadata": {},
   "outputs": [
    {
     "name": "stdout",
     "output_type": "stream",
     "text": [
      "30\n",
      "4.0\n"
     ]
    }
   ],
   "source": [
    "add = arithmetic_operation('+')\n",
    "div = arithmetic_operation('/')\n",
    "print(add(10, 20))\n",
    "print(div(20, 5))"
   ]
  },
  {
   "cell_type": "code",
   "execution_count": null,
   "id": "08802e51",
   "metadata": {},
   "outputs": [],
   "source": []
  },
  {
   "cell_type": "markdown",
   "id": "f12b3ff9",
   "metadata": {},
   "source": [
    "# Задача №10"
   ]
  },
  {
   "cell_type": "code",
   "execution_count": null,
   "id": "4432f3c7",
   "metadata": {},
   "outputs": [],
   "source": [
    "В одну строку\n",
    "Дана строка из разделенных пробелами слов в разных регистрах. Напишите программу, \n",
    "которая отсортирует слова независимо от регистра, а затем выведет их. Отсортированные\n",
    "слова должны выводиться на печать в исходном регистре, в каком переданы программе на вход.\n",
    "\n",
    "Формат входных данных\n",
    "На вход программе подается строка из разделенных пробелами слов в разных регистрах.\n",
    "\n",
    "Формат выходных данных\n",
    "Программа должна вывести строку разделенных пробелом отсортированных слов в прежних регистрах.\n",
    "\n",
    "Примечание 1. Решите задачу в одну строку кода 😎.\n",
    "\n",
    "Примечание 2. Встроенная функция sorted() сортирует строки в лексикографическом порядке,\n",
    "но учитывает регистр буквы. Любая буква в верхнем регистре считается идущей раньше, чем буква в нижнем регистре.\n",
    "\n",
    "Тестовые данные 🟢\n",
    "Sample Input:\n",
    "\n",
    "cate Frog cat FROGs bee CATERS mouse cATwalk dolphin mOus Cats CatAlo\n",
    "Sample Output:\n",
    "\n",
    "bee cat CatAlo cate CATERS Cats cATwalk dolphin Frog FROGs mOus mouse"
   ]
  },
  {
   "cell_type": "code",
   "execution_count": 23,
   "id": "99e98595",
   "metadata": {},
   "outputs": [
    {
     "name": "stdout",
     "output_type": "stream",
     "text": [
      "cate Frog cat FROGs bee CATERS mouse cATwalk dolphin mOus Cats CatAlo\n"
     ]
    }
   ],
   "source": [
    "s = input().split()"
   ]
  },
  {
   "cell_type": "code",
   "execution_count": 24,
   "id": "7c27479f",
   "metadata": {},
   "outputs": [
    {
     "data": {
      "text/plain": [
       "['cate',\n",
       " 'Frog',\n",
       " 'cat',\n",
       " 'FROGs',\n",
       " 'bee',\n",
       " 'CATERS',\n",
       " 'mouse',\n",
       " 'cATwalk',\n",
       " 'dolphin',\n",
       " 'mOus',\n",
       " 'Cats',\n",
       " 'CatAlo']"
      ]
     },
     "execution_count": 24,
     "metadata": {},
     "output_type": "execute_result"
    }
   ],
   "source": [
    "s"
   ]
  },
  {
   "cell_type": "code",
   "execution_count": 27,
   "id": "70c61c9d",
   "metadata": {},
   "outputs": [
    {
     "name": "stdout",
     "output_type": "stream",
     "text": [
      "bee cat CatAlo cate CATERS Cats cATwalk dolphin Frog FROGs mOus mouse\n"
     ]
    }
   ],
   "source": [
    "print(*sorted(s, key = lambda x: x.lower()))"
   ]
  },
  {
   "cell_type": "code",
   "execution_count": null,
   "id": "3a133718",
   "metadata": {},
   "outputs": [],
   "source": []
  },
  {
   "cell_type": "markdown",
   "id": "a68cdccc",
   "metadata": {},
   "source": [
    "# Задача №11"
   ]
  },
  {
   "cell_type": "code",
   "execution_count": null,
   "id": "ee20c479",
   "metadata": {},
   "outputs": [],
   "source": [
    "Гематрия слова\n",
    "Гематрией слова называется сумма числовых значений входящих в него букв.\n",
    "\n",
    "Для вычисления гематрии слова в этой задаче:\n",
    "\n",
    "переведём слово в верхний регистр;\n",
    "числовое значение буквы вычислим как код(буквы) - код(буквы A).\n",
    "На вход программе подается натуральное число \n",
    "n, а затем \n",
    "n строк английских слов в разных регистрах.\n",
    "\n",
    "Напишите программу, которая выводит слова в начальном регистре (каждое на отдельной строке) \n",
    "в порядке возрастания их гематрии. Если гематрия слов совпадает, они выводятся в алфавитном (лексикографическом) порядке.\n",
    "\n",
    "Формат входных данных\n",
    "На вход программе подается натуральное число \n",
    "n, а затем \n",
    "n строк английских слов в разных регистрах.\n",
    "\n",
    "Формат выходных данных\n",
    "Программа должна отсортировать слова в соответствии с условием задачи.\n",
    "\n",
    "Примечание 1. Для получения кода символа воспользуйтесь встроенной функцией ord().\n",
    "\n",
    "Примечание 2. Слова во входных данных могут повторяться.\n",
    "\n",
    "Примечание 3. Пусть требуется вычислить гематрию слова BaSis. Переводим его в верхний регистр BASIS. \n",
    "Для каждого символа в слове находим его код с помощью встроенной функции ord():\n",
    "\n",
    "ord('B') = 66\n",
    "ord('A') = 65\n",
    "ord('S') = 83\n",
    "ord('I') = 73\n",
    "ord('S') = 83\n",
    "\n",
    "В соответствии с условием задачи вычисляем числовое значение буквы как код(буквы) - код(буквы A). \n",
    "Вычитаем из кода каждой буквы значение ord('A') = 65:\n",
    "\n",
    "ord('B') - ord('A') = 66 - 65 = 1\n",
    "ord('A') - ord('A') = 65 - 65 = 0\n",
    "ord('S') - ord('A') = 83 - 65 = 18\n",
    "ord('I') - ord('A') = 73 - 65 = 8\n",
    "ord('S') - ord('A') = 83 - 65 = 18\n",
    "\n",
    "Гематрия слова BaSis равна \n",
    "1\n",
    "+\n",
    "0\n",
    "+\n",
    "18\n",
    "+\n",
    "8\n",
    "+\n",
    "18\n",
    "=\n",
    "45\n",
    "1+0+18+8+18=45.\n",
    "\n",
    "Sample Input 1:\n",
    "4\n",
    "basis\n",
    "after\n",
    "chief\n",
    "agenda\n",
    "\n",
    "Sample Output 1:\n",
    "agenda\n",
    "chief\n",
    "after\n",
    "basis"
   ]
  },
  {
   "cell_type": "code",
   "execution_count": 31,
   "id": "8539f671",
   "metadata": {},
   "outputs": [
    {
     "name": "stdout",
     "output_type": "stream",
     "text": [
      "4\n",
      "basis\n",
      "after\n",
      "chief\n",
      "agenda\n"
     ]
    },
    {
     "data": {
      "text/plain": [
       "['basis', 'after', 'chief', 'agenda']"
      ]
     },
     "execution_count": 31,
     "metadata": {},
     "output_type": "execute_result"
    }
   ],
   "source": [
    "n = int(input())\n",
    "\n",
    "lst = []\n",
    "for i in range(n):\n",
    "    lst.append(input())"
   ]
  },
  {
   "cell_type": "code",
   "execution_count": 56,
   "id": "1a8a5f67",
   "metadata": {},
   "outputs": [
    {
     "data": {
      "text/plain": [
       "['agenda', 'chief', 'after', 'basis']"
      ]
     },
     "execution_count": 56,
     "metadata": {},
     "output_type": "execute_result"
    }
   ],
   "source": [
    "lst[::-1]"
   ]
  },
  {
   "cell_type": "code",
   "execution_count": 57,
   "id": "d8be6885",
   "metadata": {},
   "outputs": [
    {
     "data": {
      "text/plain": [
       "['agenda', 'chief', 'after', 'basis']"
      ]
     },
     "execution_count": 57,
     "metadata": {},
     "output_type": "execute_result"
    }
   ],
   "source": [
    "sorted(lst, key = lambda x: (sum((ord(i.upper())- 65)  for i in x), x))"
   ]
  },
  {
   "cell_type": "code",
   "execution_count": 49,
   "id": "75ea2f1b",
   "metadata": {
    "scrolled": true
   },
   "outputs": [
    {
     "data": {
      "text/plain": [
       "26"
      ]
     },
     "execution_count": 49,
     "metadata": {},
     "output_type": "execute_result"
    }
   ],
   "source": [
    " sum((ord(i.upper())- 65) for i in 'chief')"
   ]
  },
  {
   "cell_type": "code",
   "execution_count": 50,
   "id": "050ffe70",
   "metadata": {},
   "outputs": [
    {
     "data": {
      "text/plain": [
       "26"
      ]
     },
     "execution_count": 50,
     "metadata": {},
     "output_type": "execute_result"
    }
   ],
   "source": [
    " sum((ord(i.upper())- 65) for i in 'agenda')"
   ]
  },
  {
   "cell_type": "code",
   "execution_count": 51,
   "id": "15d90749",
   "metadata": {},
   "outputs": [
    {
     "data": {
      "text/plain": [
       "45"
      ]
     },
     "execution_count": 51,
     "metadata": {},
     "output_type": "execute_result"
    }
   ],
   "source": [
    " sum((ord(i.upper())- 65) for i in 'basis')"
   ]
  },
  {
   "cell_type": "code",
   "execution_count": 52,
   "id": "29fe1f93",
   "metadata": {},
   "outputs": [
    {
     "data": {
      "text/plain": [
       "45"
      ]
     },
     "execution_count": 52,
     "metadata": {},
     "output_type": "execute_result"
    }
   ],
   "source": [
    " sum((ord(i.upper())- 65) for i in 'after')"
   ]
  },
  {
   "cell_type": "code",
   "execution_count": null,
   "id": "50b0fecc",
   "metadata": {},
   "outputs": [],
   "source": []
  },
  {
   "cell_type": "markdown",
   "id": "89c8ad77",
   "metadata": {},
   "source": [
    "# Задача №12"
   ]
  },
  {
   "cell_type": "code",
   "execution_count": null,
   "id": "f083f23f",
   "metadata": {},
   "outputs": [],
   "source": [
    "Сортировка IP-адресов\n",
    "IP-адрес – уникальный числовой идентификатор устройства в компьютерной сети, работающий по протоколу TCP/IP.\n",
    "\n",
    "В \n",
    "4-й версии IP-адрес представляет собой \n",
    "32-битное число. Адрес записывается в виде четырёх десятичных чисел (октетов) со значением от \n",
    "0 до \n",
    "255, разделённых точками, например, \n",
    "192.168.1.2\n",
    "192.168.1.2.\n",
    "\n",
    "Напишите программу, которая считывает IP-адреса и выводит их в порядке возрастания в соответствии\n",
    "с десятичным представлением.\n",
    "\n",
    "Формат входных данных\n",
    "На вход программе подается число \n",
    "\n",
    "n (n≥1) – количество IP-адресов. Затем \n",
    "\n",
    "n строк с корректными IP-адресами.\n",
    "\n",
    "Формат выходных данных\n",
    "Программа должна вывести IP-адреса в порядке возрастания в соответствии с десятичным представлением.\n",
    "\n",
    "Sample Input:\n",
    "9\n",
    "128.199.44.24\n",
    "128.199.201.245\n",
    "143.198.168.95\n",
    "172.67.181.62\n",
    "172.67.222.111\n",
    "172.67.10.90\n",
    "45.8.106.59\n",
    "203.13.32.156\n",
    "172.67.181.194\n",
    "\n",
    "Sample Output:\n",
    "45.8.106.59\n",
    "128.199.44.24\n",
    "128.199.201.245\n",
    "143.198.168.95\n",
    "172.67.10.90\n",
    "172.67.181.62\n",
    "172.67.181.194\n",
    "172.67.222.111\n",
    "203.13.32.156"
   ]
  },
  {
   "cell_type": "code",
   "execution_count": null,
   "id": "d2da6321",
   "metadata": {},
   "outputs": [],
   "source": [
    "192⋅256**3 + 168⋅256**2 + 1⋅256**1 + 2⋅256**0"
   ]
  },
  {
   "cell_type": "code",
   "execution_count": 1,
   "id": "5ba00f15",
   "metadata": {},
   "outputs": [],
   "source": [
    "x = '192.168.1.2'.split('.')"
   ]
  },
  {
   "cell_type": "code",
   "execution_count": 2,
   "id": "25ed7d91",
   "metadata": {},
   "outputs": [
    {
     "data": {
      "text/plain": [
       "['192', '168', '1', '2']"
      ]
     },
     "execution_count": 2,
     "metadata": {},
     "output_type": "execute_result"
    }
   ],
   "source": [
    "x"
   ]
  },
  {
   "cell_type": "code",
   "execution_count": 5,
   "id": "e2b79ab6",
   "metadata": {},
   "outputs": [
    {
     "data": {
      "text/plain": [
       "3221225472"
      ]
     },
     "execution_count": 5,
     "metadata": {},
     "output_type": "execute_result"
    }
   ],
   "source": [
    "int(x[0])*256**3 "
   ]
  },
  {
   "cell_type": "code",
   "execution_count": 10,
   "id": "6ec9b65b",
   "metadata": {},
   "outputs": [
    {
     "data": {
      "text/plain": [
       "[192, 168, 1, 2]"
      ]
     },
     "execution_count": 10,
     "metadata": {},
     "output_type": "execute_result"
    }
   ],
   "source": [
    "new_x = list(map(int, x))\n",
    "new_x"
   ]
  },
  {
   "cell_type": "code",
   "execution_count": 12,
   "id": "be4c0814",
   "metadata": {},
   "outputs": [
    {
     "data": {
      "text/plain": [
       "3232235778"
      ]
     },
     "execution_count": 12,
     "metadata": {},
     "output_type": "execute_result"
    }
   ],
   "source": [
    "new_x[0]*256**3 + new_x[1]*256**2 + new_x[2]*256**1 + new_x[3]*256**0 "
   ]
  },
  {
   "cell_type": "code",
   "execution_count": 13,
   "id": "72c4b728",
   "metadata": {},
   "outputs": [
    {
     "name": "stdout",
     "output_type": "stream",
     "text": [
      "2\n",
      "128.199.44.24\n",
      "128.199.201.245\n"
     ]
    }
   ],
   "source": [
    "n = int(input())\n",
    "lst = []\n",
    "for i in range(n):\n",
    "    lst.append(input())\n",
    "    "
   ]
  },
  {
   "cell_type": "code",
   "execution_count": 58,
   "id": "0356f512",
   "metadata": {},
   "outputs": [
    {
     "data": {
      "text/plain": [
       "['128.199.44.24', '128.199.201.245']"
      ]
     },
     "execution_count": 58,
     "metadata": {},
     "output_type": "execute_result"
    }
   ],
   "source": [
    "lst"
   ]
  },
  {
   "cell_type": "code",
   "execution_count": 61,
   "id": "985d2a69",
   "metadata": {},
   "outputs": [
    {
     "data": {
      "text/plain": [
       "[128, 199, 44, 24]"
      ]
     },
     "execution_count": 61,
     "metadata": {},
     "output_type": "execute_result"
    }
   ],
   "source": [
    "list(map(int, lst[0].split('.')))"
   ]
  },
  {
   "cell_type": "code",
   "execution_count": null,
   "id": "7cf518c9",
   "metadata": {},
   "outputs": [],
   "source": []
  },
  {
   "cell_type": "code",
   "execution_count": 62,
   "id": "cc308231",
   "metadata": {},
   "outputs": [],
   "source": [
    "lst_ = []\n",
    "for i in lst:\n",
    "    lst_.append((i, list(map(int, i.split('.')))[0]*256**3 + list(map(int, i.split('.')))[1]*256**2 \n",
    "                 + list(map(int, i.split('.')))[2]*256**1 + list(map(int, i.split('.')))[3]*256**0))"
   ]
  },
  {
   "cell_type": "code",
   "execution_count": 63,
   "id": "69477ed8",
   "metadata": {},
   "outputs": [
    {
     "data": {
      "text/plain": [
       "[('128.199.44.24', 2160536600), ('128.199.201.245', 2160577013)]"
      ]
     },
     "execution_count": 63,
     "metadata": {},
     "output_type": "execute_result"
    }
   ],
   "source": [
    "lst_"
   ]
  },
  {
   "cell_type": "code",
   "execution_count": 64,
   "id": "fbaeb3f9",
   "metadata": {},
   "outputs": [
    {
     "name": "stdout",
     "output_type": "stream",
     "text": [
      "128.199.44.24\n",
      "128.199.201.245\n"
     ]
    }
   ],
   "source": [
    "for i in sorted(lst_, key = lambda x: x[1]):\n",
    "    print(i[0])"
   ]
  },
  {
   "cell_type": "code",
   "execution_count": 47,
   "id": "625c6830",
   "metadata": {},
   "outputs": [
    {
     "ename": "SyntaxError",
     "evalue": "invalid syntax. Perhaps you forgot a comma? (64007113.py, line 1)",
     "output_type": "error",
     "traceback": [
      "\u001b[1;36m  Cell \u001b[1;32mIn[47], line 1\u001b[1;36m\u001b[0m\n\u001b[1;33m    new_lst = list(map(lambda x: x, list(map(int, x.split('.'))) lst))\u001b[0m\n\u001b[1;37m                                    ^\u001b[0m\n\u001b[1;31mSyntaxError\u001b[0m\u001b[1;31m:\u001b[0m invalid syntax. Perhaps you forgot a comma?\n"
     ]
    }
   ],
   "source": [
    "new_lst = list(map(lambda x: x, list(map(int, x.split('.'))) lst))"
   ]
  },
  {
   "cell_type": "code",
   "execution_count": 25,
   "id": "11df3bd3",
   "metadata": {},
   "outputs": [
    {
     "data": {
      "text/plain": [
       "[['128', '199', '44', '24'], ['128', '199', '201', '245']]"
      ]
     },
     "execution_count": 25,
     "metadata": {},
     "output_type": "execute_result"
    }
   ],
   "source": [
    "new_lst"
   ]
  },
  {
   "cell_type": "code",
   "execution_count": 32,
   "id": "479e0263",
   "metadata": {},
   "outputs": [],
   "source": [
    "new_new_lst = []\n",
    "\n",
    "for i in new_lst:\n",
    "    new_new_lst.append(list(map(int, i)))"
   ]
  },
  {
   "cell_type": "code",
   "execution_count": 44,
   "id": "9f1efc54",
   "metadata": {},
   "outputs": [
    {
     "ename": "TypeError",
     "evalue": "int() argument must be a string, a bytes-like object or a real number, not 'list'",
     "output_type": "error",
     "traceback": [
      "\u001b[1;31m---------------------------------------------------------------------------\u001b[0m",
      "\u001b[1;31mTypeError\u001b[0m                                 Traceback (most recent call last)",
      "Cell \u001b[1;32mIn[44], line 1\u001b[0m\n\u001b[1;32m----> 1\u001b[0m \u001b[38;5;28;43mlist\u001b[39;49m\u001b[43m(\u001b[49m\u001b[38;5;28;43mmap\u001b[39;49m\u001b[43m(\u001b[49m\u001b[38;5;28;43mint\u001b[39;49m\u001b[43m,\u001b[49m\u001b[43m \u001b[49m\u001b[43m(\u001b[49m\u001b[43miii\u001b[49m\u001b[43m \u001b[49m\u001b[38;5;28;43;01mfor\u001b[39;49;00m\u001b[43m \u001b[49m\u001b[43miii\u001b[49m\u001b[43m \u001b[49m\u001b[38;5;129;43;01min\u001b[39;49;00m\u001b[43m \u001b[49m\u001b[43m(\u001b[49m\u001b[43mii\u001b[49m\u001b[43m \u001b[49m\u001b[38;5;28;43;01mfor\u001b[39;49;00m\u001b[43m \u001b[49m\u001b[43mii\u001b[49m\u001b[43m \u001b[49m\u001b[38;5;129;43;01min\u001b[39;49;00m\u001b[43m \u001b[49m\u001b[43m[\u001b[49m\u001b[43mi\u001b[49m\u001b[38;5;241;43m.\u001b[39;49m\u001b[43msplit\u001b[49m\u001b[43m(\u001b[49m\u001b[38;5;124;43m'\u001b[39;49m\u001b[38;5;124;43m.\u001b[39;49m\u001b[38;5;124;43m'\u001b[39;49m\u001b[43m)\u001b[49m\u001b[43m \u001b[49m\u001b[38;5;28;43;01mfor\u001b[39;49;00m\u001b[43m \u001b[49m\u001b[43mi\u001b[49m\u001b[43m \u001b[49m\u001b[38;5;129;43;01min\u001b[39;49;00m\u001b[43m \u001b[49m\u001b[43mlst\u001b[49m\u001b[43m]\u001b[49m\u001b[43m)\u001b[49m\u001b[43m)\u001b[49m\u001b[43m)\u001b[49m\u001b[43m)\u001b[49m\n",
      "\u001b[1;31mTypeError\u001b[0m: int() argument must be a string, a bytes-like object or a real number, not 'list'"
     ]
    }
   ],
   "source": [
    "list(map(int, (iii for iii in (ii for ii in [i.split('.') for i in lst]))))"
   ]
  },
  {
   "cell_type": "code",
   "execution_count": null,
   "id": "3cbf4aa2",
   "metadata": {},
   "outputs": [],
   "source": []
  },
  {
   "cell_type": "code",
   "execution_count": 33,
   "id": "7e89a660",
   "metadata": {},
   "outputs": [
    {
     "data": {
      "text/plain": [
       "[[128, 199, 44, 24], [128, 199, 201, 245]]"
      ]
     },
     "execution_count": 33,
     "metadata": {},
     "output_type": "execute_result"
    }
   ],
   "source": [
    "new_new_lst"
   ]
  },
  {
   "cell_type": "code",
   "execution_count": 17,
   "id": "f94db1a2",
   "metadata": {},
   "outputs": [
    {
     "name": "stdout",
     "output_type": "stream",
     "text": [
      "128.199.44.24\n",
      "128.199.201.245\n"
     ]
    }
   ],
   "source": [
    "for i in sorted(lst, key = lambda x: new_x[0]*256**3 + new_x[1]*256**2 + new_x[2]*256**1 + new_x[3]*256**0):\n",
    "    print(i)"
   ]
  },
  {
   "cell_type": "code",
   "execution_count": null,
   "id": "ab1fece1",
   "metadata": {},
   "outputs": [],
   "source": []
  },
  {
   "cell_type": "code",
   "execution_count": null,
   "id": "fd2c7e83",
   "metadata": {},
   "outputs": [],
   "source": []
  }
 ],
 "metadata": {
  "kernelspec": {
   "display_name": "Python 3 (ipykernel)",
   "language": "python",
   "name": "python3"
  },
  "language_info": {
   "codemirror_mode": {
    "name": "ipython",
    "version": 3
   },
   "file_extension": ".py",
   "mimetype": "text/x-python",
   "name": "python",
   "nbconvert_exporter": "python",
   "pygments_lexer": "ipython3",
   "version": "3.10.2"
  }
 },
 "nbformat": 4,
 "nbformat_minor": 5
}
