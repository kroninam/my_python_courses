{
 "cells": [
  {
   "cell_type": "markdown",
   "id": "e039df46",
   "metadata": {},
   "source": [
    "# Задача №1"
   ]
  },
  {
   "cell_type": "code",
   "execution_count": 2,
   "id": "e64b12e5",
   "metadata": {},
   "outputs": [],
   "source": [
    "# Дополните приведенный код, чтобы в списках значений элементов словаря my_dict  \n",
    "# не было чисел, больших 20. При этом порядок оставшихся элементов меняться не должен."
   ]
  },
  {
   "cell_type": "code",
   "execution_count": 56,
   "id": "a38e4436",
   "metadata": {},
   "outputs": [],
   "source": [
    "my_dict = {'C1': [10, 20, 30, 7, 6, 23, 90], 'C2': [20, 30, 40, 1, 2, 3, 90, 12], 'C3': [12, 34, 20, 21], 'C4': [22, 54, 209, 21, 7], 'C5': [2, 4, 29, 21, 19], 'C6': [4, 6, 7, 10, 55], 'C7': [4, 8, 12, 23, 42], 'C8': [3, 14, 15, 26, 48], 'C9': [2, 7, 18, 28, 18, 28]}\n",
    "\n",
    "for k, w in my_dict.items():\n",
    "    my_dict[k] = [j for j in w if j <= 20]\n",
    "\n"
   ]
  },
  {
   "cell_type": "code",
   "execution_count": 57,
   "id": "6fa696c9",
   "metadata": {},
   "outputs": [
    {
     "data": {
      "text/plain": [
       "{'C1': [10, 20, 7, 6],\n",
       " 'C2': [20, 1, 2, 3, 12],\n",
       " 'C3': [12, 20],\n",
       " 'C4': [7],\n",
       " 'C5': [2, 4, 19],\n",
       " 'C6': [4, 6, 7, 10],\n",
       " 'C7': [4, 8, 12],\n",
       " 'C8': [3, 14, 15],\n",
       " 'C9': [2, 7, 18, 18]}"
      ]
     },
     "execution_count": 57,
     "metadata": {},
     "output_type": "execute_result"
    }
   ],
   "source": [
    "my_dict"
   ]
  },
  {
   "cell_type": "code",
   "execution_count": null,
   "id": "8e24096a",
   "metadata": {},
   "outputs": [],
   "source": []
  },
  {
   "cell_type": "code",
   "execution_count": 13,
   "id": "264c5cef",
   "metadata": {},
   "outputs": [],
   "source": [
    "i = [10, 20, 30, 7, 6, 23, 90]"
   ]
  },
  {
   "cell_type": "code",
   "execution_count": 39,
   "id": "a1c34b5a",
   "metadata": {},
   "outputs": [],
   "source": [
    "for k in i:\n",
    "    if k > 20:\n",
    "        i.remove(k)"
   ]
  },
  {
   "cell_type": "code",
   "execution_count": 40,
   "id": "5340714d",
   "metadata": {},
   "outputs": [
    {
     "data": {
      "text/plain": [
       "[2, 7, 18, 18]"
      ]
     },
     "execution_count": 40,
     "metadata": {},
     "output_type": "execute_result"
    }
   ],
   "source": [
    "i"
   ]
  },
  {
   "cell_type": "code",
   "execution_count": 16,
   "id": "6378f164",
   "metadata": {},
   "outputs": [
    {
     "data": {
      "text/plain": [
       "[20, 30, 7, 6, 23, 90]"
      ]
     },
     "execution_count": 16,
     "metadata": {},
     "output_type": "execute_result"
    }
   ],
   "source": [
    "i"
   ]
  },
  {
   "cell_type": "code",
   "execution_count": null,
   "id": "c9715ac9",
   "metadata": {},
   "outputs": [],
   "source": []
  },
  {
   "cell_type": "code",
   "execution_count": 26,
   "id": "a6fa15eb",
   "metadata": {},
   "outputs": [
    {
     "data": {
      "text/plain": [
       "{'C1': [10, 30, 7, 6, 90],\n",
       " 'C2': [30, 1, 2, 3, 12],\n",
       " 'C3': [34, 21],\n",
       " 'C4': [54, 21, 7],\n",
       " 'C5': [2, 4, 21],\n",
       " 'C6': [4, 6, 7, 10],\n",
       " 'C7': [4, 8, 23],\n",
       " 'C8': [3, 15, 48],\n",
       " 'C9': [2, 7, 28, 28]}"
      ]
     },
     "execution_count": 26,
     "metadata": {},
     "output_type": "execute_result"
    }
   ],
   "source": [
    "my_dict"
   ]
  },
  {
   "cell_type": "code",
   "execution_count": null,
   "id": "9338873f",
   "metadata": {},
   "outputs": [],
   "source": []
  },
  {
   "cell_type": "markdown",
   "id": "c63ae9ca",
   "metadata": {},
   "source": [
    "# Задача №2"
   ]
  },
  {
   "cell_type": "code",
   "execution_count": null,
   "id": "eb241d47",
   "metadata": {},
   "outputs": [],
   "source": [
    "Словарь emails содержит информацию об электронных адресах пользователей,\n",
    "сгруппированных по домену. Дополните приведенный код, чтобы он вывел все электронные\n",
    "адреса в алфавитном порядке, каждый на отдельной строке, в формате username@domain.\n",
    "\n",
    "Примечание 1. Для сортировки в алфавитном порядке используйте встроенную функцию \n",
    "sorted(), либо списочный метод sort().\n",
    "\n",
    "Примечание 2. Группировать электронные адреса по доменам не нужно."
   ]
  },
  {
   "cell_type": "code",
   "execution_count": 58,
   "id": "e3577e4c",
   "metadata": {},
   "outputs": [],
   "source": [
    "emails = {'nosu.edu': ['timyr', 'joseph', 'svetlana.gaeva', 'larisa.mamuk'], \n",
    "          'gmail.com': ['ruslan.chaika', 'rustam.mini', 'stepik-best'], \n",
    "          'msu.edu': ['apple.fruit', 'beegeek', 'beegeek.school'], \n",
    "          'yandex.ru': ['surface', 'google'],\n",
    "          'hse.edu': ['tomas-henders', 'cream.soda', 'zivert'],\n",
    "          'mail.ru': ['angel.down', 'joanne', 'the.fame.moster']}"
   ]
  },
  {
   "cell_type": "code",
   "execution_count": 59,
   "id": "e1843248",
   "metadata": {},
   "outputs": [],
   "source": [
    "lst = []\n",
    "for k, w in emails.items():\n",
    "    for i in w:\n",
    "        lst.append(i + '@' + k)\n",
    "    "
   ]
  },
  {
   "cell_type": "code",
   "execution_count": 61,
   "id": "366182e9",
   "metadata": {},
   "outputs": [
    {
     "name": "stdout",
     "output_type": "stream",
     "text": [
      "angel.down@mail.ru\n",
      "apple.fruit@msu.edu\n",
      "beegeek.school@msu.edu\n",
      "beegeek@msu.edu\n",
      "cream.soda@hse.edu\n",
      "google@yandex.ru\n",
      "joanne@mail.ru\n",
      "joseph@nosu.edu\n",
      "larisa.mamuk@nosu.edu\n",
      "ruslan.chaika@gmail.com\n",
      "rustam.mini@gmail.com\n",
      "stepik-best@gmail.com\n",
      "surface@yandex.ru\n",
      "svetlana.gaeva@nosu.edu\n",
      "the.fame.moster@mail.ru\n",
      "timyr@nosu.edu\n",
      "tomas-henders@hse.edu\n",
      "zivert@hse.edu\n"
     ]
    }
   ],
   "source": [
    "print(*sorted(lst), sep = '\\n')"
   ]
  },
  {
   "cell_type": "code",
   "execution_count": null,
   "id": "3b8d416b",
   "metadata": {},
   "outputs": [],
   "source": []
  },
  {
   "cell_type": "markdown",
   "id": "6180c35b",
   "metadata": {},
   "source": [
    "# Задача №3"
   ]
  },
  {
   "cell_type": "code",
   "execution_count": null,
   "id": "0d00d077",
   "metadata": {},
   "outputs": [],
   "source": [
    "Минутка генетики\n",
    "Как известно из курса биологии ДНК и РНК – последовательности нуклеотидов.\n",
    "\n",
    "Четыре нуклеотида в ДНК:\n",
    "\n",
    "аденин (A);\n",
    "цитозин (C);\n",
    "гуанин (G);\n",
    "тимин (T).\n",
    "Четыре нуклеотида в РНК:\n",
    "\n",
    "аденин (A);\n",
    "цитозин (C);\n",
    "гуанин (G);\n",
    "урацил (U).\n",
    "Цепь РНК строится на основе цепи ДНК последовательным присоединением комплементарных нуклеотидов:\n",
    "\n",
    "G → → C;\n",
    "C → → G;\n",
    "T  → → A;\n",
    "A → → U.\n",
    "Напишите программу, переводящую цепь ДНК в цепь РНК.\n",
    "\n",
    "Формат входных данных\n",
    "На вход программе подается корректная цепь ДНК в верхнем регистре.\n",
    "\n",
    "Формат выходных данных\n",
    "Программа должна вывести соответствующую цепь РНК в верхнем регистре.\n",
    "\n",
    "Примечание. Подробнее прочитать про ДНК и РНК можно тут и тут.\n",
    "\n",
    "Sample Input 1:\n",
    "\n",
    "ACTG\n",
    "\n",
    "Sample Output 1:\n",
    "\n",
    "UGAC"
   ]
  },
  {
   "cell_type": "code",
   "execution_count": 63,
   "id": "8386f04e",
   "metadata": {},
   "outputs": [
    {
     "name": "stdout",
     "output_type": "stream",
     "text": [
      "ACTG\n"
     ]
    }
   ],
   "source": [
    "dnk_to_rnk = {'G': 'C', 'C': 'G', 'T': 'A', 'A': 'U'}\n",
    "s = input()"
   ]
  },
  {
   "cell_type": "code",
   "execution_count": 65,
   "id": "fe7aeffa",
   "metadata": {},
   "outputs": [
    {
     "name": "stdout",
     "output_type": "stream",
     "text": [
      "UGAC"
     ]
    }
   ],
   "source": [
    "for i in s:\n",
    "    print(dnk_to_rnk[i], end = '')"
   ]
  },
  {
   "cell_type": "code",
   "execution_count": null,
   "id": "0287bd28",
   "metadata": {},
   "outputs": [],
   "source": []
  },
  {
   "cell_type": "markdown",
   "id": "2b8e4648",
   "metadata": {},
   "source": [
    "# Задача №4"
   ]
  },
  {
   "cell_type": "code",
   "execution_count": null,
   "id": "03bf75a7",
   "metadata": {},
   "outputs": [],
   "source": [
    "орядковый номер\n",
    "Дана строка текста на русском языке, состоящая из слов и символов пробела.\n",
    "Словом считается последовательность букв, слова разделены одним пробелом \n",
    "или несколькими.\n",
    "\n",
    "Напишите программу, определяющую для каждого слова порядковый номер его \n",
    "вхождения в текст именно в этой форме, с учетом регистра. Для первого \n",
    "вхождения слова программа выведет \n",
    "1, для второго вхождения того же слова — \n",
    "2 и т. д.\n",
    "\n",
    "Формат входных данных\n",
    "Программа получает на вход единственную строку текста, состоящую только \n",
    "из русских букв и символов пробела. \n",
    "\n",
    "Формат выходных данных\n",
    "Для каждого слова исходного текста программа выводит одно целое число — номер\n",
    "вхождения этого слова в текст. Числа необходимо вывести на одной строке через пробел.\n",
    "\n",
    "Примечание. Количество чисел должно совпадать с количеством слов исходного текста.\n",
    "\n",
    "Sample Input 1:\n",
    "\n",
    "прием Хьюстон Хьюстон как слышно прием меня слышно прием хьюстон\n",
    "\n",
    "Sample Output 1:\n",
    "\n",
    "1 1 2 1 1 2 1 2 3 1"
   ]
  },
  {
   "cell_type": "code",
   "execution_count": 66,
   "id": "706d4cb5",
   "metadata": {},
   "outputs": [
    {
     "name": "stdout",
     "output_type": "stream",
     "text": [
      "прием Хьюстон Хьюстон как слышно прием меня слышно прием хьюстон\n"
     ]
    }
   ],
   "source": [
    "s = input()"
   ]
  },
  {
   "cell_type": "code",
   "execution_count": 69,
   "id": "24b33624",
   "metadata": {},
   "outputs": [
    {
     "name": "stdout",
     "output_type": "stream",
     "text": [
      "1 1 2 1 1 2 1 2 3 1 "
     ]
    }
   ],
   "source": [
    "d = {}\n",
    "for i in s.split():\n",
    "    d[i] = d.get(i, 0) + 1\n",
    "    print(d[i], end = ' ')\n",
    "    "
   ]
  },
  {
   "cell_type": "code",
   "execution_count": 68,
   "id": "a9fddcf9",
   "metadata": {},
   "outputs": [
    {
     "data": {
      "text/plain": [
       "{'прием': 3, 'Хьюстон': 2, 'как': 1, 'слышно': 2, 'меня': 1, 'хьюстон': 1}"
      ]
     },
     "execution_count": 68,
     "metadata": {},
     "output_type": "execute_result"
    }
   ],
   "source": [
    "d"
   ]
  },
  {
   "cell_type": "code",
   "execution_count": null,
   "id": "acd17646",
   "metadata": {},
   "outputs": [],
   "source": []
  },
  {
   "cell_type": "markdown",
   "id": "7e90e23c",
   "metadata": {},
   "source": [
    "# Задача №5"
   ]
  },
  {
   "cell_type": "code",
   "execution_count": 70,
   "id": "738b4d8c",
   "metadata": {},
   "outputs": [],
   "source": [
    "d = {1: ['A', 'E', 'I', 'L', 'N', 'O', 'R', 'S', 'T', 'U'], \n",
    "     2: ['D', 'G'], \n",
    "     3: ['B', 'C', 'M', 'P'], \n",
    "     4: ['F', 'H', 'V', 'W', 'Y'],\n",
    "     5: ['K'],\n",
    "     8: ['J', 'X'],\n",
    "     10: ['Q', 'Z']}"
   ]
  },
  {
   "cell_type": "code",
   "execution_count": 71,
   "id": "39b47ab0",
   "metadata": {},
   "outputs": [
    {
     "data": {
      "text/plain": [
       "{1: ['A', 'E', 'I', 'L', 'N', 'O', 'R', 'S', 'T', 'U'],\n",
       " 2: ['D', 'G'],\n",
       " 3: ['B', 'C', 'M', 'P'],\n",
       " 4: ['F', 'H', 'V', 'W', 'Y'],\n",
       " 5: ['K'],\n",
       " 8: ['J', 'X'],\n",
       " 10: ['Q', 'Z']}"
      ]
     },
     "execution_count": 71,
     "metadata": {},
     "output_type": "execute_result"
    }
   ],
   "source": [
    "d"
   ]
  },
  {
   "cell_type": "code",
   "execution_count": 76,
   "id": "d5f7c5c8",
   "metadata": {},
   "outputs": [
    {
     "name": "stdout",
     "output_type": "stream",
     "text": [
      "DANSER\n"
     ]
    }
   ],
   "source": [
    "s = input()"
   ]
  },
  {
   "cell_type": "code",
   "execution_count": 77,
   "id": "d700d34e",
   "metadata": {},
   "outputs": [
    {
     "data": {
      "text/plain": [
       "'DANSER'"
      ]
     },
     "execution_count": 77,
     "metadata": {},
     "output_type": "execute_result"
    }
   ],
   "source": [
    "s"
   ]
  },
  {
   "cell_type": "code",
   "execution_count": 79,
   "id": "9e8fb323",
   "metadata": {},
   "outputs": [
    {
     "name": "stdout",
     "output_type": "stream",
     "text": [
      "7\n"
     ]
    }
   ],
   "source": [
    "count = 0\n",
    "\n",
    "for i in s:\n",
    "    for k, w in d.items():\n",
    "        if i in w:\n",
    "            count += k\n",
    "            \n",
    "print(count)\n",
    "            "
   ]
  },
  {
   "cell_type": "code",
   "execution_count": null,
   "id": "e13e6d55",
   "metadata": {},
   "outputs": [],
   "source": []
  },
  {
   "cell_type": "markdown",
   "id": "795500b6",
   "metadata": {},
   "source": [
    "# Задача №6"
   ]
  },
  {
   "cell_type": "code",
   "execution_count": null,
   "id": "fb660139",
   "metadata": {},
   "outputs": [],
   "source": [
    "Строка запроса\n",
    "Строка запроса (query string) — часть URL адреса, содержащая ключи и их значения.\n",
    "Она начинается после вопросительного знака и идет до конца адреса. Например:\n",
    "\n",
    "https://beegeek.ru?name=timur     # строка запроса: name=timur\n",
    "Если параметров в строке запроса несколько, то они отделяются символом амперсанда &:\n",
    "\n",
    "https://beegeek.ru?name=timur&color=green     # строка запроса: name=timur&color=green \n",
    "Напишите функцию build_query_string(), которая принимает на вход словарь с параметрами и \n",
    "возвращает строку запроса, сформированную из этих параметров.\n",
    "\n",
    "Примечание 1. В итоговой строке параметры должны быть отсортированы в лексикографическом \n",
    "порядке ключей словаря.\n",
    "\n",
    "Примечание 2. Следующий программный код:\n",
    "\n",
    "print(build_query_string({'name': 'timur', 'age': 28}))\n",
    "print(build_query_string({'sport': 'hockey', 'game': 2, 'time': 17}))\n",
    "должен выводить:\n",
    "\n",
    "age=28&name=timur\n",
    "game=2&sport=hockey&time=17"
   ]
  },
  {
   "cell_type": "code",
   "execution_count": 91,
   "id": "aed6635f",
   "metadata": {},
   "outputs": [],
   "source": [
    "d = {'sport': 'hockey', 'game': 2, 'time': 17}"
   ]
  },
  {
   "cell_type": "code",
   "execution_count": 94,
   "id": "8d42a21a",
   "metadata": {},
   "outputs": [
    {
     "name": "stdout",
     "output_type": "stream",
     "text": [
      "game=2&sport=hockey&time=17\n"
     ]
    }
   ],
   "source": [
    "ans = ''\n",
    "\n",
    "for k, w in sorted(d.items()):\n",
    "    ans += f'&{k}={w}'\n",
    "print(ans[1:])\n"
   ]
  },
  {
   "cell_type": "code",
   "execution_count": null,
   "id": "e93747b6",
   "metadata": {},
   "outputs": [],
   "source": []
  },
  {
   "cell_type": "markdown",
   "id": "5898d1da",
   "metadata": {},
   "source": [
    "# Задача №7"
   ]
  },
  {
   "cell_type": "code",
   "execution_count": null,
   "id": "737322c4",
   "metadata": {},
   "outputs": [],
   "source": [
    "Слияние словарей 🌶️\n",
    "Напишите функцию merge(), объединяющую словари в один общий. \n",
    "Функция должна принимать список словарей и возвращать словарь, каждый ключ \n",
    "которого содержит множество (тип данных set) уникальных значений собранных из \n",
    "всех словарей переданного списка.\n",
    "\n",
    "Примечание 1. Следующий программный код:\n",
    "\n",
    "result = merge([{'a': 1, 'b': 2}, {'b': 10, 'c': 100}, {'a': 1, 'b': 17, 'c': 50}, {'a': 5, 'd': 777}])\n",
    "\n",
    "создает словарь:\n",
    "\n",
    "result = {'a': {1, 5}, 'b': {2, 10, 17}, 'c': {50, 100}, 'd': {777}}\n",
    "\n",
    "Примечание 2. Вызывать функцию merge() не нужно, требуется только реализовать. \n",
    "\n",
    "Примечание 3. Слияние пустых словарей должно быть пустым словарем."
   ]
  },
  {
   "cell_type": "code",
   "execution_count": 95,
   "id": "6e1b8052",
   "metadata": {},
   "outputs": [],
   "source": [
    "lst = [{'a': 1, 'b': 2}, {'b': 10, 'c': 100}, {'a': 1, 'b': 17, 'c': 50}, {'a': 5, 'd': 777}]"
   ]
  },
  {
   "cell_type": "code",
   "execution_count": 96,
   "id": "29e33ebd",
   "metadata": {},
   "outputs": [
    {
     "data": {
      "text/plain": [
       "[{'a': 1, 'b': 2},\n",
       " {'b': 10, 'c': 100},\n",
       " {'a': 1, 'b': 17, 'c': 50},\n",
       " {'a': 5, 'd': 777}]"
      ]
     },
     "execution_count": 96,
     "metadata": {},
     "output_type": "execute_result"
    }
   ],
   "source": [
    "lst"
   ]
  },
  {
   "cell_type": "code",
   "execution_count": 113,
   "id": "aba7f426",
   "metadata": {},
   "outputs": [],
   "source": [
    "res_d = {}\n",
    "for d in lst:\n",
    "    for k, w in d.items():\n",
    "        if k not in res_d:\n",
    "            res_d[k] = [w]\n",
    "        else:\n",
    "            res_d[k] += [w]\n",
    "res = {k: set(w) for k, w in res_d.items()}"
   ]
  },
  {
   "cell_type": "code",
   "execution_count": 116,
   "id": "def0c490",
   "metadata": {},
   "outputs": [
    {
     "data": {
      "text/plain": [
       "{'a': [1, 1, 5], 'b': [2, 10, 17], 'c': [100, 50], 'd': [777]}"
      ]
     },
     "execution_count": 116,
     "metadata": {},
     "output_type": "execute_result"
    }
   ],
   "source": [
    "res_d"
   ]
  },
  {
   "cell_type": "code",
   "execution_count": 117,
   "id": "08b2867f",
   "metadata": {},
   "outputs": [
    {
     "data": {
      "text/plain": [
       "{'a': {1, 5}, 'b': {2, 10, 17}, 'c': {50, 100}, 'd': {777}}"
      ]
     },
     "execution_count": 117,
     "metadata": {},
     "output_type": "execute_result"
    }
   ],
   "source": [
    "res"
   ]
  },
  {
   "cell_type": "code",
   "execution_count": null,
   "id": "9c7fb4f3",
   "metadata": {},
   "outputs": [],
   "source": []
  },
  {
   "cell_type": "markdown",
   "id": "85b99776",
   "metadata": {},
   "source": [
    "# Задача №8"
   ]
  },
  {
   "cell_type": "code",
   "execution_count": null,
   "id": "92092aa4",
   "metadata": {},
   "outputs": [],
   "source": [
    "Опасный вирус 😈\n",
    "В файловую систему компьютера, на котором развернута наша ❤️ платформа Stepik,\n",
    "проник опасный вирус и сломал контроль прав доступа к файлам. Говорят, вирус \n",
    "написал один из студентов курса Python для начинающих.\n",
    "\n",
    "Для каждого файла известно, с какими действиями можно к нему обращаться:\n",
    "\n",
    "запись W (write, доступ на запись в файл);\n",
    "чтение R (read, доступ на чтение из файла);\n",
    "запуск X (execute, запуск на исполнение файла).\n",
    "Напишите программу для восстановления контроля прав доступа к файлам. \n",
    "Ваша программа для каждого запроса должна будет возвращать OK если \n",
    "выполняется допустимая операция, и Access denied, если операция недопустима.\n",
    "\n",
    "Формат входных данных\n",
    "Программа получает на вход количество файлов \n",
    "n, содержащихся в файловой системе компьютера. Далее идет \n",
    "n строк, на каждой имя файла и допустимые с ним операции, разделенные символом пробела.\n",
    "В следующей строке записано число \n",
    "m — количество запросов к файлам, и затем \n",
    "m строк с запросами вида операция файл. Одному и тому же файлу может быть \n",
    "адресовано любое количество запросов.\n",
    "\n",
    "Формат выходных данных\n",
    "Программа должна вывести для каждого из \n",
    "m запросов в отдельной строке Access denied или OK.\n",
    "\n",
    "Тестовые данные 🟢\n",
    "Sample Input 1:\n",
    "\n",
    "5\n",
    "my_pycode.exe W X\n",
    "log_n X W R\n",
    "ave R\n",
    "lucky_m W R\n",
    "dnsss.py W\n",
    "6\n",
    "execute ave\n",
    "read dnsss.py\n",
    "write log_n\n",
    "execute log_n\n",
    "read ave\n",
    "write my_pycode.exe\n",
    "\n",
    "Sample Output 1:\n",
    "\n",
    "Access denied\n",
    "Access denied\n",
    "OK\n",
    "OK\n",
    "OK\n",
    "OK"
   ]
  },
  {
   "cell_type": "code",
   "execution_count": 125,
   "id": "e7b45be8",
   "metadata": {},
   "outputs": [
    {
     "name": "stdout",
     "output_type": "stream",
     "text": [
      "5\n",
      "my_pycode.exe W X\n",
      "log_n X W R\n",
      "ave R\n",
      "lucky_m W R\n",
      "dnsss.py W\n"
     ]
    }
   ],
   "source": [
    "n = int(input())\n",
    "d = {}\n",
    "for i in range(n):\n",
    "    s = input().split()\n",
    "    d[s[0]] = d.get(s[0], []) + (s[1:])\n",
    "    "
   ]
  },
  {
   "cell_type": "code",
   "execution_count": 126,
   "id": "fae1fa61",
   "metadata": {},
   "outputs": [
    {
     "data": {
      "text/plain": [
       "{'my_pycode.exe': ['W', 'X'],\n",
       " 'log_n': ['X', 'W', 'R'],\n",
       " 'ave': ['R'],\n",
       " 'lucky_m': ['W', 'R'],\n",
       " 'dnsss.py': ['W']}"
      ]
     },
     "execution_count": 126,
     "metadata": {},
     "output_type": "execute_result"
    }
   ],
   "source": [
    "d"
   ]
  },
  {
   "cell_type": "code",
   "execution_count": 132,
   "id": "61c9f3d4",
   "metadata": {},
   "outputs": [],
   "source": [
    "dd = {'R': 'read', 'X': 'execute', 'W': 'write'}"
   ]
  },
  {
   "cell_type": "code",
   "execution_count": 137,
   "id": "34d1d5d4",
   "metadata": {},
   "outputs": [],
   "source": [
    "ddd = {k: {ww for kk, ww in dd.items() if kk in w} for k, w in d.items()}"
   ]
  },
  {
   "cell_type": "code",
   "execution_count": 138,
   "id": "7a0abd22",
   "metadata": {},
   "outputs": [
    {
     "data": {
      "text/plain": [
       "{'my_pycode.exe': {'execute', 'write'},\n",
       " 'log_n': {'execute', 'read', 'write'},\n",
       " 'ave': {'read'},\n",
       " 'lucky_m': {'read', 'write'},\n",
       " 'dnsss.py': {'write'}}"
      ]
     },
     "execution_count": 138,
     "metadata": {},
     "output_type": "execute_result"
    }
   ],
   "source": [
    "ddd"
   ]
  },
  {
   "cell_type": "code",
   "execution_count": null,
   "id": "a9011476",
   "metadata": {},
   "outputs": [],
   "source": []
  },
  {
   "cell_type": "code",
   "execution_count": 139,
   "id": "8f42d1d5",
   "metadata": {},
   "outputs": [
    {
     "name": "stdout",
     "output_type": "stream",
     "text": [
      "6\n"
     ]
    }
   ],
   "source": [
    "m = int(input())"
   ]
  },
  {
   "cell_type": "code",
   "execution_count": 143,
   "id": "5120bd5e",
   "metadata": {},
   "outputs": [
    {
     "name": "stdout",
     "output_type": "stream",
     "text": [
      "execute ave\n",
      "['execute', 'ave']\n",
      "Access denied\n",
      "read dnsss.py\n",
      "['read', 'dnsss.py']\n",
      "Access denied\n",
      "write log_n\n",
      "['write', 'log_n']\n",
      "OK\n",
      "execute log_n\n",
      "['execute', 'log_n']\n",
      "OK\n",
      "read ave\n",
      "['read', 'ave']\n",
      "OK\n",
      "write my_pycode.exe\n",
      "['write', 'my_pycode.exe']\n",
      "OK\n"
     ]
    }
   ],
   "source": [
    "for i in range(m):\n",
    "    ss = input().split()\n",
    "    print(ss)\n",
    "    for k, w in ddd.items():\n",
    "        if ss[1] in ddd and ss[0] in ddd[ss[1]]:\n",
    "            print('OK')\n",
    "        else:\n",
    "            print('Access denied')\n",
    "        break\n",
    "\n",
    "            \n",
    "    "
   ]
  },
  {
   "cell_type": "code",
   "execution_count": null,
   "id": "37330dd6",
   "metadata": {},
   "outputs": [],
   "source": [
    "execute ave\n",
    "read dnsss.py\n",
    "write log_n\n",
    "execute log_n\n",
    "read ave\n",
    "write my_pycode.exe"
   ]
  },
  {
   "cell_type": "code",
   "execution_count": null,
   "id": "358a3cc0",
   "metadata": {},
   "outputs": [],
   "source": []
  },
  {
   "cell_type": "markdown",
   "id": "f9a1a0e6",
   "metadata": {},
   "source": [
    "# Задача №9"
   ]
  },
  {
   "cell_type": "code",
   "execution_count": null,
   "id": "c32a2575",
   "metadata": {},
   "outputs": [],
   "source": [
    "Покупки в интернет-магазине 🌶️\n",
    "Напишите программу для подсчета количества единиц каждого вида\n",
    "товара из приобретенных каждым покупателем интернет-магазина.\n",
    "\n",
    "Формат входных данных\n",
    "На вход программе подается число \n",
    "n — количество строк в базе данных о продажах интернет-магазина. Далее следует \n",
    "n строк с записями вида покупатель товар количество, где покупатель — имя покупателя\n",
    "(строка без пробелов), товар — название товара (строка без пробелов), количество — \n",
    "количество приобретенных единиц товара (натуральное число).\n",
    "\n",
    "Формат выходных данных\n",
    "Программа должна вывести список всех покупателей в лексикографическом порядке,\n",
    "после имени каждого покупателя — двоеточие, затем список названий всех приобретенных\n",
    "им товаров в лексикографическом порядке, после названия каждого товара — количество \n",
    "единиц товара. Информация о каждом товаре выводится на отдельной строке.\n",
    "\n",
    "Примечание. Обратите внимание на второй тест. Если позиции товаров повторяются,\n",
    "то в итоговый список попадает суммарное количество товара по данной позиции.\n",
    "\n",
    "Тестовые данные 🟢\n",
    "Sample Input 1:\n",
    "\n",
    "5\n",
    "Руслан Пирог 1\n",
    "Тимур Карандаш 5\n",
    "Руслан Линейка 2\n",
    "Тимур Тетрадь 12\n",
    "Руслан Хлеб 3\n",
    "\n",
    "Sample Output 1:\n",
    "\n",
    "Руслан:\n",
    "Линейка 2\n",
    "Пирог 1\n",
    "Хлеб 3\n",
    "Тимур:\n",
    "Карандаш 5\n",
    "Тетрадь 12\n",
    "\n",
    "***\n",
    "\n",
    "Sample Input 2:\n",
    "\n",
    "7\n",
    "Вячеслав Ручка 1\n",
    "Филипп Ручка 1\n",
    "Виктория Перо 3\n",
    "Вячеслав Линейка 4\n",
    "Виктория Тетрадь 7\n",
    "Вячеслав Ручка 29\n",
    "Филипп Циркуль 1\n",
    "\n",
    "\n",
    "Sample Output 2:\n",
    "\n",
    "Виктория:\n",
    "Перо 3\n",
    "Тетрадь 7\n",
    "Вячеслав:\n",
    "Линейка 4\n",
    "Ручка 30\n",
    "Филипп:\n",
    "Ручка 1\n",
    "Циркуль 1\n",
    "\n",
    "\n",
    "\n",
    "Sample Input 3:\n",
    "\n",
    "5\n",
    "Максим Пирог 5\n",
    "Максим Печенье 55\n",
    "Максим Свеча 3\n",
    "Максим Тарелки 10\n",
    "Максим Торт 1\n",
    "\n",
    "Sample Output 3:\n",
    "\n",
    "Максим:\n",
    "Печенье 55\n",
    "Пирог 5\n",
    "Свеча 3\n",
    "Тарелки 10\n",
    "Торт 1"
   ]
  },
  {
   "cell_type": "code",
   "execution_count": 254,
   "id": "8dc5fd5e",
   "metadata": {},
   "outputs": [
    {
     "name": "stdout",
     "output_type": "stream",
     "text": [
      "5\n"
     ]
    }
   ],
   "source": [
    "n = int(input())"
   ]
  },
  {
   "cell_type": "code",
   "execution_count": 255,
   "id": "f78549c2",
   "metadata": {},
   "outputs": [
    {
     "name": "stdout",
     "output_type": "stream",
     "text": [
      "Максим Пирог 5\n",
      "['Максим', 'Пирог', '5']\n",
      "Максим Печенье 55\n",
      "['Максим', 'Печенье', '55']\n",
      "Максим Свеча 3\n",
      "['Максим', 'Свеча', '3']\n",
      "Максим Тарелки 10\n",
      "['Максим', 'Тарелки', '10']\n",
      "Максим Торт 1\n",
      "['Максим', 'Торт', '1']\n"
     ]
    }
   ],
   "source": [
    "res_d = {}\n",
    "for i in range(n):\n",
    "    s = input().split()\n",
    "    print(s)\n",
    "    d = {s[0]: {s[1]: s[2]}}\n",
    "    \n",
    "    for k, w in d.items():\n",
    "        for kk, ww in w.items():\n",
    "            if k not in res_d:\n",
    "                res_d[k] = {kk:int(ww)}\n",
    "            else:\n",
    "                if kk not in res_d[k]:\n",
    "                    res_d[k][kk] = int(ww)\n",
    "                else:\n",
    "                    res_d[k][kk] += int(ww)\n"
   ]
  },
  {
   "cell_type": "code",
   "execution_count": 256,
   "id": "760142c6",
   "metadata": {},
   "outputs": [
    {
     "data": {
      "text/plain": [
       "{'Максим': {'Пирог': 5, 'Печенье': 55, 'Свеча': 3, 'Тарелки': 10, 'Торт': 1}}"
      ]
     },
     "execution_count": 256,
     "metadata": {},
     "output_type": "execute_result"
    }
   ],
   "source": [
    "res_d"
   ]
  },
  {
   "cell_type": "code",
   "execution_count": 257,
   "id": "ff1456d5",
   "metadata": {},
   "outputs": [
    {
     "name": "stdout",
     "output_type": "stream",
     "text": [
      "Максим:\n",
      "Печенье 55\n",
      "Пирог 5\n",
      "Свеча 3\n",
      "Тарелки 10\n",
      "Торт 1\n"
     ]
    }
   ],
   "source": [
    "\n",
    "for k, w in res_d.items():\n",
    "    print(k + ':')\n",
    "    for kk, ww in sorted(w.items()):\n",
    "        print(kk, ww)"
   ]
  },
  {
   "cell_type": "code",
   "execution_count": null,
   "id": "7daf1f3b",
   "metadata": {},
   "outputs": [],
   "source": []
  }
 ],
 "metadata": {
  "kernelspec": {
   "display_name": "Python 3 (ipykernel)",
   "language": "python",
   "name": "python3"
  },
  "language_info": {
   "codemirror_mode": {
    "name": "ipython",
    "version": 3
   },
   "file_extension": ".py",
   "mimetype": "text/x-python",
   "name": "python",
   "nbconvert_exporter": "python",
   "pygments_lexer": "ipython3",
   "version": "3.10.2"
  }
 },
 "nbformat": 4,
 "nbformat_minor": 5
}
