{
 "cells": [
  {
   "cell_type": "markdown",
   "id": "e93b8316",
   "metadata": {},
   "source": [
    "# Задача №1"
   ]
  },
  {
   "cell_type": "code",
   "execution_count": null,
   "id": "21acaa4f",
   "metadata": {},
   "outputs": [],
   "source": [
    "Дан набор точек на координатной плоскости. Необходимо подсчитать и вывести количество \n",
    "точек, лежащих в каждой координатной четверти.\n",
    "\n",
    "Формат входных данных\n",
    "В первой строке записано количество точек. Каждая следующая строка состоит\n",
    "из двух целых чисел — координат точки (сначала абсцисса – \n",
    "\n",
    "x, затем ордината – \n",
    "\n",
    "y), разделенных символом пробела.\n",
    "\n",
    "Формат выходных данных\n",
    "Программа должна вывести количество точек, лежащих в каждой координатной четверти, как в примерах.\n",
    "\n",
    "Примечание. Учтите, что точки, лежащие на осях координат, не принято относить к какой-либо координатной четверти.\n",
    "\n",
    "Sample Input 1:\n",
    "    \n",
    "4\n",
    "0 -1\n",
    "1 2\n",
    "0 9\n",
    "-9 -5\n",
    "\n",
    "\n",
    "Sample Output 1:\n",
    "    \n",
    "Первая четверть: 1\n",
    "Вторая четверть: 0\n",
    "Третья четверть: 1\n",
    "Четвертая четверть: 0"
   ]
  },
  {
   "cell_type": "code",
   "execution_count": 13,
   "id": "7f617b55",
   "metadata": {},
   "outputs": [
    {
     "name": "stdout",
     "output_type": "stream",
     "text": [
      "4\n",
      "0 -1\n",
      "1 2\n",
      "0 9\n",
      "-9 -5\n",
      "Первая четверть: 1\n",
      "Вторая четверть: 0\n",
      "Третья четверть: 1\n",
      "Четвертая четверть: 0\n"
     ]
    }
   ],
   "source": [
    "a1 = 0\n",
    "a2 = 0\n",
    "a3 = 0\n",
    "a4 = 0\n",
    "\n",
    "n = int(input())\n",
    "\n",
    "for i in range(n):\n",
    "    s = input().split()\n",
    "    x = int(s[0])\n",
    "    y = int(s[1])\n",
    "     \n",
    "    \n",
    "    if x > 0 and y > 0:\n",
    "        a1 += 1\n",
    "        \n",
    "    elif x < 0 and y > 0:\n",
    "        a2 += 1\n",
    "        \n",
    "    elif x < 0 and y < 0:\n",
    "        a3 += 1\n",
    "        \n",
    "    elif x > 0 and y < 0:\n",
    "        a4 += 1\n",
    "        \n",
    "print('Первая четверть:', a1)\n",
    "print('Вторая четверть:', a2)\n",
    "print('Третья четверть:', a3)\n",
    "print('Четвертая четверть:', a4)\n"
   ]
  },
  {
   "cell_type": "code",
   "execution_count": null,
   "id": "0afe0eaf",
   "metadata": {},
   "outputs": [],
   "source": []
  },
  {
   "cell_type": "markdown",
   "id": "6ef44579",
   "metadata": {},
   "source": [
    "# Задача №2"
   ]
  },
  {
   "cell_type": "code",
   "execution_count": null,
   "id": "82e96fde",
   "metadata": {},
   "outputs": [],
   "source": [
    "На вход программе подается строка текста из натуральных чисел. \n",
    "Из неё формируется список чисел. Напишите программу подсчета количества \n",
    "чисел, которые больше предшествующего им в этом списке числа. \n",
    "\n",
    "Формат входных данных\n",
    "На вход программе подается строка текста из разделенных пробелами натуральных чисел.\n",
    "\n",
    "Формат выходных данных\n",
    "Программа должна вывести одно число – количество элементов списка, больших предыдущего."
   ]
  },
  {
   "cell_type": "code",
   "execution_count": 16,
   "id": "08e9d377",
   "metadata": {},
   "outputs": [
    {
     "name": "stdout",
     "output_type": "stream",
     "text": [
      "1 2 3 4 5\n"
     ]
    }
   ],
   "source": [
    "lst = list(map(int, input(). split()))"
   ]
  },
  {
   "cell_type": "code",
   "execution_count": 17,
   "id": "afb1468f",
   "metadata": {},
   "outputs": [
    {
     "data": {
      "text/plain": [
       "[1, 2, 3, 4, 5]"
      ]
     },
     "execution_count": 17,
     "metadata": {},
     "output_type": "execute_result"
    }
   ],
   "source": [
    "lst"
   ]
  },
  {
   "cell_type": "code",
   "execution_count": 21,
   "id": "dd5e90e3",
   "metadata": {},
   "outputs": [
    {
     "name": "stdout",
     "output_type": "stream",
     "text": [
      "4\n"
     ]
    }
   ],
   "source": [
    "count = 0\n",
    "\n",
    "for i in range(len(lst) - 1):\n",
    "    if lst[i + 1] > lst[i]:\n",
    "        count += 1\n",
    "        \n",
    "print(count)"
   ]
  },
  {
   "cell_type": "code",
   "execution_count": null,
   "id": "beacd9b1",
   "metadata": {},
   "outputs": [],
   "source": []
  },
  {
   "cell_type": "markdown",
   "id": "40e74b00",
   "metadata": {},
   "source": [
    "# Задача №3"
   ]
  },
  {
   "cell_type": "code",
   "execution_count": null,
   "id": "2c590fbd",
   "metadata": {},
   "outputs": [],
   "source": [
    "На вход программе подается строка текста из натуральных чисел. \n",
    "\n",
    "Из элементов строки формируется список чисел. Напишите программу, \n",
    "\n",
    "которая меняет местами соседние элементы списка (a[0] c a[1], a[2] c a[3] и т.д.). \n",
    "\n",
    "Если в списке нечетное количество элементов, то последний остается на своем месте."
   ]
  },
  {
   "cell_type": "code",
   "execution_count": null,
   "id": "213affcf",
   "metadata": {},
   "outputs": [],
   "source": []
  },
  {
   "cell_type": "code",
   "execution_count": 35,
   "id": "0055ed46",
   "metadata": {},
   "outputs": [
    {
     "name": "stdout",
     "output_type": "stream",
     "text": [
      "1\n"
     ]
    }
   ],
   "source": [
    "lst = list(map(int, input().split()))"
   ]
  },
  {
   "cell_type": "code",
   "execution_count": 36,
   "id": "38b3cd53",
   "metadata": {},
   "outputs": [
    {
     "data": {
      "text/plain": [
       "[1]"
      ]
     },
     "execution_count": 36,
     "metadata": {},
     "output_type": "execute_result"
    }
   ],
   "source": [
    "lst"
   ]
  },
  {
   "cell_type": "code",
   "execution_count": 38,
   "id": "1fbfea9f",
   "metadata": {},
   "outputs": [
    {
     "name": "stdout",
     "output_type": "stream",
     "text": [
      "[1]\n"
     ]
    }
   ],
   "source": [
    "lst_2 = []\n",
    "\n",
    "if len(lst)%2 == 0:\n",
    "\n",
    "    x = 0\n",
    "\n",
    "    while x < len(lst) - 1:\n",
    "        lst_2.append(lst[x+1])\n",
    "        lst_2.append(lst[x])\n",
    "        x += 2\n",
    "\n",
    "    print(lst_2)\n",
    "    \n",
    "else:\n",
    "    x = 0\n",
    "\n",
    "    while x < len(lst) - 1:\n",
    "        lst_2.append(lst[x+1])\n",
    "        lst_2.append(lst[x])\n",
    "        x += 2\n",
    "    lst_2.append(lst[-1])\n",
    "    print(lst_2)\n",
    "    \n"
   ]
  },
  {
   "cell_type": "code",
   "execution_count": null,
   "id": "df096e81",
   "metadata": {},
   "outputs": [],
   "source": []
  },
  {
   "cell_type": "code",
   "execution_count": null,
   "id": "eef84df6",
   "metadata": {},
   "outputs": [],
   "source": []
  },
  {
   "cell_type": "markdown",
   "id": "ad7c19f7",
   "metadata": {},
   "source": [
    "# Задача №4"
   ]
  },
  {
   "cell_type": "code",
   "execution_count": null,
   "id": "63ee6cc7",
   "metadata": {},
   "outputs": [],
   "source": [
    "На вход программе подается строка текста из натуральных чисел. \n",
    "Из элементов строки формируется список чисел. Напишите программу \n",
    "циклического сдвига элементов списка направо, когда последний элемент \n",
    "становится первым, а остальные сдвигаются на одну позицию вперед, в сторону увеличения индексов.\n",
    "\n",
    "Формат входных данных\n",
    "На вход программе подается строка текста из разделенных пробелами натуральных чисел.\n",
    "\n",
    "Формат выходных данных\n",
    "Программа должна вывести элементы измененного списка с циклическим сдвигом,\n",
    "разделяя его элементы одним пробелом."
   ]
  },
  {
   "cell_type": "code",
   "execution_count": 44,
   "id": "1eeaf923",
   "metadata": {},
   "outputs": [
    {
     "name": "stdout",
     "output_type": "stream",
     "text": [
      "1 2 3 4 5\n"
     ]
    }
   ],
   "source": [
    "s = list(map(int, input().split()))"
   ]
  },
  {
   "cell_type": "code",
   "execution_count": 45,
   "id": "b2aa7522",
   "metadata": {},
   "outputs": [],
   "source": [
    "s.insert(0, s.pop())"
   ]
  },
  {
   "cell_type": "code",
   "execution_count": 46,
   "id": "ed754dc1",
   "metadata": {},
   "outputs": [
    {
     "data": {
      "text/plain": [
       "[5, 1, 2, 3, 4]"
      ]
     },
     "execution_count": 46,
     "metadata": {},
     "output_type": "execute_result"
    }
   ],
   "source": [
    "s"
   ]
  },
  {
   "cell_type": "code",
   "execution_count": null,
   "id": "4cb762c9",
   "metadata": {},
   "outputs": [],
   "source": []
  },
  {
   "cell_type": "code",
   "execution_count": null,
   "id": "0bb37c81",
   "metadata": {},
   "outputs": [],
   "source": []
  },
  {
   "cell_type": "markdown",
   "id": "7815e134",
   "metadata": {},
   "source": [
    "# Задача №5"
   ]
  },
  {
   "cell_type": "code",
   "execution_count": null,
   "id": "bf8ac399",
   "metadata": {},
   "outputs": [],
   "source": [
    "На вход программе подается строка текста, содержащая натуральные числа, \n",
    "расположенные по неубыванию. Из строки формируется список чисел. \n",
    "Напишите программу для подсчета количества разных элементов в списке.\n",
    "\n",
    "Формат входных данных\n",
    "На вход программе подается строка текста, содержащая натуральные числа, \n",
    "разделенные символом пробела, расположенные по неубыванию.\n",
    "\n",
    "Формат выходных данных\n",
    "Программа должна вывести одно число – количество различных элементов списка."
   ]
  },
  {
   "cell_type": "code",
   "execution_count": 53,
   "id": "e2ea255c",
   "metadata": {},
   "outputs": [
    {
     "name": "stdout",
     "output_type": "stream",
     "text": [
      "1 1 1 2 2 2 2 3 3 3\n"
     ]
    }
   ],
   "source": [
    "s = list(map(int, input().split()))"
   ]
  },
  {
   "cell_type": "code",
   "execution_count": 54,
   "id": "2a8cf286",
   "metadata": {},
   "outputs": [
    {
     "data": {
      "text/plain": [
       "[1, 1, 1, 2, 2, 2, 2, 3, 3, 3]"
      ]
     },
     "execution_count": 54,
     "metadata": {},
     "output_type": "execute_result"
    }
   ],
   "source": [
    "s"
   ]
  },
  {
   "cell_type": "code",
   "execution_count": 56,
   "id": "b7bf10b5",
   "metadata": {},
   "outputs": [
    {
     "name": "stdout",
     "output_type": "stream",
     "text": [
      "3\n"
     ]
    }
   ],
   "source": [
    "import pandas as pd\n",
    "ss = pd.Series(s)\n",
    "print(len(ss.unique()))"
   ]
  },
  {
   "cell_type": "code",
   "execution_count": 60,
   "id": "5b6e83bb",
   "metadata": {},
   "outputs": [
    {
     "data": {
      "text/plain": [
       "3"
      ]
     },
     "execution_count": 60,
     "metadata": {},
     "output_type": "execute_result"
    }
   ],
   "source": [
    "len(set(s))"
   ]
  },
  {
   "cell_type": "code",
   "execution_count": null,
   "id": "c06c4029",
   "metadata": {},
   "outputs": [],
   "source": []
  },
  {
   "cell_type": "markdown",
   "id": "6f044790",
   "metadata": {},
   "source": [
    "# Задача №6"
   ]
  },
  {
   "cell_type": "code",
   "execution_count": null,
   "id": "d86d88e8",
   "metadata": {},
   "outputs": [],
   "source": [
    "Напишите программу для определения, является ли число произведением \n",
    "двух чисел из данного набора. \n",
    "\n",
    "Программа должна выводить результат в виде ответа «ДА» или «НЕТ».\n",
    "\n",
    "Формат входных данных\n",
    "В первой строке подаётся число n\n",
    "В последующих n строках вводятся целые числа, составляющие набор (могут повторяться). \n",
    "\n",
    "Затем следует целое число, которое является или не является произведением двух каких-то чисел из набора.\n",
    "\n",
    "Формат выходных данных\n",
    "Программа должна вывести «ДА» или «НЕТ» в соответствии с условием задачи.\n",
    "\n",
    "Примечание 1. Само на себя число из набора умножиться не может. \n",
    "Другими словами, два множителя должны иметь разные индексы в наборе.\n",
    "\n",
    "Примечание 2. Для решения задачи используйте вложенные циклы."
   ]
  },
  {
   "cell_type": "code",
   "execution_count": null,
   "id": "4fcf4902",
   "metadata": {},
   "outputs": [],
   "source": [
    "3\n",
    "1\n",
    "5\n",
    "1\n",
    "25"
   ]
  },
  {
   "cell_type": "code",
   "execution_count": 67,
   "id": "8a0ae76a",
   "metadata": {},
   "outputs": [
    {
     "name": "stdout",
     "output_type": "stream",
     "text": [
      "3\n",
      "1\n",
      "5\n",
      "1\n",
      "25\n",
      "НЕТ\n"
     ]
    }
   ],
   "source": [
    "n = int(input())\n",
    "\n",
    "lst = []\n",
    "kost = 0\n",
    "\n",
    "for i in range(n):    \n",
    "    lst.append(int(input()))\n",
    "    \n",
    "q = int(input())\n",
    "    \n",
    "for i in range(len(lst)):\n",
    "    for j in range(len(lst) - 1):\n",
    "        if i != j+1 and q == lst[i] * lst[j+1]:\n",
    "            print('ДА')\n",
    "            kost += 1\n",
    "            break\n",
    "            \n",
    "    if kost == 1:\n",
    "        break\n",
    "if kost == 0:\n",
    "    print('НЕТ')  "
   ]
  },
  {
   "cell_type": "code",
   "execution_count": 63,
   "id": "e2aa586e",
   "metadata": {},
   "outputs": [
    {
     "data": {
      "text/plain": [
       "[1, 5, 1]"
      ]
     },
     "execution_count": 63,
     "metadata": {},
     "output_type": "execute_result"
    }
   ],
   "source": [
    "lst"
   ]
  },
  {
   "cell_type": "code",
   "execution_count": 66,
   "id": "a820e7f5",
   "metadata": {},
   "outputs": [
    {
     "data": {
      "text/plain": [
       "5"
      ]
     },
     "execution_count": 66,
     "metadata": {},
     "output_type": "execute_result"
    }
   ],
   "source": [
    "lst[2] * lst[1+1]"
   ]
  },
  {
   "cell_type": "code",
   "execution_count": null,
   "id": "011b5f49",
   "metadata": {},
   "outputs": [],
   "source": []
  },
  {
   "cell_type": "markdown",
   "id": "bfe4f8de",
   "metadata": {},
   "source": [
    "# Задача №7"
   ]
  },
  {
   "cell_type": "code",
   "execution_count": null,
   "id": "c90c77f4",
   "metadata": {},
   "outputs": [],
   "source": [
    "Камень, ножницы, бумага\n",
    "\n",
    "    \n",
    "Формат входных данных\n",
    "На вход программе подаются две строки текста, содержащие слова \"камень\", \"ножницы\" или \"бумага\". \n",
    "\n",
    "На первой строке записан выбор Тимура, на второй – выбор Руслана.\n",
    "\n",
    "Формат выходных данных\n",
    "Программа должна вывести результат жеребьёвки, то есть кто победит: Тимур, Руслан или же они сыграют вничью.\n",
    "\n",
    "Примечание. Правила игры стандартные: камень побеждает ножницы, но проигрывает бумаге, а ножницы побеждают бумагу."
   ]
  },
  {
   "cell_type": "code",
   "execution_count": 70,
   "id": "a35ca1f0",
   "metadata": {},
   "outputs": [
    {
     "ename": "IndentationError",
     "evalue": "expected an indented block after 'if' statement on line 7 (3304129699.py, line 7)",
     "output_type": "error",
     "traceback": [
      "\u001b[1;36m  Cell \u001b[1;32mIn[70], line 7\u001b[1;36m\u001b[0m\n\u001b[1;33m    if tim == 'камень' or rus == 'камень':\u001b[0m\n\u001b[1;37m                                          ^\u001b[0m\n\u001b[1;31mIndentationError\u001b[0m\u001b[1;31m:\u001b[0m expected an indented block after 'if' statement on line 7\n"
     ]
    }
   ],
   "source": [
    "tim = input()\n",
    "rus = input()\n",
    "\n",
    "if tim == rus:\n",
    "    print('ничья')\n",
    "    \n",
    "if tim == 'камень' or rus == 'камень':\n",
    "    if tim == 'бумага':\n",
    "        print('Тимур')\n",
    "    if rus == 'бумага':\n",
    "        print('Руслан')\n",
    "        \n",
    "    if tim == 'ножницы':\n",
    "        print('Руслан')\n",
    "    if rus == 'ножницы':\n",
    "        print('Тимур')\n",
    "        \n",
    "    \n",
    "elif tim == 'бумага' or rus == 'бумага':\n",
    "    if tim == 'ножницы':\n",
    "        print('Тимур')\n",
    "    if rus == 'ножницы':\n",
    "        print('Руслан')\n",
    "        \n",
    "    if tim == 'камень':\n",
    "        print('Руслан')\n",
    "    if rus == 'камень':\n",
    "        print('Тимур')   \n",
    "    \n",
    "    \n",
    "elif tim == 'ножницы' or rus == 'ножницы':\n",
    "    if tim == 'камень':\n",
    "        print('Тимур')\n",
    "    if rus == 'камень':\n",
    "        print('Руслан')\n",
    "        \n",
    "    if tim == 'бумага':\n",
    "        print('Руслан')\n",
    "    if rus == 'бумага':\n",
    "        print('Тимур')      \n",
    "    \n",
    "    \n",
    "    "
   ]
  },
  {
   "cell_type": "code",
   "execution_count": null,
   "id": "e779767c",
   "metadata": {},
   "outputs": [],
   "source": []
  },
  {
   "cell_type": "code",
   "execution_count": null,
   "id": "26c1c53d",
   "metadata": {},
   "outputs": [],
   "source": []
  },
  {
   "cell_type": "code",
   "execution_count": null,
   "id": "d42ddd40",
   "metadata": {},
   "outputs": [],
   "source": []
  },
  {
   "cell_type": "code",
   "execution_count": null,
   "id": "cdb56ef6",
   "metadata": {},
   "outputs": [],
   "source": []
  },
  {
   "cell_type": "code",
   "execution_count": null,
   "id": "a4b19b0b",
   "metadata": {},
   "outputs": [],
   "source": []
  },
  {
   "cell_type": "code",
   "execution_count": null,
   "id": "a913fb47",
   "metadata": {},
   "outputs": [],
   "source": []
  },
  {
   "cell_type": "code",
   "execution_count": null,
   "id": "4e1306da",
   "metadata": {},
   "outputs": [],
   "source": []
  },
  {
   "cell_type": "code",
   "execution_count": null,
   "id": "bcb8ef05",
   "metadata": {},
   "outputs": [],
   "source": []
  },
  {
   "cell_type": "code",
   "execution_count": null,
   "id": "032e610c",
   "metadata": {},
   "outputs": [],
   "source": []
  }
 ],
 "metadata": {
  "kernelspec": {
   "display_name": "Python 3 (ipykernel)",
   "language": "python",
   "name": "python3"
  },
  "language_info": {
   "codemirror_mode": {
    "name": "ipython",
    "version": 3
   },
   "file_extension": ".py",
   "mimetype": "text/x-python",
   "name": "python",
   "nbconvert_exporter": "python",
   "pygments_lexer": "ipython3",
   "version": "3.10.2"
  }
 },
 "nbformat": 4,
 "nbformat_minor": 5
}
