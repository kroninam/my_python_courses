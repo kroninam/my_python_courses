{
 "cells": [
  {
   "cell_type": "markdown",
   "id": "5f19bbd3",
   "metadata": {},
   "source": [
    "# Задача №1"
   ]
  },
  {
   "cell_type": "code",
   "execution_count": null,
   "id": "ad34268a",
   "metadata": {},
   "outputs": [],
   "source": [
    "Случайная строка\n",
    "Вам доступен текстовый файл lines.txt из нескольких строк. \n",
    "Напишите программу, которая выводит на экран случайную строку из этого файла.\n",
    "\n",
    "Формат входных данных\n",
    "На вход программе ничего не подается.\n",
    "\n",
    "Формат выходных данных\n",
    "Программа должна вывести случайную строку указанного файла.\n",
    "\n",
    "Примечание 1. Считайте, что исполняемая программа и указанный файл находятся в одной папке.\n",
    "\n",
    "Примечание 2. Гарантируется, что файл содержит хотя бы одну строку."
   ]
  },
  {
   "cell_type": "code",
   "execution_count": 26,
   "id": "0305d2b4",
   "metadata": {},
   "outputs": [
    {
     "data": {
      "text/plain": [
       "7"
      ]
     },
     "execution_count": 26,
     "metadata": {},
     "output_type": "execute_result"
    }
   ],
   "source": [
    "random.randint(1,10)"
   ]
  },
  {
   "cell_type": "code",
   "execution_count": 34,
   "id": "f23ca700",
   "metadata": {},
   "outputs": [
    {
     "data": {
      "text/plain": [
       "9"
      ]
     },
     "execution_count": 34,
     "metadata": {},
     "output_type": "execute_result"
    }
   ],
   "source": [
    "random.randrange(1,10, 2)"
   ]
  },
  {
   "cell_type": "code",
   "execution_count": 28,
   "id": "a0138828",
   "metadata": {},
   "outputs": [
    {
     "data": {
      "text/plain": [
       "[1, 4]"
      ]
     },
     "execution_count": 28,
     "metadata": {},
     "output_type": "execute_result"
    }
   ],
   "source": [
    "random.sample([1,2,3,4,5], 2)"
   ]
  },
  {
   "cell_type": "code",
   "execution_count": 30,
   "id": "33b79c00",
   "metadata": {},
   "outputs": [
    {
     "data": {
      "text/plain": [
       "[5]"
      ]
     },
     "execution_count": 30,
     "metadata": {},
     "output_type": "execute_result"
    }
   ],
   "source": [
    "random.sample(range(len(lst)), 1)"
   ]
  },
  {
   "cell_type": "code",
   "execution_count": 37,
   "id": "1014b7f6",
   "metadata": {},
   "outputs": [
    {
     "name": "stdout",
     "output_type": "stream",
     "text": [
      "6.397146246038395 6.253633459200609 4.135863520018574 4.703909160882538 1.9173657147157552 8.53436846633173 3.2384233546007053 7.041772961030539 4.921202535342695 7.378574380471959\n"
     ]
    }
   ],
   "source": [
    "lst = []\n",
    "for i in range(10):\n",
    "    lst.append(random.uniform(1, 10))\n",
    "print(*lst)"
   ]
  },
  {
   "cell_type": "code",
   "execution_count": 38,
   "id": "5dde37fe",
   "metadata": {},
   "outputs": [
    {
     "name": "stdout",
     "output_type": "stream",
     "text": [
      "Open a File\n"
     ]
    }
   ],
   "source": [
    "import random\n",
    "\n",
    "file = open('files/lines.txt', encoding = 'utf-8')\n",
    "lst = file.readlines()\n",
    "file.close()\n",
    "\n",
    "x = random.randrange(len(lst))\n",
    "\n",
    "print(lst[x].rstrip())"
   ]
  },
  {
   "cell_type": "code",
   "execution_count": null,
   "id": "04bf607d",
   "metadata": {},
   "outputs": [],
   "source": []
  },
  {
   "cell_type": "markdown",
   "id": "94ce2cec",
   "metadata": {},
   "source": [
    "# Задача №2"
   ]
  },
  {
   "cell_type": "code",
   "execution_count": null,
   "id": "6720433c",
   "metadata": {},
   "outputs": [],
   "source": [
    "Сумма двух-2\n",
    "Вам доступен текстовый файл nums.txt. В файле записано два целых числа, \n",
    "они могут быть разделены символами пробела и конца строки. Напишите программу,\n",
    "выводящую на экран сумму этих чисел.\n",
    "\n",
    "Формат входных данных\n",
    "На вход программе ничего не подается.\n",
    "\n",
    "Формат выходных данных\n",
    "Программа должна вывести сумму чисел из указанного файла."
   ]
  },
  {
   "cell_type": "code",
   "execution_count": 44,
   "id": "bbeea961",
   "metadata": {},
   "outputs": [],
   "source": [
    "file = open('files/nums.txt')\n",
    "lst = file.readlines()"
   ]
  },
  {
   "cell_type": "code",
   "execution_count": 50,
   "id": "1e0f734b",
   "metadata": {},
   "outputs": [
    {
     "data": {
      "text/plain": [
       "['\\n',\n",
       " '  \\n',\n",
       " '  \\n',\n",
       " '     \\n',\n",
       " '  \\n',\n",
       " '  453459384    \\n',\n",
       " '  \\n',\n",
       " '  \\n',\n",
       " '           32242']"
      ]
     },
     "execution_count": 50,
     "metadata": {},
     "output_type": "execute_result"
    }
   ],
   "source": [
    "lst"
   ]
  },
  {
   "cell_type": "code",
   "execution_count": 66,
   "id": "bf1e6d6a",
   "metadata": {},
   "outputs": [],
   "source": [
    "filtration_lst = list(filter(lambda x: x.strip().isdigit(), lst))"
   ]
  },
  {
   "cell_type": "code",
   "execution_count": 67,
   "id": "4cff2155",
   "metadata": {},
   "outputs": [
    {
     "data": {
      "text/plain": [
       "453491626"
      ]
     },
     "execution_count": 67,
     "metadata": {},
     "output_type": "execute_result"
    }
   ],
   "source": [
    "int(filtration_lst[0].strip()) + int(filtration_lst[1].strip())"
   ]
  },
  {
   "cell_type": "code",
   "execution_count": 68,
   "id": "e17e9d5c",
   "metadata": {},
   "outputs": [],
   "source": [
    "file.close()"
   ]
  },
  {
   "cell_type": "code",
   "execution_count": null,
   "id": "d45bd375",
   "metadata": {},
   "outputs": [],
   "source": []
  },
  {
   "cell_type": "markdown",
   "id": "0d56daf0",
   "metadata": {},
   "source": [
    "# Задача №3"
   ]
  },
  {
   "cell_type": "code",
   "execution_count": null,
   "id": "68e3cc5e",
   "metadata": {},
   "outputs": [],
   "source": [
    "Вам доступен текстовый файл prices.txt с информацией о заказе из интернет магазина. \n",
    "В нем каждая строка с помощью символа табуляции (\\t) разделена на три колонки:\n",
    "\n",
    "наименование товара;\n",
    "количество товара (целое число);\n",
    "цена (в рублях) товара за \n",
    "1\n",
    "1 шт (целое число).\n",
    "Напишите программу, выводящую на экран общую стоимость заказа.\n",
    "\n",
    "Формат входных данных\n",
    "На вход программе ничего не подается.\n",
    "\n",
    "Формат выходных данных\n",
    "Программа должна вывести общую стоимость заказа."
   ]
  },
  {
   "cell_type": "code",
   "execution_count": 82,
   "id": "3da1342c",
   "metadata": {},
   "outputs": [
    {
     "name": "stdout",
     "output_type": "stream",
     "text": [
      "1286800\n"
     ]
    }
   ],
   "source": [
    "file = open('files/prices.txt', encoding = 'utf-8')\n",
    "\n",
    "\n",
    "res = 0\n",
    "for i in file.readlines():\n",
    "    s = i.split('\\t')\n",
    "    res += int(s[1].strip()) * int(s[2].strip())\n",
    "\n",
    "file.close()\n",
    "\n",
    "print(res)"
   ]
  },
  {
   "cell_type": "code",
   "execution_count": null,
   "id": "b540c01b",
   "metadata": {},
   "outputs": [],
   "source": []
  },
  {
   "cell_type": "markdown",
   "id": "77bc2e6e",
   "metadata": {},
   "source": [
    "# Задача №4"
   ]
  },
  {
   "cell_type": "code",
   "execution_count": null,
   "id": "cbf64821",
   "metadata": {},
   "outputs": [],
   "source": [
    "Вам доступен текстовый файл lines.txt, в котором записаны строки текста. \n",
    "Напишите программу, которая выводит все строки наибольшей длины из файла, не меняя их порядок.\n",
    "\n",
    "lst = ['One',\n",
    "'Twenty one',\n",
    "'Two',\n",
    "'Twenty two']\n",
    "\n",
    "результатом будет:\n",
    "\n",
    "Twenty one\n",
    "Twenty two"
   ]
  },
  {
   "cell_type": "code",
   "execution_count": 20,
   "id": "7ad5d10b",
   "metadata": {},
   "outputs": [],
   "source": [
    "with open ('files/lines.txt') as file:\n",
    "    lst = file.readlines()"
   ]
  },
  {
   "cell_type": "code",
   "execution_count": 21,
   "id": "ae6d6102",
   "metadata": {},
   "outputs": [],
   "source": [
    "max_len = 0\n",
    "for i in lst:\n",
    "    if len(i.strip()) > max_len:\n",
    "        max_len = len(i.strip())\n",
    "\n",
    "lst_2 = list(filter(lambda x: len(x.strip()) == max_len, lst))"
   ]
  },
  {
   "cell_type": "code",
   "execution_count": 28,
   "id": "abfbf3d5",
   "metadata": {},
   "outputs": [
    {
     "name": "stdout",
     "output_type": "stream",
     "text": [
      "believe in their..\n",
      "Life is what 12345\n",
      "better than ugly!!\n",
      "Explicit is better\n"
     ]
    }
   ],
   "source": [
    "for i in lst_2:\n",
    "    print(i.strip())"
   ]
  },
  {
   "cell_type": "code",
   "execution_count": 27,
   "id": "f726ad26",
   "metadata": {},
   "outputs": [
    {
     "name": "stdout",
     "output_type": "stream",
     "text": [
      "14 15\n",
      "12 13\n",
      "18 19\n",
      "6 7\n",
      "11 12\n",
      "10 11\n",
      "15 16\n",
      "4 5\n",
      "18 19\n",
      "17 18\n",
      "15 16\n",
      "11 12\n",
      "12 13\n",
      "18 19\n",
      "18 19\n",
      "13 14\n",
      "16 17\n",
      "12 13\n",
      "17 18\n",
      "16 17\n"
     ]
    }
   ],
   "source": [
    "for i in lst:\n",
    "    print(len(i.strip()), len(i))"
   ]
  },
  {
   "cell_type": "code",
   "execution_count": 24,
   "id": "901947b4",
   "metadata": {},
   "outputs": [
    {
     "data": {
      "text/plain": [
       "['future belongs\\n',\n",
       " 'to those who\\n',\n",
       " 'believe in their..\\n',\n",
       " 'dreams\\n',\n",
       " 'Life begins\\n',\n",
       " 'at the end\\n',\n",
       " 'of your comfort\\n',\n",
       " 'zone\\n',\n",
       " 'Life is what 12345\\n',\n",
       " 'happens while you\\n',\n",
       " 'are busy making\\n',\n",
       " 'other plans\\n',\n",
       " 'Beautiful is\\n',\n",
       " 'better than ugly!!\\n',\n",
       " 'Explicit is better\\n',\n",
       " 'than implicit\\n',\n",
       " 'Simple is better\\n',\n",
       " 'than complex\\n',\n",
       " 'Complex is better\\n',\n",
       " 'than complicated\\n']"
      ]
     },
     "execution_count": 24,
     "metadata": {},
     "output_type": "execute_result"
    }
   ],
   "source": [
    "lst"
   ]
  },
  {
   "cell_type": "code",
   "execution_count": null,
   "id": "925a2c55",
   "metadata": {},
   "outputs": [],
   "source": []
  },
  {
   "cell_type": "markdown",
   "id": "12bdd3f3",
   "metadata": {},
   "source": [
    "# Задача №5"
   ]
  },
  {
   "cell_type": "code",
   "execution_count": null,
   "id": "e597bb8c",
   "metadata": {},
   "outputs": [],
   "source": [
    "Вам доступен текстовый файл numbers.txt, каждая строка которого может содержать \n",
    "одно или несколько целых чисел, разделенных одним или несколькими пробелами.\n",
    "\n",
    "Напишите программу, которая вычисляет сумму чисел в каждой строке и выводит \n",
    "эту сумму на экран (для каждой строки выводится сумма чисел в этой строке).\n",
    "\n",
    "Если бы файл numbers.txt содержал строки:\n",
    "\n",
    "2 1\n",
    "     3    40\n",
    " 10       7\n",
    "\n",
    "то результатом было бы:\n",
    "\n",
    "3\n",
    "43\n",
    "17"
   ]
  },
  {
   "cell_type": "code",
   "execution_count": 37,
   "id": "ae7593a3",
   "metadata": {},
   "outputs": [],
   "source": [
    "lst = [\n",
    "    '2 1',\n",
    "     '3    40',\n",
    " '10       7',\n",
    "    \n",
    "]"
   ]
  },
  {
   "cell_type": "code",
   "execution_count": 39,
   "id": "757356ae",
   "metadata": {},
   "outputs": [
    {
     "data": {
      "text/plain": [
       "'2 1'"
      ]
     },
     "execution_count": 39,
     "metadata": {},
     "output_type": "execute_result"
    }
   ],
   "source": [
    "lst[0]"
   ]
  },
  {
   "cell_type": "code",
   "execution_count": 42,
   "id": "46b24ed2",
   "metadata": {},
   "outputs": [
    {
     "name": "stdout",
     "output_type": "stream",
     "text": [
      "3\n"
     ]
    }
   ],
   "source": [
    "s = 0\n",
    "for i in lst[0]:\n",
    "    #print(i)\n",
    "    \n",
    "    if i.isdigit():\n",
    "        s += int(i)\n",
    "print(s)"
   ]
  },
  {
   "cell_type": "code",
   "execution_count": 54,
   "id": "522f2841",
   "metadata": {},
   "outputs": [
    {
     "name": "stdout",
     "output_type": "stream",
     "text": [
      "256\n",
      "78\n",
      "114\n",
      "15\n",
      "1089\n"
     ]
    }
   ],
   "source": [
    "with open('files/numbers.txt') as file:\n",
    "    s = 0\n",
    "    for i in file.readlines():\n",
    "        s = 0\n",
    "        for j in i.strip().split():\n",
    "            if j.isdigit():\n",
    "                s += int(j)\n",
    "        print(s)"
   ]
  },
  {
   "cell_type": "code",
   "execution_count": 49,
   "id": "c8cc7347",
   "metadata": {},
   "outputs": [],
   "source": [
    "with open('files/numbers.txt') as file:\n",
    "    lst = file.readlines()"
   ]
  },
  {
   "cell_type": "code",
   "execution_count": 53,
   "id": "fce87211",
   "metadata": {},
   "outputs": [
    {
     "data": {
      "text/plain": [
       "['67', '89', '100']"
      ]
     },
     "execution_count": 53,
     "metadata": {},
     "output_type": "execute_result"
    }
   ],
   "source": [
    "lst[0].strip().split()"
   ]
  },
  {
   "cell_type": "code",
   "execution_count": null,
   "id": "1eceaf35",
   "metadata": {},
   "outputs": [],
   "source": []
  },
  {
   "cell_type": "markdown",
   "id": "8378d306",
   "metadata": {},
   "source": [
    "# Задача №6"
   ]
  },
  {
   "cell_type": "code",
   "execution_count": null,
   "id": "59805717",
   "metadata": {},
   "outputs": [],
   "source": [
    "Вам доступен текстовый файл nums.txt. В файле могут быть записаны целые \n",
    "неотрицательные числа и все, что угодно. Числом назовем последовательность \n",
    "одной и более цифр, идущих подряд (число всегда неотрицательно).\n",
    "\n",
    "Напишите программу, которая вычисляет сумму всех чисел, записанных в файле."
   ]
  },
  {
   "cell_type": "code",
   "execution_count": 19,
   "id": "0c72e142",
   "metadata": {},
   "outputs": [
    {
     "data": {
      "text/plain": [
       "['123   jhjk\\n',\n",
       " 'bhjip456qwerty\\n',\n",
       " '1x2y3 4 5 6\\n',\n",
       " 'sfsd 0 dfgfd\\n',\n",
       " '10abc20de30pop5 5 5 5']"
      ]
     },
     "execution_count": 19,
     "metadata": {},
     "output_type": "execute_result"
    }
   ],
   "source": [
    "with open('files/nums_2.txt') as file:\n",
    "    lst = file.readlines()\n",
    "    \n",
    "lst"
   ]
  },
  {
   "cell_type": "code",
   "execution_count": 20,
   "id": "158e442c",
   "metadata": {},
   "outputs": [],
   "source": [
    "lst_1 = []\n",
    "for i in lst:\n",
    "    new_i = ''\n",
    "    for j in i:\n",
    "        if j.isdigit():\n",
    "            new_i += j\n",
    "        else:\n",
    "            new_i += ' '\n",
    "    lst_1.append(new_i)\n"
   ]
  },
  {
   "cell_type": "code",
   "execution_count": 21,
   "id": "2a8ba661",
   "metadata": {},
   "outputs": [
    {
     "data": {
      "text/plain": [
       "['123        ',\n",
       " '     456       ',\n",
       " '1 2 3 4 5 6 ',\n",
       " '     0       ',\n",
       " '10   20  30   5 5 5 5']"
      ]
     },
     "execution_count": 21,
     "metadata": {},
     "output_type": "execute_result"
    }
   ],
   "source": [
    "lst_1"
   ]
  },
  {
   "cell_type": "code",
   "execution_count": 22,
   "id": "6da6b37f",
   "metadata": {},
   "outputs": [
    {
     "name": "stdout",
     "output_type": "stream",
     "text": [
      "['123']\n",
      "['456']\n",
      "['1', '2', '3', '4', '5', '6']\n",
      "['0']\n",
      "['10', '20', '30', '5', '5', '5', '5']\n"
     ]
    }
   ],
   "source": [
    "res = 0\n",
    "\n",
    "for i in lst_1:\n",
    "    print(i.split())\n",
    "    for k in i.split():\n",
    "        res += int(k)\n",
    "        "
   ]
  },
  {
   "cell_type": "code",
   "execution_count": 23,
   "id": "8fcff2a7",
   "metadata": {},
   "outputs": [
    {
     "data": {
      "text/plain": [
       "680"
      ]
     },
     "execution_count": 23,
     "metadata": {},
     "output_type": "execute_result"
    }
   ],
   "source": [
    "res"
   ]
  },
  {
   "cell_type": "code",
   "execution_count": null,
   "id": "8887ecde",
   "metadata": {},
   "outputs": [],
   "source": []
  },
  {
   "cell_type": "markdown",
   "id": "d6fe33d4",
   "metadata": {},
   "source": [
    "# Задача №7"
   ]
  },
  {
   "cell_type": "code",
   "execution_count": null,
   "id": "2fb9f24b",
   "metadata": {},
   "outputs": [],
   "source": [
    "Статистика по файлу\n",
    "Вам доступен текстовый файл file.txt, набранный латиницей. Напишите программу, \n",
    "которая выводит количество букв латинского алфавита, слов и строк. Выведите \n",
    "три найденных числа в формате, приведенном в примере.\n",
    "\n",
    "Формат входных данных\n",
    "На вход программе ничего не подается.\n",
    "\n",
    "Формат выходных данных\n",
    "Программа должна вывести три найденных числа в формате, приведенном в примере.\n",
    "\n",
    "Примечание 1. Если бы файл file.txt содержал строки:\n",
    "\n",
    "Beautiful is better than ugly.\n",
    "Explicit is better than implicit.\n",
    "Simple is better than complex.\n",
    "Complex is better than complicated.\n",
    "то результатом было бы:\n",
    "\n",
    "Input file contains:\n",
    "108 letters \n",
    "20 words \n",
    "4 lines "
   ]
  },
  {
   "cell_type": "code",
   "execution_count": 25,
   "id": "211c7ac5",
   "metadata": {},
   "outputs": [],
   "source": [
    "with open('files/file.txt') as file:\n",
    "    lst = file.readlines()"
   ]
  },
  {
   "cell_type": "code",
   "execution_count": 26,
   "id": "177adf44",
   "metadata": {},
   "outputs": [
    {
     "data": {
      "text/plain": [
       "['A new report on the state of American youth says teenagers are very concerned about the direction their nation is taking.\\n',\n",
       " 'They feel the upcoming presidential election will have as big impact on their lives, as the presidential election in 2004.\\n',\n",
       " 'The survey released by the Horatio Alger Association of Distinguished Americans looked at the views of more than 1000 young people aged 13 to l9.\\n',\n",
       " 'According to that study, 62 percent of the US teens believed the Kerry election in 2004 would make a large difference in the direction of the country and 70 percent said they cared who would win.\\n',\n",
       " 'Allan Rivlin, a senior vice president with Peter Hart Research, says today young people are more involved with their society and know what is happening.\\n',\n",
       " 'He notes, \"They are paying attention to the Iraq war\".\\n',\n",
       " 'The young people surveyed also expressed concern over the employment and recession situation in America.\\n',\n",
       " 'But Rivlin says their greatest area of apprehension \"has to do with issues like gay marriage and abortion\".\\n',\n",
       " 'These social issues topped the list of concerns among the young.\\n',\n",
       " 'One promising revelation of Rivlins report is that the US teenagers have a high opinion of their parents in general.\\n',\n",
       " 'In the report, 77 percent of teens say they get along with their parents or guardians.\\n',\n",
       " 'They have a great deal of admiration for their parents as well.']"
      ]
     },
     "execution_count": 26,
     "metadata": {},
     "output_type": "execute_result"
    }
   ],
   "source": [
    "lst"
   ]
  },
  {
   "cell_type": "code",
   "execution_count": 29,
   "id": "df695c90",
   "metadata": {},
   "outputs": [],
   "source": [
    "num_lines = len(lst)"
   ]
  },
  {
   "cell_type": "code",
   "execution_count": 56,
   "id": "d5a6f139",
   "metadata": {
    "scrolled": false
   },
   "outputs": [
    {
     "name": "stdout",
     "output_type": "stream",
     "text": [
      "A\n",
      "new\n",
      "report\n",
      "on\n",
      "the\n",
      "state\n",
      "of\n",
      "American\n",
      "youth\n",
      "says\n",
      "teenagers\n",
      "are\n",
      "very\n",
      "concerned\n",
      "about\n",
      "the\n",
      "direction\n",
      "their\n",
      "nation\n",
      "is\n",
      "taking.\n",
      "They\n",
      "feel\n",
      "the\n",
      "upcoming\n",
      "presidential\n",
      "election\n",
      "will\n",
      "have\n",
      "as\n",
      "big\n",
      "impact\n",
      "on\n",
      "their\n",
      "lives,\n",
      "as\n",
      "the\n",
      "presidential\n",
      "election\n",
      "in\n",
      "2004.\n",
      "The\n",
      "survey\n",
      "released\n",
      "by\n",
      "the\n",
      "Horatio\n",
      "Alger\n",
      "Association\n",
      "of\n",
      "Distinguished\n",
      "Americans\n",
      "looked\n",
      "at\n",
      "the\n",
      "views\n",
      "of\n",
      "more\n",
      "than\n",
      "1000\n",
      "young\n",
      "people\n",
      "aged\n",
      "13\n",
      "to\n",
      "l9.\n",
      "According\n",
      "to\n",
      "that\n",
      "study,\n",
      "62\n",
      "percent\n",
      "of\n",
      "the\n",
      "US\n",
      "teens\n",
      "believed\n",
      "the\n",
      "Kerry\n",
      "election\n",
      "in\n",
      "2004\n",
      "would\n",
      "make\n",
      "a\n",
      "large\n",
      "difference\n",
      "in\n",
      "the\n",
      "direction\n",
      "of\n",
      "the\n",
      "country\n",
      "and\n",
      "70\n",
      "percent\n",
      "said\n",
      "they\n",
      "cared\n",
      "who\n",
      "would\n",
      "win.\n",
      "Allan\n",
      "Rivlin,\n",
      "a\n",
      "senior\n",
      "vice\n",
      "president\n",
      "with\n",
      "Peter\n",
      "Hart\n",
      "Research,\n",
      "says\n",
      "today\n",
      "young\n",
      "people\n",
      "are\n",
      "more\n",
      "involved\n",
      "with\n",
      "their\n",
      "society\n",
      "and\n",
      "know\n",
      "what\n",
      "is\n",
      "happening.\n",
      "He\n",
      "notes,\n",
      "\"They\n",
      "are\n",
      "paying\n",
      "attention\n",
      "to\n",
      "the\n",
      "Iraq\n",
      "war\".\n",
      "The\n",
      "young\n",
      "people\n",
      "surveyed\n",
      "also\n",
      "expressed\n",
      "concern\n",
      "over\n",
      "the\n",
      "employment\n",
      "and\n",
      "recession\n",
      "situation\n",
      "in\n",
      "America.\n",
      "But\n",
      "Rivlin\n",
      "says\n",
      "their\n",
      "greatest\n",
      "area\n",
      "of\n",
      "apprehension\n",
      "\"has\n",
      "to\n",
      "do\n",
      "with\n",
      "issues\n",
      "like\n",
      "gay\n",
      "marriage\n",
      "and\n",
      "abortion\".\n",
      "These\n",
      "social\n",
      "issues\n",
      "topped\n",
      "the\n",
      "list\n",
      "of\n",
      "concerns\n",
      "among\n",
      "the\n",
      "young.\n",
      "One\n",
      "promising\n",
      "revelation\n",
      "of\n",
      "Rivlins\n",
      "report\n",
      "is\n",
      "that\n",
      "the\n",
      "US\n",
      "teenagers\n",
      "have\n",
      "a\n",
      "high\n",
      "opinion\n",
      "of\n",
      "their\n",
      "parents\n",
      "in\n",
      "general.\n",
      "In\n",
      "the\n",
      "report,\n",
      "77\n",
      "percent\n",
      "of\n",
      "teens\n",
      "say\n",
      "they\n",
      "get\n",
      "along\n",
      "with\n",
      "their\n",
      "parents\n",
      "or\n",
      "guardians.\n",
      "They\n",
      "have\n",
      "a\n",
      "great\n",
      "deal\n",
      "of\n",
      "admiration\n",
      "for\n",
      "their\n",
      "parents\n",
      "as\n",
      "well.\n"
     ]
    }
   ],
   "source": [
    "num_lines = len(lst)\n",
    "num_words = 0\n",
    "num_letters = 0\n",
    "\n",
    "for i in lst:\n",
    "    #print(i.split())\n",
    "    for j in i.split():\n",
    "        num_words += 1\n",
    "        print(j)\n",
    "        for k in j.strip('.,\"').strip('1234567890'):\n",
    "            num_letters += 1"
   ]
  },
  {
   "cell_type": "code",
   "execution_count": 57,
   "id": "6c26a695",
   "metadata": {},
   "outputs": [
    {
     "data": {
      "text/plain": [
       "229"
      ]
     },
     "execution_count": 57,
     "metadata": {},
     "output_type": "execute_result"
    }
   ],
   "source": [
    "num_words"
   ]
  },
  {
   "cell_type": "code",
   "execution_count": 58,
   "id": "9addaeb5",
   "metadata": {},
   "outputs": [
    {
     "data": {
      "text/plain": [
       "1069"
      ]
     },
     "execution_count": 58,
     "metadata": {},
     "output_type": "execute_result"
    }
   ],
   "source": [
    "num_letters"
   ]
  },
  {
   "cell_type": "code",
   "execution_count": 59,
   "id": "25e58ae0",
   "metadata": {},
   "outputs": [
    {
     "name": "stdout",
     "output_type": "stream",
     "text": [
      "Input file contains:\n",
      "1069 letters\n",
      "229 words\n",
      "12 lines\n"
     ]
    }
   ],
   "source": [
    "print(f'Input file contains:\\n{num_letters} letters\\n{num_words} words\\n{num_lines} lines')"
   ]
  },
  {
   "cell_type": "code",
   "execution_count": null,
   "id": "eaea94f6",
   "metadata": {},
   "outputs": [],
   "source": []
  },
  {
   "cell_type": "markdown",
   "id": "f8979927",
   "metadata": {},
   "source": [
    "# Задача №8"
   ]
  },
  {
   "cell_type": "code",
   "execution_count": null,
   "id": "663a687e",
   "metadata": {},
   "outputs": [],
   "source": [
    "Random name and surname\n",
    "Вам доступны два текстовых файла first_names.txt и last_names.txt, один с именами, другой с фамилиями.\n",
    "\n",
    "Напишите программу, которая c помощью модуля random создает \n",
    "3\n",
    "3 случайные пары имя + фамилия, а затем выводит их, каждую на отдельной строке.\n",
    "\n",
    "Формат входных данных\n",
    "На вход программе ничего не подается.\n",
    "\n",
    "Формат выходных данных\n",
    "Программа должна вывести текст в формате, приведенном в примере.\n",
    "\n",
    "Примечание 1. Если бы файлы first_names.txt и last_names.txt содержали строки:\n",
    "\n",
    "Aaron\n",
    "Abdul\n",
    "Abe\n",
    "Abel\n",
    "Abraham\n",
    "Albert\n",
    "и\n",
    "\n",
    "Abramson\n",
    "Adamson\n",
    "Adderiy\n",
    "Addington\n",
    "Adrian\n",
    "Albertson\n",
    "Einstein\n",
    "то результатом могло быть:\n",
    "\n",
    "Abdul Albertson\n",
    "Abel Adamson\n",
    "Albert Einstein"
   ]
  },
  {
   "cell_type": "code",
   "execution_count": 62,
   "id": "3cdeb0a3",
   "metadata": {},
   "outputs": [],
   "source": [
    "with open ('files/first_names.txt') as file:\n",
    "    lst_names = file.readlines()\n",
    "with open ('files/last_names.txt') as file:\n",
    "    lst_last_names = file.readlines()"
   ]
  },
  {
   "cell_type": "code",
   "execution_count": 67,
   "id": "7adc4070",
   "metadata": {},
   "outputs": [],
   "source": [
    "import random\n",
    "n = random.randint(0, len(lst_names))\n",
    "sur = random.randint(0, len(lst_last_names))"
   ]
  },
  {
   "cell_type": "code",
   "execution_count": 68,
   "id": "c81893cb",
   "metadata": {},
   "outputs": [
    {
     "name": "stdout",
     "output_type": "stream",
     "text": [
      "Cedric Perry\n",
      "Darryl Perron\n",
      "Brice Swan\n"
     ]
    }
   ],
   "source": [
    "for _ in range(3):\n",
    "    n = random.randint(0, len(lst_names))\n",
    "    m = random.randint(0, len(lst_last_names))\n",
    "    print(lst_names[n].strip(), lst_last_names[m].strip())"
   ]
  },
  {
   "cell_type": "code",
   "execution_count": null,
   "id": "e1021669",
   "metadata": {},
   "outputs": [],
   "source": []
  },
  {
   "cell_type": "markdown",
   "id": "23a4b2a6",
   "metadata": {},
   "source": [
    "# Задача №9"
   ]
  },
  {
   "cell_type": "code",
   "execution_count": null,
   "id": "98195597",
   "metadata": {},
   "outputs": [],
   "source": [
    "Необычные страны\n",
    "Вам доступен текстовый файл population.txt с названиями стран и численностью их \n",
    "населения, разделенными символом табуляции '\\t'.\n",
    "\n",
    "Напишите программу выводящую все страны, название которых начинается с буквы 'G', численность населения которых больше чем \n",
    "500\n",
    "000\n",
    "500000 человек, не меняя их порядок.\n",
    "\n",
    "Формат входных данных\n",
    "На вход программе ничего не подается.\n",
    "\n",
    "Формат выходных данных\n",
    "Программа должна вывести названия стран, удовлетворяющие условиям задачи, каждое на отдельное строке."
   ]
  },
  {
   "cell_type": "code",
   "execution_count": 2,
   "id": "fd7044f4",
   "metadata": {},
   "outputs": [],
   "source": [
    "with open ('files/population.txt') as file:\n",
    "    lst = file.read()"
   ]
  },
  {
   "cell_type": "code",
   "execution_count": 12,
   "id": "3866cc9a",
   "metadata": {},
   "outputs": [
    {
     "name": "stdout",
     "output_type": "stream",
     "text": [
      "Germany\n",
      "Ghana\n",
      "Guatemala\n",
      "Greece\n",
      "Guinea\n",
      "Georgia\n",
      "Guinea-Bissau\n",
      "Gabon\n",
      "Guyana\n"
     ]
    }
   ],
   "source": [
    "for i in lst.split('\\n'):\n",
    "    if i.split('\\t')[0]:\n",
    "        if i.split('\\t')[0][0] == 'G' and int(   i.split('\\t')[1]   ) > 500000:\n",
    "            print(i.split('\\t')[0] )"
   ]
  },
  {
   "cell_type": "code",
   "execution_count": null,
   "id": "42401ba0",
   "metadata": {},
   "outputs": [],
   "source": []
  },
  {
   "cell_type": "markdown",
   "id": "88b40d6b",
   "metadata": {},
   "source": [
    "# Задача №10"
   ]
  },
  {
   "cell_type": "code",
   "execution_count": null,
   "id": "0487dc52",
   "metadata": {},
   "outputs": [],
   "source": [
    "CSV-файл\n",
    "Вам доступен CSV-файл data.csv, содержащий информацию в csv формате. Напишите\n",
    "функцию read_csv для чтения данных из этого файла. Она должна возвращать список\n",
    "словарей, интерпретируя первую строку как имена ключей, а каждую последующую строку как значения этих ключей.\n",
    "\n",
    "Формат входных данных\n",
    "На вход программе ничего не подается.\n",
    "\n",
    "Формат выходных данных\n",
    "Программа должна содержать реализованную функцию read_csv.\n",
    "\n",
    "Примечание 1. Вызывать функцию read_csv не нужно.\n",
    "\n",
    "Примечание 2. Функция read_csv не должна принимать аргументов. \n",
    "\n",
    "Примечание 3. Подробнее прочитать про CSV-файлы можно тут.\n",
    "\n",
    "Примечание 4. Считайте, что все ключи и значения по этим ключам в результирующем\n",
    "словаре имеют строковый тип (str).\n",
    "\n",
    "Примечание 5. Указанный файл можно скачать по ссылке.\n",
    "\n",
    "Примечание 6. Если бы файл data.csv содержал информацию\n",
    "\n",
    "name,address,age\n",
    "George,4312 Abbey Road,22\n",
    "John,54 Love Ave,21\n",
    "то вызов функции read_csv() вернул бы список:\n",
    "\n",
    "[{'name': 'George', 'address': '4312 Abbey Road', 'age': '22'}, {'name': 'John', 'address': '54 Love Ave', 'age': '21'}]"
   ]
  },
  {
   "cell_type": "code",
   "execution_count": 20,
   "id": "8c5b0395",
   "metadata": {},
   "outputs": [],
   "source": [
    "def read_csv(path):\n",
    "    with open(path) as file:\n",
    "        lst = file.readlines()\n",
    "    \n",
    "    res = []\n",
    "    keys = lst[0].strip().split(',')\n",
    "    for i in range(1, len(lst)):\n",
    "        res.append(dict(zip(keys, lst[i].strip().split(','))))\n",
    "    \n",
    "\n",
    "    return res"
   ]
  },
  {
   "cell_type": "code",
   "execution_count": 21,
   "id": "7caa39f2",
   "metadata": {},
   "outputs": [
    {
     "data": {
      "text/plain": [
       "[{'policyID': '119736',\n",
       "  'statecode': 'FL',\n",
       "  'county': 'CLAY COUNTY',\n",
       "  'eq_site_limit': '498960',\n",
       "  'hu_site_limit': '498960',\n",
       "  'fl_site_limit': '498960',\n",
       "  'fr_site_limit': '498960',\n",
       "  'tiv_2011': '498960',\n",
       "  'tiv_2012': '792148.9',\n",
       "  'eq_site_deductible': '0',\n",
       "  'hu_site_deductible': '9979.2',\n",
       "  'fl_site_deductible': '0',\n",
       "  'fr_site_deductible': '0',\n",
       "  'point_latitude': '30.102261',\n",
       "  'point_longitude': '-81.711777',\n",
       "  'line': 'Residential',\n",
       "  'construction': 'Masonry',\n",
       "  'point_granularity': '1'},\n",
       " {'policyID': '448094',\n",
       "  'statecode': 'FL',\n",
       "  'county': 'CLAY COUNTY',\n",
       "  'eq_site_limit': '1322376.3',\n",
       "  'hu_site_limit': '1322376.3',\n",
       "  'fl_site_limit': '1322376.3',\n",
       "  'fr_site_limit': '1322376.3',\n",
       "  'tiv_2011': '1322376.3',\n",
       "  'tiv_2012': '1438163.57',\n",
       "  'eq_site_deductible': '0',\n",
       "  'hu_site_deductible': '0',\n",
       "  'fl_site_deductible': '0',\n",
       "  'fr_site_deductible': '0',\n",
       "  'point_latitude': '30.063936',\n",
       "  'point_longitude': '-81.707664',\n",
       "  'line': 'Residential',\n",
       "  'construction': 'Masonry',\n",
       "  'point_granularity': '3'},\n",
       " {'policyID': '206893',\n",
       "  'statecode': 'FL',\n",
       "  'county': 'CLAY COUNTY',\n",
       "  'eq_site_limit': '190724.4',\n",
       "  'hu_site_limit': '190724.4',\n",
       "  'fl_site_limit': '190724.4',\n",
       "  'fr_site_limit': '190724.4',\n",
       "  'tiv_2011': '190724.4',\n",
       "  'tiv_2012': '192476.78',\n",
       "  'eq_site_deductible': '0',\n",
       "  'hu_site_deductible': '0',\n",
       "  'fl_site_deductible': '0',\n",
       "  'fr_site_deductible': '0',\n",
       "  'point_latitude': '30.089579',\n",
       "  'point_longitude': '-81.700455',\n",
       "  'line': 'Residential',\n",
       "  'construction': 'Wood',\n",
       "  'point_granularity': '1'},\n",
       " {'policyID': '333743',\n",
       "  'statecode': 'FL',\n",
       "  'county': 'CLAY COUNTY',\n",
       "  'eq_site_limit': '0',\n",
       "  'hu_site_limit': '79520.76',\n",
       "  'fl_site_limit': '0',\n",
       "  'fr_site_limit': '0',\n",
       "  'tiv_2011': '79520.76',\n",
       "  'tiv_2012': '86854.48',\n",
       "  'eq_site_deductible': '0',\n",
       "  'hu_site_deductible': '0',\n",
       "  'fl_site_deductible': '0',\n",
       "  'fr_site_deductible': '0',\n",
       "  'point_latitude': '30.063236',\n",
       "  'point_longitude': '-81.707703',\n",
       "  'line': 'Residential',\n",
       "  'construction': 'Wood',\n",
       "  'point_granularity': '3'},\n",
       " {'policyID': '172534',\n",
       "  'statecode': 'FL',\n",
       "  'county': 'CLAY COUNTY',\n",
       "  'eq_site_limit': '0',\n",
       "  'hu_site_limit': '254281.5',\n",
       "  'fl_site_limit': '0',\n",
       "  'fr_site_limit': '254281.5',\n",
       "  'tiv_2011': '254281.5',\n",
       "  'tiv_2012': '246144.49',\n",
       "  'eq_site_deductible': '0',\n",
       "  'hu_site_deductible': '0',\n",
       "  'fl_site_deductible': '0',\n",
       "  'fr_site_deductible': '0',\n",
       "  'point_latitude': '30.060614',\n",
       "  'point_longitude': '-81.702675',\n",
       "  'line': 'Residential',\n",
       "  'construction': 'Wood',\n",
       "  'point_granularity': '1'},\n",
       " {'policyID': '785275',\n",
       "  'statecode': 'FL',\n",
       "  'county': 'CLAY COUNTY',\n",
       "  'eq_site_limit': '0',\n",
       "  'hu_site_limit': '515035.62',\n",
       "  'fl_site_limit': '0',\n",
       "  'fr_site_limit': '0',\n",
       "  'tiv_2011': '515035.62',\n",
       "  'tiv_2012': '884419.17',\n",
       "  'eq_site_deductible': '0',\n",
       "  'hu_site_deductible': '0',\n",
       "  'fl_site_deductible': '0',\n",
       "  'fr_site_deductible': '0',\n",
       "  'point_latitude': '30.063236',\n",
       "  'point_longitude': '-81.707703',\n",
       "  'line': 'Residential',\n",
       "  'construction': 'Masonry',\n",
       "  'point_granularity': '3'},\n",
       " {'policyID': '995932',\n",
       "  'statecode': 'FL',\n",
       "  'county': 'CLAY COUNTY',\n",
       "  'eq_site_limit': '0',\n",
       "  'hu_site_limit': '19260000',\n",
       "  'fl_site_limit': '0',\n",
       "  'fr_site_limit': '0',\n",
       "  'tiv_2011': '19260000',\n",
       "  'tiv_2012': '20610000',\n",
       "  'eq_site_deductible': '0',\n",
       "  'hu_site_deductible': '0',\n",
       "  'fl_site_deductible': '0',\n",
       "  'fr_site_deductible': '0',\n",
       "  'point_latitude': '30.102226',\n",
       "  'point_longitude': '-81.713882',\n",
       "  'line': 'Commercial',\n",
       "  'construction': 'Reinforced Concrete',\n",
       "  'point_granularity': '1'},\n",
       " {'policyID': '223488',\n",
       "  'statecode': 'FL',\n",
       "  'county': 'CLAY COUNTY',\n",
       "  'eq_site_limit': '328500',\n",
       "  'hu_site_limit': '328500',\n",
       "  'fl_site_limit': '328500',\n",
       "  'fr_site_limit': '328500',\n",
       "  'tiv_2011': '328500',\n",
       "  'tiv_2012': '348374.25',\n",
       "  'eq_site_deductible': '0',\n",
       "  'hu_site_deductible': '16425',\n",
       "  'fl_site_deductible': '0',\n",
       "  'fr_site_deductible': '0',\n",
       "  'point_latitude': '30.102217',\n",
       "  'point_longitude': '-81.707146',\n",
       "  'line': 'Residential',\n",
       "  'construction': 'Wood',\n",
       "  'point_granularity': '1'},\n",
       " {'policyID': '433512',\n",
       "  'statecode': 'FL',\n",
       "  'county': 'CLAY COUNTY',\n",
       "  'eq_site_limit': '315000',\n",
       "  'hu_site_limit': '315000',\n",
       "  'fl_site_limit': '315000',\n",
       "  'fr_site_limit': '315000',\n",
       "  'tiv_2011': '315000',\n",
       "  'tiv_2012': '265821.57',\n",
       "  'eq_site_deductible': '0',\n",
       "  'hu_site_deductible': '15750',\n",
       "  'fl_site_deductible': '0',\n",
       "  'fr_site_deductible': '0',\n",
       "  'point_latitude': '30.118774',\n",
       "  'point_longitude': '-81.704613',\n",
       "  'line': 'Residential',\n",
       "  'construction': 'Wood',\n",
       "  'point_granularity': '1'},\n",
       " {'policyID': '142071',\n",
       "  'statecode': 'FL',\n",
       "  'county': 'CLAY COUNTY',\n",
       "  'eq_site_limit': '705600',\n",
       "  'hu_site_limit': '705600',\n",
       "  'fl_site_limit': '705600',\n",
       "  'fr_site_limit': '705600',\n",
       "  'tiv_2011': '705600',\n",
       "  'tiv_2012': '1010842.56',\n",
       "  'eq_site_deductible': '14112',\n",
       "  'hu_site_deductible': '35280',\n",
       "  'fl_site_deductible': '0',\n",
       "  'fr_site_deductible': '0',\n",
       "  'point_latitude': '30.100628',\n",
       "  'point_longitude': '-81.703751',\n",
       "  'line': 'Residential',\n",
       "  'construction': 'Masonry',\n",
       "  'point_granularity': '1'}]"
      ]
     },
     "execution_count": 21,
     "metadata": {},
     "output_type": "execute_result"
    }
   ],
   "source": [
    "read_csv('files/data.csv')"
   ]
  },
  {
   "cell_type": "code",
   "execution_count": null,
   "id": "e75816e7",
   "metadata": {},
   "outputs": [],
   "source": []
  },
  {
   "cell_type": "code",
   "execution_count": null,
   "id": "e28c18dc",
   "metadata": {},
   "outputs": [],
   "source": []
  },
  {
   "cell_type": "code",
   "execution_count": null,
   "id": "35a1a5a7",
   "metadata": {},
   "outputs": [],
   "source": []
  },
  {
   "cell_type": "code",
   "execution_count": 6,
   "id": "70478385",
   "metadata": {},
   "outputs": [],
   "source": [
    "keys = read_csv('files/data.csv')[0].strip().split(',')"
   ]
  },
  {
   "cell_type": "code",
   "execution_count": 7,
   "id": "f8c7f8e0",
   "metadata": {},
   "outputs": [],
   "source": [
    "vals = read_csv('files/data.csv')[1].strip().split(',')"
   ]
  },
  {
   "cell_type": "code",
   "execution_count": 9,
   "id": "a368decb",
   "metadata": {},
   "outputs": [
    {
     "data": {
      "text/plain": [
       "{'policyID': '119736',\n",
       " 'statecode': 'FL',\n",
       " 'county': 'CLAY COUNTY',\n",
       " 'eq_site_limit': '498960',\n",
       " 'hu_site_limit': '498960',\n",
       " 'fl_site_limit': '498960',\n",
       " 'fr_site_limit': '498960',\n",
       " 'tiv_2011': '498960',\n",
       " 'tiv_2012': '792148.9',\n",
       " 'eq_site_deductible': '0',\n",
       " 'hu_site_deductible': '9979.2',\n",
       " 'fl_site_deductible': '0',\n",
       " 'fr_site_deductible': '0',\n",
       " 'point_latitude': '30.102261',\n",
       " 'point_longitude': '-81.711777',\n",
       " 'line': 'Residential',\n",
       " 'construction': 'Masonry',\n",
       " 'point_granularity': '1'}"
      ]
     },
     "execution_count": 9,
     "metadata": {},
     "output_type": "execute_result"
    }
   ],
   "source": [
    "dict(zip(keys, vals))"
   ]
  },
  {
   "cell_type": "code",
   "execution_count": null,
   "id": "a128a033",
   "metadata": {},
   "outputs": [],
   "source": []
  }
 ],
 "metadata": {
  "kernelspec": {
   "display_name": "Python 3 (ipykernel)",
   "language": "python",
   "name": "python3"
  },
  "language_info": {
   "codemirror_mode": {
    "name": "ipython",
    "version": 3
   },
   "file_extension": ".py",
   "mimetype": "text/x-python",
   "name": "python",
   "nbconvert_exporter": "python",
   "pygments_lexer": "ipython3",
   "version": "3.10.2"
  }
 },
 "nbformat": 4,
 "nbformat_minor": 5
}
