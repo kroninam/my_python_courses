{
 "cells": [
  {
   "cell_type": "markdown",
   "id": "a8e28044",
   "metadata": {},
   "source": [
    "# Задача №1"
   ]
  },
  {
   "cell_type": "code",
   "execution_count": null,
   "id": "26ce33af",
   "metadata": {},
   "outputs": [],
   "source": [
    "Напишите функцию is_num, используя синтаксис анонимных функций, которая \n",
    "принимает строковый аргумент и возвращает значение True, если переданный\n",
    "аргумент является числом (целым или вещественным) и False в противном случае.\n",
    "\n",
    "Примечание 1. Следующий программный код:\n",
    "\n",
    "print(is_num('10.34ab'))\n",
    "print(is_num('10.45'))\n",
    "print(is_num('-18'))\n",
    "print(is_num('-34.67'))\n",
    "print(is_num('987'))\n",
    "print(is_num('abcd'))\n",
    "print(is_num('123.122.12'))\n",
    "print(is_num('-123.122'))\n",
    "print(is_num('--13.2'))\n",
    "\n",
    "должен выводить:\n",
    "\n",
    "False\n",
    "True\n",
    "True\n",
    "True\n",
    "True\n",
    "False\n",
    "False\n",
    "True\n",
    "False"
   ]
  },
  {
   "cell_type": "code",
   "execution_count": 73,
   "id": "190495d0",
   "metadata": {},
   "outputs": [],
   "source": [
    "is_num = lambda x: x.count('.') < 2 and x.count('-') < 2 and  x[0] in '-1234567890' and x.lstrip('-').replace('.', '').isdigit() and abs(float(x)) >=0"
   ]
  },
  {
   "cell_type": "code",
   "execution_count": 74,
   "id": "464cc657",
   "metadata": {},
   "outputs": [
    {
     "name": "stdout",
     "output_type": "stream",
     "text": [
      "False\n",
      "True\n",
      "True\n",
      "True\n",
      "True\n",
      "False\n",
      "False\n",
      "True\n",
      "False\n",
      "\n",
      "False\n",
      "\n",
      "True\n"
     ]
    }
   ],
   "source": [
    "print(is_num('10.34ab'))\n",
    "print(is_num('10.45'))\n",
    "print(is_num('-18'))\n",
    "print(is_num('-34.67'))\n",
    "print(is_num('987'))\n",
    "print(is_num('abcd'))\n",
    "print(is_num('123.122.12'))\n",
    "print(is_num('-123.122'))\n",
    "print(is_num('--13.2'))\n",
    "print()\n",
    "print(is_num('1-1'))\n",
    "print()\n",
    "print(is_num('0'))"
   ]
  },
  {
   "cell_type": "code",
   "execution_count": 48,
   "id": "2efb9673",
   "metadata": {},
   "outputs": [
    {
     "data": {
      "text/plain": [
       "1"
      ]
     },
     "execution_count": 48,
     "metadata": {},
     "output_type": "execute_result"
    }
   ],
   "source": [
    "'10.34ab'.count('.')"
   ]
  },
  {
   "cell_type": "code",
   "execution_count": 7,
   "id": "9411d149",
   "metadata": {},
   "outputs": [
    {
     "data": {
      "text/plain": [
       "False"
      ]
     },
     "execution_count": 7,
     "metadata": {},
     "output_type": "execute_result"
    }
   ],
   "source": [
    "'10.45'.replace('-', '').isdigit()"
   ]
  },
  {
   "cell_type": "code",
   "execution_count": 26,
   "id": "0c12715f",
   "metadata": {},
   "outputs": [
    {
     "data": {
      "text/plain": [
       "False"
      ]
     },
     "execution_count": 26,
     "metadata": {},
     "output_type": "execute_result"
    }
   ],
   "source": [
    "'1-1'.isdigit()"
   ]
  },
  {
   "cell_type": "code",
   "execution_count": 45,
   "id": "4a6d2160",
   "metadata": {},
   "outputs": [
    {
     "data": {
      "text/plain": [
       "True"
      ]
     },
     "execution_count": 45,
     "metadata": {},
     "output_type": "execute_result"
    }
   ],
   "source": [
    "'0'.replace('.', '').isdigit()"
   ]
  },
  {
   "cell_type": "code",
   "execution_count": 46,
   "id": "03778d15",
   "metadata": {},
   "outputs": [
    {
     "data": {
      "text/plain": [
       "True"
      ]
     },
     "execution_count": 46,
     "metadata": {},
     "output_type": "execute_result"
    }
   ],
   "source": [
    "abs(float('0')) >=0"
   ]
  },
  {
   "cell_type": "code",
   "execution_count": 64,
   "id": "bdd21f2f",
   "metadata": {},
   "outputs": [
    {
     "data": {
      "text/plain": [
       "False"
      ]
     },
     "execution_count": 64,
     "metadata": {},
     "output_type": "execute_result"
    }
   ],
   "source": [
    "'10.34ab' in '-1234567890'"
   ]
  },
  {
   "cell_type": "code",
   "execution_count": 67,
   "id": "da556a11",
   "metadata": {},
   "outputs": [
    {
     "data": {
      "text/plain": [
       "True"
      ]
     },
     "execution_count": 67,
     "metadata": {},
     "output_type": "execute_result"
    }
   ],
   "source": [
    "'1' in '-1234567890'"
   ]
  },
  {
   "cell_type": "code",
   "execution_count": null,
   "id": "095ffc70",
   "metadata": {},
   "outputs": [],
   "source": []
  },
  {
   "cell_type": "markdown",
   "id": "1dc96aa7",
   "metadata": {},
   "source": [
    "# Задача №2"
   ]
  },
  {
   "cell_type": "code",
   "execution_count": null,
   "id": "4e5b8734",
   "metadata": {},
   "outputs": [],
   "source": [
    "Напишите программу, которая с помощью встроенных функций filter() и sorted() \n",
    "выводит слова из списка words, имеющие длину ровно \n",
    "6\n",
    "6 символов. Слова следует вывести в алфавитном порядке на одной строке,\n",
    "разделив символом пробела."
   ]
  },
  {
   "cell_type": "code",
   "execution_count": 75,
   "id": "43786bf3",
   "metadata": {},
   "outputs": [],
   "source": [
    "words = ['beverage', 'monday', 'abroad', 'bias', 'abuse', 'abolish', \n",
    "         'abuse', 'abuse', 'bid', 'wednesday', 'able', 'betray', 'accident',\n",
    "         'abduct', 'bigot', 'bet', 'abandon', 'besides', 'access', 'friday',\n",
    "         'bestow', 'abound', 'absent', 'beware', 'abundant', 'abnormal', 'aboard', \n",
    "         'about', 'accelerate', 'abort', 'thursday', 'tuesday', 'sunday', 'berth',\n",
    "         'beyond', 'benevolent', 'abate', 'abide', 'bicycle', 'beside', 'accept', \n",
    "         'berry', 'bewilder', 'abrupt', 'saturday', 'accessory', 'absorb']"
   ]
  },
  {
   "cell_type": "code",
   "execution_count": 83,
   "id": "6ed668be",
   "metadata": {},
   "outputs": [
    {
     "name": "stdout",
     "output_type": "stream",
     "text": [
      "abduct aboard abound abroad abrupt absent absorb accept access beside bestow betray beware beyond friday monday sunday\n"
     ]
    }
   ],
   "source": [
    "print(*list(filter(lambda x: len(x) == 6, sorted(words))))"
   ]
  },
  {
   "cell_type": "code",
   "execution_count": null,
   "id": "7580a723",
   "metadata": {},
   "outputs": [],
   "source": []
  },
  {
   "cell_type": "code",
   "execution_count": null,
   "id": "ba3e58ef",
   "metadata": {},
   "outputs": [],
   "source": [
    "Напишите программу, которая с помощью встроенных функций map() и filter() пошагово: \n",
    "\n",
    "1) Удаляет из списка numbers все нечетные элементы, большие \n",
    "47\n",
    "47;\n",
    "\n",
    "2) Делит все четные элементы нацело на \n",
    "2\n",
    "2 (целочисленное деление – //).\n",
    "\n",
    "Полученные числа следует вывести на одной строке, разделив символом пробела и сохранив исходный порядок.\n",
    "\n",
    "Примечание. Используйте анонимную функцию в качестве критерия фильтрации."
   ]
  },
  {
   "cell_type": "code",
   "execution_count": 84,
   "id": "6687bde3",
   "metadata": {},
   "outputs": [],
   "source": [
    "numbers = [46, 61, 34, 17, 56, 26, 93, 1, 3, 82, 71, 37, 80, 27, \n",
    "           77, 94, 34, 100, 36, 81, 33, 81, 66, 83, 41, 80, 80,\n",
    "           93, 40, 34, 32, 16, 5, 16, 40, 93, 36, 65, 8, 19, 8,\n",
    "           75, 66, 21, 72, 32, 41, 59, 35, 64, 49, 78, 83, 27, 57,\n",
    "           53, 43, 35, 48, 17, 19, 40, 90, 57, 77, 56, 80, 95, 90,\n",
    "           27, 26, 6, 4, 23, 52, 39, 63, 74, 15, 66, 29, 88, 94, 37,\n",
    "           44, 2, 38, 36, 32, 49, 5, 33, 60, 94, 89, 8, 36, 94, 46, 33]"
   ]
  },
  {
   "cell_type": "code",
   "execution_count": 142,
   "id": "37d694c4",
   "metadata": {},
   "outputs": [
    {
     "name": "stdout",
     "output_type": "stream",
     "text": [
      "23 17 28 13 41 40 47 17 50 18 33 40 40 20 17 16 8 8 20 18 4 4 33 36 16 32 39 24 20 45 28 40 45 13 3 2 26 37 33 44 47 22 1 19 18 16 30 47 4 18 47 23\n"
     ]
    }
   ],
   "source": [
    "lst_1 = list(filter(lambda x: x%2 != 0 and x > 47, numbers))\n",
    "lst_2 = list(filter(lambda x: x not in lst_1 , numbers))\n"
   ]
  },
  {
   "cell_type": "code",
   "execution_count": 151,
   "id": "b37c29a5",
   "metadata": {},
   "outputs": [],
   "source": [
    "lst_3 = list(map(lambda x: x // 2 if x%2 == 0 else x, lst_2))"
   ]
  },
  {
   "cell_type": "code",
   "execution_count": 153,
   "id": "25e8815d",
   "metadata": {},
   "outputs": [
    {
     "name": "stdout",
     "output_type": "stream",
     "text": [
      "23 17 17 28 13 1 3 41 37 40 27 47 17 50 18 33 33 41 40 40 20 17 16 8 5 8 20 18 4 19 4 33 21 36 16 41 35 32 39 27 43 35 24 17 19 20 45 28 40 45 27 13 3 2 23 26 39 37 15 33 29 44 47 37 22 1 19 18 16 5 33 30 47 4 18 47 23 33\n"
     ]
    }
   ],
   "source": [
    "print(*lst_3)"
   ]
  },
  {
   "cell_type": "code",
   "execution_count": null,
   "id": "ef4e7370",
   "metadata": {},
   "outputs": [],
   "source": [
    "lst_4 = list(map(lambda x: x // 2, lst_3))\n",
    "print(*lst_4)"
   ]
  },
  {
   "cell_type": "code",
   "execution_count": null,
   "id": "dc2619e7",
   "metadata": {},
   "outputs": [],
   "source": []
  },
  {
   "cell_type": "markdown",
   "id": "104732ca",
   "metadata": {},
   "source": [
    "# Задача №3"
   ]
  },
  {
   "cell_type": "code",
   "execution_count": null,
   "id": "d43f928d",
   "metadata": {},
   "outputs": [],
   "source": [
    "Список data содержит информацию о численности населения некоторых штатов США.\n",
    "Напишите программу сортировки по убыванию списка data на основании последнего \n",
    "символа в названии штата. Затем распечатайте элементы этого списка, каждый на новой строке в формате:\n",
    "\n",
    "<название штата>: <численность населения>\n",
    "\n",
    "Vermont: 626299\n",
    "Massachusetts: 7029917\n",
    "...\n",
    "Примечание 1. Сортировка производится в лексикографическом порядке (по алфавиту) \n",
    "по убыванию на основании последнего символа в названии штата. При этом, если два штата\n",
    "имеют одинаковый последний символ, следует сохранить их взаиморасположение в начальном списке.\n",
    "\n",
    "Примечание 2. Используйте анонимную функцию в качестве критерия сортировки."
   ]
  },
  {
   "cell_type": "code",
   "execution_count": 1,
   "id": "f850f014",
   "metadata": {},
   "outputs": [],
   "source": [
    "data = [(19542209, 'New York'), (4887871, 'Alabama'), (1420491, 'Hawaii'),\n",
    "        (626299, 'Vermont'), (1805832, 'West Virginia'), (39865590, 'California'),\n",
    "        (11799448, 'Ohio'), (10711908, 'Georgia'), (10077331, 'Michigan'), (10439388, 'Virginia'),\n",
    "        (7705281, 'Washington'), (7151502, 'Arizona'), (7029917, 'Massachusetts'), (6910840, 'Tennessee')]"
   ]
  },
  {
   "cell_type": "code",
   "execution_count": 18,
   "id": "0f48d1a0",
   "metadata": {},
   "outputs": [
    {
     "name": "stdout",
     "output_type": "stream",
     "text": [
      "Vermont: 626299\n",
      "Massachusetts: 7029917\n",
      "Ohio: 11799448\n",
      "Michigan: 10077331\n",
      "Washington: 7705281\n",
      "New York: 19542209\n",
      "Hawaii: 1420491\n",
      "Tennessee: 6910840\n",
      "Alabama: 4887871\n",
      "West Virginia: 1805832\n",
      "California: 39865590\n",
      "Georgia: 10711908\n",
      "Virginia: 10439388\n",
      "Arizona: 7151502\n"
     ]
    }
   ],
   "source": [
    "for i in sorted(data, key = lambda x: (x[1][-1]), reverse = True):\n",
    "    print(f'{i[1]}: {i[0]}')\n"
   ]
  },
  {
   "cell_type": "code",
   "execution_count": null,
   "id": "88239efe",
   "metadata": {},
   "outputs": [],
   "source": []
  },
  {
   "cell_type": "markdown",
   "id": "6f701c66",
   "metadata": {},
   "source": [
    "# Задача №4"
   ]
  },
  {
   "cell_type": "code",
   "execution_count": null,
   "id": "16ddb5c9",
   "metadata": {},
   "outputs": [],
   "source": [
    "Список data содержит слова на русском языке. Напишите программу, которая сортирует этот список по \n",
    "возрастанию длины слов. В случае, если длины каких-то слов совпадают, – отсортировать эти слова\n",
    "в лексикографическом порядке. Отсортированные слова следует вывести на одной строке, разделив символом пробела."
   ]
  },
  {
   "cell_type": "code",
   "execution_count": 19,
   "id": "a87ac733",
   "metadata": {},
   "outputs": [],
   "source": [
    "data = ['год', 'человек', 'время', 'дело', 'жизнь', 'день', 'рука', 'раз',\n",
    "        'работа', 'слово', 'место', 'лицо', 'друг', 'глаз', 'вопрос', 'дом',\n",
    "        'сторона', 'страна', 'мир', 'случай', 'голова', 'ребенок', 'сила',\n",
    "        'конец', 'вид', 'система', 'часть', 'город', 'отношение', 'женщина', 'деньги']"
   ]
  },
  {
   "cell_type": "code",
   "execution_count": 24,
   "id": "f80eb18d",
   "metadata": {},
   "outputs": [
    {
     "name": "stdout",
     "output_type": "stream",
     "text": [
      "вид год дом мир раз глаз дело день друг лицо рука сила время город жизнь конец место слово часть вопрос голова деньги работа случай страна женщина ребенок система сторона человек отношение "
     ]
    }
   ],
   "source": [
    "for i in sorted (data, key = lambda x: (len(x), x )  ):\n",
    "    print (i, end = ' ')"
   ]
  },
  {
   "cell_type": "code",
   "execution_count": null,
   "id": "35147293",
   "metadata": {},
   "outputs": [],
   "source": []
  },
  {
   "cell_type": "markdown",
   "id": "1f228aef",
   "metadata": {},
   "source": [
    "# Задача №5"
   ]
  },
  {
   "cell_type": "code",
   "execution_count": null,
   "id": "93d83fd5",
   "metadata": {},
   "outputs": [],
   "source": [
    "Список mixed_list содержит целочисленные и строковые значения. Напишите программу, \n",
    "которая с помощью встроенной функции max() находит и выводит наибольшее \n",
    "числовое значение в указанном списке."
   ]
  },
  {
   "cell_type": "code",
   "execution_count": 27,
   "id": "f832c9b4",
   "metadata": {},
   "outputs": [],
   "source": [
    "mixed_list = ['tuesday', 'abroad', 'abuse', 'beside', 'monday', 'abate', 'accessory',\n",
    "              'absorb', 1384878, 'sunday', 'about', 454805, 'saturday', 'abort', 2121919,\n",
    "              2552839, 977970, 1772933, 1564063, 'abduct', 901271, 2680434, 'bicycle',\n",
    "              'accelerate', 1109147, 942908, 'berry', 433507, 'bias', 'bestow', 1875665,\n",
    "              'besides', 'bewilder', 1586517, 375290, 1503450, 2713047, 'abnormal', 2286106,\n",
    "              242192, 701049, 2866491, 'benevolent', 'bigot', 'abuse', 'abrupt', 343772, 'able',\n",
    "              2135748, 690280, 686008, 'beyond', 2415643, 'aboard', 'bet', 859105, 'accident',\n",
    "              2223166, 894187, 146564, 1251748, 2851543, 1619426, 2263113, 1618068, 'berth',\n",
    "              'abolish', 'beware', 2618492, 1555062, 'access', 'absent', 'abundant', 2950603, \n",
    "              'betray', 'beverage', 'abide', 'abandon', 2284251, 'wednesday', 2709698, 'thursday',\n",
    "              810387, 'friday', 2576799, 2213552, 1599022, 'accept', 'abuse', 'abound', 1352953, 'bid',\n",
    "              1805326, 1499197, 2241159, 605320, 2347441]"
   ]
  },
  {
   "cell_type": "code",
   "execution_count": 38,
   "id": "268dc8bb",
   "metadata": {},
   "outputs": [
    {
     "name": "stdout",
     "output_type": "stream",
     "text": [
      "2950603\n"
     ]
    }
   ],
   "source": [
    "print(max(list(map(lambda x: x if type(x) == int else 0, mixed_list))))"
   ]
  },
  {
   "cell_type": "code",
   "execution_count": null,
   "id": "2c3683c0",
   "metadata": {},
   "outputs": [],
   "source": []
  },
  {
   "cell_type": "markdown",
   "id": "031eb03a",
   "metadata": {},
   "source": [
    "# Задача №6"
   ]
  },
  {
   "cell_type": "code",
   "execution_count": null,
   "id": "19a49f40",
   "metadata": {},
   "outputs": [],
   "source": [
    "Список mixed_list содержит целочисленные и строковые значения. Напишите программу его сортировки \n",
    "по неубыванию значений элементов, при этом числа должны следовать до строк.  Элементы отсортированного \n",
    "списка выведите на одной строке, разделив символом пробела.\n",
    "\n",
    "Примечание 1. Для решения задачи используйте анонимную функцию и необязательный аргумент key  функции sorted().\n",
    "\n",
    "Примечание 2. Если бы список mixed_list содержал значения:\n",
    "\n",
    "mixed_list = ['a', 'ab', 3, 5, 1, 8, 0, 'c', 'ac', 'aab']\n",
    "то результатом работы программы должно быть:\n",
    "\n",
    "0 1 3 5 8 a aab ab ac c"
   ]
  },
  {
   "cell_type": "code",
   "execution_count": 42,
   "id": "b266619d",
   "metadata": {},
   "outputs": [],
   "source": [
    "mixed_list = ['beside', 48, 'accelerate', 28, 'beware', 'absorb', 'besides', 'berry',\n",
    "              15, 65, 'abate', 'thursday', 76, 70, 94, 35, 36, 'berth', 41, 'abnormal',\n",
    "              'bicycle', 'bid', 'sunday', 'saturday', 87, 'bigot', 41, 'abort', 13, 60,\n",
    "              'friday', 26, 13, 'accident', 'access', 40, 26, 20, 75, 13, 40, 67, 12, 'abuse',\n",
    "              78, 10, 80, 'accessory', 20, 'bewilder', 'benevolent', 'bet', 64, 38, 65, 51, 95,\n",
    "              'abduct', 37, 98, 99, 14, 'abandon', 'accept', 46, 'abide', 'beyond', 19, 'about',\n",
    "              76, 26, 'abound', 12, 95, 'wednesday', 'abundant', 'abrupt', 'aboard', 50, 89,\n",
    "              'tuesday', 66, 'bestow', 'absent', 76, 46, 'betray', 47, 'able', 11]"
   ]
  },
  {
   "cell_type": "code",
   "execution_count": 57,
   "id": "6e779d22",
   "metadata": {},
   "outputs": [
    {
     "name": "stdout",
     "output_type": "stream",
     "text": [
      "10 11 12 12 13 13 13 14 15 19 20 20 26 26 26 28 35 36 37 38 40 40 41 41 46 46 47 48 50 51 60 64 65 65 66 67 70 75 76 76 76 78 80 87 89 94 95 95 98 99 abandon abate abduct abide able abnormal aboard abort abound about abrupt absent absorb abundant abuse accelerate accept access accessory accident benevolent berry berth beside besides bestow bet betray beware bewilder beyond bicycle bid bigot friday saturday sunday thursday tuesday wednesday "
     ]
    }
   ],
   "source": [
    "for i in sorted(mixed_list, key = lambda x: str(x)):\n",
    "    print(i, end = ' ')"
   ]
  },
  {
   "cell_type": "code",
   "execution_count": null,
   "id": "0cbc9349",
   "metadata": {},
   "outputs": [],
   "source": []
  },
  {
   "cell_type": "markdown",
   "id": "363d5f9c",
   "metadata": {},
   "source": [
    "# Задача №7"
   ]
  },
  {
   "cell_type": "code",
   "execution_count": null,
   "id": "fdafc513",
   "metadata": {},
   "outputs": [],
   "source": [
    "Противоположный цвет\n",
    "В цветовой схеме RGB цвета задаются с помощью трех компонентов:\n",
    "\n",
    "R — интенсивность красной составляющей цвета;\n",
    "G — интенсивность зеленой составляющей цвета;\n",
    "B — интенсивность синей составляющей цвета.\n",
    "Противоположные цвета задаются как RGB и (255-R)(255-G)(255-B). Считается, что такие \n",
    "цвета хорошо гармонируют друг с другом.\n",
    "\n",
    "Напишите программу, которая по трем компонентам заданного цвета, находит компоненты противоположного цвета. \n",
    "\n",
    "Формат входных данных\n",
    "На вход программе подается строка, содержащая три целых неотрицательных числа, компоненты \n",
    "R, G и B начального цвета,  разделенные символом пробела.\n",
    "\n",
    "Формат выходных данных\n",
    "Программа должна вывести три компонента R, G и B противоположного цвета, разделенные символом пробела.\n",
    "\n",
    "Примечание. Попробуйте решить задачу в одну строку с помощью встроенной функции map().\n"
   ]
  },
  {
   "cell_type": "code",
   "execution_count": 59,
   "id": "65ae7a21",
   "metadata": {},
   "outputs": [],
   "source": [
    "n = '244 11 120'"
   ]
  },
  {
   "cell_type": "code",
   "execution_count": 75,
   "id": "66b19b73",
   "metadata": {},
   "outputs": [
    {
     "name": "stdout",
     "output_type": "stream",
     "text": [
      "244-R 11-G 120-B "
     ]
    }
   ],
   "source": [
    "for i in range(3):\n",
    "    print(list(map(lambda x: (x + '-R', x + '-G', x + '-B'), n.split()))[i][i], end = ' ')"
   ]
  },
  {
   "cell_type": "code",
   "execution_count": 61,
   "id": "f4994cf4",
   "metadata": {},
   "outputs": [
    {
     "data": {
      "text/plain": [
       "['244', '11', '120']"
      ]
     },
     "execution_count": 61,
     "metadata": {},
     "output_type": "execute_result"
    }
   ],
   "source": [
    "n.split()"
   ]
  },
  {
   "cell_type": "code",
   "execution_count": 78,
   "id": "cefd660b",
   "metadata": {},
   "outputs": [
    {
     "name": "stdout",
     "output_type": "stream",
     "text": [
      "[11, 244, 135]\n"
     ]
    }
   ],
   "source": [
    "print(list(map(lambda x: abs((int(x) - 255)), n.split())))"
   ]
  },
  {
   "cell_type": "code",
   "execution_count": null,
   "id": "4be182f1",
   "metadata": {},
   "outputs": [],
   "source": []
  },
  {
   "cell_type": "markdown",
   "id": "ad70f264",
   "metadata": {},
   "source": [
    "# Задача №8"
   ]
  },
  {
   "cell_type": "code",
   "execution_count": null,
   "id": "f8f7cdcb",
   "metadata": {},
   "outputs": [],
   "source": [
    "Значение многочлена 🌶️\n",
    "\n",
    "На вход программе на первой строке подаются коэффициенты многочлена, разделенные символом пробела и целое число \n",
    "�\n",
    "x на второй строке. Напишите программу, которая вычисляет значение указанного многочлена при заданном значении \n",
    "�\n",
    "x.\n",
    "\n",
    "Формат входных данных\n",
    "На вход программе на первой строке подаются коэффициенты многочлена (целые числа), разделенные символом пробела и целое число \n",
    "�\n",
    "x на второй строке.\n",
    "\n",
    "Формат выходных данных\n",
    "Программа должна вывести одно число — значение указанного многочлена при заданном значении \n",
    "�\n",
    "x.\n",
    "\n",
    "Примечание 2. Решение задачи необходимо оформить в виде функции evaluate(coefficients, x), которая принимает список коэффициентов и значение аргумента. Функция evaluate() должна быть реализована на основе встроенных функций map() и reduce().\n",
    "\n",
    "Примечание 3. Не забудьте вызвать функцию evaluate(), чтобы вывести результат 😀."
   ]
  },
  {
   "cell_type": "code",
   "execution_count": 7,
   "id": "0d723f01",
   "metadata": {},
   "outputs": [
    {
     "name": "stdout",
     "output_type": "stream",
     "text": [
      "2 4 3\n",
      "10\n"
     ]
    }
   ],
   "source": [
    "coefficients = list(map(int, (input().split())))\n",
    "x = int(input())"
   ]
  },
  {
   "cell_type": "code",
   "execution_count": 41,
   "id": "8b939386",
   "metadata": {},
   "outputs": [],
   "source": [
    "def evaluate(coefficients, x):\n",
    "    step = len(coefficients)\n",
    "    res = 0\n",
    "    for i in range(len(coefficients)-1):\n",
    "        \n",
    "#         print(coefficients[i], x, step-1, x**(step-1))\n",
    "        res += coefficients[i] * x**(step-1)\n",
    "#         print()\n",
    "#         print(res)\n",
    "        step -= 1\n",
    "              \n",
    "    return res + coefficients[-1]"
   ]
  },
  {
   "cell_type": "code",
   "execution_count": 42,
   "id": "0e8694af",
   "metadata": {},
   "outputs": [
    {
     "data": {
      "text/plain": [
       "243"
      ]
     },
     "execution_count": 42,
     "metadata": {},
     "output_type": "execute_result"
    }
   ],
   "source": [
    "evaluate(coefficients, x)"
   ]
  },
  {
   "cell_type": "code",
   "execution_count": null,
   "id": "a0a127bc",
   "metadata": {},
   "outputs": [],
   "source": []
  },
  {
   "cell_type": "code",
   "execution_count": null,
   "id": "90ae11e8",
   "metadata": {},
   "outputs": [],
   "source": []
  },
  {
   "cell_type": "code",
   "execution_count": null,
   "id": "fd2af579",
   "metadata": {},
   "outputs": [],
   "source": []
  },
  {
   "cell_type": "code",
   "execution_count": null,
   "id": "278fe2f9",
   "metadata": {},
   "outputs": [],
   "source": []
  },
  {
   "cell_type": "code",
   "execution_count": null,
   "id": "db8d997b",
   "metadata": {},
   "outputs": [],
   "source": []
  },
  {
   "cell_type": "code",
   "execution_count": null,
   "id": "9f7e5425",
   "metadata": {},
   "outputs": [],
   "source": []
  },
  {
   "cell_type": "code",
   "execution_count": null,
   "id": "7ec54d3c",
   "metadata": {},
   "outputs": [],
   "source": []
  },
  {
   "cell_type": "code",
   "execution_count": null,
   "id": "2f1d880b",
   "metadata": {},
   "outputs": [],
   "source": []
  },
  {
   "cell_type": "code",
   "execution_count": null,
   "id": "6efce6e5",
   "metadata": {},
   "outputs": [],
   "source": [
    "\n"
   ]
  }
 ],
 "metadata": {
  "kernelspec": {
   "display_name": "Python 3 (ipykernel)",
   "language": "python",
   "name": "python3"
  },
  "language_info": {
   "codemirror_mode": {
    "name": "ipython",
    "version": 3
   },
   "file_extension": ".py",
   "mimetype": "text/x-python",
   "name": "python",
   "nbconvert_exporter": "python",
   "pygments_lexer": "ipython3",
   "version": "3.10.2"
  }
 },
 "nbformat": 4,
 "nbformat_minor": 5
}
