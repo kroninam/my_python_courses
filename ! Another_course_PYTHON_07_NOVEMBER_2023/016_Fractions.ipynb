{
 "cells": [
  {
   "cell_type": "markdown",
   "id": "a4fc1f9c",
   "metadata": {},
   "source": [
    "# Задача №1"
   ]
  },
  {
   "cell_type": "code",
   "execution_count": null,
   "id": "8af1bbb9",
   "metadata": {},
   "outputs": [],
   "source": [
    "Десятичные числа хранятся в списке numbers в виде строк. \n",
    "Дополните приведенный код, чтобы он для каждого десятичного числа\n",
    "вывел его представление в виде обыкновенной дроби в формате:\n",
    "\n",
    "десятичное число = обыкновенная дробь\n",
    "Примечание. Программа должна вывести\n",
    "\n",
    "6.34 = 317/50\n",
    "4.08 = 102/25\n",
    "3.04 = 76/25\n",
    "..."
   ]
  },
  {
   "cell_type": "code",
   "execution_count": 2,
   "id": "5f3119ed",
   "metadata": {},
   "outputs": [],
   "source": [
    "from fractions import Fraction\n",
    "\n",
    "numbers = ['6.34', '4.08', '3.04', '7.49', '4.45', '5.39', '7.82', '2.76',\n",
    "           '0.71', '1.97', '2.54', '3.67', '0.14', '4.29', '1.84', '4.07',\n",
    "           '7.26', '9.37', '8.11', '4.30', '7.16', '2.46', '1.27', '0.29',\n",
    "           '5.12', '4.02', '6.95', '1.62', '2.26', '0.45', '6.91', '7.39',\n",
    "           '0.52', '1.88', '8.38', '0.75', '0.32', '4.81', '3.31', '4.63',\n",
    "           '7.84', '2.25', '1.10', '3.35', '2.05', '7.87', '2.40', '1.20',\n",
    "           '2.58', '2.46']"
   ]
  },
  {
   "cell_type": "code",
   "execution_count": 17,
   "id": "b9431f81",
   "metadata": {},
   "outputs": [
    {
     "name": "stdout",
     "output_type": "stream",
     "text": [
      "317/50\n"
     ]
    }
   ],
   "source": [
    "print(Fraction('6.34'))"
   ]
  },
  {
   "cell_type": "code",
   "execution_count": 20,
   "id": "123206c8",
   "metadata": {},
   "outputs": [
    {
     "name": "stdout",
     "output_type": "stream",
     "text": [
      "6.34 = 317/50\n",
      "4.08 = 102/25\n",
      "3.04 = 76/25\n",
      "7.49 = 749/100\n",
      "4.45 = 89/20\n",
      "5.39 = 539/100\n",
      "7.82 = 391/50\n",
      "2.76 = 69/25\n",
      "0.71 = 71/100\n",
      "1.97 = 197/100\n",
      "2.54 = 127/50\n",
      "3.67 = 367/100\n",
      "0.14 = 7/50\n",
      "4.29 = 429/100\n",
      "1.84 = 46/25\n",
      "4.07 = 407/100\n",
      "7.26 = 363/50\n",
      "9.37 = 937/100\n",
      "8.11 = 811/100\n",
      "4.30 = 43/10\n",
      "7.16 = 179/25\n",
      "2.46 = 123/50\n",
      "1.27 = 127/100\n",
      "0.29 = 29/100\n",
      "5.12 = 128/25\n",
      "4.02 = 201/50\n",
      "6.95 = 139/20\n",
      "1.62 = 81/50\n",
      "2.26 = 113/50\n",
      "0.45 = 9/20\n",
      "6.91 = 691/100\n",
      "7.39 = 739/100\n",
      "0.52 = 13/25\n",
      "1.88 = 47/25\n",
      "8.38 = 419/50\n",
      "0.75 = 3/4\n",
      "0.32 = 8/25\n",
      "4.81 = 481/100\n",
      "3.31 = 331/100\n",
      "4.63 = 463/100\n",
      "7.84 = 196/25\n",
      "2.25 = 9/4\n",
      "1.10 = 11/10\n",
      "3.35 = 67/20\n",
      "2.05 = 41/20\n",
      "7.87 = 787/100\n",
      "2.40 = 12/5\n",
      "1.20 = 6/5\n",
      "2.58 = 129/50\n",
      "2.46 = 123/50\n"
     ]
    }
   ],
   "source": [
    "for i in numbers:\n",
    "    print(f'{i} = {Fraction(i)}')"
   ]
  },
  {
   "cell_type": "code",
   "execution_count": null,
   "id": "8c1af98b",
   "metadata": {},
   "outputs": [],
   "source": []
  },
  {
   "cell_type": "markdown",
   "id": "e1676fd6",
   "metadata": {},
   "source": [
    "# Задача №2"
   ]
  },
  {
   "cell_type": "code",
   "execution_count": null,
   "id": "2e0fe4db",
   "metadata": {},
   "outputs": [],
   "source": [
    "Десятичные числа, разделенные символом пробела, хранятся \n",
    "в строковой переменной s. Дополните приведенный код, чтобы он вывел \n",
    "сумму наибольшего и наименьшего числа в виде обыкновенной дроби."
   ]
  },
  {
   "cell_type": "code",
   "execution_count": 26,
   "id": "b4cd07d7",
   "metadata": {},
   "outputs": [],
   "source": [
    "from fractions import Fraction\n",
    "\n",
    "s = '0.78 4.3 9.6 3.88 7.08 5.88 0.23 4.65 2.79 0.90 4.23 2.15 3.24 8.57 0.10 8.57 1.49 5.64 3.63 8.36 1.56 6.67 1.46 5.26 4.83 7.13 1.22 1.02 7.82 9.97 5.40 9.79 9.82 2.78 2.96 0.07 1.72 7.24 7.84 9.23 1.71 6.24 5.78 5.37 0.03 9.60 8.86 2.73 5.83 6.50 0.123 0.00021'\n"
   ]
  },
  {
   "cell_type": "code",
   "execution_count": 31,
   "id": "915117a5",
   "metadata": {},
   "outputs": [
    {
     "name": "stdout",
     "output_type": "stream",
     "text": [
      "997021/100000\n"
     ]
    }
   ],
   "source": [
    "lst = []\n",
    "for i in s.split():\n",
    "    lst.append(float(i))\n",
    "    \n",
    "print(Fraction( str(max(lst) + min(lst) ) ))"
   ]
  },
  {
   "cell_type": "code",
   "execution_count": 30,
   "id": "2f283123",
   "metadata": {},
   "outputs": [
    {
     "data": {
      "text/plain": [
       "'9.97021'"
      ]
     },
     "execution_count": 30,
     "metadata": {},
     "output_type": "execute_result"
    }
   ],
   "source": [
    "str(max(lst) + min(lst))"
   ]
  },
  {
   "cell_type": "code",
   "execution_count": null,
   "id": "a98bdb5c",
   "metadata": {},
   "outputs": [],
   "source": []
  },
  {
   "cell_type": "markdown",
   "id": "29f9c3f9",
   "metadata": {},
   "source": [
    "# Задача №3"
   ]
  },
  {
   "cell_type": "code",
   "execution_count": null,
   "id": "16f8df83",
   "metadata": {},
   "outputs": [],
   "source": [
    "Сократите дробь\n",
    "Даны два натуральных числа \n",
    "\n",
    "m и n. Напишите программу, которая сокращает дробь \n",
    "и выводит ее.\n",
    "\n",
    "Формат входных данных\n",
    "На вход программе подается два натуральных числа, \n",
    "числитель и знаменатель дроби, каждое на отдельной строке.\n",
    "\n",
    "Формат выходных данных\n",
    "Программа должна вывести ответ на задачу."
   ]
  },
  {
   "cell_type": "code",
   "execution_count": 8,
   "id": "86845b1e",
   "metadata": {},
   "outputs": [
    {
     "name": "stdout",
     "output_type": "stream",
     "text": [
      "15\n",
      "30\n",
      "1/2\n"
     ]
    }
   ],
   "source": [
    "from fractions import Fraction\n",
    "\n",
    "print(Fraction(int(input()), int(input()) ))"
   ]
  },
  {
   "cell_type": "code",
   "execution_count": null,
   "id": "1066a4b1",
   "metadata": {},
   "outputs": [],
   "source": []
  },
  {
   "cell_type": "markdown",
   "id": "179f18fb",
   "metadata": {},
   "source": [
    "# Задача №4"
   ]
  },
  {
   "cell_type": "code",
   "execution_count": null,
   "id": "12135cd4",
   "metadata": {},
   "outputs": [],
   "source": [
    "Операции над дробями\n",
    "Даны две дроби в формате a/b. Напишите программу, которая вычисляет и \n",
    "выводит их сумму, разность, произведение и частное.\n",
    "\n",
    "Формат входных данных\n",
    "На вход программе подаются две ненулевые дроби, каждая на отдельной строке.\n",
    "\n",
    "Формат выходных данных\n",
    "Программа должна вывести сумму, разность, произведение и частное двух дробей.\n",
    "\n",
    "Примечание. Обратите внимание на третий тест: исходные дроби сокращать не нужно, а результат нужно.\n",
    "    \n",
    "    \n",
    "Sample Input 3:\n",
    "\n",
    "5/10\n",
    "10/5\n",
    "\n",
    "Sample Output 3:\n",
    "\n",
    "5/10 + 10/5 = 5/2\n",
    "5/10 - 10/5 = -3/2\n",
    "5/10 * 10/5 = 1\n",
    "5/10 / 10/5 = 1/4"
   ]
  },
  {
   "cell_type": "code",
   "execution_count": 45,
   "id": "7e20e66f",
   "metadata": {},
   "outputs": [
    {
     "name": "stdout",
     "output_type": "stream",
     "text": [
      "5/10\n",
      "10/5\n",
      "5/10 + 10/5 = 5/2 \n",
      "5/10 - 10/5 = -3/2 \n",
      "5/10 * 10/5 = 1 \n",
      "5/10 / 10/5 = 1/4 \n"
     ]
    }
   ],
   "source": [
    "from fractions import Fraction\n",
    "\n",
    "n = input()\n",
    "m = input()\n",
    "\n",
    "print(f'{n} + {m} = {Fraction(n) +  Fraction(m)} ')\n",
    "print(f'{n} - {m} = {Fraction(n) -  Fraction(m)} ')\n",
    "print(f'{n} * {m} = {Fraction(n) *  Fraction(m)} ')\n",
    "print(f'{n} / {m} = {Fraction(n) /  Fraction(m)} ')"
   ]
  },
  {
   "cell_type": "code",
   "execution_count": null,
   "id": "c406941f",
   "metadata": {},
   "outputs": [],
   "source": []
  },
  {
   "cell_type": "markdown",
   "id": "3dc9549e",
   "metadata": {},
   "source": [
    "# Задача №5"
   ]
  },
  {
   "cell_type": "code",
   "execution_count": null,
   "id": "f2caf599",
   "metadata": {},
   "outputs": [],
   "source": [
    "Сумма дробей 1\n",
    "На вход программе подается натуральное число \n",
    "�\n",
    "n. Напишите программу, которая вычисляет и выводит рациональное число, равное значению ряду обратных квадратов\n",
    "\n",
    " \n",
    "\n",
    "Формат входных данных\n",
    "На вход программе подается натуральное число \n",
    "n.\n",
    "\n",
    "Формат выходных данных\n",
    "Программа должна вывести ответ на задачу.\n",
    "\n",
    "Примечание 1. Результирующая дробь должна быть несократимой."
   ]
  },
  {
   "cell_type": "code",
   "execution_count": null,
   "id": "0f60fe2e",
   "metadata": {},
   "outputs": [],
   "source": [
    "from fractions import Fraction\n",
    "\n",
    "n = int(input())\n",
    "\n",
    "s = 0\n",
    "for i in range(1, n+1):\n",
    "    s += Fraction(1, n**2)\n",
    "print(s)"
   ]
  },
  {
   "cell_type": "code",
   "execution_count": null,
   "id": "3a0fed31",
   "metadata": {},
   "outputs": [],
   "source": []
  },
  {
   "cell_type": "markdown",
   "id": "41382697",
   "metadata": {},
   "source": [
    "# Задача №6"
   ]
  },
  {
   "cell_type": "code",
   "execution_count": null,
   "id": "f6c9c792",
   "metadata": {},
   "outputs": [],
   "source": [
    "Сумма дробей 2\n",
    "На вход программе подается натуральное число \n",
    "�\n",
    "n. Напишите программу, которая вычисляет и выводит рациональное число, равное значению выражения \n",
    " \n",
    "\n",
    "Формат входных данных\n",
    "На вход программе подается натуральное число \n",
    "�\n",
    "n.\n",
    "\n",
    "Формат выходных данных\n",
    "Программа должна вывести ответ на задачу.\n",
    "\n",
    "Примечание 1. Результирующая дробь должна быть несократимой.\n",
    "\n",
    "Примечание 2. Для вычисления факториала можно использовать функцию factorial из модуля math."
   ]
  },
  {
   "cell_type": "code",
   "execution_count": 48,
   "id": "587694a9",
   "metadata": {},
   "outputs": [
    {
     "name": "stdout",
     "output_type": "stream",
     "text": [
      "5\n",
      "103/60\n"
     ]
    }
   ],
   "source": [
    "from fractions import Fraction\n",
    "from math import factorial\n",
    "\n",
    "\n",
    "n = int(input())\n",
    "s = 0\n",
    "for i in range(1, n+1):\n",
    "    s+= Fraction(1, factorial(i))\n",
    "print(s)"
   ]
  },
  {
   "cell_type": "code",
   "execution_count": null,
   "id": "ceabedb2",
   "metadata": {},
   "outputs": [],
   "source": []
  },
  {
   "cell_type": "code",
   "execution_count": null,
   "id": "8d6eb454",
   "metadata": {},
   "outputs": [],
   "source": []
  },
  {
   "cell_type": "code",
   "execution_count": null,
   "id": "8ba18595",
   "metadata": {},
   "outputs": [],
   "source": []
  },
  {
   "cell_type": "code",
   "execution_count": null,
   "id": "c120432d",
   "metadata": {},
   "outputs": [],
   "source": []
  },
  {
   "cell_type": "code",
   "execution_count": null,
   "id": "dfb9b065",
   "metadata": {},
   "outputs": [],
   "source": []
  },
  {
   "cell_type": "code",
   "execution_count": null,
   "id": "6303b470",
   "metadata": {},
   "outputs": [],
   "source": []
  },
  {
   "cell_type": "code",
   "execution_count": null,
   "id": "b81917b3",
   "metadata": {},
   "outputs": [],
   "source": []
  },
  {
   "cell_type": "code",
   "execution_count": null,
   "id": "ae801f0c",
   "metadata": {},
   "outputs": [],
   "source": []
  },
  {
   "cell_type": "code",
   "execution_count": null,
   "id": "b5134500",
   "metadata": {},
   "outputs": [],
   "source": []
  },
  {
   "cell_type": "code",
   "execution_count": null,
   "id": "ff7f32fe",
   "metadata": {},
   "outputs": [],
   "source": []
  },
  {
   "cell_type": "code",
   "execution_count": null,
   "id": "1c7154d5",
   "metadata": {},
   "outputs": [],
   "source": []
  },
  {
   "cell_type": "code",
   "execution_count": null,
   "id": "c069f983",
   "metadata": {},
   "outputs": [],
   "source": []
  },
  {
   "cell_type": "code",
   "execution_count": null,
   "id": "0617dd5d",
   "metadata": {},
   "outputs": [],
   "source": []
  }
 ],
 "metadata": {
  "kernelspec": {
   "display_name": "Python 3 (ipykernel)",
   "language": "python",
   "name": "python3"
  },
  "language_info": {
   "codemirror_mode": {
    "name": "ipython",
    "version": 3
   },
   "file_extension": ".py",
   "mimetype": "text/x-python",
   "name": "python",
   "nbconvert_exporter": "python",
   "pygments_lexer": "ipython3",
   "version": "3.10.2"
  }
 },
 "nbformat": 4,
 "nbformat_minor": 5
}
