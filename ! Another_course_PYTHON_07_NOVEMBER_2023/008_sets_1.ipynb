{
 "cells": [
  {
   "cell_type": "code",
   "execution_count": 1,
   "id": "afcfec43",
   "metadata": {},
   "outputs": [],
   "source": [
    "numbers = {1,2,3,4,5}"
   ]
  },
  {
   "cell_type": "code",
   "execution_count": 2,
   "id": "33979364",
   "metadata": {},
   "outputs": [
    {
     "data": {
      "text/plain": [
       "5"
      ]
     },
     "execution_count": 2,
     "metadata": {},
     "output_type": "execute_result"
    }
   ],
   "source": [
    "max(numbers)"
   ]
  },
  {
   "cell_type": "code",
   "execution_count": 3,
   "id": "891f071f",
   "metadata": {},
   "outputs": [
    {
     "name": "stdout",
     "output_type": "stream",
     "text": [
      "6\n"
     ]
    }
   ],
   "source": [
    "print(max(numbers) + min(numbers))"
   ]
  },
  {
   "cell_type": "code",
   "execution_count": 5,
   "id": "432f28b7",
   "metadata": {},
   "outputs": [
    {
     "name": "stdout",
     "output_type": "stream",
     "text": [
      "6\n"
     ]
    }
   ],
   "source": [
    "print(       sum ( [max(numbers), min(numbers)] )    )"
   ]
  },
  {
   "cell_type": "code",
   "execution_count": 6,
   "id": "9ccbe32d",
   "metadata": {},
   "outputs": [],
   "source": [
    "myset1 = set([1, 2, 3, 4, 5])\n",
    "myset2 = set(\"12345\")"
   ]
  },
  {
   "cell_type": "code",
   "execution_count": 7,
   "id": "1dcd4513",
   "metadata": {},
   "outputs": [
    {
     "data": {
      "text/plain": [
       "{1, 2, 3, 4, 5}"
      ]
     },
     "execution_count": 7,
     "metadata": {},
     "output_type": "execute_result"
    }
   ],
   "source": [
    "myset1"
   ]
  },
  {
   "cell_type": "code",
   "execution_count": 8,
   "id": "b2d21ff1",
   "metadata": {},
   "outputs": [
    {
     "data": {
      "text/plain": [
       "{'1', '2', '3', '4', '5'}"
      ]
     },
     "execution_count": 8,
     "metadata": {},
     "output_type": "execute_result"
    }
   ],
   "source": [
    "myset2"
   ]
  },
  {
   "cell_type": "code",
   "execution_count": null,
   "id": "fa508c06",
   "metadata": {},
   "outputs": [],
   "source": []
  },
  {
   "cell_type": "markdown",
   "id": "06fe60c9",
   "metadata": {},
   "source": [
    "# Задача №1"
   ]
  },
  {
   "cell_type": "code",
   "execution_count": null,
   "id": "05bbe25c",
   "metadata": {},
   "outputs": [],
   "source": [
    "Количество различных символов\n",
    "На вход программе подается строка текста. Напишите программу, которая определяет количество различных символов в строке.\n",
    "\n",
    "Формат входных данных\n",
    "На вход программе подается строка текста.\n",
    "\n",
    "Формат выходных данных\n",
    "Программа должна вывести количество различных символов в строке.\n",
    "\n",
    "Примечание. Задачу можно решить в одну строчку кода.\n",
    "\n",
    "Sample Input 1:\n",
    "\n",
    "12345678910\n",
    "\n",
    "Sample Output 1:\n",
    "\n",
    "10"
   ]
  },
  {
   "cell_type": "code",
   "execution_count": 9,
   "id": "48256f7c",
   "metadata": {},
   "outputs": [
    {
     "name": "stdout",
     "output_type": "stream",
     "text": [
      "adfgadf\n",
      "4\n"
     ]
    }
   ],
   "source": [
    "print(len(set(input())))"
   ]
  },
  {
   "cell_type": "code",
   "execution_count": null,
   "id": "249ac75d",
   "metadata": {},
   "outputs": [],
   "source": []
  },
  {
   "cell_type": "markdown",
   "id": "8c563621",
   "metadata": {},
   "source": [
    "# Задача №2"
   ]
  },
  {
   "cell_type": "code",
   "execution_count": null,
   "id": "f1983720",
   "metadata": {},
   "outputs": [],
   "source": [
    "Неповторимые цифры\n",
    "На вход программе подается строка, состоящая из цифр. Необходимо определить, верно ли, \n",
    "что в ее записи ни одна из цифр не повторяется?\n",
    "\n",
    "Формат входных данных\n",
    "На вход программе подается строка, состоящая из цифр\n",
    "\n",
    "Формат выходных данных\n",
    "Программа должна вывести YES если ни одна из цифр в строке не повторяется и NO в противном случае.\n"
   ]
  },
  {
   "cell_type": "code",
   "execution_count": 13,
   "id": "060bc703",
   "metadata": {},
   "outputs": [
    {
     "name": "stdout",
     "output_type": "stream",
     "text": [
      "1093482\n"
     ]
    }
   ],
   "source": [
    "s = input()"
   ]
  },
  {
   "cell_type": "code",
   "execution_count": 18,
   "id": "a57cea88",
   "metadata": {},
   "outputs": [
    {
     "name": "stdout",
     "output_type": "stream",
     "text": [
      "YES\n"
     ]
    }
   ],
   "source": [
    "if sorted(set(s)) == sorted(list(s)):\n",
    "    print('YES')\n",
    "else:\n",
    "    print('NO')"
   ]
  },
  {
   "cell_type": "code",
   "execution_count": 15,
   "id": "004db2d1",
   "metadata": {},
   "outputs": [
    {
     "data": {
      "text/plain": [
       "{'0', '1', '2', '3', '4', '8', '9'}"
      ]
     },
     "execution_count": 15,
     "metadata": {},
     "output_type": "execute_result"
    }
   ],
   "source": [
    "set(s)"
   ]
  },
  {
   "cell_type": "code",
   "execution_count": 16,
   "id": "47f05a61",
   "metadata": {},
   "outputs": [
    {
     "data": {
      "text/plain": [
       "['1', '0', '9', '3', '4', '8', '2']"
      ]
     },
     "execution_count": 16,
     "metadata": {},
     "output_type": "execute_result"
    }
   ],
   "source": [
    "list(s)"
   ]
  },
  {
   "cell_type": "code",
   "execution_count": null,
   "id": "18c6c5ec",
   "metadata": {},
   "outputs": [],
   "source": []
  },
  {
   "cell_type": "markdown",
   "id": "56bcc619",
   "metadata": {},
   "source": [
    "# Задача №3"
   ]
  },
  {
   "cell_type": "code",
   "execution_count": null,
   "id": "74eedc0f",
   "metadata": {},
   "outputs": [],
   "source": [
    "Все 10 цифр\n",
    "На вход программе подаются две строки, состоящие из цифр. Необходимо определить, \n",
    "верно ли, что в записи этих двух строк используются все десять цифр?\n",
    "\n",
    "Формат входных данных\n",
    "На вход подаются две строки, состоящие из цифр.\n",
    "\n",
    "Формат выходных данных\n",
    "Программа должна вывести YES, если в записи этих двух строк используются все десять цифр, и NO в противном случае."
   ]
  },
  {
   "cell_type": "code",
   "execution_count": 102,
   "id": "91fbb39d",
   "metadata": {},
   "outputs": [
    {
     "name": "stdout",
     "output_type": "stream",
     "text": [
      "12345\n",
      "56789620\n"
     ]
    }
   ],
   "source": [
    "s = input()\n",
    "s1 = input()"
   ]
  },
  {
   "cell_type": "code",
   "execution_count": 103,
   "id": "378cf433",
   "metadata": {},
   "outputs": [],
   "source": [
    "sss = list(set(s))"
   ]
  },
  {
   "cell_type": "code",
   "execution_count": 104,
   "id": "a68bec83",
   "metadata": {},
   "outputs": [],
   "source": [
    "ssss = list(set(s1))"
   ]
  },
  {
   "cell_type": "code",
   "execution_count": 105,
   "id": "f92becfa",
   "metadata": {},
   "outputs": [],
   "source": [
    "sss.extend(ssss)"
   ]
  },
  {
   "cell_type": "code",
   "execution_count": 109,
   "id": "7e75c1c5",
   "metadata": {},
   "outputs": [],
   "source": [
    "sss = list(map (int, sss))"
   ]
  },
  {
   "cell_type": "code",
   "execution_count": 110,
   "id": "7c63a6cb",
   "metadata": {},
   "outputs": [
    {
     "data": {
      "text/plain": [
       "[2, 3, 4, 5, 1, 9, 2, 6, 7, 0, 8, 5]"
      ]
     },
     "execution_count": 110,
     "metadata": {},
     "output_type": "execute_result"
    }
   ],
   "source": [
    "sss"
   ]
  },
  {
   "cell_type": "code",
   "execution_count": 111,
   "id": "42983fdb",
   "metadata": {},
   "outputs": [
    {
     "data": {
      "text/plain": [
       "{0, 1, 2, 3, 4, 5, 6, 7, 8, 9}"
      ]
     },
     "execution_count": 111,
     "metadata": {},
     "output_type": "execute_result"
    }
   ],
   "source": [
    "set(sss)"
   ]
  },
  {
   "cell_type": "code",
   "execution_count": 112,
   "id": "7d6ed86c",
   "metadata": {},
   "outputs": [],
   "source": [
    "ss = set([1,2,3,4,5,6,7,8,9,0])"
   ]
  },
  {
   "cell_type": "code",
   "execution_count": 113,
   "id": "e5c92f79",
   "metadata": {},
   "outputs": [
    {
     "data": {
      "text/plain": [
       "{0, 1, 2, 3, 4, 5, 6, 7, 8, 9}"
      ]
     },
     "execution_count": 113,
     "metadata": {},
     "output_type": "execute_result"
    }
   ],
   "source": [
    "ss"
   ]
  },
  {
   "cell_type": "code",
   "execution_count": 115,
   "id": "62ef43a3",
   "metadata": {},
   "outputs": [
    {
     "name": "stdout",
     "output_type": "stream",
     "text": [
      "YES\n"
     ]
    }
   ],
   "source": [
    "if sorted(set(sss)) == sorted(ss):\n",
    "    print('YES')\n",
    "else:\n",
    "    print('NO')"
   ]
  },
  {
   "cell_type": "code",
   "execution_count": null,
   "id": "e51edcd1",
   "metadata": {},
   "outputs": [],
   "source": []
  },
  {
   "cell_type": "markdown",
   "id": "2dc5878a",
   "metadata": {},
   "source": [
    "# Задача №4"
   ]
  },
  {
   "cell_type": "code",
   "execution_count": null,
   "id": "90f13664",
   "metadata": {},
   "outputs": [],
   "source": [
    "Одинаковые наборы\n",
    "На вход программе подаются две строки, состоящие из цифр. Необходимо определить, верно ли, \n",
    "что для записи этих строк были использованы одинаковые наборы цифр?\n",
    "\n",
    "Формат входных данных\n",
    "На вход подаются две строки, состоящие из цифр.\n",
    "\n",
    "Формат выходных данных\n",
    "Программа должна вывести YES, если для записи этих строк были использованы одинаковые \n",
    "наборы цифр и NO, в противном случае."
   ]
  },
  {
   "cell_type": "code",
   "execution_count": 116,
   "id": "3ec55b05",
   "metadata": {},
   "outputs": [
    {
     "name": "stdout",
     "output_type": "stream",
     "text": [
      "12345\n",
      "12345\n"
     ]
    }
   ],
   "source": [
    "s = input()\n",
    "ss = input()"
   ]
  },
  {
   "cell_type": "code",
   "execution_count": 117,
   "id": "6ed45de0",
   "metadata": {},
   "outputs": [
    {
     "name": "stdout",
     "output_type": "stream",
     "text": [
      "YES\n"
     ]
    }
   ],
   "source": [
    "if set(s) == set(ss):\n",
    "    print('YES')\n",
    "else:\n",
    "    print('NO')"
   ]
  },
  {
   "cell_type": "code",
   "execution_count": null,
   "id": "62bc5da9",
   "metadata": {},
   "outputs": [],
   "source": []
  },
  {
   "cell_type": "markdown",
   "id": "6edf610a",
   "metadata": {},
   "source": [
    "# Задача №5"
   ]
  },
  {
   "cell_type": "code",
   "execution_count": null,
   "id": "12164a56",
   "metadata": {},
   "outputs": [],
   "source": [
    "Три слова\n",
    "На вход программе подается строка, состоящая из трех слов. \n",
    "Верно ли, что для записи всех трех слов был использован один и тот же набор букв?\n",
    "\n",
    "Формат входных данных\n",
    "На вход программе подается строка, состоящая из трех слов.\n",
    "\n",
    "Формат выходных данных\n",
    "Программа должна вывести YES, если для записи всех трех слов был использован \n",
    "один и тот же набор букв и NO в противном случае."
   ]
  },
  {
   "cell_type": "code",
   "execution_count": 118,
   "id": "d13bde11",
   "metadata": {},
   "outputs": [
    {
     "name": "stdout",
     "output_type": "stream",
     "text": [
      "автор товар тварь\n"
     ]
    }
   ],
   "source": [
    "s = input().split()"
   ]
  },
  {
   "cell_type": "code",
   "execution_count": 122,
   "id": "7b8bad3b",
   "metadata": {},
   "outputs": [
    {
     "name": "stdout",
     "output_type": "stream",
     "text": [
      "NO\n"
     ]
    }
   ],
   "source": [
    "if set(s[0]) == set(s[1]) == set(s[2]):\n",
    "    print('YES')\n",
    "else:\n",
    "    print('NO')"
   ]
  },
  {
   "cell_type": "code",
   "execution_count": null,
   "id": "4c5bcb5b",
   "metadata": {},
   "outputs": [],
   "source": []
  },
  {
   "cell_type": "markdown",
   "id": "5a6df979",
   "metadata": {},
   "source": [
    "# Задача №6"
   ]
  },
  {
   "cell_type": "code",
   "execution_count": null,
   "id": "8ec05842",
   "metadata": {},
   "outputs": [],
   "source": [
    "Уникальные символы 1\n",
    "Напишите программу для вывода количества уникальных символов каждого считанного слова без учета регистра.\n",
    "\n",
    "Формат входных данных\n",
    "На вход программе в первой строке подается число \n",
    "n – общее количество слов. Далее идут \n",
    "n строк с словами.\n",
    "\n",
    "Формат выходных данных\n",
    "Программа должна вывести на отдельной строке количество уникальных символов для каждого слова.\n",
    "\n",
    "Sample Input 1:\n",
    "\n",
    "3\n",
    "Тимур\n",
    "Beegeek\n",
    "АнанАс\n",
    "\n",
    "\n",
    "Sample Output 1:\n",
    "5\n",
    "4\n",
    "3"
   ]
  },
  {
   "cell_type": "code",
   "execution_count": 4,
   "id": "923411ff",
   "metadata": {},
   "outputs": [
    {
     "name": "stdout",
     "output_type": "stream",
     "text": [
      "1\n",
      "nbveh\n",
      "5\n"
     ]
    }
   ],
   "source": [
    "n = int(input())\n",
    "\n",
    "for i in range(n):\n",
    "    s = input().upper()\n",
    "    \n",
    "    print(len(set(s)))"
   ]
  },
  {
   "cell_type": "code",
   "execution_count": null,
   "id": "6284f95b",
   "metadata": {},
   "outputs": [],
   "source": []
  },
  {
   "cell_type": "markdown",
   "id": "e730bf2e",
   "metadata": {},
   "source": [
    "# Задача №7"
   ]
  },
  {
   "cell_type": "code",
   "execution_count": null,
   "id": "ce33c324",
   "metadata": {},
   "outputs": [],
   "source": [
    "Уникальные символы 2\n",
    "Напишите программу для вывода общего количества уникальных символов во всех считанных словах без учета регистра.\n",
    "\n",
    "Формат входных данных\n",
    "На вход программе в первой строке подается число \n",
    "�\n",
    "n – общее количество слов. Далее идут \n",
    "�\n",
    "n строк со словами.\n",
    "\n",
    "Формат выходных данных\n",
    "Программа должна вывести одно число – общее количество уникальных символов во всех словах без учета регистра."
   ]
  },
  {
   "cell_type": "code",
   "execution_count": null,
   "id": "22f57e4d",
   "metadata": {},
   "outputs": [],
   "source": [
    "n = int(input())\n",
    "ss = ''\n",
    "for i in range(n):\n",
    "    s = input().upper()\n",
    "    ss += s\n",
    "    \n",
    "print(len(set(ss)))"
   ]
  },
  {
   "cell_type": "code",
   "execution_count": null,
   "id": "5cb71267",
   "metadata": {},
   "outputs": [],
   "source": []
  },
  {
   "cell_type": "markdown",
   "id": "b7933d04",
   "metadata": {},
   "source": [
    "# Задача №8"
   ]
  },
  {
   "cell_type": "code",
   "execution_count": null,
   "id": "4b92d5e1",
   "metadata": {},
   "outputs": [],
   "source": [
    "Количество слов в тексте\n",
    "Напишите программу для определения общего количества различных слов в строке текста.\n",
    "\n",
    "Формат входных данных\n",
    "На вход программе подается строка текста.\n",
    "\n",
    "Формат выходных данных\n",
    "Программа должна вывести одно число – общее количество различных слов в строке без учета регистра.\n",
    "\n",
    "Примечание 1. Словом считается последовательность непробельных символов, идущих подряд, \n",
    "слова разделены одним или большим числом пробелов.\n",
    "\n",
    "Примечание 2. Знаками препинания .,;:-?! пренебрегаем."
   ]
  },
  {
   "cell_type": "code",
   "execution_count": 65,
   "id": "25765f1d",
   "metadata": {},
   "outputs": [
    {
     "name": "stdout",
     "output_type": "stream",
     "text": [
      "Snowflakes, snowflakes falling down. Snowflakes, covering up the ground. Making a blanket, soft and white. Making a blanket in the night.\n"
     ]
    }
   ],
   "source": [
    "s = input().lower().split()"
   ]
  },
  {
   "cell_type": "code",
   "execution_count": 66,
   "id": "c3eaf0e9",
   "metadata": {},
   "outputs": [
    {
     "data": {
      "text/plain": [
       "['snowflakes,',\n",
       " 'snowflakes',\n",
       " 'falling',\n",
       " 'down.',\n",
       " 'snowflakes,',\n",
       " 'covering',\n",
       " 'up',\n",
       " 'the',\n",
       " 'ground.',\n",
       " 'making',\n",
       " 'a',\n",
       " 'blanket,',\n",
       " 'soft',\n",
       " 'and',\n",
       " 'white.',\n",
       " 'making',\n",
       " 'a',\n",
       " 'blanket',\n",
       " 'in',\n",
       " 'the',\n",
       " 'night.']"
      ]
     },
     "execution_count": 66,
     "metadata": {},
     "output_type": "execute_result"
    }
   ],
   "source": [
    "s"
   ]
  },
  {
   "cell_type": "code",
   "execution_count": 73,
   "id": "bdec57a8",
   "metadata": {},
   "outputs": [
    {
     "name": "stdout",
     "output_type": "stream",
     "text": [
      "snowflakes\n",
      "snowflakes\n",
      "falling\n",
      "down\n",
      "snowflakes\n",
      "covering\n",
      "up\n",
      "the\n",
      "ground\n",
      "making\n",
      "a\n",
      "blanket\n",
      "soft\n",
      "and\n",
      "white\n",
      "making\n",
      "a\n",
      "blanket\n",
      "in\n",
      "the\n",
      "night\n"
     ]
    }
   ],
   "source": [
    "ss = set()\n",
    "\n",
    "for i in s:\n",
    "    i = i.strip('.,;:-?!')\n",
    "    print(i)\n",
    "    ss.add(i)"
   ]
  },
  {
   "cell_type": "code",
   "execution_count": 74,
   "id": "c3bcf89a",
   "metadata": {},
   "outputs": [
    {
     "data": {
      "text/plain": [
       "{'a',\n",
       " 'and',\n",
       " 'blanket',\n",
       " 'covering',\n",
       " 'down',\n",
       " 'falling',\n",
       " 'ground',\n",
       " 'in',\n",
       " 'making',\n",
       " 'night',\n",
       " 'snowflakes',\n",
       " 'soft',\n",
       " 'the',\n",
       " 'up',\n",
       " 'white'}"
      ]
     },
     "execution_count": 74,
     "metadata": {},
     "output_type": "execute_result"
    }
   ],
   "source": [
    "ss"
   ]
  },
  {
   "cell_type": "code",
   "execution_count": 75,
   "id": "c7af625b",
   "metadata": {},
   "outputs": [
    {
     "data": {
      "text/plain": [
       "15"
      ]
     },
     "execution_count": 75,
     "metadata": {},
     "output_type": "execute_result"
    }
   ],
   "source": [
    "len(ss)"
   ]
  },
  {
   "cell_type": "code",
   "execution_count": 69,
   "id": "e6525b2d",
   "metadata": {},
   "outputs": [
    {
     "data": {
      "text/plain": [
       "'snowflakes'"
      ]
     },
     "execution_count": 69,
     "metadata": {},
     "output_type": "execute_result"
    }
   ],
   "source": [
    "'snowflakes,'.strip('.,;:-?!')"
   ]
  },
  {
   "cell_type": "code",
   "execution_count": null,
   "id": "da6960ab",
   "metadata": {},
   "outputs": [],
   "source": []
  },
  {
   "cell_type": "markdown",
   "id": "70a78f16",
   "metadata": {},
   "source": [
    "# Задача №9"
   ]
  },
  {
   "cell_type": "code",
   "execution_count": null,
   "id": "34781743",
   "metadata": {},
   "outputs": [],
   "source": [
    "# Встречалось ли число раньше?\n",
    "# На вход программе подается строка текста, содержащая числа. Для каждого числа выведите слово \n",
    "# YES (в отдельной строке), если это число ранее встречалось в последовательности или NO, если не встречалось.\n",
    "\n",
    "# Формат входных данных\n",
    "# На вход программе подается строка текста, содержащая числа, разделенные символом пробела.\n",
    "\n",
    "# Формат выходных данных\n",
    "# Программа должна вывести текст в соответствии с условием задачи.\n",
    "\n",
    "# Примечание. Ведущие нули в числах должны игнорироваться."
   ]
  },
  {
   "cell_type": "code",
   "execution_count": 1,
   "id": "7468428e",
   "metadata": {},
   "outputs": [
    {
     "name": "stdout",
     "output_type": "stream",
     "text": [
      "1 1 2 2 5 5 5 5 6 7 8\n"
     ]
    }
   ],
   "source": [
    "s = list(map (int, input().split()))"
   ]
  },
  {
   "cell_type": "code",
   "execution_count": 2,
   "id": "a43783df",
   "metadata": {},
   "outputs": [
    {
     "data": {
      "text/plain": [
       "[1, 1, 2, 2, 5, 5, 5, 5, 6, 7, 8]"
      ]
     },
     "execution_count": 2,
     "metadata": {},
     "output_type": "execute_result"
    }
   ],
   "source": [
    "s"
   ]
  },
  {
   "cell_type": "code",
   "execution_count": 3,
   "id": "fc21892e",
   "metadata": {},
   "outputs": [
    {
     "name": "stdout",
     "output_type": "stream",
     "text": [
      "NO\n",
      "YES\n",
      "NO\n",
      "YES\n",
      "NO\n",
      "YES\n",
      "YES\n",
      "YES\n",
      "NO\n",
      "NO\n",
      "NO\n"
     ]
    }
   ],
   "source": [
    "ss = set()\n",
    "\n",
    "for i in s:\n",
    "    if i in ss:\n",
    "        print('YES')\n",
    "    else:\n",
    "        print('NO')\n",
    "        ss.add(i)"
   ]
  },
  {
   "cell_type": "code",
   "execution_count": null,
   "id": "9d262a3b",
   "metadata": {},
   "outputs": [],
   "source": []
  }
 ],
 "metadata": {
  "kernelspec": {
   "display_name": "Python 3 (ipykernel)",
   "language": "python",
   "name": "python3"
  },
  "language_info": {
   "codemirror_mode": {
    "name": "ipython",
    "version": 3
   },
   "file_extension": ".py",
   "mimetype": "text/x-python",
   "name": "python",
   "nbconvert_exporter": "python",
   "pygments_lexer": "ipython3",
   "version": "3.10.2"
  }
 },
 "nbformat": 4,
 "nbformat_minor": 5
}
