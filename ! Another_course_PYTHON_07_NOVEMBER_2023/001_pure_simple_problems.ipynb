{
 "cells": [
  {
   "cell_type": "markdown",
   "id": "e563dbeb",
   "metadata": {},
   "source": [
    "# Задача №1"
   ]
  },
  {
   "cell_type": "code",
   "execution_count": 10,
   "id": "dc102386",
   "metadata": {},
   "outputs": [
    {
     "name": "stdout",
     "output_type": "stream",
     "text": [
      "3\n",
      "8\n"
     ]
    }
   ],
   "source": [
    "a, b = int(input()), int(input())"
   ]
  },
  {
   "cell_type": "code",
   "execution_count": 19,
   "id": "8d58c6c9",
   "metadata": {},
   "outputs": [
    {
     "name": "stdout",
     "output_type": "stream",
     "text": [
      "11\n",
      "-5\n",
      "24\n",
      "0.375\n",
      "0\n",
      "3\n",
      "32768.90100384814\n"
     ]
    }
   ],
   "source": [
    "import math\n",
    "print(a + b)\n",
    "print(a - b)\n",
    "print(a * b)\n",
    "print(a / b)\n",
    "print(a // b)\n",
    "print(a % b)\n",
    "print(math.sqrt(a**10 + b**10))"
   ]
  },
  {
   "cell_type": "code",
   "execution_count": null,
   "id": "a8c19150",
   "metadata": {},
   "outputs": [],
   "source": []
  },
  {
   "cell_type": "markdown",
   "id": "6f274d1d",
   "metadata": {},
   "source": [
    "# Задача №2"
   ]
  },
  {
   "cell_type": "code",
   "execution_count": 21,
   "id": "d0230af6",
   "metadata": {},
   "outputs": [
    {
     "name": "stdout",
     "output_type": "stream",
     "text": [
      "65\n",
      "1.75\n"
     ]
    }
   ],
   "source": [
    "massa = float(input())\n",
    "height = float(input())"
   ]
  },
  {
   "cell_type": "code",
   "execution_count": 22,
   "id": "fa8343b2",
   "metadata": {},
   "outputs": [],
   "source": [
    "imt = massa/height**2"
   ]
  },
  {
   "cell_type": "code",
   "execution_count": 23,
   "id": "ab9c8c25",
   "metadata": {},
   "outputs": [
    {
     "data": {
      "text/plain": [
       "21.224489795918366"
      ]
     },
     "execution_count": 23,
     "metadata": {},
     "output_type": "execute_result"
    }
   ],
   "source": [
    "imt"
   ]
  },
  {
   "cell_type": "code",
   "execution_count": 25,
   "id": "8097702c",
   "metadata": {},
   "outputs": [
    {
     "name": "stdout",
     "output_type": "stream",
     "text": [
      "Оптимальная масса\n"
     ]
    }
   ],
   "source": [
    "if imt >= 18.5 and imt <= 25:\n",
    "    print('Оптимальная масса')\n",
    "elif imt < 18.5:\n",
    "    print('Недостаточная масса')\n",
    "elif imt > 25:\n",
    "    print('Избыточная масса')"
   ]
  },
  {
   "cell_type": "code",
   "execution_count": null,
   "id": "a18cd364",
   "metadata": {},
   "outputs": [],
   "source": []
  },
  {
   "cell_type": "markdown",
   "id": "6bc7efe1",
   "metadata": {},
   "source": [
    "# Задача №3"
   ]
  },
  {
   "cell_type": "code",
   "execution_count": 27,
   "id": "873b4591",
   "metadata": {},
   "outputs": [
    {
     "name": "stdout",
     "output_type": "stream",
     "text": [
      "Привет, как дела?\n"
     ]
    }
   ],
   "source": [
    "s = input()"
   ]
  },
  {
   "cell_type": "code",
   "execution_count": 33,
   "id": "051d6674",
   "metadata": {},
   "outputs": [
    {
     "name": "stdout",
     "output_type": "stream",
     "text": [
      "10 р. 20 коп.\n"
     ]
    }
   ],
   "source": [
    "summa = len(s) * 60\n",
    "rub = summa // 100\n",
    "kop = summa % 100\n",
    "\n",
    "print(rub, 'р.', kop, 'коп.')"
   ]
  },
  {
   "cell_type": "code",
   "execution_count": null,
   "id": "1a5aa0dc",
   "metadata": {},
   "outputs": [],
   "source": []
  },
  {
   "cell_type": "markdown",
   "id": "1787e478",
   "metadata": {},
   "source": [
    "# Задача №4"
   ]
  },
  {
   "cell_type": "code",
   "execution_count": 37,
   "id": "e822825a",
   "metadata": {},
   "outputs": [
    {
     "name": "stdout",
     "output_type": "stream",
     "text": [
      "zdfg sfg sdfg\n",
      "3\n"
     ]
    }
   ],
   "source": [
    "print(len(input().split()))"
   ]
  },
  {
   "cell_type": "code",
   "execution_count": null,
   "id": "ca53e6d9",
   "metadata": {},
   "outputs": [],
   "source": []
  },
  {
   "cell_type": "markdown",
   "id": "2d236aca",
   "metadata": {},
   "source": [
    "# Задача №5"
   ]
  },
  {
   "cell_type": "code",
   "execution_count": 38,
   "id": "6c32fc68",
   "metadata": {},
   "outputs": [],
   "source": [
    "signs = [\"Дракон\", \"Змея\", \"Лошадь\", \"Овца\", \"Обезьяна\", \"Петух\", \"Собака\", \"Свинья\", \"Крыса\", \"Бык\", \"Тигр\", \"Заяц\"]"
   ]
  },
  {
   "cell_type": "code",
   "execution_count": 39,
   "id": "be719526",
   "metadata": {},
   "outputs": [
    {
     "name": "stdout",
     "output_type": "stream",
     "text": [
      "2000\n"
     ]
    }
   ],
   "source": [
    "year = int(input())"
   ]
  },
  {
   "cell_type": "code",
   "execution_count": 47,
   "id": "dcc12ffa",
   "metadata": {},
   "outputs": [],
   "source": [
    "lst = []\n",
    "for i in range(12):\n",
    "    #print((2000 + i) %12)\n",
    "    lst.append((2000 + i) %12)"
   ]
  },
  {
   "cell_type": "code",
   "execution_count": 48,
   "id": "b627495a",
   "metadata": {},
   "outputs": [
    {
     "data": {
      "text/plain": [
       "[8, 9, 10, 11, 0, 1, 2, 3, 4, 5, 6, 7]"
      ]
     },
     "execution_count": 48,
     "metadata": {},
     "output_type": "execute_result"
    }
   ],
   "source": [
    "lst"
   ]
  },
  {
   "cell_type": "code",
   "execution_count": 51,
   "id": "3acfa13a",
   "metadata": {},
   "outputs": [
    {
     "name": "stdout",
     "output_type": "stream",
     "text": [
      "Дракон\n"
     ]
    }
   ],
   "source": [
    "for i in lst:\n",
    "    if year % 12 == i:\n",
    "        indx = lst.index(i)\n",
    "print(signs[indx])"
   ]
  },
  {
   "cell_type": "code",
   "execution_count": 54,
   "id": "a6193108",
   "metadata": {},
   "outputs": [
    {
     "name": "stdout",
     "output_type": "stream",
     "text": [
      "Дракон\n"
     ]
    }
   ],
   "source": [
    "# Всё гораздо проще, но с перестановкой знаков:\n",
    "    \n",
    "animals = ['Обезьяна', 'Петух', 'Собака', 'Свинья', 'Крыса', 'Бык', 'Тигр', 'Заяц', 'Дракон', 'Змея', 'Лошадь', 'Овца']\n",
    "\n",
    "print(animals[year % 12])"
   ]
  },
  {
   "cell_type": "code",
   "execution_count": null,
   "id": "8f0184a1",
   "metadata": {},
   "outputs": [],
   "source": []
  },
  {
   "cell_type": "markdown",
   "id": "fc74fce4",
   "metadata": {},
   "source": [
    "# Задача №6"
   ]
  },
  {
   "cell_type": "code",
   "execution_count": 74,
   "id": "34e23c96",
   "metadata": {},
   "outputs": [
    {
     "name": "stdout",
     "output_type": "stream",
     "text": [
      "25000\n",
      "52\n"
     ]
    }
   ],
   "source": [
    "n = input()\n",
    "if len(n) == 5:\n",
    "    print(int(n[::-1]))\n",
    "else:\n",
    "    print(int(n[0] + n[1:][::-1]))"
   ]
  },
  {
   "cell_type": "code",
   "execution_count": null,
   "id": "91cdb157",
   "metadata": {},
   "outputs": [],
   "source": []
  },
  {
   "cell_type": "markdown",
   "id": "a128e659",
   "metadata": {},
   "source": [
    "# Задача №7"
   ]
  },
  {
   "cell_type": "code",
   "execution_count": 86,
   "id": "6cc2af82",
   "metadata": {},
   "outputs": [
    {
     "name": "stdout",
     "output_type": "stream",
     "text": [
      "12000000\n"
     ]
    }
   ],
   "source": [
    "n = input()"
   ]
  },
  {
   "cell_type": "code",
   "execution_count": 87,
   "id": "f5ba3063",
   "metadata": {},
   "outputs": [
    {
     "data": {
      "text/plain": [
       "'12000000'"
      ]
     },
     "execution_count": 87,
     "metadata": {},
     "output_type": "execute_result"
    }
   ],
   "source": [
    "n"
   ]
  },
  {
   "cell_type": "code",
   "execution_count": 88,
   "id": "482f8c01",
   "metadata": {},
   "outputs": [
    {
     "data": {
      "text/plain": [
       "2"
      ]
     },
     "execution_count": 88,
     "metadata": {},
     "output_type": "execute_result"
    }
   ],
   "source": [
    "len(n)%3"
   ]
  },
  {
   "cell_type": "code",
   "execution_count": 99,
   "id": "5bd5ab02",
   "metadata": {},
   "outputs": [],
   "source": [
    "nn = n[-6:]"
   ]
  },
  {
   "cell_type": "code",
   "execution_count": 100,
   "id": "2147fc51",
   "metadata": {},
   "outputs": [
    {
     "name": "stdout",
     "output_type": "stream",
     "text": [
      "000000\n"
     ]
    }
   ],
   "source": [
    "print(nn)"
   ]
  },
  {
   "cell_type": "code",
   "execution_count": null,
   "id": "7bb363dc",
   "metadata": {},
   "outputs": [],
   "source": []
  },
  {
   "cell_type": "code",
   "execution_count": 171,
   "id": "dcb5f9ac",
   "metadata": {},
   "outputs": [
    {
     "name": "stdout",
     "output_type": "stream",
     "text": [
      "1000000\n",
      "1,000,000\n"
     ]
    }
   ],
   "source": [
    "n = input()\n",
    "\n",
    "if len(n) > 3 and len(n)%3 != 0:\n",
    "    nn = n[:len(n)%3] + ','\n",
    "    n = n[len(n)%3:]\n",
    "    \n",
    "    \n",
    "        \n",
    "    for i in range(len(n[len(n)%3:])//3):\n",
    "\n",
    "        nn += n[:3] + ','\n",
    "                \n",
    "        n = n[3:]\n",
    "        \n",
    "    print(nn[:-1])\n",
    "\n",
    "elif len(n) > 3 and len(n)%3 == 0:\n",
    "    nn = n[:len(n)%3]\n",
    "    n = n[len(n)%3:]\n",
    "    \n",
    "    \n",
    "        \n",
    "    for i in range(len(n[len(n)%3:])//3):\n",
    "\n",
    "        nn += n[:3] + ','\n",
    "                \n",
    "        n = n[3:]        \n",
    "        \n",
    "        \n",
    "    print(nn[:-1])\n",
    "    \n",
    "else:\n",
    "    print(n)\n"
   ]
  },
  {
   "cell_type": "code",
   "execution_count": null,
   "id": "c4657423",
   "metadata": {},
   "outputs": [],
   "source": []
  },
  {
   "cell_type": "markdown",
   "id": "53be9ba0",
   "metadata": {},
   "source": [
    "# Задача №8"
   ]
  },
  {
   "cell_type": "code",
   "execution_count": null,
   "id": "c70b389e",
   "metadata": {},
   "outputs": [],
   "source": [
    "n человек, пронумерованных числами от 1\n",
    "1 до n, стоят в кругу. Они начинают считаться, каждый \n",
    "\n",
    "k-й по счету человек выбывает из круга, после чего счет продолжается со следующего за ним человека. \n",
    "Напишите программу, определяющую номер человека, который останется в кругу последним.\n",
    "\n",
    "Формат входных данных:\n",
    "На вход программе подаются два числа \n",
    "\n",
    "n и k, записанные на отдельных строках.\n",
    "\n",
    "Формат выходных данных\n",
    "Программа должна вывести одно число – номер человека, который останется в кругу последним."
   ]
  },
  {
   "cell_type": "code",
   "execution_count": 193,
   "id": "da7ad4fb",
   "metadata": {},
   "outputs": [
    {
     "name": "stdout",
     "output_type": "stream",
     "text": [
      "7\n",
      "5\n"
     ]
    }
   ],
   "source": [
    "n = int(input())\n",
    "k = int(input())"
   ]
  },
  {
   "cell_type": "code",
   "execution_count": 307,
   "id": "2098887e",
   "metadata": {},
   "outputs": [],
   "source": [
    "lst = []\n",
    "\n",
    "for i in range(n):\n",
    "    lst.append(i+1)"
   ]
  },
  {
   "cell_type": "code",
   "execution_count": 308,
   "id": "97b53960",
   "metadata": {},
   "outputs": [
    {
     "data": {
      "text/plain": [
       "[1, 2, 3, 4, 5, 6, 7]"
      ]
     },
     "execution_count": 308,
     "metadata": {},
     "output_type": "execute_result"
    }
   ],
   "source": [
    "lst"
   ]
  },
  {
   "cell_type": "code",
   "execution_count": 312,
   "id": "9daa1017",
   "metadata": {},
   "outputs": [
    {
     "data": {
      "text/plain": [
       "5"
      ]
     },
     "execution_count": 312,
     "metadata": {},
     "output_type": "execute_result"
    }
   ],
   "source": [
    "lst[k-1]"
   ]
  },
  {
   "cell_type": "code",
   "execution_count": 313,
   "id": "b2beac76",
   "metadata": {},
   "outputs": [
    {
     "name": "stdout",
     "output_type": "stream",
     "text": [
      "[6, 7, 1, 2, 3, 4]\n",
      "[4, 6, 7, 1, 2]\n",
      "[4, 6, 7, 1]\n"
     ]
    },
    {
     "ename": "IndexError",
     "evalue": "list index out of range",
     "output_type": "error",
     "traceback": [
      "\u001b[1;31m---------------------------------------------------------------------------\u001b[0m",
      "\u001b[1;31mIndexError\u001b[0m                                Traceback (most recent call last)",
      "Cell \u001b[1;32mIn[313], line 3\u001b[0m\n\u001b[0;32m      1\u001b[0m \u001b[38;5;28;01mwhile\u001b[39;00m \u001b[38;5;28mlen\u001b[39m(lst) \u001b[38;5;241m>\u001b[39m \u001b[38;5;241m1\u001b[39m:\n\u001b[0;32m      2\u001b[0m     \u001b[38;5;28;01mfor\u001b[39;00m i \u001b[38;5;129;01min\u001b[39;00m \u001b[38;5;28mrange\u001b[39m(\u001b[38;5;28mlen\u001b[39m(lst)):\n\u001b[1;32m----> 3\u001b[0m         lst\u001b[38;5;241m.\u001b[39mremove(\u001b[43mlst\u001b[49m\u001b[43m[\u001b[49m\u001b[43mk\u001b[49m\u001b[38;5;241;43m-\u001b[39;49m\u001b[38;5;241;43m1\u001b[39;49m\u001b[43m]\u001b[49m)\n\u001b[0;32m      4\u001b[0m         lst \u001b[38;5;241m=\u001b[39m lst[k\u001b[38;5;241m-\u001b[39m\u001b[38;5;241m1\u001b[39m:] \u001b[38;5;241m+\u001b[39m lst[\u001b[38;5;241m0\u001b[39m:k\u001b[38;5;241m-\u001b[39m\u001b[38;5;241m1\u001b[39m]\n\u001b[0;32m      5\u001b[0m         \u001b[38;5;28mprint\u001b[39m(lst)\n",
      "\u001b[1;31mIndexError\u001b[0m: list index out of range"
     ]
    }
   ],
   "source": [
    "while len(lst) > 1:\n",
    "    for i in range(len(lst)):\n",
    "        lst.remove(lst[k-1])\n",
    "        lst = lst[k-1:] + lst[0:k-1]\n",
    "        print(lst)\n",
    "        "
   ]
  },
  {
   "cell_type": "code",
   "execution_count": null,
   "id": "d6be52d8",
   "metadata": {},
   "outputs": [],
   "source": []
  },
  {
   "cell_type": "code",
   "execution_count": null,
   "id": "9e5caafe",
   "metadata": {},
   "outputs": [],
   "source": []
  }
 ],
 "metadata": {
  "kernelspec": {
   "display_name": "Python 3 (ipykernel)",
   "language": "python",
   "name": "python3"
  },
  "language_info": {
   "codemirror_mode": {
    "name": "ipython",
    "version": 3
   },
   "file_extension": ".py",
   "mimetype": "text/x-python",
   "name": "python",
   "nbconvert_exporter": "python",
   "pygments_lexer": "ipython3",
   "version": "3.10.2"
  }
 },
 "nbformat": 4,
 "nbformat_minor": 5
}
