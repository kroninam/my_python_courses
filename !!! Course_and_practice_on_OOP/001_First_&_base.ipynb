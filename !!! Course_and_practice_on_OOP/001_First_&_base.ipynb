{
 "cells": [
  {
   "cell_type": "code",
   "execution_count": 37,
   "id": "3db4efaf",
   "metadata": {},
   "outputs": [],
   "source": [
    "# Мои решения задач с курса Егорова Артема на степике:\n",
    "    \n",
    "# https://stepik.org/course/114354"
   ]
  },
  {
   "cell_type": "markdown",
   "id": "73201a18",
   "metadata": {},
   "source": [
    "# Задача №1"
   ]
  },
  {
   "cell_type": "code",
   "execution_count": null,
   "id": "f8c6f329",
   "metadata": {},
   "outputs": [],
   "source": [
    "# Создайте класс Robot, в котором реализованы:\n",
    "\n",
    "# Метод say_hello , печатающий на экран фразу «Hello, human! My name is C-3PO»\n",
    " \n",
    "# Метод say_bye ,  печатающий на экран фразу «See u later alligator»\n",
    "# После определения класса создайте 2 экземпляра и сохраните их в переменные  c3po и r2d2\n",
    "\n",
    "# Затем вызовите у переменной  c3po  метод say_hello , а затем метод say_bye \n",
    "\n",
    "# И то же самое сделайте с переменной r2d2:  вызовите метод say_hello , потом — метод say_bye "
   ]
  },
  {
   "cell_type": "code",
   "execution_count": 43,
   "id": "74e2c596",
   "metadata": {},
   "outputs": [
    {
     "name": "stdout",
     "output_type": "stream",
     "text": [
      "Hello, human! My name is C-3PO\n",
      "See u later alligator\n",
      "Hello, human! My name is C-3PO\n",
      "See u later alligator\n"
     ]
    }
   ],
   "source": [
    "class Robot:\n",
    "    \n",
    "    def say_hello(self):\n",
    "        print('Hello, human! My name is C-3PO')\n",
    "        \n",
    "    def say_bye(self):\n",
    "        print('See u later alligator')\n",
    "        \n",
    "        \n",
    "c3po = Robot()\n",
    "r2d2 = Robot()\n",
    "\n",
    "c3po.say_hello()\n",
    "c3po.say_bye()\n",
    "\n",
    "r2d2.say_hello()\n",
    "r2d2.say_bye()"
   ]
  },
  {
   "cell_type": "code",
   "execution_count": null,
   "id": "823a990a",
   "metadata": {},
   "outputs": [],
   "source": []
  },
  {
   "cell_type": "markdown",
   "id": "de3bae1f",
   "metadata": {},
   "source": [
    "# Задача №2"
   ]
  },
  {
   "cell_type": "code",
   "execution_count": null,
   "id": "bfd9d218",
   "metadata": {},
   "outputs": [],
   "source": [
    "# В предыдущей задаче вы могли обратить внимание на то, что выводится всегда одно и \n",
    "# то же имя робота в методе say_hello . Давайте это исправим при помощи атрибута \n",
    "# экземпляра name . Для этого переопределяем класс Robot, в котором должны быть реализованы:\n",
    "\n",
    "# Метод set_name , принимающий имя робота и сохраняющий его в атрибуте экземпляра name \n",
    " \n",
    "# Метод say_hello . Метод должен проверить, есть ли у ЭК атрибут name . \n",
    "# Если атрибут name  присутствует, необходимо напечатать фразу «Hello, human! My name is <name>». \n",
    "# Если атрибут name  отсутствует у экземпляра, печатайте сообщение «У робота нет имени» \n",
    " \n",
    "# Метод say_bye ,  печатающий на экран фразу «See u later alligator»\n",
    "# Необходимо написать только определение класса Robot"
   ]
  },
  {
   "cell_type": "code",
   "execution_count": 76,
   "id": "d607588f",
   "metadata": {},
   "outputs": [
    {
     "name": "stdout",
     "output_type": "stream",
     "text": [
      "Hello, human! My name is R\n",
      "See u later alligator\n",
      "\n",
      "У робота нет имени\n"
     ]
    }
   ],
   "source": [
    "class Robot:\n",
    "    \n",
    "    def set_name(self, name):\n",
    "        self.name = name        \n",
    "        \n",
    "    def say_hello(self):\n",
    "        \"\"\" в getattr, hasattr и даже delattr name - это название искомого атрибута В ВИДЕ СТРОКИ:\"\"\"\n",
    "        if hasattr(self, 'name'):\n",
    "            print(f'Hello, human! My name is {self.name}')\n",
    "        else:\n",
    "            print('У робота нет имени')\n",
    "            \n",
    "    def say_bye(self):\n",
    "        print('See u later alligator')\n",
    "        \n",
    "r = Robot()\n",
    "r.set_name('R')\n",
    "r.say_hello()\n",
    "r.say_bye()\n",
    "print()\n",
    "r = Robot()\n",
    "r.say_hello()"
   ]
  },
  {
   "cell_type": "code",
   "execution_count": null,
   "id": "0b21110d",
   "metadata": {},
   "outputs": [],
   "source": []
  },
  {
   "cell_type": "code",
   "execution_count": null,
   "id": "3c49d1ba",
   "metadata": {},
   "outputs": [],
   "source": []
  },
  {
   "cell_type": "code",
   "execution_count": null,
   "id": "ec518cae",
   "metadata": {},
   "outputs": [],
   "source": []
  },
  {
   "cell_type": "code",
   "execution_count": null,
   "id": "4c5e966a",
   "metadata": {},
   "outputs": [],
   "source": []
  },
  {
   "cell_type": "code",
   "execution_count": null,
   "id": "43bcabb7",
   "metadata": {},
   "outputs": [],
   "source": []
  }
 ],
 "metadata": {
  "kernelspec": {
   "display_name": "Python 3 (ipykernel)",
   "language": "python",
   "name": "python3"
  },
  "language_info": {
   "codemirror_mode": {
    "name": "ipython",
    "version": 3
   },
   "file_extension": ".py",
   "mimetype": "text/x-python",
   "name": "python",
   "nbconvert_exporter": "python",
   "pygments_lexer": "ipython3",
   "version": "3.10.0"
  }
 },
 "nbformat": 4,
 "nbformat_minor": 5
}
