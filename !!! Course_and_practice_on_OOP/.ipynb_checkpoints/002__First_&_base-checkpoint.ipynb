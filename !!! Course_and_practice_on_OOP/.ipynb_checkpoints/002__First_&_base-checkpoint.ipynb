{
 "cells": [
  {
   "cell_type": "code",
   "execution_count": 13,
   "id": "3fa06831",
   "metadata": {},
   "outputs": [
    {
     "name": "stdout",
     "output_type": "stream",
     "text": [
      "2023-10-08 17:13:47.926363\n"
     ]
    }
   ],
   "source": [
    "from datetime import datetime\n",
    "\n",
    "now = datetime.now()\n",
    "print(now)"
   ]
  },
  {
   "cell_type": "code",
   "execution_count": null,
   "id": "8186f6d1",
   "metadata": {},
   "outputs": [],
   "source": []
  },
  {
   "cell_type": "markdown",
   "id": "23a4c914",
   "metadata": {},
   "source": [
    "# Задача"
   ]
  },
  {
   "cell_type": "code",
   "execution_count": null,
   "id": "72e46727",
   "metadata": {},
   "outputs": [],
   "source": [
    "Создайте класс Counter, экземпляры которого будут подсчитывать внутри себя значения.\n",
    "\n",
    "В классе Counter нужно определить:\n",
    "\n",
    "Метод start_from, который принимает один необязательный аргумент. Значение, \n",
    "с которого начинается подсчет, по умолчанию равно 0.\n",
    " \n",
    "Метод increment, который увеличивает счетчик на 1.\n",
    " \n",
    "Метод display, который печатает фразу \"Текущее значение счетчика = <value>\".\n",
    " \n",
    "Метод reset,  который обнуляет накопившееся значение счетчика."
   ]
  },
  {
   "cell_type": "code",
   "execution_count": 16,
   "id": "93ce0a0e",
   "metadata": {},
   "outputs": [],
   "source": [
    "class Counter:\n",
    "    \n",
    "#     def __init__(self):\n",
    "#         self.count = 0\n",
    "    \n",
    "    def start_from(self, start = 0):\n",
    "        self.count = start\n",
    "        \n",
    "        \n",
    "    def increment(self):\n",
    "        self.count += 1\n",
    "        \n",
    "    def display(self):\n",
    "        print(f'Текущее значение счетчика = {self.count}')\n",
    "        \n",
    "    def reset(self):\n",
    "        self.count = 0"
   ]
  },
  {
   "cell_type": "code",
   "execution_count": 17,
   "id": "3d44fb54",
   "metadata": {},
   "outputs": [
    {
     "name": "stdout",
     "output_type": "stream",
     "text": [
      "Текущее значение счетчика = 46\n",
      "Текущее значение счетчика = 47\n",
      "Текущее значение счетчика = 0\n",
      "Текущее значение счетчика = 1\n",
      "Текущее значение счетчика = 0\n",
      "Текущее значение счетчика = 1\n"
     ]
    }
   ],
   "source": [
    "# Ниже код для проверки класса Counter \n",
    "\n",
    "c1 = Counter()\n",
    "c2 = Counter()\n",
    "\n",
    "assert isinstance(c1, Counter)\n",
    "assert isinstance(c2, Counter)\n",
    "assert c1.__dict__ == {}\n",
    "assert c2.__dict__ == {}\n",
    "\n",
    "c1.start_from(45)\n",
    "assert len(c1.__dict__) == 1\n",
    "c1.increment()\n",
    "c1.display()  # печатает 46\n",
    "c1.increment()\n",
    "c1.display()  # печатает 47\n",
    "\n",
    "c2.start_from()\n",
    "c2.display()  # печатает 0\n",
    "c2.increment()\n",
    "c2.display()  # печатает 1\n",
    "\n",
    "c1.reset()  # обнулили с1, но с2 не должен меняться\n",
    "c1.display()  # печатает 0\n",
    "\n",
    "c2.display()  # попрежнему печатает 1"
   ]
  },
  {
   "cell_type": "code",
   "execution_count": null,
   "id": "b8e258c7",
   "metadata": {},
   "outputs": [],
   "source": []
  },
  {
   "cell_type": "markdown",
   "id": "050806fe",
   "metadata": {},
   "source": [
    "# Задача "
   ]
  },
  {
   "cell_type": "code",
   "execution_count": null,
   "id": "4669ff83",
   "metadata": {},
   "outputs": [],
   "source": [
    "Создайте класс Constructor, в котором реализованы:\n",
    "\n",
    "Метод add_atribute , принимающий на вход название атрибута в виде строки \n",
    "и его значение.\n",
    "При помощи функции setattr необходимо создать или изменить \n",
    "атрибут для ЭК, у которого этот метод был вызван.\n",
    " \n",
    "Метод display ,  печатающий на экран словарь __dict__ у ЭК.\n",
    "Необходимо написать только определение класса Constructor"
   ]
  },
  {
   "cell_type": "code",
   "execution_count": 38,
   "id": "088fbc3d",
   "metadata": {},
   "outputs": [],
   "source": [
    "class Constructor:\n",
    "    \n",
    "    def add_atribute(self, name, value):\n",
    "        \n",
    "        setattr(self, name, value)\n",
    "#         self.name = name\n",
    "#         self.value = value   \n",
    "    \n",
    "    def display(self):\n",
    "        print(self.__dict__)"
   ]
  },
  {
   "cell_type": "code",
   "execution_count": 39,
   "id": "e7ce402b",
   "metadata": {},
   "outputs": [
    {
     "name": "stdout",
     "output_type": "stream",
     "text": [
      "{}\n",
      "{'color': 'red', 'width': 20}\n",
      "{}\n",
      "{'height': 100}\n",
      "{}\n",
      "{'a': 100, 'b': 1, 'c': 200}\n"
     ]
    }
   ],
   "source": [
    "# Ниже код для проверки класса Constructor \n",
    "\n",
    "obj1 = Constructor()\n",
    "assert obj1.__dict__ == {}\n",
    "obj1.display()\n",
    "obj1.add_atribute('color', 'red')\n",
    "assert obj1.color == 'red'\n",
    "obj1.add_atribute('width', 20)\n",
    "assert obj1.width == 20\n",
    "obj1.display()\n",
    "\n",
    "obj2 = Constructor()\n",
    "obj2.display()\n",
    "obj2.add_atribute('height', 100)\n",
    "assert obj2.height == 100\n",
    "obj2.display()\n",
    "\n",
    "obj3 = Constructor()\n",
    "obj3.display()\n",
    "obj3.add_atribute('a', 100)\n",
    "obj3.add_atribute('b', 300)\n",
    "obj3.add_atribute('c', 200)\n",
    "obj3.add_atribute('b', 1)\n",
    "assert obj3.__dict__ == {'a': 100, 'b': 1, 'c': 200}\n",
    "obj3.display()"
   ]
  },
  {
   "cell_type": "code",
   "execution_count": null,
   "id": "45db58f1",
   "metadata": {},
   "outputs": [],
   "source": []
  },
  {
   "cell_type": "code",
   "execution_count": null,
   "id": "ac1a73bb",
   "metadata": {},
   "outputs": [],
   "source": []
  },
  {
   "cell_type": "code",
   "execution_count": null,
   "id": "3e16a607",
   "metadata": {},
   "outputs": [],
   "source": []
  },
  {
   "cell_type": "code",
   "execution_count": null,
   "id": "2e577738",
   "metadata": {},
   "outputs": [],
   "source": []
  },
  {
   "cell_type": "code",
   "execution_count": null,
   "id": "6766c6fd",
   "metadata": {},
   "outputs": [],
   "source": []
  },
  {
   "cell_type": "code",
   "execution_count": null,
   "id": "0666ce72",
   "metadata": {},
   "outputs": [],
   "source": []
  },
  {
   "cell_type": "code",
   "execution_count": null,
   "id": "dcca77d6",
   "metadata": {},
   "outputs": [],
   "source": []
  },
  {
   "cell_type": "code",
   "execution_count": null,
   "id": "55fc560a",
   "metadata": {},
   "outputs": [],
   "source": []
  },
  {
   "cell_type": "code",
   "execution_count": null,
   "id": "c77a1bb0",
   "metadata": {},
   "outputs": [],
   "source": []
  },
  {
   "cell_type": "code",
   "execution_count": null,
   "id": "680aeea1",
   "metadata": {},
   "outputs": [],
   "source": []
  },
  {
   "cell_type": "code",
   "execution_count": null,
   "id": "ad96961e",
   "metadata": {},
   "outputs": [],
   "source": []
  },
  {
   "cell_type": "code",
   "execution_count": null,
   "id": "17b3cf45",
   "metadata": {},
   "outputs": [],
   "source": []
  },
  {
   "cell_type": "code",
   "execution_count": null,
   "id": "6cd4f923",
   "metadata": {},
   "outputs": [],
   "source": []
  },
  {
   "cell_type": "code",
   "execution_count": null,
   "id": "1870eb59",
   "metadata": {},
   "outputs": [],
   "source": []
  },
  {
   "cell_type": "code",
   "execution_count": null,
   "id": "eaccdb3d",
   "metadata": {},
   "outputs": [],
   "source": []
  }
 ],
 "metadata": {
  "kernelspec": {
   "display_name": "Python 3 (ipykernel)",
   "language": "python",
   "name": "python3"
  },
  "language_info": {
   "codemirror_mode": {
    "name": "ipython",
    "version": 3
   },
   "file_extension": ".py",
   "mimetype": "text/x-python",
   "name": "python",
   "nbconvert_exporter": "python",
   "pygments_lexer": "ipython3",
   "version": "3.10.0"
  }
 },
 "nbformat": 4,
 "nbformat_minor": 5
}
