{
 "cells": [
  {
   "cell_type": "code",
   "execution_count": 4,
   "id": "3904c749",
   "metadata": {},
   "outputs": [
    {
     "name": "stdout",
     "output_type": "stream",
     "text": [
      "1 2\n"
     ]
    }
   ],
   "source": [
    "a, b = map(int, input().split())"
   ]
  },
  {
   "cell_type": "code",
   "execution_count": 5,
   "id": "1bd547ec",
   "metadata": {},
   "outputs": [
    {
     "data": {
      "text/plain": [
       "1"
      ]
     },
     "execution_count": 5,
     "metadata": {},
     "output_type": "execute_result"
    }
   ],
   "source": [
    "a"
   ]
  },
  {
   "cell_type": "code",
   "execution_count": 6,
   "id": "e20f1ccc",
   "metadata": {},
   "outputs": [
    {
     "data": {
      "text/plain": [
       "2"
      ]
     },
     "execution_count": 6,
     "metadata": {},
     "output_type": "execute_result"
    }
   ],
   "source": [
    "b"
   ]
  },
  {
   "cell_type": "code",
   "execution_count": null,
   "id": "0c1da2cd",
   "metadata": {},
   "outputs": [],
   "source": []
  },
  {
   "cell_type": "code",
   "execution_count": 7,
   "id": "63915191",
   "metadata": {},
   "outputs": [],
   "source": [
    "a = 1984"
   ]
  },
  {
   "cell_type": "code",
   "execution_count": 15,
   "id": "41640c3a",
   "metadata": {},
   "outputs": [],
   "source": [
    "a_1 = a%10"
   ]
  },
  {
   "cell_type": "code",
   "execution_count": 16,
   "id": "be0bd4df",
   "metadata": {},
   "outputs": [
    {
     "data": {
      "text/plain": [
       "4"
      ]
     },
     "execution_count": 16,
     "metadata": {},
     "output_type": "execute_result"
    }
   ],
   "source": [
    "a_1"
   ]
  },
  {
   "cell_type": "code",
   "execution_count": 17,
   "id": "36d115ff",
   "metadata": {},
   "outputs": [
    {
     "data": {
      "text/plain": [
       "198"
      ]
     },
     "execution_count": 17,
     "metadata": {},
     "output_type": "execute_result"
    }
   ],
   "source": [
    "a//10"
   ]
  },
  {
   "cell_type": "code",
   "execution_count": null,
   "id": "5fe4e52a",
   "metadata": {},
   "outputs": [],
   "source": []
  },
  {
   "cell_type": "code",
   "execution_count": null,
   "id": "15b75b1f",
   "metadata": {},
   "outputs": [],
   "source": []
  },
  {
   "cell_type": "code",
   "execution_count": null,
   "id": "22748f63",
   "metadata": {},
   "outputs": [],
   "source": []
  },
  {
   "cell_type": "code",
   "execution_count": 33,
   "id": "64cc0334",
   "metadata": {},
   "outputs": [],
   "source": [
    "n = 129700"
   ]
  },
  {
   "cell_type": "code",
   "execution_count": null,
   "id": "2b53da93",
   "metadata": {},
   "outputs": [],
   "source": []
  },
  {
   "cell_type": "code",
   "execution_count": 34,
   "id": "70c3f6dd",
   "metadata": {},
   "outputs": [
    {
     "data": {
      "text/plain": [
       "2161"
      ]
     },
     "execution_count": 34,
     "metadata": {},
     "output_type": "execute_result"
    }
   ],
   "source": [
    "m = n//60 # минуты c часами\n",
    "m"
   ]
  },
  {
   "cell_type": "code",
   "execution_count": 35,
   "id": "f629a15d",
   "metadata": {},
   "outputs": [
    {
     "data": {
      "text/plain": [
       "1"
      ]
     },
     "execution_count": 35,
     "metadata": {},
     "output_type": "execute_result"
    }
   ],
   "source": [
    "min = m%60 # минуты\n",
    "min"
   ]
  },
  {
   "cell_type": "code",
   "execution_count": 36,
   "id": "2caab705",
   "metadata": {},
   "outputs": [
    {
     "data": {
      "text/plain": [
       "40"
      ]
     },
     "execution_count": 36,
     "metadata": {},
     "output_type": "execute_result"
    }
   ],
   "source": [
    "sec = n%60 # секунды\n",
    "sec"
   ]
  },
  {
   "cell_type": "code",
   "execution_count": 43,
   "id": "dd2c33fe",
   "metadata": {},
   "outputs": [
    {
     "data": {
      "text/plain": [
       "36"
      ]
     },
     "execution_count": 43,
     "metadata": {},
     "output_type": "execute_result"
    }
   ],
   "source": [
    "hours = m//60 # часы\n",
    "hours"
   ]
  },
  {
   "cell_type": "code",
   "execution_count": 38,
   "id": "eff8bdf4",
   "metadata": {},
   "outputs": [
    {
     "name": "stdout",
     "output_type": "stream",
     "text": [
      "0000000050\n"
     ]
    }
   ],
   "source": [
    "# Метод zfill в помощь:\n",
    "\n",
    "txt = \"50\"\n",
    "\n",
    "x = txt.zfill(10)\n",
    "\n",
    "print(x)"
   ]
  },
  {
   "cell_type": "code",
   "execution_count": 41,
   "id": "49336db2",
   "metadata": {},
   "outputs": [
    {
     "name": "stdout",
     "output_type": "stream",
     "text": [
      "36:01:40\n"
     ]
    }
   ],
   "source": [
    "print(str(hours)+':'+str(min).zfill(2)+':'+str(sec).zfill(2))"
   ]
  },
  {
   "cell_type": "code",
   "execution_count": null,
   "id": "a47109e4",
   "metadata": {},
   "outputs": [],
   "source": []
  },
  {
   "cell_type": "code",
   "execution_count": 45,
   "id": "cb7b0c7c",
   "metadata": {},
   "outputs": [
    {
     "data": {
      "text/plain": [
       "1"
      ]
     },
     "execution_count": 45,
     "metadata": {},
     "output_type": "execute_result"
    }
   ],
   "source": [
    "hours//24"
   ]
  },
  {
   "cell_type": "code",
   "execution_count": null,
   "id": "ef43c0ac",
   "metadata": {},
   "outputs": [],
   "source": []
  },
  {
   "cell_type": "code",
   "execution_count": null,
   "id": "1d530ef3",
   "metadata": {},
   "outputs": [],
   "source": [
    "Вводятся два трёхзначных числа. Составить из них три двузначных числа \n",
    "по следующему принципу: первое число состоит из цифр сотен первого и \n",
    "    второго числа, второе - из цифр десятков, третье - из единиц. Затем \n",
    "    найти сумму полученных чисел. На экран вывести квадратный корень \n",
    "    из вычисленной суммы.\n",
    "\n",
    "Например, даны числа 123 и 456. Из них составляем числа 14, 25 и 36. \n",
    "Сумма этих чисел равна 14 + 25 + 36 = 75, квадратный корень из этого \n",
    "числа 8.660254037844387"
   ]
  },
  {
   "cell_type": "code",
   "execution_count": 46,
   "id": "2e061d9c",
   "metadata": {},
   "outputs": [
    {
     "name": "stdout",
     "output_type": "stream",
     "text": [
      "123\n",
      "456\n"
     ]
    }
   ],
   "source": [
    "a = input()\n",
    "b = input()\n",
    "\n",
    "s_1 = int(a[0]+b[0])\n",
    "s_2 = int(a[1]+b[1])\n",
    "s_3 = int(a[2]+b[2])\n",
    "\n",
    "summa = s_1+s_2+s_3"
   ]
  },
  {
   "cell_type": "code",
   "execution_count": 47,
   "id": "ac14fc73",
   "metadata": {},
   "outputs": [
    {
     "data": {
      "text/plain": [
       "8.660254037844387"
      ]
     },
     "execution_count": 47,
     "metadata": {},
     "output_type": "execute_result"
    }
   ],
   "source": [
    "summa**0.5"
   ]
  },
  {
   "cell_type": "code",
   "execution_count": null,
   "id": "ef05bc8c",
   "metadata": {},
   "outputs": [],
   "source": []
  },
  {
   "cell_type": "code",
   "execution_count": null,
   "id": "fde7ffd3",
   "metadata": {},
   "outputs": [],
   "source": []
  },
  {
   "cell_type": "code",
   "execution_count": 13,
   "id": "99e82c5a",
   "metadata": {},
   "outputs": [
    {
     "name": "stdout",
     "output_type": "stream",
     "text": [
      "552845\n",
      "a) 3\n",
      "б) 8\n",
      "в) 1000\n"
     ]
    }
   ],
   "source": [
    "n = int(input())\n",
    "\n",
    "last = n%10\n",
    "c = 0\n",
    "summa = 0\n",
    "pr = 1\n",
    "\n",
    "while n != 0:\n",
    "    \n",
    "    if n%10 > 5:\n",
    "        summa += n%10\n",
    "    if n%10 < 7:\n",
    "        pr *= n%10\n",
    "    \n",
    "\n",
    "    if n%10 == last:\n",
    "        c += 1\n",
    "        n = n // 10\n",
    "    else:\n",
    "        n = n // 10\n",
    "        \n",
    "\n",
    "        \n",
    "        \n",
    "        \n",
    "print('a)', c)\n",
    "if summa >0:\n",
    "    print('б)', summa)\n",
    "else:\n",
    "    print ('б)', -1)\n",
    "    \n",
    "if pr >0:\n",
    "    print('в)', pr)\n",
    "else:\n",
    "    print ('в)', -1)"
   ]
  },
  {
   "cell_type": "code",
   "execution_count": 2,
   "id": "d247fdc1",
   "metadata": {},
   "outputs": [],
   "source": [
    "n = 552845"
   ]
  },
  {
   "cell_type": "code",
   "execution_count": 5,
   "id": "6d662a8b",
   "metadata": {},
   "outputs": [
    {
     "data": {
      "text/plain": [
       "0"
      ]
     },
     "execution_count": 5,
     "metadata": {},
     "output_type": "execute_result"
    }
   ],
   "source": [
    "n // 1000000"
   ]
  },
  {
   "cell_type": "code",
   "execution_count": null,
   "id": "c966466a",
   "metadata": {},
   "outputs": [],
   "source": []
  },
  {
   "cell_type": "code",
   "execution_count": 16,
   "id": "46b4fb52",
   "metadata": {},
   "outputs": [
    {
     "data": {
      "text/plain": [
       "0"
      ]
     },
     "execution_count": 16,
     "metadata": {},
     "output_type": "execute_result"
    }
   ],
   "source": [
    "10//1000"
   ]
  },
  {
   "cell_type": "code",
   "execution_count": 17,
   "id": "f248fa65",
   "metadata": {},
   "outputs": [
    {
     "data": {
      "text/plain": [
       "0"
      ]
     },
     "execution_count": 17,
     "metadata": {},
     "output_type": "execute_result"
    }
   ],
   "source": [
    "0%2"
   ]
  },
  {
   "cell_type": "code",
   "execution_count": null,
   "id": "f91dd0de",
   "metadata": {},
   "outputs": [],
   "source": []
  },
  {
   "cell_type": "code",
   "execution_count": 22,
   "id": "55d8f8fa",
   "metadata": {},
   "outputs": [],
   "source": [
    "a = [1,2,3,4,5]"
   ]
  },
  {
   "cell_type": "code",
   "execution_count": 20,
   "id": "209cc24a",
   "metadata": {},
   "outputs": [
    {
     "data": {
      "text/plain": [
       "[1, 2, 3, 4]"
      ]
     },
     "execution_count": 20,
     "metadata": {},
     "output_type": "execute_result"
    }
   ],
   "source": [
    "a"
   ]
  },
  {
   "cell_type": "code",
   "execution_count": null,
   "id": "d066c224",
   "metadata": {},
   "outputs": [],
   "source": []
  },
  {
   "cell_type": "code",
   "execution_count": 42,
   "id": "a724eb86",
   "metadata": {},
   "outputs": [],
   "source": [
    "s = '1asdfывапfsd'"
   ]
  },
  {
   "cell_type": "code",
   "execution_count": 38,
   "id": "51bd9461",
   "metadata": {},
   "outputs": [
    {
     "data": {
      "text/plain": [
       "'abcdefghijklmnopqrstuvwxyz'"
      ]
     },
     "execution_count": 38,
     "metadata": {},
     "output_type": "execute_result"
    }
   ],
   "source": [
    "from string import ascii_lowercase, ascii_uppercase, digits\n",
    "\n",
    "ascii_lowercase"
   ]
  },
  {
   "cell_type": "code",
   "execution_count": 45,
   "id": "cbfaa274",
   "metadata": {},
   "outputs": [
    {
     "data": {
      "text/plain": [
       "'1'"
      ]
     },
     "execution_count": 45,
     "metadata": {},
     "output_type": "execute_result"
    }
   ],
   "source": [
    "str(s[0]).lower()"
   ]
  },
  {
   "cell_type": "code",
   "execution_count": null,
   "id": "3c0d77ec",
   "metadata": {},
   "outputs": [],
   "source": []
  },
  {
   "cell_type": "code",
   "execution_count": null,
   "id": "d4dccfa2",
   "metadata": {},
   "outputs": [],
   "source": []
  },
  {
   "cell_type": "markdown",
   "id": "6b6e86ec",
   "metadata": {},
   "source": [
    "# Задача"
   ]
  },
  {
   "cell_type": "code",
   "execution_count": null,
   "id": "80cba710",
   "metadata": {},
   "outputs": [],
   "source": [
    "Предположим, что сейчас невисокосный год, в котором 365 дней, и 1 января - \n",
    "это понедельник. Определите, каким днём недели (понедельником, вторником, средой и т.д.) \n",
    "будет являться k-ый по счёту день года. "
   ]
  },
  {
   "cell_type": "code",
   "execution_count": 63,
   "id": "4cfd645c",
   "metadata": {},
   "outputs": [],
   "source": [
    "from datetime import date\n",
    "import calendar"
   ]
  },
  {
   "cell_type": "code",
   "execution_count": 64,
   "id": "ea2b724c",
   "metadata": {},
   "outputs": [],
   "source": [
    "year = 2018"
   ]
  },
  {
   "cell_type": "code",
   "execution_count": 79,
   "id": "4417ffcb",
   "metadata": {},
   "outputs": [
    {
     "name": "stdout",
     "output_type": "stream",
     "text": [
      "                                  2018\n",
      "\n",
      "      January                   February                   March\n",
      "Mo Tu We Th Fr Sa Su      Mo Tu We Th Fr Sa Su      Mo Tu We Th Fr Sa Su\n",
      " 1  2  3  4  5  6  7                1  2  3  4                1  2  3  4\n",
      " 8  9 10 11 12 13 14       5  6  7  8  9 10 11       5  6  7  8  9 10 11\n",
      "15 16 17 18 19 20 21      12 13 14 15 16 17 18      12 13 14 15 16 17 18\n",
      "22 23 24 25 26 27 28      19 20 21 22 23 24 25      19 20 21 22 23 24 25\n",
      "29 30 31                  26 27 28                  26 27 28 29 30 31\n",
      "\n",
      "       April                      May                       June\n",
      "Mo Tu We Th Fr Sa Su      Mo Tu We Th Fr Sa Su      Mo Tu We Th Fr Sa Su\n",
      "                   1          1  2  3  4  5  6                   1  2  3\n",
      " 2  3  4  5  6  7  8       7  8  9 10 11 12 13       4  5  6  7  8  9 10\n",
      " 9 10 11 12 13 14 15      14 15 16 17 18 19 20      11 12 13 14 15 16 17\n",
      "16 17 18 19 20 21 22      21 22 23 24 25 26 27      18 19 20 21 22 23 24\n",
      "23 24 25 26 27 28 29      28 29 30 31               25 26 27 28 29 30\n",
      "30\n",
      "\n",
      "        July                     August                  September\n",
      "Mo Tu We Th Fr Sa Su      Mo Tu We Th Fr Sa Su      Mo Tu We Th Fr Sa Su\n",
      "                   1             1  2  3  4  5                      1  2\n",
      " 2  3  4  5  6  7  8       6  7  8  9 10 11 12       3  4  5  6  7  8  9\n",
      " 9 10 11 12 13 14 15      13 14 15 16 17 18 19      10 11 12 13 14 15 16\n",
      "16 17 18 19 20 21 22      20 21 22 23 24 25 26      17 18 19 20 21 22 23\n",
      "23 24 25 26 27 28 29      27 28 29 30 31            24 25 26 27 28 29 30\n",
      "30 31\n",
      "\n",
      "      October                   November                  December\n",
      "Mo Tu We Th Fr Sa Su      Mo Tu We Th Fr Sa Su      Mo Tu We Th Fr Sa Su\n",
      " 1  2  3  4  5  6  7                1  2  3  4                      1  2\n",
      " 8  9 10 11 12 13 14       5  6  7  8  9 10 11       3  4  5  6  7  8  9\n",
      "15 16 17 18 19 20 21      12 13 14 15 16 17 18      10 11 12 13 14 15 16\n",
      "22 23 24 25 26 27 28      19 20 21 22 23 24 25      17 18 19 20 21 22 23\n",
      "29 30 31                  26 27 28 29 30            24 25 26 27 28 29 30\n",
      "                                                    31\n",
      "\n"
     ]
    }
   ],
   "source": [
    "print(calendar.calendar(2018))"
   ]
  },
  {
   "cell_type": "code",
   "execution_count": 143,
   "id": "9332b0cd",
   "metadata": {},
   "outputs": [],
   "source": [
    "lst_1 = [31,28,31,30,31,30,31,31,30,31,30,31]"
   ]
  },
  {
   "cell_type": "code",
   "execution_count": 160,
   "id": "e018f7e2",
   "metadata": {},
   "outputs": [],
   "source": [
    "k = 365"
   ]
  },
  {
   "cell_type": "code",
   "execution_count": 161,
   "id": "16f7a9a4",
   "metadata": {},
   "outputs": [
    {
     "name": "stdout",
     "output_type": "stream",
     "text": [
      "12 31\n"
     ]
    }
   ],
   "source": [
    "q = -1\n",
    "kk = k\n",
    "while kk > 0:\n",
    "    q +=1\n",
    "    kk = kk - lst_1[q]    \n",
    "    #print(q, kk)\n",
    "    \n",
    "num_month = q+1\n",
    "num_day = lst_1[q] + kk\n",
    "print(num_month, num_day)\n"
   ]
  },
  {
   "cell_type": "code",
   "execution_count": 162,
   "id": "be2e41f8",
   "metadata": {},
   "outputs": [
    {
     "name": "stdout",
     "output_type": "stream",
     "text": [
      "Monday\n"
     ]
    }
   ],
   "source": [
    "print(date(2018, num_month, num_day).strftime('%A'))"
   ]
  },
  {
   "cell_type": "code",
   "execution_count": null,
   "id": "be1cb1ef",
   "metadata": {},
   "outputs": [],
   "source": []
  },
  {
   "cell_type": "code",
   "execution_count": null,
   "id": "9bfa8c84",
   "metadata": {},
   "outputs": [],
   "source": []
  },
  {
   "cell_type": "code",
   "execution_count": null,
   "id": "2561631e",
   "metadata": {},
   "outputs": [],
   "source": []
  },
  {
   "cell_type": "code",
   "execution_count": 112,
   "id": "98b3fba7",
   "metadata": {},
   "outputs": [],
   "source": [
    "d = 365"
   ]
  },
  {
   "cell_type": "code",
   "execution_count": 154,
   "id": "f5dc31c8",
   "metadata": {},
   "outputs": [],
   "source": [
    "k = 100"
   ]
  },
  {
   "cell_type": "code",
   "execution_count": 155,
   "id": "405ead70",
   "metadata": {},
   "outputs": [],
   "source": [
    "lst = ['понедельник', 'вторник', 'среда', 'четверг', 'пятница', 'суббота', 'воскресение']"
   ]
  },
  {
   "cell_type": "code",
   "execution_count": null,
   "id": "90089838",
   "metadata": {},
   "outputs": [],
   "source": []
  },
  {
   "cell_type": "code",
   "execution_count": 51,
   "id": "00f1ed89",
   "metadata": {},
   "outputs": [],
   "source": [
    "if k == 1 or (k-1) % 7 == 0:\n",
    "    print(lst[0])"
   ]
  },
  {
   "cell_type": "code",
   "execution_count": 52,
   "id": "99aa5175",
   "metadata": {},
   "outputs": [
    {
     "name": "stdout",
     "output_type": "stream",
     "text": [
      "вторник\n"
     ]
    }
   ],
   "source": [
    "if k == 2 or (k-2) % 7 == 0:\n",
    "    print(lst[1])"
   ]
  },
  {
   "cell_type": "code",
   "execution_count": null,
   "id": "b50b7fc0",
   "metadata": {},
   "outputs": [],
   "source": []
  },
  {
   "cell_type": "code",
   "execution_count": 115,
   "id": "fd3fef7c",
   "metadata": {},
   "outputs": [],
   "source": [
    "k = 58"
   ]
  },
  {
   "cell_type": "code",
   "execution_count": 156,
   "id": "c7a61fa1",
   "metadata": {},
   "outputs": [
    {
     "name": "stdout",
     "output_type": "stream",
     "text": [
      "вторник\n"
     ]
    }
   ],
   "source": [
    "for i in range(1, 8):\n",
    "    if k == i or (k-i) % 7 == 0:\n",
    "        print(lst[i-1])"
   ]
  },
  {
   "cell_type": "code",
   "execution_count": null,
   "id": "cf67a4ba",
   "metadata": {},
   "outputs": [],
   "source": []
  },
  {
   "cell_type": "code",
   "execution_count": null,
   "id": "926a1879",
   "metadata": {},
   "outputs": [],
   "source": []
  },
  {
   "cell_type": "code",
   "execution_count": null,
   "id": "1f0f5a31",
   "metadata": {},
   "outputs": [],
   "source": []
  }
 ],
 "metadata": {
  "kernelspec": {
   "display_name": "Python 3 (ipykernel)",
   "language": "python",
   "name": "python3"
  },
  "language_info": {
   "codemirror_mode": {
    "name": "ipython",
    "version": 3
   },
   "file_extension": ".py",
   "mimetype": "text/x-python",
   "name": "python",
   "nbconvert_exporter": "python",
   "pygments_lexer": "ipython3",
   "version": "3.10.0"
  }
 },
 "nbformat": 4,
 "nbformat_minor": 5
}
